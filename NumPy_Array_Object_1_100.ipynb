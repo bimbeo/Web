{
  "nbformat": 4,
  "nbformat_minor": 0,
  "metadata": {
    "colab": {
      "name": "NumPy Array Object: 1 - 100.ipynb",
      "provenance": [],
      "authorship_tag": "ABX9TyPlm6ZNKAeVlxffeVbrK7bl",
      "include_colab_link": true
    },
    "kernelspec": {
      "name": "python3",
      "display_name": "Python 3"
    }
  },
  "cells": [
    {
      "cell_type": "markdown",
      "metadata": {
        "id": "view-in-github",
        "colab_type": "text"
      },
      "source": [
        "<a href=\"https://colab.research.google.com/github/bimbeo/Web/blob/master/NumPy_Array_Object_1_100.ipynb\" target=\"_parent\"><img src=\"https://colab.research.google.com/assets/colab-badge.svg\" alt=\"Open In Colab\"/></a>"
      ]
    },
    {
      "cell_type": "markdown",
      "metadata": {
        "id": "oWZ6Kv15J8V2",
        "colab_type": "text"
      },
      "source": [
        "![alt text](https://www.w3resource.com/w3r_images/python-numpy-arrays-image.png)"
      ]
    },
    {
      "cell_type": "markdown",
      "metadata": {
        "id": "6QhAUSeAKJrN",
        "colab_type": "text"
      },
      "source": [
        "**1, Viết chương trình NumPy để in phiên bản NumPy trong hệ thống của bạn.**\n",
        "\n",
        "Write a NumPy program to print the NumPy version in your system. ![alt text](https://)\n",
        "\n"
      ]
    },
    {
      "cell_type": "code",
      "metadata": {
        "id": "BlT1kC2xJyGx",
        "colab_type": "code",
        "outputId": "5645c80b-a197-4b97-e517-7f627ea5bbd9",
        "colab": {
          "base_uri": "https://localhost:8080/",
          "height": 34
        }
      },
      "source": [
        "import numpy as np\n",
        "print(np.__version__)"
      ],
      "execution_count": 2,
      "outputs": [
        {
          "output_type": "stream",
          "text": [
            "1.18.4\n"
          ],
          "name": "stdout"
        }
      ]
    },
    {
      "cell_type": "markdown",
      "metadata": {
        "id": "Kp7UreRMKTg7",
        "colab_type": "text"
      },
      "source": [
        "**2, Viết chương trình NumPy để chuyển đổi danh sách giá trị số thành mảng NumPy một chiều.**\n",
        "\n",
        "**Write a NumPy program to convert a list of numeric value into a one-dimensional NumPy array.**\n",
        "\n",
        "**numpy.array(object, dtype=None, copy=True, order=’K’, subok=False, ndmin=0)**\n",
        "\n",
        "object ->\tAn array, any object exposing the array interface.\n",
        "\n",
        "dtype : data-type, optional ->\tThe desired data-type for the array.\n",
        "\n",
        "copy (bool) ->\tIf true (default), then the object is copied.\n",
        "\n",
        "order : 'K', 'A', 'C', 'F' ->\tSpecify the memory layout of the array. If object is not an array, the newly created array will be in C order (row major) unless ‘F’ is specified, in which case it will be in Fortran order.\n",
        "\n",
        "subok (bool) ->\tIf True, then sub-classes will be passed-through, otherwise the returned array will be forced to be a base-class array.\n",
        "\n",
        "ndmin (int) ->\tSpecifies the minimum number of dimensions that the resulting array should have.\n",
        "\n",
        "![alt text](https://www.w3resource.com/w3r_images/python-numpy-image-exercise-2.png)"
      ]
    },
    {
      "cell_type": "code",
      "metadata": {
        "id": "fyIkh4ZWKOgJ",
        "colab_type": "code",
        "outputId": "f5738721-cb7e-4851-a499-0e499f67ac12",
        "colab": {
          "base_uri": "https://localhost:8080/",
          "height": 51
        }
      },
      "source": [
        "l = [12.23, 13.32, 100, 36.32]\n",
        "print(\"Original List: \", l)\n",
        "a = np.array(l)\n",
        "print(\"One-dimensional Numpy array: \", a)"
      ],
      "execution_count": 0,
      "outputs": [
        {
          "output_type": "stream",
          "text": [
            "Original List:  [12.23, 13.32, 100, 36.32]\n",
            "One-dimensional Numpy array:  [ 12.23  13.32 100.    36.32]\n"
          ],
          "name": "stdout"
        }
      ]
    },
    {
      "cell_type": "markdown",
      "metadata": {
        "id": "tu-zJGCwLhcF",
        "colab_type": "text"
      },
      "source": [
        "**3, Viết chương trình NumPy để tạo ma trận 3x3 với các giá trị nằm trong khoảng từ 2 đến 10..**\n",
        "\n",
        "**Write a NumPy program to create a 3x3 matrix with values ranging from 2 to 10.**\n",
        "\n",
        "![alt text](https://www.w3resource.com/w3r_images/python-numpy-image-exercise-3.png)"
      ]
    },
    {
      "cell_type": "code",
      "metadata": {
        "id": "cqj4jlL_KiG2",
        "colab_type": "code",
        "outputId": "63bf49ef-84ef-40dc-811e-117f6034a5ef",
        "colab": {
          "base_uri": "https://localhost:8080/",
          "height": 68
        }
      },
      "source": [
        "x = np.arange(2, 11).reshape(3, 3)\n",
        "print(x)"
      ],
      "execution_count": 0,
      "outputs": [
        {
          "output_type": "stream",
          "text": [
            "[[ 2  3  4]\n",
            " [ 5  6  7]\n",
            " [ 8  9 10]]\n"
          ],
          "name": "stdout"
        }
      ]
    },
    {
      "cell_type": "markdown",
      "metadata": {
        "id": "XSv0dCe2legJ",
        "colab_type": "text"
      },
      "source": [
        "**4, Viết chương trình NumPy để tạo một vectơ null có kích thước 10 và cập nhật giá trị thứ sáu thành 11.**\n",
        "\n",
        "**Write a NumPy program to create a null vector of size 10 and update sixth value to 11.**\n",
        "\n",
        "![alt text](https://www.w3resource.com/w3r_images/python-numpy-image-exercise-4.png)"
      ]
    },
    {
      "cell_type": "code",
      "metadata": {
        "id": "xvGwkJz9L2fy",
        "colab_type": "code",
        "outputId": "7fc3f28d-4e68-4c1e-cccf-f7bd9b56097e",
        "colab": {
          "base_uri": "https://localhost:8080/",
          "height": 68
        }
      },
      "source": [
        "x = np.zeros(10)\n",
        "print(x)\n",
        "print(\"Update sixth value to 11: \")\n",
        "x[6] = 11\n",
        "print(x)"
      ],
      "execution_count": 0,
      "outputs": [
        {
          "output_type": "stream",
          "text": [
            "[0. 0. 0. 0. 0. 0. 0. 0. 0. 0.]\n",
            "Update sixth value to 11: \n",
            "[ 0.  0.  0.  0.  0.  0. 11.  0.  0.  0.]\n"
          ],
          "name": "stdout"
        }
      ]
    },
    {
      "cell_type": "markdown",
      "metadata": {
        "id": "XFIJAWfBl02y",
        "colab_type": "text"
      },
      "source": [
        "**5, Viết chương trình NumPy để tạo một mảng với các giá trị nằm trong khoảng từ 12 đến 38.**\n",
        "\n",
        "**Write a NumPy program to create an array with values ranging from 12 to 38.**\n",
        "\n",
        "![alt text](https://www.w3resource.com/w3r_images/python-numpy-image-exercise-5.png)"
      ]
    },
    {
      "cell_type": "code",
      "metadata": {
        "id": "c-E5YXJjluHy",
        "colab_type": "code",
        "outputId": "26c1b9a5-9073-46ed-9342-6efe97613795",
        "colab": {
          "base_uri": "https://localhost:8080/",
          "height": 51
        }
      },
      "source": [
        "x = np.arange(12, 38)\n",
        "print(x)"
      ],
      "execution_count": 0,
      "outputs": [
        {
          "output_type": "stream",
          "text": [
            "[12 13 14 15 16 17 18 19 20 21 22 23 24 25 26 27 28 29 30 31 32 33 34 35\n",
            " 36 37]\n"
          ],
          "name": "stdout"
        }
      ]
    },
    {
      "cell_type": "markdown",
      "metadata": {
        "id": "Hdg9n5LYmCqq",
        "colab_type": "text"
      },
      "source": [
        "**6, Viết chương trình NumPy để đảo ngược một mảng (phần tử đầu tiên trở thành cuối cùng).**\n",
        "\n",
        "**Write a NumPy program to reverse an array (first element becomes last).**\n",
        "\n",
        "![alt text](https://www.w3resource.com/w3r_images/python-numpy-image-exercise-6.png)"
      ]
    },
    {
      "cell_type": "code",
      "metadata": {
        "id": "rmSBUJtcl7NX",
        "colab_type": "code",
        "outputId": "8a54c822-0cee-4ab0-f2e3-bd233d4a61be",
        "colab": {
          "base_uri": "https://localhost:8080/",
          "height": 119
        }
      },
      "source": [
        "x = np.arange(12, 38)\n",
        "print(\"Original array: \")\n",
        "print(x)\n",
        "print(\"Reversed array: \")\n",
        "x = x[::-1]\n",
        "print(x)"
      ],
      "execution_count": 0,
      "outputs": [
        {
          "output_type": "stream",
          "text": [
            "Original array: \n",
            "[12 13 14 15 16 17 18 19 20 21 22 23 24 25 26 27 28 29 30 31 32 33 34 35\n",
            " 36 37]\n",
            "Reversed array: \n",
            "[37 36 35 34 33 32 31 30 29 28 27 26 25 24 23 22 21 20 19 18 17 16 15 14\n",
            " 13 12]\n"
          ],
          "name": "stdout"
        }
      ]
    },
    {
      "cell_type": "markdown",
      "metadata": {
        "id": "MiGFH6T_mWfC",
        "colab_type": "text"
      },
      "source": [
        "**7, Viết chương trình NumPy để chuyển đổi một mảng thành kiểu float.**\n",
        "\n",
        "**Write a NumPy program to convert an array to a float type.**\n",
        "\n",
        "![alt text](https://www.w3resource.com/w3r_images/python-numpy-image-exercise-7.png)"
      ]
    },
    {
      "cell_type": "code",
      "metadata": {
        "id": "sRQ2rm30mRBn",
        "colab_type": "code",
        "outputId": "b3ca5efa-4480-4dd3-d324-7ac6bcf9655f",
        "colab": {
          "base_uri": "https://localhost:8080/",
          "height": 85
        }
      },
      "source": [
        "a = [1, 2, 3, 4]\n",
        "print(\"Original array: \")\n",
        "print(a)\n",
        "x = np.asfarray(a)\n",
        "print(\"Array converted to a float type: \")\n",
        "print(x)"
      ],
      "execution_count": 0,
      "outputs": [
        {
          "output_type": "stream",
          "text": [
            "Original array: \n",
            "[1, 2, 3, 4]\n",
            "Array converted to a float type: \n",
            "[1. 2. 3. 4.]\n"
          ],
          "name": "stdout"
        }
      ]
    },
    {
      "cell_type": "markdown",
      "metadata": {
        "id": "Z9ohPLyqmwmK",
        "colab_type": "text"
      },
      "source": [
        "**8, Viết chương trình NumPy để tạo mảng 2d với 1 trên đường viền và 0 bên trong.**\n",
        "\n",
        "**Write a NumPy program to create a 2d array with 1 on the border and 0 inside.**\n",
        "\n",
        "![alt text](https://www.w3resource.com/w3r_images/python-numpy-image-exercise-8.png)"
      ]
    },
    {
      "cell_type": "code",
      "metadata": {
        "id": "TxVc4pJmmpTn",
        "colab_type": "code",
        "outputId": "3d50fc4a-1910-4ec5-ebdd-e5a981527d53",
        "colab": {
          "base_uri": "https://localhost:8080/",
          "height": 221
        }
      },
      "source": [
        "x = np.ones((5,5))\n",
        "print(\"Original array: \")\n",
        "print(x)\n",
        "print(\"1 on the border and 0 inside in the array\")\n",
        "x[1:-1, 1:-1] = 0\n",
        "print(x)"
      ],
      "execution_count": 0,
      "outputs": [
        {
          "output_type": "stream",
          "text": [
            "Original array: \n",
            "[[1. 1. 1. 1. 1.]\n",
            " [1. 1. 1. 1. 1.]\n",
            " [1. 1. 1. 1. 1.]\n",
            " [1. 1. 1. 1. 1.]\n",
            " [1. 1. 1. 1. 1.]]\n",
            "1 on the border and 0 inside in the array\n",
            "[[1. 1. 1. 1. 1.]\n",
            " [1. 0. 0. 0. 1.]\n",
            " [1. 0. 0. 0. 1.]\n",
            " [1. 0. 0. 0. 1.]\n",
            " [1. 1. 1. 1. 1.]]\n"
          ],
          "name": "stdout"
        }
      ]
    },
    {
      "cell_type": "markdown",
      "metadata": {
        "id": "pbuSKQJfnJ0J",
        "colab_type": "text"
      },
      "source": [
        "**9, Viết chương trình NumPy để thêm đường viền (được điền 0) xung quanh một mảng hiện có.**\n",
        "\n",
        "**Write a NumPy program to add a border (filled with 0's) around an existing array.**\n",
        "\n",
        "![alt text](https://www.w3resource.com/w3r_images/python-numpy-image-exercise-9.png)"
      ]
    },
    {
      "cell_type": "code",
      "metadata": {
        "id": "Jcxtja8snE_m",
        "colab_type": "code",
        "outputId": "3d5018ad-86ab-4f26-8a99-d8fa5ed15df7",
        "colab": {
          "base_uri": "https://localhost:8080/",
          "height": 187
        }
      },
      "source": [
        "x = np.ones((3,3))\n",
        "print(\"Original array: \")\n",
        "print(x)\n",
        "print(\"0 on the border and 1 inside in the array\")\n",
        "x = np.pad(x, pad_width = 1, mode = 'constant', constant_values = 0)\n",
        "print(x)"
      ],
      "execution_count": 0,
      "outputs": [
        {
          "output_type": "stream",
          "text": [
            "Original array: \n",
            "[[1. 1. 1.]\n",
            " [1. 1. 1.]\n",
            " [1. 1. 1.]]\n",
            "0 on the border and 1 inside in the array\n",
            "[[0. 0. 0. 0. 0.]\n",
            " [0. 1. 1. 1. 0.]\n",
            " [0. 1. 1. 1. 0.]\n",
            " [0. 1. 1. 1. 0.]\n",
            " [0. 0. 0. 0. 0.]]\n"
          ],
          "name": "stdout"
        }
      ]
    },
    {
      "cell_type": "markdown",
      "metadata": {
        "id": "c6ZkXY9InpVU",
        "colab_type": "text"
      },
      "source": [
        "**10, Viết chương trình NumPy để tạo ma trận 8x8 và điền nó với mẫu hình bàn cờ.**\n",
        "\n",
        "**Write a NumPy program to create a 8x8 matrix and fill it with a checkerboard pattern.**\n",
        "\n"
      ]
    },
    {
      "cell_type": "code",
      "metadata": {
        "id": "6XwZu9sZngib",
        "colab_type": "code",
        "outputId": "d3c93810-a5a1-4a91-dfe4-e93cb02ded10",
        "colab": {
          "base_uri": "https://localhost:8080/",
          "height": 170
        }
      },
      "source": [
        "x = np.ones((3,3))\n",
        "print(\"Checkerboard pattern: \")\n",
        "x = np.zeros((8,8), dtype=int)\n",
        "x[1::2, ::2] = 1\n",
        "x[::2, 1::2] = 1\n",
        "print(x)"
      ],
      "execution_count": 0,
      "outputs": [
        {
          "output_type": "stream",
          "text": [
            "Checkerboard pattern: \n",
            "[[0 1 0 1 0 1 0 1]\n",
            " [1 0 1 0 1 0 1 0]\n",
            " [0 1 0 1 0 1 0 1]\n",
            " [1 0 1 0 1 0 1 0]\n",
            " [0 1 0 1 0 1 0 1]\n",
            " [1 0 1 0 1 0 1 0]\n",
            " [0 1 0 1 0 1 0 1]\n",
            " [1 0 1 0 1 0 1 0]]\n"
          ],
          "name": "stdout"
        }
      ]
    },
    {
      "cell_type": "markdown",
      "metadata": {
        "id": "WDT4BTiaoM-9",
        "colab_type": "text"
      },
      "source": [
        "**11, Viết chương trình NumPy để chuyển đổi danh sách và tuple thành mảng.**\n",
        "\n",
        "**Write a NumPy program to convert a list and tuple into arrays.**\n",
        "\n",
        "![alt text](https://www.w3resource.com/w3r_images/python-numpy-image-exercise-11.png)"
      ]
    },
    {
      "cell_type": "code",
      "metadata": {
        "id": "yNFRZ3fWn72P",
        "colab_type": "code",
        "outputId": "be308e88-979b-40e2-b49e-f78711ebd6c0",
        "colab": {
          "base_uri": "https://localhost:8080/",
          "height": 102
        }
      },
      "source": [
        "my_list = [1,2,3,4,5,6,7,8]\n",
        "print(\"List to array: \")\n",
        "print(np.asarray(my_list))\n",
        "my_tuple = ([8, 4, 6], [1,2,3])\n",
        "print(\"Tuple to array: \")\n",
        "print(np.asarray(my_tuple))"
      ],
      "execution_count": 0,
      "outputs": [
        {
          "output_type": "stream",
          "text": [
            "List to array: \n",
            "[1 2 3 4 5 6 7 8]\n",
            "Tuple to array: \n",
            "[[8 4 6]\n",
            " [1 2 3]]\n"
          ],
          "name": "stdout"
        }
      ]
    },
    {
      "cell_type": "markdown",
      "metadata": {
        "id": "lKVbLS0fowjx",
        "colab_type": "text"
      },
      "source": [
        "**12, Viết chương trình NumPy để nối các giá trị vào cuối một mảng.**\n",
        "\n",
        "**Write a NumPy program to append values to the end of an array.**\n",
        "\n",
        "![alt text](https://www.w3resource.com/w3r_images/python-numpy-image-exercise-12.png)"
      ]
    },
    {
      "cell_type": "code",
      "metadata": {
        "id": "IweJtikIofs_",
        "colab_type": "code",
        "outputId": "5d47e635-4aa8-4529-f218-9c91bcd95436",
        "colab": {
          "base_uri": "https://localhost:8080/",
          "height": 85
        }
      },
      "source": [
        "x = [10, 20, 30]\n",
        "print(\"Original array: \")\n",
        "print(x)\n",
        "x = np.append(x, [[40, 50, 60], [70, 80, 90]])\n",
        "print(\"After append values to the end of the array: \")\n",
        "print(x)\n"
      ],
      "execution_count": 4,
      "outputs": [
        {
          "output_type": "stream",
          "text": [
            "Original array: \n",
            "[10, 20, 30]\n",
            "After append values to the end of the array: \n",
            "[10 20 30 40 50 60 70 80 90]\n"
          ],
          "name": "stdout"
        }
      ]
    },
    {
      "cell_type": "markdown",
      "metadata": {
        "id": "dtW8BTVjpFDK",
        "colab_type": "text"
      },
      "source": [
        "**13, Viết chương trình NumPy để tạo một mảng trống và đầy đủ.**\n",
        "\n",
        "**Write a NumPy program to create an empty and a full array.**\n",
        "\n",
        "![alt text](https://www.w3resource.com/w3r_images/python-numpy-image-exercise-13.png)"
      ]
    },
    {
      "cell_type": "code",
      "metadata": {
        "id": "ttdmWfispBsH",
        "colab_type": "code",
        "outputId": "eeb014da-4680-4067-b36e-8c3ea7e494f1",
        "colab": {
          "base_uri": "https://localhost:8080/",
          "height": 119
        }
      },
      "source": [
        "x = np.empty((3,4))\n",
        "print(x)\n",
        "y = np.full((3,3), 6)\n",
        "print(y)"
      ],
      "execution_count": 6,
      "outputs": [
        {
          "output_type": "stream",
          "text": [
            "[[3.05865528e-316 0.00000000e+000 4.11556683e-321 1.97082588e-316]\n",
            " [6.94420914e-310 6.94420914e-310 6.94420914e-310 6.94420914e-310]\n",
            " [0.00000000e+000 1.03753786e-322 6.36598737e-314 0.00000000e+000]]\n",
            "[[6 6 6]\n",
            " [6 6 6]\n",
            " [6 6 6]]\n"
          ],
          "name": "stdout"
        }
      ]
    },
    {
      "cell_type": "markdown",
      "metadata": {
        "id": "LFd3RYRCpYFB",
        "colab_type": "text"
      },
      "source": [
        "**14, Viết chương trình NumPy để chuyển đổi các giá trị độ C thành độ Fahrenheit. Giá trị C. được lưu trữ trong một mảng NumPy.**\n",
        "\n",
        "**Write a NumPy program to convert the values of Centigrade degrees into Fahrenheit degrees. Centigrade values are stored into a NumPy array.**\n",
        "\n",
        "![alt text](https://www.w3resource.com/w3r_images/python-numpy-image-exercise-14.png)"
      ]
    },
    {
      "cell_type": "code",
      "metadata": {
        "id": "GJGPvourpT5X",
        "colab_type": "code",
        "outputId": "8ef26ccb-8df5-415a-bcde-72dc62acb2d7",
        "colab": {
          "base_uri": "https://localhost:8080/",
          "height": 85
        }
      },
      "source": [
        "fvalues = [0,12,45.21,34,99.91]\n",
        "F = np.array(fvalues)\n",
        "print(\"Values in Fahrenheit degrees: \")\n",
        "print(F)\n",
        "print(\"Values in Centigrade degrees: \")\n",
        "print(5*F/9 - 5*32/9)"
      ],
      "execution_count": 0,
      "outputs": [
        {
          "output_type": "stream",
          "text": [
            "Values in Fahrenheit degrees: \n",
            "[ 0.   12.   45.21 34.   99.91]\n",
            "Values in Centigrade degrees: \n",
            "[-17.77777778 -11.11111111   7.33888889   1.11111111  37.72777778]\n"
          ],
          "name": "stdout"
        }
      ]
    },
    {
      "cell_type": "markdown",
      "metadata": {
        "id": "IPsYYWD7p_KE",
        "colab_type": "text"
      },
      "source": [
        "**15, Viết chương trình NumPy để tìm phần thực và phần ảo của một mảng các số phức**\n",
        "\n",
        "**Write a NumPy program to find the real and imaginary parts of an array of complex numbers**\n",
        "\n"
      ]
    },
    {
      "cell_type": "code",
      "metadata": {
        "id": "DUblW8r8p0Vu",
        "colab_type": "code",
        "outputId": "596ae452-4adf-4315-c373-14f8f76ed15a",
        "colab": {
          "base_uri": "https://localhost:8080/",
          "height": 153
        }
      },
      "source": [
        "x = np.sqrt([1+0j])\n",
        "y = np.sqrt([0+1j])\n",
        "print(\"Original array:x \",x)\n",
        "print(\"Original array:y \",y)\n",
        "print(\"Real part of the array:\")\n",
        "print(x.real)\n",
        "print(y.real)\n",
        "print(\"Imaginary part of the array: \")\n",
        "print(x.imag)\n",
        "print(y.imag)"
      ],
      "execution_count": 0,
      "outputs": [
        {
          "output_type": "stream",
          "text": [
            "Original array:x  [1.+0.j]\n",
            "Original array:y  [0.70710678+0.70710678j]\n",
            "Real part of the array:\n",
            "[1.]\n",
            "[0.70710678]\n",
            "Imaginary part of the array: \n",
            "[0.]\n",
            "[0.70710678]\n"
          ],
          "name": "stdout"
        }
      ]
    },
    {
      "cell_type": "markdown",
      "metadata": {
        "id": "Zst0u_smqhKS",
        "colab_type": "text"
      },
      "source": [
        "**16, Viết chương trình NumPy để tìm số phần tử của một mảng, độ dài của một phần tử mảng tính bằng byte và tổng số byte được tiêu thụ bởi các phần tử**\n",
        "\n",
        "**Write a NumPy program to find the number of elements of an array, length of one array element in bytes and total bytes consumed by the elements**\n",
        "\n",
        "![alt text](https://www.w3resource.com/w3r_images/python-numpy-image-exercise-16.png)"
      ]
    },
    {
      "cell_type": "code",
      "metadata": {
        "id": "JPvs4kRGqUaX",
        "colab_type": "code",
        "outputId": "d2746c43-38f1-43d9-9433-1c5cc9b861a9",
        "colab": {
          "base_uri": "https://localhost:8080/",
          "height": 68
        }
      },
      "source": [
        "x = np.array([1,2,3, 4], dtype=np.float64)\n",
        "print(\"Size of the arary: \", x.size)\n",
        "print(\"Length of one array elenment in bytes: \", x.itemsize)\n",
        "print(\"Total bytes consumed by the elements of the array: \", x.nbytes)"
      ],
      "execution_count": 0,
      "outputs": [
        {
          "output_type": "stream",
          "text": [
            "Size of the arary:  4\n",
            "Length of one array elenment in bytes:  8\n",
            "Total bytes consumed by the elements of the array:  32\n"
          ],
          "name": "stdout"
        }
      ]
    },
    {
      "cell_type": "markdown",
      "metadata": {
        "id": "5EUg2un8rJVr",
        "colab_type": "text"
      },
      "source": [
        "**17, Viết chương trình NumPy để kiểm tra xem mỗi phần tử của mảng 1-D cũng có trong mảng thứ hai hay không.**\n",
        "\n",
        "**Write a NumPy program to test whether each element of a 1-D array is also present in a second array.**\n",
        "\n",
        "![alt text](https://www.w3resource.com/w3r_images/python-numpy-image-exercise-17.png)\n"
      ]
    },
    {
      "cell_type": "code",
      "metadata": {
        "id": "6DRSzQ_lq9IC",
        "colab_type": "code",
        "outputId": "236f50ca-cb27-4350-9c05-70b31994f652",
        "colab": {
          "base_uri": "https://localhost:8080/",
          "height": 85
        }
      },
      "source": [
        "array1 = np.array([0, 10, 20, 40, 60])\n",
        "print(\"Array1: \", array1)\n",
        "array2 = [0, 40]\n",
        "print(\"Array2: \", array2)\n",
        "print(\"Compare each element of array1 and array2\")\n",
        "print(np.in1d(array1, array2))"
      ],
      "execution_count": 0,
      "outputs": [
        {
          "output_type": "stream",
          "text": [
            "Array1:  [ 0 10 20 40 60]\n",
            "Array2:  [0, 40]\n",
            "Compare each element of array1 and array2\n",
            "[ True False False  True False]\n"
          ],
          "name": "stdout"
        }
      ]
    },
    {
      "cell_type": "markdown",
      "metadata": {
        "id": "1bNXEDeZrqN5",
        "colab_type": "text"
      },
      "source": [
        "**18, Viết chương trình NumPy để tìm các giá trị chung giữa hai mảng.**\n",
        "\n",
        "**Write a NumPy program to find common values between two arrays.**\n",
        "\n",
        "![alt text](https://www.w3resource.com/w3r_images/python-numpy-image-exercise-18.png)"
      ]
    },
    {
      "cell_type": "code",
      "metadata": {
        "id": "yBN_pXq0rg2L",
        "colab_type": "code",
        "outputId": "7d42a668-2248-4abe-d1ec-0a2ef507d830",
        "colab": {
          "base_uri": "https://localhost:8080/",
          "height": 85
        }
      },
      "source": [
        "array1 = np.array([0, 10, 20, 40, 60])\n",
        "print(\"Array1: \", array1)\n",
        "array2 = [10, 30, 40]\n",
        "print(\"Array2: \", array2)\n",
        "print(\"Common values between two array: \")\n",
        "print(np.intersect1d(array1, array2))           # phần giao"
      ],
      "execution_count": 0,
      "outputs": [
        {
          "output_type": "stream",
          "text": [
            "Array1:  [ 0 10 20 40 60]\n",
            "Array2:  [10, 30, 40]\n",
            "Common values between two array: \n",
            "[10 40]\n"
          ],
          "name": "stdout"
        }
      ]
    },
    {
      "cell_type": "markdown",
      "metadata": {
        "id": "OFhGV9N3sB6R",
        "colab_type": "text"
      },
      "source": [
        "**19, Viết chương trình NumPy để lấy các phần tử duy nhất của một mảng.**\n",
        "\n",
        "**Write a NumPy program to get the unique elements of an array.**\n",
        "\n",
        "![alt text](https://www.w3resource.com/w3r_images/python-numpy-image-exercise-19.png)\n"
      ]
    },
    {
      "cell_type": "code",
      "metadata": {
        "id": "zDnYBQXjr9IP",
        "colab_type": "code",
        "outputId": "c94340d5-c82c-4ddf-ba66-1de095a66870",
        "colab": {
          "base_uri": "https://localhost:8080/",
          "height": 170
        }
      },
      "source": [
        "x = np.array([10, 10, 20, 20, 30, 30])\n",
        "print(\"Original array:\")\n",
        "print(x)\n",
        "print(\"Unique elements of the above array:\")\n",
        "print(np.unique(x))\n",
        "x = np.array([[1, 1], [2, 3]])\n",
        "print(\"Original array:\")\n",
        "print(x)\n",
        "print(\"Unique elements of the above array:\")\n",
        "print(np.unique(x))"
      ],
      "execution_count": 0,
      "outputs": [
        {
          "output_type": "stream",
          "text": [
            "Original array:\n",
            "[10 10 20 20 30 30]\n",
            "Unique elements of the above array:\n",
            "[10 20 30]\n",
            "Original array:\n",
            "[[1 1]\n",
            " [2 3]]\n",
            "Unique elements of the above array:\n",
            "[1 2 3]\n"
          ],
          "name": "stdout"
        }
      ]
    },
    {
      "cell_type": "markdown",
      "metadata": {
        "id": "-QDJ1RQjsazh",
        "colab_type": "text"
      },
      "source": [
        "**20, Viết chương trình NumPy để tìm sự khác biệt thiết lập của hai mảng. Sự khác biệt được thiết lập sẽ trả về các giá trị duy nhất được sắp xếp trong mảng1 không nằm trong mảng2.**\n",
        "\n",
        "**Write a NumPy program to find the set difference of two arrays. The set difference will return the sorted, unique values in array1 that are not in array2.**\n",
        "\n",
        "np.setdiff1d(array1, array2):\n",
        "\n",
        "Find the set difference of two arrays.\n",
        "\n",
        "Return the unique values in ar1 that are not in ar2.\n",
        "\n",
        "![alt text](https://www.w3resource.com/w3r_images/python-numpy-image-exercise-20.png)"
      ]
    },
    {
      "cell_type": "code",
      "metadata": {
        "id": "OohttLJVsOS_",
        "colab_type": "code",
        "outputId": "1908d241-affb-4122-880d-515bf297e3a0",
        "colab": {
          "base_uri": "https://localhost:8080/",
          "height": 85
        }
      },
      "source": [
        "array1 = np.array([0, 10, 20, 40, 60, 80])\n",
        "print(\"Array1: \",array1)\n",
        "array2 = [10, 30, 40, 50, 70]\n",
        "print(\"Array2: \",array2)\n",
        "print(\"Unique values in array1 that are not in array2:\")\n",
        "print(np.setdiff1d(array1, array2))"
      ],
      "execution_count": 0,
      "outputs": [
        {
          "output_type": "stream",
          "text": [
            "Array1:  [ 0 10 20 40 60 80]\n",
            "Array2:  [10, 30, 40, 50, 70]\n",
            "Unique values in array1 that are not in array2:\n",
            "[ 0 20 60 80]\n"
          ],
          "name": "stdout"
        }
      ]
    },
    {
      "cell_type": "markdown",
      "metadata": {
        "id": "7y7Sg9b2sto_",
        "colab_type": "text"
      },
      "source": [
        "**21, Viết chương trình NumPy để tìm tập hợp độc quyền - hoặc của hai mảng. Đặt độc quyền - hoặc sẽ trả về các giá trị duy nhất được sắp xếp chỉ trong một (không phải cả hai) của mảng đầu vào**\n",
        "\n",
        "**Write a NumPy program to find the set exclusive-or of two arrays. Set exclusive-or will return the sorted, unique values that are in only one (not both) of the input arrays.**\n",
        "\n",
        "np.setxor1d(array1, array2)\n",
        "\n",
        "Find the set exclusive-or of two arrays.\n",
        "\n",
        "Return the sorted, unique values that are in only one (not both) of the input arrays.\n",
        "\n",
        "![alt text](https://www.w3resource.com/w3r_images/python-numpy-image-exercise-21.png)"
      ]
    },
    {
      "cell_type": "code",
      "metadata": {
        "id": "2gYrE32Xsmke",
        "colab_type": "code",
        "outputId": "39147eab-7d7a-4848-a9e9-568edeba3a10",
        "colab": {
          "base_uri": "https://localhost:8080/",
          "height": 85
        }
      },
      "source": [
        "array1 = np.array([0, 10, 20, 40, 60, 80])\n",
        "print(\"Array1: \",array1)\n",
        "array2 = [10, 30, 40, 50, 70]\n",
        "print(\"Array2: \",array2)\n",
        "print(\"Unique values that are in only one (not both) of the input arrays:\")\n",
        "print(np.setxor1d(array1, array2))"
      ],
      "execution_count": 0,
      "outputs": [
        {
          "output_type": "stream",
          "text": [
            "Array1:  [ 0 10 20 40 60 80]\n",
            "Array2:  [10, 30, 40, 50, 70]\n",
            "Unique values that are in only one (not both) of the input arrays:\n",
            "[ 0 20 30 50 60 70 80]\n"
          ],
          "name": "stdout"
        }
      ]
    },
    {
      "cell_type": "markdown",
      "metadata": {
        "id": "TNYWiHW8tFHZ",
        "colab_type": "text"
      },
      "source": [
        "**22, Viết chương trình NumPy để tìm liên kết của hai mảng. Union sẽ trả về mảng giá trị duy nhất, được sắp xếp nằm trong một trong hai mảng đầu vào.**\n",
        "\n",
        "**Write a NumPy program to find the union of two arrays. Union will return the unique, sorted array of values that are in either of the two input arrays.**\n",
        "\n",
        "np.union1d(array1, array2)\n",
        "\n",
        "Find the union of two arrays.\n",
        "\n",
        "Return the unique, sorted array of values that are in either of the two input arrays.\n",
        "![alt text](https://www.w3resource.com/w3r_images/python-numpy-image-exercise-22.png)"
      ]
    },
    {
      "cell_type": "code",
      "metadata": {
        "id": "IfZw4bJ6s_9P",
        "colab_type": "code",
        "outputId": "a6e2962e-381a-4747-bbd1-d98bad6b1698",
        "colab": {
          "base_uri": "https://localhost:8080/",
          "height": 85
        }
      },
      "source": [
        "array1 = np.array([0, 10, 20, 40, 60, 80])\n",
        "print(\"Array1: \",array1)\n",
        "array2 = [10, 30, 40, 50, 70]\n",
        "print(\"Array2: \",array2)\n",
        "print(\"Unique sorted array of values that are in either of the two input arrays:\")\n",
        "print(np.union1d(array1, array2))"
      ],
      "execution_count": 0,
      "outputs": [
        {
          "output_type": "stream",
          "text": [
            "Array1:  [ 0 10 20 40 60 80]\n",
            "Array2:  [10, 30, 40, 50, 70]\n",
            "Unique sorted array of values that are in either of the two input arrays:\n",
            "[ 0 10 20 30 40 50 60 70 80]\n"
          ],
          "name": "stdout"
        }
      ]
    },
    {
      "cell_type": "markdown",
      "metadata": {
        "id": "eqdYeU35tVFz",
        "colab_type": "text"
      },
      "source": [
        "**23, Viết chương trình NumPy để kiểm tra xem tất cả các phần tử trong một mảng có đánh giá là True hay không.**\n",
        "\n",
        "**Write a NumPy program to test whether all elements in an array evaluate to True.**\n",
        "\n",
        "![alt text](https://www.w3resource.com/w3r_images/python-numpy-image-exercise-23.png)"
      ]
    },
    {
      "cell_type": "code",
      "metadata": {
        "id": "YD6ezxEetQYw",
        "colab_type": "code",
        "outputId": "859478e1-0d31-45ff-b616-43d81786adf1",
        "colab": {
          "base_uri": "https://localhost:8080/",
          "height": 85
        }
      },
      "source": [
        "print(np.all([[True,False],[True,True]]))\n",
        "print(np.all([[True,True],[True,True]]))\n",
        "print(np.all([10, 20, 0, -50]))\n",
        "print(np.all([10, 20, -50]))"
      ],
      "execution_count": 0,
      "outputs": [
        {
          "output_type": "stream",
          "text": [
            "False\n",
            "True\n",
            "False\n",
            "True\n"
          ],
          "name": "stdout"
        }
      ]
    },
    {
      "cell_type": "markdown",
      "metadata": {
        "id": "-hmrI8ovtnag",
        "colab_type": "text"
      },
      "source": [
        "**24, Viết chương trình NumPy để kiểm tra xem bất kỳ phần tử mảng nào dọc theo trục đã cho có đánh giá là True hay không.**\n",
        "\n",
        "**Write a NumPy program to test whether any array element along a given axis evaluates to True.**\n",
        "\n",
        "![alt text](https://www.w3resource.com/w3r_images/python-numpy-image-exercise-24.png)"
      ]
    },
    {
      "cell_type": "code",
      "metadata": {
        "id": "SeUEgNKmthIQ",
        "colab_type": "code",
        "outputId": "b51e9f32-d783-416b-8017-64f61d6ac747",
        "colab": {
          "base_uri": "https://localhost:8080/",
          "height": 85
        }
      },
      "source": [
        "print(np.any([[False,False],[False,False]]))\n",
        "print(np.any([[True,True],[True,True]]))\n",
        "print(np.any([10, 20, 0, -50]))\n",
        "print(np.any([10, 20, -50]))"
      ],
      "execution_count": 0,
      "outputs": [
        {
          "output_type": "stream",
          "text": [
            "False\n",
            "True\n",
            "True\n",
            "True\n"
          ],
          "name": "stdout"
        }
      ]
    },
    {
      "cell_type": "markdown",
      "metadata": {
        "id": "laCbgcXvt3oI",
        "colab_type": "text"
      },
      "source": [
        "**25, Viết chương trình NumPy để xây dựng một mảng bằng cách lặp lại.**\n",
        "\n",
        "**Write a NumPy program to construct an array by repeating.**\n",
        "\n",
        "![alt text](https://www.w3resource.com/w3r_images/python-numpy-image-exercise-25.png)\n"
      ]
    },
    {
      "cell_type": "code",
      "metadata": {
        "id": "UcFw5h9mtxWm",
        "colab_type": "code",
        "outputId": "2d44940e-2216-4121-c585-8e92c5ffbeaa",
        "colab": {
          "base_uri": "https://localhost:8080/",
          "height": 119
        }
      },
      "source": [
        "a = [1, 2, 3, 4]\n",
        "print(\"Original array\")\n",
        "print(a)\n",
        "print(\"Repeating 2 times\")\n",
        "x = np.tile(a, 2)\n",
        "print(x)\n",
        "print(\"Repeating 3 times\")\n",
        "x = np.tile(a, 3)\n",
        "print(x)\n"
      ],
      "execution_count": 0,
      "outputs": [
        {
          "output_type": "stream",
          "text": [
            "Original array\n",
            "[1, 2, 3, 4]\n",
            "Repeating 2 times\n",
            "[1 2 3 4 1 2 3 4]\n",
            "Repeating 3 times\n",
            "[1 2 3 4 1 2 3 4 1 2 3 4]\n"
          ],
          "name": "stdout"
        }
      ]
    },
    {
      "cell_type": "markdown",
      "metadata": {
        "id": "kAAXTdiZuMwk",
        "colab_type": "text"
      },
      "source": [
        "**26, Viết chương trình NumPy để lặp lại các phần tử của một mảng.**\n",
        "\n",
        "**Write a NumPy program to repeat elements of an array.**\n",
        "\n",
        "![alt text](https://www.w3resource.com/w3r_images/python-numpy-image-exercise-26.png)"
      ]
    },
    {
      "cell_type": "code",
      "metadata": {
        "id": "elwdvqcVuE_W",
        "colab_type": "code",
        "outputId": "bdde450e-4071-4531-c634-24fac0831a17",
        "colab": {
          "base_uri": "https://localhost:8080/",
          "height": 85
        }
      },
      "source": [
        "x = np.repeat(3,4)\n",
        "print(x)\n",
        "x = np.array([[1,2], [3,4]])\n",
        "print(np.repeat(x, 2))\n",
        "print(np.tile(x, 2))"
      ],
      "execution_count": 7,
      "outputs": [
        {
          "output_type": "stream",
          "text": [
            "[3 3 3 3]\n",
            "[1 1 2 2 3 3 4 4]\n",
            "[[1 2 1 2]\n",
            " [3 4 3 4]]\n"
          ],
          "name": "stdout"
        }
      ]
    },
    {
      "cell_type": "markdown",
      "metadata": {
        "id": "-mpT7Yp0uvcR",
        "colab_type": "text"
      },
      "source": [
        "**27, Viết chương trình NumPy để tìm các chỉ số của các giá trị tối đa và tối thiểu dọc theo trục đã cho của một mảng.**\n",
        "\n",
        "**Write a NumPy program to find the indices of the maximum and minimum values along the given axis of an array.**\n",
        "\n",
        "![alt text](https://www.w3resource.com/w3r_images/python-numpy-image-exercise-27.png)"
      ]
    },
    {
      "cell_type": "code",
      "metadata": {
        "id": "QC7tVIF0ublB",
        "colab_type": "code",
        "outputId": "5a35e1f9-948c-40e5-9fbe-04fbac13262e",
        "colab": {
          "base_uri": "https://localhost:8080/",
          "height": 68
        }
      },
      "source": [
        "x = np.array([1, 2, 3, 4, 5, 6])\n",
        "print(\"Original array: \",x)\n",
        "print(\"Maximum Values: \",np.argmax(x))\n",
        "print(\"Minimum Values: \",np.argmin(x))"
      ],
      "execution_count": 0,
      "outputs": [
        {
          "output_type": "stream",
          "text": [
            "Original array:  [1 2 3 4 5 6]\n",
            "Maximum Values:  5\n",
            "Minimum Values:  0\n"
          ],
          "name": "stdout"
        }
      ]
    },
    {
      "cell_type": "markdown",
      "metadata": {
        "id": "aTF_tRlDu9yD",
        "colab_type": "text"
      },
      "source": [
        "**28, Viết chương trình NumPy so sánh hai mảng đã cho.**\n",
        "\n",
        "**Write a NumPy program compare two given arrays.**\n",
        "\n",
        "![alt text](https://www.w3resource.com/w3r_images/python-numpy-image-exercise-28.png)"
      ]
    },
    {
      "cell_type": "code",
      "metadata": {
        "id": "fljV_f2ku2be",
        "colab_type": "code",
        "outputId": "a17d5788-b244-4835-bb3d-de585bb1f42e",
        "colab": {
          "base_uri": "https://localhost:8080/",
          "height": 187
        }
      },
      "source": [
        "a = np.array([1, 2])\n",
        "b = np.array([4, 5])\n",
        "print(\"Array a: \",a)\n",
        "print(\"Array b: \",b)\n",
        "print(\"a > b\")\n",
        "print(np.greater(a, b))\n",
        "print(\"a >= b\")\n",
        "print(np.greater_equal(a, b))\n",
        "print(\"a < b\")\n",
        "print(np.less(a, b))\n",
        "print(\"a <= b\")\n",
        "print(np.less_equal(a, b))"
      ],
      "execution_count": 0,
      "outputs": [
        {
          "output_type": "stream",
          "text": [
            "Array a:  [1 2]\n",
            "Array b:  [4 5]\n",
            "a > b\n",
            "[False False]\n",
            "a >= b\n",
            "[False False]\n",
            "a < b\n",
            "[ True  True]\n",
            "a <= b\n",
            "[ True  True]\n"
          ],
          "name": "stdout"
        }
      ]
    },
    {
      "cell_type": "markdown",
      "metadata": {
        "id": "i7elpPHtvKme",
        "colab_type": "text"
      },
      "source": [
        "**29, Viết chương trình NumPy để sắp xếp một trục dọc đầu tiên, cuối cùng của một mảng.**\n",
        "\n",
        "**Write a NumPy program to sort an along the first, last axis of an array.**\n"
      ]
    },
    {
      "cell_type": "code",
      "metadata": {
        "id": "-cPiQxE6vFU_",
        "colab_type": "code",
        "outputId": "8435d7b8-cccb-48a7-d103-4183a1b5042f",
        "colab": {
          "base_uri": "https://localhost:8080/",
          "height": 170
        }
      },
      "source": [
        "a = np.array([[4, 6],[2, 1]])\n",
        "print(\"Original array: \")\n",
        "print(a)\n",
        "print(\"Sort along the first axis: \")\n",
        "x = np.sort(a, axis=0)\n",
        "print(x)\n",
        "print(\"Sort along the last axis: \")\n",
        "y = np.sort(x, axis=1)\n",
        "print(y)"
      ],
      "execution_count": 0,
      "outputs": [
        {
          "output_type": "stream",
          "text": [
            "Original array: \n",
            "[[4 6]\n",
            " [2 1]]\n",
            "Sort along the first axis: \n",
            "[[2 1]\n",
            " [4 6]]\n",
            "Sort along the last axis: \n",
            "[[1 2]\n",
            " [4 6]]\n"
          ],
          "name": "stdout"
        }
      ]
    },
    {
      "cell_type": "markdown",
      "metadata": {
        "id": "br7dyU-WvcSR",
        "colab_type": "text"
      },
      "source": [
        "**30, Viết chương trình NumPy để sắp xếp các cặp tên và họ trả về các chỉ số của chúng. (đầu tiên bằng tên cuối cùng, sau đó bằng tên đầu tiên).**\n",
        "\n",
        "**Write a NumPy program to sort pairs of first name and last name return their indices. (first by last name, then by first name).**\n"
      ]
    },
    {
      "cell_type": "code",
      "metadata": {
        "id": "6EolMhNovQuG",
        "colab_type": "code",
        "outputId": "e71fb149-6eaa-444c-b8de-c93a479eb361",
        "colab": {
          "base_uri": "https://localhost:8080/",
          "height": 34
        }
      },
      "source": [
        "first_names =    ('Margery', 'Betsey', 'Shelley', 'Lanell', 'Genesis')\n",
        "last_names = ('Woolum', 'Battle', 'Plotner', 'Brien', 'Stahl')\n",
        "x = np.lexsort((first_names, last_names))\n",
        "print(x)"
      ],
      "execution_count": 0,
      "outputs": [
        {
          "output_type": "stream",
          "text": [
            "[1 3 2 4 0]\n"
          ],
          "name": "stdout"
        }
      ]
    },
    {
      "cell_type": "markdown",
      "metadata": {
        "id": "qTzivtguv-6m",
        "colab_type": "text"
      },
      "source": [
        "**31, Viết chương trình NumPy để lấy các giá trị và chỉ số của các phần tử lớn hơn 10 trong một mảng nhất định.**\n",
        "\n",
        "**Write a NumPy program to get the values and indices of the elements that are bigger than 10 in a given array.**\n",
        "\n",
        "![alt text](https://www.w3resource.com/w3r_images/python-numpy-image-exercise-31.png)"
      ]
    },
    {
      "cell_type": "code",
      "metadata": {
        "id": "qTLzm0UQvsu2",
        "colab_type": "code",
        "outputId": "472a5c14-0492-4be4-dfd2-c7d9c773ab95",
        "colab": {
          "base_uri": "https://localhost:8080/",
          "height": 102
        }
      },
      "source": [
        "x = np.array([[0, 10, 20], [20, 30, 40]])\n",
        "print(\"Original array: \")\n",
        "print(x)\n",
        "print(\"Values bigger than 10 =\", x[x>10])\n",
        "print(\"Their indices are \", np.nonzero(x > 10))"
      ],
      "execution_count": 0,
      "outputs": [
        {
          "output_type": "stream",
          "text": [
            "Original array: \n",
            "[[ 0 10 20]\n",
            " [20 30 40]]\n",
            "Values bigger than 10 = [20 20 30 40]\n",
            "Their indices are  (array([0, 1, 1, 1]), array([2, 0, 1, 2]))\n"
          ],
          "name": "stdout"
        }
      ]
    },
    {
      "cell_type": "markdown",
      "metadata": {
        "id": "O7shyKRMwU2P",
        "colab_type": "text"
      },
      "source": [
        "**32, Viết chương trình NumPy để lưu mảng NumPy vào tệp văn bản.**\n",
        "\n",
        "**Write a NumPy program to save a NumPy array to a text file.**\n",
        "\n"
      ]
    },
    {
      "cell_type": "code",
      "metadata": {
        "id": "icFfRu2iwJtE",
        "colab_type": "code",
        "colab": {}
      },
      "source": [
        "a = np.arange(1.0, 2.0, 36.2)\n",
        "np.savetxt('file.out', a, delimiter=',')"
      ],
      "execution_count": 0,
      "outputs": []
    },
    {
      "cell_type": "markdown",
      "metadata": {
        "id": "voJ69P3AwcCz",
        "colab_type": "text"
      },
      "source": [
        "**33, Viết chương trình NumPy để tìm kích thước bộ nhớ của mảng NumPy.**\n",
        "\n",
        "**Write a NumPy program to find the memory size of a NumPy array.**\n",
        "\n",
        "![alt text](https://www.w3resource.com/w3r_images/python-numpy-image-exercise-33.png)"
      ]
    },
    {
      "cell_type": "code",
      "metadata": {
        "id": "19l7nl_EwY7P",
        "colab_type": "code",
        "outputId": "8b2b274c-a20a-4af1-c7e1-833eccbb085c",
        "colab": {
          "base_uri": "https://localhost:8080/",
          "height": 34
        }
      },
      "source": [
        "n = np.zeros((4,4))\n",
        "print(\"%d bytes\" % (n.size * n.itemsize))"
      ],
      "execution_count": 0,
      "outputs": [
        {
          "output_type": "stream",
          "text": [
            "128 bytes\n"
          ],
          "name": "stdout"
        }
      ]
    },
    {
      "cell_type": "markdown",
      "metadata": {
        "id": "XWZJs8ICwnwA",
        "colab_type": "text"
      },
      "source": [
        "**34, Viết chương trình NumPy để tạo một mảng các số và một mảng số không.**\n",
        "\n",
        "**Write a NumPy program to create an array of ones and an array of zeros.**\n",
        "\n"
      ]
    },
    {
      "cell_type": "code",
      "metadata": {
        "id": "7ZZkZRQ1wjk2",
        "colab_type": "code",
        "outputId": "4ba954fb-ee0d-4567-b4a3-c1f58601a681",
        "colab": {
          "base_uri": "https://localhost:8080/",
          "height": 187
        }
      },
      "source": [
        "print(\"Create an array of zeros\")\n",
        "x = np.zeros((1,2))\n",
        "print(\"Default type is float\")\n",
        "print(x)\n",
        "print(\"Type changes to int\")\n",
        "x = np.zeros((1,2), dtype = np.int)\n",
        "print(x)\n",
        "print(\"Create an array of ones\")\n",
        "y= np.ones((1,2)) \n",
        "print(\"Default type is float\")\n",
        "print(y)\n",
        "print(\"Type changes to int\")\n",
        "y = np.ones((1,2), dtype = np.int)\n",
        "print(y)"
      ],
      "execution_count": 0,
      "outputs": [
        {
          "output_type": "stream",
          "text": [
            "Create an array of zeros\n",
            "Default type is float\n",
            "[[0. 0.]]\n",
            "Type changes to int\n",
            "[[0 0]]\n",
            "Create an array of ones\n",
            "Default type is float\n",
            "[[1. 1.]]\n",
            "Type changes to int\n",
            "[[1 1]]\n"
          ],
          "name": "stdout"
        }
      ]
    },
    {
      "cell_type": "markdown",
      "metadata": {
        "id": "N8GGrfaUw3g5",
        "colab_type": "text"
      },
      "source": [
        "**35, Viết chương trình NumPy để thay đổi kích thước của một mảng.**\n",
        "\n",
        "**Write a NumPy program to change the dimension of an array.**\n",
        "\n",
        "![alt text](https://www.w3resource.com/w3r_images/python-numpy-image-exercise-35.png)"
      ]
    },
    {
      "cell_type": "code",
      "metadata": {
        "id": "qmxWfIHbwxPu",
        "colab_type": "code",
        "outputId": "0e65b7dd-ea98-4713-cbe1-ccb7682c5246",
        "colab": {
          "base_uri": "https://localhost:8080/",
          "height": 187
        }
      },
      "source": [
        "x = np.array([1, 2, 3, 4, 5, 6])\n",
        "print(\"6 rows and 0 columns\")\n",
        "print(x.shape)\n",
        "\n",
        "y = np.array([[1, 2, 3],[4, 5, 6],[7,8,9]])\n",
        "print(\"(3, 3) -> 3 rows and 3 columns \")\n",
        "print(y)\n",
        "\n",
        "x = np.array([1,2,3,4,5,6,7,8,9])\n",
        "print(\"Change array shape to (3, 3) -> 3 rows and 3 columns \")\n",
        "x.shape = (3, 3)\n",
        "print(x)"
      ],
      "execution_count": 0,
      "outputs": [
        {
          "output_type": "stream",
          "text": [
            "6 rows and 0 columns\n",
            "(6,)\n",
            "(3, 3) -> 3 rows and 3 columns \n",
            "[[1 2 3]\n",
            " [4 5 6]\n",
            " [7 8 9]]\n",
            "Change array shape to (3, 3) -> 3 rows and 3 columns \n",
            "[[1 2 3]\n",
            " [4 5 6]\n",
            " [7 8 9]]\n"
          ],
          "name": "stdout"
        }
      ]
    },
    {
      "cell_type": "markdown",
      "metadata": {
        "id": "oJBxPDIibJru",
        "colab_type": "text"
      },
      "source": [
        "**36, Viết chương trình NumPy để tạo một mảng phẳng liền kề.**\n",
        "\n",
        "**Write a NumPy program to create a contiguous flattened array.**\n",
        "\n",
        "![alt text](https://www.w3resource.com/w3r_images/python-numpy-image-exercise-36.png)"
      ]
    },
    {
      "cell_type": "code",
      "metadata": {
        "id": "kIyQXI9kw_6O",
        "colab_type": "code",
        "colab": {
          "base_uri": "https://localhost:8080/",
          "height": 102
        },
        "outputId": "0cf070e2-853a-4d90-df72-ae8668709310"
      },
      "source": [
        "x = np.array([[10, 20, 30], [20, 40, 50]])\n",
        "print(\"Original array:\")\n",
        "print(x)\n",
        "y = np.ravel(x)\n",
        "print(\"New flattened array: \")\n",
        "print(y)"
      ],
      "execution_count": 8,
      "outputs": [
        {
          "output_type": "stream",
          "text": [
            "Original array:\n",
            "[[10 20 30]\n",
            " [20 40 50]]\n",
            "New flattened array: \n",
            "[10 20 30 20 40 50]\n"
          ],
          "name": "stdout"
        }
      ]
    },
    {
      "cell_type": "markdown",
      "metadata": {
        "id": "qNMTzoKBbkR0",
        "colab_type": "text"
      },
      "source": [
        "**37, Viết chương trình NumPy để tạo mảng 2 chiều có kích thước 2 x 3 (bao gồm các phần tử nguyên 4 byte), cũng in hình dạng, loại và kiểu dữ liệu của mảng.**\n",
        "\n",
        "**Write a NumPy program to create a 2-dimensional array of size 2 x 3 (composed of 4-byte integer elements), also print the shape, type and data type of the array.**\n",
        "\n",
        "![alt text](https://www.w3resource.com/w3r_images/python-numpy-image-exercise-37.png)\n",
        "\n"
      ]
    },
    {
      "cell_type": "code",
      "metadata": {
        "id": "l0K7jEGfbady",
        "colab_type": "code",
        "colab": {
          "base_uri": "https://localhost:8080/",
          "height": 68
        },
        "outputId": "c22f878b-f40c-4644-c6c9-c0dac4e83a22"
      },
      "source": [
        "x = np.array([[2,4,6], [6,8,10]], np.int32)\n",
        "print(type(x))\n",
        "print(x.shape)\n",
        "print(x.dtype)"
      ],
      "execution_count": 9,
      "outputs": [
        {
          "output_type": "stream",
          "text": [
            "<class 'numpy.ndarray'>\n",
            "(2, 3)\n",
            "int32\n"
          ],
          "name": "stdout"
        }
      ]
    },
    {
      "cell_type": "markdown",
      "metadata": {
        "id": "Rj6WnNVgb7Jg",
        "colab_type": "text"
      },
      "source": [
        "**38, Viết chương trình NumPy để tạo một hình dạng mới cho một mảng mà không thay đổi dữ liệu của nó.**\n",
        "\n",
        "**Write a NumPy program to create a new shape to an array without changing its data.**\n",
        "\n",
        "![alt text](https://www.w3resource.com/w3r_images/python-numpy-image-exercise-38.png)"
      ]
    },
    {
      "cell_type": "code",
      "metadata": {
        "id": "lZ2sBDicbzr6",
        "colab_type": "code",
        "colab": {
          "base_uri": "https://localhost:8080/",
          "height": 153
        },
        "outputId": "2e73bb91-30b7-4a36-fba5-5a86ae129a99"
      },
      "source": [
        "x = np.array([1,2,3,4,5,6])\n",
        "print(x)\n",
        "y = np.reshape(x, (3,2))\n",
        "print(\"Reshape 3x2: \")\n",
        "print(y)\n",
        "z = np.reshape(x, (2,3))\n",
        "print(\"Reshape 2x3: \")\n",
        "print(z)"
      ],
      "execution_count": 11,
      "outputs": [
        {
          "output_type": "stream",
          "text": [
            "[1 2 3 4 5 6]\n",
            "Reshape 3x2: \n",
            "[[1 2]\n",
            " [3 4]\n",
            " [5 6]]\n",
            "Reshape 2x3: \n",
            "[[1 2 3]\n",
            " [4 5 6]]\n"
          ],
          "name": "stdout"
        }
      ]
    },
    {
      "cell_type": "markdown",
      "metadata": {
        "id": "V4pU7MbicWR1",
        "colab_type": "text"
      },
      "source": [
        "**39, Viết chương trình NumPy để thay đổi kiểu dữ liệu của một mảng.**\n",
        "\n",
        "**Write a NumPy program to change the data type of an array.**\n",
        "\n"
      ]
    },
    {
      "cell_type": "code",
      "metadata": {
        "id": "Zc3K_0fKcMru",
        "colab_type": "code",
        "colab": {
          "base_uri": "https://localhost:8080/",
          "height": 119
        },
        "outputId": "cf43e6f1-37ac-4162-8954-23eb8ea5b304"
      },
      "source": [
        "x = np.array([[2, 4, 6], [6, 8, 10]], np.int32)\n",
        "print(x)\n",
        "print(\"Data type of the array x is: \", x.dtype)\n",
        "y = x.astype(float)\n",
        "print(\"New Type: \", y.dtype)\n",
        "print(y)"
      ],
      "execution_count": 12,
      "outputs": [
        {
          "output_type": "stream",
          "text": [
            "[[ 2  4  6]\n",
            " [ 6  8 10]]\n",
            "Data type of the array x is:  int32\n",
            "New Type:  float64\n",
            "[[ 2.  4.  6.]\n",
            " [ 6.  8. 10.]]\n"
          ],
          "name": "stdout"
        }
      ]
    },
    {
      "cell_type": "markdown",
      "metadata": {
        "id": "QP9par0Rcw3O",
        "colab_type": "text"
      },
      "source": [
        " **40, Viết chương trình NumPy để tạo một mảng mới 3 * 5, chứa đầy 2**\n",
        "\n",
        " **Write a NumPy program to create a new array of 3*5, filled with 2.**\n",
        "\n",
        "![alt text](https://www.w3resource.com/w3r_images/python-numpy-image-exercise-40.png)"
      ]
    },
    {
      "cell_type": "code",
      "metadata": {
        "id": "ZEAO-I3Icp8-",
        "colab_type": "code",
        "colab": {
          "base_uri": "https://localhost:8080/",
          "height": 119
        },
        "outputId": "383bfbd2-daa7-4cfb-933c-63bc9ec8f889"
      },
      "source": [
        "x = np.full((3,5), 2, dtype=np.uint)\n",
        "print(x)\n",
        "y = np.ones([3,5], dtype = np.uint) * 2\n",
        "print(y)"
      ],
      "execution_count": 14,
      "outputs": [
        {
          "output_type": "stream",
          "text": [
            "[[2 2 2 2 2]\n",
            " [2 2 2 2 2]\n",
            " [2 2 2 2 2]]\n",
            "[[2 2 2 2 2]\n",
            " [2 2 2 2 2]\n",
            " [2 2 2 2 2]]\n"
          ],
          "name": "stdout"
        }
      ]
    },
    {
      "cell_type": "markdown",
      "metadata": {
        "id": "fhjz10HLddm-",
        "colab_type": "text"
      },
      "source": [
        "**41, Viết chương trình NumPy để tạo một mảng 10 giây với cùng hình dạng và kiểu của một mảng nhất định.**\n",
        "\n",
        "**Write a NumPy program to create an array of 10's with the same shape and type of a given array.**\n",
        "\n",
        "![alt text](https://www.w3resource.com/w3r_images/python-numpy-image-exercise-41.png)\n"
      ]
    },
    {
      "cell_type": "code",
      "metadata": {
        "id": "FaY2G9JSdIDh",
        "colab_type": "code",
        "colab": {
          "base_uri": "https://localhost:8080/",
          "height": 34
        },
        "outputId": "8fae4411-91f9-429d-8ffc-128a3d465f10"
      },
      "source": [
        "x = np.arange(4, dtype=np.int64)\n",
        "y = np.full_like(x, 10)\n",
        "print(y)"
      ],
      "execution_count": 15,
      "outputs": [
        {
          "output_type": "stream",
          "text": [
            "[10 10 10 10]\n"
          ],
          "name": "stdout"
        }
      ]
    },
    {
      "cell_type": "markdown",
      "metadata": {
        "id": "rGXBynuGd5pC",
        "colab_type": "text"
      },
      "source": [
        "**42, Viết chương trình NumPy để tạo một mảng 3 chiều với các mảng trên đường chéo và các số 0 ở nơi khác.**\n",
        "\n",
        "**Write a NumPy program to create a 3-D array with ones on the diagonal and zeros elsewhere.**\n",
        "\n",
        "![alt text](https://www.w3resource.com/w3r_images/python-numpy-image-exercise-42.png)"
      ]
    },
    {
      "cell_type": "code",
      "metadata": {
        "id": "wDVrr-0ldvsx",
        "colab_type": "code",
        "colab": {
          "base_uri": "https://localhost:8080/",
          "height": 68
        },
        "outputId": "6ad20f58-9066-40ae-af3a-6e99afb9dff3"
      },
      "source": [
        "x = np.eye(3)\n",
        "print(x)"
      ],
      "execution_count": 18,
      "outputs": [
        {
          "output_type": "stream",
          "text": [
            "[[1. 0. 0.]\n",
            " [0. 1. 0.]\n",
            " [0. 0. 1.]]\n"
          ],
          "name": "stdout"
        }
      ]
    },
    {
      "cell_type": "markdown",
      "metadata": {
        "id": "Uw7VkZBieGYi",
        "colab_type": "text"
      },
      "source": [
        "**43, Viết chương trình NumPy để tạo mảng 2 chiều có đường chéo bằng [4, 5, 6, 8] và 0 ở nơi khác.**\n",
        "\n",
        "**Write a NumPy program to create a 2-D array whose diagonal equals [4, 5, 6, 8] and 0's elsewhere.**\n",
        "\n",
        "![alt text](https://www.w3resource.com/w3r_images/python-numpy-image-exercise-43.png)"
      ]
    },
    {
      "cell_type": "code",
      "metadata": {
        "id": "_KQd6x1FeAQO",
        "colab_type": "code",
        "colab": {
          "base_uri": "https://localhost:8080/",
          "height": 85
        },
        "outputId": "f52ed36a-bf4f-436b-cfcc-d2f6621608cf"
      },
      "source": [
        "x = np.diagflat([4,5,6,8])\n",
        "print(x)"
      ],
      "execution_count": 20,
      "outputs": [
        {
          "output_type": "stream",
          "text": [
            "[[4 0 0 0]\n",
            " [0 5 0 0]\n",
            " [0 0 6 0]\n",
            " [0 0 0 8]]\n"
          ],
          "name": "stdout"
        }
      ]
    },
    {
      "cell_type": "markdown",
      "metadata": {
        "id": "bmoUt3GHeVdh",
        "colab_type": "text"
      },
      "source": [
        "**44, Viết chương trình NumPy để tạo mảng 1-D đi từ 0 đến 50 và mảng từ 10 đến 50.**\n",
        "\n",
        "**Write a NumPy program to create a 1-D array going from 0 to 50 and an array from 10 to 50.**\n",
        "\n",
        "![alt text](https://www.w3resource.com/w3r_images/python-numpy-image-exercise-44.png)"
      ]
    },
    {
      "cell_type": "code",
      "metadata": {
        "id": "Ps-pOpXseOWh",
        "colab_type": "code",
        "colab": {
          "base_uri": "https://localhost:8080/",
          "height": 136
        },
        "outputId": "34944138-48fa-4c33-8c9d-9eb588c25219"
      },
      "source": [
        "x = np.arange(50)\n",
        "print(\"Array from 0 to 50: \")\n",
        "print(x)\n",
        "x = np.arange(10, 50)\n",
        "print(\"Array from 10 to 50: \")\n",
        "print(x)"
      ],
      "execution_count": 21,
      "outputs": [
        {
          "output_type": "stream",
          "text": [
            "Array from 0 to 50: \n",
            "[ 0  1  2  3  4  5  6  7  8  9 10 11 12 13 14 15 16 17 18 19 20 21 22 23\n",
            " 24 25 26 27 28 29 30 31 32 33 34 35 36 37 38 39 40 41 42 43 44 45 46 47\n",
            " 48 49]\n",
            "Array from 10 to 50: \n",
            "[10 11 12 13 14 15 16 17 18 19 20 21 22 23 24 25 26 27 28 29 30 31 32 33\n",
            " 34 35 36 37 38 39 40 41 42 43 44 45 46 47 48 49]\n"
          ],
          "name": "stdout"
        }
      ]
    },
    {
      "cell_type": "markdown",
      "metadata": {
        "id": "Jw5wgrSzewHH",
        "colab_type": "text"
      },
      "source": [
        "**45, Viết chương trình NumPy để tạo mảng 1-D gồm 30 phần tử cách đều nhau giữa 2,5. và 6,5, bao gồm.**\n",
        "\n",
        "**Write a NumPy program to Create a 1-D array of 30 evenly spaced elements between 2.5. and 6.5, inclusive.**\n",
        "\n"
      ]
    },
    {
      "cell_type": "code",
      "metadata": {
        "id": "Ph1QZVFEepCf",
        "colab_type": "code",
        "colab": {
          "base_uri": "https://localhost:8080/",
          "height": 102
        },
        "outputId": "04afe8b7-1e2a-409a-8c78-aba88cb14b56"
      },
      "source": [
        "x = np.linspace(2.5, 6.5, 30)\n",
        "print(x)"
      ],
      "execution_count": 22,
      "outputs": [
        {
          "output_type": "stream",
          "text": [
            "[2.5        2.63793103 2.77586207 2.9137931  3.05172414 3.18965517\n",
            " 3.32758621 3.46551724 3.60344828 3.74137931 3.87931034 4.01724138\n",
            " 4.15517241 4.29310345 4.43103448 4.56896552 4.70689655 4.84482759\n",
            " 4.98275862 5.12068966 5.25862069 5.39655172 5.53448276 5.67241379\n",
            " 5.81034483 5.94827586 6.0862069  6.22413793 6.36206897 6.5       ]\n"
          ],
          "name": "stdout"
        }
      ]
    },
    {
      "cell_type": "markdown",
      "metadata": {
        "id": "7v4V9oGdfBT-",
        "colab_type": "text"
      },
      "source": [
        "**46, Viết chương trình NumPy để tạo mảng 1-D gồm 20 phần tử cách đều nhau trên thang đo log giữa 2. và 5., độc quyền.**\n",
        "\n",
        "**Write a NumPy program to create a 1-D array of 20 element spaced evenly on a log scale between 2. and 5., exclusive.**\n",
        "\n"
      ]
    },
    {
      "cell_type": "code",
      "metadata": {
        "id": "zHLo1r9ee3f7",
        "colab_type": "code",
        "colab": {
          "base_uri": "https://localhost:8080/",
          "height": 102
        },
        "outputId": "602dc833-2bdb-4526-86be-d866f15da270"
      },
      "source": [
        "x = np.logspace(2., 5., 20, endpoint=False)\n",
        "print(x)"
      ],
      "execution_count": 24,
      "outputs": [
        {
          "output_type": "stream",
          "text": [
            "[  100.           141.25375446   199.5262315    281.83829313\n",
            "   398.10717055   562.34132519   794.32823472  1122.0184543\n",
            "  1584.89319246  2238.72113857  3162.27766017  4466.83592151\n",
            "  6309.5734448   8912.50938134 12589.25411794 17782.79410039\n",
            " 25118.8643151  35481.33892336 50118.72336273 70794.57843841]\n"
          ],
          "name": "stdout"
        }
      ]
    },
    {
      "cell_type": "markdown",
      "metadata": {
        "id": "M232rSWKfSqv",
        "colab_type": "text"
      },
      "source": [
        "**47, Viết chương trình NumPy để tạo một mảng trông giống như mảng bên dưới.**\n",
        "\n",
        "**Write a NumPy program to create an array which looks like below array.**\n",
        "\n"
      ]
    },
    {
      "cell_type": "code",
      "metadata": {
        "id": "063U0Lr3fHms",
        "colab_type": "code",
        "colab": {
          "base_uri": "https://localhost:8080/",
          "height": 85
        },
        "outputId": "6a064f43-0c1d-4d84-92fa-a574ae5cd45e"
      },
      "source": [
        "x = np.tri(4, 3, -1)\n",
        "print(x)"
      ],
      "execution_count": 25,
      "outputs": [
        {
          "output_type": "stream",
          "text": [
            "[[0. 0. 0.]\n",
            " [1. 0. 0.]\n",
            " [1. 1. 0.]\n",
            " [1. 1. 1.]]\n"
          ],
          "name": "stdout"
        }
      ]
    },
    {
      "cell_type": "markdown",
      "metadata": {
        "id": "RarLuOsffdt9",
        "colab_type": "text"
      },
      "source": [
        "**48, Viết chương trình NumPy để tạo một mảng trông giống như mảng bên dưới.**\n",
        "\n",
        "**Write a NumPy program to create an array which looks like below array.**\n",
        "\n"
      ]
    },
    {
      "cell_type": "code",
      "metadata": {
        "id": "9c6UMO1WfYll",
        "colab_type": "code",
        "colab": {
          "base_uri": "https://localhost:8080/",
          "height": 85
        },
        "outputId": "4d2ab001-2593-4720-a493-451f39cf78b6"
      },
      "source": [
        "x = np.triu(np.arange(2, 14).reshape(4,3), -1)\n",
        "print(x)"
      ],
      "execution_count": 27,
      "outputs": [
        {
          "output_type": "stream",
          "text": [
            "[[ 2  3  4]\n",
            " [ 5  6  7]\n",
            " [ 0  9 10]\n",
            " [ 0  0 13]]\n"
          ],
          "name": "stdout"
        }
      ]
    },
    {
      "cell_type": "markdown",
      "metadata": {
        "id": "v-wTeGemfyvx",
        "colab_type": "text"
      },
      "source": [
        "**49, Viết chương trình NumPy để thu gọn mảng 3 chiều thành mảng một chiều.**\n",
        "\n",
        "**Write a NumPy program to collapse a 3-D array into one dimension array.**\n",
        "\n",
        "![alt text](https://www.w3resource.com/w3r_images/python-numpy-image-exercise-49.png)"
      ]
    },
    {
      "cell_type": "code",
      "metadata": {
        "id": "B8o3i3u5flrM",
        "colab_type": "code",
        "colab": {
          "base_uri": "https://localhost:8080/",
          "height": 119
        },
        "outputId": "cdc2d6e2-7fbe-4066-9209-a0c0e61be17b"
      },
      "source": [
        "x = np.eye(3)\n",
        "print(\"3-D array: \")\n",
        "print(x)\n",
        "f = np.ravel(x, order='F')\n",
        "print(\"One dimension array: \")\n",
        "print(f)"
      ],
      "execution_count": 28,
      "outputs": [
        {
          "output_type": "stream",
          "text": [
            "3-D array: \n",
            "[[1. 0. 0.]\n",
            " [0. 1. 0.]\n",
            " [0. 0. 1.]]\n",
            "One dimension array: \n",
            "[1. 0. 0. 0. 1. 0. 0. 0. 1.]\n"
          ],
          "name": "stdout"
        }
      ]
    },
    {
      "cell_type": "markdown",
      "metadata": {
        "id": "wY0ztfZ2gK30",
        "colab_type": "text"
      },
      "source": [
        "**50, Viết chương trình NumPy để tìm phần tử thứ 4 của một mảng được chỉ định.**\n",
        "\n",
        "**Write a NumPy program to find the 4th element of a specified array.**\n",
        "\n",
        "![alt text](https://www.w3resource.com/w3r_images/python-numpy-image-exercise-50.png)"
      ]
    },
    {
      "cell_type": "code",
      "metadata": {
        "id": "kt4FXsr-gEcM",
        "colab_type": "code",
        "colab": {
          "base_uri": "https://localhost:8080/",
          "height": 85
        },
        "outputId": "de63f480-4f28-49ca-a4d2-bc807f9dfada"
      },
      "source": [
        "x = np.array([[2, 4, 6], [6, 8, 10]], np.int32)\n",
        "print(x)\n",
        "e1 = x.flat[3]\n",
        "print(\"Forth element of the array: \")\n",
        "print(e1)"
      ],
      "execution_count": 29,
      "outputs": [
        {
          "output_type": "stream",
          "text": [
            "[[ 2  4  6]\n",
            " [ 6  8 10]]\n",
            "Forth element of the array: \n",
            "6\n"
          ],
          "name": "stdout"
        }
      ]
    },
    {
      "cell_type": "markdown",
      "metadata": {
        "id": "hXZFHhSbgodR",
        "colab_type": "text"
      },
      "source": [
        "**51, Viết chương trình NumPy để trao đổi hai trục của một mảng.**\n",
        "\n",
        "**Write a NumPy program to interchange two axes of an array.**\n",
        "\n",
        "![alt text](https://www.w3resource.com/w3r_images/python-numpy-image-exercise-51.png)"
      ]
    },
    {
      "cell_type": "code",
      "metadata": {
        "id": "Nxz02umWgbwL",
        "colab_type": "code",
        "colab": {
          "base_uri": "https://localhost:8080/",
          "height": 85
        },
        "outputId": "51fea187-c622-4bdf-f851-fc51102392d0"
      },
      "source": [
        "x = np.array([[1,2,3]])\n",
        "print(x)\n",
        "y = np.swapaxes(x, 0, 1)\n",
        "print(y)"
      ],
      "execution_count": 30,
      "outputs": [
        {
          "output_type": "stream",
          "text": [
            "[[1 2 3]]\n",
            "[[1]\n",
            " [2]\n",
            " [3]]\n"
          ],
          "name": "stdout"
        }
      ]
    },
    {
      "cell_type": "markdown",
      "metadata": {
        "id": "WxCHxoP8g7E6",
        "colab_type": "text"
      },
      "source": [
        "**52, Viết chương trình NumPy để di chuyển các trục của một mảng sang các vị trí mới. Các trục khác vẫn theo thứ tự ban đầu của họ.**\n",
        "\n",
        "**Write a NumPy program to move axes of an array to new positions. Other axes remain in their original order.**\n",
        "\n",
        "![alt text](https://www.w3resource.com/w3r_images/python-numpy-image-exercise-52.png)"
      ]
    },
    {
      "cell_type": "code",
      "metadata": {
        "id": "nMphlSt0gza8",
        "colab_type": "code",
        "colab": {
          "base_uri": "https://localhost:8080/",
          "height": 51
        },
        "outputId": "bb0db345-79b9-4b9c-e6a5-b19726b7425e"
      },
      "source": [
        "x = np.zeros((2,3,4))\n",
        "print(np.moveaxis(x, 0, -1). shape)\n",
        "print(np.moveaxis(x, -1, 0).shape)"
      ],
      "execution_count": 31,
      "outputs": [
        {
          "output_type": "stream",
          "text": [
            "(3, 4, 2)\n",
            "(4, 2, 3)\n"
          ],
          "name": "stdout"
        }
      ]
    },
    {
      "cell_type": "markdown",
      "metadata": {
        "id": "btMLCb7IhZL8",
        "colab_type": "text"
      },
      "source": [
        " **53, Viết chương trình NumPy để di chuyển trục đã chỉ định về phía sau, cho đến khi nó nằm ở một vị trí nhất định.\n",
        "Di chuyển các trục mảng thứ 3 sau đến vị trí đầu tiên.\n",
        "(2,3,4,5)**\n",
        "\n",
        "**Write a NumPy program to move the specified axis backwards, until it lies in a given position.\n",
        "Move the following 3rd array axes to first position.\n",
        "(2,3,4,5)**\n",
        "\n",
        "![alt text](https://www.w3resource.com/w3r_images/python-numpy-image-exercise-53.png)"
      ]
    },
    {
      "cell_type": "code",
      "metadata": {
        "id": "gKWuyRZihNYz",
        "colab_type": "code",
        "colab": {
          "base_uri": "https://localhost:8080/",
          "height": 34
        },
        "outputId": "6dad979a-0fc8-4f89-d4dc-31c80e56b9f9"
      },
      "source": [
        "x = np.ones((2,3,4,5))\n",
        "print(np.rollaxis(x, 3, 1).shape)"
      ],
      "execution_count": 32,
      "outputs": [
        {
          "output_type": "stream",
          "text": [
            "(2, 5, 3, 4)\n"
          ],
          "name": "stdout"
        }
      ]
    },
    {
      "cell_type": "markdown",
      "metadata": {
        "id": "X7Q1LK0Hh2FW",
        "colab_type": "text"
      },
      "source": [
        "**54, Viết một chương trình NumPy để chuyển đổi đầu vào quy định để mảng với ít nhất một chiều**\n",
        "\n",
        "**Write a NumPy program to convert specified inputs to arrays with at least one dimension.**\n",
        "\n"
      ]
    },
    {
      "cell_type": "code",
      "metadata": {
        "id": "GTjvYk0chmzB",
        "colab_type": "code",
        "colab": {
          "base_uri": "https://localhost:8080/",
          "height": 85
        },
        "outputId": "9d5bf405-9040-41a3-e669-393ec6931d0c"
      },
      "source": [
        "x = 12.0\n",
        "print(np.atleast_1d(x))\n",
        "x = np.arange(6.0).reshape(2, 3)\n",
        "print(np.atleast_1d(x))\n",
        "print(np.atleast_1d([1, [3,4]]))"
      ],
      "execution_count": 33,
      "outputs": [
        {
          "output_type": "stream",
          "text": [
            "[12.]\n",
            "[[0. 1. 2.]\n",
            " [3. 4. 5.]]\n",
            "[1 list([3, 4])]\n"
          ],
          "name": "stdout"
        }
      ]
    },
    {
      "cell_type": "markdown",
      "metadata": {
        "id": "IbS5KTg8iSut",
        "colab_type": "text"
      },
      "source": [
        "**55, Viết chương trình NumPy để xem các đầu vào dưới dạng các mảng có ít nhất hai chiều, ba chiều.**\n",
        "\n",
        "**Write a NumPy program to view inputs as arrays with at least two dimensions, three dimensions.**\n",
        "\n"
      ]
    },
    {
      "cell_type": "code",
      "metadata": {
        "id": "BxH-al1liIDK",
        "colab_type": "code",
        "colab": {
          "base_uri": "https://localhost:8080/",
          "height": 170
        },
        "outputId": "04841aa3-5cb0-4f33-98ba-96c19d7d5f43"
      },
      "source": [
        "x = 10\n",
        "print(\"View inputs as arrays with at least two dimensions: \")\n",
        "print(np.atleast_1d(x))\n",
        "x = np.arange(4.0).reshape(2, 2)\n",
        "print(np.atleast_1d(x))\n",
        "print(\"View inputs as arrays with at least three dimensions: \")\n",
        "x = 15\n",
        "print(np.atleast_3d(x))\n",
        "x = np.arange(3.0)\n",
        "print(np.atleast_3d(x))"
      ],
      "execution_count": 34,
      "outputs": [
        {
          "output_type": "stream",
          "text": [
            "View inputs as arrays with at least two dimensions: \n",
            "[10]\n",
            "[[0. 1.]\n",
            " [2. 3.]]\n",
            "View inputs as arrays with at least three dimensions: \n",
            "[[[15]]]\n",
            "[[[0.]\n",
            "  [1.]\n",
            "  [2.]]]\n"
          ],
          "name": "stdout"
        }
      ]
    },
    {
      "cell_type": "markdown",
      "metadata": {
        "id": "52FXC63oi1_i",
        "colab_type": "text"
      },
      "source": [
        "**56, Viết chương trình NumPy để chèn một trục mới trong mảng 2 chiều.\n",
        "Mảng 2 chiều có hình dạng (3, 4).\n",
        "Hình dạng mới sẽ là (3, 1, 4).** \n",
        "\n",
        "**Write a NumPy program to insert a new axis within a 2-D array.\n",
        "2-D array of shape (3, 4).\n",
        "New shape will be will be (3, 1, 4).**\n",
        "\n",
        "![alt text](https://www.w3resource.com/w3r_images/python-numpy-image-exercise-56.png)"
      ]
    },
    {
      "cell_type": "code",
      "metadata": {
        "id": "JIn7--OpiqbR",
        "colab_type": "code",
        "colab": {
          "base_uri": "https://localhost:8080/",
          "height": 34
        },
        "outputId": "f6fe67d5-aeac-4c11-bc86-639372b70d46"
      },
      "source": [
        "x = np.zeros((3, 4))\n",
        "y = np.expand_dims(x, axis = 1).shape\n",
        "print(y)"
      ],
      "execution_count": 35,
      "outputs": [
        {
          "output_type": "stream",
          "text": [
            "(3, 1, 4)\n"
          ],
          "name": "stdout"
        }
      ]
    },
    {
      "cell_type": "markdown",
      "metadata": {
        "id": "hgkqJdNjjOMR",
        "colab_type": "text"
      },
      "source": [
        "**57, Viết chương trình NumPy để xóa các mục một chiều khỏi hình dạng đã chỉ định.**\n",
        "\n",
        "**Write a NumPy program to remove single-dimensional entries from a specified shape.**\n"
      ]
    },
    {
      "cell_type": "code",
      "metadata": {
        "id": "L1uXdUyGjDop",
        "colab_type": "code",
        "colab": {
          "base_uri": "https://localhost:8080/",
          "height": 34
        },
        "outputId": "41e01a48-3302-48ab-f0fd-2ad4cf144533"
      },
      "source": [
        "x = np.zeros((3, 1, 4))\n",
        "print(np.squeeze(x).shape)"
      ],
      "execution_count": 36,
      "outputs": [
        {
          "output_type": "stream",
          "text": [
            "(3, 4)\n"
          ],
          "name": "stdout"
        }
      ]
    },
    {
      "cell_type": "markdown",
      "metadata": {
        "id": "nfLddLJujaTV",
        "colab_type": "text"
      },
      "source": [
        "**58, Viết chương trình NumPy để ghép hai mảng 2 chiều.**\n",
        "\n",
        "**Write a NumPy program to concatenate two 2-dimensional arrays.**\n",
        "\n",
        "![alt text](https://www.w3resource.com/w3r_images/python-numpy-image-exercise-58.png)\n"
      ]
    },
    {
      "cell_type": "code",
      "metadata": {
        "id": "zUG347SljVWK",
        "colab_type": "code",
        "colab": {
          "base_uri": "https://localhost:8080/",
          "height": 51
        },
        "outputId": "c600d220-d321-4f4c-e617-ea0227b34b73"
      },
      "source": [
        "a = np.array([[0, 1, 3], [5, 7, 9]])\n",
        "b = np.array([[0, 2, 4], [6, 8, 10]])\n",
        "c = np.concatenate((a,b), 1)\n",
        "print(c)"
      ],
      "execution_count": 39,
      "outputs": [
        {
          "output_type": "stream",
          "text": [
            "[[ 0  1  3  0  2  4]\n",
            " [ 5  7  9  6  8 10]]\n"
          ],
          "name": "stdout"
        }
      ]
    },
    {
      "cell_type": "markdown",
      "metadata": {
        "id": "v4ZDFHZ2jyIV",
        "colab_type": "text"
      },
      "source": [
        "**59, Viết chương trình NumPy để chuyển đổi mảng 1-D dưới dạng cột thành mảng 2-D.**\n",
        "\n",
        "**Write a NumPy program to convert 1-D arrays as columns into a 2-D array.**\n",
        "\n",
        "![alt text](https://www.w3resource.com/w3r_images/python-numpy-image-exercise-59.png)\n"
      ]
    },
    {
      "cell_type": "code",
      "metadata": {
        "id": "bLPe9H6Djo4p",
        "colab_type": "code",
        "colab": {
          "base_uri": "https://localhost:8080/",
          "height": 68
        },
        "outputId": "ab31f7e6-6c02-463f-d6e7-7a1b782305e0"
      },
      "source": [
        "a = np.array((10,20,30))\n",
        "b = np.array((40,50,60))\n",
        "c = np.column_stack((a, b))\n",
        "print(c)"
      ],
      "execution_count": 40,
      "outputs": [
        {
          "output_type": "stream",
          "text": [
            "[[10 40]\n",
            " [20 50]\n",
            " [30 60]]\n"
          ],
          "name": "stdout"
        }
      ]
    },
    {
      "cell_type": "markdown",
      "metadata": {
        "id": "PsU6S4nLkEQ3",
        "colab_type": "text"
      },
      "source": [
        "**60, Viết chương trình NumPy để chuyển đổi (theo chiều sâu trình tự (dọc theo trục thứ ba)) hai mảng 1-D thành mảng 2-D.**\n",
        "\n",
        "**Write a NumPy program to convert (in sequence depth wise (along third axis)) two 1-D arrays into a 2-D array.**\n",
        "\n",
        "![alt text](https://www.w3resource.com/w3r_images/python-numpy-image-exercise-60.png)"
      ]
    },
    {
      "cell_type": "code",
      "metadata": {
        "id": "GAOgR4IHj9VQ",
        "colab_type": "code",
        "colab": {
          "base_uri": "https://localhost:8080/",
          "height": 102
        },
        "outputId": "55ea2521-35d5-4087-b631-58b5114c3f40"
      },
      "source": [
        "a = np.array([[10],[20],[30]])\n",
        "b = np.array([[40],[50],[60]])\n",
        "c = np.dstack((a,b))\n",
        "print(c)"
      ],
      "execution_count": 41,
      "outputs": [
        {
          "output_type": "stream",
          "text": [
            "[[[10 40]]\n",
            "\n",
            " [[20 50]]\n",
            "\n",
            " [[30 60]]]\n"
          ],
          "name": "stdout"
        }
      ]
    },
    {
      "cell_type": "markdown",
      "metadata": {
        "id": "IG21cP4lmAlP",
        "colab_type": "text"
      },
      "source": [
        "**61, Viết chương trình Python để chia một mảng gồm 14 phần tử thành 3 mảng, mỗi phần có 2, 4 và 8 phần tử theo thứ tự ban đầu.**\n",
        "\n",
        "**Write a Python program to split an array of 14 elements into 3 arrays, each of which has 2, 4, and 8 elements in the original order.**\n",
        "\n",
        "![alt text](https://www.w3resource.com/w3r_images/python-numpy-image-exercise-61.png)"
      ]
    },
    {
      "cell_type": "code",
      "metadata": {
        "id": "q4EDLJIHls4P",
        "colab_type": "code",
        "colab": {
          "base_uri": "https://localhost:8080/",
          "height": 68
        },
        "outputId": "4bfef829-433c-44dc-9468-f4b9d8a469af"
      },
      "source": [
        "x = np.arange(1, 15)\n",
        "print(\"Original array:\",x)\n",
        "print(\"After splitting:\")\n",
        "print(np.split(x, [2, 6]))"
      ],
      "execution_count": 42,
      "outputs": [
        {
          "output_type": "stream",
          "text": [
            "Original array: [ 1  2  3  4  5  6  7  8  9 10 11 12 13 14]\n",
            "After splitting:\n",
            "[array([1, 2]), array([3, 4, 5, 6]), array([ 7,  8,  9, 10, 11, 12, 13, 14])]\n"
          ],
          "name": "stdout"
        }
      ]
    },
    {
      "cell_type": "markdown",
      "metadata": {
        "id": "iXJZylOAmVQJ",
        "colab_type": "text"
      },
      "source": [
        "**62, Viết chương trình NumPy để phân chia một mảng có hình dạng 4 x 4 thành hai mảng dọc theo trục thứ hai.**\n",
        "\n",
        "**Write a NumPy program to split of an array of shape 4x4 it into two arrays along the second axis.**\n",
        "\n",
        "![alt text](https://www.w3resource.com/w3r_images/python-numpy-image-exercise-62.png)"
      ]
    },
    {
      "cell_type": "code",
      "metadata": {
        "id": "gvcJWxK3mK2r",
        "colab_type": "code",
        "colab": {
          "base_uri": "https://localhost:8080/",
          "height": 238
        },
        "outputId": "809a134b-fdb1-4845-ead7-76c07048e2a5"
      },
      "source": [
        "x = np.arange(16).reshape((4, 4))\n",
        "print(\"Original array:\")\n",
        "print(x)\n",
        "print(\"After splitting horizontally:\")\n",
        "print(np.hsplit(x, [2,6]))"
      ],
      "execution_count": 44,
      "outputs": [
        {
          "output_type": "stream",
          "text": [
            "Original array:\n",
            "[[ 0  1  2  3]\n",
            " [ 4  5  6  7]\n",
            " [ 8  9 10 11]\n",
            " [12 13 14 15]]\n",
            "After splitting horizontally:\n",
            "[array([[ 0,  1],\n",
            "       [ 4,  5],\n",
            "       [ 8,  9],\n",
            "       [12, 13]]), array([[ 2,  3],\n",
            "       [ 6,  7],\n",
            "       [10, 11],\n",
            "       [14, 15]]), array([], shape=(4, 0), dtype=int64)]\n"
          ],
          "name": "stdout"
        }
      ]
    },
    {
      "cell_type": "markdown",
      "metadata": {
        "id": "T7zmku8em0ER",
        "colab_type": "text"
      },
      "source": [
        "**63, Viết chương trình NumPy để lấy số phần tử khác không trong một mảng.**\n",
        "\n",
        "**Write a NumPy program to get the number of nonzero elements in an array.**\n",
        "\n",
        "![alt text](https://www.w3resource.com/w3r_images/python-numpy-image-exercise-63.png)"
      ]
    },
    {
      "cell_type": "code",
      "metadata": {
        "id": "tNSRbR7gmhvm",
        "colab_type": "code",
        "colab": {
          "base_uri": "https://localhost:8080/",
          "height": 102
        },
        "outputId": "bee923b9-90cf-4f13-a7df-0b73e733f85d"
      },
      "source": [
        "x = np.array([[0, 10, 20], [20, 30, 40]])\n",
        "print(\"Original array:\")\n",
        "print(x)\n",
        "print(\"Number of non zero elements in the above array:\")\n",
        "print(np.count_nonzero(x))"
      ],
      "execution_count": 45,
      "outputs": [
        {
          "output_type": "stream",
          "text": [
            "Original array:\n",
            "[[ 0 10 20]\n",
            " [20 30 40]]\n",
            "Number of non zero elements in the above array:\n",
            "5\n"
          ],
          "name": "stdout"
        }
      ]
    },
    {
      "cell_type": "markdown",
      "metadata": {
        "id": "SEGfhb3pnIvj",
        "colab_type": "text"
      },
      "source": [
        "**64, Viết chương trình NumPy để tạo ma trận 5x5 với các giá trị hàng nằm trong khoảng từ 0 đến 4.**\n",
        "\n",
        "**Write a NumPy program to create a 5x5 matrix with row values ranging from 0 to 4.**\n",
        "\n",
        "![alt text](https://www.w3resource.com/w3r_images/python-numpy-image-exercise-64.png)"
      ]
    },
    {
      "cell_type": "code",
      "metadata": {
        "id": "5XptND8Um-wn",
        "colab_type": "code",
        "colab": {
          "base_uri": "https://localhost:8080/",
          "height": 221
        },
        "outputId": "7eae9913-caf0-436b-eba0-1da083688c7b"
      },
      "source": [
        "x = np.zeros((5,5))\n",
        "print(\"Original array:\")\n",
        "print(x)\n",
        "print(\"Row values ranging from 0 to 4.\")\n",
        "x += np.arange(5)\n",
        "print(x)"
      ],
      "execution_count": 46,
      "outputs": [
        {
          "output_type": "stream",
          "text": [
            "Original array:\n",
            "[[0. 0. 0. 0. 0.]\n",
            " [0. 0. 0. 0. 0.]\n",
            " [0. 0. 0. 0. 0.]\n",
            " [0. 0. 0. 0. 0.]\n",
            " [0. 0. 0. 0. 0.]]\n",
            "Row values ranging from 0 to 4.\n",
            "[[0. 1. 2. 3. 4.]\n",
            " [0. 1. 2. 3. 4.]\n",
            " [0. 1. 2. 3. 4.]\n",
            " [0. 1. 2. 3. 4.]\n",
            " [0. 1. 2. 3. 4.]]\n"
          ],
          "name": "stdout"
        }
      ]
    },
    {
      "cell_type": "markdown",
      "metadata": {
        "id": "KphqlYponjp5",
        "colab_type": "text"
      },
      "source": [
        "**65, Viết chương trình NumPy để kiểm tra xem các giá trị được chỉ định có trong một mảng hay không.**\n",
        "\n",
        "**Write a NumPy program to test whether specified values are present in an array.**\n",
        "\n",
        "![alt text](https://www.w3resource.com/w3r_images/python-numpy-image-exercise-65.png)"
      ]
    },
    {
      "cell_type": "code",
      "metadata": {
        "id": "aVmS7l2Wngat",
        "colab_type": "code",
        "colab": {
          "base_uri": "https://localhost:8080/",
          "height": 153
        },
        "outputId": "e9d5a066-b2b4-4872-d92a-278b4395e039"
      },
      "source": [
        "x = np.array([[1.12, 2.0, 3.45], [2.33, 5.12, 6.0]], float) \n",
        "print(\"Original array:\")\n",
        "print(x)\n",
        "print(2 in x)\n",
        "print(0 in x)\n",
        "print(6 in x)\n",
        "print(2.3 in x)\n",
        "print(5.12 in x)"
      ],
      "execution_count": 47,
      "outputs": [
        {
          "output_type": "stream",
          "text": [
            "Original array:\n",
            "[[1.12 2.   3.45]\n",
            " [2.33 5.12 6.  ]]\n",
            "True\n",
            "False\n",
            "True\n",
            "False\n",
            "True\n"
          ],
          "name": "stdout"
        }
      ]
    },
    {
      "cell_type": "markdown",
      "metadata": {
        "id": "5XSFBaVYn1A6",
        "colab_type": "text"
      },
      "source": [
        "**66, Viết chương trình NumPy để tạo một vectơ kích thước 10 với các giá trị nằm trong khoảng từ 0 đến 1, cả hai đều bị loại trừ.**\n",
        "\n",
        "**Write a NumPy program to create a vector of size 10 with values ranging from 0 to 1, both excluded.**\n",
        "\n",
        "![alt text](https://www.w3resource.com/w3r_images/python-numpy-image-exercise-66.png)"
      ]
    },
    {
      "cell_type": "code",
      "metadata": {
        "id": "AVw2WzBYnvQ2",
        "colab_type": "code",
        "colab": {
          "base_uri": "https://localhost:8080/",
          "height": 51
        },
        "outputId": "8aff65a7-e610-45a5-bad9-fd103963baa0"
      },
      "source": [
        "x = np.linspace(0,1,12, endpoint=True)[1:-1]\n",
        "print(x)"
      ],
      "execution_count": 48,
      "outputs": [
        {
          "output_type": "stream",
          "text": [
            "[0.09090909 0.18181818 0.27272727 0.36363636 0.45454545 0.54545455\n",
            " 0.63636364 0.72727273 0.81818182 0.90909091]\n"
          ],
          "name": "stdout"
        }
      ]
    },
    {
      "cell_type": "markdown",
      "metadata": {
        "id": "sYX8RAXwoPG-",
        "colab_type": "text"
      },
      "source": [
        "**67, Viết chương trình NumPy để tạo một mảng bất biến (chỉ đọc).**\n",
        "\n",
        "**Write a NumPy program to make an array immutable (read-only).**\n",
        "\n"
      ]
    },
    {
      "cell_type": "code",
      "metadata": {
        "id": "t8Vm7AApoEDF",
        "colab_type": "code",
        "colab": {
          "base_uri": "https://localhost:8080/",
          "height": 231
        },
        "outputId": "3365d2df-7fff-4c67-fd25-d93d15465105"
      },
      "source": [
        "x = np.zeros(10)\n",
        "x.flags.writeable = False\n",
        "print(\"Test the array is read-only or not:\")\n",
        "print(\"Try to change the value of the first element:\")\n",
        "x[0] = 1"
      ],
      "execution_count": 49,
      "outputs": [
        {
          "output_type": "stream",
          "text": [
            "Test the array is read-only or not:\n",
            "Try to change the value of the first element:\n"
          ],
          "name": "stdout"
        },
        {
          "output_type": "error",
          "ename": "ValueError",
          "evalue": "ignored",
          "traceback": [
            "\u001b[0;31m---------------------------------------------------------------------------\u001b[0m",
            "\u001b[0;31mValueError\u001b[0m                                Traceback (most recent call last)",
            "\u001b[0;32m<ipython-input-49-068775d0fc55>\u001b[0m in \u001b[0;36m<module>\u001b[0;34m()\u001b[0m\n\u001b[1;32m      3\u001b[0m \u001b[0mprint\u001b[0m\u001b[0;34m(\u001b[0m\u001b[0;34m\"Test the array is read-only or not:\"\u001b[0m\u001b[0;34m)\u001b[0m\u001b[0;34m\u001b[0m\u001b[0;34m\u001b[0m\u001b[0m\n\u001b[1;32m      4\u001b[0m \u001b[0mprint\u001b[0m\u001b[0;34m(\u001b[0m\u001b[0;34m\"Try to change the value of the first element:\"\u001b[0m\u001b[0;34m)\u001b[0m\u001b[0;34m\u001b[0m\u001b[0;34m\u001b[0m\u001b[0m\n\u001b[0;32m----> 5\u001b[0;31m \u001b[0mx\u001b[0m\u001b[0;34m[\u001b[0m\u001b[0;36m0\u001b[0m\u001b[0;34m]\u001b[0m \u001b[0;34m=\u001b[0m \u001b[0;36m1\u001b[0m\u001b[0;34m\u001b[0m\u001b[0;34m\u001b[0m\u001b[0m\n\u001b[0m",
            "\u001b[0;31mValueError\u001b[0m: assignment destination is read-only"
          ]
        }
      ]
    },
    {
      "cell_type": "markdown",
      "metadata": {
        "id": "zqwY_7oLofel",
        "colab_type": "text"
      },
      "source": [
        "**68, Viết chương trình NumPy (sử dụng numpy) để tổng tất cả các bội số của 3 hoặc 5 dưới 100.**\n",
        "\n",
        "**Write a NumPy program (using numpy) to sum of all the multiples of 3 or 5 below 100.**\n",
        "\n",
        "![alt text](https://www.w3resource.com/w3r_images/python-numpy-image-exercise-68.png)"
      ]
    },
    {
      "cell_type": "code",
      "metadata": {
        "id": "P6-UjLbUoXjU",
        "colab_type": "code",
        "colab": {
          "base_uri": "https://localhost:8080/",
          "height": 68
        },
        "outputId": "701067af-bb27-4944-f0e1-da50e947a63c"
      },
      "source": [
        "x = np.arange(1, 100)\n",
        "n = x[(x % 3 == 0) | (x % 5 == 0) ]\n",
        "print(n[:1000])\n",
        "print(n.sum())"
      ],
      "execution_count": 50,
      "outputs": [
        {
          "output_type": "stream",
          "text": [
            "[ 3  5  6  9 10 12 15 18 20 21 24 25 27 30 33 35 36 39 40 42 45 48 50 51\n",
            " 54 55 57 60 63 65 66 69 70 72 75 78 80 81 84 85 87 90 93 95 96 99]\n",
            "2318\n"
          ],
          "name": "stdout"
        }
      ]
    },
    {
      "cell_type": "markdown",
      "metadata": {
        "id": "6bnejmWSpaP1",
        "colab_type": "text"
      },
      "source": [
        "**69, Viết chương trình NumPy để tạo một mảng có 10 ^ 3 phần tử.**\n",
        "\n",
        "**Write a NumPy program to create an array with 10^3 elements.**\n",
        "\n"
      ]
    },
    {
      "cell_type": "code",
      "metadata": {
        "id": "PsRqxyu9o0xN",
        "colab_type": "code",
        "colab": {
          "base_uri": "https://localhost:8080/",
          "height": 1000
        },
        "outputId": "20d005b2-9bcd-4884-8ed2-c3397b4680fd"
      },
      "source": [
        "x = np.arange(1e3)\n",
        "print(x)"
      ],
      "execution_count": 51,
      "outputs": [
        {
          "output_type": "stream",
          "text": [
            "[  0.   1.   2.   3.   4.   5.   6.   7.   8.   9.  10.  11.  12.  13.\n",
            "  14.  15.  16.  17.  18.  19.  20.  21.  22.  23.  24.  25.  26.  27.\n",
            "  28.  29.  30.  31.  32.  33.  34.  35.  36.  37.  38.  39.  40.  41.\n",
            "  42.  43.  44.  45.  46.  47.  48.  49.  50.  51.  52.  53.  54.  55.\n",
            "  56.  57.  58.  59.  60.  61.  62.  63.  64.  65.  66.  67.  68.  69.\n",
            "  70.  71.  72.  73.  74.  75.  76.  77.  78.  79.  80.  81.  82.  83.\n",
            "  84.  85.  86.  87.  88.  89.  90.  91.  92.  93.  94.  95.  96.  97.\n",
            "  98.  99. 100. 101. 102. 103. 104. 105. 106. 107. 108. 109. 110. 111.\n",
            " 112. 113. 114. 115. 116. 117. 118. 119. 120. 121. 122. 123. 124. 125.\n",
            " 126. 127. 128. 129. 130. 131. 132. 133. 134. 135. 136. 137. 138. 139.\n",
            " 140. 141. 142. 143. 144. 145. 146. 147. 148. 149. 150. 151. 152. 153.\n",
            " 154. 155. 156. 157. 158. 159. 160. 161. 162. 163. 164. 165. 166. 167.\n",
            " 168. 169. 170. 171. 172. 173. 174. 175. 176. 177. 178. 179. 180. 181.\n",
            " 182. 183. 184. 185. 186. 187. 188. 189. 190. 191. 192. 193. 194. 195.\n",
            " 196. 197. 198. 199. 200. 201. 202. 203. 204. 205. 206. 207. 208. 209.\n",
            " 210. 211. 212. 213. 214. 215. 216. 217. 218. 219. 220. 221. 222. 223.\n",
            " 224. 225. 226. 227. 228. 229. 230. 231. 232. 233. 234. 235. 236. 237.\n",
            " 238. 239. 240. 241. 242. 243. 244. 245. 246. 247. 248. 249. 250. 251.\n",
            " 252. 253. 254. 255. 256. 257. 258. 259. 260. 261. 262. 263. 264. 265.\n",
            " 266. 267. 268. 269. 270. 271. 272. 273. 274. 275. 276. 277. 278. 279.\n",
            " 280. 281. 282. 283. 284. 285. 286. 287. 288. 289. 290. 291. 292. 293.\n",
            " 294. 295. 296. 297. 298. 299. 300. 301. 302. 303. 304. 305. 306. 307.\n",
            " 308. 309. 310. 311. 312. 313. 314. 315. 316. 317. 318. 319. 320. 321.\n",
            " 322. 323. 324. 325. 326. 327. 328. 329. 330. 331. 332. 333. 334. 335.\n",
            " 336. 337. 338. 339. 340. 341. 342. 343. 344. 345. 346. 347. 348. 349.\n",
            " 350. 351. 352. 353. 354. 355. 356. 357. 358. 359. 360. 361. 362. 363.\n",
            " 364. 365. 366. 367. 368. 369. 370. 371. 372. 373. 374. 375. 376. 377.\n",
            " 378. 379. 380. 381. 382. 383. 384. 385. 386. 387. 388. 389. 390. 391.\n",
            " 392. 393. 394. 395. 396. 397. 398. 399. 400. 401. 402. 403. 404. 405.\n",
            " 406. 407. 408. 409. 410. 411. 412. 413. 414. 415. 416. 417. 418. 419.\n",
            " 420. 421. 422. 423. 424. 425. 426. 427. 428. 429. 430. 431. 432. 433.\n",
            " 434. 435. 436. 437. 438. 439. 440. 441. 442. 443. 444. 445. 446. 447.\n",
            " 448. 449. 450. 451. 452. 453. 454. 455. 456. 457. 458. 459. 460. 461.\n",
            " 462. 463. 464. 465. 466. 467. 468. 469. 470. 471. 472. 473. 474. 475.\n",
            " 476. 477. 478. 479. 480. 481. 482. 483. 484. 485. 486. 487. 488. 489.\n",
            " 490. 491. 492. 493. 494. 495. 496. 497. 498. 499. 500. 501. 502. 503.\n",
            " 504. 505. 506. 507. 508. 509. 510. 511. 512. 513. 514. 515. 516. 517.\n",
            " 518. 519. 520. 521. 522. 523. 524. 525. 526. 527. 528. 529. 530. 531.\n",
            " 532. 533. 534. 535. 536. 537. 538. 539. 540. 541. 542. 543. 544. 545.\n",
            " 546. 547. 548. 549. 550. 551. 552. 553. 554. 555. 556. 557. 558. 559.\n",
            " 560. 561. 562. 563. 564. 565. 566. 567. 568. 569. 570. 571. 572. 573.\n",
            " 574. 575. 576. 577. 578. 579. 580. 581. 582. 583. 584. 585. 586. 587.\n",
            " 588. 589. 590. 591. 592. 593. 594. 595. 596. 597. 598. 599. 600. 601.\n",
            " 602. 603. 604. 605. 606. 607. 608. 609. 610. 611. 612. 613. 614. 615.\n",
            " 616. 617. 618. 619. 620. 621. 622. 623. 624. 625. 626. 627. 628. 629.\n",
            " 630. 631. 632. 633. 634. 635. 636. 637. 638. 639. 640. 641. 642. 643.\n",
            " 644. 645. 646. 647. 648. 649. 650. 651. 652. 653. 654. 655. 656. 657.\n",
            " 658. 659. 660. 661. 662. 663. 664. 665. 666. 667. 668. 669. 670. 671.\n",
            " 672. 673. 674. 675. 676. 677. 678. 679. 680. 681. 682. 683. 684. 685.\n",
            " 686. 687. 688. 689. 690. 691. 692. 693. 694. 695. 696. 697. 698. 699.\n",
            " 700. 701. 702. 703. 704. 705. 706. 707. 708. 709. 710. 711. 712. 713.\n",
            " 714. 715. 716. 717. 718. 719. 720. 721. 722. 723. 724. 725. 726. 727.\n",
            " 728. 729. 730. 731. 732. 733. 734. 735. 736. 737. 738. 739. 740. 741.\n",
            " 742. 743. 744. 745. 746. 747. 748. 749. 750. 751. 752. 753. 754. 755.\n",
            " 756. 757. 758. 759. 760. 761. 762. 763. 764. 765. 766. 767. 768. 769.\n",
            " 770. 771. 772. 773. 774. 775. 776. 777. 778. 779. 780. 781. 782. 783.\n",
            " 784. 785. 786. 787. 788. 789. 790. 791. 792. 793. 794. 795. 796. 797.\n",
            " 798. 799. 800. 801. 802. 803. 804. 805. 806. 807. 808. 809. 810. 811.\n",
            " 812. 813. 814. 815. 816. 817. 818. 819. 820. 821. 822. 823. 824. 825.\n",
            " 826. 827. 828. 829. 830. 831. 832. 833. 834. 835. 836. 837. 838. 839.\n",
            " 840. 841. 842. 843. 844. 845. 846. 847. 848. 849. 850. 851. 852. 853.\n",
            " 854. 855. 856. 857. 858. 859. 860. 861. 862. 863. 864. 865. 866. 867.\n",
            " 868. 869. 870. 871. 872. 873. 874. 875. 876. 877. 878. 879. 880. 881.\n",
            " 882. 883. 884. 885. 886. 887. 888. 889. 890. 891. 892. 893. 894. 895.\n",
            " 896. 897. 898. 899. 900. 901. 902. 903. 904. 905. 906. 907. 908. 909.\n",
            " 910. 911. 912. 913. 914. 915. 916. 917. 918. 919. 920. 921. 922. 923.\n",
            " 924. 925. 926. 927. 928. 929. 930. 931. 932. 933. 934. 935. 936. 937.\n",
            " 938. 939. 940. 941. 942. 943. 944. 945. 946. 947. 948. 949. 950. 951.\n",
            " 952. 953. 954. 955. 956. 957. 958. 959. 960. 961. 962. 963. 964. 965.\n",
            " 966. 967. 968. 969. 970. 971. 972. 973. 974. 975. 976. 977. 978. 979.\n",
            " 980. 981. 982. 983. 984. 985. 986. 987. 988. 989. 990. 991. 992. 993.\n",
            " 994. 995. 996. 997. 998. 999.]\n"
          ],
          "name": "stdout"
        }
      ]
    },
    {
      "cell_type": "markdown",
      "metadata": {
        "id": "w6R-YSERplky",
        "colab_type": "text"
      },
      "source": [
        "**70, Viết chương trình NumPy để tạo và hiển thị mọi phần tử của mảng numpy.**\n",
        "\n",
        "**Write a NumPy program to create and display every element of a numpy array.**\n",
        "\n"
      ]
    },
    {
      "cell_type": "code",
      "metadata": {
        "id": "qyt0QN3hpgnb",
        "colab_type": "code",
        "colab": {
          "base_uri": "https://localhost:8080/",
          "height": 34
        },
        "outputId": "08a0cd07-4d04-402e-f8dc-329bc85031a0"
      },
      "source": [
        "x = np.arange(12).reshape(3, 4)\n",
        "for x in np.nditer(x):\n",
        "  print(x, end=' ')\n",
        "print()"
      ],
      "execution_count": 54,
      "outputs": [
        {
          "output_type": "stream",
          "text": [
            "0 1 2 3 4 5 6 7 8 9 10 11 \n"
          ],
          "name": "stdout"
        }
      ]
    },
    {
      "cell_type": "markdown",
      "metadata": {
        "id": "8fBybnXvqn9q",
        "colab_type": "text"
      },
      "source": [
        "**71, Viết chương trình NumPy để tạo và hiển thị mọi phần tử của một mảng numpy theo thứ tự Fortran.**\n",
        "\n",
        "**Write a NumPy program to create and display every element of a numpy array in Fortran order.**\n",
        "\n"
      ]
    },
    {
      "cell_type": "code",
      "metadata": {
        "id": "VX3ib2yGp0CT",
        "colab_type": "code",
        "colab": {
          "base_uri": "https://localhost:8080/",
          "height": 68
        },
        "outputId": "0a44e1c4-e705-4a1b-d564-b6b3fd010e55"
      },
      "source": [
        "x = np.arange(12).reshape(3, 4)\n",
        "print(\"Elements of the array in Fortan array: \")\n",
        "for x in np.nditer(x, order=\"F\"):\n",
        "  print(x, end=' ')\n",
        "print(\"\\n\")"
      ],
      "execution_count": 55,
      "outputs": [
        {
          "output_type": "stream",
          "text": [
            "Elements of the array in Fortan array: \n",
            "0 4 8 1 5 9 2 6 10 3 7 11 \n",
            "\n"
          ],
          "name": "stdout"
        }
      ]
    },
    {
      "cell_type": "markdown",
      "metadata": {
        "id": "HEi9nDvqq-ER",
        "colab_type": "text"
      },
      "source": [
        "**72, Viết chương trình NumPy để tạo khối 5x5x5 bằng 1.**\n",
        "\n",
        "**Write a NumPy program to create a 5x5x5 cube of 1's.**\n",
        "\n",
        "![alt text](https://www.w3resource.com/w3r_images/python-numpy-image-exercise-72.png)"
      ]
    },
    {
      "cell_type": "code",
      "metadata": {
        "id": "krT4ZaQZq4ne",
        "colab_type": "code",
        "colab": {
          "base_uri": "https://localhost:8080/",
          "height": 510
        },
        "outputId": "d2fccdd7-8cfb-4221-8c87-f819549c891e"
      },
      "source": [
        "x = np.zeros((5, 5, 5)).astype(int) + 1\n",
        "print(x)"
      ],
      "execution_count": 56,
      "outputs": [
        {
          "output_type": "stream",
          "text": [
            "[[[1 1 1 1 1]\n",
            "  [1 1 1 1 1]\n",
            "  [1 1 1 1 1]\n",
            "  [1 1 1 1 1]\n",
            "  [1 1 1 1 1]]\n",
            "\n",
            " [[1 1 1 1 1]\n",
            "  [1 1 1 1 1]\n",
            "  [1 1 1 1 1]\n",
            "  [1 1 1 1 1]\n",
            "  [1 1 1 1 1]]\n",
            "\n",
            " [[1 1 1 1 1]\n",
            "  [1 1 1 1 1]\n",
            "  [1 1 1 1 1]\n",
            "  [1 1 1 1 1]\n",
            "  [1 1 1 1 1]]\n",
            "\n",
            " [[1 1 1 1 1]\n",
            "  [1 1 1 1 1]\n",
            "  [1 1 1 1 1]\n",
            "  [1 1 1 1 1]\n",
            "  [1 1 1 1 1]]\n",
            "\n",
            " [[1 1 1 1 1]\n",
            "  [1 1 1 1 1]\n",
            "  [1 1 1 1 1]\n",
            "  [1 1 1 1 1]\n",
            "  [1 1 1 1 1]]]\n"
          ],
          "name": "stdout"
        }
      ]
    },
    {
      "cell_type": "markdown",
      "metadata": {
        "id": "2i1dUXqprP75",
        "colab_type": "text"
      },
      "source": [
        "**73, Viết chương trình NumPy để tạo một mảng có hình dạng (3, 4), nhân mọi giá trị phần tử với 3 và hiển thị mảng mới.**\n",
        "\n",
        "**Write a NumPy program to create an array of (3, 4) shape, multiply every element value by 3 and display the new array.**\n",
        "\n",
        "![alt text](https://www.w3resource.com/w3r_images/python-numpy-image-exercise-73.png)"
      ]
    },
    {
      "cell_type": "code",
      "metadata": {
        "id": "KHIeZ9mYrKMC",
        "colab_type": "code",
        "colab": {
          "base_uri": "https://localhost:8080/",
          "height": 153
        },
        "outputId": "fcf90ed6-8b20-4027-b3e9-b242e97655c8"
      },
      "source": [
        "x = np.arange(12).reshape(3, 4)\n",
        "print(\"Original array elements: \")\n",
        "print(x)\n",
        "for a in np.nditer(x, op_flags=['readwrite']):\n",
        "  a[...] = 3 * a\n",
        "print(\"New array elements: \")\n",
        "print(x)"
      ],
      "execution_count": 57,
      "outputs": [
        {
          "output_type": "stream",
          "text": [
            "Original array elements: \n",
            "[[ 0  1  2  3]\n",
            " [ 4  5  6  7]\n",
            " [ 8  9 10 11]]\n",
            "New array elements: \n",
            "[[ 0  3  6  9]\n",
            " [12 15 18 21]\n",
            " [24 27 30 33]]\n"
          ],
          "name": "stdout"
        }
      ]
    },
    {
      "cell_type": "markdown",
      "metadata": {
        "id": "V2eLmKLZrxq5",
        "colab_type": "text"
      },
      "source": [
        "**74, Viết chương trình NumPy để kết hợp một mảng một và hai chiều với nhau và hiển thị các phần tử của chúng.**\n",
        "\n",
        "**Write a NumPy program to combine a one and a two dimensional array together and display their elements.**\n",
        "\n",
        "![alt text](https://www.w3resource.com/w3r_images/python-numpy-image-exercise-74.png)"
      ]
    },
    {
      "cell_type": "code",
      "metadata": {
        "id": "kPNK_2h6rpxi",
        "colab_type": "code",
        "colab": {
          "base_uri": "https://localhost:8080/",
          "height": 238
        },
        "outputId": "4357a5b6-77d0-467d-a486-c3546bb5f3d8"
      },
      "source": [
        "x = np.arange(4)\n",
        "print(\"One dimensional array: \")\n",
        "print(x)\n",
        "y = np.arange(8).reshape(2,4)\n",
        "print(\"Two dimensional array: \")\n",
        "print(y)\n",
        "for a, b in np.nditer([x, y]):\n",
        "  print(\"%d : %d\" % (a,b))"
      ],
      "execution_count": 58,
      "outputs": [
        {
          "output_type": "stream",
          "text": [
            "One dimensional array: \n",
            "[0 1 2 3]\n",
            "Two dimensional array: \n",
            "[[0 1 2 3]\n",
            " [4 5 6 7]]\n",
            "0 : 0\n",
            "1 : 1\n",
            "2 : 2\n",
            "3 : 3\n",
            "0 : 4\n",
            "1 : 5\n",
            "2 : 6\n",
            "3 : 7\n"
          ],
          "name": "stdout"
        }
      ]
    },
    {
      "cell_type": "markdown",
      "metadata": {
        "id": "e0CHEvkysUnQ",
        "colab_type": "text"
      },
      "source": [
        "**75, Viết chương trình NumPy để tạo một mảng các số không và ba loại cột (số nguyên, số float, ký tự).**\n",
        "\n",
        "**Write a NumPy program to create an array of zeros and three column types (integer, float, character).**\n"
      ]
    },
    {
      "cell_type": "code",
      "metadata": {
        "id": "Yq2IPNYmsKfC",
        "colab_type": "code",
        "colab": {
          "base_uri": "https://localhost:8080/",
          "height": 51
        },
        "outputId": "90bdb600-b5ec-4c7e-95ff-bac5d56de49e"
      },
      "source": [
        "x = np.zeros((3,), dtype=('i4,f4, a40'))\n",
        "new_data = [(1, 2., \"Albert Einstein\"), (2, 2., \"Edmond Halley\"), (3, 3., \"Gertrude B. Elion\")]\n",
        "x[:] = new_data\n",
        "print(x)"
      ],
      "execution_count": 59,
      "outputs": [
        {
          "output_type": "stream",
          "text": [
            "[(1, 2., b'Albert Einstein') (2, 2., b'Edmond Halley')\n",
            " (3, 3., b'Gertrude B. Elion')]\n"
          ],
          "name": "stdout"
        }
      ]
    },
    {
      "cell_type": "markdown",
      "metadata": {
        "id": "xjgpRjxFswBc",
        "colab_type": "text"
      },
      "source": [
        "**76, Viết chương trình NumPy để tạo một khối chức năng, tạo ra tất cả các phần tử của một mảng.**\n",
        "\n",
        "**Write a NumPy program to create a function cube which cubes all the elements of an array.**\n",
        "\n",
        "![alt text](https://www.w3resource.com/w3r_images/python-numpy-image-exercise-76.png)"
      ]
    },
    {
      "cell_type": "code",
      "metadata": {
        "id": "cxQHEVwvsl8d",
        "colab_type": "code",
        "colab": {
          "base_uri": "https://localhost:8080/",
          "height": 34
        },
        "outputId": "259e28c5-ee5f-4a5d-c29f-1cf79eb0c0a9"
      },
      "source": [
        "def cube(e):\n",
        "  it = np.nditer([e, None])\n",
        "  for a, b in it:\n",
        "    b[...] = a*a*a\n",
        "  return it.operands[1]\n",
        "print(cube([1, 2, 3]))"
      ],
      "execution_count": 60,
      "outputs": [
        {
          "output_type": "stream",
          "text": [
            "[ 1  8 27]\n"
          ],
          "name": "stdout"
        }
      ]
    },
    {
      "cell_type": "markdown",
      "metadata": {
        "id": "j_kFYvmmtJaB",
        "colab_type": "text"
      },
      "source": [
        "**77, Viết chương trình NumPy để tạo một mảng có hình dạng (3, 4) và chuyển đổi các phần tử mảng thành các phần nhỏ hơn.**\n",
        "\n",
        "**Write a NumPy program to create an array of (3, 4) shape and convert the array elements in smaller chunks.**\n",
        "\n",
        "![alt text](https://www.w3resource.com/w3r_images/python-numpy-image-exercise-77.png)"
      ]
    },
    {
      "cell_type": "code",
      "metadata": {
        "id": "eFghUC62tF57",
        "colab_type": "code",
        "colab": {
          "base_uri": "https://localhost:8080/",
          "height": 170
        },
        "outputId": "21661942-b181-4c86-94b4-9c3f847237ca"
      },
      "source": [
        "x= np.arange(12).reshape(3, 4)\n",
        "print(\"Original array elements:\")\n",
        "print(x)\n",
        "print(\"Above array in small chuncks:\")\n",
        "for a in np.nditer(x, flags=['external_loop'], order='F'):\n",
        "  print(a)"
      ],
      "execution_count": 61,
      "outputs": [
        {
          "output_type": "stream",
          "text": [
            "Original array elements:\n",
            "[[ 0  1  2  3]\n",
            " [ 4  5  6  7]\n",
            " [ 8  9 10 11]]\n",
            "Above array in small chuncks:\n",
            "[0 4 8]\n",
            "[1 5 9]\n",
            "[ 2  6 10]\n",
            "[ 3  7 11]\n"
          ],
          "name": "stdout"
        }
      ]
    },
    {
      "cell_type": "markdown",
      "metadata": {
        "id": "exEE18aztgJU",
        "colab_type": "text"
      },
      "source": [
        "**78, Viết chương trình NumPy để tạo một mảng bản ghi từ danh sách các mảng (phẳng).**\n",
        "\n",
        "**Write a NumPy program to create a record array from a (flat) list of arrays.**\n",
        "\n",
        "![alt text](https://www.w3resource.com/w3r_images/python-numpy-image-exercise-78.png)"
      ]
    },
    {
      "cell_type": "code",
      "metadata": {
        "id": "dCVkpLbLtbO6",
        "colab_type": "code",
        "colab": {
          "base_uri": "https://localhost:8080/",
          "height": 68
        },
        "outputId": "45c84a14-19f1-44b4-ba86-6b0ffcdba8d3"
      },
      "source": [
        "a1=np.array([1,2,3,4])\n",
        "a2=np.array(['Red','Green','White','Orange'])\n",
        "a3=np.array([12.20,15,20,40])\n",
        "result = np.core.records.fromarrays([a1, a2, a3], names='a,b,c')\n",
        "print(result[0])\n",
        "print(result[1])\n",
        "print(result[2])"
      ],
      "execution_count": 62,
      "outputs": [
        {
          "output_type": "stream",
          "text": [
            "(1, 'Red', 12.2)\n",
            "(2, 'Green', 15.)\n",
            "(3, 'White', 20.)\n"
          ],
          "name": "stdout"
        }
      ]
    },
    {
      "cell_type": "markdown",
      "metadata": {
        "id": "E0eDTVLSt7i1",
        "colab_type": "text"
      },
      "source": [
        "**79, Viết chương trình NumPy để tạo một mảng giống như Gaussian 2D.**\n",
        "\n",
        "**Write a NumPy program to generate a generic 2D Gaussian-like array.**\n",
        "\n"
      ]
    },
    {
      "cell_type": "code",
      "metadata": {
        "id": "2Exrcv62t09p",
        "colab_type": "code",
        "colab": {
          "base_uri": "https://localhost:8080/",
          "height": 374
        },
        "outputId": "dccc2b41-27e0-4ac5-f76c-d36d7105d6fa"
      },
      "source": [
        "x, y = np.meshgrid(np.linspace(-1, 1, 10), np.linspace(-1, 1, 10))\n",
        "d = np.sqrt(x*x + y*y)\n",
        "sigma, mu = 1.0, 0.0\n",
        "g = np.exp(- (d-mu)**2 / (2.0 *sigma **2))\n",
        "print(\"2D Gaussian-like array:\")\n",
        "print(g)"
      ],
      "execution_count": 64,
      "outputs": [
        {
          "output_type": "stream",
          "text": [
            "2D Gaussian-like array:\n",
            "[[0.36787944 0.44822088 0.51979489 0.57375342 0.60279818 0.60279818\n",
            "  0.57375342 0.51979489 0.44822088 0.36787944]\n",
            " [0.44822088 0.54610814 0.63331324 0.69905581 0.73444367 0.73444367\n",
            "  0.69905581 0.63331324 0.54610814 0.44822088]\n",
            " [0.51979489 0.63331324 0.73444367 0.81068432 0.85172308 0.85172308\n",
            "  0.81068432 0.73444367 0.63331324 0.51979489]\n",
            " [0.57375342 0.69905581 0.81068432 0.89483932 0.9401382  0.9401382\n",
            "  0.89483932 0.81068432 0.69905581 0.57375342]\n",
            " [0.60279818 0.73444367 0.85172308 0.9401382  0.98773022 0.98773022\n",
            "  0.9401382  0.85172308 0.73444367 0.60279818]\n",
            " [0.60279818 0.73444367 0.85172308 0.9401382  0.98773022 0.98773022\n",
            "  0.9401382  0.85172308 0.73444367 0.60279818]\n",
            " [0.57375342 0.69905581 0.81068432 0.89483932 0.9401382  0.9401382\n",
            "  0.89483932 0.81068432 0.69905581 0.57375342]\n",
            " [0.51979489 0.63331324 0.73444367 0.81068432 0.85172308 0.85172308\n",
            "  0.81068432 0.73444367 0.63331324 0.51979489]\n",
            " [0.44822088 0.54610814 0.63331324 0.69905581 0.73444367 0.73444367\n",
            "  0.69905581 0.63331324 0.54610814 0.44822088]\n",
            " [0.36787944 0.44822088 0.51979489 0.57375342 0.60279818 0.60279818\n",
            "  0.57375342 0.51979489 0.44822088 0.36787944]]\n"
          ],
          "name": "stdout"
        }
      ]
    },
    {
      "cell_type": "markdown",
      "metadata": {
        "id": "Qrb4CX9WuWZK",
        "colab_type": "text"
      },
      "source": [
        "**80, Viết chương trình NumPy để chuyển đổi một mảng NumPy thành cấu trúc danh sách Python.**\n",
        "\n",
        "**Write a NumPy program to convert a NumPy array into Python list structure.**\n",
        "\n",
        "![alt text](https://www.w3resource.com/w3r_images/python-numpy-image-exercise-80.png)"
      ]
    },
    {
      "cell_type": "code",
      "metadata": {
        "id": "Li3qDJLeuRkv",
        "colab_type": "code",
        "colab": {
          "base_uri": "https://localhost:8080/",
          "height": 119
        },
        "outputId": "2773892f-f344-4edc-cc83-bfe963377c3a"
      },
      "source": [
        "x= np.arange(6).reshape(3, 2)\n",
        "print(\"Original array elements:\")\n",
        "print(x)\n",
        "print(\"Array to list:\")\n",
        "print(x.tolist())"
      ],
      "execution_count": 65,
      "outputs": [
        {
          "output_type": "stream",
          "text": [
            "Original array elements:\n",
            "[[0 1]\n",
            " [2 3]\n",
            " [4 5]]\n",
            "Array to list:\n",
            "[[0, 1], [2, 3], [4, 5]]\n"
          ],
          "name": "stdout"
        }
      ]
    },
    {
      "cell_type": "markdown",
      "metadata": {
        "id": "Yl9-wlgRupJA",
        "colab_type": "text"
      },
      "source": [
        "**81, Viết chương trình NumPy để truy cập một mảng theo cột.**\n",
        "\n",
        "**Write a NumPy program to access an array by column.**\n",
        "\n",
        "![alt text](https://www.w3resource.com/w3r_images/python-numpy-image-exercise-81.png)"
      ]
    },
    {
      "cell_type": "code",
      "metadata": {
        "id": "1OneisDLugLI",
        "colab_type": "code",
        "colab": {
          "base_uri": "https://localhost:8080/",
          "height": 204
        },
        "outputId": "e93c236e-d661-4533-bd77-c682c4f17feb"
      },
      "source": [
        "x= np.arange(9).reshape(3,3)\n",
        "print(\"Original array elements:\")\n",
        "print(x)\n",
        "print(\"Access an array by column:\")\n",
        "print(\"First column:\")\n",
        "print(x[:,0])\n",
        "print(\"Second column: \")\n",
        "print(x[:, 1])\n",
        "print(\"Third column: \")\n",
        "print(x[:, 2])"
      ],
      "execution_count": 66,
      "outputs": [
        {
          "output_type": "stream",
          "text": [
            "Original array elements:\n",
            "[[0 1 2]\n",
            " [3 4 5]\n",
            " [6 7 8]]\n",
            "Access an array by column:\n",
            "First column:\n",
            "[0 3 6]\n",
            "Second column: \n",
            "[1 4 7]\n",
            "Third column: \n",
            "[2 5 8]\n"
          ],
          "name": "stdout"
        }
      ]
    },
    {
      "cell_type": "markdown",
      "metadata": {
        "id": "HKSUz9HvvIRt",
        "colab_type": "text"
      },
      "source": [
        "**82, Viết chương trình NumPy để chuyển đổi một mảng NumPy của các giá trị float thành một mảng NumPy của các giá trị nguyên.**\n",
        "\n",
        "**Write a NumPy program to convert a NumPy array of float values to a NumPy array of integer values**\n",
        "\n",
        "![alt text](https://www.w3resource.com/w3r_images/python-numpy-image-exercise-82.png)"
      ]
    },
    {
      "cell_type": "code",
      "metadata": {
        "id": "OomlBj7VvDHI",
        "colab_type": "code",
        "colab": {
          "base_uri": "https://localhost:8080/",
          "height": 153
        },
        "outputId": "e4237e70-142f-4cfa-d2a7-4d892fab2ebf"
      },
      "source": [
        "x= np.array([[12.0, 12.51], [2.34, 7.98], [25.23, 36.50]])\n",
        "print(\"Original array elements:\")\n",
        "print(x)\n",
        "print(\"Convert float values to integer values:\")\n",
        "print(x.astype(int))"
      ],
      "execution_count": 67,
      "outputs": [
        {
          "output_type": "stream",
          "text": [
            "Original array elements:\n",
            "[[12.   12.51]\n",
            " [ 2.34  7.98]\n",
            " [25.23 36.5 ]]\n",
            "Convert float values to integer values:\n",
            "[[12 12]\n",
            " [ 2  7]\n",
            " [25 36]]\n"
          ],
          "name": "stdout"
        }
      ]
    },
    {
      "cell_type": "markdown",
      "metadata": {
        "id": "JShFYEO6v0O4",
        "colab_type": "text"
      },
      "source": [
        "**83, Viết chương trình NumPy để hiển thị các phần tử mảng NumPy của các giá trị nổi với độ chính xác đã cho.**\n",
        "\n",
        "**Write a NumPy program to display NumPy array elements of floating values with given precision.**\n",
        "\n"
      ]
    },
    {
      "cell_type": "code",
      "metadata": {
        "id": "L6N1sA36vUJF",
        "colab_type": "code",
        "colab": {
          "base_uri": "https://localhost:8080/",
          "height": 102
        },
        "outputId": "2b3ba9ab-9746-4a96-f2c0-17c295031dd7"
      },
      "source": [
        "x=np.array([ 0.26153123, 0.52760141, 0.5718299, 0.5927067, 0.7831874, 0.69746349,             \n",
        "  0.35399976, 0.99469633, 0.0694458, 0.54711478]) \n",
        "print(\"Original array elements:\")\n",
        "print(x)\n",
        "print(\"Print array values with precision 3:\")\n",
        "np.set_printoptions(precision=3)\n",
        "print(x)"
      ],
      "execution_count": 68,
      "outputs": [
        {
          "output_type": "stream",
          "text": [
            "Original array elements:\n",
            "[0.26153123 0.52760141 0.5718299  0.5927067  0.7831874  0.69746349\n",
            " 0.35399976 0.99469633 0.0694458  0.54711478]\n",
            "Print array values with precision 3:\n",
            "[0.262 0.528 0.572 0.593 0.783 0.697 0.354 0.995 0.069 0.547]\n"
          ],
          "name": "stdout"
        }
      ]
    },
    {
      "cell_type": "markdown",
      "metadata": {
        "id": "z3FqrvkewMCM",
        "colab_type": "text"
      },
      "source": [
        "**84, Viết chương trình NumPy để loại bỏ việc sử dụng ký hiệu khoa học cho các số nhỏ trong mảng NumPy.**\n",
        "\n",
        "**Write a NumPy program to suppresses the use of scientific notation for small numbers in NumPy array.**\n",
        "\n"
      ]
    },
    {
      "cell_type": "code",
      "metadata": {
        "id": "ZhO4cpCtwAYX",
        "colab_type": "code",
        "colab": {
          "base_uri": "https://localhost:8080/",
          "height": 85
        },
        "outputId": "bdade317-168f-46e7-e83a-256f62ebc044"
      },
      "source": [
        "x=np.array([1.6e-10, 1.6, 1200, .235]) \n",
        "print(\"Original array elements:\")\n",
        "print(x)\n",
        "print(\"Print array values with precision 3:\")\n",
        "np.set_printoptions(suppress=True)\n",
        "print(x)"
      ],
      "execution_count": 69,
      "outputs": [
        {
          "output_type": "stream",
          "text": [
            "Original array elements:\n",
            "[1.60e-10 1.60e+00 1.20e+03 2.35e-01]\n",
            "Print array values with precision 3:\n",
            "[   0.       1.6   1200.       0.235]\n"
          ],
          "name": "stdout"
        }
      ]
    },
    {
      "cell_type": "markdown",
      "metadata": {
        "id": "U6LQ1mI7wZxg",
        "colab_type": "text"
      },
      "source": [
        "**85, Viết chương trình NumPy để tạo một mảng NumPy gồm 10 số nguyên từ một trình tạo.**\n",
        "\n",
        "**Write a NumPy program to create a NumPy array of 10 integers from a generator.**\n",
        "\n",
        "![alt text](https://www.w3resource.com/w3r_images/python-numpy-image-exercise-85.png)"
      ]
    },
    {
      "cell_type": "code",
      "metadata": {
        "id": "obDF8l53wT3W",
        "colab_type": "code",
        "colab": {
          "base_uri": "https://localhost:8080/",
          "height": 34
        },
        "outputId": "434513f2-6f08-4265-d2f9-fc6870dfa466"
      },
      "source": [
        "iterable = (x for x in range(10))\n",
        "print(np.fromiter(iterable, np.int))"
      ],
      "execution_count": 70,
      "outputs": [
        {
          "output_type": "stream",
          "text": [
            "[0 1 2 3 4 5 6 7 8 9]\n"
          ],
          "name": "stdout"
        }
      ]
    },
    {
      "cell_type": "markdown",
      "metadata": {
        "id": "5h-cnBq8wr1E",
        "colab_type": "text"
      },
      "source": [
        "**86, Viết chương trình NumPy để thêm một cột phụ vào mảng NumPy.**\n",
        "\n",
        "**Write a NumPy program to add an extra column to a NumPy array.**\n",
        "\n",
        "![alt text](https://www.w3resource.com/w3r_images/python-numpy-image-exercise-86.png)"
      ]
    },
    {
      "cell_type": "code",
      "metadata": {
        "id": "OuzHRgnGwkgF",
        "colab_type": "code",
        "colab": {
          "base_uri": "https://localhost:8080/",
          "height": 51
        },
        "outputId": "1fc98be5-51b8-43ec-e9f0-faad4c77ae85"
      },
      "source": [
        "x = np.array([[10,20,30], [40,50,60]])\n",
        "y = np.array([[100], [200]])\n",
        "print(np.append(x, y, axis=1))"
      ],
      "execution_count": 71,
      "outputs": [
        {
          "output_type": "stream",
          "text": [
            "[[ 10  20  30 100]\n",
            " [ 40  50  60 200]]\n"
          ],
          "name": "stdout"
        }
      ]
    },
    {
      "cell_type": "markdown",
      "metadata": {
        "id": "MHakhmoyw8A5",
        "colab_type": "text"
      },
      "source": [
        "**87, Viết chương trình NumPy để tìm các hàng duy nhất trong mảng NumPy.**\n",
        "\n",
        "**Write a NumPy program to find unique rows in a NumPy array.**\n",
        "\n",
        "![alt text](https://www.w3resource.com/w3r_images/python-numpy-image-exercise-87.png)"
      ]
    },
    {
      "cell_type": "code",
      "metadata": {
        "id": "Z1tjiEv_w2cX",
        "colab_type": "code",
        "colab": {
          "base_uri": "https://localhost:8080/",
          "height": 187
        },
        "outputId": "200e61bb-cb8c-4f30-b4d9-44de79562882"
      },
      "source": [
        "x = np.array([[20, 20, 20, 0],\n",
        "              [0, 20, 20, 20],\n",
        "              [0, 20, 20, 20],\n",
        "              [20, 20, 20, 0],\n",
        "              [10, 20, 20,20]])\n",
        "print(\"Original array:\")\n",
        "print(x)\n",
        "y = np.ascontiguousarray(x).view(np.dtype((np.void, x.dtype.itemsize * x.shape[1])))\n",
        "_, idx = np.unique(y, return_index=True)\n",
        "\n",
        "unique_result = x[idx]\n",
        "print(\"Unique rows of the above array: \")\n",
        "print(unique_result)"
      ],
      "execution_count": 73,
      "outputs": [
        {
          "output_type": "stream",
          "text": [
            "Original array:\n",
            "[[20 20 20  0]\n",
            " [ 0 20 20 20]\n",
            " [ 0 20 20 20]\n",
            " [20 20 20  0]\n",
            " [10 20 20 20]]\n",
            "Unique rows of the above array: \n",
            "[[ 0 20 20 20]\n",
            " [10 20 20 20]\n",
            " [20 20 20  0]]\n"
          ],
          "name": "stdout"
        }
      ]
    },
    {
      "cell_type": "markdown",
      "metadata": {
        "id": "E1Z1VnNYxj70",
        "colab_type": "text"
      },
      "source": [
        "**88, Viết chương trình NumPy để thay thế tất cả các phần tử của mảng NumPy lớn hơn mảng đã chỉ định.**\n",
        "\n",
        "**Write a NumPy program to replace all elements of NumPy array that are greater than specified array.**\n",
        "\n",
        "![alt text](https://www.w3resource.com/w3r_images/python-numpy-image-exercise-88.png)"
      ]
    },
    {
      "cell_type": "code",
      "metadata": {
        "id": "Fisl_HnDxbU-",
        "colab_type": "code",
        "colab": {
          "base_uri": "https://localhost:8080/",
          "height": 153
        },
        "outputId": "9a01b192-7db9-47a8-c49d-1578454c115f"
      },
      "source": [
        "x = np.array([[ 0.42436315, 0.48558583, 0.32924763], [ 0.7439979,0.58220701,0.38213418], [ 0.5097581,0.34528799,0.1563123 ]])\n",
        "print(\"Original array:\")\n",
        "print(x)\n",
        "print(\"Replace all elements of the said array with .5 which are greater than .5\")\n",
        "x[x > .5] = .5\n",
        "print(x)"
      ],
      "execution_count": 74,
      "outputs": [
        {
          "output_type": "stream",
          "text": [
            "Original array:\n",
            "[[0.424 0.486 0.329]\n",
            " [0.744 0.582 0.382]\n",
            " [0.51  0.345 0.156]]\n",
            "Replace all elements of the said array with .5 which are greater than .5\n",
            "[[0.424 0.486 0.329]\n",
            " [0.5   0.5   0.382]\n",
            " [0.5   0.345 0.156]]\n"
          ],
          "name": "stdout"
        }
      ]
    },
    {
      "cell_type": "markdown",
      "metadata": {
        "id": "UbDsMMT8xy95",
        "colab_type": "text"
      },
      "source": [
        "**89, Viết chương trình NumPy để loại bỏ các phần tử cụ thể trong mảng NumPy.**\n",
        "\n",
        "**Write a NumPy program to remove specific elements in a NumPy array.**\n",
        "\n",
        "![alt text](https://www.w3resource.com/w3r_images/python-numpy-image-exercise-89.png)"
      ]
    },
    {
      "cell_type": "code",
      "metadata": {
        "id": "3xrbGtf1xtP-",
        "colab_type": "code",
        "colab": {
          "base_uri": "https://localhost:8080/",
          "height": 85
        },
        "outputId": "e7dfe132-52d4-4e1e-adda-9f8997246910"
      },
      "source": [
        "x = np.array([10, 20, 30, 40, 50, 60, 70, 80, 90, 100])\n",
        "index = [0, 3, 4]\n",
        "print(\"Original array:\")\n",
        "print(x)\n",
        "print(\"Delete first, fourth and fifth elements:\")\n",
        "new_x = np.delete(x, index)\n",
        "print(new_x)"
      ],
      "execution_count": 76,
      "outputs": [
        {
          "output_type": "stream",
          "text": [
            "Original array:\n",
            "[ 10  20  30  40  50  60  70  80  90 100]\n",
            "Delete first, fourth and fifth elements:\n",
            "[ 20  30  60  70  80  90 100]\n"
          ],
          "name": "stdout"
        }
      ]
    },
    {
      "cell_type": "markdown",
      "metadata": {
        "id": "22tVYz32yJRD",
        "colab_type": "text"
      },
      "source": [
        "**90, Viết chương trình NumPy để loại bỏ các giá trị âm trong mảng NumPy bằng 0.**\n",
        "\n",
        "**Write a NumPy program to remove the negative values in a NumPy array with 0.**\n",
        "\n",
        "![alt text](https://www.w3resource.com/w3r_images/python-numpy-image-exercise-90.png)"
      ]
    },
    {
      "cell_type": "code",
      "metadata": {
        "id": "zvfKsz30x9uF",
        "colab_type": "code",
        "colab": {
          "base_uri": "https://localhost:8080/",
          "height": 85
        },
        "outputId": "21de94e8-26d9-4880-9009-f18da76f4d74"
      },
      "source": [
        "x = np.array([-1, -4, 0, 2, 3, 4, 5, -6])\n",
        "print(\"Original array:\")\n",
        "print(x)\n",
        "print(\"Replace the negative values of the said array with 0:\")\n",
        "x [x < 0] = 0\n",
        "print(x)"
      ],
      "execution_count": 77,
      "outputs": [
        {
          "output_type": "stream",
          "text": [
            "Original array:\n",
            "[-1 -4  0  2  3  4  5 -6]\n",
            "Replace the negative values of the said array with 0:\n",
            "[0 0 0 2 3 4 5 0]\n"
          ],
          "name": "stdout"
        }
      ]
    },
    {
      "cell_type": "markdown",
      "metadata": {
        "id": "VZZcjOa1y9wE",
        "colab_type": "text"
      },
      "source": [
        "**91, Viết chương trình NumPy để xóa tất cả các hàng trong mảng NumPy có chứa các giá trị không phải là số.**\n",
        "\n",
        "**Write a NumPy program to remove all rows in a NumPy array that contain non-numeric values.**\n",
        "\n",
        "![alt text](https://www.w3resource.com/w3r_images/python-numpy-image-exercise-91.png)"
      ]
    },
    {
      "cell_type": "code",
      "metadata": {
        "id": "UfFngE6yywpo",
        "colab_type": "code",
        "colab": {
          "base_uri": "https://localhost:8080/",
          "height": 170
        },
        "outputId": "60bcb939-c691-483f-9f59-5e23fb09f75d"
      },
      "source": [
        "x = np.array([[1,2,3], [4,5,np.nan], [7,8,9], [True, False, True]])\n",
        "print(\"Original array:\")\n",
        "print(x)\n",
        "print(\"Remove all non-numeric elements of the said array\")\n",
        "print(x[~np.isnan(x).any(axis=1)])"
      ],
      "execution_count": 78,
      "outputs": [
        {
          "output_type": "stream",
          "text": [
            "Original array:\n",
            "[[ 1.  2.  3.]\n",
            " [ 4.  5. nan]\n",
            " [ 7.  8.  9.]\n",
            " [ 1.  0.  1.]]\n",
            "Remove all non-numeric elements of the said array\n",
            "[[1. 2. 3.]\n",
            " [7. 8. 9.]\n",
            " [1. 0. 1.]]\n"
          ],
          "name": "stdout"
        }
      ]
    },
    {
      "cell_type": "markdown",
      "metadata": {
        "id": "MM-t0ZYozS2m",
        "colab_type": "text"
      },
      "source": [
        "**92, Viết chương trình NumPy để chọn các chỉ mục thỏa mãn nhiều điều kiện trong một mảng NumPy.**\n",
        "\n",
        "**Write a NumPy program to select indices satisfying multiple conditions in a NumPy array.**\n",
        "\n",
        "![alt text](https://www.w3resource.com/w3r_images/python-numpy-image-exercise-92.png)"
      ]
    },
    {
      "cell_type": "code",
      "metadata": {
        "id": "Ew-ODgwMzKMV",
        "colab_type": "code",
        "colab": {
          "base_uri": "https://localhost:8080/",
          "height": 102
        },
        "outputId": "71f28f27-e2da-4286-aca1-ad17785cad93"
      },
      "source": [
        "a = np.array([97, 101, 105, 111, 117])\n",
        "b = np.array(['a','e','i','o','u'])\n",
        "print(\"Original arrays\")\n",
        "print(a)\n",
        "print(b)\n",
        "print(\"Elements from the second array  corresponding to elements in the first array  that are greater than 100 and less than 110:\")\n",
        "print(b[(100 < a) & (a < 110)])"
      ],
      "execution_count": 79,
      "outputs": [
        {
          "output_type": "stream",
          "text": [
            "Original arrays\n",
            "[ 97 101 105 111 117]\n",
            "['a' 'e' 'i' 'o' 'u']\n",
            "Elements from the second array  corresponding to elements in the first array  that are greater than 100 and less than 110:\n",
            "['e' 'i']\n"
          ],
          "name": "stdout"
        }
      ]
    },
    {
      "cell_type": "markdown",
      "metadata": {
        "id": "794jpmEEz4OL",
        "colab_type": "text"
      },
      "source": [
        "**93, Viết chương trình NumPy để lấy độ lớn của vectơ trong NumPy.**\n",
        "\n",
        "**Write a NumPy program to get the magnitude of a vector in NumPy.**\n",
        "\n"
      ]
    },
    {
      "cell_type": "code",
      "metadata": {
        "id": "Rbpn72eAzj2H",
        "colab_type": "code",
        "colab": {
          "base_uri": "https://localhost:8080/",
          "height": 85
        },
        "outputId": "db385a67-e21c-40c5-a134-d7087cd700b2"
      },
      "source": [
        "x = np.array([1,2,3,4,5])\n",
        "print(\"Original array:\")\n",
        "print(x)\n",
        "print(\"Magnitude of the vector:\")\n",
        "print(np.linalg.norm(x))"
      ],
      "execution_count": 80,
      "outputs": [
        {
          "output_type": "stream",
          "text": [
            "Original array:\n",
            "[1 2 3 4 5]\n",
            "Magnitude of the vector:\n",
            "7.416198487095663\n"
          ],
          "name": "stdout"
        }
      ]
    },
    {
      "cell_type": "markdown",
      "metadata": {
        "id": "KFehJlsz0Mex",
        "colab_type": "text"
      },
      "source": [
        "**94, Viết chương trình NumPy để đếm tần số của các giá trị duy nhất trong mảng numpy.**\n",
        "\n",
        "**Write a NumPy program to count the frequency of unique values in numpy array.**\n",
        "\n",
        "![alt text](https://www.w3resource.com/w3r_images/python-numpy-image-exercise-94.png)"
      ]
    },
    {
      "cell_type": "code",
      "metadata": {
        "id": "K4GRlRjbz-kd",
        "colab_type": "code",
        "colab": {
          "base_uri": "https://localhost:8080/",
          "height": 102
        },
        "outputId": "dfe5b735-659d-4659-a0de-fd87b7e73b10"
      },
      "source": [
        "a = np.array( [10,10,20,10,20,20,20,30, 30,50,40,40] )\n",
        "print(\"Original array:\")\n",
        "print(a)\n",
        "unique_elements, counts_elements = np.unique(a, return_counts=True)\n",
        "print(\"Frequency of unique values of the said array:\")\n",
        "print(np.asarray((unique_elements, counts_elements)))"
      ],
      "execution_count": 81,
      "outputs": [
        {
          "output_type": "stream",
          "text": [
            "Original array:\n",
            "[10 10 20 10 20 20 20 30 30 50 40 40]\n",
            "Frequency of unique values of the said array:\n",
            "[[10 20 30 40 50]\n",
            " [ 3  4  2  2  1]]\n"
          ],
          "name": "stdout"
        }
      ]
    },
    {
      "cell_type": "markdown",
      "metadata": {
        "id": "zdxg7klj0okJ",
        "colab_type": "text"
      },
      "source": [
        "**95, Viết chương trình NumPy để kiểm tra xem mảng numpy có trống hay không.**\n",
        "\n",
        "**Write a NumPy program to check whether the numpy array is empty or not.**\n",
        "\n",
        "![alt text](https://www.w3resource.com/w3r_images/python-numpy-image-exercise-95.png)"
      ]
    },
    {
      "cell_type": "code",
      "metadata": {
        "id": "pFHqp0NA0kvc",
        "colab_type": "code",
        "colab": {
          "base_uri": "https://localhost:8080/",
          "height": 51
        },
        "outputId": "65344f84-9560-458d-c4ef-c9508ab0c258"
      },
      "source": [
        "x = np.array([2, 3])\n",
        "y = np.array([])\n",
        "# size 2, array is not empty\n",
        "print(x.size)\n",
        "# size 0, array is empty\n",
        "print(y.size)"
      ],
      "execution_count": 82,
      "outputs": [
        {
          "output_type": "stream",
          "text": [
            "2\n",
            "0\n"
          ],
          "name": "stdout"
        }
      ]
    },
    {
      "cell_type": "markdown",
      "metadata": {
        "id": "uOx7NCYF0xFN",
        "colab_type": "text"
      },
      "source": [
        "**96, Viết chương trình NumPy để chia mỗi hàng cho một phần tử vectơ.**\n",
        "\n",
        "**Write a NumPy program to divide each row by a vector element.**\n",
        "\n",
        "![alt text](https://www.w3resource.com/w3r_images/python-numpy-image-exercise-96.png)"
      ]
    },
    {
      "cell_type": "code",
      "metadata": {
        "id": "tKcR8Ow50u_-",
        "colab_type": "code",
        "colab": {
          "base_uri": "https://localhost:8080/",
          "height": 170
        },
        "outputId": "014e11f3-9ce0-4f6e-cdce-31f58adc1954"
      },
      "source": [
        "x = np.array([[20,20,20],[30,30,30],[40,40,40]])\n",
        "print(\"Original array:\")\n",
        "print(x)\n",
        "v = np.array([20,30,40])\n",
        "print(\"Vector:\")\n",
        "print(v)\n",
        "print(x / v[:, None])"
      ],
      "execution_count": 83,
      "outputs": [
        {
          "output_type": "stream",
          "text": [
            "Original array:\n",
            "[[20 20 20]\n",
            " [30 30 30]\n",
            " [40 40 40]]\n",
            "Vector:\n",
            "[20 30 40]\n",
            "[[1. 1. 1.]\n",
            " [1. 1. 1.]\n",
            " [1. 1. 1.]]\n"
          ],
          "name": "stdout"
        }
      ]
    },
    {
      "cell_type": "markdown",
      "metadata": {
        "id": "49RAF8M51AAM",
        "colab_type": "text"
      },
      "source": [
        "**97, Viết chương trình NumPy để in tất cả các giá trị của một mảng.**\n",
        "\n",
        "**Write a NumPy program to print all the values of an array.**\n",
        "\n",
        "![alt text](https://www.w3resource.com/w3r_images/python-numpy-image-exercise-97.png)"
      ]
    },
    {
      "cell_type": "code",
      "metadata": {
        "id": "shJUjZvI08bD",
        "colab_type": "code",
        "colab": {}
      },
      "source": [
        "np.set_printoptions(threshold=np.nan)\n",
        "x = np.zeros((4, 4))\n",
        "print(x)\n",
        "\"\"\"   Báo lỗi nan:\n",
        "      [[ 0.  0.  0.  0.]                                                     \n",
        "      [ 0.  0.  0.  0.]                                                     \n",
        "      [ 0.  0.  0.  0.]                                                     \n",
        "      [ 0.  0.  0.  0.]]                                  \"\"\""
      ],
      "execution_count": 0,
      "outputs": []
    },
    {
      "cell_type": "markdown",
      "metadata": {
        "id": "h2KbUF3e1aoh",
        "colab_type": "text"
      },
      "source": [
        "**98, Viết chương trình NumPy để chuyển đổi dữ liệu thô trong một mảng thành chuỗi nhị phân và sau đó tạo một mảng.**\n",
        "\n",
        "**Write a NumPy program to convert the raw data in an array to a binary string and then create an array.**\n",
        "\n"
      ]
    },
    {
      "cell_type": "code",
      "metadata": {
        "id": "Od4DbJDb1F5T",
        "colab_type": "code",
        "colab": {
          "base_uri": "https://localhost:8080/",
          "height": 173
        },
        "outputId": "61ef11ba-e120-4334-c138-7862af3bb506"
      },
      "source": [
        "x = np.array([10, 20, 30], float)\n",
        "print(\"Original array:\")\n",
        "print(x)\n",
        "s = x.tostring()\n",
        "print(\"Binary string array: \")\n",
        "print(s)\n",
        "print(\"Array using fromstring(): \")\n",
        "y = np.fromstring(s)\n",
        "print(y)"
      ],
      "execution_count": 88,
      "outputs": [
        {
          "output_type": "stream",
          "text": [
            "Original array:\n",
            "[10. 20. 30.]\n",
            "Binary string array: \n",
            "b'\\x00\\x00\\x00\\x00\\x00\\x00$@\\x00\\x00\\x00\\x00\\x00\\x004@\\x00\\x00\\x00\\x00\\x00\\x00>@'\n",
            "Array using fromstring(): \n",
            "[10. 20. 30.]\n"
          ],
          "name": "stdout"
        },
        {
          "output_type": "stream",
          "text": [
            "/usr/local/lib/python3.6/dist-packages/ipykernel_launcher.py:8: DeprecationWarning: The binary mode of fromstring is deprecated, as it behaves surprisingly on unicode inputs. Use frombuffer instead\n",
            "  \n"
          ],
          "name": "stderr"
        }
      ]
    },
    {
      "cell_type": "markdown",
      "metadata": {
        "id": "yrevbuCl1wgI",
        "colab_type": "text"
      },
      "source": [
        "**99, Viết chương trình NumPy để tính tổng và tính tích của một phần tử mảng NumPy.**\n",
        "\n",
        "**Write a NumPy program to sum and compute the product of a NumPy array elements.**\n",
        "\n",
        "![alt text](https://www.w3resource.com/w3r_images/python-numpy-image-exercise-99.png)"
      ]
    },
    {
      "cell_type": "code",
      "metadata": {
        "id": "f-M9H8WM1pfz",
        "colab_type": "code",
        "colab": {
          "base_uri": "https://localhost:8080/",
          "height": 119
        },
        "outputId": "4ebf2cf1-fe62-42f0-fd77-cfc77f3d1b6e"
      },
      "source": [
        "x = np.array([10, 20, 30], float)\n",
        "print(\"Original array:\")\n",
        "print(x)\n",
        "print(\"Sum of the array elements:\")\n",
        "print(x.sum())\n",
        "print(\"Product of the array elements: \")\n",
        "print(x.prod())"
      ],
      "execution_count": 89,
      "outputs": [
        {
          "output_type": "stream",
          "text": [
            "Original array:\n",
            "[10. 20. 30.]\n",
            "Sum of the array elements:\n",
            "60.0\n",
            "Product of the array elements: \n",
            "6000.0\n"
          ],
          "name": "stdout"
        }
      ]
    },
    {
      "cell_type": "markdown",
      "metadata": {
        "id": "-Y-0cONd2DKp",
        "colab_type": "text"
      },
      "source": [
        "**100, Viết chương trình NumPy để lấy các giá trị từ một mảng nguồn và đặt chúng vào các chỉ số được chỉ định của một mảng khác.**\n",
        "\n",
        "**Write a NumPy program to take values from a source array and put them at specified indices of another array.**\n",
        "\n",
        "\n",
        "\n"
      ]
    },
    {
      "cell_type": "code",
      "metadata": {
        "id": "F0WTPXbq19tC",
        "colab_type": "code",
        "colab": {
          "base_uri": "https://localhost:8080/",
          "height": 85
        },
        "outputId": "763d69ab-c12e-4c94-fdb3-f94a07aa6dfd"
      },
      "source": [
        "x = np.array([10, 10, 20, 30, 30], float)\n",
        "print(x)\n",
        "print(\"Put 0 and 40 in first and fifth position of the above array\")\n",
        "y = np.array([0, 40, 60], float)\n",
        "x.put([0, 4], y)\n",
        "print(\"Array x, after putting two values: \")\n",
        "print(x)"
      ],
      "execution_count": 90,
      "outputs": [
        {
          "output_type": "stream",
          "text": [
            "[10. 10. 20. 30. 30.]\n",
            "Put 0 and 40 in first and fifth position of the above array\n",
            "Array x, after putting two values: \n",
            "[ 0. 10. 20. 30. 40.]\n"
          ],
          "name": "stdout"
        }
      ]
    },
    {
      "cell_type": "code",
      "metadata": {
        "id": "eSeBaev22az6",
        "colab_type": "code",
        "colab": {}
      },
      "source": [
        ""
      ],
      "execution_count": 0,
      "outputs": []
    }
  ]
}