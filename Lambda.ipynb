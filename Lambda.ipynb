{
  "nbformat": 4,
  "nbformat_minor": 0,
  "metadata": {
    "colab": {
      "name": "Lambda.ipynb",
      "provenance": [],
      "authorship_tag": "ABX9TyOuwa3A8sqpvX2puGo1NlV2",
      "include_colab_link": true
    },
    "kernelspec": {
      "name": "python3",
      "display_name": "Python 3"
    }
  },
  "cells": [
    {
      "cell_type": "markdown",
      "metadata": {
        "id": "view-in-github",
        "colab_type": "text"
      },
      "source": [
        "<a href=\"https://colab.research.google.com/github/bimbeo/Web/blob/master/Lambda.ipynb\" target=\"_parent\"><img src=\"https://colab.research.google.com/assets/colab-badge.svg\" alt=\"Open In Colab\"/></a>"
      ]
    },
    {
      "cell_type": "markdown",
      "metadata": {
        "id": "ynJ3DSl9H-U9",
        "colab_type": "text"
      },
      "source": [
        "**1, Viết chương trình Python để tạo hàm lambda thêm 15 vào một số đã cho được truyền vào dưới dạng đối số, đồng thời tạo hàm lambda nhân đối số x với đối số y và in kết quả.**\n",
        "\n",
        "**Write a Python program to create a lambda function that adds 15 to a given number passed in as an argument, also create a lambda function that multiplies argument x with argument y and print the result.**\n",
        "\n"
      ]
    },
    {
      "cell_type": "code",
      "metadata": {
        "id": "EQ0rrXIIH4lo",
        "colab_type": "code",
        "colab": {
          "base_uri": "https://localhost:8080/",
          "height": 51
        },
        "outputId": "64fd4c4f-2702-40ff-ca46-61c049ff28ae"
      },
      "source": [
        "r = lambda a: a + 15\n",
        "print(r(10))\n",
        "r = lambda x, y: x * y\n",
        "print(r(12, 4))"
      ],
      "execution_count": 2,
      "outputs": [
        {
          "output_type": "stream",
          "text": [
            "25\n",
            "48\n"
          ],
          "name": "stdout"
        }
      ]
    },
    {
      "cell_type": "markdown",
      "metadata": {
        "id": "k22kl3qUI_eK",
        "colab_type": "text"
      },
      "source": [
        "**2, Viết chương trình Python để tạo một hàm có một đối số và đối số đó sẽ được nhân với một số đã cho.**\n",
        "\n",
        "**Write a Python program to create a function that takes one argument, and that argument will be multiplied with an unknown given number.**\n",
        "\n"
      ]
    },
    {
      "cell_type": "code",
      "metadata": {
        "id": "xclUQZ1rImIX",
        "colab_type": "code",
        "colab": {
          "base_uri": "https://localhost:8080/",
          "height": 85
        },
        "outputId": "308cfa4f-0572-4ac2-bc13-d5b3c25723a8"
      },
      "source": [
        "def func_compute(n):\n",
        "  return lambda x: x * n                          # hàm func_compute kết quả trả về là 1 hàm lambda \n",
        "\n",
        "result = func_compute(2)                          # result = hàm func_compute(2), truyền đối số 2 vào hàm, n = 2 -> result = lambda x: x * 2\n",
        "print(\"Double the number of 15 = \", result(15))   # truyền 15 vào result -> result = lamda x: 15 * 2 = 30\n",
        "result = func_compute(3)\n",
        "print(\"Triple the number of 15 =\", result(15))\n",
        "result = func_compute(4)\n",
        "print(\"Quadruple the number of 15 =\", result(15))\n",
        "result = func_compute(5)\n",
        "print(\"Quintuple the number 15 =\", result(15))"
      ],
      "execution_count": 3,
      "outputs": [
        {
          "output_type": "stream",
          "text": [
            "Double the number of 15 =  30\n",
            "Triple the number of 15 = 45\n",
            "Quadruple the number of 15 = 60\n",
            "Quintuple the number 15 = 75\n"
          ],
          "name": "stdout"
        }
      ]
    },
    {
      "cell_type": "markdown",
      "metadata": {
        "id": "6YO40NW9Kfcx",
        "colab_type": "text"
      },
      "source": [
        "**3, Viết chương trình Python để sắp xếp danh sách các bộ dữ liệu bằng Lambda.**\n",
        "\n",
        "**Write a Python program to sort a list of tuples using Lambda.**\n"
      ]
    },
    {
      "cell_type": "code",
      "metadata": {
        "id": "fPvuU7AnJTmh",
        "colab_type": "code",
        "colab": {
          "base_uri": "https://localhost:8080/",
          "height": 102
        },
        "outputId": "46d9f58b-ae39-4c8c-bac9-7d4ff5b3e73e"
      },
      "source": [
        "subject_marks = [('English', 88), ('Science', 90), ('Maths', 97), ('Social sciences', 82)]\n",
        "print(\"Original list of tuples:\")\n",
        "print(subject_marks)\n",
        "subject_marks.sort(key = lambda x: x[1])       # key = lambda x: x[1], tức lấy index 1 từng phần tử trong list tức số giá trị. VD: 88. \n",
        "print(\"\\nSorting the List of Tuples: \")        # Key bắt buộc phải dùng hàm lambda\n",
        "print(subject_marks)"
      ],
      "execution_count": 7,
      "outputs": [
        {
          "output_type": "stream",
          "text": [
            "Original list of tuples:\n",
            "[('English', 88), ('Science', 90), ('Maths', 97), ('Social sciences', 82)]\n",
            "\n",
            "Sorting the List of Tuples: \n",
            "[('Social sciences', 82), ('English', 88), ('Science', 90), ('Maths', 97)]\n"
          ],
          "name": "stdout"
        }
      ]
    },
    {
      "cell_type": "markdown",
      "metadata": {
        "id": "uZMHEduSLy9k",
        "colab_type": "text"
      },
      "source": [
        "**4, Viết chương trình Python để sắp xếp danh sách từ điển bằng Lambda.**\n",
        "\n",
        "**Write a Python program to sort a list of dictionaries using Lambda.**\n",
        "\n"
      ]
    },
    {
      "cell_type": "code",
      "metadata": {
        "id": "Ft3hZqqgK1QS",
        "colab_type": "code",
        "colab": {
          "base_uri": "https://localhost:8080/",
          "height": 102
        },
        "outputId": "f9e8a313-ffe9-48ec-e7e8-3915beba5983"
      },
      "source": [
        "models = [{'make':'Nokia', 'model':216, 'color':'Black'}, {'make':'Mi Max', 'model':'2', 'color':'Gold'}, {'make':'Samsung', 'model': 7, 'color':'Blue'}]\n",
        "print(\"Original list of dictionaries :\")\n",
        "print(models)\n",
        "sorted_models = sorted(models, key = lambda x: x['color'])      # sắp xếp theo giá trị của key['color']\n",
        "print(\"\\nSorting the List of dictionaries :\")\n",
        "print(sorted_models)"
      ],
      "execution_count": 9,
      "outputs": [
        {
          "output_type": "stream",
          "text": [
            "Original list of dictionaries :\n",
            "[{'make': 'Nokia', 'model': 216, 'color': 'Black'}, {'make': 'Mi Max', 'model': '2', 'color': 'Gold'}, {'make': 'Samsung', 'model': 7, 'color': 'Blue'}]\n",
            "\n",
            "Sorting the List of dictionaries :\n",
            "[{'make': 'Nokia', 'model': 216, 'color': 'Black'}, {'make': 'Samsung', 'model': 7, 'color': 'Blue'}, {'make': 'Mi Max', 'model': '2', 'color': 'Gold'}]\n"
          ],
          "name": "stdout"
        }
      ]
    },
    {
      "cell_type": "markdown",
      "metadata": {
        "id": "gttoibBCMY6S",
        "colab_type": "text"
      },
      "source": [
        "**5, Viết chương trình Python để lọc danh sách các số nguyên bằng Lambda.**\n",
        "\n",
        "**Write a Python program to filter a list of integers using Lambda.**\n",
        "\n"
      ]
    },
    {
      "cell_type": "code",
      "metadata": {
        "id": "dtnG0OmbMK9l",
        "colab_type": "code",
        "colab": {
          "base_uri": "https://localhost:8080/",
          "height": 153
        },
        "outputId": "33fedd2b-9b58-4bf7-ef3f-b742d32ad4fa"
      },
      "source": [
        "nums = [1, 2, 3, 4, 5, 6, 7, 8, 9, 10]\n",
        "print(\"Original list of integers:\")\n",
        "print(nums)\n",
        "print(\"\\nEven numbers from the said list:\")\n",
        "even_nums = list(filter(lambda x: x%2 == 0, nums))\n",
        "print(even_nums)\n",
        "print(\"\\nOdd numbers from the said list: \")\n",
        "odd_nums = list(filter(lambda x: x%2 != 0, nums))\n",
        "print(odd_nums)"
      ],
      "execution_count": 10,
      "outputs": [
        {
          "output_type": "stream",
          "text": [
            "Original list of integers:\n",
            "[1, 2, 3, 4, 5, 6, 7, 8, 9, 10]\n",
            "\n",
            "Even numbers from the said list:\n",
            "[2, 4, 6, 8, 10]\n",
            "\n",
            "Odd numbers from the said list: \n",
            "[1, 3, 5, 7, 9]\n"
          ],
          "name": "stdout"
        }
      ]
    },
    {
      "cell_type": "markdown",
      "metadata": {
        "id": "zhKE6vrwNAKk",
        "colab_type": "text"
      },
      "source": [
        "**6, Viết chương trình Python để bình phương và lập phương mỗi số trong một danh sách các số nguyên đã cho bằng Lambda.**\n",
        "\n",
        "**Write a Python program to square and cube every number in a given list of integers using Lambda.**\n",
        "\n"
      ]
    },
    {
      "cell_type": "code",
      "metadata": {
        "id": "mZfrOyZEMwU5",
        "colab_type": "code",
        "colab": {
          "base_uri": "https://localhost:8080/",
          "height": 153
        },
        "outputId": "6073c023-0d47-4a0a-b69a-b108f0e56067"
      },
      "source": [
        "nums = [1, 2, 3, 4, 5, 6, 7, 8, 9, 10]\n",
        "print(\"Original list of integers:\")\n",
        "print(nums)\n",
        "print(\"\\nSquare every number of the said list:\")\n",
        "square_nums = list(map(lambda x: x**2, nums))\n",
        "print(square_nums)\n",
        "print(\"\\nCube every number of the said list:\")\n",
        "cube_nums = list(map(lambda x: x**3, nums))\n",
        "print(cube_nums)"
      ],
      "execution_count": 11,
      "outputs": [
        {
          "output_type": "stream",
          "text": [
            "Original list of integers:\n",
            "[1, 2, 3, 4, 5, 6, 7, 8, 9, 10]\n",
            "\n",
            "Square every number of the said list:\n",
            "[1, 4, 9, 16, 25, 36, 49, 64, 81, 100]\n",
            "\n",
            "Cube every number of the said list:\n",
            "[1, 8, 27, 64, 125, 216, 343, 512, 729, 1000]\n"
          ],
          "name": "stdout"
        }
      ]
    },
    {
      "cell_type": "markdown",
      "metadata": {
        "id": "5KcirnNsNZNJ",
        "colab_type": "text"
      },
      "source": [
        "**7, Viết chương trình Python để tìm xem một chuỗi đã cho có bắt đầu bằng một ký tự đã cho hay không bằng Lambda.**\n",
        "\n",
        "**Write a Python program to find whether a given string starts with a given character using Lambda.**\n",
        "\n"
      ]
    },
    {
      "cell_type": "code",
      "metadata": {
        "id": "NhWtvZlxNTUV",
        "colab_type": "code",
        "colab": {
          "base_uri": "https://localhost:8080/",
          "height": 51
        },
        "outputId": "0af46797-a6a5-4478-f009-4c057f3bde56"
      },
      "source": [
        "start_with = lambda x: True if x.startswith('P') else False \n",
        "print(start_with('Python'))\n",
        "start_with = lambda x: True if x.startswith('P') else False\n",
        "print(start_with('Java'))"
      ],
      "execution_count": 14,
      "outputs": [
        {
          "output_type": "stream",
          "text": [
            "True\n",
            "False\n"
          ],
          "name": "stdout"
        }
      ]
    },
    {
      "cell_type": "markdown",
      "metadata": {
        "id": "lQxRO8QKOUW-",
        "colab_type": "text"
      },
      "source": [
        "**8, Viết chương trình Python để trích xuất năm, tháng, ngày và thời gian bằng Lambda.**\n",
        "\n",
        "**Write a Python program to extract year, month, date and time using Lambda.**\n",
        "\n"
      ]
    },
    {
      "cell_type": "code",
      "metadata": {
        "id": "VK3UaFfEN1JD",
        "colab_type": "code",
        "colab": {
          "base_uri": "https://localhost:8080/",
          "height": 102
        },
        "outputId": "46550299-2902-40c9-98f3-ac8d7e2ab77f"
      },
      "source": [
        "import datetime\n",
        "now = datetime.datetime.now()\n",
        "print(now)\n",
        "year = lambda x: x.year\n",
        "month = lambda x: x.month\n",
        "day = lambda x: x.day \n",
        "t = lambda x: x.time()\n",
        "print(year(now))\n",
        "print(month(now))\n",
        "print(day(now))\n",
        "print(t(now))"
      ],
      "execution_count": 15,
      "outputs": [
        {
          "output_type": "stream",
          "text": [
            "2020-05-23 15:51:04.033981\n",
            "2020\n",
            "5\n",
            "23\n",
            "15:51:04.033981\n"
          ],
          "name": "stdout"
        }
      ]
    },
    {
      "cell_type": "markdown",
      "metadata": {
        "id": "nMAuC8EFO-NH",
        "colab_type": "text"
      },
      "source": [
        "**9, Viết chương trình Python để kiểm tra xem một chuỗi đã cho có phải là số hay không bằng Lambda.**\n",
        "\n",
        "**Write a Python program to check whether a given string is number or not using Lambda.**\n",
        "\n",
        "string.replace(oldvalue, newvalue, count)\n",
        "\n",
        "\n"
      ]
    },
    {
      "cell_type": "code",
      "metadata": {
        "id": "Mnn85DcdOwMA",
        "colab_type": "code",
        "colab": {
          "base_uri": "https://localhost:8080/",
          "height": 187
        },
        "outputId": "6f7904be-1f86-4a8e-a65f-736ca8642ecc"
      },
      "source": [
        "is_num = lambda q: q.replace('.', '', 1).isdigit()            # thay thế . thành '' để chuyển số thực thành số nguyên, kiểm tra xem số ý có là chữ số không\n",
        "print(is_num('26587'))\n",
        "print(is_num('4.2365'))\n",
        "print(is_num('-12547'))\n",
        "print(is_num('00'))\n",
        "print(is_num('A001'))\n",
        "print(is_num('001'))\n",
        "print(\"\\nPrint checking numbers:\")\n",
        "is_num1 = lambda r: is_num(r[1:]) if r[0] == '-' else is_num(r) # kiểm tra số âm với dấu - ở đầu, nếu r[0] là - thì truyền tham số r[1:] vào is_num ở trên\n",
        "print(is_num1('-16.4'))\n",
        "print(is_num1('-24587.11'))"
      ],
      "execution_count": 17,
      "outputs": [
        {
          "output_type": "stream",
          "text": [
            "True\n",
            "True\n",
            "False\n",
            "True\n",
            "False\n",
            "True\n",
            "\n",
            "Print checking numbers:\n",
            "True\n",
            "True\n"
          ],
          "name": "stdout"
        }
      ]
    },
    {
      "cell_type": "markdown",
      "metadata": {
        "id": "ZZyczH_qQ1wr",
        "colab_type": "text"
      },
      "source": [
        "**10, Viết chương trình Python để tạo chuỗi Fibonacci tối đa n bằng cách sử dụng Lambda.**\n",
        "\n",
        "**Write a Python program to create Fibonacci series upto n using Lambda.**\n",
        "\n",
        "The **reduce(fun,seq)** function is used to apply a particular function passed in its argument to all of the list elements mentioned in the sequence passed along.This function is defined in “functools” module.\n",
        "\n",
        "được sử dụng để áp dụng một hàm cụ thể được truyền trong đối số của nó cho tất cả các thành phần danh sách được đề cập trong chuỗi được truyền cùng. Hàm này được định nghĩa trong mô-đun Funcools."
      ]
    },
    {
      "cell_type": "code",
      "metadata": {
        "id": "jJKArNY5PXov",
        "colab_type": "code",
        "colab": {
          "base_uri": "https://localhost:8080/",
          "height": 204
        },
        "outputId": "d30fb7fc-4bf6-4567-95d0-253b028c69c0"
      },
      "source": [
        "from functools import reduce\n",
        "\n",
        "fib_series = lambda n: reduce(lambda x, _: x + [x[-1] + x[-2]], range(n - 2), [0, 1] )\n",
        "\n",
        "print(\"Fibonacci series upto 2:\")\n",
        "print(fib_series(2))\n",
        "print(\"\\nFibonacci series upto 5:\")\n",
        "print(fib_series(5))\n",
        "print(\"\\nFibonacci series upto 6:\")\n",
        "print(fib_series(6))\n",
        "print(\"\\nFibonacci series upto 9:\")\n",
        "print(fib_series(9))"
      ],
      "execution_count": 18,
      "outputs": [
        {
          "output_type": "stream",
          "text": [
            "Fibonacci series upto 2:\n",
            "[0, 1]\n",
            "\n",
            "Fibonacci series upto 5:\n",
            "[0, 1, 1, 2, 3]\n",
            "\n",
            "Fibonacci series upto 6:\n",
            "[0, 1, 1, 2, 3, 5]\n",
            "\n",
            "Fibonacci series upto 9:\n",
            "[0, 1, 1, 2, 3, 5, 8, 13, 21]\n"
          ],
          "name": "stdout"
        }
      ]
    },
    {
      "cell_type": "markdown",
      "metadata": {
        "id": "Z9Y7bNn4Rt02",
        "colab_type": "text"
      },
      "source": [
        "**11, Viết chương trình Python để sắp xếp lại các số dương và âm trong một mảng nhất định bằng Lambda.**\n",
        "\n",
        "**Write a Python program to rearrange positive and negative numbers in a given array using Lambda.**\n",
        "\n"
      ]
    },
    {
      "cell_type": "code",
      "metadata": {
        "id": "UqceT1YgRJ4Y",
        "colab_type": "code",
        "colab": {
          "base_uri": "https://localhost:8080/",
          "height": 102
        },
        "outputId": "2287b554-a53c-4390-dde9-83a223609784"
      },
      "source": [
        "array_nums = [-1, 2, -3, 5, 7, 8, 9, -10]\n",
        "print(\"Original arrays:\")\n",
        "print(array_nums)\n",
        "result = [x for x in array_nums if x < 0] + [x for x in array_nums if x >= 0]\n",
        "print(\"\\nRearrange positive and negative numbers of the said array:\")\n",
        "print(result)"
      ],
      "execution_count": 19,
      "outputs": [
        {
          "output_type": "stream",
          "text": [
            "Original arrays:\n",
            "[-1, 2, -3, 5, 7, 8, 9, -10]\n",
            "\n",
            "Rearrange positive and negative numbers of the said array:\n",
            "[-1, -3, -10, 2, 5, 7, 8, 9]\n"
          ],
          "name": "stdout"
        }
      ]
    },
    {
      "cell_type": "markdown",
      "metadata": {
        "id": "UD9ew2nlSTXP",
        "colab_type": "text"
      },
      "source": [
        "**12, Viết chương trình Python để đếm các số chẵn, số lẻ trong một mảng số nguyên đã cho bằng Lambda.**\n",
        "\n",
        "**Write a Python program to count the even, odd numbers in a given array of integers using Lambda.**\n",
        "\n"
      ]
    },
    {
      "cell_type": "code",
      "metadata": {
        "id": "__xIFoBWSFq4",
        "colab_type": "code",
        "colab": {
          "base_uri": "https://localhost:8080/",
          "height": 119
        },
        "outputId": "2be05abd-f4dd-4491-d274-dc2c201727ef"
      },
      "source": [
        "array_nums = [1, 2, 3, 5, 7, 8, 9, 10]\n",
        "print(\"Original arrays:\")\n",
        "print(array_nums)\n",
        "odd_ctr = len(list(filter(lambda x: (x % 2 != 0), array_nums)))\n",
        "even_ctr = len(list(filter(lambda x: (x % 2 == 0), array_nums)))\n",
        "print(\"\\nNumber of even numbers in the above array: \", even_ctr)\n",
        "print(\"\\nNumber of odd numbers in the above array: \", odd_ctr)"
      ],
      "execution_count": 20,
      "outputs": [
        {
          "output_type": "stream",
          "text": [
            "Original arrays:\n",
            "[1, 2, 3, 5, 7, 8, 9, 10]\n",
            "\n",
            "Number of even numbers in the above array:  3\n",
            "\n",
            "Number of odd numbers in the above array:  5\n"
          ],
          "name": "stdout"
        }
      ]
    },
    {
      "cell_type": "markdown",
      "metadata": {
        "id": "uMw8eXUgS8Tj",
        "colab_type": "text"
      },
      "source": [
        "**13, Viết chương trình Python để lọc một danh sách đã cho xem các giá trị trong danh sách có độ dài 6 bằng Lambda hay không.**\n",
        "\n",
        "**Write a Python program to filter a given list whether the values in the list are having length of 6 using Lambda.**\n",
        "\n"
      ]
    },
    {
      "cell_type": "code",
      "metadata": {
        "id": "Nj3RYPZISltb",
        "colab_type": "code",
        "colab": {
          "base_uri": "https://localhost:8080/",
          "height": 68
        },
        "outputId": "66ececae-a5c2-4d64-ad54-b1338c4444d5"
      },
      "source": [
        "weekdays = ['Monday', 'Tuesday', 'Wednesday', 'Thursday', 'Friday', 'Saturday', 'Sunday']\n",
        "days = filter (lambda day: day if len(day) == 6 else '', weekdays)\n",
        "for d in days:\n",
        "  print(d)"
      ],
      "execution_count": 21,
      "outputs": [
        {
          "output_type": "stream",
          "text": [
            "Monday\n",
            "Friday\n",
            "Sunday\n"
          ],
          "name": "stdout"
        }
      ]
    },
    {
      "cell_type": "markdown",
      "metadata": {
        "id": "cuXL-Ed0TUnG",
        "colab_type": "text"
      },
      "source": [
        "**14, Viết chương trình Python để thêm hai danh sách đã cho bằng cách sử dụng map và lambda.**\n",
        "\n",
        "**Write a Python program to add two given lists using map and lambda.**\n",
        "\n"
      ]
    },
    {
      "cell_type": "code",
      "metadata": {
        "id": "CdWDjYplTMG0",
        "colab_type": "code",
        "colab": {
          "base_uri": "https://localhost:8080/",
          "height": 119
        },
        "outputId": "03c94a86-2403-4b76-938d-b66925c6bbcd"
      },
      "source": [
        "nums1 = [1, 2, 3]\n",
        "nums2 = [4, 5, 6]\n",
        "print(\"Original list:\")\n",
        "print(nums1)\n",
        "print(nums2)\n",
        "result = map(lambda x, y: x + y, nums1, nums2)\n",
        "print(\"\\nResult: after adding two list\")\n",
        "print(list(result))"
      ],
      "execution_count": 22,
      "outputs": [
        {
          "output_type": "stream",
          "text": [
            "Original list:\n",
            "[1, 2, 3]\n",
            "[4, 5, 6]\n",
            "\n",
            "Result: after adding two list\n",
            "[5, 7, 9]\n"
          ],
          "name": "stdout"
        }
      ]
    },
    {
      "cell_type": "markdown",
      "metadata": {
        "id": "lKxuYaQYTuUT",
        "colab_type": "text"
      },
      "source": [
        "**16, Viết chương trình Python để tìm điểm thấp thứ hai của bất kỳ học sinh nào từ tên và điểm đã cho của mỗi học sinh bằng cách sử dụng danh sách và lambda. Số lượng sinh viên nhập, tên và điểm của từng sinh viên.**\n",
        "\n",
        "**Write a Python program to find the second lowest grade of any student(s) from the given names and grades of each student using lists and lambda. Input number of students, names and grades of each student.**\n",
        "\n",
        "Note: If there are multiple students with the same grade then print each name alphabetically.\n",
        "\n",
        "Lưu ý: Nếu có nhiều học sinh cùng lớp thì in mỗi tên theo thứ tự abc."
      ]
    },
    {
      "cell_type": "code",
      "metadata": {
        "id": "irh1e2-3ThhD",
        "colab_type": "code",
        "colab": {
          "base_uri": "https://localhost:8080/",
          "height": 374
        },
        "outputId": "2dadbe60-9057-4f62-9b4b-f60c50068132"
      },
      "source": [
        "students = []                                                   # tạo list students rỗng, để thêm student nhập từ bàn phím vào list\n",
        "sec_name = []                                                   # \n",
        "second_low = 0\n",
        "n = int(input(\"Input number of students: \"))                    # biến n, gán bằng số học sinh nhập vào\n",
        "for _ in range(n):                                              # tạo vòng lặp for với số lần bằng n nhập vào\n",
        "  s_name = input(\"Name: \")                                      # biến s_name, gán tên học sinh nhập vào\n",
        "  score = float(input(\"Grade: \"))                               # biến score, gán điểm học sinh nhập vào\n",
        "  students.append([s_name, score])                              # thêm list con [tên, điểm] vào list students. \n",
        "print(\"\\nNames and Grades of all students: \")                 \n",
        "print(students)                                                 # in ra tất cả phần tử trong list, ở đây là học sinh và điểm \n",
        "order = sorted(students, key = lambda x: int(x[1]))             # biến order, sắp xếp phần tử x[1] tức phần tử list con trong list, ở đây là sắp xếp điểm\n",
        "for i in range(n):                                              # tạo vòng lặp for với số lần bằng n nhập vào\n",
        "  if order[i][1] != order[0][1]:                                # nếu index order[i][1] khác index order[0][1], tức điểm khác nhau\n",
        "    second_low = order[i][1]                                    # biến second_low gán bằng index[i][1], tức gán điểm vào biến. \n",
        "    break                                                       # vì sắp xếp từ bé đến lớn, nên khi gặp điểm nào mà khác với điểm đầu tiên, thì nó là điểm thấp nhất thứ 2 luôn. Break\n",
        "print(\"\\nSecond lowest grade: \", second_low)\n",
        "sec_student_name = [x[0] for x in order if x[1] == second_low]  # sec_student_name, lấy ra tên của h/s điểm thấp thứ 2. lấy ra x[0] trong order, nếu điểm x[1] == second_low\n",
        "sec_student_name.sort()                                         # nếu có nhiều học sinh điểm thấp thứ 2, thì sắp xếp lại theo thứ tự\n",
        "print(\"\\nNames: \")\n",
        "for s_name in sec_student_name:                                 # in ra tên từng học sinh điểm thấp thứ 2\n",
        "  print(s_name)"
      ],
      "execution_count": 25,
      "outputs": [
        {
          "output_type": "stream",
          "text": [
            "Input number of students: 5\n",
            "Name: bim\n",
            "Grade: 5\n",
            "Name: beo\n",
            "Grade: 2\n",
            "Name: cun\n",
            "Grade: 2\n",
            "Name: ot\n",
            "Grade: 1\n",
            "Name: Nhon\n",
            "Grade: 2\n",
            "\n",
            "Names and Grades of all students: \n",
            "[['bim', 5.0], ['beo', 2.0], ['cun', 2.0], ['ot', 1.0], ['Nhon', 2.0]]\n",
            "\n",
            "Second lowest grade:  2.0\n",
            "\n",
            "Names: \n",
            "Nhon\n",
            "beo\n",
            "cun\n"
          ],
          "name": "stdout"
        }
      ]
    },
    {
      "cell_type": "markdown",
      "metadata": {
        "id": "AnMnr7AVZPVX",
        "colab_type": "text"
      },
      "source": [
        "**17, Viết chương trình Python để tìm các số chia hết cho mười chín hoặc mười ba từ danh sách các số bằng Lambda.**\n",
        "\n",
        "**Write a Python program to find numbers divisible by nineteen or thirteen from a list of numbers using Lambda.**\n",
        "\n"
      ]
    },
    {
      "cell_type": "code",
      "metadata": {
        "id": "pwKtdlLuU2uh",
        "colab_type": "code",
        "colab": {
          "base_uri": "https://localhost:8080/",
          "height": 102
        },
        "outputId": "7f07f8ae-165a-4815-b00a-9718ad28e704"
      },
      "source": [
        "nums = [19, 65, 57, 39, 152, 639, 121, 44, 90, 190]\n",
        "print(\"Orginal list:\")\n",
        "print(nums) \n",
        "result = list(filter(lambda x: (x % 19 == 0 or x % 13 == 0), nums))\n",
        "print(\"\\nNumbers of the above list divisible by nineteen or thirteen:\")\n",
        "print(result)"
      ],
      "execution_count": 26,
      "outputs": [
        {
          "output_type": "stream",
          "text": [
            "Orginal list:\n",
            "[19, 65, 57, 39, 152, 639, 121, 44, 90, 190]\n",
            "\n",
            "Numbers of the above list divisible by nineteen or thirteen:\n",
            "[19, 65, 57, 39, 152, 190]\n"
          ],
          "name": "stdout"
        }
      ]
    },
    {
      "cell_type": "markdown",
      "metadata": {
        "id": "XiOQyR1oZdy_",
        "colab_type": "text"
      },
      "source": [
        "**18, Viết chương trình Python để tìm palindromes trong danh sách các chuỗi đã cho bằng Lambda.**\n",
        "\n",
        "**Write a Python program to find palindromes in a given list of strings using Lambda.**\n",
        "\n"
      ]
    },
    {
      "cell_type": "code",
      "metadata": {
        "id": "fUQkz0BPZaX1",
        "colab_type": "code",
        "colab": {
          "base_uri": "https://localhost:8080/",
          "height": 102
        },
        "outputId": "aa86dcab-87bf-4460-e0ff-801885940dfd"
      },
      "source": [
        "texts = [\"php\", \"w3r\", \"Python\", \"abcd\", \"Java\", \"aaa\"]\n",
        "print(\"Orginal list of strings:\")\n",
        "print(texts)\n",
        "result = list(filter(lambda x: (x == \"\".join(reversed(x))), texts)) # điều kiện nếu x = với đảo ngược của x\n",
        "print(\"\\nList of palindromes:\")\n",
        "print(result) "
      ],
      "execution_count": 27,
      "outputs": [
        {
          "output_type": "stream",
          "text": [
            "Orginal list of strings:\n",
            "['php', 'w3r', 'Python', 'abcd', 'Java', 'aaa']\n",
            "\n",
            "List of palindromes:\n",
            "['php', 'aaa']\n"
          ],
          "name": "stdout"
        }
      ]
    },
    {
      "cell_type": "markdown",
      "metadata": {
        "id": "l6mPThSrZ1Rt",
        "colab_type": "text"
      },
      "source": [
        "**19, Viết chương trình Python để tìm tất cả các đảo chữ của một chuỗi trong danh sách các chuỗi đã cho bằng lambda.**\n",
        "\n",
        "**Write a Python program to find all anagrams of a string in a given list of strings using lambda.**\n",
        "\n"
      ]
    },
    {
      "cell_type": "code",
      "metadata": {
        "id": "HJIpwohZZtD3",
        "colab_type": "code",
        "colab": {
          "base_uri": "https://localhost:8080/",
          "height": 102
        },
        "outputId": "802ef123-2074-493a-9fbc-1a3c24ddd6a4"
      },
      "source": [
        "from collections import Counter  \n",
        "texts = [\"bcda\", \"abce\", \"cbda\", \"cbea\", \"adcb\"]\n",
        "str = \"abcd\"\n",
        "print(\"Orginal list of strings:\")\n",
        "print(texts) \n",
        "result = list(filter(lambda x: (Counter(str) == Counter(x)), texts))\n",
        "print(\"\\nAnagrams of 'abcd' in the above string: \")\n",
        "print(result)"
      ],
      "execution_count": 29,
      "outputs": [
        {
          "output_type": "stream",
          "text": [
            "Orginal list of strings:\n",
            "['bcda', 'abce', 'cbda', 'cbea', 'adcb']\n",
            "\n",
            "Anagrams of 'abcd' in the above string: \n",
            "['bcda', 'cbda', 'adcb']\n"
          ],
          "name": "stdout"
        }
      ]
    },
    {
      "cell_type": "code",
      "metadata": {
        "id": "4O1tMeHfaLvO",
        "colab_type": "code",
        "colab": {}
      },
      "source": [
        ""
      ],
      "execution_count": 0,
      "outputs": []
    }
  ]
}