{
  "nbformat": 4,
  "nbformat_minor": 0,
  "metadata": {
    "colab": {
      "name": "Pandas IMDb Movies Data.ipynb",
      "provenance": [],
      "mount_file_id": "1SSwKQ-J-yQxrgViKaNZOKkSpV8xQWpZM",
      "authorship_tag": "ABX9TyPBZJAwToo5Qa0gLmIUFYCU",
      "include_colab_link": true
    },
    "kernelspec": {
      "name": "python3",
      "display_name": "Python 3"
    }
  },
  "cells": [
    {
      "cell_type": "markdown",
      "metadata": {
        "id": "view-in-github",
        "colab_type": "text"
      },
      "source": [
        "<a href=\"https://colab.research.google.com/github/bimbeo/Web/blob/master/Pandas_IMDb_Movies_Data.ipynb\" target=\"_parent\"><img src=\"https://colab.research.google.com/assets/colab-badge.svg\" alt=\"Open In Colab\"/></a>"
      ]
    },
    {
      "cell_type": "markdown",
      "metadata": {
        "id": "S0aGb35wZhqR",
        "colab_type": "text"
      },
      "source": [
        "**1, Viết chương trình Pandas để lấy các cột của DataFrame (tệp movies_metadata.csv).**\n",
        "\n",
        "**Write a Pandas program to get the columns of the DataFrame (movies_metadata.csv file).**\n",
        "\n"
      ]
    },
    {
      "cell_type": "code",
      "metadata": {
        "id": "yueTT2NSRpH5",
        "colab_type": "code",
        "colab": {
          "base_uri": "https://localhost:8080/",
          "height": 207
        },
        "outputId": "15ef4359-2313-4551-e6c3-5f350885da9f"
      },
      "source": [
        "import pandas as pd\n",
        "import numpy as np\n",
        "df = pd.read_csv('/content/drive/My Drive/Khai pha/tesst/movies_metadata.csv')\n",
        "print(\"Columns of the DataFrame\")\n",
        "print(df.columns)"
      ],
      "execution_count": 1,
      "outputs": [
        {
          "output_type": "stream",
          "text": [
            "Columns of the DataFrame\n",
            "Index(['adult', 'belongs_to_collection', 'budget', 'genres', 'homepage', 'id',\n",
            "       'imdb_id', 'original_language', 'original_title', 'overview',\n",
            "       'popularity', 'poster_path', 'production_companies',\n",
            "       'production_countries', 'release_date', 'revenue', 'runtime',\n",
            "       'spoken_languages', 'status', 'tagline', 'title', 'video',\n",
            "       'vote_average', 'vote_count'],\n",
            "      dtype='object')\n"
          ],
          "name": "stdout"
        },
        {
          "output_type": "stream",
          "text": [
            "/usr/local/lib/python3.6/dist-packages/IPython/core/interactiveshell.py:2718: DtypeWarning: Columns (10) have mixed types.Specify dtype option on import or set low_memory=False.\n",
            "  interactivity=interactivity, compiler=compiler, result=result)\n"
          ],
          "name": "stderr"
        }
      ]
    },
    {
      "cell_type": "markdown",
      "metadata": {
        "id": "EuOaDj_PaCT-",
        "colab_type": "text"
      },
      "source": [
        "**2, Viết chương trình Pandas để lấy thông tin của DataFrame (tệp movies_metadata.csv) bao gồm các loại dữ liệu và việc sử dụng bộ nhớ.**\n",
        "\n",
        "**Write a Pandas program to get the information of the DataFrame (movies_metadata.csv file) including data types and memory usage.**\n",
        "\n"
      ]
    },
    {
      "cell_type": "code",
      "metadata": {
        "id": "5Sbq0EqDZ6FF",
        "colab_type": "code",
        "colab": {
          "base_uri": "https://localhost:8080/",
          "height": 578
        },
        "outputId": "93213872-5e73-4b04-d08d-5e3524a07cea"
      },
      "source": [
        "result = df.info()\n",
        "print(\"Details of the DataFrame\")\n",
        "print(result)"
      ],
      "execution_count": 2,
      "outputs": [
        {
          "output_type": "stream",
          "text": [
            "<class 'pandas.core.frame.DataFrame'>\n",
            "RangeIndex: 45466 entries, 0 to 45465\n",
            "Data columns (total 24 columns):\n",
            " #   Column                 Non-Null Count  Dtype  \n",
            "---  ------                 --------------  -----  \n",
            " 0   adult                  45466 non-null  object \n",
            " 1   belongs_to_collection  4494 non-null   object \n",
            " 2   budget                 45466 non-null  object \n",
            " 3   genres                 45466 non-null  object \n",
            " 4   homepage               7782 non-null   object \n",
            " 5   id                     45466 non-null  object \n",
            " 6   imdb_id                45449 non-null  object \n",
            " 7   original_language      45455 non-null  object \n",
            " 8   original_title         45466 non-null  object \n",
            " 9   overview               44512 non-null  object \n",
            " 10  popularity             45461 non-null  object \n",
            " 11  poster_path            45080 non-null  object \n",
            " 12  production_companies   45463 non-null  object \n",
            " 13  production_countries   45463 non-null  object \n",
            " 14  release_date           45379 non-null  object \n",
            " 15  revenue                45460 non-null  float64\n",
            " 16  runtime                45203 non-null  float64\n",
            " 17  spoken_languages       45460 non-null  object \n",
            " 18  status                 45379 non-null  object \n",
            " 19  tagline                20412 non-null  object \n",
            " 20  title                  45460 non-null  object \n",
            " 21  video                  45460 non-null  object \n",
            " 22  vote_average           45460 non-null  float64\n",
            " 23  vote_count             45460 non-null  float64\n",
            "dtypes: float64(4), object(20)\n",
            "memory usage: 8.3+ MB\n",
            "Details of the DataFrame\n",
            "None\n"
          ],
          "name": "stdout"
        }
      ]
    },
    {
      "cell_type": "markdown",
      "metadata": {
        "id": "GAabrrc1aYlj",
        "colab_type": "text"
      },
      "source": [
        "**3, Viết chương trình Pandas để lấy thông tin chi tiết về bộ phim thứ ba của DataFrame (tệp movies_metadata.csv).**\n",
        "\n",
        "**Write a Pandas program to get the details of the third movie of the DataFrame (movies_metadata.csv file).**\n",
        "\n"
      ]
    },
    {
      "cell_type": "code",
      "metadata": {
        "id": "iQkME2hwaKQk",
        "colab_type": "code",
        "colab": {
          "base_uri": "https://localhost:8080/",
          "height": 459
        },
        "outputId": "bad4cda8-9778-49b0-b1d4-2d7056a2c876"
      },
      "source": [
        "third_movie = df.iloc[2]\n",
        "print(\"Details of the third moviee:\")\n",
        "print(third_movie)"
      ],
      "execution_count": 3,
      "outputs": [
        {
          "output_type": "stream",
          "text": [
            "Details of the third moviee:\n",
            "adult                                                                False\n",
            "belongs_to_collection    {'id': 119050, 'name': 'Grumpy Old Men Collect...\n",
            "budget                                                                   0\n",
            "genres                   [{'id': 10749, 'name': 'Romance'}, {'id': 35, ...\n",
            "homepage                                                               NaN\n",
            "id                                                                   15602\n",
            "imdb_id                                                          tt0113228\n",
            "original_language                                                       en\n",
            "original_title                                            Grumpier Old Men\n",
            "overview                 A family wedding reignites the ancient feud be...\n",
            "popularity                                                         11.7129\n",
            "poster_path                               /6ksm1sjKMFLbO7UY2i6G1ju9SML.jpg\n",
            "production_companies     [{'name': 'Warner Bros.', 'id': 6194}, {'name'...\n",
            "production_countries     [{'iso_3166_1': 'US', 'name': 'United States o...\n",
            "release_date                                                    1995-12-22\n",
            "revenue                                                                  0\n",
            "runtime                                                                101\n",
            "spoken_languages                  [{'iso_639_1': 'en', 'name': 'English'}]\n",
            "status                                                            Released\n",
            "tagline                  Still Yelling. Still Fighting. Still Ready for...\n",
            "title                                                     Grumpier Old Men\n",
            "video                                                                False\n",
            "vote_average                                                           6.5\n",
            "vote_count                                                              92\n",
            "Name: 2, dtype: object\n"
          ],
          "name": "stdout"
        }
      ]
    },
    {
      "cell_type": "markdown",
      "metadata": {
        "id": "Tu_hZPARayzG",
        "colab_type": "text"
      },
      "source": [
        "**4, Viết chương trình Pandas để đếm số lượng hàng và cột của DataFrame (tệp movies_metadata.csv).**\n",
        "\n",
        "**Write a Pandas program to count the number of rows and columns of the DataFrame (movies_metadata.csv file).**\n",
        "\n"
      ]
    },
    {
      "cell_type": "code",
      "metadata": {
        "id": "wTacgIApagxB",
        "colab_type": "code",
        "colab": {
          "base_uri": "https://localhost:8080/",
          "height": 51
        },
        "outputId": "dc51d265-c6eb-4c24-f6c7-831372ea39b3"
      },
      "source": [
        "result = df.shape\n",
        "print(\"Number of rows and columns of the DataFrame\")\n",
        "print(result)"
      ],
      "execution_count": 4,
      "outputs": [
        {
          "output_type": "stream",
          "text": [
            "Number of rows and columns of the DataFrame\n",
            "(45466, 24)\n"
          ],
          "name": "stdout"
        }
      ]
    },
    {
      "cell_type": "markdown",
      "metadata": {
        "id": "0kAKBoa9bAim",
        "colab_type": "text"
      },
      "source": [
        "**5, Viết chương trình Pandas để lấy chi tiết về tiêu đề cột và thể loại của DataFrame.**\n",
        "\n",
        "**Write a Pandas program to get the details of the columns title and genres of the DataFrame.**\n",
        "\n"
      ]
    },
    {
      "cell_type": "code",
      "metadata": {
        "id": "PqmNJGPia8jG",
        "colab_type": "code",
        "colab": {
          "base_uri": "https://localhost:8080/",
          "height": 272
        },
        "outputId": "c27d1f06-1fba-423a-bee3-dc7764009163"
      },
      "source": [
        "result = df[['title', 'genres']]\n",
        "print(\"Details of title and genres:\")\n",
        "print(result)"
      ],
      "execution_count": 5,
      "outputs": [
        {
          "output_type": "stream",
          "text": [
            "Details of title and genres:\n",
            "                             title                                             genres\n",
            "0                        Toy Story  [{'id': 16, 'name': 'Animation'}, {'id': 35, '...\n",
            "1                          Jumanji  [{'id': 12, 'name': 'Adventure'}, {'id': 14, '...\n",
            "2                 Grumpier Old Men  [{'id': 10749, 'name': 'Romance'}, {'id': 35, ...\n",
            "3                Waiting to Exhale  [{'id': 35, 'name': 'Comedy'}, {'id': 18, 'nam...\n",
            "4      Father of the Bride Part II                     [{'id': 35, 'name': 'Comedy'}]\n",
            "...                            ...                                                ...\n",
            "45461                       Subdue  [{'id': 18, 'name': 'Drama'}, {'id': 10751, 'n...\n",
            "45462          Century of Birthing                      [{'id': 18, 'name': 'Drama'}]\n",
            "45463                     Betrayal  [{'id': 28, 'name': 'Action'}, {'id': 18, 'nam...\n",
            "45464             Satan Triumphant                                                 []\n",
            "45465                     Queerama                                                 []\n",
            "\n",
            "[45466 rows x 2 columns]\n"
          ],
          "name": "stdout"
        }
      ]
    },
    {
      "cell_type": "markdown",
      "metadata": {
        "id": "U3jPwaGSbUyc",
        "colab_type": "text"
      },
      "source": [
        "**6, Viết chương trình Python Pandas để có được thông tin chi tiết của bộ phim với tiêu đề 'Ông già khó tính'.**\n",
        "\n",
        "**Write a Python Pandas program to get the details of the movie with title 'Grumpier Old Men'.**\n",
        "\n"
      ]
    },
    {
      "cell_type": "code",
      "metadata": {
        "id": "_ZMzVcOBbKJk",
        "colab_type": "code",
        "colab": {
          "base_uri": "https://localhost:8080/",
          "height": 442
        },
        "outputId": "77c10f3f-b914-4b8c-9088-354c55264a9b"
      },
      "source": [
        "#Set the index to the title\n",
        "#df = df.set_index('title')\n",
        "#Details of the movie 'Grumpier Old Men'\n",
        "result = df.loc['Grumpier Old Men']\n",
        "print(\"Details of the movie 'Grumpier Old Men:\")\n",
        "print(result)"
      ],
      "execution_count": 11,
      "outputs": [
        {
          "output_type": "stream",
          "text": [
            "Details of the movie 'Grumpier Old Men:\n",
            "adult                                                                False\n",
            "belongs_to_collection    {'id': 119050, 'name': 'Grumpy Old Men Collect...\n",
            "budget                                                                   0\n",
            "genres                   [{'id': 10749, 'name': 'Romance'}, {'id': 35, ...\n",
            "homepage                                                               NaN\n",
            "id                                                                   15602\n",
            "imdb_id                                                          tt0113228\n",
            "original_language                                                       en\n",
            "original_title                                            Grumpier Old Men\n",
            "overview                 A family wedding reignites the ancient feud be...\n",
            "popularity                                                         11.7129\n",
            "poster_path                               /6ksm1sjKMFLbO7UY2i6G1ju9SML.jpg\n",
            "production_companies     [{'name': 'Warner Bros.', 'id': 6194}, {'name'...\n",
            "production_countries     [{'iso_3166_1': 'US', 'name': 'United States o...\n",
            "release_date                                                    1995-12-22\n",
            "revenue                                                                  0\n",
            "runtime                                                                101\n",
            "spoken_languages                  [{'iso_639_1': 'en', 'name': 'English'}]\n",
            "status                                                            Released\n",
            "tagline                  Still Yelling. Still Fighting. Still Ready for...\n",
            "video                                                                False\n",
            "vote_average                                                           6.5\n",
            "vote_count                                                              92\n",
            "Name: Grumpier Old Men, dtype: object\n"
          ],
          "name": "stdout"
        }
      ]
    },
    {
      "cell_type": "markdown",
      "metadata": {
        "id": "Ia7ROEZ1cF-r",
        "colab_type": "text"
      },
      "source": [
        "**7, Viết chương trình Pandas để có được thông tin chi tiết về bộ phim thứ năm của DataFrame.**\n",
        "\n",
        "**Write a Pandas program to get the details of fifth movie of the DataFrame.**\n",
        "\n"
      ]
    },
    {
      "cell_type": "code",
      "metadata": {
        "id": "ALm1IcoZbqBi",
        "colab_type": "code",
        "colab": {
          "base_uri": "https://localhost:8080/",
          "height": 442
        },
        "outputId": "f2bbdc6d-4393-4469-cf92-2bda0761b2c2"
      },
      "source": [
        "result = df.iloc[4]\n",
        "print(\"Details of the fifth movie of the DataFrame\")\n",
        "print(result)"
      ],
      "execution_count": 12,
      "outputs": [
        {
          "output_type": "stream",
          "text": [
            "Details of the fifth movie of the DataFrame\n",
            "adult                                                                False\n",
            "belongs_to_collection    {'id': 96871, 'name': 'Father of the Bride Col...\n",
            "budget                                                                   0\n",
            "genres                                      [{'id': 35, 'name': 'Comedy'}]\n",
            "homepage                                                               NaN\n",
            "id                                                                   11862\n",
            "imdb_id                                                          tt0113041\n",
            "original_language                                                       en\n",
            "original_title                                 Father of the Bride Part II\n",
            "overview                 Just when George Banks has recovered from his ...\n",
            "popularity                                                         8.38752\n",
            "poster_path                               /e64sOI48hQXyru7naBFyssKFxVd.jpg\n",
            "production_companies     [{'name': 'Sandollar Productions', 'id': 5842}...\n",
            "production_countries     [{'iso_3166_1': 'US', 'name': 'United States o...\n",
            "release_date                                                    1995-02-10\n",
            "revenue                                                        7.65789e+07\n",
            "runtime                                                                106\n",
            "spoken_languages                  [{'iso_639_1': 'en', 'name': 'English'}]\n",
            "status                                                            Released\n",
            "tagline                  Just When His World Is Back To Normal... He's ...\n",
            "video                                                                False\n",
            "vote_average                                                           5.7\n",
            "vote_count                                                             173\n",
            "Name: Father of the Bride Part II, dtype: object\n"
          ],
          "name": "stdout"
        }
      ]
    },
    {
      "cell_type": "markdown",
      "metadata": {
        "id": "PMXNHWG9cTsi",
        "colab_type": "text"
      },
      "source": [
        "**8, Viết chương trình Pandas để tạo một khung dữ liệu nhỏ hơn với một tập hợp con của tất cả các tính năng.**\n",
        "\n",
        "**Write a Pandas program to create a smaller dataframe with a subset of all features.**\n",
        "\n"
      ]
    },
    {
      "cell_type": "code",
      "metadata": {
        "id": "1zhyz9GVcNEa",
        "colab_type": "code",
        "colab": {
          "base_uri": "https://localhost:8080/",
          "height": 153
        },
        "outputId": "9b3f6c58-7d6b-4e50-dcdf-9ece42fff01d"
      },
      "source": [
        "small_df = df[['budget', 'revenue', 'runtime']]\n",
        "print(\"Smaller DataFrame:\")\n",
        "print(small_df.head())\n"
      ],
      "execution_count": 14,
      "outputs": [
        {
          "output_type": "stream",
          "text": [
            "Smaller DataFrame:\n",
            "                               budget      revenue  runtime\n",
            "title                                                      \n",
            "Toy Story                    30000000  373554033.0     81.0\n",
            "Jumanji                      65000000  262797249.0    104.0\n",
            "Grumpier Old Men                    0          0.0    101.0\n",
            "Waiting to Exhale            16000000   81452156.0    127.0\n",
            "Father of the Bride Part II         0   76578911.0    106.0\n"
          ],
          "name": "stdout"
        }
      ]
    },
    {
      "cell_type": "markdown",
      "metadata": {
        "id": "ZOOeIT_hc1GP",
        "colab_type": "text"
      },
      "source": [
        "**9, Viết chương trình Pandas để hiển thị 10 hàng đầu tiên của DataFrame.**\n",
        "\n",
        "**Write a Pandas program to display the first 10 rows of the DataFrame.**"
      ]
    },
    {
      "cell_type": "code",
      "metadata": {
        "id": "PDVJ5Qzhcszw",
        "colab_type": "code",
        "colab": {
          "base_uri": "https://localhost:8080/",
          "height": 272
        },
        "outputId": "c51f865f-621d-43cf-fc7a-b470bb64a668"
      },
      "source": [
        "result = df.head(10)\n",
        "print(\"First 10 rows of the DataFrame:\")\n",
        "print(result)"
      ],
      "execution_count": 15,
      "outputs": [
        {
          "output_type": "stream",
          "text": [
            "First 10 rows of the DataFrame:\n",
            "                             adult  ... vote_count\n",
            "title                               ...           \n",
            "Toy Story                    False  ...     5415.0\n",
            "Jumanji                      False  ...     2413.0\n",
            "Grumpier Old Men             False  ...       92.0\n",
            "Waiting to Exhale            False  ...       34.0\n",
            "Father of the Bride Part II  False  ...      173.0\n",
            "Heat                         False  ...     1886.0\n",
            "Sabrina                      False  ...      141.0\n",
            "Tom and Huck                 False  ...       45.0\n",
            "Sudden Death                 False  ...      174.0\n",
            "GoldenEye                    False  ...     1194.0\n",
            "\n",
            "[10 rows x 23 columns]\n"
          ],
          "name": "stdout"
        }
      ]
    },
    {
      "cell_type": "markdown",
      "metadata": {
        "id": "8qrFJjVVdGQv",
        "colab_type": "text"
      },
      "source": [
        "**10, Viết chương trình Pandas để sắp xếp DataFrame dựa trên release_date.**\n",
        "\n",
        "**Write a Pandas program to sort the DataFrame based on release_date.**\n",
        "\n"
      ]
    },
    {
      "cell_type": "code",
      "metadata": {
        "id": "rkaFK9qJc99Y",
        "colab_type": "code",
        "colab": {
          "base_uri": "https://localhost:8080/",
          "height": 289
        },
        "outputId": "8d4354ce-bbe2-4937-b769-577180559435"
      },
      "source": [
        "result = small_df.sort_values('budget')\n",
        "print(\"DataFrame based on budget:\")\n",
        "print(result)"
      ],
      "execution_count": 17,
      "outputs": [
        {
          "output_type": "stream",
          "text": [
            "DataFrame based on budget:\n",
            "                                                               budget  ...  runtime\n",
            "title                                                                  ...         \n",
            "NaN                                  /ff9qCepilowshEtG2GYWwzt2bs4.jpg  ...      NaN\n",
            "NaN                                  /zV8bHuSL6WXoD6FWogP9j4x80bL.jpg  ...      NaN\n",
            "NaN                                  /zaSf5OG7V8X8gqFvly88zDdRm46.jpg  ...      NaN\n",
            "Queerama                                                            0  ...     75.0\n",
            "Escape Me Never                                                     0  ...     95.0\n",
            "...                                                               ...  ...      ...\n",
            "Don't Breathe                                                 9900000  ...     88.0\n",
            "The Peanuts Movie                                            99000000  ...     88.0\n",
            "Kidulthood                                                     994000  ...     89.0\n",
            "Life Feels Good                                                996519  ...    107.0\n",
            "Revolutionary Girl Utena: The Movie                            998000  ...     87.0\n",
            "\n",
            "[45466 rows x 3 columns]\n"
          ],
          "name": "stdout"
        }
      ]
    },
    {
      "cell_type": "markdown",
      "metadata": {
        "id": "cfuSX5pVdhbj",
        "colab_type": "text"
      },
      "source": [
        "**11, Viết chương trình Pandas để truy cập những bộ phim đó, được phát hành sau 1995-01-01.**\n",
        "\n",
        "**Write a Pandas program to access those movies,released after 1995-01-01.**\n",
        "\n"
      ]
    },
    {
      "cell_type": "code",
      "metadata": {
        "id": "d-Hw5WX9davL",
        "colab_type": "code",
        "colab": {
          "base_uri": "https://localhost:8080/",
          "height": 289
        },
        "outputId": "c793da35-2dc2-463b-db06-bd1a4fa8fdcb"
      },
      "source": [
        "# Create a smaller dataframe\n",
        "small_df = df[['release_date', 'budget', 'revenue', 'runtime']]\n",
        "result = small_df[small_df['release_date'] > '1995-01-01']\n",
        "print(\"DataFrame based on release date>'1995-01-01'.\")\n",
        "print(result)"
      ],
      "execution_count": 20,
      "outputs": [
        {
          "output_type": "stream",
          "text": [
            "DataFrame based on release date>'1995-01-01'.\n",
            "                            release_date    budget      revenue  runtime\n",
            "title                                                                   \n",
            "Toy Story                     1995-10-30  30000000  373554033.0     81.0\n",
            "Jumanji                       1995-12-15  65000000  262797249.0    104.0\n",
            "Grumpier Old Men              1995-12-22         0          0.0    101.0\n",
            "Waiting to Exhale             1995-12-22  16000000   81452156.0    127.0\n",
            "Father of the Bride Part II   1995-02-10         0   76578911.0    106.0\n",
            "...                                  ...       ...          ...      ...\n",
            "Shadow of the Blair Witch     2000-10-22         0          0.0     45.0\n",
            "The Burkittsville 7           2000-10-03         0          0.0     30.0\n",
            "Century of Birthing           2011-11-17         0          0.0    360.0\n",
            "Betrayal                      2003-08-01         0          0.0     90.0\n",
            "Queerama                      2017-06-09         0          0.0     75.0\n",
            "\n",
            "[27294 rows x 4 columns]\n"
          ],
          "name": "stdout"
        }
      ]
    },
    {
      "cell_type": "markdown",
      "metadata": {
        "id": "ZEiSmp22d2JV",
        "colab_type": "text"
      },
      "source": [
        "**12, Viết chương trình Pandas để sắp xếp phim trong thời gian chạy theo thứ tự giảm dần.**\n",
        "\n",
        "**Write a Pandas program to sort movies on runtime in descending order.**\n",
        "\n"
      ]
    },
    {
      "cell_type": "code",
      "metadata": {
        "id": "TmjfvZvUdlnY",
        "colab_type": "code",
        "colab": {
          "base_uri": "https://localhost:8080/",
          "height": 153
        },
        "outputId": "d7e5b1b9-9dfc-4d66-f460-ca859355fb47"
      },
      "source": [
        "result = small_df.sort_values('runtime', ascending=False)\n",
        "print(\"DataFrame sort on Runtime\")\n",
        "print(result.head())"
      ],
      "execution_count": 21,
      "outputs": [
        {
          "output_type": "stream",
          "text": [
            "DataFrame sort on Runtime\n",
            "                               release_date budget  revenue  runtime\n",
            "title                                                               \n",
            "Centennial                       1978-10-01      0      0.0   1256.0\n",
            "Baseball                         1994-09-18      0      0.0   1140.0\n",
            "Jazz                             2001-01-09      0      0.0   1140.0\n",
            "Berlin Alexanderplatz            1980-08-28      0      0.0    931.0\n",
            "Heimat: A Chronicle of Germany   1984-09-16      0      0.0    925.0\n"
          ],
          "name": "stdout"
        }
      ]
    },
    {
      "cell_type": "markdown",
      "metadata": {
        "id": "AmtDRcUPeH95",
        "colab_type": "text"
      },
      "source": [
        "**13, Viết chương trình Pandas để có được những bộ phim có doanh thu hơn 2 triệu và chi dưới 1 triệu.**\n",
        "\n",
        "**Write a Pandas program to get those movies whose revenue more than 2 million and spent less than 1 million.**\n",
        "\n"
      ]
    },
    {
      "cell_type": "code",
      "metadata": {
        "id": "lQoytjY3eCV8",
        "colab_type": "code",
        "colab": {}
      },
      "source": [
        "result = small_df[(small_df['revenue'] > 2000000) & (small_df['budget'] < 1000000)]\n",
        "print(\"Movies, revenue more than 2 million and spent less than 1 million:\")\n",
        "print(result.head())"
      ],
      "execution_count": 0,
      "outputs": []
    },
    {
      "cell_type": "markdown",
      "metadata": {
        "id": "wfP7msmdfIlt",
        "colab_type": "text"
      },
      "source": [
        "**14, Viết chương trình Pandas để có thời gian chạy dài nhất và thời gian chạy ngắn nhất.**\n",
        "\n",
        "**Write a Pandas program to get the longest runtime and shortest runtime.**\n",
        "\n"
      ]
    },
    {
      "cell_type": "code",
      "metadata": {
        "id": "EVh6BvW7equp",
        "colab_type": "code",
        "colab": {
          "base_uri": "https://localhost:8080/",
          "height": 357
        },
        "outputId": "a8f5f6f0-c74f-4253-ca6f-70092912b46b"
      },
      "source": [
        "small_df = df[['runtime']]\n",
        "run_time = small_df['runtime']\n",
        "print(small_df)\n",
        "print(\"===============================================\")\n",
        "print(\"Longest runtime\")\n",
        "print(run_time.max())\n",
        "print(\"Shortest runtime\")\n",
        "print(run_time.min())"
      ],
      "execution_count": 30,
      "outputs": [
        {
          "output_type": "stream",
          "text": [
            "                             runtime\n",
            "title                               \n",
            "Toy Story                       81.0\n",
            "Jumanji                        104.0\n",
            "Grumpier Old Men               101.0\n",
            "Waiting to Exhale              127.0\n",
            "Father of the Bride Part II    106.0\n",
            "...                              ...\n",
            "Subdue                          90.0\n",
            "Century of Birthing            360.0\n",
            "Betrayal                        90.0\n",
            "Satan Triumphant                87.0\n",
            "Queerama                        75.0\n",
            "\n",
            "[45466 rows x 1 columns]\n",
            "===============================================\n",
            "Longest runtime\n",
            "1256.0\n",
            "Shortest runtime\n",
            "0.0\n"
          ],
          "name": "stdout"
        }
      ]
    },
    {
      "cell_type": "markdown",
      "metadata": {
        "id": "r8FvLOiEfece",
        "colab_type": "text"
      },
      "source": [
        "**15, Viết chương trình Pandas để tính số lượng phiếu thu được từ bộ phim 70%.**\n",
        "\n",
        "**Write a Pandas program to calculate the number of votes garnered by the 70% movie.**\n",
        "\n"
      ]
    },
    {
      "cell_type": "code",
      "metadata": {
        "id": "H0w6qSeXfTAP",
        "colab_type": "code",
        "colab": {
          "base_uri": "https://localhost:8080/",
          "height": 34
        },
        "outputId": "83b11e92-9634-4f83-9224-0de9a8ac3ae9"
      },
      "source": [
        "result = df['vote_count'].quantile(0.70)\n",
        "print(result)"
      ],
      "execution_count": 31,
      "outputs": [
        {
          "output_type": "stream",
          "text": [
            "25.0\n"
          ],
          "name": "stdout"
        }
      ]
    },
    {
      "cell_type": "markdown",
      "metadata": {
        "id": "u32cyVu6fqrS",
        "colab_type": "text"
      },
      "source": [
        "**16, Viết chương trình Pandas để hiển thị phim (tiêu đề, thời gian chạy) dài hơn 30 phút và ngắn hơn 360 phút.**\n",
        "\n",
        "**Write a Pandas program to display the movies (title, runtime)longer than 30 minutes and shorter than 360 minutes.**\n",
        "\n"
      ]
    },
    {
      "cell_type": "code",
      "metadata": {
        "id": "D_IwlBs7fldA",
        "colab_type": "code",
        "colab": {
          "base_uri": "https://localhost:8080/",
          "height": 289
        },
        "outputId": "c73db833-fb60-4c13-e019-03e8739d9d1a"
      },
      "source": [
        "small_df = df[['runtime']]\n",
        "result = small_df[(small_df['runtime'] >= 30) & (small_df['runtime'] <= 360)]\n",
        "print(\"List of movies longer than 30 minutes and shorter than 360 minutes:\")\n",
        "print(result)\n"
      ],
      "execution_count": 34,
      "outputs": [
        {
          "output_type": "stream",
          "text": [
            "List of movies longer than 30 minutes and shorter than 360 minutes:\n",
            "                             runtime\n",
            "title                               \n",
            "Toy Story                       81.0\n",
            "Jumanji                        104.0\n",
            "Grumpier Old Men               101.0\n",
            "Waiting to Exhale              127.0\n",
            "Father of the Bride Part II    106.0\n",
            "...                              ...\n",
            "Subdue                          90.0\n",
            "Century of Birthing            360.0\n",
            "Betrayal                        90.0\n",
            "Satan Triumphant                87.0\n",
            "Queerama                        75.0\n",
            "\n",
            "[42297 rows x 1 columns]\n"
          ],
          "name": "stdout"
        }
      ]
    },
    {
      "cell_type": "markdown",
      "metadata": {
        "id": "7JZ1Jg__gO7p",
        "colab_type": "text"
      },
      "source": [
        "**17, Viết chương trình Pandas để hiển thị các bộ phim (tiêu đề, số phiếu) đã nhận được số phiếu xác định.**\n",
        "\n",
        "**Write a Pandas program to display the movies (title, number of votes) that received specified number of votes.**\n",
        "\n"
      ]
    },
    {
      "cell_type": "code",
      "metadata": {
        "id": "QZ1qBd9tfx8f",
        "colab_type": "code",
        "colab": {
          "base_uri": "https://localhost:8080/",
          "height": 289
        },
        "outputId": "6e0beef5-4d59-44da-a377-6beb566c6a2b"
      },
      "source": [
        "n = 500\n",
        "small_df = df[['vote_count']]\n",
        "result = small_df[small_df['vote_count'] >= n]\n",
        "print(\"List of movies longer than 30 minutes and shorter than 360 minutes:\")\n",
        "print(result)"
      ],
      "execution_count": 36,
      "outputs": [
        {
          "output_type": "stream",
          "text": [
            "List of movies longer than 30 minutes and shorter than 360 minutes:\n",
            "                               vote_count\n",
            "title                                    \n",
            "Toy Story                          5415.0\n",
            "Jumanji                            2413.0\n",
            "Heat                               1886.0\n",
            "GoldenEye                          1194.0\n",
            "Casino                             1343.0\n",
            "...                                   ...\n",
            "What Happened to Monday             598.0\n",
            "Atomic Blonde                       748.0\n",
            "Dunkirk                            2712.0\n",
            "Transformers: The Last Knight      1440.0\n",
            "The Dark Tower                      688.0\n",
            "\n",
            "[2056 rows x 1 columns]\n"
          ],
          "name": "stdout"
        }
      ]
    },
    {
      "cell_type": "code",
      "metadata": {
        "id": "C68uYlS4gTDO",
        "colab_type": "code",
        "colab": {}
      },
      "source": [
        ""
      ],
      "execution_count": 0,
      "outputs": []
    }
  ]
}