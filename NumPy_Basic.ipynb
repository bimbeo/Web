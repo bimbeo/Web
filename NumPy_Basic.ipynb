{
  "nbformat": 4,
  "nbformat_minor": 0,
  "metadata": {
    "colab": {
      "name": "NumPy Basic.ipynb",
      "provenance": [],
      "authorship_tag": "ABX9TyPIfICmfpCTLLkUOJQE1ax1",
      "include_colab_link": true
    },
    "kernelspec": {
      "name": "python3",
      "display_name": "Python 3"
    }
  },
  "cells": [
    {
      "cell_type": "markdown",
      "metadata": {
        "id": "view-in-github",
        "colab_type": "text"
      },
      "source": [
        "<a href=\"https://colab.research.google.com/github/bimbeo/Web/blob/master/NumPy_Basic.ipynb\" target=\"_parent\"><img src=\"https://colab.research.google.com/assets/colab-badge.svg\" alt=\"Open In Colab\"/></a>"
      ]
    },
    {
      "cell_type": "markdown",
      "metadata": {
        "id": "aFH3eRvFyfSx",
        "colab_type": "text"
      },
      "source": [
        "**1, Viết chương trình NumPy để có phiên bản numpy và hiển thị cấu hình xây dựng numpy.**\n",
        "\n",
        "**Write a NumPy program to get the numpy version and show numpy build configuration**\n"
      ]
    },
    {
      "cell_type": "code",
      "metadata": {
        "id": "zKjzZrT3yYRb",
        "colab_type": "code",
        "outputId": "92e98d8d-acff-441c-b8bf-87966e3a195e",
        "colab": {
          "base_uri": "https://localhost:8080/",
          "height": 493
        }
      },
      "source": [
        "import numpy as np\n",
        "print(np.__version__)\n",
        "print(np.show_config())"
      ],
      "execution_count": 0,
      "outputs": [
        {
          "output_type": "stream",
          "text": [
            "1.18.4\n",
            "blas_mkl_info:\n",
            "  NOT AVAILABLE\n",
            "blis_info:\n",
            "  NOT AVAILABLE\n",
            "openblas_info:\n",
            "    libraries = ['openblas', 'openblas']\n",
            "    library_dirs = ['/usr/local/lib']\n",
            "    language = c\n",
            "    define_macros = [('HAVE_CBLAS', None)]\n",
            "blas_opt_info:\n",
            "    libraries = ['openblas', 'openblas']\n",
            "    library_dirs = ['/usr/local/lib']\n",
            "    language = c\n",
            "    define_macros = [('HAVE_CBLAS', None)]\n",
            "lapack_mkl_info:\n",
            "  NOT AVAILABLE\n",
            "openblas_lapack_info:\n",
            "    libraries = ['openblas', 'openblas']\n",
            "    library_dirs = ['/usr/local/lib']\n",
            "    language = c\n",
            "    define_macros = [('HAVE_CBLAS', None)]\n",
            "lapack_opt_info:\n",
            "    libraries = ['openblas', 'openblas']\n",
            "    library_dirs = ['/usr/local/lib']\n",
            "    language = c\n",
            "    define_macros = [('HAVE_CBLAS', None)]\n",
            "None\n"
          ],
          "name": "stdout"
        }
      ]
    },
    {
      "cell_type": "markdown",
      "metadata": {
        "id": "uw-jp57ezTTl",
        "colab_type": "text"
      },
      "source": [
        "**2, Viết chương trình NumPy để nhận trợ giúp về chức năng thêm.**\n",
        "\n",
        "**Write a NumPy program to get help on the add function.**\n",
        "\n"
      ]
    },
    {
      "cell_type": "code",
      "metadata": {
        "id": "jPRxD-vnyr9x",
        "colab_type": "code",
        "outputId": "ad874dc3-e424-44f8-b8a7-a20bfd361bd7",
        "colab": {
          "base_uri": "https://localhost:8080/",
          "height": 34
        }
      },
      "source": [
        "import numpy as np\n",
        "print(np.info(np.add))"
      ],
      "execution_count": 0,
      "outputs": [
        {
          "output_type": "stream",
          "text": [
            "None\n"
          ],
          "name": "stdout"
        }
      ]
    },
    {
      "cell_type": "markdown",
      "metadata": {
        "id": "of4aCsQCzkl1",
        "colab_type": "text"
      },
      "source": [
        "**3, Viết chương trình NumPy để kiểm tra xem có phần tử 0 nào trong mảng đã cho bằng không?**\n",
        "\n",
        "**Write a NumPy program to test whether none of the elements of a given array is zero.**\n",
        "\n",
        "![alt text](https://www.w3resource.com/w3r_images/numpy-basic-image-exercise-3.png)"
      ]
    },
    {
      "cell_type": "code",
      "metadata": {
        "id": "TzQbmMA7zYiI",
        "colab_type": "code",
        "outputId": "c94cabad-3fe5-4a06-cf53-0085f6efbdbb",
        "colab": {
          "base_uri": "https://localhost:8080/",
          "height": 153
        }
      },
      "source": [
        "import numpy as np\n",
        "x = np.array([1, 2, 3, 4])\n",
        "print(\"Original array: \")\n",
        "print(x)\n",
        "print(\"Test if non of the elements of the said array is zero: \")\n",
        "print(np.all(x))\n",
        "x = np.array([0, 1, 2, 3])\n",
        "print(\"Original array: \")\n",
        "print(x)\n",
        "print(\"Test if non of the elements of the said array is zero: \")\n",
        "print(np.all(x))"
      ],
      "execution_count": 0,
      "outputs": [
        {
          "output_type": "stream",
          "text": [
            "Original array: \n",
            "[1 2 3 4]\n",
            "Test if non of the elements of the said array is zero: \n",
            "True\n",
            "Original array: \n",
            "[0 1 2 3]\n",
            "Test if non of the elements of the said array is zero: \n",
            "False\n"
          ],
          "name": "stdout"
        }
      ]
    },
    {
      "cell_type": "markdown",
      "metadata": {
        "id": "6hKh0omJ1L_b",
        "colab_type": "text"
      },
      "source": [
        "**4, Viết chương trình NumPy để kiểm tra xem bất kỳ phần tử nào của mảng đã cho có khác 0.**\n",
        "\n",
        "**Write a NumPy program to test whether any of the elements of a given array is non-zero.**\n",
        "\n",
        "![alt text](https://www.w3resource.com/w3r_images/numpy-basic-image-exercise-4.png)"
      ]
    },
    {
      "cell_type": "code",
      "metadata": {
        "id": "sy5y0iqi0Zhn",
        "colab_type": "code",
        "outputId": "7810baa1-d280-4a70-9dbf-05b4f025fb05",
        "colab": {
          "base_uri": "https://localhost:8080/",
          "height": 153
        }
      },
      "source": [
        "import numpy as np\n",
        "x = np.array([1, 0, 0, 0])\n",
        "print(\"Original array:\")\n",
        "print(x)\n",
        "print(\"Test whether any of the elements of a given array is non-zero:\")\n",
        "print(np.any(x))\n",
        "x = np.array([0, 0, 0, 0])\n",
        "print(\"Original array:\")\n",
        "print(x)\n",
        "print(\"Test whether any of the elements of a given array is non-zero:\")\n",
        "print(np.any(x))"
      ],
      "execution_count": 0,
      "outputs": [
        {
          "output_type": "stream",
          "text": [
            "Original array:\n",
            "[1 0 0 0]\n",
            "Test whether any of the elements of a given array is non-zero:\n",
            "True\n",
            "Original array:\n",
            "[0 0 0 0]\n",
            "Test whether any of the elements of a given array is non-zero:\n",
            "False\n"
          ],
          "name": "stdout"
        }
      ]
    },
    {
      "cell_type": "markdown",
      "metadata": {
        "id": "MWPhFrfZ2G4a",
        "colab_type": "text"
      },
      "source": [
        "**5, Viết chương trình NumPy để kiểm tra một phần tử mảng nhất định về độ chính xác (không phải vô hạn hoặc không phải là Số).**\n",
        "\n",
        "**Write a NumPy program to test a given array element-wise for finiteness (not infinity or not a Number).**\n",
        "\n",
        "![alt text](https://www.w3resource.com/w3r_images/numpy-basic-image-exercise-5.png)"
      ]
    },
    {
      "cell_type": "code",
      "metadata": {
        "id": "hWdsQoi_1npe",
        "colab_type": "code",
        "outputId": "b5685a4e-30f5-4a7c-c692-6ec0d2ab8b99",
        "colab": {
          "base_uri": "https://localhost:8080/",
          "height": 85
        }
      },
      "source": [
        "import numpy as np\n",
        "a = np.array([1, 0, np.nan, np.inf])\n",
        "print(\"Original array\")\n",
        "print(a)\n",
        "print(\"Test a given array element-wise for finiteness :\")\n",
        "print(np.isfinite(a))"
      ],
      "execution_count": 0,
      "outputs": [
        {
          "output_type": "stream",
          "text": [
            "Original array\n",
            "[ 1.  0. nan inf]\n",
            "Test a given array element-wise for finiteness :\n",
            "[ True  True False False]\n"
          ],
          "name": "stdout"
        }
      ]
    },
    {
      "cell_type": "markdown",
      "metadata": {
        "id": "OHUXhAZY2cq7",
        "colab_type": "text"
      },
      "source": [
        "**6, Viết chương trình NumPy để kiểm tra yếu tố khôn ngoan cho vô cực dương hay âm.**\n",
        "\n",
        "**Write a NumPy program to test element-wise for positive or negative infinity.**\n",
        "\n",
        "![alt text](https://www.w3resource.com/w3r_images/numpy-basic-image-exercise-6.png)"
      ]
    },
    {
      "cell_type": "code",
      "metadata": {
        "id": "GU_FyNnl2Uhp",
        "colab_type": "code",
        "outputId": "a2471487-9c34-461f-c5d5-64fac924eddd",
        "colab": {
          "base_uri": "https://localhost:8080/",
          "height": 85
        }
      },
      "source": [
        "import numpy as np\n",
        "a = np.array([1, 0, np.nan, np.inf])\n",
        "print(\"Original array\")\n",
        "print(a)\n",
        "print(\"Test element-wise for positive or negative infinity:\")\n",
        "print(np.isinf(a))"
      ],
      "execution_count": 0,
      "outputs": [
        {
          "output_type": "stream",
          "text": [
            "Original array\n",
            "[ 1.  0. nan inf]\n",
            "Test element-wise for positive or negative infinity:\n",
            "[False False False  True]\n"
          ],
          "name": "stdout"
        }
      ]
    },
    {
      "cell_type": "markdown",
      "metadata": {
        "id": "3nh_DB_l4b_H",
        "colab_type": "text"
      },
      "source": [
        "**7, Viết chương trình NumPy để kiểm tra phần tử khôn ngoan cho NaN của một mảng nhất định.**\n",
        "\n",
        "**Write a NumPy program to test element-wise for NaN of a given array.**\n",
        "\n",
        "![alt text](https://www.w3resource.com/w3r_images/numpy-basic-image-exercise-7.png)"
      ]
    },
    {
      "cell_type": "code",
      "metadata": {
        "id": "Jpz1IH203_Mg",
        "colab_type": "code",
        "outputId": "b5b8422b-9595-4cba-ff50-0b143f9dc5e9",
        "colab": {
          "base_uri": "https://localhost:8080/",
          "height": 85
        }
      },
      "source": [
        "import numpy as np\n",
        "a = np.array([1, 0, np.nan, np.inf])\n",
        "print(\"Original array\")\n",
        "print(a)\n",
        "print(\"Test element-wise for NaN:\")\n",
        "print(np.isnan(a))"
      ],
      "execution_count": 0,
      "outputs": [
        {
          "output_type": "stream",
          "text": [
            "Original array\n",
            "[ 1.  0. nan inf]\n",
            "Test element-wise for NaN:\n",
            "[False False  True False]\n"
          ],
          "name": "stdout"
        }
      ]
    },
    {
      "cell_type": "markdown",
      "metadata": {
        "id": "TJJ66QCt4rK4",
        "colab_type": "text"
      },
      "source": [
        "**8, Viết chương trình NumPy để kiểm tra phần tử khôn ngoan cho số phức, số thực của một mảng đã cho. Cũng kiểm tra xem một số đã cho có phải là loại vô hướng hay không.**\n",
        "\n",
        "Write a NumPy program to test element-wise for complex number, real number of a given array. Also test whether a given number is a scalar type or not.\n",
        "\n",
        "![alt text](https://www.w3resource.com/w3r_images/numpy-basic-image-exercise-8-2.png)\n",
        "\n",
        "![alt text](https://www.w3resource.com/w3r_images/numpy-basic-image-exercise-8-1.png)"
      ]
    },
    {
      "cell_type": "code",
      "metadata": {
        "id": "I6IVXxm34fzr",
        "colab_type": "code",
        "outputId": "0cc3fa39-33ff-43bb-f3f9-6a85b8dae883",
        "colab": {
          "base_uri": "https://localhost:8080/",
          "height": 170
        }
      },
      "source": [
        "import numpy as np\n",
        "a = np.array([1+1j, 1+0j, 4.5, 3, 2, 2j])\n",
        "print(\"Original array\")\n",
        "print(a)\n",
        "print(\"Checking for complex number:\")\n",
        "print(np.iscomplex(a))\n",
        "print(\"Checking for real number:\")\n",
        "print(np.isreal(a))\n",
        "print(\"Checking for scalar type:\")\n",
        "print(np.isscalar(3.1))\n",
        "print(np.isscalar([3.1]))"
      ],
      "execution_count": 0,
      "outputs": [
        {
          "output_type": "stream",
          "text": [
            "Original array\n",
            "[1. +1.j 1. +0.j 4.5+0.j 3. +0.j 2. +0.j 0. +2.j]\n",
            "Checking for complex number:\n",
            "[ True False False False False  True]\n",
            "Checking for real number:\n",
            "[False  True  True  True  True False]\n",
            "Checking for scalar type:\n",
            "True\n",
            "False\n"
          ],
          "name": "stdout"
        }
      ]
    },
    {
      "cell_type": "markdown",
      "metadata": {
        "id": "tIfdZxei5Geq",
        "colab_type": "text"
      },
      "source": [
        "**9, Viết chương trình NumPy để kiểm tra xem hai mảng có bằng nhau về phần tử trong phạm vi dung sai hay không.**\n",
        "\n",
        "**Write a NumPy program to test whether two arrays are element-wise equal within a tolerance.**\n",
        "\n",
        "Note: The tolerance values are positive, typically very small numbers. The relative difference (rtol * abs(b)) and the absolute difference atol are added together to compare against the absolute difference between a and b.\n",
        "\n",
        "Lưu ý: Các giá trị dung sai là dương, thường là các số rất nhỏ. Sự khác biệt tương đối (rtol * abs (b)) và sự khác biệt tuyệt đối atol được thêm vào với nhau để so sánh với sự khác biệt tuyệt đối giữa a và b.\n"
      ]
    },
    {
      "cell_type": "code",
      "metadata": {
        "id": "VWlc76YM4uCs",
        "colab_type": "code",
        "outputId": "e1948617-0c28-4ee8-d225-dd9626779832",
        "colab": {
          "base_uri": "https://localhost:8080/",
          "height": 119
        }
      },
      "source": [
        "import numpy as np\n",
        "print(\"Test if two arrays are element-wise equal within a tolerance:\")\n",
        "print(np.allclose([1e10,1e-7], [1.00001e10,1e-8]))\n",
        "print(np.allclose([1e10,1e-8], [1.00001e10,1e-9]))\n",
        "print(np.allclose([1e10,1e-8], [1.0001e10,1e-9]))\n",
        "print(np.allclose([1.0, np.nan], [1.0, np.nan]))\n",
        "print(np.allclose([1.0, np.nan], [1.0, np.nan], equal_nan=True))"
      ],
      "execution_count": 0,
      "outputs": [
        {
          "output_type": "stream",
          "text": [
            "Test if two arrays are element-wise equal within a tolerance:\n",
            "False\n",
            "True\n",
            "False\n",
            "False\n",
            "True\n"
          ],
          "name": "stdout"
        }
      ]
    },
    {
      "cell_type": "markdown",
      "metadata": {
        "id": "fplXdVrN5bHK",
        "colab_type": "text"
      },
      "source": [
        "**10, Viết chương trình NumPy để tạo ra một so sánh phần tử (lớn hơn, lớn hơn, ít hơn và ít hơn) của hai mảng đã cho.**\n",
        "\n",
        "**Write a NumPy program to create an element-wise comparison (greater, greater_equal, less and less_equal) of two given arrays.**\n",
        "\n"
      ]
    },
    {
      "cell_type": "code",
      "metadata": {
        "id": "n4XrSxzv5TQi",
        "colab_type": "code",
        "outputId": "9ab451ab-1624-48d4-9268-4e2ccc29851c",
        "colab": {
          "base_uri": "https://localhost:8080/",
          "height": 204
        }
      },
      "source": [
        "import numpy as np\n",
        "x = np.array([3, 5])\n",
        "y = np.array([2, 5])\n",
        "print(\"Original numbers:\")\n",
        "print(x)\n",
        "print(y)\n",
        "print(\"Comparison - greater\")\n",
        "print(np.greater(x, y))\n",
        "print(\"Comparison - greater_equal\")\n",
        "print(np.greater_equal(x, y))\n",
        "print(\"Comparison - less\")\n",
        "print(np.less(x, y))\n",
        "print(\"Comparison - less_equal\")\n",
        "print(np.less_equal(x, y))"
      ],
      "execution_count": 0,
      "outputs": [
        {
          "output_type": "stream",
          "text": [
            "Original numbers:\n",
            "[3 5]\n",
            "[2 5]\n",
            "Comparison - greater\n",
            "[ True False]\n",
            "Comparison - greater_equal\n",
            "[ True  True]\n",
            "Comparison - less\n",
            "[False False]\n",
            "Comparison - less_equal\n",
            "[False  True]\n"
          ],
          "name": "stdout"
        }
      ]
    },
    {
      "cell_type": "markdown",
      "metadata": {
        "id": "-4wT1AIP5xhk",
        "colab_type": "text"
      },
      "source": [
        "**11, Viết chương trình NumPy để tạo ra một so sánh phần tử (bằng, bằng trong một dung sai) của hai mảng đã cho.**\n",
        "\n",
        "**Write a NumPy program to create an element-wise comparison (equal, equal within a tolerance) of two given arrays.**\n",
        "\n"
      ]
    },
    {
      "cell_type": "code",
      "metadata": {
        "id": "JXwdkJlK5fXO",
        "colab_type": "code",
        "outputId": "32eb65ce-8ea5-4652-ff9f-1504b13baa07",
        "colab": {
          "base_uri": "https://localhost:8080/",
          "height": 153
        }
      },
      "source": [
        "import numpy as np\n",
        "x = np.array([72, 79, 85, 90, 150, -135, 120, -10, 60, 100])\n",
        "y = np.array([72, 79, 85, 90, 150, -135, 120, -10, 60, 100.000001])\n",
        "print(\"Original numbers:\")\n",
        "print(x)\n",
        "print(y)\n",
        "print(\"Comparison - equal:\")\n",
        "print(np.equal(x, y))\n",
        "print(\"Comparison - equal within a tolerance:\")\n",
        "print(np.allclose(x, y))"
      ],
      "execution_count": 0,
      "outputs": [
        {
          "output_type": "stream",
          "text": [
            "Original numbers:\n",
            "[  72   79   85   90  150 -135  120  -10   60  100]\n",
            "[  72.         79.         85.         90.        150.       -135.\n",
            "  120.        -10.         60.        100.000001]\n",
            "Comparison - equal:\n",
            "[ True  True  True  True  True  True  True  True  True False]\n",
            "Comparison - equal within a tolerance:\n",
            "True\n"
          ],
          "name": "stdout"
        }
      ]
    },
    {
      "cell_type": "markdown",
      "metadata": {
        "id": "Wr1peR6o6Ig7",
        "colab_type": "text"
      },
      "source": [
        "**12, Viết chương trình NumPy để tạo một mảng với các giá trị 1, 7, 13, 105 và xác định kích thước của bộ nhớ bị chiếm bởi mảng.**\n",
        "\n",
        "**Write a NumPy program to create an array with the values 1, 7, 13, 105 and determine the size of the memory occupied by the array.**\n",
        "\n"
      ]
    },
    {
      "cell_type": "code",
      "metadata": {
        "id": "87uG-c0e53ef",
        "colab_type": "code",
        "outputId": "b26c3430-5af4-4f46-c2c5-14a7c0e3c507",
        "colab": {
          "base_uri": "https://localhost:8080/",
          "height": 85
        }
      },
      "source": [
        "import numpy as np\n",
        "X = np.array([1, 7, 13, 105])\n",
        "print(\"Original array:\")\n",
        "print(X)\n",
        "print(\"Size of the memory occupied by the said array:\")\n",
        "print(\"%d bytes\" % (X.size * X.itemsize))"
      ],
      "execution_count": 0,
      "outputs": [
        {
          "output_type": "stream",
          "text": [
            "Original array:\n",
            "[  1   7  13 105]\n",
            "Size of the memory occupied by the said array:\n",
            "32 bytes\n"
          ],
          "name": "stdout"
        }
      ]
    },
    {
      "cell_type": "markdown",
      "metadata": {
        "id": "gCD9ih2U6ZKu",
        "colab_type": "text"
      },
      "source": [
        "**13, Viết chương trình NumPy để tạo một mảng gồm 10 số không, 10 số, 10 số 5.**\n",
        "\n",
        "**Write a NumPy program to create an array of 10 zeros, 10 ones, 10 fives.**\n",
        "\n",
        "![alt text](https://www.w3resource.com/w3r_images/numpy-basic-image-exercise-13-1.png)\n",
        "\n",
        "![alt text](https://www.w3resource.com/w3r_images/numpy-basic-image-exercise-13-2.png)\n",
        "\n",
        "![alt text](https://www.w3resource.com/w3r_images/numpy-basic-image-exercise-13-3.png)"
      ]
    },
    {
      "cell_type": "code",
      "metadata": {
        "id": "MXRR1kZv6Ryv",
        "colab_type": "code",
        "outputId": "25ca70f8-8395-47ac-d2cb-d14986608069",
        "colab": {
          "base_uri": "https://localhost:8080/",
          "height": 119
        }
      },
      "source": [
        "import numpy as np\n",
        "array=np.zeros(10)\n",
        "print(\"An array of 10 zeros:\")\n",
        "print(array)\n",
        "array=np.ones(10)\n",
        "print(\"An array of 10 ones:\")\n",
        "print(array)\n",
        "array=np.ones(10)*5\n",
        "print(\"An array of 10 fives:\")\n",
        "print(array)"
      ],
      "execution_count": 0,
      "outputs": [
        {
          "output_type": "stream",
          "text": [
            "An array of 10 zeros:\n",
            "[0. 0. 0. 0. 0. 0. 0. 0. 0. 0.]\n",
            "An array of 10 ones:\n",
            "[1. 1. 1. 1. 1. 1. 1. 1. 1. 1.]\n",
            "An array of 10 fives:\n",
            "[5. 5. 5. 5. 5. 5. 5. 5. 5. 5.]\n"
          ],
          "name": "stdout"
        }
      ]
    },
    {
      "cell_type": "markdown",
      "metadata": {
        "id": "GW8ISFyY6t9C",
        "colab_type": "text"
      },
      "source": [
        "**14, Viết chương trình NumPy để tạo một mảng các số nguyên từ 30 đến 70.**\n",
        "\n",
        "**Write a NumPy program to create an array of the integers from 30 to 70.**\n",
        "\n",
        "![alt text](https://www.w3resource.com/w3r_images/numpy-basic-image-exercise-14.png)"
      ]
    },
    {
      "cell_type": "code",
      "metadata": {
        "id": "LCmQHB_-6jsZ",
        "colab_type": "code",
        "outputId": "7a6e9522-5fb8-423e-e2ed-fb292856f1be",
        "colab": {
          "base_uri": "https://localhost:8080/",
          "height": 68
        }
      },
      "source": [
        "array = np.arange(30,71)\n",
        "print(\"Array of the integers from 30 to 70: \")\n",
        "print(array)"
      ],
      "execution_count": 0,
      "outputs": [
        {
          "output_type": "stream",
          "text": [
            "Array of the integers from 30 to 70: \n",
            "[30 31 32 33 34 35 36 37 38 39 40 41 42 43 44 45 46 47 48 49 50 51 52 53\n",
            " 54 55 56 57 58 59 60 61 62 63 64 65 66 67 68 69 70]\n"
          ],
          "name": "stdout"
        }
      ]
    },
    {
      "cell_type": "markdown",
      "metadata": {
        "id": "AWG6B5Q37GkU",
        "colab_type": "text"
      },
      "source": [
        "**15, Viết chương trình NumPy để tạo một mảng gồm tất cả các số nguyên chẵn từ 30 đến 70.**\n",
        "\n",
        "**Write a NumPy program to create an array of all the even integers from 30 to 70.**\n",
        "\n",
        "![alt text](https://www.w3resource.com/w3r_images/numpy-basic-image-exercise-15.png)"
      ]
    },
    {
      "cell_type": "code",
      "metadata": {
        "id": "jQ-N0rCI66tD",
        "colab_type": "code",
        "outputId": "9cc0d940-cfd6-4558-d115-e8c2a15d0289",
        "colab": {
          "base_uri": "https://localhost:8080/",
          "height": 51
        }
      },
      "source": [
        "array = np.arange(30,71,2)\n",
        "print(\"Array of all the even integers from 30 to 70\")\n",
        "print(array) "
      ],
      "execution_count": 0,
      "outputs": [
        {
          "output_type": "stream",
          "text": [
            "Array of all the even integers from 30 to 70\n",
            "[30 32 34 36 38 40 42 44 46 48 50 52 54 56 58 60 62 64 66 68 70]\n"
          ],
          "name": "stdout"
        }
      ]
    },
    {
      "cell_type": "markdown",
      "metadata": {
        "id": "mHUnv_8M7VYY",
        "colab_type": "text"
      },
      "source": [
        "**16, Viết chương trình NumPy để tạo ma trận nhận dạng 3x3.**\n",
        "\n",
        "**Write a NumPy program to create a 3x3 identity matrix.**\n",
        "\n",
        "![alt text](https://www.w3resource.com/w3r_images/numpy-basic-image-exercise-16.png)"
      ]
    },
    {
      "cell_type": "code",
      "metadata": {
        "id": "ObXFSxXN7Q_v",
        "colab_type": "code",
        "outputId": "5c6ade7f-7485-4c00-8bfd-2051e56c37ea",
        "colab": {
          "base_uri": "https://localhost:8080/",
          "height": 85
        }
      },
      "source": [
        "array_2D = np.identity(3)\n",
        "print('3x3 matrix: ')\n",
        "print(array_2D)"
      ],
      "execution_count": 0,
      "outputs": [
        {
          "output_type": "stream",
          "text": [
            "3x3 matrix: \n",
            "[[1. 0. 0.]\n",
            " [0. 1. 0.]\n",
            " [0. 0. 1.]]\n"
          ],
          "name": "stdout"
        }
      ]
    },
    {
      "cell_type": "markdown",
      "metadata": {
        "id": "b8iRKA9r7lLa",
        "colab_type": "text"
      },
      "source": [
        "**17, Viết chương trình NumPy để tạo số ngẫu nhiên trong khoảng từ 0 đến 1.**\n",
        "\n",
        "**Write a NumPy program to generate a random number between 0 and 1.**\n",
        "\n",
        "![alt text](https://www.w3resource.com/w3r_images/numpy-basic-image-exercise-17.png)"
      ]
    },
    {
      "cell_type": "code",
      "metadata": {
        "id": "kec7PFIm7ee5",
        "colab_type": "code",
        "outputId": "330abc52-c9b5-4f72-f8c9-162f86bff10c",
        "colab": {
          "base_uri": "https://localhost:8080/",
          "height": 51
        }
      },
      "source": [
        "rand_num = np.random.normal(0,1,1)\n",
        "print(\"Random number between 0 and 1: \")\n",
        "print(rand_num)"
      ],
      "execution_count": 0,
      "outputs": [
        {
          "output_type": "stream",
          "text": [
            "Random number between 0 and 1: \n",
            "[0.32175222]\n"
          ],
          "name": "stdout"
        }
      ]
    },
    {
      "cell_type": "markdown",
      "metadata": {
        "id": "PRvtIHs68K-D",
        "colab_type": "text"
      },
      "source": [
        "**18, Viết chương trình NumPy để tạo ra một mảng gồm 15 số ngẫu nhiên từ một phân phối chuẩn thông thường.**\n",
        "\n",
        "**Write a NumPy program to generate an array of 15 random numbers from a standard normal distribution.**\n",
        "\n"
      ]
    },
    {
      "cell_type": "code",
      "metadata": {
        "id": "g8nhjROj71u8",
        "colab_type": "code",
        "outputId": "5ee484df-0ba2-40d3-fb18-64c07dac5ad0",
        "colab": {
          "base_uri": "https://localhost:8080/",
          "height": 85
        }
      },
      "source": [
        "rand_num = np.random.normal(0,1,15)\n",
        "print(\"15 random numbers from a standard normal distribution:\")\n",
        "print(rand_num)"
      ],
      "execution_count": 0,
      "outputs": [
        {
          "output_type": "stream",
          "text": [
            "15 random numbers from a standard normal distribution:\n",
            "[ 0.30635981  0.23097545 -0.69437168 -0.58599412  0.42771865 -0.22174837\n",
            " -0.92110987 -1.29711877 -1.86726008 -0.59519868 -0.59705331  1.60863577\n",
            "  0.42746313 -1.93024148  0.15907223]\n"
          ],
          "name": "stdout"
        }
      ]
    },
    {
      "cell_type": "markdown",
      "metadata": {
        "id": "2fCZorFO8ZdJ",
        "colab_type": "text"
      },
      "source": [
        "**19, Viết chương trình NumPy để tạo một vectơ với các giá trị nằm trong khoảng từ 15 đến 55 và in tất cả các giá trị ngoại trừ đầu tiên và cuối cùng.**\n",
        "\n",
        "**Write a NumPy program to create a vector with values ​​ranging from 15 to 55 and print all values ​​except the first and last.**\n",
        "\n"
      ]
    },
    {
      "cell_type": "code",
      "metadata": {
        "id": "oWzUlC718T4y",
        "colab_type": "code",
        "outputId": "882b2ca8-d76c-44b1-9a6a-b31392bd1656",
        "colab": {
          "base_uri": "https://localhost:8080/",
          "height": 119
        }
      },
      "source": [
        "v = np.arange(15, 55)\n",
        "print(\"Original vector: \")\n",
        "print(v)\n",
        "print(\"All values except the first and last of the said vector: \")\n",
        "print(v[1:-1])"
      ],
      "execution_count": 0,
      "outputs": [
        {
          "output_type": "stream",
          "text": [
            "Original vector: \n",
            "[15 16 17 18 19 20 21 22 23 24 25 26 27 28 29 30 31 32 33 34 35 36 37 38\n",
            " 39 40 41 42 43 44 45 46 47 48 49 50 51 52 53 54]\n",
            "All values except the first and last of the said vector: \n",
            "[16 17 18 19 20 21 22 23 24 25 26 27 28 29 30 31 32 33 34 35 36 37 38 39\n",
            " 40 41 42 43 44 45 46 47 48 49 50 51 52 53]\n"
          ],
          "name": "stdout"
        }
      ]
    },
    {
      "cell_type": "markdown",
      "metadata": {
        "id": "wgy3xfVd8wun",
        "colab_type": "text"
      },
      "source": [
        "**20, Viết chương trình NumPy để tạo mảng 3X4 bằng cách sử dụng và lặp lại trên đó.**\n",
        "\n",
        "**Write a NumPy program to create a 3X4 array using and iterate over it.**\n",
        "\n",
        "![alt text](https://www.w3resource.com/w3r_images/numpy-basic-image-exercise-20.png)"
      ]
    },
    {
      "cell_type": "code",
      "metadata": {
        "id": "9W1sQs6j8o4D",
        "colab_type": "code",
        "outputId": "096e075e-67ec-4aa4-bf66-cbf031d1b842",
        "colab": {
          "base_uri": "https://localhost:8080/",
          "height": 136
        }
      },
      "source": [
        "a = np.arange(10, 22).reshape((3,4))\n",
        "print(\"Original array: \")\n",
        "print(a)\n",
        "print(\"Each element of the array is: \")\n",
        "for x in np.nditer(a):\n",
        "  print(x, end = \" \")\n",
        "print()\n",
        "for x in a:\n",
        "  print(x, end = \" \")"
      ],
      "execution_count": 0,
      "outputs": [
        {
          "output_type": "stream",
          "text": [
            "Original array: \n",
            "[[10 11 12 13]\n",
            " [14 15 16 17]\n",
            " [18 19 20 21]]\n",
            "Each element of the array is: \n",
            "10 11 12 13 14 15 16 17 18 19 20 21 \n",
            "[10 11 12 13] [14 15 16 17] [18 19 20 21] "
          ],
          "name": "stdout"
        }
      ]
    },
    {
      "cell_type": "markdown",
      "metadata": {
        "id": "4ameaAd2CF1D",
        "colab_type": "text"
      },
      "source": [
        "**21, Viết chương trình NumPy để tạo một vectơ có độ dài 10 với các giá trị được phân bổ đều giữa 5 và 50.**\n",
        "\n",
        "**Write a NumPy program to create a vector of length 10 with values ​​evenly distributed between 5 and 50.**\n",
        "\n",
        "![alt text](https://www.w3resource.com/w3r_images/numpy-basic-image-exercise-21.png)"
      ]
    },
    {
      "cell_type": "code",
      "metadata": {
        "id": "hKvxAAgE9H3l",
        "colab_type": "code",
        "outputId": "61f2f93f-753c-4fcb-b138-3e8e616cb520",
        "colab": {
          "base_uri": "https://localhost:8080/",
          "height": 51
        }
      },
      "source": [
        "v = np.linspace(10, 49, 5)\n",
        "print(\"Length 10 with values evenly distributed between 5 and 50: \")\n",
        "print(v)"
      ],
      "execution_count": 0,
      "outputs": [
        {
          "output_type": "stream",
          "text": [
            "Length 10 with values evenly distributed between 5 and 50: \n",
            "[10.   19.75 29.5  39.25 49.  ]\n"
          ],
          "name": "stdout"
        }
      ]
    },
    {
      "cell_type": "markdown",
      "metadata": {
        "id": "4S2weuceCm4f",
        "colab_type": "text"
      },
      "source": [
        "**22, Viết chương trình NumPy để tạo một vectơ có giá trị từ 0 đến 20 và thay đổi dấu của các số trong phạm vi từ 9 đến 15.**\n",
        "\n",
        "**Write a NumPy program to create a vector with values ​​from 0 to 20 and change the sign of the numbers in the range from 9 to 15.**\n",
        "\n",
        "![alt text](https://www.w3resource.com/w3r_images/numpy-basic-image-exercise-22.png)\n",
        "\n"
      ]
    },
    {
      "cell_type": "code",
      "metadata": {
        "id": "NZf1rufICYHE",
        "colab_type": "code",
        "outputId": "dfc2a244-210b-4aac-826a-e7e5d8baa933",
        "colab": {
          "base_uri": "https://localhost:8080/",
          "height": 102
        }
      },
      "source": [
        "x = np.arange(20)\n",
        "print(\"Original vector:\")\n",
        "print(x)\n",
        "print(\"After changing the sign of the numbers in the range from 9 to 15:\")\n",
        "x[(x >= 9) & (x <= 15)] *= -1\n",
        "print(x)"
      ],
      "execution_count": 0,
      "outputs": [
        {
          "output_type": "stream",
          "text": [
            "Original vector:\n",
            "[ 0  1  2  3  4  5  6  7  8  9 10 11 12 13 14 15 16 17 18 19]\n",
            "After changing the sign of the numbers in the range from 9 to 15:\n",
            "[  0   1   2   3   4   5   6   7   8  -9 -10 -11 -12 -13 -14 -15  16  17\n",
            "  18  19]\n"
          ],
          "name": "stdout"
        }
      ]
    },
    {
      "cell_type": "markdown",
      "metadata": {
        "id": "RzGPO410DEG_",
        "colab_type": "text"
      },
      "source": [
        "**23, Viết chương trình NumPy để tạo một vectơ có độ dài 5 chứa đầy các số nguyên tùy ý từ 0 đến 10.**\n",
        "\n",
        "**Write a NumPy program to create a vector of length 5 filled with arbitrary integers from 0 to 10.**\n",
        "\n",
        "![alt text](https://www.w3resource.com/w3r_images/numpy-basic-image-exercise-23.png)"
      ]
    },
    {
      "cell_type": "code",
      "metadata": {
        "id": "pj0AWF4VC0Sa",
        "colab_type": "code",
        "outputId": "aecd69ce-898f-42a8-ed39-a65aba7b7449",
        "colab": {
          "base_uri": "https://localhost:8080/",
          "height": 51
        }
      },
      "source": [
        "x = np.random.randint(0, 11, 5)\n",
        "print(\"Vector of length 5 filled with arbitrary integers from 0 to 10:\")\n",
        "print(x)"
      ],
      "execution_count": 0,
      "outputs": [
        {
          "output_type": "stream",
          "text": [
            "Vector of length 5 filled with arbitrary integers from 0 to 10:\n",
            "[7 2 3 7 6]\n"
          ],
          "name": "stdout"
        }
      ]
    },
    {
      "cell_type": "markdown",
      "metadata": {
        "id": "48pb6pD-DTfq",
        "colab_type": "text"
      },
      "source": [
        "**24, Viết chương trình NumPy để nhân các giá trị của hai vectơ đã cho.**\n",
        "\n",
        "**Write a NumPy program to multiply the values ​​of two given vectors.**\n",
        "\n"
      ]
    },
    {
      "cell_type": "code",
      "metadata": {
        "id": "y_mBlaVsDLi7",
        "colab_type": "code",
        "outputId": "9233b5df-2bf3-4468-c80c-0ad181c6a0fd",
        "colab": {
          "base_uri": "https://localhost:8080/",
          "height": 119
        }
      },
      "source": [
        "x = np.array([1, 8, 3, 5])\n",
        "print(\"Vector 1: \")\n",
        "print(x)\n",
        "y = np.random.randint(0, 11, 4)\n",
        "print(\"vector 2: \")\n",
        "print(y)\n",
        "result = x * y\n",
        "print(\"Multiply the values of two said vectors:\")\n",
        "print(result)"
      ],
      "execution_count": 0,
      "outputs": [
        {
          "output_type": "stream",
          "text": [
            "Vector 1: \n",
            "[1 8 3 5]\n",
            "vector 2: \n",
            "[10  7  8  3]\n",
            "Multiply the values of two said vectors:\n",
            "[10 56 24 15]\n"
          ],
          "name": "stdout"
        }
      ]
    },
    {
      "cell_type": "markdown",
      "metadata": {
        "id": "BOhWPW1fDq4s",
        "colab_type": "text"
      },
      "source": [
        "**25, Viết chương trình NumPy để tạo ma trận 3x4 chứa đầy các giá trị từ 10 đến 21.**\n",
        "\n",
        "Write a NumPy program to create a 3x4 matrix filled with values ​​from 10 to 21.\n",
        "\n",
        "\n",
        "\n",
        "![alt text](https://www.w3resource.com/w3r_images/numpy-basic-image-exercise-25.png)"
      ]
    },
    {
      "cell_type": "code",
      "metadata": {
        "id": "Cn0-Y34uDmz7",
        "colab_type": "code",
        "outputId": "1e7396e9-214d-447c-8b15-992ddfacfde8",
        "colab": {
          "base_uri": "https://localhost:8080/",
          "height": 68
        }
      },
      "source": [
        "m = np.arange(10, 22).reshape(3, 4)\n",
        "print(m)"
      ],
      "execution_count": 0,
      "outputs": [
        {
          "output_type": "stream",
          "text": [
            "[[10 11 12 13]\n",
            " [14 15 16 17]\n",
            " [18 19 20 21]]\n"
          ],
          "name": "stdout"
        }
      ]
    },
    {
      "cell_type": "markdown",
      "metadata": {
        "id": "UVmyxlM_EAfw",
        "colab_type": "text"
      },
      "source": [
        "**26, Viết chương trình NumPy để tìm số lượng hàng và cột của một ma trận đã cho.**\n",
        "\n",
        "**Write a NumPy program to find the number of rows and columns of a given matrix.**\n",
        "\n",
        "![alt text](https://www.w3resource.com/w3r_images/numpy-basic-image-exercise-26.png)"
      ]
    },
    {
      "cell_type": "code",
      "metadata": {
        "id": "0Ow23kzwD4MM",
        "colab_type": "code",
        "outputId": "e3654fad-d25b-43e9-d3be-96c0bf5cba69",
        "colab": {
          "base_uri": "https://localhost:8080/",
          "height": 119
        }
      },
      "source": [
        "m= np.arange(10,22).reshape((3, 4))\n",
        "print(\"Original matrix:\")\n",
        "print(m)\n",
        "print(\"Number of rows and columns of the said matrix:\")\n",
        "print(m.shape)"
      ],
      "execution_count": 0,
      "outputs": [
        {
          "output_type": "stream",
          "text": [
            "Original matrix:\n",
            "[[10 11 12 13]\n",
            " [14 15 16 17]\n",
            " [18 19 20 21]]\n",
            "Number of rows and columns of the said matrix:\n",
            "(3, 4)\n"
          ],
          "name": "stdout"
        }
      ]
    },
    {
      "cell_type": "markdown",
      "metadata": {
        "id": "7Qegw2hOES8A",
        "colab_type": "text"
      },
      "source": [
        "**27, Viết chương trình NumPy để tạo ma trận nhận dạng 3x3, tức là các phần tử đường chéo là 1, phần còn lại là 0.**\n",
        "\n",
        "**Write a NumPy program to create a 3x3 identity matrix, i.e. diagonal elements are 1,the rest are 0.**\n",
        "\n",
        "![alt text](https://www.w3resource.com/w3r_images/numpy-basic-image-exercise-27.png)"
      ]
    },
    {
      "cell_type": "code",
      "metadata": {
        "id": "lbEGzBWhENIW",
        "colab_type": "code",
        "outputId": "311d0752-af00-4b54-a45a-706000daf16b",
        "colab": {
          "base_uri": "https://localhost:8080/",
          "height": 68
        }
      },
      "source": [
        "x = np.eye(3)\n",
        "print(x)"
      ],
      "execution_count": 0,
      "outputs": [
        {
          "output_type": "stream",
          "text": [
            "[[1. 0. 0.]\n",
            " [0. 1. 0.]\n",
            " [0. 0. 1.]]\n"
          ],
          "name": "stdout"
        }
      ]
    },
    {
      "cell_type": "markdown",
      "metadata": {
        "id": "Ii2hfuLWEgAa",
        "colab_type": "text"
      },
      "source": [
        "**28, Viết chương trình NumPy để tạo ma trận 10x10, trong đó các phần tử trên các đường viền sẽ bằng 1 và bên trong 0.**\n",
        "\n",
        "**Write a NumPy program to create a 10x10 matrix, in which the elements on the borders will be equal to 1, and inside 0.**\n",
        "\n",
        "![alt text](https://www.w3resource.com/w3r_images/numpy-basic-image-exercise-28.png)"
      ]
    },
    {
      "cell_type": "code",
      "metadata": {
        "id": "y69PvIioEanE",
        "colab_type": "code",
        "outputId": "01554cd5-c6e2-4eb3-ca59-0e2e5882d7b9",
        "colab": {
          "base_uri": "https://localhost:8080/",
          "height": 187
        }
      },
      "source": [
        "x = np.ones((10, 10))\n",
        "x[1:-1, 1:-1] = 0\n",
        "print(x)"
      ],
      "execution_count": 0,
      "outputs": [
        {
          "output_type": "stream",
          "text": [
            "[[1. 1. 1. 1. 1. 1. 1. 1. 1. 1.]\n",
            " [1. 0. 0. 0. 0. 0. 0. 0. 0. 1.]\n",
            " [1. 0. 0. 0. 0. 0. 0. 0. 0. 1.]\n",
            " [1. 0. 0. 0. 0. 0. 0. 0. 0. 1.]\n",
            " [1. 0. 0. 0. 0. 0. 0. 0. 0. 1.]\n",
            " [1. 0. 0. 0. 0. 0. 0. 0. 0. 1.]\n",
            " [1. 0. 0. 0. 0. 0. 0. 0. 0. 1.]\n",
            " [1. 0. 0. 0. 0. 0. 0. 0. 0. 1.]\n",
            " [1. 0. 0. 0. 0. 0. 0. 0. 0. 1.]\n",
            " [1. 1. 1. 1. 1. 1. 1. 1. 1. 1.]]\n"
          ],
          "name": "stdout"
        }
      ]
    },
    {
      "cell_type": "markdown",
      "metadata": {
        "id": "aV-bvDlVE2Vu",
        "colab_type": "text"
      },
      "source": [
        "**29, Viết chương trình NumPy để tạo ma trận zero 5x5 với các phần tử trên đường chéo chính bằng 1, 2, 3, 4, 5.**\n",
        "\n",
        "**Write a NumPy program to create a 5x5 zero matrix with elements on the main diagonal equal to 1, 2, 3, 4, 5.**\n",
        "\n",
        "![alt text](https://www.w3resource.com/w3r_images/numpy-basic-image-exercise-29.png)"
      ]
    },
    {
      "cell_type": "code",
      "metadata": {
        "id": "uo2fUm3TEudE",
        "colab_type": "code",
        "outputId": "2fc8e4c3-528f-4345-c2e3-84359adeb409",
        "colab": {
          "base_uri": "https://localhost:8080/",
          "height": 102
        }
      },
      "source": [
        "x = np.diag([1,2,3,4,5])\n",
        "print(x)"
      ],
      "execution_count": 0,
      "outputs": [
        {
          "output_type": "stream",
          "text": [
            "[[1 0 0 0 0]\n",
            " [0 2 0 0 0]\n",
            " [0 0 3 0 0]\n",
            " [0 0 0 4 0]\n",
            " [0 0 0 0 5]]\n"
          ],
          "name": "stdout"
        }
      ]
    },
    {
      "cell_type": "markdown",
      "metadata": {
        "id": "ykZE4PQrFEzs",
        "colab_type": "text"
      },
      "source": [
        "**30, Viết chương trình NumPy để tạo ma trận 4 x 4 trong đó 0 và 1 được đặt so le, với các số 0 trên đường chéo chính.**\n",
        "\n",
        "**Write a NumPy program to create a 4x4 matrix in which 0 and 1 are staggered, with zeros on the main diagonal.**\n",
        "\n",
        "![alt text](https://www.w3resource.com/w3r_images/numpy-basic-image-exercise-30.png)"
      ]
    },
    {
      "cell_type": "code",
      "metadata": {
        "id": "WbImEZ5fE_1W",
        "colab_type": "code",
        "outputId": "42c46c9d-47c5-4d48-efff-25c9176205c4",
        "colab": {
          "base_uri": "https://localhost:8080/",
          "height": 85
        }
      },
      "source": [
        "x = np.zeros((4, 4))\n",
        "x[::2, 1::2] = 1\n",
        "x[1::2, ::2] = 1\n",
        "print(x)"
      ],
      "execution_count": 0,
      "outputs": [
        {
          "output_type": "stream",
          "text": [
            "[[0. 1. 0. 1.]\n",
            " [1. 0. 1. 0.]\n",
            " [0. 1. 0. 1.]\n",
            " [1. 0. 1. 0.]]\n"
          ],
          "name": "stdout"
        }
      ]
    },
    {
      "cell_type": "markdown",
      "metadata": {
        "id": "xB7tCDoCFeOk",
        "colab_type": "text"
      },
      "source": [
        "**31, Viết chương trình NumPy để tạo một mảng 3x3x3 chứa đầy các giá trị tùy ý**\n",
        "\n",
        "**Write a NumPy program to create a 3x3x3 array filled with arbitrary values.**\n",
        "\n",
        "![alt text](https://www.w3resource.com/w3r_images/numpy-basic-image-exercise-31.png)"
      ]
    },
    {
      "cell_type": "code",
      "metadata": {
        "id": "uMW57xXIFSnl",
        "colab_type": "code",
        "outputId": "3d09f28d-4407-4bdf-bfde-594603d74fe1",
        "colab": {
          "base_uri": "https://localhost:8080/",
          "height": 204
        }
      },
      "source": [
        "x = np.random.random((3, 3, 3))\n",
        "print(x)"
      ],
      "execution_count": 0,
      "outputs": [
        {
          "output_type": "stream",
          "text": [
            "[[[0.95962151 0.74597339 0.96048049]\n",
            "  [0.34098708 0.6030405  0.61723004]\n",
            "  [0.52343607 0.18008799 0.48338494]]\n",
            "\n",
            " [[0.23482902 0.23754865 0.07073062]\n",
            "  [0.38543987 0.65881517 0.08324828]\n",
            "  [0.77162996 0.18708989 0.05570825]]\n",
            "\n",
            " [[0.51171242 0.33188591 0.34970727]\n",
            "  [0.91629383 0.82498616 0.36060208]\n",
            "  [0.1150734  0.79766472 0.8940077 ]]]\n"
          ],
          "name": "stdout"
        }
      ]
    },
    {
      "cell_type": "markdown",
      "metadata": {
        "id": "tpEVAmC4Fuaz",
        "colab_type": "text"
      },
      "source": [
        "**32, Viết chương trình NumPy để tính tổng của tất cả các phần tử, tổng của từng cột và tổng của từng hàng của một mảng nhất định.**\n",
        "\n",
        "**Write a NumPy program to compute sum of all elements, sum of each column and sum of each row of a given array.**\n",
        "\n",
        "![alt text](https://www.w3resource.com/w3r_images/numpy-basic-image-exercise-32.png)"
      ]
    },
    {
      "cell_type": "code",
      "metadata": {
        "id": "ltfLKZjuFpCd",
        "colab_type": "code",
        "outputId": "20893eb0-4af9-451b-f216-e4f7ce46f750",
        "colab": {
          "base_uri": "https://localhost:8080/",
          "height": 170
        }
      },
      "source": [
        "x = np.array([[0,1], [2,3]])\n",
        "print(\"Original array: \")\n",
        "print(x)\n",
        "print(\"Sum of all elements: \")\n",
        "print(np.sum(x))\n",
        "print(\"Sum of each column: \")\n",
        "print(np.sum(x, axis = 0))\n",
        "print(\"Sum of each row: \")\n",
        "print(np.sum(x, axis=1))"
      ],
      "execution_count": 0,
      "outputs": [
        {
          "output_type": "stream",
          "text": [
            "Original array: \n",
            "[[0 1]\n",
            " [2 3]]\n",
            "Sum of all elements: \n",
            "6\n",
            "Sum of each column: \n",
            "[2 4]\n",
            "Sum of each row: \n",
            "[1 5]\n"
          ],
          "name": "stdout"
        }
      ]
    },
    {
      "cell_type": "markdown",
      "metadata": {
        "id": "MwyEHwaEGKpA",
        "colab_type": "text"
      },
      "source": [
        "**33, Viết chương trình NumPy để tính tích trong của hai vectơ đã cho.**\n",
        "\n",
        "**Write a NumPy program to compute the inner product of two given vectors.**\n",
        "\n",
        "![alt text](https://www.w3resource.com/w3r_images/numpy-basic-image-exercise-33.png)"
      ]
    },
    {
      "cell_type": "code",
      "metadata": {
        "id": "PL-prl8vGFpa",
        "colab_type": "code",
        "outputId": "d83f8bc8-7573-4a5a-f09e-b18d3bf9660b",
        "colab": {
          "base_uri": "https://localhost:8080/",
          "height": 102
        }
      },
      "source": [
        "x = np.array([4, 5])\n",
        "y = np.array([7, 10])\n",
        "print(\"Original vectors: \")\n",
        "print(x)\n",
        "print(y)\n",
        "print(\"Inner product of said vectors: \")\n",
        "print(np.dot(x,y))"
      ],
      "execution_count": 0,
      "outputs": [
        {
          "output_type": "stream",
          "text": [
            "Original vectors: \n",
            "[4 5]\n",
            "[ 7 10]\n",
            "Inner product of said vectors: \n",
            "78\n"
          ],
          "name": "stdout"
        }
      ]
    },
    {
      "cell_type": "markdown",
      "metadata": {
        "id": "sqJdvVdHG1aA",
        "colab_type": "text"
      },
      "source": [
        "**34, Viết chương trình NumPy để thêm một vectơ vào mỗi hàng của một ma trận đã cho.**\n",
        "\n",
        "**Write a NumPy program to add a vector to each row of a given matrix.**\n",
        "\n",
        "![alt text](https://www.w3resource.com/w3r_images/numpy-basic-image-exercise-34.png)"
      ]
    },
    {
      "cell_type": "code",
      "metadata": {
        "id": "g8npRrSVGfHV",
        "colab_type": "code",
        "outputId": "b20993b1-2b72-42db-aa4e-36f80d16c3b3",
        "colab": {
          "base_uri": "https://localhost:8080/",
          "height": 238
        }
      },
      "source": [
        "m = np.array([[1,2,3], [4,5,6], [7,8,9], [10,11,12]])\n",
        "v = np.array([1, 1, 0])\n",
        "print(\"Original vector: \")\n",
        "print(v)\n",
        "print(\"Original matrix: \")\n",
        "print(m)\n",
        "result = np.empty_like(m)\n",
        "for i in range(4):\n",
        "  result[i, :] = m[i, :] + v\n",
        "print(\"\\nAfter adding the vector v to each row of the matrix m:\")\n",
        "print(result)"
      ],
      "execution_count": 0,
      "outputs": [
        {
          "output_type": "stream",
          "text": [
            "Original vector: \n",
            "[1 1 0]\n",
            "Original matrix: \n",
            "[[ 1  2  3]\n",
            " [ 4  5  6]\n",
            " [ 7  8  9]\n",
            " [10 11 12]]\n",
            "\n",
            "After adding the vector v to each row of the matrix m:\n",
            "[[ 2  3  3]\n",
            " [ 5  6  6]\n",
            " [ 8  9  9]\n",
            " [11 12 12]]\n"
          ],
          "name": "stdout"
        }
      ]
    },
    {
      "cell_type": "markdown",
      "metadata": {
        "id": "FwQJYAVoHczb",
        "colab_type": "text"
      },
      "source": [
        "**35, Viết chương trình NumPy để lưu một mảng nhất định vào tệp nhị phân.**\n",
        "\n",
        "**Write a NumPy program to save a given array to a binary file.**\n",
        "\n"
      ]
    },
    {
      "cell_type": "code",
      "metadata": {
        "id": "ithXChu4HOzS",
        "colab_type": "code",
        "outputId": "6afbddac-a49e-44c2-ef36-2addb205fb1f",
        "colab": {
          "base_uri": "https://localhost:8080/",
          "height": 51
        }
      },
      "source": [
        "import numpy as np\n",
        "import os\n",
        "a = np.arange(20)\n",
        "np.save('temp_arra.npy', a)\n",
        "print(\"Check if 'temp_arra.npy' exists or not?\")\n",
        "if os.path.exists('temp_arra.npy'):\n",
        "    x2 = np.load('temp_arra.npy')\n",
        "    print(np.array_equal(a, x2))"
      ],
      "execution_count": 0,
      "outputs": [
        {
          "output_type": "stream",
          "text": [
            "Check if 'temp_arra.npy' exists or not?\n",
            "True\n"
          ],
          "name": "stdout"
        }
      ]
    },
    {
      "cell_type": "markdown",
      "metadata": {
        "id": "5XOSCu8NH4HN",
        "colab_type": "text"
      },
      "source": [
        "**36, Viết chương trình NumPy để lưu hai mảng đã cho vào một tệp ở định dạng nén (định dạng .npz) và tải nó.**\n",
        "\n",
        "**Write a NumPy program to save two given arrays into a single file in compressed format (.npz format) and load it.**\n",
        "\n"
      ]
    },
    {
      "cell_type": "code",
      "metadata": {
        "id": "rtxq80D8Hshx",
        "colab_type": "code",
        "outputId": "e6dc9c85-3662-451f-a652-b61ad5a6b281",
        "colab": {
          "base_uri": "https://localhost:8080/",
          "height": 119
        }
      },
      "source": [
        "import numpy as np\n",
        "import os\n",
        "x = np.arange(10)\n",
        "y = np.arange(11, 20)\n",
        "print(\"Original arrays:\")\n",
        "print(x)\n",
        "print(y)\n",
        "np.savez('temp_arra.npz', x=x, y=y)\n",
        "print(\"Load arrays from the 'temp_arra.npz' file:\")\n",
        "with np.load('temp_arra.npz') as data:\n",
        "    x2 = data['x']\n",
        "    y2 = data['y']\n",
        "    print(x2)\n",
        "    print(y2)"
      ],
      "execution_count": 0,
      "outputs": [
        {
          "output_type": "stream",
          "text": [
            "Original arrays:\n",
            "[0 1 2 3 4 5 6 7 8 9]\n",
            "[11 12 13 14 15 16 17 18 19]\n",
            "Load arrays from the 'temp_arra.npz' file:\n",
            "[0 1 2 3 4 5 6 7 8 9]\n",
            "[11 12 13 14 15 16 17 18 19]\n"
          ],
          "name": "stdout"
        }
      ]
    },
    {
      "cell_type": "markdown",
      "metadata": {
        "id": "SGKjl0CkIEfR",
        "colab_type": "text"
      },
      "source": [
        "**37, Viết chương trình NumPy để lưu một mảng nhất định vào tệp văn bản và tải nó.**\n",
        "\n",
        "**Write a NumPy program to save a given array to a text file and load it.**\n",
        "\n",
        "![alt text](https://www.w3resource.com/w3r_images/numpy-basic-image-exercise-37.png)"
      ]
    },
    {
      "cell_type": "code",
      "metadata": {
        "id": "BGkOp-GqIA5t",
        "colab_type": "code",
        "outputId": "4be310b8-b499-4fbc-fe4c-b85c1fc015ea",
        "colab": {
          "base_uri": "https://localhost:8080/",
          "height": 187
        }
      },
      "source": [
        "import numpy as np\n",
        "import os\n",
        "x = np.arange(12).reshape(4, 3)\n",
        "print(\"Original array:\")\n",
        "print(x)\n",
        "header = 'col1 col2 col3'\n",
        "np.savetxt('temp.txt', x, fmt=\"%d\", header=header) \n",
        "print(\"After loading, content of the text file:\")\n",
        "result = np.loadtxt('temp.txt')\n",
        "print(result)"
      ],
      "execution_count": 0,
      "outputs": [
        {
          "output_type": "stream",
          "text": [
            "Original array:\n",
            "[[ 0  1  2]\n",
            " [ 3  4  5]\n",
            " [ 6  7  8]\n",
            " [ 9 10 11]]\n",
            "After loading, content of the text file:\n",
            "[[ 0.  1.  2.]\n",
            " [ 3.  4.  5.]\n",
            " [ 6.  7.  8.]\n",
            " [ 9. 10. 11.]]\n"
          ],
          "name": "stdout"
        }
      ]
    },
    {
      "cell_type": "markdown",
      "metadata": {
        "id": "J2_LL0D6IbaS",
        "colab_type": "text"
      },
      "source": [
        "**38, Viết chương trình NumPy để chuyển đổi một mảng đã cho thành byte và tải nó dưới dạng mảng.**\n",
        "\n",
        "**Write a NumPy program to convert a given array into bytes, and load it as array.**\n",
        "\n"
      ]
    },
    {
      "cell_type": "code",
      "metadata": {
        "id": "goCl1j-YIQ-G",
        "colab_type": "code",
        "outputId": "bb09b5eb-0354-48ab-90c2-e0a42faeb2b8",
        "colab": {
          "base_uri": "https://localhost:8080/",
          "height": 156
        }
      },
      "source": [
        "import numpy as np\n",
        "import os\n",
        "a = np.array([1, 2, 3, 4, 5, 6])\n",
        "print(\"Original array:\")\n",
        "print(a)\n",
        "a_bytes = a.tostring()\n",
        "a2 = np.fromstring(a_bytes, dtype=a.dtype)\n",
        "print(\"After loading, content of the text file:\")\n",
        "print(a2)\n",
        "print(np.array_equal(a, a2))"
      ],
      "execution_count": 0,
      "outputs": [
        {
          "output_type": "stream",
          "text": [
            "Original array:\n",
            "[1 2 3 4 5 6]\n",
            "After loading, content of the text file:\n",
            "[1 2 3 4 5 6]\n",
            "True\n"
          ],
          "name": "stdout"
        },
        {
          "output_type": "stream",
          "text": [
            "/usr/local/lib/python3.6/dist-packages/ipykernel_launcher.py:7: DeprecationWarning: The binary mode of fromstring is deprecated, as it behaves surprisingly on unicode inputs. Use frombuffer instead\n",
            "  import sys\n"
          ],
          "name": "stderr"
        }
      ]
    },
    {
      "cell_type": "markdown",
      "metadata": {
        "id": "LOr9jFlcIkCj",
        "colab_type": "text"
      },
      "source": [
        "**39, Viết chương trình NumPy để chuyển đổi một mảng đã cho thành một danh sách và sau đó chuyển đổi nó thành một danh sách.**\n",
        "\n",
        "**Write a NumPy program to convert a given array into a list and then convert it into a list again.**\n",
        "\n"
      ]
    },
    {
      "cell_type": "code",
      "metadata": {
        "id": "7NQDbHRWIf7e",
        "colab_type": "code",
        "outputId": "66e36d91-882c-476e-8f30-377dfd8d7091",
        "colab": {
          "base_uri": "https://localhost:8080/",
          "height": 34
        }
      },
      "source": [
        "a = [[1, 2], [3, 4]]\n",
        "x = np.array(a)\n",
        "a2 = x.tolist()\n",
        "print(a == a2)"
      ],
      "execution_count": 0,
      "outputs": [
        {
          "output_type": "stream",
          "text": [
            "True\n"
          ],
          "name": "stdout"
        }
      ]
    },
    {
      "cell_type": "markdown",
      "metadata": {
        "id": "QM1tAgRHI5p1",
        "colab_type": "text"
      },
      "source": [
        "**40, Viết chương trình NumPy để tính tọa độ x và y cho các điểm trên đường cong hình sin và vẽ các điểm bằng matplotlib.**\n",
        "\n",
        "**Write a NumPy program to compute the x and y coordinates for points on a sine curve and plot the points using matplotlib.**\n",
        "\n"
      ]
    },
    {
      "cell_type": "code",
      "metadata": {
        "id": "k1QRw3osIvrG",
        "colab_type": "code",
        "outputId": "caab846a-5a27-4741-ad14-043359177c30",
        "colab": {
          "base_uri": "https://localhost:8080/",
          "height": 282
        }
      },
      "source": [
        "import numpy as np\n",
        "import matplotlib.pyplot as plt\n",
        "# Compute the x and y coordinates for points on a sine curve\n",
        "x = np.arange(0, 3 * np.pi, 0.2)\n",
        "y = np.sin(x)\n",
        "print(\"Plot the points using matplotlib:\")\n",
        "plt.plot(x, y)\n",
        "plt.show()"
      ],
      "execution_count": 0,
      "outputs": [
        {
          "output_type": "stream",
          "text": [
            "Plot the points using matplotlib:\n"
          ],
          "name": "stdout"
        },
        {
          "output_type": "display_data",
          "data": {
            "image/png": "[encoded data removed]",
            "text/plain": [
              "<Figure size 432x288 with 1 Axes>"
            ]
          },
          "metadata": {
            "tags": [],
            "needs_background": "light"
          }
        }
      ]
    },
    {
      "cell_type": "markdown",
      "metadata": {
        "id": "R9BhDUBtJMX9",
        "colab_type": "text"
      },
      "source": [
        "**41, Viết chương trình NumPy để chuyển đổi các kiểu chữ numpy thành các kiểu python bản địa.**\n",
        "\n",
        "**Write a NumPy program to convert numpy dtypes to native python types.**\n"
      ]
    },
    {
      "cell_type": "code",
      "metadata": {
        "id": "_JQdiN2BJA1G",
        "colab_type": "code",
        "outputId": "6ad29e11-a2d3-4d1a-9426-2cb160d348ae",
        "colab": {
          "base_uri": "https://localhost:8080/",
          "height": 68
        }
      },
      "source": [
        "import numpy as np\n",
        "print(\"numpy.float32 to python float\")\n",
        "x = np.float32(0)\n",
        "print(type(x))\n",
        "pyval = x.item()\n",
        "print(type(pyval))"
      ],
      "execution_count": 0,
      "outputs": [
        {
          "output_type": "stream",
          "text": [
            "numpy.float32 to python float\n",
            "<class 'numpy.float32'>\n",
            "<class 'float'>\n"
          ],
          "name": "stdout"
        }
      ]
    },
    {
      "cell_type": "code",
      "metadata": {
        "id": "pAxm4SXwJVHd",
        "colab_type": "code",
        "colab": {}
      },
      "source": [
        ""
      ],
      "execution_count": 0,
      "outputs": []
    }
  ]
}