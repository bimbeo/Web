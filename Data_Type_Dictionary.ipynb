{
  "nbformat": 4,
  "nbformat_minor": 0,
  "metadata": {
    "colab": {
      "name": "Data Type: Dictionary.ipynb",
      "provenance": [],
      "authorship_tag": "ABX9TyNXLwCMbeQ6ZbLaZIsjPgcT",
      "include_colab_link": true
    },
    "kernelspec": {
      "name": "python3",
      "display_name": "Python 3"
    }
  },
  "cells": [
    {
      "cell_type": "markdown",
      "metadata": {
        "id": "view-in-github",
        "colab_type": "text"
      },
      "source": [
        "<a href=\"https://colab.research.google.com/github/bimbeo/Web/blob/master/Data_Type_Dictionary.ipynb\" target=\"_parent\"><img src=\"https://colab.research.google.com/assets/colab-badge.svg\" alt=\"Open In Colab\"/></a>"
      ]
    },
    {
      "cell_type": "markdown",
      "metadata": {
        "id": "TvfN6BK0ksEH",
        "colab_type": "text"
      },
      "source": [
        "**1, Viết chương trình Python để sắp xếp (tăng dần và giảm dần) một từ điển theo giá trị.**\n",
        "\n",
        "**Write a Python program to sort (ascending and descending) a dictionary by value.**\n",
        "\n",
        "operator là một mô-đun tích hợp cung cấp một tập hợp các toán tử thuận tiện. Trong hai từ operator.itemgetter(n) xây dựng một hàm có thể gọi được, giả sử một đối tượng có thể lặp lại (ví dụ: list, Tuple, set) làm đầu vào và lấy phần tử thứ n ra khỏi nó.\n",
        "\n"
      ]
    },
    {
      "cell_type": "code",
      "metadata": {
        "id": "F2DDi7Qu0FP2",
        "colab_type": "code",
        "colab": {
          "base_uri": "https://localhost:8080/",
          "height": 68
        },
        "outputId": "0beb3eb9-f2a4-41ca-bd23-6371913d87ac"
      },
      "source": [
        "import operator\n",
        "d = {1: 2, 3: 4, 4: 3, 2:1, 0:0}\n",
        "print('Original dictionary: ', d)\n",
        "sorted_d = dict(sorted(d.items(), key=operator.itemgetter(1)))\n",
        "print('Dictionary in ascending order by value : ',sorted_d)\n",
        "sorted_d = dict(sorted(d.items(), key=operator.itemgetter(1), reverse=True))\n",
        "print('Dictionary in ascending order by value : ',sorted_d)\n"
      ],
      "execution_count": 1,
      "outputs": [
        {
          "output_type": "stream",
          "text": [
            "Original dictionary:  {1: 2, 3: 4, 4: 3, 2: 1, 0: 0}\n",
            "Dictionary in ascending order by value :  {0: 0, 2: 1, 1: 2, 4: 3, 3: 4}\n",
            "Dictionary in ascending order by value :  {3: 4, 4: 3, 1: 2, 2: 1, 0: 0}\n"
          ],
          "name": "stdout"
        }
      ]
    },
    {
      "cell_type": "markdown",
      "metadata": {
        "id": "k3wX6gnqmWpF",
        "colab_type": "text"
      },
      "source": [
        "**2, Viết chương trình Python để thêm khóa vào từ điển.**\n",
        "\n",
        "**Write a Python program to add a key to a dictionary.**"
      ]
    },
    {
      "cell_type": "code",
      "metadata": {
        "id": "Q0Sokz-clTAi",
        "colab_type": "code",
        "colab": {
          "base_uri": "https://localhost:8080/",
          "height": 51
        },
        "outputId": "18c4451d-323a-48be-e212-2801c3dfe017"
      },
      "source": [
        "d = {0:10, 1:20}\n",
        "print(d)\n",
        "d.update({2:30})\n",
        "print(d)"
      ],
      "execution_count": 3,
      "outputs": [
        {
          "output_type": "stream",
          "text": [
            "{0: 10, 1: 20}\n",
            "{0: 10, 1: 20, 2: 30}\n"
          ],
          "name": "stdout"
        }
      ]
    },
    {
      "cell_type": "markdown",
      "metadata": {
        "id": "je9lkIOVmr8b",
        "colab_type": "text"
      },
      "source": [
        "**3, Viết chương trình Python để nối các từ điển sau để tạo một từ điển mới.**\n",
        "\n",
        "**Write a Python program to concatenate following dictionaries to create a new one.**\n",
        "\n"
      ]
    },
    {
      "cell_type": "code",
      "metadata": {
        "id": "tsyvl6fZmkzS",
        "colab_type": "code",
        "colab": {
          "base_uri": "https://localhost:8080/",
          "height": 34
        },
        "outputId": "da7efc50-3823-462f-b812-4ee8e228e51c"
      },
      "source": [
        "dic1 = {1:10, 2:30}\n",
        "dic2 = {3:30, 4:40}\n",
        "dic3 = {5:50, 6:60}\n",
        "dic4 = {}\n",
        "for d in (dic1, dic2, dic3, dic4):\n",
        "  dic4.update(d)\n",
        "print(dic4)"
      ],
      "execution_count": 4,
      "outputs": [
        {
          "output_type": "stream",
          "text": [
            "{1: 10, 2: 30, 3: 30, 4: 40, 5: 50, 6: 60}\n"
          ],
          "name": "stdout"
        }
      ]
    },
    {
      "cell_type": "markdown",
      "metadata": {
        "id": "3O1umuSAnHqB",
        "colab_type": "text"
      },
      "source": [
        "**4, Viết chương trình Python để kiểm tra xem một khóa đã cho có tồn tại trong từ điển hay không.**\n",
        "\n",
        "**Write a Python program to check whether a given key already exists in a dictionary.**\n",
        "\n"
      ]
    },
    {
      "cell_type": "code",
      "metadata": {
        "id": "E-lkPHsCm9c9",
        "colab_type": "code",
        "colab": {
          "base_uri": "https://localhost:8080/",
          "height": 51
        },
        "outputId": "82a2e41b-1d18-4d02-ba09-8d7b36805020"
      },
      "source": [
        "d = {1:20, 2:20, 3:30, 4:40, 5:50, 6:60}\n",
        "def is_key_present(x):\n",
        "  if x in d:\n",
        "    print('Key is present in the dictionary')\n",
        "  else:\n",
        "    print(\"Key is not present in the dictionary\")\n",
        "is_key_present(5)\n",
        "is_key_present(9)"
      ],
      "execution_count": 5,
      "outputs": [
        {
          "output_type": "stream",
          "text": [
            "Key is present in the dictionary\n",
            "Key is not present in the dictionary\n"
          ],
          "name": "stdout"
        }
      ]
    },
    {
      "cell_type": "markdown",
      "metadata": {
        "id": "M24DXtIUnwOL",
        "colab_type": "text"
      },
      "source": [
        "**5, Viết chương trình Python để lặp lại từ điển bằng cách sử dụng các vòng lặp.**\n",
        "\n",
        "**Write a Python program to iterate over dictionaries using for loops.**\n",
        "\n"
      ]
    },
    {
      "cell_type": "code",
      "metadata": {
        "id": "uY2BZCRuncLM",
        "colab_type": "code",
        "colab": {
          "base_uri": "https://localhost:8080/",
          "height": 68
        },
        "outputId": "e5c60e53-a8f4-4705-e5cd-8b18a7ad0ef6"
      },
      "source": [
        "d = {'x' : 10, 'y': 20, 'z': 30}\n",
        "for dict_key, dict_value in d.items():\n",
        "  print(dict_key, '->', dict_value)"
      ],
      "execution_count": 6,
      "outputs": [
        {
          "output_type": "stream",
          "text": [
            "x -> 10\n",
            "y -> 20\n",
            "z -> 30\n"
          ],
          "name": "stdout"
        }
      ]
    },
    {
      "cell_type": "markdown",
      "metadata": {
        "id": "Bm3IS1A0oCFA",
        "colab_type": "text"
      },
      "source": [
        " **6, Viết tập lệnh Python để tạo và in một từ điển có chứa một số (từ 1 đến n) dưới dạng (x, x * x).**\n",
        " \n",
        "****Write a Python script to generate and print a dictionary that contains a number (between 1 and n) in the form (x, x*x).**\n",
        "\n"
      ]
    },
    {
      "cell_type": "code",
      "metadata": {
        "id": "kRJFp0p4n83v",
        "colab_type": "code",
        "colab": {
          "base_uri": "https://localhost:8080/",
          "height": 51
        },
        "outputId": "290cae6b-c5f6-4fdd-debd-8382b2af4702"
      },
      "source": [
        "n = int(input(\"Input a number: \"))\n",
        "d = dict()\n",
        "\n",
        "for x in range(1, n+1):\n",
        "  d[x] = x*x\n",
        "print(d)"
      ],
      "execution_count": 7,
      "outputs": [
        {
          "output_type": "stream",
          "text": [
            "Input a number: 5\n",
            "{1: 1, 2: 4, 3: 9, 4: 16, 5: 25}\n"
          ],
          "name": "stdout"
        }
      ]
    },
    {
      "cell_type": "markdown",
      "metadata": {
        "id": "1Uj81SuQoqiq",
        "colab_type": "text"
      },
      "source": [
        "**7, Viết tập lệnh Python để in một từ điển trong đó các khóa là các số từ 1 đến 15 (bao gồm cả hai) và các giá trị là bình phương của các khóa.**\n",
        "\n",
        "**Write a Python script to print a dictionary where the keys are numbers between 1 and 15 (both included) and the values are square of keys.**\n",
        "\n"
      ]
    },
    {
      "cell_type": "code",
      "metadata": {
        "id": "MY2PI_D9oeGR",
        "colab_type": "code",
        "colab": {
          "base_uri": "https://localhost:8080/",
          "height": 34
        },
        "outputId": "1fba2060-9520-4ed5-cc8b-dcd2f6f2d59c"
      },
      "source": [
        "d = dict()\n",
        "for x in range(1, 16):\n",
        "  d[x] = x**2\n",
        "print(d)"
      ],
      "execution_count": 8,
      "outputs": [
        {
          "output_type": "stream",
          "text": [
            "{1: 1, 2: 4, 3: 9, 4: 16, 5: 25, 6: 36, 7: 49, 8: 64, 9: 81, 10: 100, 11: 121, 12: 144, 13: 169, 14: 196, 15: 225}\n"
          ],
          "name": "stdout"
        }
      ]
    },
    {
      "cell_type": "markdown",
      "metadata": {
        "id": "aMpqBcuQo0_3",
        "colab_type": "text"
      },
      "source": [
        "**8, Viết một kịch bản Python để hợp nhất hai từ điển Python.**\n",
        "\n",
        "**Write a Python script to merge two Python dictionaries.**\n",
        "\n"
      ]
    },
    {
      "cell_type": "code",
      "metadata": {
        "id": "EephlLKtoxYm",
        "colab_type": "code",
        "colab": {
          "base_uri": "https://localhost:8080/",
          "height": 34
        },
        "outputId": "d0ccd01a-7236-4cc5-8b63-a4acd956ee8a"
      },
      "source": [
        "d1 = {'a': 100, 'b': 200}\n",
        "d2 = {'x': 300, 'y': 200}\n",
        "d = d1.copy()\n",
        "d.update(d2)\n",
        "print(d)"
      ],
      "execution_count": 9,
      "outputs": [
        {
          "output_type": "stream",
          "text": [
            "{'a': 100, 'b': 200, 'x': 300, 'y': 200}\n"
          ],
          "name": "stdout"
        }
      ]
    },
    {
      "cell_type": "markdown",
      "metadata": {
        "id": "DPxBcSEVpMDI",
        "colab_type": "text"
      },
      "source": [
        "**9, Viết chương trình Python để lặp lại từ điển bằng cách sử dụng các vòng lặp.**\n",
        "\n",
        "**Write a Python program to iterate over dictionaries using for loops.**\n",
        "\n"
      ]
    },
    {
      "cell_type": "code",
      "metadata": {
        "id": "BGpA5dqBo_fl",
        "colab_type": "code",
        "colab": {
          "base_uri": "https://localhost:8080/",
          "height": 68
        },
        "outputId": "546055ca-ac36-423c-e89a-33cae9b3cc72"
      },
      "source": [
        "d = {'Red':1, 'Green':2, 'Blue':3}\n",
        "for color_key, value in d.items():\n",
        "  print(color_key, 'corresponds to ', d[color_key])"
      ],
      "execution_count": 10,
      "outputs": [
        {
          "output_type": "stream",
          "text": [
            "Red corresponds to  1\n",
            "Green corresponds to  2\n",
            "Blue corresponds to  3\n"
          ],
          "name": "stdout"
        }
      ]
    },
    {
      "cell_type": "markdown",
      "metadata": {
        "id": "PN_Yms5Wpb8Z",
        "colab_type": "text"
      },
      "source": [
        "**10, Viết chương trình Python để tổng hợp tất cả các mục trong từ điển.**\n",
        "\n",
        "**Write a Python program to sum all the items in a dictionary.**\n",
        "\n"
      ]
    },
    {
      "cell_type": "code",
      "metadata": {
        "id": "ZxZzYkAFpZBF",
        "colab_type": "code",
        "colab": {
          "base_uri": "https://localhost:8080/",
          "height": 34
        },
        "outputId": "635a62dc-94b8-49ad-b8a3-201accdcadf1"
      },
      "source": [
        "my_dict = {'data1': 100, 'data2': -5, 'data3':247}\n",
        "print(sum(my_dict.values()))"
      ],
      "execution_count": 11,
      "outputs": [
        {
          "output_type": "stream",
          "text": [
            "342\n"
          ],
          "name": "stdout"
        }
      ]
    },
    {
      "cell_type": "markdown",
      "metadata": {
        "id": "TLmlbIwupvRe",
        "colab_type": "text"
      },
      "source": [
        "**11, Viết chương trình Python để nhân tất cả các mục trong từ điển.**\n",
        "\n",
        "**Write a Python program to multiply all the items in a dictionary.**\n",
        "\n"
      ]
    },
    {
      "cell_type": "code",
      "metadata": {
        "id": "nFPgqa-ypldV",
        "colab_type": "code",
        "colab": {
          "base_uri": "https://localhost:8080/",
          "height": 34
        },
        "outputId": "ffe9883e-de3f-4a3c-888c-21f1952a00af"
      },
      "source": [
        "my_dict = {'data1': 100, 'data2': -54, 'data3': 247}\n",
        "result = 1\n",
        "for key in my_dict:\n",
        "  result *= my_dict[key]\n",
        "\n",
        "print(result)"
      ],
      "execution_count": 13,
      "outputs": [
        {
          "output_type": "stream",
          "text": [
            "-1333800\n"
          ],
          "name": "stdout"
        }
      ]
    },
    {
      "cell_type": "markdown",
      "metadata": {
        "id": "AuREcaw2qGwn",
        "colab_type": "text"
      },
      "source": [
        "**12, Viết chương trình Python để xóa khóa khỏi từ điển.**\n",
        "\n",
        "**Write a Python program to remove a key from a dictionary.**\n",
        "\n"
      ]
    },
    {
      "cell_type": "code",
      "metadata": {
        "id": "C471cSzhqAYQ",
        "colab_type": "code",
        "colab": {
          "base_uri": "https://localhost:8080/",
          "height": 51
        },
        "outputId": "4c70a814-a4e1-4103-ebe9-c1ede6ea6d36"
      },
      "source": [
        "myDict = {'a':1, 'b':2, 'c':3, 'd':4}\n",
        "print(myDict)\n",
        "if 'a' in myDict:\n",
        "  del myDict['a']\n",
        "print(myDict)"
      ],
      "execution_count": 15,
      "outputs": [
        {
          "output_type": "stream",
          "text": [
            "{'a': 1, 'b': 2, 'c': 3, 'd': 4}\n",
            "{'b': 2, 'c': 3, 'd': 4}\n"
          ],
          "name": "stdout"
        }
      ]
    },
    {
      "cell_type": "markdown",
      "metadata": {
        "id": "zm5wpXP_qeTy",
        "colab_type": "text"
      },
      "source": [
        "**13, Viết chương trình Python để ánh xạ hai danh sách vào từ điển.**\n",
        "\n",
        "**Write a Python program to map two lists into a dictionary.**\n",
        "\n"
      ]
    },
    {
      "cell_type": "code",
      "metadata": {
        "id": "e2COKZ9aqU29",
        "colab_type": "code",
        "colab": {
          "base_uri": "https://localhost:8080/",
          "height": 34
        },
        "outputId": "2d7823ff-e495-4414-d4d2-df08f3467b2e"
      },
      "source": [
        "keys = ['red', 'green', 'blue']\n",
        "values = ['#FF0000', '#008000', '#0000FF']\n",
        "color_dictionary = dict(zip(keys, values))\n",
        "print(color_dictionary)"
      ],
      "execution_count": 16,
      "outputs": [
        {
          "output_type": "stream",
          "text": [
            "{'red': '#FF0000', 'green': '#008000', 'blue': '#0000FF'}\n"
          ],
          "name": "stdout"
        }
      ]
    },
    {
      "cell_type": "markdown",
      "metadata": {
        "id": "y7oy1OleqwEA",
        "colab_type": "text"
      },
      "source": [
        "**14, Viết chương trình Python để sắp xếp từ điển theo khóa.**\n",
        "\n",
        "**Write a Python program to sort a dictionary by key.**\n",
        "\n"
      ]
    },
    {
      "cell_type": "code",
      "metadata": {
        "id": "ptWCDtq5qtmk",
        "colab_type": "code",
        "colab": {
          "base_uri": "https://localhost:8080/",
          "height": 85
        },
        "outputId": "a5684c3d-e294-49a8-bc22-8bde2e394839"
      },
      "source": [
        "color_dict = {'red': '#FF0000', 'green': '#008000', 'black':'#000000', 'white':'#FFFFFF'}\n",
        "for key in sorted(color_dict):\n",
        "  print(\"%s:%s\" % (key, color_dict[key]))"
      ],
      "execution_count": 19,
      "outputs": [
        {
          "output_type": "stream",
          "text": [
            "black:#000000\n",
            "green:#008000\n",
            "red:#FF0000\n",
            "white:#FFFFFF\n"
          ],
          "name": "stdout"
        }
      ]
    },
    {
      "cell_type": "markdown",
      "metadata": {
        "id": "Wr4ddttLrVBl",
        "colab_type": "text"
      },
      "source": [
        "**15, Viết chương trình Python để lấy giá trị tối đa và tối thiểu trong từ điển.**\n",
        "\n",
        "**Write a Python program to get the maximum and minimum value in a dictionary.**\n",
        "\n"
      ]
    },
    {
      "cell_type": "code",
      "metadata": {
        "id": "Q8IOUOwerJaB",
        "colab_type": "code",
        "colab": {
          "base_uri": "https://localhost:8080/",
          "height": 51
        },
        "outputId": "bac29d90-d02b-4d1e-fc33-52add5495c15"
      },
      "source": [
        "my_dict = {'x': 500, 'y':5874, 'z': 560}\n",
        "\n",
        "key_max = max(my_dict.keys(), key=(lambda k: my_dict[k]))\n",
        "key_min = min(my_dict.keys(), key=(lambda k: my_dict[k]))\n",
        "\n",
        "print('Maximum Value: ',my_dict[key_max])\n",
        "print('Minimum Value: ',my_dict[key_min])"
      ],
      "execution_count": 20,
      "outputs": [
        {
          "output_type": "stream",
          "text": [
            "Maximum Value:  5874\n",
            "Minimum Value:  500\n"
          ],
          "name": "stdout"
        }
      ]
    },
    {
      "cell_type": "markdown",
      "metadata": {
        "id": "WdZHyAEmsNA3",
        "colab_type": "text"
      },
      "source": [
        "**16, Viết chương trình Python để lấy từ điển từ các trường của đối tượng.**\n",
        "\n",
        "**Write a Python program to get a dictionary from an object's fields.**\n",
        "\n"
      ]
    },
    {
      "cell_type": "code",
      "metadata": {
        "id": "RbyW3dUKrtgj",
        "colab_type": "code",
        "colab": {
          "base_uri": "https://localhost:8080/",
          "height": 34
        },
        "outputId": "6c537401-6d88-46e2-8bdf-bfe087c7ed73"
      },
      "source": [
        "class dictObj(object):\n",
        "  def __init__(self):\n",
        "    self.x = 'red'\n",
        "    self.y = 'yellow'\n",
        "    self.z = 'green'\n",
        "  def do_nothing(self):\n",
        "    pass\n",
        "test = dictObj()\n",
        "print(test.__dict__)"
      ],
      "execution_count": 21,
      "outputs": [
        {
          "output_type": "stream",
          "text": [
            "{'x': 'red', 'y': 'yellow', 'z': 'green'}\n"
          ],
          "name": "stdout"
        }
      ]
    },
    {
      "cell_type": "markdown",
      "metadata": {
        "id": "5GoLVpgdsoQI",
        "colab_type": "text"
      },
      "source": [
        "**17, Viết chương trình Python để loại bỏ các bản sao khỏi Từ điển.**\n",
        "\n",
        "**Write a Python program to remove duplicates from Dictionary.**\n",
        "\n"
      ]
    },
    {
      "cell_type": "code",
      "metadata": {
        "id": "lK0OGW-_shR3",
        "colab_type": "code",
        "colab": {
          "base_uri": "https://localhost:8080/",
          "height": 54
        },
        "outputId": "a786f7fe-9954-473b-a040-7a686950b711"
      },
      "source": [
        "student_data = {'id1': \n",
        "   {'name': ['Sara'], \n",
        "    'class': ['V'], \n",
        "    'subject_integration': ['english, math, science']\n",
        "   },\n",
        " 'id2': \n",
        "  {'name': ['David'], \n",
        "    'class': ['V'], \n",
        "    'subject_integration': ['english, math, science']\n",
        "   },\n",
        " 'id3': \n",
        "    {'name': ['Sara'], \n",
        "    'class': ['V'], \n",
        "    'subject_integration': ['english, math, science']\n",
        "   },\n",
        " 'id4': \n",
        "   {'name': ['Surya'], \n",
        "    'class': ['V'], \n",
        "    'subject_integration': ['english, math, science']\n",
        "   },\n",
        "}\n",
        "result = {}\n",
        "\n",
        "for key, value in student_data.items():\n",
        "  if value not in result.values():\n",
        "    result[key] = value\n",
        "\n",
        "print(result)"
      ],
      "execution_count": 22,
      "outputs": [
        {
          "output_type": "stream",
          "text": [
            "{'id1': {'name': ['Sara'], 'class': ['V'], 'subject_integration': ['english, math, science']}, 'id2': {'name': ['David'], 'class': ['V'], 'subject_integration': ['english, math, science']}, 'id4': {'name': ['Surya'], 'class': ['V'], 'subject_integration': ['english, math, science']}}\n"
          ],
          "name": "stdout"
        }
      ]
    },
    {
      "cell_type": "markdown",
      "metadata": {
        "id": "Moo3SwECtCXY",
        "colab_type": "text"
      },
      "source": [
        "**18, Viết chương trình Python để kiểm tra từ điển có trống hay không.**\n",
        "\n",
        "**Write a Python program to check a dictionary is empty or not.**\n",
        "\n"
      ]
    },
    {
      "cell_type": "code",
      "metadata": {
        "id": "B5umHsoss5Nu",
        "colab_type": "code",
        "colab": {
          "base_uri": "https://localhost:8080/",
          "height": 34
        },
        "outputId": "fd3dfb26-dbf3-42f4-98f6-b53498f96767"
      },
      "source": [
        "my_dict = {}\n",
        "\n",
        "if not bool(my_dict):\n",
        "  print(\"Dictionary is empty\")"
      ],
      "execution_count": 23,
      "outputs": [
        {
          "output_type": "stream",
          "text": [
            "Dictionary is empty\n"
          ],
          "name": "stdout"
        }
      ]
    },
    {
      "cell_type": "markdown",
      "metadata": {
        "id": "vDg_Dd0WtOTh",
        "colab_type": "text"
      },
      "source": [
        "**19, Viết chương trình Python để kết hợp hai giá trị thêm từ điển cho các khóa chung.**\n",
        "\n",
        "**Write a Python program to combine two dictionary adding values for common keys.**\n",
        "\n"
      ]
    },
    {
      "cell_type": "code",
      "metadata": {
        "id": "EOb0kGhRtKb0",
        "colab_type": "code",
        "colab": {
          "base_uri": "https://localhost:8080/",
          "height": 34
        },
        "outputId": "31bf9d22-1783-4c12-f91a-91ff11fbb7ec"
      },
      "source": [
        "from collections import Counter\n",
        "d1 = {'a': 100, 'b': 200, 'c':300}\n",
        "d2 = {'a': 300, 'b': 200, 'd':400}\n",
        "d = Counter(d1) + Counter(d2)\n",
        "print(d)"
      ],
      "execution_count": 25,
      "outputs": [
        {
          "output_type": "stream",
          "text": [
            "Counter({'a': 400, 'b': 400, 'd': 400, 'c': 300})\n"
          ],
          "name": "stdout"
        }
      ]
    },
    {
      "cell_type": "markdown",
      "metadata": {
        "id": "mbB6-9JytrS-",
        "colab_type": "text"
      },
      "source": [
        "**20, Viết chương trình Python để in tất cả các giá trị duy nhất trong từ điển.**\n",
        "\n",
        "**Write a Python program to print all unique values in a dictionary.**\n",
        "\n"
      ]
    },
    {
      "cell_type": "code",
      "metadata": {
        "id": "zKyaPJihtfy8",
        "colab_type": "code",
        "colab": {
          "base_uri": "https://localhost:8080/",
          "height": 51
        },
        "outputId": "3176014a-61c4-4844-924b-eff76c782fcd"
      },
      "source": [
        "L = [{\"V\":\"S001\"}, {\"V\": \"S002\"}, {\"VI\": \"S001\"}, {\"VI\": \"S005\"}, {\"VII\":\"S005\"}, {\"V\":\"S009\"},{\"VIII\":\"S007\"}]\n",
        "print(\"Original List: \", L)\n",
        "u_value = set(val for dic in L for val in dic.values())\n",
        "print(\"Unique Values: \", u_value)"
      ],
      "execution_count": 26,
      "outputs": [
        {
          "output_type": "stream",
          "text": [
            "Original List:  [{'V': 'S001'}, {'V': 'S002'}, {'VI': 'S001'}, {'VI': 'S005'}, {'VII': 'S005'}, {'V': 'S009'}, {'VIII': 'S007'}]\n",
            "Unique Values:  {'S002', 'S007', 'S009', 'S005', 'S001'}\n"
          ],
          "name": "stdout"
        }
      ]
    },
    {
      "cell_type": "markdown",
      "metadata": {
        "id": "r2FTNFhPubJb",
        "colab_type": "text"
      },
      "source": [
        "**21, Viết chương trình Python để tạo và hiển thị tất cả các tổ hợp chữ cái, chọn từng chữ cái từ một khóa khác nhau trong từ điển.**\n",
        "\n",
        "**Write a Python program to create and display all combinations of letters, selecting each letter from a different key in a dictionary.**\n",
        "\n"
      ]
    },
    {
      "cell_type": "code",
      "metadata": {
        "id": "8yOCyikit5bD",
        "colab_type": "code",
        "colab": {
          "base_uri": "https://localhost:8080/",
          "height": 85
        },
        "outputId": "8017f887-cdab-4367-8ef0-ac5497fbac56"
      },
      "source": [
        "import itertools\n",
        "d = {'1': ['a', 'b'], '2': ['c', 'd']}\n",
        "for combo in itertools.product(*[d[k] for k in sorted(d.keys())]):\n",
        "  print(\"\".join(combo))"
      ],
      "execution_count": 28,
      "outputs": [
        {
          "output_type": "stream",
          "text": [
            "ac\n",
            "ad\n",
            "bc\n",
            "bd\n"
          ],
          "name": "stdout"
        }
      ]
    },
    {
      "cell_type": "markdown",
      "metadata": {
        "id": "6cEeNX5avJDH",
        "colab_type": "text"
      },
      "source": [
        "**22, Viết chương trình Python để tìm 3 giá trị cao nhất trong từ điển.**\n",
        "\n",
        "**Write a Python program to find the highest 3 values in a dictionary.**\n",
        "\n"
      ]
    },
    {
      "cell_type": "code",
      "metadata": {
        "id": "cUGEXdFJuyZn",
        "colab_type": "code",
        "colab": {
          "base_uri": "https://localhost:8080/",
          "height": 34
        },
        "outputId": "1a0a5696-f1cc-4aae-8cb0-9ef1996ebdef"
      },
      "source": [
        "from heapq import nlargest \n",
        "my_dict = {'a':500, 'b': 5874, 'c': 560, 'd':400, 'e':5840, 'f':20}\n",
        "three_largest = nlargest(3, my_dict, key=my_dict.get)\n",
        "print(three_largest)"
      ],
      "execution_count": 29,
      "outputs": [
        {
          "output_type": "stream",
          "text": [
            "['b', 'e', 'c']\n"
          ],
          "name": "stdout"
        }
      ]
    },
    {
      "cell_type": "markdown",
      "metadata": {
        "id": "uJC9KfYavi_f",
        "colab_type": "text"
      },
      "source": [
        "**23, Viết chương trình Python để kết hợp các giá trị trong danh sách từ điển python.**\n",
        "\n",
        "**Write a Python program to combine values in python list of dictionaries.**\n",
        "\n"
      ]
    },
    {
      "cell_type": "code",
      "metadata": {
        "id": "OWLJkLxzvbAd",
        "colab_type": "code",
        "colab": {
          "base_uri": "https://localhost:8080/",
          "height": 34
        },
        "outputId": "8ea3f3e5-0564-42f6-9b5f-9d4357c00129"
      },
      "source": [
        "from collections import Counter\n",
        "item_list = [{'item': 'item1', 'amount': 400}, {'item': 'item2', 'amount': 300}, {'item': 'item1', 'amount': 750}]\n",
        "result = Counter()\n",
        "for d in item_list:\n",
        "  result[d['item']] += d['amount']\n",
        "print(result)"
      ],
      "execution_count": 30,
      "outputs": [
        {
          "output_type": "stream",
          "text": [
            "Counter({'item1': 1150, 'item2': 300})\n"
          ],
          "name": "stdout"
        }
      ]
    },
    {
      "cell_type": "markdown",
      "metadata": {
        "id": "bR8HxgejwOzf",
        "colab_type": "text"
      },
      "source": [
        "**24, Viết chương trình Python để tạo từ điển từ chuỗi.**\n",
        "\n",
        "**Write a Python program to create a dictionary from a string.**\n",
        "\n"
      ]
    },
    {
      "cell_type": "code",
      "metadata": {
        "id": "gtnUxKTDvwpO",
        "colab_type": "code",
        "colab": {
          "base_uri": "https://localhost:8080/",
          "height": 34
        },
        "outputId": "d669c42f-0304-4c71-d0f1-2ddd56ef7526"
      },
      "source": [
        "from collections import defaultdict, Counter\n",
        "str1 = 'w3resource'\n",
        "my_dict = {}\n",
        "for letter in str1:\n",
        "  my_dict[letter] = my_dict.get(letter, 0) + 1\n",
        "print(my_dict)"
      ],
      "execution_count": 31,
      "outputs": [
        {
          "output_type": "stream",
          "text": [
            "{'w': 1, '3': 1, 'r': 2, 'e': 2, 's': 1, 'o': 1, 'u': 1, 'c': 1}\n"
          ],
          "name": "stdout"
        }
      ]
    },
    {
      "cell_type": "markdown",
      "metadata": {
        "id": "qDYU6uOVwzov",
        "colab_type": "text"
      },
      "source": [
        "**25, Viết chương trình Python để in một từ điển ở định dạng bảng.**\n",
        "\n",
        "**Write a Python program to print a dictionary in table format.**\n",
        "\n"
      ]
    },
    {
      "cell_type": "code",
      "metadata": {
        "id": "C8sglZlOwd9n",
        "colab_type": "code",
        "colab": {
          "base_uri": "https://localhost:8080/",
          "height": 85
        },
        "outputId": "de938bcd-6a39-4424-e634-f2841b1a9720"
      },
      "source": [
        "my_dict = {'C1':[1,2,3],'C2':[5,6,7],'C3':[9,10,11]}\n",
        "for row in zip(*([key] + (value) for key, value in sorted(my_dict.items()))): # tạo 3 list từ key và value từ dict, rồi lấy giá trị 3 list đó in ra\n",
        "  print(*row)   # 3 list tạo được ['C1',1,2,3], ['C2',5,6,7], ['C3',9,10,11]. tạo được 1 tuple row = (C1,C2,C3) -> (1,5,9) "
      ],
      "execution_count": 34,
      "outputs": [
        {
          "output_type": "stream",
          "text": [
            "C1 C2 C3\n",
            "1 5 9\n",
            "2 6 10\n",
            "3 7 11\n"
          ],
          "name": "stdout"
        }
      ]
    },
    {
      "cell_type": "markdown",
      "metadata": {
        "id": "IdIxmFv-ydlv",
        "colab_type": "text"
      },
      "source": [
        "**26, Viết chương trình Python để đếm các giá trị được liên kết với khóa trong từ điển.**\n",
        "\n",
        "**Write a Python program to count the values associated with key in a dictionary.**\n",
        "\n"
      ]
    },
    {
      "cell_type": "code",
      "metadata": {
        "id": "gBTEYcOTxClu",
        "colab_type": "code",
        "colab": {
          "base_uri": "https://localhost:8080/",
          "height": 34
        },
        "outputId": "425dc83d-52d3-4b3e-a4d1-fabcc7ed8162"
      },
      "source": [
        "student = [{'id': 1, 'success': True, 'name': 'Lary'}, # tạo 1 list bên trong gồm 3 dict\n",
        " {'id': 2, 'success': False, 'name': 'Rabi'},\n",
        " {'id': 3, 'success': True, 'name': 'Alex'}]\n",
        "print(sum(d['success'] for d in student))              # đếm success True"
      ],
      "execution_count": 36,
      "outputs": [
        {
          "output_type": "stream",
          "text": [
            "2\n"
          ],
          "name": "stdout"
        }
      ]
    },
    {
      "cell_type": "markdown",
      "metadata": {
        "id": "3e4ytA8xzGAq",
        "colab_type": "text"
      },
      "source": [
        "**27, Viết chương trình Python để chuyển đổi danh sách thành từ điển khóa lồng nhau.**\n",
        "\n",
        "**Write a Python program to convert a list into a nested dictionary of keys.**\n",
        "\n"
      ]
    },
    {
      "cell_type": "code",
      "metadata": {
        "id": "kG4dCpmTysxH",
        "colab_type": "code",
        "colab": {
          "base_uri": "https://localhost:8080/",
          "height": 34
        },
        "outputId": "400f2447-ec64-486c-e208-ec3a7e764698"
      },
      "source": [
        "num_list = [1,2,3,4]\n",
        "new_dict = current = {}\n",
        "for name in num_list:\n",
        "  current[name] = {}\n",
        "  current = current[name]\n",
        "print(new_dict)"
      ],
      "execution_count": 37,
      "outputs": [
        {
          "output_type": "stream",
          "text": [
            "{1: {2: {3: {4: {}}}}}\n"
          ],
          "name": "stdout"
        }
      ]
    },
    {
      "cell_type": "markdown",
      "metadata": {
        "id": "jTvzkmedzszX",
        "colab_type": "text"
      },
      "source": [
        "**28, Viết chương trình Python để sắp xếp danh sách theo thứ tự abc trong từ điển.**\n",
        "\n",
        "**Write a Python program to sort a list alphabetically in a dictionary.**\n",
        "\n"
      ]
    },
    {
      "cell_type": "code",
      "metadata": {
        "id": "Ok33i2NEzVKz",
        "colab_type": "code",
        "colab": {
          "base_uri": "https://localhost:8080/",
          "height": 34
        },
        "outputId": "8a6d50cb-d9e7-479b-ea53-10f55107ce14"
      },
      "source": [
        "num = {'n1': [2, 3, 1], 'n2': [5, 1, 2], 'n3': [3, 2, 4]}\n",
        "sorted_dict = {x: sorted(y) for x,y in num.items()}\n",
        "print(sorted_dict)"
      ],
      "execution_count": 38,
      "outputs": [
        {
          "output_type": "stream",
          "text": [
            "{'n1': [1, 2, 3], 'n2': [1, 2, 5], 'n3': [2, 3, 4]}\n"
          ],
          "name": "stdout"
        }
      ]
    },
    {
      "cell_type": "markdown",
      "metadata": {
        "id": "Bg35SsHn0VNz",
        "colab_type": "text"
      },
      "source": [
        "**29, Viết chương trình Python để xóa khoảng trắng khỏi khóa từ điển.**\n",
        "\n",
        "**Write a Python program to remove spaces from dictionary keys.**\n",
        "\n"
      ]
    },
    {
      "cell_type": "code",
      "metadata": {
        "id": "A0S7m_cHz3ds",
        "colab_type": "code",
        "colab": {
          "base_uri": "https://localhost:8080/",
          "height": 51
        },
        "outputId": "1421f1cf-ce8c-411e-e444-9c47bf5817f3"
      },
      "source": [
        "student_list = {'S  001': ['Math', 'Science'], 'S    002': ['Math', 'English']}\n",
        "print(\"Original dictionary: \",student_list)\n",
        "student_dict = {x.translate({32: None}) : y for x, y in student_list.items()}\n",
        "print(\"New dictionary: \", student_dict)"
      ],
      "execution_count": 40,
      "outputs": [
        {
          "output_type": "stream",
          "text": [
            "Original dictionary:  {'S  001': ['Math', 'Science'], 'S    002': ['Math', 'English']}\n",
            "New dictionary:  {'S001': ['Math', 'Science'], 'S002': ['Math', 'English']}\n"
          ],
          "name": "stdout"
        }
      ]
    },
    {
      "cell_type": "markdown",
      "metadata": {
        "id": "IXNQofgP0-Mw",
        "colab_type": "text"
      },
      "source": [
        "**30, Viết chương trình Python để có ba mục hàng đầu trong một cửa hàng.**\n",
        "\n",
        "**Write a Python program to get the top three items in a shop.**\n",
        "\n"
      ]
    },
    {
      "cell_type": "code",
      "metadata": {
        "id": "Ukbz0S2Q0nSX",
        "colab_type": "code",
        "colab": {
          "base_uri": "https://localhost:8080/",
          "height": 68
        },
        "outputId": "40608b0e-7ed7-43cb-87d2-497f336526cc"
      },
      "source": [
        "from heapq import nlargest\n",
        "from operator import itemgetter\n",
        "items = {'item1': 45.50, 'item2':35, 'item3': 41.30, 'item4':55, 'item5': 24}\n",
        "for name, value in nlargest (3, items.items(), key=itemgetter(1)):\n",
        "  print(name, value)"
      ],
      "execution_count": 41,
      "outputs": [
        {
          "output_type": "stream",
          "text": [
            "item4 55\n",
            "item1 45.5\n",
            "item3 41.3\n"
          ],
          "name": "stdout"
        }
      ]
    },
    {
      "cell_type": "markdown",
      "metadata": {
        "id": "fyUPQzRb1XxX",
        "colab_type": "text"
      },
      "source": [
        "**31, Viết chương trình Python để lấy khóa, giá trị và mục trong từ điển.**\n",
        "\n",
        "**Write a Python program to get the key, value and item in a dictionary.**\n",
        "\n"
      ]
    },
    {
      "cell_type": "code",
      "metadata": {
        "id": "MvoytZ7K1QgG",
        "colab_type": "code",
        "colab": {
          "base_uri": "https://localhost:8080/",
          "height": 136
        },
        "outputId": "f788ff51-05e3-42d5-a79e-1a65421b5cba"
      },
      "source": [
        "dict_num = {1: 10, 2: 20, 3: 30, 4: 40, 5: 50, 6: 60}\n",
        "print(\"Key  Value   Count\")\n",
        "for count, (key, value) in enumerate(dict_num.items(), 1):\n",
        "  print(key, '   ', value, '     ', count)"
      ],
      "execution_count": 45,
      "outputs": [
        {
          "output_type": "stream",
          "text": [
            "Key  Value   Count\n",
            "1     10       1\n",
            "2     20       2\n",
            "3     30       3\n",
            "4     40       4\n",
            "5     50       5\n",
            "6     60       6\n"
          ],
          "name": "stdout"
        }
      ]
    },
    {
      "cell_type": "markdown",
      "metadata": {
        "id": "ITqzrpD11_ug",
        "colab_type": "text"
      },
      "source": [
        "**32, Viết chương trình Python để in một dòng từ điển theo dòng.**\n",
        "\n",
        "**Write a Python program to print a dictionary line by line.**\n",
        "\n"
      ]
    },
    {
      "cell_type": "code",
      "metadata": {
        "id": "ZijZGKyg1pFf",
        "colab_type": "code",
        "colab": {
          "base_uri": "https://localhost:8080/",
          "height": 119
        },
        "outputId": "5b803ddf-392f-47c7-9ece-d4b03897a789"
      },
      "source": [
        "students = {'Aex':{'class':'V',\n",
        "        'rolld_id':2},\n",
        "        'Puja':{'class':'V',\n",
        "        'roll_id':3}}\n",
        "\n",
        "for a in students:\n",
        "  print(a)\n",
        "  for b in students[a]:\n",
        "    print(b, ':', students[a][b])"
      ],
      "execution_count": 46,
      "outputs": [
        {
          "output_type": "stream",
          "text": [
            "Aex\n",
            "class : V\n",
            "rolld_id : 2\n",
            "Puja\n",
            "class : V\n",
            "roll_id : 3\n"
          ],
          "name": "stdout"
        }
      ]
    },
    {
      "cell_type": "markdown",
      "metadata": {
        "id": "4IFbh8rM2fNj",
        "colab_type": "text"
      },
      "source": [
        "**33, Viết chương trình Python để kiểm tra nhiều khóa tồn tại trong từ điển.**\n",
        "\n",
        "**Write a Python program to check multiple keys exists in a dictionary.**\n",
        "\n"
      ]
    },
    {
      "cell_type": "code",
      "metadata": {
        "id": "a2PfyODi2NTT",
        "colab_type": "code",
        "colab": {
          "base_uri": "https://localhost:8080/",
          "height": 68
        },
        "outputId": "243c2ea1-43b9-435d-950f-c1ee910e4eb0"
      },
      "source": [
        "student = {\n",
        "  'name': 'Alex',\n",
        "  'class': 'V',\n",
        "  'roll_id': '2'\n",
        "}\n",
        "print(student.keys() >= {'class', 'name'})\n",
        "print(student.keys() >= {'name', 'Alex'})\n",
        "print(student.keys() >= {'roll_id', 'name'})"
      ],
      "execution_count": 47,
      "outputs": [
        {
          "output_type": "stream",
          "text": [
            "True\n",
            "False\n",
            "True\n"
          ],
          "name": "stdout"
        }
      ]
    },
    {
      "cell_type": "markdown",
      "metadata": {
        "id": "6tOiQv9D2zuF",
        "colab_type": "text"
      },
      "source": [
        "**34, Viết chương trình Python để đếm số mục trong giá trị từ điển là danh sách.**\n",
        "\n",
        "**Write a Python program to count number of items in a dictionary value that is a list.**\n",
        "\n"
      ]
    },
    {
      "cell_type": "code",
      "metadata": {
        "id": "n8aFU8aF2wHj",
        "colab_type": "code",
        "colab": {
          "base_uri": "https://localhost:8080/",
          "height": 34
        },
        "outputId": "a59492b5-1e81-4ab2-aa9e-674d9a4ae65d"
      },
      "source": [
        "dict =  {'Alex': ['subj1', 'subj2', 'subj3'], 'David': ['subj1', 'subj2']}\n",
        "ctr = sum(map(len, dict.values()))\n",
        "print(ctr)"
      ],
      "execution_count": 48,
      "outputs": [
        {
          "output_type": "stream",
          "text": [
            "5\n"
          ],
          "name": "stdout"
        }
      ]
    },
    {
      "cell_type": "markdown",
      "metadata": {
        "id": "UMQ932Ot3Eq-",
        "colab_type": "text"
      },
      "source": [
        "**35, Viết chương trình Python để sắp xếp Counter theo giá trị.**\n",
        "\n",
        "**Write a Python program to sort Counter by value.**\n",
        "\n"
      ]
    },
    {
      "cell_type": "code",
      "metadata": {
        "id": "f0qm0Ylc27cR",
        "colab_type": "code",
        "colab": {
          "base_uri": "https://localhost:8080/",
          "height": 34
        },
        "outputId": "b2517aa9-2b76-49e8-d1e2-0f5908275fa0"
      },
      "source": [
        "from collections import Counter\n",
        "x = Counter({'Math':81, 'Physics':83, 'Chemistry':87})\n",
        "print(x.most_common())"
      ],
      "execution_count": 49,
      "outputs": [
        {
          "output_type": "stream",
          "text": [
            "[('Chemistry', 87), ('Physics', 83), ('Math', 81)]\n"
          ],
          "name": "stdout"
        }
      ]
    },
    {
      "cell_type": "markdown",
      "metadata": {
        "id": "tzl5BLyL3W-P",
        "colab_type": "text"
      },
      "source": [
        "**36, Viết chương trình Python để tạo một từ điển từ hai danh sách mà không làm mất các giá trị trùng lặp.**\n",
        "\n",
        "**Write a Python program to create a dictionary from two lists without losing duplicate values.**\n",
        "\n"
      ]
    },
    {
      "cell_type": "code",
      "metadata": {
        "id": "_T3TbGq73Kqc",
        "colab_type": "code",
        "colab": {
          "base_uri": "https://localhost:8080/",
          "height": 34
        },
        "outputId": "7fc5a0b5-2520-4adf-9ad7-171abff7accb"
      },
      "source": [
        "from collections import defaultdict\n",
        "class_dict = ['Class-V', 'Class-VI', 'Class-VII', 'Class-VIII']\n",
        "id_list = [1,2,2,3]\n",
        "temp = defaultdict(set)\n",
        "for c, i in zip(class_dict, id_list):\n",
        "  temp[c].add(i)\n",
        "print(temp)"
      ],
      "execution_count": 51,
      "outputs": [
        {
          "output_type": "stream",
          "text": [
            "defaultdict(<class 'set'>, {'Class-V': {1}, 'Class-VI': {2}, 'Class-VII': {2}, 'Class-VIII': {3}})\n"
          ],
          "name": "stdout"
        }
      ]
    },
    {
      "cell_type": "markdown",
      "metadata": {
        "id": "gyv_ckLi38RU",
        "colab_type": "text"
      },
      "source": [
        "**37, Viết chương trình Python để thay thế giá trị từ điển bằng giá trị trung bình của chúng.**\n",
        "\n",
        "**Write a Python program to replace dictionary values with their average.**\n",
        "\n"
      ]
    },
    {
      "cell_type": "code",
      "metadata": {
        "id": "ZnYvMw4X3tQM",
        "colab_type": "code",
        "colab": {
          "base_uri": "https://localhost:8080/",
          "height": 34
        },
        "outputId": "9d76abfb-9495-4203-c3bc-a98c422cbe57"
      },
      "source": [
        "def sum_math_v_vi_average(list_of_dicts):\n",
        "  for d in list_of_dicts:\n",
        "    n1 = d.pop('V')\n",
        "    n2 = d.pop('VI')\n",
        "    d['V+VI'] = (n1+n2)/2\n",
        "  return list_of_dicts\n",
        "student_details= [\n",
        "  {'id' : 1, 'subject' : 'math', 'V' : 70, 'VI' : 82},\n",
        "  {'id' : 2, 'subject' : 'math', 'V' : 73, 'VI' : 74},\n",
        "  {'id' : 3, 'subject' : 'math', 'V' : 75, 'VI' : 86}\n",
        "]\n",
        "print(sum_math_v_vi_average(student_details))"
      ],
      "execution_count": 52,
      "outputs": [
        {
          "output_type": "stream",
          "text": [
            "[{'id': 1, 'subject': 'math', 'V+VI': 76.0}, {'id': 2, 'subject': 'math', 'V+VI': 73.5}, {'id': 3, 'subject': 'math', 'V+VI': 80.5}]\n"
          ],
          "name": "stdout"
        }
      ]
    },
    {
      "cell_type": "markdown",
      "metadata": {
        "id": "vVm0v4Gw40RU",
        "colab_type": "text"
      },
      "source": [
        "**38, Viết chương trình Python để khớp các giá trị chính trong hai từ điển.**\n",
        "\n",
        "**Write a Python program to match key values in two dictionaries.**\n",
        "\n"
      ]
    },
    {
      "cell_type": "code",
      "metadata": {
        "id": "jLR6_BWI4SaK",
        "colab_type": "code",
        "colab": {
          "base_uri": "https://localhost:8080/",
          "height": 34
        },
        "outputId": "251239d9-22cc-4293-da0b-4c49fcc26416"
      },
      "source": [
        "x = {'key1': 1, 'key2': 3, 'key3': 2}\n",
        "y = {'key1': 1, 'key2': 2}\n",
        "for (key, value) in set(x.items()) & set(y.items()):\n",
        "  print(\"%s: %s in present in both x and y\" % (key, value))"
      ],
      "execution_count": 53,
      "outputs": [
        {
          "output_type": "stream",
          "text": [
            "key1: 1 in present in both x and y\n"
          ],
          "name": "stdout"
        }
      ]
    },
    {
      "cell_type": "markdown",
      "metadata": {
        "id": "E6UsCLcB5N-O",
        "colab_type": "text"
      },
      "source": [
        "**39, Viết chương trình Python để lưu trữ một từ điển đã cho trong tệp json.**\n",
        "\n",
        "**Write a Python program to store a given dictionary in a json file.**\n",
        "\n"
      ]
    },
    {
      "cell_type": "code",
      "metadata": {
        "id": "mutV8_a15E5j",
        "colab_type": "code",
        "colab": {
          "base_uri": "https://localhost:8080/",
          "height": 139
        },
        "outputId": "51a27286-3fcc-4266-8fba-2b0fb3b0a1ac"
      },
      "source": [
        "d = {\"students\":[{\"firstName\": \"Nikki\", \"lastName\": \"Roysden\"},\n",
        "               {\"firstName\": \"Mervin\", \"lastName\": \"Friedland\"},\n",
        "               {\"firstName\": \"Aron \", \"lastName\": \"Wilkins\"}],\n",
        "\"teachers\":[{\"firstName\": \"Amberly\", \"lastName\": \"Calico\"},\n",
        "         {\"firstName\": \"Regine\", \"lastName\": \"Agtarap\"}]}\n",
        "print(\"Original dictionary:\")\n",
        "print(d)\n",
        "print(type(d))\n",
        "import json\n",
        " \n",
        "with open(\"dictionary\", \"w\") as f:\n",
        "   json.dump(d, f, indent = 4, sort_keys = True)\n",
        " \n",
        "print(\"\\nJson file to dictionary:\")\n",
        "with open('dictionary') as f:\n",
        " data = json.load(f)\n",
        "print(data)"
      ],
      "execution_count": 54,
      "outputs": [
        {
          "output_type": "stream",
          "text": [
            "Original dictionary:\n",
            "{'students': [{'firstName': 'Nikki', 'lastName': 'Roysden'}, {'firstName': 'Mervin', 'lastName': 'Friedland'}, {'firstName': 'Aron ', 'lastName': 'Wilkins'}], 'teachers': [{'firstName': 'Amberly', 'lastName': 'Calico'}, {'firstName': 'Regine', 'lastName': 'Agtarap'}]}\n",
            "<class 'dict'>\n",
            "\n",
            "Json file to dictionary:\n",
            "{'students': [{'firstName': 'Nikki', 'lastName': 'Roysden'}, {'firstName': 'Mervin', 'lastName': 'Friedland'}, {'firstName': 'Aron ', 'lastName': 'Wilkins'}], 'teachers': [{'firstName': 'Amberly', 'lastName': 'Calico'}, {'firstName': 'Regine', 'lastName': 'Agtarap'}]}\n"
          ],
          "name": "stdout"
        }
      ]
    },
    {
      "cell_type": "markdown",
      "metadata": {
        "id": "1gV36PH45kS2",
        "colab_type": "text"
      },
      "source": [
        "**39, Viết chương trình Python để tạo một từ điển các khóa x, y và z trong đó mỗi khóa có giá trị tương ứng là một danh sách từ 11-20, 21-30 và 31-40. Truy cập giá trị thứ năm của mỗi khóa từ từ điển.**\n",
        "\n",
        "**Write a Python program to create a dictionary of keys x, y, and z where each key has as value a list from 11-20, 21-30, and 31-40 respectively. Access the fifth value of each key from the dictionary.**"
      ]
    },
    {
      "cell_type": "code",
      "metadata": {
        "id": "ENI7PT6w5UX4",
        "colab_type": "code",
        "colab": {}
      },
      "source": [
        "from pprint import pprint\n",
        "dict_nums = dict(x=list(range(11, 20)), y=list(range(21, 30)), z=list(range(31, 40)))\n",
        "pprint(dict_nums)\n",
        "print(dict_nums[\"x\"][4])\n",
        "print(dict_nums[\"y\"][4])\n",
        "print(dict_nums[\"z\"][4])\n",
        "for k,v in dict_nums.items():\n",
        "   print(k, \"has value\", v)"
      ],
      "execution_count": 0,
      "outputs": []
    },
    {
      "cell_type": "markdown",
      "metadata": {
        "id": "UdKnhRvJ5wG1",
        "colab_type": "text"
      },
      "source": [
        "# {'x': [11, 12, 13, 14, 15, 16, 17, 18, 19],\n",
        "# 'y': [21, 22, 23, 24, 25, 26, 27, 28, 29],\n",
        "# 'z': [31, 32, 33, 34, 35, 36, 37, 38, 39]}\n",
        "# 15\n",
        "# 25\n",
        "# 35\n",
        "# x has value [11, 12, 13, 14, 15, 16, 17, 18, 19]\n",
        "# y has value [21, 22, 23, 24, 25, 26, 27, 28, 29]\n",
        "# z has value [31, 32, 33, 34, 35, 36, 37, 38, 39]\n",
        "\n",
        "\n"
      ]
    },
    {
      "cell_type": "code",
      "metadata": {
        "id": "LxA89-9-5reB",
        "colab_type": "code",
        "colab": {}
      },
      "source": [
        ""
      ],
      "execution_count": 0,
      "outputs": []
    }
  ]
}