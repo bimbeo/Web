{
  "nbformat": 4,
  "nbformat_minor": 0,
  "metadata": {
    "colab": {
      "name": "100 Bai tap.ipynb",
      "provenance": [],
      "collapsed_sections": [],
      "authorship_tag": "ABX9TyNgv5vSEjocpCPJHJ6yzopX",
      "include_colab_link": true
    },
    "kernelspec": {
      "name": "python3",
      "display_name": "Python 3"
    }
  },
  "cells": [
    {
      "cell_type": "markdown",
      "metadata": {
        "id": "view-in-github",
        "colab_type": "text"
      },
      "source": [
        "<a href=\"https://colab.research.google.com/github/bimbeo/Web/blob/master/100_Bai_tap.ipynb\" target=\"_parent\"><img src=\"https://colab.research.google.com/assets/colab-badge.svg\" alt=\"Open In Colab\"/></a>"
      ]
    },
    {
      "cell_type": "markdown",
      "metadata": {
        "id": "PbOyp750rlWj",
        "colab_type": "text"
      },
      "source": [
        "**1, Bai 1: Viết chương trình tìm tất cả các số chia hết cho 7 nhưng không phải bội số của 5, nằm trong đoạn 2000 và 3200 (tính cả 2000 và 3200). Các số thu được sẽ được in thành chuỗi trên một dòng, cách nhau bằng dấu phẩy.**"
      ]
    },
    {
      "cell_type": "code",
      "metadata": {
        "id": "P7Kw9byC8lfW",
        "colab_type": "code",
        "outputId": "001394e1-3d89-4654-d481-795a622ce4ec",
        "colab": {
          "base_uri": "https://localhost:8080/",
          "height": 54
        }
      },
      "source": [
        "  l = [] # tao 1 list dung de chua ket qua \n",
        "  for i in range(2000,3001): # duyet phan tu i tu 2000 den 3000\n",
        "    if (i % 7 ==0) and (i % 5 != 0): # dieu kien i phai chia het cho 7 va khong chia het cho 5\n",
        "      l.append(str(i)) # them tung tu ket qua vao l \n",
        "  print(','.join(l)) # in ra l"
      ],
      "execution_count": 0,
      "outputs": [
        {
          "output_type": "stream",
          "text": [
            "2002,2009,2016,2023,2037,2044,2051,2058,2072,2079,2086,2093,2107,2114,2121,2128,2142,2149,2156,2163,2177,2184,2191,2198,2212,2219,2226,2233,2247,2254,2261,2268,2282,2289,2296,2303,2317,2324,2331,2338,2352,2359,2366,2373,2387,2394,2401,2408,2422,2429,2436,2443,2457,2464,2471,2478,2492,2499,2506,2513,2527,2534,2541,2548,2562,2569,2576,2583,2597,2604,2611,2618,2632,2639,2646,2653,2667,2674,2681,2688,2702,2709,2716,2723,2737,2744,2751,2758,2772,2779,2786,2793,2807,2814,2821,2828,2842,2849,2856,2863,2877,2884,2891,2898,2912,2919,2926,2933,2947,2954,2961,2968,2982,2989,2996\n"
          ],
          "name": "stdout"
        }
      ]
    },
    {
      "cell_type": "markdown",
      "metadata": {
        "id": "PPNeYLt1rrXG",
        "colab_type": "text"
      },
      "source": [
        "**Bai 2: Viết một chương trình có thể tính giai thừa của một số cho trước. Kết quả được in thành chuỗi trên một dòng, phân tách bởi dấu phẩy. Ví dụ, số cho trước là 8 thì kết quả đầu ra phải là 40320.**"
      ]
    },
    {
      "cell_type": "code",
      "metadata": {
        "id": "tqB-x44_9Q3N",
        "colab_type": "code",
        "outputId": "41e42369-0438-4b4b-9930-94bfa5de1321",
        "colab": {
          "base_uri": "https://localhost:8080/",
          "height": 51
        }
      },
      "source": [
        "nhap = int(input(\"Moi nhap vao 1 so: \")) # nhap tu ban  phim\n",
        "def fact(x): # ham fact voi tham so x duoc truyen vao tu nhap\n",
        "  if x ==0: # x =0, 0 giai thua se bang 1\n",
        "    return 1\n",
        "  return x*fact(x-1) # tra ve x*x-1, vi du 4 = 4*3*2*1\n",
        "\n",
        "print(fact(nhap))"
      ],
      "execution_count": 0,
      "outputs": [
        {
          "output_type": "stream",
          "text": [
            "Moi nhap vao 1 so: 6\n",
            "720\n"
          ],
          "name": "stdout"
        }
      ]
    },
    {
      "cell_type": "markdown",
      "metadata": {
        "id": "niMGZU66rvqn",
        "colab_type": "text"
      },
      "source": [
        " **Bai 3: Với số nguyên n nhất định, hãy viết chương trình để tạo ra một dictionary chứa (i, i*i) như là số nguyên từ 1 đến n (bao gồm cả 1 và n) sau đó in ra dictionary này. Ví dụ: Giả sử số n là 8 thì đầu ra sẽ là: {1: 1, 2: 4, 3: 9, 4: 16, 5: 25, 6: 36, 7: 49, 8: 64}.**"
      ]
    },
    {
      "cell_type": "code",
      "metadata": {
        "id": "JdIChUdW_vve",
        "colab_type": "code",
        "outputId": "e027e2da-fea5-4ef0-c95d-e3dd9a315adc",
        "colab": {
          "base_uri": "https://localhost:8080/",
          "height": 51
        }
      },
      "source": [
        "n = int(input(\"Nhap vao mot so: \")) # Nhap tu ban phim\n",
        "d = dict() # Tao 1 tu dien dict: d\n",
        "for i in range(1, n+1): # Duyet i tu doan 1, n+1, de bao gom ca n\n",
        "  d[i]= i*i # gia tri values se bang i*i\n",
        "\n",
        "print(d) # in tu dien d "
      ],
      "execution_count": 0,
      "outputs": [
        {
          "output_type": "stream",
          "text": [
            "Nhap vao mot so: 5\n",
            "{1: 1, 2: 4, 3: 9, 4: 16, 5: 25}\n"
          ],
          "name": "stdout"
        }
      ]
    },
    {
      "cell_type": "markdown",
      "metadata": {
        "id": "gL11jOfXr6Eu",
        "colab_type": "text"
      },
      "source": [
        "**Bai 4: Viết chương trình chấp nhận một chuỗi số, phân tách bằng dấu phẩy từ giao diện điều khiển, tạo ra một danh sách và một tuple chứa mọi số.**"
      ]
    },
    {
      "cell_type": "code",
      "metadata": {
        "id": "KRrjl388AqNX",
        "colab_type": "code",
        "outputId": "ccc1211d-1988-4edd-b6bf-c82ddc7bdb46",
        "colab": {
          "base_uri": "https://localhost:8080/",
          "height": 68
        }
      },
      "source": [
        "value = input(\"Nhap vao cac gia tri: \")\n",
        "l = value.split(\",\") #phan tach chuoi bang dau phay\n",
        "t = tuple(l) # chuyen tu chuoi sang tuple\n",
        "print(l) #in chuoi\n",
        "print(t) # in tuple"
      ],
      "execution_count": 0,
      "outputs": [
        {
          "output_type": "stream",
          "text": [
            "Nhap vao cac gia tri: 2,3,4,5,2\n",
            "['2', '3', '4', '5', '2']\n",
            "('2', '3', '4', '5', '2')\n"
          ],
          "name": "stdout"
        }
      ]
    },
    {
      "cell_type": "markdown",
      "metadata": {
        "id": "VMYfTWD8r9M2",
        "colab_type": "text"
      },
      "source": [
        "**Bai 5: Định nghĩa một class có ít nhất 2 method: getString: để nhận một chuỗi do người dùng nhập vào từ giao diện điều khiển. printString: in chuỗi vừa nhập sang chữ hoa. Thêm vào các hàm hiểm tra đơn giản để kiểm tra method của class. Ví dụ: Chuỗi nhập vào là quantrimang.com thì đầu ra phải là: QUANTRIMANG.COM**"
      ]
    },
    {
      "cell_type": "code",
      "metadata": {
        "id": "hFiAtsT-CMI9",
        "colab_type": "code",
        "outputId": "3aba3a96-bb33-4d27-e8d7-1b0849286f65",
        "colab": {
          "base_uri": "https://localhost:8080/",
          "height": 51
        }
      },
      "source": [
        "class InputOutString(object): #tao class InputOutString\n",
        "  def __init__ (self): #ham khoi tao, khong tham so \n",
        "    self.s = \"\"\n",
        "\n",
        "  def getString(self): #ham nhap chuoi\n",
        "    self.s = input(\"Nhap chuoi: \")\n",
        "\n",
        "  def printString(self): #ham in chuoi chu hoa\n",
        "    print(self.s.upper())\n",
        "\n",
        "strObj = InputOutString() #tao bien, copy tu class \n",
        "strObj.getString() #lay gia tri tu ham, nhap ban phim\n",
        "strObj.printString() #lay gia tri tu ham, in chuoi chu hoa"
      ],
      "execution_count": 0,
      "outputs": [
        {
          "output_type": "stream",
          "text": [
            "Nhap chuoi: bimbeo\n",
            "BIMBEO\n"
          ],
          "name": "stdout"
        }
      ]
    },
    {
      "cell_type": "markdown",
      "metadata": {
        "id": "O7Sm-YqjsDmN",
        "colab_type": "text"
      },
      "source": [
        "**Bai 6: Viết một method tính giá trị bình phương của một số.**"
      ]
    },
    {
      "cell_type": "code",
      "metadata": {
        "id": "qDWuVsX-DlFH",
        "colab_type": "code",
        "outputId": "8bdd8da2-2d08-42a2-cc08-eeb9d82d747a",
        "colab": {
          "base_uri": "https://localhost:8080/",
          "height": 85
        }
      },
      "source": [
        "x= int(input(\"Nhap vao mot so: \")) #nhap tu ban phim\n",
        "def square(num): #ham binh phuong voi tham so truyen vao num\n",
        "  return num ** 2 # tra ve num binh phuong 2, num mu 2\n",
        "print(square(2))\n",
        "print(square(3))\n",
        "print(square(x))"
      ],
      "execution_count": 0,
      "outputs": [
        {
          "output_type": "stream",
          "text": [
            "Nhap vao mot so: 9\n",
            "4\n",
            "9\n",
            "81\n"
          ],
          "name": "stdout"
        }
      ]
    },
    {
      "cell_type": "markdown",
      "metadata": {
        "id": "y7FJHRepsG1r",
        "colab_type": "text"
      },
      "source": [
        "**Bai 7: Python có nhiều hàm được tích hợp sẵn, nếu không biết cách sử dụng nó, bạn có thể đọc tài liệu trực tuyến hoặc tìm vài cuốn sách. \n",
        "Nhưng Python cũng có sẵn tài liệu về hàm cho mọi hàm tích hợp trong Python. Yêu cầu của bài tập này là viết một chương trình để in tài liệu về\n",
        " một số hàm Python được tích hợp sẵn như abs(), int(), input() và thêm tài liệu cho hàm bạn tự định nghĩa.**"
      ]
    },
    {
      "cell_type": "code",
      "metadata": {
        "id": "FfIc1l0yFlqK",
        "colab_type": "code",
        "outputId": "10237158-0787-4477-f2da-4d41f9fd59fb",
        "colab": {
          "base_uri": "https://localhost:8080/",
          "height": 391
        }
      },
      "source": [
        "print(abs.__doc__)\n",
        "print(int.__doc__)\n",
        "print(input.__doc__)\n",
        "def square(num):\n",
        "  return num ** 2\n",
        "print(square.__doc__)"
      ],
      "execution_count": 0,
      "outputs": [
        {
          "output_type": "stream",
          "text": [
            "Return the absolute value of the argument.\n",
            "int(x=0) -> integer\n",
            "int(x, base=10) -> integer\n",
            "\n",
            "Convert a number or string to an integer, or return 0 if no arguments\n",
            "are given.  If x is a number, return x.__int__().  For floating point\n",
            "numbers, this truncates towards zero.\n",
            "\n",
            "If x is not a number or if base is given, then x must be a string,\n",
            "bytes, or bytearray instance representing an integer literal in the\n",
            "given base.  The literal can be preceded by '+' or '-' and be surrounded\n",
            "by whitespace.  The base defaults to 10.  Valid bases are 0 and 2-36.\n",
            "Base 0 means to interpret the base from the string as an integer literal.\n",
            ">>> int('0b100', base=0)\n",
            "4\n",
            "Forward raw_input to frontends\n",
            "\n",
            "        Raises\n",
            "        ------\n",
            "        StdinNotImplentedError if active frontend doesn't support stdin.\n",
            "        \n",
            "None\n"
          ],
          "name": "stdout"
        }
      ]
    },
    {
      "cell_type": "markdown",
      "metadata": {
        "id": "7xF-P3ZCsLLT",
        "colab_type": "text"
      },
      "source": [
        "**Bai 8: Định nghĩa một lớp gồm có tham số lớp và có cùng tham số instancebold text**"
      ]
    },
    {
      "cell_type": "code",
      "metadata": {
        "id": "pw5356RXHKnJ",
        "colab_type": "code",
        "outputId": "8e7b941b-bfcd-482e-c9a2-496b09fda28f",
        "colab": {
          "base_uri": "https://localhost:8080/",
          "height": 51
        }
      },
      "source": [
        "class Person: # tao 1 lop Person\n",
        "  name = \"Person\" #bien gia tri thuc name cua class Person\n",
        "  def __init__(self, name = None): # ham khoi tao tham so truyen vao name = None\n",
        "    self.name = name\n",
        "\n",
        "jeffrey = Person(\"Jeffrey\") # tao bien Jeffrey tu Person, truyen vao name Jeffrey \n",
        "print(\"%s name is %s\" % (Person.name, jeffrey.name)) #  %: <chuỗi> % (<các tham số>)  %s: thay thế bằng tham số dạng chuỗi\n",
        "\n",
        "nico = Person() #cach 2\n",
        "nico.name = \"Nico\"\n",
        "print(\"%s name is %s\" % (Person.name, nico.name))"
      ],
      "execution_count": 0,
      "outputs": [
        {
          "output_type": "stream",
          "text": [
            "Person name is Jeffrey\n",
            "Person name is Nico\n"
          ],
          "name": "stdout"
        }
      ]
    },
    {
      "cell_type": "markdown",
      "metadata": {
        "id": "zzY1udl7sQKz",
        "colab_type": "text"
      },
      "source": [
        "**Bai 9: \n",
        "Viết chương trình và in giá trị theo công thức cho trước: Q = √([(2 * C * D)/H]) (bằng chữ: Q bằng căn bậc hai của [(2 nhân C nhân D) chia H]. \n",
        "Với giá trị cố định của C là 50, H là 30. D là dãy giá trị tùy biến, được nhập vào từ giao diện người dùng, các giá trị của D được phân cách bằng dấu phẩy.\n",
        "Ví dụ: Giả sử chuỗi giá trị của D nhập vào là 100,150,180 thì đầu ra sẽ là 18,22,24.**"
      ]
    },
    {
      "cell_type": "code",
      "metadata": {
        "id": "tDwQ2B32K0wf",
        "colab_type": "code",
        "outputId": "8d73eb77-8b67-4a4e-cd35-d3c74a3cf555",
        "colab": {
          "base_uri": "https://localhost:8080/",
          "height": 51
        }
      },
      "source": [
        "import math\n",
        "c = 50\n",
        "h = 30\n",
        "value = [] # tao value dung de chua ket qua tinh duoc Q\n",
        "items = [x for x in input(\"Nhap gia tri cua d: \").split(',')] # tao items de nhan gia tri nhap vao tu ban phim, split de chuyen tu chuoi sang list\n",
        "for d in items:\n",
        "  value.append(str(int(round(math.sqrt(2*c*float(d)/h))))) # gan tung thanh phan tu ket qua vao value, them str vi phai la 1 chuoi\n",
        "print(', '.join(value))"
      ],
      "execution_count": 0,
      "outputs": [
        {
          "output_type": "stream",
          "text": [
            "Nhap gia tri cua d: 100,150,180\n",
            "18, 22, 24\n"
          ],
          "name": "stdout"
        }
      ]
    },
    {
      "cell_type": "markdown",
      "metadata": {
        "id": "EQJNvScssVXk",
        "colab_type": "text"
      },
      "source": [
        "**Bai 10: Viết một chương trình có 2 chữ số, X, Y nhận giá trị từ đầu vào và tạo ra một mảng 2 chiều. \n",
        "Giá trị phần tử trong hàng thứ i và cột thứ j của mảng phải là i*j.\n",
        "Lưu ý: i=0,1,...,X-1; j=0,1,...,Y-1.S \n",
        "Ví dụ: Giá trị X, Y nhập vào là 3,5 thì đầu ra là: [[0, 0, 0, 0, 0], [0, 1, 2, 3, 4], [0, 2, 4, 6, 8]]**"
      ]
    },
    {
      "cell_type": "code",
      "metadata": {
        "id": "TAgfpVRsMgK4",
        "colab_type": "code",
        "outputId": "8d7e3663-325d-4241-d7b0-3fdc7d8c64db",
        "colab": {
          "base_uri": "https://localhost:8080/",
          "height": 51
        }
      },
      "source": [
        "input_str = input (\"Nhap X, Y: \") # nhap X, Y tu ban phim, X la hang, Y la cot\n",
        "dimensions = [int(x) for x in input_str.split(',')] # tao 1 list kich thuoc cua mang, chua X, Y vua nhap tu ban phim, split chuyen tu str -> list \n",
        "rowNum = dimensions[0] # tao bien hang, gan gia tri index list 0 = X\n",
        "colNum = dimensions[1] # tao bien cot, gan tri index list 1 = Y\n",
        "multilist = [[0 for col in range(colNum)] for row in range(rowNum)] # tao list, lay gia tri col tu colNum, row tu rowNum\n",
        "for row in range(rowNum): # khoi tao ma tran de Giá trị phần tử trong hàng thứ i và cột thứ j của mảng phải là i*j.\n",
        "  for col in range(colNum):\n",
        "    multilist[row][col] = row*col \n",
        "\n",
        "print (multilist)"
      ],
      "execution_count": 0,
      "outputs": [
        {
          "output_type": "stream",
          "text": [
            "Nhap X, Y: 6, 4\n",
            "[[0, 0, 0, 0], [0, 0, 0, 0], [0, 0, 0, 0], [0, 0, 0, 0], [0, 0, 0, 0], [0, 0, 0, 0]]\n"
          ],
          "name": "stdout"
        }
      ]
    },
    {
      "cell_type": "markdown",
      "metadata": {
        "id": "J0vLTgQZsamN",
        "colab_type": "text"
      },
      "source": [
        "**Bai 11: Viết một chương trình chấp nhận chuỗi từ do người dùng nhập vào, phân tách nhau bởi dấu phẩy và \n",
        "in những từ đó thành chuỗi theo thứ tự bảng chữ cái, phân tách nhau bằng dấu phẩy.\n",
        "Giả sử đầu vào được nhập là: without,hello,bag,world, thì đầu ra sẽ là: bag,hello,without,world.**"
      ]
    },
    {
      "cell_type": "code",
      "metadata": {
        "id": "hE3LiN8XU702",
        "colab_type": "code",
        "outputId": "2c422daa-df0b-4e1f-8c1b-8609c4e59a91",
        "colab": {
          "base_uri": "https://localhost:8080/",
          "height": 51
        }
      },
      "source": [
        "items = [x for x in input(\"Nhap mot chuoi: \").split(',')]\n",
        "items.sort()\n",
        "print(','.join(items))"
      ],
      "execution_count": 0,
      "outputs": [
        {
          "output_type": "stream",
          "text": [
            "Nhap mot chuoi:  a, p, x, b, q, v\n",
            " a, b, p, q, v, x\n"
          ],
          "name": "stdout"
        }
      ]
    },
    {
      "cell_type": "markdown",
      "metadata": {
        "id": "AmzWwqlPseFs",
        "colab_type": "text"
      },
      "source": [
        "**Bai 12: Viết một chương trình chấp nhận chuỗi là các dòng được nhập vào, chuyển các dòng này thành chữ in hoa và in ra màn hình. Giả sử đầu vào là:\n",
        "Hello world\n",
        "Practice makes perfect\n",
        "Thì đầu ra sẽ là:\n",
        "HELLO WORLD\n",
        "PRACTICE MAKES PERFECT**"
      ]
    },
    {
      "cell_type": "code",
      "metadata": {
        "id": "fdrr1ZD4VTEK",
        "colab_type": "code",
        "outputId": "000ef974-f11d-4804-a896-2d4a3077d95b",
        "colab": {
          "base_uri": "https://localhost:8080/",
          "height": 102
        }
      },
      "source": [
        "lines = [] # bien lines de chua cac gia tri duoc nhap vao tu ban phim va duoc chuyen thanh in hoa\n",
        "while True: # vong lap while True, dung de thuc hien den khi gap dieu kien sai thi dung lai, vi du nhu khong nhap tu ban phim nua thi dung lai\n",
        "  s = input() # nhap gia tri tu ban phim\n",
        "  if s: # if dung de kiem tra, neu duoc nhap tu ban phim, thi gan tung phan tu vao lines\n",
        "    lines.append(s.upper())\n",
        "  else: # kiem tra neu khong duoc nhap nua tu ban phim, thoat khoi vong lap\n",
        "    break;\n",
        "for sentence in lines: # dung de in ra nhung tu duoc chuyen tu chu thuong sang chu in hoa\n",
        "  print(sentence)"
      ],
      "execution_count": 0,
      "outputs": [
        {
          "output_type": "stream",
          "text": [
            "disaud\n",
            "dsaoidsa\n",
            "\n",
            "DISAUD\n",
            "DSAOIDSA\n"
          ],
          "name": "stdout"
        }
      ]
    },
    {
      "cell_type": "markdown",
      "metadata": {
        "id": "QhGelLBVsiSw",
        "colab_type": "text"
      },
      "source": [
        "**Bai 13: Viết một chương trình chấp nhận đầu vào là một chuỗi các từ tách biệt bởi khoảng trắng, \n",
        "loại bỏ các từ trùng lặp, sắp xếp theo thứ tự bảng chữ cái, rồi in chúng.\n",
        "Giả sử đầu vào là: hello world and practice makes perfect and hello world again\n",
        "Thì đầu ra là: again and hello makes perfect practice world**"
      ]
    },
    {
      "cell_type": "code",
      "metadata": {
        "id": "bQpfvzrMWkGk",
        "colab_type": "code",
        "outputId": "3b4e533b-f441-4cc1-ecd3-da0279c4292d",
        "colab": {
          "base_uri": "https://localhost:8080/",
          "height": 51
        }
      },
      "source": [
        "s = input(\"Nhap chuoi cua ban: \") # tao bien s dung de nhap tu ban phim\n",
        "words = [word for word in s.split(\" \")] # tao list world chua nhung tu nhap tu ban phim vao, cach nhau khoang trang\n",
        "print(\" \".join(sorted(list(set(words))))) # chuyen tu list sang set, sap xep theo bang chu cai va in ra words, cach nhau khoang trang"
      ],
      "execution_count": 0,
      "outputs": [
        {
          "output_type": "stream",
          "text": [
            "Nhap chuoi cua ban:  bim beo phuong phuong bim beo\n",
            " beo bim phuong\n"
          ],
          "name": "stdout"
        }
      ]
    },
    {
      "cell_type": "markdown",
      "metadata": {
        "id": "WoasNfM4slFB",
        "colab_type": "text"
      },
      "source": [
        "**Bai 14: Viết một chương trình chấp nhận đầu vào là chuỗi các số nhị phân 4 chữ số, phân tách bởi dấu phẩy, \n",
        "kiểm tra xem chúng có chia hết cho 5 không. Sau đó in các số chia hết cho 5 thành dãy phân tách bởi dấu phẩy.\n",
        "Ví dụ đầu vào là: 0100,0011,1010,1001\n",
        "Đầu ra sẽ là: 1010**"
      ]
    },
    {
      "cell_type": "code",
      "metadata": {
        "id": "sEErAvKZZr9w",
        "colab_type": "code",
        "outputId": "b494ce97-09f2-434f-922e-0275a39e6663",
        "colab": {
          "base_uri": "https://localhost:8080/",
          "height": 51
        }
      },
      "source": [
        "value = [] # tao list value dung de chua ket qua so nhi phan chia het cho 5 duoc them vao\n",
        "items = [x for x in input(\"Nhap cac so nhi phan: \").split(',')] # tao list items chua nhung phan tu duoc nhap tu ban phim vao, cach nhau dau phay\n",
        "for p in items:\n",
        "  intp = int(p, 2) # bien intp dung de chuyen so nguyen tu items sang so nhi phan\n",
        "  if not intp % 5: # if not: gia tri intp % 5 khong du, tuc la chia het duoc cho 5\n",
        "    value.append(p) # gan ket qua p vao value\n",
        "print(','.join(value)) # in ra value"
      ],
      "execution_count": 0,
      "outputs": [
        {
          "output_type": "stream",
          "text": [
            "Nhap cac so nhi phan: 0100,0011,1010,1001\n",
            "1010\n"
          ],
          "name": "stdout"
        }
      ]
    },
    {
      "cell_type": "markdown",
      "metadata": {
        "id": "tmvSJU5tspDK",
        "colab_type": "text"
      },
      "source": [
        "**Bai 15: Viết một chương trình tìm tất cả các số trong đoạn 1000 và 3000 (tính cả 2 số này)\n",
        " sao cho tất cả các chữ số trong số đó là số chẵn.\n",
        " In các số tìm được thành chuỗi cách nhau bởi dấu phẩy, trên một dòng.**"
      ]
    },
    {
      "cell_type": "code",
      "metadata": {
        "id": "RrjDyovLbHqC",
        "colab_type": "code",
        "outputId": "d827c45b-f42c-42ed-955b-b9309d13abf6",
        "colab": {
          "base_uri": "https://localhost:8080/",
          "height": 54
        }
      },
      "source": [
        "values = [] # tao bien list values de gan nhung gia tri ket qua vao trong list\n",
        "for i in range(1000, 3001): # duyet tat ca cac gia tri tu 1000 den 3000\n",
        "   s = str(i) # tao bien s de ep kieu chuyen tu int sang str \n",
        "   if (int(s[0])%2==0) and(int(s[1])%2==0) and (int(s[2])%2==0) and (int(s[3])%2==0): # index tu [0][1][2][3] de tim cac chu so do deu la chan nhu 2268, tung chu so deu la phai chia het cho 2\n",
        "    values.append(s) # them tung phan tu ket qua vao values\n",
        "print(','.join(values)) # in values"
      ],
      "execution_count": 0,
      "outputs": [
        {
          "output_type": "stream",
          "text": [
            "2000,2002,2004,2006,2008,2020,2022,2024,2026,2028,2040,2042,2044,2046,2048,2060,2062,2064,2066,2068,2080,2082,2084,2086,2088,2200,2202,2204,2206,2208,2220,2222,2224,2226,2228,2240,2242,2244,2246,2248,2260,2262,2264,2266,2268,2280,2282,2284,2286,2288,2400,2402,2404,2406,2408,2420,2422,2424,2426,2428,2440,2442,2444,2446,2448,2460,2462,2464,2466,2468,2480,2482,2484,2486,2488,2600,2602,2604,2606,2608,2620,2622,2624,2626,2628,2640,2642,2644,2646,2648,2660,2662,2664,2666,2668,2680,2682,2684,2686,2688,2800,2802,2804,2806,2808,2820,2822,2824,2826,2828,2840,2842,2844,2846,2848,2860,2862,2864,2866,2868,2880,2882,2884,2886,2888\n"
          ],
          "name": "stdout"
        }
      ]
    },
    {
      "cell_type": "markdown",
      "metadata": {
        "id": "0N_zLMSXssiz",
        "colab_type": "text"
      },
      "source": [
        "**Bai 16: Viết một chương trình chấp nhận đầu vào là một câu, đếm số chữ cái và chữ số trong câu đó. \n",
        "Giả sử đầu vào sau được cấp cho chương trình: hello world! 123\n",
        "Thì đầu ra sẽ là: \n",
        "Số chữ cái là: 10\n",
        "Số chữ số là: 3**"
      ]
    },
    {
      "cell_type": "code",
      "metadata": {
        "id": "P4BINk-5euFd",
        "colab_type": "code",
        "outputId": "ae5f8cf9-c930-46ed-a72f-125291237270",
        "colab": {
          "base_uri": "https://localhost:8080/",
          "height": 68
        }
      },
      "source": [
        "s = input(\"Nhap cau cua ban: \") # Nhap tu ban phim\n",
        "d = {\"DIGITS\":0, \"LETTERS\":0} # tao 1 tu dien dict, voi 2 Key Digits va letter, gia tri values ban dau la 0\n",
        "for c in s: # duyet tung phan tu trong chuoi nhap tu ban phim\n",
        "  if c.isdigit(): # isdigit() kiem tra xem trong chuoi co bao nhieu chu so\n",
        "    d[\"DIGITS\"] += 1 \n",
        "  elif c.isalpha(): # kiem tra xem chuoi co bao nhieu ky tu chu\n",
        "    d[\"LETTERS\"] += 1\n",
        "  else:\n",
        "    pass # trình giữ chỗ cho việc thực thi các hàm, vòng lặp,... trong tương lai.\n",
        "\n",
        "print(\"So chu cai la:\", d[\"LETTERS\"]) # in ra value cua LETTER \n",
        "print(\"So chu so la: \", d[\"DIGITS\"])"
      ],
      "execution_count": 0,
      "outputs": [
        {
          "output_type": "stream",
          "text": [
            "Nhap cau cua ban: djtmemai1\n",
            "So chu cai la: 8\n",
            "So chu so la:  1\n"
          ],
          "name": "stdout"
        }
      ]
    },
    {
      "cell_type": "markdown",
      "metadata": {
        "id": "leFHYvH1sv8N",
        "colab_type": "text"
      },
      "source": [
        "**Bai 17: Viết một chương trình chấp nhận đầu vào là một câu, đếm chữ hoa, chữ thường.\n",
        "Giả sử đầu vào là: Quản Trị Mạng\n",
        "Thì đầu ra là:\n",
        "Chữ hoa: 3\n",
        "Chữ thường: 8**"
      ]
    },
    {
      "cell_type": "code",
      "metadata": {
        "id": "bBdtsYlLhOHr",
        "colab_type": "code",
        "outputId": "cfbe262b-9a4f-47fb-bb73-336be0d6e8be",
        "colab": {
          "base_uri": "https://localhost:8080/",
          "height": 68
        }
      },
      "source": [
        "s = input(\"Nhap cau cua ban: \") # Nhap tu ban phim\n",
        "d = {\"UPPER CASE\":0, \"LOWER CASE\":0} # tao 1 tu dien dict, voi 2 Key UPPER va LOWER, gia tri values ban dau la 0\n",
        "for c in s: # duyet tung phan tu trong chuoi nhap tu ban phim\n",
        "  if c.isupper(): # isuppert() kiem tra xem trong chuoi co bao nhieu chu in hoa\n",
        "    d[\"UPPER CASE\"] += 1\n",
        "  elif c.islower(): # kiem tra xem chuoi co bao nhieu chu thuong\n",
        "    d[\"LOWER CASE\"] += 1\n",
        "  else:\n",
        "    pass\n",
        "\n",
        "print(\"Chu hoa: \", d[\"UPPER CASE\"]) # in ra value cua UPPER CASE\n",
        "print(\"Chu thuong: \", d[\"LOWER CASE\"])"
      ],
      "execution_count": 0,
      "outputs": [
        {
          "output_type": "stream",
          "text": [
            "Nhap cau cua ban: Djtmemai2\n",
            "Chu hoa:  1\n",
            "Chu thuong:  7\n"
          ],
          "name": "stdout"
        }
      ]
    },
    {
      "cell_type": "markdown",
      "metadata": {
        "id": "uTHkbXPhszRd",
        "colab_type": "text"
      },
      "source": [
        "**Bai 18: Viết một chương trình tính giá trị của a+aa+aaa+aaaa với a là số được nhập vào bởi người dùng.\n",
        "Giả sử a được nhập vào là 1 thì đầu ra sẽ là: 1234**"
      ]
    },
    {
      "cell_type": "code",
      "metadata": {
        "id": "LduuztyZkTkE",
        "colab_type": "code",
        "outputId": "a9fcf811-504e-4001-8128-54c866cc912e",
        "colab": {
          "base_uri": "https://localhost:8080/",
          "height": 248
        }
      },
      "source": [
        "a = input(\"Nhap so a: \")\n",
        "n1 = int(\"%s\" % a)\n",
        "n2 = int(\"%s\" % (a,a))\n",
        "n3 = int(\"%s\" % (a,a,a))\n",
        "n4 = int(\"%s\" % (a,a,a,a))\n",
        "print(\"Tong can tinh la: \", n1+n2+n3+n4)"
      ],
      "execution_count": 0,
      "outputs": [
        {
          "output_type": "stream",
          "text": [
            "Nhap so a: aaaaaaa\n"
          ],
          "name": "stdout"
        },
        {
          "output_type": "error",
          "ename": "ValueError",
          "evalue": "ignored",
          "traceback": [
            "\u001b[0;31m---------------------------------------------------------------------------\u001b[0m",
            "\u001b[0;31mValueError\u001b[0m                                Traceback (most recent call last)",
            "\u001b[0;32m<ipython-input-91-2337bfef60b7>\u001b[0m in \u001b[0;36m<module>\u001b[0;34m()\u001b[0m\n\u001b[1;32m      2\u001b[0m Giả sử a được nhập vào là 1 thì đầu ra sẽ là: 1234\"\"\"\n\u001b[1;32m      3\u001b[0m \u001b[0ma\u001b[0m \u001b[0;34m=\u001b[0m \u001b[0minput\u001b[0m\u001b[0;34m(\u001b[0m\u001b[0;34m\"Nhap so a: \"\u001b[0m\u001b[0;34m)\u001b[0m\u001b[0;34m\u001b[0m\u001b[0;34m\u001b[0m\u001b[0m\n\u001b[0;32m----> 4\u001b[0;31m \u001b[0mn1\u001b[0m \u001b[0;34m=\u001b[0m \u001b[0mint\u001b[0m\u001b[0;34m(\u001b[0m\u001b[0;34m\"%s\"\u001b[0m \u001b[0;34m%\u001b[0m \u001b[0ma\u001b[0m\u001b[0;34m)\u001b[0m\u001b[0;34m\u001b[0m\u001b[0;34m\u001b[0m\u001b[0m\n\u001b[0m\u001b[1;32m      5\u001b[0m \u001b[0mn2\u001b[0m \u001b[0;34m=\u001b[0m \u001b[0mint\u001b[0m\u001b[0;34m(\u001b[0m\u001b[0;34m\"%s\"\u001b[0m \u001b[0;34m%\u001b[0m \u001b[0;34m(\u001b[0m\u001b[0ma\u001b[0m\u001b[0;34m,\u001b[0m\u001b[0ma\u001b[0m\u001b[0;34m)\u001b[0m\u001b[0;34m)\u001b[0m\u001b[0;34m\u001b[0m\u001b[0;34m\u001b[0m\u001b[0m\n\u001b[1;32m      6\u001b[0m \u001b[0mn3\u001b[0m \u001b[0;34m=\u001b[0m \u001b[0mint\u001b[0m\u001b[0;34m(\u001b[0m\u001b[0;34m\"%s\"\u001b[0m \u001b[0;34m%\u001b[0m \u001b[0;34m(\u001b[0m\u001b[0ma\u001b[0m\u001b[0;34m,\u001b[0m\u001b[0ma\u001b[0m\u001b[0;34m,\u001b[0m\u001b[0ma\u001b[0m\u001b[0;34m)\u001b[0m\u001b[0;34m)\u001b[0m\u001b[0;34m\u001b[0m\u001b[0;34m\u001b[0m\u001b[0m\n",
            "\u001b[0;31mValueError\u001b[0m: invalid literal for int() with base 10: 'aaaaaaa'"
          ]
        }
      ]
    },
    {
      "cell_type": "markdown",
      "metadata": {
        "id": "wxWz3IO5s4Fx",
        "colab_type": "text"
      },
      "source": [
        "**Bai 19: Sử dụng một danh sách để lọc các số lẻ từ danh sách được người dùng nhập vào.\n",
        "Giả sử đầu vào là: 1,2,3,4,5,6,7,8,9 thì đầu ra phải là: 1,3,5,7,9**"
      ]
    },
    {
      "cell_type": "code",
      "metadata": {
        "id": "vKHoqVZAlduu",
        "colab_type": "code",
        "outputId": "3dd06625-8bac-497b-d4e7-e3297c959d03",
        "colab": {
          "base_uri": "https://localhost:8080/",
          "height": 51
        }
      },
      "source": [
        "values = input(\"Nhap day so cua ban, cach nhau boi dau phay: \") # nhap vao 1 day so tu ban phim\n",
        "numbers = [ x for x in values.split(\",\") if int(x)%2!=0] #tao 1 list number, dung de gan gia tri ket qua vao, cach nhau boi dau phay voi dieu kien la so le\n",
        "print(\",\".join(numbers))"
      ],
      "execution_count": 0,
      "outputs": [
        {
          "output_type": "stream",
          "text": [
            "Nhap da so cua ban, cach nhau boi dau phay: 11,55,44,322,15\n",
            "11,55,15\n"
          ],
          "name": "stdout"
        }
      ]
    },
    {
      "cell_type": "markdown",
      "metadata": {
        "id": "rn2A1_g6s67k",
        "colab_type": "text"
      },
      "source": [
        "**Bai 20: Viết chương trình tính số tiền thực của một tài khoản ngân hàng dựa trên nhật ký giao dịch được nhập vào từ giao diện điều khiển. \n",
        "Định dạng nhật ký được hiển thị như sau:\n",
        "D 100\n",
        "W 200\n",
        "(D là tiền gửi, W là tiền rút ra).\n",
        "Giả sử đầu vào được cung cấp là:\n",
        "D 300\n",
        "D 300\n",
        "W 200\n",
        "D 100\n",
        "Thì đầu ra sẽ là:\n",
        "500**"
      ]
    },
    {
      "cell_type": "code",
      "metadata": {
        "id": "gYkld9t5ndAy",
        "colab_type": "code",
        "outputId": "e970c16d-b7f1-4d67-8e72-76b89e9b8950",
        "colab": {
          "base_uri": "https://localhost:8080/",
          "height": 102
        }
      },
      "source": [
        "import sys # them moudule sys \n",
        "netAmount = 0 # tao bien dua ket qua cuoi cung cong duoc vao bien netAmount\n",
        "while True: # tao vong lap, de dung lai khi khong co ket qua duoc nhap vao nua\n",
        "  s = input(\"Nhap nhat ky giao dich: \") #nhap tu ban phim\n",
        "  if not s: # neu nhap sai, khong nhap nua thi thoat khoi vong lap\n",
        "    break\n",
        "  values = s.split(\" \") # tao bien value, tach chuoi duoc nhap vao thanh 1 list, cach nhau voi dau space\n",
        "  operation = values [0] #bien operation chua index[0] tu list value, chua ky tu\n",
        "  amount = int(values[1]) #bien amount chua index[1] tu list value, chua so\n",
        "  if operation ==\"D\" or operation == \"d\": # Theo yeu cau de bai, neu dau vao la D thi cong them\n",
        "    netAmount += amount  # ket qua = ket qua + amount\n",
        "  elif operation == \"W\" or operation == \"w\": # W thi tru di\n",
        "    netAmount-= amount\n",
        "  else: \n",
        "    pass\n",
        "print(netAmount) # in ra ket qua "
      ],
      "execution_count": 0,
      "outputs": [
        {
          "output_type": "stream",
          "text": [
            "Nhap nhat ky giao dich: d 100\n",
            "Nhap nhat ky giao dich: D 200\n",
            "Nhap nhat ky giao dich: w 100\n",
            "Nhap nhat ky giao dich: \n",
            "200\n"
          ],
          "name": "stdout"
        }
      ]
    },
    {
      "cell_type": "markdown",
      "metadata": {
        "id": "Q_T0tBY1s-le",
        "colab_type": "text"
      },
      "source": [
        "**Bai 21: Một website yêu cầu người dùng nhập tên người dùng và mật khẩu để đăng ký. \n",
        "Viết chương trình để kiểm tra tính hợp lệ của mật khẩu mà người dùng nhập vào.\n",
        "Các tiêu chí kiểm tra mật khẩu bao gồm:\n",
        "1. Ít nhất 1 chữ cái nằm trong [a-z] 2. Ít nhất 1 số nằm trong [0-9]\n",
        "3. Ít nhất 1 kí tự nằm trong [A-Z] 4. Ít nhất 1 ký tự nằm trong [$ # @]\n",
        "5. Độ dài mật khẩu tối thiểu: 6    6. Độ dài mật khẩu tối đa: 12\n",
        "Chương trình phải chấp nhận một chuỗi mật khẩu phân tách nhau bởi dấu phẩy và kiểm tra xem chúng có \n",
        "đáp ứng những tiêu chí trên hay không. Mật khẩu hợp lệ sẽ được in, mỗi mật khẩu cách nhau bởi dấu phẩy.\n",
        "Ví dụ mật khẩu nhập vào chương trình là: ABd1234@1,a F1#,2w3E*,2We33Thì đầu ra sẽ là: ABd1234@1**"
      ]
    },
    {
      "cell_type": "code",
      "metadata": {
        "id": "GZNBnIf4lgfK",
        "colab_type": "code",
        "outputId": "8bdb3789-e914-4f85-fd5e-6c785872f542",
        "colab": {
          "base_uri": "https://localhost:8080/",
          "height": 51
        }
      },
      "source": [
        "import re\n",
        "value = [] # tao bien value de gan ket qua tim duoc vao value\n",
        "items = [x for x in input(\"Nhap mat khau: \").split(',')] # tao bien items de nhap tat ca chuoi tu ban phim, moi chuoi cach nhau bang dau phay\n",
        "for p in items: # vong lap lay tung phan tu chuoi tu items\n",
        "  if len(p)<6 or len(p)>12: # kiem tra neu do dai <6 hoac lon hon 12\n",
        "    continue\n",
        "  else: \n",
        "    pass\n",
        "  if not re.search(\"[a-z]\", p): # kiem tra ky tu a-z co nam trong p khong\n",
        "    continue\n",
        "  elif not re.search(\"[0-9]\", p): # kiem tra ky tu 0-9 co nam trong p khong\n",
        "    continue\n",
        "  elif not re.search(\"[A-Z]\", p): # # kiem tra ky tu A-Z co nam trong p khong\n",
        "    continue\n",
        "  elif not re.search(\"[$#@]\", p): # kiem tra ky tu $#@ co nam trong p khong\n",
        "    continue\n",
        "  elif re.search(\"\\s\", p):\n",
        "    continue\n",
        "  else:\n",
        "    pass\n",
        "  value.append(p) # ket qua thoa man tat ca dieu kien tren thi them vao value\n",
        "print(\",\".join(value)) # in ra ket qua value, cach nhau boi dau phay"
      ],
      "execution_count": 0,
      "outputs": [
        {
          "output_type": "stream",
          "text": [
            "Nhap mat khau: ABd1234@1,a F1#,2w3E*,2We3345\n",
            "ABd1234@1\n"
          ],
          "name": "stdout"
        }
      ]
    },
    {
      "cell_type": "markdown",
      "metadata": {
        "id": "8X4bUGtTtGYB",
        "colab_type": "text"
      },
      "source": [
        "**Bai 26: Định nghĩa 1 hàm có thể tính tổng hai số.**"
      ]
    },
    {
      "cell_type": "code",
      "metadata": {
        "id": "R07Im0nMzv2q",
        "colab_type": "code",
        "outputId": "bde0b465-ef78-455e-d38a-5fe85f7d188d",
        "colab": {
          "base_uri": "https://localhost:8080/",
          "height": 34
        }
      },
      "source": [
        "def SumFunction (number1, number2): # dinh nghia ham tinh tong\n",
        "  return number1+number2\n",
        "print(SumFunction(5,7)) # in tong 2 so 5 va 7"
      ],
      "execution_count": 0,
      "outputs": [
        {
          "output_type": "stream",
          "text": [
            "12\n"
          ],
          "name": "stdout"
        }
      ]
    },
    {
      "cell_type": "markdown",
      "metadata": {
        "id": "oBEDaQ-2tIrE",
        "colab_type": "text"
      },
      "source": [
        "**Bai 27: Định nghĩa một hàm có thể chuyển số nguyên thành chuỗi và in nó ra giao diện điều khiển**"
      ]
    },
    {
      "cell_type": "code",
      "metadata": {
        "id": "CTejs2wL3-NG",
        "colab_type": "code",
        "outputId": "7ce21825-c7fb-440c-8ac9-5fe0b6a0cabc",
        "colab": {
          "base_uri": "https://localhost:8080/",
          "height": 34
        }
      },
      "source": [
        "def printValue(n):\n",
        "  print(str(n)) # ep kieu chuyen n ve str \n",
        "printValue(342194821)"
      ],
      "execution_count": 0,
      "outputs": [
        {
          "output_type": "stream",
          "text": [
            "342194821\n"
          ],
          "name": "stdout"
        }
      ]
    },
    {
      "cell_type": "markdown",
      "metadata": {
        "id": "ojjIyLcqtLK8",
        "colab_type": "text"
      },
      "source": [
        "**Bai 28: Định nghĩa hàm có thể nhận hai số nguyên trong dạng chuỗi và tính tổng của chúng, sau đó in tổng ra giao diện điều khiển.**"
      ]
    },
    {
      "cell_type": "code",
      "metadata": {
        "id": "bHMPHFCF4XO5",
        "colab_type": "code",
        "outputId": "8d8cb629-8c88-4cff-a355-748d59c8bcd9",
        "colab": {
          "base_uri": "https://localhost:8080/",
          "height": 34
        }
      },
      "source": [
        "def printValue(s1,s2):\n",
        "  print (int(s1)+ int(s2)) # ep kieu chuyen s1, s2 ve int \n",
        "printValue(\"3\", \"4\")"
      ],
      "execution_count": 0,
      "outputs": [
        {
          "output_type": "stream",
          "text": [
            "7\n"
          ],
          "name": "stdout"
        }
      ]
    },
    {
      "cell_type": "markdown",
      "metadata": {
        "id": "bdAT9BbMtNgM",
        "colab_type": "text"
      },
      "source": [
        "**Bai 29: Định nghĩa hàm có thể nhận 2 chuỗi từ input và nối chúng sau đó in ra giao diện điều khiển**"
      ]
    },
    {
      "cell_type": "code",
      "metadata": {
        "id": "PJrhA7cd5FQX",
        "colab_type": "code",
        "outputId": "a73c16d6-897e-4e14-b350-27fb3cc5c0bd",
        "colab": {
          "base_uri": "https://localhost:8080/",
          "height": 34
        }
      },
      "source": [
        "def printValue(s1, s2):\n",
        "  print(s1+s2) # cong 2 chuoi voi nhau\n",
        "printValue(\"3\", \"4\")"
      ],
      "execution_count": 0,
      "outputs": [
        {
          "output_type": "stream",
          "text": [
            "34\n"
          ],
          "name": "stdout"
        }
      ]
    },
    {
      "cell_type": "markdown",
      "metadata": {
        "id": "N2CkaEpqtQFG",
        "colab_type": "text"
      },
      "source": [
        "**Bai 30: Định nghĩa một hàm có input là 2 chuỗi và in chuỗi có độ dài lớn hơn trong giao diện điều khiển. Nếu 2 chuỗi có chiều dài như nhau thì in tất cả các chuỗi theo dòng.**"
      ]
    },
    {
      "cell_type": "code",
      "metadata": {
        "id": "z972cfnr5jhi",
        "colab_type": "code",
        "outputId": "c460bf59-9037-4a11-e6c3-f58379e0cae4",
        "colab": {
          "base_uri": "https://localhost:8080/",
          "height": 51
        }
      },
      "source": [
        "def printValue(s1, s2):\n",
        "  len1 = len(s1) # tao bien len1, gan do dai chuoi s1 vao bien\n",
        "  len2 = len(s2) # tao bien len2, gan do dai chuoi s1 vao bien\n",
        "  if len1>len2: # len 1 > len 2, in ra chuoi s1\n",
        "    print(s1)\n",
        "  elif len2>len1: # len 2 < len 1, in ra chuoi s2\n",
        "    print(s2)\n",
        "  else: # len 2 = len 1, in ra chuoi s1, s2\n",
        "    print(s1)\n",
        "    print(s2)\n",
        "printValue(\"one\",\"one\")"
      ],
      "execution_count": 0,
      "outputs": [
        {
          "output_type": "stream",
          "text": [
            "one\n",
            "one\n"
          ],
          "name": "stdout"
        }
      ]
    },
    {
      "cell_type": "markdown",
      "metadata": {
        "id": "UwpKHHFitTUW",
        "colab_type": "text"
      },
      "source": [
        "**Bai 31: Định nghĩa hàm có thể chấp nhận input là số nguyên và in \"Đây là một số chẵn\" nếu nó chẵn và in \"Đây là một số lẻ\" nếu là số lẻ.**"
      ]
    },
    {
      "cell_type": "code",
      "metadata": {
        "id": "_LtF9MECd0h9",
        "colab_type": "code",
        "outputId": "ee339ffe-52a1-403e-9fa5-17c40c4fd1b0",
        "colab": {
          "base_uri": "https://localhost:8080/",
          "height": 51
        }
      },
      "source": [
        "def checkValue(n):\n",
        "  if n%2 == 0:\n",
        "    print(\"Day la mot so chan\")\n",
        "  else:\n",
        "    print(\"Day la mot so le\")\n",
        "checkValue(7)\n",
        "checkValue(200)"
      ],
      "execution_count": 0,
      "outputs": [
        {
          "output_type": "stream",
          "text": [
            "Day la mot so le\n",
            "Day la mot so chan\n"
          ],
          "name": "stdout"
        }
      ]
    },
    {
      "cell_type": "markdown",
      "metadata": {
        "id": "pjahmTXVtXtt",
        "colab_type": "text"
      },
      "source": [
        "**Bai 32: Định nghĩa một hàm có thể in dictionary chứa key là các số từ 1 đến 3 (bao gồm cả hai số) và các giá trị bình phương của chúng.**"
      ]
    },
    {
      "cell_type": "code",
      "metadata": {
        "id": "B95m81_qey6H",
        "colab_type": "code",
        "outputId": "42fa5944-d86b-440d-9652-1011d3e40e3c",
        "colab": {
          "base_uri": "https://localhost:8080/",
          "height": 34
        }
      },
      "source": [
        "def printDict():\n",
        "  d = dict() # tao 1 tu dien dict\n",
        "  d[1] = 1 # key 1 = 1\n",
        "  d[2] = 2**2 # key 2 = 2 mu 2\n",
        "  d[3] = 3**2 # key 3 = 3 mu 2\n",
        "  print(d)\n",
        "printDict()"
      ],
      "execution_count": 0,
      "outputs": [
        {
          "output_type": "stream",
          "text": [
            "{1: 1, 2: 4, 3: 9}\n"
          ],
          "name": "stdout"
        }
      ]
    },
    {
      "cell_type": "markdown",
      "metadata": {
        "id": "7Ap8jI44tcFS",
        "colab_type": "text"
      },
      "source": [
        "**Bai 33: Định nghĩa một hàm có thể in dictionary chứa các key là số từ 1 đến 20 (bao gồm cả 1 và 20) và các giá trị bình phương của chúng. **"
      ]
    },
    {
      "cell_type": "code",
      "metadata": {
        "id": "sVcRgCa2fLNn",
        "colab_type": "code",
        "outputId": "c9ba5e2f-978a-4dd5-d776-de526f1407df",
        "colab": {
          "base_uri": "https://localhost:8080/",
          "height": 34
        }
      },
      "source": [
        "def printDict():\n",
        "  d = dict()\n",
        "  for i in range(1,21): # giong bai tren, nhung dung vong lap for de in ra 20 key, value\n",
        "    d[i] = i**2\n",
        "  print(d)\n",
        "printDict()"
      ],
      "execution_count": 0,
      "outputs": [
        {
          "output_type": "stream",
          "text": [
            "{1: 1, 2: 4, 3: 9, 4: 16, 5: 25, 6: 36, 7: 49, 8: 64, 9: 81, 10: 100, 11: 121, 12: 144, 13: 169, 14: 196, 15: 225, 16: 256, 17: 289, 18: 324, 19: 361, 20: 400}\n"
          ],
          "name": "stdout"
        }
      ]
    },
    {
      "cell_type": "markdown",
      "metadata": {
        "id": "irTgHD0sthQz",
        "colab_type": "text"
      },
      "source": [
        "**Bai 34: Định nghĩa một hàm có thể tạo dictionary, chứa các key là số từ 1 đến 20 (bao gồm cả 1 và 20) và các giá trị bình phương của chúng. Hàm chỉ in các giá trị mà thôi.**"
      ]
    },
    {
      "cell_type": "code",
      "metadata": {
        "id": "d_L33W9Jf1KJ",
        "colab_type": "code",
        "outputId": "7bd8b50c-a6d2-44d1-afd4-99295d54d786",
        "colab": {
          "base_uri": "https://localhost:8080/",
          "height": 357
        }
      },
      "source": [
        "def printDict():\n",
        "    d=dict() \n",
        "    for i in range(1,21): # dung vong lap de tao ra 20 key, value\n",
        "      d[i]=i**2  \n",
        "    for (k,v) in d.items(): # items la phuong thuc lay ca 2 gia tri key va value\n",
        "       print (v) # in ra value \n",
        "printDict()"
      ],
      "execution_count": 0,
      "outputs": [
        {
          "output_type": "stream",
          "text": [
            "1\n",
            "4\n",
            "9\n",
            "16\n",
            "25\n",
            "36\n",
            "49\n",
            "64\n",
            "81\n",
            "100\n",
            "121\n",
            "144\n",
            "169\n",
            "196\n",
            "225\n",
            "256\n",
            "289\n",
            "324\n",
            "361\n",
            "400\n"
          ],
          "name": "stdout"
        }
      ]
    },
    {
      "cell_type": "markdown",
      "metadata": {
        "id": "x2wbhXVKtkrd",
        "colab_type": "text"
      },
      "source": [
        "**Bai 35: Định nghĩa một hàm có thể tạo ra một dictionary chứa key là những số từ 1 đến 20 (bao gồm cả 1 và 20) và \n",
        "các giá trị bình phương của key. Hàm chỉ cần in các key.**"
      ]
    },
    {
      "cell_type": "code",
      "metadata": {
        "id": "TpguYNF0gy4r",
        "colab_type": "code",
        "outputId": "01dacc19-b100-43cc-cfc2-397f641ceae0",
        "colab": {
          "base_uri": "https://localhost:8080/",
          "height": 357
        }
      },
      "source": [
        "def printDict():\n",
        "  d = dict()\n",
        "  for i in range(1,21):\n",
        "    d[i] = i*i \n",
        "  for(k,v) in d.items():  # giong tuong tu bai 34 \n",
        "    print(k)\n",
        "printDict()"
      ],
      "execution_count": 0,
      "outputs": [
        {
          "output_type": "stream",
          "text": [
            "1\n",
            "2\n",
            "3\n",
            "4\n",
            "5\n",
            "6\n",
            "7\n",
            "8\n",
            "9\n",
            "10\n",
            "11\n",
            "12\n",
            "13\n",
            "14\n",
            "15\n",
            "16\n",
            "17\n",
            "18\n",
            "19\n",
            "20\n"
          ],
          "name": "stdout"
        }
      ]
    },
    {
      "cell_type": "markdown",
      "metadata": {
        "id": "Qo5zaI02toZ8",
        "colab_type": "text"
      },
      "source": [
        "**Bai 36: Định nghĩa một hàm có thể tạo và in list chứa các giá trị \n",
        "bình phương của các số từ 1 đến 20 (tính cả 1 và 20).**"
      ]
    },
    {
      "cell_type": "code",
      "metadata": {
        "id": "_r5sJAyriDpU",
        "colab_type": "code",
        "outputId": "69ddf956-02f9-4705-c54e-221a85ce579a",
        "colab": {
          "base_uri": "https://localhost:8080/",
          "height": 34
        }
      },
      "source": [
        "def printList():\n",
        "  l = list()\n",
        "  for i in range(1,21): \n",
        "    l.append(i**2)\n",
        "  print(l)\n",
        "printList()"
      ],
      "execution_count": 0,
      "outputs": [
        {
          "output_type": "stream",
          "text": [
            "[1, 4, 9, 16, 25, 36, 49, 64, 81, 100, 121, 144, 169, 196, 225, 256, 289, 324, 361, 400]\n"
          ],
          "name": "stdout"
        }
      ]
    },
    {
      "cell_type": "markdown",
      "metadata": {
        "id": "soFsQ44_ttLa",
        "colab_type": "text"
      },
      "source": [
        "**Bai 37: Định nghĩa một hàm có thể tạo list chứa các giá trị \n",
        "bình phương của các số từ 1 đến 20 (bao gồm cả 1 và 20) và in 5 mục đầu tiên trong list.**"
      ]
    },
    {
      "cell_type": "code",
      "metadata": {
        "id": "YDa-v0bCidax",
        "colab_type": "code",
        "outputId": "7bafa9c6-d323-4500-c017-602057f08087",
        "colab": {
          "base_uri": "https://localhost:8080/",
          "height": 34
        }
      },
      "source": [
        "def printList():\n",
        "  l = list()\n",
        "  for i in range(1,21):\n",
        "    l.append(i**2)\n",
        "  print(l[:5])\n",
        "printList()"
      ],
      "execution_count": 0,
      "outputs": [
        {
          "output_type": "stream",
          "text": [
            "[1, 4, 9, 16, 25]\n"
          ],
          "name": "stdout"
        }
      ]
    },
    {
      "cell_type": "markdown",
      "metadata": {
        "id": "GvZC0ccZtxvg",
        "colab_type": "text"
      },
      "source": [
        "**Bai 38: Định nghĩa một hàm có thể tạo ra list chứa các giá trị \n",
        "bình phương của các số từ 1 đến 20 (bao gồm cả 1 và 20), rồi in 5 mục cuối cùng trong list.**"
      ]
    },
    {
      "cell_type": "code",
      "metadata": {
        "id": "UDh0tybji8Un",
        "colab_type": "code",
        "outputId": "5712cb90-7c99-4962-defe-e8b69b6a734d",
        "colab": {
          "base_uri": "https://localhost:8080/",
          "height": 34
        }
      },
      "source": [
        "def printList():\n",
        "  l = list()\n",
        "  for i in range(1,21):\n",
        "    l.append(i**2)\n",
        "  print(l[-5:])\n",
        "printList()"
      ],
      "execution_count": 0,
      "outputs": [
        {
          "output_type": "stream",
          "text": [
            "[256, 289, 324, 361, 400]\n"
          ],
          "name": "stdout"
        }
      ]
    },
    {
      "cell_type": "markdown",
      "metadata": {
        "id": "1gIQ1DoHt3JR",
        "colab_type": "text"
      },
      "source": [
        "**Bai 39: Định nghĩa một hàm có thể tạo list chứa giá trị \n",
        "bình phương của các số từ 1 đến 20 (bao gồm cả 1 và 20). Sau đó in tất cả các giá trị của list, trừ 5 mục đầu tiên.**"
      ]
    },
    {
      "cell_type": "code",
      "metadata": {
        "id": "dV2v9szCjVDX",
        "colab_type": "code",
        "outputId": "f0d51174-6f97-4982-ded5-ca1b47659981",
        "colab": {
          "base_uri": "https://localhost:8080/",
          "height": 34
        }
      },
      "source": [
        "def printList():\n",
        "  l = list()\n",
        "  for i in range(1,21):\n",
        "    l.append(i**2)\n",
        "  print(l[5:])\n",
        "printList()"
      ],
      "execution_count": 0,
      "outputs": [
        {
          "output_type": "stream",
          "text": [
            "[36, 49, 64, 81, 100, 121, 144, 169, 196, 225, 256, 289, 324, 361, 400]\n"
          ],
          "name": "stdout"
        }
      ]
    },
    {
      "cell_type": "markdown",
      "metadata": {
        "id": "Zc28v_GJt_m8",
        "colab_type": "text"
      },
      "source": [
        "**Bai 40: Định nghĩa 1 hàm có thể tạo và in một tuple chứa các giá trị bình phương của các số từ 1 đến 20 (tính cả 1 và 20).**"
      ]
    },
    {
      "cell_type": "code",
      "metadata": {
        "id": "B8BCEBxijnrv",
        "colab_type": "code",
        "outputId": "8e4d6726-056f-4d27-a228-a1743b9f5418",
        "colab": {
          "base_uri": "https://localhost:8080/",
          "height": 34
        }
      },
      "source": [
        "def printTuple():\n",
        "  l = list()\n",
        "  for i in range(1,21):\n",
        "    l.append(i**2)\n",
        "  print(tuple(l)) # ep kieu list thanh tuple\n",
        "printTuple()\n"
      ],
      "execution_count": 0,
      "outputs": [
        {
          "output_type": "stream",
          "text": [
            "(1, 4, 9, 16, 25, 36, 49, 64, 81, 100, 121, 144, 169, 196, 225, 256, 289, 324, 361, 400)\n"
          ],
          "name": "stdout"
        }
      ]
    },
    {
      "cell_type": "markdown",
      "metadata": {
        "id": "NDGri6QXuC0Z",
        "colab_type": "text"
      },
      "source": [
        "**Bai 41: Với tuple (1,2,3,4,5,6,7,8,9,10) cho trước, viết một \n",
        "chương trình in một nửa số giá trị đầu tiên trong 1 dòng và 1 nửa số giá trị cuối trong 1 dòng.**"
      ]
    },
    {
      "cell_type": "code",
      "metadata": {
        "id": "kMBhytz3kGra",
        "colab_type": "code",
        "outputId": "b5733830-087c-44a3-b3ae-98578419c4a0",
        "colab": {
          "base_uri": "https://localhost:8080/",
          "height": 51
        }
      },
      "source": [
        "tp = (1,2,3,4,5,6,7,8,9,10)\n",
        "tp1 = tp[:5]\n",
        "tp2 = tp[5:]\n",
        "print(tp1)\n",
        "print(tp2)"
      ],
      "execution_count": 0,
      "outputs": [
        {
          "output_type": "stream",
          "text": [
            "(1, 2, 3, 4, 5)\n",
            "(6, 7, 8, 9, 10)\n"
          ],
          "name": "stdout"
        }
      ]
    },
    {
      "cell_type": "markdown",
      "metadata": {
        "id": "rG3hFKN3uFzw",
        "colab_type": "text"
      },
      "source": [
        "**Bai 42: Viết một chương trình để tạo tuple khác, chứa các giá trị là số chẵn trong\n",
        " tuple (1,2,3,4,5,6,7,8,9,10) cho trước.**"
      ]
    },
    {
      "cell_type": "code",
      "metadata": {
        "id": "hul7TTA8kTWg",
        "colab_type": "code",
        "outputId": "ff62fb7f-fd76-4c79-f99b-38da6fd986b2",
        "colab": {
          "base_uri": "https://localhost:8080/",
          "height": 34
        }
      },
      "source": [
        "tp = (1,2,3,4,5,6,7,8,9,10)\n",
        "li = list() # bien li gan ket qua vao list\n",
        "for i in tp:\n",
        "  if tp[-i] % 2 == 0: # vi tri -i, vi neu vi tri i se vuot ngoai khoang index \n",
        "    li.append(tp[i])\n",
        "\n",
        "tp2 = tuple(li) # chuyen list sang tuple\n",
        "print(tp2)"
      ],
      "execution_count": 0,
      "outputs": [
        {
          "output_type": "stream",
          "text": [
            "(2, 4, 6, 8, 10)\n"
          ],
          "name": "stdout"
        }
      ]
    },
    {
      "cell_type": "markdown",
      "metadata": {
        "id": "81PFwe0puJNO",
        "colab_type": "text"
      },
      "source": [
        "**Bai 43: Viết một chương trình để tạo ra và in tuple chứa các số chẵn \n",
        "được lấy từ tuple (1,2,3,4,5,6,7,8,9,10).**"
      ]
    },
    {
      "cell_type": "code",
      "metadata": {
        "id": "CACnFB13lnSD",
        "colab_type": "code",
        "outputId": "1f8b4bd1-88c7-41a4-e70e-93b5336ec507",
        "colab": {
          "base_uri": "https://localhost:8080/",
          "height": 34
        }
      },
      "source": [
        "tp = (1,2,3,4,5,6,7,8,9,10)\n",
        "li = list()\n",
        "for i in tp:\n",
        "  if tp[i-1]%2 == 0: # Giong bai tren\n",
        "    li.append(tp[i-1])\n",
        "\n",
        "tp2= tuple(li)\n",
        "print(tp2)"
      ],
      "execution_count": 0,
      "outputs": [
        {
          "output_type": "stream",
          "text": [
            "(2, 4, 6, 8, 10)\n"
          ],
          "name": "stdout"
        }
      ]
    },
    {
      "cell_type": "markdown",
      "metadata": {
        "id": "R4IbSarWuM1t",
        "colab_type": "text"
      },
      "source": [
        "**Bai 44: Viết một chương trình Python nhận chuỗi nhập vào bởi người dùng, \n",
        "in \"Yes\" nếu chuỗi là \"yes\" hoặc \"YES\" hoặc \"Yes\", nếu không in \"No\".**"
      ]
    },
    {
      "cell_type": "code",
      "metadata": {
        "id": "4MU_JCvPwMXp",
        "colab_type": "code",
        "outputId": "6d07a61d-8e47-47b7-a424-63bfb2d26737",
        "colab": {
          "base_uri": "https://localhost:8080/",
          "height": 51
        }
      },
      "source": [
        "s = input()\n",
        "if s == \"yes\" or s == \"YES\" or s == \"Yes\":\n",
        "  print(\"Yes\")\n",
        "else:\n",
        "  print(\"No\")"
      ],
      "execution_count": 0,
      "outputs": [
        {
          "output_type": "stream",
          "text": [
            "yes\n",
            "Yes\n"
          ],
          "name": "stdout"
        }
      ]
    },
    {
      "cell_type": "markdown",
      "metadata": {
        "id": "1Es5DofIuRKs",
        "colab_type": "text"
      },
      "source": [
        "**Bai 45: Viết chương trình Python có thể lọc các số chẵn trong danh sách \n",
        "sử dụng hàm filter. Danh sách là [1,2,3,4,5,6,7,8,9,10].**"
      ]
    },
    {
      "cell_type": "code",
      "metadata": {
        "id": "PuydGWlnwypZ",
        "colab_type": "code",
        "outputId": "f72b90ee-5f8f-425c-d957-9dca2ddcf682",
        "colab": {
          "base_uri": "https://localhost:8080/",
          "height": 34
        }
      },
      "source": [
        "li = [1,2,3,4,5,6,7,8,9,10]\n",
        "evenNumbers = list(filter (lambda x: x%2 ==0, li)) #filter(condition, list), su dung dieu kien condition vao trong list, lay ra phan tu thoa man dieu kien\n",
        "print(evenNumbers)\n",
        "# phải dùng list(filter()) thì kết quả trả về mới là list. Điều này cũng áp dụng với map()."
      ],
      "execution_count": 0,
      "outputs": [
        {
          "output_type": "stream",
          "text": [
            "[2, 4, 6, 8, 10]\n"
          ],
          "name": "stdout"
        }
      ]
    },
    {
      "cell_type": "markdown",
      "metadata": {
        "id": "P0DnbmCpuVKh",
        "colab_type": "text"
      },
      "source": [
        "**Bai 46: Viết chương trình Python dùng map() để tạo list chứa các giá trị \n",
        "bình phương của các số trong [1,2,3,4,5,6,7,8,9,10]**"
      ]
    },
    {
      "cell_type": "code",
      "metadata": {
        "id": "USWmsUAYxktp",
        "colab_type": "code",
        "outputId": "e2309738-4c2c-4bc8-b254-d61f393f2754",
        "colab": {
          "base_uri": "https://localhost:8080/",
          "height": 34
        }
      },
      "source": [
        "li = [1,2,3,4,5,6,7,8,9,10] # map(funtion_name, list_name)\n",
        "squareNumbers = list(map(lambda x: x**2, li)) # su dung ham map, su dung lamda de binh phuong gia tri trong list \n",
        "print(squareNumbers) # function_name = lambda x: process(x), lambda co the khong can de ten dang truoc "
      ],
      "execution_count": 0,
      "outputs": [
        {
          "output_type": "stream",
          "text": [
            "[1, 4, 9, 16, 25, 36, 49, 64, 81, 100]\n"
          ],
          "name": "stdout"
        }
      ]
    },
    {
      "cell_type": "markdown",
      "metadata": {
        "id": "0K0y6CEUuZq2",
        "colab_type": "text"
      },
      "source": [
        "**Bài 47: Viết chương trình Python dùng map() và filter() để tạo list chứa giá trị \n",
        "bình phương của các số chẵn trong [1,2,3,4,5,6,7,8,9,10]**"
      ]
    },
    {
      "cell_type": "code",
      "metadata": {
        "id": "V_CO5ZxY3aea",
        "colab_type": "code",
        "outputId": "4254a648-2d28-4eb2-e3a6-0023f5e63117",
        "colab": {
          "base_uri": "https://localhost:8080/",
          "height": 34
        }
      },
      "source": [
        "li = [1,2,3,4,5,6,7,8,9,10]                                                   # Dùng map() để tạo list.\n",
        "squareofNumbers = list(map(lambda x: x**2, filter (lambda x: x%2 == 0, li)))  # Dùng filter() để lọc thành phần trong list.\n",
        "print(squareofNumbers)                                                        # Dùng lambda để định nghĩa hàm chưa biết."
      ],
      "execution_count": 0,
      "outputs": [
        {
          "output_type": "stream",
          "text": [
            "[4, 16, 36, 64, 100]\n"
          ],
          "name": "stdout"
        }
      ]
    },
    {
      "cell_type": "markdown",
      "metadata": {
        "id": "ej70qna9udFt",
        "colab_type": "text"
      },
      "source": [
        "**Bai 48: Viết chương trình Python dùng filter() để tạo danh sách chứa các số chẵn trong đoạn [1,20].**"
      ]
    },
    {
      "cell_type": "code",
      "metadata": {
        "id": "D-AL7D4P9bRS",
        "colab_type": "code",
        "outputId": "de0464aa-38b0-49f0-a6d0-469d1e36175a",
        "colab": {
          "base_uri": "https://localhost:8080/",
          "height": 34
        }
      },
      "source": [
        "evenNumbers = list(filter (lambda x: x%2 ==0, range(1,21)))\n",
        "print(evenNumbers)"
      ],
      "execution_count": 0,
      "outputs": [
        {
          "output_type": "stream",
          "text": [
            "[2, 4, 6, 8, 10, 12, 14, 16, 18, 20]\n"
          ],
          "name": "stdout"
        }
      ]
    },
    {
      "cell_type": "markdown",
      "metadata": {
        "id": "ifowBF1Sufpv",
        "colab_type": "text"
      },
      "source": [
        "**Bai 49: Viết chương trình Python sử dụng map() để tạo list chứa giá trị bình phương của các số trong đoạn [1,20].**"
      ]
    },
    {
      "cell_type": "code",
      "metadata": {
        "id": "q0Lqof2h92Yc",
        "colab_type": "code",
        "outputId": "b69835da-ba7c-4011-f691-888b326dbee7",
        "colab": {
          "base_uri": "https://localhost:8080/",
          "height": 34
        }
      },
      "source": [
        "squareNumbers = list(map(lambda x:x**2, range(1,21)))\n",
        "print(squareNumbers)"
      ],
      "execution_count": 0,
      "outputs": [
        {
          "output_type": "stream",
          "text": [
            "[1, 4, 9, 16, 25, 36, 49, 64, 81, 100, 121, 144, 169, 196, 225, 256, 289, 324, 361, 400]\n"
          ],
          "name": "stdout"
        }
      ]
    },
    {
      "cell_type": "markdown",
      "metadata": {
        "id": "61yUECTfuiSU",
        "colab_type": "text"
      },
      "source": [
        "**Bai 50: Định nghĩa một class có tên là Vietnam, với static method là printNationality**"
      ]
    },
    {
      "cell_type": "code",
      "metadata": {
        "id": "XYpcYyBX-FFD",
        "colab_type": "code",
        "outputId": "046dad83-f415-4fb1-889a-9ee42bf89622",
        "colab": {
          "base_uri": "https://localhost:8080/",
          "height": 51
        }
      },
      "source": [
        "class Vietnam (object):\n",
        "    @staticmethod\n",
        "    def printNationality ():\n",
        "        print (\"Vietnam\")\n",
        "VietnamVodich = Vietnam ()\n",
        "VietnamVodich.printNationality ()\n",
        "Vietnam.printNationality ()"
      ],
      "execution_count": 0,
      "outputs": [
        {
          "output_type": "stream",
          "text": [
            "Vietnam\n",
            "Vietnam\n"
          ],
          "name": "stdout"
        }
      ]
    },
    {
      "cell_type": "markdown",
      "metadata": {
        "id": "iO8JlQWLukse",
        "colab_type": "text"
      },
      "source": [
        "**Bai 51: Định nghĩa một class tên Vietnam và class con của nó là Hanoi.**"
      ]
    },
    {
      "cell_type": "code",
      "metadata": {
        "id": "f_6CSiI9AMlG",
        "colab_type": "code",
        "outputId": "21405303-d079-47b4-f986-0995d98114e1",
        "colab": {
          "base_uri": "https://localhost:8080/",
          "height": 51
        }
      },
      "source": [
        "class Vietnam(object):\n",
        "  pass\n",
        "\n",
        "class Hanoi(Vietnam):\n",
        "  pass\n",
        "\n",
        "VietnamVodich= Vietnam()\n",
        "NguoiHanoi = Hanoi()\n",
        "print(VietnamVodich)\n",
        "print(NguoiHanoi)"
      ],
      "execution_count": 0,
      "outputs": [
        {
          "output_type": "stream",
          "text": [
            "<__main__.Vietnam object at 0x7ff306e17a58>\n",
            "<__main__.Hanoi object at 0x7ff306e17a20>\n"
          ],
          "name": "stdout"
        }
      ]
    },
    {
      "cell_type": "markdown",
      "metadata": {
        "id": "bGnIIxkZunSU",
        "colab_type": "text"
      },
      "source": [
        "**Bai 52: Định nghĩa một class có tên là Circle có thể được xây dựng từ bán kính. \n",
        "Circle có một method có thể tính diện tích.**"
      ]
    },
    {
      "cell_type": "code",
      "metadata": {
        "id": "utRKumEWBWQb",
        "colab_type": "code",
        "outputId": "6dcf26be-cc92-4192-bdde-401c312d6820",
        "colab": {
          "base_uri": "https://localhost:8080/",
          "height": 34
        }
      },
      "source": [
        "class Circle:\n",
        "  def __init__(self, r): # ham khoi tao, 1 tham so la r, radian\n",
        "    self.radius= r\n",
        "  def area(self): # ham tinh dien tich\n",
        "    return self.radius**2*3.14 # dien tich hinh tron S= r binh phuong * pi\n",
        "\n",
        "aCircle = Circle(2)\n",
        "print(aCircle.area())"
      ],
      "execution_count": 0,
      "outputs": [
        {
          "output_type": "stream",
          "text": [
            "12.56\n"
          ],
          "name": "stdout"
        }
      ]
    },
    {
      "cell_type": "markdown",
      "metadata": {
        "id": "J7L4_xmJurip",
        "colab_type": "text"
      },
      "source": [
        "**Bai 53: Định nghĩa class có tên là Hinhchunhat được xây dựng bằng chiều dài và chiều rộng. \n",
        "Class Hinhchunhat có method để tính diện tích.**"
      ]
    },
    {
      "cell_type": "code",
      "metadata": {
        "id": "CkYCu-1qLD1O",
        "colab_type": "code",
        "outputId": "ae2a8701-eb6d-4da9-d7a3-00b97177b3f5",
        "colab": {
          "base_uri": "https://localhost:8080/",
          "height": 34
        }
      },
      "source": [
        "class Hinhchunhat:\n",
        "  def __init__(self, l, w): # ham khoi tao, 2 tham so la l, r: chieu dai va chieu rong\n",
        "    self.dai = l\n",
        "    self.rong = w \n",
        "  def area(self): #ham tinh dien tich\n",
        "    return self.dai*self.rong #chieu dai * chieu rong\n",
        "\n",
        "aHinhchunhat = Hinhchunhat(3, 5)\n",
        "print(aHinhchunhat.area())"
      ],
      "execution_count": 0,
      "outputs": [
        {
          "output_type": "stream",
          "text": [
            "15\n"
          ],
          "name": "stdout"
        }
      ]
    },
    {
      "cell_type": "markdown",
      "metadata": {
        "id": "B6UpyMD2uuY8",
        "colab_type": "text"
      },
      "source": [
        "**Bai 54: Định nghĩa một class có tên là Shape và class con là Square. Square có hàm init để lấy đối số là chiều dài.\n",
        " Cả 2 class đều có hàm area để in diện tích của hình, diện tích mặc định của Shape là 0**"
      ]
    },
    {
      "cell_type": "code",
      "metadata": {
        "id": "8xBou2D6NkjG",
        "colab_type": "code",
        "outputId": "4417de87-1012-4072-a1da-6576f647db13",
        "colab": {
          "base_uri": "https://localhost:8080/",
          "height": 34
        }
      },
      "source": [
        "class Shape(object):\n",
        "    def __init__(self):\n",
        "       pass\n",
        "\n",
        "    def area(self): # ham area de in dien tich cua hinh\n",
        "       return 0 # dien tich mac dinh cua Shape la 0\n",
        "class Square(Shape): # ham con, ke thua Shape\n",
        "    def __init__(self, l):\n",
        "       Shape.__init__(self)\n",
        "       self.length = l\n",
        "\n",
        "    def area(self): # ham area de in dien tich cua hinh\n",
        "       return self.length*self.length\n",
        "\n",
        "aSquare= Square(3)\n",
        "print (aSquare.area())\n"
      ],
      "execution_count": 0,
      "outputs": [
        {
          "output_type": "stream",
          "text": [
            "9\n"
          ],
          "name": "stdout"
        }
      ]
    },
    {
      "cell_type": "markdown",
      "metadata": {
        "id": "awLg7Ks5uxdL",
        "colab_type": "text"
      },
      "source": [
        "**Bai 55: Đưa ra một RuntimeError exception. \n",
        "Sử dụng raise() để đưa ra exception.**"
      ]
    },
    {
      "cell_type": "code",
      "metadata": {
        "id": "Do0pLidtRjem",
        "colab_type": "code",
        "outputId": "e9e0a0c5-a880-40d2-811e-c38d0c2abdb5",
        "colab": {
          "base_uri": "https://localhost:8080/",
          "height": 51
        }
      },
      "source": [
        "class RuntimeError(Exception):\n",
        "  def __init__(self, mismatch):\n",
        "    Exception.__init__(self, mismatch)\n",
        "\n",
        "try: # try xu ly nhung xu ly co the xay ra error\n",
        "  print(\"And now, the Vocational Guidance Counsellor Sketch.\")\n",
        "  raise RuntimeError(\"Does not have proper hat\")\n",
        "  print(\"This print statement will not be reached.\")\n",
        "except RuntimeError as problem:  # xu ly nhung xu ly khi xay ra error\n",
        "  print (\"Vocation problem: {0}\".format(problem))"
      ],
      "execution_count": 0,
      "outputs": [
        {
          "output_type": "stream",
          "text": [
            "And now, the Vocational Guidance Counsellor Sketch.\n",
            "Vocation problem: Does not have proper hat\n"
          ],
          "name": "stdout"
        }
      ]
    },
    {
      "cell_type": "markdown",
      "metadata": {
        "id": "Pnn6Ic6JuzyM",
        "colab_type": "text"
      },
      "source": [
        "**Bai 56: Viết hàm để tính 5/0 và sử dụng try/exception để bắt lỗi. \n",
        "Gợi ý: Sử dụng try/exception để bắt lỗi.**"
      ]
    },
    {
      "cell_type": "code",
      "metadata": {
        "id": "Sj7AwS97VCt7",
        "colab_type": "code",
        "outputId": "461183d4-f350-4f70-917b-544e25a3f54b",
        "colab": {
          "base_uri": "https://localhost:8080/",
          "height": 51
        }
      },
      "source": [
        "def throws():\n",
        "  return 5/0\n",
        "try:\n",
        "  throw()\n",
        "except ZeroDivisionError:\n",
        "  print (\"Chia mot so cho 0!\")\n",
        "except Exception as problem:\n",
        "  print ('Bat duoc mot exception')\n",
        "finally:\n",
        "  print(\"Phep tinh bi huy\")"
      ],
      "execution_count": 0,
      "outputs": [
        {
          "output_type": "stream",
          "text": [
            "Bat duoc mot exception\n",
            "Phep tinh bi huy\n"
          ],
          "name": "stdout"
        }
      ]
    },
    {
      "cell_type": "markdown",
      "metadata": {
        "id": "ZjpW2eo_u26N",
        "colab_type": "text"
      },
      "source": [
        "**Bai 57: Định nghĩa một class exception tùy chỉnh, nhận một thông báo là thuộc tính.\n",
        "Gợi ý: Để định nghĩa một class exception tùy chỉnh, chúng ta phải định nghĩa một class kế thừa từ Exception.**"
      ]
    },
    {
      "cell_type": "code",
      "metadata": {
        "id": "LufpVJI8VlVz",
        "colab_type": "code",
        "outputId": "90a0b2a6-784a-4c7f-d2bf-9ae3c863624e",
        "colab": {
          "base_uri": "https://localhost:8080/",
          "height": 34
        }
      },
      "source": [
        "class MyError(Exception):\n",
        "  def __init__(self, msg): # tao ham khoi tao, doi so la msg \n",
        "    self.msg = msg\n",
        "\n",
        "error = MyError(\"Co gi do sai sai!\") # tao bien, voi doi so Co gi do sai sai\n",
        "print (error)"
      ],
      "execution_count": 0,
      "outputs": [
        {
          "output_type": "stream",
          "text": [
            "Co gi do sai sai!\n"
          ],
          "name": "stdout"
        }
      ]
    },
    {
      "cell_type": "markdown",
      "metadata": {
        "id": "TasH92Btu7Wr",
        "colab_type": "text"
      },
      "source": [
        "**Bai 58: Giả sử rằng chúng ta có vài địa chỉ email dạng username@companyname.com, hãy viết một chương trình để in \n",
        "username của địa chỉ email cụ thể. Cả username và companyname chỉ bao gồm chữ cái.\n",
        "Ví dụ: Nếu cung cấp địa chỉ email QTM@quantrimang.com thì đầu ra sẽ là: QTM.\n",
        "Trong trường hợp dữ liệu đầu vào không có sẵn, ta giả định nó được người dùng nhập vào từ giao diện điều khiển. \n",
        "Gợi ý: Sử dụng \\w để kiểm tra chữ cái.**"
      ]
    },
    {
      "cell_type": "code",
      "metadata": {
        "id": "2aXPP3ZeWOkJ",
        "colab_type": "code",
        "outputId": "8d2bfd06-cf57-411d-8910-9d990c119c28",
        "colab": {
          "base_uri": "https://localhost:8080/",
          "height": 51
        }
      },
      "source": [
        "import re # Regular expression (biểu thức chính quy)\n",
        "emailAddress = input() # bien nhap tu ban phim\n",
        "pat2 = \"(\\w+)@((\\w+\\.)+(com))\" # bien pat2, chua chuoi ky tu, kiem tra @, ., com khong\n",
        "re2 = re.match(pat2, emailAddress) #so khop chuoi, Phương thức này cũng thực hiện việc so khớp chuỗi nhưng nó sẽ tính từ phạm vi đầu chuỗi cho đến kết thúc, còn các tham số truyền vào thì tương tự như đối với phương thức search().\n",
        "print(re2.group(1)) # Phương thức này trả về các giá trị so khớp giữa biểu thức chính quy và chuỗi cần so. Trong đó thì num này là vị trí index của list so khớp trả về mà bạn muốn lấy ra. Nếu không điền thì Python sẽ coi nó là 0."
      ],
      "execution_count": 0,
      "outputs": [
        {
          "output_type": "stream",
          "text": [
            "bimbeo1@gmail.com\n",
            "bimbeo1\n"
          ],
          "name": "stdout"
        }
      ]
    },
    {
      "cell_type": "markdown",
      "metadata": {
        "id": "97YD972xu_De",
        "colab_type": "text"
      },
      "source": [
        "**Bai 59: Tương tự như bài 58, nhưng lần này ta sẽ viết hàm để lấy companyname**"
      ]
    },
    {
      "cell_type": "code",
      "metadata": {
        "id": "VR8X8IEFW5id",
        "colab_type": "code",
        "outputId": "a2eab0de-3da9-444e-d273-c231c8aa649a",
        "colab": {
          "base_uri": "https://localhost:8080/",
          "height": 51
        }
      },
      "source": [
        "import re\n",
        "emailAddress = input()\n",
        "part2 = \"(\\w+)@(\\w+)\\.(com)\"\n",
        "r2 = re.match(pat2, emailAddress)\n",
        "print(r2.group(2))"
      ],
      "execution_count": 0,
      "outputs": [
        {
          "output_type": "stream",
          "text": [
            "bimbeo1@gmail.com\n",
            "com\n"
          ],
          "name": "stdout"
        }
      ]
    },
    {
      "cell_type": "markdown",
      "metadata": {
        "id": "nKKd2hPKvBVN",
        "colab_type": "text"
      },
      "source": [
        "**Bai 60: Viết một chương trình chấp nhận chuỗi từ được phân tách bằng khoảng trống và in các từ chỉ gồm chữ số.\n",
        "Ví du: Nếu những từ sau đây là đầu vào của chương trình: 3 quantrimang.com và 2 python. Đầu ra sẽ là ['3', '2']\n",
        "Gợi ý: Sử dụng re.findall() để tìm tất cả chuỗi con sử dụng regex (biểu thức tiêu chuẩn).**"
      ]
    },
    {
      "cell_type": "code",
      "metadata": {
        "id": "hAUvE8Ifbqc-",
        "colab_type": "code",
        "outputId": "9b22020c-43a5-4618-c4b2-6f9613ad61c3",
        "colab": {
          "base_uri": "https://localhost:8080/",
          "height": 51
        }
      },
      "source": [
        "import re\n",
        "s = input()\n",
        "print(re.findall(\"\\d+\",s)) # thay the cho tat ca so "
      ],
      "execution_count": 0,
      "outputs": [
        {
          "output_type": "stream",
          "text": [
            "b b 20a bim beo 1 2\n",
            "[' ', ' ', ' ', ' ', ' ', ' ']\n"
          ],
          "name": "stdout"
        }
      ]
    },
    {
      "cell_type": "markdown",
      "metadata": {
        "id": "zip6GpHivD3K",
        "colab_type": "text"
      },
      "source": [
        "**Bai 61: In chuỗi Unicode \"Hello world\". \n",
        "Gợi ý: Sử dụng định dạng u'string' để định nghĩa chuỗi Unicode.**"
      ]
    },
    {
      "cell_type": "code",
      "metadata": {
        "id": "SImxBRbecoAF",
        "colab_type": "code",
        "outputId": "8a12f9f4-0c01-4886-b924-dc4d4012dc47",
        "colab": {
          "base_uri": "https://localhost:8080/",
          "height": 34
        }
      },
      "source": [
        "unicodeString = u\"Hello World!\"\n",
        "print(unicodeString)"
      ],
      "execution_count": 0,
      "outputs": [
        {
          "output_type": "stream",
          "text": [
            "Hello World!\n"
          ],
          "name": "stdout"
        }
      ]
    },
    {
      "cell_type": "markdown",
      "metadata": {
        "id": "5dZlmX7XvIzl",
        "colab_type": "text"
      },
      "source": [
        "**Bai 62: Viết chương trình để đọc chuỗi ASCII và chuyển đổi nó sang một chuỗi Unicode được mã hóa bằng UTF-8. \n",
        "Gợi ý: Sử dụng hàm encode() để chuyển đổi.**"
      ]
    },
    {
      "cell_type": "code",
      "metadata": {
        "id": "mvztz5iLd0iJ",
        "colab_type": "code",
        "outputId": "d24b1865-db49-4374-ed6f-1fbc28ebecf2",
        "colab": {
          "base_uri": "https://localhost:8080/",
          "height": 51
        }
      },
      "source": [
        "s = input()\n",
        "v = s.encode() # co the dung v=s.encode('utf-8')\n",
        "print(v)"
      ],
      "execution_count": 0,
      "outputs": [
        {
          "output_type": "stream",
          "text": [
            "bim beo\n",
            "b'bim beo'\n"
          ],
          "name": "stdout"
        }
      ]
    },
    {
      "cell_type": "markdown",
      "metadata": {
        "id": "1tGdCtJIvNyN",
        "colab_type": "text"
      },
      "source": [
        "**Bai 63: Viết comment đặc biệt để chỉ định file code nguồn Python ở Unicode.**"
      ]
    },
    {
      "cell_type": "code",
      "metadata": {
        "id": "ZQ7ID-I3eOin",
        "colab_type": "code",
        "outputId": "728e1efe-1cf2-4787-fb95-4b26c925bc88",
        "colab": {
          "base_uri": "https://localhost:8080/",
          "height": 34
        }
      },
      "source": [
        "# -*- coding: utf-8 -*-"
      ],
      "execution_count": 0,
      "outputs": [
        {
          "output_type": "execute_result",
          "data": {
            "text/plain": [
              "' Bai 63: Viết comment đặc biệt để chỉ định file code nguồn Python ở Unicode. '"
            ]
          },
          "metadata": {
            "tags": []
          },
          "execution_count": 41
        }
      ]
    },
    {
      "cell_type": "markdown",
      "metadata": {
        "id": "_3Sxs_FqvQ3-",
        "colab_type": "text"
      },
      "source": [
        "**Bai 64: Viết một chương trình tính 1/2 + 2/3 + 3/4 + ... + n/(n + 1) với một n là số được nhập vào (n> 0).\n",
        "Ví dụ, nếu n là số sau đây được nhập vào: 5\n",
        "Thì đầu ra phải là: 3.55\n",
        "Gợi ý: Sử dụng float() để chuyển số nguyên sang số thập phân**"
      ]
    },
    {
      "cell_type": "code",
      "metadata": {
        "id": "EmRTpVtGeses",
        "colab_type": "code",
        "outputId": "ad818e5a-d3db-4508-d901-6675c42e3626",
        "colab": {
          "base_uri": "https://localhost:8080/",
          "height": 51
        }
      },
      "source": [
        "n = int(input(\"Nhap so n > 0: \"))\n",
        "sum = 0.0\n",
        "for i in range(1,n+1):\n",
        "  sum += float(float(i)/(i+1))\n",
        "print(sum)"
      ],
      "execution_count": 0,
      "outputs": [
        {
          "output_type": "stream",
          "text": [
            "Nhap so n > 0: 5\n",
            "3.5500000000000003\n"
          ],
          "name": "stdout"
        }
      ]
    },
    {
      "cell_type": "markdown",
      "metadata": {
        "id": "VQuEt_OUvTs4",
        "colab_type": "text"
      },
      "source": [
        "**Bai 65: Viết chương trình tính:  f(n)=f(n-1)+100 khi n>0 và f(0)=1, với n là số được nhập vào (n>0).\n",
        "Ví dụ: Nếu n được nhập vào là 5 thì đầu ra phải là 500.\n",
        "Gợi ý: Chúng ta có thể định nghĩa hàm đệ quy trong Python.**"
      ]
    },
    {
      "cell_type": "code",
      "metadata": {
        "id": "uUlbGPfwfJ-q",
        "colab_type": "code",
        "outputId": "2671f26d-d12c-488f-b567-4352cbbf16a3",
        "colab": {
          "base_uri": "https://localhost:8080/",
          "height": 51
        }
      },
      "source": [
        "def f(n):\n",
        "  if n == 0:\n",
        "    return 0\n",
        "  else:\n",
        "    return f(n-1) + 100\n",
        "\n",
        "n = int(input(\"Nhap so n>0: \"))\n",
        "print(f(n))"
      ],
      "execution_count": 0,
      "outputs": [
        {
          "output_type": "stream",
          "text": [
            "Nhap so n>0: 3\n",
            "300\n"
          ],
          "name": "stdout"
        }
      ]
    },
    {
      "cell_type": "markdown",
      "metadata": {
        "id": "xB2p5pa0vXbK",
        "colab_type": "text"
      },
      "source": [
        "**Bai 66: Dãy Fibonacci được tính dựa trên công thức sau: \n",
        "f(n)=0 nếu n=0\n",
        "f(n)=1 nếu n=1\n",
        "f(n)=f(n-1)+f(n-2) nếu n>1\n",
        "Hãy viết chương trình tính giá trị của f(n) với n là số được người dùng nhập vào. Ví dụ: Nếu n được nhập vào là 7 thì đầu ra của chương trình sẽ là 13**"
      ]
    },
    {
      "cell_type": "code",
      "metadata": {
        "id": "iu9FSzQshv_K",
        "colab_type": "code",
        "outputId": "af1e8850-b31e-4402-aee5-1775d5b6a4ed",
        "colab": {
          "base_uri": "https://localhost:8080/",
          "height": 51
        }
      },
      "source": [
        "def f(n):\n",
        "  if n==0:\n",
        "    return 0\n",
        "  if n == 1:\n",
        "    return 1\n",
        "  else:\n",
        "    return f(n-1) + f(n-2)\n",
        "n = int(input(\"Nhap so n: \"))\n",
        "print(f(n))"
      ],
      "execution_count": 0,
      "outputs": [
        {
          "output_type": "stream",
          "text": [
            "Nhap so n: 5\n",
            "5\n"
          ],
          "name": "stdout"
        }
      ]
    },
    {
      "cell_type": "markdown",
      "metadata": {
        "id": "akTCsGeWvbdz",
        "colab_type": "text"
      },
      "source": [
        "**Bai 67: Dãy Fibonacci được tính dựa trên công thức sau:\n",
        "f(n)=0 nếu n=0\n",
        "f(n)=1 nếu n=1\n",
        "f(n)=f(n-1)+f(n-2) nếu n>1\n",
        "Hãy viết chương trình sử dụng list comprehension để in dãy Fibonacci dưới dạng tách biệt bằng dấu \",\", n được người dùng nhập vào.\n",
        "Ví dụ: Nếu n được nhập vào là 7 thì đầu ra của chương trình sẽ là: 0,1,1,2,3,5,8,13\n",
        "Gợi ý: Chúng ta có thể định nghĩa hàm đệ quy trong Python.\n",
        "Sử dụng list comprehension để tạo ra list từ list hiện có.\n",
        "Sử dụng string.join() để nối danh sách các chuỗi.**"
      ]
    },
    {
      "cell_type": "code",
      "metadata": {
        "id": "eQXu1bwclb4x",
        "colab_type": "code",
        "outputId": "47f02dd8-c614-4664-c4d8-2aebda055c5a",
        "colab": {
          "base_uri": "https://localhost:8080/",
          "height": 51
        }
      },
      "source": [
        "def f(n):\n",
        "  if n == 0:\n",
        "    return 0\n",
        "  elif n==1:\n",
        "    return 1\n",
        "  else:\n",
        "    return f(n-1)+f(n-2)\n",
        "\n",
        "n = int(input(\"Nhap so n: \"))\n",
        "values = [str(f(x)) for x in range(0, n+1)]\n",
        "print(\",\".join(values))"
      ],
      "execution_count": 0,
      "outputs": [
        {
          "output_type": "stream",
          "text": [
            "Nhap so n: 7\n",
            "0,1,1,2,3,5,8,13\n"
          ],
          "name": "stdout"
        }
      ]
    },
    {
      "cell_type": "markdown",
      "metadata": {
        "id": "nd7pPUF1vfqU",
        "colab_type": "text"
      },
      "source": [
        "**Bai 68: Viết chương trình sử dụng generator để in số chẵn trong khoảng từ 0 đến n, cách nhau bởi dấu phẩy, n là số được nhập vào.\n",
        "Ví dụ nếu n=10 được nhập vào thì đầu ra của chương trình là: 0,2,4,6,8,10\n",
        "Gợi ý: Sử dụng yield để tạo ra giá trị kết tiếp trong generator.**"
      ]
    },
    {
      "cell_type": "code",
      "metadata": {
        "id": "ny5eNOHQnF8I",
        "colab_type": "code",
        "outputId": "29dc905a-9cc8-46e1-af58-a2be9018d3c4",
        "colab": {
          "base_uri": "https://localhost:8080/",
          "height": 367
        }
      },
      "source": [
        "def EvenGenerator(n):\n",
        " i=0\n",
        " while i<=n:\n",
        "  if i%2==0:\n",
        "    yield i\n",
        "    i+=1\n",
        "\n",
        "# Bài tập Python 68, Code by Quantrimang.com\n",
        "n=int(input(\"Nhập n: \"))\n",
        "values = []\n",
        "for i in EvenGenerator(n):\n",
        " values.append(str(i))\n",
        "\n",
        "print (\"Các số chẵn trong khoảng 0 và n là: \",\",\".join(values))"
      ],
      "execution_count": 0,
      "outputs": [
        {
          "output_type": "stream",
          "text": [
            "Nhập n: 10\n"
          ],
          "name": "stdout"
        },
        {
          "output_type": "error",
          "ename": "KeyboardInterrupt",
          "evalue": "ignored",
          "traceback": [
            "\u001b[0;31m---------------------------------------------------------------------------\u001b[0m",
            "\u001b[0;31mKeyboardInterrupt\u001b[0m                         Traceback (most recent call last)",
            "\u001b[0;32m<ipython-input-65-f9bb4d2b7728>\u001b[0m in \u001b[0;36m<module>\u001b[0;34m()\u001b[0m\n\u001b[1;32m     12\u001b[0m \u001b[0mn\u001b[0m\u001b[0;34m=\u001b[0m\u001b[0mint\u001b[0m\u001b[0;34m(\u001b[0m\u001b[0minput\u001b[0m\u001b[0;34m(\u001b[0m\u001b[0;34m\"Nhập n: \"\u001b[0m\u001b[0;34m)\u001b[0m\u001b[0;34m)\u001b[0m\u001b[0;34m\u001b[0m\u001b[0;34m\u001b[0m\u001b[0m\n\u001b[1;32m     13\u001b[0m \u001b[0mvalues\u001b[0m \u001b[0;34m=\u001b[0m \u001b[0;34m[\u001b[0m\u001b[0;34m]\u001b[0m\u001b[0;34m\u001b[0m\u001b[0;34m\u001b[0m\u001b[0m\n\u001b[0;32m---> 14\u001b[0;31m \u001b[0;32mfor\u001b[0m \u001b[0mi\u001b[0m \u001b[0;32min\u001b[0m \u001b[0mEvenGenerator\u001b[0m\u001b[0;34m(\u001b[0m\u001b[0mn\u001b[0m\u001b[0;34m)\u001b[0m\u001b[0;34m:\u001b[0m\u001b[0;34m\u001b[0m\u001b[0;34m\u001b[0m\u001b[0m\n\u001b[0m\u001b[1;32m     15\u001b[0m  \u001b[0mvalues\u001b[0m\u001b[0;34m.\u001b[0m\u001b[0mappend\u001b[0m\u001b[0;34m(\u001b[0m\u001b[0mstr\u001b[0m\u001b[0;34m(\u001b[0m\u001b[0mi\u001b[0m\u001b[0;34m)\u001b[0m\u001b[0;34m)\u001b[0m\u001b[0;34m\u001b[0m\u001b[0;34m\u001b[0m\u001b[0m\n\u001b[1;32m     16\u001b[0m \u001b[0;34m\u001b[0m\u001b[0m\n",
            "\u001b[0;32m<ipython-input-65-f9bb4d2b7728>\u001b[0m in \u001b[0;36mEvenGenerator\u001b[0;34m(n)\u001b[0m\n\u001b[1;32m      5\u001b[0m  \u001b[0mi\u001b[0m\u001b[0;34m=\u001b[0m\u001b[0;36m0\u001b[0m\u001b[0;34m\u001b[0m\u001b[0;34m\u001b[0m\u001b[0m\n\u001b[1;32m      6\u001b[0m  \u001b[0;32mwhile\u001b[0m \u001b[0mi\u001b[0m\u001b[0;34m<=\u001b[0m\u001b[0mn\u001b[0m\u001b[0;34m:\u001b[0m\u001b[0;34m\u001b[0m\u001b[0;34m\u001b[0m\u001b[0m\n\u001b[0;32m----> 7\u001b[0;31m   \u001b[0;32mif\u001b[0m \u001b[0mi\u001b[0m\u001b[0;34m%\u001b[0m\u001b[0;36m2\u001b[0m\u001b[0;34m==\u001b[0m\u001b[0;36m0\u001b[0m\u001b[0;34m:\u001b[0m\u001b[0;34m\u001b[0m\u001b[0;34m\u001b[0m\u001b[0m\n\u001b[0m\u001b[1;32m      8\u001b[0m     \u001b[0;32myield\u001b[0m \u001b[0mi\u001b[0m\u001b[0;34m\u001b[0m\u001b[0;34m\u001b[0m\u001b[0m\n\u001b[1;32m      9\u001b[0m     \u001b[0mi\u001b[0m\u001b[0;34m+=\u001b[0m\u001b[0;36m1\u001b[0m\u001b[0;34m\u001b[0m\u001b[0;34m\u001b[0m\u001b[0m\n",
            "\u001b[0;31mKeyboardInterrupt\u001b[0m: "
          ]
        }
      ]
    },
    {
      "cell_type": "markdown",
      "metadata": {
        "id": "Lkksf9-7vjzj",
        "colab_type": "text"
      },
      "source": [
        "**Bai 69: Viết chương trình sử dụng generator để in số chia hết cho 5 và 7 giữa 0 và n, cách nhau bằng dấu phẩy, n được người dùng nhập vào.\n",
        "Ví dụ: Nếu n=100 được nhập vào thì đầu ra của chương trình là: 0,35,70**"
      ]
    },
    {
      "cell_type": "code",
      "metadata": {
        "id": "7m8wIaaAnaoc",
        "colab_type": "code",
        "outputId": "0e0efef0-fd19-4690-b8fe-d7e6077890e4",
        "colab": {
          "base_uri": "https://localhost:8080/",
          "height": 51
        }
      },
      "source": [
        "def NumGenerator(n):\n",
        "  for i in range(n+1):\n",
        "    if i%5 == 0 and i % 7 == 0:\n",
        "      yield i\n",
        "\n",
        "n = int(input(\"Nhap n: \"))\n",
        "values = []\n",
        "for i in NumGenerator(n):\n",
        "  values.append(str(i))\n",
        "\n",
        "print(\"Cac so chia het cho 5 va 7 trong khoang 0 va n la: \",\", \".join(values))"
      ],
      "execution_count": 0,
      "outputs": [
        {
          "output_type": "stream",
          "text": [
            "Nhap n: 100\n",
            "Cac so chia het cho 5 va 7 trong khoang 0 va n la:  0, 35, 70\n"
          ],
          "name": "stdout"
        }
      ]
    },
    {
      "cell_type": "markdown",
      "metadata": {
        "id": "OfgADF2jvnT1",
        "colab_type": "text"
      },
      "source": [
        "**Bai 70: Viết các lệnh assert để xác minh rằng tất cả các số trong list [2,4,6,8] là chẵn.\n",
        "Gợi ý: Sử dụng assert để khẳng định.**"
      ]
    },
    {
      "cell_type": "code",
      "metadata": {
        "id": "t4-AJXZdqQOv",
        "colab_type": "code",
        "colab": {}
      },
      "source": [
        "li = [2,4,6,8]\n",
        "for i in li:\n",
        "  assert i%2 ==0 # neu co so le thi bao loi "
      ],
      "execution_count": 0,
      "outputs": []
    },
    {
      "cell_type": "markdown",
      "metadata": {
        "id": "04tXRIXtvqaE",
        "colab_type": "text"
      },
      "source": [
        "**Bai 71: Viết chương trình chấp nhận biểu thức toán học cơ bản do người dùng nhập vào từ bảng điều khiển và in kết quả ước lượng ra ngoài màn hình.\n",
        "Ví dụ: Nếu chuỗi sau là đầu vào của chương trình:\n",
        "35 + 3\n",
        "thì đầu ra sẽ lả:\n",
        "38 \n",
        "Gợi ý: Sử dụng eval() để ước lượng biểu thức**"
      ]
    },
    {
      "cell_type": "code",
      "metadata": {
        "id": "lAgTgx47q2Uw",
        "colab_type": "code",
        "outputId": "13818a80-23d7-42e2-98e9-b50dea0c1f3d",
        "colab": {
          "base_uri": "https://localhost:8080/",
          "height": 51
        }
      },
      "source": [
        "expression = input(\"Nhap bieu thuc can tinh: \")\n",
        "print(eval(expression))"
      ],
      "execution_count": 0,
      "outputs": [
        {
          "output_type": "stream",
          "text": [
            "Nhap bieu thuc can tinh: 800/2\n",
            "400.0\n"
          ],
          "name": "stdout"
        }
      ]
    },
    {
      "cell_type": "markdown",
      "metadata": {
        "id": "FUD2KYg6vs1G",
        "colab_type": "text"
      },
      "source": [
        "**Bai 72: Viết hàm tìm kiếm nhị phân để tìm các item trong một list đã được sắp xếp. Hàm sẽ trả lại chỉ số của phần tử được tìm thấy trong list.\n",
        "Gợi ý: Sử dụng if/elif để giải quyết các điều kiện.**"
      ]
    },
    {
      "cell_type": "code",
      "metadata": {
        "id": "X76Z7gSGrPtS",
        "colab_type": "code",
        "outputId": "3e9ab151-5936-424f-8e34-008e840a6e36",
        "colab": {
          "base_uri": "https://localhost:8080/",
          "height": 51
        }
      },
      "source": [
        "import math\n",
        "def bin_search(li, element):\n",
        "  bottom = 0\n",
        "  top = len(li) - 1\n",
        "  index = -1\n",
        "  while top >= bottom and index == -1:\n",
        "    mid = int(math.floor((top+bottom)/2.0))\n",
        "    if li[mid]== element:\n",
        "      index = mid\n",
        "    elif li[mid] > element:\n",
        "      top = mid - 1\n",
        "    else:\n",
        "      bottom = mid + 1\n",
        "  return index\n",
        "\n",
        "li=[2,5,7,9,11,17,222]\n",
        "print(bin_search(li,11))\n",
        "print(bin_search(li,12))"
      ],
      "execution_count": 0,
      "outputs": [
        {
          "output_type": "stream",
          "text": [
            "4\n",
            "-1\n"
          ],
          "name": "stdout"
        }
      ]
    },
    {
      "cell_type": "markdown",
      "metadata": {
        "id": "e7xZVAFzvvqW",
        "colab_type": "text"
      },
      "source": [
        "**Bai 73: Tạo một số thập phân ngẫu nhiên, có giá trị nằm trong khoảng từ 10 đến 100 bằng cách sử dụng module math của Python. \n",
        "Gợi ý: Sử dụng random.random() để tạo float ngẫu nhiên trong [0,1].**"
      ]
    },
    {
      "cell_type": "code",
      "metadata": {
        "id": "ANmwvRuLsRwS",
        "colab_type": "code",
        "outputId": "33a9fe70-07e8-43c9-9f89-3836e4044231",
        "colab": {
          "base_uri": "https://localhost:8080/",
          "height": 34
        }
      },
      "source": [
        "import random\n",
        "print(random.random()*100+10) # random so tu 0 den 100"
      ],
      "execution_count": 0,
      "outputs": [
        {
          "output_type": "stream",
          "text": [
            "45.96168984401815\n"
          ],
          "name": "stdout"
        }
      ]
    },
    {
      "cell_type": "markdown",
      "metadata": {
        "id": "n4Bod8q-vyP8",
        "colab_type": "text"
      },
      "source": [
        "**Bai 74: Tạo một số thập phân ngẫu nhiên, có giá trị nằm trong khoảng 5 đến 95, sử dụng module math của Python.**"
      ]
    },
    {
      "cell_type": "code",
      "metadata": {
        "id": "J0sdg0VpuV_P",
        "colab_type": "code",
        "outputId": "6acb040a-2303-4ca5-97c8-a4d6a9c41fa4",
        "colab": {
          "base_uri": "https://localhost:8080/",
          "height": 34
        }
      },
      "source": [
        "import random\n",
        "print(random.random()*90+5)"
      ],
      "execution_count": 0,
      "outputs": [
        {
          "output_type": "stream",
          "text": [
            "17.666920493537518\n"
          ],
          "name": "stdout"
        }
      ]
    },
    {
      "cell_type": "markdown",
      "metadata": {
        "id": "FJ-Ku0EQv1qQ",
        "colab_type": "text"
      },
      "source": [
        "**Bai 75: Viết chương trình xuất ra một số chẵn ngẫu nhiên trong khoảng 0 đến 10 (bao gồm cả 0 và 10), sử dụng module random và list comprehension.\n",
        "Gợi ý: Sử dụng random.choice() để tạo một phần tử ngẫu nhiên từ list.**"
      ]
    },
    {
      "cell_type": "code",
      "metadata": {
        "id": "NX2mhjmCu3cY",
        "colab_type": "code",
        "outputId": "47af6b8a-c6ff-4110-e73e-1087b7944ddf",
        "colab": {
          "base_uri": "https://localhost:8080/",
          "height": 34
        }
      },
      "source": [
        "import random\n",
        "print (random.choice([i for i in range(11) if i%2 ==0 ]))"
      ],
      "execution_count": 0,
      "outputs": [
        {
          "output_type": "stream",
          "text": [
            "6\n"
          ],
          "name": "stdout"
        }
      ]
    },
    {
      "cell_type": "markdown",
      "metadata": {
        "id": "_pId6Xrnv4lG",
        "colab_type": "text"
      },
      "source": [
        "**Bai 76: Vui lòng viết chương trình để xuất một số ngẫu nhiên, chia hết cho 5 và 7, từ 0 đến 200 \n",
        "(gồm cả 0 và 200), sử dụng module random và list comprehension.**"
      ]
    },
    {
      "cell_type": "code",
      "metadata": {
        "id": "m-2QWTG0vQfA",
        "colab_type": "code",
        "outputId": "34ca5b92-18bf-45f9-9c87-c0c57c08e87b",
        "colab": {
          "base_uri": "https://localhost:8080/",
          "height": 34
        }
      },
      "source": [
        "import random\n",
        "print (random.choice([i for i in range(201) if i %5 == 0 and i % 7 == 0]))"
      ],
      "execution_count": 0,
      "outputs": [
        {
          "output_type": "stream",
          "text": [
            "70\n"
          ],
          "name": "stdout"
        }
      ]
    },
    {
      "cell_type": "markdown",
      "metadata": {
        "id": "I2nmFcLjv6ws",
        "colab_type": "text"
      },
      "source": [
        "**Bai 77: Vui lòng viết chương trình để tạo một list với 5 số ngẫu nhiên từ 100 đến 200. \n",
        "Gợi ý: Sử dụng random.sample() để tạo list chứa các giá trị ngẫu nhiên.**"
      ]
    },
    {
      "cell_type": "code",
      "metadata": {
        "id": "rBilDzoDvjnp",
        "colab_type": "code",
        "outputId": "59a52102-861d-4e42-b665-83e3c92cfbf2",
        "colab": {
          "base_uri": "https://localhost:8080/",
          "height": 34
        }
      },
      "source": [
        "import random\n",
        "print (random.sample(range(100,201), 5))"
      ],
      "execution_count": 0,
      "outputs": [
        {
          "output_type": "stream",
          "text": [
            "[186, 174, 109, 183, 120]\n"
          ],
          "name": "stdout"
        }
      ]
    },
    {
      "cell_type": "markdown",
      "metadata": {
        "id": "sQcYgFKQv9sf",
        "colab_type": "text"
      },
      "source": [
        "**Bai 78: Viết chương trình tạo ngẫu nhiên list gồm 5 số chẵn nằm trong đoạn [100;200].**"
      ]
    },
    {
      "cell_type": "code",
      "metadata": {
        "id": "VxJWOd-0vv0S",
        "colab_type": "code",
        "outputId": "dcacb3cf-f44d-4ef9-b894-0a38a51252c5",
        "colab": {
          "base_uri": "https://localhost:8080/",
          "height": 34
        }
      },
      "source": [
        "import random\n",
        "print (random.sample([i for i in range(100,201) if i%2 == 0], 5))"
      ],
      "execution_count": 0,
      "outputs": [
        {
          "output_type": "stream",
          "text": [
            "[108, 122, 156, 148, 170]\n"
          ],
          "name": "stdout"
        }
      ]
    },
    {
      "cell_type": "markdown",
      "metadata": {
        "id": "5m2rI0AiwCFV",
        "colab_type": "text"
      },
      "source": [
        "**Bai 79: Viết chương trình để tạo ngẫu nhiên một list gồm 5 số, chia hết cho 5 và 7, nằm trong đoạn [1;1000].**"
      ]
    },
    {
      "cell_type": "code",
      "metadata": {
        "id": "sSr0aM6QwCAy",
        "colab_type": "code",
        "outputId": "220093e9-eb1f-4837-dede-7610dcc37696",
        "colab": {
          "base_uri": "https://localhost:8080/",
          "height": 34
        }
      },
      "source": [
        "import random\n",
        "print (random.sample([i for i in range(1,1001) if i % 5 == 0 and i % 7 ==0 ], 5))"
      ],
      "execution_count": 0,
      "outputs": [
        {
          "output_type": "stream",
          "text": [
            "[875, 630, 35, 385, 455]\n"
          ],
          "name": "stdout"
        }
      ]
    },
    {
      "cell_type": "markdown",
      "metadata": {
        "id": "dsshwRsWwEQ9",
        "colab_type": "text"
      },
      "source": [
        "**Bai 80: Viết chương trình để in một số nguyên ngẫu nhiên từ 7 đến 15.\n",
        "Gợi ý: Sử dụng random.randrange() để lấy số nguyên ngẫu nhiên trong một phạm vi nhất định.**"
      ]
    },
    {
      "cell_type": "code",
      "metadata": {
        "id": "Irsy7BAgwO13",
        "colab_type": "code",
        "outputId": "fb087820-b192-4348-f9a6-9aa436bd40b0",
        "colab": {
          "base_uri": "https://localhost:8080/",
          "height": 34
        }
      },
      "source": [
        "import random\n",
        "print(random.randrange(7,16))"
      ],
      "execution_count": 0,
      "outputs": [
        {
          "output_type": "stream",
          "text": [
            "9\n"
          ],
          "name": "stdout"
        }
      ]
    },
    {
      "cell_type": "markdown",
      "metadata": {
        "id": "9NhDeUKGwGhv",
        "colab_type": "text"
      },
      "source": [
        "**Bai 81: Viết chương trình để nén và giải nén string \"\"hello world!hello world!hello world!hello world!\".\n",
        "Gợi ý: Sử dụng zlib.compress() và zlib.decompress() để nén và giải nén string.**"
      ]
    },
    {
      "cell_type": "code",
      "metadata": {
        "id": "869hzeDew2ED",
        "colab_type": "code",
        "outputId": "4b2c0907-d807-46bf-d057-8619d7448135",
        "colab": {
          "base_uri": "https://localhost:8080/",
          "height": 51
        }
      },
      "source": [
        "import zlib\n",
        "s = \"hello world!hello world!hello world!hello world!\"\n",
        "t = zlib.compress(s.encode(\"utf-8\")) # bạn phải gọi encode() và chỉ định kiểu mã hóa, giả sử là utf-8\n",
        "print (t)\n",
        "print (zlib.decompress(t))"
      ],
      "execution_count": 0,
      "outputs": [
        {
          "output_type": "stream",
          "text": [
            "b'x\\x9c\\xcbH\\xcd\\xc9\\xc9W(\\xcf/\\xcaIQ\\xcc \\x82\\r\\x00\\xbd[\\x11\\xf5'\n",
            "b'hello world!hello world!hello world!hello world!'\n"
          ],
          "name": "stdout"
        }
      ]
    },
    {
      "cell_type": "markdown",
      "metadata": {
        "id": "kbh-jKMswJiN",
        "colab_type": "text"
      },
      "source": [
        "**Bai 82: Bạn hãy viết một chương trình để in thời gian thực thi (running time of execution) phép tính \"1+1\" 100 lần.\n",
        "Gợi ý: Sử dụng timeit() để đo thời gian chạy**"
      ]
    },
    {
      "cell_type": "code",
      "metadata": {
        "id": "MNLNx2pExIKB",
        "colab_type": "code",
        "outputId": "354d6b6d-feda-4d6e-83fb-f17c75a75898",
        "colab": {
          "base_uri": "https://localhost:8080/",
          "height": 34
        }
      },
      "source": [
        "from timeit import Timer \n",
        "t = Timer(\"for i in range(100):1+1\")\n",
        "print(t.timeit())"
      ],
      "execution_count": 0,
      "outputs": [
        {
          "output_type": "stream",
          "text": [
            "1.5832345590006298\n"
          ],
          "name": "stdout"
        }
      ]
    },
    {
      "cell_type": "markdown",
      "metadata": {
        "id": "lMfxQF4CwMWl",
        "colab_type": "text"
      },
      "source": [
        "**Bai 83: Viết chương trình để trộn và in list [3,6,7,8].\n",
        "Gợi ý: Sử dụng shuffle() để trộn list.**"
      ]
    },
    {
      "cell_type": "code",
      "metadata": {
        "id": "Gj_Dr188xpTE",
        "colab_type": "code",
        "outputId": "0d365316-38b0-4d54-8101-8f41ef6bf121",
        "colab": {
          "base_uri": "https://localhost:8080/",
          "height": 34
        }
      },
      "source": [
        "from random import shuffle\n",
        "li = [3,6,7,8]\n",
        "shuffle(li)\n",
        "print(li)"
      ],
      "execution_count": 0,
      "outputs": [
        {
          "output_type": "stream",
          "text": [
            "[3, 7, 8, 6]\n"
          ],
          "name": "stdout"
        }
      ]
    },
    {
      "cell_type": "markdown",
      "metadata": {
        "id": "YGPnQYtUwPXO",
        "colab_type": "text"
      },
      "source": [
        "**Bai 84: Viết một chương trình để tạo tất cả các câu có chủ ngữ nằm trong [\"Anh\",\"Em\"], \n",
        "động từ nằm trong [\"Chơi\",\"Yêu\"] và tân ngữ là [\"Bóng đá\",\"Xếp hình\"].\n",
        "Gợi ý: Sử dụng list[index] để lấy phần tử từ list.**"
      ]
    },
    {
      "cell_type": "code",
      "metadata": {
        "id": "ZZcMRtf2x4g4",
        "colab_type": "code",
        "outputId": "12644612-cdf9-41bc-cfd4-019f641f1465",
        "colab": {
          "base_uri": "https://localhost:8080/",
          "height": 153
        }
      },
      "source": [
        "chu_ngu=[\"Anh\",\"Em\"]\n",
        "dong_tu=[\"Chơi\",\"Yêu\"]\n",
        "tan_ngu=[\"Bóng đá\",\"Xếp hình\"]\n",
        "for i in range(len(chu_ngu)):\n",
        " for j in range(len(dong_tu)):\n",
        "  for k in range(len(tan_ngu)):\n",
        "    cau = \"%s %s %s.\" % (chu_ngu[i], dong_tu[j], tan_ngu[k])\n",
        "    print (cau)"
      ],
      "execution_count": 0,
      "outputs": [
        {
          "output_type": "stream",
          "text": [
            "Anh Chơi Bóng đá.\n",
            "Anh Chơi Xếp hình.\n",
            "Anh Yêu Bóng đá.\n",
            "Anh Yêu Xếp hình.\n",
            "Em Chơi Bóng đá.\n",
            "Em Chơi Xếp hình.\n",
            "Em Yêu Bóng đá.\n",
            "Em Yêu Xếp hình.\n"
          ],
          "name": "stdout"
        }
      ]
    },
    {
      "cell_type": "markdown",
      "metadata": {
        "id": "9gyxmNZPwSwf",
        "colab_type": "text"
      },
      "source": [
        "**Bai 85: Viết chương trình in list sau khi xóa các số chẵn trong [5,6,77,45,22,12,24].\n",
        "Gợi ý: Sử dụng list comprehension để xóa một loạt phần tử của list.**"
      ]
    },
    {
      "cell_type": "code",
      "metadata": {
        "id": "OMErMyaoyD_P",
        "colab_type": "code",
        "outputId": "304839be-ac2c-42a6-9424-17c59f9a4931",
        "colab": {
          "base_uri": "https://localhost:8080/",
          "height": 34
        }
      },
      "source": [
        "li = [5,6,77,45,22,12,24]\n",
        "li = [x for x in li if x%2  !=0]\n",
        "print(li)"
      ],
      "execution_count": 0,
      "outputs": [
        {
          "output_type": "stream",
          "text": [
            "[5, 77, 45]\n"
          ],
          "name": "stdout"
        }
      ]
    },
    {
      "cell_type": "markdown",
      "metadata": {
        "id": "1YsK6vvqwVQd",
        "colab_type": "text"
      },
      "source": [
        "**Bai 86: Sử dụng list comprehension để viết chương trình in list sau khi đã loại bỏ các số \n",
        "chia hết cho 5 và 7 trong [12,24,35,70,88,120,155].**"
      ]
    },
    {
      "cell_type": "code",
      "metadata": {
        "id": "8RQ7-Yr5yl7I",
        "colab_type": "code",
        "outputId": "86d342c6-e915-430b-e536-38ee886eff74",
        "colab": {
          "base_uri": "https://localhost:8080/",
          "height": 34
        }
      },
      "source": [
        "li = [12,24,35,70,88,120,155]\n",
        "li = [x for x in li if x % 5 != 0 and x % 7 != 0]\n",
        "print(li)"
      ],
      "execution_count": 0,
      "outputs": [
        {
          "output_type": "stream",
          "text": [
            "[12, 24, 88]\n"
          ],
          "name": "stdout"
        }
      ]
    },
    {
      "cell_type": "markdown",
      "metadata": {
        "id": "O5iAm5P4wXjg",
        "colab_type": "text"
      },
      "source": [
        "**Bai 87: Viết chương trình in list sau khi đã xóa số thứ 0, thứ 2, thứ 4, thứ 6 trong [12,24,35,70,88,120,155]. \n",
        "Gợi ý: Sử dụng list comprehension để xóa một loạt phần tử trong list.\n",
        "       Sử dụng hàm enumerate() để lấy index, value của tuple.**"
      ]
    },
    {
      "cell_type": "code",
      "metadata": {
        "id": "vOMaXv_Vy8xk",
        "colab_type": "code",
        "outputId": "48f6f293-003a-4863-8f86-18cd725005d0",
        "colab": {
          "base_uri": "https://localhost:8080/",
          "height": 34
        }
      },
      "source": [
        "li = [12,24,35,70,88,120,155]\n",
        "a = [x for i,x in enumerate(li) if i%2 != 0]\n",
        "print(a)"
      ],
      "execution_count": 0,
      "outputs": [
        {
          "output_type": "stream",
          "text": [
            "[24, 70, 120]\n"
          ],
          "name": "stdout"
        }
      ]
    },
    {
      "cell_type": "markdown",
      "metadata": {
        "id": "DtGp1kk1wazq",
        "colab_type": "text"
      },
      "source": [
        "**Bai 88: Viết chương trình tạo mảng 3D 3*5*8 có mỗi phần tử là 0.\n",
        "Gợi ý: Sử dụng list comprehension để tạo mảng.**"
      ]
    },
    {
      "cell_type": "code",
      "metadata": {
        "id": "E_ZdCHi_zXsq",
        "colab_type": "code",
        "outputId": "0b294a89-d66b-4539-fdbc-8d6521d21091",
        "colab": {
          "base_uri": "https://localhost:8080/",
          "height": 54
        }
      },
      "source": [
        "array = [[0 for col in range(8) for col in range(5)] for row in range(3)] # 8 cot, 5 hang, 3 ma tran\n",
        "print(array)"
      ],
      "execution_count": 0,
      "outputs": [
        {
          "output_type": "stream",
          "text": [
            "[[0, 0, 0, 0, 0, 0, 0, 0, 0, 0, 0, 0, 0, 0, 0, 0, 0, 0, 0, 0, 0, 0, 0, 0, 0, 0, 0, 0, 0, 0, 0, 0, 0, 0, 0, 0, 0, 0, 0, 0], [0, 0, 0, 0, 0, 0, 0, 0, 0, 0, 0, 0, 0, 0, 0, 0, 0, 0, 0, 0, 0, 0, 0, 0, 0, 0, 0, 0, 0, 0, 0, 0, 0, 0, 0, 0, 0, 0, 0, 0], [0, 0, 0, 0, 0, 0, 0, 0, 0, 0, 0, 0, 0, 0, 0, 0, 0, 0, 0, 0, 0, 0, 0, 0, 0, 0, 0, 0, 0, 0, 0, 0, 0, 0, 0, 0, 0, 0, 0, 0]]\n"
          ],
          "name": "stdout"
        }
      ]
    },
    {
      "cell_type": "markdown",
      "metadata": {
        "id": "ciNCJiTTwhj9",
        "colab_type": "text"
      },
      "source": [
        "**Bai 89: Viết chương trình in list sau khi đã xóa số ở vị trí thứ 0, thứ 4, thứ 5 trong [12,24,35,70,88,120,155]**"
      ]
    },
    {
      "cell_type": "code",
      "metadata": {
        "id": "oLG4S01WzoOY",
        "colab_type": "code",
        "outputId": "b6d294b2-a8e8-4ad6-df94-f192824bd790",
        "colab": {
          "base_uri": "https://localhost:8080/",
          "height": 34
        }
      },
      "source": [
        "li = [12,24,35,70,88,120,155]\n",
        "li = [x for (i,x) in enumerate(li) if i not in (0,4,5)]\n",
        "print(li)"
      ],
      "execution_count": 0,
      "outputs": [
        {
          "output_type": "stream",
          "text": [
            "[24, 35, 70, 155]\n"
          ],
          "name": "stdout"
        }
      ]
    },
    {
      "cell_type": "markdown",
      "metadata": {
        "id": "B04K-nRXwj4Y",
        "colab_type": "text"
      },
      "source": [
        "**Bai 90: Viết chương trình in list sau khi đã xóa giá trị 24 trong [12,24,35,24,88,120,155].  \n",
        "Gợi ý: Sử dụng phương thức xóa của list để xóa giá trị.**"
      ]
    },
    {
      "cell_type": "code",
      "metadata": {
        "id": "toFn_aDg0EtG",
        "colab_type": "code",
        "outputId": "0eecdf59-1fa1-432d-e5f0-7b5cee10f0b0",
        "colab": {
          "base_uri": "https://localhost:8080/",
          "height": 34
        }
      },
      "source": [
        "li = [12, 24, 35, 24, 88,120, 155]\n",
        "li = [x for x in li if x != 24]\n",
        "print(li)"
      ],
      "execution_count": 0,
      "outputs": [
        {
          "output_type": "stream",
          "text": [
            "[12, 35, 88, 120, 155]\n"
          ],
          "name": "stdout"
        }
      ]
    },
    {
      "cell_type": "markdown",
      "metadata": {
        "id": "SKZhKi40wnkF",
        "colab_type": "text"
      },
      "source": [
        "**Bai 91: Với 2 list cho trước: [1,3,6,78,35,55] và [12,24,35,24,88,120,155], viết chương trình để tạo list có phần tử là giao của 2 list đã cho.\n",
        "Gợi ý: Sử dụng set() và \"&=\" để thiết lập điểm giao.**"
      ]
    },
    {
      "cell_type": "code",
      "metadata": {
        "id": "C_uzu4MZ0bmr",
        "colab_type": "code",
        "outputId": "95350681-d5fc-43a7-ca89-adceded9f8c1",
        "colab": {
          "base_uri": "https://localhost:8080/",
          "height": 34
        }
      },
      "source": [
        "list1 = set([12,3,6,78,35,55,120])\n",
        "list2 = set([12,24,35,24,88,120,155])\n",
        "list1 &= list2\n",
        "li = list(list1)\n",
        "print(li)"
      ],
      "execution_count": 0,
      "outputs": [
        {
          "output_type": "stream",
          "text": [
            "[120, 35, 12]\n"
          ],
          "name": "stdout"
        }
      ]
    },
    {
      "cell_type": "markdown",
      "metadata": {
        "id": "IQpdgq9xwp-Q",
        "colab_type": "text"
      },
      "source": [
        "**Bai 92: Viết chương trình in list từ list [12,24,35,24,88,120,155,88,120,155], sau khi đã xóa hết các giá trị trùng nhau.\n",
        "Gợi ý: Sử dụng set() để lưu trữ các giá trị không bị trùng lặp.**"
      ]
    },
    {
      "cell_type": "code",
      "metadata": {
        "id": "4CKlS2uw0wer",
        "colab_type": "code",
        "outputId": "7e2b100f-4efd-4589-c370-2f8c5451cffa",
        "colab": {
          "base_uri": "https://localhost:8080/",
          "height": 34
        }
      },
      "source": [
        "def xoaTrung (li):\n",
        "  list_moi = []\n",
        "  xem = set()\n",
        "  for i in li:\n",
        "    if i not in xem:\n",
        "      xem.add(i)\n",
        "      list_moi.append(i)\n",
        "  return list_moi\n",
        "\n",
        "li = [12,12,15,24,35,35,24,88,120,155,88,120,155]\n",
        "print(\"List sau khi xoa gia tri trung la: \", xoaTrung(li))"
      ],
      "execution_count": 0,
      "outputs": [
        {
          "output_type": "stream",
          "text": [
            "List sau khi xoa gia tri trung la:  [12, 15, 24, 35, 88, 120, 155]\n"
          ],
          "name": "stdout"
        }
      ]
    },
    {
      "cell_type": "markdown",
      "metadata": {
        "id": "iWK_oi6FwtB1",
        "colab_type": "text"
      },
      "source": [
        "**Bai 93: Định nghĩa class Nguoi và 2 class con của nó: Nam, Nu. Tất cả các class có method \"getGender\" \n",
        "có thể in \"Nam\" cho class Nam và \"Nữ\" cho class Nu. \n",
        "Gợi ý: Sử dụng Subclass(Parentclass) để định nghĩa 1 class con.**"
      ]
    },
    {
      "cell_type": "code",
      "metadata": {
        "id": "CNEyfRap1SX0",
        "colab_type": "code",
        "outputId": "53f01a42-03a3-467d-e515-6532bbf0d866",
        "colab": {
          "base_uri": "https://localhost:8080/",
          "height": 51
        }
      },
      "source": [
        "class Nguoi(object):\n",
        " def getGender( self ):\n",
        "  return \"Unknown\"\n",
        "\n",
        "class Nam( Nguoi ):\n",
        " def getGender( self ):\n",
        "  return \"Nam\"\n",
        "\n",
        "class Nu( Nguoi ):\n",
        " def getGender( self ):\n",
        "  return \"Nữ\"\n",
        "\n",
        "aNam = Nam()\n",
        "aNu= Nu()\n",
        "print (aNam.getGender())\n",
        "print (aNu.getGender())"
      ],
      "execution_count": 0,
      "outputs": [
        {
          "output_type": "stream",
          "text": [
            "Nam\n",
            "Nữ\n"
          ],
          "name": "stdout"
        }
      ]
    },
    {
      "cell_type": "markdown",
      "metadata": {
        "id": "WL1IrpRYwyOG",
        "colab_type": "text"
      },
      "source": [
        "**Bai 94: Viết chương trình đếm và in số ký tự của chuỗi do người dùng nhập vào.\n",
        "Ví dụ:\n",
        "Nếu chuỗi nhập vào là quantrimang.com thì đầu ra sẽ là: \n",
        "q,1\n",
        "u,1\n",
        "a,2\n",
        "n,2\n",
        "t,1\n",
        "r,1\n",
        "i,1\n",
        "m,2\n",
        "g,1\n",
        ".,1\n",
        "c,1\n",
        "o,1\n",
        "Gợi ý:Sử dụng dict để lưu trữ các cặp key/value.\n",
        "      Sử dụng dict.get() để tra cứu key với giá trị mặc định.**"
      ]
    },
    {
      "cell_type": "code",
      "metadata": {
        "id": "MFYfsW6k1sMc",
        "colab_type": "code",
        "outputId": "3f26e4e9-2d5e-455f-f402-3a160c599216",
        "colab": {
          "base_uri": "https://localhost:8080/",
          "height": 136
        }
      },
      "source": [
        "dic = {}\n",
        "chuoi = input(\"Nhap chuoi can dem ky tu: \")\n",
        "for c in chuoi: \n",
        "  dic[c] = dic.get(c,0) + 1\n",
        "print('\\n'.join(['%s,%s' % (k,v) for k,v in dic.items()]))"
      ],
      "execution_count": 0,
      "outputs": [
        {
          "output_type": "stream",
          "text": [
            "Nhap chuoi can dem ky tu: bim beo\n",
            "b,2\n",
            "i,1\n",
            "m,1\n",
            " ,1\n",
            "e,1\n",
            "o,1\n"
          ],
          "name": "stdout"
        }
      ]
    },
    {
      "cell_type": "markdown",
      "metadata": {
        "id": "9jxfQaYhw18k",
        "colab_type": "text"
      },
      "source": [
        "**Bai 95: Viết chương trình nhận chuỗi đầu vào từ giao diện điều khiển và in nó theo thứ tự ngược lại. \n",
        "Ví dụ nếu chuỗi nhập vào là:\n",
        "i love you\n",
        "Thì kết quả đầu ra là:\n",
        "uoy evol i\n",
        "Gợi ý: Sử dụng list[::-1] để lặp list theo thứ tự ngược lại.**"
      ]
    },
    {
      "cell_type": "code",
      "metadata": {
        "id": "ugx6oanv2Pt5",
        "colab_type": "code",
        "outputId": "189f61a0-6f43-4c26-b24a-53483e64750a",
        "colab": {
          "base_uri": "https://localhost:8080/",
          "height": 51
        }
      },
      "source": [
        "chuoi = input(\"Nhap chuoi vao day: \")\n",
        "chuoi = chuoi[::-1]\n",
        "print(chuoi)"
      ],
      "execution_count": 0,
      "outputs": [
        {
          "output_type": "stream",
          "text": [
            "Nhap chuoi vao day: bim beo\n",
            "oeb mib\n"
          ],
          "name": "stdout"
        }
      ]
    },
    {
      "cell_type": "markdown",
      "metadata": {
        "id": "zmi_xcvWw4LX",
        "colab_type": "text"
      },
      "source": [
        "**Bai 96: Viết chương trình nhận chuỗi do người dùng nhập vào và in các ký tự có chỉ số chẵn.\n",
        "Ví dụ: Nếu chuỗi sau được nhập vào: q1u2a3n4t5r6i7m8a9n4g5.6c7o8m, thì đầu ra sẽ là: quantrimang.com.\n",
        "Gợi ý: Sử dụng list[::2] để lặp list cách 2 vị trí.**"
      ]
    },
    {
      "cell_type": "code",
      "metadata": {
        "id": "0--RFm2C2lxH",
        "colab_type": "code",
        "outputId": "d0ab5650-2f34-41c2-e70c-27a12e795006",
        "colab": {
          "base_uri": "https://localhost:8080/",
          "height": 51
        }
      },
      "source": [
        "chuoi = input(\"Nhap chuoi vao day: \")\n",
        "chuoi = chuoi[::2]\n",
        "print(chuoi)"
      ],
      "execution_count": 0,
      "outputs": [
        {
          "output_type": "stream",
          "text": [
            "Nhap chuoi vao day: bim beo\n",
            "bmbo\n"
          ],
          "name": "stdout"
        }
      ]
    },
    {
      "cell_type": "markdown",
      "metadata": {
        "id": "1OqjcNZ5w6zw",
        "colab_type": "text"
      },
      "source": [
        "**Bai 97: Viết chương trình in tất cả các hoán vị của [1,2,3].\n",
        "Gợi ý: Sử dụng itertools.permutations() để lấy hết các hoán vị của list**"
      ]
    },
    {
      "cell_type": "code",
      "metadata": {
        "id": "Zme_3Ucd20nb",
        "colab_type": "code",
        "outputId": "16d22215-0f9a-44fd-8ab0-aa3dda405c66",
        "colab": {
          "base_uri": "https://localhost:8080/",
          "height": 34
        }
      },
      "source": [
        "import itertools\n",
        "print (list(itertools.permutations([1,2,3])))"
      ],
      "execution_count": 0,
      "outputs": [
        {
          "output_type": "stream",
          "text": [
            "[(1, 2, 3), (1, 3, 2), (2, 1, 3), (2, 3, 1), (3, 1, 2), (3, 2, 1)]\n"
          ],
          "name": "stdout"
        }
      ]
    },
    {
      "cell_type": "markdown",
      "metadata": {
        "id": "akNgbqR_w9KU",
        "colab_type": "text"
      },
      "source": [
        "**Bai 98: Viết chương trình để giải 1 câu đố cổ của Trung Quốc: Một trang trại thỏ và gà có 35 đầu, 94 chân, hỏi số thỏ và gà là bao nhiêu? \n",
        "Gợi ý: Sử dụng vòng lặp for để lặp qua tất cả các giả thuyết có thể.**"
      ]
    },
    {
      "cell_type": "code",
      "metadata": {
        "id": "O618afCg3CZB",
        "colab_type": "code",
        "outputId": "eb31e560-6b68-406a-9403-99cb1506037d",
        "colab": {
          "base_uri": "https://localhost:8080/",
          "height": 34
        }
      },
      "source": [
        "def giai(dau,chan):\n",
        "  klg='Không có dáp án phù hợp!'\n",
        "  for i in range(dau+1):\n",
        "    j=dau-i\n",
        "    if 2*i+4*j==chan:\n",
        "      return i,j\n",
        "      return klg,klg\n",
        "\n",
        "dau=35\n",
        "chan=94\n",
        "dap_an=giai(dau,chan)\n",
        "print (dap_an) "
      ],
      "execution_count": 0,
      "outputs": [
        {
          "output_type": "stream",
          "text": [
            "(23, 12)\n"
          ],
          "name": "stdout"
        }
      ]
    },
    {
      "cell_type": "code",
      "metadata": {
        "id": "Yqab4aBD3Tqc",
        "colab_type": "code",
        "colab": {}
      },
      "source": [
        ""
      ],
      "execution_count": 0,
      "outputs": []
    }
  ]
}