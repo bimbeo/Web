{
  "nbformat": 4,
  "nbformat_minor": 0,
  "metadata": {
    "colab": {
      "name": "Data Type: List.ipynb",
      "provenance": [],
      "authorship_tag": "ABX9TyO5I9sM038xzvWMFpSK2tXg",
      "include_colab_link": true
    },
    "kernelspec": {
      "name": "python3",
      "display_name": "Python 3"
    }
  },
  "cells": [
    {
      "cell_type": "markdown",
      "metadata": {
        "id": "view-in-github",
        "colab_type": "text"
      },
      "source": [
        "<a href=\"https://colab.research.google.com/github/bimbeo/Web/blob/master/Data_Type_List.ipynb\" target=\"_parent\"><img src=\"https://colab.research.google.com/assets/colab-badge.svg\" alt=\"Open In Colab\"/></a>"
      ]
    },
    {
      "cell_type": "markdown",
      "metadata": {
        "id": "OE5liCfvqhKH",
        "colab_type": "text"
      },
      "source": [
        "**1, Viết chương trình Python để tổng hợp tất cả các mục trong danh sách.**\n",
        "\n",
        "**Write a Python program to sum all the items in a list.**\n",
        "\n",
        "![alt text](https://www.w3resource.com/w3r_images/Python-data-type-list-excercise-1.png)\n",
        "![alt text](https://www.w3resource.com/w3r_images/Python-data-type-list-excercise-1-a.png)\n",
        "\n",
        "![alt text](https://www.w3resource.com/w3r_images/Python-data-type-list-excercise-1-b.png)\n",
        "![alt text](https://www.w3resource.com/w3r_images/Python-data-type-list-excercise-1-c.png)"
      ]
    },
    {
      "cell_type": "code",
      "metadata": {
        "id": "OhlB4VnDqRCd",
        "colab_type": "code",
        "outputId": "668ced27-b07e-49c3-d73e-e66848ab7e92",
        "colab": {
          "base_uri": "https://localhost:8080/",
          "height": 34
        }
      },
      "source": [
        "def sum_items(list1):\n",
        "  sum = 0\n",
        "  for i in list1:\n",
        "    sum += i\n",
        "  return sum\n",
        "\n",
        "print(sum_items([1,2,3,4,5]))"
      ],
      "execution_count": 0,
      "outputs": [
        {
          "output_type": "stream",
          "text": [
            "15\n"
          ],
          "name": "stdout"
        }
      ]
    },
    {
      "cell_type": "markdown",
      "metadata": {
        "id": "S9StydA4zWN7",
        "colab_type": "text"
      },
      "source": [
        "**2, Viết chương trình Python để nhân tất cả các mục trong danh sách.**\n",
        "\n",
        "**Write a Python program to multiplies all the items in a list.**\n",
        "\n",
        "![alt text](https://www.w3resource.com/w3r_images/Python-data-type-list-excercise-2.png)\n",
        "![alt text](https://www.w3resource.com/w3r_images/Python-data-type-list-excercise-2-a.png)\n",
        "![alt text](https://www.w3resource.com/w3r_images/Python-data-type-list-excercise-2-b.png)"
      ]
    },
    {
      "cell_type": "code",
      "metadata": {
        "id": "F7Cl6WCbq_20",
        "colab_type": "code",
        "outputId": "f117f79e-ee55-4fed-9791-8b65fa3954b9",
        "colab": {
          "base_uri": "https://localhost:8080/",
          "height": 34
        }
      },
      "source": [
        "def multiply_list(items):\n",
        "  tot = 1\n",
        "  for i in items:\n",
        "    tot *= i\n",
        "  return tot\n",
        "print(multiply_list([1,2,-8]))"
      ],
      "execution_count": 0,
      "outputs": [
        {
          "output_type": "stream",
          "text": [
            "-16\n"
          ],
          "name": "stdout"
        }
      ]
    },
    {
      "cell_type": "markdown",
      "metadata": {
        "id": "yEpiOXzs0QJL",
        "colab_type": "text"
      },
      "source": [
        "**3, Viết chương trình Python để lấy số lớn nhất từ danh sách.**\n",
        "\n",
        "**Write a Python program to get the largest number from a list.**\n",
        "\n",
        "![alt text](https://www.w3resource.com/w3r_images/Python-data-type-list-excercise-3.png)\n",
        "![alt text](https://www.w3resource.com/w3r_images/Python-data-type-list-excercise-3-a.png)\n",
        "![alt text](https://www.w3resource.com/w3r_images/Python-data-type-list-excercise-3-b.png)\n",
        "![alt text](https://www.w3resource.com/w3r_images/Python-data-type-list-excercise-3-c.png)\n",
        "\n"
      ]
    },
    {
      "cell_type": "code",
      "metadata": {
        "id": "Dgf64OU30GEP",
        "colab_type": "code",
        "outputId": "353363e8-2bad-4d22-faee-ed6c2d185b93",
        "colab": {
          "base_uri": "https://localhost:8080/",
          "height": 34
        }
      },
      "source": [
        "def max_num_in_list(items):\n",
        "  max_items = items[0]\n",
        "  for a in items:\n",
        "    if a > max_items:\n",
        "      max_items = a\n",
        "  return max_items\n",
        "print(max_num_in_list([1, 2, -8, 0]))\n"
      ],
      "execution_count": 0,
      "outputs": [
        {
          "output_type": "stream",
          "text": [
            "2\n"
          ],
          "name": "stdout"
        }
      ]
    },
    {
      "cell_type": "markdown",
      "metadata": {
        "id": "m3haXpu11cc6",
        "colab_type": "text"
      },
      "source": [
        "**4, Viết chương trình Python để lấy số nhỏ nhất từ danh sách.**\n",
        "\n",
        "**Write a Python program to get the smallest number from a list.**\n",
        "\n",
        "\n",
        " ![alt text](https://www.w3resource.com/w3r_images/Python-data-type-list-excercise-4.png)\n",
        "![alt text](https://www.w3resource.com/w3r_images/Python-data-type-list-excercise-4-a.png)\n",
        "![alt text](https://www.w3resource.com/w3r_images/Python-data-type-list-excercise-4-b.png)\n",
        "![alt text](https://www.w3resource.com/w3r_images/Python-data-type-list-excercise-4-c.png)\n"
      ]
    },
    {
      "cell_type": "code",
      "metadata": {
        "id": "fv91yPKm0z5o",
        "colab_type": "code",
        "outputId": "8f9aab8e-fb4d-45fd-b5b1-f00686674acd",
        "colab": {
          "base_uri": "https://localhost:8080/",
          "height": 34
        }
      },
      "source": [
        "def min_num_in_list(items):\n",
        "  min_items = items[0]\n",
        "  for i in items:\n",
        "    if i < min_items:\n",
        "      min_items = i \n",
        "  return min_items\n",
        "print(min_num_in_list([1,2,3,4,5]))"
      ],
      "execution_count": 0,
      "outputs": [
        {
          "output_type": "stream",
          "text": [
            "1\n"
          ],
          "name": "stdout"
        }
      ]
    },
    {
      "cell_type": "markdown",
      "metadata": {
        "id": "ZXve96EE2Ekc",
        "colab_type": "text"
      },
      "source": [
        "**5, Viết chương trình Python để đếm số chuỗi trong đó độ dài chuỗi là 2 hoặc nhiều hơn và ký tự đầu tiên và cuối cùng giống nhau từ một danh sách các chuỗi đã cho.**\n",
        "\n",
        "**Write a Python program to count the number of strings where the string length is 2 or more and the first and last character are same from a given list of strings.**"
      ]
    },
    {
      "cell_type": "code",
      "metadata": {
        "id": "TczS3zUv17ev",
        "colab_type": "code",
        "outputId": "e827967e-2dc6-4123-9042-e2c45f7e86bb",
        "colab": {
          "base_uri": "https://localhost:8080/",
          "height": 34
        }
      },
      "source": [
        "def match_words(words):\n",
        "  ctr = 0\n",
        "\n",
        "  for word in words:                            # duyệt từng chuỗi trong list words\n",
        "    if len(words) > 1 and word[0] == word[-1]:  # chuỗi độ dài > 1, ký tự đầu giống ký tự cuối\n",
        "      ctr += 1\n",
        "  return ctr                                    # trả về số chuỗi thỏa mãn\n",
        "\n",
        "print(match_words(['abc', 'xyz', 'aba', '1221']))\n"
      ],
      "execution_count": 0,
      "outputs": [
        {
          "output_type": "stream",
          "text": [
            "2\n"
          ],
          "name": "stdout"
        }
      ]
    },
    {
      "cell_type": "markdown",
      "metadata": {
        "id": "lcPguBjT2-19",
        "colab_type": "text"
      },
      "source": [
        "**6, Viết chương trình Python để lấy danh sách, được sắp xếp theo thứ tự tăng dần theo phần tử cuối cùng trong mỗi bộ từ một danh sách các bộ dữ liệu không trống.**\n",
        "\n",
        "**Write a Python program to get a list, sorted in increasing order by the last element in each tuple from a given list of non-empty tuples.**\n",
        "\n",
        "** ***sorted(iterable, key=None, reverse=False)**\n",
        "\n",
        "iterable - A sequence (string, tuple, list) or collection (set, dictionary, frozen set) or any other iterator.\n",
        "\n",
        "reverse (Optional) - If True, the sorted list is reversed (or sorted in descending order). Defaults to False if not provided.\n",
        "\n",
        "key (Optional) - A function that serves as a key for the sort comparison. Defaults to None"
      ]
    },
    {
      "cell_type": "code",
      "metadata": {
        "id": "PSaMPLQa2bkD",
        "colab_type": "code",
        "outputId": "8613a82f-cd82-427f-b86f-fd26b73dc582",
        "colab": {
          "base_uri": "https://localhost:8080/",
          "height": 34
        }
      },
      "source": [
        "def last(n):\n",
        "  return n[-1]\n",
        "\n",
        "def sort_list_last(tuples):\n",
        "  return sorted(tuples, key=last)\n",
        "\n",
        "print(sort_list_last([(2, 5), (1, 2), (4, 4), (2, 3), (2, 1)]))\n"
      ],
      "execution_count": 0,
      "outputs": [
        {
          "output_type": "stream",
          "text": [
            "[(2, 1), (1, 2), (2, 3), (4, 4), (2, 5)]\n"
          ],
          "name": "stdout"
        }
      ]
    },
    {
      "cell_type": "markdown",
      "metadata": {
        "id": "DGUWcSajet76",
        "colab_type": "text"
      },
      "source": [
        "**7, Viết chương trình Python để xóa các bản sao khỏi danh sách.**\n",
        "\n",
        "**Write a Python program to remove duplicates from a list.**\n",
        "\n",
        "![alt text](https://www.w3resource.com/w3r_images/Python-data-type-list-excercise-7.png)\n",
        "![alt text](https://www.w3resource.com/w3r_images/Python-data-type-list-excercise-7-a.png)\n",
        "![alt text](https://www.w3resource.com/w3r_images/Python-data-type-list-excercise-7-b.png)\n"
      ]
    },
    {
      "cell_type": "code",
      "metadata": {
        "id": "Zv16O4h83X3H",
        "colab_type": "code",
        "colab": {
          "base_uri": "https://localhost:8080/",
          "height": 51
        },
        "outputId": "4e6951be-fab3-4df7-9308-7c651f284170"
      },
      "source": [
        "a = [10, 20, 30, 20, 10, 50, 60, 40, 80, 50, 40]\n",
        "\n",
        "dup_items = set()                                 # tạo biến tập hợp set rỗng\n",
        "uniq_items = []                                   # tạo biến list rỗng\n",
        "for x in a:\n",
        "  if x not in dup_items:                          # nếu x không thuộc dup_items\n",
        "    uniq_items.append(x)                          # thêm x vào list uniq_items\n",
        "    dup_items.add(x)                              # thêm x vào set dup_items\n",
        "\n",
        "print(dup_items)\n",
        "print(uniq_items)"
      ],
      "execution_count": 1,
      "outputs": [
        {
          "output_type": "stream",
          "text": [
            "{40, 10, 80, 50, 20, 60, 30}\n",
            "[10, 20, 30, 50, 60, 40, 80]\n"
          ],
          "name": "stdout"
        }
      ]
    },
    {
      "cell_type": "markdown",
      "metadata": {
        "id": "U7CQGZCb4KHl",
        "colab_type": "text"
      },
      "source": [
        "**8, Viết chương trình Python để kiểm tra danh sách có trống hay không.**\n",
        "\n",
        "**Write a Python program to check a list is empty or not.**\n",
        "\n",
        "![alt text](https://www.w3resource.com/w3r_images/Python-data-type-list-excercise-8.png)"
      ]
    },
    {
      "cell_type": "code",
      "metadata": {
        "id": "KbTpCTgy3I83",
        "colab_type": "code",
        "colab": {
          "base_uri": "https://localhost:8080/",
          "height": 34
        },
        "outputId": "f2ae7c70-985f-461c-e9ee-33e9a4842b69"
      },
      "source": [
        "l = []\n",
        "if not l:\n",
        "  print(\"List is empty\")"
      ],
      "execution_count": 4,
      "outputs": [
        {
          "output_type": "stream",
          "text": [
            "List is empty\n"
          ],
          "name": "stdout"
        }
      ]
    },
    {
      "cell_type": "markdown",
      "metadata": {
        "id": "n7AG5luy6YX5",
        "colab_type": "text"
      },
      "source": [
        "**9, Viết chương trình Python để sao chép hoặc sao chép danh sách.**\n",
        "\n",
        "**Write a Python program to clone or copy a list**\n",
        "\n",
        "![alt text](https://www.w3resource.com/w3r_images/Python-data-type-list-excercise-9.png)\n",
        "\n",
        "![alt text](https://www.w3resource.com/w3r_images/Python-data-type-list-excercise-9-a.png)\n",
        "\n",
        "![alt text](https://www.w3resource.com/w3r_images/Python-data-type-list-excercise-9-b.png)"
      ]
    },
    {
      "cell_type": "code",
      "metadata": {
        "id": "eRVpTPpP5swo",
        "colab_type": "code",
        "colab": {
          "base_uri": "https://localhost:8080/",
          "height": 51
        },
        "outputId": "c44977a1-b034-405b-f287-45b66f11c23f"
      },
      "source": [
        "original_list = [10, 22, 44, 23, 4]\n",
        "new_list = list(original_list)\n",
        "print(original_list)\n",
        "print(new_list)"
      ],
      "execution_count": 5,
      "outputs": [
        {
          "output_type": "stream",
          "text": [
            "[10, 22, 44, 23, 4]\n",
            "[10, 22, 44, 23, 4]\n"
          ],
          "name": "stdout"
        }
      ]
    },
    {
      "cell_type": "markdown",
      "metadata": {
        "id": "ew3-9VVV7ApK",
        "colab_type": "text"
      },
      "source": [
        "**10, Viết chương trình Python để tìm danh sách các từ dài hơn n từ danh sách từ đã cho.**\n",
        "\n",
        "**Write a Python program to find the list of words that are longer than n from a given list of words.**"
      ]
    },
    {
      "cell_type": "code",
      "metadata": {
        "id": "_bQWIlGu60KJ",
        "colab_type": "code",
        "colab": {
          "base_uri": "https://localhost:8080/",
          "height": 34
        },
        "outputId": "8a1c6c4c-f9f5-461d-858f-6c5a8f095ee4"
      },
      "source": [
        "def long_words(n, str):\n",
        "  word_len = []                 \n",
        "  txt = str.split(\" \")\n",
        "  for x in txt:\n",
        "    if len(x) > n:\n",
        "      word_len.append(x)\n",
        "  return word_len\n",
        "print(long_words(3, \"The quick brown fox jumps over the lazy dog\"))"
      ],
      "execution_count": 6,
      "outputs": [
        {
          "output_type": "stream",
          "text": [
            "['quick', 'brown', 'jumps', 'over', 'lazy']\n"
          ],
          "name": "stdout"
        }
      ]
    },
    {
      "cell_type": "markdown",
      "metadata": {
        "id": "yvrngDtZ8tmP",
        "colab_type": "text"
      },
      "source": [
        "**11, Viết hàm Python có hai danh sách và trả về True nếu chúng có ít nhất một thành viên chung.**\n",
        "\n",
        "**Write a Python function that takes two lists and returns True if they have at least one common member.**\n",
        "\n",
        "![alt text](https://www.w3resource.com/w3r_images/Python-data-type-list-excercise-11.png)\n",
        "\n",
        "![alt text](https://www.w3resource.com/w3r_images/Python-data-type-list-excercise-11-a.png)\n",
        "\n",
        "![alt text](https://www.w3resource.com/w3r_images/Python-data-type-list-excercise-11-b.png)"
      ]
    },
    {
      "cell_type": "code",
      "metadata": {
        "id": "BhXdkpYT7qI7",
        "colab_type": "code",
        "colab": {
          "base_uri": "https://localhost:8080/",
          "height": 51
        },
        "outputId": "090c38bc-bad0-4594-d7cb-628269e2ffad"
      },
      "source": [
        "def common_data(list1, list2):\n",
        "  result = False\n",
        "  for x in list1:\n",
        "    for y in list2:\n",
        "      if x == y:\n",
        "        result = True\n",
        "        return result\n",
        "print(common_data([1,2,3,4,5], [5,6,7,8,9]))\n",
        "print(common_data([1,2,3,4,5], [6,7,8,9]))"
      ],
      "execution_count": 8,
      "outputs": [
        {
          "output_type": "stream",
          "text": [
            "True\n",
            "None\n"
          ],
          "name": "stdout"
        }
      ]
    },
    {
      "cell_type": "markdown",
      "metadata": {
        "id": "7YXpNI8v9yaD",
        "colab_type": "text"
      },
      "source": [
        "**12, Viết chương trình Python để in danh sách đã chỉ định sau khi xóa các phần tử 0, 4 và 5.**\n",
        "\n",
        "**Write a Python program to print a specified list after removing the 0th, 4th and 5th elements.**\n",
        "\n",
        "![alt text](https://www.w3resource.com/w3r_images/Python-data-type-list-excercise-12.png)\n",
        "\n",
        "![alt text](https://www.w3resource.com/w3r_images/Python-data-type-list-excercise-12-a.png)\n",
        "\n",
        "![alt text](https://www.w3resource.com/w3r_images/Python-data-type-list-excercise-12-b.png)"
      ]
    },
    {
      "cell_type": "code",
      "metadata": {
        "id": "f7ZcNyN99OF3",
        "colab_type": "code",
        "colab": {
          "base_uri": "https://localhost:8080/",
          "height": 34
        },
        "outputId": "d7db95c6-16df-4476-8a18-bfda3a0f6fb0"
      },
      "source": [
        "color = ['Red', 'Green', 'White', 'Black', 'Pink', 'Yellow']\n",
        "color = [x for (i,x) in enumerate(color) if i not in (0, 4, 5)]\n",
        "print(color)"
      ],
      "execution_count": 10,
      "outputs": [
        {
          "output_type": "stream",
          "text": [
            "['Green', 'White', 'Black']\n"
          ],
          "name": "stdout"
        }
      ]
    },
    {
      "cell_type": "markdown",
      "metadata": {
        "id": "ueXXOYNN-zUa",
        "colab_type": "text"
      },
      "source": [
        "**13, Viết chương trình Python để tạo mảng 3D 3 * 4 * 6 với mỗi phần tử là ***\n",
        "\n",
        "**Write a Python program to generate a 3*4*6 3D array whose each element is ***\n",
        "\n",
        "![alt text](https://www.w3resource.com/w3r_images/python-data-type-list-excercise-13.svg)\n"
      ]
    },
    {
      "cell_type": "code",
      "metadata": {
        "id": "CdGMpt_y-kfI",
        "colab_type": "code",
        "colab": {
          "base_uri": "https://localhost:8080/",
          "height": 54
        },
        "outputId": "4ae34407-270b-42b3-acb6-35159f480c9b"
      },
      "source": [
        "array = [[ ['*' for col in range(6)] for col in range(4)] for row in range(3)]\n",
        "print(array)"
      ],
      "execution_count": 11,
      "outputs": [
        {
          "output_type": "stream",
          "text": [
            "[[['*', '*', '*', '*', '*', '*'], ['*', '*', '*', '*', '*', '*'], ['*', '*', '*', '*', '*', '*'], ['*', '*', '*', '*', '*', '*']], [['*', '*', '*', '*', '*', '*'], ['*', '*', '*', '*', '*', '*'], ['*', '*', '*', '*', '*', '*'], ['*', '*', '*', '*', '*', '*']], [['*', '*', '*', '*', '*', '*'], ['*', '*', '*', '*', '*', '*'], ['*', '*', '*', '*', '*', '*'], ['*', '*', '*', '*', '*', '*']]]\n"
          ],
          "name": "stdout"
        }
      ]
    },
    {
      "cell_type": "markdown",
      "metadata": {
        "id": "C26Kw5dUATew",
        "colab_type": "text"
      },
      "source": [
        "**14, Viết chương trình Python để in các số của danh sách đã chỉ định sau khi xóa các số chẵn khỏi nó.**\n",
        "\n",
        "**Write a Python program to print the numbers of a specified list after removing even numbers from it.**\n",
        "\n",
        "![alt text](https://www.w3resource.com/w3r_images/check-even-number.png)"
      ]
    },
    {
      "cell_type": "code",
      "metadata": {
        "id": "AyT_Xdy2ACd1",
        "colab_type": "code",
        "colab": {
          "base_uri": "https://localhost:8080/",
          "height": 34
        },
        "outputId": "50ed062d-ac5f-412d-ec6d-747045450e4b"
      },
      "source": [
        "num = [7,8, 120, 25, 44, 20, 27]\n",
        "num = [x for x in num if x %2 != 0]\n",
        "print(num)"
      ],
      "execution_count": 12,
      "outputs": [
        {
          "output_type": "stream",
          "text": [
            "[7, 25, 27]\n"
          ],
          "name": "stdout"
        }
      ]
    },
    {
      "cell_type": "markdown",
      "metadata": {
        "id": "r6awug2jA4lT",
        "colab_type": "text"
      },
      "source": [
        "**15, Viết chương trình Python để xáo trộn và in một danh sách đã chỉ định.**\n",
        "\n",
        "**Write a Python program to shuffle and print a specified list**\n",
        "\n",
        "![alt text](https://www.w3resource.com/w3r_images/Python-data-type-list-excercise-15.png)\n"
      ]
    },
    {
      "cell_type": "code",
      "metadata": {
        "id": "qju96BfjAwBD",
        "colab_type": "code",
        "colab": {
          "base_uri": "https://localhost:8080/",
          "height": 34
        },
        "outputId": "92cbed76-7a86-49c5-89dc-abf188a06aa8"
      },
      "source": [
        "from random import shuffle\n",
        "color = ['Red', 'Green', 'White', 'Black', 'Pink', 'Yellow']\n",
        "shuffle(color)\n",
        "print(color)"
      ],
      "execution_count": 13,
      "outputs": [
        {
          "output_type": "stream",
          "text": [
            "['Black', 'Red', 'Yellow', 'Pink', 'White', 'Green']\n"
          ],
          "name": "stdout"
        }
      ]
    },
    {
      "cell_type": "markdown",
      "metadata": {
        "id": "i9B9NrY1BOqV",
        "colab_type": "text"
      },
      "source": [
        "**16, Viết chương trình Python để tạo và in danh sách 5 phần tử đầu tiên và cuối cùng trong đó các giá trị là bình phương của các số từ 1 đến 30 (bao gồm cả hai)**\n",
        "\n",
        "**Write a Python program to generate and print a list of first and last 5 elements where the values are square of numbers between 1 and 30 (both included).**\n",
        "\n",
        "![alt text](https://www.w3resource.com/w3r_images/Python-data-type-list-excercise-16.png)\n",
        "\n",
        "![alt text](https://www.w3resource.com/w3r_images/Python-data-type-list-excercise-16-a.png)\n",
        "\n",
        "![alt text](https://www.w3resource.com/w3r_images/Python-data-type-list-excercise-16-b.png)"
      ]
    },
    {
      "cell_type": "code",
      "metadata": {
        "id": "-NrdA5nxBGPE",
        "colab_type": "code",
        "colab": {
          "base_uri": "https://localhost:8080/",
          "height": 51
        },
        "outputId": "1d78edff-9936-4fd5-df3d-6fd9dd82734e"
      },
      "source": [
        "def printValues():\n",
        "  l = list()\n",
        "  for i in range(1,21):\n",
        "    l.append(i**2)\n",
        "  print(l[:5])\n",
        "  print(l[-5:])\n",
        "\n",
        "printValues()\n",
        "      "
      ],
      "execution_count": 14,
      "outputs": [
        {
          "output_type": "stream",
          "text": [
            "[1, 4, 9, 16, 25]\n",
            "[256, 289, 324, 361, 400]\n"
          ],
          "name": "stdout"
        }
      ]
    },
    {
      "cell_type": "markdown",
      "metadata": {
        "id": "EjI-MRDUEAfv",
        "colab_type": "text"
      },
      "source": [
        "**17, Viết chương trình Python để tạo và in danh sách ngoại trừ 5 phần tử đầu tiên, trong đó các giá trị là bình phương của các số từ 1 đến 30 (bao gồm cả hai).**\n",
        "\n",
        "**Write a Python program to generate and print a list except for the first 5 elements, where the values are square of numbers between 1 and 30 (both included).**\n",
        "\n",
        "![alt text](https://www.w3resource.com/w3r_images/Python-data-type-list-excercise-17.png)"
      ]
    },
    {
      "cell_type": "code",
      "metadata": {
        "id": "ksmj2YsPDzmH",
        "colab_type": "code",
        "colab": {
          "base_uri": "https://localhost:8080/",
          "height": 34
        },
        "outputId": "4c33be5d-560f-4a36-9686-e82786aa9f2a"
      },
      "source": [
        "def printValues():\n",
        "  l = list()\n",
        "  for i in range(1,21):\n",
        "    l.append(i**2)\n",
        "  print(l[5:])\n",
        "\n",
        "printValues()"
      ],
      "execution_count": 15,
      "outputs": [
        {
          "output_type": "stream",
          "text": [
            "[36, 49, 64, 81, 100, 121, 144, 169, 196, 225, 256, 289, 324, 361, 400]\n"
          ],
          "name": "stdout"
        }
      ]
    },
    {
      "cell_type": "markdown",
      "metadata": {
        "id": "L4GkGA7oEXDm",
        "colab_type": "text"
      },
      "source": [
        "**18, Viết chương trình Python để tạo tất cả các hoán vị của danh sách trong Python.**\n",
        "\n",
        "**Write a Python program to generate all permutations of a list in Python.**\n",
        "\n",
        "![alt text](https://www.w3resource.com/w3r_images/permutation-balls.png)\n"
      ]
    },
    {
      "cell_type": "code",
      "metadata": {
        "id": "Qgz6f9q4EQit",
        "colab_type": "code",
        "colab": {
          "base_uri": "https://localhost:8080/",
          "height": 34
        },
        "outputId": "3dd88368-a4fb-466e-b65b-06a53791b707"
      },
      "source": [
        "import itertools\n",
        "print(list(itertools.permutations([1,2,3])))"
      ],
      "execution_count": 16,
      "outputs": [
        {
          "output_type": "stream",
          "text": [
            "[(1, 2, 3), (1, 3, 2), (2, 1, 3), (2, 3, 1), (3, 1, 2), (3, 2, 1)]\n"
          ],
          "name": "stdout"
        }
      ]
    },
    {
      "cell_type": "markdown",
      "metadata": {
        "id": "Llow-cFiEu2O",
        "colab_type": "text"
      },
      "source": [
        "**19, Viết chương trình Python để có sự khác biệt giữa hai danh sách.**\n",
        "\n",
        "**Write a Python program to get the difference between the two lists.**\n",
        "\n",
        "![alt text](https://www.w3resource.com/w3r_images/Python-data-type-list-excercise-19.png)"
      ]
    },
    {
      "cell_type": "code",
      "metadata": {
        "id": "aomSd3PAElE5",
        "colab_type": "code",
        "colab": {
          "base_uri": "https://localhost:8080/",
          "height": 34
        },
        "outputId": "eb8a7640-92e8-4373-a97c-0cccea1ec4c5"
      },
      "source": [
        "list1 = [1,2,3,4]\n",
        "list2 = [1,2]\n",
        "print(list(set(list1) - set(list2)))"
      ],
      "execution_count": 17,
      "outputs": [
        {
          "output_type": "stream",
          "text": [
            "[3, 4]\n"
          ],
          "name": "stdout"
        }
      ]
    },
    {
      "cell_type": "markdown",
      "metadata": {
        "id": "z2VjTNxhFE9V",
        "colab_type": "text"
      },
      "source": [
        "**20, Viết chương trình Python truy cập vào chỉ mục của danh sách.**\n",
        "\n",
        "**Write a Python program access the index of a list.**\n",
        "\n",
        "![alt text](https://www.w3resource.com/w3r_images/Python-data-type-list-excercise-20.png)\n",
        "\n",
        "![alt text](https://www.w3resource.com/w3r_images/Python-data-type-list-excercise-20-a.png)\n",
        "\n",
        "![alt text](https://www.w3resource.com/w3r_images/Python-data-type-list-excercise-20-b.png)\n",
        "\n",
        "![alt text](https://www.w3resource.com/w3r_images/Python-data-type-list-excercise-20-c.png)"
      ]
    },
    {
      "cell_type": "code",
      "metadata": {
        "id": "OAUNU2r4FBto",
        "colab_type": "code",
        "colab": {
          "base_uri": "https://localhost:8080/",
          "height": 102
        },
        "outputId": "b4270edc-cf53-49da-e1d4-7276af75fcaa"
      },
      "source": [
        "nums = [5, 15, 35, 8, 98]\n",
        "for num_index, num_val in enumerate(nums):\n",
        "  print(num_index, num_val)"
      ],
      "execution_count": 18,
      "outputs": [
        {
          "output_type": "stream",
          "text": [
            "0 5\n",
            "1 15\n",
            "2 35\n",
            "3 8\n",
            "4 98\n"
          ],
          "name": "stdout"
        }
      ]
    },
    {
      "cell_type": "markdown",
      "metadata": {
        "id": "3eF3-Kl3Fx-c",
        "colab_type": "text"
      },
      "source": [
        "**21, Viết chương trình Python để chuyển đổi danh sách các ký tự thành chuỗi.**\n",
        "\n",
        "**Write a Python program to convert a list of characters into a string.**\n",
        "\n",
        "![alt text](https://www.w3resource.com/w3r_images/Python-data-type-list-excercise-21.png)\n",
        "\n",
        "![alt text](https://www.w3resource.com/w3r_images/Python-data-type-list-excercise-21-a.png)\n",
        "\n",
        "![alt text](https://www.w3resource.com/w3r_images/Python-data-type-list-excercise-21-b.png)\n",
        "\n",
        "![alt text](https://www.w3resource.com/w3r_images/Python-data-type-list-excercise-21-c.png)"
      ]
    },
    {
      "cell_type": "code",
      "metadata": {
        "id": "lmLsxyHXFfVV",
        "colab_type": "code",
        "colab": {
          "base_uri": "https://localhost:8080/",
          "height": 34
        },
        "outputId": "6093f608-d5e3-4c47-99e2-b80125290854"
      },
      "source": [
        "s = ['a', 'b', 'c', 'd']\n",
        "str1 = ''.join(s)\n",
        "print(str1)"
      ],
      "execution_count": 19,
      "outputs": [
        {
          "output_type": "stream",
          "text": [
            "abcd\n"
          ],
          "name": "stdout"
        }
      ]
    },
    {
      "cell_type": "markdown",
      "metadata": {
        "id": "Vo_QJZAbGNxp",
        "colab_type": "text"
      },
      "source": [
        "**22, Viết chương trình Python để tìm chỉ mục của một mục trong danh sách đã chỉ định.**\n",
        "\n",
        "**Write a Python program to find the index of an item in a specified list.**\n",
        "\n",
        "![alt text](https://www.w3resource.com/w3r_images/Python-data-type-list-excercise-22.png)\n",
        "\n",
        "![alt text](https://www.w3resource.com/w3r_images/Python-data-type-list-excercise-22-a.png)\n",
        "\n",
        "![alt text](https://www.w3resource.com/w3r_images/Python-data-type-list-excercise-22-b.png)"
      ]
    },
    {
      "cell_type": "code",
      "metadata": {
        "id": "E519FFWdGIEW",
        "colab_type": "code",
        "colab": {
          "base_uri": "https://localhost:8080/",
          "height": 34
        },
        "outputId": "dbea6b07-e055-4b6f-f4e3-245c556ea0db"
      },
      "source": [
        "num = [10, 30, 4, -6]\n",
        "print(num.index(30))"
      ],
      "execution_count": 20,
      "outputs": [
        {
          "output_type": "stream",
          "text": [
            "1\n"
          ],
          "name": "stdout"
        }
      ]
    },
    {
      "cell_type": "markdown",
      "metadata": {
        "id": "qk2hg4D4GfFH",
        "colab_type": "text"
      },
      "source": [
        "**23, Viết chương trình Python để làm phẳng danh sách nông.**\n",
        "\n",
        "**Write a Python program to flatten a shallow list.**\n",
        "\n",
        "![alt text](https://www.w3resource.com/w3r_images/Python-data-type-list-excercise-23.png)\n",
        "\n",
        "![alt text](https://www.w3resource.com/w3r_images/Python-data-type-list-excercise-23-a.png)\n",
        "\n",
        "![alt text](https://www.w3resource.com/w3r_images/Python-data-type-list-excercise-23-b.png)"
      ]
    },
    {
      "cell_type": "code",
      "metadata": {
        "id": "zjGQuiOXGcqo",
        "colab_type": "code",
        "colab": {
          "base_uri": "https://localhost:8080/",
          "height": 34
        },
        "outputId": "db01e328-a50d-4218-fa43-6d33ebad93d1"
      },
      "source": [
        "import itertools\n",
        "original_list = [[2,4,3],[1,5,6], [9], [7,9,0]]\n",
        "new_merged_list = list(itertools.chain(*original_list))\n",
        "print(new_merged_list)\n",
        "# chain(): Return a chain object whose .next() method returns elements from the first iterable until it is exhausted, \n",
        "# then elements from the next iterable, until all of the iterables are exhausted.\n"
      ],
      "execution_count": 23,
      "outputs": [
        {
          "output_type": "stream",
          "text": [
            "[2, 4, 3, 1, 5, 6, 9, 7, 9, 0]\n"
          ],
          "name": "stdout"
        }
      ]
    },
    {
      "cell_type": "markdown",
      "metadata": {
        "id": "vTkVAQ1NHtuX",
        "colab_type": "text"
      },
      "source": [
        "**24, Viết chương trình Python để nối danh sách vào danh sách thứ hai.**\n",
        "\n",
        "**Write a Python program to append a list to the second list**\n",
        "\n",
        "![alt text](https://www.w3resource.com/w3r_images/Python-data-type-list-excercise-24.png)\n",
        "\n",
        "![alt text](https://www.w3resource.com/w3r_images/Python-data-type-list-excercise-24-a.png)\n",
        "\n",
        "![alt text](https://www.w3resource.com/w3r_images/Python-data-type-list-excercise-24-b.png)"
      ]
    },
    {
      "cell_type": "code",
      "metadata": {
        "id": "PTA5k84UHCep",
        "colab_type": "code",
        "colab": {
          "base_uri": "https://localhost:8080/",
          "height": 34
        },
        "outputId": "c91dcd9a-6092-4436-cd6a-e9cc8311cb43"
      },
      "source": [
        "list1 = [1,2,3,0]\n",
        "list2 = ['Red', 'Green', 'Black']\n",
        "final_list = list1 + list2\n",
        "print(final_list)"
      ],
      "execution_count": 24,
      "outputs": [
        {
          "output_type": "stream",
          "text": [
            "[1, 2, 3, 0, 'Red', 'Green', 'Black']\n"
          ],
          "name": "stdout"
        }
      ]
    },
    {
      "cell_type": "markdown",
      "metadata": {
        "id": "ATLq0dj9IIjl",
        "colab_type": "text"
      },
      "source": [
        "**25, Viết chương trình Python để chọn ngẫu nhiên một mục từ danh sách.**\n",
        "\n",
        "**Write a Python program to select an item randomly from a list.**\n",
        "\n",
        "![alt text](https://www.w3resource.com/w3r_images/Python-data-type-list-excercise-25.png)\n",
        "\n",
        "![alt text](https://www.w3resource.com/w3r_images/Python-data-type-list-excercise-25-a.png)\n",
        "\n",
        "![alt text](https://www.w3resource.com/w3r_images/Python-data-type-list-excercise-25-b.png)"
      ]
    },
    {
      "cell_type": "code",
      "metadata": {
        "id": "dzsmvQdCID6f",
        "colab_type": "code",
        "colab": {
          "base_uri": "https://localhost:8080/",
          "height": 34
        },
        "outputId": "bbb3a45c-80c7-4284-942a-971982c9855e"
      },
      "source": [
        "import random\n",
        "color_list = ['Red', 'Blue', 'Green', 'White', 'Black']\n",
        "print(random.choice(color_list))"
      ],
      "execution_count": 25,
      "outputs": [
        {
          "output_type": "stream",
          "text": [
            "Black\n"
          ],
          "name": "stdout"
        }
      ]
    },
    {
      "cell_type": "markdown",
      "metadata": {
        "id": "pUCyc2uoIi1h",
        "colab_type": "text"
      },
      "source": [
        "**26, Viết chương trình python để kiểm tra xem hai danh sách có giống nhau không.**\n",
        "\n",
        "**Write a python program to check whether two lists are circularly identical.**\n",
        "\n",
        "![alt text](https://www.w3resource.com/w3r_images/Python-data-type-list-excercise-26.png)"
      ]
    },
    {
      "cell_type": "code",
      "metadata": {
        "id": "IQ3hv_dzIbp3",
        "colab_type": "code",
        "colab": {
          "base_uri": "https://localhost:8080/",
          "height": 85
        },
        "outputId": "704e059b-0741-4a72-f303-449c0f36120e"
      },
      "source": [
        "list1 = [10, 10, 0, 0, 10]\n",
        "list2 = [10, 10, 10, 0, 0]\n",
        "list3 = [1, 10, 10, 0, 0]\n",
        "\n",
        "print('Compare list1 and list2')\n",
        "print(' '.join(map(str, list2)) in ' '.join(map(str, list1 * 2))) # 10 10 10 0 0 in 10 10 0 0 10 10 10 0 0 10\n",
        "print('Compare list1 and list3')\n",
        "print(' '.join(map(str, list3)) in ' '.join(map(str, list1 * 2))) "
      ],
      "execution_count": 33,
      "outputs": [
        {
          "output_type": "stream",
          "text": [
            "Compare list1 and list2\n",
            "True\n",
            "Compare list1 and list3\n",
            "False\n"
          ],
          "name": "stdout"
        }
      ]
    },
    {
      "cell_type": "markdown",
      "metadata": {
        "id": "qjB5LRV7KhLv",
        "colab_type": "text"
      },
      "source": [
        "**27, Viết chương trình Python để tìm số nhỏ nhất thứ hai trong danh sách.**\n",
        "\n",
        "**Write a Python program to find the second smallest number in a list.**\n",
        "\n",
        "![alt text](https://www.w3resource.com/w3r_images/Python-data-type-list-excercise-27.png)\n",
        "\n",
        "![alt text](https://www.w3resource.com/w3r_images/Python-data-type-list-excercise-27-a.png)\n",
        "\n",
        "![alt text](https://www.w3resource.com/w3r_images/Python-data-type-list-excercise-27-b.png)\n",
        "\n",
        "![alt text](https://www.w3resource.com/w3r_images/Python-data-type-list-excercise-27-c.png)"
      ]
    },
    {
      "cell_type": "code",
      "metadata": {
        "id": "VxeuT9NYJMac",
        "colab_type": "code",
        "colab": {
          "base_uri": "https://localhost:8080/",
          "height": 119
        },
        "outputId": "2dc56e58-3b63-48b0-b1f6-6c6483191cec"
      },
      "source": [
        "def second_smallest(numbers):\n",
        "  if (len(numbers) < 2):\n",
        "    return \n",
        "  if ((len(numbers) == 2) and (numbers[0] == numbers[1])):\n",
        "    return \n",
        "  dup_items = set()\n",
        "  uniq_items = []\n",
        "  for x in numbers:\n",
        "    if x not in dup_items:\n",
        "      uniq_items.append(x)\n",
        "      dup_items.add(x)\n",
        "  uniq_items.sort()\n",
        "  return uniq_items[1]\n",
        "\n",
        "print(second_smallest([1, 2, -8, -2, 0, -2]))\n",
        "print(second_smallest([1, 1, 0, 0, 2, -2, -2]))\n",
        "print(second_smallest([1, 1, 1, 0, 0, 0, 2, -2, -2]))\n",
        "print(second_smallest([2,2]))\n",
        "print(second_smallest([2]))\n",
        "print(second_smallest([1,2]))"
      ],
      "execution_count": 35,
      "outputs": [
        {
          "output_type": "stream",
          "text": [
            "-2\n",
            "0\n",
            "0\n",
            "None\n",
            "None\n",
            "2\n"
          ],
          "name": "stdout"
        }
      ]
    },
    {
      "cell_type": "markdown",
      "metadata": {
        "id": "IVqRoitlMHv9",
        "colab_type": "text"
      },
      "source": [
        "**28, Viết chương trình Python để tìm số lớn thứ hai trong danh sách.**\n",
        "\n",
        "**Write a Python program to find the second largest number in a list.**\n",
        "\n",
        "![alt text](https://www.w3resource.com/w3r_images/Python-data-type-list-excercise-28.png)\n",
        "\n",
        "![alt text](https://www.w3resource.com/w3r_images/Python-data-type-list-excercise-28-a.png)\n",
        "\n",
        "![alt text](https://www.w3resource.com/w3r_images/Python-data-type-list-excercise-28-b.png)\n",
        "\n",
        "![alt text](https://www.w3resource.com/w3r_images/Python-data-type-list-excercise-28-c.png)"
      ]
    },
    {
      "cell_type": "code",
      "metadata": {
        "id": "cdOlkyifLQP9",
        "colab_type": "code",
        "colab": {
          "base_uri": "https://localhost:8080/",
          "height": 85
        },
        "outputId": "530613f8-0a63-4376-9901-26badf766c9d"
      },
      "source": [
        "def second_largest(numbers):\n",
        "  if (len(numbers)<2):\n",
        "    return\n",
        "  if ((len(numbers)==2)  and (numbers[0] == numbers[1]) ):\n",
        "    return\n",
        "  dup_items = set()\n",
        "  uniq_items = []\n",
        "  for x in numbers:\n",
        "    if x not in dup_items:\n",
        "      uniq_items.append(x)\n",
        "      dup_items.add(x)\n",
        "  uniq_items.sort()    \n",
        "  return  uniq_items[-2]   \n",
        "print(second_largest([1,2,3,4,4]))\n",
        "print(second_largest([1, 1, 1, 0, 0, 0, 2, -2, -2]))\n",
        "print(second_largest([2,2]))\n",
        "print(second_largest([1]))"
      ],
      "execution_count": 36,
      "outputs": [
        {
          "output_type": "stream",
          "text": [
            "3\n",
            "1\n",
            "None\n",
            "None\n"
          ],
          "name": "stdout"
        }
      ]
    },
    {
      "cell_type": "markdown",
      "metadata": {
        "id": "TPeJWiBjMeqa",
        "colab_type": "text"
      },
      "source": [
        "**29, Viết chương trình Python để lấy các giá trị duy nhất từ danh sách.**\n",
        "\n",
        "**Write a Python program to get unique values from a list.**\n",
        "\n",
        "![alt text](https://www.w3resource.com/w3r_images/Python-data-type-list-excercise-29.png)"
      ]
    },
    {
      "cell_type": "code",
      "metadata": {
        "id": "yvgREo_fMZMN",
        "colab_type": "code",
        "colab": {
          "base_uri": "https://localhost:8080/",
          "height": 51
        },
        "outputId": "f1c5ebdf-3968-4f3f-c214-602829769501"
      },
      "source": [
        "my_list = [10, 20, 30, 40, 20, 50, 60, 40]\n",
        "print(\"Original List : \",my_list)\n",
        "my_set = set(my_list)\n",
        "my_new_list = list(my_set)\n",
        "print(\"List of unique numbers: \", my_new_list)"
      ],
      "execution_count": 37,
      "outputs": [
        {
          "output_type": "stream",
          "text": [
            "Original List :  [10, 20, 30, 40, 20, 50, 60, 40]\n",
            "List of unique numbers:  [40, 10, 50, 20, 60, 30]\n"
          ],
          "name": "stdout"
        }
      ]
    },
    {
      "cell_type": "markdown",
      "metadata": {
        "id": "pPPScIKaNBmr",
        "colab_type": "text"
      },
      "source": [
        "**30, Viết chương trình Python để lấy tần số của các phần tử trong danh sách.**\n",
        "\n",
        "**Write a Python program to get the frequency of the elements in a list.**\n",
        "\n",
        "![alt text](https://www.w3resource.com/w3r_images/Python-data-type-list-excercise-30.png)\n",
        "\n"
      ]
    },
    {
      "cell_type": "code",
      "metadata": {
        "id": "gzUeb5uqM27s",
        "colab_type": "code",
        "colab": {
          "base_uri": "https://localhost:8080/",
          "height": 51
        },
        "outputId": "8466df12-91fe-4c06-8a09-ea65996ad861"
      },
      "source": [
        "import collections\n",
        "my_list = [10,10,10,10,20,20,20,20,40,40,50,50,30]\n",
        "print(\"Original List : \",my_list)\n",
        "ctr = collections.Counter(my_list)\n",
        "print(\"Frequency of the elements in list: \", ctr)"
      ],
      "execution_count": 38,
      "outputs": [
        {
          "output_type": "stream",
          "text": [
            "Original List :  [10, 10, 10, 10, 20, 20, 20, 20, 40, 40, 50, 50, 30]\n",
            "Frequency of the elements in list:  Counter({10: 4, 20: 4, 40: 2, 50: 2, 30: 1})\n"
          ],
          "name": "stdout"
        }
      ]
    },
    {
      "cell_type": "markdown",
      "metadata": {
        "id": "Se34y63aNa7u",
        "colab_type": "text"
      },
      "source": [
        "**31, Viết chương trình Python để đếm số lượng phần tử trong danh sách trong phạm vi được chỉ định.**\n",
        "\n",
        "**Write a Python program to count the number of elements in a list within a specified range.**\n",
        "\n",
        "![alt text](https://www.w3resource.com/w3r_images/Python-data-type-list-excercise-31.png)"
      ]
    },
    {
      "cell_type": "code",
      "metadata": {
        "id": "V5m4nCT-NSAs",
        "colab_type": "code",
        "colab": {
          "base_uri": "https://localhost:8080/",
          "height": 51
        },
        "outputId": "c4901f41-a671-42f0-c82a-be3f50951fbe"
      },
      "source": [
        "def count_range_in_list(li, min, max):\n",
        "  ctr = 0\n",
        "  for x in li:\n",
        "    if min <= x <= max:\n",
        "      ctr += 1\n",
        "  return ctr\n",
        "\n",
        "list1 = [10,20,30,40,40,40,70,80,99]\n",
        "print(count_range_in_list(list1, 40, 100))\n",
        "\n",
        "list2 = ['a','b','c','d','e','f']\n",
        "print(count_range_in_list(list2, 'a', 'e'))"
      ],
      "execution_count": 40,
      "outputs": [
        {
          "output_type": "stream",
          "text": [
            "6\n",
            "5\n"
          ],
          "name": "stdout"
        }
      ]
    },
    {
      "cell_type": "markdown",
      "metadata": {
        "id": "eG5KpJZtOgfd",
        "colab_type": "text"
      },
      "source": [
        "**32, Viết chương trình Python để kiểm tra xem danh sách có chứa danh sách con hay không.**\n",
        "\n",
        "**Write a Python program to check whether a list contains a sublist.**\n",
        "\n",
        "![alt text](https://www.w3resource.com/w3r_images/Python-data-type-list-excercise-32.png)"
      ]
    },
    {
      "cell_type": "code",
      "metadata": {
        "id": "7MIc7EjHN2GB",
        "colab_type": "code",
        "colab": {
          "base_uri": "https://localhost:8080/",
          "height": 51
        },
        "outputId": "7ee76b9b-9f5d-43be-c3a9-f8de1f3bc1d5"
      },
      "source": [
        "def is_Sublist(l, s):\n",
        "\tsub_set = False\n",
        "\tif s == []:\n",
        "\t\tsub_set = True\n",
        "\telif s == l:\n",
        "\t\tsub_set = True\n",
        "\telif len(s) > len(l):\n",
        "\t\tsub_set = False\n",
        "\n",
        "\telse:\n",
        "\t\tfor i in range(len(l)):                         # duyệt số lần bằng độ dài của list l\n",
        "\t\t\tif l[i] == s[0]:                              # nếu index l[i] = index s[0]\n",
        "\t\t\t\tn = 1                                       # tạo biến n =1\n",
        "\t\t\t\twhile (n < len(s)) and (l[i+n] == s[n]):    # vòng lặp while, điều kiện VD: n < 2 và l[1+1] bằng s[1] tức 2 index đằng sau bằng nhau \n",
        "\t\t\t\t\tn += 1                                    # tăng n lên 1\n",
        "\t\t\t\t\n",
        "\t\t\t\tif n == len(s):                             # và nếu n = độ dài list con\n",
        "\t\t\t\t\tsub_set = True                            \n",
        "\n",
        "\treturn sub_set\n",
        "\n",
        "a = [2,4,3,5,7]\n",
        "b = [4,3]\n",
        "c = [3,7]\n",
        "print(is_Sublist(a, b))\n",
        "print(is_Sublist(a, c))"
      ],
      "execution_count": 42,
      "outputs": [
        {
          "output_type": "stream",
          "text": [
            "True\n",
            "False\n"
          ],
          "name": "stdout"
        }
      ]
    },
    {
      "cell_type": "markdown",
      "metadata": {
        "id": "CxMBQlViRhby",
        "colab_type": "text"
      },
      "source": [
        "**33, Viết chương trình Python để tạo tất cả danh sách con của danh sách.**\n",
        "\n",
        "**Write a Python program to generate all sublists of a list.**\n",
        "\n",
        "![alt text](https://www.w3resource.com/w3r_images/Python-data-type-list-excercise-33.png)\n",
        "\n",
        "# combinations(iterable, r) --> combinations object\n",
        "\n",
        "Return successive r-length combinations of elements in the iterable.\n",
        "\n",
        "combinations(range(4), 3) --> (0,1,2), (0,1,3), (0,2,3), (1,2,3)"
      ]
    },
    {
      "cell_type": "code",
      "metadata": {
        "id": "8Z3Oj7o9PJht",
        "colab_type": "code",
        "colab": {
          "base_uri": "https://localhost:8080/",
          "height": 224
        },
        "outputId": "80913527-265b-4aaa-b901-4031dee5b8e6"
      },
      "source": [
        "from itertools import combinations\n",
        "def sub_lists(my_list):\n",
        "  subs = []\n",
        "  for i in range(0, len(my_list) + 1):\n",
        "    temp = [list(x) for x in combinations(my_list, i)]\n",
        "    if len(temp) > 0:\n",
        "      subs.extend(temp)\n",
        "  return subs\n",
        "l1 = [10, 20, 30, 40]\n",
        "l2 = ['X', 'Y', 'Z']\n",
        "print(\"Original list:\")\n",
        "print(l1)\n",
        "print(\"S\")\n",
        "print(sub_lists(l1))\n",
        "print(\"Sublists of the said list:\")\n",
        "print(sub_lists(l1))\n",
        "print(\"\\nOriginal list:\")\n",
        "print(l2)\n",
        "print(\"Sublists of the said list:\")\n",
        "print(sub_lists(l2))\n"
      ],
      "execution_count": 45,
      "outputs": [
        {
          "output_type": "stream",
          "text": [
            "Original list:\n",
            "[10, 20, 30, 40]\n",
            "S\n",
            "[[], [10], [20], [30], [40], [10, 20], [10, 30], [10, 40], [20, 30], [20, 40], [30, 40], [10, 20, 30], [10, 20, 40], [10, 30, 40], [20, 30, 40], [10, 20, 30, 40]]\n",
            "Sublists of the said list:\n",
            "[[], [10], [20], [30], [40], [10, 20], [10, 30], [10, 40], [20, 30], [20, 40], [30, 40], [10, 20, 30], [10, 20, 40], [10, 30, 40], [20, 30, 40], [10, 20, 30, 40]]\n",
            "\n",
            "Original list:\n",
            "['X', 'Y', 'Z']\n",
            "Sublists of the said list:\n",
            "[[], ['X'], ['Y'], ['Z'], ['X', 'Y'], ['X', 'Z'], ['Y', 'Z'], ['X', 'Y', 'Z']]\n"
          ],
          "name": "stdout"
        }
      ]
    },
    {
      "cell_type": "markdown",
      "metadata": {
        "id": "2Yp0fpatTyQr",
        "colab_type": "text"
      },
      "source": [
        "**34, Viết chương trình Python bằng phương pháp Sàng của Eratosthenes để tính các số nguyên tố cho đến một số được chỉ định.**\n",
        "\n",
        "**Write a Python program using Sieve of Eratosthenes method for computing primes upto a specified number.**\n",
        "\n",
        "![alt text](https://www.w3resource.com/w3r_images/Sieve_of_Eratosthenes_animation.gif)"
      ]
    },
    {
      "cell_type": "code",
      "metadata": {
        "id": "FhE-2hXWR9Sx",
        "colab_type": "code",
        "colab": {
          "base_uri": "https://localhost:8080/",
          "height": 459
        },
        "outputId": "b9ce1745-b512-477d-af90-37e408d669d4"
      },
      "source": [
        "def prime_eratosthenes(n):\n",
        "  prime_list = []\n",
        "  for i in range(2, n+1):\n",
        "    if i not in prime_list:\n",
        "      print(i)\n",
        "      for j in range(i*i, n+1, i):  # tạo vòng lặp với range(i*i, 101, i), mục đích để tạo 1 list chứa tất cả những số không phải số nguyên tố\n",
        "        prime_list.append(j)        # thêm list vào biến prime_list\n",
        "\n",
        "print(prime_eratosthenes(100))"
      ],
      "execution_count": 46,
      "outputs": [
        {
          "output_type": "stream",
          "text": [
            "2\n",
            "3\n",
            "5\n",
            "7\n",
            "11\n",
            "13\n",
            "17\n",
            "19\n",
            "23\n",
            "29\n",
            "31\n",
            "37\n",
            "41\n",
            "43\n",
            "47\n",
            "53\n",
            "59\n",
            "61\n",
            "67\n",
            "71\n",
            "73\n",
            "79\n",
            "83\n",
            "89\n",
            "97\n",
            "None\n"
          ],
          "name": "stdout"
        }
      ]
    },
    {
      "cell_type": "markdown",
      "metadata": {
        "id": "YOorkBlFWqK1",
        "colab_type": "text"
      },
      "source": [
        "**35, Viết chương trình Python để tạo danh sách bằng cách ghép một danh sách đã cho, phạm vi từ 1 đến n.**\n",
        "\n",
        "**Write a Python program to create a list by concatenating a given list which range goes from 1 to n.**\n",
        "\n",
        "![alt text](https://www.w3resource.com/w3r_images/Python-data-type-list-excercise-35.png)"
      ]
    },
    {
      "cell_type": "code",
      "metadata": {
        "id": "i1ANb15uUV5e",
        "colab_type": "code",
        "colab": {
          "base_uri": "https://localhost:8080/",
          "height": 34
        },
        "outputId": "479931b7-2c26-4f80-a702-22652761d007"
      },
      "source": [
        "my_list = ['p', 'q']\n",
        "n = 4\n",
        "new_list = ['{}{}'.format(x,y) for y in range(1, n+1) for x in my_list]\n",
        "print(new_list)"
      ],
      "execution_count": 47,
      "outputs": [
        {
          "output_type": "stream",
          "text": [
            "['p1', 'q1', 'p2', 'q2', 'p3', 'q3', 'p4', 'q4']\n"
          ],
          "name": "stdout"
        }
      ]
    },
    {
      "cell_type": "markdown",
      "metadata": {
        "id": "Yoh6hemXXY3N",
        "colab_type": "text"
      },
      "source": [
        "**36, Viết chương trình Python để lấy số hoặc chuỗi nhận dạng duy nhất có thể thay đổi.**\n",
        "\n",
        "**Write a Python program to get variable unique identification number or string.**\n",
        "\n"
      ]
    },
    {
      "cell_type": "code",
      "metadata": {
        "id": "iY2eVRyuW9t9",
        "colab_type": "code",
        "colab": {
          "base_uri": "https://localhost:8080/",
          "height": 51
        },
        "outputId": "6e076f18-9c5c-4bea-cec5-397db65dfd74"
      },
      "source": [
        "x = 100\n",
        "print(format(id(x), 'x'))\n",
        "s = 'w3resource'\n",
        "print(format(id(s), 'x'))"
      ],
      "execution_count": 48,
      "outputs": [
        {
          "output_type": "stream",
          "text": [
            "a69720\n",
            "7f30185772b0\n"
          ],
          "name": "stdout"
        }
      ]
    },
    {
      "cell_type": "markdown",
      "metadata": {
        "id": "H-aYSYEaXw10",
        "colab_type": "text"
      },
      "source": [
        "**37, Viết chương trình Python để tìm các mục phổ biến từ hai danh sách.**\n",
        "\n",
        "**Write a Python program to find common items from two lists.**\n",
        "\n",
        "![alt text](https://www.w3resource.com/w3r_images/Python-data-type-list-excercise-37.png)"
      ]
    },
    {
      "cell_type": "code",
      "metadata": {
        "id": "NfHji0SfXqf3",
        "colab_type": "code",
        "colab": {
          "base_uri": "https://localhost:8080/",
          "height": 34
        },
        "outputId": "1366d5de-0dbd-4e0f-e2e8-f9a3a761ffe8"
      },
      "source": [
        "color1 = \"Red\", \"Green\", \"Orange\", \"White\"\n",
        "color2 = \"Black\", \"Green\", \"White\", \"Pink\"\n",
        "print(set(color1) & set(color2))"
      ],
      "execution_count": 49,
      "outputs": [
        {
          "output_type": "stream",
          "text": [
            "{'Green', 'White'}\n"
          ],
          "name": "stdout"
        }
      ]
    },
    {
      "cell_type": "markdown",
      "metadata": {
        "id": "xY8I0xKQYEKS",
        "colab_type": "text"
      },
      "source": [
        "**38, Viết chương trình Python để thay đổi vị trí của mọi giá trị thứ n với (n + 1) trong danh sách.**\n",
        "\n",
        "**Write a Python program to change the position of every n-th value with the (n+1)th in a list.**\n",
        "\n",
        "![alt text](https://www.w3resource.com/w3r_images/Python-data-type-list-excercise-38.png)"
      ]
    },
    {
      "cell_type": "code",
      "metadata": {
        "id": "2g0tP5l2X8p3",
        "colab_type": "code",
        "colab": {
          "base_uri": "https://localhost:8080/",
          "height": 34
        },
        "outputId": "30e8c99a-f376-419c-d141-05d785c88791"
      },
      "source": [
        "from itertools import zip_longest, chain, tee\n",
        "def replace2copy(lst):\n",
        "  lst1, lst2 = tee(iter(lst), 2)\n",
        "  return list(chain.from_iterable(zip_longest(lst[1::2], lst[::2])))\n",
        "\n",
        "n = [0,1,2,3,4,5]\n",
        "print(replace2copy(n))"
      ],
      "execution_count": 50,
      "outputs": [
        {
          "output_type": "stream",
          "text": [
            "[1, 0, 3, 2, 5, 4]\n"
          ],
          "name": "stdout"
        }
      ]
    },
    {
      "cell_type": "markdown",
      "metadata": {
        "id": "LP_Z6acVYu64",
        "colab_type": "text"
      },
      "source": [
        "**39, Viết chương trình Python để chuyển đổi danh sách nhiều số nguyên thành một số nguyên.**\n",
        "\n",
        "**Write a Python program to convert a list of multiple integers into a single integer.**\n",
        "\n",
        "![alt text](https://www.w3resource.com/w3r_images/Python-data-type-list-excercise-39.png)"
      ]
    },
    {
      "cell_type": "code",
      "metadata": {
        "id": "I8zXbNDFYjEv",
        "colab_type": "code",
        "colab": {
          "base_uri": "https://localhost:8080/",
          "height": 68
        },
        "outputId": "9621ce8a-186f-4523-88d5-a3a62b46c94d"
      },
      "source": [
        "L = [11, 33, 50]\n",
        "print(\"Original List: \", L)\n",
        "x = int(\"\".join(map(str, L)))\n",
        "print(\"Single Interger: \", x)\n",
        "print(type(x))"
      ],
      "execution_count": 52,
      "outputs": [
        {
          "output_type": "stream",
          "text": [
            "Original List:  [11, 33, 50]\n",
            "Single Interger:  113350\n",
            "<class 'int'>\n"
          ],
          "name": "stdout"
        }
      ]
    },
    {
      "cell_type": "markdown",
      "metadata": {
        "id": "aip6TcoHZaAy",
        "colab_type": "text"
      },
      "source": [
        "**40, Viết chương trình Python để phân chia danh sách dựa trên ký tự đầu tiên của từ.**\n",
        "\n",
        "**Write a Python program to split a list based on first character of word.**\n",
        "\n",
        "![alt text](https://www.w3resource.com/w3r_images/Python-data-type-list-excercise-40.png)"
      ]
    },
    {
      "cell_type": "code",
      "metadata": {
        "id": "kG66I4pqZDYe",
        "colab_type": "code",
        "colab": {
          "base_uri": "https://localhost:8080/",
          "height": 663
        },
        "outputId": "0f21c5bb-6f74-4140-d311-e6306b024419"
      },
      "source": [
        "from itertools import groupby \n",
        "from operator import itemgetter\n",
        "\n",
        "word_list = ['be','have','do','say','get','make','go','know','take','see','come','think',\n",
        "     'look','want','give','use','find','tell','ask','work','seem','feel','leave','call']\n",
        "\n",
        "for letter, words in groupby(sorted(word_list), key=itemgetter(0)):\n",
        "  print(letter)\n",
        "  for word in words:\n",
        "    print(word)"
      ],
      "execution_count": 54,
      "outputs": [
        {
          "output_type": "stream",
          "text": [
            "a\n",
            "ask\n",
            "b\n",
            "be\n",
            "c\n",
            "call\n",
            "come\n",
            "d\n",
            "do\n",
            "f\n",
            "feel\n",
            "find\n",
            "g\n",
            "get\n",
            "give\n",
            "go\n",
            "h\n",
            "have\n",
            "k\n",
            "know\n",
            "l\n",
            "leave\n",
            "look\n",
            "m\n",
            "make\n",
            "s\n",
            "say\n",
            "see\n",
            "seem\n",
            "t\n",
            "take\n",
            "tell\n",
            "think\n",
            "u\n",
            "use\n",
            "w\n",
            "want\n",
            "work\n"
          ],
          "name": "stdout"
        }
      ]
    },
    {
      "cell_type": "markdown",
      "metadata": {
        "id": "6jOfQjPDaSe5",
        "colab_type": "text"
      },
      "source": [
        "**41, Viết chương trình Python để tạo nhiều danh sách.**\n",
        "\n",
        "**Write a Python program to create multiple lists.**\n",
        "\n",
        "![alt text](https://www.w3resource.com/w3r_images/Python-data-type-list-excercise-41.png)"
      ]
    },
    {
      "cell_type": "code",
      "metadata": {
        "id": "RCwxuq7TZ5nM",
        "colab_type": "code",
        "colab": {
          "base_uri": "https://localhost:8080/",
          "height": 54
        },
        "outputId": "5e6cc4e6-5250-40af-fae4-b936d61708e4"
      },
      "source": [
        "obj = {}                  # tạo 1 dict obj\n",
        "for i in range(1, 21):    # tạo vòng lặp duyệt từ 1 đến 20\n",
        "  obj[str(i)] = []        # key dct obj[i] = [] (rỗng)\n",
        "print(obj)"
      ],
      "execution_count": 55,
      "outputs": [
        {
          "output_type": "stream",
          "text": [
            "{'1': [], '2': [], '3': [], '4': [], '5': [], '6': [], '7': [], '8': [], '9': [], '10': [], '11': [], '12': [], '13': [], '14': [], '15': [], '16': [], '17': [], '18': [], '19': [], '20': []}\n"
          ],
          "name": "stdout"
        }
      ]
    },
    {
      "cell_type": "markdown",
      "metadata": {
        "id": "8t0gLT47a3CZ",
        "colab_type": "text"
      },
      "source": [
        "**42, Viết chương trình Python để tìm giá trị thiếu và bổ sung trong hai danh sách.**\n",
        "\n",
        "**Write a Python program to find missing and additional values in two lists.**\n",
        "\n",
        "![alt text](https://www.w3resource.com/w3r_images/Python-data-type-list-excercise-42.png)"
      ]
    },
    {
      "cell_type": "code",
      "metadata": {
        "id": "pQ6zjkqOag0N",
        "colab_type": "code",
        "colab": {
          "base_uri": "https://localhost:8080/",
          "height": 51
        },
        "outputId": "8eadfba1-07f0-48a0-b910-fc95fd869fd5"
      },
      "source": [
        "list1 = ['a','b','c','d','e','f']\n",
        "list2 = ['d','e','f','g','h']\n",
        "print('Missing values in second list: ', ','.join(set(list1).difference(list2)))\n",
        "print('Additional values in second list: ', ','.join(set(list2).difference(list1)))"
      ],
      "execution_count": 56,
      "outputs": [
        {
          "output_type": "stream",
          "text": [
            "Missing values in second list:  a,b,c\n",
            "Additional values in second list:  h,g\n"
          ],
          "name": "stdout"
        }
      ]
    },
    {
      "cell_type": "markdown",
      "metadata": {
        "id": "cebUZmTJbQYF",
        "colab_type": "text"
      },
      "source": [
        "**43, Viết chương trình Python để chia danh sách thành các biến khác nhau.**\n",
        "\n",
        "**Write a Python program to split a list into different variables.**\n",
        "\n",
        "![alt text](https://www.w3resource.com/w3r_images/python-data-type-list-excercise-43.svg)\n",
        "\n"
      ]
    },
    {
      "cell_type": "code",
      "metadata": {
        "id": "H9xsvmSXbLHN",
        "colab_type": "code",
        "colab": {
          "base_uri": "https://localhost:8080/",
          "height": 68
        },
        "outputId": "d7cf09d9-3a0f-4396-a06a-0dc8576c6c59"
      },
      "source": [
        "color = [(\"Black\", \"#000000\", \"rgb(0, 0, 0)\"), (\"Red\", \"#FF0000\", \"rgb(255, 0, 0)\"),\n",
        "         (\"Yellow\", \"#FFFF00\", \"rgb(255, 255, 0)\")]\n",
        "var1, var2, var3 = color\n",
        "print(var1)\n",
        "print(var2)\n",
        "print(var3)"
      ],
      "execution_count": 59,
      "outputs": [
        {
          "output_type": "stream",
          "text": [
            "('Black', '#000000', 'rgb(0, 0, 0)')\n",
            "('Red', '#FF0000', 'rgb(255, 0, 0)')\n",
            "('Yellow', '#FFFF00', 'rgb(255, 255, 0)')\n"
          ],
          "name": "stdout"
        }
      ]
    },
    {
      "cell_type": "markdown",
      "metadata": {
        "id": "YWivcYuhbsGM",
        "colab_type": "text"
      },
      "source": [
        "**44, Viết chương trình Python để tạo các nhóm năm số liên tiếp trong một danh sách.**\n",
        "\n",
        "**Write a Python program to generate groups of five consecutive numbers in a list.**\n",
        "\n",
        "![alt text](https://www.w3resource.com/w3r_images/Python-data-type-list-excercise-44.png)"
      ]
    },
    {
      "cell_type": "code",
      "metadata": {
        "id": "XBTVeyTybYDF",
        "colab_type": "code",
        "colab": {
          "base_uri": "https://localhost:8080/",
          "height": 34
        },
        "outputId": "db11557b-1e03-4832-a2f0-c013ce6eab38"
      },
      "source": [
        "l = [[5*i + j for j in range(1,6)] for i in range(5)]\n",
        "print(l)"
      ],
      "execution_count": 60,
      "outputs": [
        {
          "output_type": "stream",
          "text": [
            "[[1, 2, 3, 4, 5], [6, 7, 8, 9, 10], [11, 12, 13, 14, 15], [16, 17, 18, 19, 20], [21, 22, 23, 24, 25]]\n"
          ],
          "name": "stdout"
        }
      ]
    },
    {
      "cell_type": "markdown",
      "metadata": {
        "id": "mX4fu0aXcmd9",
        "colab_type": "text"
      },
      "source": [
        "**45, Viết chương trình Python để chuyển đổi một cặp giá trị thành một mảng duy nhất được sắp xếp.**\n",
        "\n",
        "**Write a Python program to convert a pair of values into a sorted unique array.**\n",
        "\n",
        "![alt text](https://www.w3resource.com/w3r_images/Python-data-type-list-excercise-45.png)\n",
        "\n",
        "set().union() method returns a new set with distinct elements from all the sets."
      ]
    },
    {
      "cell_type": "code",
      "metadata": {
        "id": "s2NpY-Ybb7Lo",
        "colab_type": "code",
        "colab": {
          "base_uri": "https://localhost:8080/",
          "height": 51
        },
        "outputId": "db4e484f-43fc-4272-dad7-812bc2bea2fd"
      },
      "source": [
        "L = [(1, 2), (3, 4), (1, 2), (5, 6), (7, 8), (1, 2), (3, 4), (3, 4),\n",
        " (7, 8), (9, 10)]\n",
        "print(\"Original List: \", L)\n",
        "print(\"Sorted Unique Data:\",sorted(set().union(*L)))"
      ],
      "execution_count": 63,
      "outputs": [
        {
          "output_type": "stream",
          "text": [
            "Original List:  [(1, 2), (3, 4), (1, 2), (5, 6), (7, 8), (1, 2), (3, 4), (3, 4), (7, 8), (9, 10)]\n",
            "Sorted Unique Data: [1, 2, 3, 4, 5, 6, 7, 8, 9, 10]\n"
          ],
          "name": "stdout"
        }
      ]
    },
    {
      "cell_type": "markdown",
      "metadata": {
        "id": "1iYeK6FVd0ep",
        "colab_type": "text"
      },
      "source": [
        "**46, Viết chương trình Python để chọn các mục lẻ của danh sách.**\n",
        "\n",
        "**Write a Python program to select the odd items of a list.**\n",
        "\n",
        "![alt text](https://www.w3resource.com/w3r_images/check-odd-number.png)"
      ]
    },
    {
      "cell_type": "code",
      "metadata": {
        "id": "GpyPOF2aczyy",
        "colab_type": "code",
        "colab": {
          "base_uri": "https://localhost:8080/",
          "height": 34
        },
        "outputId": "c881ee54-1686-460b-85de-6a9b1cf78566"
      },
      "source": [
        "x = [1, 2, 3, 4, 5, 6, 7, 8, 9]\n",
        "print(x[::2])"
      ],
      "execution_count": 64,
      "outputs": [
        {
          "output_type": "stream",
          "text": [
            "[1, 3, 5, 7, 9]\n"
          ],
          "name": "stdout"
        }
      ]
    },
    {
      "cell_type": "markdown",
      "metadata": {
        "id": "uzk809ydeBDa",
        "colab_type": "text"
      },
      "source": [
        "**47, Viết chương trình Python để chèn một phần tử trước mỗi phần tử của danh sách.**\n",
        "\n",
        "**Write a Python program to insert an element before each element of a list.**\n",
        "\n",
        "![alt text](https://www.w3resource.com/w3r_images/Python-data-type-list-excercise-47.png)"
      ]
    },
    {
      "cell_type": "code",
      "metadata": {
        "id": "tpaxLhUbd9Eh",
        "colab_type": "code",
        "colab": {
          "base_uri": "https://localhost:8080/",
          "height": 51
        },
        "outputId": "a89f40f1-fb81-4c80-f30f-c358dae3e558"
      },
      "source": [
        "color = ['Red', 'Green', 'Black']\n",
        "print(\"Original List: \",color)\n",
        "color = [v for elt in color for v in ('c', elt)]\n",
        "print(\"Original List: \", color)"
      ],
      "execution_count": 65,
      "outputs": [
        {
          "output_type": "stream",
          "text": [
            "Original List:  ['Red', 'Green', 'Black']\n",
            "Original List:  ['c', 'Red', 'c', 'Green', 'c', 'Black']\n"
          ],
          "name": "stdout"
        }
      ]
    },
    {
      "cell_type": "markdown",
      "metadata": {
        "id": "lN0nSUpRek8j",
        "colab_type": "text"
      },
      "source": [
        "**48, Viết chương trình Python để in danh sách lồng nhau (mỗi danh sách trên một dòng mới) bằng hàm print ().**\n",
        "\n",
        "**Write a Python program to print a nested lists (each list on a new line) using the print() function.**\n",
        "\n",
        "![alt text](https://www.w3resource.com/w3r_images/Python-data-type-list-excercise-48.png)"
      ]
    },
    {
      "cell_type": "code",
      "metadata": {
        "id": "4OApktdmeUPM",
        "colab_type": "code",
        "colab": {
          "base_uri": "https://localhost:8080/",
          "height": 68
        },
        "outputId": "e8dd6aff-b6ff-46f6-ccdd-e7214b0b1fd9"
      },
      "source": [
        "colors = [['Red'], ['Green'], ['Black']]\n",
        "print('\\n'.join([str(lts) for lts in colors]))"
      ],
      "execution_count": 66,
      "outputs": [
        {
          "output_type": "stream",
          "text": [
            "['Red']\n",
            "['Green']\n",
            "['Black']\n"
          ],
          "name": "stdout"
        }
      ]
    },
    {
      "cell_type": "markdown",
      "metadata": {
        "id": "vP6mBBL7fQZN",
        "colab_type": "text"
      },
      "source": [
        "**49, Viết chương trình Python để chuyển đổi danh sách sang danh sách từ điển.**\n",
        "\n",
        "**Write a Python program to convert list to list of dictionaries.**\n",
        "\n",
        "![alt text](https://www.w3resource.com/w3r_images/Python-data-type-list-excercise-49.png)"
      ]
    },
    {
      "cell_type": "code",
      "metadata": {
        "id": "pkrmblNLfGbD",
        "colab_type": "code",
        "colab": {
          "base_uri": "https://localhost:8080/",
          "height": 54
        },
        "outputId": "825bd5ca-34ee-45d8-f846-93dfd5ee4058"
      },
      "source": [
        "color_name = [\"Black\", \"Red\", \"Maroon\", \"Yellow\"]\n",
        "color_code = [\"#000000\", \"#FF0000\", \"#800000\", \"#FFFF00\"]\n",
        "print([{'color_name':f, 'color_code':c} for f,c in zip(color_name, color_code)])"
      ],
      "execution_count": 67,
      "outputs": [
        {
          "output_type": "stream",
          "text": [
            "[{'color_name': 'Black', 'color_code': '#000000'}, {'color_name': 'Red', 'color_code': '#FF0000'}, {'color_name': 'Maroon', 'color_code': '#800000'}, {'color_name': 'Yellow', 'color_code': '#FFFF00'}]\n"
          ],
          "name": "stdout"
        }
      ]
    },
    {
      "cell_type": "markdown",
      "metadata": {
        "id": "fO39nnm-f2we",
        "colab_type": "text"
      },
      "source": [
        "**50, Viết chương trình Python để sắp xếp danh sách các từ điển lồng nhau.**\n",
        "\n",
        "**Write a Python program to sort a list of nested dictionaries.**\n",
        "\n",
        "![alt text](https://www.w3resource.com/w3r_images/Python-data-type-list-excercise-50.png)"
      ]
    },
    {
      "cell_type": "code",
      "metadata": {
        "id": "yho-f-gufpnL",
        "colab_type": "code",
        "colab": {
          "base_uri": "https://localhost:8080/",
          "height": 85
        },
        "outputId": "74bb5eaf-5d0a-412d-cf2d-c6f909ac6716"
      },
      "source": [
        "my_list = [{'key': {'subkey': 1}}, {'key': {'subkey': 10}}, {'key': {'subkey': 5}}]\n",
        "print(\"Original List: \")\n",
        "print(my_list)\n",
        "my_list.sort(key= lambda e: e['key']['subkey'], reverse = True)\n",
        "print(\"Sorted List: \")\n",
        "print(my_list)"
      ],
      "execution_count": 68,
      "outputs": [
        {
          "output_type": "stream",
          "text": [
            "Original List: \n",
            "[{'key': {'subkey': 1}}, {'key': {'subkey': 10}}, {'key': {'subkey': 5}}]\n",
            "Sorted List: \n",
            "[{'key': {'subkey': 10}}, {'key': {'subkey': 5}}, {'key': {'subkey': 1}}]\n"
          ],
          "name": "stdout"
        }
      ]
    },
    {
      "cell_type": "markdown",
      "metadata": {
        "id": "mP0iMF7NgbKo",
        "colab_type": "text"
      },
      "source": [
        "**51, Viết chương trình Python để phân chia danh sách mọi phần tử Nth.**\n",
        "\n",
        "**Write a Python program to split a list every Nth element.**\n",
        "\n",
        "![alt text](https://www.w3resource.com/w3r_images/Python-data-type-list-excercise-51.png)"
      ]
    },
    {
      "cell_type": "code",
      "metadata": {
        "id": "C8EOUHyrgLaX",
        "colab_type": "code",
        "colab": {
          "base_uri": "https://localhost:8080/",
          "height": 34
        },
        "outputId": "9da43d35-e049-4582-b3f5-9c78319d2136"
      },
      "source": [
        "C = ['a', 'b', 'c', 'd', 'e', 'f', 'g', 'h', 'i', 'j', 'k', 'l', 'm', 'n']\n",
        "def list_slice(S, step):\n",
        "  return [S[i::step] for i in range(step)]\n",
        "print(list_slice(C, 3))"
      ],
      "execution_count": 69,
      "outputs": [
        {
          "output_type": "stream",
          "text": [
            "[['a', 'd', 'g', 'j', 'm'], ['b', 'e', 'h', 'k', 'n'], ['c', 'f', 'i', 'l']]\n"
          ],
          "name": "stdout"
        }
      ]
    },
    {
      "cell_type": "markdown",
      "metadata": {
        "id": "Vrjx1FCHhRUc",
        "colab_type": "text"
      },
      "source": [
        "**52, Viết chương trình Python để tính toán sự khác biệt giữa hai danh sách.**\n",
        "\n",
        "**Write a Python program to compute the difference between two lists.**\n",
        "\n",
        "![alt text](https://www.w3resource.com/w3r_images/Python-data-type-list-excercise-52.png)"
      ]
    },
    {
      "cell_type": "code",
      "metadata": {
        "id": "yvkiDukWgzaw",
        "colab_type": "code",
        "colab": {
          "base_uri": "https://localhost:8080/",
          "height": 68
        },
        "outputId": "7048cc8f-3167-4913-8af5-914c115be4d5"
      },
      "source": [
        "from collections import Counter\n",
        "color1 = [\"red\", \"orange\", \"green\", \"blue\", \"white\"]\n",
        "color2 = [\"black\", \"yellow\", \"green\", \"blue\"]\n",
        "counter1 = Counter(color1)\n",
        "counter2 = Counter(color2)\n",
        "print(type(counter1))\n",
        "print(\"Color1-Color2: \",list(counter1 - counter2))\n",
        "print(\"Color2-Color1: \",list(counter2 - counter1))"
      ],
      "execution_count": 72,
      "outputs": [
        {
          "output_type": "stream",
          "text": [
            "<class 'collections.Counter'>\n",
            "Color1-Color2:  ['red', 'orange', 'white']\n",
            "Color2-Color1:  ['black', 'yellow']\n"
          ],
          "name": "stdout"
        }
      ]
    },
    {
      "cell_type": "markdown",
      "metadata": {
        "id": "7t-RresKiGKy",
        "colab_type": "text"
      },
      "source": [
        "**53, Viết chương trình Python để tạo danh sách với các phần tử vô hạn.**\n",
        "\n",
        "**Write a Python program to create a list with infinite elements.**\n",
        "\n"
      ]
    },
    {
      "cell_type": "code",
      "metadata": {
        "id": "2RP13_XEhwyE",
        "colab_type": "code",
        "colab": {
          "base_uri": "https://localhost:8080/",
          "height": 119
        },
        "outputId": "224db821-e752-4ce4-d28b-190d7c4d14ff"
      },
      "source": [
        "import itertools\n",
        "c = itertools.count()\n",
        "print(next(c))\n",
        "print(next(c))\n",
        "print(next(c))\n",
        "print(next(c))\n",
        "print(next(c))\n",
        "print(next(c))"
      ],
      "execution_count": 74,
      "outputs": [
        {
          "output_type": "stream",
          "text": [
            "0\n",
            "1\n",
            "2\n",
            "3\n",
            "4\n",
            "5\n"
          ],
          "name": "stdout"
        }
      ]
    },
    {
      "cell_type": "markdown",
      "metadata": {
        "id": "DUcGT3L5iUOQ",
        "colab_type": "text"
      },
      "source": [
        "**54, Viết chương trình Python để nối các phần tử của danh sách.**\n",
        "\n",
        "**Write a Python program to concatenate elements of a list.**\n",
        "\n",
        "![alt text](https://www.w3resource.com/w3r_images/Python-data-type-list-excercise-54.png)"
      ]
    },
    {
      "cell_type": "code",
      "metadata": {
        "id": "4TjD6UHAiNo6",
        "colab_type": "code",
        "colab": {
          "base_uri": "https://localhost:8080/",
          "height": 51
        },
        "outputId": "1b2b5c83-b9ac-4d33-b4f6-707d375548ac"
      },
      "source": [
        "color = ['red', 'green', 'orange']\n",
        "print('-'.join(color))\n",
        "print(''.join(color))"
      ],
      "execution_count": 75,
      "outputs": [
        {
          "output_type": "stream",
          "text": [
            "red-green-orange\n",
            "redgreenorange\n"
          ],
          "name": "stdout"
        }
      ]
    },
    {
      "cell_type": "markdown",
      "metadata": {
        "id": "ipI6v2w_iunA",
        "colab_type": "text"
      },
      "source": [
        "**55, Viết chương trình Python để xóa các cặp giá trị chính khỏi danh sách từ điển.**\n",
        "\n",
        "**Write a Python program to remove key values pairs from a list of dictionaries.**\n",
        "\n",
        "![alt text](https://www.w3resource.com/w3r_images/Python-data-type-list-excercise-55.png)"
      ]
    },
    {
      "cell_type": "code",
      "metadata": {
        "id": "uFUyi6ULig-i",
        "colab_type": "code",
        "colab": {
          "base_uri": "https://localhost:8080/",
          "height": 85
        },
        "outputId": "6ac84fa3-4091-45f6-925e-e317258dacce"
      },
      "source": [
        "original_list = [{'key1':'value1', 'key2':'value2'}, {'key1':'value3', 'key2':'value4'}]\n",
        "print(\"Original List: \")\n",
        "print(original_list)\n",
        "new_list = [{k: v for k, v in d.items() if k != 'key1'} for d in original_list]\n",
        "print(\"New List: \")\n",
        "print(new_list)"
      ],
      "execution_count": 76,
      "outputs": [
        {
          "output_type": "stream",
          "text": [
            "Original List: \n",
            "[{'key1': 'value1', 'key2': 'value2'}, {'key1': 'value3', 'key2': 'value4'}]\n",
            "New List: \n",
            "[{'key2': 'value2'}, {'key2': 'value4'}]\n"
          ],
          "name": "stdout"
        }
      ]
    },
    {
      "cell_type": "markdown",
      "metadata": {
        "id": "JS4AJYEJjcmd",
        "colab_type": "text"
      },
      "source": [
        "**56, Viết chương trình Python để chuyển đổi một chuỗi thành danh sách.**\n",
        "\n",
        "**Write a Python program to convert a string to a list.**\n",
        "\n",
        "![alt text](https://www.w3resource.com/w3r_images/Python-data-type-list-excercise-56.png)"
      ]
    },
    {
      "cell_type": "code",
      "metadata": {
        "id": "vTVBgQArjDEB",
        "colab_type": "code",
        "colab": {
          "base_uri": "https://localhost:8080/",
          "height": 51
        },
        "outputId": "fd46bd9a-7659-47e7-a3d4-372ec56b54e3"
      },
      "source": [
        "import ast\n",
        "color =\"['Red', 'Green', 'White']\"\n",
        "print(ast.literal_eval(color))"
      ],
      "execution_count": 79,
      "outputs": [
        {
          "output_type": "stream",
          "text": [
            "['Red', 'Green', 'White']\n",
            "[\"['Red',\", \"'Green',\", \"'White']\"]\n"
          ],
          "name": "stdout"
        }
      ]
    },
    {
      "cell_type": "markdown",
      "metadata": {
        "id": "IbA94pE9j8mW",
        "colab_type": "text"
      },
      "source": [
        "**57, Viết chương trình Python để kiểm tra xem tất cả các mục trong danh sách có bằng một chuỗi đã cho hay không.**\n",
        "\n",
        "**Write a Python program to check whether all items of a list is equal to a given string.**\n",
        "\n",
        "![alt text](https://www.w3resource.com/w3r_images/Python-data-type-list-excercise-57.png)"
      ]
    },
    {
      "cell_type": "code",
      "metadata": {
        "id": "AZh4R5jTjmKh",
        "colab_type": "code",
        "colab": {
          "base_uri": "https://localhost:8080/",
          "height": 51
        },
        "outputId": "7d36e14b-4193-403e-9cf6-c6ddfc9651a9"
      },
      "source": [
        "color1 = [\"green\", \"orange\", \"black\", \"white\"]\n",
        "color2 = [\"green\", \"green\", \"green\", \"green\"]\n",
        "\n",
        "print(all(c == 'blue' for c in color1))\n",
        "print(all(c == 'green' for c in color2))"
      ],
      "execution_count": 82,
      "outputs": [
        {
          "output_type": "stream",
          "text": [
            "False\n",
            "True\n"
          ],
          "name": "stdout"
        }
      ]
    },
    {
      "cell_type": "markdown",
      "metadata": {
        "id": "6uyYb4tuki5e",
        "colab_type": "text"
      },
      "source": [
        "**58, Viết chương trình Python để thay thế phần tử cuối cùng trong danh sách bằng danh sách khác.**\n",
        "\n",
        "**Write a Python program to replace the last element in a list with another list.**\n",
        "\n",
        "![alt text](https://www.w3resource.com/w3r_images/Python-data-type-list-excercise-58.png)"
      ]
    },
    {
      "cell_type": "code",
      "metadata": {
        "id": "LlC1P8mtkI6Z",
        "colab_type": "code",
        "colab": {
          "base_uri": "https://localhost:8080/",
          "height": 34
        },
        "outputId": "7a505037-19ef-4b5e-e1b4-59257c76bf23"
      },
      "source": [
        "num1 = [1, 3, 5, 7, 9, 10]\n",
        "num2 = [2, 4, 6, 8]\n",
        "num1[-1:] = num2\n",
        "print(num1)"
      ],
      "execution_count": 83,
      "outputs": [
        {
          "output_type": "stream",
          "text": [
            "[1, 3, 5, 7, 9, 2, 4, 6, 8]\n"
          ],
          "name": "stdout"
        }
      ]
    },
    {
      "cell_type": "markdown",
      "metadata": {
        "id": "p78RNW6Kk2qW",
        "colab_type": "text"
      },
      "source": [
        "**59, Viết chương trình Python để kiểm tra xem phần tử thứ n có tồn tại trong danh sách đã cho hay không.**\n",
        "\n",
        "**Write a Python program to check whether the n-th element exists in a given list.**\n",
        "\n",
        "![alt text](https://www.w3resource.com/w3r_images/python-data-type-list-excercise-59.svg)\n",
        "\n"
      ]
    },
    {
      "cell_type": "code",
      "metadata": {
        "id": "4P4HygnDkwcQ",
        "colab_type": "code",
        "colab": {
          "base_uri": "https://localhost:8080/",
          "height": 34
        },
        "outputId": "c62c0db5-3e80-4ada-f6b6-3643f9ea9957"
      },
      "source": [
        "x = [1, 2, 3, 4, 5, 6]\n",
        "xlen = len(x)-1\n",
        "print(x[xlen])"
      ],
      "execution_count": 84,
      "outputs": [
        {
          "output_type": "stream",
          "text": [
            "6\n"
          ],
          "name": "stdout"
        }
      ]
    },
    {
      "cell_type": "markdown",
      "metadata": {
        "id": "GxyCiRRElW8q",
        "colab_type": "text"
      },
      "source": [
        "**60, Viết chương trình Python để tìm một bộ dữ liệu, giá trị chỉ mục thứ hai nhỏ nhất từ danh sách các bộ dữ liệu.**\n",
        "\n",
        "**Write a Python program to find a tuple, the smallest second index value from a list of tuples.**\n",
        "\n",
        "![alt text](https://www.w3resource.com/w3r_images/python-data-type-list-excercise-60.svg)"
      ]
    },
    {
      "cell_type": "code",
      "metadata": {
        "id": "RY1glVrjk_Jb",
        "colab_type": "code",
        "colab": {
          "base_uri": "https://localhost:8080/",
          "height": 34
        },
        "outputId": "fd74c7d8-498e-4785-a660-a444ad30bba5"
      },
      "source": [
        "x = [(4, 1), (1, 2), (6, 0)]\n",
        "print(min(x, key=lambda n: (n[1], -n[0])))"
      ],
      "execution_count": 85,
      "outputs": [
        {
          "output_type": "stream",
          "text": [
            "(6, 0)\n"
          ],
          "name": "stdout"
        }
      ]
    },
    {
      "cell_type": "markdown",
      "metadata": {
        "id": "Z2QrRMh6ls2l",
        "colab_type": "text"
      },
      "source": [
        "**61, Viết chương trình Python để tạo danh sách từ điển trống.**\n",
        "\n",
        "**Write a Python program to create a list of empty dictionaries.**\n",
        "\n"
      ]
    },
    {
      "cell_type": "code",
      "metadata": {
        "id": "ubP9ITyBljKw",
        "colab_type": "code",
        "colab": {
          "base_uri": "https://localhost:8080/",
          "height": 34
        },
        "outputId": "b195c9da-2163-426a-a4cf-a820e83e5c8f"
      },
      "source": [
        "n = 5\n",
        "l = [{} for _ in range(n)]\n",
        "print(l)"
      ],
      "execution_count": 86,
      "outputs": [
        {
          "output_type": "stream",
          "text": [
            "[{}, {}, {}, {}, {}]\n"
          ],
          "name": "stdout"
        }
      ]
    },
    {
      "cell_type": "markdown",
      "metadata": {
        "id": "dUzMpVpgl31z",
        "colab_type": "text"
      },
      "source": [
        "**62, Viết chương trình Python để in danh sách các phần tử được phân tách bằng dấu cách.**\n",
        "\n",
        "**Write a Python program to print a list of space-separated elements.**\n",
        "\n",
        "![alt text](https://www.w3resource.com/w3r_images/Python-data-type-list-excercise-62.png)"
      ]
    },
    {
      "cell_type": "code",
      "metadata": {
        "id": "aNiITohCly3K",
        "colab_type": "code",
        "colab": {
          "base_uri": "https://localhost:8080/",
          "height": 34
        },
        "outputId": "9f986afd-0d68-4228-f7d0-f14547654b1a"
      },
      "source": [
        "num = [1, 2, 3, 4, 5]\n",
        "print(*num)"
      ],
      "execution_count": 87,
      "outputs": [
        {
          "output_type": "stream",
          "text": [
            "1 2 3 4 5\n"
          ],
          "name": "stdout"
        }
      ]
    },
    {
      "cell_type": "markdown",
      "metadata": {
        "id": "R0ICneqrmBx-",
        "colab_type": "text"
      },
      "source": [
        "**63, Viết chương trình Python để chèn một chuỗi đã cho vào đầu tất cả các mục trong danh sách.**\n",
        "\n",
        "**Write a Python program to insert a given string at the beginning of all items in a list.**\n",
        "\n",
        "![alt text](https://www.w3resource.com/w3r_images/Python-data-type-list-excercise-63.png)"
      ]
    },
    {
      "cell_type": "code",
      "metadata": {
        "id": "D3xbaKX4l_Aj",
        "colab_type": "code",
        "colab": {
          "base_uri": "https://localhost:8080/",
          "height": 34
        },
        "outputId": "136ff3e2-3c69-43d7-9266-ad159de27e36"
      },
      "source": [
        "num = [1,2,3,4]\n",
        "print(['emp{0}'.format(i) for i in  num])"
      ],
      "execution_count": 88,
      "outputs": [
        {
          "output_type": "stream",
          "text": [
            "['emp1', 'emp2', 'emp3', 'emp4']\n"
          ],
          "name": "stdout"
        }
      ]
    },
    {
      "cell_type": "markdown",
      "metadata": {
        "id": "8PowGWcFmXLd",
        "colab_type": "text"
      },
      "source": [
        "**64, Viết chương trình Python để lặp lại hai danh sách cùng một lúc.**\n",
        "\n",
        "**Write a Python program to iterate over two lists simultaneously.**\n",
        "\n",
        "![alt text](https://www.w3resource.com/w3r_images/python-data-type-list-excercise-64.svg)"
      ]
    },
    {
      "cell_type": "code",
      "metadata": {
        "id": "wbsN0AM_mNLY",
        "colab_type": "code",
        "colab": {
          "base_uri": "https://localhost:8080/",
          "height": 68
        },
        "outputId": "868969ba-c644-418e-cb13-f40e79bcb4c6"
      },
      "source": [
        "num = [1, 2, 3]\n",
        "color = ['red', 'white', 'black']\n",
        "for (a,b) in zip(num, color):\n",
        "     print(a, b)"
      ],
      "execution_count": 89,
      "outputs": [
        {
          "output_type": "stream",
          "text": [
            "1 red\n",
            "2 white\n",
            "3 black\n"
          ],
          "name": "stdout"
        }
      ]
    },
    {
      "cell_type": "markdown",
      "metadata": {
        "id": "OL9Cm-VzmqJF",
        "colab_type": "text"
      },
      "source": [
        "**65, Viết chương trình Python để truy cập phần tử khóa từ điển theo chỉ mục.**\n",
        "\n",
        "**Write a Python program to access dictionary key’s element by index.**\n",
        "\n",
        "![alt text](https://www.w3resource.com/w3r_images/python-data-type-list-excercise-65.svg)"
      ]
    },
    {
      "cell_type": "code",
      "metadata": {
        "id": "CnxK4cR5mg03",
        "colab_type": "code",
        "colab": {
          "base_uri": "https://localhost:8080/",
          "height": 34
        },
        "outputId": "7cd416d0-7137-4456-90a9-274e3a977ef9"
      },
      "source": [
        "num = {'physics': 80, 'math': 90, 'chemistry': 86}\n",
        "print(list(num)[0])"
      ],
      "execution_count": 92,
      "outputs": [
        {
          "output_type": "stream",
          "text": [
            "physics\n"
          ],
          "name": "stdout"
        }
      ]
    },
    {
      "cell_type": "markdown",
      "metadata": {
        "id": "DW2O3QgJnDLh",
        "colab_type": "text"
      },
      "source": [
        "**66, Viết chương trình Python để tìm danh sách trong danh sách các danh sách có tổng các phần tử là cao nhất.**\n",
        "\n",
        "**Write a Python program to find the list in a list of lists whose sum of elements is the highest.**\n",
        "\n",
        "![alt text](https://www.w3resource.com/w3r_images/python-data-type-list-excercise-66.svg)"
      ]
    },
    {
      "cell_type": "code",
      "metadata": {
        "id": "FPOzxfg6m11U",
        "colab_type": "code",
        "colab": {
          "base_uri": "https://localhost:8080/",
          "height": 34
        },
        "outputId": "e2119032-857b-4bab-92a0-3f282ed17b37"
      },
      "source": [
        "num = [[1,2,3], [4,5,6], [10,11,12], [7,8,9]]\n",
        "print(max(num, key=sum))"
      ],
      "execution_count": 93,
      "outputs": [
        {
          "output_type": "stream",
          "text": [
            "[10, 11, 12]\n"
          ],
          "name": "stdout"
        }
      ]
    },
    {
      "cell_type": "markdown",
      "metadata": {
        "id": "u06wmaS5nRBt",
        "colab_type": "text"
      },
      "source": [
        "**67, Viết chương trình Python để tìm tất cả các giá trị trong danh sách lớn hơn một số được chỉ định.**\n",
        "\n",
        "**Write a Python program to find all the values in a list are greater than a specified number.**\n",
        "\n",
        "![alt text](https://www.w3resource.com/w3r_images/python-data-type-list-excercise-67-1.svg)"
      ]
    },
    {
      "cell_type": "code",
      "metadata": {
        "id": "jHoA567pnNPg",
        "colab_type": "code",
        "colab": {
          "base_uri": "https://localhost:8080/",
          "height": 51
        },
        "outputId": "b6c17d57-6ede-4f0b-cef5-a8f7c9241545"
      },
      "source": [
        "list1 = [220, 330, 500]\n",
        "list2 = [12, 17, 21]\n",
        "print(all(x >= 200 for x in list1))\n",
        "print(all(x >= 25 for x in list2))"
      ],
      "execution_count": 94,
      "outputs": [
        {
          "output_type": "stream",
          "text": [
            "True\n",
            "False\n"
          ],
          "name": "stdout"
        }
      ]
    },
    {
      "cell_type": "markdown",
      "metadata": {
        "id": "QLYwxuaXng-O",
        "colab_type": "text"
      },
      "source": [
        "**68, Viết chương trình Python để mở rộng danh sách mà không cần nối thêm.**\n",
        "\n",
        "**Write a Python program to extend a list without append.**\n",
        "\n",
        "![alt text](https://www.w3resource.com/w3r_images/python-data-type-list-excercise-68.svg)"
      ]
    },
    {
      "cell_type": "code",
      "metadata": {
        "id": "epnP3lIUndRr",
        "colab_type": "code",
        "colab": {
          "base_uri": "https://localhost:8080/",
          "height": 34
        },
        "outputId": "99676a18-f148-49cc-834f-5f81769c0a0e"
      },
      "source": [
        "x = [10, 20, 30]\n",
        "y = [40, 50, 60]\n",
        "x[:0] =y\n",
        "print(x)"
      ],
      "execution_count": 95,
      "outputs": [
        {
          "output_type": "stream",
          "text": [
            "[40, 50, 60, 10, 20, 30]\n"
          ],
          "name": "stdout"
        }
      ]
    },
    {
      "cell_type": "markdown",
      "metadata": {
        "id": "8sIEzhDbnwlc",
        "colab_type": "text"
      },
      "source": [
        "**69, Viết chương trình Python để xóa các bản sao khỏi danh sách danh sách.**\n",
        "\n",
        "**Write a Python program to remove duplicates from a list of lists.**\n",
        "\n",
        "![alt text](https://www.w3resource.com/w3r_images/python-data-type-list-excercise-69.svg)"
      ]
    },
    {
      "cell_type": "code",
      "metadata": {
        "id": "G37V-_TOnqAI",
        "colab_type": "code",
        "colab": {
          "base_uri": "https://localhost:8080/",
          "height": 51
        },
        "outputId": "76b9a42b-d8d6-4535-e52d-9f12b35d25fc"
      },
      "source": [
        "import itertools\n",
        "num = [[10, 20], [40], [30, 56, 25], [10, 20], [33], [40]]\n",
        "print(\"Original List\", num)\n",
        "num.sort()\n",
        "new_num = list(num for num,_ in itertools.groupby(num))\n",
        "print(\"New List\", new_num)"
      ],
      "execution_count": 96,
      "outputs": [
        {
          "output_type": "stream",
          "text": [
            "Original List [[10, 20], [40], [30, 56, 25], [10, 20], [33], [40]]\n",
            "New List [[10, 20], [30, 56, 25], [33], [40]]\n"
          ],
          "name": "stdout"
        }
      ]
    },
    {
      "cell_type": "markdown",
      "metadata": {
        "id": "I2DIoVi-oFyh",
        "colab_type": "text"
      },
      "source": [
        "**70, Viết chương trình Python để lấy chiều sâu của từ điển.**\n",
        "\n",
        "**Write a Python program to get the depth of a dictionary.**\n",
        "\n"
      ]
    },
    {
      "cell_type": "code",
      "metadata": {
        "id": "F0L8usEXn9Xu",
        "colab_type": "code",
        "colab": {
          "base_uri": "https://localhost:8080/",
          "height": 34
        },
        "outputId": "023eb4e8-36c0-4155-ba06-6250ac3e162f"
      },
      "source": [
        "def dict_depth(d):\n",
        "  if isinstance(d, dict):\n",
        "    return 1 + (max(map(dict_depth, d.values())) if d else 0)\n",
        "  return 0\n",
        "dic = {'a':1, 'b': {'c': {'d': {}}}}\n",
        "print(dict_depth(dic))"
      ],
      "execution_count": 102,
      "outputs": [
        {
          "output_type": "stream",
          "text": [
            "4\n"
          ],
          "name": "stdout"
        }
      ]
    },
    {
      "cell_type": "markdown",
      "metadata": {
        "id": "ejiLXHGFqOSd",
        "colab_type": "text"
      },
      "source": [
        "**71, Viết chương trình Python để kiểm tra xem tất cả các từ điển trong danh sách có trống hay không.**\n",
        "\n",
        "**Write a Python program to check whether all dictionaries in a list are empty or not.**\n",
        "\n",
        "![alt text](https://www.w3resource.com/w3r_images/python-data-type-list-excercise-71.svg)"
      ]
    },
    {
      "cell_type": "code",
      "metadata": {
        "id": "6Xyzb0KSpseq",
        "colab_type": "code",
        "colab": {
          "base_uri": "https://localhost:8080/",
          "height": 51
        },
        "outputId": "d27f2122-512d-4693-f343-4617f05988bb"
      },
      "source": [
        "my_list = [{},{},{}]\n",
        "my_list1 = [{1,2},{},{}]\n",
        "print(all(not d for d in my_list))\n",
        "print(all(not d for d in my_list1))"
      ],
      "execution_count": 103,
      "outputs": [
        {
          "output_type": "stream",
          "text": [
            "True\n",
            "False\n"
          ],
          "name": "stdout"
        }
      ]
    },
    {
      "cell_type": "markdown",
      "metadata": {
        "id": "VDzgTWwvqaB8",
        "colab_type": "text"
      },
      "source": [
        "**72, Viết chương trình Python để làm phẳng cấu trúc danh sách lồng nhau.**\n",
        "\n",
        "**Write a Python program to flatten a given nested list structure.**\n",
        "\n"
      ]
    },
    {
      "cell_type": "code",
      "metadata": {
        "id": "bAeSPpoOqXFe",
        "colab_type": "code",
        "colab": {
          "base_uri": "https://localhost:8080/",
          "height": 102
        },
        "outputId": "a1d27c60-ca17-463d-d754-321fe077bf75"
      },
      "source": [
        "def flatten_list(n_list):\n",
        "  result_list = []\n",
        "  if not n_list:                  # nếu list truyền vào rỗng\n",
        "    return result_list\n",
        "  stack = [list(n_list)]          # tạo stack, list lồng nhau\n",
        "  while stack:\n",
        "    c_num = stack.pop()           # loại bỏ phần tử cuối của stack\n",
        "    next = c_num.pop()            # biến next, bằng phần tử được loại bỏ trong c_num\n",
        "    if c_num:                     # điều kiện là c_num\n",
        "      stack.append(c_num)         # stack được thêm tất cả phần tử trong list c_num (đã loại bỏ phần tử)\n",
        "    if isinstance(next, list):\n",
        "      if next: \n",
        "        stack.append(list(next))  # thêm next vào stack (thêm phần tử được loại bỏ vào stack)\n",
        "    else: \n",
        "      result_list.append(next)\n",
        "  result_list.reverse()\n",
        "  return result_list\n",
        "\n",
        "n_list = [0, 10, [20, 30], 40, 50, [60, 70, 80], [90, 100, 110, 120]]\n",
        "print(\"Original list:\") \n",
        "print(n_list)\n",
        "print(\"\\nFlatten list:\")\n",
        "print(flatten_list(n_list))"
      ],
      "execution_count": 104,
      "outputs": [
        {
          "output_type": "stream",
          "text": [
            "Original list:\n",
            "[0, 10, [20, 30], 40, 50, [60, 70, 80], [90, 100, 110, 120]]\n",
            "\n",
            "Flatten list:\n",
            "[0, 10, 20, 30, 40, 50, 60, 70, 80, 90, 100, 110, 120]\n"
          ],
          "name": "stdout"
        }
      ]
    },
    {
      "cell_type": "markdown",
      "metadata": {
        "id": "okpWvCCgtAGe",
        "colab_type": "text"
      },
      "source": [
        "**73, Viết chương trình Python để loại bỏ các bản sao liên tiếp (nối tiếp nhau) (các phần tử) của danh sách đã cho.**\n",
        "\n",
        "**Write a Python program to remove consecutive (following each other continuously) duplicates (elements) of a given list.**\n",
        "\n"
      ]
    },
    {
      "cell_type": "code",
      "metadata": {
        "id": "f7KbT6SxrFhj",
        "colab_type": "code",
        "colab": {
          "base_uri": "https://localhost:8080/",
          "height": 102
        },
        "outputId": "8645e412-6477-4aa6-bd89-fc9faf13bfe7"
      },
      "source": [
        "from itertools import groupby\n",
        "def compress(l_nums):\n",
        "    return [key for key, group in groupby(l_nums)] \n",
        "n_list = [0, 0, 1, 2, 3, 4, 4, 5, 6, 6, 6, 7, 8, 9, 4, 4 ]\n",
        "print(\"Original list:\") \n",
        "print(n_list)\n",
        "print(\"\\nAfter removing consecutive duplicates:\")\n",
        "print(compress(n_list)) "
      ],
      "execution_count": 105,
      "outputs": [
        {
          "output_type": "stream",
          "text": [
            "Original list:\n",
            "[0, 0, 1, 2, 3, 4, 4, 5, 6, 6, 6, 7, 8, 9, 4, 4]\n",
            "\n",
            "After removing consecutive duplicates:\n",
            "[0, 1, 2, 3, 4, 5, 6, 7, 8, 9, 4]\n"
          ],
          "name": "stdout"
        }
      ]
    },
    {
      "cell_type": "markdown",
      "metadata": {
        "id": "7fhkzYnCtK3A",
        "colab_type": "text"
      },
      "source": [
        "**74, Viết chương trình Python để đóng gói các bản sao liên tiếp của một thành phần danh sách đã cho vào danh sách phụ.**\n",
        "\n",
        "**Write a Python program to pack consecutive duplicates of a given list elements into sublists.**\n",
        "\n"
      ]
    },
    {
      "cell_type": "code",
      "metadata": {
        "id": "hIPHVe6QtFD2",
        "colab_type": "code",
        "colab": {
          "base_uri": "https://localhost:8080/",
          "height": 102
        },
        "outputId": "dcc3e73b-3467-4390-b3f5-b0c8c0546849"
      },
      "source": [
        "from itertools import groupby\n",
        "def pack_consecutive_duplicates(l_nums):\n",
        "    return [list(group) for key, group in groupby(l_nums)]\n",
        "n_list = [0, 0, 1, 2, 3, 4, 4, 5, 6, 6, 6, 7, 8, 9, 4, 4 ]\n",
        "print(\"Original list:\") \n",
        "print(n_list)\n",
        "print(\"\\nAfter packing consecutive duplicates of the said list elements into sublists:\")\n",
        "print(pack_consecutive_duplicates(n_list)) "
      ],
      "execution_count": 106,
      "outputs": [
        {
          "output_type": "stream",
          "text": [
            "Original list:\n",
            "[0, 0, 1, 2, 3, 4, 4, 5, 6, 6, 6, 7, 8, 9, 4, 4]\n",
            "\n",
            "After packing consecutive duplicates of the said list elements into sublists:\n",
            "[[0, 0], [1], [2], [3], [4, 4], [5], [6, 6, 6], [7], [8], [9], [4, 4]]\n"
          ],
          "name": "stdout"
        }
      ]
    },
    {
      "cell_type": "markdown",
      "metadata": {
        "id": "lkkPQBOltWNa",
        "colab_type": "text"
      },
      "source": [
        "**75, Viết chương trình Python để tạo danh sách phản ánh mã hóa độ dài chạy từ danh sách số nguyên đã cho hoặc danh sách ký tự đã cho.**"
      ]
    },
    {
      "cell_type": "code",
      "metadata": {
        "id": "QpKRhd1mtQ_G",
        "colab_type": "code",
        "colab": {
          "base_uri": "https://localhost:8080/",
          "height": 204
        },
        "outputId": "d66bb075-6494-4520-bc78-fba6af85cc53"
      },
      "source": [
        "from itertools import groupby\n",
        "def encode_list(s_list):\n",
        "    return [[len(list(group)), key] for key, group in groupby(s_list)]\n",
        "n_list = [1,1,2,3,4,4.3,5, 1]\n",
        "print(\"Original list:\") \n",
        "print(n_list)\n",
        "print(\"\\nList reflecting the run-length encoding from the said list:\")\n",
        "print(encode_list(n_list))\n",
        "n_list = 'automatically'\n",
        "print(\"\\nOriginal String:\") \n",
        "print(n_list)\n",
        "print(\"\\nList reflecting the run-length encoding from the said string:\")\n",
        "print(encode_list(n_list))"
      ],
      "execution_count": 107,
      "outputs": [
        {
          "output_type": "stream",
          "text": [
            "Original list:\n",
            "[1, 1, 2, 3, 4, 4.3, 5, 1]\n",
            "\n",
            "List reflecting the run-length encoding from the said list:\n",
            "[[2, 1], [1, 2], [1, 3], [1, 4], [1, 4.3], [1, 5], [1, 1]]\n",
            "\n",
            "Original String:\n",
            "automatically\n",
            "\n",
            "List reflecting the run-length encoding from the said string:\n",
            "[[1, 'a'], [1, 'u'], [1, 't'], [1, 'o'], [1, 'm'], [1, 'a'], [1, 't'], [1, 'i'], [1, 'c'], [1, 'a'], [2, 'l'], [1, 'y']]\n"
          ],
          "name": "stdout"
        }
      ]
    },
    {
      "cell_type": "markdown",
      "metadata": {
        "id": "yocDfEVutxak",
        "colab_type": "text"
      },
      "source": [
        "**76, Viết chương trình Python để tạo danh sách phản ánh mã hóa độ dài chạy đã sửa đổi từ danh sách số nguyên đã cho hoặc danh sách ký tự đã cho.**\n",
        "\n",
        "**Write a Python program to create a list reflecting the modified run-length encoding from a given list of integers or a given list of characters.**"
      ]
    },
    {
      "cell_type": "code",
      "metadata": {
        "id": "go1Jb4Lntah8",
        "colab_type": "code",
        "colab": {
          "base_uri": "https://localhost:8080/",
          "height": 204
        },
        "outputId": "dbb9105b-5456-44fb-83f3-21b8ff86a592"
      },
      "source": [
        "from itertools import groupby\n",
        "def modified_encode(alist):\n",
        "        def ctr_ele(el):\n",
        "            if len(el)>1: return [len(el), el[0]]\n",
        "            else: return el[0]\n",
        "        return [ctr_ele(list(group)) for key, group in groupby(alist)]\n",
        "\n",
        "n_list = [1,1,2,3,4,4,5, 1]\n",
        "print(\"Original list:\") \n",
        "print(n_list)\n",
        "print(\"\\nList reflecting the modified run-length encoding from the said list:\")\n",
        "print(modified_encode(n_list))\n",
        "\n",
        "n_list = 'aabcddddadnss'\n",
        "print(\"\\nOriginal String:\") \n",
        "print(n_list)\n",
        "print(\"\\nList reflecting the modified run-length encoding from the said string:\")\n",
        "print(modified_encode(n_list))"
      ],
      "execution_count": 108,
      "outputs": [
        {
          "output_type": "stream",
          "text": [
            "Original list:\n",
            "[1, 1, 2, 3, 4, 4, 5, 1]\n",
            "\n",
            "List reflecting the modified run-length encoding from the said list:\n",
            "[[2, 1], 2, 3, [2, 4], 5, 1]\n",
            "\n",
            "Original String:\n",
            "aabcddddadnss\n",
            "\n",
            "List reflecting the modified run-length encoding from the said string:\n",
            "[[2, 'a'], 'b', 'c', [4, 'd'], 'a', 'd', 'n', [2, 's']]\n"
          ],
          "name": "stdout"
        }
      ]
    },
    {
      "cell_type": "markdown",
      "metadata": {
        "id": "qdb2O12kuGTA",
        "colab_type": "text"
      },
      "source": [
        "**77, Viết chương trình Python để giải mã danh sách đã cho mã hóa độ dài chạy.**\n",
        "\n",
        "**Write a Python program to decode a run-length encoded given list.**\n",
        "\n"
      ]
    },
    {
      "cell_type": "code",
      "metadata": {
        "id": "Nh_jUE5Gt-i0",
        "colab_type": "code",
        "colab": {
          "base_uri": "https://localhost:8080/",
          "height": 102
        },
        "outputId": "49c9ea76-5a16-49b7-ef6e-9e8f5e4653f8"
      },
      "source": [
        "def decode(alist):\n",
        "    def aux(g):\n",
        "        if isinstance(g, list):\n",
        "            return [(g[1], range(g[0]))]\n",
        "        else:\n",
        "            return [(g, [0])]\n",
        "    return [x for g in alist for x, R in aux(g) for i in R]\n",
        "n_list = [[2, 1], 2, 3, [2, 4], 5, 1]\n",
        "print(\"Original encoded list:\") \n",
        "print(n_list)\n",
        "print(\"\\nDecode a run-length encoded said list:\")\n",
        "print(decode(n_list))"
      ],
      "execution_count": 109,
      "outputs": [
        {
          "output_type": "stream",
          "text": [
            "Original encoded list:\n",
            "[[2, 1], 2, 3, [2, 4], 5, 1]\n",
            "\n",
            "Decode a run-length encoded said list:\n",
            "[1, 1, 2, 3, 4, 4, 5, 1]\n"
          ],
          "name": "stdout"
        }
      ]
    },
    {
      "cell_type": "markdown",
      "metadata": {
        "id": "ag2_3JlYuTgl",
        "colab_type": "text"
      },
      "source": [
        "**78, Viết chương trình Python để chia một danh sách đã cho thành hai phần trong đó độ dài của phần đầu tiên của danh sách được đưa ra.**\n",
        "\n",
        "**Write a Python program to split a given list into two parts where the length of the first part of the list is given.**\n",
        "\n"
      ]
    },
    {
      "cell_type": "code",
      "metadata": {
        "id": "L2zN33h5uKr0",
        "colab_type": "code",
        "colab": {
          "base_uri": "https://localhost:8080/",
          "height": 136
        },
        "outputId": "ca712eca-2a02-436c-8007-320c5b9fd652"
      },
      "source": [
        "def split_two_parts(n_list, L):\n",
        "    return n_list[:L], n_list[L:]\n",
        "n_list = [1,1,2,3,4,4,5, 1]\n",
        "print(\"Original list:\") \n",
        "print(n_list)\n",
        "first_list_length = 3\n",
        "print(\"\\nLength of the first part of the list:\",first_list_length)\n",
        "print(\"\\nSplited the said list into two parts:\")\n",
        "print(split_two_parts(n_list, first_list_length))"
      ],
      "execution_count": 110,
      "outputs": [
        {
          "output_type": "stream",
          "text": [
            "Original list:\n",
            "[1, 1, 2, 3, 4, 4, 5, 1]\n",
            "\n",
            "Length of the first part of the list: 3\n",
            "\n",
            "Splited the said list into two parts:\n",
            "([1, 1, 2], [3, 4, 4, 5, 1])\n"
          ],
          "name": "stdout"
        }
      ]
    },
    {
      "cell_type": "markdown",
      "metadata": {
        "id": "fM_Us9XAujqs",
        "colab_type": "text"
      },
      "source": [
        "**79, Viết chương trình Python để xóa phần tử K'th khỏi danh sách đã cho, in danh sách mới.**\n",
        "\n",
        "**Write a Python program to remove the K'th element from a given list, print the new list.**\n",
        "\n",
        "\n"
      ]
    },
    {
      "cell_type": "code",
      "metadata": {
        "id": "Z_l5ghmeuXbE",
        "colab_type": "code",
        "colab": {
          "base_uri": "https://localhost:8080/",
          "height": 102
        },
        "outputId": "4aa02b8e-cd72-441c-ad0a-a2918a38a9e5"
      },
      "source": [
        "def remove_kth_element(n_list, L):\n",
        "    return  n_list[:L-1] + n_list[L:]\n",
        "\n",
        "n_list = [1,1,2,3,4,4,5,1]\n",
        "print(\"Original list:\") \n",
        "print(n_list)\n",
        "kth_position = 3\n",
        "result = remove_kth_element(n_list, kth_position)\n",
        "print(\"\\nAfter removing an element at the kth position of the said list:\")\n",
        "print(result)\n"
      ],
      "execution_count": 111,
      "outputs": [
        {
          "output_type": "stream",
          "text": [
            "Original list:\n",
            "[1, 1, 2, 3, 4, 4, 5, 1]\n",
            "\n",
            "After removing an element at the kth position of the said list:\n",
            "[1, 1, 3, 4, 4, 5, 1]\n"
          ],
          "name": "stdout"
        }
      ]
    },
    {
      "cell_type": "markdown",
      "metadata": {
        "id": "-v8pKLgBuy5P",
        "colab_type": "text"
      },
      "source": [
        "**80, Viết chương trình Python để trích xuất một số phần tử được chọn ngẫu nhiên từ danh sách đã cho..**\n",
        "\n",
        "**Write a Python program to extract a given number of randomly selected elements from a given list.**\n",
        "\n"
      ]
    },
    {
      "cell_type": "code",
      "metadata": {
        "id": "Zyt7sXQlupSl",
        "colab_type": "code",
        "colab": {
          "base_uri": "https://localhost:8080/",
          "height": 102
        },
        "outputId": "ccb9151a-b7f6-4a22-f090-3de049bd5fd8"
      },
      "source": [
        "import random\n",
        "def random_select_nums(n_list, n):\n",
        "        return random.sample(n_list, n)\n",
        "n_list = [1,1,2,3,4,4,5,1]\n",
        "print(\"Original list:\") \n",
        "print(n_list)\n",
        "selec_nums = 3\n",
        "result = random_select_nums(n_list, selec_nums)\n",
        "print(\"\\nSelected 3 random numbers of the above list:\")\n",
        "print(result) \n"
      ],
      "execution_count": 114,
      "outputs": [
        {
          "output_type": "stream",
          "text": [
            "Original list:\n",
            "[1, 1, 2, 3, 4, 4, 5, 1]\n",
            "\n",
            "Selected 3 random numbers of the above list:\n",
            "[3, 1, 5]\n"
          ],
          "name": "stdout"
        }
      ]
    },
    {
      "cell_type": "markdown",
      "metadata": {
        "id": "ZzZ31RpOvaRl",
        "colab_type": "text"
      },
      "source": [
        "**81, Viết chương trình Python để tạo ra sự kết hợp của n đối tượng riêng biệt được lấy từ các thành phần của danh sách đã cho.**\n",
        "\n",
        "**Write a Python program to generate the combinations of n distinct objects taken from the elements of a given list.**\n",
        "\n"
      ]
    },
    {
      "cell_type": "code",
      "metadata": {
        "id": "pCfXAJJpu3rZ",
        "colab_type": "code",
        "colab": {
          "base_uri": "https://localhost:8080/",
          "height": 697
        },
        "outputId": "26bf41d3-9ba8-4772-d595-a5d95ca12a6a"
      },
      "source": [
        "def combination(n, n_list):\n",
        "    if n<=0:\n",
        "        yield []\n",
        "        return\n",
        "    for i in range(len(n_list)):\n",
        "        c_num = n_list[i:i+1]\n",
        "        for a_num in combination(n-1, n_list[i+1:]):\n",
        "            yield c_num + a_num\n",
        "n_list = [1,2,3,4,5,6,7,8,9]\n",
        "print(\"Original list:\") \n",
        "print(n_list)\n",
        "n = 2\n",
        "result = combination(n, n_list)\n",
        "print(\"\\nCombinations of\",n,\"distinct objects:\")\n",
        "for e in result:\n",
        "     print(e)"
      ],
      "execution_count": 115,
      "outputs": [
        {
          "output_type": "stream",
          "text": [
            "Original list:\n",
            "[1, 2, 3, 4, 5, 6, 7, 8, 9]\n",
            "\n",
            "Combinations of 2 distinct objects:\n",
            "[1, 2]\n",
            "[1, 3]\n",
            "[1, 4]\n",
            "[1, 5]\n",
            "[1, 6]\n",
            "[1, 7]\n",
            "[1, 8]\n",
            "[1, 9]\n",
            "[2, 3]\n",
            "[2, 4]\n",
            "[2, 5]\n",
            "[2, 6]\n",
            "[2, 7]\n",
            "[2, 8]\n",
            "[2, 9]\n",
            "[3, 4]\n",
            "[3, 5]\n",
            "[3, 6]\n",
            "[3, 7]\n",
            "[3, 8]\n",
            "[3, 9]\n",
            "[4, 5]\n",
            "[4, 6]\n",
            "[4, 7]\n",
            "[4, 8]\n",
            "[4, 9]\n",
            "[5, 6]\n",
            "[5, 7]\n",
            "[5, 8]\n",
            "[5, 9]\n",
            "[6, 7]\n",
            "[6, 8]\n",
            "[6, 9]\n",
            "[7, 8]\n",
            "[7, 9]\n",
            "[8, 9]\n"
          ],
          "name": "stdout"
        }
      ]
    },
    {
      "cell_type": "markdown",
      "metadata": {
        "id": "431WC7wXvqSt",
        "colab_type": "text"
      },
      "source": [
        "# **List: Cheat Sheet**\n",
        "\n",
        "**Making a list:**\n",
        "\n",
        "\n",
        "`colors = ['Red', 'Blue', 'Green', 'Black', 'White']`\n",
        "\n",
        "**Accessing elements:**\n",
        "\n",
        "```\n",
        "Getting the first element\n",
        "\n",
        "first_col = colors[0]\n",
        "\n",
        "Getting the second element\n",
        "\n",
        "second_col = colors[1]\n",
        "\n",
        "Getting the last element\n",
        "\n",
        "newest_col = colors[-1]\n",
        "```\n",
        "\n",
        "**Modifying individual items:**\n",
        "\n",
        "\n",
        "```\n",
        "Changing an element\n",
        "\n",
        "colors[0] = 'Yellow'\n",
        "colors[-2] = 'Red'\n",
        "```\n",
        "\n",
        "\n",
        "**Adding elements:**\n",
        "\n",
        "\n",
        "```\n",
        "Adding an element to the end of the list\n",
        "\n",
        "colors.append('Orange')\n",
        "\n",
        "Starting with an empty list\n",
        "\n",
        "colors = []\n",
        "colors.append('Red')\n",
        "colors.append('Blue')\n",
        "colors.append('Green')\n",
        "\n",
        "Inserting elements at a particular position\n",
        "\n",
        "colors.insert(0, 'Violet')\n",
        "colors.insert(2, 'Purple')\n",
        "```\n",
        "\n",
        "**Removing elements:**\n",
        "\n",
        "\n",
        "\n",
        "```\n",
        "Deleting an element by its position\n",
        "\n",
        "del colors[-1]\n",
        "\n",
        "Removing an item by its value\n",
        "\n",
        "colors.remove('Green')\n",
        "```\n",
        "\n",
        "\n",
        "\n",
        "**Popping elements:**\n",
        "\n",
        "\n",
        "\n",
        "```\n",
        "Pop the last item from a list\n",
        "\n",
        "most_recent_col = colors.pop()\n",
        "print(most_recent_col)\n",
        "\n",
        "Pop the first item in a list\n",
        "\n",
        "first_col = colors.pop(0)\n",
        "print(first_col)\n",
        "```\n",
        "\n",
        "\n",
        "\n",
        "**List length:**\n",
        "\n",
        "\n",
        "\n",
        "```\n",
        "Find the length of a list\n",
        "\n",
        "num_colors = len(colors)\n",
        "print(\"We have \" + str(num_colors) + \" colors.\")\n",
        "```\n",
        "\n",
        "\n",
        "\n",
        "**Sorting a list:**\n",
        "\n",
        "\n",
        "\n",
        "```\n",
        "Sorting a list permanently\n",
        "\n",
        "colors.sort()\n",
        "\n",
        "Sorting a list permanently in reverse alphabetical order\n",
        "\n",
        "colors.sort(reverse=True)\n",
        "\n",
        "Sorting a list temporarily\n",
        "\n",
        "print(sorted(colors))\n",
        "print(sorted(colors, reverse=True))\n",
        "\n",
        "Reversing the order of a list\n",
        "\n",
        "colors.reverse()\n",
        "```\n",
        "\n",
        "\n",
        "\n",
        "**Looping through a list:**\n",
        "\n",
        "\n",
        "\n",
        "```\n",
        "Printing all items in a list\n",
        "\n",
        "for col in colors:\n",
        " print(col)\n",
        "\n",
        "Printing a message for each item, and a separate message afterwards\n",
        "\n",
        "for col in colors:\n",
        " print(\"Welcome, \" + col + \"!\")\n",
        "print(\"Welcome, we're glad to see you all!\")\n",
        "```\n",
        "\n",
        "\n",
        "\n",
        "**The range() function:**\n",
        "\n",
        "\n",
        "\n",
        "```\n",
        "Printing the numbers 0 to 2000\n",
        "\n",
        "for num in range(2001):\n",
        " print(num)\n",
        "\n",
        "Printing the numbers 1 to 2000\n",
        "\n",
        "for num in range(1, 2001):\n",
        " print(num)\n",
        "\n",
        "Making a list of numbers from 1 to a million\n",
        "\n",
        "nums = list(range(1, 1000001))\n",
        "```\n",
        "\n",
        "\n",
        "\n",
        "**Simple statistics:**\n",
        "\n",
        "\n",
        "\n",
        "```\n",
        "Finding the minimum value in a list\n",
        "\n",
        "nums = [23, 22, 44, 17, 77, 55, 1, 65, 82, 2]\n",
        "num_min = min(nums)\n",
        "\n",
        "Finding the maximum value\n",
        "\n",
        "nums = [23, 22, 44, 17, 77, 55, 1, 65, 82, 2]\n",
        "num_max = max(nums)\n",
        "\n",
        "Finding the sum of all numbers\n",
        "\n",
        "nums = [23, 22, 44, 17, 77, 55, 1, 65, 82, 2]\n",
        "total_num = sum(nums)\n",
        "```\n",
        "\n",
        "\n",
        "\n",
        "**Slicing a list:**\n",
        "\n",
        "\n",
        "\n",
        "```\n",
        "Getting the first three items\n",
        "\n",
        "colors = ['Red', 'Blue', 'Green', 'Black', 'White']\n",
        "\n",
        "first_three = colors [:3]\n",
        "\n",
        "Getting the middle three items\n",
        "\n",
        "middle_three = colors[1:4]\n",
        "\n",
        "Getting the last three items\n",
        "\n",
        "last_three = colors[-3:]\n",
        "```\n",
        "\n",
        "\n",
        "\n",
        "**Copying a list:**\n",
        "\n",
        "\n",
        "\n",
        "```\n",
        "Making a copy of a list\n",
        "\n",
        "colors = ['Red', 'Blue', 'Green', 'Black', 'White']\n",
        "copy_of_colors = colors[:]\n",
        "```\n",
        "\n",
        "\n",
        "\n",
        "**List of Comprehensions:**\n",
        "\n",
        "\n",
        "\n",
        "```\n",
        "Using a loop to generate a list of square numbers\n",
        "squr = []\n",
        "\n",
        "for x in range(1, 11):\n",
        " sq = x**2\n",
        " squr.append(sq)\n",
        "Using a comprehension to generate a list of square numbers\n",
        "squr = [x**2 for x in range(1, 11)]\n",
        "Using a loop to convert a list of names to upper case\n",
        "colors = ['Red', 'Blue', 'Green', 'Black', 'White']\n",
        "upper_cols = []\n",
        "for cols in colors:\n",
        " upper_cols.append(cols.upper())\n",
        "Using a comprehension to convert a list of names to upper case\n",
        "colors = ['Red', 'Blue', 'Green', 'Black', 'White']\n",
        "upper_cols = [cols.upper() for cols in colors]\n",
        "```\n",
        "\n"
      ]
    },
    {
      "cell_type": "code",
      "metadata": {
        "id": "Tqi_yiucvfCN",
        "colab_type": "code",
        "colab": {}
      },
      "source": [
        ""
      ],
      "execution_count": 0,
      "outputs": []
    }
  ]
}