{
  "nbformat": 4,
  "nbformat_minor": 0,
  "metadata": {
    "colab": {
      "name": "Exercises2: 1-45.ipynb",
      "provenance": [],
      "collapsed_sections": [],
      "authorship_tag": "ABX9TyPZvSnNhACJ3dHsyOWlwLIM",
      "include_colab_link": true
    },
    "kernelspec": {
      "name": "python3",
      "display_name": "Python 3"
    }
  },
  "cells": [
    {
      "cell_type": "markdown",
      "metadata": {
        "id": "view-in-github",
        "colab_type": "text"
      },
      "source": [
        "<a href=\"https://colab.research.google.com/github/bimbeo/Web/blob/master/Exercises2_1_45.ipynb\" target=\"_parent\"><img src=\"https://colab.research.google.com/assets/colab-badge.svg\" alt=\"Open In Colab\"/></a>"
      ]
    },
    {
      "cell_type": "markdown",
      "metadata": {
        "id": "SzVpwI2nTgZ4",
        "colab_type": "text"
      },
      "source": [
        "**1, Viết hàm Python lấy một chuỗi số và xác định xem tất cả các số có khác nhau không.**\n",
        "\n",
        "**Write a Python function that takes a sequence of numbers and determines whether all the numbers are different from each other.**\n",
        "\n",
        "![alt text](https://www.w3resource.com/w3r_images/python-basic-1-image-exercise-1.png)"
      ]
    },
    {
      "cell_type": "code",
      "metadata": {
        "id": "ue4i9hJbTMcb",
        "colab_type": "code",
        "outputId": "d124eede-9e5a-4d5e-ec18-3c76503ce706",
        "colab": {
          "base_uri": "https://localhost:8080/",
          "height": 51
        }
      },
      "source": [
        "def test_distinct(data):\n",
        "  if len(data) == (len(set(data))): # ép kiểu data về set, set là tập những số không trùng nhau. Nên nếu đồ dài list = set thì không có sô nào trùng nhau\n",
        "    return True                     \n",
        "  else:\n",
        "    return False\n",
        "print(test_distinct([1,5,7,9]))\n",
        "print(test_distinct([2,4,5,5,7,9]))"
      ],
      "execution_count": 0,
      "outputs": [
        {
          "output_type": "stream",
          "text": [
            "True\n",
            "False\n"
          ],
          "name": "stdout"
        }
      ]
    },
    {
      "cell_type": "markdown",
      "metadata": {
        "id": "sV4Y5vugUk_I",
        "colab_type": "text"
      },
      "source": [
        "**2, Viết chương trình Python để tạo tất cả các chuỗi có thể bằng cách sử dụng 'a', 'e', 'i', 'o', 'u'. Sử dụng các ký tự chính xác một lần.**\n",
        "\n",
        "**Write a Python program to create all possible strings by using 'a', 'e', 'i', 'o', 'u'. Use the characters exactly once.**\n",
        "\n",
        "![alt text](https://www.w3resource.com/w3r_images/python-basic-1-image-exercise-2.png)"
      ]
    },
    {
      "cell_type": "code",
      "metadata": {
        "id": "ePZxMpkiTSsB",
        "colab_type": "code",
        "outputId": "28e4778f-0bda-4330-e0b0-831cc117f6f5",
        "colab": {
          "base_uri": "https://localhost:8080/",
          "height": 34
        }
      },
      "source": [
        "import random\n",
        "char_list = ['a', 'e', 'i', 'o', 'u']\n",
        "random.shuffle(char_list)               # hàm đổi số random từ những phần tử trong list, đảo thứ thự trong list theo thứ tự random\n",
        "print(''.join(char_list))               # biến 1 list thành chuỗi, không cách nhau. In ra kết quả"
      ],
      "execution_count": 0,
      "outputs": [
        {
          "output_type": "stream",
          "text": [
            "oiuae\n"
          ],
          "name": "stdout"
        }
      ]
    },
    {
      "cell_type": "markdown",
      "metadata": {
        "id": "XTOCcA4jVelX",
        "colab_type": "text"
      },
      "source": [
        "**3, Viết chương trình Python để xóa và in mỗi số thứ ba từ danh sách các số cho đến khi danh sách trống.**\n",
        "\n",
        "**Write a Python program to remove and print every third number from a list of numbers until the list becomes empty.**\n",
        "\n",
        "![alt text](https://www.w3resource.com/w3r_images/python-basic-1-image-exercise-3.png)"
      ]
    },
    {
      "cell_type": "code",
      "metadata": {
        "id": "qPApvmStU_on",
        "colab_type": "code",
        "outputId": "5e17e036-5017-436e-826d-6418de57be64",
        "colab": {
          "base_uri": "https://localhost:8080/",
          "height": 170
        }
      },
      "source": [
        "def remove_nums(int_list):\n",
        "  position = 3 - 1                      # tạo 1 biến position = 2\n",
        "  idx = 0                               # tạo 1 biến idx = 0\n",
        "  len_list = (len(int_list))            # tạo 1 biến len_list gán giá trị = độ dài của list truyền vào\n",
        "  while len_list > 0:                   # vòng lặp while, kết thúc khi lặp đủ độ dài của list truyền vào, len_list = 0\n",
        "    idx = (position + idx) % len_list   # cập nhật idx tìm vị trí thứ 3 mới, với biểu thức chia lấy phần dư, phần dư tìm được index ứng vào vị trí cần xóa trong list\n",
        "    print(int_list.pop(idx))            # hàm pop, bỏ phần tử thứ(idx) ra khỏi list, và in phần tử đó ra\n",
        "    len_list -= 1                       # giảm len_list đi 1, vì nếu list đã giảm đi rồi, nên phải nếu không sẽ vượt quá phạm vi idx\n",
        "nums = [10,20,30,40,50,60,70,80,90]\n",
        "remove_nums(nums)"
      ],
      "execution_count": 0,
      "outputs": [
        {
          "output_type": "stream",
          "text": [
            "30\n",
            "60\n",
            "90\n",
            "40\n",
            "80\n",
            "50\n",
            "20\n",
            "70\n",
            "10\n"
          ],
          "name": "stdout"
        }
      ]
    },
    {
      "cell_type": "markdown",
      "metadata": {
        "id": "9iOmmelBZdte",
        "colab_type": "text"
      },
      "source": [
        "**4, Viết chương trình Python để tìm các bộ ba duy nhất có ba phần tử cho tổng bằng 0 từ một mảng gồm n số nguyên.**\n",
        "\n",
        "**Write a Python program to find unique triplets whose three elements gives the sum of zero from an array of n integers.**\n",
        "\n",
        "![alt text](https://www.w3resource.com/w3r_images/python-basic-1-image-exercise-4.png)"
      ]
    },
    {
      "cell_type": "code",
      "metadata": {
        "id": "aSAkVZQlWXdw",
        "colab_type": "code",
        "outputId": "f352a814-46c9-4ddb-f226-072ffd810d92",
        "colab": {
          "base_uri": "https://localhost:8080/",
          "height": 68
        }
      },
      "source": [
        "def three_sum(nums):\n",
        "  result = []                                       # tạo 1 biến result = rỗng để lưu kết quả vào biến\n",
        "  nums.sort()                                       # sort(): sắp xếp lại list truyền vào, từ bé đến lớn. VD: [-6, -2, -1, 0, 0, 1, 2, 2, 4], độ dài = 9\n",
        "  for i in range(len(nums)-2):                      # tạo biến i, duyệt trong khoảng từ (0, độ dài -2) -> (0, 7), lặp lại 7 lần\n",
        "    if i> 0 and nums[i] == nums[i-1]:               # điều kiện i > 0, nums[i] = nums[i-1]\n",
        "      continue                                      \n",
        "    l, r = i+1, len(nums)-1                         # tạo 2 biến l, r. l là vị trí idx đằng sau i, r là vị trí cuối cùng. VD: l = 1, r = 8 và khởi tạo i = 0\n",
        "    while l < r:                                    # Vòng lặp While, kết thúc khi l = r\n",
        "      s = nums[i] + nums[l] + nums[r]               # tạo biến tính tổng s. VD: s = -4, s thay đổi được gán giá trị mới sau mỗi lần lặp\n",
        "      if s > 0:                                     # nums[0] + nums[l] + nums[8] (Cố định 2 vị trí đầu và cuối, tìm 1 vị trí còn lại thỏa mãn cho s = 0)\n",
        "        r -= 1\n",
        "      elif s < 0:                                   # s = -4. \n",
        "          l += 1                                    # l = 1 + 1 = 2, mục đích của l là duyệt từng phần phần tử, bắt đầu từ vị trí thứ 1 đến vị trí -2\n",
        "      else:                                         # cố định 2 vị trí 0 và -1. Để tính đến khi s = 0 thì chuyển điều kiện\n",
        "        # found three sum, tìm thấy 3 tổng          # 3 biến i, l ,r mới sau khi duyệt vòng lặp: i = 0, l = 6, r = 8\n",
        "        result.append((nums[i], nums[l], nums[r]))  # thêm phần tử vào list, phần tử ở đây là 1 tuple. VD: tuple(-6, 2, 4) tìm được\n",
        "        # remove duplicates, loại bỏ các bản sao\n",
        "        #while l < r and nums[l] == nums[l+1]:       # l = 6, r = 8 -> l < r, nums[6] = 2, nums[7] = 2 -> nums[6] = nums[7] thỏa mãn điều kiện\n",
        "          #l+=1                                      # l = 7\n",
        "         # while l < r and nums[r] == nums[r-1]:     # không thỏa mãn điều kiện while, bỏ qua vòng lặp while này\n",
        "           # r -= 1\n",
        "           # l += 1\n",
        "           # r -= 1\n",
        "        return result                                # trả về kết quả result, là 1 tuple 3 số đã tìm được ở trên\n",
        "\n",
        "x = [1, -6, 4, 2, -1, 2, 0, -2, 0 ]\n",
        "y = [2, 4, 2, -2, -2, 0, 5, 2, 3 ]\n",
        "z = [9, 2, 1, 2, 4, 5, -2, -4, -2, -1, 4]\n",
        "print(three_sum(x))\n",
        "print(three_sum(y))\n",
        "print(three_sum(z))"
      ],
      "execution_count": 0,
      "outputs": [
        {
          "output_type": "stream",
          "text": [
            "[(-6, 2, 4)]\n",
            "[(-2, -2, 4)]\n",
            "[(-4, -1, 5)]\n"
          ],
          "name": "stdout"
        }
      ]
    },
    {
      "cell_type": "markdown",
      "metadata": {
        "id": "AQe4Ph5fxCa9",
        "colab_type": "text"
      },
      "source": [
        "**5, Viết chương trình Python để tạo các tổ hợp gồm 3 chữ số.**\n",
        "\n",
        "**Write a Python program to create the combinations of 3 digit combo.**\n",
        "\n",
        "![alt text](https://www.w3resource.com/w3r_images/python-basic-1-image-exercise-5.svg)"
      ]
    },
    {
      "cell_type": "code",
      "metadata": {
        "id": "AoYrv5nzXB5i",
        "colab_type": "code",
        "outputId": "74afb80b-5f23-492a-8496-ecd9571d725b",
        "colab": {
          "base_uri": "https://localhost:8080/",
          "height": 88
        }
      },
      "source": [
        "numbers = []                 # Tạo biến number rỗng để thêm giá trị tìm được vào list number\n",
        "for num in range(1000):      # duyệt từ 1 đến 1000\n",
        "  num = str(num).zfill(3)    # num = num.zfill(3), zfill(3) là chiều rộn của num. num = 1 -> 001, num = 2 -> 002, num = 99 -> 099, num = 999 = 999\n",
        "print(num)                   # Vòng lặp for, duyệt được hết 1000 lần trong vòng lặp, biến num cuối cùng là 999, in ra biến num đó. Kết quả 999\n",
        "numbers.append(num)          # Thêm phần tử num = 999 vào list numbers\n",
        "print(numbers)\n",
        "\"\"\" zfill \n",
        "Trả về chuỗi số còn lại chứa đầy số không trong một chuỗi có chiều rộng. Một tiền tố dấu được xử lý chính xác. \n",
        "Chuỗi ban đầu được trả về nếu chiều rộng nhỏ hơn hoặc bằng len (s). \"\"\""
      ],
      "execution_count": 0,
      "outputs": [
        {
          "output_type": "stream",
          "text": [
            "999\n",
            "['999']\n"
          ],
          "name": "stdout"
        },
        {
          "output_type": "execute_result",
          "data": {
            "text/plain": [
              "' zfill \\nTrả về chuỗi số còn lại chứa đầy số không trong một chuỗi có chiều rộng. Một tiền tố dấu được xử lý chính xác. \\nChuỗi ban đầu được trả về nếu chiều rộng nhỏ hơn hoặc bằng len (s). '"
            ]
          },
          "metadata": {
            "tags": []
          },
          "execution_count": 1
        }
      ]
    },
    {
      "cell_type": "markdown",
      "metadata": {
        "id": "N-h5xYNxyzKy",
        "colab_type": "text"
      },
      "source": [
        "**6, Viết chương trình Python để in một văn bản dài, chuyển chuỗi thành danh sách và in tất cả các từ và tần số của chúng.**\n",
        "\n",
        "**Write a Python program to print a long text, convert the string to a list and print all the words and their frequencies.**\n",
        "\n",
        "![alt text](https://www.w3resource.com/w3r_images/python-basic-1-image-exercise-6.svg)\n",
        "\n"
      ]
    },
    {
      "cell_type": "code",
      "metadata": {
        "id": "xq5RkovPxRz8",
        "colab_type": "code",
        "outputId": "7292f988-0d07-46e7-d15f-3732bc72e0d8",
        "colab": {
          "base_uri": "https://localhost:8080/",
          "height": 1000
        }
      },
      "source": [
        "string_words = '''United States Declaration of Independence\n",
        "From Wikipedia, the free encyclopedia\n",
        "The United States Declaration of Independence is the statement\n",
        "adopted by the Second Continental Congress meeting at the Pennsylvania State\n",
        "House (Independence Hall) in Philadelphia on July 4, 1776, which announced\n",
        "that the thirteen American colonies, then at war with the Kingdom of Great\n",
        "Britain, regarded themselves as thirteen independent sovereign states, no longer\n",
        "under British rule. These states would found a new nation – the United States of\n",
        "America. John Adams was a leader in pushing for independence, which was passed\n",
        "on July 2 with no opposing vote cast. A committee of five had already drafted the\n",
        "formal declaration, to be ready when Congress voted on independence.\n",
        "\n",
        "John Adams persuaded the committee to select Thomas Jefferson to compose the original\n",
        "draft of the document, which Congress would edit to produce the final version.\n",
        "The Declaration was ultimately a formal explanation of why Congress had voted on July\n",
        "2 to declare independence from Great Britain, more than a year after the outbreak of\n",
        "the American Revolutionary War. The next day, Adams wrote to his wife Abigail: \"The\n",
        "Second Day of July 1776, will be the most memorable Epocha, in the History of America.\"\n",
        "But Independence Day is actually celebrated on July 4, the date that the Declaration of\n",
        "Independence was approved.\n",
        "\n",
        "After ratifying the text on July 4, Congress issued the Declaration of Independence in\n",
        "several forms. It was initially published as the printed Dunlap broadside that was widely\n",
        "distributed and read to the public. The source copy used for this printing has been lost,\n",
        "and may have been a copy in Thomas Jefferson's hand.[5] Jefferson's original draft, complete\n",
        "with changes made by John Adams and Benjamin Franklin, and Jefferson's notes of changes made\n",
        "by Congress, are preserved at the Library of Congress. The best-known version of the Declaration\n",
        "is a signed copy that is displayed at the National Archives in Washington, D.C., and which is\n",
        "popularly regarded as the official document. This engrossed copy was ordered by Congress on\n",
        "July 19 and signed primarily on August 2.\n",
        "\n",
        "The sources and interpretation of the Declaration have been the subject of much scholarly inquiry.\n",
        "The Declaration justified the independence of the United States by listing colonial grievances against\n",
        "King George III, and by asserting certain natural and legal rights, including a right of revolution.\n",
        "Having served its original purpose in announcing independence, references to the text of the\n",
        "Declaration were few in the following years. Abraham Lincoln made it the centerpiece of his rhetoric\n",
        "(as in the Gettysburg Address of 1863) and his policies. Since then, it has become a well-known statement\n",
        "on human rights, particularly its second sentence:\n",
        "\n",
        "We hold these truths to be self-evident, that all men are created equal, that they are endowed by their\n",
        "Creator with certain unalienable Rights, that among these are Life, Liberty and the pursuit of Happiness.\n",
        "\n",
        "This has been called \"one of the best-known sentences in the English language\", containing \"the most potent\n",
        "and consequential words in American history\". The passage came to represent a moral standard to which\n",
        "the United States should strive. This view was notably promoted by Abraham Lincoln, who considered the\n",
        "Declaration to be the foundation of his political philosophy and argued that it is a statement of principles\n",
        "through which the United States Constitution should be interpreted.\n",
        "\n",
        "The U.S. Declaration of Independence inspired many other similar documents in other countries, the first\n",
        "being the 1789 Declaration of Flanders issued during the Brabant Revolution in the Austrian Netherlands\n",
        "(modern-day Belgium). It also served as the primary model for numerous declarations of independence across\n",
        "Europe and Latin America, as well as Africa (Liberia) and Oceania (New Zealand) during the first half of the\n",
        "19th century.'''\n",
        "\n",
        "word_list = string_words.split()                      # chuyển chuỗi thành list, mục đích gán mỗi chữ trong string thành 1 list, có 1 vị trí index riêng\n",
        "\n",
        "word_freq = [word_list.count(n) for n in word_list]   # biểu thức đếm từng chữ xuất hiện trong list, for duyệt giá trị từng phần từ trong list.\n",
        "                                                      # In ra một list mới word_freq, in ra 1 list mới ghi số từ xuất hiện tướng ứng với mỗi index trong list\n",
        "print(\"String:\\n {} \\n\".format(string_words))         # in chuỗi văn bản dài\n",
        "print(\"List:\\n {} \\n\".format(str(word_list)))         # in list đã được chuyển từ chuỗi\n",
        "print(\"Pairs (Words and Frequencies:\\n {}\".format(str(list(zip(word_list, word_freq)))))  # in list với zip 2 list danh sách từ và list từ đếm được"
      ],
      "execution_count": 0,
      "outputs": [
        {
          "output_type": "stream",
          "text": [
            "String:\n",
            " United States Declaration of Independence\n",
            "From Wikipedia, the free encyclopedia\n",
            "The United States Declaration of Independence is the statement\n",
            "adopted by the Second Continental Congress meeting at the Pennsylvania State\n",
            "House (Independence Hall) in Philadelphia on July 4, 1776, which announced\n",
            "that the thirteen American colonies, then at war with the Kingdom of Great\n",
            "Britain, regarded themselves as thirteen independent sovereign states, no longer\n",
            "under British rule. These states would found a new nation – the United States of\n",
            "America. John Adams was a leader in pushing for independence, which was passed\n",
            "on July 2 with no opposing vote cast. A committee of five had already drafted the\n",
            "formal declaration, to be ready when Congress voted on independence.\n",
            "\n",
            "John Adams persuaded the committee to select Thomas Jefferson to compose the original\n",
            "draft of the document, which Congress would edit to produce the final version.\n",
            "The Declaration was ultimately a formal explanation of why Congress had voted on July\n",
            "2 to declare independence from Great Britain, more than a year after the outbreak of\n",
            "the American Revolutionary War. The next day, Adams wrote to his wife Abigail: \"The\n",
            "Second Day of July 1776, will be the most memorable Epocha, in the History of America.\"\n",
            "But Independence Day is actually celebrated on July 4, the date that the Declaration of\n",
            "Independence was approved.\n",
            "\n",
            "After ratifying the text on July 4, Congress issued the Declaration of Independence in\n",
            "several forms. It was initially published as the printed Dunlap broadside that was widely\n",
            "distributed and read to the public. The source copy used for this printing has been lost,\n",
            "and may have been a copy in Thomas Jefferson's hand.[5] Jefferson's original draft, complete\n",
            "with changes made by John Adams and Benjamin Franklin, and Jefferson's notes of changes made\n",
            "by Congress, are preserved at the Library of Congress. The best-known version of the Declaration\n",
            "is a signed copy that is displayed at the National Archives in Washington, D.C., and which is\n",
            "popularly regarded as the official document. This engrossed copy was ordered by Congress on\n",
            "July 19 and signed primarily on August 2.\n",
            "\n",
            "The sources and interpretation of the Declaration have been the subject of much scholarly inquiry.\n",
            "The Declaration justified the independence of the United States by listing colonial grievances against\n",
            "King George III, and by asserting certain natural and legal rights, including a right of revolution.\n",
            "Having served its original purpose in announcing independence, references to the text of the\n",
            "Declaration were few in the following years. Abraham Lincoln made it the centerpiece of his rhetoric\n",
            "(as in the Gettysburg Address of 1863) and his policies. Since then, it has become a well-known statement\n",
            "on human rights, particularly its second sentence:\n",
            "\n",
            "We hold these truths to be self-evident, that all men are created equal, that they are endowed by their\n",
            "Creator with certain unalienable Rights, that among these are Life, Liberty and the pursuit of Happiness.\n",
            "\n",
            "This has been called \"one of the best-known sentences in the English language\", containing \"the most potent\n",
            "and consequential words in American history\". The passage came to represent a moral standard to which\n",
            "the United States should strive. This view was notably promoted by Abraham Lincoln, who considered the\n",
            "Declaration to be the foundation of his political philosophy and argued that it is a statement of principles\n",
            "through which the United States Constitution should be interpreted.\n",
            "\n",
            "The U.S. Declaration of Independence inspired many other similar documents in other countries, the first\n",
            "being the 1789 Declaration of Flanders issued during the Brabant Revolution in the Austrian Netherlands\n",
            "(modern-day Belgium). It also served as the primary model for numerous declarations of independence across\n",
            "Europe and Latin America, as well as Africa (Liberia) and Oceania (New Zealand) during the first half of the\n",
            "19th century. \n",
            "\n",
            "List:\n",
            " ['United', 'States', 'Declaration', 'of', 'Independence', 'From', 'Wikipedia,', 'the', 'free', 'encyclopedia', 'The', 'United', 'States', 'Declaration', 'of', 'Independence', 'is', 'the', 'statement', 'adopted', 'by', 'the', 'Second', 'Continental', 'Congress', 'meeting', 'at', 'the', 'Pennsylvania', 'State', 'House', '(Independence', 'Hall)', 'in', 'Philadelphia', 'on', 'July', '4,', '1776,', 'which', 'announced', 'that', 'the', 'thirteen', 'American', 'colonies,', 'then', 'at', 'war', 'with', 'the', 'Kingdom', 'of', 'Great', 'Britain,', 'regarded', 'themselves', 'as', 'thirteen', 'independent', 'sovereign', 'states,', 'no', 'longer', 'under', 'British', 'rule.', 'These', 'states', 'would', 'found', 'a', 'new', 'nation', '–', 'the', 'United', 'States', 'of', 'America.', 'John', 'Adams', 'was', 'a', 'leader', 'in', 'pushing', 'for', 'independence,', 'which', 'was', 'passed', 'on', 'July', '2', 'with', 'no', 'opposing', 'vote', 'cast.', 'A', 'committee', 'of', 'five', 'had', 'already', 'drafted', 'the', 'formal', 'declaration,', 'to', 'be', 'ready', 'when', 'Congress', 'voted', 'on', 'independence.', 'John', 'Adams', 'persuaded', 'the', 'committee', 'to', 'select', 'Thomas', 'Jefferson', 'to', 'compose', 'the', 'original', 'draft', 'of', 'the', 'document,', 'which', 'Congress', 'would', 'edit', 'to', 'produce', 'the', 'final', 'version.', 'The', 'Declaration', 'was', 'ultimately', 'a', 'formal', 'explanation', 'of', 'why', 'Congress', 'had', 'voted', 'on', 'July', '2', 'to', 'declare', 'independence', 'from', 'Great', 'Britain,', 'more', 'than', 'a', 'year', 'after', 'the', 'outbreak', 'of', 'the', 'American', 'Revolutionary', 'War.', 'The', 'next', 'day,', 'Adams', 'wrote', 'to', 'his', 'wife', 'Abigail:', '\"The', 'Second', 'Day', 'of', 'July', '1776,', 'will', 'be', 'the', 'most', 'memorable', 'Epocha,', 'in', 'the', 'History', 'of', 'America.\"', 'But', 'Independence', 'Day', 'is', 'actually', 'celebrated', 'on', 'July', '4,', 'the', 'date', 'that', 'the', 'Declaration', 'of', 'Independence', 'was', 'approved.', 'After', 'ratifying', 'the', 'text', 'on', 'July', '4,', 'Congress', 'issued', 'the', 'Declaration', 'of', 'Independence', 'in', 'several', 'forms.', 'It', 'was', 'initially', 'published', 'as', 'the', 'printed', 'Dunlap', 'broadside', 'that', 'was', 'widely', 'distributed', 'and', 'read', 'to', 'the', 'public.', 'The', 'source', 'copy', 'used', 'for', 'this', 'printing', 'has', 'been', 'lost,', 'and', 'may', 'have', 'been', 'a', 'copy', 'in', 'Thomas', \"Jefferson's\", 'hand.[5]', \"Jefferson's\", 'original', 'draft,', 'complete', 'with', 'changes', 'made', 'by', 'John', 'Adams', 'and', 'Benjamin', 'Franklin,', 'and', \"Jefferson's\", 'notes', 'of', 'changes', 'made', 'by', 'Congress,', 'are', 'preserved', 'at', 'the', 'Library', 'of', 'Congress.', 'The', 'best-known', 'version', 'of', 'the', 'Declaration', 'is', 'a', 'signed', 'copy', 'that', 'is', 'displayed', 'at', 'the', 'National', 'Archives', 'in', 'Washington,', 'D.C.,', 'and', 'which', 'is', 'popularly', 'regarded', 'as', 'the', 'official', 'document.', 'This', 'engrossed', 'copy', 'was', 'ordered', 'by', 'Congress', 'on', 'July', '19', 'and', 'signed', 'primarily', 'on', 'August', '2.', 'The', 'sources', 'and', 'interpretation', 'of', 'the', 'Declaration', 'have', 'been', 'the', 'subject', 'of', 'much', 'scholarly', 'inquiry.', 'The', 'Declaration', 'justified', 'the', 'independence', 'of', 'the', 'United', 'States', 'by', 'listing', 'colonial', 'grievances', 'against', 'King', 'George', 'III,', 'and', 'by', 'asserting', 'certain', 'natural', 'and', 'legal', 'rights,', 'including', 'a', 'right', 'of', 'revolution.', 'Having', 'served', 'its', 'original', 'purpose', 'in', 'announcing', 'independence,', 'references', 'to', 'the', 'text', 'of', 'the', 'Declaration', 'were', 'few', 'in', 'the', 'following', 'years.', 'Abraham', 'Lincoln', 'made', 'it', 'the', 'centerpiece', 'of', 'his', 'rhetoric', '(as', 'in', 'the', 'Gettysburg', 'Address', 'of', '1863)', 'and', 'his', 'policies.', 'Since', 'then,', 'it', 'has', 'become', 'a', 'well-known', 'statement', 'on', 'human', 'rights,', 'particularly', 'its', 'second', 'sentence:', 'We', 'hold', 'these', 'truths', 'to', 'be', 'self-evident,', 'that', 'all', 'men', 'are', 'created', 'equal,', 'that', 'they', 'are', 'endowed', 'by', 'their', 'Creator', 'with', 'certain', 'unalienable', 'Rights,', 'that', 'among', 'these', 'are', 'Life,', 'Liberty', 'and', 'the', 'pursuit', 'of', 'Happiness.', 'This', 'has', 'been', 'called', '\"one', 'of', 'the', 'best-known', 'sentences', 'in', 'the', 'English', 'language\",', 'containing', '\"the', 'most', 'potent', 'and', 'consequential', 'words', 'in', 'American', 'history\".', 'The', 'passage', 'came', 'to', 'represent', 'a', 'moral', 'standard', 'to', 'which', 'the', 'United', 'States', 'should', 'strive.', 'This', 'view', 'was', 'notably', 'promoted', 'by', 'Abraham', 'Lincoln,', 'who', 'considered', 'the', 'Declaration', 'to', 'be', 'the', 'foundation', 'of', 'his', 'political', 'philosophy', 'and', 'argued', 'that', 'it', 'is', 'a', 'statement', 'of', 'principles', 'through', 'which', 'the', 'United', 'States', 'Constitution', 'should', 'be', 'interpreted.', 'The', 'U.S.', 'Declaration', 'of', 'Independence', 'inspired', 'many', 'other', 'similar', 'documents', 'in', 'other', 'countries,', 'the', 'first', 'being', 'the', '1789', 'Declaration', 'of', 'Flanders', 'issued', 'during', 'the', 'Brabant', 'Revolution', 'in', 'the', 'Austrian', 'Netherlands', '(modern-day', 'Belgium).', 'It', 'also', 'served', 'as', 'the', 'primary', 'model', 'for', 'numerous', 'declarations', 'of', 'independence', 'across', 'Europe', 'and', 'Latin', 'America,', 'as', 'well', 'as', 'Africa', '(Liberia)', 'and', 'Oceania', '(New', 'Zealand)', 'during', 'the', 'first', 'half', 'of', 'the', '19th', 'century.'] \n",
            "\n",
            "Pairs (Words and Frequencies:\n",
            " [('United', 6), ('States', 6), ('Declaration', 12), ('of', 30), ('Independence', 6), ('From', 1), ('Wikipedia,', 1), ('the', 49), ('free', 1), ('encyclopedia', 1), ('The', 9), ('United', 6), ('States', 6), ('Declaration', 12), ('of', 30), ('Independence', 6), ('is', 6), ('the', 49), ('statement', 3), ('adopted', 1), ('by', 8), ('the', 49), ('Second', 2), ('Continental', 1), ('Congress', 6), ('meeting', 1), ('at', 4), ('the', 49), ('Pennsylvania', 1), ('State', 1), ('House', 1), ('(Independence', 1), ('Hall)', 1), ('in', 13), ('Philadelphia', 1), ('on', 9), ('July', 7), ('4,', 3), ('1776,', 2), ('which', 6), ('announced', 1), ('that', 8), ('the', 49), ('thirteen', 2), ('American', 3), ('colonies,', 1), ('then', 1), ('at', 4), ('war', 1), ('with', 4), ('the', 49), ('Kingdom', 1), ('of', 30), ('Great', 2), ('Britain,', 2), ('regarded', 2), ('themselves', 1), ('as', 6), ('thirteen', 2), ('independent', 1), ('sovereign', 1), ('states,', 1), ('no', 2), ('longer', 1), ('under', 1), ('British', 1), ('rule.', 1), ('These', 1), ('states', 1), ('would', 2), ('found', 1), ('a', 10), ('new', 1), ('nation', 1), ('–', 1), ('the', 49), ('United', 6), ('States', 6), ('of', 30), ('America.', 1), ('John', 3), ('Adams', 4), ('was', 8), ('a', 10), ('leader', 1), ('in', 13), ('pushing', 1), ('for', 3), ('independence,', 2), ('which', 6), ('was', 8), ('passed', 1), ('on', 9), ('July', 7), ('2', 2), ('with', 4), ('no', 2), ('opposing', 1), ('vote', 1), ('cast.', 1), ('A', 1), ('committee', 2), ('of', 30), ('five', 1), ('had', 2), ('already', 1), ('drafted', 1), ('the', 49), ('formal', 2), ('declaration,', 1), ('to', 12), ('be', 5), ('ready', 1), ('when', 1), ('Congress', 6), ('voted', 2), ('on', 9), ('independence.', 1), ('John', 3), ('Adams', 4), ('persuaded', 1), ('the', 49), ('committee', 2), ('to', 12), ('select', 1), ('Thomas', 2), ('Jefferson', 1), ('to', 12), ('compose', 1), ('the', 49), ('original', 3), ('draft', 1), ('of', 30), ('the', 49), ('document,', 1), ('which', 6), ('Congress', 6), ('would', 2), ('edit', 1), ('to', 12), ('produce', 1), ('the', 49), ('final', 1), ('version.', 1), ('The', 9), ('Declaration', 12), ('was', 8), ('ultimately', 1), ('a', 10), ('formal', 2), ('explanation', 1), ('of', 30), ('why', 1), ('Congress', 6), ('had', 2), ('voted', 2), ('on', 9), ('July', 7), ('2', 2), ('to', 12), ('declare', 1), ('independence', 3), ('from', 1), ('Great', 2), ('Britain,', 2), ('more', 1), ('than', 1), ('a', 10), ('year', 1), ('after', 1), ('the', 49), ('outbreak', 1), ('of', 30), ('the', 49), ('American', 3), ('Revolutionary', 1), ('War.', 1), ('The', 9), ('next', 1), ('day,', 1), ('Adams', 4), ('wrote', 1), ('to', 12), ('his', 4), ('wife', 1), ('Abigail:', 1), ('\"The', 1), ('Second', 2), ('Day', 2), ('of', 30), ('July', 7), ('1776,', 2), ('will', 1), ('be', 5), ('the', 49), ('most', 2), ('memorable', 1), ('Epocha,', 1), ('in', 13), ('the', 49), ('History', 1), ('of', 30), ('America.\"', 1), ('But', 1), ('Independence', 6), ('Day', 2), ('is', 6), ('actually', 1), ('celebrated', 1), ('on', 9), ('July', 7), ('4,', 3), ('the', 49), ('date', 1), ('that', 8), ('the', 49), ('Declaration', 12), ('of', 30), ('Independence', 6), ('was', 8), ('approved.', 1), ('After', 1), ('ratifying', 1), ('the', 49), ('text', 2), ('on', 9), ('July', 7), ('4,', 3), ('Congress', 6), ('issued', 2), ('the', 49), ('Declaration', 12), ('of', 30), ('Independence', 6), ('in', 13), ('several', 1), ('forms.', 1), ('It', 2), ('was', 8), ('initially', 1), ('published', 1), ('as', 6), ('the', 49), ('printed', 1), ('Dunlap', 1), ('broadside', 1), ('that', 8), ('was', 8), ('widely', 1), ('distributed', 1), ('and', 15), ('read', 1), ('to', 12), ('the', 49), ('public.', 1), ('The', 9), ('source', 1), ('copy', 4), ('used', 1), ('for', 3), ('this', 1), ('printing', 1), ('has', 3), ('been', 4), ('lost,', 1), ('and', 15), ('may', 1), ('have', 2), ('been', 4), ('a', 10), ('copy', 4), ('in', 13), ('Thomas', 2), (\"Jefferson's\", 3), ('hand.[5]', 1), (\"Jefferson's\", 3), ('original', 3), ('draft,', 1), ('complete', 1), ('with', 4), ('changes', 2), ('made', 3), ('by', 8), ('John', 3), ('Adams', 4), ('and', 15), ('Benjamin', 1), ('Franklin,', 1), ('and', 15), (\"Jefferson's\", 3), ('notes', 1), ('of', 30), ('changes', 2), ('made', 3), ('by', 8), ('Congress,', 1), ('are', 4), ('preserved', 1), ('at', 4), ('the', 49), ('Library', 1), ('of', 30), ('Congress.', 1), ('The', 9), ('best-known', 2), ('version', 1), ('of', 30), ('the', 49), ('Declaration', 12), ('is', 6), ('a', 10), ('signed', 2), ('copy', 4), ('that', 8), ('is', 6), ('displayed', 1), ('at', 4), ('the', 49), ('National', 1), ('Archives', 1), ('in', 13), ('Washington,', 1), ('D.C.,', 1), ('and', 15), ('which', 6), ('is', 6), ('popularly', 1), ('regarded', 2), ('as', 6), ('the', 49), ('official', 1), ('document.', 1), ('This', 3), ('engrossed', 1), ('copy', 4), ('was', 8), ('ordered', 1), ('by', 8), ('Congress', 6), ('on', 9), ('July', 7), ('19', 1), ('and', 15), ('signed', 2), ('primarily', 1), ('on', 9), ('August', 1), ('2.', 1), ('The', 9), ('sources', 1), ('and', 15), ('interpretation', 1), ('of', 30), ('the', 49), ('Declaration', 12), ('have', 2), ('been', 4), ('the', 49), ('subject', 1), ('of', 30), ('much', 1), ('scholarly', 1), ('inquiry.', 1), ('The', 9), ('Declaration', 12), ('justified', 1), ('the', 49), ('independence', 3), ('of', 30), ('the', 49), ('United', 6), ('States', 6), ('by', 8), ('listing', 1), ('colonial', 1), ('grievances', 1), ('against', 1), ('King', 1), ('George', 1), ('III,', 1), ('and', 15), ('by', 8), ('asserting', 1), ('certain', 2), ('natural', 1), ('and', 15), ('legal', 1), ('rights,', 2), ('including', 1), ('a', 10), ('right', 1), ('of', 30), ('revolution.', 1), ('Having', 1), ('served', 2), ('its', 2), ('original', 3), ('purpose', 1), ('in', 13), ('announcing', 1), ('independence,', 2), ('references', 1), ('to', 12), ('the', 49), ('text', 2), ('of', 30), ('the', 49), ('Declaration', 12), ('were', 1), ('few', 1), ('in', 13), ('the', 49), ('following', 1), ('years.', 1), ('Abraham', 2), ('Lincoln', 1), ('made', 3), ('it', 3), ('the', 49), ('centerpiece', 1), ('of', 30), ('his', 4), ('rhetoric', 1), ('(as', 1), ('in', 13), ('the', 49), ('Gettysburg', 1), ('Address', 1), ('of', 30), ('1863)', 1), ('and', 15), ('his', 4), ('policies.', 1), ('Since', 1), ('then,', 1), ('it', 3), ('has', 3), ('become', 1), ('a', 10), ('well-known', 1), ('statement', 3), ('on', 9), ('human', 1), ('rights,', 2), ('particularly', 1), ('its', 2), ('second', 1), ('sentence:', 1), ('We', 1), ('hold', 1), ('these', 2), ('truths', 1), ('to', 12), ('be', 5), ('self-evident,', 1), ('that', 8), ('all', 1), ('men', 1), ('are', 4), ('created', 1), ('equal,', 1), ('that', 8), ('they', 1), ('are', 4), ('endowed', 1), ('by', 8), ('their', 1), ('Creator', 1), ('with', 4), ('certain', 2), ('unalienable', 1), ('Rights,', 1), ('that', 8), ('among', 1), ('these', 2), ('are', 4), ('Life,', 1), ('Liberty', 1), ('and', 15), ('the', 49), ('pursuit', 1), ('of', 30), ('Happiness.', 1), ('This', 3), ('has', 3), ('been', 4), ('called', 1), ('\"one', 1), ('of', 30), ('the', 49), ('best-known', 2), ('sentences', 1), ('in', 13), ('the', 49), ('English', 1), ('language\",', 1), ('containing', 1), ('\"the', 1), ('most', 2), ('potent', 1), ('and', 15), ('consequential', 1), ('words', 1), ('in', 13), ('American', 3), ('history\".', 1), ('The', 9), ('passage', 1), ('came', 1), ('to', 12), ('represent', 1), ('a', 10), ('moral', 1), ('standard', 1), ('to', 12), ('which', 6), ('the', 49), ('United', 6), ('States', 6), ('should', 2), ('strive.', 1), ('This', 3), ('view', 1), ('was', 8), ('notably', 1), ('promoted', 1), ('by', 8), ('Abraham', 2), ('Lincoln,', 1), ('who', 1), ('considered', 1), ('the', 49), ('Declaration', 12), ('to', 12), ('be', 5), ('the', 49), ('foundation', 1), ('of', 30), ('his', 4), ('political', 1), ('philosophy', 1), ('and', 15), ('argued', 1), ('that', 8), ('it', 3), ('is', 6), ('a', 10), ('statement', 3), ('of', 30), ('principles', 1), ('through', 1), ('which', 6), ('the', 49), ('United', 6), ('States', 6), ('Constitution', 1), ('should', 2), ('be', 5), ('interpreted.', 1), ('The', 9), ('U.S.', 1), ('Declaration', 12), ('of', 30), ('Independence', 6), ('inspired', 1), ('many', 1), ('other', 2), ('similar', 1), ('documents', 1), ('in', 13), ('other', 2), ('countries,', 1), ('the', 49), ('first', 2), ('being', 1), ('the', 49), ('1789', 1), ('Declaration', 12), ('of', 30), ('Flanders', 1), ('issued', 2), ('during', 2), ('the', 49), ('Brabant', 1), ('Revolution', 1), ('in', 13), ('the', 49), ('Austrian', 1), ('Netherlands', 1), ('(modern-day', 1), ('Belgium).', 1), ('It', 2), ('also', 1), ('served', 2), ('as', 6), ('the', 49), ('primary', 1), ('model', 1), ('for', 3), ('numerous', 1), ('declarations', 1), ('of', 30), ('independence', 3), ('across', 1), ('Europe', 1), ('and', 15), ('Latin', 1), ('America,', 1), ('as', 6), ('well', 1), ('as', 6), ('Africa', 1), ('(Liberia)', 1), ('and', 15), ('Oceania', 1), ('(New', 1), ('Zealand)', 1), ('during', 2), ('the', 49), ('first', 2), ('half', 1), ('of', 30), ('the', 49), ('19th', 1), ('century.', 1)]\n"
          ],
          "name": "stdout"
        }
      ]
    },
    {
      "cell_type": "markdown",
      "metadata": {
        "id": "DKd39Eg50ypp",
        "colab_type": "text"
      },
      "source": [
        "**7, Viết chương trình Python để đếm số lượng từng ký tự của tệp văn bản.**\n",
        "\n",
        "**Write a Python program to count the number of each character of a text file.**"
      ]
    },
    {
      "cell_type": "code",
      "metadata": {
        "id": "aN0qOgm8zJg0",
        "colab_type": "code",
        "colab": {}
      },
      "source": [
        "import collections                                    # Tương trụ bài 6, nhưng là đọc chuỗi từ file văn bản.\n",
        "import pprint\n",
        "file_input = input('File Name: ')                     # Nhập tên file\n",
        "with open(file_input, 'r') as info:                   # Tìm và mở file vừa nhập, gán file vừa nhập đó với tên info\n",
        "  count = collections.Counter(info.read().upper())    # Biến count, mục đích để bắt đầu đếm từ xuất hiện trong file\n",
        "  value = pprint.pformat(count)                       # Biến value, mục đích để định dạng lại biến count\n",
        "print(value)                                          # In ra dưới dạng là 1 dict, gồm key:values, key là ký tự, value là số lần xuất hiện đếm được\n",
        "\"\"\" File Name:  abc.txt       Bài này chưa có file để chạy nên in tạm kết quả mẫu\n",
        "Counter({' ': 93,\n",
        "         'E': 64,\n",
        "         'N': 45,\n",
        "         'A': 42,\n",
        "         'T': 40,\n",
        "         'I': 36,\n",
        "         'O': 31,\n",
        "         'R': 29,\n",
        "         'H': 25,\n",
        "         'D': 19,\n",
        "         'M': 17,\n",
        "         'Y': 17,\n",
        "         'L': 15,\n",
        "         'F': 15,\n",
        "         'U': 14,\n",
        "         'C': 13,\n",
        "         'G': 13,\n",
        "         'S': 12,\n",
        "         ',': 7,\n",
        "         'B': 6,\n",
        "         'W': 5,\n",
        "         '9': 5,\n",
        "         '.': 4,\n",
        "         'P': 4,\n",
        "         '1': 3,\n",
        "         '\\n': 2,\n",
        "         '0': 2,\n",
        "         '3': 2,\n",
        "         ':': 1,\n",
        "         '-': 1,\n",
        "         'K': 1,\n",
        "         '(': 1,\n",
        "         ')': 1,\n",
        "         'V': 1})\"\"\""
      ],
      "execution_count": 0,
      "outputs": []
    },
    {
      "cell_type": "markdown",
      "metadata": {
        "id": "w9RZ_PiZ1olm",
        "colab_type": "text"
      },
      "source": [
        "**8, Viết chương trình Python để lấy những câu chuyện hàng đầu từ tin tức của Google.**\n",
        "\n",
        "**Write a Python program to get the top stories from Google news.**\n",
        "\n"
      ]
    },
    {
      "cell_type": "code",
      "metadata": {
        "id": "o8UF7w_o0yMT",
        "colab_type": "code",
        "outputId": "f6d4916c-b694-48bc-a3c3-86e8e9633b86",
        "colab": {
          "base_uri": "https://localhost:8080/",
          "height": 1000
        }
      },
      "source": [
        "import bs4\n",
        "from bs4 import BeautifulSoup as soup\n",
        "from urllib.request import urlopen\n",
        "\n",
        "news_url=\"https://news.google.com/news/rss\"   # biến new_url được gán bởi đường dẫn link trang tin tức goolge\n",
        "Client=urlopen(news_url)                      # biến Client để mở link trang\n",
        "xml_page=Client.read()                        # biến xml_page để đọc link được mở từ biến Client\n",
        "Client.close()                                # đóng link của biến Client\n",
        "\n",
        "soup_page=soup(xml_page,\"xml\")\n",
        "news_list=soup_page.findAll(\"item\")\n",
        "# Print news title, url and publish date\n",
        "for news in news_list:      # Duyệt giá trị từng phần tử trong new_list\n",
        "  print(news.title.text)    # in ra tên tiêu đề của mỗi phần tử trong trang tin tức\n",
        "  print(news.link.text)     # in ra link của mỗi phần tử trong trang tin tức\n",
        "  print(news.pubDate.text)  # in ra ngày xuất bản của mỗi phần tử trong tin tức\n",
        "  print(\"-\"*60)             # in ra 1 dòng - gạch ngang để ngăn cách giữa mỗi tin"
      ],
      "execution_count": 0,
      "outputs": [
        {
          "output_type": "stream",
          "text": [
            "Mitt Romney calls Trump's IG firings 'a threat to accountable democracy' - CNN\n",
            "https://news.google.com/__i/rss/rd/articles/CBMiXWh0dHBzOi8vd3d3LmNubi5jb20vMjAyMC8wNS8xNi9wb2xpdGljcy9taXR0LXJvbW5leS10cnVtcC1pbnNwZWN0b3ItZ2VuZXJhbC1maXJpbmcvaW5kZXguaHRtbNIBYWh0dHBzOi8vYW1wLmNubi5jb20vY25uLzIwMjAvMDUvMTYvcG9saXRpY3MvbWl0dC1yb21uZXktdHJ1bXAtaW5zcGVjdG9yLWdlbmVyYWwtZmlyaW5nL2luZGV4Lmh0bWw?oc=5\n",
            "Sun, 17 May 2020 03:33:55 GMT\n",
            "------------------------------------------------------------\n",
            "Los-angeles-fire-explosion - The New York Times\n",
            "https://news.google.com/__i/rss/rd/articles/CBMiRWh0dHBzOi8vd3d3Lm55dGltZXMuY29tLzIwMjAvMDUvMTYvdXMvbG9zLWFuZ2VsZXMtZmlyZS1leHBsb3Npb24uaHRtbNIBSWh0dHBzOi8vd3d3Lm55dGltZXMuY29tLzIwMjAvMDUvMTYvdXMvbG9zLWFuZ2VsZXMtZmlyZS1leHBsb3Npb24uYW1wLmh0bWw?oc=5\n",
            "Sun, 17 May 2020 05:57:10 GMT\n",
            "------------------------------------------------------------\n",
            "Obama takes apparent dig at Trump's coronavirus response - Business Insider - Business Insider\n",
            "https://news.google.com/__i/rss/rd/articles/CBMiXmh0dHBzOi8vd3d3LmJ1c2luZXNzaW5zaWRlci5jb20vb2JhbWEtdGFrZXMtYXBwYXJlbnQtZGlnLWF0LXRydW1wcy1jb3JvbmF2aXJ1cy1yZXNwb25zZS0yMDIwLTXSAWJodHRwczovL3d3dy5idXNpbmVzc2luc2lkZXIuY29tL29iYW1hLXRha2VzLWFwcGFyZW50LWRpZy1hdC10cnVtcHMtY29yb25hdmlydXMtcmVzcG9uc2UtMjAyMC01P2FtcA?oc=5\n",
            "Sun, 17 May 2020 01:46:40 GMT\n",
            "------------------------------------------------------------\n",
            "Cuomo says NY can avoid coronavirus 'spike' — despite inevitable rise amid reopenings - New York Post \n",
            "https://news.google.com/__i/rss/rd/articles/CBMiVWh0dHBzOi8vbnlwb3N0LmNvbS8yMDIwLzA1LzE2L2N1b21vLXdhcm5zLW9mLWluZXZpdGFibGUtcmlzZS1pbi1jYXNlcy1hbWlkLXJlb3BlbmluZy_SAVlodHRwczovL255cG9zdC5jb20vMjAyMC8wNS8xNi9jdW9tby13YXJucy1vZi1pbmV2aXRhYmxlLXJpc2UtaW4tY2FzZXMtYW1pZC1yZW9wZW5pbmcvYW1wLw?oc=5\n",
            "Sat, 16 May 2020 20:03:32 GMT\n",
            "------------------------------------------------------------\n",
            "Tensions rise between the White House and CDC as Birx critiques virus tracking - CNN\n",
            "https://news.google.com/__i/rss/rd/articles/CBMiZGh0dHBzOi8vd3d3LmNubi5jb20vMjAyMC8wNS8xNi9wb2xpdGljcy93aGl0ZS1ob3VzZS1jZGMtdGVuc2lvbi1iaXJ4LWNvcm9uYXZpcnVzLXRyYWNraW5nL2luZGV4Lmh0bWzSAWhodHRwczovL2FtcC5jbm4uY29tL2Nubi8yMDIwLzA1LzE2L3BvbGl0aWNzL3doaXRlLWhvdXNlLWNkYy10ZW5zaW9uLWJpcngtY29yb25hdmlydXMtdHJhY2tpbmcvaW5kZXguaHRtbA?oc=5\n",
            "Sat, 16 May 2020 17:33:57 GMT\n",
            "------------------------------------------------------------\n",
            "Police officer told homeowner he could contact Ahmaud Arbery shooting suspect for help with potential trespassers, text message shows - CNN\n",
            "https://news.google.com/__i/rss/rd/articles/CBMiR2h0dHBzOi8vd3d3LmNubi5jb20vMjAyMC8wNS8xNi91cy9haG1hdWQtYXJiZXJ5LXRleHQtbWVzc2FnZS9pbmRleC5odG1s0gFLaHR0cHM6Ly9hbXAuY25uLmNvbS9jbm4vMjAyMC8wNS8xNi91cy9haG1hdWQtYXJiZXJ5LXRleHQtbWVzc2FnZS9pbmRleC5odG1s?oc=5\n",
            "Sat, 16 May 2020 23:14:45 GMT\n",
            "------------------------------------------------------------\n",
            "Tropical depression strengthens into Tropical Storm Arthur, could bring rough seas to N.J. - NJ.com\n",
            "https://news.google.com/__i/rss/rd/articles/CBMiggFodHRwczovL3d3dy5uai5jb20vd2VhdGhlci8yMDIwLzA1L3Ryb3BpY2FsLWRlcHJlc3Npb24tbGlrZWx5LXRvLXR1cm4taW50by10cm9waWNhbC1zdG9ybS1hcnRodXItY291bGQtYnJpbmctcm91Z2gtc2Vhcy10by1uai5odG1s0gGRAWh0dHBzOi8vd3d3Lm5qLmNvbS93ZWF0aGVyLzIwMjAvMDUvdHJvcGljYWwtZGVwcmVzc2lvbi1saWtlbHktdG8tdHVybi1pbnRvLXRyb3BpY2FsLXN0b3JtLWFydGh1ci1jb3VsZC1icmluZy1yb3VnaC1zZWFzLXRvLW5qLmh0bWw_b3V0cHV0VHlwZT1hbXA?oc=5\n",
            "Sun, 17 May 2020 04:13:00 GMT\n",
            "------------------------------------------------------------\n",
            "No love from mom for New York man busted over Hawaii quarantine violation - New York Post \n",
            "https://news.google.com/__i/rss/rd/articles/CBMiUGh0dHBzOi8vbnlwb3N0LmNvbS8yMDIwLzA1LzE2L2Jyb254LW1hbi1idXN0ZWQtb3Zlci1oYXdhaWktcXVhcmFudGluZS12aW9sYXRpb24v0gFUaHR0cHM6Ly9ueXBvc3QuY29tLzIwMjAvMDUvMTYvYnJvbngtbWFuLWJ1c3RlZC1vdmVyLWhhd2FpaS1xdWFyYW50aW5lLXZpb2xhdGlvbi9hbXAv?oc=5\n",
            "Sat, 16 May 2020 22:42:12 GMT\n",
            "------------------------------------------------------------\n",
            "Search for missing Idaho children reveals \"no sign of life, no sign of death\" - CBS News\n",
            "https://news.google.com/__i/rss/rd/articles/CBMiWmh0dHBzOi8vd3d3LmNic25ld3MuY29tL25ld3MvbWlzc2luZy1pZGFoby1jaGlsZHJlbi1sb3JpLXZhbGxvdy1kYXliZWxsLW5vLXNpZ25zLTQ4LWhvdXJzL9IBXmh0dHBzOi8vd3d3LmNic25ld3MuY29tL2FtcC9uZXdzL21pc3NpbmctaWRhaG8tY2hpbGRyZW4tbG9yaS12YWxsb3ctZGF5YmVsbC1uby1zaWducy00OC1ob3Vycy8?oc=5\n",
            "Sun, 17 May 2020 03:50:39 GMT\n",
            "------------------------------------------------------------\n",
            "Coronavirus relief: House’s new bill adds stimulus checks for unauthorized immigrants - Vox.com\n",
            "https://news.google.com/__i/rss/rd/articles/CBMiUWh0dHBzOi8vd3d3LnZveC5jb20vMjAyMC81LzE2LzIxMjYwOTA2L2hvdXNlLXN0aW11bHVzLWNoZWNrLWltbWlncmFudHMtaGVyb2VzLWFjdNIBXmh0dHBzOi8vd3d3LnZveC5jb20vcGxhdGZvcm0vYW1wLzIwMjAvNS8xNi8yMTI2MDkwNi9ob3VzZS1zdGltdWx1cy1jaGVjay1pbW1pZ3JhbnRzLWhlcm9lcy1hY3Q?oc=5\n",
            "Sat, 16 May 2020 17:53:11 GMT\n",
            "------------------------------------------------------------\n",
            "Coronavirus: Are Italians losing faith in the EU? - BBC News\n",
            "https://news.google.com/__i/rss/rd/articles/CBMiLmh0dHBzOi8vd3d3LmJiYy5jb20vbmV3cy93b3JsZC1ldXJvcGUtNTI2NjY4NzDSATJodHRwczovL3d3dy5iYmMuY29tL25ld3MvYW1wL3dvcmxkLWV1cm9wZS01MjY2Njg3MA?oc=5\n",
            "Sat, 16 May 2020 23:39:47 GMT\n",
            "------------------------------------------------------------\n",
            "Coronavirus live updates: India's cases top 90,000; Brazil's outbreak surpasses Spain and Italy - CNBC\n",
            "https://news.google.com/__i/rss/rd/articles/CBMiSWh0dHBzOi8vd3d3LmNuYmMuY29tLzIwMjAvMDUvMTcvY29yb25hdmlydXMtbGl2ZS11cGRhdGVzLWFzaWEtZXVyb3BlLmh0bWzSAU1odHRwczovL3d3dy5jbmJjLmNvbS9hbXAvMjAyMC8wNS8xNy9jb3JvbmF2aXJ1cy1saXZlLXVwZGF0ZXMtYXNpYS1ldXJvcGUuaHRtbA?oc=5\n",
            "Sun, 17 May 2020 07:49:41 GMT\n",
            "------------------------------------------------------------\n",
            "US on track to pull troops out of Afghanistan: Pentagon - Al Jazeera English\n",
            "https://news.google.com/__i/rss/rd/articles/CBMiYmh0dHBzOi8vd3d3LmFsamF6ZWVyYS5jb20vbmV3cy8yMDIwLzA1L3RyYWNrLXB1bGwtdHJvb3BzLWFmZ2hhbmlzdGFuLXBlbnRhZ29uLTIwMDUxNTE5MDU1MDI2OC5odG1s0gFmaHR0cHM6Ly93d3cuYWxqYXplZXJhLmNvbS9hbXAvbmV3cy8yMDIwLzA1L3RyYWNrLXB1bGwtdHJvb3BzLWFmZ2hhbmlzdGFuLXBlbnRhZ29uLTIwMDUxNTE5MDU1MDI2OC5odG1s?oc=5\n",
            "Fri, 15 May 2020 21:56:17 GMT\n",
            "------------------------------------------------------------\n",
            "New Zealand's Ardern turned away from cafe under coronavirus rules - Reuters\n",
            "https://news.google.com/__i/rss/rd/articles/CBMikAFodHRwczovL3d3dy5yZXV0ZXJzLmNvbS9hcnRpY2xlL3VzLWhlYWx0aC1jb3JvbmF2aXJ1cy1uZXd6ZWFsYW5kL25ldy16ZWFsYW5kcy1hcmRlcm4tdHVybmVkLWF3YXktZnJvbS1jYWZlLXVuZGVyLWNvcm9uYXZpcnVzLXJ1bGVzLWlkVVNLQk4yMlQwNEjSATRodHRwczovL21vYmlsZS5yZXV0ZXJzLmNvbS9hcnRpY2xlL2FtcC9pZFVTS0JOMjJUMDRI?oc=5\n",
            "Sun, 17 May 2020 07:56:06 GMT\n",
            "------------------------------------------------------------\n",
            "JCPenney Files For Bankruptcy, Other Stores Ending 'Hero Pay' | NBC Nightly News - NBC News\n",
            "https://news.google.com/__i/rss/rd/articles/CBMiK2h0dHBzOi8vd3d3LnlvdXR1YmUuY29tL3dhdGNoP3Y9MjJkRlJ2WkZIMWPSAQA?oc=5\n",
            "Sun, 17 May 2020 00:05:32 GMT\n",
            "------------------------------------------------------------\n",
            "Buffett Sells More Stocks, Including Goldman Sachs, With No ‘Elephant-Sized’ Acquisition On The Horizon - Forbes\n",
            "https://news.google.com/__i/rss/rd/articles/CBMieWh0dHBzOi8vd3d3LmZvcmJlcy5jb20vc2l0ZXMvc2VyZ2Vpa2xlYm5pa292LzIwMjAvMDUvMTYvYnVmZmV0dC1zZWxscy1zdG9ja3MtZ29sZG1hbi1zYWNocy1uby1lbGVwaGFudC1zaXplZC1hY3F1aXNpdGlvbi_SAX1odHRwczovL3d3dy5mb3JiZXMuY29tL3NpdGVzL3NlcmdlaWtsZWJuaWtvdi8yMDIwLzA1LzE2L2J1ZmZldHQtc2VsbHMtc3RvY2tzLWdvbGRtYW4tc2FjaHMtbm8tZWxlcGhhbnQtc2l6ZWQtYWNxdWlzaXRpb24vYW1wLw?oc=5\n",
            "Sat, 16 May 2020 19:17:14 GMT\n",
            "------------------------------------------------------------\n",
            "Is It Safe to Buy Airline Stocks Right Now? - The Motley Fool\n",
            "https://news.google.com/__i/rss/rd/articles/CBMiWWh0dHBzOi8vd3d3LmZvb2wuY29tL2ludmVzdGluZy8yMDIwLzA1LzE2L2lzLWl0LXNhZmUtdG8tYnV5LWFpcmxpbmUtc3RvY2tzLXJpZ2h0LW5vdy5hc3B40gFdaHR0cHM6Ly93d3cuZm9vbC5jb20vYW1wL2ludmVzdGluZy8yMDIwLzA1LzE2L2lzLWl0LXNhZmUtdG8tYnV5LWFpcmxpbmUtc3RvY2tzLXJpZ2h0LW5vdy5hc3B4?oc=5\n",
            "Sun, 17 May 2020 04:49:22 GMT\n",
            "------------------------------------------------------------\n",
            "Frustrated protesters outside Fremont Tesla factory want to see CEO Musk put behind bars - KTVU San Francisco\n",
            "https://news.google.com/__i/rss/rd/articles/CBMicmh0dHBzOi8vd3d3Lmt0dnUuY29tL25ld3MvZnJ1c3RyYXRlZC1wcm90ZXN0ZXJzLW91dHNpZGUtZnJlbW9udC10ZXNsYS1mYWN0b3J5LXdhbnQtdG8tc2VlLWNlby1tdXNrLXB1dC1iZWhpbmQtYmFyc9IBdmh0dHBzOi8vd3d3Lmt0dnUuY29tL25ld3MvZnJ1c3RyYXRlZC1wcm90ZXN0ZXJzLW91dHNpZGUtZnJlbW9udC10ZXNsYS1mYWN0b3J5LXdhbnQtdG8tc2VlLWNlby1tdXNrLXB1dC1iZWhpbmQtYmFycy5hbXA?oc=5\n",
            "Sun, 17 May 2020 02:28:25 GMT\n",
            "------------------------------------------------------------\n",
            "Edison Mail iOS bug showed messages intended for other people - Engadget\n",
            "https://news.google.com/__i/rss/rd/articles/CBMiTmh0dHBzOi8vd3d3LmVuZ2FkZ2V0LmNvbS9lZGlzb24tbWFpbC1idWctc2hvd2VkLW90aGVycy1tZXNzYWdlcy0wMzU1MTE2ODguaHRtbNIBUmh0dHBzOi8vd3d3LmVuZ2FkZ2V0LmNvbS9hbXAvZWRpc29uLW1haWwtYnVnLXNob3dlZC1vdGhlcnMtbWVzc2FnZXMtMDM1NTExNjg4Lmh0bWw?oc=5\n",
            "Sun, 17 May 2020 04:08:13 GMT\n",
            "------------------------------------------------------------\n",
            "Galaxy Z Flip: After 3 months, I can't stop using it - CNET\n",
            "https://news.google.com/__i/rss/rd/articles/CBMiX2h0dHBzOi8vd3d3LmNuZXQuY29tL25ld3MvZ2FsYXh5LXotZmxpcC1hZnRlci0zLW1vbnRocy1jYW50LXN0b3AtdXNpbmctc2Ftc3VuZ3MtZm9sZGFibGUtcGhvbmUv0gFqaHR0cHM6Ly93d3cuY25ldC5jb20vZ29vZ2xlLWFtcC9uZXdzL2dhbGF4eS16LWZsaXAtYWZ0ZXItMy1tb250aHMtY2FudC1zdG9wLXVzaW5nLXNhbXN1bmdzLWZvbGRhYmxlLXBob25lLw?oc=5\n",
            "Sun, 17 May 2020 04:05:53 GMT\n",
            "------------------------------------------------------------\n",
            "Facebook buys GIPHY for $400 million - PhoneArena\n",
            "https://news.google.com/__i/rss/rd/articles/CBMiVmh0dHBzOi8vd3d3LnBob25lYXJlbmEuY29tL25ld3MvZmFjZWJvb2stdG8tYnV5LWdpcGh5LWZvci00MDAtbWlsbGlvbi1kb2xsYXJzX2lkMTI0Njg30gEA?oc=5\n",
            "Sun, 17 May 2020 02:01:00 GMT\n",
            "------------------------------------------------------------\n",
            "Nintendo Switch Users Should Get This Soothing Free Animal Crossing Tetris Theme This Weekend - Lifehacker\n",
            "https://news.google.com/__i/rss/rd/articles/CBMiWWh0dHBzOi8vbGlmZWhhY2tlci5jb20vbmludGVuZG8tc3dpdGNoLXVzZXJzLXNob3VsZC1nZXQtdGhpcy1zb290aGluZy1mcmVlLWFuaS0xODQzNDg2Mzc40gFdaHR0cHM6Ly9saWZlaGFja2VyLmNvbS9uaW50ZW5kby1zd2l0Y2gtdXNlcnMtc2hvdWxkLWdldC10aGlzLXNvb3RoaW5nLWZyZWUtYW5pLTE4NDM0ODYzNzgvYW1w?oc=5\n",
            "Sat, 16 May 2020 15:24:57 GMT\n",
            "------------------------------------------------------------\n",
            "Fred Willard, ‘Best in Show’ and ‘A Mighty Wind’ Actor, Dead at 86 - Rolling Stone\n",
            "https://news.google.com/__i/rss/rd/articles/CBMiYWh0dHBzOi8vd3d3LnJvbGxpbmdzdG9uZS5jb20vbW92aWVzL21vdmllLW5ld3MvZnJlZC13aWxsYXJkLWJlc3QtaW4tc2hvdy1hY3Rvci1kZWFkLW9iaXQtMTAwMDk0Mi_SAWVodHRwczovL3d3dy5yb2xsaW5nc3RvbmUuY29tL21vdmllcy9tb3ZpZS1uZXdzL2ZyZWQtd2lsbGFyZC1iZXN0LWluLXNob3ctYWN0b3ItZGVhZC1vYml0LTEwMDA5NDIvYW1wLw?oc=5\n",
            "Sat, 16 May 2020 20:11:29 GMT\n",
            "------------------------------------------------------------\n",
            "Marc Maron 'leveled, heartbroken' over sudden death of girlfriend Lynn Shelton - Page Six\n",
            "https://news.google.com/__i/rss/rd/articles/CBMia2h0dHBzOi8vcGFnZXNpeC5jb20vMjAyMC8wNS8xNy9tYXJjLW1hcm9uLWxldmVsZWQtaGVhcnRicm9rZW4tb3Zlci1zdWRkZW4tZGVhdGgtb2YtZ2lybGZyaWVuZC1seW5uLXNoZWx0b24v0gFvaHR0cHM6Ly9wYWdlc2l4LmNvbS8yMDIwLzA1LzE3L21hcmMtbWFyb24tbGV2ZWxlZC1oZWFydGJyb2tlbi1vdmVyLXN1ZGRlbi1kZWF0aC1vZi1naXJsZnJpZW5kLWx5bm4tc2hlbHRvbi9hbXAv?oc=5\n",
            "Sun, 17 May 2020 06:52:51 GMT\n",
            "------------------------------------------------------------\n",
            "Phyllis George, former Kentucky first lady and a pioneer in sports broadcasting, dies - Lexington Herald Leader\n",
            "https://news.google.com/__i/rss/rd/articles/CBMiR2h0dHBzOi8vd3d3LmtlbnR1Y2t5LmNvbS9uZXdzL3BvbGl0aWNzLWdvdmVybm1lbnQvYXJ0aWNsZTI0MjEyNTEyNi5odG1s0gFHaHR0cHM6Ly9hbXAua2VudHVja3kuY29tL25ld3MvcG9saXRpY3MtZ292ZXJubWVudC9hcnRpY2xlMjQyMTI1MTI2Lmh0bWw?oc=5\n",
            "Sat, 16 May 2020 21:55:21 GMT\n",
            "------------------------------------------------------------\n",
            "Okay, So Here's Why Mary-Kate Olsen's Request for an Emergency Divorce from Olivier ﻿Sarkozy Was Denied - Cosmopolitan.com\n",
            "https://news.google.com/__i/rss/rd/articles/CBMieWh0dHBzOi8vd3d3LmNvc21vcG9saXRhbi5jb20vZW50ZXJ0YWlubWVudC9jZWxlYnMvYTMyNTI0NDY2L3doeS1tYXJ5LWthdGUtb2xzZW4tZGVuaWVkLWVtZXJnZW5jeS1kaXZvcmNlLW9saXZpZXItc2Fya296eS_SAXtodHRwczovL3d3dy5jb3Ntb3BvbGl0YW4uY29tL2VudGVydGFpbm1lbnQvY2VsZWJzL2FtcDMyNTI0NDY2L3doeS1tYXJ5LWthdGUtb2xzZW4tZGVuaWVkLWVtZXJnZW5jeS1kaXZvcmNlLW9saXZpZXItc2Fya296eS8?oc=5\n",
            "Sat, 16 May 2020 20:00:00 GMT\n",
            "------------------------------------------------------------\n",
            "“I am the One Who Won it For You”: When Michael Jordan Poked Fun of His Teammate Upon Winning the Title - Essentially Sports\n",
            "https://news.google.com/__i/rss/rd/articles/CBMikAFodHRwczovL3d3dy5lc3NlbnRpYWxseXNwb3J0cy5jb20vbmJhLW5ld3MtaS1hbS10aGUtb25lLXdoby13b24taXQtZm9yLXlvdS13aGVuLW1pY2hhZWwtam9yZGFuLXBva2VkLWZ1bi1vZi1oaXMtdGVhbW1hdGUtdXBvbi13aW5uaW5nLXRoZS10aXRsZS_SAZQBaHR0cHM6Ly93d3cuZXNzZW50aWFsbHlzcG9ydHMuY29tL25iYS1uZXdzLWktYW0tdGhlLW9uZS13aG8td29uLWl0LWZvci15b3Utd2hlbi1taWNoYWVsLWpvcmRhbi1wb2tlZC1mdW4tb2YtaGlzLXRlYW1tYXRlLXVwb24td2lubmluZy10aGUtdGl0bGUvYW1wLw?oc=5\n",
            "Sun, 17 May 2020 07:29:00 GMT\n",
            "------------------------------------------------------------\n",
            "How realistic is Bryce Harper's 2020 MLB season plan? We break down his ideas - ESPN\n",
            "https://news.google.com/__i/rss/rd/articles/CBMiaGh0dHBzOi8vd3d3LmVzcG4uY29tL21sYi9zdG9yeS9fL2lkLzI5MTgzNzAyL2hvdy1yZWFsaXN0aWMtYnJ5Y2UtaGFycGVyLTIwMjAtbWxiLXNlYXNvbi1wbGFuLWJyZWFrLWlkZWFz0gF1aHR0cHM6Ly93d3cuZXNwbi5jb20vbWxiL3N0b3J5L18vaWQvMjkxODM3MDIvaG93LXJlYWxpc3RpYy1icnljZS1oYXJwZXItMjAyMC1tbGItc2Vhc29uLXBsYW4tYnJlYWstaWRlYXM_cGxhdGZvcm09YW1w?oc=5\n",
            "Sat, 16 May 2020 20:04:46 GMT\n",
            "------------------------------------------------------------\n",
            "Autopsy report: Pilot in Kobe Bryant crash had no alcohol or drugs - The Mercury News\n",
            "https://news.google.com/__i/rss/rd/articles/CBMiaWh0dHBzOi8vd3d3Lm1lcmN1cnluZXdzLmNvbS8yMDIwLzA1LzE2L2F1dG9wc3ktcmVwb3J0LXBpbG90LWluLWtvYmUtYnJ5YW50LWNyYXNoLWhhZC1uby1hbGNvaG9sLW9yLWRydWdzL9IBbWh0dHBzOi8vd3d3Lm1lcmN1cnluZXdzLmNvbS8yMDIwLzA1LzE2L2F1dG9wc3ktcmVwb3J0LXBpbG90LWluLWtvYmUtYnJ5YW50LWNyYXNoLWhhZC1uby1hbGNvaG9sLW9yLWRydWdzL2FtcC8?oc=5\n",
            "Sat, 16 May 2020 16:46:35 GMT\n",
            "------------------------------------------------------------\n",
            "Chris Paul said players want to resume season amid coronavirus pandemic: 'We want to play bad' - Yahoo Sports\n",
            "https://news.google.com/__i/rss/rd/articles/CBMigQFodHRwczovL3Nwb3J0cy55YWhvby5jb20vY2hyaXMtcGF1bC1wbGF5ZXJzLWFzc29jaWF0aW9uLXdhbnRzLXJlc3VtZS1wbGF5LWNvcm9uYXZpcnVzLWNvdmlkMTktcGFuZGVtaWMtYWRhbS1zaWx2ZXItMjE0MzQ5OTI0Lmh0bWzSAYkBaHR0cHM6Ly9zcG9ydHMueWFob28uY29tL2FtcGh0bWwvY2hyaXMtcGF1bC1wbGF5ZXJzLWFzc29jaWF0aW9uLXdhbnRzLXJlc3VtZS1wbGF5LWNvcm9uYXZpcnVzLWNvdmlkMTktcGFuZGVtaWMtYWRhbS1zaWx2ZXItMjE0MzQ5OTI0Lmh0bWw?oc=5\n",
            "Fri, 15 May 2020 21:43:00 GMT\n",
            "------------------------------------------------------------\n",
            "NASA's Artemis Accords lay out some rules for joint space exploration - Engadget\n",
            "https://news.google.com/__i/rss/rd/articles/CBMiPGh0dHBzOi8vd3d3LmVuZ2FkZ2V0LmNvbS9uYXNhLWFydGVtaXMtYWNjb3Jkcy0yMDI3NDg5ODIuaHRtbNIBQGh0dHBzOi8vd3d3LmVuZ2FkZ2V0LmNvbS9hbXAvbmFzYS1hcnRlbWlzLWFjY29yZHMtMjAyNzQ4OTgyLmh0bWw?oc=5\n",
            "Sat, 16 May 2020 20:43:30 GMT\n",
            "------------------------------------------------------------\n",
            "Launch of secret X-37B space plane delayed by bad weather - Livescience.com\n",
            "https://news.google.com/__i/rss/rd/articles/CBMiTWh0dHBzOi8vd3d3LmxpdmVzY2llbmNlLmNvbS94LTM3Yi1zZWNyZXQtc3BhY2UtcGxhbmUtb3R2LTYtd2VhdGhlci1kZWxheS5odG1s0gFRaHR0cHM6Ly93d3cubGl2ZXNjaWVuY2UuY29tL2FtcC94LTM3Yi1zZWNyZXQtc3BhY2UtcGxhbmUtb3R2LTYtd2VhdGhlci1kZWxheS5odG1s?oc=5\n",
            "Sat, 16 May 2020 17:08:00 GMT\n",
            "------------------------------------------------------------\n",
            "Ohio guidelines for reopening swimming pools include reduced capacity, social distancing in the water - cleveland.com\n",
            "https://news.google.com/__i/rss/rd/articles/CBMilwFodHRwczovL3d3dy5jbGV2ZWxhbmQuY29tL2Nvcm9uYXZpcnVzLzIwMjAvMDUvb2hpby1ndWlkZWxpbmVzLWZvci1yZW9wZW5pbmctc3dpbW1pbmctcG9vbHMtaW5jbHVkZS1yZWR1Y2VkLWNhcGFjaXR5LXNvY2lhbC1kaXN0YW5jaW5nLWluLXRoZS13YXRlci5odG1s0gGmAWh0dHBzOi8vd3d3LmNsZXZlbGFuZC5jb20vY29yb25hdmlydXMvMjAyMC8wNS9vaGlvLWd1aWRlbGluZXMtZm9yLXJlb3BlbmluZy1zd2ltbWluZy1wb29scy1pbmNsdWRlLXJlZHVjZWQtY2FwYWNpdHktc29jaWFsLWRpc3RhbmNpbmctaW4tdGhlLXdhdGVyLmh0bWw_b3V0cHV0VHlwZT1hbXA?oc=5\n",
            "Sat, 16 May 2020 10:35:33 GMT\n",
            "------------------------------------------------------------\n",
            "Crew Dragon capsule meets Falcon 9 rocket inside launch pad hangar - Spaceflight Now\n",
            "https://news.google.com/__i/rss/rd/articles/CBMiaWh0dHBzOi8vc3BhY2VmbGlnaHRub3cuY29tLzIwMjAvMDUvMTYvY3Jldy1kcmFnb24tY2Fwc3VsZS1tZWV0cy1mYWxjb24tOS1yb2NrZXQtaW5zaWRlLWxhdW5jaC1wYWQtaGFuZ2FyL9IBAA?oc=5\n",
            "Sun, 17 May 2020 03:16:41 GMT\n",
            "------------------------------------------------------------\n",
            "Coronavirus: What is Kawasaki disease and its possible link with COVID-19 in children? - Euronews\n",
            "https://news.google.com/__i/rss/rd/articles/CBMieGh0dHBzOi8vd3d3LmV1cm9uZXdzLmNvbS8yMDIwLzA1LzE2L2Nvcm9uYXZpcnVzLXdoYXQtaXMta2F3YXNha2ktZGlzZWFzZS1hbmQtaXRzLXBvc3NpYmxlLWxpbmstd2l0aC1jb3ZpZC0xOS1pbi1jaGlsZHJlbtIBfGh0dHBzOi8vd3d3LmV1cm9uZXdzLmNvbS9hbXAvMjAyMC8wNS8xNi9jb3JvbmF2aXJ1cy13aGF0LWlzLWthd2FzYWtpLWRpc2Vhc2UtYW5kLWl0cy1wb3NzaWJsZS1saW5rLXdpdGgtY292aWQtMTktaW4tY2hpbGRyZW4?oc=5\n",
            "Sat, 16 May 2020 13:51:42 GMT\n",
            "------------------------------------------------------------\n",
            "Some studies raise concerns about sunscreen chemicals. But if you dig deeper, evidence is still lacking, experts say. - The Washington Post\n",
            "https://news.google.com/__i/rss/rd/articles/CBMi0gFodHRwczovL3d3dy53YXNoaW5ndG9ucG9zdC5jb20vaGVhbHRoL3NvbWUtc3R1ZGllcy1yYWlzZS1jb25jZXJucy1hYm91dC1zdW5zY3JlZW4tY2hlbWljYWxzLWJ1dC1pZi15b3UtZGlnLWRlZXBlci1ldmlkZW5jZS1pcy1zdGlsbC1sYWNraW5nLWV4cGVydHMtc2F5LzIwMjAvMDUvMTUvOTBjYTJmODQtN2U2OC0xMWVhLTgwMTMtMWI2ZGEwZTRhMmI3X3N0b3J5Lmh0bWzSAeEBaHR0cHM6Ly93d3cud2FzaGluZ3RvbnBvc3QuY29tL2hlYWx0aC9zb21lLXN0dWRpZXMtcmFpc2UtY29uY2VybnMtYWJvdXQtc3Vuc2NyZWVuLWNoZW1pY2Fscy1idXQtaWYteW91LWRpZy1kZWVwZXItZXZpZGVuY2UtaXMtc3RpbGwtbGFja2luZy1leHBlcnRzLXNheS8yMDIwLzA1LzE1LzkwY2EyZjg0LTdlNjgtMTFlYS04MDEzLTFiNmRhMGU0YTJiN19zdG9yeS5odG1sP291dHB1dFR5cGU9YW1w?oc=5\n",
            "Sat, 16 May 2020 18:01:18 GMT\n",
            "------------------------------------------------------------\n",
            "‘I Can’t Turn My Brain Off’: PTSD and Burnout Threaten Medical Workers - The New York Times\n",
            "https://news.google.com/__i/rss/rd/articles/CBMiT2h0dHBzOi8vd3d3Lm55dGltZXMuY29tLzIwMjAvMDUvMTYvaGVhbHRoL2Nvcm9uYXZpcnVzLXB0c2QtbWVkaWNhbC13b3JrZXJzLmh0bWzSAVNodHRwczovL3d3dy5ueXRpbWVzLmNvbS8yMDIwLzA1LzE2L2hlYWx0aC9jb3JvbmF2aXJ1cy1wdHNkLW1lZGljYWwtd29ya2Vycy5hbXAuaHRtbA?oc=5\n",
            "Sun, 17 May 2020 04:27:59 GMT\n",
            "------------------------------------------------------------\n",
            "Televisits may be here to stay for doctors, patients - San Antonio Express-News\n",
            "https://news.google.com/__i/rss/rd/articles/CBMiYWh0dHBzOi8vd3d3Lm15c2FuYW50b25pby5jb20vbmV3cy9hcnRpY2xlL1RlbGV2aXNpdHMtbWF5LWJlLWhlcmUtdG8tc3RheS1mb3ItZG9jdG9ycy0xNTI3NDk3NS5waHDSAQA?oc=5\n",
            "Sat, 16 May 2020 15:55:00 GMT\n",
            "------------------------------------------------------------\n"
          ],
          "name": "stdout"
        }
      ]
    },
    {
      "cell_type": "markdown",
      "metadata": {
        "id": "XAYwkDd82rVl",
        "colab_type": "text"
      },
      "source": [
        "**9, Viết chương trình Python để lấy danh sách các mô-đun Python được cài đặt cục bộ.**\n",
        "\n",
        "**Write a Python program to get a list of locally installed Python modules.**\n",
        "\n"
      ]
    },
    {
      "cell_type": "code",
      "metadata": {
        "id": "UFGMD9nO1uSf",
        "colab_type": "code",
        "outputId": "0e4e852a-78bf-4d08-fa91-40ead0c23a85",
        "colab": {
          "base_uri": "https://localhost:8080/",
          "height": 1000
        }
      },
      "source": [
        "import pkg_resources\n",
        "installed_packages = pkg_resources.working_set                    # tạo biến lấy tất cả module trong Python\n",
        "installed_packages_list = sorted([\"%s==%s\" % (i.key, i.version)   # tạo biến installed_list để sắp xếp, với biểu thức in theo mục đích key == version\n",
        "     for i in installed_packages])                                # và list mới duyệt và thêm giá trị từng phần tử trong install_packages\n",
        "for m in installed_packages_list:                                 # có được install_list rồi thì in từng phần tử trong list đó ra \n",
        "    print(m)"
      ],
      "execution_count": 0,
      "outputs": [
        {
          "output_type": "stream",
          "text": [
            "absl-py==0.9.0\n",
            "alabaster==0.7.12\n",
            "albumentations==0.1.12\n",
            "altair==4.1.0\n",
            "asgiref==3.2.7\n",
            "astor==0.8.1\n",
            "astropy==4.0.1.post1\n",
            "astunparse==1.6.3\n",
            "atari-py==0.2.6\n",
            "atomicwrites==1.4.0\n",
            "attrs==19.3.0\n",
            "audioread==2.1.8\n",
            "autograd==1.3\n",
            "babel==2.8.0\n",
            "backcall==0.1.0\n",
            "beautifulsoup4==4.6.3\n",
            "bleach==3.1.5\n",
            "blis==0.4.1\n",
            "bokeh==1.4.0\n",
            "boto3==1.13.4\n",
            "boto==2.49.0\n",
            "botocore==1.16.4\n",
            "bottleneck==1.3.2\n",
            "branca==0.4.1\n",
            "bs4==0.0.1\n",
            "cachecontrol==0.12.6\n",
            "cachetools==3.1.1\n",
            "catalogue==1.0.0\n",
            "certifi==2020.4.5.1\n",
            "cffi==1.14.0\n",
            "chainer==6.5.0\n",
            "chardet==3.0.4\n",
            "click==7.1.2\n",
            "cloudpickle==1.3.0\n",
            "cmake==3.12.0\n",
            "cmdstanpy==0.4.0\n",
            "colorlover==0.3.0\n",
            "community==1.0.0b1\n",
            "contextlib2==0.5.5\n",
            "convertdate==2.2.0\n",
            "coverage==3.7.1\n",
            "coveralls==0.5\n",
            "crcmod==1.7\n",
            "cufflinks==0.17.3\n",
            "cvxopt==1.2.5\n",
            "cvxpy==1.0.31\n",
            "cycler==0.10.0\n",
            "cymem==2.0.3\n",
            "cython==0.29.17\n",
            "daft==0.0.4\n",
            "dask==2.12.0\n",
            "dataclasses==0.7\n",
            "datascience==0.10.6\n",
            "decorator==4.4.2\n",
            "defusedxml==0.6.0\n",
            "descartes==1.1.0\n",
            "dill==0.3.1.1\n",
            "distributed==1.25.3\n",
            "django==3.0.6\n",
            "dlib==19.18.0\n",
            "docopt==0.6.2\n",
            "docutils==0.15.2\n",
            "dopamine-rl==1.0.5\n",
            "earthengine-api==0.1.221\n",
            "easydict==1.9\n",
            "ecos==2.0.7.post1\n",
            "editdistance==0.5.3\n",
            "en-core-web-sm==2.2.5\n",
            "entrypoints==0.3\n",
            "ephem==3.7.7.1\n",
            "et-xmlfile==1.0.1\n",
            "fa2==0.3.5\n",
            "fancyimpute==0.4.3\n",
            "fastai==1.0.61\n",
            "fastdtw==0.3.4\n",
            "fastprogress==0.2.3\n",
            "fastrlock==0.4\n",
            "fbprophet==0.6\n",
            "feather-format==0.4.1\n",
            "featuretools==0.4.1\n",
            "filelock==3.0.12\n",
            "firebase-admin==4.1.0\n",
            "fix-yahoo-finance==0.0.22\n",
            "flask==1.1.2\n",
            "folium==0.8.3\n",
            "fsspec==0.7.3\n",
            "future==0.16.0\n",
            "gast==0.3.3\n",
            "gdal==2.2.2\n",
            "gdown==3.6.4\n",
            "gensim==3.6.0\n",
            "geographiclib==1.50\n",
            "geopy==1.17.0\n",
            "gin-config==0.3.0\n",
            "glob2==0.7\n",
            "google-api-core==1.16.0\n",
            "google-api-python-client==1.7.12\n",
            "google-auth-httplib2==0.0.3\n",
            "google-auth-oauthlib==0.4.1\n",
            "google-auth==1.7.2\n",
            "google-cloud-bigquery==1.21.0\n",
            "google-cloud-core==1.0.3\n",
            "google-cloud-datastore==1.8.0\n",
            "google-cloud-firestore==1.6.2\n",
            "google-cloud-language==1.2.0\n",
            "google-cloud-storage==1.18.1\n",
            "google-cloud-translate==1.5.0\n",
            "google-colab==1.0.0\n",
            "google-pasta==0.2.0\n",
            "google-resumable-media==0.4.1\n",
            "google==2.0.3\n",
            "googleapis-common-protos==1.51.0\n",
            "googledrivedownloader==0.4\n",
            "graphviz==0.10.1\n",
            "grpcio==1.28.1\n",
            "gspread-dataframe==3.0.6\n",
            "gspread==3.0.1\n",
            "gym==0.17.1\n",
            "h5py==2.10.0\n",
            "heapdict==1.0.1\n",
            "holidays==0.9.12\n",
            "html5lib==1.0.1\n",
            "httpimport==0.5.18\n",
            "httplib2==0.17.3\n",
            "httplib2shim==0.0.3\n",
            "humanize==0.5.1\n",
            "hyperopt==0.1.2\n",
            "ideep4py==2.0.0.post3\n",
            "idna==2.9\n",
            "image==1.5.31\n",
            "imagecodecs==2020.2.18\n",
            "imageio==2.4.1\n",
            "imagesize==1.2.0\n",
            "imbalanced-learn==0.4.3\n",
            "imblearn==0.0\n",
            "imgaug==0.2.9\n",
            "importlib-metadata==1.6.0\n",
            "imutils==0.5.3\n",
            "inflect==2.1.0\n",
            "intel-openmp==2020.0.133\n",
            "intervaltree==2.1.0\n",
            "ipykernel==4.10.1\n",
            "ipython-genutils==0.2.0\n",
            "ipython-sql==0.3.9\n",
            "ipython==5.5.0\n",
            "ipywidgets==7.5.1\n",
            "itsdangerous==1.1.0\n",
            "jax==0.1.64\n",
            "jaxlib==0.1.45\n",
            "jdcal==1.4.1\n",
            "jedi==0.17.0\n",
            "jieba==0.42.1\n",
            "jinja2==2.11.2\n",
            "jmespath==0.9.5\n",
            "joblib==0.14.1\n",
            "jpeg4py==0.1.4\n",
            "jsonschema==2.6.0\n",
            "jupyter-client==5.3.4\n",
            "jupyter-console==5.2.0\n",
            "jupyter-core==4.6.3\n",
            "jupyter==1.0.0\n",
            "kaggle==1.5.6\n",
            "kapre==0.1.3.1\n",
            "keras-applications==1.0.8\n",
            "keras-preprocessing==1.1.0\n",
            "keras-vis==0.4.1\n",
            "keras==2.3.1\n",
            "kiwisolver==1.2.0\n",
            "knnimpute==0.1.0\n",
            "librosa==0.6.3\n",
            "lightgbm==2.2.3\n",
            "llvmlite==0.31.0\n",
            "lmdb==0.98\n",
            "lucid==0.3.8\n",
            "lunarcalendar==0.0.9\n",
            "lxml==4.2.6\n",
            "markdown==3.2.1\n",
            "markupsafe==1.1.1\n",
            "matplotlib-venn==0.11.5\n",
            "matplotlib==3.2.1\n",
            "missingno==0.4.2\n",
            "mistune==0.8.4\n",
            "mizani==0.6.0\n",
            "mkl==2019.0\n",
            "mlxtend==0.14.0\n",
            "more-itertools==8.2.0\n",
            "moviepy==0.2.3.5\n",
            "mpmath==1.1.0\n",
            "msgpack==1.0.0\n",
            "multiprocess==0.70.9\n",
            "multitasking==0.0.9\n",
            "murmurhash==1.0.2\n",
            "music21==5.5.0\n",
            "natsort==5.5.0\n",
            "nbconvert==5.6.1\n",
            "nbformat==5.0.6\n",
            "networkx==2.4\n",
            "nibabel==3.0.2\n",
            "nltk==3.2.5\n",
            "notebook==5.2.2\n",
            "np-utils==0.5.12.1\n",
            "numba==0.48.0\n",
            "numexpr==2.7.1\n",
            "numpy==1.18.4\n",
            "nvidia-ml-py3==7.352.0\n",
            "oauth2client==4.1.3\n",
            "oauthlib==3.1.0\n",
            "okgrade==0.4.3\n",
            "opencv-contrib-python==4.1.2.30\n",
            "opencv-python==4.1.2.30\n",
            "openpyxl==2.5.9\n",
            "opt-einsum==3.2.1\n",
            "osqp==0.6.1\n",
            "packaging==20.3\n",
            "palettable==3.3.0\n",
            "pandas-datareader==0.8.1\n",
            "pandas-gbq==0.11.0\n",
            "pandas-profiling==1.4.1\n",
            "pandas==1.0.3\n",
            "pandocfilters==1.4.2\n",
            "parso==0.7.0\n",
            "pathlib==1.0.1\n",
            "patsy==0.5.1\n",
            "pexpect==4.8.0\n",
            "pickleshare==0.7.5\n",
            "pillow==7.0.0\n",
            "pip-tools==4.5.1\n",
            "pip==19.3.1\n",
            "plac==1.1.3\n",
            "plotly==4.4.1\n",
            "plotnine==0.6.0\n",
            "pluggy==0.7.1\n",
            "portpicker==1.3.1\n",
            "prefetch-generator==1.0.1\n",
            "preshed==3.0.2\n",
            "prettytable==0.7.2\n",
            "progressbar2==3.38.0\n",
            "prometheus-client==0.7.1\n",
            "promise==2.3\n",
            "prompt-toolkit==1.0.18\n",
            "protobuf==3.10.0\n",
            "psutil==5.4.8\n",
            "psycopg2==2.7.6.1\n",
            "ptvsd==5.0.0a12\n",
            "ptyprocess==0.6.0\n",
            "py==1.8.1\n",
            "pyarrow==0.14.1\n",
            "pyasn1-modules==0.2.8\n",
            "pyasn1==0.4.8\n",
            "pycocotools==2.0.0\n",
            "pycparser==2.20\n",
            "pydata-google-auth==1.1.0\n",
            "pydot-ng==2.0.0\n",
            "pydot==1.3.0\n",
            "pydotplus==2.0.2\n",
            "pydrive==1.3.1\n",
            "pyemd==0.5.1\n",
            "pyglet==1.5.0\n",
            "pygments==2.1.3\n",
            "pygobject==3.26.1\n",
            "pymc3==3.7\n",
            "pymeeus==0.3.7\n",
            "pymongo==3.10.1\n",
            "pymystem3==0.2.0\n",
            "pyopengl==3.1.5\n",
            "pyparsing==2.4.7\n",
            "pyrsistent==0.16.0\n",
            "pysndfile==1.3.8\n",
            "pysocks==1.7.1\n",
            "pystan==2.19.1.1\n",
            "pytest==3.6.4\n",
            "python-apt==1.6.5+ubuntu0.2\n",
            "python-chess==0.23.11\n",
            "python-dateutil==2.8.1\n",
            "python-louvain==0.14\n",
            "python-slugify==4.0.0\n",
            "python-utils==2.4.0\n",
            "pytz==2018.9\n",
            "pywavelets==1.1.1\n",
            "pyyaml==3.13\n",
            "pyzmq==19.0.1\n",
            "qtconsole==4.7.4\n",
            "qtpy==1.9.0\n",
            "regex==2019.12.20\n",
            "requests-oauthlib==1.3.0\n",
            "requests==2.23.0\n",
            "resampy==0.2.2\n",
            "retrying==1.3.3\n",
            "rpy2==3.2.7\n",
            "rsa==4.0\n",
            "s3fs==0.4.2\n",
            "s3transfer==0.3.3\n",
            "scikit-image==0.16.2\n",
            "scikit-learn==0.22.2.post1\n",
            "scipy==1.4.1\n",
            "screen-resolution-extra==0.0.0\n",
            "scs==2.1.2\n",
            "seaborn==0.10.1\n",
            "send2trash==1.5.0\n",
            "setuptools-git==1.2\n",
            "setuptools==46.3.0\n",
            "shapely==1.7.0\n",
            "simplegeneric==0.8.1\n",
            "six==1.12.0\n",
            "sklearn-pandas==1.8.0\n",
            "sklearn==0.0\n",
            "smart-open==2.0.0\n",
            "snowballstemmer==2.0.0\n",
            "sortedcontainers==2.1.0\n",
            "spacy==2.2.4\n",
            "sphinx==1.8.5\n",
            "sphinxcontrib-websupport==1.2.2\n",
            "sqlalchemy==1.3.16\n",
            "sqlparse==0.3.1\n",
            "srsly==1.0.2\n",
            "statsmodels==0.10.2\n",
            "sympy==1.1.1\n",
            "tables==3.4.4\n",
            "tabulate==0.8.7\n",
            "tbb==2020.0.133\n",
            "tblib==1.6.0\n",
            "tensorboard-plugin-wit==1.6.0.post3\n",
            "tensorboard==2.2.1\n",
            "tensorboardcolab==0.0.22\n",
            "tensorflow-addons==0.8.3\n",
            "tensorflow-datasets==2.1.0\n",
            "tensorflow-estimator==2.2.0\n",
            "tensorflow-gcs-config==2.1.8\n",
            "tensorflow-hub==0.8.0\n",
            "tensorflow-metadata==0.21.2\n",
            "tensorflow-privacy==0.2.2\n",
            "tensorflow-probability==0.10.0rc0\n",
            "tensorflow==2.2.0\n",
            "termcolor==1.1.0\n",
            "terminado==0.8.3\n",
            "testpath==0.4.4\n",
            "text-unidecode==1.3\n",
            "textblob==0.15.3\n",
            "textgenrnn==1.4.1\n",
            "theano==1.0.4\n",
            "thinc==7.4.0\n",
            "tifffile==2020.5.11\n",
            "toolz==0.10.0\n",
            "torch==1.5.0+cu101\n",
            "torchsummary==1.5.1\n",
            "torchtext==0.3.1\n",
            "torchvision==0.6.0+cu101\n",
            "tornado==4.5.3\n",
            "tqdm==4.41.1\n",
            "traitlets==4.3.3\n",
            "tweepy==3.6.0\n",
            "typeguard==2.7.1\n",
            "typing-extensions==3.6.6\n",
            "typing==3.6.6\n",
            "tzlocal==1.5.1\n",
            "umap-learn==0.4.2\n",
            "uritemplate==3.0.1\n",
            "urllib3==1.24.3\n",
            "vega-datasets==0.8.0\n",
            "wasabi==0.6.0\n",
            "wcwidth==0.1.9\n",
            "webencodings==0.5.1\n",
            "werkzeug==1.0.1\n",
            "wheel==0.34.2\n",
            "widgetsnbextension==3.5.1\n",
            "wordcloud==1.5.0\n",
            "wrapt==1.12.1\n",
            "xarray==0.15.1\n",
            "xgboost==0.90\n",
            "xkit==0.0.0\n",
            "xlrd==1.1.0\n",
            "xlwt==1.3.0\n",
            "yellowbrick==0.9.1\n",
            "zict==2.0.0\n",
            "zipp==3.1.0\n"
          ],
          "name": "stdout"
        }
      ]
    },
    {
      "cell_type": "markdown",
      "metadata": {
        "id": "Faov6HGL3YPB",
        "colab_type": "text"
      },
      "source": [
        "**10, Viết chương trình Python để hiển thị một số thông tin về HĐH nơi tập lệnh đang chạy.**\n",
        "\n",
        "**Write a Python program to display some information about the OS where the script is running.**\n",
        "\n"
      ]
    },
    {
      "cell_type": "code",
      "metadata": {
        "id": "ccYpKjQ-2xws",
        "colab_type": "code",
        "outputId": "145af018-e537-4cba-ea67-ac1543576891",
        "colab": {
          "base_uri": "https://localhost:8080/",
          "height": 275
        }
      },
      "source": [
        "import platform as pl\n",
        "\n",
        "os_profile = [                      # Tạo 1 list os_profile chứa các giá trị\n",
        "        'architecture',\n",
        "        'linux_distribution',\n",
        "        'mac_ver',\n",
        "        'machine',\n",
        "        'node',\n",
        "        'platform',\n",
        "        'processor',\n",
        "        'python_build',\n",
        "        'python_compiler',\n",
        "        'python_version',\n",
        "        'release',\n",
        "        'system',\n",
        "        'uname',\n",
        "        'version',\n",
        "    ]\n",
        "for key in os_profile:              # Duyệt giá trị từng phần tử trong list os_profile\n",
        "  if hasattr(pl, key):              # Điều kiện hasattr(obj, name). Trả về việc đối tượng có thuộc tính với tên đã cho hay không.\n",
        "    print(key +  \": \" + str(getattr(pl, key)()))"
      ],
      "execution_count": 0,
      "outputs": [
        {
          "output_type": "stream",
          "text": [
            "architecture: ('64bit', '')\n",
            "linux_distribution: ('Ubuntu', '18.04', 'bionic')\n",
            "mac_ver: ('', ('', '', ''), '')\n",
            "machine: x86_64\n",
            "node: df3d1a7189a2\n",
            "platform: Linux-4.19.104+-x86_64-with-Ubuntu-18.04-bionic\n",
            "processor: x86_64\n",
            "python_build: ('default', 'Apr 18 2020 01:56:04')\n",
            "python_compiler: GCC 8.4.0\n",
            "python_version: 3.6.9\n",
            "release: 4.19.104+\n",
            "system: Linux\n",
            "uname: uname_result(system='Linux', node='df3d1a7189a2', release='4.19.104+', version='#1 SMP Wed Feb 19 05:26:34 PST 2020', machine='x86_64', processor='x86_64')\n",
            "version: #1 SMP Wed Feb 19 05:26:34 PST 2020\n"
          ],
          "name": "stdout"
        }
      ]
    },
    {
      "cell_type": "markdown",
      "metadata": {
        "id": "SIocXKrP4PJI",
        "colab_type": "text"
      },
      "source": [
        "**11, Viết chương trình Python để kiểm tra tổng của ba phần tử (mỗi phần tử từ một mảng) từ ba mảng bằng với một giá trị đích. In tất cả các kết hợp ba yếu tố**\n",
        "\n",
        "**Write a Python program to check the sum of three elements (each from an array) from three arrays is equal to a target value. Print all those three-element combinations.**"
      ]
    },
    {
      "cell_type": "code",
      "metadata": {
        "id": "TFKnUgzK3ilp",
        "colab_type": "code",
        "outputId": "ba9891fd-30cd-4ea0-af5c-6eaf1abdce42",
        "colab": {
          "base_uri": "https://localhost:8080/",
          "height": 136
        }
      },
      "source": [
        "import itertools\n",
        "from functools import partial\n",
        "X = [10, 20, 20, 20]\n",
        "Y = [10, 20, 30, 40]\n",
        "Z = [10, 30, 40, 20]\n",
        "T = 70\n",
        "\n",
        "def check_sum_array(N, *nums):    # * biểu diễn là nums có thể là 1 list\n",
        "  if sum(x for x in nums) == N:\n",
        "    return (True, nums)\n",
        "  else:\n",
        "      return (False, nums)\n",
        "pro = itertools.product(X,Y,Z)\n",
        "func = partial(check_sum_array, T)\n",
        "sums = list(itertools.starmap(func, pro))\n",
        "\n",
        "result = set()\n",
        "for s in sums:\n",
        "    if s[0] == True and s[1] not in result:\n",
        "      result.add(s[1])\n",
        "      print(result)"
      ],
      "execution_count": 0,
      "outputs": [
        {
          "output_type": "stream",
          "text": [
            "{(10, 20, 40)}\n",
            "{(10, 20, 40), (10, 30, 30)}\n",
            "{(10, 20, 40), (10, 30, 30), (10, 40, 20)}\n",
            "{(10, 20, 40), (10, 30, 30), (20, 10, 40), (10, 40, 20)}\n",
            "{(10, 20, 40), (10, 40, 20), (20, 10, 40), (10, 30, 30), (20, 20, 30)}\n",
            "{(10, 20, 40), (10, 40, 20), (20, 10, 40), (10, 30, 30), (20, 20, 30), (20, 30, 20)}\n",
            "{(10, 20, 40), (10, 40, 20), (20, 10, 40), (20, 40, 10), (10, 30, 30), (20, 20, 30), (20, 30, 20)}\n"
          ],
          "name": "stdout"
        }
      ]
    },
    {
      "cell_type": "markdown",
      "metadata": {
        "id": "YLhUqLZy5rEW",
        "colab_type": "text"
      },
      "source": [
        "**12, Viết chương trình Python để tạo tất cả các hoán vị có thể có từ một tập hợp các số riêng biệt nhất định.**\n",
        "\n",
        "**Write a Python program to create all possible permutations from a given collection of distinct numbers.**\n",
        "\n",
        "![alt text](https://www.w3resource.com/w3r_images/python-basic-1-image-exercise-12.png)\n"
      ]
    },
    {
      "cell_type": "code",
      "metadata": {
        "id": "gnuaoug94aZo",
        "colab_type": "code",
        "outputId": "400f725d-875c-42d9-c171-4b23b374eeb5",
        "colab": {
          "base_uri": "https://localhost:8080/",
          "height": 68
        }
      },
      "source": [
        "def permute(nums):                                   # 3 vòng lặp for lồng nhau\n",
        "  result_perms = [[]]                                # Tạo biến result_perm với 2 list rỗng lồng nhau, mục đích để thêm giá trị tìm được vào result_perm\n",
        "  for n in nums:                                     # duyệt giá trị từng phần tử của list được truyền vào, VD [1,2,3]\n",
        "    new_perms = []                                   # tạo 1 list con new_perm, mục đích để từ list con thêm giá trị từ list con gán vào result_perms\n",
        "    for perm in result_perms:                        # duyệt giá trị từng phần tử trong result_perms, sau khi được gán thêm vào giá trị vào result_perms\n",
        "      for i in range(len(perm)+1):                   # tạo số lần lặp bằng với số lần = độ dài biến perm nhận được + 1\n",
        "        new_perms.append(perm[:i] + [n] + perm[i:])  # công thức để tìm hoán vị và thêm phần tử tính được vào list \n",
        "        result_perms = new_perms                     # gán kết quả tìm được từ list con vào list cha \n",
        "  return result_perms                                # sau khi lặp được n phần tử trong list nums truyền vào thì return về kết quả result_perms tìm được\n",
        "\n",
        "my_nums = [1,2,3]\n",
        "print(\"Original Cofllection: \",my_nums)\n",
        "print(\"Collection of distinct numbers:\\n\",permute(my_nums))"
      ],
      "execution_count": 0,
      "outputs": [
        {
          "output_type": "stream",
          "text": [
            "Original Cofllection:  [1, 2, 3]\n",
            "Collection of distinct numbers:\n",
            " [[3, 2, 1], [2, 3, 1], [2, 1, 3], [3, 1, 2], [1, 3, 2], [1, 2, 3]]\n"
          ],
          "name": "stdout"
        }
      ]
    },
    {
      "cell_type": "markdown",
      "metadata": {
        "id": "sWLvDCRU8-It",
        "colab_type": "text"
      },
      "source": [
        "**13, Viết chương trình Python để có được tất cả các kết hợp chữ cái có hai chữ số có thể từ một chuỗi chữ số (1 đến 9).**\n",
        "\n",
        "**Write a Python program to get all possible two digit letter combinations from a digit (1 to 9) string.**\n",
        "\n",
        "![alt text](https://www.w3resource.com/w3r_images/python-basic-1-image-exercise-13.png)"
      ]
    },
    {
      "cell_type": "code",
      "metadata": {
        "id": "nT1gPDFZ6duk",
        "colab_type": "code",
        "outputId": "775dfad7-d4c6-4908-9adc-4e34174dc2ca",
        "colab": {
          "base_uri": "https://localhost:8080/",
          "height": 71
        }
      },
      "source": [
        "def letter_combinations(digits):              # Bài này cũng để mai xem lại trước khi bắt đầu làm 1 loạt bài mới\n",
        "    if digits == \"\":                          # Điều kiện, kiểm tra nếu chuỗi đưa vào là rỗng\n",
        "        return []                             # trả về là rỗng\n",
        "    string_maps = {                           # Tạo 1 dict, string_map, lưu tất cả các giá trị ký tự tương ứng với số\n",
        "        \"1\": \"abc\",\n",
        "        \"2\": \"def\",\n",
        "        \"3\": \"ghi\",\n",
        "        \"4\": \"jkl\",\n",
        "        \"5\": \"mno\",\n",
        "        \"6\": \"pqrs\",\n",
        "        \"7\": \"tuv\",\n",
        "        \"8\": \"wxy\",\n",
        "        \"9\": \"z\"\n",
        "    }\n",
        "    result = [\"\"]                             # tạo 1 biến list result rỗng, mục đích để gán những giá trị tìm được vào biến result\n",
        "    for num in digits:                        # duyệt từng phần tử trong chuỗi được truyền vào\n",
        "        temp = []                             # tạo 1 biến tạm list temp rỗng, mục đích để gán giá trị từ list con temp vào list result\n",
        "        for an in result:                     # duyệt từng phần tử trong list result, những kết quả đã được truyền vào \n",
        "            for char in string_maps[num]:     # duyệt từng phần tử trong value ứng với key của dict string map, key = 1 thì duyệt từng values là abc\n",
        "                temp.append(an + char)        # thêm từng phần tử được ghép bởi 2 chuỗi, biến an và biến char \n",
        "        result = temp                         # gán kết quả của temp được thêm vào biến result\n",
        "    return result                             # trả về kết quả cuối cùng\n",
        "\n",
        "digit_string = \"47\"\n",
        "print(letter_combinations(digit_string))\n",
        "digit_string = \"288\"\n",
        "print(letter_combinations(digit_string))"
      ],
      "execution_count": 0,
      "outputs": [
        {
          "output_type": "stream",
          "text": [
            "['jt', 'ju', 'jv', 'kt', 'ku', 'kv', 'lt', 'lu', 'lv']\n",
            "['dww', 'dwx', 'dwy', 'dxw', 'dxx', 'dxy', 'dyw', 'dyx', 'dyy', 'eww', 'ewx', 'ewy', 'exw', 'exx', 'exy', 'eyw', 'eyx', 'eyy', 'fww', 'fwx', 'fwy', 'fxw', 'fxx', 'fxy', 'fyw', 'fyx', 'fyy']\n"
          ],
          "name": "stdout"
        }
      ]
    },
    {
      "cell_type": "markdown",
      "metadata": {
        "id": "ZIov-7AB-ayF",
        "colab_type": "text"
      },
      "source": [
        "**14, Viết chương trình Python để thêm hai số nguyên dương mà không cần sử dụng toán tử '+'. Lưu ý: Sử dụng các thao tác bitwise & để thêm hai số.**\n",
        "\n",
        "**Write a Python program to add two positive integers without using the '+' operator. Note: Use bitwise & operations to add two numbers.**\n",
        "\n",
        "![alt text](https://www.w3resource.com/w3r_images/python-basic-1-image-exercise-14.svg)"
      ]
    },
    {
      "cell_type": "code",
      "metadata": {
        "id": "RbPqns5T9O7A",
        "colab_type": "code",
        "outputId": "84f9625b-412f-4f62-9630-2b6165fa61bf",
        "colab": {
          "base_uri": "https://localhost:8080/",
          "height": 68
        }
      },
      "source": [
        "def add_without_plus_operator(a,b):\n",
        "  while b != 0:\n",
        "    data = a & b          # Không hiểu mấy toán tử này sử dụng thế nào\n",
        "    a = a ^ b\n",
        "    b = data << 1\n",
        "  return a\n",
        "\n",
        "print(add_without_plus_operator(2, 10))\n",
        "print(add_without_plus_operator(-20, 10))\n",
        "print(add_without_plus_operator(-10, -20))"
      ],
      "execution_count": 0,
      "outputs": [
        {
          "output_type": "stream",
          "text": [
            "12\n",
            "-10\n",
            "-30\n"
          ],
          "name": "stdout"
        }
      ]
    },
    {
      "cell_type": "markdown",
      "metadata": {
        "id": "iQy_bfeWECFk",
        "colab_type": "text"
      },
      "source": [
        " **15, Viết chương trình Python để kiểm tra mức độ ưu tiên của bốn toán tử (+, -, *, /)**\n",
        "\n",
        "**Write a Python program to check the priority of the four operators (+, -, *, /)**\n",
        "\n"
      ]
    },
    {
      "cell_type": "code",
      "metadata": {
        "id": "uGnpYV3M_Knj",
        "colab_type": "code",
        "outputId": "d24a8010-2f24-4a0b-8279-21bc4937a961",
        "colab": {
          "base_uri": "https://localhost:8080/",
          "height": 102
        }
      },
      "source": [
        "from collections import deque\n",
        "import re\n",
        "\n",
        "__operators__ = \"+-/*\"      # biến __operators__ gán giá trị là chuỗi + - * /\n",
        "__parenthesis__ = \"()\"      # biến parenthesis__ gán giá trị là chuỗi ()\n",
        "__priority__ = {            # biến __priority, dict gán giá trị key-value\n",
        "    '+': 0,\n",
        "    '-': 0,\n",
        "    '*': 1,\n",
        "    '/': 1,\n",
        "}\n",
        "\n",
        "def test_higher_priority(operator1, operator2): # hàm kiếm tra, 2 tham số truyền là 2 string\n",
        "    return __priority__[operator1] >= __priority__[operator2] # lấy ra 2 giá trị values của key từ dict, so sánh values của 2 toán tử \"+\" với \"-\"\n",
        "\n",
        "print(test_higher_priority('*','-'))\n",
        "print(test_higher_priority('+','-'))\n",
        "print(test_higher_priority('+','*'))\n",
        "print(test_higher_priority('+','/'))\n",
        "print(test_higher_priority('*','/'))"
      ],
      "execution_count": 0,
      "outputs": [
        {
          "output_type": "stream",
          "text": [
            "True\n",
            "True\n",
            "False\n",
            "False\n",
            "True\n"
          ],
          "name": "stdout"
        }
      ]
    },
    {
      "cell_type": "markdown",
      "metadata": {
        "id": "7hQ4qcrTFXei",
        "colab_type": "text"
      },
      "source": [
        " **16, Viết chương trình Python để có cạnh thứ ba của tam giác góc vuông từ hai cạnh đã cho. Lưu ý: Sử dụng các thao tác bitwise để thêm hai số.**\n",
        "\n",
        "**Write a Python program to get the third side of right angled triangle from two given sides. Note: Use bitwise operations to add two numbers.**\n",
        "\n",
        "![alt text](https://www.w3resource.com/w3r_images/python-basic-1-image-exercise-16.png)"
      ]
    },
    {
      "cell_type": "code",
      "metadata": {
        "id": "8QCxjXBnEQV9",
        "colab_type": "code",
        "outputId": "43fa1433-737d-44a1-bb6a-da4560a6b737",
        "colab": {
          "base_uri": "https://localhost:8080/",
          "height": 85
        }
      },
      "source": [
        "def pythagoras(opposite_side,adjacent_side,hypotenuse): # Hàm pytago: (cạnh đối, cạnh kề, cạnh huyền )\n",
        "        if opposite_side == str(\"x\"):                   # Nếu x là cạnh đối\n",
        "            return (\"Opposite = \" + str(((hypotenuse**2) - (adjacent_side**2))**0.5)) # 5**2 - 4**2 = 9, 9**0.5 = 3\n",
        "        elif adjacent_side == str(\"x\"):                 # Nếu x là cạnh kề\n",
        "            return (\"Adjacent = \" + str(((hypotenuse**2) - (opposite_side**2))**0.5)) # 5**2 - 3**2 = 16, 16**0.5 = 4\n",
        "        elif hypotenuse == str(\"x\"):                    # Nếu x là cạnh huyền\n",
        "            return (\"Hypotenuse = \" + str(((opposite_side**2) + (adjacent_side**2))**0.5)) # VD: 3**2 + 4**2 = 25, 25*0.5 = 5\n",
        "        else:                                           # Nếu x không phải là cạnh nào\n",
        "            return \"You know the answer!\"\n",
        "    \n",
        "print(pythagoras(3,4,'x'))\n",
        "print(pythagoras(3,'x',5))\n",
        "print(pythagoras('x',4,5))\n",
        "print(pythagoras(3,4,5))"
      ],
      "execution_count": 0,
      "outputs": [
        {
          "output_type": "stream",
          "text": [
            "Hypotenuse = 5.0\n",
            "Adjacent = 4.0\n",
            "Opposite = 3.0\n",
            "You know the answer!\n"
          ],
          "name": "stdout"
        }
      ]
    },
    {
      "cell_type": "markdown",
      "metadata": {
        "id": "so2IH0q5IMO9",
        "colab_type": "text"
      },
      "source": [
        "**17, Viết chương trình Python để có được tất cả các số strobogrammatic(số đối xứng) có độ dài n. VD 69, 96, 1001**\n",
        "\n",
        "**Write a Python program to get all strobogrammatic numbers that are of length n.**\n",
        "\n",
        "![alt text](https://www.w3resource.com/w3r_images/python-basic-1-image-exercise-17.png)"
      ]
    },
    {
      "cell_type": "code",
      "metadata": {
        "id": "IbYtEetvFxZo",
        "colab_type": "code",
        "outputId": "9d6f9c3b-5199-4cd4-f65e-2b1bf9cbcd1a",
        "colab": {
          "base_uri": "https://localhost:8080/",
          "height": 153
        }
      },
      "source": [
        "def gen_strobogrammatic(n):         # Tạo hàm, khởi tạo số đối xứng, tham số đầu tiên sẽ được truyền vào hàm này đầu tiên.\n",
        "    \"\"\"                             Ví dụ gọi vào truyền tham số là 2\n",
        "    :type n: int\n",
        "    :rtype: List[str]\n",
        "    \"\"\"\n",
        "    result = helper(n, n)           # từ hàm gen khởi tạo số đối xứng, tạo biến resul gán giá trị tính được từ hàm helper(n,n), thực hiện hàm helper \n",
        "    return result                   # Kết quả trả về của hàm, return result. In kết quả \n",
        "\n",
        "\n",
        "def helper(n, length):              # Hàm helper, còn gọi là hàm giúp đỡ. 2 tham số truyền vào helper(n, length) = helper(2,2)\n",
        "    if n == 0:                      # Điều kiện n == 0\n",
        "        return [\"\"]                 # Trả về list rỗng\n",
        "    if n == 1:                      # Điều kiện n == 1, \n",
        "        return [\"1\", \"0\", \"8\"]      # Trả về list đã được định nghĩa sẵn là 1 list có giá trị = [1, 0, 8]\n",
        "    middles = helper(n-2, length)   # Trường hợp còn lại, n > 1, tạo biến middles gán giá trị tính được từ hàm helper tham số mới, helper(n, length) = (0, 2), quay lại thực hiện hàm từ đầu. Và với n = 0, gặp điều kiện n ==0, trả về middles = [\"\"]. Có được return midles rồi thì hàm helper(n-2, length) coi như xong, kết thúc. Trả về lại n = 2, length = 2 \n",
        "    result = []                     # Sau khi tạo middles = [\"\"], tạo biến result = rỗng đễ gán giá trị tìm được vào result\n",
        "    for middle in middles:          # Duyệt từng giá trị phần tử trong middles\n",
        "        if n != length:             # Nếu n khác length\n",
        "            result.append(\"0\" + middle + \"0\") # Thêm 1 giá trị vào result \n",
        "        result.append(\"8\" + middle + \"8\") # Nếu n = length, thêm nhiều giá trị vào result, 4 giá trị\n",
        "        result.append(\"1\" + middle + \"1\")\n",
        "        result.append(\"9\" + middle + \"6\")\n",
        "        result.append(\"6\" + middle + \"9\")\n",
        "    return result                   # Kết quả trả về của hàm, return result, thực hiện xong hàm này, quay về hàm gen_strobogramatic\n",
        "\n",
        "print(\"n = 1: \\n\",gen_strobogrammatic(1)) \n",
        "print(\"n = 2: \\n\",gen_strobogrammatic(2)) \n",
        "print(\"n = 3: \\n\",gen_strobogrammatic(3))\n",
        "print(\"n = 4: \\n\",gen_strobogrammatic(4))"
      ],
      "execution_count": 0,
      "outputs": [
        {
          "output_type": "stream",
          "text": [
            "n = 1: \n",
            " ['1', '0', '8']\n",
            "n = 2: \n",
            " ['88', '11', '96', '69']\n",
            "n = 3: \n",
            " ['818', '111', '916', '619', '808', '101', '906', '609', '888', '181', '986', '689']\n",
            "n = 4: \n",
            " ['8008', '1001', '9006', '6009', '8888', '1881', '9886', '6889', '8118', '1111', '9116', '6119', '8968', '1961', '9966', '6969', '8698', '1691', '9696', '6699']\n"
          ],
          "name": "stdout"
        }
      ]
    },
    {
      "cell_type": "markdown",
      "metadata": {
        "id": "xlrV1GCOLnZG",
        "colab_type": "text"
      },
      "source": [
        "**18, Viết chương trình Python để tìm trung vị trong số ba số đã cho.**\n",
        "\n",
        "**Write a Python program to find the median among three given numbers.**\n",
        "\n",
        "![alt text](https://www.w3resource.com/w3r_images/python-basic-1-image-exercise-18.png)"
      ]
    },
    {
      "cell_type": "code",
      "metadata": {
        "id": "BBPnw6AMIveZ",
        "colab_type": "code",
        "outputId": "69e49436-d17a-424a-82e5-60556e602433",
        "colab": {
          "base_uri": "https://localhost:8080/",
          "height": 102
        }
      },
      "source": [
        "x = int(input(\"Input the first number: \"))\n",
        "y = int(input(\"Input the second number: \" ))\n",
        "z = int(input(\"Input the third number: \"))\n",
        "print(\"Median of the above three numbers: \")\n",
        "# Tất cả các điều kiện để tìm được số trung vị: \n",
        "if y < x and x < z:\n",
        "    print(x)\n",
        "elif z < x and x < y:\n",
        "    print(x)\n",
        "    \n",
        "elif z < y and y < x:\n",
        "    print(y)\n",
        "elif x < y and y < z:\n",
        "    print(y)\n",
        "    \n",
        "elif y < z and z < x:\n",
        "    print(z)    \n",
        "elif x < z and z < y:\n",
        "    print(z)"
      ],
      "execution_count": 0,
      "outputs": [
        {
          "output_type": "stream",
          "text": [
            "Input the first number: 25\n",
            "Input the second number: 424\n",
            "Input the third number: 54\n",
            "Median of the above three numbers: \n",
            "54\n"
          ],
          "name": "stdout"
        }
      ]
    },
    {
      "cell_type": "markdown",
      "metadata": {
        "id": "ogioz5NfNu8E",
        "colab_type": "text"
      },
      "source": [
        "**19, Viết chương trình Python để tìm giá trị của n trong đó n độ của số 2 được viết tuần tự trong một dòng không có dấu cách.**\n",
        "\n",
        "**Write a Python program to find the value of n where n degrees of number 2 are written sequentially in a line without spaces.**\n",
        "\n",
        "![alt text](https://www.w3resource.com/w3r_images/python-basic-1-image-exercise-19.png)"
      ]
    },
    {
      "cell_type": "code",
      "metadata": {
        "id": "UjoUzFO3L2z5",
        "colab_type": "code",
        "outputId": "a6238490-de08-4a2a-b540-37fdc77dab17",
        "colab": {
          "base_uri": "https://localhost:8080/",
          "height": 51
        }
      },
      "source": [
        "def ndegrees(num):          # VD: nums = \"24681632\"\n",
        "  ans = True                # Tạo biến ans gán giá trị là True\n",
        "  n, tempn, i = 2, 2, 2     # tạo 3 biến, n = 2, tempn = 2, i = 2\n",
        "  while ans:                # While ans, nghĩa là While True, kết thúc vòng lặp khi ans = False\n",
        "    if str(tempn) in num:   # Điều kiện, ép kiểu temps thành str, nếu temp nằm trong chuỗi str(nums)\n",
        "      i += 1                # Tăng i lên 1\n",
        "      tempn = pow(n, i)     # tempn mới sẽ = pow(2,3) = 2^3 = 8, Thực hiện lại vòng lặp While vì chưa gặp False, và temp mới = 8\n",
        "    else:                   # Khi temp không còn nằm trong num nữa\n",
        "      ans = False           # ans được gán mới = False. Quay lại vòng lặp sẽ là While False, điều kiện sai, kết thúc vòng lặp While\n",
        "  return i-1;               # trả về kết quả i-1. i sau khi tính được là 6, i - 1 =5. Trả về 5, kết quả là 2^5 là max\n",
        "print(ndegrees(\"2481632\"))\n",
        "print(ndegrees(\"248163264\"))"
      ],
      "execution_count": 0,
      "outputs": [
        {
          "output_type": "stream",
          "text": [
            "5\n",
            "6\n"
          ],
          "name": "stdout"
        }
      ]
    },
    {
      "cell_type": "markdown",
      "metadata": {
        "id": "yj2wwq9RO11L",
        "colab_type": "text"
      },
      "source": [
        "**20, Viết chương trình Python để tìm số không ở cuối giai thừa của một số dương cho trước. Phạm vi của số (n): (1 ≤ n 2 * 109)**\n",
        "\n",
        " **Write a Python program to find the number of zeros at the end of a factorial of a given positive number. Range of the number(n): (1 ≤ n ≤ 2*109).**\n",
        "\n",
        " ![alt text](https://www.w3resource.com/w3r_images/python-basic-1-image-exercise-20.svg)"
      ]
    },
    {
      "cell_type": "code",
      "metadata": {
        "id": "VxJXFlfAN_Ro",
        "colab_type": "code",
        "outputId": "199c927e-de9d-428d-bf79-a470b54e5041",
        "colab": {
          "base_uri": "https://localhost:8080/",
          "height": 68
        }
      },
      "source": [
        "def factendzero(n):\n",
        "  x = n // 5              # tạo biến x, giá trị nhận vào sẽ là n // 5, n chia 5 lấy kết quả là số nguyên . VD: n = 100, x = 20\n",
        "  y = x                   # gán y = x, kết quả vừa tính được                                                   y = 20\n",
        "  while int(x) > 0:       # Vòng lặp while, x > 0, kết thúc vòng lặp khi x <= 0\n",
        "    x /= 5                # biến x mới sẽ được gán, x = x / 5,                                                 x = 20 / 5 = 4 -> 4 / 5 = 0.8 < 0. kết thúc  \n",
        "    y += int(x)           # biến y mới sẽ được gán, y = y + x                                                  y = 20 + 4 = 24 -> 24 + 0.8 = 24. kết thúc     \n",
        "  return y                # trả về kết quả y                                                                   y = 24\n",
        "       \n",
        "print(factendzero(5))\n",
        "print(factendzero(12))\n",
        "print(factendzero(100))"
      ],
      "execution_count": 0,
      "outputs": [
        {
          "output_type": "stream",
          "text": [
            "1\n",
            "2\n",
            "24\n"
          ],
          "name": "stdout"
        }
      ]
    },
    {
      "cell_type": "markdown",
      "metadata": {
        "id": "rr5vAbJrQUPs",
        "colab_type": "text"
      },
      "source": [
        " **21, Viết chương trình Python để tìm số lượng ghi chú (Mẫu ghi chú: 10, 20, 50, 100, 200 và 500) so với tổng đã cho. Phạm vi - Số ghi chú (n): n (1 n 1000000)** \n",
        "\n",
        "**Write a Python program to find the number of notes (Sample of notes: 10, 20, 50, 100, 200 and 500 ) against a given amount. Range - Number of notes(n) : n (1 ≤ n ≤ 1000000).**\n",
        "\n",
        "![alt text](https://www.w3resource.com/w3r_images/python-basic-1-image-exercise-21.png)"
      ]
    },
    {
      "cell_type": "code",
      "metadata": {
        "id": "4iM9ALplPRHb",
        "colab_type": "code",
        "outputId": "9f857733-15c9-4ee4-9b01-e8398d7fb1be",
        "colab": {
          "base_uri": "https://localhost:8080/",
          "height": 51
        }
      },
      "source": [
        "def no_notes(a):                            # Tạo hàm no_note, a = 880\n",
        "  Q = [500, 200, 100, 50, 20, 10]           # Biến Q gán 1 list [500, 200, 100, 50, 20, 10], mục đích là để chia, tìm những số có trong list này từ tham số truyền vào\n",
        "  x = 0                                     # Biến x gán = 0\n",
        "  for i in range(6):                        # Duyệt giá trị từng phần tử trong đoạn range(6), tức là 6 lần ứng với độ dài của list Q, lặp đủ 6 lần trong list để kiểm tra hết tất cả các số\n",
        "    q = Q[i]                                # biến q, được gán giá trị list index Q[i]\n",
        "    x += int(a / q)                         # biến x mới, được gán x = x + (a/q) nguyên\n",
        "    a = int(a % q)                          # biến a, gán kết quả là số dư nguyên của a / q\n",
        "  if a > 0:                                 # Điều kiên a > 0\n",
        "    x = -1                                  # Gán giá trị x = -1\n",
        "  return x                                  # Trả về kết quả hàm, return x\n",
        "print(no_notes(880))\n",
        "print(no_notes(1000))"
      ],
      "execution_count": 0,
      "outputs": [
        {
          "output_type": "stream",
          "text": [
            "6\n",
            "2\n"
          ],
          "name": "stdout"
        }
      ]
    },
    {
      "cell_type": "markdown",
      "metadata": {
        "id": "DLPHZLPf7z2Z",
        "colab_type": "text"
      },
      "source": [
        "**22, Viết chương trình Python để tạo một chuỗi trong đó bốn thành viên đầu tiên của chuỗi bằng một và mỗi số hạng liên tiếp của chuỗi bằng với tổng của bốn thành phần trước. Tìm thành viên thứ N của chuỗi.**\n",
        "\n",
        "**Write a Python program to create a sequence where the first four members of the sequence are equal to one, and each successive term of the sequence is equal to the sum of the four previous ones. Find the Nth member of the sequence.**"
      ]
    },
    {
      "cell_type": "code",
      "metadata": {
        "id": "hjxwyP1qQryM",
        "colab_type": "code",
        "outputId": "90f3b8f2-9cd4-4901-f9eb-ffb8db499d6b",
        "colab": {
          "base_uri": "https://localhost:8080/",
          "height": 68
        }
      },
      "source": [
        "def new_seq(n):\n",
        "  if n == 1 or n == 2 or n == 3 or n == 4:                          # 4 thành viên đầu tiên của chuỗi, tương ứng 1, 2, 3, 4\n",
        "    return 1                                                        # gán kết quả = 1\n",
        "  return new_seq(n-1) + new_seq(n-2) + new_seq(n-3) + new_seq(n-4)  # gọi hàm, quay lại thực hiện hàm lần lượt, từ n-1 -> n-4\n",
        "print(new_seq(5)) # kết quả trả về là tính new_seq(4) + new_seq(3) + new_seq(2) + new_seq(1)\n",
        "print(new_seq(6)) # kết quả trả về là tính new_seq(5) + new_seq(4) + new_seq(3) + new_seq(2)\n",
        "print(new_seq(7)) # kết quả trả về là tính new_seq(6) + new_seq(5) + new_seq(4) + new_seq(3)"
      ],
      "execution_count": 0,
      "outputs": [
        {
          "output_type": "stream",
          "text": [
            "4\n",
            "7\n",
            "13\n"
          ],
          "name": "stdout"
        }
      ]
    },
    {
      "cell_type": "markdown",
      "metadata": {
        "id": "tHhyP3GY_dVi",
        "colab_type": "text"
      },
      "source": [
        "**23, Viết chương trình Python chấp nhận số dương và trừ đi số này tổng các chữ số của nó, v.v. Tiếp tục thao tác này cho đến khi số dương.**\n",
        "\n",
        "**Write a Python program that accept a positive number and subtract from this number the sum of its digits and so on. Continues this operation until the number is positive**"
      ]
    },
    {
      "cell_type": "code",
      "metadata": {
        "id": "XLlMeWYi8LMj",
        "colab_type": "code",
        "outputId": "4496b938-0fee-4fd5-b7ef-63ae4d771e98",
        "colab": {
          "base_uri": "https://localhost:8080/",
          "height": 68
        }
      },
      "source": [
        "def repeat_times(n):                            # Hàm lặp lại số lần\n",
        "  s = 0                                         # Khởi tạo s = 0, mục đích biến s dùng để đếm số lần. \n",
        "  n_str = str(n)                                # biến n_str, gán tham số đầu vào là số,ép kiểu thành str. VD: 9 -> \"9\"\n",
        "  while (n > 0):\n",
        "    n -= sum([int(i) for i in list(n_str)])     # n = n - sum(...), sum là tính tổng của 1 list được tạo bởi comprehention, ép kiểu biến n_ntr từ str thành list, biểu thức là số nguyên dương i, duyệt giá trị từng phần tử trong list n_str\n",
        "    n_str = list(str(n))                        # gán giá trị mới biến n_str = list(str(n)), n là kết quả tính được ở trên. VD n = 21 -> n = 18, n_str = [1, 8]\n",
        "    s += 1                                      # s = s + 1, cộng s lên 1 và quay lại vòng lặp while\n",
        "  return s\n",
        "print(repeat_times(9))                          # tham số 9, có 1 chữ số là 9\n",
        "print(repeat_times(21))                         # tham số 21, có 2 chữ số là 21\n",
        "print(repeat_times(40))"
      ],
      "execution_count": 0,
      "outputs": [
        {
          "output_type": "stream",
          "text": [
            "1\n",
            "3\n",
            "5\n"
          ],
          "name": "stdout"
        }
      ]
    },
    {
      "cell_type": "markdown",
      "metadata": {
        "id": "LfmMoXvoEl57",
        "colab_type": "text"
      },
      "source": [
        "**24, Viết chương trình Python để tìm số ước của một số nguyên đã cho là chẵn hoặc lẻ.**\n",
        "\n",
        "**Write a Python program to find the number of divisors of a given integer is even or odd.**\n",
        "\n",
        "Ước số là những số chia hết\n",
        "\n",
        "![alt text](https://www.w3resource.com/w3r_images/python-basic-1-image-exercise-24.svg)"
      ]
    },
    {
      "cell_type": "code",
      "metadata": {
        "id": "4KkQJ7It_4yW",
        "colab_type": "code",
        "outputId": "2b5fea69-adbe-48d6-dacb-0eb15ed6caa7",
        "colab": {
          "base_uri": "https://localhost:8080/",
          "height": 102
        }
      },
      "source": [
        "def divisor(n):\n",
        "  for i in range(n):                                    # duyệt giá trị từng phần tử trong range(n). VD: n = 15, duyệt i từ 0 đến 14, 15 lần (hơi thừa)\n",
        "    x = len([i for i in range(1, n + 1) if not n % i])  # biến x bằng độ dài của list được bởi comprehension. list được tạo i, \n",
        "  return x                                              # trong đoạn range(1, n+1) (tức là bao gồm từ 1 đến chính tham số) , điều kiện n chia i không dư\n",
        "print(divisor(15))\n",
        "print(divisor(12))\n",
        "print(divisor(9))\n",
        "print(divisor(6))\n",
        "print(divisor(3))"
      ],
      "execution_count": 0,
      "outputs": [
        {
          "output_type": "stream",
          "text": [
            "4\n",
            "6\n",
            "3\n",
            "4\n",
            "2\n"
          ],
          "name": "stdout"
        }
      ]
    },
    {
      "cell_type": "markdown",
      "metadata": {
        "id": "pDrK3LXKHw9W",
        "colab_type": "text"
      },
      "source": [
        "**25, Viết chương trình Python để tìm các chữ số không có trong một số điện thoại di động nhất định.**\n",
        "\n",
        "**Write a Python program to find the digits which are absent in a given mobile number.**\n",
        "\n",
        "![alt text](https://www.w3resource.com/w3r_images/python-basic-1-image-exercise-25.svg)"
      ]
    },
    {
      "cell_type": "code",
      "metadata": {
        "id": "u8K-H_7_FXcd",
        "colab_type": "code",
        "outputId": "53122608-3505-424f-bad0-17017adafd10",
        "colab": {
          "base_uri": "https://localhost:8080/",
          "height": 34
        }
      },
      "source": [
        "def absent_digits(n):\n",
        "  all_nums = set([0,1,2,3,4,5,6,7,8,9])       # tạo biến all_nums, là 1 set chứa tất cả chữ số từ 0 - 9\n",
        "  n = set([int(i) for i in n])                # biến n, ép kiểu từ list truyền vào thành set, bên trong chứa list compehension, tất cả các giá trị từng phần tử của tham số n truyền vào\n",
        "  n = n.symmetric_difference(all_nums)        # tạo 1 set mới n, chứa những phần tử không thuộc cả 2 set n và all_nums\n",
        "  n = sorted(n)                               # sắp xếp lại thứ tự của set n, chuyển lại từ set sang list\n",
        "  return n                                    # trả về kết quả của n\n",
        "print(absent_digits([9,8,3,2,2,0,9,7,6,3]))\n",
        "# set.symmetric_difference(s) \n",
        "# Return a new set with elements in either the set or other but not both. \n",
        "# Trả về một bộ mới với các thành phần trong bộ này hoặc bộ khác nhưng không phải cả hai."
      ],
      "execution_count": 0,
      "outputs": [
        {
          "output_type": "stream",
          "text": [
            "[1, 4, 5]\n"
          ],
          "name": "stdout"
        }
      ]
    },
    {
      "cell_type": "markdown",
      "metadata": {
        "id": "wbmK2pWWK4sk",
        "colab_type": "text"
      },
      "source": [
        "**26, Viết chương trình Python để tính tổng của phép trừ lấy giá trị tuyệt đối của tất cả các cặp riêng biệt trong một mảng nhất định (thứ tự không giảm).**\n",
        "\n",
        "**Write a Python program to compute the summation of the absolute difference of all distinct pairs in an given array (non-decreasing order).**\n",
        "\n",
        "![alt text](https://www.w3resource.com/w3r_images/python-basic-1-image-exercise-26-a.svg)\n",
        "\n",
        "![alt text](https://www.w3resource.com/w3r_images/python-basic-1-image-exercise-26-b.svg)"
      ]
    },
    {
      "cell_type": "code",
      "metadata": {
        "id": "Icmp2jKbIM1n",
        "colab_type": "code",
        "outputId": "ffde43de-19a0-4c82-8a06-79664a53a1ea",
        "colab": {
          "base_uri": "https://localhost:8080/",
          "height": 51
        }
      },
      "source": [
        "def sum_distinct_pairs(arr):\n",
        "  result = 0                                        # tạo biến result gán kết quả vào biến\n",
        "  i = 0                                             # tạo biến i, để tăng số lần i sao mỗi lần lặp\n",
        "  while i < len(arr):                               # Điều kiện dừng vòng lặp while khi i = len(arr), độ dài của list tham số arr\n",
        "    result += i*arr[i] - (len(arr) - i-1) *arr[i]   # Công thức để tính kết quả \n",
        "    i += 1                                          # Sau mỗi lần lặp, tăng i để thoát khỏi vòng lặp While\n",
        "  return result                                     # Trả về kết quả \n",
        "print(sum_distinct_pairs([1,2,3]))\n",
        "print(sum_distinct_pairs([1,4,5]))"
      ],
      "execution_count": 0,
      "outputs": [
        {
          "output_type": "stream",
          "text": [
            "4\n",
            "8\n"
          ],
          "name": "stdout"
        }
      ]
    },
    {
      "cell_type": "markdown",
      "metadata": {
        "id": "5RiAeumBPEV5",
        "colab_type": "text"
      },
      "source": [
        "**27, Viết chương trình Python để tìm loại tiến trình (tiến trình số học / tiến trình hình học) và thành viên kế tiếp của ba thành viên liên tiếp đã cho của một chuỗi.**\n",
        "\n",
        "**Write a Python program to find the type of the progression (arithmetic progression/geometric progression) and the next successive member of a given three successive members of a sequence.**\n",
        "\n",
        "![alt text](https://www.w3resource.com/w3r_images/python-basic-1-image-exercise-27-a.svg)\n",
        "\n",
        "![alt text](https://www.w3resource.com/w3r_images/python-basic-1-image-exercise-27-b.svg)\n"
      ]
    },
    {
      "cell_type": "code",
      "metadata": {
        "id": "LyrLM2cTLy6E",
        "colab_type": "code",
        "outputId": "72a5d206-c9a8-483a-e17d-79dfa4faa6bd",
        "colab": {
          "base_uri": "https://localhost:8080/",
          "height": 102
        }
      },
      "source": [
        "def ap_gp_sequence(arr):\n",
        "  if arr[0] == arr[1] == arr[2] == 0:         # kiểm tra 3 giá trị đầu tiên của tham số truyên vào, nếu 3 số = 0\n",
        "    return \"Wrong Numbers\"                    # báo lỗi nhập sai số\n",
        "  else:                                       # Nếu 3 số khác không\n",
        "    if arr[1] - arr[0] == arr[2] - arr[1]:    # kiểm tra điều kiện tiếp, nếu số thứ 2 - số thứ 1 = số thứ 3 - số thứ 2\n",
        "      n = 2 * arr[2] - arr[1]                 # tạo biến n, n = 2 * số thứ 3 - số thứ 2\n",
        "      return \"Ap sequence, \" + \"Next number of the sequence: \" + str(n)\n",
        "    else:                                     # nếu số thứ 2 - số thứ 1 không bằng số thứ 3 - số thứ 2\n",
        "      n = arr[2] ** 2/arr[1]                  # tạo biến n, n = số thứ 3 bình phương 2, chia cho số thứ 2\n",
        "      return \"GP sequence, \" + \"Next number of the sequence: \" + str(n)\n",
        "print(ap_gp_sequence([1,2,3]))\n",
        "print(ap_gp_sequence([2,6,18]))\n",
        "print(ap_gp_sequence([0,0,0]))\n",
        "print(ap_gp_sequence([1,5,9,13,17,21]))       # Hàm chỉ đúng khi thực hiện list trên thôi.\n",
        "print(ap_gp_sequence([1,2,4,8,16,32]))"
      ],
      "execution_count": 0,
      "outputs": [
        {
          "output_type": "stream",
          "text": [
            "Ap sequence, Next number of the sequence: 4\n",
            "GP sequence, Next number of the sequence: 54.0\n",
            "Wrong Numbers\n",
            "Ap sequence, Next number of the sequence: 13\n",
            "GP sequence, Next number of the sequence: 8.0\n"
          ],
          "name": "stdout"
        }
      ]
    },
    {
      "cell_type": "markdown",
      "metadata": {
        "id": "45nk0rYSSfcE",
        "colab_type": "text"
      },
      "source": [
        "**28, Viết chương trình Python để in độ dài của chuỗi và chuỗi từ số hạng thứ 3 đã cho, số hạng thứ 3 cuối cùng và tổng của một bộ.**\n",
        "\n",
        "**Write a Python program to print the length of the series and the series from the given 3rd term, 3rd last term and the sum of a series.**"
      ]
    },
    {
      "cell_type": "code",
      "metadata": {
        "id": "1BCdCS4SQL73",
        "colab_type": "code",
        "outputId": "259b20ba-6997-4c9e-aa76-c58d86c7342c",
        "colab": {
          "base_uri": "https://localhost:8080/",
          "height": 119
        }
      },
      "source": [
        "tn = int(input(\"Input third term of the serries: \"))  # Hiểu code nhưng chưa hiểu yêu cầu của đề bài\n",
        "tltn = int(input(\"Input 3rd last term: \"))\n",
        "s_sum = int(input(\"Sum of the series: \"))\n",
        "n = int(2*s_sum/(tn + tltn))\n",
        "print(\"Length of the series: \", n)\n",
        "\n",
        "if n-5 == 0:\n",
        "  d = (s_sum -3 * tn) // 6\n",
        "else:\n",
        "  d = (tltn - tn)/ (n - 5)\n",
        "\n",
        "a = tn - 2 * d \n",
        "j = 0\n",
        "print(\"Series: \")\n",
        "for j in range(n-1):\n",
        "  print(int(a), end = \" \")\n",
        "  a += d \n",
        "print(int(a), end =\" \")"
      ],
      "execution_count": 0,
      "outputs": [
        {
          "output_type": "stream",
          "text": [
            "Input third term of the serries: 3\n",
            "Input 3rd last term: 6\n",
            "Sum of the series: 36\n",
            "Length of the series:  8\n",
            "Series: \n",
            "1 2 3 4 5 6 7 8 "
          ],
          "name": "stdout"
        }
      ]
    },
    {
      "cell_type": "markdown",
      "metadata": {
        "id": "Y4drXOY4VD2T",
        "colab_type": "text"
      },
      "source": [
        "**29, Viết chương trình Python để tìm các ước số chung giữa hai số trong một cặp nhất định.( ước số chung nhỏ nhất của 2 số)**\n",
        "\n",
        "**Write a Python program to find common divisors between two numbers in a given pair.**\n",
        "\n",
        "![alt text](https://www.w3resource.com/w3r_images/python-basic-1-image-exercise-29.png)"
      ]
    },
    {
      "cell_type": "code",
      "metadata": {
        "id": "ssR4hEWVTqOb",
        "colab_type": "code",
        "outputId": "a9617f46-be75-4f96-c2ba-e87ddb22e02e",
        "colab": {
          "base_uri": "https://localhost:8080/",
          "height": 85
        }
      },
      "source": [
        "def ngcd(x, y):                         # Hàm này chưa biết tên là gì\n",
        "  i = 1                                 # khởi tạo biến i, gán bắt đầu = 1\n",
        "  while(i <= x and i <= y):             # Vòng lặp while, dừng khi 1 trong điều kiện i > x, hoặc i > y\n",
        "    if (x % i == 0 and y % i == 0):     # Điều kiện, x là số chẵn và y là số chẵn\n",
        "      gcd = i                           # tạo biến gcd, gán kết quả gcd = i\n",
        "    i += 1                              # Sau mỗi lần lặp , i = i + 1\n",
        "  return gcd                            # trả về kết quả hàm, là kết quả của biến gcd\n",
        "\n",
        "def num_comm_div(x, y):                 # Hàm này chưa biết tên là gì\n",
        "  n = ngcd(x,y)                         # biến n, được gán bằng kết quả của hàm ngcd(x, y)\n",
        "  result = 0                            # tạo biến result = 0, dùng để gán kết quả tìm được vào biến\n",
        "  z = int(n**0.5)                       # biến z\n",
        "  i = 1                                 # biến i, dùng để tăng số lần lên sau mỗi lần lặp\n",
        "  while (i <= z):                       # Vòng lặp while, dừng lại khi i > z\n",
        "    if (n % i == 0):                    # Điều kiện n là số chẵn\n",
        "      result += 2                       # result = result + 2\n",
        "      if( i == n/i):                    # Điều kiện lồng trong trong if trên, nếu i = n/i\n",
        "        result -= 1                     # result = result - 1, kết quả result là vừa tìm được ở trên\n",
        "    i += 1                              # tăng i lên 1\n",
        "  return result                         # trả về kết quả hàm, result\n",
        "\n",
        "print(\"Number of common divisors: \",num_comm_div(2, 4))\n",
        "print(\"Number of common divisors: \",num_comm_div(2, 8))\n",
        "print(\"Number of common divisors: \",num_comm_div(12, 24))\n",
        "print(\"Number of common divisors: \",num_comm_div(336, 360))"
      ],
      "execution_count": 0,
      "outputs": [
        {
          "output_type": "stream",
          "text": [
            "Number of common divisors:  2\n",
            "Number of common divisors:  2\n",
            "Number of common divisors:  6\n",
            "Number of common divisors:  8\n"
          ],
          "name": "stdout"
        }
      ]
    },
    {
      "cell_type": "markdown",
      "metadata": {
        "id": "63kD2ddNaHKT",
        "colab_type": "text"
      },
      "source": [
        "**30, Viết chương trình Python để đảo ngược các chữ số của một số đã cho và thêm nó vào ban đầu, Nếu tổng không phải là một bảng màu lặp lại quy trình này. (số palindrome vẫn giữ nguyên cho dù được viết tiến hay lùi)**\n",
        "\n",
        "**Write a Python program to reverse the digits of a given number and add it to the original, If the sum is not a palindrome repeat this procedure. (pallindrome numbers remain the same whether written fowards or backwards)**\n",
        "\n",
        "![alt text](https://www.w3resource.com/w3r_images/python-basic-1-image-exercise-30.png)"
      ]
    },
    {
      "cell_type": "code",
      "metadata": {
        "id": "kzrgAyS3V24u",
        "colab_type": "code",
        "outputId": "5511da18-ac40-4edc-d8f0-96a36573f66a",
        "colab": {
          "base_uri": "https://localhost:8080/",
          "height": 85
        }
      },
      "source": [
        "def rev_number(n):\n",
        "  s = 0                   # tạo 1 biến s = 0, dùng để tăng giá trị s + 1 sau mỗi lần lặp\n",
        "  while True:             # Vòng lặp dừng lại khi điều kiện break được diễn ra. Tức là gặp số pallinrome thì mới kết thúc vòng lặp\n",
        "    k = str(n)            # biến k gán giá trị của tham số truyền vào, ép kiểu tham số từ số sang str\n",
        "    if k == k[::-1]:      # điều kiện k mà bằng đảo ngược của k. VD: [1111], [1221],...\n",
        "      break               # break, dừng kết thúc vòng lặp\n",
        "    else:                 # k mà không bằng đảo ngược của k\n",
        "      m = int(k[::-1])    # tạo biến m, m = đảo ngược của k\n",
        "      n += m              # tham số truyền vào n = n + m\n",
        "      s += 1              # s = s + 1\n",
        "  return n                # trả về kết quả của hàm, return n\n",
        "\n",
        "print(rev_number(1234))\n",
        "print(rev_number(1473))\n",
        "print(rev_number(1221))\n",
        "print(rev_number(492192)) # Tìm được n sau 12 lần lặp, s = 12"
      ],
      "execution_count": 0,
      "outputs": [
        {
          "output_type": "stream",
          "text": [
            "5555\n",
            "9339\n",
            "1221\n",
            "23354245332\n"
          ],
          "name": "stdout"
        }
      ]
    },
    {
      "cell_type": "markdown",
      "metadata": {
        "id": "wat3z6xvdosB",
        "colab_type": "text"
      },
      "source": [
        "**31, Viết chương trình Python để đếm số lượng thao tác mang theo cho mỗi tập hợp các vấn đề bổ sung.**\n",
        "\n",
        "**Write a Python program to count the number of carry operations for each of a set of addition problems.**\n",
        "\n",
        "![alt text](https://www.w3resource.com/w3r_images/python-basic-1-image-exercise-31.png)"
      ]
    },
    {
      "cell_type": "code",
      "metadata": {
        "id": "GqGr6kRxarrv",
        "colab_type": "code",
        "outputId": "9b866d82-7a1e-4a2b-891f-87b145b648c6",
        "colab": {
          "base_uri": "https://localhost:8080/",
          "height": 68
        }
      },
      "source": [
        "def carry_number(x, y):           \n",
        "  ctr = 0                         # tạo biến ctr = 0, dùng để tăng giá trị ctr sau mỗi lần lặp\n",
        "  if (x == 0 and y == 0):         # điều kiên nếu tham số truyền vào x, y = 0\n",
        "    return 0                      # trả về kết quả 0\n",
        "  z = 0                           # tạo biến z = 0, dùng để gán trị từ công thức z bên dưới vào\n",
        "  for i in reversed(range(10)):   # duyệt từng phần tử trong range(10) theo thứ tự đảo ngược, từ 9 8 ... 0, lặp 10 lần vì có thể tham số truyền vào giá trị lên tới 10 chữ số\n",
        "    z = x % 10 + y%10 + z         # công thức tính z\n",
        "    if z > 9:                     # tính được z, nếu z > 9\n",
        "      z = 1                       # gán lại z = 1\n",
        "    else:                         # z < 9\n",
        "      z = 0                       # gán lại z = 0\n",
        "    ctr += z                      # ctr = ctr + z\n",
        "    x //= 10                      # tham số truyền vào x, x = x chia lấy số nguyên 10, tức giảm đi 1 chữ số. Giảm hết tất cả chữ số thì coi như xong\n",
        "    y //= 10                      # tham số truyền vào y, y = y chia lấy số nguyên 10, tức giảm đi 1 chữ số\n",
        "  \n",
        "  if ctr == 0:                    # Từ kết quả ctr tìm được, kiểm tra điều điện, ctr =0\n",
        "    return \"No carry operation\"\n",
        "  elif ctr == 1:                  # ctr = 1\n",
        "    return ctr \n",
        "  else:                           # ctr khác 0, 1\n",
        "    return ctr \n",
        "\n",
        "print(carry_number(786, 457))\n",
        "print(carry_number(5, 6))\n",
        "print(carry_number(7845214611, 4542545744))\n"
      ],
      "execution_count": 0,
      "outputs": [
        {
          "output_type": "stream",
          "text": [
            "3\n",
            "1\n",
            "4\n"
          ],
          "name": "stdout"
        }
      ]
    },
    {
      "cell_type": "markdown",
      "metadata": {
        "id": "DkiFrAQmh3_N",
        "colab_type": "text"
      },
      "source": [
        "**32, Viết một chương trình python để tìm chiều cao của ba người đứng đầu tòa nhà ở thứ tự giảm dần từ tám tòa nhà nhất định.**\n",
        "\n",
        "**Write a python program to find heights of the top three building in descending order from eight given buildings.**\n",
        "\n",
        "![alt text](https://www.w3resource.com/w3r_images/python-basic-1-image-exercise-32.png)"
      ]
    },
    {
      "cell_type": "code",
      "metadata": {
        "id": "dWD5GolOevae",
        "colab_type": "code",
        "outputId": "60d82a0c-ddb6-41f5-8636-0f13251e1974",
        "colab": {
          "base_uri": "https://localhost:8080/",
          "height": 255
        }
      },
      "source": [
        "print(\"Input the heights of eigth buildings: \")   # In chuỗi bảo nhập chiều cao\n",
        "l = [int(input()) for i in range(8)]              # tạo 1 list bằng comprehension, biểu thức là số nhập vào bàn phím, duyệt giá trị trong đoạn range(8), tức là lặp lại 8 lần\n",
        "print(\"Heights of the top three buildings: \")     # kết quả là biến l là 1 list những số được nhập vào\n",
        "l = sorted(l)                                     # sắp xếp lại list l, theo thứ tự tăng dần từ trái qua phải, tức là từ bé đến lớn\n",
        "print(l[:4:-1], sep = '\\n')                       # Nếu in bình thường thì là thành 1 list, index là 3 phần tử, theo chiều từ phải sang trái, tức 3 phần tử lớn nhất\n",
        "print(*l[:4:-1], sep = '\\n')                      # thêm * trước list, tạo thành 1 str và in được mỗi phần tử 1 dòng"
      ],
      "execution_count": 0,
      "outputs": [
        {
          "output_type": "stream",
          "text": [
            "Input the heights of eigth buildings: \n",
            "1\n",
            "2\n",
            "3\n",
            "4\n",
            "5\n",
            "6\n",
            "7\n",
            "8\n",
            "Heights of the top three buildings: \n",
            "[8, 7, 6]\n",
            "8\n",
            "7\n",
            "6\n"
          ],
          "name": "stdout"
        }
      ]
    },
    {
      "cell_type": "markdown",
      "metadata": {
        "id": "2_FLuJ2Wk8-z",
        "colab_type": "text"
      },
      "source": [
        "**33, Viết chương trình Python để tính số chữ số tổng của hai số nguyên đã cho.**\n",
        "\n",
        "**Write a Python program to compute the digit number of sum of two given integers.**\n",
        "\n",
        "![alt text](https://www.w3resource.com/w3r_images/python-basic-1-image-exercise-33.png)"
      ]
    },
    {
      "cell_type": "code",
      "metadata": {
        "id": "CEvvSFvPicou",
        "colab_type": "code",
        "outputId": "0aee340e-86d4-4185-d1a9-ac478e4c480e",
        "colab": {
          "base_uri": "https://localhost:8080/",
          "height": 85
        }
      },
      "source": [
        "print(\"Input two integers(a b): \")      # map(function_name, list_name)\n",
        "a, b = map(int, input().split(\" \"))     # biến a, b được gán bới 2 giá trị từ nhập vào từ bàn phím. Điều kiện số là int, mỗi số nhập vào cách nhau 1 dấu cách\n",
        "print(\"Number of digit of a and b.\")      \n",
        "print(len(str(a+b)))                    # độ dài của chuỗi kết quả (a+b), độ dài là 2 thì là có 2 chữ số"
      ],
      "execution_count": 0,
      "outputs": [
        {
          "output_type": "stream",
          "text": [
            "Input two integers(a b): \n",
            "5 7\n",
            "Number of digit of a and b.\n",
            "2\n"
          ],
          "name": "stdout"
        }
      ]
    },
    {
      "cell_type": "markdown",
      "metadata": {
        "id": "FojoPg1Ym1G-",
        "colab_type": "text"
      },
      "source": [
        "**34, Viết chương trình Python để kiểm tra xem ba độ dài cho trước (số nguyên) của ba cạnh có tạo thành một tam giác vuông hay không. In \"Có\" nếu các cạnh đã cho tạo thành một tam giác vuông, nếu không thì in \"Không\".**\n",
        "\n",
        "**Write a Python program to check whether three given lengths (integers) of three sides form a right triangle. Print \"Yes\" if the given sides form a right triangle otherwise print \"No\".**\n",
        "\n",
        "![alt text](https://www.w3resource.com/w3r_images/python-basic-1-image-exercise-34.png)"
      ]
    },
    {
      "cell_type": "code",
      "metadata": {
        "id": "RImi75MblfSm",
        "colab_type": "code",
        "outputId": "3459283f-d2e0-4470-90bd-e2a8a2023a2e",
        "colab": {
          "base_uri": "https://localhost:8080/",
          "height": 68
        }
      },
      "source": [
        "print(\"Input three integers(side of a triangle)\")\n",
        "int_num = list(map(int, input().split())) # tạo 1 list int_num, phần tử trong list là số nhập vào từ bàn phím, là số int, mỗi số được nhập cách nhau bởi dấu cách\n",
        "x, y, z = sorted(int_num)                 # biến x, y, z được gán bởi mỗi phần tử trong list.\n",
        "if x**2 + y**2 == z**2:                    \n",
        "  print(\"Yes\")\n",
        "else:\n",
        "  print(\"No\")"
      ],
      "execution_count": 0,
      "outputs": [
        {
          "output_type": "stream",
          "text": [
            "Input three integers(side of a triangle)\n",
            "2 3 4\n",
            "No\n"
          ],
          "name": "stdout"
        }
      ]
    },
    {
      "cell_type": "markdown",
      "metadata": {
        "id": "iPd2SVUtELCQ",
        "colab_type": "text"
      },
      "source": [
        "**35, Viết chương trình Python giải phương trình:\n",
        "ax + by = c || dx + ey = f. In các giá trị của x, y trong đó a, b, c, d, e và f được đưa ra.**\n",
        "\n",
        "**Write a Python program which solve the equation:\n",
        "ax+by=c ||\n",
        "dx+ey=f.\n",
        "Print the values of x, y where a, b, c, d, e and f are given.**"
      ]
    },
    {
      "cell_type": "code",
      "metadata": {
        "id": "oMYIg_w3ntCU",
        "colab_type": "code",
        "outputId": "2c23eac3-5d4f-439c-ae36-fa4f8a963626",
        "colab": {
          "base_uri": "https://localhost:8080/",
          "height": 85
        }
      },
      "source": [
        "print(\"Input the value of a,b,c,d,e,f: \")\n",
        "a, b, c, d, e, f = map(float, input().split())  # tạo biến a,b,c,d,e,f và gán giá trị nhập vào cho biến\n",
        "n = a*e - b*d \n",
        "print(\"Values of x and y: \")\n",
        "if n != 0:\n",
        "  x = (c*e - b*f) / n\n",
        "  y = (a*f - c*d) / n\n",
        "  print('x = {:.3f}, y = {:.3f}'.format(x+0, y+0))"
      ],
      "execution_count": 0,
      "outputs": [
        {
          "output_type": "stream",
          "text": [
            "Input the value of a,b,c,d,e,f: \n",
            "5 8 6 7 9 4\n",
            "Values of x and y: \n",
            "x = -2.000, y = 2.000\n"
          ],
          "name": "stdout"
        }
      ]
    },
    {
      "cell_type": "markdown",
      "metadata": {
        "id": "ZQ31cHszGn3X",
        "colab_type": "text"
      },
      "source": [
        "**36, Viết chương trình Python để tính số tiền nợ trong n tháng. Số tiền vay là 100.000 đô la và khoản vay cộng thêm 5% tiền lãi của khoản nợ và làm tròn số tiền đó lên mức 1.000 gần nhất theo tháng.**\n",
        "\n",
        "**Write a Python program to compute the amount of the debt in n months. The borrowing amount is $100,000 and the loan adds 5% interest of the debt and rounds it to the nearest 1,000 above month by month.**"
      ]
    },
    {
      "cell_type": "code",
      "metadata": {
        "id": "vb4paJc1FK-F",
        "colab_type": "code",
        "outputId": "9532d664-6364-4a21-f86c-72c9523e5c9c",
        "colab": {
          "base_uri": "https://localhost:8080/",
          "height": 68
        }
      },
      "source": [
        "def round_n(n):                                   # Hàm làm tròn số lên mức 1000 gần nhất\n",
        "  if n % 10000:                                   # Điều kiện, nếu n chia 1000 có dư, tức là số chưa tròn\n",
        "    return (1+n // 1000) * 1000                   # Công thức làm tròn số tới mức 1000 gấn nhất(có thể là làm tròn lên hoặc xuống), trả về n sau khi làm tròn\n",
        "  else:                                           # Nếu số chia 1000 không dư\n",
        "    return n                                      # Trả về n\n",
        "\n",
        "def compute_debt(n):                              # Hàm tính lãi theo năm\n",
        "  if n == 0:                                      # Nếu n = 0\n",
        "    return 100000                                 # Trả về giá trị hàm, n = 100000, hàm compute_debt(0) = 100000\n",
        "  return int(round_n(compute_debt(n-1)*1.05))     # kết quả trả về, 2 hàm lồng nhau, hàm làm tròn số lồng hàm tính lãi theo năm\n",
        "                                                  # VD: Gọi n = 7, hàm compute_debt(7)->compute(6)->...->compute(0) và bắt đầu trả về n = 100000. \n",
        "                                                  # Tiếp sẽ thực hiện hàm round_n(100000 * 1.05) - lãi suất 5% 1 năm \n",
        "print(\"Input number of months: \")\n",
        "result = compute_debt(int(input()))\n",
        "print(\"Amount of debt: \", \"$\" + str(result).strip())"
      ],
      "execution_count": 0,
      "outputs": [
        {
          "output_type": "stream",
          "text": [
            "Input number of months: \n",
            "7\n",
            "Amount of debt:  $145000\n"
          ],
          "name": "stdout"
        }
      ]
    },
    {
      "cell_type": "markdown",
      "metadata": {
        "id": "DWSnwH-eNlRh",
        "colab_type": "text"
      },
      "source": [
        "**37, Viết chương trình Python đọc số nguyên n và tìm số kết hợp của a, b, c và d (0 ≤ a, b, c, d 9) trong đó (a + b + c + d) sẽ bằng n**\n",
        "\n",
        "**Write a Python program which reads an integer n and find the number of combinations of a,b,c and d (0 ≤ a,b,c,d ≤ 9) where (a + b + c + d) will be equal to n.**"
      ]
    },
    {
      "cell_type": "code",
      "metadata": {
        "id": "ny9zPQllHM0W",
        "colab_type": "code",
        "outputId": "ec33443c-d37e-4b4d-a890-aba5dd487b8e",
        "colab": {
          "base_uri": "https://localhost:8080/",
          "height": 68
        }
      },
      "source": [
        "import itertools \n",
        "print(\"Input the numbers(n): \")\n",
        "n = int(input())\n",
        "result = 0\n",
        "for (i,j,k) in itertools.product(range(10), range(10), range(10)): # 3 vòng for lồng nhau (lặp hết k thì tăng j, lặp lại k. Tăng hết j thì tăng i, lặp lại j, k. Lặp hết 1000 lần tất cả)\n",
        "  result += (0<=n - (i+j+k) <= 9)   # Công thức tìm số kết hợp.\n",
        "print(\"Number of combinations: \", result)"
      ],
      "execution_count": 0,
      "outputs": [
        {
          "output_type": "stream",
          "text": [
            "Input the numbers(n): \n",
            "15\n",
            "Number of combinations:  592\n"
          ],
          "name": "stdout"
        }
      ]
    },
    {
      "cell_type": "markdown",
      "metadata": {
        "id": "3Cyj9w6mPjym",
        "colab_type": "text"
      },
      "source": [
        "**38, Viết chương trình Python để in số lượng số nguyên tố nhỏ hơn hoặc bằng một số nguyên cho trước.**\n",
        "\n",
        "**Write a Python program to print the number of prime numbers which are less than or equal to a given integer.**\n",
        "\n",
        "![alt text](https://www.w3resource.com/w3r_images/python-basic-1-image-exercise-38.svg)"
      ]
    },
    {
      "cell_type": "code",
      "metadata": {
        "id": "fwVJpTgPOEyD",
        "colab_type": "code",
        "outputId": "776fab1e-191f-4f4c-edc7-91dfac5bd88e",
        "colab": {
          "base_uri": "https://localhost:8080/",
          "height": 68
        }
      },
      "source": [
        "primes = [1] * 500000           # tạo primes là 1 list ban đầu là [1] nhân giá trị list lên 500000\n",
        "primes[0] = 0                   # đổi giá trị index đầu tiên primes[0] là 0\n",
        "\n",
        "for i in range(3, 1000, 2):     # duyệt từng phần tử trong range(3,1000) cách nhau 2 đơn vị, tức là duyệt giá trị tất cả là số lẻ.\n",
        "  if primes[i // 2]:            # Điều kiện nếu index của list primes tại vị trí [i chia 2 lấy số nguyên]\n",
        "    primes[(i*i)// 2::i] = [0] * len(primes[(i*i)// 2::i])  # Công thức tìm số nguyên tố\n",
        "\n",
        "print(\"Input the numbers(n): \")\n",
        "n = int(input())\n",
        "if n < 4:                       # Điều kiện nếu n < 4. VD: n = 3 thì có 2 số nguyên tố, n = 2 thì có 1, n = 1 thì có 0 số nguyên tố\n",
        "  print(\"Number of prime numbers which are less than or equal to n.: \", n - 1)\n",
        "else:                           # n >= 4\n",
        "  print(\"Number of prime numbers which are less than or equal to n.: \", sum(primes[:(n+1) // 2]) + 1 )"
      ],
      "execution_count": 0,
      "outputs": [
        {
          "output_type": "stream",
          "text": [
            "Input the numbers(n): \n",
            "35\n",
            "Number of prime numbers which are less than or equal to n.:  11\n"
          ],
          "name": "stdout"
        }
      ]
    },
    {
      "cell_type": "markdown",
      "metadata": {
        "id": "3ijQovoES5kd",
        "colab_type": "text"
      },
      "source": [
        "**39, Viết chương trình tính bán kính và tọa độ trung tâm (x, y) của một đường tròn được xây dựng bởi ba điểm đã cho trên mặt phẳng.**\n",
        "\n",
        "**Write a program to compute the radius and the central coordinate (x, y) of a circle which is constructed by three given points on the plane surface.**"
      ]
    },
    {
      "cell_type": "code",
      "metadata": {
        "id": "NcuG4LqlQZak",
        "colab_type": "code",
        "outputId": "be969e79-5a97-42f5-e219-80cf6b824ff5",
        "colab": {
          "base_uri": "https://localhost:8080/",
          "height": 119
        }
      },
      "source": [
        "print(\"Input three coordinate of the circle: \")         # Nhiều biến, nhiều công thức\n",
        "x1, y1, x2, y2, x3, y3 = map(float, input().split())\n",
        "c = (x1 - x2) **2 + (y1 - y2)**2\n",
        "a = (x2 - x3) **2 + (y2 - y3)**2\n",
        "b = (x3 - x1) **2 + (y3 - y1)**2\n",
        "s = 2*(a*b + b*c + c*a) - (a*a + b*b + c*c)\n",
        "px = (a*(b + c - a) * x1 + b*(c + a - b)* x2 + c*(a + b - c) * x3) / s\n",
        "py = (a*(b + c -a) *y1 + b*(c + a - b) * y2 + c* (a + b - c) * y3) / s \n",
        "ar = a ** 0.5\n",
        "br = b ** 0.5\n",
        "cr = c ** 0.5\n",
        "r = ar * br * cr / ((ar + br + cr) * (-ar + br + cr) * (ar - br + cr) * (ar + br - cr)) ** 0.5\n",
        "print(\"Radius of the said circle: \")\n",
        "print(\"{:>.3f}\".format(r))\n",
        "print(\"Central coordinate (x, y) of the circle: \")\n",
        "print(\"{:>.3f}\".format(px), \"{:>.3f}\".format(py))"
      ],
      "execution_count": 0,
      "outputs": [
        {
          "output_type": "stream",
          "text": [
            "Input three coordinate of the circle: \n",
            "9 3 6 8 3 6\n",
            "Radius of the said circle: \n",
            "3.358\n",
            "Central coordinate (x, y) of the circle: \n",
            "6.071 4.643\n"
          ],
          "name": "stdout"
        }
      ]
    },
    {
      "cell_type": "markdown",
      "metadata": {
        "id": "hNy7RAnvV0wM",
        "colab_type": "text"
      },
      "source": [
        "**40, Viết chương trình Python để kiểm tra xem một điểm (x, y) có nằm trong tam giác hay không. Có một hình tam giác được hình thành bởi ba điểm.**\n",
        "\n",
        "**Write a Python program to check whether a point (x,y) is in a triangle or not. There is a triangle formed by three points.**\n",
        "\n"
      ]
    },
    {
      "cell_type": "code",
      "metadata": {
        "id": "A6PTTzIpU_YB",
        "colab_type": "code",
        "outputId": "4e619c06-236c-4470-db17-f62b071e138d",
        "colab": {
          "base_uri": "https://localhost:8080/",
          "height": 68
        }
      },
      "source": [
        "print(\"Input x1, y1, x2, y2, x3, y1, xp, yp: \")               # Công thức, áp công thức là xong\n",
        "x1, y1, x2, y2, x3, y3, xp, yp = map(float, input().split())\n",
        "c1 = (x2 - x1) * (yp - y1) -(y2 - y1) * (xp - x1)\n",
        "c2 = (x3 - x2) * (yp - y2) - (y3-y2) * (xp - x2)\n",
        "c3 = (x1 - x3) * (yp- y3) - (y1 - y3) * (xp - x3)\n",
        "if (c1 < 0 and c2 < 0 and c3 < 0) or (c1 > 0 and c2 > 0 and c3 > 0):\n",
        "  print(\"The point is in the triangle\")\n",
        "else:\n",
        "  print(\"The point is outside the triangle\")"
      ],
      "execution_count": 0,
      "outputs": [
        {
          "output_type": "stream",
          "text": [
            "Input x1, y1, x2, y2, x3, y1, xp, yp: \n",
            "2 3 4 5 6 8 7 1\n",
            "The point is outside the triangle\n"
          ],
          "name": "stdout"
        }
      ]
    },
    {
      "cell_type": "markdown",
      "metadata": {
        "id": "62Jgjgp0XN4p",
        "colab_type": "text"
      },
      "source": [
        "**41, Viết chương trình Python để tính toán và in tổng của hai số nguyên đã cho (nhiều hơn hoặc bằng 0). Nếu số nguyên cho trước hoặc tổng có hơn 80 chữ số, hãy in \"tràn\".**\n",
        "\n",
        "**Write a Python program to compute and print sum of two given integers (more than or equal to zero). If given integers or the sum have more than 80 digits, print \"overflow\".**"
      ]
    },
    {
      "cell_type": "code",
      "metadata": {
        "id": "OtW5q1gUWmf3",
        "colab_type": "code",
        "outputId": "9b2d4025-20de-4e7d-b43e-b71188f18293",
        "colab": {
          "base_uri": "https://localhost:8080/",
          "height": 122
        }
      },
      "source": [
        "print(\"Input first integer: \")\n",
        "x = int(input())\n",
        "print(\"Input second integer: \")\n",
        "y = int(input())\n",
        "if x >= 10 ** 80 or y >= 10 ** 80 or x + y >= 10 * 80:\n",
        "  print(\"Overflow!\")\n",
        "else:\n",
        "  print(\"Sum of the two integers: \", x + y)"
      ],
      "execution_count": 0,
      "outputs": [
        {
          "output_type": "stream",
          "text": [
            "Input first integer: \n",
            "9999999999999999999999999999999999999999999999999999999999999999999999999999999999999999999999999999999999999999999999999999999999999999999999999999999999999999999999999999999999999999999999999999999999999999999999999999999999999999999999999999999999999999999999999999999999999999999999999999999999999999999999999999999999999999999999999999999999999999999999999999999999999999999999999999999999999999999999999999999999999999999999999999999999999999999999999999999999999999999999999999999999999999999999999999999999999999999999999999999999999999999999999999999999999999999999999999999999999999999999999999999999999999999999999999999999999999999999999999999999999999999999999999999999999999999999999999999999999999999999999999999999999999999999999999999999999999999999999999999999999999999999999999999999999999999999999999999999999999\n",
            "Input second integer: \n",
            "1\n",
            "Overflow!\n"
          ],
          "name": "stdout"
        }
      ]
    },
    {
      "cell_type": "markdown",
      "metadata": {
        "id": "g_sPJD3za0H9",
        "colab_type": "text"
      },
      "source": [
        "**42, Viết chương trình Python chấp nhận sáu số làm đầu vào và sắp xếp chúng theo thứ tự giảm dần.**\n",
        "\n",
        "**Write a Python program that accepts six numbers as input and sorts them in descending order.**\n",
        "\n",
        "![alt text](https://www.w3resource.com/w3r_images/python-basic-1-image-exercise-42.png)"
      ]
    },
    {
      "cell_type": "code",
      "metadata": {
        "id": "CKDtn6HXX6Qx",
        "colab_type": "code",
        "outputId": "7809ac74-7325-4a62-9184-fc448983688b",
        "colab": {
          "base_uri": "https://localhost:8080/",
          "height": 102
        }
      },
      "source": [
        "print(\"Input six integers: \")\n",
        "nums = list(map(int, input().split()))\n",
        "nums.sort()                                 # Sắp xếp lại list theo thứ tự từ bé đến lớn\n",
        "nums.reverse()                              # Đảo ngược lại list thứ tự thành từ lớn đến bé\n",
        "print(\"After sorting the said integers: \")\n",
        "print(*nums)                                # *nums là bỏ list\n",
        "print(nums)"
      ],
      "execution_count": 0,
      "outputs": [
        {
          "output_type": "stream",
          "text": [
            "Input six integers: \n",
            "9 2 4 5 6 2\n",
            "After sorting the said integers: \n",
            "9 6 5 4 2 2\n",
            "[9, 6, 5, 4, 2, 2]\n"
          ],
          "name": "stdout"
        }
      ]
    },
    {
      "cell_type": "markdown",
      "metadata": {
        "id": "zdvCnWoocKSj",
        "colab_type": "text"
      },
      "source": [
        "**43, Viết chương trình Python để kiểm tra xem hai dòng PQ và RS có song song không. Bốn điểm là P (x1, y1), Q (x2, y2), R (x3, y3), S (x4, y4).**\n",
        "\n",
        "**Write a Python program to test whether two lines PQ and RS are parallel. The four points are P(x1, y1), Q(x2, y2), R(x3, y3), S(x4, y4).**"
      ]
    },
    {
      "cell_type": "code",
      "metadata": {
        "id": "jiBW1W69bTxg",
        "colab_type": "code",
        "outputId": "daf36bb5-9715-4025-d980-586b22609767",
        "colab": {
          "base_uri": "https://localhost:8080/",
          "height": 68
        }
      },
      "source": [
        "print(\"Input x1, y1, x2, y2, x3, y3, xp, yp: \")\n",
        "x1, y1, x2, y2, x3, y3, x4, y4 = map(float, input().split())\n",
        "print(\"PQ and RS are parallel.\" if abs((x2 - x1) * (y4 - y3) - (x4 - x3) * (y2 - y1)) < 1e-10 else \"PQ and RS are not parallel.\" ) "
      ],
      "execution_count": 0,
      "outputs": [
        {
          "output_type": "stream",
          "text": [
            "Input x1, y1, x2, y2, x3, y3, xp, yp: \n",
            "2 5 6 4 8 3 9 7\n",
            "PQ and RS are not parallel.\n"
          ],
          "name": "stdout"
        }
      ]
    },
    {
      "cell_type": "markdown",
      "metadata": {
        "id": "qBtKzh33dThR",
        "colab_type": "text"
      },
      "source": [
        "**44, Viết chương trình Python để tìm tổng tối đa của một dãy liền kề từ một dãy số đã cho a1, a2, a3, ... an. Một chuỗi con của một yếu tố cũng là một chuỗi con liên tục.**\n",
        "\n",
        "**Write a Python program to find the maximum sum of a contiguous subsequence from a given sequence of numbers a1, a2, a3, ... an. A subsequence of one element is also a continuous subsequence.**"
      ]
    },
    {
      "cell_type": "code",
      "metadata": {
        "id": "2KxPNu7ucx24",
        "colab_type": "code",
        "outputId": "e61ebddb-8610-4115-c4ab-fd080798b9ac",
        "colab": {
          "base_uri": "https://localhost:8080/",
          "height": 187
        }
      },
      "source": [
        "while True:\n",
        "  print(\"Input number of sequence of numbers you want to input (0 to exit): \")\n",
        "  n = int(input())\n",
        "  if n == 0:                            # Nếu nhập vào 0 thì sẽ thoát khỏi vòng lặp, dừng chương trình\n",
        "    break \n",
        "  else:                                 # Nếu nhập số khác 0, thì chương trình hoạt động\n",
        "    A = []                              # Tạo list A rỗng, mục đích là thêm từng giá trị nhập vào từ bàn phím vào trong list A\n",
        "    Sum = []                            # Tạo list Sum rỗng, gán kết quả tính tổng vào trong list Sum\n",
        "    print(\"Input numbers: \")            # Nhập từng số\n",
        "    for i in range(n):                  # Duyệt giá trị từng phần tử trong đoạn range(n), n là những số được nhập vào \n",
        "      A.append(int(input()))            # Thêm từng giá trị nhập vào cho vào trong list A\n",
        "    Wa = 0                              # Tạo biến Wa, khởi tạo bằng 0\n",
        "    for i in range(0, n):               # Duyệt giá trị từng phần tử trong đoan range(0, n)\n",
        "      Wa += A[i]                        # Wa = Wa + A[i], tức là + giá trị index[i] của list A\n",
        "      Sum.append(Wa)                    # Thêm từng phần tử kết quả Wa tính được vào Sum\n",
        "    for i in range(0, n):               # Duyệt giá trị từng phần tử trong đoạn range(0,n)\n",
        "      for j in range(0, i):             # For lồng nhau, duyệt từng phần tử trong đoạn range(0, i)\n",
        "        Num = Sum[i] - Sum[j]           # Tạo biến Num = Sum[i] - Sum[j]\n",
        "        Sum.append(Num)                 # Thêm từng phần tử kết quả Num tính được vào Sum\n",
        "    print(\"Maximum sum of the said contiguous subsequence: \")\n",
        "    print(max(Sum))                     # max(Sum), tìm số lớn trong list"
      ],
      "execution_count": 0,
      "outputs": [
        {
          "output_type": "stream",
          "text": [
            "Input number of sequence of numbers you want to input (0 to exit): \n",
            "3\n",
            "Input numbers: \n",
            "1\n",
            "2\n",
            "3\n",
            "Maximum sum of the said contiguous subsequence: \n",
            "6\n",
            "Input number of sequence of numbers you want to input (0 to exit): \n",
            "0\n"
          ],
          "name": "stdout"
        }
      ]
    },
    {
      "cell_type": "markdown",
      "metadata": {
        "id": "GqcfnUb7eyeK",
        "colab_type": "text"
      },
      "source": [
        "45, Có hai đường tròn C1 có bán kính r1, tọa độ trung tâm (x1, y1) và C2 có bán kính r2 và tọa độ trung tâm (x2, y2)\n",
        "\n",
        "Viết chương trình Python để kiểm tra các mục sau -\n",
        "\n",
        "\"C2 ở trong C1\" nếu C2 ở  trong C1\n",
        "\n",
        "\"C1 ở trong C2\" nếu C1 ở trong C2\n",
        "\n",
        "\"Chu vi của C1 và C2 cắt nhau\" nếu chu vi của C1 và C2 cắt nhau, và\n",
        "\n",
        "\"C1 và C2 không trùng nhau\" nếu C1 và C2 không trùng nhau.\n",
        "\n",
        "![alt text](https://www.w3resource.com/w3r_images/python-basic-1-image-exercise-45.png)"
      ]
    },
    {
      "cell_type": "code",
      "metadata": {
        "id": "iWdTpEbpeWrf",
        "colab_type": "code",
        "outputId": "e2a5a037-79b0-4cd8-d52d-07574b0db435",
        "colab": {
          "base_uri": "https://localhost:8080/",
          "height": 68
        }
      },
      "source": [
        "import math\n",
        "print(\"Input x1, y1, r1, x2, y2, r2: \")\n",
        "x1, y1, r1, x2, y2, r2 = [float(i) for i in input().split()]\n",
        "d = math.sqrt((x1 - x2) ** 2 + (y1 - y2) ** 2)\n",
        "if d < r1-r2:\n",
        "  print(\"C2 is in C1\")\n",
        "elif d < r2 - r1:\n",
        "  print(\"C1 is in C2\")\n",
        "elif d > r1 + r2:\n",
        "  print(\"Circumference of C1 and C2 intersect\")\n",
        "else:\n",
        "  print(\"C1 and C2 do not overlap\")"
      ],
      "execution_count": 0,
      "outputs": [
        {
          "output_type": "stream",
          "text": [
            "Input x1, y1, r1, x2, y2, r2: \n",
            "5 6 4 8 7 9\n",
            "C1 is in C2\n"
          ],
          "name": "stdout"
        }
      ]
    },
    {
      "cell_type": "markdown",
      "metadata": {
        "id": "7Or6TYFdPlRF",
        "colab_type": "text"
      },
      "source": [
        ""
      ]
    },
    {
      "cell_type": "code",
      "metadata": {
        "id": "qnjyT6iWf-u3",
        "colab_type": "code",
        "colab": {}
      },
      "source": [
        ""
      ],
      "execution_count": 0,
      "outputs": []
    }
  ]
}