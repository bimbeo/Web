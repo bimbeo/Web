{
  "nbformat": 4,
  "nbformat_minor": 0,
  "metadata": {
    "colab": {
      "name": "Operating System Services.ipynb",
      "provenance": [],
      "authorship_tag": "ABX9TyMtlVjw7qwCcv9FoS2rKscQ",
      "include_colab_link": true
    },
    "kernelspec": {
      "name": "python3",
      "display_name": "Python 3"
    }
  },
  "cells": [
    {
      "cell_type": "markdown",
      "metadata": {
        "id": "view-in-github",
        "colab_type": "text"
      },
      "source": [
        "<a href=\"https://colab.research.google.com/github/bimbeo/Web/blob/master/Operating_System_Services.ipynb\" target=\"_parent\"><img src=\"https://colab.research.google.com/assets/colab-badge.svg\" alt=\"Open In Colab\"/></a>"
      ]
    },
    {
      "cell_type": "markdown",
      "metadata": {
        "id": "PY_97fpRa5qW",
        "colab_type": "text"
      },
      "source": [
        "**1, Viết chương trình Python để lấy tên của hệ điều hành (Nền tảng độc lập), thông tin của hệ điều hành hiện tại, thư mục làm việc hiện tại, in tệp và thư mục trong thư mục hiện tại và gây ra lỗi trong trường hợp tên và đường dẫn tệp không hợp lệ hoặc không thể truy cập.**\n",
        "\n",
        "**Write a Python program to get the name of the operating system (Platform independent), information of current operating system, current working directory, print files and directories in the current directory and raises error in the case of invalid or inaccessible file names and paths.**"
      ]
    },
    {
      "cell_type": "code",
      "metadata": {
        "id": "EFQt9AFUaxDX",
        "colab_type": "code",
        "colab": {
          "base_uri": "https://localhost:8080/",
          "height": 224
        },
        "outputId": "5b89c0b8-051c-4b8b-bbb7-e684d0ee81d0"
      },
      "source": [
        "import os\n",
        "print(\"Operating System:\",os.name)\n",
        "print(\"\\nInformation of current operating system: \",os.uname())\n",
        "print(\"\\nCurrent Working Directory: \",os.getcwd())\n",
        "print(\"\\nList of files and directories in the current directory:\")\n",
        "print(os.listdir('.'))\n",
        "print(\"\\nTest if a specified file exis or not:\")\n",
        "try:\n",
        "   filename = 'abc.txt'\n",
        "   f = open(filename, 'r')\n",
        "   text = f.read()\n",
        "   f.close()\n",
        "except IOError:\n",
        "   print('Not accessed or problem in reading: ' + filename)"
      ],
      "execution_count": 1,
      "outputs": [
        {
          "output_type": "stream",
          "text": [
            "Operating System: posix\n",
            "\n",
            "Information of current operating system:  posix.uname_result(sysname='Linux', nodename='dfc269e60d95', release='4.19.104+', version='#1 SMP Wed Feb 19 05:26:34 PST 2020', machine='x86_64')\n",
            "\n",
            "Current Working Directory:  /content\n",
            "\n",
            "List of files and directories in the current directory:\n",
            "['.config', 'sample_data']\n",
            "\n",
            "Test if a specified file exis or not:\n",
            "Not accessed or problem in reading: abc.txt\n"
          ],
          "name": "stdout"
        }
      ]
    },
    {
      "cell_type": "markdown",
      "metadata": {
        "id": "2GeLyjsubQ7A",
        "colab_type": "text"
      },
      "source": [
        "**2, Viết chương trình Python để chỉ liệt kê các thư mục, tệp và tất cả các thư mục, tệp trong một đường dẫn cụ thể.**\n",
        "\n",
        "**Write a Python program to list only directories, files and all directories, files in a specified path.**\n",
        "\n"
      ]
    },
    {
      "cell_type": "code",
      "metadata": {
        "id": "grNw-DC8bD1S",
        "colab_type": "code",
        "colab": {}
      },
      "source": [
        "import os\n",
        "path = 'g:\\\\testpath\\\\'\n",
        "print(\"Only directories:\")\n",
        "print([ name for name in os.listdir(path) if os.path.isdir(os.path.join(path, name)) ])\n",
        "print(\"\\nOnly files:\")\n",
        "print([ name for name in os.listdir(path) if not os.path.isdir(os.path.join(path, name)) ])\n",
        "print(\"\\nAll directories and files :\")\n",
        "print([ name for name in os.listdir(path)])\n",
        "\n",
        "\"\"\" Báo lỗi không tìm thấy đường dẫn g:\\\\testpath\\\\\n",
        "    Only directories:\n",
        "    ['a', 'b', 'c', 'd', 'e', 'f']\n",
        "    Only files:\n",
        "    ['p.txt', 'q.txt', 'r.docx', 's.xlsx']\n",
        "    All directories and files :\n",
        "    ['a', 'b', 'c', 'd', 'e', 'f', 'p.txt', 'q.txt', 'r.docx', 's.xlsx']\"\"\""
      ],
      "execution_count": 0,
      "outputs": []
    },
    {
      "cell_type": "markdown",
      "metadata": {
        "id": "XzSPvLiab0dV",
        "colab_type": "text"
      },
      "source": [
        "**3, Viết chương trình Python để quét một thư mục được chỉ định và xác định các thư mục con và tệp.**\n",
        "\n",
        "**Write a Python program to scan a specified directory and identify the sub directories and files.**\n",
        "\n"
      ]
    },
    {
      "cell_type": "code",
      "metadata": {
        "id": "GnQv8BMWbYn4",
        "colab_type": "code",
        "colab": {}
      },
      "source": [
        "import os\n",
        "root = 'g:\\\\testpath\\\\'\n",
        "for entry in os.scandir(root):\n",
        "   if entry.is_dir():\n",
        "       typ = 'dir'\n",
        "   elif entry.is_file():\n",
        "       typ = 'file'\n",
        "   elif entry.is_symlink():\n",
        "       typ = 'link'\n",
        "   else:\n",
        "       typ = 'unknown'\n",
        "   print('{name} {typ}'.format(\n",
        "       name=entry.name,\n",
        "       typ=typ,\n",
        "   ))\n",
        "  \n",
        "\"\"\" Báo lỗi không tìm thấy đường dẫn g:\\\\testpath\\\\\n",
        "      a dir\n",
        "      b dir\n",
        "      c dir\n",
        "      d dir\n",
        "      e dir\n",
        "      f dir\n",
        "      p.txt file\n",
        "      q.txt file\n",
        "      r.docx file\n",
        "      s.xlsx file                                                   \"\"\"\n"
      ],
      "execution_count": 0,
      "outputs": []
    },
    {
      "cell_type": "markdown",
      "metadata": {
        "id": "-Fk4VV3zb_81",
        "colab_type": "text"
      },
      "source": [
        "**4, Viết chương trình Python để kiểm tra quyền truy cập vào một đường dẫn cụ thể. Kiểm tra sự tồn tại, khả năng đọc, khả năng ghi và khả năng thực thi của đường dẫn đã chỉ định.**\n",
        "\n",
        "**Write a Python program to check for access to a specified path. Test the existence, readability, writability and executability of the specified path.**\n",
        "\n"
      ]
    },
    {
      "cell_type": "code",
      "metadata": {
        "id": "rtohM00eb4ju",
        "colab_type": "code",
        "colab": {
          "base_uri": "https://localhost:8080/",
          "height": 85
        },
        "outputId": "4f501ebc-be35-44e6-d695-82f4af5673d5"
      },
      "source": [
        "import os\n",
        "print('Exist:', os.access('c:\\\\Users\\\\Public\\\\C programming library.docx', os.F_OK))\n",
        "print('Readable:', os.access('c:\\\\Users\\\\Public\\\\C programming library.docx', os.R_OK))\n",
        "print('Writable:', os.access('c:\\\\Users\\\\Public\\\\C programming library.docx', os.W_OK))\n",
        "print('Executable:', os.access('c:\\\\Users\\\\Public\\\\C programming library.docx', os.X_OK))"
      ],
      "execution_count": 4,
      "outputs": [
        {
          "output_type": "stream",
          "text": [
            "Exist: False\n",
            "Readable: False\n",
            "Writable: False\n",
            "Executable: False\n"
          ],
          "name": "stdout"
        }
      ]
    },
    {
      "cell_type": "markdown",
      "metadata": {
        "id": "aaE5XDqKcPjI",
        "colab_type": "text"
      },
      "source": [
        "**5, Viết chương trình Python để lấy kích thước, quyền, chủ sở hữu, thiết bị, được tạo, lần sửa đổi cuối cùng và thời gian ngày truy cập cuối cùng của một đường dẫn được chỉ định.**\n",
        "\n",
        "**Write a Python program to get the size, permissions, owner, device, created, last modified and last accessed date time of a specified path**"
      ]
    },
    {
      "cell_type": "code",
      "metadata": {
        "id": "ghk9JYrKcJ6T",
        "colab_type": "code",
        "colab": {}
      },
      "source": [
        "import os\n",
        "import sys\n",
        "import time\n",
        "path = 'g:\\\\testpath\\\\'\n",
        "print('Path Name ({}):'.format(path))\n",
        "print('Size:', stat_info.st_size)\n",
        "print('Permissions:', oct(stat_info.st_mode))\n",
        "print('Owner:', stat_info.st_uid)\n",
        "print('Device:', stat_info.st_dev)\n",
        "print('Created     :', time.ctime(stat_info.st_ctime))\n",
        "print('Last modified:', time.ctime(stat_info.st_mtime))\n",
        "print('Last accessed:', time.ctime(stat_info.st_atime))\n",
        "\n",
        "\"\"\" Báo lỗi\n",
        "    Path Name (g:\\testpath\\):\n",
        "    Size: 546\n",
        "    Permissions: 0o100666\n",
        "    Owner: 0\n",
        "    Device: 4235770541\n",
        "    Created      : Wed Jan 15 11:21:42 2020\n",
        "    Last modified: Thu Jan 16 15:32:11 2020\n",
        "    Last accessed: Thu Jan 16 15:32:11 2020                      \"\"\""
      ],
      "execution_count": 0,
      "outputs": []
    },
    {
      "cell_type": "markdown",
      "metadata": {
        "id": "HTNXRwaAckHA",
        "colab_type": "text"
      },
      "source": [
        "**6, Viết chương trình Python để tạo liên kết tượng trưng và đọc nó để quyết định tệp gốc được liên kết bởi liên kết.**\n",
        "\n",
        "**Write a Python program to create a symbolic link and read it to decide the original file pointed by the link.**\n",
        "\n"
      ]
    },
    {
      "cell_type": "code",
      "metadata": {
        "id": "GcJXMwOecUCd",
        "colab_type": "code",
        "colab": {}
      },
      "source": [
        "import os\n",
        "path = '/tmp/' + os.path.basename(__file__)\n",
        "print('Creating link {} -> {}'.format(path, __file__))\n",
        "os.symlink(__file__, path)\n",
        "stat_info = os.lstat(path)\n",
        "print('\\nFile Permissions:', oct(stat_info.st_mode))\n",
        "print('\\nPoints to:', os.readlink(path))\n",
        "#removes the file path\n",
        "os.unlink(path)\n",
        "\n",
        "\"\"\" Creating link /tmp/main.py -> /tmp/sessions/af6c4b4e3816cd19/main.py\n",
        "\n",
        "    File Permissions: 0o120777\n",
        "\n",
        "    Points to: /tmp/sessions/af6c4b4e3816cd19/main.py                                     \"\"\""
      ],
      "execution_count": 0,
      "outputs": []
    },
    {
      "cell_type": "markdown",
      "metadata": {
        "id": "DLDoFYoMc4BQ",
        "colab_type": "text"
      },
      "source": [
        "**7, Viết chương trình Python để tạo tệp và viết một số văn bản và đổi tên tên tệp.**\n",
        "\n",
        "**Write a Python program to create a file and write some text and rename the file name.**\n",
        "\n"
      ]
    },
    {
      "cell_type": "code",
      "metadata": {
        "id": "QBYffKoxcokv",
        "colab_type": "code",
        "colab": {
          "base_uri": "https://localhost:8080/",
          "height": 153
        },
        "outputId": "781b4989-744d-4208-b54d-96f7e961f796"
      },
      "source": [
        "import glob\n",
        "import os\n",
        "with open('a.txt', 'w') as f:\n",
        "   f.write('Python program to create a symbolic link and read it to decide the original file pointed by the link.')\n",
        "print('\\nInitial file/dir name:', os.listdir())\n",
        "with open('a.txt', 'r') as f:\n",
        "   print('\\nContents of a.txt:', repr(f.read()))   \n",
        "os.rename('a.txt', 'b.txt')\n",
        "print('\\nAfter renaming initial file/dir name:', os.listdir())\n",
        "with open('b.txt', 'r') as f:\n",
        "   print('\\nContents of b.txt:', repr(f.read()))"
      ],
      "execution_count": 7,
      "outputs": [
        {
          "output_type": "stream",
          "text": [
            "\n",
            "Initial file/dir name: ['.config', 'a.txt', 'sample_data']\n",
            "\n",
            "Contents of a.txt: 'Python program to create a symbolic link and read it to decide the original file pointed by the link.'\n",
            "\n",
            "After renaming initial file/dir name: ['.config', 'b.txt', 'sample_data']\n",
            "\n",
            "Contents of b.txt: 'Python program to create a symbolic link and read it to decide the original file pointed by the link.'\n"
          ],
          "name": "stdout"
        }
      ]
    },
    {
      "cell_type": "markdown",
      "metadata": {
        "id": "xFsYHoYddFhs",
        "colab_type": "text"
      },
      "source": [
        "**8, Viết chương trình Python để tìm id quá trình cha mẹ, ID người dùng thực của quy trình hiện tại và thay đổi ID người dùng thực.**\n",
        "\n",
        "**Write a Python program to find the parent’s process id, real user ID of the current process and change real user ID.**\n",
        "\n"
      ]
    },
    {
      "cell_type": "code",
      "metadata": {
        "id": "bTh-urBcc-LC",
        "colab_type": "code",
        "colab": {
          "base_uri": "https://localhost:8080/",
          "height": 119
        },
        "outputId": "25e915ce-9975-4ef7-aed8-955d8aadbbfc"
      },
      "source": [
        "import os\n",
        "print(\"Parent’s process id:\",os.getppid())\n",
        "uid = os.getuid()\n",
        "print(\"\\nUser ID of the current process:\", uid)\n",
        "uid = 1400\n",
        "os.setuid(uid)\n",
        "print(\"\\nUser ID changed\")\n",
        "print(\"User ID of the current process:\", os.getuid())"
      ],
      "execution_count": 8,
      "outputs": [
        {
          "output_type": "stream",
          "text": [
            "Parent’s process id: 18\n",
            "\n",
            "User ID of the current process: 0\n",
            "\n",
            "User ID changed\n",
            "User ID of the current process: 1400\n"
          ],
          "name": "stdout"
        }
      ]
    },
    {
      "cell_type": "markdown",
      "metadata": {
        "id": "zCUNX3H7dLx0",
        "colab_type": "text"
      },
      "source": [
        "**9, Viết chương trình Python để lấy thư mục làm việc hiện tại và thay đổi thư mục (di chuyển lên).**\n",
        "\n",
        "**Write a Python program to retrieve the current working directory and change the dir (moving up one).**"
      ]
    },
    {
      "cell_type": "code",
      "metadata": {
        "id": "TPUxrRuJdIqO",
        "colab_type": "code",
        "colab": {
          "base_uri": "https://localhost:8080/",
          "height": 136
        },
        "outputId": "4ce798be-d458-4198-98ce-57f702bd8277"
      },
      "source": [
        "import os\n",
        "print('Current dir:', os.getcwd())\n",
        "print('\\nChange the dir (moving up one):', os.pardir)\n",
        "os.chdir(os.pardir)\n",
        "print('Current dir:', os.getcwd())\n",
        "print('\\nChange the dir (moving up one):', os.pardir)\n",
        "os.chdir(os.pardir)\n",
        "print('Current dir:', os.getcwd())"
      ],
      "execution_count": 9,
      "outputs": [
        {
          "output_type": "stream",
          "text": [
            "Current dir: /content\n",
            "\n",
            "Change the dir (moving up one): ..\n",
            "Current dir: /\n",
            "\n",
            "Change the dir (moving up one): ..\n",
            "Current dir: /\n"
          ],
          "name": "stdout"
        }
      ]
    },
    {
      "cell_type": "markdown",
      "metadata": {
        "id": "lItzjiBVdTgw",
        "colab_type": "text"
      },
      "source": [
        "**10, Viết chương trình python để truy cập các biến môi trường và giá trị của biến môi trường.**\n",
        "\n",
        "**Write a python program to access environment variables and value of the environment variable.**\n",
        "\n"
      ]
    },
    {
      "cell_type": "code",
      "metadata": {
        "id": "3KQmGayedP3T",
        "colab_type": "code",
        "colab": {
          "base_uri": "https://localhost:8080/",
          "height": 241
        },
        "outputId": "d753bf39-7c13-4ff5-f3d1-f2516e54d8ef"
      },
      "source": [
        "import os\n",
        "print(\"Access all environment variables:\")\n",
        "print('*----------------------------------*')\n",
        "print(os.environ)\n",
        "print('*----------------------------------*')\n",
        "print(\"Access a particular environment variable:\")\n",
        "print(os.environ['HOME'])\n",
        "print('*----------------------------------*')\n",
        "print(os.environ['PATH'])\n",
        "print('*----------------------------------*')\n",
        "print('Value of the environment variable key:')\n",
        "print(os.getenv('JAVA_HOME'))\n",
        "print(os.getenv('PYTHONPATH'))"
      ],
      "execution_count": 10,
      "outputs": [
        {
          "output_type": "stream",
          "text": [
            "Access all environment variables:\n",
            "*----------------------------------*\n",
            "environ({'ENV': '/root/.bashrc', 'GCS_READ_CACHE_BLOCK_SIZE_MB': '16', 'CLOUDSDK_CONFIG': '/content/.config', 'CUDA_VERSION': '10.1.243', 'PATH': '/usr/local/nvidia/bin:/usr/local/cuda/bin:/usr/local/sbin:/usr/local/bin:/usr/sbin:/usr/bin:/sbin:/bin:/tools/node/bin:/tools/google-cloud-sdk/bin:/opt/bin', 'HOME': '/root', 'LD_LIBRARY_PATH': '/usr/local/nvidia/lib:/usr/local/nvidia/lib64', 'LANG': 'en_US.UTF-8', 'SHELL': '/bin/bash', 'LIBRARY_PATH': '/usr/local/cuda/lib64/stubs', 'CUDA_PKG_VERSION': '10-1=10.1.243-1', 'SHLVL': '1', 'GCE_METADATA_TIMEOUT': '0', 'NCCL_VERSION': '2.4.8', 'NVIDIA_VISIBLE_DEVICES': 'all', 'TF_FORCE_GPU_ALLOW_GROWTH': 'true', 'DEBIAN_FRONTEND': 'noninteractive', 'CUDNN_VERSION': '7.6.5.32', 'LAST_FORCED_REBUILD': '20200512', 'JPY_PARENT_PID': '18', 'PYTHONPATH': '/env/python', 'DATALAB_SETTINGS_OVERRIDES': '{\"kernelManagerProxyPort\":6000,\"kernelManagerProxyHost\":\"172.28.0.3\",\"jupyterArgs\":[\"--ip=\\\\\"172.28.0.2\\\\\"\"]}', 'NO_GCE_CHECK': 'True', 'GLIBCXX_FORCE_NEW': '1', 'NVIDIA_DRIVER_CAPABILITIES': 'compute,utility', '_': '/tools/node/bin/node', 'LD_PRELOAD': '/usr/lib/x86_64-linux-gnu/libtcmalloc.so.4', 'NVIDIA_REQUIRE_CUDA': 'cuda>=10.1 brand=tesla,driver>=384,driver<385 brand=tesla,driver>=396,driver<397 brand=tesla,driver>=410,driver<411', 'OLDPWD': '/', 'HOSTNAME': 'dfc269e60d95', 'COLAB_GPU': '0', 'PWD': '/', 'GLIBCPP_FORCE_NEW': '1', 'PYTHONWARNINGS': 'ignore:::pip._internal.cli.base_command', 'TBE_CREDS_ADDR': '172.28.0.1:8008', 'TERM': 'xterm-color', 'CLICOLOR': '1', 'PAGER': 'cat', 'GIT_PAGER': 'cat', 'MPLBACKEND': 'module://ipykernel.pylab.backend_inline'})\n",
            "*----------------------------------*\n",
            "Access a particular environment variable:\n",
            "/root\n",
            "*----------------------------------*\n",
            "/usr/local/nvidia/bin:/usr/local/cuda/bin:/usr/local/sbin:/usr/local/bin:/usr/sbin:/usr/bin:/sbin:/bin:/tools/node/bin:/tools/google-cloud-sdk/bin:/opt/bin\n",
            "*----------------------------------*\n",
            "Value of the environment variable key:\n",
            "None\n",
            "/env/python\n"
          ],
          "name": "stdout"
        }
      ]
    },
    {
      "cell_type": "markdown",
      "metadata": {
        "id": "hM8K1sCadd9M",
        "colab_type": "text"
      },
      "source": [
        "**11, Viết chương trình Python để lặp lại trên đường dẫn cấp gốc và in tất cả các thư mục con và tệp của nó, cũng lặp qua các thư mục và tệp được chỉ định.**\n",
        "\n",
        "**Write a Python program to iterate over a root level path and print all its sub-directories and files, also loop over specified dirs and files.**\n",
        "\n"
      ]
    },
    {
      "cell_type": "code",
      "metadata": {
        "id": "9Pp061-odXO1",
        "colab_type": "code",
        "colab": {
          "base_uri": "https://localhost:8080/",
          "height": 51
        },
        "outputId": "295f0692-e35e-44f2-ff8f-e82678dce003"
      },
      "source": [
        "import os\n",
        "print('Iterate over a root level path:')\n",
        "path = '/tmp/'\n",
        "for root, dirs, files in os.walk(path):\n",
        " print(root)"
      ],
      "execution_count": 11,
      "outputs": [
        {
          "output_type": "stream",
          "text": [
            "Iterate over a root level path:\n",
            "/tmp/\n"
          ],
          "name": "stdout"
        }
      ]
    },
    {
      "cell_type": "markdown",
      "metadata": {
        "id": "_jOg2plFdm0b",
        "colab_type": "text"
      },
      "source": [
        "**12, Viết chương trình Python để kiểm tra xem một đường dẫn đã cho có tồn tại hay không. Nếu đường dẫn tồn tại, tìm tên tệp và phần thư mục của đường dẫn đã nói.**\n",
        "\n",
        "**Write a Python program to test whether a given path exists or not. If the path exist find the filename and directory portion of the said path.**\n",
        "\n"
      ]
    },
    {
      "cell_type": "code",
      "metadata": {
        "id": "ad2vQNErdhTd",
        "colab_type": "code",
        "colab": {
          "base_uri": "https://localhost:8080/",
          "height": 170
        },
        "outputId": "ccf6f112-f1c5-4e83-8f1a-527b36eba89d"
      },
      "source": [
        "import os\n",
        "print(\"Test a path exists or not:\")\n",
        "path = r'g:\\\\testpath\\\\a.txt'\n",
        "print(os.path.exists(path))\n",
        "path = r'g:\\\\testpath\\\\p.txt'\n",
        "print(os.path.exists(path))\n",
        "print(\"\\nFile name of the path:\")\n",
        "print(os.path.basename(path))\n",
        "print(\"\\nDir name of the path:\")\n",
        "print(os.path.dirname(path))"
      ],
      "execution_count": 12,
      "outputs": [
        {
          "output_type": "stream",
          "text": [
            "Test a path exists or not:\n",
            "False\n",
            "False\n",
            "\n",
            "File name of the path:\n",
            "g:\\\\testpath\\\\p.txt\n",
            "\n",
            "Dir name of the path:\n",
            "\n"
          ],
          "name": "stdout"
        }
      ]
    },
    {
      "cell_type": "markdown",
      "metadata": {
        "id": "5flQw1YSd2X-",
        "colab_type": "text"
      },
      "source": [
        "**13, Viết chương trình Python để nối một hoặc nhiều thành phần đường dẫn lại với nhau và chia một đường dẫn đã cho trong thư mục và tệp.**\n",
        "\n",
        "**Write a Python program to join one or more path components together and split a given path in directory and file.**\n",
        "\n"
      ]
    },
    {
      "cell_type": "code",
      "metadata": {
        "id": "ozJ5BBJMdyET",
        "colab_type": "code",
        "colab": {
          "base_uri": "https://localhost:8080/",
          "height": 153
        },
        "outputId": "1f6ea0a2-f1fe-4b0a-9ab7-3671395035e0"
      },
      "source": [
        "import os\n",
        "path = r'g:\\\\testpath\\\\a.txt'\n",
        "print(\"Original path:\")\n",
        "print(path)\n",
        "print(\"\\nDir and file name of the said path:\")\n",
        "print(os.path.split(path))\n",
        "print(\"\\nJoin one or more path components together:\")\n",
        "print(os.path.join(r'g:\\\\testpath\\\\','a.txt'))"
      ],
      "execution_count": 13,
      "outputs": [
        {
          "output_type": "stream",
          "text": [
            "Original path:\n",
            "g:\\\\testpath\\\\a.txt\n",
            "\n",
            "Dir and file name of the said path:\n",
            "('', 'g:\\\\\\\\testpath\\\\\\\\a.txt')\n",
            "\n",
            "Join one or more path components together:\n",
            "g:\\\\testpath\\\\/a.txt\n"
          ],
          "name": "stdout"
        }
      ]
    },
    {
      "cell_type": "markdown",
      "metadata": {
        "id": "qzhAg8xId968",
        "colab_type": "text"
      },
      "source": [
        "**14, Viết chương trình Python để thay đổi chủ sở hữu và id nhóm của một tệp đã chỉ định.**\n",
        "\n",
        "**Write a Python program to alter the owner and the group id of a specified file**.\n",
        "\n",
        "\n",
        "\n"
      ]
    },
    {
      "cell_type": "code",
      "metadata": {
        "id": "QjLr22Ofd7U-",
        "colab_type": "code",
        "colab": {
          "base_uri": "https://localhost:8080/",
          "height": 231
        },
        "outputId": "7998f825-dba0-4eac-bdce-88c185468cfd"
      },
      "source": [
        "import os\n",
        "fd = os.open( \"/tmp\", os.O_RDONLY )\n",
        "os.fchown( fd, 100, -1)\n",
        "os.fchown( fd, -1, 50)\n",
        "print(\"Changed ownership successfully..\")\n",
        "os.close( fd )"
      ],
      "execution_count": 14,
      "outputs": [
        {
          "output_type": "error",
          "ename": "PermissionError",
          "evalue": "ignored",
          "traceback": [
            "\u001b[0;31m---------------------------------------------------------------------------\u001b[0m",
            "\u001b[0;31mPermissionError\u001b[0m                           Traceback (most recent call last)",
            "\u001b[0;32m<ipython-input-14-506199bb98c1>\u001b[0m in \u001b[0;36m<module>\u001b[0;34m()\u001b[0m\n\u001b[1;32m      1\u001b[0m \u001b[0;32mimport\u001b[0m \u001b[0mos\u001b[0m\u001b[0;34m\u001b[0m\u001b[0;34m\u001b[0m\u001b[0m\n\u001b[1;32m      2\u001b[0m \u001b[0mfd\u001b[0m \u001b[0;34m=\u001b[0m \u001b[0mos\u001b[0m\u001b[0;34m.\u001b[0m\u001b[0mopen\u001b[0m\u001b[0;34m(\u001b[0m \u001b[0;34m\"/tmp\"\u001b[0m\u001b[0;34m,\u001b[0m \u001b[0mos\u001b[0m\u001b[0;34m.\u001b[0m\u001b[0mO_RDONLY\u001b[0m \u001b[0;34m)\u001b[0m\u001b[0;34m\u001b[0m\u001b[0;34m\u001b[0m\u001b[0m\n\u001b[0;32m----> 3\u001b[0;31m \u001b[0mos\u001b[0m\u001b[0;34m.\u001b[0m\u001b[0mfchown\u001b[0m\u001b[0;34m(\u001b[0m \u001b[0mfd\u001b[0m\u001b[0;34m,\u001b[0m \u001b[0;36m100\u001b[0m\u001b[0;34m,\u001b[0m \u001b[0;34m-\u001b[0m\u001b[0;36m1\u001b[0m\u001b[0;34m)\u001b[0m\u001b[0;34m\u001b[0m\u001b[0;34m\u001b[0m\u001b[0m\n\u001b[0m\u001b[1;32m      4\u001b[0m \u001b[0mos\u001b[0m\u001b[0;34m.\u001b[0m\u001b[0mfchown\u001b[0m\u001b[0;34m(\u001b[0m \u001b[0mfd\u001b[0m\u001b[0;34m,\u001b[0m \u001b[0;34m-\u001b[0m\u001b[0;36m1\u001b[0m\u001b[0;34m,\u001b[0m \u001b[0;36m50\u001b[0m\u001b[0;34m)\u001b[0m\u001b[0;34m\u001b[0m\u001b[0;34m\u001b[0m\u001b[0m\n\u001b[1;32m      5\u001b[0m \u001b[0mprint\u001b[0m\u001b[0;34m(\u001b[0m\u001b[0;34m\"Changed ownership successfully..\"\u001b[0m\u001b[0;34m)\u001b[0m\u001b[0;34m\u001b[0m\u001b[0;34m\u001b[0m\u001b[0m\n",
            "\u001b[0;31mPermissionError\u001b[0m: [Errno 1] Operation not permitted"
          ]
        }
      ]
    },
    {
      "cell_type": "markdown",
      "metadata": {
        "id": "RkFdApbSeKCd",
        "colab_type": "text"
      },
      "source": [
        "**15, Viết chương trình Python để lấy thông tin về tệp liên quan đến chế độ tệp. In thông tin - ID của thiết bị chứa tệp, số inode, bảo vệ, số liên kết cứng, ID người dùng của chủ sở hữu, ID nhóm của chủ sở hữu, tổng kích thước (tính bằng byte), thời gian truy cập lần cuối, thời gian sửa đổi lần cuối và thời gian cuối cùng Thay đổi trạng thái.**\n",
        "\n",
        "**Write a Python program to get information about the file pertaining to the file mode. Print the information - ID of device containing file, inode number, protection, number of hard links, user ID of owner, group ID of owner, total size (in bytes), time of last access, time of last modification and time of last status change.**\n",
        "\n"
      ]
    },
    {
      "cell_type": "code",
      "metadata": {
        "id": "mifscy-UeET1",
        "colab_type": "code",
        "colab": {}
      },
      "source": [
        "import os\n",
        "path = 'e:\\\\testpath\\\\p.txt'\n",
        "fd = os.open(path, os.O_RDWR)\n",
        "info = os.fstat(fd)\n",
        "print (f\"ID of device containing file: {info.st_dev}\")\n",
        "print (f\"Inode number: {info.st_ino}\")\n",
        "print (f\"Protection: {info.st_mode}\")\n",
        "print (f\"Number of hard links: {info.st_nlink}\")\n",
        "print (f\"User ID of owner: {info.st_uid}\")\n",
        "print (f\"Group ID of owner: {info.st_gid}\")\n",
        "print (f\"Total size, in bytes: {info.st_size}\")\n",
        "print (f\"Time of last access: {info.st_atime}\")\n",
        "print (f\"Time of last modification: {info.st_mtime }\")\n",
        "print (f\"Time of last status change: {info.st_ctime }\")\n",
        "os.close( fd)\n",
        "\n",
        "\"\"\"   Báo lỗi không thấy 'e:\\\\testpath\\\\p.txt'\n",
        "      ID of device containing file: 1181298613\n",
        "      Inode number: 3096224744097510\n",
        "      Protection: 33206\n",
        "      Number of hard links: 1\n",
        "      User ID of owner: 0\n",
        "      Group ID of owner: 0\n",
        "      Total size, in bytes: 44\n",
        "      Time of last access: 1579262486.6472013\n",
        "      Time of last modification: 1579262516.1362014\n",
        "      Time of last status change: 1579262486.6472013                                \"\"\""
      ],
      "execution_count": 0,
      "outputs": []
    },
    {
      "cell_type": "markdown",
      "metadata": {
        "id": "_zwez97leXV1",
        "colab_type": "text"
      },
      "source": [
        "**16, Viết chương trình Python để viết một chuỗi vào bộ đệm và truy xuất giá trị được ghi, ở phần cuối loại bỏ bộ nhớ đệm.**\n",
        "\n",
        "**Write a Python program to write a string to a buffer and retrieve the value written, at the end discard buffer memory.**\n",
        "\n"
      ]
    },
    {
      "cell_type": "code",
      "metadata": {
        "id": "nwWHn6ypeNi1",
        "colab_type": "code",
        "colab": {
          "base_uri": "https://localhost:8080/",
          "height": 34
        },
        "outputId": "712bd79e-f2e4-4acd-90f1-8fb676db90d2"
      },
      "source": [
        "import io\n",
        "# Write a string to a buffer\n",
        "output = io.StringIO()\n",
        "output.write('Python Exercises, Practice, Solution')\n",
        "# Retrieve the value written\n",
        "print(output.getvalue())\n",
        "# Discard buffer memory\n",
        "output.close()"
      ],
      "execution_count": 16,
      "outputs": [
        {
          "output_type": "stream",
          "text": [
            "Python Exercises, Practice, Solution\n"
          ],
          "name": "stdout"
        }
      ]
    },
    {
      "cell_type": "markdown",
      "metadata": {
        "id": "aMFmBEKieiry",
        "colab_type": "text"
      },
      "source": [
        "**17, Viết chương trình Python để chạy lệnh hệ điều hành bằng mô-đun os.**\n",
        "\n",
        "**Write a Python program to run an operating system command using the os module.**\n",
        "\n"
      ]
    },
    {
      "cell_type": "code",
      "metadata": {
        "id": "yRdw6W1JeeDE",
        "colab_type": "code",
        "colab": {
          "base_uri": "https://localhost:8080/",
          "height": 34
        },
        "outputId": "e830350a-1bbf-4e2b-84bc-f43853f5cf50"
      },
      "source": [
        "import os\n",
        "if os.name == \"nt\":\n",
        "   command = \"dir\"\n",
        "else:\n",
        "   command = \"ls -l\"\n",
        "os.system(command)\n",
        "\"\"\" \n",
        "    total 4\n",
        "    -rw-rw-rw- 1 root root 99 Jan 18 10:50 main.py                              \"\"\""
      ],
      "execution_count": 17,
      "outputs": [
        {
          "output_type": "execute_result",
          "data": {
            "text/plain": [
              "0"
            ]
          },
          "metadata": {
            "tags": []
          },
          "execution_count": 17
        }
      ]
    },
    {
      "cell_type": "markdown",
      "metadata": {
        "id": "PS0rvn2xeysR",
        "colab_type": "text"
      },
      "source": [
        "**18, Viết chương trình Python để bắt đầu một quy trình mới thay thế quy trình hiện tại.**\n",
        "\n",
        "**Write a Python program to start a new process replacing the current process.**\n",
        "\n"
      ]
    },
    {
      "cell_type": "code",
      "metadata": {
        "id": "szEt_zimeoXe",
        "colab_type": "code",
        "colab": {}
      },
      "source": [
        "# main.py\n",
        "import os\n",
        "import sys\n",
        "program = \"python\"\n",
        "arguments = [\"hello.py\"]\n",
        "print(os.execvp(program, (program,) + tuple(arguments)))\n",
        "print(\"Goodbye\")"
      ],
      "execution_count": 0,
      "outputs": []
    },
    {
      "cell_type": "code",
      "metadata": {
        "id": "9_2TzRCTe2xN",
        "colab_type": "code",
        "colab": {}
      },
      "source": [
        "# hello.py\n",
        "print(\"Operating System Services Exercises-18\")\n",
        "\n",
        "\"\"\" Output: \n",
        "    Operating System Services Exercises-18                                       \"\"\""
      ],
      "execution_count": 0,
      "outputs": []
    },
    {
      "cell_type": "markdown",
      "metadata": {
        "id": "RSZKK8HPfJS8",
        "colab_type": "text"
      },
      "source": [
        "**19, Kỷ nguyên là thời điểm bắt đầu thời gian và phụ thuộc vào nền tảng. Đối với Unix, kỷ nguyên là ngày 1 tháng 1 năm 1970, 00:00:00 (UTC). Viết chương trình Python để tìm hiểu xem epoch là gì trên một nền tảng nhất định. Cũng chuyển đổi một thời gian nhất định tính bằng giây kể từ kỷ nguyên.**\n",
        "\n",
        "**The epoch is the point where the time starts, and is platform dependent. For Unix, the epoch is January 1, 1970, 00:00:00 (UTC). Write a Python program to find out what the epoch is on a given platform. Also convert a given time in seconds since the epoch.**\n",
        "\n"
      ]
    },
    {
      "cell_type": "code",
      "metadata": {
        "id": "_Fv0X953fTZS",
        "colab_type": "code",
        "colab": {
          "base_uri": "https://localhost:8080/",
          "height": 119
        },
        "outputId": "43cd9f58-15f9-4a71-9fd3-d68912c5a02c"
      },
      "source": [
        "import time\n",
        "print(\"\\nEpoch on a given platform:\")\n",
        "print(time.gmtime(0))\n",
        "print(\"\\nTime in seconds since the epoch:\")\n",
        "print(time.gmtime(36000))"
      ],
      "execution_count": 1,
      "outputs": [
        {
          "output_type": "stream",
          "text": [
            "\n",
            "Epoch on a given platform:\n",
            "time.struct_time(tm_year=1970, tm_mon=1, tm_mday=1, tm_hour=0, tm_min=0, tm_sec=0, tm_wday=3, tm_yday=1, tm_isdst=0)\n",
            "\n",
            "Time in seconds since the epoch:\n",
            "time.struct_time(tm_year=1970, tm_mon=1, tm_mday=1, tm_hour=10, tm_min=0, tm_sec=0, tm_wday=3, tm_yday=1, tm_isdst=0)\n"
          ],
          "name": "stdout"
        }
      ]
    },
    {
      "cell_type": "markdown",
      "metadata": {
        "id": "sDv2p2pCfUr8",
        "colab_type": "text"
      },
      "source": [
        "**20, Viết chương trình Python để lấy giá trị thời gian với các thành phần sử dụng thời gian cục bộ và gmtime.**\n",
        "\n",
        "**Write a Python program to get time values with components using local time and gmtime.**\n",
        "\n"
      ]
    },
    {
      "cell_type": "code",
      "metadata": {
        "id": "jjrcjOuAfTzF",
        "colab_type": "code",
        "colab": {
          "base_uri": "https://localhost:8080/",
          "height": 391
        },
        "outputId": "74ee6737-4cd0-4f65-daae-803520d98cd7"
      },
      "source": [
        "import time\n",
        "def time_struct(s):\n",
        "   print(' tm_year :', s.tm_year)\n",
        "   print(' tm_mon :', s.tm_mon)\n",
        "   print(' tm_mday :', s.tm_mday)\n",
        "   print(' tm_hour :', s.tm_hour)\n",
        "   print(' tm_min :', s.tm_min)\n",
        "   print(' tm_sec :', s.tm_sec)\n",
        "   print(' tm_wday :', s.tm_wday)\n",
        "   print(' tm_yday :', s.tm_yday)\n",
        "   print(' tm_isdst:', s.tm_isdst)\n",
        "print('\\nlocaltime:')\n",
        "time_struct(time.localtime())\n",
        "print('\\ngmtime:')\n",
        "time_struct(time.gmtime())"
      ],
      "execution_count": 2,
      "outputs": [
        {
          "output_type": "stream",
          "text": [
            "\n",
            "localtime:\n",
            " tm_year : 2020\n",
            " tm_mon : 5\n",
            " tm_mday : 23\n",
            " tm_hour : 17\n",
            " tm_min : 3\n",
            " tm_sec : 54\n",
            " tm_wday : 5\n",
            " tm_yday : 144\n",
            " tm_isdst: 0\n",
            "\n",
            "gmtime:\n",
            " tm_year : 2020\n",
            " tm_mon : 5\n",
            " tm_mday : 23\n",
            " tm_hour : 17\n",
            " tm_min : 3\n",
            " tm_sec : 54\n",
            " tm_wday : 5\n",
            " tm_yday : 144\n",
            " tm_isdst: 0\n"
          ],
          "name": "stdout"
        }
      ]
    },
    {
      "cell_type": "markdown",
      "metadata": {
        "id": "zh9OT_KLfeAT",
        "colab_type": "text"
      },
      "source": [
        "**21, Viết chương trình Python để nhận các giá trị thời gian khác nhau với các múi giờ thành phần, chữ viết tắt múi giờ, phần bù của múi giờ địa phương (không phải DST), múi giờ DST và thời gian của các múi giờ khác nhau.**\n",
        "\n",
        "**Write a Python program to get different time values with components timezone, timezone abbreviations, the offset of the local (non-DST) timezone, DST timezone and time of different timezones.**\n",
        "\n"
      ]
    },
    {
      "cell_type": "code",
      "metadata": {
        "id": "btfXR9jmfbMi",
        "colab_type": "code",
        "colab": {
          "base_uri": "https://localhost:8080/",
          "height": 612
        },
        "outputId": "c7443de3-1e5f-4f21-a14e-3e985bd3ecf4"
      },
      "source": [
        "import time\n",
        "import os\n",
        "def zone_info():\n",
        "   print('TZ   :', os.environ.get('TZ', '(not set)'))\n",
        "   print('Timezone abbreviations:', time.tzname)\n",
        "   print('Timezone : {} ({})'.format(\n",
        "       time.timezone, (time.timezone / 3600)))\n",
        "   print('DST timezone ', time.daylight)\n",
        "   print('Time :', time.strftime('%X %x %Z'),'\\n')\n",
        "print('Default Zone:')\n",
        "zone_info()\n",
        "TIME_ZONES = [\n",
        "   'Pacific/Auckland',\n",
        "   'Europe/Berlin',\n",
        "   'America/Detroit',\n",
        "   'Singapore',\n",
        "]\n",
        "for zone in TIME_ZONES:\n",
        "   os.environ['TZ'] = zone\n",
        "   time.tzset()\n",
        "   print(zone, ':')\n",
        "   zone_info()"
      ],
      "execution_count": 3,
      "outputs": [
        {
          "output_type": "stream",
          "text": [
            "Default Zone:\n",
            "TZ   : (not set)\n",
            "Timezone abbreviations: ('UTC', 'UTC')\n",
            "Timezone : 0 (0.0)\n",
            "DST timezone  0\n",
            "Time : 17:04:20 05/23/20 UTC \n",
            "\n",
            "Pacific/Auckland :\n",
            "TZ   : Pacific/Auckland\n",
            "Timezone abbreviations: ('NZST', 'NZDT')\n",
            "Timezone : -43200 (-12.0)\n",
            "DST timezone  1\n",
            "Time : 05:04:20 05/24/20 NZST \n",
            "\n",
            "Europe/Berlin :\n",
            "TZ   : Europe/Berlin\n",
            "Timezone abbreviations: ('CET', 'CEST')\n",
            "Timezone : -3600 (-1.0)\n",
            "DST timezone  1\n",
            "Time : 19:04:20 05/23/20 CEST \n",
            "\n",
            "America/Detroit :\n",
            "TZ   : America/Detroit\n",
            "Timezone abbreviations: ('EST', 'EDT')\n",
            "Timezone : 18000 (5.0)\n",
            "DST timezone  1\n",
            "Time : 13:04:20 05/23/20 EDT \n",
            "\n",
            "Singapore :\n",
            "TZ   : Singapore\n",
            "Timezone abbreviations: ('+08', '+08')\n",
            "Timezone : -28800 (-8.0)\n",
            "DST timezone  0\n",
            "Time : 01:04:20 05/24/20 +08 \n",
            "\n"
          ],
          "name": "stdout"
        }
      ]
    },
    {
      "cell_type": "markdown",
      "metadata": {
        "id": "67W_iqJ2fkHl",
        "colab_type": "text"
      },
      "source": [
        "**22, Viết chương trình Python có thể tạm dừng thực thi một tập lệnh đã cho trong một số giây đã cho.**\n",
        "\n",
        "**Write a Python program that can suspend execution of a given script a given number of seconds.**\n",
        "\n"
      ]
    },
    {
      "cell_type": "code",
      "metadata": {
        "id": "QzePI08Hfhkz",
        "colab_type": "code",
        "colab": {
          "base_uri": "https://localhost:8080/",
          "height": 85
        },
        "outputId": "091a8221-d0f3-43a2-e7fa-4f80f8361c6a"
      },
      "source": [
        "import time\n",
        "for x in range(4):\n",
        "   time.sleep(3)\n",
        "   print(\"Sorry, Slept for 3 seconds...\")"
      ],
      "execution_count": 4,
      "outputs": [
        {
          "output_type": "stream",
          "text": [
            "Sorry, Slept for 3 seconds...\n",
            "Sorry, Slept for 3 seconds...\n",
            "Sorry, Slept for 3 seconds...\n",
            "Sorry, Slept for 3 seconds...\n"
          ],
          "name": "stdout"
        }
      ]
    },
    {
      "cell_type": "markdown",
      "metadata": {
        "id": "968KM9G4ftPE",
        "colab_type": "text"
      },
      "source": [
        "**23, Viết chương trình Python để chuyển đổi một thời gian nhất định tính bằng giây kể từ epoch thành chuỗi đại diện cho giờ địa phương.**\n",
        "\n",
        "**Write a Python program to convert a given time in seconds since the epoch to a string representing local time.**\n",
        "\n"
      ]
    },
    {
      "cell_type": "code",
      "metadata": {
        "id": "ANB3YGlofoSF",
        "colab_type": "code",
        "colab": {
          "base_uri": "https://localhost:8080/",
          "height": 51
        },
        "outputId": "e0a768df-5805-4b92-c69e-f153a6fd6a83"
      },
      "source": [
        "import time\n",
        "print(time.ctime())\n",
        "print(time.ctime(236543789))"
      ],
      "execution_count": 5,
      "outputs": [
        {
          "output_type": "stream",
          "text": [
            "Sun May 24 01:05:39 2020\n",
            "Fri Jul  1 02:06:29 1977\n"
          ],
          "name": "stdout"
        }
      ]
    },
    {
      "cell_type": "markdown",
      "metadata": {
        "id": "UIppzJJCf6Np",
        "colab_type": "text"
      },
      "source": [
        "**24, Viết chương trình Python để in định dạng đơn giản về thời gian, tên đầy đủ và định dạng đại diện và định dạng thời gian ngày ưa thích.**\n",
        "\n",
        "**Write a Python program to print simple format of time, full names and the representation format and preferred date time format.**\n",
        "\n"
      ]
    },
    {
      "cell_type": "code",
      "metadata": {
        "id": "Crz46Ur6f0_1",
        "colab_type": "code",
        "colab": {
          "base_uri": "https://localhost:8080/",
          "height": 187
        },
        "outputId": "69b7013d-5bd8-4b3d-f4d2-f6e3bef4b0ae"
      },
      "source": [
        "import time\n",
        "print(\"\\nSimple format of time:\")\n",
        "s = time.strftime(\"%a, %d %b %Y %H:%M:%S + 1010\", time.gmtime())\n",
        "print(s)\n",
        "print(\"\\nFull names and the representation:\")\n",
        "s = time.strftime(\"%A, %D %B %Y %H:%M:%S + 0000\", time.gmtime())\n",
        "print( s)\n",
        "print(\"\\nPreferred date time format:\")\n",
        "s = time.strftime(\"%c\")\n",
        "print(s)\n",
        "s = time.strftime(\"%x, %X, %y, %Y\")\n",
        "print(\"Example 11:\", s)"
      ],
      "execution_count": 6,
      "outputs": [
        {
          "output_type": "stream",
          "text": [
            "\n",
            "Simple format of time:\n",
            "Sat, 23 May 2020 17:06:17 + 1010\n",
            "\n",
            "Full names and the representation:\n",
            "Saturday, 05/23/20 May 2020 17:06:17 + 0000\n",
            "\n",
            "Preferred date time format:\n",
            "Sun May 24 01:06:17 2020\n",
            "Example 11: 05/24/20, 01:06:17, 20, 2020\n"
          ],
          "name": "stdout"
        }
      ]
    },
    {
      "cell_type": "markdown",
      "metadata": {
        "id": "r9ul-sXSgANz",
        "colab_type": "text"
      },
      "source": [
        "**25, Viết chương trình Python mất một số giây nhất định và vượt qua kể từ epoch làm đối số. In cấu trúc thời gian theo giờ địa phương.**\n",
        "\n",
        "**Write a Python program that takes a given number of seconds and pass since epoch as an argument. Print structure time in local time.**\n",
        "\n"
      ]
    },
    {
      "cell_type": "code",
      "metadata": {
        "id": "7ZWnHwBdf-Hf",
        "colab_type": "code",
        "colab": {
          "base_uri": "https://localhost:8080/",
          "height": 85
        },
        "outputId": "2ae74083-64e1-481e-b52d-5437bcd50dd5"
      },
      "source": [
        "import time\n",
        "result = time.localtime(414538698)\n",
        "print(\"\\nResult:\", result)\n",
        "print(\"\\nYear:\", result.tm_year)"
      ],
      "execution_count": 7,
      "outputs": [
        {
          "output_type": "stream",
          "text": [
            "\n",
            "Result: time.struct_time(tm_year=1983, tm_mon=2, tm_mday=20, tm_hour=5, tm_min=38, tm_sec=18, tm_wday=6, tm_yday=51, tm_isdst=0)\n",
            "\n",
            "Year: 1983\n"
          ],
          "name": "stdout"
        }
      ]
    },
    {
      "cell_type": "markdown",
      "metadata": {
        "id": "tzIdVwPkgKuw",
        "colab_type": "text"
      },
      "source": [
        "**26, Viết chương trình Python lấy một tuple chứa 9 phần tử tương ứng với thời gian cấu trúc làm đối số và trả về một chuỗi đại diện cho nó.**\n",
        "\n",
        "**Write a Python program that takes a tuple containing 9 elements corresponding to structure time as an argument and returns a string representing it.**\n",
        "\n"
      ]
    },
    {
      "cell_type": "code",
      "metadata": {
        "id": "7jYGUm_DgGJV",
        "colab_type": "code",
        "colab": {
          "base_uri": "https://localhost:8080/",
          "height": 51
        },
        "outputId": "d17d2a99-69d1-4f68-81ff-770a3bd75851"
      },
      "source": [
        "import time\n",
        "t = (2020, 1, 22, 2, 34, 6, 6, 362, 0)\n",
        "result = time.asctime(t)\n",
        "print(\"Result:\", result)\n",
        "t = (1982, 11, 12, 2, 54, 8, 8, 360, 0)\n",
        "result = time.asctime(t)\n",
        "print(\"Result:\", result)\n"
      ],
      "execution_count": 8,
      "outputs": [
        {
          "output_type": "stream",
          "text": [
            "Result: Sun Jan 22 02:34:06 2020\n",
            "Result: Tue Nov 12 02:54:08 1982\n"
          ],
          "name": "stdout"
        }
      ]
    },
    {
      "cell_type": "markdown",
      "metadata": {
        "id": "n-fbqiLCgQbH",
        "colab_type": "text"
      },
      "source": [
        "**27, Viết chương trình Python để phân tích chuỗi biểu thị thời gian và trả về thời gian cấu trúc.**\n",
        "\n",
        "**Write a Python program to parse a string representing time and returns the structure time.**\n",
        "\n"
      ]
    },
    {
      "cell_type": "code",
      "metadata": {
        "id": "K9sPM5fkgOct",
        "colab_type": "code",
        "colab": {
          "base_uri": "https://localhost:8080/",
          "height": 255
        },
        "outputId": "2791cc2c-4aa8-4f3a-be9d-22ad323b6d7f"
      },
      "source": [
        "import time\n",
        "time_string = \"22 January, 2020\"\n",
        "print(\"String representing time:\",time_string)\n",
        "result = time.strptime(time_string, \"%d %B, %Y\")\n",
        "print(result)\n",
        "time_string = \"30 Nov 00\"\n",
        "print(\"\\nString representing time:\",time_string)\n",
        "result = time.strptime(time_string, \"%d %b %y\")\n",
        "print(result)\n",
        "time_string = '04/11/15 11:55:23'\n",
        "print(\"\\nString representing time:\",time_string)\n",
        "result = time.strptime(time_string, \"%m/%d/%y %H:%M:%S\")\n",
        "print(result)\n",
        "time_string = '12-11-2019'\n",
        "print(\"\\nString representing time:\",time_string)\n",
        "result = time.strptime(time_string, \"%m-%d-%Y\")\n",
        "print(result)\n",
        "time_string = '13::55::26'\n",
        "print(\"\\nString representing time:\",time_string)\n",
        "result = time.strptime(time_string, \"%H::%M::%S\")\n",
        "print(result)"
      ],
      "execution_count": 9,
      "outputs": [
        {
          "output_type": "stream",
          "text": [
            "String representing time: 22 January, 2020\n",
            "time.struct_time(tm_year=2020, tm_mon=1, tm_mday=22, tm_hour=0, tm_min=0, tm_sec=0, tm_wday=2, tm_yday=22, tm_isdst=-1)\n",
            "\n",
            "String representing time: 30 Nov 00\n",
            "time.struct_time(tm_year=2000, tm_mon=11, tm_mday=30, tm_hour=0, tm_min=0, tm_sec=0, tm_wday=3, tm_yday=335, tm_isdst=-1)\n",
            "\n",
            "String representing time: 04/11/15 11:55:23\n",
            "time.struct_time(tm_year=2015, tm_mon=4, tm_mday=11, tm_hour=11, tm_min=55, tm_sec=23, tm_wday=5, tm_yday=101, tm_isdst=-1)\n",
            "\n",
            "String representing time: 12-11-2019\n",
            "time.struct_time(tm_year=2019, tm_mon=12, tm_mday=11, tm_hour=0, tm_min=0, tm_sec=0, tm_wday=2, tm_yday=345, tm_isdst=-1)\n",
            "\n",
            "String representing time: 13::55::26\n",
            "time.struct_time(tm_year=1900, tm_mon=1, tm_mday=1, tm_hour=13, tm_min=55, tm_sec=26, tm_wday=0, tm_yday=1, tm_isdst=-1)\n"
          ],
          "name": "stdout"
        }
      ]
    },
    {
      "cell_type": "code",
      "metadata": {
        "id": "qyYlDpZZgVm-",
        "colab_type": "code",
        "colab": {}
      },
      "source": [
        ""
      ],
      "execution_count": 0,
      "outputs": []
    }
  ]
}