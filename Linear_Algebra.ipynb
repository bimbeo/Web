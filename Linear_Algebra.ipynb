{
  "nbformat": 4,
  "nbformat_minor": 0,
  "metadata": {
    "colab": {
      "name": "Linear Algebra.ipynb",
      "provenance": [],
      "authorship_tag": "ABX9TyN/Gd1nZE9D9yH+vDyrDApI",
      "include_colab_link": true
    },
    "kernelspec": {
      "name": "python3",
      "display_name": "Python 3"
    }
  },
  "cells": [
    {
      "cell_type": "markdown",
      "metadata": {
        "id": "view-in-github",
        "colab_type": "text"
      },
      "source": [
        "<a href=\"https://colab.research.google.com/github/bimbeo/Web/blob/master/Linear_Algebra.ipynb\" target=\"_parent\"><img src=\"https://colab.research.google.com/assets/colab-badge.svg\" alt=\"Open In Colab\"/></a>"
      ]
    },
    {
      "cell_type": "markdown",
      "metadata": {
        "id": "QGQMCzSmZ5MQ",
        "colab_type": "text"
      },
      "source": [
        "![alt text](https://www.w3resource.com/w3r_images/linear-algebra-image.svg)"
      ]
    },
    {
      "cell_type": "markdown",
      "metadata": {
        "id": "H-51iwbCaDSE",
        "colab_type": "text"
      },
      "source": [
        "**1, Viết chương trình NumPy để tính phép nhân của hai ma trận đã cho.**\n",
        "\n",
        "**Write a NumPy program to compute the multiplication of two given matrixes.**\n",
        "\n",
        "![alt text](https://www.w3resource.com/w3r_images/linear-algebra-image-exercise-1.png)"
      ]
    },
    {
      "cell_type": "code",
      "metadata": {
        "id": "9greY279ZyyM",
        "colab_type": "code",
        "colab": {
          "base_uri": "https://localhost:8080/",
          "height": 119
        },
        "outputId": "91248cfa-c007-40ae-e1b4-7cf26058c360"
      },
      "source": [
        "import numpy as np\n",
        "p = [[1, 0], [0, 1]]\n",
        "q = [[1, 2], [3, 4]]\n",
        "print(\"Original matrix: \")\n",
        "print(p)\n",
        "print(q)\n",
        "result1 = np.dot(p, q)\n",
        "print(\"Result of the said matrix multiplication: \")\n",
        "print(result1)"
      ],
      "execution_count": 2,
      "outputs": [
        {
          "output_type": "stream",
          "text": [
            "Original matrix: \n",
            "[[1, 0], [0, 1]]\n",
            "[[1, 2], [3, 4]]\n",
            "Result of the said matrix multiplication: \n",
            "[[1 2]\n",
            " [3 4]]\n"
          ],
          "name": "stdout"
        }
      ]
    },
    {
      "cell_type": "markdown",
      "metadata": {
        "id": "IJkMfA01awZt",
        "colab_type": "text"
      },
      "source": [
        "**2, Viết chương trình NumPy để tính tích ngoài của hai vectơ đã cho.**\n",
        "\n",
        "**Write a NumPy program to compute the outer product of two given vectors.**\n",
        "\n",
        "![alt text](https://www.w3resource.com/w3r_images/linear-algebra-image-exercise-2.png)"
      ]
    },
    {
      "cell_type": "code",
      "metadata": {
        "id": "zE7muZkCaiEq",
        "colab_type": "code",
        "colab": {
          "base_uri": "https://localhost:8080/",
          "height": 153
        },
        "outputId": "29d0acce-8bb1-44c9-ebfe-4aecc6270558"
      },
      "source": [
        "p = [[1, 0], [0, 1]]\n",
        "q = [[1, 2], [3, 4]]\n",
        "print(\"original matrix:\")\n",
        "print(p)\n",
        "print(q)\n",
        "result = np.outer(p, q)\n",
        "print(\"Outrer product of the said two vector: \")\n",
        "print(result)"
      ],
      "execution_count": 3,
      "outputs": [
        {
          "output_type": "stream",
          "text": [
            "original matrix:\n",
            "[[1, 0], [0, 1]]\n",
            "[[1, 2], [3, 4]]\n",
            "Outrer product of the said two vector: \n",
            "[[1 2 3 4]\n",
            " [0 0 0 0]\n",
            " [0 0 0 0]\n",
            " [1 2 3 4]]\n"
          ],
          "name": "stdout"
        }
      ]
    },
    {
      "cell_type": "markdown",
      "metadata": {
        "id": "hYBPXX5JbJ9L",
        "colab_type": "text"
      },
      "source": [
        "**3, Viết chương trình NumPy để tính tích vector của hai vectơ đã cho.**\n",
        "\n",
        "**Write a NumPy program to compute the cross product of two given vectors.**\n",
        "\n",
        "![alt text](https://www.w3resource.com/w3r_images/linear-algebra-image-exercise-3.png)"
      ]
    },
    {
      "cell_type": "code",
      "metadata": {
        "id": "5yV3hTMQa-uG",
        "colab_type": "code",
        "colab": {
          "base_uri": "https://localhost:8080/",
          "height": 136
        },
        "outputId": "7d499e5c-2cc0-474c-9298-c504428e2cd8"
      },
      "source": [
        "p = [[1, 0], [0, 1]]\n",
        "q = [[1, 2], [3, 4]]\n",
        "print(\"original matrix:\")\n",
        "print(p)\n",
        "print(q)\n",
        "result1 = np.cross(p, q)\n",
        "result2 = np.cross(q, p)\n",
        "print(\"cross product of the said two vectors(p, q): \")\n",
        "print(result1)\n",
        "print(\"cross product of the said two vector(q, p): \")\n",
        "print(result2)"
      ],
      "execution_count": 4,
      "outputs": [
        {
          "output_type": "stream",
          "text": [
            "original matrix:\n",
            "[[1, 0], [0, 1]]\n",
            "[[1, 2], [3, 4]]\n",
            "cross product of the said two vectors(p, q): \n",
            "[ 2 -3]\n",
            "cross product of the said two vector(q, p): \n",
            "[-2  3]\n"
          ],
          "name": "stdout"
        }
      ]
    },
    {
      "cell_type": "markdown",
      "metadata": {
        "id": "uAKsCkoZbqnM",
        "colab_type": "text"
      },
      "source": [
        "**4, Viết chương trình NumPy để tính định thức của một mảng vuông đã cho.**\n",
        "\n",
        "**Write a NumPy program to compute the determinant of a given square array.**\n",
        "\n",
        "![alt text](https://www.w3resource.com/w3r_images/linear-algebra-image-exercise-4.png)\n",
        "\n"
      ]
    },
    {
      "cell_type": "code",
      "metadata": {
        "id": "Nt_nU7FhbmOx",
        "colab_type": "code",
        "colab": {
          "base_uri": "https://localhost:8080/",
          "height": 102
        },
        "outputId": "ccb52604-6cc1-4e08-b1a5-6ca4bd386a14"
      },
      "source": [
        "from numpy import linalg as LA\n",
        "a = np.array([[1,0], [1,2]])\n",
        "print(\"Original 2-d array\")\n",
        "print(a)\n",
        "print(\"Determinant of the said 2-D array: \")\n",
        "print(np.linalg.det(a))"
      ],
      "execution_count": 5,
      "outputs": [
        {
          "output_type": "stream",
          "text": [
            "Original 2-d array\n",
            "[[1 0]\n",
            " [1 2]]\n",
            "Determinant of the said 2-D array: \n",
            "2.0\n"
          ],
          "name": "stdout"
        }
      ]
    },
    {
      "cell_type": "markdown",
      "metadata": {
        "id": "WhHu-zOrcEQj",
        "colab_type": "text"
      },
      "source": [
        "**5, Viết chương trình NumPy để đánh giá quy ước tổng kết Einstein Einstein của hai mảng đa chiều đã cho.**\n",
        "\n",
        "**Write a NumPy program to evaluate Einstein’s summation convention of two given multidimensional arrays.**\n",
        "\n"
      ]
    },
    {
      "cell_type": "code",
      "metadata": {
        "id": "p3WcUEFPb-nL",
        "colab_type": "code",
        "colab": {
          "base_uri": "https://localhost:8080/",
          "height": 289
        },
        "outputId": "38986680-3ebe-432c-e7f1-4c02cc08e11c"
      },
      "source": [
        "a = np.array([1,2,3])\n",
        "b = np.array([0,1,0])\n",
        "print(\"Original 1-d arrays:\")\n",
        "print(a)\n",
        "print(b)\n",
        "result =  np.einsum(\"n,n\", a, b)\n",
        "print(\"Einstein’s summation convention of the said arrays:\")\n",
        "print(result)\n",
        "x = np.arange(9).reshape(3, 3)\n",
        "y = np.arange(3, 12).reshape(3, 3)\n",
        "print(\"Original Higher dimension:\")\n",
        "print(x)\n",
        "print(y)\n",
        "result = np.einsum(\"mk,kn\", x, y)\n",
        "print(\"Einstein’s summation convention of the said arrays:\")\n",
        "print(result)"
      ],
      "execution_count": 6,
      "outputs": [
        {
          "output_type": "stream",
          "text": [
            "Original 1-d arrays:\n",
            "[1 2 3]\n",
            "[0 1 0]\n",
            "Einstein’s summation convention of the said arrays:\n",
            "2\n",
            "Original Higher dimension:\n",
            "[[0 1 2]\n",
            " [3 4 5]\n",
            " [6 7 8]]\n",
            "[[ 3  4  5]\n",
            " [ 6  7  8]\n",
            " [ 9 10 11]]\n",
            "Einstein’s summation convention of the said arrays:\n",
            "[[ 24  27  30]\n",
            " [ 78  90 102]\n",
            " [132 153 174]]\n"
          ],
          "name": "stdout"
        }
      ]
    },
    {
      "cell_type": "markdown",
      "metadata": {
        "id": "ypnsaRJjcW27",
        "colab_type": "text"
      },
      "source": [
        "**6, Viết chương trình NumPy để tính tích trong của vectơ cho mảng 1-D (không có liên hợp phức tạp) và ở chiều cao hơn.**\n",
        "\n",
        "**Write a NumPy program to compute the inner product of vectors for 1-D arrays (without complex conjugation) and in higher dimension.**\n",
        "\n"
      ]
    },
    {
      "cell_type": "code",
      "metadata": {
        "id": "h1loSAKhcL4M",
        "colab_type": "code",
        "colab": {
          "base_uri": "https://localhost:8080/",
          "height": 289
        },
        "outputId": "c56346a8-4068-4e04-a2e7-a18f792617f7"
      },
      "source": [
        "a = np.array([1,2,5])\n",
        "b = np.array([2,1,0])\n",
        "print(\"Original 1-d arrays:\")\n",
        "print(a)\n",
        "print(b)\n",
        "result = np.inner(a, b)\n",
        "print(\"Inner product of the said vectors:\")\n",
        "print(result)\n",
        "x = np.arange(9).reshape(3, 3)\n",
        "y = np.arange(3, 12).reshape(3, 3)\n",
        "print(\"Higher dimension arrays:\")\n",
        "print(x)\n",
        "print(y)\n",
        "result = np.inner(x, y)\n",
        "print(\"Inner product of the said vectors:\")\n",
        "print(result)"
      ],
      "execution_count": 8,
      "outputs": [
        {
          "output_type": "stream",
          "text": [
            "Original 1-d arrays:\n",
            "[1 2 5]\n",
            "[2 1 0]\n",
            "Inner product of the said vectors:\n",
            "4\n",
            "Higher dimension arrays:\n",
            "[[0 1 2]\n",
            " [3 4 5]\n",
            " [6 7 8]]\n",
            "[[ 3  4  5]\n",
            " [ 6  7  8]\n",
            " [ 9 10 11]]\n",
            "Inner product of the said vectors:\n",
            "[[ 14  23  32]\n",
            " [ 50  86 122]\n",
            " [ 86 149 212]]\n"
          ],
          "name": "stdout"
        }
      ]
    },
    {
      "cell_type": "markdown",
      "metadata": {
        "id": "O5p960U6c6Oh",
        "colab_type": "text"
      },
      "source": [
        "**7, Viết chương trình NumPy để tính toán các giá trị riêng và các hàm riêng bên phải của một mảng vuông đã cho.**\n",
        "\n",
        "**Write a NumPy program to compute the eigenvalues and right eigenvectors of a given square array.**\n",
        "\n"
      ]
    },
    {
      "cell_type": "code",
      "metadata": {
        "id": "wxWWHBWicftV",
        "colab_type": "code",
        "colab": {
          "base_uri": "https://localhost:8080/",
          "height": 136
        },
        "outputId": "63eece4d-9062-45d3-c284-a22d1af25f7d"
      },
      "source": [
        "m = np.mat(\"3 -2; 1 0\")\n",
        "print(\"Original matrix: \")\n",
        "print(\"a\\n\", m)\n",
        "w, v = np.linalg.eig(m)\n",
        "print(\"Eigenvalues of the said matrix\", w)\n",
        "print(\"Eigenvalues of the said matrix\", v)"
      ],
      "execution_count": 9,
      "outputs": [
        {
          "output_type": "stream",
          "text": [
            "Original matrix: \n",
            "a\n",
            " [[ 3 -2]\n",
            " [ 1  0]]\n",
            "Eigenvalues of the said matrix [2. 1.]\n",
            "Eigenvalues of the said matrix [[0.89442719 0.70710678]\n",
            " [0.4472136  0.70710678]]\n"
          ],
          "name": "stdout"
        }
      ]
    },
    {
      "cell_type": "markdown",
      "metadata": {
        "id": "1_9NJUhmdRWc",
        "colab_type": "text"
      },
      "source": [
        "**8, Viết chương trình NumPy để tính toán sản phẩm Kronecker của hai mảng mulitdimension đã cho.**\n",
        "\n",
        "\n",
        "**Write a NumPy program to compute the Kronecker product of two given mulitdimension arrays.**\n",
        "\n",
        "![alt text](https://www.w3resource.com/w3r_images/linear-algebra-image-exercise-8.png)\n"
      ]
    },
    {
      "cell_type": "code",
      "metadata": {
        "id": "KXZU_8c7dNDt",
        "colab_type": "code",
        "colab": {
          "base_uri": "https://localhost:8080/",
          "height": 391
        },
        "outputId": "2eca94da-e068-42c3-ea5d-3d4896cd6056"
      },
      "source": [
        "a = np.array([1,2,3])\n",
        "b = np.array([0,1,0])\n",
        "print(\"Original 1-d arrays:\")\n",
        "print(a)\n",
        "print(b)\n",
        "result =  np.kron(a, b)\n",
        "print(\"Kronecker product of the said arrays:\")\n",
        "print(result)\n",
        "x = np.arange(9).reshape(3, 3)\n",
        "y = np.arange(3, 12).reshape(3, 3)\n",
        "print(\"Original Higher dimension:\")\n",
        "print(x)\n",
        "print(y)\n",
        "result = np.kron(x, y)\n",
        "print(\"Kronecker product  of the said arrays:\")\n",
        "print(result)"
      ],
      "execution_count": 10,
      "outputs": [
        {
          "output_type": "stream",
          "text": [
            "Original 1-d arrays:\n",
            "[1 2 3]\n",
            "[0 1 0]\n",
            "Kronecker product of the said arrays:\n",
            "[0 1 0 0 2 0 0 3 0]\n",
            "Original Higher dimension:\n",
            "[[0 1 2]\n",
            " [3 4 5]\n",
            " [6 7 8]]\n",
            "[[ 3  4  5]\n",
            " [ 6  7  8]\n",
            " [ 9 10 11]]\n",
            "Kronecker product  of the said arrays:\n",
            "[[ 0  0  0  3  4  5  6  8 10]\n",
            " [ 0  0  0  6  7  8 12 14 16]\n",
            " [ 0  0  0  9 10 11 18 20 22]\n",
            " [ 9 12 15 12 16 20 15 20 25]\n",
            " [18 21 24 24 28 32 30 35 40]\n",
            " [27 30 33 36 40 44 45 50 55]\n",
            " [18 24 30 21 28 35 24 32 40]\n",
            " [36 42 48 42 49 56 48 56 64]\n",
            " [54 60 66 63 70 77 72 80 88]]\n"
          ],
          "name": "stdout"
        }
      ]
    },
    {
      "cell_type": "markdown",
      "metadata": {
        "id": "nZqBT01kdiXV",
        "colab_type": "text"
      },
      "source": [
        "**9, Viết chương trình NumPy để tính số điều kiện của một ma trận đã cho.**\n",
        "\n",
        "**Write a NumPy program to compute the condition number of a given matrix.**\n",
        "\n"
      ]
    },
    {
      "cell_type": "code",
      "metadata": {
        "id": "RskHekykdaw1",
        "colab_type": "code",
        "colab": {
          "base_uri": "https://localhost:8080/",
          "height": 119
        },
        "outputId": "041e4d9d-ee9a-40c8-e57a-97c1d145d06b"
      },
      "source": [
        "a = np.array([[1, 0, -1], [0, 1, 0], [1, 0, 1]])\n",
        "print(\"Original matrix:\")\n",
        "print(a)\n",
        "print(\"The condition number of the said matrix:\")\n",
        "print(LA.cond(a))"
      ],
      "execution_count": 11,
      "outputs": [
        {
          "output_type": "stream",
          "text": [
            "Original matrix:\n",
            "[[ 1  0 -1]\n",
            " [ 0  1  0]\n",
            " [ 1  0  1]]\n",
            "The condition number of the said matrix:\n",
            "1.4142135623730951\n"
          ],
          "name": "stdout"
        }
      ]
    },
    {
      "cell_type": "markdown",
      "metadata": {
        "id": "yWZbsKMYdqDt",
        "colab_type": "text"
      },
      "source": [
        "**10, Viết chương trình NumPy để tìm một ma trận hoặc chỉ tiêu vectơ.**\n",
        "\n",
        "**Write a NumPy program to find a matrix or vector norm.**\n",
        "\n"
      ]
    },
    {
      "cell_type": "code",
      "metadata": {
        "id": "kM-3PTqSdmzE",
        "colab_type": "code",
        "colab": {
          "base_uri": "https://localhost:8080/",
          "height": 85
        },
        "outputId": "f4ce78c9-f0cf-4c39-b69a-0cef0971ed5d"
      },
      "source": [
        "v = np.arange(7)\n",
        "result = np.linalg.norm(v)\n",
        "print(\"Vector norm:\")\n",
        "print(result)\n",
        "m = np.matrix('1, 2; 3, 4') \n",
        "result1 = np.linalg.norm(m)\n",
        "print(\"Matrix norm:\")\n",
        "print(result1)"
      ],
      "execution_count": 12,
      "outputs": [
        {
          "output_type": "stream",
          "text": [
            "Vector norm:\n",
            "9.539392014169456\n",
            "Matrix norm:\n",
            "5.477225575051661\n"
          ],
          "name": "stdout"
        }
      ]
    },
    {
      "cell_type": "markdown",
      "metadata": {
        "id": "u3gzh1TZd6Ze",
        "colab_type": "text"
      },
      "source": [
        "**11, Viết chương trình NumPy để tính toán định thức của một mảng.**\n",
        "\n",
        "**Write a NumPy program to compute the determinant of an array.**\n",
        "\n",
        "![alt text](https://www.w3resource.com/w3r_images/linear-algebra-image-exercise-4.png)\n",
        "\n"
      ]
    },
    {
      "cell_type": "code",
      "metadata": {
        "id": "bIlafuqNdwjc",
        "colab_type": "code",
        "colab": {
          "base_uri": "https://localhost:8080/",
          "height": 102
        },
        "outputId": "8f08e51d-f46e-4d62-ec04-d56add568d71"
      },
      "source": [
        "a = np.array([[1,2],[3,4]])\n",
        "print(\"Original array:\")\n",
        "print(a)\n",
        "result =  np.linalg.det(a)\n",
        "print(\"Determinant of the said array:\")\n",
        "print(result)"
      ],
      "execution_count": 13,
      "outputs": [
        {
          "output_type": "stream",
          "text": [
            "Original array:\n",
            "[[1 2]\n",
            " [3 4]]\n",
            "Determinant of the said array:\n",
            "-2.0000000000000004\n"
          ],
          "name": "stdout"
        }
      ]
    },
    {
      "cell_type": "markdown",
      "metadata": {
        "id": "52nClvOPeEaa",
        "colab_type": "text"
      },
      "source": [
        "**12, Viết chương trình NumPy để tính toán nghịch đảo của một ma trận đã cho.**\n",
        "\n",
        "**Write a NumPy program to compute the inverse of a given matrix.**\n",
        "\n"
      ]
    },
    {
      "cell_type": "code",
      "metadata": {
        "id": "hLQJsig5eAbR",
        "colab_type": "code",
        "colab": {
          "base_uri": "https://localhost:8080/",
          "height": 119
        },
        "outputId": "8dca2f16-fe1a-4e01-a6e0-20d8fa7e92f3"
      },
      "source": [
        "m = np.array([[1,2],[3,4]])\n",
        "print(\"Original matrix:\")\n",
        "print(m)\n",
        "result =  np.linalg.inv(m)\n",
        "print(\"Inverse of the said matrix:\")\n",
        "print(result)"
      ],
      "execution_count": 14,
      "outputs": [
        {
          "output_type": "stream",
          "text": [
            "Original matrix:\n",
            "[[1 2]\n",
            " [3 4]]\n",
            "Inverse of the said matrix:\n",
            "[[-2.   1. ]\n",
            " [ 1.5 -0.5]]\n"
          ],
          "name": "stdout"
        }
      ]
    },
    {
      "cell_type": "markdown",
      "metadata": {
        "id": "3LwP5QafeNWE",
        "colab_type": "text"
      },
      "source": [
        "**13, Viết chương trình NumPy để tính toán phân tách QR của một ma trận đã cho.**\n",
        "\n",
        "**Write a NumPy program to calculate the QR decomposition of a given matrix.**\n",
        "\n",
        "![alt text](https://www.w3resource.com/w3r_images/linear-algebra-image-exercise-13.png)"
      ]
    },
    {
      "cell_type": "code",
      "metadata": {
        "id": "I-ASmqJQeIOq",
        "colab_type": "code",
        "colab": {
          "base_uri": "https://localhost:8080/",
          "height": 136
        },
        "outputId": "5fa93f7f-2d22-4eb4-d198-8f8e3029193c"
      },
      "source": [
        "m = np.array([[1,2],[3,4]])\n",
        "print(\"Original matrix:\")\n",
        "print(m)\n",
        "result =  np.linalg.qr(m)\n",
        "print(\"Decomposition of the said matrix:\")\n",
        "print(result)"
      ],
      "execution_count": 15,
      "outputs": [
        {
          "output_type": "stream",
          "text": [
            "Original matrix:\n",
            "[[1 2]\n",
            " [3 4]]\n",
            "Decomposition of the said matrix:\n",
            "(array([[-0.31622777, -0.9486833 ],\n",
            "       [-0.9486833 ,  0.31622777]]), array([[-3.16227766, -4.42718872],\n",
            "       [ 0.        , -0.63245553]]))\n"
          ],
          "name": "stdout"
        }
      ]
    },
    {
      "cell_type": "markdown",
      "metadata": {
        "id": "mT0szekkeZeq",
        "colab_type": "text"
      },
      "source": [
        "**14, Viết chương trình NumPy để tính số điều kiện của một ma trận đã cho.**\n",
        "\n",
        "**Write a NumPy program to compute the condition number of a given matrix.**\n",
        "\n"
      ]
    },
    {
      "cell_type": "code",
      "metadata": {
        "id": "BRso40kReWOY",
        "colab_type": "code",
        "colab": {
          "base_uri": "https://localhost:8080/",
          "height": 102
        },
        "outputId": "bbff36a8-7eed-46a4-8a5f-480b5d6580be"
      },
      "source": [
        "m = np.array([[1,2],[3,4]])\n",
        "print(\"Original matrix:\")\n",
        "print(m)\n",
        "result =  np.linalg.cond(m)\n",
        "print(\"Condition number of the said matrix:\")\n",
        "print(result)"
      ],
      "execution_count": 16,
      "outputs": [
        {
          "output_type": "stream",
          "text": [
            "Original matrix:\n",
            "[[1 2]\n",
            " [3 4]]\n",
            "Condition number of the said matrix:\n",
            "14.933034373659268\n"
          ],
          "name": "stdout"
        }
      ]
    },
    {
      "cell_type": "markdown",
      "metadata": {
        "id": "83dfckdlef56",
        "colab_type": "text"
      },
      "source": [
        "**15, Viết chương trình NumPy để tính tổng của phần tử đường chéo của một mảng đã cho.**\n",
        "\n",
        "**Write a NumPy program to compute the sum of the diagonal element of a given array.**\n",
        "\n"
      ]
    },
    {
      "cell_type": "code",
      "metadata": {
        "id": "7ljBLKXwedCk",
        "colab_type": "code",
        "colab": {
          "base_uri": "https://localhost:8080/",
          "height": 102
        },
        "outputId": "caf93cc1-88f6-4559-c268-95d544ea4e34"
      },
      "source": [
        "m = np.arange(6).reshape(2,3)\n",
        "print(\"Original matrix:\")\n",
        "print(m)\n",
        "result =  np.trace(m)\n",
        "print(\"Condition number of the said matrix:\")\n",
        "print(result)"
      ],
      "execution_count": 17,
      "outputs": [
        {
          "output_type": "stream",
          "text": [
            "Original matrix:\n",
            "[[0 1 2]\n",
            " [3 4 5]]\n",
            "Condition number of the said matrix:\n",
            "4\n"
          ],
          "name": "stdout"
        }
      ]
    },
    {
      "cell_type": "markdown",
      "metadata": {
        "id": "u53oAoHiepvh",
        "colab_type": "text"
      },
      "source": [
        "**16, Viết chương trình NumPy để lấy L hình tam giác thấp hơn trong phân tách Cholesky của một mảng nhất định.**\n",
        "\n",
        "**Write a NumPy program to get the lower-triangular L in the Cholesky decomposition of a given array.**\n",
        "\n"
      ]
    },
    {
      "cell_type": "code",
      "metadata": {
        "id": "t82uRCCIekAk",
        "colab_type": "code",
        "colab": {
          "base_uri": "https://localhost:8080/",
          "height": 153
        },
        "outputId": "725b7488-8f9b-4a2f-a6f3-99b17210c7f9"
      },
      "source": [
        "a = np.array([[4, 12, -16], [12, 37, -53], [-16, -53, 98]], dtype=np.int32)\n",
        "print(\"Original array:\")\n",
        "print(a)\n",
        "L = np.linalg.cholesky(a)\n",
        "print(\"Lower-trianglular L in the Cholesky decomposition of the said array:\")\n",
        "print(L)"
      ],
      "execution_count": 18,
      "outputs": [
        {
          "output_type": "stream",
          "text": [
            "Original array:\n",
            "[[  4  12 -16]\n",
            " [ 12  37 -53]\n",
            " [-16 -53  98]]\n",
            "Lower-trianglular L in the Cholesky decomposition of the said array:\n",
            "[[ 2.  0.  0.]\n",
            " [ 6.  1.  0.]\n",
            " [-8. -5.  3.]]\n"
          ],
          "name": "stdout"
        }
      ]
    },
    {
      "cell_type": "markdown",
      "metadata": {
        "id": "NplyzEzXew3i",
        "colab_type": "text"
      },
      "source": [
        "**17, Viết chương trình NumPy để lấy hệ số qr của một mảng đã cho.**\n",
        "\n",
        "**Write a NumPy program to get the qr factorization of a given array.**\n",
        "\n"
      ]
    },
    {
      "cell_type": "code",
      "metadata": {
        "id": "0iMhNJDqeto1",
        "colab_type": "code",
        "colab": {
          "base_uri": "https://localhost:8080/",
          "height": 238
        },
        "outputId": "48771769-5624-44fa-ce16-48d23d07e348"
      },
      "source": [
        "a = np.array([[4, 12, -14], [12, 37, -53], [-14, -53, 98]], dtype=np.int32)\n",
        "print(\"Original array:\")\n",
        "print(a)\n",
        "q, r = np.linalg.qr(a)\n",
        "print(\"qr factorization of the said array:\")\n",
        "print( \"q=\\n\", q, \"\\nr=\\n\", r)"
      ],
      "execution_count": 19,
      "outputs": [
        {
          "output_type": "stream",
          "text": [
            "Original array:\n",
            "[[  4  12 -14]\n",
            " [ 12  37 -53]\n",
            " [-14 -53  98]]\n",
            "qr factorization of the said array:\n",
            "q=\n",
            " [[-0.21199958 -0.27930103  0.93650794]\n",
            " [-0.63599873 -0.68815735 -0.34920635]\n",
            " [ 0.74199852 -0.66964945 -0.03174603]] \n",
            "r=\n",
            " [[-18.86796226 -65.4018692  109.39178122]\n",
            " [  0.           6.67798664 -25.24309237]\n",
            " [  0.           0.           2.28571429]]\n"
          ],
          "name": "stdout"
        }
      ]
    },
    {
      "cell_type": "markdown",
      "metadata": {
        "id": "4ZOeGebNe5cK",
        "colab_type": "text"
      },
      "source": [
        "**18, Viết chương trình NumPy để tính hệ số của một mảng đã cho bằng cách phân tách giá trị số đơn.**\n",
        "\n",
        "**Write a NumPy program to compute the factor of a given array by Singular Value Decomposition.**\n",
        "\n"
      ]
    },
    {
      "cell_type": "code",
      "metadata": {
        "id": "DrXgc7vke0QW",
        "colab_type": "code",
        "colab": {
          "base_uri": "https://localhost:8080/",
          "height": 323
        },
        "outputId": "7cca0e31-15f5-4544-a1b9-97c700b2ddc6"
      },
      "source": [
        "a = np.array([[1, 0, 0, 0, 2], [0, 0, 3, 0, 0], [0, 0, 0, 0, 0], [0, 2, 0, 0, 0]], dtype=np.float32)\n",
        "print(\"Original array:\")\n",
        "print(a)\n",
        "U, s, V = np.linalg.svd(a, full_matrices=False)\n",
        "q, r = np.linalg.qr(a)\n",
        "print(\"Factor of a given array  by Singular Value Decomposition:\")\n",
        "print(\"U=\\n\", U, \"\\ns=\\n\", s, \"\\nV=\\n\", V)"
      ],
      "execution_count": 20,
      "outputs": [
        {
          "output_type": "stream",
          "text": [
            "Original array:\n",
            "[[1. 0. 0. 0. 2.]\n",
            " [0. 0. 3. 0. 0.]\n",
            " [0. 0. 0. 0. 0.]\n",
            " [0. 2. 0. 0. 0.]]\n",
            "Factor of a given array  by Singular Value Decomposition:\n",
            "U=\n",
            " [[ 0.  1.  0.  0.]\n",
            " [ 1.  0.  0.  0.]\n",
            " [ 0.  0.  0. -1.]\n",
            " [ 0.  0.  1.  0.]] \n",
            "s=\n",
            " [3.       2.236068 2.       0.      ] \n",
            "V=\n",
            " [[-0.         0.         1.        -0.         0.       ]\n",
            " [ 0.4472136  0.         0.         0.         0.8944272]\n",
            " [-0.         1.         0.        -0.         0.       ]\n",
            " [ 0.         0.         0.         1.         0.       ]]\n"
          ],
          "name": "stdout"
        }
      ]
    },
    {
      "cell_type": "markdown",
      "metadata": {
        "id": "_E3XB8KffDqS",
        "colab_type": "text"
      },
      "source": [
        "**19, Viết chương trình NumPy để tính định mức Frobenius và số điều kiện của một mảng đã cho.**"
      ]
    },
    {
      "cell_type": "code",
      "metadata": {
        "id": "aQbvhsiMe_1s",
        "colab_type": "code",
        "colab": {
          "base_uri": "https://localhost:8080/",
          "height": 136
        },
        "outputId": "8ff2ae5c-100c-48bb-c631-05e2b504482a"
      },
      "source": [
        "a = np.arange(1, 10).reshape((3, 3))\n",
        "print(\"Original array:\")\n",
        "print(a)\n",
        "print(\"Frobenius norm and the condition number:\")\n",
        "print(np.linalg.norm(a, 'fro'))\n",
        "print(np.linalg.cond(a, 'fro'))"
      ],
      "execution_count": 21,
      "outputs": [
        {
          "output_type": "stream",
          "text": [
            "Original array:\n",
            "[[1 2 3]\n",
            " [4 5 6]\n",
            " [7 8 9]]\n",
            "Frobenius norm and the condition number:\n",
            "16.881943016134134\n",
            "inf\n"
          ],
          "name": "stdout"
        }
      ]
    },
    {
      "cell_type": "code",
      "metadata": {
        "id": "K1ssHS0zfGSs",
        "colab_type": "code",
        "colab": {}
      },
      "source": [
        ""
      ],
      "execution_count": 0,
      "outputs": []
    }
  ]
}