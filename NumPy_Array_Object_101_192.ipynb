{
  "nbformat": 4,
  "nbformat_minor": 0,
  "metadata": {
    "colab": {
      "name": "NumPy Array Object: 101 - 192.ipynb",
      "provenance": [],
      "collapsed_sections": [],
      "mount_file_id": "1Js4XjldWqJ5JTH0MbFwlLZMRrOXoOKPG",
      "authorship_tag": "ABX9TyM7Lu6EWj5pP7zt83KnO0J0",
      "include_colab_link": true
    },
    "kernelspec": {
      "name": "python3",
      "display_name": "Python 3"
    }
  },
  "cells": [
    {
      "cell_type": "markdown",
      "metadata": {
        "id": "view-in-github",
        "colab_type": "text"
      },
      "source": [
        "<a href=\"https://colab.research.google.com/github/bimbeo/Web/blob/master/NumPy_Array_Object_101_192.ipynb\" target=\"_parent\"><img src=\"https://colab.research.google.com/assets/colab-badge.svg\" alt=\"Open In Colab\"/></a>"
      ]
    },
    {
      "cell_type": "markdown",
      "metadata": {
        "id": "UTG-GEUPhVWI",
        "colab_type": "text"
      },
      "source": [
        "**101, Viết chương trình NumPy để in toàn bộ mảng NumPy mà không cần cắt bớt.**\n",
        "\n",
        "**Write a NumPy program to print the full NumPy array, without truncation.**\n",
        "\n",
        "![alt text](https://www.w3resource.com/w3r_images/python-numpy-image-exercise-101.svg)"
      ]
    },
    {
      "cell_type": "code",
      "metadata": {
        "id": "X3zEE5oDg2JC",
        "colab_type": "code",
        "outputId": "2939a5bb-54e8-4691-8f28-890dc28fa0cb",
        "colab": {
          "base_uri": "https://localhost:8080/",
          "height": 1000
        }
      },
      "source": [
        "import numpy as np\n",
        "import sys\n",
        "nums = np.arange(2000)\n",
        "np.set_printoptions(threshold=sys.maxsize)\n",
        "print(nums)"
      ],
      "execution_count": 1,
      "outputs": [
        {
          "output_type": "stream",
          "text": [
            "[   0    1    2    3    4    5    6    7    8    9   10   11   12   13\n",
            "   14   15   16   17   18   19   20   21   22   23   24   25   26   27\n",
            "   28   29   30   31   32   33   34   35   36   37   38   39   40   41\n",
            "   42   43   44   45   46   47   48   49   50   51   52   53   54   55\n",
            "   56   57   58   59   60   61   62   63   64   65   66   67   68   69\n",
            "   70   71   72   73   74   75   76   77   78   79   80   81   82   83\n",
            "   84   85   86   87   88   89   90   91   92   93   94   95   96   97\n",
            "   98   99  100  101  102  103  104  105  106  107  108  109  110  111\n",
            "  112  113  114  115  116  117  118  119  120  121  122  123  124  125\n",
            "  126  127  128  129  130  131  132  133  134  135  136  137  138  139\n",
            "  140  141  142  143  144  145  146  147  148  149  150  151  152  153\n",
            "  154  155  156  157  158  159  160  161  162  163  164  165  166  167\n",
            "  168  169  170  171  172  173  174  175  176  177  178  179  180  181\n",
            "  182  183  184  185  186  187  188  189  190  191  192  193  194  195\n",
            "  196  197  198  199  200  201  202  203  204  205  206  207  208  209\n",
            "  210  211  212  213  214  215  216  217  218  219  220  221  222  223\n",
            "  224  225  226  227  228  229  230  231  232  233  234  235  236  237\n",
            "  238  239  240  241  242  243  244  245  246  247  248  249  250  251\n",
            "  252  253  254  255  256  257  258  259  260  261  262  263  264  265\n",
            "  266  267  268  269  270  271  272  273  274  275  276  277  278  279\n",
            "  280  281  282  283  284  285  286  287  288  289  290  291  292  293\n",
            "  294  295  296  297  298  299  300  301  302  303  304  305  306  307\n",
            "  308  309  310  311  312  313  314  315  316  317  318  319  320  321\n",
            "  322  323  324  325  326  327  328  329  330  331  332  333  334  335\n",
            "  336  337  338  339  340  341  342  343  344  345  346  347  348  349\n",
            "  350  351  352  353  354  355  356  357  358  359  360  361  362  363\n",
            "  364  365  366  367  368  369  370  371  372  373  374  375  376  377\n",
            "  378  379  380  381  382  383  384  385  386  387  388  389  390  391\n",
            "  392  393  394  395  396  397  398  399  400  401  402  403  404  405\n",
            "  406  407  408  409  410  411  412  413  414  415  416  417  418  419\n",
            "  420  421  422  423  424  425  426  427  428  429  430  431  432  433\n",
            "  434  435  436  437  438  439  440  441  442  443  444  445  446  447\n",
            "  448  449  450  451  452  453  454  455  456  457  458  459  460  461\n",
            "  462  463  464  465  466  467  468  469  470  471  472  473  474  475\n",
            "  476  477  478  479  480  481  482  483  484  485  486  487  488  489\n",
            "  490  491  492  493  494  495  496  497  498  499  500  501  502  503\n",
            "  504  505  506  507  508  509  510  511  512  513  514  515  516  517\n",
            "  518  519  520  521  522  523  524  525  526  527  528  529  530  531\n",
            "  532  533  534  535  536  537  538  539  540  541  542  543  544  545\n",
            "  546  547  548  549  550  551  552  553  554  555  556  557  558  559\n",
            "  560  561  562  563  564  565  566  567  568  569  570  571  572  573\n",
            "  574  575  576  577  578  579  580  581  582  583  584  585  586  587\n",
            "  588  589  590  591  592  593  594  595  596  597  598  599  600  601\n",
            "  602  603  604  605  606  607  608  609  610  611  612  613  614  615\n",
            "  616  617  618  619  620  621  622  623  624  625  626  627  628  629\n",
            "  630  631  632  633  634  635  636  637  638  639  640  641  642  643\n",
            "  644  645  646  647  648  649  650  651  652  653  654  655  656  657\n",
            "  658  659  660  661  662  663  664  665  666  667  668  669  670  671\n",
            "  672  673  674  675  676  677  678  679  680  681  682  683  684  685\n",
            "  686  687  688  689  690  691  692  693  694  695  696  697  698  699\n",
            "  700  701  702  703  704  705  706  707  708  709  710  711  712  713\n",
            "  714  715  716  717  718  719  720  721  722  723  724  725  726  727\n",
            "  728  729  730  731  732  733  734  735  736  737  738  739  740  741\n",
            "  742  743  744  745  746  747  748  749  750  751  752  753  754  755\n",
            "  756  757  758  759  760  761  762  763  764  765  766  767  768  769\n",
            "  770  771  772  773  774  775  776  777  778  779  780  781  782  783\n",
            "  784  785  786  787  788  789  790  791  792  793  794  795  796  797\n",
            "  798  799  800  801  802  803  804  805  806  807  808  809  810  811\n",
            "  812  813  814  815  816  817  818  819  820  821  822  823  824  825\n",
            "  826  827  828  829  830  831  832  833  834  835  836  837  838  839\n",
            "  840  841  842  843  844  845  846  847  848  849  850  851  852  853\n",
            "  854  855  856  857  858  859  860  861  862  863  864  865  866  867\n",
            "  868  869  870  871  872  873  874  875  876  877  878  879  880  881\n",
            "  882  883  884  885  886  887  888  889  890  891  892  893  894  895\n",
            "  896  897  898  899  900  901  902  903  904  905  906  907  908  909\n",
            "  910  911  912  913  914  915  916  917  918  919  920  921  922  923\n",
            "  924  925  926  927  928  929  930  931  932  933  934  935  936  937\n",
            "  938  939  940  941  942  943  944  945  946  947  948  949  950  951\n",
            "  952  953  954  955  956  957  958  959  960  961  962  963  964  965\n",
            "  966  967  968  969  970  971  972  973  974  975  976  977  978  979\n",
            "  980  981  982  983  984  985  986  987  988  989  990  991  992  993\n",
            "  994  995  996  997  998  999 1000 1001 1002 1003 1004 1005 1006 1007\n",
            " 1008 1009 1010 1011 1012 1013 1014 1015 1016 1017 1018 1019 1020 1021\n",
            " 1022 1023 1024 1025 1026 1027 1028 1029 1030 1031 1032 1033 1034 1035\n",
            " 1036 1037 1038 1039 1040 1041 1042 1043 1044 1045 1046 1047 1048 1049\n",
            " 1050 1051 1052 1053 1054 1055 1056 1057 1058 1059 1060 1061 1062 1063\n",
            " 1064 1065 1066 1067 1068 1069 1070 1071 1072 1073 1074 1075 1076 1077\n",
            " 1078 1079 1080 1081 1082 1083 1084 1085 1086 1087 1088 1089 1090 1091\n",
            " 1092 1093 1094 1095 1096 1097 1098 1099 1100 1101 1102 1103 1104 1105\n",
            " 1106 1107 1108 1109 1110 1111 1112 1113 1114 1115 1116 1117 1118 1119\n",
            " 1120 1121 1122 1123 1124 1125 1126 1127 1128 1129 1130 1131 1132 1133\n",
            " 1134 1135 1136 1137 1138 1139 1140 1141 1142 1143 1144 1145 1146 1147\n",
            " 1148 1149 1150 1151 1152 1153 1154 1155 1156 1157 1158 1159 1160 1161\n",
            " 1162 1163 1164 1165 1166 1167 1168 1169 1170 1171 1172 1173 1174 1175\n",
            " 1176 1177 1178 1179 1180 1181 1182 1183 1184 1185 1186 1187 1188 1189\n",
            " 1190 1191 1192 1193 1194 1195 1196 1197 1198 1199 1200 1201 1202 1203\n",
            " 1204 1205 1206 1207 1208 1209 1210 1211 1212 1213 1214 1215 1216 1217\n",
            " 1218 1219 1220 1221 1222 1223 1224 1225 1226 1227 1228 1229 1230 1231\n",
            " 1232 1233 1234 1235 1236 1237 1238 1239 1240 1241 1242 1243 1244 1245\n",
            " 1246 1247 1248 1249 1250 1251 1252 1253 1254 1255 1256 1257 1258 1259\n",
            " 1260 1261 1262 1263 1264 1265 1266 1267 1268 1269 1270 1271 1272 1273\n",
            " 1274 1275 1276 1277 1278 1279 1280 1281 1282 1283 1284 1285 1286 1287\n",
            " 1288 1289 1290 1291 1292 1293 1294 1295 1296 1297 1298 1299 1300 1301\n",
            " 1302 1303 1304 1305 1306 1307 1308 1309 1310 1311 1312 1313 1314 1315\n",
            " 1316 1317 1318 1319 1320 1321 1322 1323 1324 1325 1326 1327 1328 1329\n",
            " 1330 1331 1332 1333 1334 1335 1336 1337 1338 1339 1340 1341 1342 1343\n",
            " 1344 1345 1346 1347 1348 1349 1350 1351 1352 1353 1354 1355 1356 1357\n",
            " 1358 1359 1360 1361 1362 1363 1364 1365 1366 1367 1368 1369 1370 1371\n",
            " 1372 1373 1374 1375 1376 1377 1378 1379 1380 1381 1382 1383 1384 1385\n",
            " 1386 1387 1388 1389 1390 1391 1392 1393 1394 1395 1396 1397 1398 1399\n",
            " 1400 1401 1402 1403 1404 1405 1406 1407 1408 1409 1410 1411 1412 1413\n",
            " 1414 1415 1416 1417 1418 1419 1420 1421 1422 1423 1424 1425 1426 1427\n",
            " 1428 1429 1430 1431 1432 1433 1434 1435 1436 1437 1438 1439 1440 1441\n",
            " 1442 1443 1444 1445 1446 1447 1448 1449 1450 1451 1452 1453 1454 1455\n",
            " 1456 1457 1458 1459 1460 1461 1462 1463 1464 1465 1466 1467 1468 1469\n",
            " 1470 1471 1472 1473 1474 1475 1476 1477 1478 1479 1480 1481 1482 1483\n",
            " 1484 1485 1486 1487 1488 1489 1490 1491 1492 1493 1494 1495 1496 1497\n",
            " 1498 1499 1500 1501 1502 1503 1504 1505 1506 1507 1508 1509 1510 1511\n",
            " 1512 1513 1514 1515 1516 1517 1518 1519 1520 1521 1522 1523 1524 1525\n",
            " 1526 1527 1528 1529 1530 1531 1532 1533 1534 1535 1536 1537 1538 1539\n",
            " 1540 1541 1542 1543 1544 1545 1546 1547 1548 1549 1550 1551 1552 1553\n",
            " 1554 1555 1556 1557 1558 1559 1560 1561 1562 1563 1564 1565 1566 1567\n",
            " 1568 1569 1570 1571 1572 1573 1574 1575 1576 1577 1578 1579 1580 1581\n",
            " 1582 1583 1584 1585 1586 1587 1588 1589 1590 1591 1592 1593 1594 1595\n",
            " 1596 1597 1598 1599 1600 1601 1602 1603 1604 1605 1606 1607 1608 1609\n",
            " 1610 1611 1612 1613 1614 1615 1616 1617 1618 1619 1620 1621 1622 1623\n",
            " 1624 1625 1626 1627 1628 1629 1630 1631 1632 1633 1634 1635 1636 1637\n",
            " 1638 1639 1640 1641 1642 1643 1644 1645 1646 1647 1648 1649 1650 1651\n",
            " 1652 1653 1654 1655 1656 1657 1658 1659 1660 1661 1662 1663 1664 1665\n",
            " 1666 1667 1668 1669 1670 1671 1672 1673 1674 1675 1676 1677 1678 1679\n",
            " 1680 1681 1682 1683 1684 1685 1686 1687 1688 1689 1690 1691 1692 1693\n",
            " 1694 1695 1696 1697 1698 1699 1700 1701 1702 1703 1704 1705 1706 1707\n",
            " 1708 1709 1710 1711 1712 1713 1714 1715 1716 1717 1718 1719 1720 1721\n",
            " 1722 1723 1724 1725 1726 1727 1728 1729 1730 1731 1732 1733 1734 1735\n",
            " 1736 1737 1738 1739 1740 1741 1742 1743 1744 1745 1746 1747 1748 1749\n",
            " 1750 1751 1752 1753 1754 1755 1756 1757 1758 1759 1760 1761 1762 1763\n",
            " 1764 1765 1766 1767 1768 1769 1770 1771 1772 1773 1774 1775 1776 1777\n",
            " 1778 1779 1780 1781 1782 1783 1784 1785 1786 1787 1788 1789 1790 1791\n",
            " 1792 1793 1794 1795 1796 1797 1798 1799 1800 1801 1802 1803 1804 1805\n",
            " 1806 1807 1808 1809 1810 1811 1812 1813 1814 1815 1816 1817 1818 1819\n",
            " 1820 1821 1822 1823 1824 1825 1826 1827 1828 1829 1830 1831 1832 1833\n",
            " 1834 1835 1836 1837 1838 1839 1840 1841 1842 1843 1844 1845 1846 1847\n",
            " 1848 1849 1850 1851 1852 1853 1854 1855 1856 1857 1858 1859 1860 1861\n",
            " 1862 1863 1864 1865 1866 1867 1868 1869 1870 1871 1872 1873 1874 1875\n",
            " 1876 1877 1878 1879 1880 1881 1882 1883 1884 1885 1886 1887 1888 1889\n",
            " 1890 1891 1892 1893 1894 1895 1896 1897 1898 1899 1900 1901 1902 1903\n",
            " 1904 1905 1906 1907 1908 1909 1910 1911 1912 1913 1914 1915 1916 1917\n",
            " 1918 1919 1920 1921 1922 1923 1924 1925 1926 1927 1928 1929 1930 1931\n",
            " 1932 1933 1934 1935 1936 1937 1938 1939 1940 1941 1942 1943 1944 1945\n",
            " 1946 1947 1948 1949 1950 1951 1952 1953 1954 1955 1956 1957 1958 1959\n",
            " 1960 1961 1962 1963 1964 1965 1966 1967 1968 1969 1970 1971 1972 1973\n",
            " 1974 1975 1976 1977 1978 1979 1980 1981 1982 1983 1984 1985 1986 1987\n",
            " 1988 1989 1990 1991 1992 1993 1994 1995 1996 1997 1998 1999]\n"
          ],
          "name": "stdout"
        }
      ]
    },
    {
      "cell_type": "markdown",
      "metadata": {
        "id": "AQ7TOCcChz6F",
        "colab_type": "text"
      },
      "source": [
        "**102, Viết chương trình NumPy để chuyển đổi mảng NumPy thành tệp csv.**\n",
        "\n",
        "**Write a NumPy program to convert a NumPy array into a csv file.**\n",
        "\n"
      ]
    },
    {
      "cell_type": "code",
      "metadata": {
        "id": "E63AhweJhj2P",
        "colab_type": "code",
        "outputId": "c87513be-8df7-47cd-d6d0-8947d8aa627b",
        "colab": {
          "base_uri": "https://localhost:8080/"
        }
      },
      "source": [
        "data = np.asarray( [ [10,20,30], [40,50,60], [70,80,90] ])\n",
        "numpy.savetxt(\"test.csv\", data, delimiter = \",\")\n"
      ],
      "execution_count": 0,
      "outputs": [
        {
          "output_type": "error",
          "ename": "NameError",
          "evalue": "ignored",
          "traceback": [
            "\u001b[0;31m---------------------------------------------------------------------------\u001b[0m",
            "\u001b[0;31mNameError\u001b[0m                                 Traceback (most recent call last)",
            "\u001b[0;32m<ipython-input-4-75df4b4471e0>\u001b[0m in \u001b[0;36m<module>\u001b[0;34m()\u001b[0m\n\u001b[1;32m      1\u001b[0m \u001b[0mdata\u001b[0m \u001b[0;34m=\u001b[0m \u001b[0mnp\u001b[0m\u001b[0;34m.\u001b[0m\u001b[0masarray\u001b[0m\u001b[0;34m(\u001b[0m \u001b[0;34m[\u001b[0m \u001b[0;34m[\u001b[0m\u001b[0;36m10\u001b[0m\u001b[0;34m,\u001b[0m\u001b[0;36m20\u001b[0m\u001b[0;34m,\u001b[0m\u001b[0;36m30\u001b[0m\u001b[0;34m]\u001b[0m\u001b[0;34m,\u001b[0m \u001b[0;34m[\u001b[0m\u001b[0;36m40\u001b[0m\u001b[0;34m,\u001b[0m\u001b[0;36m50\u001b[0m\u001b[0;34m,\u001b[0m\u001b[0;36m60\u001b[0m\u001b[0;34m]\u001b[0m\u001b[0;34m,\u001b[0m \u001b[0;34m[\u001b[0m\u001b[0;36m70\u001b[0m\u001b[0;34m,\u001b[0m\u001b[0;36m80\u001b[0m\u001b[0;34m,\u001b[0m\u001b[0;36m90\u001b[0m\u001b[0;34m]\u001b[0m \u001b[0;34m]\u001b[0m\u001b[0;34m)\u001b[0m\u001b[0;34m\u001b[0m\u001b[0;34m\u001b[0m\u001b[0m\n\u001b[0;32m----> 2\u001b[0;31m \u001b[0mnumpy\u001b[0m\u001b[0;34m.\u001b[0m\u001b[0msavetxt\u001b[0m\u001b[0;34m(\u001b[0m\u001b[0;34m\"test.csv\"\u001b[0m\u001b[0;34m,\u001b[0m \u001b[0mdata\u001b[0m\u001b[0;34m,\u001b[0m \u001b[0mdelimiter\u001b[0m \u001b[0;34m=\u001b[0m \u001b[0;34m\",\"\u001b[0m\u001b[0;34m)\u001b[0m\u001b[0;34m\u001b[0m\u001b[0;34m\u001b[0m\u001b[0m\n\u001b[0m",
            "\u001b[0;31mNameError\u001b[0m: name 'numpy' is not defined"
          ]
        }
      ]
    },
    {
      "cell_type": "markdown",
      "metadata": {
        "id": "Tmv9MJjhiN0A",
        "colab_type": "text"
      },
      "source": [
        "**103, Viết chương trình NumPy để tính khoảng cách Euclide.**\n",
        "\n",
        "**Write a NumPy program to calculate the Euclidean distance.**\n",
        "\n"
      ]
    },
    {
      "cell_type": "code",
      "metadata": {
        "id": "bxfyQi6NiINB",
        "colab_type": "code",
        "outputId": "1e2ebd4c-4a51-400a-b797-862db7204c1a",
        "colab": {
          "base_uri": "https://localhost:8080/",
          "height": 34
        }
      },
      "source": [
        "from scipy.spatial import distance\n",
        "p1 = (1, 2, 3)\n",
        "p2 = (4, 5, 6)\n",
        "d = distance.euclidean(p1, p2)\n",
        "print(\"Euclidean distance: \", d)"
      ],
      "execution_count": 0,
      "outputs": [
        {
          "output_type": "stream",
          "text": [
            "Euclidean distance:  5.196152422706632\n"
          ],
          "name": "stdout"
        }
      ]
    },
    {
      "cell_type": "markdown",
      "metadata": {
        "id": "mff8wc0si0So",
        "colab_type": "text"
      },
      "source": [
        "**104, Viết chương trình NumPy để truy cập hai cột cuối cùng của cột đa chiều.**\n",
        "\n",
        "\n",
        "**Write a NumPy program to access last two columns of a multidimensional columns.**\n",
        "\n",
        "![alt text](https://www.w3resource.com/w3r_images/python-numpy-image-exercise-104.svg)"
      ]
    },
    {
      "cell_type": "code",
      "metadata": {
        "id": "DQhI3WyViZoS",
        "colab_type": "code",
        "outputId": "ec70cc37-74bd-42f2-9fd1-6d7220cf2658",
        "colab": {
          "base_uri": "https://localhost:8080/",
          "height": 119
        }
      },
      "source": [
        "arra = np.array([[1,2,3], [4,5,6], [7,8,9]])\n",
        "print(arra)\n",
        "result = arra[:, [1,2]]\n",
        "print(result)"
      ],
      "execution_count": 0,
      "outputs": [
        {
          "output_type": "stream",
          "text": [
            "[[1 2 3]\n",
            " [4 5 6]\n",
            " [7 8 9]]\n",
            "[[2 3]\n",
            " [5 6]\n",
            " [8 9]]\n"
          ],
          "name": "stdout"
        }
      ]
    },
    {
      "cell_type": "markdown",
      "metadata": {
        "id": "1QyfFywejegA",
        "colab_type": "text"
      },
      "source": [
        "**105, Viết chương trình NumPy để đọc tệp dữ liệu CSV và lưu trữ các bản ghi trong một mảng.**\n",
        "\n",
        "**Write a NumPy program to read a CSV data file and store records in an array.**\n",
        "\n",
        "Sample CSV file: fdata.csv\n",
        "\n",
        "Date,  Open,  High,  Low,  Close\n",
        "\n",
        "03-10-16,  774.25,  776.065002,  769.5,  772.559998\n",
        "\n",
        "04-10-16,  776.030029,  778.710022,  772.890015,  776.429993\n",
        "\n",
        "05-10-16,  779.309998,  782.070007,  775.650024,  776.469971\n",
        "\n",
        "06-10-16,  779,  780.47998,  775.539978,  776.859985\n",
        "\n",
        "07-10-16,  779.659973,  779.659973,  770.75,  775.080017\n"
      ]
    },
    {
      "cell_type": "code",
      "metadata": {
        "id": "TXIv_nCcjDXR",
        "colab_type": "code",
        "colab": {}
      },
      "source": [
        "from numpy import genfromtxt\n",
        "csv_data = genfromtxt('fdata.csv', dtype=['S10', 'float32', 'float32', 'float32', 'float32'], delimiter= \";\" )\n",
        "print(csv_data)\n",
        "\"\"\" Kết quả hiển thị:\n",
        "[(b'Date',    nan,     nan,    nan,    nan)\n",
        " (b'03-10-16', 774.25, 776.065, 769.5 , 772.56)\n",
        " (b'04-10-16', 776.03, 778.71 , 772.89, 776.43)\n",
        " (b'05-10-16', 779.31, 782.07 , 775.65, 776.47)\n",
        " (b'06-10-16', 779.  , 780.48 , 775.54, 776.86)\n",
        " (b'07-10-16', 779.66, 779.66 , 770.75, 775.08)]  \"\"\""
      ],
      "execution_count": 0,
      "outputs": []
    },
    {
      "cell_type": "markdown",
      "metadata": {
        "id": "wnocQhR_ksZs",
        "colab_type": "text"
      },
      "source": [
        "**106, Viết chương trình NumPy để đếm sự xuất hiện của một mục được chỉ định trong một mảng NumPy nhất định.**\n",
        "\n",
        "**Write a NumPy program to count the occurrence of a specified item in a given NumPy array.**\n",
        "\n",
        "![alt text](https://www.w3resource.com/w3r_images/python-numpy-image-exercise-106.svg)"
      ]
    },
    {
      "cell_type": "code",
      "metadata": {
        "id": "ccJJnpkFj2qM",
        "colab_type": "code",
        "outputId": "2da76379-7cd2-431c-c6f7-e957ebe62f73",
        "colab": {
          "base_uri": "https://localhost:8080/",
          "height": 119
        }
      },
      "source": [
        "import numpy as np\n",
        "nums = np.array([10, 20, 20, 20, 20, 0, 20, 30, 30, 30, 0, 0, 20, 20, 0])\n",
        "print(\"Original array: \")\n",
        "print(nums)\n",
        "print(np.count_nonzero(nums == 10))\n",
        "print(np.count_nonzero(nums == 20))\n",
        "print(np.count_nonzero(nums == 30))\n",
        "print(np.count_nonzero(nums == 0))\n"
      ],
      "execution_count": 0,
      "outputs": [
        {
          "output_type": "stream",
          "text": [
            "Original array: \n",
            "[10 20 20 20 20  0 20 30 30 30  0  0 20 20  0]\n",
            "1\n",
            "7\n",
            "3\n",
            "4\n"
          ],
          "name": "stdout"
        }
      ]
    },
    {
      "cell_type": "markdown",
      "metadata": {
        "id": "JP3-vX8llTDE",
        "colab_type": "text"
      },
      "source": [
        "**107, Viết chương trình NumPy để tính phần trăm cho một dãy NumPy chuỗi hoặc một chiều.**\n",
        "\n",
        "**Write a NumPy program to calculate percentiles for a sequence or single-dimensional NumPy array.**\n",
        "\n"
      ]
    },
    {
      "cell_type": "code",
      "metadata": {
        "id": "wywBHK2-lBSV",
        "colab_type": "code",
        "outputId": "48ea528f-ce0e-4b6f-cece-8508c5673094",
        "colab": {
          "base_uri": "https://localhost:8080/"
        }
      },
      "source": [
        "nums = np.array([1,2,3,4,5])\n",
        "print(\"50th percentile (median): \")\n",
        "p = np.percentile(nums, 50)\n",
        "print(p)\n",
        "print(\"40th percentile: \")\n",
        "p = np.percentile(nums, 40)\n",
        "print(p)\n",
        "print(\"90th percentile: \")\n",
        "p = np.percentile(nums, 90)\n",
        "print(p)"
      ],
      "execution_count": 0,
      "outputs": [
        {
          "output_type": "stream",
          "text": [
            "50th percentile (median): \n",
            "3.0\n",
            "40th percentile: \n",
            "2.6\n",
            "90th percentile: \n",
            "4.6\n"
          ],
          "name": "stdout"
        }
      ]
    },
    {
      "cell_type": "markdown",
      "metadata": {
        "id": "8JWtxYsnmDp3",
        "colab_type": "text"
      },
      "source": [
        "**108, Viết chương trình NumPy để chuyển đổi PIL Image thành mảng NumPy.**\n",
        "\n",
        "**Write a NumPy program to convert a PIL Image into a NumPy array.**\n",
        "\n"
      ]
    },
    {
      "cell_type": "code",
      "metadata": {
        "id": "VGDbN4Swlm_R",
        "colab_type": "code",
        "outputId": "0e443a8a-0770-4b81-904c-234c9df53ad7",
        "colab": {
          "base_uri": "https://localhost:8080/",
          "height": 850
        }
      },
      "source": [
        "import numpy as np\n",
        "import PIL\n",
        "img_data = PIL.Image.open('/content/drive/My Drive/1 (9x12).png' )\n",
        "img_arr = np.array(img_data) \n",
        "print(img_arr)"
      ],
      "execution_count": 0,
      "outputs": [
        {
          "output_type": "stream",
          "text": [
            "[[[255 255 255 255]\n",
            "  [255 255 255 255]\n",
            "  [255 255 255 255]\n",
            "  ...\n",
            "  [255 255 255 255]\n",
            "  [255 255 255 255]\n",
            "  [255 255 255 255]]\n",
            "\n",
            " [[255 255 255 255]\n",
            "  [255 255 255 255]\n",
            "  [255 255 255 255]\n",
            "  ...\n",
            "  [255 255 255 255]\n",
            "  [255 255 255 255]\n",
            "  [255 255 255 255]]\n",
            "\n",
            " [[255 255 255 255]\n",
            "  [255 255 255 255]\n",
            "  [255 255 255 255]\n",
            "  ...\n",
            "  [255 255 255 255]\n",
            "  [255 255 255 255]\n",
            "  [255 255 255 255]]\n",
            "\n",
            " ...\n",
            "\n",
            " [[255 255 255 255]\n",
            "  [255 255 255 255]\n",
            "  [255 255 255 255]\n",
            "  ...\n",
            "  [255 255 255 255]\n",
            "  [255 255 255 255]\n",
            "  [255 255 255 255]]\n",
            "\n",
            " [[255 255 255 255]\n",
            "  [255 255 255 255]\n",
            "  [255 255 255 255]\n",
            "  ...\n",
            "  [255 255 255 255]\n",
            "  [255 255 255 255]\n",
            "  [255 255 255 255]]\n",
            "\n",
            " [[255 255 255 255]\n",
            "  [255 255 255 255]\n",
            "  [255 255 255 255]\n",
            "  ...\n",
            "  [255 255 255 255]\n",
            "  [255 255 255 255]\n",
            "  [255 255 255 255]]]\n"
          ],
          "name": "stdout"
        }
      ]
    },
    {
      "cell_type": "markdown",
      "metadata": {
        "id": "QmwykapVmhqn",
        "colab_type": "text"
      },
      "source": [
        "**109, Viết chương trình NumPy để chuyển một mảng numpy thành hình ảnh. Hiển thị hình ảnh.**\n",
        "\n",
        "**Write a NumPy program to convert a numpy array to an image. Display the image.**\n",
        "\n"
      ]
    },
    {
      "cell_type": "code",
      "metadata": {
        "id": "CWqyGqMPmHac",
        "colab_type": "code",
        "colab": {}
      },
      "source": [
        "from PIL import Image\n",
        "import numpy as np\n",
        "img_w, img_h = 200, 200\n",
        "data = np.zeros((img_h, img_w, 3), dtype=np.uint8)\n",
        "data[100, 100] = [255, 0, 0]\n",
        "img = Image.fromarray(data, 'RGB')\n",
        "img.save('test.png')\n",
        "img.show()"
      ],
      "execution_count": 0,
      "outputs": []
    },
    {
      "cell_type": "markdown",
      "metadata": {
        "id": "TMSyLi9Am3AT",
        "colab_type": "text"
      },
      "source": [
        "**110, Viết chương trình NumPy để loại bỏ các giá trị nan khỏi một mảng nhất định.**\n",
        "\n",
        "**Write a NumPy program to remove nan values from a given array.**\n",
        "\n",
        "![alt text](https://www.w3resource.com/w3r_images/python-numpy-image-exercise-110.svg)"
      ]
    },
    {
      "cell_type": "code",
      "metadata": {
        "id": "XzrX6Wd-mmjS",
        "colab_type": "code",
        "outputId": "fc1a9ac2-742e-4564-b4bd-76104ae18574",
        "colab": {
          "base_uri": "https://localhost:8080/",
          "height": 187
        }
      },
      "source": [
        "import numpy as np\n",
        "x = np.array([200, 300, np.nan, np.nan, np.nan, 700])\n",
        "y = np.array([[1,2,3], [np.nan, 0, np.nan], [6,7,np.nan]])\n",
        "print(\"Original array: \")\n",
        "print(x)\n",
        "print(\"After removing nan values: \")\n",
        "result = x[np.logical_not(np.isnan(x))]\n",
        "print(result)\n",
        "print(\"\\nOriginal array: \")\n",
        "print(y)\n",
        "print(\"After removing nan values: \")\n",
        "result = y[np.logical_not(np.isnan)]"
      ],
      "execution_count": 0,
      "outputs": [
        {
          "output_type": "stream",
          "text": [
            "Original array: \n",
            "[200. 300.  nan  nan  nan 700.]\n",
            "After removing nan values: \n",
            "[200. 300. 700.]\n",
            "\n",
            "Original array: \n",
            "[[ 1.  2.  3.]\n",
            " [nan  0. nan]\n",
            " [ 6.  7. nan]]\n",
            "After removing nan values: \n"
          ],
          "name": "stdout"
        }
      ]
    },
    {
      "cell_type": "markdown",
      "metadata": {
        "id": "7FlY53whpJDB",
        "colab_type": "text"
      },
      "source": [
        "**111, Viết chương trình NumPy để tạo một sản phẩm Cartesian gồm hai mảng thành một mảng các điểm 2D.**\n",
        "\n",
        "**Write a NumPy program to create a Cartesian product of two arrays into single array of 2D points.**\n",
        "\n",
        "![alt text](https://www.w3resource.com/w3r_images/python-numpy-image-exercise-111.svg)"
      ]
    },
    {
      "cell_type": "code",
      "metadata": {
        "id": "Zbt8M4Ssnozd",
        "colab_type": "code",
        "outputId": "6a74b65f-1043-4cfe-9864-5b01fd00e4ce",
        "colab": {
          "base_uri": "https://localhost:8080/",
          "height": 119
        }
      },
      "source": [
        "x = np.array([1,2,3])\n",
        "y = np.array([4,5])\n",
        "result = np.transpose([np.tile(x, len(y)), np.repeat(y, len(x))])\n",
        "print(result)"
      ],
      "execution_count": 0,
      "outputs": [
        {
          "output_type": "stream",
          "text": [
            "[[1 4]\n",
            " [2 4]\n",
            " [3 4]\n",
            " [1 5]\n",
            " [2 5]\n",
            " [3 5]]\n"
          ],
          "name": "stdout"
        }
      ]
    },
    {
      "cell_type": "markdown",
      "metadata": {
        "id": "usB6M-CvpiXF",
        "colab_type": "text"
      },
      "source": [
        "**112, Viết chương trình NumPy để sử dụng bộ nhớ theo mảng NumPy.**\n",
        "\n",
        "**Write a NumPy program to get the memory usage by NumPy arrays.**\n",
        "\n"
      ]
    },
    {
      "cell_type": "code",
      "metadata": {
        "id": "4MJNQq9Vpavt",
        "colab_type": "code",
        "outputId": "988d8fee-bc98-4490-e239-d26971582f97",
        "colab": {
          "base_uri": "https://localhost:8080/",
          "height": 34
        }
      },
      "source": [
        "from sys import getsizeof\n",
        "x = [0] * 1024\n",
        "y = np.array(x)\n",
        "print(getsizeof(x))"
      ],
      "execution_count": 0,
      "outputs": [
        {
          "output_type": "stream",
          "text": [
            "8256\n"
          ],
          "name": "stdout"
        }
      ]
    },
    {
      "cell_type": "markdown",
      "metadata": {
        "id": "RfUmMZ-hpxp1",
        "colab_type": "text"
      },
      "source": [
        "**113, Viết chương trình NumPy để xây dựng một mảng gồm tất cả các kết hợp của ba mảng NumPy.**\n",
        "\n",
        "**Write a NumPy program to build an array of all combinations of three NumPy arrays.**\n",
        "\n"
      ]
    },
    {
      "cell_type": "code",
      "metadata": {
        "id": "aINIzYhnpr3C",
        "colab_type": "code",
        "outputId": "e6f44c60-22bb-4a4e-df5c-8109c3ecffff",
        "colab": {
          "base_uri": "https://localhost:8080/",
          "height": 357
        }
      },
      "source": [
        "x = [1, 2, 3]\n",
        "y = [4, 5]\n",
        "z = [6, 7]\n",
        "print(\"Orignal arrays: \")\n",
        "print(\"Array-1\")\n",
        "print(x)\n",
        "print(\"Array-2\")\n",
        "print(y)\n",
        "print(\"Array-3\")\n",
        "print(z)\n",
        "new_array = np.array(np.meshgrid(x, y, z)).T.reshape(-1, 3)\n",
        "print(\"Combine array: \")\n",
        "print(new_array)"
      ],
      "execution_count": 0,
      "outputs": [
        {
          "output_type": "stream",
          "text": [
            "Orignal arrays: \n",
            "Array-1\n",
            "[1, 2, 3]\n",
            "Array-2\n",
            "[4, 5]\n",
            "Array-3\n",
            "[6, 7]\n",
            "Combine array: \n",
            "[[1 4 6]\n",
            " [1 5 6]\n",
            " [2 4 6]\n",
            " [2 5 6]\n",
            " [3 4 6]\n",
            " [3 5 6]\n",
            " [1 4 7]\n",
            " [1 5 7]\n",
            " [2 4 7]\n",
            " [2 5 7]\n",
            " [3 4 7]\n",
            " [3 5 7]]\n"
          ],
          "name": "stdout"
        }
      ]
    },
    {
      "cell_type": "markdown",
      "metadata": {
        "id": "yjR7UoUOqX6m",
        "colab_type": "text"
      },
      "source": [
        "**114, Viết chương trình NumPy để tạo tập hợp các hàng ngẫu nhiên từ mảng 2D.**\n",
        "\n",
        "**Write a NumPy program to create random set of rows from 2D array.**\n",
        "\n",
        "![alt text](https://www.w3resource.com/w3r_images/python-numpy-image-exercise-114.svg)"
      ]
    },
    {
      "cell_type": "code",
      "metadata": {
        "id": "oo3TREaeqKlC",
        "colab_type": "code",
        "outputId": "2472fba3-c119-4c0e-cdf6-14593c78cccc",
        "colab": {
          "base_uri": "https://localhost:8080/",
          "height": 119
        }
      },
      "source": [
        "new_array = np.random.randint(5, size=(5,3))\n",
        "print(\"Random set of rows from 2D array array: \")\n",
        "print(new_array)"
      ],
      "execution_count": 0,
      "outputs": [
        {
          "output_type": "stream",
          "text": [
            "Random set of rows from 2D array array: \n",
            "[[3 3 0]\n",
            " [2 2 0]\n",
            " [4 0 0]\n",
            " [4 1 1]\n",
            " [1 0 4]]\n"
          ],
          "name": "stdout"
        }
      ]
    },
    {
      "cell_type": "markdown",
      "metadata": {
        "id": "MhsRuX4Vqzkd",
        "colab_type": "text"
      },
      "source": [
        "**115, Viết chương trình NumPy để tìm các chỉ số của các phần tử bằng 0 trong mảng NumPy.**\n",
        "\n",
        "**Write a NumPy program to find indices of elements equal to zero in a NumPy array.**\n",
        "\n",
        "![alt text](https://www.w3resource.com/w3r_images/python-numpy-image-exercise-115.svg)"
      ]
    },
    {
      "cell_type": "code",
      "metadata": {
        "id": "Y688ENMRqmZI",
        "colab_type": "code",
        "outputId": "2026540c-6b33-4939-f5b1-2bb5bb126170",
        "colab": {
          "base_uri": "https://localhost:8080/",
          "height": 85
        }
      },
      "source": [
        "nums = np.array([1,0,2,0,3,0,4,5,6,7,8])\n",
        "print(\"Original array: \")\n",
        "print(nums)\n",
        "print(\"Indices of elements equal to zero of the said array: \")\n",
        "result = np.where(nums == 0)[0]\n",
        "print(result)"
      ],
      "execution_count": 0,
      "outputs": [
        {
          "output_type": "stream",
          "text": [
            "Original array: \n",
            "[1 0 2 0 3 0 4 5 6 7 8]\n",
            "Indices of elements equal to zero of the said array: \n",
            "[1 3 5]\n"
          ],
          "name": "stdout"
        }
      ]
    },
    {
      "cell_type": "markdown",
      "metadata": {
        "id": "sRAXKWl5rRuL",
        "colab_type": "text"
      },
      "source": [
        "**116, Viết chương trình NumPy để tính toán biểu đồ của một tập hợp dữ liệu.**\n",
        "\n",
        "**Write a NumPy program to compute the histogram of a set of data.**\n",
        "\n"
      ]
    },
    {
      "cell_type": "code",
      "metadata": {
        "id": "PG8lepBkrKi2",
        "colab_type": "code",
        "outputId": "e581f2e4-0491-4625-e87d-8eaca6a5ac71",
        "colab": {
          "base_uri": "https://localhost:8080/",
          "height": 265
        }
      },
      "source": [
        "import matplotlib.pyplot as plt\n",
        "plt.hist([1,2,1], bins = [0,1,2,3,4,5])\n",
        "plt.show() "
      ],
      "execution_count": 0,
      "outputs": [
        {
          "output_type": "display_data",
          "data": {
            "image/png": "[encoded data removed]",
            "text/plain": [
              "<Figure size 432x288 with 1 Axes>"
            ]
          },
          "metadata": {
            "tags": [],
            "needs_background": "light"
          }
        }
      ]
    },
    {
      "cell_type": "markdown",
      "metadata": {
        "id": "dB2TltGXrzvq",
        "colab_type": "text"
      },
      "source": [
        "**117, Viết chương trình NumPy để tính toán biểu đồ đường của một tập hợp dữ liệu.**\n",
        "\n",
        "**Write a NumPy program to compute the line graph of a set of data.**\n",
        "\n"
      ]
    },
    {
      "cell_type": "code",
      "metadata": {
        "id": "M5YXFgC3rfqI",
        "colab_type": "code",
        "outputId": "80e9f488-d367-41c2-d557-0f9a44096954",
        "colab": {
          "base_uri": "https://localhost:8080/",
          "height": 265
        }
      },
      "source": [
        "arr = np.random.randint(1, 50, 10)\n",
        "y, x = np.histogram(arr, bins = np.arange(51))\n",
        "fig, ax = plt.subplots()\n",
        "ax.plot(x[:-1], y)\n",
        "fig.show()"
      ],
      "execution_count": 0,
      "outputs": [
        {
          "output_type": "display_data",
          "data": {
            "image/png": "[encoded data removed]",
            "text/plain": [
              "<Figure size 432x288 with 1 Axes>"
            ]
          },
          "metadata": {
            "tags": [],
            "needs_background": "light"
          }
        }
      ]
    },
    {
      "cell_type": "markdown",
      "metadata": {
        "id": "SHdeBaJOsS8U",
        "colab_type": "text"
      },
      "source": [
        "**118, Viết chương trình NumPy để tìm vị trí của chỉ mục của một giá trị được chỉ định lớn hơn giá trị hiện có trong mảng NumPy.**\n",
        "\n",
        "**Write a NumPy program to find the position of the index of a specified value greater than existing value in NumPy array.**\n",
        "\n"
      ]
    },
    {
      "cell_type": "code",
      "metadata": {
        "id": "Xll79E7bsGDH",
        "colab_type": "code",
        "outputId": "0a8aa474-b67f-4f4e-906c-82d8e7062c0f",
        "colab": {
          "base_uri": "https://localhost:8080/",
          "height": 119
        }
      },
      "source": [
        "n = 4 \n",
        "nums = np.arange(-6, 6)\n",
        "print(\"\\nOriginal array: \")\n",
        "print(nums)\n",
        "print(\"\\nPosition of the index: \")\n",
        "print(np.argmax(nums>n/2))"
      ],
      "execution_count": 0,
      "outputs": [
        {
          "output_type": "stream",
          "text": [
            "\n",
            "Original array: \n",
            "[-6 -5 -4 -3 -2 -1  0  1  2  3  4  5]\n",
            "\n",
            "Position of the index: \n",
            "9\n"
          ],
          "name": "stdout"
        }
      ]
    },
    {
      "cell_type": "markdown",
      "metadata": {
        "id": "aGEug_Nwswet",
        "colab_type": "text"
      },
      "source": [
        "**119, Viết chương trình NumPy để thêm một hàng mới vào một mảng numpy trống.**\n",
        "\n",
        "**Write a NumPy program to add a new row to an empty numpy array.**\n",
        "\n",
        "![alt text](https://www.w3resource.com/w3r_images/python-numpy-image-exercise-119.svg)"
      ]
    },
    {
      "cell_type": "code",
      "metadata": {
        "id": "RTjtW_Wqsk8O",
        "colab_type": "code",
        "outputId": "7514f760-80fd-4488-f429-aac0a5779f12",
        "colab": {
          "base_uri": "https://localhost:8080/",
          "height": 102
        }
      },
      "source": [
        "arr = np.empty((0,3), int)\n",
        "print(\"Empty array: \")\n",
        "print(arr)\n",
        "arr = np.append(arr, np.array([[10, 20, 30]]), axis = 0)\n",
        "arr = np.append(arr, np.array([[40, 50, 60]]), axis = 0)\n",
        "print(\"After adding two new arrays: \")\n",
        "print(arr)"
      ],
      "execution_count": 0,
      "outputs": [
        {
          "output_type": "stream",
          "text": [
            "Empty array: \n",
            "[]\n",
            "After adding two new arrays: \n",
            "[[10 20 30]\n",
            " [40 50 60]]\n"
          ],
          "name": "stdout"
        }
      ]
    },
    {
      "cell_type": "markdown",
      "metadata": {
        "id": "0ATfe3yEx3Qd",
        "colab_type": "text"
      },
      "source": [
        "**120, Viết chương trình NumPy để lấy chỉ mục của một phần tử tối đa trong một mảng numpy dọc theo một trục.**\n",
        "\n",
        "**Write a NumPy program to get the index of a maximum element in a numpy array along one axis.**\n",
        "\n",
        "![alt text](https://www.w3resource.com/w3r_images/python-numpy-image-exercise-120.svg)"
      ]
    },
    {
      "cell_type": "code",
      "metadata": {
        "id": "VqWBzxHKtGvT",
        "colab_type": "code",
        "colab": {
          "base_uri": "https://localhost:8080/",
          "height": 102
        },
        "outputId": "16fe8011-4a05-4cd1-9a4a-ef51cbe68918"
      },
      "source": [
        "a = np.array([[1,2,3], [4,3,1]])\n",
        "print(\"Original array: \")\n",
        "print(a)\n",
        "i, j = np.unravel_index(a.argmax(), a.shape)\n",
        "print(\"Index of a maximum element in a numpy array along one axis: \")\n",
        "print(a[i,j])"
      ],
      "execution_count": 3,
      "outputs": [
        {
          "output_type": "stream",
          "text": [
            "Original array: \n",
            "[[1 2 3]\n",
            " [4 3 1]]\n",
            "Index of a maximum element in a numpy array along one axis: \n",
            "4\n"
          ],
          "name": "stdout"
        }
      ]
    },
    {
      "cell_type": "markdown",
      "metadata": {
        "id": "iKGkabPlytmY",
        "colab_type": "text"
      },
      "source": [
        "**121, Viết chương trình NumPy để tham gia một chuỗi các mảng dọc theo một trục mới.**\n",
        "\n",
        "**Write a NumPy program to join a sequence of arrays along a new axis.**\n",
        "\n"
      ]
    },
    {
      "cell_type": "code",
      "metadata": {
        "id": "A9icOZwKyhVp",
        "colab_type": "code",
        "colab": {
          "base_uri": "https://localhost:8080/",
          "height": 391
        },
        "outputId": "b7b40b71-bc24-4b36-e420-66f931f045ed"
      },
      "source": [
        "x = np.array([1,2,3])\n",
        "y = np.array([2,3,4])\n",
        "print(\"Original arrays: \")\n",
        "print(x)\n",
        "print(y)\n",
        "print(\"Sequence of arrays along a new axis: \")\n",
        "print(np.vstack((x, y)))\n",
        "x = np.array([[1], [2], [3]])\n",
        "y = np.array([[2], [3], [4]])\n",
        "print(\"\\nOriginal arrays: \")\n",
        "print(x)\n",
        "print()\n",
        "print(y)\n",
        "print(\"Sequence of arrays along a new axis: \")\n",
        "print(np.vstack((x, y)))"
      ],
      "execution_count": 5,
      "outputs": [
        {
          "output_type": "stream",
          "text": [
            "Original arrays: \n",
            "[1 2 3]\n",
            "[2 3 4]\n",
            "Sequence of arrays along a new axis: \n",
            "[[1 2 3]\n",
            " [2 3 4]]\n",
            "\n",
            "Original arrays: \n",
            "[[1]\n",
            " [2]\n",
            " [3]]\n",
            "\n",
            "[[2]\n",
            " [3]\n",
            " [4]]\n",
            "Sequence of arrays along a new axis: \n",
            "[[1]\n",
            " [2]\n",
            " [3]\n",
            " [2]\n",
            " [3]\n",
            " [4]]\n"
          ],
          "name": "stdout"
        }
      ]
    },
    {
      "cell_type": "markdown",
      "metadata": {
        "id": "2O5GNkR3z3Zr",
        "colab_type": "text"
      },
      "source": [
        "**122, Viết chương trình NumPy để tìm chỉ mục của các phần tử được cắt như sau từ một mảng 4x4 đã cho.**\n",
        "\n",
        "**Write a NumPy program to find the index of the sliced elements as follows from a given 4x4 array.**\n",
        "\n",
        "![alt text](https://www.w3resource.com/w3r_images/python-numpy-exercise-122.svg)"
      ]
    },
    {
      "cell_type": "code",
      "metadata": {
        "id": "aevopu8bzXK9",
        "colab_type": "code",
        "colab": {
          "base_uri": "https://localhost:8080/",
          "height": 136
        },
        "outputId": "07ef6f8a-571a-4f5c-d52c-aa37427240a5"
      },
      "source": [
        "x = np.reshape(np.arange(16), (4,4))\n",
        "print(\"Original arrays: \")\n",
        "print(x)\n",
        "print(\"Sliced elements: \")\n",
        "result = x[[0,1,2], [0,1,3]]\n",
        "print(result)"
      ],
      "execution_count": 6,
      "outputs": [
        {
          "output_type": "stream",
          "text": [
            "Original arrays: \n",
            "[[ 0  1  2  3]\n",
            " [ 4  5  6  7]\n",
            " [ 8  9 10 11]\n",
            " [12 13 14 15]]\n",
            "Sliced elements: \n",
            "[ 0  5 11]\n"
          ],
          "name": "stdout"
        }
      ]
    },
    {
      "cell_type": "markdown",
      "metadata": {
        "id": "vGqpcOKy0hif",
        "colab_type": "text"
      },
      "source": [
        "**123, Viết chương trình NumPy để tạo hai mảng có kích thước lớn hơn và nhỏ hơn một mảng nhất định.**\n",
        "\n",
        "**Write a NumPy program to create two arrays of size bigger and smaller than a given array.**\n",
        "\n",
        "![alt text](https://www.w3resource.com/w3r_images/python-numpy-image-exercise-123.svg)"
      ]
    },
    {
      "cell_type": "code",
      "metadata": {
        "id": "UdnOiIIg0IwJ",
        "colab_type": "code",
        "colab": {
          "base_uri": "https://localhost:8080/",
          "height": 306
        },
        "outputId": "ff549a1a-b2f8-477d-9091-9fc97e4c9f85"
      },
      "source": [
        "x = np.arange(16).reshape(4,4)\n",
        "print(\"Original arrays: \")\n",
        "print(x)\n",
        "print(\"\\nArray with size 2x2 from the said array: \")\n",
        "new_array1 = np.resize(x, (2,2))\n",
        "print(new_array1)\n",
        "print(\"\\nArray with size 3x2 from the said array: \")\n",
        "new_array2 = np.resize(x, (3, 3))\n",
        "print(new_array2)\n",
        "new_array3 = np.resize(x, (3, 4))\n",
        "print(new_array3)"
      ],
      "execution_count": 8,
      "outputs": [
        {
          "output_type": "stream",
          "text": [
            "Original arrays: \n",
            "[[ 0  1  2  3]\n",
            " [ 4  5  6  7]\n",
            " [ 8  9 10 11]\n",
            " [12 13 14 15]]\n",
            "\n",
            "Array with size 2x2 from the said array: \n",
            "[[0 1]\n",
            " [2 3]]\n",
            "\n",
            "Array with size 3x2 from the said array: \n",
            "[[0 1 2]\n",
            " [3 4 5]\n",
            " [6 7 8]]\n",
            "[[ 0  1  2  3]\n",
            " [ 4  5  6  7]\n",
            " [ 8  9 10 11]]\n"
          ],
          "name": "stdout"
        }
      ]
    },
    {
      "cell_type": "markdown",
      "metadata": {
        "id": "pYiK2QD51Tlo",
        "colab_type": "text"
      },
      "source": [
        "**124, Viết chương trình NumPy để phát trên các hình dạng khác nhau của mảng trong đó p (3,3) + q (3).\n",
        "Biến p có hình dạng là (3, 3), trong khi q chỉ có hình dạng là 3.**\n",
        "\n",
        "**Write a NumPy program to broadcast on different shapes of arrays where p(3,3) + q(3).\n",
        "The p variable has a shape of (3, 3), while q only has a shape of 3.**\n",
        "\n",
        "![alt text](https://www.w3resource.com/w3r_images/python-numpy-exercise-124.svg)"
      ]
    },
    {
      "cell_type": "code",
      "metadata": {
        "id": "bc3dlaRO1BLn",
        "colab_type": "code",
        "colab": {
          "base_uri": "https://localhost:8080/",
          "height": 221
        },
        "outputId": "ef5ce596-4f6e-488e-c343-3953c257e996"
      },
      "source": [
        "p = np.array([[0,0,0],\n",
        "              [1,2,3],\n",
        "              [4,5,6]])\n",
        "q = np.array([10, 11, 12])\n",
        "print(\"Original arrays: \")\n",
        "print(\"Array-1: \")\n",
        "print(p)\n",
        "print(\"Array-2: \")\n",
        "print(q)\n",
        "print(\"\\nNew Array: \")\n",
        "new_array1 = p + q\n",
        "print(new_array1)"
      ],
      "execution_count": 9,
      "outputs": [
        {
          "output_type": "stream",
          "text": [
            "Original arrays: \n",
            "Array-1: \n",
            "[[0 0 0]\n",
            " [1 2 3]\n",
            " [4 5 6]]\n",
            "Array-2: \n",
            "[10 11 12]\n",
            "\n",
            "New Array: \n",
            "[[10 11 12]\n",
            " [11 13 15]\n",
            " [14 16 18]]\n"
          ],
          "name": "stdout"
        }
      ]
    },
    {
      "cell_type": "markdown",
      "metadata": {
        "id": "EDFq56ca12N6",
        "colab_type": "text"
      },
      "source": [
        "**125, Viết chương trình NumPy để phát trên các hình dạng khác nhau của mảng trong đó a (, 3) + b (3).\n",
        "Một biến có hình dạng (, 3), trong khi b chỉ có hình dạng 3.**\n",
        "\n",
        "**Write a NumPy program to broadcast on different shapes of arrays where a(,3) + b(3).\n",
        "The a variable has a shape of (, 3), while b only has a shape of 3.**\n",
        "\n",
        "![alt text](https://www.w3resource.com/w3r_images/python-numpy-exercise-125.svg)"
      ]
    },
    {
      "cell_type": "code",
      "metadata": {
        "id": "mqIsGN_V1wCT",
        "colab_type": "code",
        "colab": {
          "base_uri": "https://localhost:8080/",
          "height": 221
        },
        "outputId": "ca30a495-f3b7-4690-a018-761710fa4cb9"
      },
      "source": [
        "p = np.array([[0], [10], [20]])\n",
        "q = np.array([10, 11, 12])\n",
        "print(\"Original arrays: \")\n",
        "print(\"Array-1\")\n",
        "print(p)\n",
        "print(\"Array-2\")\n",
        "print(q)\n",
        "print(\"\\nNew Array: \")\n",
        "new_array1 = p + q\n",
        "print(new_array1)"
      ],
      "execution_count": 10,
      "outputs": [
        {
          "output_type": "stream",
          "text": [
            "Original arrays: \n",
            "Array-1\n",
            "[[ 0]\n",
            " [10]\n",
            " [20]]\n",
            "Array-2\n",
            "[10 11 12]\n",
            "\n",
            "New Array: \n",
            "[[10 11 12]\n",
            " [20 21 22]\n",
            " [30 31 32]]\n"
          ],
          "name": "stdout"
        }
      ]
    },
    {
      "cell_type": "markdown",
      "metadata": {
        "id": "MVDEXmOp2e26",
        "colab_type": "text"
      },
      "source": [
        "**126, Viết chương trình NumPy để sắp xếp lại các kích thước của một mảng nhất định.**\n",
        "\n",
        "**Write a NumPy program to rearrange the dimensions of a given array.**\n",
        "\n",
        "![alt text](https://www.w3resource.com/w3r_images/python-numpy-image-exercise-126.svg)"
      ]
    },
    {
      "cell_type": "code",
      "metadata": {
        "id": "O3Yt16Mf2UI7",
        "colab_type": "code",
        "colab": {
          "base_uri": "https://localhost:8080/",
          "height": 221
        },
        "outputId": "627a5cb8-c21c-47fd-d04d-34d8fc702d80"
      },
      "source": [
        "x = np.arange(24).reshape((6,4))\n",
        "print(\"Original arrays: \")\n",
        "print(x)\n",
        "new_array = np.transpose(x)\n",
        "print(\"After reverse the diminensions: \")\n",
        "print(new_array)"
      ],
      "execution_count": 12,
      "outputs": [
        {
          "output_type": "stream",
          "text": [
            "Original arrays: \n",
            "[[ 0  1  2  3]\n",
            " [ 4  5  6  7]\n",
            " [ 8  9 10 11]\n",
            " [12 13 14 15]\n",
            " [16 17 18 19]\n",
            " [20 21 22 23]]\n",
            "After reverse the diminensions: \n",
            "[[ 0  4  8 12 16 20]\n",
            " [ 1  5  9 13 17 21]\n",
            " [ 2  6 10 14 18 22]\n",
            " [ 3  7 11 15 19 23]]\n"
          ],
          "name": "stdout"
        }
      ]
    },
    {
      "cell_type": "markdown",
      "metadata": {
        "id": "eCxEipvg29Jb",
        "colab_type": "text"
      },
      "source": [
        "**127, Viết chương trình NumPy để xếp các mảng theo thứ tự theo chiều ngang (cột khôn ngoan).**\n",
        "\n",
        "**Write a NumPy program to stack arrays in sequence horizontally (column wise).**\n",
        "\n",
        "![alt text](https://www.w3resource.com/w3r_images/python-numpy-exercise-127.svg)"
      ]
    },
    {
      "cell_type": "code",
      "metadata": {
        "id": "DpCqBDCE2z2c",
        "colab_type": "code",
        "colab": {
          "base_uri": "https://localhost:8080/",
          "height": 272
        },
        "outputId": "303f1a98-014b-4720-ff1c-e6e11abadc9b"
      },
      "source": [
        "print(\"\\nOriginal arrays: \")\n",
        "x = np.arange(9).reshape(3,3)\n",
        "y = x*3\n",
        "print(\"Array-1\")\n",
        "print(x)\n",
        "print(\"Array-2\")\n",
        "print(y)\n",
        "new_array = np.hstack((x,y))\n",
        "print(\"\\nStack arrays in sequence horizontally: \")\n",
        "print(new_array)"
      ],
      "execution_count": 13,
      "outputs": [
        {
          "output_type": "stream",
          "text": [
            "\n",
            "Original arrays: \n",
            "Array-1\n",
            "[[0 1 2]\n",
            " [3 4 5]\n",
            " [6 7 8]]\n",
            "Array-2\n",
            "[[ 0  3  6]\n",
            " [ 9 12 15]\n",
            " [18 21 24]]\n",
            "\n",
            "Stack arrays in sequence horizontally: \n",
            "[[ 0  1  2  0  3  6]\n",
            " [ 3  4  5  9 12 15]\n",
            " [ 6  7  8 18 21 24]]\n"
          ],
          "name": "stdout"
        }
      ]
    },
    {
      "cell_type": "markdown",
      "metadata": {
        "id": "4NXABewZ3ed3",
        "colab_type": "text"
      },
      "source": [
        "**128, Viết chương trình NumPy để xếp các mảng theo thứ tự theo chiều dọc.**\n",
        "\n",
        "**Write a NumPy program to stack arrays in sequence vertically.**\n",
        "\n",
        "![alt text](https://www.w3resource.com/w3r_images/python-numpy-exercise-128.svg)"
      ]
    },
    {
      "cell_type": "code",
      "metadata": {
        "id": "Hg6gkHjV3XO7",
        "colab_type": "code",
        "colab": {
          "base_uri": "https://localhost:8080/",
          "height": 323
        },
        "outputId": "f6983eea-b3ef-4603-dab7-17ac4c37f485"
      },
      "source": [
        "print(\"\\nOriginal arrays: \")\n",
        "x = np.arange(9).reshape(3,3)\n",
        "y = x*3\n",
        "print(\"Array-1\")\n",
        "print(x)\n",
        "print(\"Array-2\")\n",
        "print(y)\n",
        "new_array = np.vstack((x,y))\n",
        "print(\"\\nStack arrays in sequence vertically: \")\n",
        "print(new_array)"
      ],
      "execution_count": 15,
      "outputs": [
        {
          "output_type": "stream",
          "text": [
            "\n",
            "Original arrays: \n",
            "Array-1\n",
            "[[0 1 2]\n",
            " [3 4 5]\n",
            " [6 7 8]]\n",
            "Array-2\n",
            "[[ 0  3  6]\n",
            " [ 9 12 15]\n",
            " [18 21 24]]\n",
            "\n",
            "Stack arrays in sequence vertically: \n",
            "[[ 0  1  2]\n",
            " [ 3  4  5]\n",
            " [ 6  7  8]\n",
            " [ 0  3  6]\n",
            " [ 9 12 15]\n",
            " [18 21 24]]\n"
          ],
          "name": "stdout"
        }
      ]
    },
    {
      "cell_type": "markdown",
      "metadata": {
        "id": "DQe9TM-638yq",
        "colab_type": "text"
      },
      "source": [
        "**129, Viết chương trình NumPy để xếp các mảng 1-D thành các cột khôn ngoan.**\n",
        "\n",
        "**Write a NumPy program to stack 1-D arrays as columns wise.**\n",
        "\n",
        "![alt text](https://www.w3resource.com/w3r_images/python-numpy-image-exercise-129.svg)"
      ]
    },
    {
      "cell_type": "code",
      "metadata": {
        "id": "sHYQ3d2C3yet",
        "colab_type": "code",
        "colab": {
          "base_uri": "https://localhost:8080/",
          "height": 204
        },
        "outputId": "badc04e0-f3e6-44e1-94c9-7658cf9aab60"
      },
      "source": [
        "print(\"\\nOriginal arrays: \")\n",
        "x = np.array((1,2,3))\n",
        "y = np.array((2,3,4))\n",
        "print(\"Array-1\")\n",
        "print(x)\n",
        "print(\"Array-2\")\n",
        "print(y)\n",
        "new_array = np.column_stack((x,y))\n",
        "print(\"\\nStack 1-D arrays as columns wise: \")\n",
        "print(new_array)"
      ],
      "execution_count": 17,
      "outputs": [
        {
          "output_type": "stream",
          "text": [
            "\n",
            "Original arrays: \n",
            "Array-1\n",
            "[1 2 3]\n",
            "Array-2\n",
            "[2 3 4]\n",
            "\n",
            "Stack 1-D arrays as columns wise: \n",
            "[[1 2]\n",
            " [2 3]\n",
            " [3 4]]\n"
          ],
          "name": "stdout"
        }
      ]
    },
    {
      "cell_type": "markdown",
      "metadata": {
        "id": "EWbOPZnq4eE3",
        "colab_type": "text"
      },
      "source": [
        "**130, Viết chương trình NumPy để xếp các mảng 1-D thành hàng khôn ngoan.**\n",
        "\n",
        "**Write a NumPy program to stack 1-D arrays as row wise.**\n",
        "\n",
        "![alt text](https://www.w3resource.com/w3r_images/python-numpy-image-exercise-130.svg)"
      ]
    },
    {
      "cell_type": "code",
      "metadata": {
        "id": "lnD-8a2l4UcF",
        "colab_type": "code",
        "colab": {
          "base_uri": "https://localhost:8080/",
          "height": 187
        },
        "outputId": "3289f1b9-680e-4910-daa8-bdf85fbbdf67"
      },
      "source": [
        "print(\"\\nOriginal arrays:\")\n",
        "x = np.array((1,2,3))\n",
        "y = np.array((2,3,4))\n",
        "print(\"Array-1\")\n",
        "print(x)\n",
        "print(\"Array-2\")\n",
        "print(y)\n",
        "new_array = np.row_stack((x, y))\n",
        "print(\"\\nStack 1-D arrays as rows wise: \")\n",
        "print(new_array)"
      ],
      "execution_count": 18,
      "outputs": [
        {
          "output_type": "stream",
          "text": [
            "\n",
            "Original arrays:\n",
            "Array-1\n",
            "[1 2 3]\n",
            "Array-2\n",
            "[2 3 4]\n",
            "\n",
            "Stack 1-D arrays as rows wise: \n",
            "[[1 2 3]\n",
            " [2 3 4]]\n"
          ],
          "name": "stdout"
        }
      ]
    },
    {
      "cell_type": "markdown",
      "metadata": {
        "id": "FBvyP0DL45TZ",
        "colab_type": "text"
      },
      "source": [
        "**131, Viết chương trình NumPy để phân chia một mảng nhất định thành nhiều mảng con theo chiều dọc (hàng-khôn ngoan).**\n",
        "\n",
        "**Write a NumPy program to split a given array into multiple sub-arrays vertically (row-wise).**\n",
        "\n",
        "![alt text](https://www.w3resource.com/w3r_images/python-numpy-image-exercise-131.svg)"
      ]
    },
    {
      "cell_type": "code",
      "metadata": {
        "id": "ky98EFFG4xpz",
        "colab_type": "code",
        "colab": {
          "base_uri": "https://localhost:8080/",
          "height": 187
        },
        "outputId": "06dbb9aa-8e02-478a-df5c-55425fa71fed"
      },
      "source": [
        "print(\"\\nOriginal arrays:\")\n",
        "x = np.arange(16.0).reshape(4, 4)\n",
        "print(x)\n",
        "new_array1 = np.vsplit(x, y)\n",
        "print(\"\\nSplit an array into multiple sub-arrays vertically: \")\n",
        "print(new_array1)"
      ],
      "execution_count": 19,
      "outputs": [
        {
          "output_type": "stream",
          "text": [
            "\n",
            "Original arrays:\n",
            "[[ 0.  1.  2.  3.]\n",
            " [ 4.  5.  6.  7.]\n",
            " [ 8.  9. 10. 11.]\n",
            " [12. 13. 14. 15.]]\n",
            "\n",
            "Split an array into multiple sub-arrays vertically: \n",
            "[array([[0., 1., 2., 3.],\n",
            "       [4., 5., 6., 7.]]), array([[ 8.,  9., 10., 11.]]), array([[12., 13., 14., 15.]]), array([], shape=(0, 4), dtype=float64)]\n"
          ],
          "name": "stdout"
        }
      ]
    },
    {
      "cell_type": "markdown",
      "metadata": {
        "id": "39ULjqEB5TqC",
        "colab_type": "text"
      },
      "source": [
        "**132, Viết chương trình NumPy để chia mảng thành nhiều mảng phụ dọc theo trục thứ 3.**\n",
        "\n",
        "**Write a NumPy program to split array into multiple sub-arrays along the 3rd axis.**\n",
        "\n",
        "![alt text](https://www.w3resource.com/w3r_images/python-numpy-image-exercise-132.svg)"
      ]
    },
    {
      "cell_type": "code",
      "metadata": {
        "id": "f9U5Kk9z5I7X",
        "colab_type": "code",
        "colab": {
          "base_uri": "https://localhost:8080/",
          "height": 323
        },
        "outputId": "6f3c21a3-0559-4cf7-d75f-a540f15e06fa"
      },
      "source": [
        "print(\"\\nOriginal arrays:\")\n",
        "x = np.arange(16.0).reshape(2, 2, 4)\n",
        "print(x)\n",
        "new_array1 = np.dsplit(x, 2)\n",
        "print(\"\\nSplit array into multiple sub-arrays along the 3re axis: \")\n",
        "print(new_array1)"
      ],
      "execution_count": 20,
      "outputs": [
        {
          "output_type": "stream",
          "text": [
            "\n",
            "Original arrays:\n",
            "[[[ 0.  1.  2.  3.]\n",
            "  [ 4.  5.  6.  7.]]\n",
            "\n",
            " [[ 8.  9. 10. 11.]\n",
            "  [12. 13. 14. 15.]]]\n",
            "\n",
            "Split array into multiple sub-arrays along the 3re axis: \n",
            "[array([[[ 0.,  1.],\n",
            "        [ 4.,  5.]],\n",
            "\n",
            "       [[ 8.,  9.],\n",
            "        [12., 13.]]]), array([[[ 2.,  3.],\n",
            "        [ 6.,  7.]],\n",
            "\n",
            "       [[10., 11.],\n",
            "        [14., 15.]]])]\n"
          ],
          "name": "stdout"
        }
      ]
    },
    {
      "cell_type": "markdown",
      "metadata": {
        "id": "m_8CGeDp5uNK",
        "colab_type": "text"
      },
      "source": [
        "**133, Viết chương trình NumPy để đếm số lượng kích thước, số phần tử và số byte cho mỗi phần tử trong một mảng nhất định.**\n",
        "\n",
        "**Write a NumPy program to count the number of dimensions, number of elements and number of bytes for each element in a given array.**\n",
        "\n",
        "![alt text](https://www.w3resource.com/w3r_images/python-numpy-image-exercise-133.svg)"
      ]
    },
    {
      "cell_type": "code",
      "metadata": {
        "id": "-Poe4bY25n-P",
        "colab_type": "code",
        "colab": {
          "base_uri": "https://localhost:8080/",
          "height": 204
        },
        "outputId": "4005c820-4f0a-4f97-b561-5f7b835b0c93"
      },
      "source": [
        "print(\"\\nOriginal arrays:\")\n",
        "x = np.array([[ 0,  1,  2,  3,  4,  5,  6,  7,  8,  9, 10, 11],\n",
        "       [12, 13, 14, 15, 16, 17, 18, 19, 20, 21, 22, 23]])\n",
        "print(x)\n",
        "print(\"\\nNumber of dimensions:\")\n",
        "print(x.ndim)\n",
        "print(\"Number of elements: \")\n",
        "print(x.size)\n",
        "print(\"Number of bytes for each element in the said array: \")\n",
        "print(x.itemsize)"
      ],
      "execution_count": 21,
      "outputs": [
        {
          "output_type": "stream",
          "text": [
            "\n",
            "Original arrays:\n",
            "[[ 0  1  2  3  4  5  6  7  8  9 10 11]\n",
            " [12 13 14 15 16 17 18 19 20 21 22 23]]\n",
            "\n",
            "Number of dimensions:\n",
            "2\n",
            "Number of elements: \n",
            "24\n",
            "Number of bytes for each element in the said array: \n",
            "8\n"
          ],
          "name": "stdout"
        }
      ]
    },
    {
      "cell_type": "markdown",
      "metadata": {
        "id": "EeqgaxAa6IX_",
        "colab_type": "text"
      },
      "source": [
        "**134, Viết chương trình NumPy để trích xuất tất cả các phần tử của hàng đầu tiên từ một mảng (4 x 4) nhất định.**\n",
        "\n",
        "**Write a NumPy program to extract all the elements of the first row from a given (4x4) array.**\n",
        "\n",
        "![alt text](https://www.w3resource.com/w3r_images/python-numpy-exercise-134.svg)"
      ]
    },
    {
      "cell_type": "code",
      "metadata": {
        "id": "F-eso_MX6D43",
        "colab_type": "code",
        "colab": {
          "base_uri": "https://localhost:8080/",
          "height": 153
        },
        "outputId": "1ee71d9e-9c6d-473b-e682-232b156c9e65"
      },
      "source": [
        "arra_data = np.arange(0, 16).reshape((4,4))\n",
        "print(\"Original array: \")\n",
        "print(arra_data)\n",
        "print(\"\\nExtracted data: First row\")\n",
        "print(arra_data[0])"
      ],
      "execution_count": 22,
      "outputs": [
        {
          "output_type": "stream",
          "text": [
            "Original array: \n",
            "[[ 0  1  2  3]\n",
            " [ 4  5  6  7]\n",
            " [ 8  9 10 11]\n",
            " [12 13 14 15]]\n",
            "\n",
            "Extracted data: First row\n",
            "[0 1 2 3]\n"
          ],
          "name": "stdout"
        }
      ]
    },
    {
      "cell_type": "markdown",
      "metadata": {
        "id": "vQowmnTa6fyB",
        "colab_type": "text"
      },
      "source": [
        "**135, Viết chương trình NumPy để trích xuất tất cả các phần tử của hàng thứ hai từ một mảng (4 x 4) nhất định.**\n",
        "\n",
        "**Write a NumPy program to extract all the elements of the second row from a given (4x4) array.**\n",
        "\n",
        "![alt text](https://www.w3resource.com/w3r_images/python-numpy-exercise-135.svg)"
      ]
    },
    {
      "cell_type": "code",
      "metadata": {
        "id": "g0DYUSBc6Z8o",
        "colab_type": "code",
        "colab": {
          "base_uri": "https://localhost:8080/",
          "height": 153
        },
        "outputId": "ab03e6b8-54d5-4152-94de-5e1ef85c3638"
      },
      "source": [
        "arra_data = np.arange(0,16).reshape((4, 4))\n",
        "print(\"Original array:\")\n",
        "print(arra_data)\n",
        "print(\"\\nExtracted data: Second row\")\n",
        "print(arra_data[1, :])"
      ],
      "execution_count": 27,
      "outputs": [
        {
          "output_type": "stream",
          "text": [
            "Original array:\n",
            "[[ 0  1  2  3]\n",
            " [ 4  5  6  7]\n",
            " [ 8  9 10 11]\n",
            " [12 13 14 15]]\n",
            "\n",
            "Extracted data: Second row\n",
            "[4 5 6 7]\n"
          ],
          "name": "stdout"
        }
      ]
    },
    {
      "cell_type": "markdown",
      "metadata": {
        "id": "udqCc7aA62KJ",
        "colab_type": "text"
      },
      "source": [
        "**136, Viết chương trình NumPy để trích xuất tất cả các phần tử của cột thứ ba từ một mảng (4 x 4) nhất định.**\n",
        "\n",
        "**Write a NumPy program to extract all the elements of the third column from a given (4x4) array.**\n",
        "\n",
        "![alt text](https://www.w3resource.com/w3r_images/python-numpy-exercise-136.svg)"
      ]
    },
    {
      "cell_type": "code",
      "metadata": {
        "id": "EKwsW3eo6roQ",
        "colab_type": "code",
        "colab": {
          "base_uri": "https://localhost:8080/",
          "height": 153
        },
        "outputId": "dae11d11-5587-4a59-f0f3-17a1a509488e"
      },
      "source": [
        "arra_data = np.arange(0,16).reshape((4, 4))\n",
        "print(\"Original array:\")\n",
        "print(arra_data)\n",
        "print(\"\\nExtracted data: Third column\")\n",
        "print(arra_data[:, 2])"
      ],
      "execution_count": 28,
      "outputs": [
        {
          "output_type": "stream",
          "text": [
            "Original array:\n",
            "[[ 0  1  2  3]\n",
            " [ 4  5  6  7]\n",
            " [ 8  9 10 11]\n",
            " [12 13 14 15]]\n",
            "\n",
            "Extracted data: Third column\n",
            "[ 2  6 10 14]\n"
          ],
          "name": "stdout"
        }
      ]
    },
    {
      "cell_type": "markdown",
      "metadata": {
        "id": "HrlPelhp7CD7",
        "colab_type": "text"
      },
      "source": [
        "**137, Viết chương trình NumPy để trích xuất các phần tử thứ nhất và thứ hai của hàng thứ nhất và thứ hai từ một mảng (4 x 4) nhất định.**\n",
        "\n",
        "**Write a NumPy program to extract first and second elements of the first and second rows from a given (4x4) array.**\n",
        "\n",
        "![alt text](https://www.w3resource.com/w3r_images/python-numpy-exercise-137.svg)"
      ]
    },
    {
      "cell_type": "code",
      "metadata": {
        "id": "uKIaJpz16-hI",
        "colab_type": "code",
        "colab": {
          "base_uri": "https://localhost:8080/",
          "height": 170
        },
        "outputId": "02780cb3-c768-4fdd-ae79-a98d7df2256e"
      },
      "source": [
        "arra_data = np.arange(0,16).reshape((4, 4))\n",
        "print(\"Original array:\")\n",
        "print(arra_data)\n",
        "print(\"\\nExtracted data: First and second elements of the first and second rows \")\n",
        "print(arra_data[0:2, 0:2])"
      ],
      "execution_count": 29,
      "outputs": [
        {
          "output_type": "stream",
          "text": [
            "Original array:\n",
            "[[ 0  1  2  3]\n",
            " [ 4  5  6  7]\n",
            " [ 8  9 10 11]\n",
            " [12 13 14 15]]\n",
            "\n",
            "Extracted data: First and second elements of the first and second rows \n",
            "[[0 1]\n",
            " [4 5]]\n"
          ],
          "name": "stdout"
        }
      ]
    },
    {
      "cell_type": "markdown",
      "metadata": {
        "id": "JOpKCXS27Qnz",
        "colab_type": "text"
      },
      "source": [
        "**138, Viết chương trình NumPy để trích xuất các phần tử thứ ba và thứ tư của hàng thứ nhất và thứ hai từ một mảng (4 x 4) nhất định.**\n",
        "\n",
        "**Write a NumPy program to extract third and fourth elements of the first and second rows from a given (4x4) array.**\n",
        "\n",
        "![alt text](https://www.w3resource.com/w3r_images/python-numpy-exercise-138.svg)"
      ]
    },
    {
      "cell_type": "code",
      "metadata": {
        "id": "Vbux7hKB7N25",
        "colab_type": "code",
        "colab": {
          "base_uri": "https://localhost:8080/",
          "height": 170
        },
        "outputId": "3f1148db-544d-46d6-ffc3-5acfb3be2c4b"
      },
      "source": [
        "arra_data = np.arange(0,16).reshape((4, 4))\n",
        "print(\"Original array:\")\n",
        "print(arra_data)\n",
        "print(\"\\nExtracted data: Third and fourth elements of the first and second rows \")\n",
        "print(arra_data[0:2, 2:4])"
      ],
      "execution_count": 30,
      "outputs": [
        {
          "output_type": "stream",
          "text": [
            "Original array:\n",
            "[[ 0  1  2  3]\n",
            " [ 4  5  6  7]\n",
            " [ 8  9 10 11]\n",
            " [12 13 14 15]]\n",
            "\n",
            "Extracted data: Third and fourth elements of the first and second rows \n",
            "[[2 3]\n",
            " [6 7]]\n"
          ],
          "name": "stdout"
        }
      ]
    },
    {
      "cell_type": "markdown",
      "metadata": {
        "id": "6MaT1x1M7boA",
        "colab_type": "text"
      },
      "source": [
        "**139, Viết chương trình NumPy để trích xuất các phần tử thứ nhất và thứ ba của hàng thứ nhất và thứ ba từ một mảng (4 x 4) nhất định.**\n",
        "\n",
        "**Write a NumPy program to extract first and third elements of the first and third rows from a given (4x4) array.**\n",
        "\n",
        "![alt text](https://www.w3resource.com/w3r_images/python-numpy-exercise-139.svg)"
      ]
    },
    {
      "cell_type": "code",
      "metadata": {
        "id": "mpIyLUxQ7YE6",
        "colab_type": "code",
        "colab": {
          "base_uri": "https://localhost:8080/",
          "height": 170
        },
        "outputId": "e1fb182e-3ab2-453b-cb2a-950790f5155a"
      },
      "source": [
        "arra_data = np.arange(0,16).reshape((4, 4))\n",
        "print(\"Original array:\")\n",
        "print(arra_data)\n",
        "print(\"\\nExtracted data: First and third elements of the first and third rows \")\n",
        "print(arra_data[::2, ::2])"
      ],
      "execution_count": 31,
      "outputs": [
        {
          "output_type": "stream",
          "text": [
            "Original array:\n",
            "[[ 0  1  2  3]\n",
            " [ 4  5  6  7]\n",
            " [ 8  9 10 11]\n",
            " [12 13 14 15]]\n",
            "\n",
            "Extracted data: First and third elements of the first and third rows \n",
            "[[ 0  2]\n",
            " [ 8 10]]\n"
          ],
          "name": "stdout"
        }
      ]
    },
    {
      "cell_type": "markdown",
      "metadata": {
        "id": "XOIg6wnO7wFJ",
        "colab_type": "text"
      },
      "source": [
        "**140, Viết chương trình NumPy để trích xuất các phần tử thứ hai và thứ tư của hàng thứ hai và thứ tư từ một mảng (4 x 4) nhất định.**\n",
        "\n",
        "**Write a NumPy program to extract second and fourth elements of the second and fourth rows from a given (4x4) array.**\n",
        "\n",
        "![alt text](https://www.w3resource.com/w3r_images/python-numpy-exercise-140.svg)"
      ]
    },
    {
      "cell_type": "code",
      "metadata": {
        "id": "R_gisXn87oAB",
        "colab_type": "code",
        "colab": {
          "base_uri": "https://localhost:8080/",
          "height": 170
        },
        "outputId": "466fb5e4-b69f-4266-f59a-82c22265815e"
      },
      "source": [
        "arra_data = np.arange(0,16).reshape((4, 4))\n",
        "print(\"Original array:\")\n",
        "print(arra_data)\n",
        "print(\"\\nExtracted data: Second and fourth elements of the second and fourth rows \")\n",
        "print(arra_data[1::2, 1::2])"
      ],
      "execution_count": 32,
      "outputs": [
        {
          "output_type": "stream",
          "text": [
            "Original array:\n",
            "[[ 0  1  2  3]\n",
            " [ 4  5  6  7]\n",
            " [ 8  9 10 11]\n",
            " [12 13 14 15]]\n",
            "\n",
            "Extracted data: Second and fourth elements of the second and fourth rows \n",
            "[[ 5  7]\n",
            " [13 15]]\n"
          ],
          "name": "stdout"
        }
      ]
    },
    {
      "cell_type": "markdown",
      "metadata": {
        "id": "V9HHh1nU8D3r",
        "colab_type": "text"
      },
      "source": [
        "**141, Viết chương trình NumPy để trích xuất tất cả các phần tử của cột thứ hai và thứ ba từ một mảng (4 x 4) nhất định.**\n",
        "\n",
        "**Write a NumPy program to extract all the elements of the second and third columns from a given (4x4) array.**\n",
        "\n",
        "![alt text](https://www.w3resource.com/w3r_images/python-numpy-exercise-141.svg)\n"
      ]
    },
    {
      "cell_type": "code",
      "metadata": {
        "id": "6NKbAxgO78ZI",
        "colab_type": "code",
        "colab": {
          "base_uri": "https://localhost:8080/",
          "height": 204
        },
        "outputId": "af0a676a-c363-4d4c-8d5b-c7789642323b"
      },
      "source": [
        "arra_data = np.arange(0,16).reshape((4, 4))\n",
        "print(\"Original array:\")\n",
        "print(arra_data)\n",
        "print(\"\\nExtracted data: All the elements of the second and third columns\")\n",
        "print(arra_data[:, [1,2]])\n",
        "# print(arra_data[:, 1:3])"
      ],
      "execution_count": 35,
      "outputs": [
        {
          "output_type": "stream",
          "text": [
            "Original array:\n",
            "[[ 0  1  2  3]\n",
            " [ 4  5  6  7]\n",
            " [ 8  9 10 11]\n",
            " [12 13 14 15]]\n",
            "\n",
            "Extracted data: All the elements of the second and third columns\n",
            "[[ 1  2]\n",
            " [ 5  6]\n",
            " [ 9 10]\n",
            " [13 14]]\n"
          ],
          "name": "stdout"
        }
      ]
    },
    {
      "cell_type": "markdown",
      "metadata": {
        "id": "IDeBtUk4-zyz",
        "colab_type": "text"
      },
      "source": [
        "**142, Viết chương trình NumPy để trích xuất tất cả các phần tử của cột thứ nhất và thứ tư từ một mảng (4 x 4) nhất định.**\n",
        "\n",
        "**Write a NumPy program to extract all the elements of the first and fourth columns from a given (4x4) array.**\n",
        "\n",
        "![alt text](https://www.w3resource.com/w3r_images/python-numpy-exercise-142.svg)"
      ]
    },
    {
      "cell_type": "code",
      "metadata": {
        "id": "LhfU2hdf8MQh",
        "colab_type": "code",
        "colab": {
          "base_uri": "https://localhost:8080/",
          "height": 204
        },
        "outputId": "60b32a05-e5da-4467-ae0e-3a22385b8f24"
      },
      "source": [
        "arra_data = np.arange(0,16).reshape((4, 4))\n",
        "print(\"Original array:\")\n",
        "print(arra_data)\n",
        "print(\"\\nExtracted data: All the elements of the first and fourth columns \")\n",
        "print(arra_data[:, [0,3]])"
      ],
      "execution_count": 36,
      "outputs": [
        {
          "output_type": "stream",
          "text": [
            "Original array:\n",
            "[[ 0  1  2  3]\n",
            " [ 4  5  6  7]\n",
            " [ 8  9 10 11]\n",
            " [12 13 14 15]]\n",
            "\n",
            "Extracted data: All the elements of the first and fourth columns \n",
            "[[ 0  3]\n",
            " [ 4  7]\n",
            " [ 8 11]\n",
            " [12 15]]\n"
          ],
          "name": "stdout"
        }
      ]
    },
    {
      "cell_type": "markdown",
      "metadata": {
        "id": "B8Ofd-WS_HbZ",
        "colab_type": "text"
      },
      "source": [
        "**143, Viết chương trình NumPy để trích xuất phần tử đầu tiên của hàng thứ hai và phần tử thứ tư của hàng thứ tư từ một mảng (4 x 4) nhất định.**\n",
        "\n",
        "**Write a NumPy program to extract first element of the second row and fourth element of fourth row from a given (4x4) array.**\n",
        "\n",
        "![alt text](https://www.w3resource.com/w3r_images/python-numpy-exercise-143.svg)"
      ]
    },
    {
      "cell_type": "code",
      "metadata": {
        "id": "agFSoOGj_Cut",
        "colab_type": "code",
        "colab": {
          "base_uri": "https://localhost:8080/",
          "height": 153
        },
        "outputId": "5f2354f7-7933-4824-d318-bfacc1ca27a6"
      },
      "source": [
        "arra_data = np.arange(0,16).reshape((4, 4))\n",
        "print(\"Original array:\")\n",
        "print(arra_data)\n",
        "print(\"\\nExtracted data: First element of the second row and fourth element of fourth row  \")\n",
        "print(arra_data[[1,3], [0, 3]])"
      ],
      "execution_count": 37,
      "outputs": [
        {
          "output_type": "stream",
          "text": [
            "Original array:\n",
            "[[ 0  1  2  3]\n",
            " [ 4  5  6  7]\n",
            " [ 8  9 10 11]\n",
            " [12 13 14 15]]\n",
            "\n",
            "Extracted data: First element of the second row and fourth element of fourth row  \n",
            "[ 4 15]\n"
          ],
          "name": "stdout"
        }
      ]
    },
    {
      "cell_type": "markdown",
      "metadata": {
        "id": "0ADA7nie_fXt",
        "colab_type": "text"
      },
      "source": [
        "**144, Viết chương trình NumPy để trích xuất các phần tử thứ hai và thứ ba của hàng thứ hai và thứ ba từ một mảng (4 x 4) nhất định.**\n",
        "\n",
        "**Write a NumPy program to extract second and third elements of the second and third rows from a given (4x4) array.**\n",
        "\n",
        "![alt text](https://www.w3resource.com/w3r_images/python-numpy-exercise-144.svg)"
      ]
    },
    {
      "cell_type": "code",
      "metadata": {
        "id": "4xXGRLEq_SWi",
        "colab_type": "code",
        "colab": {
          "base_uri": "https://localhost:8080/",
          "height": 170
        },
        "outputId": "00caa3a3-c41c-41be-86af-9573bf53e07c"
      },
      "source": [
        "arra_data = np.arange(0,16).reshape((4, 4))\n",
        "print(\"Original array:\")\n",
        "print(arra_data)\n",
        "print(\"\\nExtracted data: Second and third elements of the second and third rows\")\n",
        "print(arra_data[1:3, 1:3])"
      ],
      "execution_count": 38,
      "outputs": [
        {
          "output_type": "stream",
          "text": [
            "Original array:\n",
            "[[ 0  1  2  3]\n",
            " [ 4  5  6  7]\n",
            " [ 8  9 10 11]\n",
            " [12 13 14 15]]\n",
            "\n",
            "Extracted data: Second and third elements of the second and third rows\n",
            "[[ 5  6]\n",
            " [ 9 10]]\n"
          ],
          "name": "stdout"
        }
      ]
    },
    {
      "cell_type": "markdown",
      "metadata": {
        "id": "2dbpKGS4AAqn",
        "colab_type": "text"
      },
      "source": [
        "**145, Viết chương trình NumPy để trích xuất các phần tử đầu tiên, thứ ba và thứ năm của hàng thứ ba và thứ năm từ một mảng (6x6) nhất định.**\n",
        "\n",
        "**Write a NumPy program to extract first, third and fifth elements of the third and fifth rows from a given (6x6) array.**\n",
        "\n",
        "![alt text](https://www.w3resource.com/w3r_images/python-numpy-exercise-145.svg)\n"
      ]
    },
    {
      "cell_type": "code",
      "metadata": {
        "id": "1gU4p_Dt_o_C",
        "colab_type": "code",
        "colab": {
          "base_uri": "https://localhost:8080/",
          "height": 204
        },
        "outputId": "5267388f-6cde-4374-b864-78fe940fc7a1"
      },
      "source": [
        "arra_data = np.arange(0,36).reshape((6, 6))\n",
        "print(\"Original array:\")\n",
        "print(arra_data)\n",
        "print(\"\\nExtracted data: First, third and fifth elements of the third and fifth rows\")\n",
        "print(arra_data[2::2, ::2])"
      ],
      "execution_count": 39,
      "outputs": [
        {
          "output_type": "stream",
          "text": [
            "Original array:\n",
            "[[ 0  1  2  3  4  5]\n",
            " [ 6  7  8  9 10 11]\n",
            " [12 13 14 15 16 17]\n",
            " [18 19 20 21 22 23]\n",
            " [24 25 26 27 28 29]\n",
            " [30 31 32 33 34 35]]\n",
            "\n",
            "Extracted data: First, third and fifth elements of the third and fifth rows\n",
            "[[12 14 16]\n",
            " [24 26 28]]\n"
          ],
          "name": "stdout"
        }
      ]
    },
    {
      "cell_type": "markdown",
      "metadata": {
        "id": "llQz8FCnAbws",
        "colab_type": "text"
      },
      "source": [
        "**146, Viết chương trình NumPy để thêm hai mảng A và B có kích thước (3,3) và (, 3).**\n",
        "\n",
        "**Write a NumPy program to add two arrays A and B of sizes (3,3) and (,3).**\n",
        "\n",
        "![alt text](https://www.w3resource.com/w3r_images/python-numpy-exercise-146.svg)"
      ]
    },
    {
      "cell_type": "code",
      "metadata": {
        "id": "KFEht9EFAWuS",
        "colab_type": "code",
        "colab": {
          "base_uri": "https://localhost:8080/",
          "height": 204
        },
        "outputId": "4240c149-c150-4209-f78e-813bceebe91e"
      },
      "source": [
        "A = np.ones((3,3))\n",
        "B = np.arange(3)\n",
        "print(\"Original array:\")\n",
        "print(\"Array-1\")\n",
        "print(A)\n",
        "print(\"Array-2\")\n",
        "print(B)\n",
        "print(\"A + B:\")\n",
        "new_array = A + B\n",
        "print(new_array)"
      ],
      "execution_count": 40,
      "outputs": [
        {
          "output_type": "stream",
          "text": [
            "Original array:\n",
            "Array-1\n",
            "[[1. 1. 1.]\n",
            " [1. 1. 1.]\n",
            " [1. 1. 1.]]\n",
            "Array-2\n",
            "[0 1 2]\n",
            "A + B:\n",
            "[[1. 2. 3.]\n",
            " [1. 2. 3.]\n",
            " [1. 2. 3.]]\n"
          ],
          "name": "stdout"
        }
      ]
    },
    {
      "cell_type": "markdown",
      "metadata": {
        "id": "X16ZSywjAsS6",
        "colab_type": "text"
      },
      "source": [
        "**147, Viết chương trình NumPy để tạo một mảng đại diện cho thứ hạng của từng mục của một mảng nhất định.**\n",
        "\n",
        "**Write a NumPy program to create an array that represents the rank of each item of a given array.**\n",
        "\n",
        "![alt text](https://www.w3resource.com/w3r_images/python-numpy-image-exercise-147.svg)"
      ]
    },
    {
      "cell_type": "code",
      "metadata": {
        "id": "yfhKIElSAn6Z",
        "colab_type": "code",
        "colab": {
          "base_uri": "https://localhost:8080/",
          "height": 102
        },
        "outputId": "0aaad714-5a9e-4d54-b7fa-2870738f295f"
      },
      "source": [
        "array = np.array([24, 27, 30, 29, 18, 14])\n",
        "print(\"Original array:\")\n",
        "print(array)\n",
        "argsort_array = array.argsort()\n",
        "rank_array = np.empty_like(argsort_array)\n",
        "rank_array[argsort_array] = np.arange(len(array))\n",
        "print(\"\\nRank of each item of the said array: \")\n",
        "print(rank_array)"
      ],
      "execution_count": 43,
      "outputs": [
        {
          "output_type": "stream",
          "text": [
            "Original array:\n",
            "[24 27 30 29 18 14]\n",
            "\n",
            "Rank of each item of the said array: \n",
            "[2 3 5 4 1 0]\n"
          ],
          "name": "stdout"
        }
      ]
    },
    {
      "cell_type": "markdown",
      "metadata": {
        "id": "fhrK-LSiBe-3",
        "colab_type": "text"
      },
      "source": [
        "**148, Viết chương trình NumPy để sao chép dữ liệu từ một mảng nhất định sang mảng khác.**\n",
        "\n",
        "**Write a NumPy program to copy data from a given array to another array.**\n",
        "\n",
        "![alt text](https://www.w3resource.com/w3r_images/python-numpy-image-exercise-148.svg)"
      ]
    },
    {
      "cell_type": "code",
      "metadata": {
        "id": "FHaNIzz7BQ47",
        "colab_type": "code",
        "colab": {
          "base_uri": "https://localhost:8080/",
          "height": 102
        },
        "outputId": "63a7f613-777f-4673-dfab-a2ac94c68e35"
      },
      "source": [
        "x = np.array([24, 27, 30, 29, 18, 14])\n",
        "print(\"Original array:\")\n",
        "print(x)\n",
        "y = np.empty_like(x)\n",
        "y[:] = x\n",
        "print(\"\\nCopy of the said array: \")\n",
        "print(y)"
      ],
      "execution_count": 46,
      "outputs": [
        {
          "output_type": "stream",
          "text": [
            "Original array:\n",
            "[24 27 30 29 18 14]\n",
            "\n",
            "Copy of the said array: \n",
            "[24 27 30 29 18 14]\n"
          ],
          "name": "stdout"
        }
      ]
    },
    {
      "cell_type": "markdown",
      "metadata": {
        "id": "jIafMARIB1KS",
        "colab_type": "text"
      },
      "source": [
        "**149, Viết chương trình NumPy để tìm các phần tử trong phạm vi từ một mảng số đã cho.**\n",
        "\n",
        "**Write a NumPy program to find elements within range from a given array of numbers.**\n",
        "\n",
        "![alt text](https://www.w3resource.com/w3r_images/python-numpy-image-exercise-149.svg)"
      ]
    },
    {
      "cell_type": "code",
      "metadata": {
        "id": "hj7N-QTVBsQJ",
        "colab_type": "code",
        "colab": {
          "base_uri": "https://localhost:8080/",
          "height": 102
        },
        "outputId": "cff8f23a-80d6-423c-d61a-cffe8c4cd93f"
      },
      "source": [
        "a = np.array([1, 3, 7, 9, 10, 13, 14, 17, 29])\n",
        "print(\"Original array:\")\n",
        "print(a)\n",
        "result = np.where(np.logical_and(a>=7, a<=20))\n",
        "print(\"\\nElements within range: index position\")\n",
        "print(result)"
      ],
      "execution_count": 47,
      "outputs": [
        {
          "output_type": "stream",
          "text": [
            "Original array:\n",
            "[ 1  3  7  9 10 13 14 17 29]\n",
            "\n",
            "Elements within range: index position\n",
            "(array([2, 3, 4, 5, 6, 7]),)\n"
          ],
          "name": "stdout"
        }
      ]
    },
    {
      "cell_type": "markdown",
      "metadata": {
        "id": "IWO0aBVDCWz2",
        "colab_type": "text"
      },
      "source": [
        "**150, Viết chương trình NumPy để hoán đổi các cột trong một mảng nhất định.**\n",
        "\n",
        "**Write a NumPy program to swap columns in a given array.**\n",
        "\n",
        "![alt text](https://www.w3resource.com/w3r_images/python-numpy-image-exercise-150.svg)"
      ]
    },
    {
      "cell_type": "code",
      "metadata": {
        "id": "mfwFsdUsCGdL",
        "colab_type": "code",
        "colab": {
          "base_uri": "https://localhost:8080/",
          "height": 170
        },
        "outputId": "32880d72-b2fb-4c61-8fce-782331493a32"
      },
      "source": [
        "my_array = np.arange(12).reshape(3, 4)\n",
        "print(\"Original array:\")\n",
        "print(my_array)\n",
        "my_array[:, [0,1]] = my_array[:, [1,0]]\n",
        "print(\"\\nAfter swapping arrays: \")\n",
        "print(my_array)"
      ],
      "execution_count": 48,
      "outputs": [
        {
          "output_type": "stream",
          "text": [
            "Original array:\n",
            "[[ 0  1  2  3]\n",
            " [ 4  5  6  7]\n",
            " [ 8  9 10 11]]\n",
            "\n",
            "After swapping arrays: \n",
            "[[ 1  0  2  3]\n",
            " [ 5  4  6  7]\n",
            " [ 9  8 10 11]]\n"
          ],
          "name": "stdout"
        }
      ]
    },
    {
      "cell_type": "markdown",
      "metadata": {
        "id": "3YAiiiYrDEIA",
        "colab_type": "text"
      },
      "source": [
        "**151, Viết chương trình NumPy để lấy số hàng trong mảng đã cho trong đó ít nhất một mục lớn hơn giá trị đã chỉ định.**\n",
        "\n",
        "**Write a NumPy program to get the row numbers in given array where at least one item is larger than a specified value.**\n",
        "\n",
        "![alt text](https://www.w3resource.com/w3r_images/python-numpy-image-exercise-151.svg)"
      ]
    },
    {
      "cell_type": "code",
      "metadata": {
        "id": "92KScIA7CrnM",
        "colab_type": "code",
        "colab": {
          "base_uri": "https://localhost:8080/",
          "height": 136
        },
        "outputId": "d7f054e4-13dd-4924-cb10-556015053691"
      },
      "source": [
        "num = np.arange(36)\n",
        "arr1 = np.reshape(num, [4, 9])\n",
        "print(\"Original array:\")\n",
        "print(arr1)\n",
        "result = np.where(np.any(arr1>10, axis=1))\n",
        "print(\"\\Row numbers where at least one item is larger than 10: \")\n",
        "print(result)"
      ],
      "execution_count": 49,
      "outputs": [
        {
          "output_type": "stream",
          "text": [
            "Original array:\n",
            "[[ 0  1  2  3  4  5  6  7  8]\n",
            " [ 9 10 11 12 13 14 15 16 17]\n",
            " [18 19 20 21 22 23 24 25 26]\n",
            " [27 28 29 30 31 32 33 34 35]]\n",
            "\\Row numbers where at least one item is larger than 10: \n",
            "(array([1, 2, 3]),)\n"
          ],
          "name": "stdout"
        }
      ]
    },
    {
      "cell_type": "markdown",
      "metadata": {
        "id": "r7xEsNzlDhzQ",
        "colab_type": "text"
      },
      "source": [
        "**152, Viết chương trình NumPy để tính tổng của tất cả các cột của mảng NumPy 2D.**\n",
        "\n",
        "**Write a NumPy program to calculate the sum of all columns of a 2D NumPy array.**\n",
        "\n",
        "![alt text](https://www.w3resource.com/w3r_images/python-numpy-image-exercise-152.svg)"
      ]
    },
    {
      "cell_type": "code",
      "metadata": {
        "id": "ZWqG0GnCDaLw",
        "colab_type": "code",
        "colab": {
          "base_uri": "https://localhost:8080/",
          "height": 153
        },
        "outputId": "71319c62-7273-4345-8923-63efa99622d7"
      },
      "source": [
        "num = np.arange(36)\n",
        "arr1 = np.reshape(num, [4,9])\n",
        "print(\"Original array: \")\n",
        "print(arr1)\n",
        "result = arr1.sum(axis=0)\n",
        "print(\"\\nSum of all columns:\")\n",
        "print(result)"
      ],
      "execution_count": 55,
      "outputs": [
        {
          "output_type": "stream",
          "text": [
            "Original array: \n",
            "[[ 0  1  2  3  4  5  6  7  8]\n",
            " [ 9 10 11 12 13 14 15 16 17]\n",
            " [18 19 20 21 22 23 24 25 26]\n",
            " [27 28 29 30 31 32 33 34 35]]\n",
            "\n",
            "Sum of all columns:\n",
            "[54 58 62 66 70 74 78 82 86]\n"
          ],
          "name": "stdout"
        }
      ]
    },
    {
      "cell_type": "markdown",
      "metadata": {
        "id": "LIutAh8LELpp",
        "colab_type": "text"
      },
      "source": [
        "**153, Viết chương trình NumPy để trích xuất phần tam giác trên của ma trận NumPy.**\n",
        "\n",
        "**Write a NumPy program to extract upper triangular part of a NumPy matrix.**\n",
        "\n",
        "![alt text](https://www.w3resource.com/w3r_images/python-numpy-image-exercise-153.svg)"
      ]
    },
    {
      "cell_type": "code",
      "metadata": {
        "id": "o62gzy6JD8UK",
        "colab_type": "code",
        "colab": {
          "base_uri": "https://localhost:8080/",
          "height": 238
        },
        "outputId": "faa4f999-52d9-43f6-d86d-99d2671a92e7"
      },
      "source": [
        "num = np.arange(18)\n",
        "arr1 = np.reshape(num, [6, 3])\n",
        "print(\"Original array:\")\n",
        "print(arr1)\n",
        "result = arr1[np.triu_indices(3)]\n",
        "print(\"\\nExtract upper triangular part of the said array: \")\n",
        "print(result)\n",
        "result = arr1[np.triu_indices(2)]\n",
        "print(\"\\nExtract upper triangular part of the said array: \")\n",
        "print(result)"
      ],
      "execution_count": 56,
      "outputs": [
        {
          "output_type": "stream",
          "text": [
            "Original array:\n",
            "[[ 0  1  2]\n",
            " [ 3  4  5]\n",
            " [ 6  7  8]\n",
            " [ 9 10 11]\n",
            " [12 13 14]\n",
            " [15 16 17]]\n",
            "\n",
            "Extract upper triangular part of the said array: \n",
            "[0 1 2 4 5 8]\n",
            "\n",
            "Extract upper triangular part of the said array: \n",
            "[0 1 4]\n"
          ],
          "name": "stdout"
        }
      ]
    },
    {
      "cell_type": "markdown",
      "metadata": {
        "id": "iX5MV9wOErbJ",
        "colab_type": "text"
      },
      "source": [
        "**154, Viết chương trình NumPy để có một bản sao của ma trận với các phần tử bên dưới đường chéo thứ 0 bằng 0.**\n",
        "\n",
        "**Write a NumPy program to get a copy of a matrix with the elements below the k-th diagonal zeroed.**\n",
        "\n"
      ]
    },
    {
      "cell_type": "code",
      "metadata": {
        "id": "-P6lrT02EjJK",
        "colab_type": "code",
        "colab": {
          "base_uri": "https://localhost:8080/",
          "height": 119
        },
        "outputId": "888e09bb-3423-4c3e-b59a-a2b303f1f510"
      },
      "source": [
        "result = np.triu([[1,2,3], [4,5,6], [7,8,9], [10,11,12]], -1)\n",
        "print(\"\\nCopy of a matrix with the elements below the k-th diagonal zeroed: \")\n",
        "print(result)"
      ],
      "execution_count": 57,
      "outputs": [
        {
          "output_type": "stream",
          "text": [
            "\n",
            "Copy of a matrix with the elements below the k-th diagonal zeroed: \n",
            "[[ 1  2  3]\n",
            " [ 4  5  6]\n",
            " [ 0  8  9]\n",
            " [ 0  0 12]]\n"
          ],
          "name": "stdout"
        }
      ]
    },
    {
      "cell_type": "markdown",
      "metadata": {
        "id": "ffUIyn0_FJ4E",
        "colab_type": "text"
      },
      "source": [
        "**155, Viết chương trình NumPy để kiểm tra xem một mảng Numpy có chứa một hàng được chỉ định hay không.**\n",
        "\n",
        "**Write a NumPy program to check whether a Numpy array contains a specified row.**\n",
        "\n",
        "![alt text](https://www.w3resource.com/w3r_images/python-numpy-image-exercise-155.svg)"
      ]
    },
    {
      "cell_type": "code",
      "metadata": {
        "id": "gdCYEVk-E9Hc",
        "colab_type": "code",
        "colab": {
          "base_uri": "https://localhost:8080/",
          "height": 153
        },
        "outputId": "2a9cadc8-8d2e-45cf-a5ed-881314db7415"
      },
      "source": [
        "num = np.arange(20)\n",
        "arr1 = np.reshape(num, [4, 5])\n",
        "print(\"Original array:\")\n",
        "print(arr1)\n",
        "print([0,1,2,3,4] in arr1.tolist())\n",
        "print([0,1,2,3,5] in arr1.tolist())\n",
        "print([15,16,17,18,19] in arr1.tolist())"
      ],
      "execution_count": 58,
      "outputs": [
        {
          "output_type": "stream",
          "text": [
            "Original array:\n",
            "[[ 0  1  2  3  4]\n",
            " [ 5  6  7  8  9]\n",
            " [10 11 12 13 14]\n",
            " [15 16 17 18 19]]\n",
            "True\n",
            "False\n",
            "True\n"
          ],
          "name": "stdout"
        }
      ]
    },
    {
      "cell_type": "markdown",
      "metadata": {
        "id": "DOg8dScxFhnR",
        "colab_type": "text"
      },
      "source": [
        "**156, Viết chương trình NumPy để tính trung bình không có NaN dọc theo một mảng nhất định.**\n",
        "\n",
        "**Write a NumPy program to calculate averages without NaNs along a given array.**\n",
        "\n",
        "![alt text](https://www.w3resource.com/w3r_images/python-numpy-image-exercise-156.svg)"
      ]
    },
    {
      "cell_type": "code",
      "metadata": {
        "id": "VROelq8eFe4b",
        "colab_type": "code",
        "colab": {
          "base_uri": "https://localhost:8080/",
          "height": 136
        },
        "outputId": "abfa2a17-6a9d-40e2-9f16-ceff829d2042"
      },
      "source": [
        "arr1 = np.array([[10, 20, 30], [40,50,np.nan], [np.nan, 6, np.nan], [np.nan, np.nan, np.nan]])\n",
        "print(\"Original array: \")\n",
        "print(arr1)\n",
        "temp = np.ma.masked_array(arr1, np.isnan(arr1))\n",
        "result = np.mean(temp, axis = 1)\n",
        "print(\"Averages without NaNs along the said array: \")\n",
        "print(result.filled(np.nan))"
      ],
      "execution_count": 61,
      "outputs": [
        {
          "output_type": "stream",
          "text": [
            "Original array: \n",
            "[[10. 20. 30.]\n",
            " [40. 50. nan]\n",
            " [nan  6. nan]\n",
            " [nan nan nan]]\n",
            "Averages without NaNs along the said array: \n",
            "[20. 45.  6. nan]\n"
          ],
          "name": "stdout"
        }
      ]
    },
    {
      "cell_type": "markdown",
      "metadata": {
        "id": "P36fC9OwGhiL",
        "colab_type": "text"
      },
      "source": [
        "**157, Viết chương trình NumPy để tạo một mảng mới, là trung bình của mỗi bộ ba phần tử liên tiếp của một mảng nhất định.**\n",
        "\n",
        "**Write a NumPy program to create a new array which is the average of every consecutive triplet of elements of a given array.**\n",
        "\n",
        "![alt text](https://www.w3resource.com/w3r_images/python-numpy-image-exercise-157.svg)"
      ]
    },
    {
      "cell_type": "code",
      "metadata": {
        "id": "KIl9jBAbGM1v",
        "colab_type": "code",
        "colab": {
          "base_uri": "https://localhost:8080/",
          "height": 85
        },
        "outputId": "f00597ca-b503-47d9-e89d-926d7bb61204"
      },
      "source": [
        "arr1 = np.array([1,2,3, 2,4,6, 1,2,12, 0,-12,6])\n",
        "print(\"Original array:\")\n",
        "print(arr1)\n",
        "result = np.mean(arr1.reshape(-1, 3), axis=1)\n",
        "print(\"Average of every consecutive triplet of elements of the said array: \")\n",
        "print(result)"
      ],
      "execution_count": 62,
      "outputs": [
        {
          "output_type": "stream",
          "text": [
            "Original array:\n",
            "[  1   2   3   2   4   6   1   2  12   0 -12   6]\n",
            "Average of every consecutive triplet of elements of the said array: \n",
            "[ 2.  4.  5. -2.]\n"
          ],
          "name": "stdout"
        }
      ]
    },
    {
      "cell_type": "markdown",
      "metadata": {
        "id": "YPnSXeDEG7tA",
        "colab_type": "text"
      },
      "source": [
        "**158, Viết chương trình NumPy để tính giá trị trung bình của hai mảng numpy đã cho.**\n",
        "\n",
        "**Write a NumPy program to calculate average values of two given numpy arrays.**\n",
        "\n",
        "![alt text](https://www.w3resource.com/w3r_images/python-numpy-image-exercise-158.svg)"
      ]
    },
    {
      "cell_type": "code",
      "metadata": {
        "id": "biyPaI-9GzKU",
        "colab_type": "code",
        "colab": {
          "base_uri": "https://localhost:8080/",
          "height": 119
        },
        "outputId": "489db555-b841-4c61-a04b-697408acde54"
      },
      "source": [
        "array1 = [[0, 1], [2, 3]]\n",
        "array2 = [[4, 5], [0, 3]]\n",
        "print(\"Original arrays:\")\n",
        "print(array1)\n",
        "print(array2)\n",
        "print(\"Average values of two said numpy arrays:\")\n",
        "result = (np.array(array1) + np.array(array2)) / 2\n",
        "print(result)"
      ],
      "execution_count": 63,
      "outputs": [
        {
          "output_type": "stream",
          "text": [
            "Original arrays:\n",
            "[[0, 1], [2, 3]]\n",
            "[[4, 5], [0, 3]]\n",
            "Average values of two said numpy arrays:\n",
            "[[2. 3.]\n",
            " [1. 3.]]\n"
          ],
          "name": "stdout"
        }
      ]
    },
    {
      "cell_type": "markdown",
      "metadata": {
        "id": "LkbnBfJdHPFn",
        "colab_type": "text"
      },
      "source": [
        "**159, Viết chương trình NumPy để sắp xếp lại các cột của một mảng 2D khó hiểu nhất định bằng các vị trí chỉ mục đã cho.**\n",
        "\n",
        "**Write a NumPy program to rearrange columns of a given numpy 2D array using given index positions.**\n",
        "\n",
        "![alt text](https://www.w3resource.com/w3r_images/python-numpy-image-exercise-159.svg)"
      ]
    },
    {
      "cell_type": "code",
      "metadata": {
        "id": "WFHUIe5ZHKK7",
        "colab_type": "code",
        "colab": {
          "base_uri": "https://localhost:8080/",
          "height": 119
        },
        "outputId": "fe7a62a9-ed7b-40a9-c41f-d75b5f8c742e"
      },
      "source": [
        "array1 = np.array([[11, 22, 33, 44, 55],\n",
        "             [66,  77,  88,  99, 100]])\n",
        "print(\"Original arrays:\")\n",
        "print(array1)\n",
        "i = [1,3,0,4,2]\n",
        "result = array1[:, i]\n",
        "print(\"New array: \")\n",
        "print(result)"
      ],
      "execution_count": 65,
      "outputs": [
        {
          "output_type": "stream",
          "text": [
            "Original arrays:\n",
            "[[ 11  22  33  44  55]\n",
            " [ 66  77  88  99 100]]\n",
            "New array: \n",
            "[[ 22  44  11  55  33]\n",
            " [ 77  99  66 100  88]]\n"
          ],
          "name": "stdout"
        }
      ]
    },
    {
      "cell_type": "markdown",
      "metadata": {
        "id": "m1LRvFFEHymg",
        "colab_type": "text"
      },
      "source": [
        "**160, Viết chương trình NumPy để tìm k giá trị nhỏ nhất của một mảng numpy nhất định.**\n",
        "\n",
        "**Write a NumPy program to find the k smallest values of a given numpy array.**\n",
        "\n",
        "![alt text](https://www.w3resource.com/w3r_images/python-numpy-image-exercise-160.svg)"
      ]
    },
    {
      "cell_type": "code",
      "metadata": {
        "id": "RkNlgdSTHhmy",
        "colab_type": "code",
        "colab": {
          "base_uri": "https://localhost:8080/",
          "height": 102
        },
        "outputId": "eebc34cc-a5db-4fe6-aa59-4a449851695b"
      },
      "source": [
        "array1 = np.array([1, 7, 8, 2, 0.1, 3, 15, 2.5])\n",
        "print(\"Original arrays:\")\n",
        "print(array1)\n",
        "k = 4\n",
        "result = np.argpartition(array1, k)\n",
        "print(\"\\nk smallest values: \")\n",
        "print(array1[result[:k]])"
      ],
      "execution_count": 66,
      "outputs": [
        {
          "output_type": "stream",
          "text": [
            "Original arrays:\n",
            "[ 1.   7.   8.   2.   0.1  3.  15.   2.5]\n",
            "\n",
            "k smallest values: \n",
            "[0.1 1.  2.  2.5]\n"
          ],
          "name": "stdout"
        }
      ]
    },
    {
      "cell_type": "markdown",
      "metadata": {
        "id": "BmZO2j7GIPHV",
        "colab_type": "text"
      },
      "source": [
        "**161, Viết chương trình NumPy để tạo ảnh trắng có kích thước 512x256.**\n",
        "\n",
        "**Write a NumPy program to create a white image of size 512x256.**\n",
        "\n"
      ]
    },
    {
      "cell_type": "code",
      "metadata": {
        "id": "F9D-n4DKIGr3",
        "colab_type": "code",
        "colab": {
          "base_uri": "https://localhost:8080/",
          "height": 34
        },
        "outputId": "e53f7068-a4bf-4162-aa6a-b976a9d42546"
      },
      "source": [
        "from PIL import Image \n",
        "\n",
        "a = np.full((512, 256, 3), 255, dtype=np.uint8) # 512 phần tử, mỗi phần tử có 256 hàng, 3 cột giá trị tất cả 255\n",
        "image = Image.fromarray(a, \"RGB\")\n",
        "image.save(\"white.png\", \"PNG\")\n",
        "print(image)"
      ],
      "execution_count": 70,
      "outputs": [
        {
          "output_type": "stream",
          "text": [
            "<PIL.Image.Image image mode=RGB size=256x512 at 0x7F7DB8AC4A20>\n"
          ],
          "name": "stdout"
        }
      ]
    },
    {
      "cell_type": "markdown",
      "metadata": {
        "id": "x4Xq4mMmJJ_G",
        "colab_type": "text"
      },
      "source": [
        " **162, Tạo một mảng (a) có hình 3, 4, 8 (K = 3, J = 4, I = 8). tidx là một mảng có cùng độ dài với a.shape [1], tức là chứa J = 4 phần tử trong đó mỗi chỉ số biểu thị phần tử nào của K nên được chọn.\n",
        "Viết chương trình NumPy để chọn từ trục đầu tiên (K) bởi các chỉ số tidx để lấy một mảng hình dạng (J = 4, I = 8) trở lại.**\n",
        "\n",
        "**Create an array (a) of shape 3, 4, 8 (K=3, J=4, I=8). tidx is an array of the same length as a.shape[1], i.e. contains J = 4 elements where each index denotes which element of K should be chosen.\n",
        "Write a NumPy program to select from the first axis (K) by the indices tidx to get an array of shape (J=4, I=8) back.**"
      ]
    },
    {
      "cell_type": "code",
      "metadata": {
        "id": "DJ8A2m_2IfMl",
        "colab_type": "code",
        "colab": {
          "base_uri": "https://localhost:8080/",
          "height": 408
        },
        "outputId": "8111d050-aaf4-4782-eed3-66ea4527bfaf"
      },
      "source": [
        "a = np.random.randint(0, 10, (3, 4, 8))\n",
        "print(\"Original array and shape:\")\n",
        "print(a)\n",
        "print(a.shape)\n",
        "print(\"--------------------------------\")\n",
        "tidx = np.random.randint(0,3,4)\n",
        "print(\"tidex: \", tidx)\n",
        "print(\"Result: \")\n",
        "print(a[tidx, np.arange(len(tidx)), :])"
      ],
      "execution_count": 71,
      "outputs": [
        {
          "output_type": "stream",
          "text": [
            "Original array and shape:\n",
            "[[[9 0 8 6 2 4 3 4]\n",
            "  [9 9 8 6 0 7 4 4]\n",
            "  [1 2 5 3 2 1 2 3]\n",
            "  [4 9 1 4 0 8 2 8]]\n",
            "\n",
            " [[1 8 8 0 5 9 9 9]\n",
            "  [5 9 8 3 3 5 4 2]\n",
            "  [1 0 2 8 8 2 9 2]\n",
            "  [2 2 1 1 4 0 8 2]]\n",
            "\n",
            " [[3 7 1 8 1 7 5 2]\n",
            "  [1 3 9 4 4 7 9 8]\n",
            "  [2 4 1 5 1 1 4 5]\n",
            "  [1 7 7 9 5 3 7 7]]]\n",
            "(3, 4, 8)\n",
            "--------------------------------\n",
            "tidex:  [2 2 0 0]\n",
            "Result: \n",
            "[[3 7 1 8 1 7 5 2]\n",
            " [1 3 9 4 4 7 9 8]\n",
            " [1 2 5 3 2 1 2 3]\n",
            " [4 9 1 4 0 8 2 8]]\n"
          ],
          "name": "stdout"
        }
      ]
    },
    {
      "cell_type": "markdown",
      "metadata": {
        "id": "kp_NaquPJum3",
        "colab_type": "text"
      },
      "source": [
        "**163, Tạo hai mảng sáu yếu tố. Viết chương trình NumPy để đếm số lượng phiên bản của một giá trị xảy ra trong một mảng với điều kiện của một mảng khác.**\n",
        "\n",
        "**Create two arrays of six elements. Write a NumPy program to count the number of instances of a value occurring in one array on the condition of another array.**\n",
        "\n"
      ]
    },
    {
      "cell_type": "code",
      "metadata": {
        "id": "QDE8ydcmJgYp",
        "colab_type": "code",
        "colab": {
          "base_uri": "https://localhost:8080/",
          "height": 119
        },
        "outputId": "3af0be72-e5ba-4c27-e156-bed2613d6f41"
      },
      "source": [
        "x = np.array([10,-10,10,-10,-10,10])\n",
        "y = np.array([.85,.45,.9,.8,.12,.6])\n",
        "print(\"Original arrays:\")\n",
        "print(x)\n",
        "print(y)\n",
        "result = np.sum((x == 10) & (y > .5))\n",
        "print(\"\\nNumber of instances of a value occurring in one array on the condition of another array: \")\n",
        "print(result)"
      ],
      "execution_count": 72,
      "outputs": [
        {
          "output_type": "stream",
          "text": [
            "Original arrays:\n",
            "[ 10 -10  10 -10 -10  10]\n",
            "[0.85 0.45 0.9  0.8  0.12 0.6 ]\n",
            "\n",
            "Number of instances of a value occurring in one array on the condition of another array: \n",
            "3\n"
          ],
          "name": "stdout"
        }
      ]
    },
    {
      "cell_type": "markdown",
      "metadata": {
        "id": "UGh3hl5BKPFR",
        "colab_type": "text"
      },
      "source": [
        "**164, Viết chương trình NumPy để lưu dưới dạng văn bản một ma trận có ở mỗi hàng 2 float và 1 chuỗi ở cuối.**\n",
        "\n",
        "\n",
        "**Write a NumPy program to save as text a matrix which has in each row 2 float and 1 string at the end.**\n"
      ]
    },
    {
      "cell_type": "code",
      "metadata": {
        "id": "_SA3DYC0KC4B",
        "colab_type": "code",
        "colab": {}
      },
      "source": [
        "import numpy as np\n",
        "matrix = [[1, 0, 'aaa'], [0, 1, 'bbb'], [0, 1, 'ccc']]\n",
        "np.savetxt('text', matrix, delimiter='  ', header = 'string', comments='', fmt='%s')"
      ],
      "execution_count": 0,
      "outputs": []
    },
    {
      "cell_type": "markdown",
      "metadata": {
        "id": "qg-QBagWKyxw",
        "colab_type": "text"
      },
      "source": [
        "**165, Viết chương trình NumPy để hợp nhất ba mảng NumPy đã cho có cùng hình dạng.**\n",
        "\n",
        "**Write a NumPy program to merge three given NumPy arrays of same shape.**\n",
        "\n",
        "![alt text](https://www.w3resource.com/w3r_images/python-numpy-image-exercise-165.svg)\n"
      ]
    },
    {
      "cell_type": "code",
      "metadata": {
        "id": "qmhaeyQkKXBx",
        "colab_type": "code",
        "colab": {
          "base_uri": "https://localhost:8080/",
          "height": 1000
        },
        "outputId": "659f4782-ff11-437d-84a7-9b923b0cae9e"
      },
      "source": [
        "arr1 = np.random.random(size=(25, 25, 1))\n",
        "arr2 = np.random.random(size=(25, 25, 1))\n",
        "arr3 = np.random.random(size=(25, 25, 1))\n",
        "print(\"Original arrays:\")\n",
        "print(arr1)\n",
        "print(arr2)\n",
        "print(arr3)\n",
        "result=np.concatenate((arr1, arr2, arr3), axis=-1)\n",
        "print(\"\\nAfter concatenate: \")\n",
        "print(result)"
      ],
      "execution_count": 76,
      "outputs": [
        {
          "output_type": "stream",
          "text": [
            "Original arrays:\n",
            "[[[0.57730029]\n",
            "  [0.4310057 ]\n",
            "  [0.16259504]\n",
            "  [0.06589976]\n",
            "  [0.86093116]\n",
            "  [0.56795197]\n",
            "  [0.18276209]\n",
            "  [0.41464408]\n",
            "  [0.2337001 ]\n",
            "  [0.0018197 ]\n",
            "  [0.98130817]\n",
            "  [0.66989556]\n",
            "  [0.46455654]\n",
            "  [0.22665382]\n",
            "  [0.39724924]\n",
            "  [0.56673477]\n",
            "  [0.75091596]\n",
            "  [0.36943741]\n",
            "  [0.72699581]\n",
            "  [0.98696297]\n",
            "  [0.08002296]\n",
            "  [0.30594497]\n",
            "  [0.5756828 ]\n",
            "  [0.76344144]\n",
            "  [0.16551391]]\n",
            "\n",
            " [[0.73850801]\n",
            "  [0.52415897]\n",
            "  [0.46785521]\n",
            "  [0.34177349]\n",
            "  [0.34191537]\n",
            "  [0.7727388 ]\n",
            "  [0.53359392]\n",
            "  [0.61976713]\n",
            "  [0.37639501]\n",
            "  [0.95289838]\n",
            "  [0.44812883]\n",
            "  [0.60830189]\n",
            "  [0.3943732 ]\n",
            "  [0.74823531]\n",
            "  [0.7573426 ]\n",
            "  [0.36739405]\n",
            "  [0.86447047]\n",
            "  [0.04051018]\n",
            "  [0.72036401]\n",
            "  [0.30797442]\n",
            "  [0.58130601]\n",
            "  [0.08640025]\n",
            "  [0.87383301]\n",
            "  [0.5704221 ]\n",
            "  [0.55636996]]\n",
            "\n",
            " [[0.14531907]\n",
            "  [0.48302372]\n",
            "  [0.88391229]\n",
            "  [0.64956166]\n",
            "  [0.32631904]\n",
            "  [0.60050489]\n",
            "  [0.81791109]\n",
            "  [0.18301431]\n",
            "  [0.60618549]\n",
            "  [0.27867004]\n",
            "  [0.29980627]\n",
            "  [0.17207799]\n",
            "  [0.12776027]\n",
            "  [0.54361649]\n",
            "  [0.06861193]\n",
            "  [0.79898888]\n",
            "  [0.31550815]\n",
            "  [0.94143561]\n",
            "  [0.58739282]\n",
            "  [0.42688482]\n",
            "  [0.61385071]\n",
            "  [0.64778099]\n",
            "  [0.48356092]\n",
            "  [0.87257817]\n",
            "  [0.73327497]]\n",
            "\n",
            " [[0.5128824 ]\n",
            "  [0.82390546]\n",
            "  [0.98394058]\n",
            "  [0.42198574]\n",
            "  [0.72552191]\n",
            "  [0.24859279]\n",
            "  [0.99657761]\n",
            "  [0.64266033]\n",
            "  [0.42486058]\n",
            "  [0.00913735]\n",
            "  [0.12462941]\n",
            "  [0.05443712]\n",
            "  [0.83182463]\n",
            "  [0.33715404]\n",
            "  [0.0378177 ]\n",
            "  [0.8874844 ]\n",
            "  [0.36775395]\n",
            "  [0.69815947]\n",
            "  [0.37771514]\n",
            "  [0.52587664]\n",
            "  [0.71927786]\n",
            "  [0.73098668]\n",
            "  [0.61015755]\n",
            "  [0.13151632]\n",
            "  [0.14278251]]\n",
            "\n",
            " [[0.36364017]\n",
            "  [0.11403177]\n",
            "  [0.36915569]\n",
            "  [0.38274487]\n",
            "  [0.93545557]\n",
            "  [0.82506064]\n",
            "  [0.69074391]\n",
            "  [0.88661877]\n",
            "  [0.71614549]\n",
            "  [0.29435278]\n",
            "  [0.52509856]\n",
            "  [0.6594739 ]\n",
            "  [0.70085177]\n",
            "  [0.39537477]\n",
            "  [0.55545611]\n",
            "  [0.5034447 ]\n",
            "  [0.35275815]\n",
            "  [0.02863793]\n",
            "  [0.51756157]\n",
            "  [0.85858256]\n",
            "  [0.94919034]\n",
            "  [0.61299079]\n",
            "  [0.23865015]\n",
            "  [0.44866169]\n",
            "  [0.23450567]]\n",
            "\n",
            " [[0.18285077]\n",
            "  [0.19605807]\n",
            "  [0.21523568]\n",
            "  [0.8727965 ]\n",
            "  [0.49389396]\n",
            "  [0.5180589 ]\n",
            "  [0.7322731 ]\n",
            "  [0.48619772]\n",
            "  [0.76563933]\n",
            "  [0.58142738]\n",
            "  [0.90652906]\n",
            "  [0.79494193]\n",
            "  [0.72712791]\n",
            "  [0.82798726]\n",
            "  [0.29323898]\n",
            "  [0.64508567]\n",
            "  [0.5550683 ]\n",
            "  [0.16253444]\n",
            "  [0.61039351]\n",
            "  [0.72434705]\n",
            "  [0.32391623]\n",
            "  [0.24901193]\n",
            "  [0.93478119]\n",
            "  [0.63691461]\n",
            "  [0.78301002]]\n",
            "\n",
            " [[0.54977718]\n",
            "  [0.43920183]\n",
            "  [0.15241807]\n",
            "  [0.05829873]\n",
            "  [0.3952809 ]\n",
            "  [0.33069832]\n",
            "  [0.8937804 ]\n",
            "  [0.12794883]\n",
            "  [0.28775899]\n",
            "  [0.67313961]\n",
            "  [0.67967005]\n",
            "  [0.44789147]\n",
            "  [0.91986948]\n",
            "  [0.99586028]\n",
            "  [0.31868273]\n",
            "  [0.09191234]\n",
            "  [0.43190078]\n",
            "  [0.30779043]\n",
            "  [0.51855774]\n",
            "  [0.12251718]\n",
            "  [0.22707391]\n",
            "  [0.24372158]\n",
            "  [0.20569905]\n",
            "  [0.83667866]\n",
            "  [0.77865776]]\n",
            "\n",
            " [[0.11156782]\n",
            "  [0.70251773]\n",
            "  [0.07056081]\n",
            "  [0.84347205]\n",
            "  [0.4682975 ]\n",
            "  [0.74293965]\n",
            "  [0.35643199]\n",
            "  [0.11908094]\n",
            "  [0.89932117]\n",
            "  [0.32404953]\n",
            "  [0.92042975]\n",
            "  [0.59513673]\n",
            "  [0.33214938]\n",
            "  [0.46627543]\n",
            "  [0.53448853]\n",
            "  [0.67367641]\n",
            "  [0.51947344]\n",
            "  [0.31731712]\n",
            "  [0.02408621]\n",
            "  [0.9141484 ]\n",
            "  [0.81377612]\n",
            "  [0.8803512 ]\n",
            "  [0.19127318]\n",
            "  [0.81254022]\n",
            "  [0.92450892]]\n",
            "\n",
            " [[0.56755943]\n",
            "  [0.04296566]\n",
            "  [0.83711372]\n",
            "  [0.47584985]\n",
            "  [0.22100293]\n",
            "  [0.24264257]\n",
            "  [0.58110152]\n",
            "  [0.45215459]\n",
            "  [0.92144042]\n",
            "  [0.44264243]\n",
            "  [0.58782827]\n",
            "  [0.618263  ]\n",
            "  [0.68785368]\n",
            "  [0.10519908]\n",
            "  [0.37365494]\n",
            "  [0.53346318]\n",
            "  [0.95489529]\n",
            "  [0.5322382 ]\n",
            "  [0.64053676]\n",
            "  [0.17159272]\n",
            "  [0.96706687]\n",
            "  [0.17525529]\n",
            "  [0.80434548]\n",
            "  [0.69606286]\n",
            "  [0.76295497]]\n",
            "\n",
            " [[0.8651414 ]\n",
            "  [0.7713898 ]\n",
            "  [0.47634584]\n",
            "  [0.68778664]\n",
            "  [0.50355624]\n",
            "  [0.77893119]\n",
            "  [0.1885123 ]\n",
            "  [0.28990529]\n",
            "  [0.1794573 ]\n",
            "  [0.46425084]\n",
            "  [0.76987696]\n",
            "  [0.50027352]\n",
            "  [0.39465215]\n",
            "  [0.93452831]\n",
            "  [0.61347414]\n",
            "  [0.66076129]\n",
            "  [0.58565995]\n",
            "  [0.3928833 ]\n",
            "  [0.19830568]\n",
            "  [0.73297106]\n",
            "  [0.859628  ]\n",
            "  [0.95584002]\n",
            "  [0.941065  ]\n",
            "  [0.10320112]\n",
            "  [0.5555847 ]]\n",
            "\n",
            " [[0.79153731]\n",
            "  [0.71038671]\n",
            "  [0.39146916]\n",
            "  [0.64986949]\n",
            "  [0.89730638]\n",
            "  [0.11991579]\n",
            "  [0.56602459]\n",
            "  [0.88791396]\n",
            "  [0.2260862 ]\n",
            "  [0.69848178]\n",
            "  [0.26363021]\n",
            "  [0.95668873]\n",
            "  [0.35512992]\n",
            "  [0.4896378 ]\n",
            "  [0.93552325]\n",
            "  [0.40229304]\n",
            "  [0.20003725]\n",
            "  [0.99569944]\n",
            "  [0.50567134]\n",
            "  [0.48945054]\n",
            "  [0.49856253]\n",
            "  [0.3399998 ]\n",
            "  [0.7010969 ]\n",
            "  [0.6329118 ]\n",
            "  [0.90019375]]\n",
            "\n",
            " [[0.73061543]\n",
            "  [0.32449982]\n",
            "  [0.43065323]\n",
            "  [0.13437829]\n",
            "  [0.24840033]\n",
            "  [0.31897864]\n",
            "  [0.96835337]\n",
            "  [0.82415621]\n",
            "  [0.90598806]\n",
            "  [0.4441417 ]\n",
            "  [0.73693173]\n",
            "  [0.59516323]\n",
            "  [0.00200256]\n",
            "  [0.67063243]\n",
            "  [0.09875827]\n",
            "  [0.13050902]\n",
            "  [0.75930713]\n",
            "  [0.93043702]\n",
            "  [0.88301226]\n",
            "  [0.84854313]\n",
            "  [0.65556646]\n",
            "  [0.13471688]\n",
            "  [0.62385483]\n",
            "  [0.23197123]\n",
            "  [0.12143714]]\n",
            "\n",
            " [[0.25655272]\n",
            "  [0.83119387]\n",
            "  [0.09263752]\n",
            "  [0.38413398]\n",
            "  [0.77258786]\n",
            "  [0.01950869]\n",
            "  [0.28579072]\n",
            "  [0.75115955]\n",
            "  [0.2764456 ]\n",
            "  [0.8949693 ]\n",
            "  [0.86817811]\n",
            "  [0.61412141]\n",
            "  [0.57425774]\n",
            "  [0.51641885]\n",
            "  [0.17338292]\n",
            "  [0.99773887]\n",
            "  [0.00603852]\n",
            "  [0.40899169]\n",
            "  [0.819806  ]\n",
            "  [0.56340892]\n",
            "  [0.37795049]\n",
            "  [0.13078551]\n",
            "  [0.59281611]\n",
            "  [0.42135006]\n",
            "  [0.26493093]]\n",
            "\n",
            " [[0.8654656 ]\n",
            "  [0.9369239 ]\n",
            "  [0.80104027]\n",
            "  [0.56665516]\n",
            "  [0.24369904]\n",
            "  [0.66434321]\n",
            "  [0.76992038]\n",
            "  [0.7531454 ]\n",
            "  [0.19050731]\n",
            "  [0.84822149]\n",
            "  [0.5578755 ]\n",
            "  [0.52402782]\n",
            "  [0.37162117]\n",
            "  [0.68879955]\n",
            "  [0.48071579]\n",
            "  [0.89384009]\n",
            "  [0.20553641]\n",
            "  [0.64832656]\n",
            "  [0.05169626]\n",
            "  [0.52803439]\n",
            "  [0.39756851]\n",
            "  [0.23057881]\n",
            "  [0.48722955]\n",
            "  [0.55752109]\n",
            "  [0.03793965]]\n",
            "\n",
            " [[0.99903202]\n",
            "  [0.19039315]\n",
            "  [0.11148477]\n",
            "  [0.18701637]\n",
            "  [0.0069547 ]\n",
            "  [0.79351562]\n",
            "  [0.41662408]\n",
            "  [0.41225103]\n",
            "  [0.38469872]\n",
            "  [0.90464274]\n",
            "  [0.30988441]\n",
            "  [0.93022155]\n",
            "  [0.35304367]\n",
            "  [0.64722851]\n",
            "  [0.34078619]\n",
            "  [0.46770256]\n",
            "  [0.48598276]\n",
            "  [0.70609629]\n",
            "  [0.18045398]\n",
            "  [0.00446213]\n",
            "  [0.9937851 ]\n",
            "  [0.17748678]\n",
            "  [0.85621216]\n",
            "  [0.38025621]\n",
            "  [0.79565012]]\n",
            "\n",
            " [[0.12287391]\n",
            "  [0.46169742]\n",
            "  [0.74045404]\n",
            "  [0.58892153]\n",
            "  [0.6361612 ]\n",
            "  [0.02114158]\n",
            "  [0.20824694]\n",
            "  [0.55141924]\n",
            "  [0.81556783]\n",
            "  [0.10759527]\n",
            "  [0.76117225]\n",
            "  [0.43494312]\n",
            "  [0.58815752]\n",
            "  [0.33943519]\n",
            "  [0.23660372]\n",
            "  [0.5209757 ]\n",
            "  [0.2322114 ]\n",
            "  [0.95511854]\n",
            "  [0.83112384]\n",
            "  [0.28645324]\n",
            "  [0.67242224]\n",
            "  [0.52204579]\n",
            "  [0.10617577]\n",
            "  [0.02065427]\n",
            "  [0.92234569]]\n",
            "\n",
            " [[0.18807449]\n",
            "  [0.80095537]\n",
            "  [0.24954841]\n",
            "  [0.44059995]\n",
            "  [0.12612378]\n",
            "  [0.03790972]\n",
            "  [0.47111688]\n",
            "  [0.53976517]\n",
            "  [0.77178576]\n",
            "  [0.16347214]\n",
            "  [0.44140049]\n",
            "  [0.54252638]\n",
            "  [0.32037962]\n",
            "  [0.61929228]\n",
            "  [0.15551105]\n",
            "  [0.79668108]\n",
            "  [0.96222296]\n",
            "  [0.3149321 ]\n",
            "  [0.19605343]\n",
            "  [0.26629624]\n",
            "  [0.68627993]\n",
            "  [0.67591293]\n",
            "  [0.32873676]\n",
            "  [0.7375769 ]\n",
            "  [0.79177944]]\n",
            "\n",
            " [[0.21143706]\n",
            "  [0.38869714]\n",
            "  [0.3267936 ]\n",
            "  [0.80842657]\n",
            "  [0.39324004]\n",
            "  [0.22207072]\n",
            "  [0.81079564]\n",
            "  [0.8534347 ]\n",
            "  [0.29881821]\n",
            "  [0.73377965]\n",
            "  [0.58656649]\n",
            "  [0.6825158 ]\n",
            "  [0.50180237]\n",
            "  [0.42280115]\n",
            "  [0.45348251]\n",
            "  [0.23942587]\n",
            "  [0.33679254]\n",
            "  [0.24226171]\n",
            "  [0.08207773]\n",
            "  [0.24409678]\n",
            "  [0.9741959 ]\n",
            "  [0.98285752]\n",
            "  [0.47377214]\n",
            "  [0.44711775]\n",
            "  [0.81606218]]\n",
            "\n",
            " [[0.73411662]\n",
            "  [0.50214831]\n",
            "  [0.87210427]\n",
            "  [0.36418181]\n",
            "  [0.28948603]\n",
            "  [0.40573295]\n",
            "  [0.01782285]\n",
            "  [0.39971402]\n",
            "  [0.17022999]\n",
            "  [0.30375597]\n",
            "  [0.14162665]\n",
            "  [0.70884557]\n",
            "  [0.16506849]\n",
            "  [0.96960754]\n",
            "  [0.65221637]\n",
            "  [0.6367015 ]\n",
            "  [0.37541693]\n",
            "  [0.73577602]\n",
            "  [0.91782189]\n",
            "  [0.20695527]\n",
            "  [0.22085743]\n",
            "  [0.54348798]\n",
            "  [0.44778578]\n",
            "  [0.25444692]\n",
            "  [0.41943726]]\n",
            "\n",
            " [[0.48897491]\n",
            "  [0.86732675]\n",
            "  [0.18463088]\n",
            "  [0.9543799 ]\n",
            "  [0.92059037]\n",
            "  [0.48283662]\n",
            "  [0.50895977]\n",
            "  [0.63151262]\n",
            "  [0.86449738]\n",
            "  [0.42871449]\n",
            "  [0.3519177 ]\n",
            "  [0.45379346]\n",
            "  [0.49037922]\n",
            "  [0.32693633]\n",
            "  [0.46993212]\n",
            "  [0.62109164]\n",
            "  [0.65529155]\n",
            "  [0.07127124]\n",
            "  [0.66935401]\n",
            "  [0.97083264]\n",
            "  [0.8723904 ]\n",
            "  [0.64287196]\n",
            "  [0.1548389 ]\n",
            "  [0.52052828]\n",
            "  [0.3427577 ]]\n",
            "\n",
            " [[0.11664669]\n",
            "  [0.39381979]\n",
            "  [0.08833075]\n",
            "  [0.77298213]\n",
            "  [0.12543421]\n",
            "  [0.0527009 ]\n",
            "  [0.76422314]\n",
            "  [0.42136006]\n",
            "  [0.75082964]\n",
            "  [0.84742892]\n",
            "  [0.52335823]\n",
            "  [0.95776809]\n",
            "  [0.78889862]\n",
            "  [0.98024233]\n",
            "  [0.49347394]\n",
            "  [0.42659534]\n",
            "  [0.90102718]\n",
            "  [0.66457499]\n",
            "  [0.25867247]\n",
            "  [0.44929184]\n",
            "  [0.58965146]\n",
            "  [0.53288492]\n",
            "  [0.77840576]\n",
            "  [0.07054376]\n",
            "  [0.23465164]]\n",
            "\n",
            " [[0.40261606]\n",
            "  [0.68153142]\n",
            "  [0.68800249]\n",
            "  [0.45976731]\n",
            "  [0.58467464]\n",
            "  [0.53310113]\n",
            "  [0.51585727]\n",
            "  [0.74918294]\n",
            "  [0.40369224]\n",
            "  [0.79183891]\n",
            "  [0.28636221]\n",
            "  [0.52662817]\n",
            "  [0.03684146]\n",
            "  [0.37540412]\n",
            "  [0.53178098]\n",
            "  [0.95538082]\n",
            "  [0.94888222]\n",
            "  [0.71927953]\n",
            "  [0.60257067]\n",
            "  [0.98440601]\n",
            "  [0.00273438]\n",
            "  [0.18229025]\n",
            "  [0.1907922 ]\n",
            "  [0.6381355 ]\n",
            "  [0.01169984]]\n",
            "\n",
            " [[0.25449821]\n",
            "  [0.92943607]\n",
            "  [0.07230473]\n",
            "  [0.4154989 ]\n",
            "  [0.99662791]\n",
            "  [0.84774996]\n",
            "  [0.00789086]\n",
            "  [0.04070367]\n",
            "  [0.71136359]\n",
            "  [0.87647178]\n",
            "  [0.185366  ]\n",
            "  [0.83467988]\n",
            "  [0.74243483]\n",
            "  [0.67687162]\n",
            "  [0.51691262]\n",
            "  [0.75868203]\n",
            "  [0.35467164]\n",
            "  [0.63822626]\n",
            "  [0.50926276]\n",
            "  [0.60070929]\n",
            "  [0.81089819]\n",
            "  [0.83407493]\n",
            "  [0.43183463]\n",
            "  [0.89381186]\n",
            "  [0.32722151]]\n",
            "\n",
            " [[0.29110425]\n",
            "  [0.9806026 ]\n",
            "  [0.99690577]\n",
            "  [0.17451105]\n",
            "  [0.25971322]\n",
            "  [0.7017345 ]\n",
            "  [0.44930558]\n",
            "  [0.7880519 ]\n",
            "  [0.98124715]\n",
            "  [0.96684458]\n",
            "  [0.44019626]\n",
            "  [0.64662368]\n",
            "  [0.02008958]\n",
            "  [0.37835429]\n",
            "  [0.35497805]\n",
            "  [0.47978113]\n",
            "  [0.06795607]\n",
            "  [0.43490026]\n",
            "  [0.75770607]\n",
            "  [0.18786726]\n",
            "  [0.38669629]\n",
            "  [0.64892455]\n",
            "  [0.59632848]\n",
            "  [0.28069243]\n",
            "  [0.19510608]]\n",
            "\n",
            " [[0.39006676]\n",
            "  [0.43091759]\n",
            "  [0.84715037]\n",
            "  [0.59128874]\n",
            "  [0.48550718]\n",
            "  [0.71264412]\n",
            "  [0.71876753]\n",
            "  [0.5675376 ]\n",
            "  [0.38699819]\n",
            "  [0.74549289]\n",
            "  [0.10143893]\n",
            "  [0.94953989]\n",
            "  [0.41719584]\n",
            "  [0.99536899]\n",
            "  [0.17309641]\n",
            "  [0.95363203]\n",
            "  [0.04979956]\n",
            "  [0.71752504]\n",
            "  [0.498658  ]\n",
            "  [0.6638476 ]\n",
            "  [0.96178425]\n",
            "  [0.00818816]\n",
            "  [0.85872034]\n",
            "  [0.2749367 ]\n",
            "  [0.29135552]]]\n",
            "[[[0.05341652]\n",
            "  [0.44192668]\n",
            "  [0.70950894]\n",
            "  [0.16327398]\n",
            "  [0.60497471]\n",
            "  [0.16282894]\n",
            "  [0.36058526]\n",
            "  [0.08938067]\n",
            "  [0.76163773]\n",
            "  [0.59849956]\n",
            "  [0.55461148]\n",
            "  [0.1263274 ]\n",
            "  [0.30550942]\n",
            "  [0.25524155]\n",
            "  [0.31937706]\n",
            "  [0.281449  ]\n",
            "  [0.8575501 ]\n",
            "  [0.69761907]\n",
            "  [0.5223805 ]\n",
            "  [0.72468755]\n",
            "  [0.90932929]\n",
            "  [0.8558376 ]\n",
            "  [0.57854981]\n",
            "  [0.02895674]\n",
            "  [0.83742106]]\n",
            "\n",
            " [[0.1540631 ]\n",
            "  [0.91921351]\n",
            "  [0.9979994 ]\n",
            "  [0.64619186]\n",
            "  [0.53167972]\n",
            "  [0.3389845 ]\n",
            "  [0.83919625]\n",
            "  [0.80569853]\n",
            "  [0.74075625]\n",
            "  [0.17771495]\n",
            "  [0.69378834]\n",
            "  [0.32401331]\n",
            "  [0.99491326]\n",
            "  [0.10382885]\n",
            "  [0.48747639]\n",
            "  [0.6250605 ]\n",
            "  [0.1668245 ]\n",
            "  [0.77878886]\n",
            "  [0.55932596]\n",
            "  [0.26362006]\n",
            "  [0.15659577]\n",
            "  [0.50735108]\n",
            "  [0.52971475]\n",
            "  [0.74429286]\n",
            "  [0.31043571]]\n",
            "\n",
            " [[0.25052296]\n",
            "  [0.99079658]\n",
            "  [0.45107786]\n",
            "  [0.88058402]\n",
            "  [0.84877583]\n",
            "  [0.51259848]\n",
            "  [0.22262117]\n",
            "  [0.87031704]\n",
            "  [0.60515927]\n",
            "  [0.24702048]\n",
            "  [0.27910409]\n",
            "  [0.32208841]\n",
            "  [0.58955687]\n",
            "  [0.01148585]\n",
            "  [0.34981788]\n",
            "  [0.90163553]\n",
            "  [0.44026572]\n",
            "  [0.78514562]\n",
            "  [0.69035984]\n",
            "  [0.07798862]\n",
            "  [0.41478942]\n",
            "  [0.55146603]\n",
            "  [0.94110152]\n",
            "  [0.11103328]\n",
            "  [0.79035426]]\n",
            "\n",
            " [[0.86539387]\n",
            "  [0.38444352]\n",
            "  [0.69831716]\n",
            "  [0.2294348 ]\n",
            "  [0.47401056]\n",
            "  [0.34340736]\n",
            "  [0.3050236 ]\n",
            "  [0.51476147]\n",
            "  [0.27736865]\n",
            "  [0.18650884]\n",
            "  [0.98199325]\n",
            "  [0.02632178]\n",
            "  [0.20333521]\n",
            "  [0.42942824]\n",
            "  [0.19325598]\n",
            "  [0.4541891 ]\n",
            "  [0.51531069]\n",
            "  [0.61412253]\n",
            "  [0.59818394]\n",
            "  [0.79077158]\n",
            "  [0.67223398]\n",
            "  [0.63344565]\n",
            "  [0.15224884]\n",
            "  [0.28324162]\n",
            "  [0.54381551]]\n",
            "\n",
            " [[0.10040695]\n",
            "  [0.06751663]\n",
            "  [0.18462767]\n",
            "  [0.57216859]\n",
            "  [0.58798615]\n",
            "  [0.26401543]\n",
            "  [0.26043265]\n",
            "  [0.58910457]\n",
            "  [0.76760599]\n",
            "  [0.87732201]\n",
            "  [0.15009651]\n",
            "  [0.94371893]\n",
            "  [0.71178493]\n",
            "  [0.32984688]\n",
            "  [0.65043312]\n",
            "  [0.0640371 ]\n",
            "  [0.08265155]\n",
            "  [0.37556504]\n",
            "  [0.51366803]\n",
            "  [0.14920563]\n",
            "  [0.934402  ]\n",
            "  [0.34623359]\n",
            "  [0.88882512]\n",
            "  [0.83170585]\n",
            "  [0.09632884]]\n",
            "\n",
            " [[0.65793055]\n",
            "  [0.14554618]\n",
            "  [0.51618313]\n",
            "  [0.88480731]\n",
            "  [0.74374611]\n",
            "  [0.56453641]\n",
            "  [0.38096928]\n",
            "  [0.54137948]\n",
            "  [0.522808  ]\n",
            "  [0.1704982 ]\n",
            "  [0.23172834]\n",
            "  [0.53640443]\n",
            "  [0.76118599]\n",
            "  [0.63687216]\n",
            "  [0.0532626 ]\n",
            "  [0.36402148]\n",
            "  [0.13015446]\n",
            "  [0.18055726]\n",
            "  [0.71454944]\n",
            "  [0.68255553]\n",
            "  [0.73664062]\n",
            "  [0.18752462]\n",
            "  [0.84380144]\n",
            "  [0.98745237]\n",
            "  [0.94434448]]\n",
            "\n",
            " [[0.31136453]\n",
            "  [0.95534228]\n",
            "  [0.28119706]\n",
            "  [0.8609465 ]\n",
            "  [0.35221697]\n",
            "  [0.67060111]\n",
            "  [0.25269822]\n",
            "  [0.43725848]\n",
            "  [0.23590894]\n",
            "  [0.92232737]\n",
            "  [0.33953714]\n",
            "  [0.37414488]\n",
            "  [0.97161884]\n",
            "  [0.47401055]\n",
            "  [0.01170143]\n",
            "  [0.21808019]\n",
            "  [0.26104122]\n",
            "  [0.00915318]\n",
            "  [0.68909852]\n",
            "  [0.55818876]\n",
            "  [0.46001562]\n",
            "  [0.04453057]\n",
            "  [0.61512771]\n",
            "  [0.58941715]\n",
            "  [0.04818592]]\n",
            "\n",
            " [[0.42582174]\n",
            "  [0.35448777]\n",
            "  [0.15770443]\n",
            "  [0.63965278]\n",
            "  [0.65495235]\n",
            "  [0.43222594]\n",
            "  [0.14423601]\n",
            "  [0.32378522]\n",
            "  [0.02615349]\n",
            "  [0.12940359]\n",
            "  [0.82724192]\n",
            "  [0.33300743]\n",
            "  [0.67158252]\n",
            "  [0.90270939]\n",
            "  [0.54278852]\n",
            "  [0.86831787]\n",
            "  [0.06707242]\n",
            "  [0.59115818]\n",
            "  [0.09408529]\n",
            "  [0.65888727]\n",
            "  [0.77880942]\n",
            "  [0.36254776]\n",
            "  [0.43959285]\n",
            "  [0.30931324]\n",
            "  [0.75965183]]\n",
            "\n",
            " [[0.23005891]\n",
            "  [0.54965742]\n",
            "  [0.44843097]\n",
            "  [0.22090012]\n",
            "  [0.92853171]\n",
            "  [0.4546906 ]\n",
            "  [0.70901069]\n",
            "  [0.97424401]\n",
            "  [0.49173261]\n",
            "  [0.99313264]\n",
            "  [0.18547147]\n",
            "  [0.93682917]\n",
            "  [0.08011024]\n",
            "  [0.5601315 ]\n",
            "  [0.76827618]\n",
            "  [0.31934792]\n",
            "  [0.68424166]\n",
            "  [0.60502647]\n",
            "  [0.53274904]\n",
            "  [0.12835239]\n",
            "  [0.95252277]\n",
            "  [0.11285456]\n",
            "  [0.48360861]\n",
            "  [0.26654003]\n",
            "  [0.41788289]]\n",
            "\n",
            " [[0.63616256]\n",
            "  [0.51658711]\n",
            "  [0.54800968]\n",
            "  [0.89945826]\n",
            "  [0.44917346]\n",
            "  [0.84030839]\n",
            "  [0.82274903]\n",
            "  [0.63088341]\n",
            "  [0.94328366]\n",
            "  [0.30350262]\n",
            "  [0.25707822]\n",
            "  [0.83782351]\n",
            "  [0.43046595]\n",
            "  [0.32535328]\n",
            "  [0.28092792]\n",
            "  [0.76764971]\n",
            "  [0.13566463]\n",
            "  [0.53445077]\n",
            "  [0.73701108]\n",
            "  [0.2205656 ]\n",
            "  [0.26531554]\n",
            "  [0.45988044]\n",
            "  [0.51835907]\n",
            "  [0.06353025]\n",
            "  [0.04734169]]\n",
            "\n",
            " [[0.49427351]\n",
            "  [0.32909619]\n",
            "  [0.6440456 ]\n",
            "  [0.344143  ]\n",
            "  [0.14554544]\n",
            "  [0.23543095]\n",
            "  [0.98508177]\n",
            "  [0.84935202]\n",
            "  [0.20165171]\n",
            "  [0.11804972]\n",
            "  [0.24906381]\n",
            "  [0.80195855]\n",
            "  [0.72843562]\n",
            "  [0.58792891]\n",
            "  [0.32275336]\n",
            "  [0.79996421]\n",
            "  [0.6621781 ]\n",
            "  [0.3603736 ]\n",
            "  [0.6148888 ]\n",
            "  [0.43182066]\n",
            "  [0.35922303]\n",
            "  [0.82920851]\n",
            "  [0.44958396]\n",
            "  [0.87321428]\n",
            "  [0.35660979]]\n",
            "\n",
            " [[0.11744334]\n",
            "  [0.56818251]\n",
            "  [0.73602583]\n",
            "  [0.94477289]\n",
            "  [0.57723067]\n",
            "  [0.00734595]\n",
            "  [0.74601995]\n",
            "  [0.2588858 ]\n",
            "  [0.20397702]\n",
            "  [0.13606321]\n",
            "  [0.88272345]\n",
            "  [0.79854839]\n",
            "  [0.52276197]\n",
            "  [0.05364961]\n",
            "  [0.1868662 ]\n",
            "  [0.91581427]\n",
            "  [0.52837385]\n",
            "  [0.52919036]\n",
            "  [0.52060982]\n",
            "  [0.94708554]\n",
            "  [0.51445158]\n",
            "  [0.4076012 ]\n",
            "  [0.32497105]\n",
            "  [0.91069613]\n",
            "  [0.11502406]]\n",
            "\n",
            " [[0.834733  ]\n",
            "  [0.84064874]\n",
            "  [0.58529866]\n",
            "  [0.53596724]\n",
            "  [0.24194584]\n",
            "  [0.1777042 ]\n",
            "  [0.20964467]\n",
            "  [0.53063701]\n",
            "  [0.37943094]\n",
            "  [0.03946071]\n",
            "  [0.14129432]\n",
            "  [0.6814145 ]\n",
            "  [0.54577327]\n",
            "  [0.22555084]\n",
            "  [0.57177854]\n",
            "  [0.79481242]\n",
            "  [0.54169392]\n",
            "  [0.42369237]\n",
            "  [0.1841868 ]\n",
            "  [0.78129825]\n",
            "  [0.7936242 ]\n",
            "  [0.00183146]\n",
            "  [0.93899881]\n",
            "  [0.10589753]\n",
            "  [0.07714959]]\n",
            "\n",
            " [[0.38265448]\n",
            "  [0.28942887]\n",
            "  [0.96429061]\n",
            "  [0.74874741]\n",
            "  [0.34916927]\n",
            "  [0.40684245]\n",
            "  [0.88802494]\n",
            "  [0.49482037]\n",
            "  [0.93490875]\n",
            "  [0.5964489 ]\n",
            "  [0.46289474]\n",
            "  [0.54567274]\n",
            "  [0.63280902]\n",
            "  [0.28166247]\n",
            "  [0.05985517]\n",
            "  [0.44058198]\n",
            "  [0.91042587]\n",
            "  [0.65437874]\n",
            "  [0.7185062 ]\n",
            "  [0.58384288]\n",
            "  [0.91590345]\n",
            "  [0.73636783]\n",
            "  [0.4763347 ]\n",
            "  [0.95270561]\n",
            "  [0.46988791]]\n",
            "\n",
            " [[0.1979413 ]\n",
            "  [0.0806292 ]\n",
            "  [0.85893412]\n",
            "  [0.23629259]\n",
            "  [0.41118768]\n",
            "  [0.75573718]\n",
            "  [0.22743512]\n",
            "  [0.23196619]\n",
            "  [0.327355  ]\n",
            "  [0.37684685]\n",
            "  [0.95698819]\n",
            "  [0.58561444]\n",
            "  [0.73478323]\n",
            "  [0.84321697]\n",
            "  [0.14908094]\n",
            "  [0.34168332]\n",
            "  [0.21407416]\n",
            "  [0.7235737 ]\n",
            "  [0.93452882]\n",
            "  [0.04987152]\n",
            "  [0.85286471]\n",
            "  [0.16946576]\n",
            "  [0.12522047]\n",
            "  [0.29128877]\n",
            "  [0.88007213]]\n",
            "\n",
            " [[0.52738912]\n",
            "  [0.47196618]\n",
            "  [0.1603486 ]\n",
            "  [0.41613937]\n",
            "  [0.87392544]\n",
            "  [0.39967983]\n",
            "  [0.79369866]\n",
            "  [0.87818555]\n",
            "  [0.07350344]\n",
            "  [0.431315  ]\n",
            "  [0.68381389]\n",
            "  [0.96745903]\n",
            "  [0.71875829]\n",
            "  [0.6961079 ]\n",
            "  [0.13904511]\n",
            "  [0.20550858]\n",
            "  [0.56574018]\n",
            "  [0.3594621 ]\n",
            "  [0.65487347]\n",
            "  [0.14146615]\n",
            "  [0.38885311]\n",
            "  [0.09068953]\n",
            "  [0.64441836]\n",
            "  [0.96640149]\n",
            "  [0.83352717]]\n",
            "\n",
            " [[0.25465757]\n",
            "  [0.47955587]\n",
            "  [0.47894471]\n",
            "  [0.23041831]\n",
            "  [0.0145271 ]\n",
            "  [0.60584027]\n",
            "  [0.85189459]\n",
            "  [0.70529415]\n",
            "  [0.02780233]\n",
            "  [0.2563835 ]\n",
            "  [0.3721342 ]\n",
            "  [0.00539998]\n",
            "  [0.19524248]\n",
            "  [0.15552463]\n",
            "  [0.11897594]\n",
            "  [0.52873219]\n",
            "  [0.83244115]\n",
            "  [0.78286723]\n",
            "  [0.36140695]\n",
            "  [0.42758009]\n",
            "  [0.23435961]\n",
            "  [0.46751854]\n",
            "  [0.24015719]\n",
            "  [0.30202904]\n",
            "  [0.638594  ]]\n",
            "\n",
            " [[0.60907181]\n",
            "  [0.76452664]\n",
            "  [0.66102674]\n",
            "  [0.69656667]\n",
            "  [0.19981485]\n",
            "  [0.8667476 ]\n",
            "  [0.98669575]\n",
            "  [0.37019206]\n",
            "  [0.24993241]\n",
            "  [0.29178163]\n",
            "  [0.12069925]\n",
            "  [0.60120486]\n",
            "  [0.99277414]\n",
            "  [0.00513716]\n",
            "  [0.30885383]\n",
            "  [0.89376313]\n",
            "  [0.07233996]\n",
            "  [0.58777614]\n",
            "  [0.76193709]\n",
            "  [0.77756467]\n",
            "  [0.39020989]\n",
            "  [0.56457184]\n",
            "  [0.70409581]\n",
            "  [0.70223512]\n",
            "  [0.53625564]]\n",
            "\n",
            " [[0.35465481]\n",
            "  [0.15189805]\n",
            "  [0.82657094]\n",
            "  [0.80947534]\n",
            "  [0.82594735]\n",
            "  [0.26557046]\n",
            "  [0.6775727 ]\n",
            "  [0.67540101]\n",
            "  [0.35289218]\n",
            "  [0.96527812]\n",
            "  [0.2836505 ]\n",
            "  [0.37546277]\n",
            "  [0.04786861]\n",
            "  [0.0458202 ]\n",
            "  [0.61285321]\n",
            "  [0.34484356]\n",
            "  [0.93833259]\n",
            "  [0.54748811]\n",
            "  [0.81184025]\n",
            "  [0.4086646 ]\n",
            "  [0.95530437]\n",
            "  [0.10496133]\n",
            "  [0.82162117]\n",
            "  [0.22247679]\n",
            "  [0.19431805]]\n",
            "\n",
            " [[0.2466838 ]\n",
            "  [0.96319439]\n",
            "  [0.70481458]\n",
            "  [0.56406557]\n",
            "  [0.37398292]\n",
            "  [0.78141955]\n",
            "  [0.56655818]\n",
            "  [0.4280798 ]\n",
            "  [0.32936043]\n",
            "  [0.03854706]\n",
            "  [0.41102598]\n",
            "  [0.73181755]\n",
            "  [0.72930216]\n",
            "  [0.05727372]\n",
            "  [0.79651048]\n",
            "  [0.21923092]\n",
            "  [0.65306716]\n",
            "  [0.19200211]\n",
            "  [0.3492516 ]\n",
            "  [0.94309695]\n",
            "  [0.91675859]\n",
            "  [0.24144414]\n",
            "  [0.57527296]\n",
            "  [0.72986108]\n",
            "  [0.90147106]]\n",
            "\n",
            " [[0.75483057]\n",
            "  [0.8855128 ]\n",
            "  [0.23599685]\n",
            "  [0.97040948]\n",
            "  [0.09537539]\n",
            "  [0.93501273]\n",
            "  [0.69142008]\n",
            "  [0.31855317]\n",
            "  [0.35495595]\n",
            "  [0.53285183]\n",
            "  [0.41604338]\n",
            "  [0.23076735]\n",
            "  [0.49931034]\n",
            "  [0.75307295]\n",
            "  [0.77590594]\n",
            "  [0.00482336]\n",
            "  [0.82727956]\n",
            "  [0.29016164]\n",
            "  [0.11556188]\n",
            "  [0.24121401]\n",
            "  [0.32143761]\n",
            "  [0.48637511]\n",
            "  [0.19401408]\n",
            "  [0.28323575]\n",
            "  [0.90254245]]\n",
            "\n",
            " [[0.44290109]\n",
            "  [0.94863515]\n",
            "  [0.48838237]\n",
            "  [0.21168127]\n",
            "  [0.71818511]\n",
            "  [0.90455154]\n",
            "  [0.08050531]\n",
            "  [0.11702302]\n",
            "  [0.35149513]\n",
            "  [0.65972661]\n",
            "  [0.39365626]\n",
            "  [0.32462465]\n",
            "  [0.7017479 ]\n",
            "  [0.64191176]\n",
            "  [0.41853134]\n",
            "  [0.76754222]\n",
            "  [0.91444466]\n",
            "  [0.25729369]\n",
            "  [0.70239492]\n",
            "  [0.09081482]\n",
            "  [0.82874369]\n",
            "  [0.86123308]\n",
            "  [0.36866282]\n",
            "  [0.93921792]\n",
            "  [0.81974904]]\n",
            "\n",
            " [[0.70273725]\n",
            "  [0.90072078]\n",
            "  [0.27267392]\n",
            "  [0.40195475]\n",
            "  [0.66065543]\n",
            "  [0.66374727]\n",
            "  [0.79881144]\n",
            "  [0.38331738]\n",
            "  [0.71047282]\n",
            "  [0.96856115]\n",
            "  [0.77627534]\n",
            "  [0.75097556]\n",
            "  [0.36959181]\n",
            "  [0.51907006]\n",
            "  [0.72706915]\n",
            "  [0.65792905]\n",
            "  [0.73669524]\n",
            "  [0.0899151 ]\n",
            "  [0.56562624]\n",
            "  [0.4275031 ]\n",
            "  [0.49211307]\n",
            "  [0.35826412]\n",
            "  [0.65545809]\n",
            "  [0.68563716]\n",
            "  [0.98538756]]\n",
            "\n",
            " [[0.11085079]\n",
            "  [0.85525203]\n",
            "  [0.25899067]\n",
            "  [0.10373201]\n",
            "  [0.9492413 ]\n",
            "  [0.10829595]\n",
            "  [0.94733282]\n",
            "  [0.05854064]\n",
            "  [0.97170947]\n",
            "  [0.73960966]\n",
            "  [0.00883826]\n",
            "  [0.05985092]\n",
            "  [0.17003235]\n",
            "  [0.94121872]\n",
            "  [0.86074433]\n",
            "  [0.78456468]\n",
            "  [0.03305323]\n",
            "  [0.89070745]\n",
            "  [0.73543674]\n",
            "  [0.30469394]\n",
            "  [0.68436748]\n",
            "  [0.40523112]\n",
            "  [0.62642748]\n",
            "  [0.74458205]\n",
            "  [0.37178803]]\n",
            "\n",
            " [[0.76661218]\n",
            "  [0.05858935]\n",
            "  [0.94566552]\n",
            "  [0.79251635]\n",
            "  [0.23857604]\n",
            "  [0.43089844]\n",
            "  [0.30241235]\n",
            "  [0.70921704]\n",
            "  [0.05779305]\n",
            "  [0.41630428]\n",
            "  [0.83559255]\n",
            "  [0.94012397]\n",
            "  [0.86705395]\n",
            "  [0.15987058]\n",
            "  [0.69468897]\n",
            "  [0.70468967]\n",
            "  [0.62056843]\n",
            "  [0.09853865]\n",
            "  [0.05257625]\n",
            "  [0.53107452]\n",
            "  [0.66886909]\n",
            "  [0.02041845]\n",
            "  [0.0443758 ]\n",
            "  [0.10654525]\n",
            "  [0.0360094 ]]]\n",
            "[[[9.64155037e-01]\n",
            "  [5.83406154e-01]\n",
            "  [3.07724424e-01]\n",
            "  [3.67963871e-01]\n",
            "  [7.64853786e-01]\n",
            "  [7.26519883e-01]\n",
            "  [9.01212446e-01]\n",
            "  [5.61447474e-03]\n",
            "  [5.01637122e-01]\n",
            "  [7.61196637e-01]\n",
            "  [4.70774439e-01]\n",
            "  [8.89756517e-01]\n",
            "  [8.69192475e-01]\n",
            "  [1.46587305e-01]\n",
            "  [5.59224286e-01]\n",
            "  [1.57488774e-01]\n",
            "  [5.75416374e-01]\n",
            "  [3.51975120e-01]\n",
            "  [1.41236008e-01]\n",
            "  [2.92127080e-01]\n",
            "  [2.08404543e-01]\n",
            "  [2.64267600e-01]\n",
            "  [2.33280003e-01]\n",
            "  [2.53760248e-01]\n",
            "  [9.46577545e-01]]\n",
            "\n",
            " [[9.62807848e-01]\n",
            "  [1.37851246e-01]\n",
            "  [6.80297138e-01]\n",
            "  [8.64398732e-01]\n",
            "  [1.36951720e-01]\n",
            "  [2.94004392e-01]\n",
            "  [7.47665129e-01]\n",
            "  [7.22146905e-01]\n",
            "  [7.95438053e-01]\n",
            "  [1.52223463e-01]\n",
            "  [5.49374399e-01]\n",
            "  [8.03111816e-01]\n",
            "  [1.57579840e-02]\n",
            "  [4.44076665e-01]\n",
            "  [3.89656825e-01]\n",
            "  [5.02340775e-01]\n",
            "  [9.99875977e-01]\n",
            "  [8.30292867e-01]\n",
            "  [3.92562815e-01]\n",
            "  [9.12015727e-02]\n",
            "  [2.71987704e-01]\n",
            "  [3.07745037e-01]\n",
            "  [7.51142402e-01]\n",
            "  [7.39593703e-01]\n",
            "  [3.91308124e-01]]\n",
            "\n",
            " [[9.30675759e-01]\n",
            "  [5.31989927e-01]\n",
            "  [4.33314478e-01]\n",
            "  [3.41413600e-01]\n",
            "  [7.35222150e-01]\n",
            "  [8.51017136e-02]\n",
            "  [5.51496631e-01]\n",
            "  [5.01178587e-01]\n",
            "  [1.60066164e-01]\n",
            "  [4.49058517e-01]\n",
            "  [5.34687052e-02]\n",
            "  [5.24209230e-01]\n",
            "  [6.44218926e-01]\n",
            "  [8.42027011e-01]\n",
            "  [7.85910463e-01]\n",
            "  [5.18221666e-01]\n",
            "  [7.22006205e-01]\n",
            "  [5.50320226e-01]\n",
            "  [8.11503590e-01]\n",
            "  [8.99229038e-01]\n",
            "  [9.68239043e-01]\n",
            "  [2.87976351e-01]\n",
            "  [5.59825751e-01]\n",
            "  [8.29759558e-01]\n",
            "  [1.02868073e-01]]\n",
            "\n",
            " [[2.86759496e-01]\n",
            "  [1.66474789e-01]\n",
            "  [1.09676484e-01]\n",
            "  [3.49127394e-01]\n",
            "  [4.55800308e-01]\n",
            "  [2.31345560e-01]\n",
            "  [3.73336273e-01]\n",
            "  [4.73986742e-01]\n",
            "  [2.16623893e-01]\n",
            "  [6.53981344e-01]\n",
            "  [5.45408687e-01]\n",
            "  [6.47771517e-01]\n",
            "  [4.31664564e-03]\n",
            "  [8.66922041e-01]\n",
            "  [1.10289081e-01]\n",
            "  [9.77165393e-01]\n",
            "  [9.02072647e-02]\n",
            "  [7.07594443e-01]\n",
            "  [7.37457863e-01]\n",
            "  [8.30863711e-01]\n",
            "  [2.30636236e-02]\n",
            "  [8.73374678e-01]\n",
            "  [9.70461773e-01]\n",
            "  [7.63663030e-01]\n",
            "  [7.44936868e-01]]\n",
            "\n",
            " [[8.33428719e-02]\n",
            "  [4.34518494e-01]\n",
            "  [8.57930821e-01]\n",
            "  [7.51274273e-01]\n",
            "  [3.27939832e-02]\n",
            "  [8.90891032e-01]\n",
            "  [3.32205277e-02]\n",
            "  [9.49687117e-01]\n",
            "  [1.41551593e-01]\n",
            "  [9.42648239e-01]\n",
            "  [6.48352818e-01]\n",
            "  [6.62636636e-01]\n",
            "  [4.00039958e-02]\n",
            "  [3.99047090e-01]\n",
            "  [3.40479655e-01]\n",
            "  [1.74873701e-02]\n",
            "  [2.69264450e-01]\n",
            "  [2.70965560e-02]\n",
            "  [1.34629923e-01]\n",
            "  [1.41433687e-01]\n",
            "  [7.81273667e-01]\n",
            "  [9.87325995e-01]\n",
            "  [7.62261390e-01]\n",
            "  [8.23299280e-01]\n",
            "  [7.81378512e-01]]\n",
            "\n",
            " [[4.55463584e-01]\n",
            "  [5.94462646e-01]\n",
            "  [4.95757480e-01]\n",
            "  [6.98591076e-01]\n",
            "  [8.40405741e-01]\n",
            "  [8.27914928e-01]\n",
            "  [5.01298042e-01]\n",
            "  [2.95863936e-01]\n",
            "  [4.67957604e-01]\n",
            "  [4.65417254e-01]\n",
            "  [8.61121313e-01]\n",
            "  [5.69554555e-01]\n",
            "  [2.84573688e-01]\n",
            "  [4.61111356e-02]\n",
            "  [9.91424277e-01]\n",
            "  [8.30284628e-01]\n",
            "  [8.01103559e-01]\n",
            "  [9.12995901e-01]\n",
            "  [9.21440502e-01]\n",
            "  [4.36876166e-01]\n",
            "  [4.24946847e-01]\n",
            "  [6.60613253e-01]\n",
            "  [4.36603988e-01]\n",
            "  [7.88942436e-01]\n",
            "  [9.75021505e-01]]\n",
            "\n",
            " [[4.46218475e-02]\n",
            "  [8.75768712e-01]\n",
            "  [8.63154575e-01]\n",
            "  [6.00011210e-01]\n",
            "  [9.99324052e-01]\n",
            "  [1.05118775e-01]\n",
            "  [1.43118083e-01]\n",
            "  [7.49213593e-03]\n",
            "  [4.66986352e-02]\n",
            "  [3.30728620e-01]\n",
            "  [7.31465277e-02]\n",
            "  [2.75853519e-02]\n",
            "  [9.36223106e-01]\n",
            "  [6.80102083e-01]\n",
            "  [6.49972541e-01]\n",
            "  [8.67479787e-01]\n",
            "  [2.41655393e-01]\n",
            "  [2.02657249e-02]\n",
            "  [1.98997569e-01]\n",
            "  [3.45030538e-01]\n",
            "  [5.74877054e-01]\n",
            "  [6.28035935e-01]\n",
            "  [1.73159638e-01]\n",
            "  [6.82257907e-01]\n",
            "  [3.85865851e-01]]\n",
            "\n",
            " [[8.96223197e-01]\n",
            "  [2.02274302e-01]\n",
            "  [1.09225078e-02]\n",
            "  [3.15913820e-01]\n",
            "  [8.79232479e-01]\n",
            "  [2.36504686e-01]\n",
            "  [6.29013773e-01]\n",
            "  [8.75936452e-01]\n",
            "  [9.63935596e-01]\n",
            "  [9.07224455e-01]\n",
            "  [1.71636496e-04]\n",
            "  [8.35863633e-01]\n",
            "  [5.77331692e-01]\n",
            "  [7.03297179e-02]\n",
            "  [6.74440491e-01]\n",
            "  [8.86218200e-01]\n",
            "  [9.92108391e-01]\n",
            "  [2.19737332e-01]\n",
            "  [6.92452708e-01]\n",
            "  [3.09439885e-01]\n",
            "  [6.84952415e-01]\n",
            "  [9.42750336e-01]\n",
            "  [8.54790245e-01]\n",
            "  [7.69612904e-01]\n",
            "  [4.38934111e-01]]\n",
            "\n",
            " [[7.19317503e-01]\n",
            "  [7.70215951e-01]\n",
            "  [8.37844746e-01]\n",
            "  [8.77821198e-01]\n",
            "  [1.19426703e-01]\n",
            "  [3.44225509e-01]\n",
            "  [3.11185601e-01]\n",
            "  [7.99092365e-01]\n",
            "  [2.39584146e-01]\n",
            "  [9.85385454e-01]\n",
            "  [7.34523439e-01]\n",
            "  [9.70275616e-02]\n",
            "  [9.94027657e-01]\n",
            "  [3.97688308e-01]\n",
            "  [9.41363325e-01]\n",
            "  [6.39929770e-01]\n",
            "  [9.53345381e-02]\n",
            "  [6.43806785e-02]\n",
            "  [6.21664623e-01]\n",
            "  [4.71435739e-01]\n",
            "  [6.75383282e-01]\n",
            "  [9.46095923e-01]\n",
            "  [1.68793837e-02]\n",
            "  [9.40172786e-02]\n",
            "  [2.28782517e-01]]\n",
            "\n",
            " [[8.92350983e-02]\n",
            "  [7.12702040e-01]\n",
            "  [9.46537279e-02]\n",
            "  [6.85159612e-01]\n",
            "  [5.83394371e-01]\n",
            "  [8.47295912e-01]\n",
            "  [9.26170824e-02]\n",
            "  [8.76494439e-01]\n",
            "  [4.22451978e-01]\n",
            "  [5.90075004e-01]\n",
            "  [3.75361409e-01]\n",
            "  [8.25962323e-01]\n",
            "  [8.60580095e-01]\n",
            "  [9.44988133e-01]\n",
            "  [2.05173444e-01]\n",
            "  [8.05045305e-01]\n",
            "  [9.34955496e-01]\n",
            "  [5.44020475e-01]\n",
            "  [5.09441873e-01]\n",
            "  [1.05640311e-01]\n",
            "  [8.61224740e-01]\n",
            "  [1.84922613e-03]\n",
            "  [1.73514969e-01]\n",
            "  [1.84157647e-01]\n",
            "  [4.34364954e-01]]\n",
            "\n",
            " [[3.80606078e-01]\n",
            "  [1.53114121e-01]\n",
            "  [5.85995644e-01]\n",
            "  [5.77996033e-01]\n",
            "  [9.92068904e-01]\n",
            "  [7.80725924e-01]\n",
            "  [7.93555124e-01]\n",
            "  [2.71273830e-01]\n",
            "  [6.82607182e-01]\n",
            "  [5.68380142e-01]\n",
            "  [4.43406351e-01]\n",
            "  [4.34019205e-03]\n",
            "  [1.59928654e-02]\n",
            "  [9.28560854e-01]\n",
            "  [6.38102511e-01]\n",
            "  [3.60779148e-01]\n",
            "  [9.71160246e-01]\n",
            "  [1.87362237e-01]\n",
            "  [1.45219986e-01]\n",
            "  [3.08097887e-02]\n",
            "  [3.40039611e-01]\n",
            "  [1.80890352e-01]\n",
            "  [3.94631647e-01]\n",
            "  [1.07383803e-02]\n",
            "  [3.64233345e-01]]\n",
            "\n",
            " [[7.07428515e-01]\n",
            "  [2.26783097e-01]\n",
            "  [6.40457434e-01]\n",
            "  [9.90610201e-01]\n",
            "  [4.83714023e-01]\n",
            "  [1.96971169e-01]\n",
            "  [8.97433344e-01]\n",
            "  [7.86358059e-01]\n",
            "  [9.07504126e-01]\n",
            "  [9.62632983e-01]\n",
            "  [8.25879600e-01]\n",
            "  [9.22419637e-01]\n",
            "  [6.78399343e-01]\n",
            "  [7.16418746e-01]\n",
            "  [3.73932564e-01]\n",
            "  [9.13679482e-02]\n",
            "  [3.32183055e-01]\n",
            "  [6.99987451e-01]\n",
            "  [6.58179767e-01]\n",
            "  [4.74529926e-01]\n",
            "  [5.16749162e-01]\n",
            "  [3.74376879e-01]\n",
            "  [5.17055872e-01]\n",
            "  [7.64765179e-01]\n",
            "  [3.52026022e-01]]\n",
            "\n",
            " [[1.06883328e-01]\n",
            "  [2.55474952e-01]\n",
            "  [8.07867951e-01]\n",
            "  [7.22301477e-01]\n",
            "  [8.41742479e-01]\n",
            "  [4.13651433e-01]\n",
            "  [5.19477281e-01]\n",
            "  [4.98785131e-01]\n",
            "  [1.50316070e-01]\n",
            "  [8.67405654e-01]\n",
            "  [2.28707006e-01]\n",
            "  [6.04628641e-01]\n",
            "  [5.81130739e-01]\n",
            "  [9.74254006e-01]\n",
            "  [6.12422957e-01]\n",
            "  [1.54509261e-01]\n",
            "  [3.62042682e-01]\n",
            "  [6.49170365e-01]\n",
            "  [5.66742172e-01]\n",
            "  [9.67943256e-01]\n",
            "  [5.69889182e-01]\n",
            "  [2.49519847e-01]\n",
            "  [2.43461369e-01]\n",
            "  [7.69849017e-01]\n",
            "  [2.13876063e-01]]\n",
            "\n",
            " [[1.80513693e-01]\n",
            "  [1.50763968e-01]\n",
            "  [9.30849064e-01]\n",
            "  [5.13931672e-01]\n",
            "  [5.55425272e-02]\n",
            "  [4.88041321e-01]\n",
            "  [8.78430083e-01]\n",
            "  [2.28107279e-01]\n",
            "  [8.25564395e-02]\n",
            "  [2.00062110e-01]\n",
            "  [6.30556832e-01]\n",
            "  [6.20665492e-01]\n",
            "  [1.84745099e-01]\n",
            "  [2.97818643e-01]\n",
            "  [6.59217109e-01]\n",
            "  [2.16215291e-01]\n",
            "  [2.54323973e-01]\n",
            "  [8.33164853e-02]\n",
            "  [8.39295195e-01]\n",
            "  [8.49130118e-01]\n",
            "  [8.88751206e-01]\n",
            "  [6.27509199e-01]\n",
            "  [9.88711658e-01]\n",
            "  [6.81060278e-01]\n",
            "  [3.96521999e-01]]\n",
            "\n",
            " [[7.33671330e-01]\n",
            "  [1.94345685e-01]\n",
            "  [2.44532171e-01]\n",
            "  [3.35714540e-01]\n",
            "  [7.46399612e-01]\n",
            "  [9.43010181e-01]\n",
            "  [8.59236303e-01]\n",
            "  [3.02987584e-01]\n",
            "  [6.04581683e-02]\n",
            "  [5.41342784e-01]\n",
            "  [7.87312165e-01]\n",
            "  [9.14363333e-01]\n",
            "  [8.50710060e-01]\n",
            "  [2.91387262e-01]\n",
            "  [6.95137635e-01]\n",
            "  [2.76388321e-01]\n",
            "  [6.17971935e-01]\n",
            "  [9.56246836e-01]\n",
            "  [5.21196144e-02]\n",
            "  [6.07999400e-01]\n",
            "  [5.57422857e-01]\n",
            "  [3.68133032e-01]\n",
            "  [1.13201195e-01]\n",
            "  [3.19002210e-01]\n",
            "  [2.14510270e-01]]\n",
            "\n",
            " [[6.53080379e-01]\n",
            "  [8.57606157e-01]\n",
            "  [8.58929243e-01]\n",
            "  [2.45341928e-02]\n",
            "  [5.69882333e-01]\n",
            "  [9.68783792e-02]\n",
            "  [8.48982202e-01]\n",
            "  [3.40978416e-02]\n",
            "  [4.69771133e-01]\n",
            "  [2.02953903e-02]\n",
            "  [5.01334765e-01]\n",
            "  [8.55964880e-01]\n",
            "  [6.17180147e-01]\n",
            "  [5.79009986e-01]\n",
            "  [6.47869426e-01]\n",
            "  [9.06559543e-01]\n",
            "  [4.59915223e-01]\n",
            "  [1.88457707e-03]\n",
            "  [3.96835900e-01]\n",
            "  [7.41252910e-01]\n",
            "  [2.58917241e-01]\n",
            "  [6.34133399e-01]\n",
            "  [5.78651310e-01]\n",
            "  [7.54030901e-01]\n",
            "  [4.04570889e-01]]\n",
            "\n",
            " [[8.50898675e-01]\n",
            "  [6.60767086e-01]\n",
            "  [7.65750770e-01]\n",
            "  [5.99054494e-02]\n",
            "  [5.04918736e-01]\n",
            "  [5.08958386e-01]\n",
            "  [4.88343376e-01]\n",
            "  [6.60295853e-01]\n",
            "  [8.70591760e-01]\n",
            "  [7.95016979e-01]\n",
            "  [7.06434941e-01]\n",
            "  [2.77231861e-01]\n",
            "  [8.87834482e-01]\n",
            "  [9.27853000e-01]\n",
            "  [1.58585492e-01]\n",
            "  [3.11520780e-01]\n",
            "  [9.93864111e-01]\n",
            "  [4.55229174e-01]\n",
            "  [3.42683073e-01]\n",
            "  [5.69874913e-01]\n",
            "  [7.77820198e-01]\n",
            "  [1.98459691e-01]\n",
            "  [5.18347811e-01]\n",
            "  [1.75494141e-01]\n",
            "  [7.73946225e-01]]\n",
            "\n",
            " [[3.33706040e-02]\n",
            "  [5.97107681e-01]\n",
            "  [2.06193270e-01]\n",
            "  [7.36161371e-01]\n",
            "  [3.20420711e-01]\n",
            "  [4.86063806e-01]\n",
            "  [1.10009083e-01]\n",
            "  [8.90721321e-01]\n",
            "  [3.48786539e-01]\n",
            "  [8.98025434e-01]\n",
            "  [2.54247666e-01]\n",
            "  [7.13749047e-01]\n",
            "  [6.42577727e-01]\n",
            "  [5.88711051e-01]\n",
            "  [3.62225696e-01]\n",
            "  [8.45112507e-01]\n",
            "  [6.16862396e-01]\n",
            "  [5.41033716e-01]\n",
            "  [2.39520986e-01]\n",
            "  [5.32932733e-01]\n",
            "  [8.53908600e-01]\n",
            "  [9.43795861e-01]\n",
            "  [8.37646461e-02]\n",
            "  [8.79747758e-01]\n",
            "  [4.90674706e-01]]\n",
            "\n",
            " [[9.02925848e-01]\n",
            "  [3.28171552e-01]\n",
            "  [5.70296811e-01]\n",
            "  [5.06831445e-01]\n",
            "  [8.64883516e-01]\n",
            "  [5.01142191e-01]\n",
            "  [1.18281706e-01]\n",
            "  [5.43703369e-01]\n",
            "  [6.84198791e-01]\n",
            "  [1.10397887e-01]\n",
            "  [4.31699052e-01]\n",
            "  [9.33861717e-01]\n",
            "  [5.31974214e-01]\n",
            "  [7.10379833e-01]\n",
            "  [5.21721848e-01]\n",
            "  [5.30450996e-01]\n",
            "  [9.83278607e-01]\n",
            "  [7.58548316e-01]\n",
            "  [2.27652158e-01]\n",
            "  [6.52787256e-01]\n",
            "  [2.94739799e-02]\n",
            "  [1.47482412e-01]\n",
            "  [6.70937164e-01]\n",
            "  [5.52111989e-01]\n",
            "  [3.29323174e-01]]\n",
            "\n",
            " [[9.79162833e-02]\n",
            "  [1.83001912e-01]\n",
            "  [2.80028561e-01]\n",
            "  [4.88944552e-01]\n",
            "  [1.92521879e-01]\n",
            "  [5.40468515e-01]\n",
            "  [7.00734276e-01]\n",
            "  [9.97564723e-01]\n",
            "  [6.41143838e-01]\n",
            "  [2.20503150e-01]\n",
            "  [4.12209986e-01]\n",
            "  [2.35151600e-01]\n",
            "  [9.24305387e-02]\n",
            "  [1.00853688e-01]\n",
            "  [6.12627964e-01]\n",
            "  [7.69248041e-02]\n",
            "  [8.13382605e-01]\n",
            "  [9.24413022e-01]\n",
            "  [5.03281671e-01]\n",
            "  [8.42546037e-01]\n",
            "  [3.15537394e-02]\n",
            "  [7.11911287e-01]\n",
            "  [3.25083960e-01]\n",
            "  [4.31095677e-02]\n",
            "  [3.11798410e-02]]\n",
            "\n",
            " [[9.43537570e-01]\n",
            "  [3.90073118e-01]\n",
            "  [5.76438458e-01]\n",
            "  [7.74415985e-01]\n",
            "  [1.26526002e-01]\n",
            "  [3.89398728e-01]\n",
            "  [1.56736935e-01]\n",
            "  [4.49852214e-01]\n",
            "  [8.15614341e-01]\n",
            "  [4.92950898e-01]\n",
            "  [6.53720046e-02]\n",
            "  [8.13191268e-01]\n",
            "  [2.98205775e-02]\n",
            "  [5.11088651e-01]\n",
            "  [1.25355007e-01]\n",
            "  [9.28568375e-01]\n",
            "  [9.09106699e-01]\n",
            "  [6.32309108e-01]\n",
            "  [4.53187768e-02]\n",
            "  [7.15479658e-01]\n",
            "  [8.73135313e-01]\n",
            "  [3.11978471e-01]\n",
            "  [3.89977878e-01]\n",
            "  [6.28943224e-02]\n",
            "  [2.14028697e-01]]\n",
            "\n",
            " [[3.12038197e-01]\n",
            "  [8.83204267e-01]\n",
            "  [9.52029525e-01]\n",
            "  [4.16532929e-01]\n",
            "  [8.10528091e-01]\n",
            "  [4.35612782e-01]\n",
            "  [4.28759839e-01]\n",
            "  [6.72196752e-01]\n",
            "  [5.06977226e-01]\n",
            "  [5.91334652e-01]\n",
            "  [8.44098396e-01]\n",
            "  [4.27076716e-01]\n",
            "  [3.09866961e-01]\n",
            "  [7.58282471e-01]\n",
            "  [7.36503405e-01]\n",
            "  [1.46285340e-01]\n",
            "  [7.97123106e-01]\n",
            "  [1.87489986e-01]\n",
            "  [9.43303200e-01]\n",
            "  [5.61178769e-01]\n",
            "  [3.76312540e-01]\n",
            "  [9.49512894e-01]\n",
            "  [9.22725703e-01]\n",
            "  [4.82753206e-01]\n",
            "  [5.87813962e-01]]\n",
            "\n",
            " [[6.35635341e-01]\n",
            "  [1.54189503e-01]\n",
            "  [7.63087682e-01]\n",
            "  [1.02919300e-01]\n",
            "  [5.47065617e-01]\n",
            "  [4.64880104e-01]\n",
            "  [7.23176530e-01]\n",
            "  [5.65426011e-01]\n",
            "  [6.43743879e-01]\n",
            "  [6.63272194e-01]\n",
            "  [1.31428094e-01]\n",
            "  [7.07390492e-01]\n",
            "  [1.41564693e-02]\n",
            "  [3.72512865e-01]\n",
            "  [4.86393540e-02]\n",
            "  [4.33366983e-01]\n",
            "  [9.74243880e-01]\n",
            "  [9.95963756e-01]\n",
            "  [7.32297008e-01]\n",
            "  [8.49685702e-01]\n",
            "  [4.91674821e-01]\n",
            "  [8.48116898e-01]\n",
            "  [6.51214069e-01]\n",
            "  [3.36017264e-01]\n",
            "  [6.19694886e-02]]\n",
            "\n",
            " [[3.74858896e-01]\n",
            "  [3.73343186e-01]\n",
            "  [4.20053428e-01]\n",
            "  [9.83368769e-01]\n",
            "  [5.80071975e-01]\n",
            "  [2.17575877e-01]\n",
            "  [6.68150918e-01]\n",
            "  [2.00961341e-01]\n",
            "  [5.58890089e-01]\n",
            "  [3.67505116e-01]\n",
            "  [5.31953419e-01]\n",
            "  [1.43470351e-01]\n",
            "  [6.79331996e-01]\n",
            "  [1.72638935e-01]\n",
            "  [8.54038189e-01]\n",
            "  [7.02559187e-01]\n",
            "  [7.74592892e-01]\n",
            "  [7.48937339e-02]\n",
            "  [2.84896220e-01]\n",
            "  [2.25812953e-01]\n",
            "  [5.87177257e-02]\n",
            "  [4.64432380e-01]\n",
            "  [5.82137665e-01]\n",
            "  [7.24982931e-01]\n",
            "  [4.06512423e-01]]\n",
            "\n",
            " [[4.21507898e-01]\n",
            "  [5.49725558e-01]\n",
            "  [3.83327111e-01]\n",
            "  [1.91053412e-01]\n",
            "  [4.32129729e-01]\n",
            "  [9.32215823e-02]\n",
            "  [8.64580812e-01]\n",
            "  [3.69880538e-01]\n",
            "  [9.48394285e-01]\n",
            "  [2.75311860e-01]\n",
            "  [3.18214075e-01]\n",
            "  [5.95191383e-01]\n",
            "  [2.21036551e-02]\n",
            "  [8.20520882e-01]\n",
            "  [6.18411866e-01]\n",
            "  [1.46944308e-01]\n",
            "  [2.46701890e-02]\n",
            "  [1.99427654e-01]\n",
            "  [7.56854903e-01]\n",
            "  [2.71416932e-01]\n",
            "  [8.93064972e-01]\n",
            "  [2.80174549e-01]\n",
            "  [9.33932654e-01]\n",
            "  [6.36356311e-01]\n",
            "  [7.33318054e-01]]]\n",
            "\n",
            "After concatenate: \n",
            "[[[5.77300286e-01 5.34165153e-02 9.64155037e-01]\n",
            "  [4.31005696e-01 4.41926677e-01 5.83406154e-01]\n",
            "  [1.62595043e-01 7.09508937e-01 3.07724424e-01]\n",
            "  [6.58997643e-02 1.63273979e-01 3.67963871e-01]\n",
            "  [8.60931158e-01 6.04974708e-01 7.64853786e-01]\n",
            "  [5.67951971e-01 1.62828939e-01 7.26519883e-01]\n",
            "  [1.82762089e-01 3.60585261e-01 9.01212446e-01]\n",
            "  [4.14644080e-01 8.93806713e-02 5.61447474e-03]\n",
            "  [2.33700099e-01 7.61637734e-01 5.01637122e-01]\n",
            "  [1.81969659e-03 5.98499558e-01 7.61196637e-01]\n",
            "  [9.81308168e-01 5.54611484e-01 4.70774439e-01]\n",
            "  [6.69895556e-01 1.26327399e-01 8.89756517e-01]\n",
            "  [4.64556537e-01 3.05509424e-01 8.69192475e-01]\n",
            "  [2.26653817e-01 2.55241554e-01 1.46587305e-01]\n",
            "  [3.97249242e-01 3.19377060e-01 5.59224286e-01]\n",
            "  [5.66734769e-01 2.81448997e-01 1.57488774e-01]\n",
            "  [7.50915962e-01 8.57550104e-01 5.75416374e-01]\n",
            "  [3.69437409e-01 6.97619067e-01 3.51975120e-01]\n",
            "  [7.26995814e-01 5.22380496e-01 1.41236008e-01]\n",
            "  [9.86962970e-01 7.24687549e-01 2.92127080e-01]\n",
            "  [8.00229631e-02 9.09329286e-01 2.08404543e-01]\n",
            "  [3.05944966e-01 8.55837596e-01 2.64267600e-01]\n",
            "  [5.75682796e-01 5.78549806e-01 2.33280003e-01]\n",
            "  [7.63441438e-01 2.89567407e-02 2.53760248e-01]\n",
            "  [1.65513914e-01 8.37421060e-01 9.46577545e-01]]\n",
            "\n",
            " [[7.38508013e-01 1.54063098e-01 9.62807848e-01]\n",
            "  [5.24158966e-01 9.19213509e-01 1.37851246e-01]\n",
            "  [4.67855205e-01 9.97999404e-01 6.80297138e-01]\n",
            "  [3.41773495e-01 6.46191861e-01 8.64398732e-01]\n",
            "  [3.41915374e-01 5.31679717e-01 1.36951720e-01]\n",
            "  [7.72738804e-01 3.38984500e-01 2.94004392e-01]\n",
            "  [5.33593918e-01 8.39196246e-01 7.47665129e-01]\n",
            "  [6.19767127e-01 8.05698530e-01 7.22146905e-01]\n",
            "  [3.76395011e-01 7.40756249e-01 7.95438053e-01]\n",
            "  [9.52898382e-01 1.77714950e-01 1.52223463e-01]\n",
            "  [4.48128829e-01 6.93788337e-01 5.49374399e-01]\n",
            "  [6.08301894e-01 3.24013306e-01 8.03111816e-01]\n",
            "  [3.94373200e-01 9.94913258e-01 1.57579840e-02]\n",
            "  [7.48235310e-01 1.03828855e-01 4.44076665e-01]\n",
            "  [7.57342596e-01 4.87476386e-01 3.89656825e-01]\n",
            "  [3.67394045e-01 6.25060503e-01 5.02340775e-01]\n",
            "  [8.64470473e-01 1.66824502e-01 9.99875977e-01]\n",
            "  [4.05101752e-02 7.78788855e-01 8.30292867e-01]\n",
            "  [7.20364009e-01 5.59325962e-01 3.92562815e-01]\n",
            "  [3.07974419e-01 2.63620063e-01 9.12015727e-02]\n",
            "  [5.81306015e-01 1.56595774e-01 2.71987704e-01]\n",
            "  [8.64002482e-02 5.07351076e-01 3.07745037e-01]\n",
            "  [8.73833005e-01 5.29714750e-01 7.51142402e-01]\n",
            "  [5.70422098e-01 7.44292865e-01 7.39593703e-01]\n",
            "  [5.56369957e-01 3.10435707e-01 3.91308124e-01]]\n",
            "\n",
            " [[1.45319071e-01 2.50522963e-01 9.30675759e-01]\n",
            "  [4.83023717e-01 9.90796584e-01 5.31989927e-01]\n",
            "  [8.83912285e-01 4.51077857e-01 4.33314478e-01]\n",
            "  [6.49561655e-01 8.80584023e-01 3.41413600e-01]\n",
            "  [3.26319042e-01 8.48775829e-01 7.35222150e-01]\n",
            "  [6.00504892e-01 5.12598484e-01 8.51017136e-02]\n",
            "  [8.17911090e-01 2.22621167e-01 5.51496631e-01]\n",
            "  [1.83014312e-01 8.70317035e-01 5.01178587e-01]\n",
            "  [6.06185493e-01 6.05159268e-01 1.60066164e-01]\n",
            "  [2.78670041e-01 2.47020481e-01 4.49058517e-01]\n",
            "  [2.99806267e-01 2.79104086e-01 5.34687052e-02]\n",
            "  [1.72077992e-01 3.22088407e-01 5.24209230e-01]\n",
            "  [1.27760272e-01 5.89556866e-01 6.44218926e-01]\n",
            "  [5.43616491e-01 1.14858540e-02 8.42027011e-01]\n",
            "  [6.86119321e-02 3.49817882e-01 7.85910463e-01]\n",
            "  [7.98988883e-01 9.01635526e-01 5.18221666e-01]\n",
            "  [3.15508149e-01 4.40265719e-01 7.22006205e-01]\n",
            "  [9.41435606e-01 7.85145625e-01 5.50320226e-01]\n",
            "  [5.87392816e-01 6.90359836e-01 8.11503590e-01]\n",
            "  [4.26884820e-01 7.79886194e-02 8.99229038e-01]\n",
            "  [6.13850710e-01 4.14789419e-01 9.68239043e-01]\n",
            "  [6.47780987e-01 5.51466027e-01 2.87976351e-01]\n",
            "  [4.83560920e-01 9.41101522e-01 5.59825751e-01]\n",
            "  [8.72578170e-01 1.11033284e-01 8.29759558e-01]\n",
            "  [7.33274968e-01 7.90354259e-01 1.02868073e-01]]\n",
            "\n",
            " [[5.12882401e-01 8.65393873e-01 2.86759496e-01]\n",
            "  [8.23905463e-01 3.84443522e-01 1.66474789e-01]\n",
            "  [9.83940580e-01 6.98317158e-01 1.09676484e-01]\n",
            "  [4.21985743e-01 2.29434800e-01 3.49127394e-01]\n",
            "  [7.25521914e-01 4.74010564e-01 4.55800308e-01]\n",
            "  [2.48592793e-01 3.43407361e-01 2.31345560e-01]\n",
            "  [9.96577608e-01 3.05023600e-01 3.73336273e-01]\n",
            "  [6.42660330e-01 5.14761466e-01 4.73986742e-01]\n",
            "  [4.24860582e-01 2.77368649e-01 2.16623893e-01]\n",
            "  [9.13734870e-03 1.86508838e-01 6.53981344e-01]\n",
            "  [1.24629414e-01 9.81993255e-01 5.45408687e-01]\n",
            "  [5.44371165e-02 2.63217792e-02 6.47771517e-01]\n",
            "  [8.31824633e-01 2.03335209e-01 4.31664564e-03]\n",
            "  [3.37154036e-01 4.29428238e-01 8.66922041e-01]\n",
            "  [3.78176976e-02 1.93255980e-01 1.10289081e-01]\n",
            "  [8.87484397e-01 4.54189101e-01 9.77165393e-01]\n",
            "  [3.67753954e-01 5.15310689e-01 9.02072647e-02]\n",
            "  [6.98159466e-01 6.14122530e-01 7.07594443e-01]\n",
            "  [3.77715136e-01 5.98183941e-01 7.37457863e-01]\n",
            "  [5.25876637e-01 7.90771582e-01 8.30863711e-01]\n",
            "  [7.19277861e-01 6.72233981e-01 2.30636236e-02]\n",
            "  [7.30986678e-01 6.33445650e-01 8.73374678e-01]\n",
            "  [6.10157546e-01 1.52248843e-01 9.70461773e-01]\n",
            "  [1.31516322e-01 2.83241622e-01 7.63663030e-01]\n",
            "  [1.42782513e-01 5.43815512e-01 7.44936868e-01]]\n",
            "\n",
            " [[3.63640175e-01 1.00406946e-01 8.33428719e-02]\n",
            "  [1.14031772e-01 6.75166260e-02 4.34518494e-01]\n",
            "  [3.69155686e-01 1.84627673e-01 8.57930821e-01]\n",
            "  [3.82744875e-01 5.72168592e-01 7.51274273e-01]\n",
            "  [9.35455572e-01 5.87986150e-01 3.27939832e-02]\n",
            "  [8.25060644e-01 2.64015430e-01 8.90891032e-01]\n",
            "  [6.90743914e-01 2.60432655e-01 3.32205277e-02]\n",
            "  [8.86618767e-01 5.89104573e-01 9.49687117e-01]\n",
            "  [7.16145488e-01 7.67605986e-01 1.41551593e-01]\n",
            "  [2.94352776e-01 8.77322013e-01 9.42648239e-01]\n",
            "  [5.25098556e-01 1.50096510e-01 6.48352818e-01]\n",
            "  [6.59473899e-01 9.43718931e-01 6.62636636e-01]\n",
            "  [7.00851766e-01 7.11784931e-01 4.00039958e-02]\n",
            "  [3.95374774e-01 3.29846880e-01 3.99047090e-01]\n",
            "  [5.55456106e-01 6.50433124e-01 3.40479655e-01]\n",
            "  [5.03444702e-01 6.40371021e-02 1.74873701e-02]\n",
            "  [3.52758151e-01 8.26515489e-02 2.69264450e-01]\n",
            "  [2.86379346e-02 3.75565044e-01 2.70965560e-02]\n",
            "  [5.17561569e-01 5.13668030e-01 1.34629923e-01]\n",
            "  [8.58582561e-01 1.49205628e-01 1.41433687e-01]\n",
            "  [9.49190341e-01 9.34402003e-01 7.81273667e-01]\n",
            "  [6.12990787e-01 3.46233594e-01 9.87325995e-01]\n",
            "  [2.38650154e-01 8.88825124e-01 7.62261390e-01]\n",
            "  [4.48661686e-01 8.31705848e-01 8.23299280e-01]\n",
            "  [2.34505667e-01 9.63288381e-02 7.81378512e-01]]\n",
            "\n",
            " [[1.82850769e-01 6.57930552e-01 4.55463584e-01]\n",
            "  [1.96058069e-01 1.45546177e-01 5.94462646e-01]\n",
            "  [2.15235681e-01 5.16183134e-01 4.95757480e-01]\n",
            "  [8.72796498e-01 8.84807310e-01 6.98591076e-01]\n",
            "  [4.93893960e-01 7.43746108e-01 8.40405741e-01]\n",
            "  [5.18058905e-01 5.64536405e-01 8.27914928e-01]\n",
            "  [7.32273098e-01 3.80969281e-01 5.01298042e-01]\n",
            "  [4.86197724e-01 5.41379484e-01 2.95863936e-01]\n",
            "  [7.65639327e-01 5.22807998e-01 4.67957604e-01]\n",
            "  [5.81427383e-01 1.70498197e-01 4.65417254e-01]\n",
            "  [9.06529061e-01 2.31728344e-01 8.61121313e-01]\n",
            "  [7.94941926e-01 5.36404429e-01 5.69554555e-01]\n",
            "  [7.27127912e-01 7.61185994e-01 2.84573688e-01]\n",
            "  [8.27987257e-01 6.36872159e-01 4.61111356e-02]\n",
            "  [2.93238981e-01 5.32626002e-02 9.91424277e-01]\n",
            "  [6.45085666e-01 3.64021480e-01 8.30284628e-01]\n",
            "  [5.55068299e-01 1.30154462e-01 8.01103559e-01]\n",
            "  [1.62534441e-01 1.80557255e-01 9.12995901e-01]\n",
            "  [6.10393509e-01 7.14549435e-01 9.21440502e-01]\n",
            "  [7.24347047e-01 6.82555532e-01 4.36876166e-01]\n",
            "  [3.23916225e-01 7.36640616e-01 4.24946847e-01]\n",
            "  [2.49011933e-01 1.87524615e-01 6.60613253e-01]\n",
            "  [9.34781190e-01 8.43801439e-01 4.36603988e-01]\n",
            "  [6.36914609e-01 9.87452367e-01 7.88942436e-01]\n",
            "  [7.83010021e-01 9.44344480e-01 9.75021505e-01]]\n",
            "\n",
            " [[5.49777183e-01 3.11364529e-01 4.46218475e-02]\n",
            "  [4.39201832e-01 9.55342276e-01 8.75768712e-01]\n",
            "  [1.52418068e-01 2.81197056e-01 8.63154575e-01]\n",
            "  [5.82987272e-02 8.60946501e-01 6.00011210e-01]\n",
            "  [3.95280897e-01 3.52216970e-01 9.99324052e-01]\n",
            "  [3.30698322e-01 6.70601107e-01 1.05118775e-01]\n",
            "  [8.93780396e-01 2.52698215e-01 1.43118083e-01]\n",
            "  [1.27948832e-01 4.37258482e-01 7.49213593e-03]\n",
            "  [2.87758992e-01 2.35908945e-01 4.66986352e-02]\n",
            "  [6.73139613e-01 9.22327369e-01 3.30728620e-01]\n",
            "  [6.79670049e-01 3.39537139e-01 7.31465277e-02]\n",
            "  [4.47891471e-01 3.74144880e-01 2.75853519e-02]\n",
            "  [9.19869477e-01 9.71618839e-01 9.36223106e-01]\n",
            "  [9.95860278e-01 4.74010547e-01 6.80102083e-01]\n",
            "  [3.18682735e-01 1.17014332e-02 6.49972541e-01]\n",
            "  [9.19123400e-02 2.18080187e-01 8.67479787e-01]\n",
            "  [4.31900776e-01 2.61041224e-01 2.41655393e-01]\n",
            "  [3.07790431e-01 9.15317910e-03 2.02657249e-02]\n",
            "  [5.18557738e-01 6.89098522e-01 1.98997569e-01]\n",
            "  [1.22517178e-01 5.58188759e-01 3.45030538e-01]\n",
            "  [2.27073907e-01 4.60015622e-01 5.74877054e-01]\n",
            "  [2.43721576e-01 4.45305696e-02 6.28035935e-01]\n",
            "  [2.05699047e-01 6.15127706e-01 1.73159638e-01]\n",
            "  [8.36678658e-01 5.89417149e-01 6.82257907e-01]\n",
            "  [7.78657756e-01 4.81859238e-02 3.85865851e-01]]\n",
            "\n",
            " [[1.11567820e-01 4.25821736e-01 8.96223197e-01]\n",
            "  [7.02517732e-01 3.54487770e-01 2.02274302e-01]\n",
            "  [7.05608060e-02 1.57704432e-01 1.09225078e-02]\n",
            "  [8.43472052e-01 6.39652777e-01 3.15913820e-01]\n",
            "  [4.68297503e-01 6.54952350e-01 8.79232479e-01]\n",
            "  [7.42939648e-01 4.32225939e-01 2.36504686e-01]\n",
            "  [3.56431987e-01 1.44236013e-01 6.29013773e-01]\n",
            "  [1.19080944e-01 3.23785219e-01 8.75936452e-01]\n",
            "  [8.99321166e-01 2.61534915e-02 9.63935596e-01]\n",
            "  [3.24049530e-01 1.29403585e-01 9.07224455e-01]\n",
            "  [9.20429753e-01 8.27241918e-01 1.71636496e-04]\n",
            "  [5.95136731e-01 3.33007425e-01 8.35863633e-01]\n",
            "  [3.32149379e-01 6.71582518e-01 5.77331692e-01]\n",
            "  [4.66275429e-01 9.02709386e-01 7.03297179e-02]\n",
            "  [5.34488533e-01 5.42788523e-01 6.74440491e-01]\n",
            "  [6.73676410e-01 8.68317869e-01 8.86218200e-01]\n",
            "  [5.19473441e-01 6.70724220e-02 9.92108391e-01]\n",
            "  [3.17317121e-01 5.91158177e-01 2.19737332e-01]\n",
            "  [2.40862133e-02 9.40852863e-02 6.92452708e-01]\n",
            "  [9.14148404e-01 6.58887270e-01 3.09439885e-01]\n",
            "  [8.13776116e-01 7.78809417e-01 6.84952415e-01]\n",
            "  [8.80351201e-01 3.62547756e-01 9.42750336e-01]\n",
            "  [1.91273178e-01 4.39592847e-01 8.54790245e-01]\n",
            "  [8.12540219e-01 3.09313241e-01 7.69612904e-01]\n",
            "  [9.24508917e-01 7.59651830e-01 4.38934111e-01]]\n",
            "\n",
            " [[5.67559432e-01 2.30058908e-01 7.19317503e-01]\n",
            "  [4.29656632e-02 5.49657416e-01 7.70215951e-01]\n",
            "  [8.37113724e-01 4.48430970e-01 8.37844746e-01]\n",
            "  [4.75849852e-01 2.20900118e-01 8.77821198e-01]\n",
            "  [2.21002931e-01 9.28531709e-01 1.19426703e-01]\n",
            "  [2.42642568e-01 4.54690601e-01 3.44225509e-01]\n",
            "  [5.81101518e-01 7.09010687e-01 3.11185601e-01]\n",
            "  [4.52154594e-01 9.74244014e-01 7.99092365e-01]\n",
            "  [9.21440422e-01 4.91732610e-01 2.39584146e-01]\n",
            "  [4.42642432e-01 9.93132641e-01 9.85385454e-01]\n",
            "  [5.87828271e-01 1.85471473e-01 7.34523439e-01]\n",
            "  [6.18262998e-01 9.36829170e-01 9.70275616e-02]\n",
            "  [6.87853678e-01 8.01102362e-02 9.94027657e-01]\n",
            "  [1.05199082e-01 5.60131502e-01 3.97688308e-01]\n",
            "  [3.73654937e-01 7.68276181e-01 9.41363325e-01]\n",
            "  [5.33463178e-01 3.19347915e-01 6.39929770e-01]\n",
            "  [9.54895291e-01 6.84241658e-01 9.53345381e-02]\n",
            "  [5.32238197e-01 6.05026468e-01 6.43806785e-02]\n",
            "  [6.40536763e-01 5.32749037e-01 6.21664623e-01]\n",
            "  [1.71592723e-01 1.28352389e-01 4.71435739e-01]\n",
            "  [9.67066868e-01 9.52522767e-01 6.75383282e-01]\n",
            "  [1.75255293e-01 1.12854561e-01 9.46095923e-01]\n",
            "  [8.04345478e-01 4.83608614e-01 1.68793837e-02]\n",
            "  [6.96062855e-01 2.66540030e-01 9.40172786e-02]\n",
            "  [7.62954968e-01 4.17882894e-01 2.28782517e-01]]\n",
            "\n",
            " [[8.65141401e-01 6.36162558e-01 8.92350983e-02]\n",
            "  [7.71389801e-01 5.16587111e-01 7.12702040e-01]\n",
            "  [4.76345843e-01 5.48009685e-01 9.46537279e-02]\n",
            "  [6.87786641e-01 8.99458260e-01 6.85159612e-01]\n",
            "  [5.03556239e-01 4.49173463e-01 5.83394371e-01]\n",
            "  [7.78931195e-01 8.40308391e-01 8.47295912e-01]\n",
            "  [1.88512302e-01 8.22749029e-01 9.26170824e-02]\n",
            "  [2.89905287e-01 6.30883413e-01 8.76494439e-01]\n",
            "  [1.79457296e-01 9.43283658e-01 4.22451978e-01]\n",
            "  [4.64250839e-01 3.03502617e-01 5.90075004e-01]\n",
            "  [7.69876958e-01 2.57078222e-01 3.75361409e-01]\n",
            "  [5.00273518e-01 8.37823514e-01 8.25962323e-01]\n",
            "  [3.94652151e-01 4.30465954e-01 8.60580095e-01]\n",
            "  [9.34528310e-01 3.25353276e-01 9.44988133e-01]\n",
            "  [6.13474142e-01 2.80927921e-01 2.05173444e-01]\n",
            "  [6.60761292e-01 7.67649706e-01 8.05045305e-01]\n",
            "  [5.85659946e-01 1.35664634e-01 9.34955496e-01]\n",
            "  [3.92883303e-01 5.34450769e-01 5.44020475e-01]\n",
            "  [1.98305679e-01 7.37011076e-01 5.09441873e-01]\n",
            "  [7.32971065e-01 2.20565601e-01 1.05640311e-01]\n",
            "  [8.59628001e-01 2.65315543e-01 8.61224740e-01]\n",
            "  [9.55840020e-01 4.59880437e-01 1.84922613e-03]\n",
            "  [9.41065001e-01 5.18359073e-01 1.73514969e-01]\n",
            "  [1.03201118e-01 6.35302466e-02 1.84157647e-01]\n",
            "  [5.55584696e-01 4.73416942e-02 4.34364954e-01]]\n",
            "\n",
            " [[7.91537310e-01 4.94273510e-01 3.80606078e-01]\n",
            "  [7.10386711e-01 3.29096193e-01 1.53114121e-01]\n",
            "  [3.91469160e-01 6.44045604e-01 5.85995644e-01]\n",
            "  [6.49869493e-01 3.44143001e-01 5.77996033e-01]\n",
            "  [8.97306379e-01 1.45545438e-01 9.92068904e-01]\n",
            "  [1.19915785e-01 2.35430949e-01 7.80725924e-01]\n",
            "  [5.66024588e-01 9.85081767e-01 7.93555124e-01]\n",
            "  [8.87913958e-01 8.49352022e-01 2.71273830e-01]\n",
            "  [2.26086195e-01 2.01651712e-01 6.82607182e-01]\n",
            "  [6.98481781e-01 1.18049724e-01 5.68380142e-01]\n",
            "  [2.63630208e-01 2.49063806e-01 4.43406351e-01]\n",
            "  [9.56688727e-01 8.01958552e-01 4.34019205e-03]\n",
            "  [3.55129925e-01 7.28435619e-01 1.59928654e-02]\n",
            "  [4.89637797e-01 5.87928907e-01 9.28560854e-01]\n",
            "  [9.35523250e-01 3.22753361e-01 6.38102511e-01]\n",
            "  [4.02293038e-01 7.99964212e-01 3.60779148e-01]\n",
            "  [2.00037252e-01 6.62178096e-01 9.71160246e-01]\n",
            "  [9.95699439e-01 3.60373602e-01 1.87362237e-01]\n",
            "  [5.05671335e-01 6.14888804e-01 1.45219986e-01]\n",
            "  [4.89450539e-01 4.31820663e-01 3.08097887e-02]\n",
            "  [4.98562535e-01 3.59223028e-01 3.40039611e-01]\n",
            "  [3.39999804e-01 8.29208508e-01 1.80890352e-01]\n",
            "  [7.01096903e-01 4.49583957e-01 3.94631647e-01]\n",
            "  [6.32911797e-01 8.73214277e-01 1.07383803e-02]\n",
            "  [9.00193751e-01 3.56609792e-01 3.64233345e-01]]\n",
            "\n",
            " [[7.30615430e-01 1.17443343e-01 7.07428515e-01]\n",
            "  [3.24499820e-01 5.68182505e-01 2.26783097e-01]\n",
            "  [4.30653227e-01 7.36025832e-01 6.40457434e-01]\n",
            "  [1.34378289e-01 9.44772889e-01 9.90610201e-01]\n",
            "  [2.48400329e-01 5.77230670e-01 4.83714023e-01]\n",
            "  [3.18978643e-01 7.34594590e-03 1.96971169e-01]\n",
            "  [9.68353374e-01 7.46019949e-01 8.97433344e-01]\n",
            "  [8.24156213e-01 2.58885803e-01 7.86358059e-01]\n",
            "  [9.05988058e-01 2.03977023e-01 9.07504126e-01]\n",
            "  [4.44141698e-01 1.36063211e-01 9.62632983e-01]\n",
            "  [7.36931729e-01 8.82723450e-01 8.25879600e-01]\n",
            "  [5.95163233e-01 7.98548387e-01 9.22419637e-01]\n",
            "  [2.00255611e-03 5.22761966e-01 6.78399343e-01]\n",
            "  [6.70632428e-01 5.36496072e-02 7.16418746e-01]\n",
            "  [9.87582678e-02 1.86866201e-01 3.73932564e-01]\n",
            "  [1.30509024e-01 9.15814272e-01 9.13679482e-02]\n",
            "  [7.59307133e-01 5.28373852e-01 3.32183055e-01]\n",
            "  [9.30437015e-01 5.29190360e-01 6.99987451e-01]\n",
            "  [8.83012264e-01 5.20609819e-01 6.58179767e-01]\n",
            "  [8.48543126e-01 9.47085543e-01 4.74529926e-01]\n",
            "  [6.55566457e-01 5.14451582e-01 5.16749162e-01]\n",
            "  [1.34716884e-01 4.07601196e-01 3.74376879e-01]\n",
            "  [6.23854830e-01 3.24971046e-01 5.17055872e-01]\n",
            "  [2.31971231e-01 9.10696127e-01 7.64765179e-01]\n",
            "  [1.21437144e-01 1.15024057e-01 3.52026022e-01]]\n",
            "\n",
            " [[2.56552725e-01 8.34732997e-01 1.06883328e-01]\n",
            "  [8.31193874e-01 8.40648738e-01 2.55474952e-01]\n",
            "  [9.26375194e-02 5.85298660e-01 8.07867951e-01]\n",
            "  [3.84133980e-01 5.35967244e-01 7.22301477e-01]\n",
            "  [7.72587862e-01 2.41945839e-01 8.41742479e-01]\n",
            "  [1.95086869e-02 1.77704201e-01 4.13651433e-01]\n",
            "  [2.85790716e-01 2.09644668e-01 5.19477281e-01]\n",
            "  [7.51159553e-01 5.30637011e-01 4.98785131e-01]\n",
            "  [2.76445599e-01 3.79430938e-01 1.50316070e-01]\n",
            "  [8.94969304e-01 3.94607112e-02 8.67405654e-01]\n",
            "  [8.68178114e-01 1.41294320e-01 2.28707006e-01]\n",
            "  [6.14121413e-01 6.81414499e-01 6.04628641e-01]\n",
            "  [5.74257740e-01 5.45773269e-01 5.81130739e-01]\n",
            "  [5.16418845e-01 2.25550839e-01 9.74254006e-01]\n",
            "  [1.73382918e-01 5.71778536e-01 6.12422957e-01]\n",
            "  [9.97738867e-01 7.94812419e-01 1.54509261e-01]\n",
            "  [6.03851745e-03 5.41693919e-01 3.62042682e-01]\n",
            "  [4.08991695e-01 4.23692373e-01 6.49170365e-01]\n",
            "  [8.19806000e-01 1.84186801e-01 5.66742172e-01]\n",
            "  [5.63408915e-01 7.81298246e-01 9.67943256e-01]\n",
            "  [3.77950488e-01 7.93624205e-01 5.69889182e-01]\n",
            "  [1.30785507e-01 1.83146153e-03 2.49519847e-01]\n",
            "  [5.92816112e-01 9.38998810e-01 2.43461369e-01]\n",
            "  [4.21350061e-01 1.05897526e-01 7.69849017e-01]\n",
            "  [2.64930928e-01 7.71495888e-02 2.13876063e-01]]\n",
            "\n",
            " [[8.65465601e-01 3.82654479e-01 1.80513693e-01]\n",
            "  [9.36923896e-01 2.89428871e-01 1.50763968e-01]\n",
            "  [8.01040272e-01 9.64290612e-01 9.30849064e-01]\n",
            "  [5.66655157e-01 7.48747409e-01 5.13931672e-01]\n",
            "  [2.43699042e-01 3.49169271e-01 5.55425272e-02]\n",
            "  [6.64343206e-01 4.06842454e-01 4.88041321e-01]\n",
            "  [7.69920378e-01 8.88024943e-01 8.78430083e-01]\n",
            "  [7.53145395e-01 4.94820374e-01 2.28107279e-01]\n",
            "  [1.90507315e-01 9.34908749e-01 8.25564395e-02]\n",
            "  [8.48221488e-01 5.96448900e-01 2.00062110e-01]\n",
            "  [5.57875496e-01 4.62894737e-01 6.30556832e-01]\n",
            "  [5.24027823e-01 5.45672745e-01 6.20665492e-01]\n",
            "  [3.71621174e-01 6.32809016e-01 1.84745099e-01]\n",
            "  [6.88799553e-01 2.81662475e-01 2.97818643e-01]\n",
            "  [4.80715791e-01 5.98551704e-02 6.59217109e-01]\n",
            "  [8.93840093e-01 4.40581980e-01 2.16215291e-01]\n",
            "  [2.05536405e-01 9.10425865e-01 2.54323973e-01]\n",
            "  [6.48326555e-01 6.54378738e-01 8.33164853e-02]\n",
            "  [5.16962570e-02 7.18506196e-01 8.39295195e-01]\n",
            "  [5.28034391e-01 5.83842884e-01 8.49130118e-01]\n",
            "  [3.97568513e-01 9.15903451e-01 8.88751206e-01]\n",
            "  [2.30578810e-01 7.36367832e-01 6.27509199e-01]\n",
            "  [4.87229552e-01 4.76334700e-01 9.88711658e-01]\n",
            "  [5.57521086e-01 9.52705613e-01 6.81060278e-01]\n",
            "  [3.79396535e-02 4.69887906e-01 3.96521999e-01]]\n",
            "\n",
            " [[9.99032023e-01 1.97941297e-01 7.33671330e-01]\n",
            "  [1.90393154e-01 8.06292031e-02 1.94345685e-01]\n",
            "  [1.11484769e-01 8.58934121e-01 2.44532171e-01]\n",
            "  [1.87016366e-01 2.36292585e-01 3.35714540e-01]\n",
            "  [6.95469672e-03 4.11187680e-01 7.46399612e-01]\n",
            "  [7.93515621e-01 7.55737181e-01 9.43010181e-01]\n",
            "  [4.16624083e-01 2.27435121e-01 8.59236303e-01]\n",
            "  [4.12251028e-01 2.31966187e-01 3.02987584e-01]\n",
            "  [3.84698718e-01 3.27354999e-01 6.04581683e-02]\n",
            "  [9.04642741e-01 3.76846850e-01 5.41342784e-01]\n",
            "  [3.09884411e-01 9.56988188e-01 7.87312165e-01]\n",
            "  [9.30221550e-01 5.85614438e-01 9.14363333e-01]\n",
            "  [3.53043669e-01 7.34783227e-01 8.50710060e-01]\n",
            "  [6.47228508e-01 8.43216972e-01 2.91387262e-01]\n",
            "  [3.40786189e-01 1.49080939e-01 6.95137635e-01]\n",
            "  [4.67702560e-01 3.41683323e-01 2.76388321e-01]\n",
            "  [4.85982764e-01 2.14074164e-01 6.17971935e-01]\n",
            "  [7.06096293e-01 7.23573704e-01 9.56246836e-01]\n",
            "  [1.80453980e-01 9.34528818e-01 5.21196144e-02]\n",
            "  [4.46213008e-03 4.98715188e-02 6.07999400e-01]\n",
            "  [9.93785103e-01 8.52864708e-01 5.57422857e-01]\n",
            "  [1.77486784e-01 1.69465757e-01 3.68133032e-01]\n",
            "  [8.56212161e-01 1.25220474e-01 1.13201195e-01]\n",
            "  [3.80256213e-01 2.91288769e-01 3.19002210e-01]\n",
            "  [7.95650116e-01 8.80072131e-01 2.14510270e-01]]\n",
            "\n",
            " [[1.22873908e-01 5.27389118e-01 6.53080379e-01]\n",
            "  [4.61697423e-01 4.71966184e-01 8.57606157e-01]\n",
            "  [7.40454041e-01 1.60348597e-01 8.58929243e-01]\n",
            "  [5.88921533e-01 4.16139373e-01 2.45341928e-02]\n",
            "  [6.36161205e-01 8.73925439e-01 5.69882333e-01]\n",
            "  [2.11415832e-02 3.99679828e-01 9.68783792e-02]\n",
            "  [2.08246937e-01 7.93698661e-01 8.48982202e-01]\n",
            "  [5.51419243e-01 8.78185553e-01 3.40978416e-02]\n",
            "  [8.15567829e-01 7.35034369e-02 4.69771133e-01]\n",
            "  [1.07595265e-01 4.31314995e-01 2.02953903e-02]\n",
            "  [7.61172246e-01 6.83813895e-01 5.01334765e-01]\n",
            "  [4.34943119e-01 9.67459030e-01 8.55964880e-01]\n",
            "  [5.88157519e-01 7.18758287e-01 6.17180147e-01]\n",
            "  [3.39435190e-01 6.96107897e-01 5.79009986e-01]\n",
            "  [2.36603723e-01 1.39045112e-01 6.47869426e-01]\n",
            "  [5.20975702e-01 2.05508580e-01 9.06559543e-01]\n",
            "  [2.32211404e-01 5.65740180e-01 4.59915223e-01]\n",
            "  [9.55118539e-01 3.59462098e-01 1.88457707e-03]\n",
            "  [8.31123838e-01 6.54873467e-01 3.96835900e-01]\n",
            "  [2.86453239e-01 1.41466155e-01 7.41252910e-01]\n",
            "  [6.72422242e-01 3.88853109e-01 2.58917241e-01]\n",
            "  [5.22045787e-01 9.06895347e-02 6.34133399e-01]\n",
            "  [1.06175768e-01 6.44418356e-01 5.78651310e-01]\n",
            "  [2.06542725e-02 9.66401488e-01 7.54030901e-01]\n",
            "  [9.22345686e-01 8.33527166e-01 4.04570889e-01]]\n",
            "\n",
            " [[1.88074491e-01 2.54657566e-01 8.50898675e-01]\n",
            "  [8.00955367e-01 4.79555869e-01 6.60767086e-01]\n",
            "  [2.49548414e-01 4.78944711e-01 7.65750770e-01]\n",
            "  [4.40599951e-01 2.30418306e-01 5.99054494e-02]\n",
            "  [1.26123776e-01 1.45270969e-02 5.04918736e-01]\n",
            "  [3.79097163e-02 6.05840268e-01 5.08958386e-01]\n",
            "  [4.71116884e-01 8.51894586e-01 4.88343376e-01]\n",
            "  [5.39765171e-01 7.05294153e-01 6.60295853e-01]\n",
            "  [7.71785755e-01 2.78023301e-02 8.70591760e-01]\n",
            "  [1.63472141e-01 2.56383503e-01 7.95016979e-01]\n",
            "  [4.41400486e-01 3.72134204e-01 7.06434941e-01]\n",
            "  [5.42526385e-01 5.39998254e-03 2.77231861e-01]\n",
            "  [3.20379620e-01 1.95242483e-01 8.87834482e-01]\n",
            "  [6.19292283e-01 1.55524632e-01 9.27853000e-01]\n",
            "  [1.55511048e-01 1.18975936e-01 1.58585492e-01]\n",
            "  [7.96681084e-01 5.28732187e-01 3.11520780e-01]\n",
            "  [9.62222956e-01 8.32441147e-01 9.93864111e-01]\n",
            "  [3.14932100e-01 7.82867226e-01 4.55229174e-01]\n",
            "  [1.96053431e-01 3.61406947e-01 3.42683073e-01]\n",
            "  [2.66296238e-01 4.27580094e-01 5.69874913e-01]\n",
            "  [6.86279925e-01 2.34359611e-01 7.77820198e-01]\n",
            "  [6.75912932e-01 4.67518545e-01 1.98459691e-01]\n",
            "  [3.28736763e-01 2.40157187e-01 5.18347811e-01]\n",
            "  [7.37576903e-01 3.02029037e-01 1.75494141e-01]\n",
            "  [7.91779445e-01 6.38594000e-01 7.73946225e-01]]\n",
            "\n",
            " [[2.11437062e-01 6.09071807e-01 3.33706040e-02]\n",
            "  [3.88697141e-01 7.64526644e-01 5.97107681e-01]\n",
            "  [3.26793595e-01 6.61026743e-01 2.06193270e-01]\n",
            "  [8.08426565e-01 6.96566673e-01 7.36161371e-01]\n",
            "  [3.93240039e-01 1.99814854e-01 3.20420711e-01]\n",
            "  [2.22070721e-01 8.66747601e-01 4.86063806e-01]\n",
            "  [8.10795643e-01 9.86695755e-01 1.10009083e-01]\n",
            "  [8.53434696e-01 3.70192064e-01 8.90721321e-01]\n",
            "  [2.98818214e-01 2.49932412e-01 3.48786539e-01]\n",
            "  [7.33779654e-01 2.91781629e-01 8.98025434e-01]\n",
            "  [5.86566491e-01 1.20699253e-01 2.54247666e-01]\n",
            "  [6.82515796e-01 6.01204863e-01 7.13749047e-01]\n",
            "  [5.01802372e-01 9.92774142e-01 6.42577727e-01]\n",
            "  [4.22801154e-01 5.13715637e-03 5.88711051e-01]\n",
            "  [4.53482512e-01 3.08853835e-01 3.62225696e-01]\n",
            "  [2.39425869e-01 8.93763128e-01 8.45112507e-01]\n",
            "  [3.36792538e-01 7.23399575e-02 6.16862396e-01]\n",
            "  [2.42261705e-01 5.87776144e-01 5.41033716e-01]\n",
            "  [8.20777325e-02 7.61937085e-01 2.39520986e-01]\n",
            "  [2.44096775e-01 7.77564666e-01 5.32932733e-01]\n",
            "  [9.74195898e-01 3.90209889e-01 8.53908600e-01]\n",
            "  [9.82857517e-01 5.64571839e-01 9.43795861e-01]\n",
            "  [4.73772141e-01 7.04095807e-01 8.37646461e-02]\n",
            "  [4.47117749e-01 7.02235118e-01 8.79747758e-01]\n",
            "  [8.16062182e-01 5.36255639e-01 4.90674706e-01]]\n",
            "\n",
            " [[7.34116619e-01 3.54654808e-01 9.02925848e-01]\n",
            "  [5.02148311e-01 1.51898048e-01 3.28171552e-01]\n",
            "  [8.72104272e-01 8.26570940e-01 5.70296811e-01]\n",
            "  [3.64181809e-01 8.09475340e-01 5.06831445e-01]\n",
            "  [2.89486032e-01 8.25947353e-01 8.64883516e-01]\n",
            "  [4.05732953e-01 2.65570463e-01 5.01142191e-01]\n",
            "  [1.78228512e-02 6.77572697e-01 1.18281706e-01]\n",
            "  [3.99714021e-01 6.75401007e-01 5.43703369e-01]\n",
            "  [1.70229993e-01 3.52892181e-01 6.84198791e-01]\n",
            "  [3.03755968e-01 9.65278117e-01 1.10397887e-01]\n",
            "  [1.41626651e-01 2.83650495e-01 4.31699052e-01]\n",
            "  [7.08845565e-01 3.75462765e-01 9.33861717e-01]\n",
            "  [1.65068491e-01 4.78686072e-02 5.31974214e-01]\n",
            "  [9.69607538e-01 4.58201986e-02 7.10379833e-01]\n",
            "  [6.52216369e-01 6.12853205e-01 5.21721848e-01]\n",
            "  [6.36701502e-01 3.44843561e-01 5.30450996e-01]\n",
            "  [3.75416930e-01 9.38332588e-01 9.83278607e-01]\n",
            "  [7.35776016e-01 5.47488114e-01 7.58548316e-01]\n",
            "  [9.17821886e-01 8.11840252e-01 2.27652158e-01]\n",
            "  [2.06955274e-01 4.08664595e-01 6.52787256e-01]\n",
            "  [2.20857431e-01 9.55304367e-01 2.94739799e-02]\n",
            "  [5.43487982e-01 1.04961334e-01 1.47482412e-01]\n",
            "  [4.47785783e-01 8.21621174e-01 6.70937164e-01]\n",
            "  [2.54446915e-01 2.22476785e-01 5.52111989e-01]\n",
            "  [4.19437258e-01 1.94318049e-01 3.29323174e-01]]\n",
            "\n",
            " [[4.88974913e-01 2.46683797e-01 9.79162833e-02]\n",
            "  [8.67326748e-01 9.63194386e-01 1.83001912e-01]\n",
            "  [1.84630882e-01 7.04814584e-01 2.80028561e-01]\n",
            "  [9.54379898e-01 5.64065574e-01 4.88944552e-01]\n",
            "  [9.20590373e-01 3.73982923e-01 1.92521879e-01]\n",
            "  [4.82836618e-01 7.81419554e-01 5.40468515e-01]\n",
            "  [5.08959773e-01 5.66558182e-01 7.00734276e-01]\n",
            "  [6.31512622e-01 4.28079797e-01 9.97564723e-01]\n",
            "  [8.64497381e-01 3.29360426e-01 6.41143838e-01]\n",
            "  [4.28714494e-01 3.85470646e-02 2.20503150e-01]\n",
            "  [3.51917703e-01 4.11025982e-01 4.12209986e-01]\n",
            "  [4.53793463e-01 7.31817547e-01 2.35151600e-01]\n",
            "  [4.90379221e-01 7.29302163e-01 9.24305387e-02]\n",
            "  [3.26936327e-01 5.72737234e-02 1.00853688e-01]\n",
            "  [4.69932120e-01 7.96510483e-01 6.12627964e-01]\n",
            "  [6.21091641e-01 2.19230920e-01 7.69248041e-02]\n",
            "  [6.55291546e-01 6.53067160e-01 8.13382605e-01]\n",
            "  [7.12712439e-02 1.92002109e-01 9.24413022e-01]\n",
            "  [6.69354012e-01 3.49251605e-01 5.03281671e-01]\n",
            "  [9.70832638e-01 9.43096947e-01 8.42546037e-01]\n",
            "  [8.72390400e-01 9.16758589e-01 3.15537394e-02]\n",
            "  [6.42871959e-01 2.41444135e-01 7.11911287e-01]\n",
            "  [1.54838896e-01 5.75272962e-01 3.25083960e-01]\n",
            "  [5.20528279e-01 7.29861079e-01 4.31095677e-02]\n",
            "  [3.42757699e-01 9.01471057e-01 3.11798410e-02]]\n",
            "\n",
            " [[1.16646692e-01 7.54830571e-01 9.43537570e-01]\n",
            "  [3.93819785e-01 8.85512795e-01 3.90073118e-01]\n",
            "  [8.83307535e-02 2.35996854e-01 5.76438458e-01]\n",
            "  [7.72982134e-01 9.70409484e-01 7.74415985e-01]\n",
            "  [1.25434213e-01 9.53753896e-02 1.26526002e-01]\n",
            "  [5.27009010e-02 9.35012728e-01 3.89398728e-01]\n",
            "  [7.64223141e-01 6.91420079e-01 1.56736935e-01]\n",
            "  [4.21360063e-01 3.18553166e-01 4.49852214e-01]\n",
            "  [7.50829642e-01 3.54955946e-01 8.15614341e-01]\n",
            "  [8.47428916e-01 5.32851831e-01 4.92950898e-01]\n",
            "  [5.23358228e-01 4.16043376e-01 6.53720046e-02]\n",
            "  [9.57768090e-01 2.30767352e-01 8.13191268e-01]\n",
            "  [7.88898621e-01 4.99310337e-01 2.98205775e-02]\n",
            "  [9.80242333e-01 7.53072947e-01 5.11088651e-01]\n",
            "  [4.93473941e-01 7.75905941e-01 1.25355007e-01]\n",
            "  [4.26595339e-01 4.82336150e-03 9.28568375e-01]\n",
            "  [9.01027179e-01 8.27279562e-01 9.09106699e-01]\n",
            "  [6.64574991e-01 2.90161640e-01 6.32309108e-01]\n",
            "  [2.58672470e-01 1.15561884e-01 4.53187768e-02]\n",
            "  [4.49291841e-01 2.41214007e-01 7.15479658e-01]\n",
            "  [5.89651462e-01 3.21437606e-01 8.73135313e-01]\n",
            "  [5.32884918e-01 4.86375115e-01 3.11978471e-01]\n",
            "  [7.78405762e-01 1.94014084e-01 3.89977878e-01]\n",
            "  [7.05437635e-02 2.83235752e-01 6.28943224e-02]\n",
            "  [2.34651645e-01 9.02542452e-01 2.14028697e-01]]\n",
            "\n",
            " [[4.02616062e-01 4.42901089e-01 3.12038197e-01]\n",
            "  [6.81531423e-01 9.48635151e-01 8.83204267e-01]\n",
            "  [6.88002495e-01 4.88382374e-01 9.52029525e-01]\n",
            "  [4.59767309e-01 2.11681269e-01 4.16532929e-01]\n",
            "  [5.84674641e-01 7.18185108e-01 8.10528091e-01]\n",
            "  [5.33101125e-01 9.04551542e-01 4.35612782e-01]\n",
            "  [5.15857266e-01 8.05053050e-02 4.28759839e-01]\n",
            "  [7.49182942e-01 1.17023017e-01 6.72196752e-01]\n",
            "  [4.03692240e-01 3.51495134e-01 5.06977226e-01]\n",
            "  [7.91838914e-01 6.59726606e-01 5.91334652e-01]\n",
            "  [2.86362210e-01 3.93656258e-01 8.44098396e-01]\n",
            "  [5.26628172e-01 3.24624646e-01 4.27076716e-01]\n",
            "  [3.68414568e-02 7.01747898e-01 3.09866961e-01]\n",
            "  [3.75404119e-01 6.41911762e-01 7.58282471e-01]\n",
            "  [5.31780977e-01 4.18531339e-01 7.36503405e-01]\n",
            "  [9.55380816e-01 7.67542222e-01 1.46285340e-01]\n",
            "  [9.48882215e-01 9.14444664e-01 7.97123106e-01]\n",
            "  [7.19279527e-01 2.57293690e-01 1.87489986e-01]\n",
            "  [6.02570669e-01 7.02394916e-01 9.43303200e-01]\n",
            "  [9.84406015e-01 9.08148167e-02 5.61178769e-01]\n",
            "  [2.73437869e-03 8.28743693e-01 3.76312540e-01]\n",
            "  [1.82290254e-01 8.61233076e-01 9.49512894e-01]\n",
            "  [1.90792201e-01 3.68662825e-01 9.22725703e-01]\n",
            "  [6.38135500e-01 9.39217923e-01 4.82753206e-01]\n",
            "  [1.16998401e-02 8.19749037e-01 5.87813962e-01]]\n",
            "\n",
            " [[2.54498211e-01 7.02737249e-01 6.35635341e-01]\n",
            "  [9.29436073e-01 9.00720778e-01 1.54189503e-01]\n",
            "  [7.23047347e-02 2.72673918e-01 7.63087682e-01]\n",
            "  [4.15498895e-01 4.01954747e-01 1.02919300e-01]\n",
            "  [9.96627909e-01 6.60655426e-01 5.47065617e-01]\n",
            "  [8.47749963e-01 6.63747270e-01 4.64880104e-01]\n",
            "  [7.89085963e-03 7.98811442e-01 7.23176530e-01]\n",
            "  [4.07036746e-02 3.83317378e-01 5.65426011e-01]\n",
            "  [7.11363588e-01 7.10472817e-01 6.43743879e-01]\n",
            "  [8.76471780e-01 9.68561147e-01 6.63272194e-01]\n",
            "  [1.85365996e-01 7.76275337e-01 1.31428094e-01]\n",
            "  [8.34679881e-01 7.50975560e-01 7.07390492e-01]\n",
            "  [7.42434832e-01 3.69591806e-01 1.41564693e-02]\n",
            "  [6.76871615e-01 5.19070057e-01 3.72512865e-01]\n",
            "  [5.16912616e-01 7.27069155e-01 4.86393540e-02]\n",
            "  [7.58682035e-01 6.57929049e-01 4.33366983e-01]\n",
            "  [3.54671636e-01 7.36695240e-01 9.74243880e-01]\n",
            "  [6.38226258e-01 8.99151016e-02 9.95963756e-01]\n",
            "  [5.09262755e-01 5.65626236e-01 7.32297008e-01]\n",
            "  [6.00709290e-01 4.27503104e-01 8.49685702e-01]\n",
            "  [8.10898185e-01 4.92113073e-01 4.91674821e-01]\n",
            "  [8.34074931e-01 3.58264116e-01 8.48116898e-01]\n",
            "  [4.31834628e-01 6.55458088e-01 6.51214069e-01]\n",
            "  [8.93811859e-01 6.85637165e-01 3.36017264e-01]\n",
            "  [3.27221507e-01 9.85387561e-01 6.19694886e-02]]\n",
            "\n",
            " [[2.91104247e-01 1.10850787e-01 3.74858896e-01]\n",
            "  [9.80602602e-01 8.55252025e-01 3.73343186e-01]\n",
            "  [9.96905773e-01 2.58990673e-01 4.20053428e-01]\n",
            "  [1.74511048e-01 1.03732008e-01 9.83368769e-01]\n",
            "  [2.59713224e-01 9.49241298e-01 5.80071975e-01]\n",
            "  [7.01734501e-01 1.08295948e-01 2.17575877e-01]\n",
            "  [4.49305576e-01 9.47332821e-01 6.68150918e-01]\n",
            "  [7.88051898e-01 5.85406370e-02 2.00961341e-01]\n",
            "  [9.81247148e-01 9.71709468e-01 5.58890089e-01]\n",
            "  [9.66844575e-01 7.39609657e-01 3.67505116e-01]\n",
            "  [4.40196259e-01 8.83826491e-03 5.31953419e-01]\n",
            "  [6.46623675e-01 5.98509246e-02 1.43470351e-01]\n",
            "  [2.00895819e-02 1.70032351e-01 6.79331996e-01]\n",
            "  [3.78354288e-01 9.41218722e-01 1.72638935e-01]\n",
            "  [3.54978053e-01 8.60744333e-01 8.54038189e-01]\n",
            "  [4.79781132e-01 7.84564682e-01 7.02559187e-01]\n",
            "  [6.79560665e-02 3.30532322e-02 7.74592892e-01]\n",
            "  [4.34900261e-01 8.90707451e-01 7.48937339e-02]\n",
            "  [7.57706075e-01 7.35436742e-01 2.84896220e-01]\n",
            "  [1.87867263e-01 3.04693944e-01 2.25812953e-01]\n",
            "  [3.86696291e-01 6.84367476e-01 5.87177257e-02]\n",
            "  [6.48924552e-01 4.05231120e-01 4.64432380e-01]\n",
            "  [5.96328476e-01 6.26427475e-01 5.82137665e-01]\n",
            "  [2.80692432e-01 7.44582049e-01 7.24982931e-01]\n",
            "  [1.95106079e-01 3.71788030e-01 4.06512423e-01]]\n",
            "\n",
            " [[3.90066760e-01 7.66612182e-01 4.21507898e-01]\n",
            "  [4.30917594e-01 5.85893515e-02 5.49725558e-01]\n",
            "  [8.47150369e-01 9.45665519e-01 3.83327111e-01]\n",
            "  [5.91288744e-01 7.92516347e-01 1.91053412e-01]\n",
            "  [4.85507178e-01 2.38576038e-01 4.32129729e-01]\n",
            "  [7.12644121e-01 4.30898436e-01 9.32215823e-02]\n",
            "  [7.18767530e-01 3.02412347e-01 8.64580812e-01]\n",
            "  [5.67537598e-01 7.09217044e-01 3.69880538e-01]\n",
            "  [3.86998185e-01 5.77930463e-02 9.48394285e-01]\n",
            "  [7.45492889e-01 4.16304284e-01 2.75311860e-01]\n",
            "  [1.01438930e-01 8.35592546e-01 3.18214075e-01]\n",
            "  [9.49539887e-01 9.40123975e-01 5.95191383e-01]\n",
            "  [4.17195837e-01 8.67053952e-01 2.21036551e-02]\n",
            "  [9.95368994e-01 1.59870584e-01 8.20520882e-01]\n",
            "  [1.73096407e-01 6.94688968e-01 6.18411866e-01]\n",
            "  [9.53632027e-01 7.04689670e-01 1.46944308e-01]\n",
            "  [4.97995588e-02 6.20568433e-01 2.46701890e-02]\n",
            "  [7.17525036e-01 9.85386539e-02 1.99427654e-01]\n",
            "  [4.98658002e-01 5.25762487e-02 7.56854903e-01]\n",
            "  [6.63847601e-01 5.31074515e-01 2.71416932e-01]\n",
            "  [9.61784254e-01 6.68869092e-01 8.93064972e-01]\n",
            "  [8.18815521e-03 2.04184507e-02 2.80174549e-01]\n",
            "  [8.58720338e-01 4.43758032e-02 9.33932654e-01]\n",
            "  [2.74936705e-01 1.06545250e-01 6.36356311e-01]\n",
            "  [2.91355518e-01 3.60094012e-02 7.33318054e-01]]]\n"
          ],
          "name": "stdout"
        }
      ]
    },
    {
      "cell_type": "markdown",
      "metadata": {
        "id": "ktaWewIzLVls",
        "colab_type": "text"
      },
      "source": [
        "**166, Viết chương trình NumPy để kết hợp phần tử cuối cùng với phần tử đầu tiên của hai ndarray đã cho với các hình dạng khác nhau.**\n",
        "\n",
        "**Write a NumPy program to combine last element with first element of two given ndarray with different shapes.**\n",
        "\n",
        "![alt text](https://www.w3resource.com/w3r_images/python-numpy-image-exercise-166.svg)"
      ]
    },
    {
      "cell_type": "code",
      "metadata": {
        "id": "Av8C_SgQLAqq",
        "colab_type": "code",
        "colab": {
          "base_uri": "https://localhost:8080/",
          "height": 119
        },
        "outputId": "2042a691-4b70-4661-87bc-7bdee2d92f2e"
      },
      "source": [
        "array1 = ['PHP','JS','C++']\n",
        "array2 = ['Python','C#', 'NumPy']    \n",
        "print(\"Original arrays:\")          \n",
        "print(array1)\n",
        "print(array2)     \n",
        "result = np.r_[array1[:1], [array1[-1] + array2[0]], array2[1:]]\n",
        "print(\"\\nAfter Combining: \")\n",
        "print(result)"
      ],
      "execution_count": 77,
      "outputs": [
        {
          "output_type": "stream",
          "text": [
            "Original arrays:\n",
            "['PHP', 'JS', 'C++']\n",
            "['Python', 'C#', 'NumPy']\n",
            "\n",
            "After Combining: \n",
            "['PHP' 'C++Python' 'C#' 'NumPy']\n"
          ],
          "name": "stdout"
        }
      ]
    },
    {
      "cell_type": "markdown",
      "metadata": {
        "id": "T1iS1ee-L94L",
        "colab_type": "text"
      },
      "source": [
        "**167, Viết chương trình NumPy để chuyển đổi từ điển Python thành Numpy ndarray.**\n",
        "\n",
        "**Write a NumPy program to convert a Python dictionary to a Numpy ndarray.**\n",
        "\n",
        "![alt text](https://www.w3resource.com/w3r_images/python-numpy-image-exercise-167.svg)"
      ]
    },
    {
      "cell_type": "code",
      "metadata": {
        "id": "3RseVeAMLvfa",
        "colab_type": "code",
        "colab": {
          "base_uri": "https://localhost:8080/",
          "height": 224
        },
        "outputId": "53290ffd-16de-4133-828a-5d09d7647e9a"
      },
      "source": [
        "from ast import literal_eval\n",
        "udict = \"\"\"{\"column0\":{\"a\":1,\"b\":0.0,\"c\":0.0,\"d\":2.0},\n",
        "   \"column1\":{\"a\":3.0,\"b\":1,\"c\":0.0,\"d\":-1.0},\n",
        "   \"column2\":{\"a\":4,\"b\":1,\"c\":5.0,\"d\":-1.0},\n",
        "   \"column3\":{\"a\":3.0,\"b\":-1.0,\"c\":-1.0,\"d\":-1.0}\n",
        "  }\"\"\"\n",
        "t = literal_eval(udict)\n",
        "print(\"\\nOriginal dictionary: \")\n",
        "print(t)\n",
        "print(\"Type: \", type(t))\n",
        "result_nparra = np.array([[v[j] for j in ['a', 'b', 'c', 'd']] for k, v in t.items()])\n",
        "print(\"\\nndarry: \")\n",
        "print(result_nparra)\n",
        "print(\"Type: \", type(result_nparra))"
      ],
      "execution_count": 78,
      "outputs": [
        {
          "output_type": "stream",
          "text": [
            "\n",
            "Original dictionary: \n",
            "{'column0': {'a': 1, 'b': 0.0, 'c': 0.0, 'd': 2.0}, 'column1': {'a': 3.0, 'b': 1, 'c': 0.0, 'd': -1.0}, 'column2': {'a': 4, 'b': 1, 'c': 5.0, 'd': -1.0}, 'column3': {'a': 3.0, 'b': -1.0, 'c': -1.0, 'd': -1.0}}\n",
            "Type:  <class 'dict'>\n",
            "\n",
            "ndarry: \n",
            "[[ 1.  0.  0.  2.]\n",
            " [ 3.  1.  0. -1.]\n",
            " [ 4.  1.  5. -1.]\n",
            " [ 3. -1. -1. -1.]]\n",
            "Type:  <class 'numpy.ndarray'>\n"
          ],
          "name": "stdout"
        }
      ]
    },
    {
      "cell_type": "markdown",
      "metadata": {
        "id": "fKfpZ2RwMki4",
        "colab_type": "text"
      },
      "source": [
        "**168, Viết chương trình NumPy để chuyển đổi khung dữ liệu Pandas thành mảng Numpy với các tiêu đề.**\n",
        "\n",
        "**Write a NumPy program to convert Pandas dataframe to Numpy array with headers.**\n",
        "\n",
        "![alt text](https://www.w3resource.com/w3r_images/python-numpy-image-exercise-168.svg)"
      ]
    },
    {
      "cell_type": "code",
      "metadata": {
        "id": "NZUWiooDMfgC",
        "colab_type": "code",
        "colab": {
          "base_uri": "https://localhost:8080/",
          "height": 527
        },
        "outputId": "66fc282a-e51b-44cc-a6af-547d9276d83f"
      },
      "source": [
        "import pandas as pd\n",
        "np_array = np.random.rand(12,3)\n",
        "print(\"Original Numpy array:\")\n",
        "print(np_array)\n",
        "print(\"Type: \",type(np_array))\n",
        "df = pd.DataFrame(np.random.rand(12, 3), columns=['A', 'B', 'C'])\n",
        "print(\"\\nPanda's DataFram: \")\n",
        "print(df)\n",
        "print(\"Type: \", type(df))"
      ],
      "execution_count": 79,
      "outputs": [
        {
          "output_type": "stream",
          "text": [
            "Original Numpy array:\n",
            "[[0.72590864 0.16854097 0.21293038]\n",
            " [0.6997112  0.74286287 0.52445091]\n",
            " [0.79929409 0.18337634 0.97583123]\n",
            " [0.31348097 0.36216669 0.11989944]\n",
            " [0.47185633 0.53400829 0.0585313 ]\n",
            " [0.59915329 0.75522929 0.16101049]\n",
            " [0.03856465 0.93550169 0.90655895]\n",
            " [0.99892898 0.56955741 0.22562273]\n",
            " [0.91296227 0.54339461 0.32148735]\n",
            " [0.60527201 0.04384237 0.20641276]\n",
            " [0.43226661 0.42715658 0.31042459]\n",
            " [0.47183202 0.87255803 0.3266513 ]]\n",
            "Type:  <class 'numpy.ndarray'>\n",
            "\n",
            "Panda's DataFram: \n",
            "           A         B         C\n",
            "0   0.797900  0.921856  0.345801\n",
            "1   0.601049  0.667633  0.248779\n",
            "2   0.870861  0.010643  0.068326\n",
            "3   0.816452  0.907662  0.582828\n",
            "4   0.187673  0.803427  0.028945\n",
            "5   0.418792  0.898897  0.497476\n",
            "6   0.338774  0.008606  0.752634\n",
            "7   0.910871  0.859075  0.057480\n",
            "8   0.523114  0.070291  0.511484\n",
            "9   0.890249  0.609764  0.375479\n",
            "10  0.888279  0.717142  0.446548\n",
            "11  0.865896  0.365823  0.750317\n",
            "Type:  <class 'pandas.core.frame.DataFrame'>\n"
          ],
          "name": "stdout"
        }
      ]
    },
    {
      "cell_type": "markdown",
      "metadata": {
        "id": "5wUo5MIdNM9I",
        "colab_type": "text"
      },
      "source": [
        "**169, Viết chương trình NumPy để có được tất cả các đường chéo 2D của một mảng numpy 3D.**\n",
        "\n",
        "**Write a NumPy program to get all 2D diagonals of a 3D numpy array.**\n",
        "\n",
        "![alt text](https://www.w3resource.com/w3r_images/python-numpy-image-exercise-169.svg)"
      ]
    },
    {
      "cell_type": "code",
      "metadata": {
        "id": "pwi1I5U2NBZB",
        "colab_type": "code",
        "colab": {
          "base_uri": "https://localhost:8080/",
          "height": 391
        },
        "outputId": "2b28c538-8691-42eb-a1a4-803181d78554"
      },
      "source": [
        "np_array = np.arange(3*4*5).reshape(3,4,5)\n",
        "print(\"Original Numpy array:\")\n",
        "print(np_array)\n",
        "print(\"Type: \",type(np_array))\n",
        "result = np.diagonal(np_array, axis1=1, axis2=2)\n",
        "print(\"\\n2D diagonals: \")\n",
        "print(result)\n",
        "print(\"Type: \", type(result))"
      ],
      "execution_count": 80,
      "outputs": [
        {
          "output_type": "stream",
          "text": [
            "Original Numpy array:\n",
            "[[[ 0  1  2  3  4]\n",
            "  [ 5  6  7  8  9]\n",
            "  [10 11 12 13 14]\n",
            "  [15 16 17 18 19]]\n",
            "\n",
            " [[20 21 22 23 24]\n",
            "  [25 26 27 28 29]\n",
            "  [30 31 32 33 34]\n",
            "  [35 36 37 38 39]]\n",
            "\n",
            " [[40 41 42 43 44]\n",
            "  [45 46 47 48 49]\n",
            "  [50 51 52 53 54]\n",
            "  [55 56 57 58 59]]]\n",
            "Type:  <class 'numpy.ndarray'>\n",
            "\n",
            "2D diagonals: \n",
            "[[ 0  6 12 18]\n",
            " [20 26 32 38]\n",
            " [40 46 52 58]]\n",
            "Type:  <class 'numpy.ndarray'>\n"
          ],
          "name": "stdout"
        }
      ]
    },
    {
      "cell_type": "markdown",
      "metadata": {
        "id": "bwfgf94tOUsR",
        "colab_type": "text"
      },
      "source": [
        "**170, Tạo một mảng 2 chiều có kích thước 2 x 3, bao gồm các phần tử nguyên 4 byte. Viết chương trình NumPy để tìm số lần xuất hiện của một chuỗi trong mảng đã nói.**\n",
        "\n",
        "**Create a 2-dimensional array of size 2 x 3, composed of 4-byte integer elements. Write a NumPy program to find the number of occurrences of a sequence in the said array.**\n",
        "\n",
        "![alt text](https://www.w3resource.com/w3r_images/python-numpy-image-exercise-170.svg)"
      ]
    },
    {
      "cell_type": "code",
      "metadata": {
        "id": "mxNWMkuXNmUx",
        "colab_type": "code",
        "colab": {
          "base_uri": "https://localhost:8080/",
          "height": 119
        },
        "outputId": "ef0cebea-d1d7-4845-a6ee-adb20df9f36f"
      },
      "source": [
        "np_array = np.array([[1, 2, 3], [2, 1, 2]], np.int32)\n",
        "print(\"Original Numpy array:\")\n",
        "print(np_array)\n",
        "print(\"Type: \",type(np_array))\n",
        "print(\"Sequence: 1,2\",)\n",
        "result = repr(np_array).count(\"1, 2\")\n",
        "print(\"Number of occurrences of the said sequence: \", result)"
      ],
      "execution_count": 81,
      "outputs": [
        {
          "output_type": "stream",
          "text": [
            "Original Numpy array:\n",
            "[[1 2 3]\n",
            " [2 1 2]]\n",
            "Type:  <class 'numpy.ndarray'>\n",
            "Sequence: 1,2\n",
            "Number of occurrences of the said sequence:  2\n"
          ],
          "name": "stdout"
        }
      ]
    },
    {
      "cell_type": "markdown",
      "metadata": {
        "id": "atV9z6LfO0_2",
        "colab_type": "text"
      },
      "source": [
        "**171, Viết chương trình NumPy để tìm kiếm chỉ mục của một mảng nhất định trong một mảng đã cho.**\n",
        "\n",
        "**Write a NumPy program to search the index of a given array in another given array.**\n",
        "\n",
        "![alt text](https://www.w3resource.com/w3r_images/python-numpy-image-exercise-171.svg)"
      ]
    },
    {
      "cell_type": "code",
      "metadata": {
        "id": "sXW0EOWbOuzG",
        "colab_type": "code",
        "colab": {
          "base_uri": "https://localhost:8080/",
          "height": 170
        },
        "outputId": "425c8d82-27a6-4c24-95c3-5fab82b38066"
      },
      "source": [
        "np_array = np.array([[1,2,3], [4,5,6] , [7,8,9], [10, 11, 12]])\n",
        "test_array = np.array([4,5,6])\n",
        "print(\"Original Numpy array:\")\n",
        "print(np_array)\n",
        "print(\"Searched array:\")\n",
        "print(test_array)\n",
        "print(\"Index of the searched array in the original array: \")\n",
        "print(np.where((np_array == test_array).all(1))[0])"
      ],
      "execution_count": 83,
      "outputs": [
        {
          "output_type": "stream",
          "text": [
            "Original Numpy array:\n",
            "[[ 1  2  3]\n",
            " [ 4  5  6]\n",
            " [ 7  8  9]\n",
            " [10 11 12]]\n",
            "Searched array:\n",
            "[4 5 6]\n",
            "Index of the searched array in the original array: \n",
            "[1]\n"
          ],
          "name": "stdout"
        }
      ]
    },
    {
      "cell_type": "markdown",
      "metadata": {
        "id": "pHshyvYuPd44",
        "colab_type": "text"
      },
      "source": [
        "**172, Viết chương trình NumPy để tìm và lưu trữ các hàng duy nhất khác không trong một mảng sau khi so sánh từng hàng với các hàng khác trong một ma trận đã cho.**\n",
        "\n",
        "**Write a NumPy program to find and store non-zero unique rows in an array after comparing each row with other row in a given matrix.**\n",
        "\n",
        "![alt text](https://www.w3resource.com/w3r_images/python-numpy-image-exercise-172.svg)"
      ]
    },
    {
      "cell_type": "code",
      "metadata": {
        "id": "mUfXJ5CNPHjh",
        "colab_type": "code",
        "colab": {
          "base_uri": "https://localhost:8080/",
          "height": 221
        },
        "outputId": "18af038c-592a-414d-d370-821151882081"
      },
      "source": [
        "arra = np.array([[ 1,  1,  0],\n",
        "                 [ 0,  0,  0],\n",
        "                 [ 0,  2,  3],\n",
        "                 [ 0,  0,  0],\n",
        "                 [ 0, -1,  1],\n",
        "                 [ 0,  0,  0]])\n",
        "\n",
        "print(\"Original array:\")\n",
        "print(arra)\n",
        "temp ={(0,0,0)}\n",
        "result = []\n",
        "for idx, row in enumerate(map(tuple, arra)):\n",
        "  if row not in temp:\n",
        "    result.append(idx)\n",
        "print(\"\\nNon-zero unique rows: \")\n",
        "print(arra[result])\n"
      ],
      "execution_count": 84,
      "outputs": [
        {
          "output_type": "stream",
          "text": [
            "Original array:\n",
            "[[ 1  1  0]\n",
            " [ 0  0  0]\n",
            " [ 0  2  3]\n",
            " [ 0  0  0]\n",
            " [ 0 -1  1]\n",
            " [ 0  0  0]]\n",
            "\n",
            "Non-zero unique rows: \n",
            "[[ 1  1  0]\n",
            " [ 0  2  3]\n",
            " [ 0 -1  1]]\n"
          ],
          "name": "stdout"
        }
      ]
    },
    {
      "cell_type": "markdown",
      "metadata": {
        "id": "9qxrHdtTQDN-",
        "colab_type": "text"
      },
      "source": [
        "**173, Viết chương trình NumPy để đặt 0 đến các tam giác dưới dọc theo hai trục cuối cùng của một chiều ba chiều của một mảng nhất định.**\n",
        "\n",
        "**Write a NumPy program to set zero to lower triangles along the last two axes of a three-dimensional of a given array.**\n",
        "\n",
        "![alt text](https://www.w3resource.com/w3r_images/python-numpy-image-exercise-173.svg)"
      ]
    },
    {
      "cell_type": "code",
      "metadata": {
        "id": "w1-xSXjvP7hI",
        "colab_type": "code",
        "colab": {
          "base_uri": "https://localhost:8080/",
          "height": 340
        },
        "outputId": "2ce4158f-f860-4676-b28b-69314e066f66"
      },
      "source": [
        "arra=np.ones((1,8,8))\n",
        "print(\"Original array:\")\n",
        "print(arra)\n",
        "result = np.triu(arra, k=1)\n",
        "print(\"\\nResult: \")\n",
        "print(result)"
      ],
      "execution_count": 85,
      "outputs": [
        {
          "output_type": "stream",
          "text": [
            "Original array:\n",
            "[[[1. 1. 1. 1. 1. 1. 1. 1.]\n",
            "  [1. 1. 1. 1. 1. 1. 1. 1.]\n",
            "  [1. 1. 1. 1. 1. 1. 1. 1.]\n",
            "  [1. 1. 1. 1. 1. 1. 1. 1.]\n",
            "  [1. 1. 1. 1. 1. 1. 1. 1.]\n",
            "  [1. 1. 1. 1. 1. 1. 1. 1.]\n",
            "  [1. 1. 1. 1. 1. 1. 1. 1.]\n",
            "  [1. 1. 1. 1. 1. 1. 1. 1.]]]\n",
            "\n",
            "Result: \n",
            "[[[0. 1. 1. 1. 1. 1. 1. 1.]\n",
            "  [0. 0. 1. 1. 1. 1. 1. 1.]\n",
            "  [0. 0. 0. 1. 1. 1. 1. 1.]\n",
            "  [0. 0. 0. 0. 1. 1. 1. 1.]\n",
            "  [0. 0. 0. 0. 0. 1. 1. 1.]\n",
            "  [0. 0. 0. 0. 0. 0. 1. 1.]\n",
            "  [0. 0. 0. 0. 0. 0. 0. 1.]\n",
            "  [0. 0. 0. 0. 0. 0. 0. 0.]]]\n"
          ],
          "name": "stdout"
        }
      ]
    },
    {
      "cell_type": "markdown",
      "metadata": {
        "id": "-DLQGF6wQYmv",
        "colab_type": "text"
      },
      "source": [
        "**174, Viết chương trình NumPy để lấy số lượng vật phẩm, kích thước mảng, số lượng kích thước mảng và kích thước bộ nhớ của từng thành phần của một mảng nhất định.**\n",
        "\n",
        "**Write a NumPy program to get the number of items, array dimensions, number of array dimensions and the memory size of each element of a given array.**"
      ]
    },
    {
      "cell_type": "code",
      "metadata": {
        "id": "e6nVxn_9QQ9A",
        "colab_type": "code",
        "colab": {
          "base_uri": "https://localhost:8080/",
          "height": 289
        },
        "outputId": "beb1cb8b-94c4-4a6b-b411-073fb3847f7d"
      },
      "source": [
        "array_nums = np.array([[1, 2, 3, 4], [5, 6, 7, 8], [9, 10, 11, 12]])\n",
        "print(\"Original array:\")\n",
        "print(array_nums)\n",
        "print(\"\\nNumber of items of the said array:\")\n",
        "print(array_nums.size) \n",
        "print(\"\\nArray dimensions:\")\n",
        "print(array_nums.shape)\n",
        "print(\"\\nNumber of array dimensions:\")\n",
        "print(array_nums.ndim)\n",
        "print(\"\\nMemory size of each element of the said array\")\n",
        "print(array_nums.itemsize)"
      ],
      "execution_count": 86,
      "outputs": [
        {
          "output_type": "stream",
          "text": [
            "Original array:\n",
            "[[ 1  2  3  4]\n",
            " [ 5  6  7  8]\n",
            " [ 9 10 11 12]]\n",
            "\n",
            "Number of items of the said array:\n",
            "12\n",
            "\n",
            "Array dimensions:\n",
            "(3, 4)\n",
            "\n",
            "Number of array dimensions:\n",
            "2\n",
            "\n",
            "Memory size of each element of the said array\n",
            "8\n"
          ],
          "name": "stdout"
        }
      ]
    },
    {
      "cell_type": "markdown",
      "metadata": {
        "id": "yWwL3iBIQutR",
        "colab_type": "text"
      },
      "source": [
        "**175, Viết chương trình NumPy để tạo mảng 1-D gồm 20 phần tử. Bây giờ tạo một mảng hình dạng mới (5, 4) từ mảng đã nói, sau đó khôi phục mảng được định hình lại thành mảng 1-D.**\n",
        "\n",
        "**Write a NumPy program to create an 1-D array of 20 elements. Now create a new array of shape (5, 4) from the said array, then restores the reshaped array into a 1-D array.**\n",
        "\n"
      ]
    },
    {
      "cell_type": "code",
      "metadata": {
        "id": "TvZDqcpxQj2N",
        "colab_type": "code",
        "colab": {
          "base_uri": "https://localhost:8080/",
          "height": 221
        },
        "outputId": "8f03deb5-4771-490e-a7ca-3c64496ac6e1"
      },
      "source": [
        "array_nums = np.arange(0, 40, 2)\n",
        "print(\"Original array:\")\n",
        "print(array_nums)\n",
        "print(\"\\nNew array of shape(5, 4):\")\n",
        "new_array = array_nums.reshape(5, 4)\n",
        "print(new_array) \n",
        "print(\"\\nRestore the reshaped array into a 1-D array:\")\n",
        "print(new_array.flatten())"
      ],
      "execution_count": 87,
      "outputs": [
        {
          "output_type": "stream",
          "text": [
            "Original array:\n",
            "[ 0  2  4  6  8 10 12 14 16 18 20 22 24 26 28 30 32 34 36 38]\n",
            "\n",
            "New array of shape(5, 4):\n",
            "[[ 0  2  4  6]\n",
            " [ 8 10 12 14]\n",
            " [16 18 20 22]\n",
            " [24 26 28 30]\n",
            " [32 34 36 38]]\n",
            "\n",
            "Restore the reshaped array into a 1-D array:\n",
            "[ 0  2  4  6  8 10 12 14 16 18 20 22 24 26 28 30 32 34 36 38]\n"
          ],
          "name": "stdout"
        }
      ]
    },
    {
      "cell_type": "markdown",
      "metadata": {
        "id": "jY7Rc91VQ7Uy",
        "colab_type": "text"
      },
      "source": [
        "**176, Viết chương trình NumPy để tạo một mảng có hình dạng 4,5 và hoán đổi cột1 với cột4.**\n",
        "\n",
        "**Write a NumPy program to create an array of 4,5 shape and swap column1 with column4.**\n",
        "\n"
      ]
    },
    {
      "cell_type": "code",
      "metadata": {
        "id": "DG24-mCdQ0l4",
        "colab_type": "code",
        "colab": {
          "base_uri": "https://localhost:8080/",
          "height": 204
        },
        "outputId": "9e966918-7c76-46f5-87e1-85cb8124b72c"
      },
      "source": [
        "array_nums = np.arange(20).reshape(4,5)\n",
        "print(\"Original array:\")\n",
        "print(array_nums)\n",
        "print(\"\\nAfter swapping column1 with column4:\")\n",
        "array_nums[:,[0,3]] = array_nums[:,[3,0]]\n",
        "print(array_nums)"
      ],
      "execution_count": 88,
      "outputs": [
        {
          "output_type": "stream",
          "text": [
            "Original array:\n",
            "[[ 0  1  2  3  4]\n",
            " [ 5  6  7  8  9]\n",
            " [10 11 12 13 14]\n",
            " [15 16 17 18 19]]\n",
            "\n",
            "After swapping column1 with column4:\n",
            "[[ 3  1  2  0  4]\n",
            " [ 8  6  7  5  9]\n",
            " [13 11 12 10 14]\n",
            " [18 16 17 15 19]]\n"
          ],
          "name": "stdout"
        }
      ]
    },
    {
      "cell_type": "markdown",
      "metadata": {
        "id": "tCat0Nz4RIr4",
        "colab_type": "text"
      },
      "source": [
        "**177, Viết chương trình NumPy để tạo một mảng có hình 4,5 và để đảo ngược các hàng của mảng đã nói. Sau khi đảo ngược hàng thứ 1 sẽ là hàng thứ 4 và thứ 4 sẽ là hàng thứ 1, hàng thứ 2 sẽ là hàng thứ 3 và hàng thứ 3 sẽ là hàng thứ 2.**\n",
        "\n",
        "**Write a NumPy program to create an array of 4,5 shape and to reverse the rows of the said array. After reversing 1st row will be 4th and 4th will be 1st, 2nd row will be 3rd row and 3rd row will be 2nd row.**\n",
        "\n"
      ]
    },
    {
      "cell_type": "code",
      "metadata": {
        "id": "GSHqjjGHRAQQ",
        "colab_type": "code",
        "colab": {
          "base_uri": "https://localhost:8080/",
          "height": 204
        },
        "outputId": "46c0c844-9bd9-4069-d759-37a891a72670"
      },
      "source": [
        "array_nums = np.arange(20).reshape(4,5)\n",
        "print(\"Original array:\")\n",
        "print(array_nums)\n",
        "print(\"\\nAfter reversing:\")\n",
        "array_nums[:] = array_nums[3::-1]\n",
        "print(array_nums)"
      ],
      "execution_count": 89,
      "outputs": [
        {
          "output_type": "stream",
          "text": [
            "Original array:\n",
            "[[ 0  1  2  3  4]\n",
            " [ 5  6  7  8  9]\n",
            " [10 11 12 13 14]\n",
            " [15 16 17 18 19]]\n",
            "\n",
            "After reversing:\n",
            "[[15 16 17 18 19]\n",
            " [10 11 12 13 14]\n",
            " [ 5  6  7  8  9]\n",
            " [ 0  1  2  3  4]]\n"
          ],
          "name": "stdout"
        }
      ]
    },
    {
      "cell_type": "markdown",
      "metadata": {
        "id": "AtqBiKp2RdSZ",
        "colab_type": "text"
      },
      "source": [
        "**178, Viết chương trình NumPy để thay thế tất cả nan (giá trị thiếu) của một mảng nhất định bằng giá trị trung bình của mảng khác.**\n",
        "\n",
        "**Write a NumPy program to replace all the nan (missing values) of a given array with the mean of another array.**\n",
        "\n"
      ]
    },
    {
      "cell_type": "code",
      "metadata": {
        "id": "H9USn5VLRNLA",
        "colab_type": "code",
        "colab": {
          "base_uri": "https://localhost:8080/",
          "height": 238
        },
        "outputId": "265db3dd-b075-4c83-f210-9cd80d5fb9e1"
      },
      "source": [
        "array_nums1 = np.arange(20).reshape(4,5)\n",
        "array_nums2 = np.array([[1,2,np.nan], [4,5,6], [np.nan, 7, np.nan]])\n",
        "print(\"Original arrays: \")\n",
        "print(array_nums1)\n",
        "print(array_nums2)\n",
        "print(\"\\nAll the nan of array_nums2 replaced by the mean of array_nums1: \")\n",
        "array_nums2[np.isnan(array_nums2)] = np.nanmean(array_nums1)\n",
        "print(array_nums2)"
      ],
      "execution_count": 91,
      "outputs": [
        {
          "output_type": "stream",
          "text": [
            "Original arrays: \n",
            "[[ 0  1  2  3  4]\n",
            " [ 5  6  7  8  9]\n",
            " [10 11 12 13 14]\n",
            " [15 16 17 18 19]]\n",
            "[[ 1.  2. nan]\n",
            " [ 4.  5.  6.]\n",
            " [nan  7. nan]]\n",
            "\n",
            "All the nan of array_nums2 replaced by the mean of array_nums1: \n",
            "[[1.  2.  9.5]\n",
            " [4.  5.  6. ]\n",
            " [9.5 7.  9.5]]\n"
          ],
          "name": "stdout"
        }
      ]
    },
    {
      "cell_type": "markdown",
      "metadata": {
        "id": "XdB0nlcNSVkG",
        "colab_type": "text"
      },
      "source": [
        "**179, Viết chương trình NumPy để tìm nạp tất cả các mục từ một mảng có hình dạng 4,5 cho trước lớn hơn 6 và bội số của 3.**\n",
        "\n",
        "**Write a NumPy program to fetch all items from a given array of 4,5 shape which are either greater than 6 and a multiple of 3.**\n",
        "\n"
      ]
    },
    {
      "cell_type": "code",
      "metadata": {
        "id": "gQ12oWBMR7Q4",
        "colab_type": "code",
        "colab": {
          "base_uri": "https://localhost:8080/",
          "height": 153
        },
        "outputId": "32920769-3048-485e-934d-4e2781d7a644"
      },
      "source": [
        "array_nums1 = np.arange(20).reshape(4,5)\n",
        "print(\"Original arrays:\")\n",
        "print(array_nums1)\n",
        "result = array_nums1[(array_nums1>6) & (array_nums1%3 == 0)]\n",
        "print(\"\\nItems greater than 6 and a multiple of 3 of the said array: \")\n",
        "print(result)"
      ],
      "execution_count": 92,
      "outputs": [
        {
          "output_type": "stream",
          "text": [
            "Original arrays:\n",
            "[[ 0  1  2  3  4]\n",
            " [ 5  6  7  8  9]\n",
            " [10 11 12 13 14]\n",
            " [15 16 17 18 19]]\n",
            "\n",
            "Items greater than 6 and a multiple of 3 of the said array: \n",
            "[ 9 12 15 18]\n"
          ],
          "name": "stdout"
        }
      ]
    },
    {
      "cell_type": "markdown",
      "metadata": {
        "id": "Iu2HhbmES5Gt",
        "colab_type": "text"
      },
      "source": [
        "**180, Viết chương trình NumPy để kiểm tra xem kích thước của hai mảng đã cho có giống nhau hay không.**\n",
        "\n",
        "**Write a NumPy program to check whether the dimensions of two given arrays are same or not.**\n",
        "\n"
      ]
    },
    {
      "cell_type": "code",
      "metadata": {
        "id": "uNWA0Nt8Sjp3",
        "colab_type": "code",
        "colab": {
          "base_uri": "https://localhost:8080/",
          "height": 51
        },
        "outputId": "ce9eac80-8e77-4006-ced4-c1e4f9650ab3"
      },
      "source": [
        "def test_array_dimentions(ar1, ar2):\n",
        "  try:\n",
        "    ar1 + ar2 \n",
        "  except ValueError:\n",
        "    return \"Differnt dimensions\"\n",
        "  else:\n",
        "    return \"Same dimensions\"\n",
        "ar1 = np.arange(20).reshape(4,5)\n",
        "ar2 = np.arange(20).reshape(4,5)\n",
        "print(test_array_dimentions(ar1, ar2))\n",
        "ar1 = np.arange(20).reshape(5,4)\n",
        "ar2 = np.arange(20).reshape(4,5)\n",
        "print(test_array_dimentions(ar1, ar2))"
      ],
      "execution_count": 96,
      "outputs": [
        {
          "output_type": "stream",
          "text": [
            "Same dimensions\n",
            "Differnt dimensions\n"
          ],
          "name": "stdout"
        }
      ]
    },
    {
      "cell_type": "markdown",
      "metadata": {
        "id": "vNfbj1CuTnJ6",
        "colab_type": "text"
      },
      "source": [
        "**181, Viết chương trình NumPy để đặt một phần tử được chỉ định trong thời gian xác định ngẫu nhiên trong một mảng 2D được chỉ định.**\n",
        "\n",
        "**Write a NumPy program to place a specified element in specified time randomly in a specified 2D array.**\n",
        "\n"
      ]
    },
    {
      "cell_type": "code",
      "metadata": {
        "id": "FAzDD1M6TTpF",
        "colab_type": "code",
        "colab": {
          "base_uri": "https://localhost:8080/",
          "height": 204
        },
        "outputId": "4f84e034-9df4-417c-acfc-f44041cb6a71"
      },
      "source": [
        "n = 4\n",
        "i = 3\n",
        "e = 10\n",
        "array_nums1 = np.zeros((n,n))\n",
        "print(\"Original array: \")\n",
        "print(array_nums1)\n",
        "np.put(array_nums1, np.random.choice(range(n*n), i, replace=False), e)\n",
        "print(\"\\nPlace a specified element in specified time randomly: \")\n",
        "print(array_nums1)"
      ],
      "execution_count": 97,
      "outputs": [
        {
          "output_type": "stream",
          "text": [
            "Original array: \n",
            "[[0. 0. 0. 0.]\n",
            " [0. 0. 0. 0.]\n",
            " [0. 0. 0. 0.]\n",
            " [0. 0. 0. 0.]]\n",
            "\n",
            "Place a specified element in specified time randomly: \n",
            "[[ 0.  0. 10.  0.]\n",
            " [ 0. 10.  0. 10.]\n",
            " [ 0.  0.  0.  0.]\n",
            " [ 0.  0.  0.  0.]]\n"
          ],
          "name": "stdout"
        }
      ]
    },
    {
      "cell_type": "markdown",
      "metadata": {
        "id": "kanBAUwcUJ71",
        "colab_type": "text"
      },
      "source": [
        "**182, Viết chương trình NumPy để trừ giá trị trung bình của mỗi hàng của một ma trận đã cho.**\n",
        "\n",
        "**Write a NumPy program to subtract the mean of each row of a given matrix.**\n",
        "\n"
      ]
    },
    {
      "cell_type": "code",
      "metadata": {
        "id": "jKFSGml1T7wJ",
        "colab_type": "code",
        "colab": {
          "base_uri": "https://localhost:8080/",
          "height": 442
        },
        "outputId": "4439eddf-b7cb-442c-bfdd-579749de91f0"
      },
      "source": [
        "print(\"Original matrix: \\n\")\n",
        "X = np.random.rand(5,10)\n",
        "print(X)\n",
        "print(\"\\nSubtract the mean of each row of the said matrix: \\n\")\n",
        "Y = X - X.mean(axis=1, keepdims = True)\n",
        "print(Y)"
      ],
      "execution_count": 100,
      "outputs": [
        {
          "output_type": "stream",
          "text": [
            "Original matrix: \n",
            "\n",
            "[[0.49115413 0.38989962 0.73928146 0.40563254 0.35993221 0.3573367\n",
            "  0.76591032 0.74593124 0.4844392  0.63624591]\n",
            " [0.47197445 0.70956446 0.43956682 0.79751515 0.71689309 0.92591784\n",
            "  0.12914103 0.22354246 0.54360612 0.15653483]\n",
            " [0.29505226 0.08484791 0.40506165 0.10021986 0.58228232 0.41957251\n",
            "  0.85081196 0.32253406 0.19820874 0.1879027 ]\n",
            " [0.04954971 0.06313881 0.40140559 0.91973352 0.80373669 0.96390143\n",
            "  0.25721769 0.61135022 0.97050941 0.17267332]\n",
            " [0.00577314 0.98712955 0.21794563 0.89906187 0.12355639 0.88023913\n",
            "  0.06115103 0.19032637 0.49042629 0.63321368]]\n",
            "\n",
            "Subtract the mean of each row of the said matrix: \n",
            "\n",
            "[[-0.04642221 -0.14767671  0.20170513 -0.13194379 -0.17764413 -0.18023964\n",
            "   0.22833399  0.20835491 -0.05313714  0.09866958]\n",
            " [-0.03945118  0.19813883 -0.0718588   0.28608953  0.20546746  0.41449222\n",
            "  -0.3822846  -0.28788316  0.03218049 -0.3548908 ]\n",
            " [-0.04959714 -0.25980148  0.06041225 -0.24442954  0.23763292  0.07492311\n",
            "   0.50616257 -0.02211534 -0.14644066 -0.15674669]\n",
            " [-0.47177193 -0.45818283 -0.11991605  0.39841188  0.28241505  0.44257979\n",
            "  -0.26410395  0.09002858  0.44918778 -0.34864832]\n",
            " [-0.44310916  0.53824724 -0.23093668  0.45017956 -0.32532592  0.43135682\n",
            "  -0.38773128 -0.25855594  0.04154398  0.18433138]]\n"
          ],
          "name": "stdout"
        }
      ]
    },
    {
      "cell_type": "markdown",
      "metadata": {
        "id": "zJz1edmkUh00",
        "colab_type": "text"
      },
      "source": [
        "**183, Viết chương trình NumPy để kiểm tra xem một mảng 2D đã cho có các cột null hay không.**\n",
        "\n",
        "**Write a NumPy program to test whether a given 2D array has null columns or not.**\n",
        "\n"
      ]
    },
    {
      "cell_type": "code",
      "metadata": {
        "id": "PyYLutjDUZsA",
        "colab_type": "code",
        "colab": {
          "base_uri": "https://localhost:8080/",
          "height": 153
        },
        "outputId": "5794fa8c-09c0-4c0a-efd8-29120eeb4633"
      },
      "source": [
        "print(\"Original array: \")\n",
        "nums = np.random.randint(0,3, (4,10))\n",
        "print(nums)\n",
        "print(\"\\nTest whether the said array has null columns or not: \")\n",
        "print((~nums.any(axis=0)).any())"
      ],
      "execution_count": 101,
      "outputs": [
        {
          "output_type": "stream",
          "text": [
            "Original array: \n",
            "[[0 2 0 0 2 0 2 1 2 1]\n",
            " [2 2 1 2 1 1 2 1 1 1]\n",
            " [1 2 1 0 0 1 1 2 2 1]\n",
            " [1 1 2 0 0 0 2 1 0 2]]\n",
            "\n",
            "Test whether the said array has null columns or not: \n",
            "False\n"
          ],
          "name": "stdout"
        }
      ]
    },
    {
      "cell_type": "markdown",
      "metadata": {
        "id": "uHIwa9c-U5Z0",
        "colab_type": "text"
      },
      "source": [
        "**184, Viết chương trình NumPy để tạo một mảng bằng hàm tạo tạo 15 số nguyên.**\n",
        "\n",
        "**Write a NumPy program to create an array using generator function that generates 15 integers.**\n",
        "\n"
      ]
    },
    {
      "cell_type": "code",
      "metadata": {
        "id": "RNr8kuF0UxD_",
        "colab_type": "code",
        "colab": {
          "base_uri": "https://localhost:8080/",
          "height": 51
        },
        "outputId": "a22bd11d-d07e-4906-e4eb-0ea0213468fa"
      },
      "source": [
        "def generate():\n",
        "  for n in range(15):\n",
        "    yield n\n",
        "\n",
        "nums = np.fromiter(generate(), dtype=float, count=-1)\n",
        "print(\"New array: \")\n",
        "print(nums)"
      ],
      "execution_count": 102,
      "outputs": [
        {
          "output_type": "stream",
          "text": [
            "New array: \n",
            "[ 0.  1.  2.  3.  4.  5.  6.  7.  8.  9. 10. 11. 12. 13. 14.]\n"
          ],
          "name": "stdout"
        }
      ]
    },
    {
      "cell_type": "markdown",
      "metadata": {
        "id": "Jrd3XLDrVMja",
        "colab_type": "text"
      },
      "source": [
        "**185, Viết chương trình NumPy để tạo một vectơ mới với 2 0 liên tiếp giữa hai giá trị của một vectơ đã cho.**\n",
        "\n",
        "**Write a NumPy program to create a new vector with 2 consecutive 0 between two values of a given vector.**\n",
        "\n"
      ]
    },
    {
      "cell_type": "code",
      "metadata": {
        "id": "jpU8bZPEVG_P",
        "colab_type": "code",
        "colab": {
          "base_uri": "https://localhost:8080/",
          "height": 102
        },
        "outputId": "49663e23-a212-4a82-af58-f8cf79a4544b"
      },
      "source": [
        "nums = np.array([1,2,3,4,5,6,7,8])\n",
        "print(\"Original array: \")\n",
        "print(nums)\n",
        "p = 2\n",
        "new_nums = np.zeros(len(nums) + (len(nums) - 1) *(p))\n",
        "new_nums[::p+1] = nums \n",
        "print(\"\\nNew array: \")\n",
        "print(new_nums)"
      ],
      "execution_count": 103,
      "outputs": [
        {
          "output_type": "stream",
          "text": [
            "Original array: \n",
            "[1 2 3 4 5 6 7 8]\n",
            "\n",
            "New array: \n",
            "[1. 0. 0. 2. 0. 0. 3. 0. 0. 4. 0. 0. 5. 0. 0. 6. 0. 0. 7. 0. 0. 8.]\n"
          ],
          "name": "stdout"
        }
      ]
    },
    {
      "cell_type": "markdown",
      "metadata": {
        "id": "wvDwmjdyWDrM",
        "colab_type": "text"
      },
      "source": [
        "**186, Viết chương trình NumPy để nhân một mảng kích thước (2,2,3) với một mảng có kích thước (2,2).**\n",
        "\n",
        "**Write a NumPy program to multiply an array of dimension (2,2,3) by an array with dimensions (2,2).**\n",
        "\n"
      ]
    },
    {
      "cell_type": "code",
      "metadata": {
        "id": "T3RLkTAqVeUf",
        "colab_type": "code",
        "colab": {
          "base_uri": "https://localhost:8080/",
          "height": 238
        },
        "outputId": "b90413e4-98a5-48e0-dd2c-5227a1a2e978"
      },
      "source": [
        "nums1 = np.ones((2,2,3))\n",
        "nums2 = 3*np.ones((2,2))\n",
        "print(\"Original array: \")\n",
        "print(nums1)\n",
        "new_array = nums1 * nums2[:, :, None]\n",
        "print(\"\\nNew array: \")\n",
        "print(new_array)"
      ],
      "execution_count": 105,
      "outputs": [
        {
          "output_type": "stream",
          "text": [
            "Original array: \n",
            "[[[1. 1. 1.]\n",
            "  [1. 1. 1.]]\n",
            "\n",
            " [[1. 1. 1.]\n",
            "  [1. 1. 1.]]]\n",
            "\n",
            "New array: \n",
            "[[[3. 3. 3.]\n",
            "  [3. 3. 3.]]\n",
            "\n",
            " [[3. 3. 3.]\n",
            "  [3. 3. 3.]]]\n"
          ],
          "name": "stdout"
        }
      ]
    },
    {
      "cell_type": "markdown",
      "metadata": {
        "id": "YnHNbCLbWfg8",
        "colab_type": "text"
      },
      "source": [
        "**187, Viết chương trình NumPy để chuyển đổi một vectơ số nguyên đã cho thành ma trận biểu diễn nhị phân.**\n",
        "\n",
        "\n",
        "**Write a NumPy program to convert a given vector of integers to a matrix of binary representation.**\n"
      ]
    },
    {
      "cell_type": "code",
      "metadata": {
        "id": "ERUEenFZWTPu",
        "colab_type": "code",
        "colab": {
          "base_uri": "https://localhost:8080/",
          "height": 238
        },
        "outputId": "471f96ba-2929-4893-e1de-4c1e919a8f16"
      },
      "source": [
        "nums = np.array([0,1,3,5,7,9,11,13,15])\n",
        "print(\"Original vector: \")\n",
        "print(nums)\n",
        "bin_nums = ((nums.reshape(-1, 1) & (2**np.arange(8))) !=0).astype(int)\n",
        "print(\"\\nBinary representation of the said vector:\")\n",
        "print(bin_nums[:, ::1])"
      ],
      "execution_count": 107,
      "outputs": [
        {
          "output_type": "stream",
          "text": [
            "Original vector: \n",
            "[ 0  1  3  5  7  9 11 13 15]\n",
            "\n",
            "Binary representation of the said vector:\n",
            "[[0 0 0 0 0 0 0 0]\n",
            " [1 0 0 0 0 0 0 0]\n",
            " [1 1 0 0 0 0 0 0]\n",
            " [1 0 1 0 0 0 0 0]\n",
            " [1 1 1 0 0 0 0 0]\n",
            " [1 0 0 1 0 0 0 0]\n",
            " [1 1 0 1 0 0 0 0]\n",
            " [1 0 1 1 0 0 0 0]\n",
            " [1 1 1 1 0 0 0 0]]\n"
          ],
          "name": "stdout"
        }
      ]
    },
    {
      "cell_type": "markdown",
      "metadata": {
        "id": "qCSkLK8iXQA5",
        "colab_type": "text"
      },
      "source": [
        "**188, Viết chương trình NumPy để trích xuất các hàng có giá trị không bằng nhau (ví dụ: [1,1,2]) từ ma trận 10x3.**\n",
        "\n",
        "**Write a NumPy program to extract rows with unequal values (e.g. [1,1,2]) from 10x3 matrix.**\n",
        "\n"
      ]
    },
    {
      "cell_type": "code",
      "metadata": {
        "id": "6uM5AIEWXKr2",
        "colab_type": "code",
        "colab": {
          "base_uri": "https://localhost:8080/",
          "height": 255
        },
        "outputId": "2d419799-1afa-40af-de28-a8b70927c120"
      },
      "source": [
        "nums = np.random.randint(0,4,(6,3))\n",
        "print(\"Original vector:\")\n",
        "print(nums)\n",
        "new_nums = np.logical_and.reduce(nums[:, 1:] == nums[:, :-1], axis=1)\n",
        "result = nums[~new_nums]\n",
        "print(\"\\nRows with unequal values:\")\n",
        "print(result)"
      ],
      "execution_count": 109,
      "outputs": [
        {
          "output_type": "stream",
          "text": [
            "Original vector:\n",
            "[[2 2 3]\n",
            " [0 2 1]\n",
            " [0 3 2]\n",
            " [0 0 0]\n",
            " [0 2 3]\n",
            " [1 1 2]]\n",
            "\n",
            "Rows with unequal values:\n",
            "[[2 2 3]\n",
            " [0 2 1]\n",
            " [0 3 2]\n",
            " [0 2 3]\n",
            " [1 1 2]]\n"
          ],
          "name": "stdout"
        }
      ]
    },
    {
      "cell_type": "markdown",
      "metadata": {
        "id": "2pSLghMcXqa9",
        "colab_type": "text"
      },
      "source": [
        "**189, Viết chương trình NumPy để tìm các hàng của một mảng hình dạng đã cho (8.3) có chứa các phần tử của mỗi hàng của một mảng hình dạng đã cho khác (2,2).**\n",
        "\n",
        "**Write a NumPy program to find rows of a given array of shape (8,3) that contain elements of each row of another given array of shape (2,2).**\n",
        "\n"
      ]
    },
    {
      "cell_type": "code",
      "metadata": {
        "id": "Njmf3n98Xk1l",
        "colab_type": "code",
        "colab": {
          "base_uri": "https://localhost:8080/",
          "height": 238
        },
        "outputId": "d33f28f8-a1a8-45a0-f367-18f7ab863566"
      },
      "source": [
        "nums1 = np.random.randint(0,6,(6,4))\n",
        "nums2 = np.random.randint(0,6,(2,3))\n",
        "print(\"Original arrays:\")\n",
        "print(nums1)\n",
        "print(\"\\n\",nums2)\n",
        "temp = (nums1[..., np.newaxis, np.newaxis] == nums2)\n",
        "rows = (temp.sum(axis=(1,2,3)) >= nums2.shape[1]).nonzero()[0]\n",
        "print(\"\\nRows of a given array that contain elements of each row of another given array:\")\n",
        "print(rows)"
      ],
      "execution_count": 110,
      "outputs": [
        {
          "output_type": "stream",
          "text": [
            "Original arrays:\n",
            "[[5 3 0 3]\n",
            " [5 5 0 2]\n",
            " [1 3 3 5]\n",
            " [0 0 1 3]\n",
            " [5 1 3 1]\n",
            " [2 3 5 4]]\n",
            "\n",
            " [[5 0 0]\n",
            " [1 0 1]]\n",
            "\n",
            "Rows of a given array that contain elements of each row of another given array:\n",
            "[0 1 2 3 4]\n"
          ],
          "name": "stdout"
        }
      ]
    },
    {
      "cell_type": "markdown",
      "metadata": {
        "id": "1k1AoeGXYBbR",
        "colab_type": "text"
      },
      "source": [
        "**190, Viết chương trình NumPy để tạo một mảng bản ghi từ một mảng thông thường nhất định.**\n",
        "\n",
        "**Write a NumPy program to create a record array from a given regular array.**\n",
        "\n"
      ]
    },
    {
      "cell_type": "code",
      "metadata": {
        "id": "QkIXNbbFXyWW",
        "colab_type": "code",
        "colab": {
          "base_uri": "https://localhost:8080/",
          "height": 153
        },
        "outputId": "e7f5cd09-2e77-406c-96a3-efbb8f8d1a40"
      },
      "source": [
        "arra1 = np.array([(\"Yasemin Rayner\", 88.5, 90),\n",
        "                 (\"Ayaana Mcnamara\", 87, 99),\n",
        "             (\"Jody Preece\", 85.5, 91)])\n",
        "print(\"Original arrays:\")\n",
        "print(arra1)\n",
        "print(\"\\nRecord array;\")\n",
        "result = np.core.records.fromarrays(arra1.T,\n",
        "                              names='col1, col2, col3',\n",
        "                              formats = 'S80, f8, i8')\n",
        "print(result)"
      ],
      "execution_count": 111,
      "outputs": [
        {
          "output_type": "stream",
          "text": [
            "Original arrays:\n",
            "[['Yasemin Rayner' '88.5' '90']\n",
            " ['Ayaana Mcnamara' '87' '99']\n",
            " ['Jody Preece' '85.5' '91']]\n",
            "\n",
            "Record array;\n",
            "[(b'Yasemin Rayner', 88.5, 90) (b'Ayaana Mcnamara', 87. , 99)\n",
            " (b'Jody Preece', 85.5, 91)]\n"
          ],
          "name": "stdout"
        }
      ]
    },
    {
      "cell_type": "markdown",
      "metadata": {
        "id": "1ALL5aXFYNwu",
        "colab_type": "text"
      },
      "source": [
        "**191, Viết chương trình NumPy để lấy tổng khối (kích thước khối là 5x5) từ một mảng có hình dạng 25x25 nhất định.**\n",
        "\n",
        "**Write a NumPy program to get the block-sum (block size is 5x5) from a given array of shape 25x25.**\n",
        "\n"
      ]
    },
    {
      "cell_type": "code",
      "metadata": {
        "id": "j_k4An_dYHX_",
        "colab_type": "code",
        "colab": {
          "base_uri": "https://localhost:8080/",
          "height": 1000
        },
        "outputId": "2aa2a12d-d434-45e2-cf79-6005d8934ab4"
      },
      "source": [
        "arra1 = np.ones((25,25))\n",
        "k = 5\n",
        "print(\"Original arrays:\")\n",
        "print(arra1)\n",
        "result = np.add.reduceat(np.add.reduceat(arra1, np.arange(0, arra1.shape[0], k), axis=0),\n",
        "                                      np.arange(0, arra1.shape[1], k), axis=1)\n",
        "print(\"\\nBlock-sum (5x5) of the said array:\")\n",
        "print(result)"
      ],
      "execution_count": 112,
      "outputs": [
        {
          "output_type": "stream",
          "text": [
            "Original arrays:\n",
            "[[1. 1. 1. 1. 1. 1. 1. 1. 1. 1. 1. 1. 1. 1. 1. 1. 1. 1. 1. 1. 1. 1. 1. 1.\n",
            "  1.]\n",
            " [1. 1. 1. 1. 1. 1. 1. 1. 1. 1. 1. 1. 1. 1. 1. 1. 1. 1. 1. 1. 1. 1. 1. 1.\n",
            "  1.]\n",
            " [1. 1. 1. 1. 1. 1. 1. 1. 1. 1. 1. 1. 1. 1. 1. 1. 1. 1. 1. 1. 1. 1. 1. 1.\n",
            "  1.]\n",
            " [1. 1. 1. 1. 1. 1. 1. 1. 1. 1. 1. 1. 1. 1. 1. 1. 1. 1. 1. 1. 1. 1. 1. 1.\n",
            "  1.]\n",
            " [1. 1. 1. 1. 1. 1. 1. 1. 1. 1. 1. 1. 1. 1. 1. 1. 1. 1. 1. 1. 1. 1. 1. 1.\n",
            "  1.]\n",
            " [1. 1. 1. 1. 1. 1. 1. 1. 1. 1. 1. 1. 1. 1. 1. 1. 1. 1. 1. 1. 1. 1. 1. 1.\n",
            "  1.]\n",
            " [1. 1. 1. 1. 1. 1. 1. 1. 1. 1. 1. 1. 1. 1. 1. 1. 1. 1. 1. 1. 1. 1. 1. 1.\n",
            "  1.]\n",
            " [1. 1. 1. 1. 1. 1. 1. 1. 1. 1. 1. 1. 1. 1. 1. 1. 1. 1. 1. 1. 1. 1. 1. 1.\n",
            "  1.]\n",
            " [1. 1. 1. 1. 1. 1. 1. 1. 1. 1. 1. 1. 1. 1. 1. 1. 1. 1. 1. 1. 1. 1. 1. 1.\n",
            "  1.]\n",
            " [1. 1. 1. 1. 1. 1. 1. 1. 1. 1. 1. 1. 1. 1. 1. 1. 1. 1. 1. 1. 1. 1. 1. 1.\n",
            "  1.]\n",
            " [1. 1. 1. 1. 1. 1. 1. 1. 1. 1. 1. 1. 1. 1. 1. 1. 1. 1. 1. 1. 1. 1. 1. 1.\n",
            "  1.]\n",
            " [1. 1. 1. 1. 1. 1. 1. 1. 1. 1. 1. 1. 1. 1. 1. 1. 1. 1. 1. 1. 1. 1. 1. 1.\n",
            "  1.]\n",
            " [1. 1. 1. 1. 1. 1. 1. 1. 1. 1. 1. 1. 1. 1. 1. 1. 1. 1. 1. 1. 1. 1. 1. 1.\n",
            "  1.]\n",
            " [1. 1. 1. 1. 1. 1. 1. 1. 1. 1. 1. 1. 1. 1. 1. 1. 1. 1. 1. 1. 1. 1. 1. 1.\n",
            "  1.]\n",
            " [1. 1. 1. 1. 1. 1. 1. 1. 1. 1. 1. 1. 1. 1. 1. 1. 1. 1. 1. 1. 1. 1. 1. 1.\n",
            "  1.]\n",
            " [1. 1. 1. 1. 1. 1. 1. 1. 1. 1. 1. 1. 1. 1. 1. 1. 1. 1. 1. 1. 1. 1. 1. 1.\n",
            "  1.]\n",
            " [1. 1. 1. 1. 1. 1. 1. 1. 1. 1. 1. 1. 1. 1. 1. 1. 1. 1. 1. 1. 1. 1. 1. 1.\n",
            "  1.]\n",
            " [1. 1. 1. 1. 1. 1. 1. 1. 1. 1. 1. 1. 1. 1. 1. 1. 1. 1. 1. 1. 1. 1. 1. 1.\n",
            "  1.]\n",
            " [1. 1. 1. 1. 1. 1. 1. 1. 1. 1. 1. 1. 1. 1. 1. 1. 1. 1. 1. 1. 1. 1. 1. 1.\n",
            "  1.]\n",
            " [1. 1. 1. 1. 1. 1. 1. 1. 1. 1. 1. 1. 1. 1. 1. 1. 1. 1. 1. 1. 1. 1. 1. 1.\n",
            "  1.]\n",
            " [1. 1. 1. 1. 1. 1. 1. 1. 1. 1. 1. 1. 1. 1. 1. 1. 1. 1. 1. 1. 1. 1. 1. 1.\n",
            "  1.]\n",
            " [1. 1. 1. 1. 1. 1. 1. 1. 1. 1. 1. 1. 1. 1. 1. 1. 1. 1. 1. 1. 1. 1. 1. 1.\n",
            "  1.]\n",
            " [1. 1. 1. 1. 1. 1. 1. 1. 1. 1. 1. 1. 1. 1. 1. 1. 1. 1. 1. 1. 1. 1. 1. 1.\n",
            "  1.]\n",
            " [1. 1. 1. 1. 1. 1. 1. 1. 1. 1. 1. 1. 1. 1. 1. 1. 1. 1. 1. 1. 1. 1. 1. 1.\n",
            "  1.]\n",
            " [1. 1. 1. 1. 1. 1. 1. 1. 1. 1. 1. 1. 1. 1. 1. 1. 1. 1. 1. 1. 1. 1. 1. 1.\n",
            "  1.]]\n",
            "\n",
            "Block-sum (5x5) of the said array:\n",
            "[[25. 25. 25. 25. 25.]\n",
            " [25. 25. 25. 25. 25.]\n",
            " [25. 25. 25. 25. 25.]\n",
            " [25. 25. 25. 25. 25.]\n",
            " [25. 25. 25. 25. 25.]]\n"
          ],
          "name": "stdout"
        }
      ]
    },
    {
      "cell_type": "markdown",
      "metadata": {
        "id": "Yjz7ilQIYZCX",
        "colab_type": "text"
      },
      "source": [
        "**192, Viết chương trình NumPy để trích xuất tất cả các khối 4x4 liền kề từ ma trận 12x12 ngẫu nhiên đã cho.**\n",
        "\n",
        "**Write a NumPy program to extract all the contiguous 4x4 blocks from a given random 12x12 matrix.**\n",
        "\n"
      ]
    },
    {
      "cell_type": "code",
      "metadata": {
        "id": "Lqf4G-rKYRwF",
        "colab_type": "code",
        "colab": {
          "base_uri": "https://localhost:8080/",
          "height": 1000
        },
        "outputId": "06a88937-7de8-4901-9ffb-0d5f0073f9c1"
      },
      "source": [
        "arra1 = np.random.randint(0,5,(12,12))\n",
        "print(\"Original arrays:\")\n",
        "print(arra1)\n",
        "n = 4\n",
        "i = 1 + (arra1.shape[0]-4)\n",
        "j = 1 + (arra1.shape[1]-4)\n",
        "result = np.lib.stride_tricks.as_strided(arra1, shape=(i, j, n, n), strides = arra1.strides + arra1.strides)\n",
        "print(\"\\nContiguous 4x4 blocks:\")\n",
        "print(result)"
      ],
      "execution_count": 113,
      "outputs": [
        {
          "output_type": "stream",
          "text": [
            "Original arrays:\n",
            "[[1 1 1 1 4 4 4 3 0 3 3 4]\n",
            " [4 2 0 2 0 3 2 4 1 4 3 0]\n",
            " [2 2 3 4 0 2 3 2 4 2 3 2]\n",
            " [4 4 3 1 0 4 0 0 0 0 0 0]\n",
            " [0 2 0 3 2 4 3 1 3 1 2 4]\n",
            " [4 1 0 3 3 1 4 0 4 1 2 4]\n",
            " [4 3 0 0 4 3 2 2 3 0 3 3]\n",
            " [0 2 2 4 2 3 3 3 2 2 1 0]\n",
            " [0 1 1 3 4 4 4 1 2 0 0 1]\n",
            " [2 0 3 4 3 4 4 0 3 4 4 4]\n",
            " [0 4 1 1 0 1 0 1 1 3 2 0]\n",
            " [0 3 0 1 2 3 1 3 0 1 4 4]]\n",
            "\n",
            "Contiguous 4x4 blocks:\n",
            "[[[[1 1 1 1]\n",
            "   [4 2 0 2]\n",
            "   [2 2 3 4]\n",
            "   [4 4 3 1]]\n",
            "\n",
            "  [[1 1 1 4]\n",
            "   [2 0 2 0]\n",
            "   [2 3 4 0]\n",
            "   [4 3 1 0]]\n",
            "\n",
            "  [[1 1 4 4]\n",
            "   [0 2 0 3]\n",
            "   [3 4 0 2]\n",
            "   [3 1 0 4]]\n",
            "\n",
            "  [[1 4 4 4]\n",
            "   [2 0 3 2]\n",
            "   [4 0 2 3]\n",
            "   [1 0 4 0]]\n",
            "\n",
            "  [[4 4 4 3]\n",
            "   [0 3 2 4]\n",
            "   [0 2 3 2]\n",
            "   [0 4 0 0]]\n",
            "\n",
            "  [[4 4 3 0]\n",
            "   [3 2 4 1]\n",
            "   [2 3 2 4]\n",
            "   [4 0 0 0]]\n",
            "\n",
            "  [[4 3 0 3]\n",
            "   [2 4 1 4]\n",
            "   [3 2 4 2]\n",
            "   [0 0 0 0]]\n",
            "\n",
            "  [[3 0 3 3]\n",
            "   [4 1 4 3]\n",
            "   [2 4 2 3]\n",
            "   [0 0 0 0]]\n",
            "\n",
            "  [[0 3 3 4]\n",
            "   [1 4 3 0]\n",
            "   [4 2 3 2]\n",
            "   [0 0 0 0]]]\n",
            "\n",
            "\n",
            " [[[4 2 0 2]\n",
            "   [2 2 3 4]\n",
            "   [4 4 3 1]\n",
            "   [0 2 0 3]]\n",
            "\n",
            "  [[2 0 2 0]\n",
            "   [2 3 4 0]\n",
            "   [4 3 1 0]\n",
            "   [2 0 3 2]]\n",
            "\n",
            "  [[0 2 0 3]\n",
            "   [3 4 0 2]\n",
            "   [3 1 0 4]\n",
            "   [0 3 2 4]]\n",
            "\n",
            "  [[2 0 3 2]\n",
            "   [4 0 2 3]\n",
            "   [1 0 4 0]\n",
            "   [3 2 4 3]]\n",
            "\n",
            "  [[0 3 2 4]\n",
            "   [0 2 3 2]\n",
            "   [0 4 0 0]\n",
            "   [2 4 3 1]]\n",
            "\n",
            "  [[3 2 4 1]\n",
            "   [2 3 2 4]\n",
            "   [4 0 0 0]\n",
            "   [4 3 1 3]]\n",
            "\n",
            "  [[2 4 1 4]\n",
            "   [3 2 4 2]\n",
            "   [0 0 0 0]\n",
            "   [3 1 3 1]]\n",
            "\n",
            "  [[4 1 4 3]\n",
            "   [2 4 2 3]\n",
            "   [0 0 0 0]\n",
            "   [1 3 1 2]]\n",
            "\n",
            "  [[1 4 3 0]\n",
            "   [4 2 3 2]\n",
            "   [0 0 0 0]\n",
            "   [3 1 2 4]]]\n",
            "\n",
            "\n",
            " [[[2 2 3 4]\n",
            "   [4 4 3 1]\n",
            "   [0 2 0 3]\n",
            "   [4 1 0 3]]\n",
            "\n",
            "  [[2 3 4 0]\n",
            "   [4 3 1 0]\n",
            "   [2 0 3 2]\n",
            "   [1 0 3 3]]\n",
            "\n",
            "  [[3 4 0 2]\n",
            "   [3 1 0 4]\n",
            "   [0 3 2 4]\n",
            "   [0 3 3 1]]\n",
            "\n",
            "  [[4 0 2 3]\n",
            "   [1 0 4 0]\n",
            "   [3 2 4 3]\n",
            "   [3 3 1 4]]\n",
            "\n",
            "  [[0 2 3 2]\n",
            "   [0 4 0 0]\n",
            "   [2 4 3 1]\n",
            "   [3 1 4 0]]\n",
            "\n",
            "  [[2 3 2 4]\n",
            "   [4 0 0 0]\n",
            "   [4 3 1 3]\n",
            "   [1 4 0 4]]\n",
            "\n",
            "  [[3 2 4 2]\n",
            "   [0 0 0 0]\n",
            "   [3 1 3 1]\n",
            "   [4 0 4 1]]\n",
            "\n",
            "  [[2 4 2 3]\n",
            "   [0 0 0 0]\n",
            "   [1 3 1 2]\n",
            "   [0 4 1 2]]\n",
            "\n",
            "  [[4 2 3 2]\n",
            "   [0 0 0 0]\n",
            "   [3 1 2 4]\n",
            "   [4 1 2 4]]]\n",
            "\n",
            "\n",
            " [[[4 4 3 1]\n",
            "   [0 2 0 3]\n",
            "   [4 1 0 3]\n",
            "   [4 3 0 0]]\n",
            "\n",
            "  [[4 3 1 0]\n",
            "   [2 0 3 2]\n",
            "   [1 0 3 3]\n",
            "   [3 0 0 4]]\n",
            "\n",
            "  [[3 1 0 4]\n",
            "   [0 3 2 4]\n",
            "   [0 3 3 1]\n",
            "   [0 0 4 3]]\n",
            "\n",
            "  [[1 0 4 0]\n",
            "   [3 2 4 3]\n",
            "   [3 3 1 4]\n",
            "   [0 4 3 2]]\n",
            "\n",
            "  [[0 4 0 0]\n",
            "   [2 4 3 1]\n",
            "   [3 1 4 0]\n",
            "   [4 3 2 2]]\n",
            "\n",
            "  [[4 0 0 0]\n",
            "   [4 3 1 3]\n",
            "   [1 4 0 4]\n",
            "   [3 2 2 3]]\n",
            "\n",
            "  [[0 0 0 0]\n",
            "   [3 1 3 1]\n",
            "   [4 0 4 1]\n",
            "   [2 2 3 0]]\n",
            "\n",
            "  [[0 0 0 0]\n",
            "   [1 3 1 2]\n",
            "   [0 4 1 2]\n",
            "   [2 3 0 3]]\n",
            "\n",
            "  [[0 0 0 0]\n",
            "   [3 1 2 4]\n",
            "   [4 1 2 4]\n",
            "   [3 0 3 3]]]\n",
            "\n",
            "\n",
            " [[[0 2 0 3]\n",
            "   [4 1 0 3]\n",
            "   [4 3 0 0]\n",
            "   [0 2 2 4]]\n",
            "\n",
            "  [[2 0 3 2]\n",
            "   [1 0 3 3]\n",
            "   [3 0 0 4]\n",
            "   [2 2 4 2]]\n",
            "\n",
            "  [[0 3 2 4]\n",
            "   [0 3 3 1]\n",
            "   [0 0 4 3]\n",
            "   [2 4 2 3]]\n",
            "\n",
            "  [[3 2 4 3]\n",
            "   [3 3 1 4]\n",
            "   [0 4 3 2]\n",
            "   [4 2 3 3]]\n",
            "\n",
            "  [[2 4 3 1]\n",
            "   [3 1 4 0]\n",
            "   [4 3 2 2]\n",
            "   [2 3 3 3]]\n",
            "\n",
            "  [[4 3 1 3]\n",
            "   [1 4 0 4]\n",
            "   [3 2 2 3]\n",
            "   [3 3 3 2]]\n",
            "\n",
            "  [[3 1 3 1]\n",
            "   [4 0 4 1]\n",
            "   [2 2 3 0]\n",
            "   [3 3 2 2]]\n",
            "\n",
            "  [[1 3 1 2]\n",
            "   [0 4 1 2]\n",
            "   [2 3 0 3]\n",
            "   [3 2 2 1]]\n",
            "\n",
            "  [[3 1 2 4]\n",
            "   [4 1 2 4]\n",
            "   [3 0 3 3]\n",
            "   [2 2 1 0]]]\n",
            "\n",
            "\n",
            " [[[4 1 0 3]\n",
            "   [4 3 0 0]\n",
            "   [0 2 2 4]\n",
            "   [0 1 1 3]]\n",
            "\n",
            "  [[1 0 3 3]\n",
            "   [3 0 0 4]\n",
            "   [2 2 4 2]\n",
            "   [1 1 3 4]]\n",
            "\n",
            "  [[0 3 3 1]\n",
            "   [0 0 4 3]\n",
            "   [2 4 2 3]\n",
            "   [1 3 4 4]]\n",
            "\n",
            "  [[3 3 1 4]\n",
            "   [0 4 3 2]\n",
            "   [4 2 3 3]\n",
            "   [3 4 4 4]]\n",
            "\n",
            "  [[3 1 4 0]\n",
            "   [4 3 2 2]\n",
            "   [2 3 3 3]\n",
            "   [4 4 4 1]]\n",
            "\n",
            "  [[1 4 0 4]\n",
            "   [3 2 2 3]\n",
            "   [3 3 3 2]\n",
            "   [4 4 1 2]]\n",
            "\n",
            "  [[4 0 4 1]\n",
            "   [2 2 3 0]\n",
            "   [3 3 2 2]\n",
            "   [4 1 2 0]]\n",
            "\n",
            "  [[0 4 1 2]\n",
            "   [2 3 0 3]\n",
            "   [3 2 2 1]\n",
            "   [1 2 0 0]]\n",
            "\n",
            "  [[4 1 2 4]\n",
            "   [3 0 3 3]\n",
            "   [2 2 1 0]\n",
            "   [2 0 0 1]]]\n",
            "\n",
            "\n",
            " [[[4 3 0 0]\n",
            "   [0 2 2 4]\n",
            "   [0 1 1 3]\n",
            "   [2 0 3 4]]\n",
            "\n",
            "  [[3 0 0 4]\n",
            "   [2 2 4 2]\n",
            "   [1 1 3 4]\n",
            "   [0 3 4 3]]\n",
            "\n",
            "  [[0 0 4 3]\n",
            "   [2 4 2 3]\n",
            "   [1 3 4 4]\n",
            "   [3 4 3 4]]\n",
            "\n",
            "  [[0 4 3 2]\n",
            "   [4 2 3 3]\n",
            "   [3 4 4 4]\n",
            "   [4 3 4 4]]\n",
            "\n",
            "  [[4 3 2 2]\n",
            "   [2 3 3 3]\n",
            "   [4 4 4 1]\n",
            "   [3 4 4 0]]\n",
            "\n",
            "  [[3 2 2 3]\n",
            "   [3 3 3 2]\n",
            "   [4 4 1 2]\n",
            "   [4 4 0 3]]\n",
            "\n",
            "  [[2 2 3 0]\n",
            "   [3 3 2 2]\n",
            "   [4 1 2 0]\n",
            "   [4 0 3 4]]\n",
            "\n",
            "  [[2 3 0 3]\n",
            "   [3 2 2 1]\n",
            "   [1 2 0 0]\n",
            "   [0 3 4 4]]\n",
            "\n",
            "  [[3 0 3 3]\n",
            "   [2 2 1 0]\n",
            "   [2 0 0 1]\n",
            "   [3 4 4 4]]]\n",
            "\n",
            "\n",
            " [[[0 2 2 4]\n",
            "   [0 1 1 3]\n",
            "   [2 0 3 4]\n",
            "   [0 4 1 1]]\n",
            "\n",
            "  [[2 2 4 2]\n",
            "   [1 1 3 4]\n",
            "   [0 3 4 3]\n",
            "   [4 1 1 0]]\n",
            "\n",
            "  [[2 4 2 3]\n",
            "   [1 3 4 4]\n",
            "   [3 4 3 4]\n",
            "   [1 1 0 1]]\n",
            "\n",
            "  [[4 2 3 3]\n",
            "   [3 4 4 4]\n",
            "   [4 3 4 4]\n",
            "   [1 0 1 0]]\n",
            "\n",
            "  [[2 3 3 3]\n",
            "   [4 4 4 1]\n",
            "   [3 4 4 0]\n",
            "   [0 1 0 1]]\n",
            "\n",
            "  [[3 3 3 2]\n",
            "   [4 4 1 2]\n",
            "   [4 4 0 3]\n",
            "   [1 0 1 1]]\n",
            "\n",
            "  [[3 3 2 2]\n",
            "   [4 1 2 0]\n",
            "   [4 0 3 4]\n",
            "   [0 1 1 3]]\n",
            "\n",
            "  [[3 2 2 1]\n",
            "   [1 2 0 0]\n",
            "   [0 3 4 4]\n",
            "   [1 1 3 2]]\n",
            "\n",
            "  [[2 2 1 0]\n",
            "   [2 0 0 1]\n",
            "   [3 4 4 4]\n",
            "   [1 3 2 0]]]\n",
            "\n",
            "\n",
            " [[[0 1 1 3]\n",
            "   [2 0 3 4]\n",
            "   [0 4 1 1]\n",
            "   [0 3 0 1]]\n",
            "\n",
            "  [[1 1 3 4]\n",
            "   [0 3 4 3]\n",
            "   [4 1 1 0]\n",
            "   [3 0 1 2]]\n",
            "\n",
            "  [[1 3 4 4]\n",
            "   [3 4 3 4]\n",
            "   [1 1 0 1]\n",
            "   [0 1 2 3]]\n",
            "\n",
            "  [[3 4 4 4]\n",
            "   [4 3 4 4]\n",
            "   [1 0 1 0]\n",
            "   [1 2 3 1]]\n",
            "\n",
            "  [[4 4 4 1]\n",
            "   [3 4 4 0]\n",
            "   [0 1 0 1]\n",
            "   [2 3 1 3]]\n",
            "\n",
            "  [[4 4 1 2]\n",
            "   [4 4 0 3]\n",
            "   [1 0 1 1]\n",
            "   [3 1 3 0]]\n",
            "\n",
            "  [[4 1 2 0]\n",
            "   [4 0 3 4]\n",
            "   [0 1 1 3]\n",
            "   [1 3 0 1]]\n",
            "\n",
            "  [[1 2 0 0]\n",
            "   [0 3 4 4]\n",
            "   [1 1 3 2]\n",
            "   [3 0 1 4]]\n",
            "\n",
            "  [[2 0 0 1]\n",
            "   [3 4 4 4]\n",
            "   [1 3 2 0]\n",
            "   [0 1 4 4]]]]\n"
          ],
          "name": "stdout"
        }
      ]
    },
    {
      "cell_type": "code",
      "metadata": {
        "id": "vwFF423XYdNm",
        "colab_type": "code",
        "colab": {}
      },
      "source": [
        ""
      ],
      "execution_count": 0,
      "outputs": []
    }
  ]
}