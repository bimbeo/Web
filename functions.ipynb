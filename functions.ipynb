{
  "nbformat": 4,
  "nbformat_minor": 0,
  "metadata": {
    "colab": {
      "name": "functions.ipynb",
      "provenance": [],
      "authorship_tag": "ABX9TyPZkw1AvgfLI6nN7Egr6E4U",
      "include_colab_link": true
    },
    "kernelspec": {
      "name": "python3",
      "display_name": "Python 3"
    }
  },
  "cells": [
    {
      "cell_type": "markdown",
      "metadata": {
        "id": "view-in-github",
        "colab_type": "text"
      },
      "source": [
        "<a href=\"https://colab.research.google.com/github/bimbeo/Web/blob/master/functions.ipynb\" target=\"_parent\"><img src=\"https://colab.research.google.com/assets/colab-badge.svg\" alt=\"Open In Colab\"/></a>"
      ]
    },
    {
      "cell_type": "markdown",
      "metadata": {
        "id": "yc-zE1mSq7BJ",
        "colab_type": "text"
      },
      "source": [
        "**1, Viết hàm Python để tìm Max của ba số.**\n",
        "\n",
        "**Write a Python function to find the Max of three numbers.**\n",
        "\n",
        "![alt text](https://www.w3resource.com/w3r_images/python-functions-image-exercise-1.svg)"
      ]
    },
    {
      "cell_type": "code",
      "metadata": {
        "id": "HMwwNgmCqyWs",
        "colab_type": "code",
        "colab": {
          "base_uri": "https://localhost:8080/",
          "height": 34
        },
        "outputId": "c22d39a6-86d8-4c0d-d45f-af811d865595"
      },
      "source": [
        "def max_of_two(x, y):                       # so sánh 2 số, tìm ra số lớn hơn\n",
        "  if x > y:\n",
        "    return x\n",
        "  return y\n",
        "\n",
        "def max_of_three(x, y, z):                  # hàm max của 3 số\n",
        "  return max_of_two(x, max_of_two(y, z))    # kết quả là so sánh từ hàm là 2 lần so sánh 2 số.\n",
        "\n",
        "print(max_of_three(3, 6, -5))"
      ],
      "execution_count": 1,
      "outputs": [
        {
          "output_type": "stream",
          "text": [
            "6\n"
          ],
          "name": "stdout"
        }
      ]
    },
    {
      "cell_type": "markdown",
      "metadata": {
        "id": "PkS2ENVMsTZs",
        "colab_type": "text"
      },
      "source": [
        "**2, Viết hàm Python để tổng hợp tất cả các số trong danh sách.**\n",
        "\n",
        "**Write a Python function to sum all the numbers in a list.**\n",
        "\n",
        "![alt text](https://www.w3resource.com/w3r_images/python-functions-image-exercise-2.svg)"
      ]
    },
    {
      "cell_type": "code",
      "metadata": {
        "id": "Z7523CisrPv7",
        "colab_type": "code",
        "colab": {
          "base_uri": "https://localhost:8080/",
          "height": 34
        },
        "outputId": "40b636b9-4111-4982-c9dd-fd08199ca370"
      },
      "source": [
        "def sum(numbers):\n",
        "  total = 0\n",
        "  for i in numbers:\n",
        "    total += i \n",
        "  return total\n",
        "\n",
        "print(sum((8,2,3,0,7)))"
      ],
      "execution_count": 5,
      "outputs": [
        {
          "output_type": "stream",
          "text": [
            "20\n"
          ],
          "name": "stdout"
        }
      ]
    },
    {
      "cell_type": "markdown",
      "metadata": {
        "id": "Doe51p8zszfv",
        "colab_type": "text"
      },
      "source": [
        "**3, Viết hàm Python để nhân tất cả các số trong danh sách.**\n",
        "\n",
        "**Write a Python function to multiply all the numbers in a list.**\n",
        "\n",
        "![alt text](https://www.w3resource.com/w3r_images/python-functions-image-exercise-3.svg)"
      ]
    },
    {
      "cell_type": "code",
      "metadata": {
        "id": "fv3RTqL_snNe",
        "colab_type": "code",
        "colab": {
          "base_uri": "https://localhost:8080/",
          "height": 34
        },
        "outputId": "6982492b-4b51-4154-f613-0765575e71c0"
      },
      "source": [
        "def multiply(list1):\n",
        "  total = 1\n",
        "  for i in list1:\n",
        "    total *= i \n",
        "  return total\n",
        "\n",
        "print(multiply([2,3,4,5]))"
      ],
      "execution_count": 6,
      "outputs": [
        {
          "output_type": "stream",
          "text": [
            "120\n"
          ],
          "name": "stdout"
        }
      ]
    },
    {
      "cell_type": "markdown",
      "metadata": {
        "id": "5pWvszyEtMBk",
        "colab_type": "text"
      },
      "source": [
        "**4, Viết chương trình Python để đảo ngược chuỗi.**\n",
        "\n",
        "**Write a Python program to reverse a string.**\n",
        "\n",
        "![alt text](https://www.w3resource.com/w3r_images/python-functions-image-exercise-4.svg)"
      ]
    },
    {
      "cell_type": "code",
      "metadata": {
        "id": "FS4XZXm9tDWu",
        "colab_type": "code",
        "colab": {
          "base_uri": "https://localhost:8080/",
          "height": 51
        },
        "outputId": "bdd1ff49-9b63-4261-de5e-151ec3df29dd"
      },
      "source": [
        "def string_reverse(str1):\n",
        "  rstr1 = ''                          # tạo 1 list rstr1 trống để gán từng index từ chuỗi vào\n",
        "  index = len(str1)                   # tạo index gán bằng độ dài chuỗi\n",
        "  while index > 0:                    # vòng lặp while\n",
        "    rstr1 += str1[index - 1]          # cộng lần lượt từng index chuỗi vào rstr1 theo chiều index từ lớn về bé\n",
        "    index = index - 1                 # giảm index đề cho index tiến tới 0, kết thúc vòng lặp\n",
        "  return rstr1\n",
        "\n",
        "print(string_reverse(\"Bim Beo\"))\n",
        "\"\"\"Cách 2:\n",
        "def reverse(str1):\n",
        "  return str1[::-1]\n",
        "\n",
        "print(reverse(\"BimBeo\"))\n",
        "\"\"\""
      ],
      "execution_count": 9,
      "outputs": [
        {
          "output_type": "stream",
          "text": [
            "oeB miB\n"
          ],
          "name": "stdout"
        },
        {
          "output_type": "execute_result",
          "data": {
            "text/plain": [
              "'Cách 2:\\ndef reverse(str1):\\n  return str1[::-1]\\n\\nprint(reverse(\"BimBeo\"))\\n'"
            ]
          },
          "metadata": {
            "tags": []
          },
          "execution_count": 9
        }
      ]
    },
    {
      "cell_type": "markdown",
      "metadata": {
        "id": "KUpVw9qOuf7Z",
        "colab_type": "text"
      },
      "source": [
        "**5, Viết hàm Python để tính giai thừa của một số (một số nguyên không âm). Hàm chấp nhận số này làm đối số.**\n",
        "\n",
        "**Write a Python function to calculate the factorial of a number (a non-negative integer). The function accepts the number as an argument.**\n",
        "\n",
        "![alt text](https://www.w3resource.com/w3r_images/python-functions-image-exercise-5.svg)"
      ]
    },
    {
      "cell_type": "code",
      "metadata": {
        "id": "kjC6bWnitZXt",
        "colab_type": "code",
        "colab": {
          "base_uri": "https://localhost:8080/",
          "height": 51
        },
        "outputId": "4f61943d-f4ee-4c89-d52d-c1fb6bd0f13f"
      },
      "source": [
        "def factorial(n):\n",
        "  if n == 0:\n",
        "    return 1\n",
        "  else:\n",
        "    return n * factorial(n - 1)\n",
        "\n",
        "n = int(input(\"Input a number to compute the factorial: \"))\n",
        "print(factorial(n))"
      ],
      "execution_count": 10,
      "outputs": [
        {
          "output_type": "stream",
          "text": [
            "Input a number to compute the factorial: 4\n",
            "24\n"
          ],
          "name": "stdout"
        }
      ]
    },
    {
      "cell_type": "markdown",
      "metadata": {
        "id": "BeiiCRwJvchi",
        "colab_type": "text"
      },
      "source": [
        "**6, Viết hàm Python để kiểm tra xem một số có nằm trong một phạm vi nhất định không.**\n",
        "\n",
        "**Write a Python function to check whether a number is in a given range.**\n",
        "\n",
        "![alt text](https://www.w3resource.com/w3r_images/python-functions-image-exercise-6.svg)"
      ]
    },
    {
      "cell_type": "code",
      "metadata": {
        "id": "KkDiImtQu4s4",
        "colab_type": "code",
        "colab": {
          "base_uri": "https://localhost:8080/",
          "height": 34
        },
        "outputId": "57a931dd-84cc-48b0-dc62-051c090e99d9"
      },
      "source": [
        "def test_range(n):\n",
        "  if n in range(3, 9):\n",
        "    print(\"%s is in the range\" % str(n))\n",
        "  else:\n",
        "    print(\"The number is outside the given range.\")\n",
        "\n",
        "test_range(5)"
      ],
      "execution_count": 13,
      "outputs": [
        {
          "output_type": "stream",
          "text": [
            "5 is in the range\n"
          ],
          "name": "stdout"
        }
      ]
    },
    {
      "cell_type": "markdown",
      "metadata": {
        "id": "Kv9wbxxmv8Wv",
        "colab_type": "text"
      },
      "source": [
        "**7, Viết hàm Python chấp nhận một chuỗi và tính toán số lượng chữ in hoa và chữ thường.**\n",
        "\n",
        "**Write a Python function that accepts a string and calculate the number of upper case letters and lower case letters.**\n",
        "\n",
        "![alt text](https://www.w3resource.com/w3r_images/python-functions-image-exercise-7.svg)"
      ]
    },
    {
      "cell_type": "code",
      "metadata": {
        "id": "2kH98032vwqh",
        "colab_type": "code",
        "colab": {
          "base_uri": "https://localhost:8080/",
          "height": 68
        },
        "outputId": "a5c01894-b151-4709-81c0-24db22f0872b"
      },
      "source": [
        "def string_test(s):\n",
        "  d = {\"UPPER_CASE\" : 0, \"LOWER_CASE\" : 0}                      # sử dụng dict để số chữ cái in hoa và chữ thường đếm được vào value của key\n",
        "  for c in s:\n",
        "    if c.isupper():\n",
        "      d[\"UPPER_CASE\"] += 1\n",
        "    elif c.islower():\n",
        "      d[\"LOWER_CASE\"] += 1\n",
        "    else:\n",
        "      pass\n",
        "\n",
        "  print (\"Original String : \", s)\n",
        "  print (\"No. of Upper case characters : \", d[\"UPPER_CASE\"])\n",
        "  print (\"No. of Lower case Characters : \", d[\"LOWER_CASE\"])\n",
        "\n",
        "string_test('The quick Brown Fox')"
      ],
      "execution_count": 15,
      "outputs": [
        {
          "output_type": "stream",
          "text": [
            "Original String :  The quick Brown Fox\n",
            "No. of Upper case characters :  3\n",
            "No. of Lower case Characters :  13\n"
          ],
          "name": "stdout"
        }
      ]
    },
    {
      "cell_type": "markdown",
      "metadata": {
        "id": "goTJZL4qxBYw",
        "colab_type": "text"
      },
      "source": [
        "**8, Viết hàm Python lấy danh sách và trả về danh sách mới với các phần tử duy nhất của danh sách đầu tiên.**\n",
        "\n",
        "**Write a Python function that takes a list and returns a new list with unique elements of the first list.**\n",
        "\n",
        "![alt text](https://www.w3resource.com/w3r_images/python-functions-image-exercise-8.svg)\n"
      ]
    },
    {
      "cell_type": "code",
      "metadata": {
        "id": "b7-vZJeiwaWy",
        "colab_type": "code",
        "colab": {
          "base_uri": "https://localhost:8080/",
          "height": 34
        },
        "outputId": "d981b032-cc6f-494a-ca7b-b4c8313f3611"
      },
      "source": [
        "def unique_list(l):\n",
        "  x = []\n",
        "  for a in l:\n",
        "    if a not in x:                    \n",
        "      x.append(a)\n",
        "  return x\n",
        "\n",
        "print(unique_list([1,2,3,3,3,3,4,5]))"
      ],
      "execution_count": 16,
      "outputs": [
        {
          "output_type": "stream",
          "text": [
            "[1, 2, 3, 4, 5]\n"
          ],
          "name": "stdout"
        }
      ]
    },
    {
      "cell_type": "markdown",
      "metadata": {
        "id": "-UI_b1t5xdA5",
        "colab_type": "text"
      },
      "source": [
        "**9, Viết hàm Python lấy một số làm tham số và kiểm tra số đó có phải là số nguyên tố hay không.**\n",
        "\n",
        "**Write a Python function that takes a number as a parameter and check the number is prime or not.**\n",
        "\n",
        "Note : A prime number (or a prime) is a natural number greater than 1 and that has no positive divisors other than 1 and itself.\n",
        "\n",
        "![alt text](https://www.w3resource.com/w3r_images/prime-numbers-1-to-100.png)\n",
        "\n",
        "\n",
        "![alt text](https://www.w3resource.com/w3r_images/prime-number.png)"
      ]
    },
    {
      "cell_type": "code",
      "metadata": {
        "id": "lBunqfoAxOKS",
        "colab_type": "code",
        "colab": {
          "base_uri": "https://localhost:8080/",
          "height": 51
        },
        "outputId": "7fe4e979-bf88-4efb-a88e-93484fe0667a"
      },
      "source": [
        "def test_prime(n):\n",
        "  if (n==1):                  # gán luôn 1 không phải số nguyên tố\n",
        "    return False\n",
        "  elif (n==2):                # gán luôn 2 là 1 số nguyên tố\n",
        "    return True \n",
        "  else: \n",
        "    for x in range(2, n):     # vòng lặp for với x bắt đầu từ 2 đến n\n",
        "      if (n % x == 0):        # điều kiện nếu n % x == 0, tức n chia hết cho x không dư thì không phải số nguyên tố\n",
        "        return False \n",
        "    return True \n",
        "\n",
        "print(test_prime(9))\n",
        "print(test_prime(11))"
      ],
      "execution_count": 18,
      "outputs": [
        {
          "output_type": "stream",
          "text": [
            "False\n",
            "True\n"
          ],
          "name": "stdout"
        }
      ]
    },
    {
      "cell_type": "markdown",
      "metadata": {
        "id": "bR7B-SF9y6JD",
        "colab_type": "text"
      },
      "source": [
        "**10, Viết chương trình Python để in các số chẵn từ một danh sách nhất định.**\n",
        "\n",
        "**Write a Python program to print the even numbers from a given list.**\n",
        "\n",
        "![alt text](https://www.w3resource.com/w3r_images/even-numbers-1-100.png)"
      ]
    },
    {
      "cell_type": "code",
      "metadata": {
        "id": "ot7XFICZyHbI",
        "colab_type": "code",
        "colab": {
          "base_uri": "https://localhost:8080/",
          "height": 34
        },
        "outputId": "bdef2857-3a53-4bdf-f907-fc7751db53aa"
      },
      "source": [
        "def even_number(l):\n",
        "  l2 = []\n",
        "  for i in l:\n",
        "    if i % 2 == 0:\n",
        "      l2.append(i)\n",
        "  return l2\n",
        "\n",
        "print(even_number([1,2,3,4,5,6,7,8]))\n"
      ],
      "execution_count": 20,
      "outputs": [
        {
          "output_type": "stream",
          "text": [
            "[2, 4, 6, 8]\n"
          ],
          "name": "stdout"
        }
      ]
    },
    {
      "cell_type": "markdown",
      "metadata": {
        "id": "YolsKnbazZWc",
        "colab_type": "text"
      },
      "source": [
        "**11, Viết hàm Python để kiểm tra xem một số có hoàn hảo hay không.**\n",
        "\n",
        "**Write a Python function to check whether a number is perfect or not.**\n",
        "\n",
        "Example : The first perfect number is 6, because 1, 2, and 3 are its proper positive divisors, and 1 + 2 + 3 = 6. Equivalently, the number 6 is equal to half the sum of all its positive divisors: ( 1 + 2 + 3 + 6 ) / 2 = 6. The next perfect number is 28 = 1 + 2 + 4 + 7 + 14. This is followed by the perfect numbers 496 and 8128\n",
        "\n",
        "![alt text](https://www.w3resource.com/w3r_images/python-functions-image-exercise-11.svg)\n",
        "\n"
      ]
    },
    {
      "cell_type": "code",
      "metadata": {
        "id": "A7d4EcGkzSwJ",
        "colab_type": "code",
        "colab": {
          "base_uri": "https://localhost:8080/",
          "height": 34
        },
        "outputId": "ed9db41d-8d9b-4980-8a1a-8f024b191f4d"
      },
      "source": [
        "def perfect_number(n):\n",
        "  sum = 0\n",
        "  for x in range(1, n):\n",
        "    if n % x == 0:              # những số chia hết cho n\n",
        "      sum += x                  # tính tổng của những số chia hết cho n\n",
        "  return sum == n               # nếu tổng bằng chính n thì là số hoàn hảo, True\n",
        "\n",
        "print(perfect_number(6))"
      ],
      "execution_count": 21,
      "outputs": [
        {
          "output_type": "stream",
          "text": [
            "True\n"
          ],
          "name": "stdout"
        }
      ]
    },
    {
      "cell_type": "markdown",
      "metadata": {
        "id": "-PrK_ilt0sek",
        "colab_type": "text"
      },
      "source": [
        "**12, Viết hàm Python để kiểm tra xem một chuỗi đã qua có phải là palindrom hay không.**\n",
        "\n",
        "**Write a Python function that checks whether a passed string is palindrome or not.**\n",
        "\n",
        "Note: A palindrome is a word, phrase, or sequence that reads the same backward as forward, e.g., madam or nurses run.\n",
        "\n",
        "Lưu ý: Bảng màu là một từ, cụm từ hoặc chuỗi đọc ngược tương tự như chuyển tiếp, ví dụ: madam hoặc y tá chạy.\n",
        "\n",
        "![alt text](https://www.w3resource.com/w3r_images/python-functions-image-exercise-12.svg)"
      ]
    },
    {
      "cell_type": "code",
      "metadata": {
        "id": "9f_T3Aoy0R1D",
        "colab_type": "code",
        "colab": {
          "base_uri": "https://localhost:8080/",
          "height": 68
        },
        "outputId": "a5b25e14-3e6d-46f0-82ed-6af7e2e2f093"
      },
      "source": [
        "def isPalindrome(string):\n",
        "  left_pos = 0                                      # left_pos = 0, tức index đầu tiên\n",
        "  right_pos = len(string) - 1                       # rigt_pos = len(str) - 1, tức index cuối cùng\n",
        "\n",
        "  while right_pos >= left_pos:                      # vòng lặp white, dừng khi right = left\n",
        "    if not string[left_pos] == string[right_pos]:   # điều kiện nếu index[left] không giống index[right]\n",
        "      return False                                  # trả về False, sai\n",
        "    left_pos += 1                                   # index left + thêm 1 sau mỗi vòng lặp, tức bỏ qua index trái cũ\n",
        "    right_pos -= 1                                  # index right - đi 1 sau mỗi vòng lặp, tức bỏ qua index phải cũ\n",
        "  return True                                       # đến khi tìm được 2 index giống nhau thì trả về True, kết thúc vòng lặp\n",
        "\n",
        "print(isPalindrome('aza'))\n",
        "print(isPalindrome('madam'))\n",
        "print(isPalindrome(\"BimBeo\"))"
      ],
      "execution_count": 22,
      "outputs": [
        {
          "output_type": "stream",
          "text": [
            "True\n",
            "True\n",
            "False\n"
          ],
          "name": "stdout"
        }
      ]
    },
    {
      "cell_type": "markdown",
      "metadata": {
        "id": "3a4Hm72w3GQZ",
        "colab_type": "text"
      },
      "source": [
        "**13, Viết hàm Python in ra n hàng đầu tiên của tam giác Pascal.**\n",
        "\n",
        "**Write a Python function that that prints out the first n rows of Pascal's triangle.**\n",
        "\n",
        "Note : Pascal's triangle is an arithmetic and geometric figure first imagined by Blaise Pascal.\n",
        "\n",
        "Lưu ý: Tam giác của Pascal là một hình số học và hình học được tưởng tượng đầu tiên bởi Blaise Pascal.\n",
        "\n",
        "![alt text](https://www.w3resource.com/w3r_images/pascal-traingle.png)"
      ]
    },
    {
      "cell_type": "code",
      "metadata": {
        "id": "Gky9r9jT1ks2",
        "colab_type": "code",
        "colab": {
          "base_uri": "https://localhost:8080/",
          "height": 136
        },
        "outputId": "babd3c24-8bc7-498c-e946-7ed6c5ad83d3"
      },
      "source": [
        "def pascal_triangle(n):\n",
        "  trow = [1]\n",
        "  y = [0]\n",
        "  for x in range(max(n, 0)):\n",
        "    print(trow)\n",
        "    trow = [l+r for l, r in zip(trow + y, y + trow)] # khi x = 0, thì zip([1, 0], [0, 1]) -> trow = [1, 1], x = 2 thì zip([1,1,0], [0,1,1]) -> trow = [1, 2, 1]\n",
        "  return n >= 1\n",
        "pascal_triangle(6)"
      ],
      "execution_count": 26,
      "outputs": [
        {
          "output_type": "stream",
          "text": [
            "[1]\n",
            "[1, 1]\n",
            "[1, 2, 1]\n",
            "[1, 3, 3, 1]\n",
            "[1, 4, 6, 4, 1]\n",
            "[1, 5, 10, 10, 5, 1]\n"
          ],
          "name": "stdout"
        },
        {
          "output_type": "execute_result",
          "data": {
            "text/plain": [
              "True"
            ]
          },
          "metadata": {
            "tags": []
          },
          "execution_count": 26
        }
      ]
    },
    {
      "cell_type": "markdown",
      "metadata": {
        "id": "oQBMed3U5LvN",
        "colab_type": "text"
      },
      "source": [
        "**14, Viết hàm Python để kiểm tra xem một chuỗi có phải là pangram hay không.**\n",
        "\n",
        "**Write a Python function to check whether a string is a pangram or not.**\n",
        "\n",
        "Note : Pangrams are words or sentences containing every letter of the alphabet at least once.\n",
        "For example : \"The quick brown fox jumps over the lazy dog\"\n",
        "\n",
        "Lưu ý: Pangram là những từ hoặc câu chứa mỗi chữ cái của bảng chữ cái ít nhất một lần.\n",
        "Ví dụ: \"Con cáo nâu nhanh nhẹn nhảy qua con chó lười\"\n",
        "\n",
        "![alt text](https://www.w3resource.com/w3r_images/python-functions-image-exercise-14.svg)"
      ]
    },
    {
      "cell_type": "code",
      "metadata": {
        "id": "b38-0LVZ3h7d",
        "colab_type": "code",
        "colab": {
          "base_uri": "https://localhost:8080/",
          "height": 34
        },
        "outputId": "74c74d1c-9468-4f0d-8d7b-ff48bb4d25ed"
      },
      "source": [
        "import string, sys\n",
        "def ispangram (str1, alphabet = string.ascii_lowercase):  # alphabet\t\"abcdefghijklmnopqrstuvwxyz\"\n",
        "  alphaset = set(alphabet)                                # alphaset = set(alphabet), tập hợp của chuỗi alphabet trên\n",
        "  return alphaset <= set(str1.lower())                    # kết quả trả về nếu số lượng ký tự tập hợp alphaset <= số lượng ký tự trong chuỗi truyền vào\n",
        "                                                        \n",
        "print ( ispangram('The quick brown fox jumps over the lazy dog')) \n"
      ],
      "execution_count": 28,
      "outputs": [
        {
          "output_type": "stream",
          "text": [
            "True\n"
          ],
          "name": "stdout"
        }
      ]
    },
    {
      "cell_type": "markdown",
      "metadata": {
        "id": "sNbzSgsz6hKI",
        "colab_type": "text"
      },
      "source": [
        "**15, Viết chương trình Python chấp nhận chuỗi từ được phân tách bằng dấu gạch ngang làm đầu vào và in các từ theo trình tự được phân tách bằng dấu gạch nối sau khi sắp xếp chúng theo thứ tự bảng chữ cái.**\n",
        "\n",
        "**Write a Python program that accepts a hyphen-separated sequence of words as input and prints the words in a hyphen-separated sequence after sorting them alphabetically.**\n",
        "\n",
        "![alt text](https://www.w3resource.com/w3r_images/python-functions-image-exercise-15.svg)\n"
      ]
    },
    {
      "cell_type": "code",
      "metadata": {
        "id": "cn4lHXeP5kRT",
        "colab_type": "code",
        "colab": {
          "base_uri": "https://localhost:8080/",
          "height": 51
        },
        "outputId": "e9ccf6aa-2fb0-4e82-d513-fdcbcdf1ed42"
      },
      "source": [
        "items = [n for n in input().split('-')]   # tạo 1 list từ chuỗi được nhập vào bàn phím, mỗi từ cách nhau = dấu gạch ngang\n",
        "items.sort()                              # sắp xếp list items\n",
        "print('-'.join(items))                    # chuyển từ list sang chuỗi"
      ],
      "execution_count": 29,
      "outputs": [
        {
          "output_type": "stream",
          "text": [
            "green-red-black-white\n",
            "black-green-red-white\n"
          ],
          "name": "stdout"
        }
      ]
    },
    {
      "cell_type": "markdown",
      "metadata": {
        "id": "DgvCuAtB7HH4",
        "colab_type": "text"
      },
      "source": [
        "**16, Viết hàm Python để tạo và in danh sách trong đó các giá trị là bình phương của các số từ 1 đến 30 (bao gồm cả hai).**\n",
        "\n",
        "**Write a Python function to create and print a list where the values are square of numbers between 1 and 30 (both included).**\n",
        "\n",
        "![alt text](https://www.w3resource.com/w3r_images/python-functions-image-exercise-16.svg)"
      ]
    },
    {
      "cell_type": "code",
      "metadata": {
        "id": "tDbMeJz16yJA",
        "colab_type": "code",
        "colab": {
          "base_uri": "https://localhost:8080/",
          "height": 34
        },
        "outputId": "3685bc0e-a09a-43b5-bfd7-7318c7c91457"
      },
      "source": [
        "def printValues():\n",
        "  l = list()\n",
        "  for i in range(1,21):\n",
        "    l.append(i**2)\n",
        "  print(l)\n",
        "\n",
        "printValues()"
      ],
      "execution_count": 30,
      "outputs": [
        {
          "output_type": "stream",
          "text": [
            "[1, 4, 9, 16, 25, 36, 49, 64, 81, 100, 121, 144, 169, 196, 225, 256, 289, 324, 361, 400]\n"
          ],
          "name": "stdout"
        }
      ]
    },
    {
      "cell_type": "markdown",
      "metadata": {
        "id": "tK2KiuQK7kgx",
        "colab_type": "text"
      },
      "source": [
        "**17, Viết chương trình Python để tạo một chuỗi các hàm trang trí chức năng (in đậm, in nghiêng, gạch chân, v.v.).**\n",
        "\n",
        "**Write a Python program to make a chain of function decorators (bold, italic, underline etc.).**\n",
        "\n",
        "https://www.geeksforgeeks.org/decorators-in-python/\n",
        "\n",
        "![alt text](https://www.w3resource.com/w3r_images/python-functions-image-exercise-17.svg)"
      ]
    },
    {
      "cell_type": "code",
      "metadata": {
        "id": "eJjX4kLe7fhM",
        "colab_type": "code",
        "colab": {
          "base_uri": "https://localhost:8080/",
          "height": 34
        },
        "outputId": "3911fc52-87a6-4892-8ef5-99b66f95f9b8"
      },
      "source": [
        "def make_bold(fn):\n",
        "  def wrapped():\n",
        "    return \"<b>\" + fn() + \"</b\"\n",
        "  return wrapped\n",
        "\n",
        "def make_italic(fn):\n",
        "  def wrapped():\n",
        "    return \"<i>\" + fn() + \"</i>\"\n",
        "  return wrapped\n",
        "\n",
        "def make_underline(fn):\n",
        "  def wrapped():\n",
        "    return \"<u>\" + fn() + \"</u>\"\n",
        "  return wrapped\n",
        "\n",
        "@make_bold\n",
        "@make_italic\n",
        "@make_underline\n",
        "def hello():\n",
        "    return \"hello world\"\n",
        "print(hello()) ## returns \"<b><i><u>hello world</u></i></b>\""
      ],
      "execution_count": 34,
      "outputs": [
        {
          "output_type": "stream",
          "text": [
            "<b><i><u>hello world</u></i></b\n"
          ],
          "name": "stdout"
        }
      ]
    },
    {
      "cell_type": "markdown",
      "metadata": {
        "id": "2I74A02e9Evu",
        "colab_type": "text"
      },
      "source": [
        "**18, Viết chương trình Python để thực thi một chuỗi chứa mã Python.**\n",
        "\n",
        "**Write a Python program to execute a string containing Python code.**\n",
        "\n"
      ]
    },
    {
      "cell_type": "code",
      "metadata": {
        "id": "Y1mDNKQ68QRs",
        "colab_type": "code",
        "colab": {
          "base_uri": "https://localhost:8080/",
          "height": 51
        },
        "outputId": "cb413f18-d20f-4c4d-949e-57bba0b06cdc"
      },
      "source": [
        "mycode = 'print(\"Hello Word\")'\n",
        "code = \"\"\"\n",
        "def mutiply(x,y):\n",
        "    return x*y\n",
        "\n",
        "print('Multiply of 2 and 3 is: ',mutiply(2,3))\n",
        "\"\"\"\n",
        "exec(mycode)\n",
        "exec(code)"
      ],
      "execution_count": 35,
      "outputs": [
        {
          "output_type": "stream",
          "text": [
            "Hello Word\n",
            "Multiply of 2 and 3 is:  6\n"
          ],
          "name": "stdout"
        }
      ]
    },
    {
      "cell_type": "markdown",
      "metadata": {
        "id": "0yb_7jtU9WOX",
        "colab_type": "text"
      },
      "source": [
        "**19, Viết chương trình Python để truy cập một hàm bên trong hàm.**\n",
        "\n",
        "**Write a Python program to access a function inside a function.**\n",
        "\n"
      ]
    },
    {
      "cell_type": "code",
      "metadata": {
        "id": "hzgSLBq79Q3E",
        "colab_type": "code",
        "colab": {
          "base_uri": "https://localhost:8080/",
          "height": 34
        },
        "outputId": "a5c6c12d-567a-4705-e590-d762aed39cff"
      },
      "source": [
        "def test(a):\n",
        "  def add(b):\n",
        "    nonlocal a\n",
        "    a += 1\n",
        "    return a+b\n",
        "  return add\n",
        "func = test(4)\n",
        "print(func(4))"
      ],
      "execution_count": 36,
      "outputs": [
        {
          "output_type": "stream",
          "text": [
            "9\n"
          ],
          "name": "stdout"
        }
      ]
    },
    {
      "cell_type": "markdown",
      "metadata": {
        "id": "huyd5GIr9uge",
        "colab_type": "text"
      },
      "source": [
        "**20, Viết chương trình Python để phát hiện số lượng biến cục bộ được khai báo trong hàm.**\n",
        "\n",
        "**Write a Python program to detect the number of local variables declared in a function.**\n",
        "\n"
      ]
    },
    {
      "cell_type": "code",
      "metadata": {
        "id": "zZaUNjAe9hnY",
        "colab_type": "code",
        "colab": {
          "base_uri": "https://localhost:8080/",
          "height": 34
        },
        "outputId": "45001534-d2d9-4603-8b19-f500b3af895e"
      },
      "source": [
        "def abc():\n",
        "  x = 1\n",
        "  y = 2\n",
        "  str1 = \"w3resource\"\n",
        "  print(\"Python Excercises\")\n",
        "\n",
        "print(abc.__code__.co_nlocals)"
      ],
      "execution_count": 37,
      "outputs": [
        {
          "output_type": "stream",
          "text": [
            "3\n"
          ],
          "name": "stdout"
        }
      ]
    },
    {
      "cell_type": "code",
      "metadata": {
        "id": "arwIJWlt986r",
        "colab_type": "code",
        "colab": {}
      },
      "source": [
        ""
      ],
      "execution_count": 0,
      "outputs": []
    }
  ]
}