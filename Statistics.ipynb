{
  "nbformat": 4,
  "nbformat_minor": 0,
  "metadata": {
    "colab": {
      "name": "Statistics.ipynb",
      "provenance": [],
      "authorship_tag": "ABX9TyOdJ6M8HZ7L5w4n58HU8ai/",
      "include_colab_link": true
    },
    "kernelspec": {
      "name": "python3",
      "display_name": "Python 3"
    }
  },
  "cells": [
    {
      "cell_type": "markdown",
      "metadata": {
        "id": "view-in-github",
        "colab_type": "text"
      },
      "source": [
        "<a href=\"https://colab.research.google.com/github/bimbeo/Web/blob/master/Statistics.ipynb\" target=\"_parent\"><img src=\"https://colab.research.google.com/assets/colab-badge.svg\" alt=\"Open In Colab\"/></a>"
      ]
    },
    {
      "cell_type": "markdown",
      "metadata": {
        "id": "s92yf2KhrVFf",
        "colab_type": "text"
      },
      "source": [
        "**1, Viết chương trình Python để tìm giá trị tối đa và tối thiểu của một mảng đã cho.**\n",
        "\n",
        "**Write a Python program to find the maximum and minimum value of a given flattened array.**\n",
        "\n"
      ]
    },
    {
      "cell_type": "code",
      "metadata": {
        "id": "uVnOEjYmrHmB",
        "colab_type": "code",
        "colab": {
          "base_uri": "https://localhost:8080/",
          "height": 136
        },
        "outputId": "83d5135d-1dcb-45a4-d45e-c15a858f37cc"
      },
      "source": [
        "import numpy as np\n",
        "a = np.arange(4).reshape((2,2))\n",
        "print(\"Original flattened array:\")\n",
        "print(a)\n",
        "print(\"Maximum value of the above flattended array:\")\n",
        "print(np.amax(a))\n",
        "print(\"Minimum value of the above flattended array:\")\n",
        "print(np.amin(a))"
      ],
      "execution_count": 1,
      "outputs": [
        {
          "output_type": "stream",
          "text": [
            "Original flattened array:\n",
            "[[0 1]\n",
            " [2 3]]\n",
            "Maximum value of the above flattended array:\n",
            "3\n",
            "Minimum value of the above flattended array:\n",
            "0\n"
          ],
          "name": "stdout"
        }
      ]
    },
    {
      "cell_type": "markdown",
      "metadata": {
        "id": "rYxTbvXcrt8u",
        "colab_type": "text"
      },
      "source": [
        "**2, Viết chương trình NumPy để lấy giá trị tối thiểu và tối đa của một mảng nhất định dọc theo trục thứ hai.**\n",
        "\n",
        "**Write a NumPy program to get the minimum and maximum value of a given array along the second axis.**\n",
        "\n"
      ]
    },
    {
      "cell_type": "code",
      "metadata": {
        "id": "0OLd8S4arns3",
        "colab_type": "code",
        "colab": {
          "base_uri": "https://localhost:8080/",
          "height": 170
        },
        "outputId": "359e4167-9b82-491b-efa7-0a18264d34f1"
      },
      "source": [
        "x = np.arange(4).reshape((2, 2))\n",
        "print(\"\\nOriginal array:\")\n",
        "print(x)\n",
        "print(\"\\nMaximum value along the second axis:\")\n",
        "print(np.amax(x, 1))\n",
        "print(\"Minimum value along the second axis:\")\n",
        "print(np.amin(x, 1))"
      ],
      "execution_count": 2,
      "outputs": [
        {
          "output_type": "stream",
          "text": [
            "\n",
            "Original array:\n",
            "[[0 1]\n",
            " [2 3]]\n",
            "\n",
            "Maximum value along the second axis:\n",
            "[1 3]\n",
            "Minimum value along the second axis:\n",
            "[0 2]\n"
          ],
          "name": "stdout"
        }
      ]
    },
    {
      "cell_type": "markdown",
      "metadata": {
        "id": "Xe32FD1xr-Z9",
        "colab_type": "text"
      },
      "source": [
        "**3, Viết chương trình NumPy để tính chênh lệch giữa giá trị tối đa và tối thiểu của một mảng nhất định dọc theo trục thứ hai.**\n",
        "\n",
        "**Write a NumPy program to calculate the difference between the maximum and the minimum values of a given array along the second axis.**\n",
        "\n"
      ]
    },
    {
      "cell_type": "code",
      "metadata": {
        "id": "mjQ7cacvr0FV",
        "colab_type": "code",
        "colab": {
          "base_uri": "https://localhost:8080/",
          "height": 136
        },
        "outputId": "3b225bf4-edad-4868-a599-a3dbec55ec95"
      },
      "source": [
        "x = np.arange(12).reshape((2, 6))\n",
        "print(\"\\nOriginal array:\")\n",
        "print(x)\n",
        "r1 = np.ptp(x,1)\n",
        "r2 = np.amax(x, 1) - np.amin(x, 1)\n",
        "assert np.allclose(r1, r2)\n",
        "print(\"\\nDifference between the maximum and the minimum values of the said array:\")\n",
        "print(r1)"
      ],
      "execution_count": 3,
      "outputs": [
        {
          "output_type": "stream",
          "text": [
            "\n",
            "Original array:\n",
            "[[ 0  1  2  3  4  5]\n",
            " [ 6  7  8  9 10 11]]\n",
            "\n",
            "Difference between the maximum and the minimum values of the said array:\n",
            "[5 5]\n"
          ],
          "name": "stdout"
        }
      ]
    },
    {
      "cell_type": "markdown",
      "metadata": {
        "id": "OnZzQnfDsZ1w",
        "colab_type": "text"
      },
      "source": [
        "**4, Viết chương trình NumPy để tính phần trăm thứ 80 cho tất cả các phần tử trong một mảng nhất định dọc theo trục thứ hai.**\n",
        "\n",
        "**Write a NumPy program to compute the 80th percentile for all elements in a given array along the second axis.**\n",
        "\n",
        "\n"
      ]
    },
    {
      "cell_type": "code",
      "metadata": {
        "id": "2WTmXhgBsR9F",
        "colab_type": "code",
        "colab": {
          "base_uri": "https://localhost:8080/",
          "height": 136
        },
        "outputId": "ad958559-6854-4332-99d8-5ed406f5930b"
      },
      "source": [
        "x = np.arange(12).reshape((2, 6))\n",
        "print(\"\\nOriginal array:\")\n",
        "print(x)\n",
        "r1 = np.percentile(x, 80, 1)\n",
        "print(\"\\n80th percentile for all elements of the said array along the second axis:\")\n",
        "print(r1)"
      ],
      "execution_count": 4,
      "outputs": [
        {
          "output_type": "stream",
          "text": [
            "\n",
            "Original array:\n",
            "[[ 0  1  2  3  4  5]\n",
            " [ 6  7  8  9 10 11]]\n",
            "\n",
            "80th percentile for all elements of the said array along the second axis:\n",
            "[ 4. 10.]\n"
          ],
          "name": "stdout"
        }
      ]
    },
    {
      "cell_type": "markdown",
      "metadata": {
        "id": "ctE8ousOswHl",
        "colab_type": "text"
      },
      "source": [
        "**5, Viết chương trình NumPy để tính trung vị của mảng đã cho.**\n",
        "\n",
        "**Write a NumPy program to compute the median of flattened given array.**\n",
        "\n",
        "![alt text](https://www.w3resource.com/w3r_images/numpy-statistics-median.svg)"
      ]
    },
    {
      "cell_type": "code",
      "metadata": {
        "id": "hKogQL98sqJ2",
        "colab_type": "code",
        "colab": {
          "base_uri": "https://localhost:8080/",
          "height": 136
        },
        "outputId": "d4d55c12-fe55-4fe5-9585-20842054e9ab"
      },
      "source": [
        "x = np.arange(12).reshape((2, 6))\n",
        "print(\"\\nOriginal array:\")\n",
        "print(x)\n",
        "r1 = np.median(x)\n",
        "print(\"\\nMedian of said array: \")\n",
        "print(r1)"
      ],
      "execution_count": 5,
      "outputs": [
        {
          "output_type": "stream",
          "text": [
            "\n",
            "Original array:\n",
            "[[ 0  1  2  3  4  5]\n",
            " [ 6  7  8  9 10 11]]\n",
            "\n",
            "Median of said array: \n",
            "5.5\n"
          ],
          "name": "stdout"
        }
      ]
    },
    {
      "cell_type": "markdown",
      "metadata": {
        "id": "10ubg-f1tJGU",
        "colab_type": "text"
      },
      "source": [
        "**6, Viết chương trình NumPy để tính trọng số của một mảng nhất định.**\n",
        "\n",
        "**Write a NumPy program to compute the weighted of a given array.**\n",
        "\n"
      ]
    },
    {
      "cell_type": "code",
      "metadata": {
        "id": "r0hQoM87tD6I",
        "colab_type": "code",
        "colab": {
          "base_uri": "https://localhost:8080/",
          "height": 119
        },
        "outputId": "309aa592-113c-45c7-8530-71338aaf7d4b"
      },
      "source": [
        "x = np.arange(5)\n",
        "print(\"\\nOriginal array:\")\n",
        "print(x)\n",
        "weights = np.arange(1, 6)\n",
        "r1 = np.average(x, weights=weights)\n",
        "r2 = (x*(weights/weights.sum())).sum()\n",
        "assert np.allclose(r1, r2)\n",
        "print(\"\\nWeight average of the said array:\")\n",
        "print(r1)"
      ],
      "execution_count": 6,
      "outputs": [
        {
          "output_type": "stream",
          "text": [
            "\n",
            "Original array:\n",
            "[0 1 2 3 4]\n",
            "\n",
            "Weight average of the said array:\n",
            "2.6666666666666665\n"
          ],
          "name": "stdout"
        }
      ]
    },
    {
      "cell_type": "markdown",
      "metadata": {
        "id": "QqdOS7WYtjoT",
        "colab_type": "text"
      },
      "source": [
        "**7, Viết chương trình NumPy để tính giá trị trung bình, độ lệch chuẩn và phương sai của một mảng nhất định dọc theo trục thứ hai.**\n",
        "\n",
        "**Write a NumPy program to compute the mean, standard deviation, and variance of a given array along the second axis.**\n",
        "\n"
      ]
    },
    {
      "cell_type": "code",
      "metadata": {
        "id": "m3njdbkZtgEW",
        "colab_type": "code",
        "colab": {
          "base_uri": "https://localhost:8080/",
          "height": 170
        },
        "outputId": "c2ab5471-9a8b-466e-ff86-7b4e5f6c3c8d"
      },
      "source": [
        "import numpy as np\n",
        "x = np.arange(6)\n",
        "print(\"\\nOriginal array:\")\n",
        "print(x)\n",
        "r1 = np.mean(x)\n",
        "r2 = np.average(x)\n",
        "assert np.allclose(r1, r2)\n",
        "print(\"\\nMean: \", r1)\n",
        "r1 = np.std(x)\n",
        "r2 = np.sqrt(np.mean((x - np.mean(x)) ** 2 ))\n",
        "assert np.allclose(r1, r2)\n",
        "print(\"\\nstd: \", 1)\n",
        "r1= np.var(x)\n",
        "r2 = np.mean((x - np.mean(x)) ** 2 )\n",
        "assert np.allclose(r1, r2)\n",
        "print(\"\\nvariance: \", r1)"
      ],
      "execution_count": 8,
      "outputs": [
        {
          "output_type": "stream",
          "text": [
            "\n",
            "Original array:\n",
            "[0 1 2 3 4 5]\n",
            "\n",
            "Mean:  2.5\n",
            "\n",
            "std:  1\n",
            "\n",
            "variance:  2.9166666666666665\n"
          ],
          "name": "stdout"
        }
      ]
    },
    {
      "cell_type": "markdown",
      "metadata": {
        "id": "eKl4zB4Vuddm",
        "colab_type": "text"
      },
      "source": [
        "**8, Viết chương trình NumPy để tính ma trận hiệp phương sai của hai mảng đã cho.**\n",
        "\n",
        "**Write a NumPy program to compute the covariance matrix of two given arrays.**\n",
        "\n"
      ]
    },
    {
      "cell_type": "code",
      "metadata": {
        "id": "LRW463TvuFXK",
        "colab_type": "code",
        "colab": {
          "base_uri": "https://localhost:8080/",
          "height": 187
        },
        "outputId": "87a6b94e-0768-4b70-a1f1-214aa8144496"
      },
      "source": [
        "x = np.array([0, 1, 2])\n",
        "y = np.array([2, 1, 0])\n",
        "print(\"\\nOriginal array1:\")\n",
        "print(x)\n",
        "print(\"\\nOriginal array1:\")\n",
        "print(y)\n",
        "print(\"\\nCovariance matrix of the said arrays:\\n\",np.cov(x, y))"
      ],
      "execution_count": 9,
      "outputs": [
        {
          "output_type": "stream",
          "text": [
            "\n",
            "Original array1:\n",
            "[0 1 2]\n",
            "\n",
            "Original array1:\n",
            "[2 1 0]\n",
            "\n",
            "Covariance matrix of the said arrays:\n",
            " [[ 1. -1.]\n",
            " [-1.  1.]]\n"
          ],
          "name": "stdout"
        }
      ]
    },
    {
      "cell_type": "markdown",
      "metadata": {
        "id": "QHJonSznumos",
        "colab_type": "text"
      },
      "source": [
        "**9, Viết chương trình NumPy để tính tương quan chéo của hai mảng đã cho.**\n",
        "\n",
        "**Write a NumPy program to compute cross-correlation of two given arrays.**\n",
        "\n"
      ]
    },
    {
      "cell_type": "code",
      "metadata": {
        "id": "e0MF-ZDPuio2",
        "colab_type": "code",
        "colab": {
          "base_uri": "https://localhost:8080/",
          "height": 187
        },
        "outputId": "57de9dc9-b66e-424d-972f-ddba30532a1a"
      },
      "source": [
        "x = np.array([0, 1, 3])\n",
        "y = np.array([2, 4, 5])\n",
        "print(\"\\nOriginal array1:\")\n",
        "print(x)\n",
        "print(\"\\nOriginal array1:\")\n",
        "print(y)\n",
        "print(\"\\nCross-correlation of the said arrays:\\n\",np.cov(x, y))"
      ],
      "execution_count": 10,
      "outputs": [
        {
          "output_type": "stream",
          "text": [
            "\n",
            "Original array1:\n",
            "[0 1 3]\n",
            "\n",
            "Original array1:\n",
            "[2 4 5]\n",
            "\n",
            "Cross-correlation of the said arrays:\n",
            " [[2.33333333 2.16666667]\n",
            " [2.16666667 2.33333333]]\n"
          ],
          "name": "stdout"
        }
      ]
    },
    {
      "cell_type": "markdown",
      "metadata": {
        "id": "bRq-uF-luvVD",
        "colab_type": "text"
      },
      "source": [
        "**10, Viết chương trình NumPy để tính các hệ số tương quan thời điểm sản phẩm pearson của hai mảng đã cho.**\n",
        "\n",
        "**Write a NumPy program to compute pearson product-moment correlation coefficients of two given arrays.**\n",
        "\n"
      ]
    },
    {
      "cell_type": "code",
      "metadata": {
        "id": "UEmR-LMIusGQ",
        "colab_type": "code",
        "colab": {
          "base_uri": "https://localhost:8080/",
          "height": 187
        },
        "outputId": "600f53e1-0765-4107-907a-969f5ecc36a6"
      },
      "source": [
        "x = np.array([0, 1, 3])\n",
        "y = np.array([2, 4, 5])\n",
        "print(\"\\nOriginal array1:\")\n",
        "print(x)\n",
        "print(\"\\nOriginal array1:\")\n",
        "print(y)\n",
        "print(\"\\nPearson product-moment correlation coefficients of the said arrays:\\n\",np.corrcoef(x, y))"
      ],
      "execution_count": 11,
      "outputs": [
        {
          "output_type": "stream",
          "text": [
            "\n",
            "Original array1:\n",
            "[0 1 3]\n",
            "\n",
            "Original array1:\n",
            "[2 4 5]\n",
            "\n",
            "Pearson product-moment correlation coefficients of the said arrays:\n",
            " [[1.         0.92857143]\n",
            " [0.92857143 1.        ]]\n"
          ],
          "name": "stdout"
        }
      ]
    },
    {
      "cell_type": "markdown",
      "metadata": {
        "id": "VyANLMNju_Sm",
        "colab_type": "text"
      },
      "source": [
        "**11, Viết chương trình NumPy để kiểm tra phần tử khôn ngoan của một mảng nhất định về độ chính xác (không phải vô cực hay không phải là số), vô cực dương hoặc âm, đối với NaN, đối với NaT (không phải thời gian), đối với vô cực âm, đối với vô cực âm.**\n",
        "\n",
        "**Write a NumPy program to test element-wise of a given array for finiteness (not infinity or not Not a Number), positive or negative infinity, for NaN, for NaT (not a time), for negative infinity, for positive infinity**\n",
        "\n"
      ]
    },
    {
      "cell_type": "code",
      "metadata": {
        "id": "LIHVp1qbuzse",
        "colab_type": "code",
        "colab": {
          "base_uri": "https://localhost:8080/",
          "height": 391
        },
        "outputId": "89e827ea-2fd6-4fdf-d9df-4746422efe95"
      },
      "source": [
        "print(\"\\nTest element-wise for finiteness (not infinity or not Not a Number):\")\n",
        "print(np.isfinite(1))\n",
        "print(np.isfinite(0))\n",
        "print(np.isfinite(np.nan))\n",
        "print(\"\\nTest element-wise for positive or negative infinity:\")\n",
        "print(np.isinf(np.inf))\n",
        "print(np.isinf(np.nan))\n",
        "print(np.isinf(np.NINF))\n",
        "print(\"Test element-wise for NaN:\")\n",
        "print(np.isnan([np.log(-1.),1.,np.log(0)]))\n",
        "print(\"Test element-wise for NaT (not a time):\")\n",
        "print(np.isnat(np.array([\"NaT\", \"2016-01-01\"], dtype=\"datetime64[ns]\")))\n",
        "print(\"Test element-wise for negative infinity:\")\n",
        "x = np.array([-np.inf, 0., np.inf])\n",
        "y = np.array([2, 2, 2])\n",
        "print(np.isneginf(x, y))\n",
        "print(\"Test element-wise for positive infinity:\")\n",
        "x = np.array([-np.inf, 0., np.inf])\n",
        "y = np.array([2, 2, 2])\n",
        "print(np.isposinf(x, y))"
      ],
      "execution_count": 12,
      "outputs": [
        {
          "output_type": "stream",
          "text": [
            "\n",
            "Test element-wise for finiteness (not infinity or not Not a Number):\n",
            "True\n",
            "True\n",
            "False\n",
            "\n",
            "Test element-wise for positive or negative infinity:\n",
            "True\n",
            "False\n",
            "True\n",
            "Test element-wise for NaN:\n",
            "[ True False False]\n",
            "Test element-wise for NaT (not a time):\n",
            "[ True False]\n",
            "Test element-wise for negative infinity:\n",
            "[1 0 0]\n",
            "Test element-wise for positive infinity:\n",
            "[0 0 1]\n"
          ],
          "name": "stdout"
        },
        {
          "output_type": "stream",
          "text": [
            "/usr/local/lib/python3.6/dist-packages/ipykernel_launcher.py:10: RuntimeWarning: invalid value encountered in log\n",
            "  # Remove the CWD from sys.path while we load stuff.\n",
            "/usr/local/lib/python3.6/dist-packages/ipykernel_launcher.py:10: RuntimeWarning: divide by zero encountered in log\n",
            "  # Remove the CWD from sys.path while we load stuff.\n"
          ],
          "name": "stderr"
        }
      ]
    },
    {
      "cell_type": "markdown",
      "metadata": {
        "id": "sMLRP-4jvKJU",
        "colab_type": "text"
      },
      "source": [
        "**12, Viết chương trình Python NumPy để tính trung bình có trọng số dọc theo trục đã chỉ định của một mảng phẳng đã cho.**\n",
        "\n",
        "**Write a Python NumPy program to compute the weighted average along the specified axis of a given flattened array.**\n",
        "\n",
        "x = 4300/50 = 86.\n",
        "\n",
        "x = (20 x 80)+(30 x 90)/20 + 30 = 86\n"
      ]
    },
    {
      "cell_type": "code",
      "metadata": {
        "id": "-UNIxc8JvFxZ",
        "colab_type": "code",
        "colab": {
          "base_uri": "https://localhost:8080/",
          "height": 119
        },
        "outputId": "aef5b477-f077-4dd6-b1fd-116ccff8a43c"
      },
      "source": [
        "a = np.arange(9).reshape((3,3))\n",
        "print(\"Original flattened array:\")\n",
        "print(a)\n",
        "print(\"Weighted average along the specified axis of the above flattened array:\")\n",
        "print(np.average(a, axis=1, weights=[1./4, 2./4, 2./4]))"
      ],
      "execution_count": 13,
      "outputs": [
        {
          "output_type": "stream",
          "text": [
            "Original flattened array:\n",
            "[[0 1 2]\n",
            " [3 4 5]\n",
            " [6 7 8]]\n",
            "Weighted average along the specified axis of the above flattened array:\n",
            "[1.2 4.2 7.2]\n"
          ],
          "name": "stdout"
        }
      ]
    },
    {
      "cell_type": "markdown",
      "metadata": {
        "id": "SDUloDOhvfpD",
        "colab_type": "text"
      },
      "source": [
        "**13, Viết chương trình Python để đếm số lần xuất hiện của mỗi giá trị trong một mảng các số nguyên không âm cho trước.**\n",
        "\n",
        "**Write a Python program to count number of occurrences of each value in a given array of non-negative integers.**\n",
        "\n"
      ]
    },
    {
      "cell_type": "code",
      "metadata": {
        "id": "97c_o5WnvcQW",
        "colab_type": "code",
        "colab": {
          "base_uri": "https://localhost:8080/",
          "height": 85
        },
        "outputId": "aba18111-13bd-4e24-f396-9be1f7c1ef9e"
      },
      "source": [
        "array1 = [0, 1, 6, 1, 4, 1, 2, 2, 7] \n",
        "print(\"Original array:\")\n",
        "print(array1)\n",
        "print(\"Number of occurrences of each value in array: \")\n",
        "print(np.bincount(array1))"
      ],
      "execution_count": 14,
      "outputs": [
        {
          "output_type": "stream",
          "text": [
            "Original array:\n",
            "[0, 1, 6, 1, 4, 1, 2, 2, 7]\n",
            "Number of occurrences of each value in array: \n",
            "[1 3 2 0 1 0 1 1]\n"
          ],
          "name": "stdout"
        }
      ]
    },
    {
      "cell_type": "markdown",
      "metadata": {
        "id": "pM9_mb2IvmLU",
        "colab_type": "text"
      },
      "source": [
        "**14, Viết chương trình NumPy để tính toán biểu đồ số cho các thùng.**\n",
        "\n",
        "**Write a NumPy program to compute the histogram of nums against the bins.**\n",
        "\n"
      ]
    },
    {
      "cell_type": "code",
      "metadata": {
        "id": "1EALbv27vjTd",
        "colab_type": "code",
        "colab": {
          "base_uri": "https://localhost:8080/",
          "height": 316
        },
        "outputId": "8a75e0c6-495c-444a-dcae-2a58a24183d5"
      },
      "source": [
        "import matplotlib.pyplot as plt\n",
        "nums = np.array([0.5, 0.7, 1.0, 1.2, 1.3, 2.1])\n",
        "bins = np.array([0, 1, 2, 3])\n",
        "print(\"nums: \",nums)\n",
        "print(\"bins: \",bins)\n",
        "print(\"Result:\", np.histogram(nums, bins))\n",
        "plt.hist(nums, bins=bins)\n",
        "plt.show()"
      ],
      "execution_count": 15,
      "outputs": [
        {
          "output_type": "stream",
          "text": [
            "nums:  [0.5 0.7 1.  1.2 1.3 2.1]\n",
            "bins:  [0 1 2 3]\n",
            "Result: (array([2, 3, 1]), array([0, 1, 2, 3]))\n"
          ],
          "name": "stdout"
        },
        {
          "output_type": "display_data",
          "data": {
            "image/png": "[encoded data removed]",
            "text/plain": [
              "<Figure size 432x288 with 1 Axes>"
            ]
          },
          "metadata": {
            "tags": [],
            "needs_background": "light"
          }
        }
      ]
    },
    {
      "cell_type": "code",
      "metadata": {
        "id": "5t664nkfvrPG",
        "colab_type": "code",
        "colab": {}
      },
      "source": [
        ""
      ],
      "execution_count": 0,
      "outputs": []
    }
  ]
}