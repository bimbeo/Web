{
  "nbformat": 4,
  "nbformat_minor": 0,
  "metadata": {
    "colab": {
      "name": "Data Types: Collections.ipynb",
      "provenance": [],
      "authorship_tag": "ABX9TyOg4SXqv/LgxUfV+U1twvlh",
      "include_colab_link": true
    },
    "kernelspec": {
      "name": "python3",
      "display_name": "Python 3"
    }
  },
  "cells": [
    {
      "cell_type": "markdown",
      "metadata": {
        "id": "view-in-github",
        "colab_type": "text"
      },
      "source": [
        "<a href=\"https://colab.research.google.com/github/bimbeo/Web/blob/master/Data_Types_Collections.ipynb\" target=\"_parent\"><img src=\"https://colab.research.google.com/assets/colab-badge.svg\" alt=\"Open In Colab\"/></a>"
      ]
    },
    {
      "cell_type": "markdown",
      "metadata": {
        "id": "dnHJtagMd39i",
        "colab_type": "text"
      },
      "source": [
        "**1, Viết chương trình Python lặp lại các phần tử lặp lại mỗi lần nhiều lần so với số lượng của nó.**\n",
        "\n",
        "**Write a Python program that iterate over elements repeating each as many times as its count.**\n",
        "\n",
        "Note: **Elements()** are returned in arbitrary order. A Counter is a container that keeps track of how many times equivalent values are added.\n",
        "\n",
        "Lưu ý: Các phần tử được trả về theo thứ tự tùy ý. Bộ đếm là bộ chứa theo dõi số lần giá trị tương đương được thêm vào."
      ]
    },
    {
      "cell_type": "code",
      "metadata": {
        "id": "6I6seqefdfE4",
        "colab_type": "code",
        "colab": {
          "base_uri": "https://localhost:8080/",
          "height": 51
        },
        "outputId": "44dc4897-77d0-42c9-8b5e-704e5ebd5a1e"
      },
      "source": [
        "from collections import Counter \n",
        "c = Counter(p = 4, q = 2, r = 0, s = -2)       # Counter({'p': 4, 'q': 2, 'r': 0, 's': -2})\n",
        "print(list(c.elements()))\n",
        "print(list(c))"
      ],
      "execution_count": 8,
      "outputs": [
        {
          "output_type": "stream",
          "text": [
            "['p', 'p', 'p', 'p', 'q', 'q']\n",
            "['p', 'q', 'r', 's']\n"
          ],
          "name": "stdout"
        }
      ]
    },
    {
      "cell_type": "markdown",
      "metadata": {
        "id": "PNkqHBS7hvtY",
        "colab_type": "text"
      },
      "source": [
        "**2, Viết chương trình Python để tìm các phần tử phổ biến nhất và số lượng của một văn bản được chỉ định.**\n",
        "\n",
        "**Write a Python program to find the most common elements and their counts of a specified text.**\n",
        "\n",
        "Use **most_common()** to produce a sequence of the n most frequently encountered input values and their respective counts.\n",
        "\n",
        "Sử dụng **most_common ()** để tạo một chuỗi gồm n giá trị đầu vào thường gặp nhất và số lượng tương ứng của chúng.\n"
      ]
    },
    {
      "cell_type": "code",
      "metadata": {
        "id": "XiUKhwNZeS5N",
        "colab_type": "code",
        "colab": {
          "base_uri": "https://localhost:8080/",
          "height": 85
        },
        "outputId": "5c60a3ee-ff7a-475b-d9aa-37f6925d40d9"
      },
      "source": [
        "from collections import Counter\n",
        "s = 'lkseropewdssafsdfafkpwe'\n",
        "print(\"Original string: \" +s)\n",
        "print(\"Most common three character of the said string: \")\n",
        "print(Counter(s).most_common(3))\n",
        "print(Counter(s))"
      ],
      "execution_count": 13,
      "outputs": [
        {
          "output_type": "stream",
          "text": [
            "Original string: lkseropewdssafsdfafkpwe\n",
            "Most common three character of the said string: \n",
            "[('s', 4), ('e', 3), ('f', 3)]\n",
            "Counter({'s': 4, 'e': 3, 'f': 3, 'k': 2, 'p': 2, 'w': 2, 'd': 2, 'a': 2, 'l': 1, 'r': 1, 'o': 1})\n"
          ],
          "name": "stdout"
        }
      ]
    },
    {
      "cell_type": "markdown",
      "metadata": {
        "id": "hb5iuCo2i1_a",
        "colab_type": "text"
      },
      "source": [
        "**3, Viết chương trình Python để tạo một deque mới với ba mục và lặp lại qua các phần tử của deque.**\n",
        "\n",
        "**Write a Python program to create a new deque with three items and iterate over the deque's elements.**\n",
        "\n",
        "**deque():** A double-ended queue, or deque, supports adding and removing elements from either end. The more commonly used stacks and queues are degenerate forms of deques, where the inputs and outputs are restricted to a single end.\n",
        "\n",
        "**deque():** Một hàng đợi hai đầu, hoặc deque, hỗ trợ thêm và xóa các phần tử từ một trong hai đầu. Các ngăn xếp và hàng đợi được sử dụng phổ biến hơn là các dạng suy biến, trong đó các đầu vào và đầu ra bị giới hạn ở một đầu duy nhất.\n",
        "\n"
      ]
    },
    {
      "cell_type": "code",
      "metadata": {
        "id": "aYVyos59iCRn",
        "colab_type": "code",
        "colab": {
          "base_uri": "https://localhost:8080/",
          "height": 119
        },
        "outputId": "d5bb70dd-a6c6-4e7d-f4ad-bef5f2f97b48"
      },
      "source": [
        "from collections import deque \n",
        "dq = deque('aeiou')\n",
        "for element in dq:\n",
        "  print(element)\n",
        "print(dq)"
      ],
      "execution_count": 15,
      "outputs": [
        {
          "output_type": "stream",
          "text": [
            "a\n",
            "e\n",
            "i\n",
            "o\n",
            "u\n",
            "deque(['a', 'e', 'i', 'o', 'u'])\n"
          ],
          "name": "stdout"
        }
      ]
    },
    {
      "cell_type": "markdown",
      "metadata": {
        "id": "LfbCXgdGjqCD",
        "colab_type": "text"
      },
      "source": [
        "**4, Viết chương trình Python để tìm sự xuất hiện của 10 từ phổ biến nhất trong một văn bản nhất định.**\n",
        "\n",
        "**Write a Python program to find the occurrences of 10 most common words in a given text.**\n",
        "\n",
        "**re.findall():** Return all non-overlapping matches of pattern in string, as a list of strings. The string is scanned left-to-right, and matches are returned in the order found\n",
        "\n",
        "**re.findall():** Trả về tất cả các kết quả không trùng nhau của mẫu trong chuỗi, dưới dạng danh sách các chuỗi. Chuỗi được quét từ trái sang phải và các kết quả khớp được trả về theo thứ tự tìm thấy."
      ]
    },
    {
      "cell_type": "code",
      "metadata": {
        "id": "0875NlIwjD6_",
        "colab_type": "code",
        "colab": {
          "base_uri": "https://localhost:8080/",
          "height": 71
        },
        "outputId": "806886b1-1d91-4f33-f5d5-742153e8d663"
      },
      "source": [
        "from collections import Counter\n",
        "import re \n",
        "text = \"\"\"The Python Software Foundation (PSF) is a 501(c)(3) non-profit \n",
        "corporation that holds the intellectual property rights behind\n",
        "the Python programming language. We manage the open source licensing \n",
        "for Python version 2.1 and later and own and protect the trademarks \n",
        "associated with Python. We also run the North American PyCon conference \n",
        "annually, support other Python conferences around the world, and \n",
        "fund Python related development with our grants program and by funding \n",
        "special projects.\"\"\"\n",
        "words = re.findall('\\w+', text)\n",
        "print(Counter(words).most_common(10))\n",
        "print(Counter(words))"
      ],
      "execution_count": 19,
      "outputs": [
        {
          "output_type": "stream",
          "text": [
            "[('Python', 6), ('the', 6), ('and', 5), ('We', 2), ('with', 2), ('The', 1), ('Software', 1), ('Foundation', 1), ('PSF', 1), ('is', 1)]\n",
            "Counter({'Python': 6, 'the': 6, 'and': 5, 'We': 2, 'with': 2, 'The': 1, 'Software': 1, 'Foundation': 1, 'PSF': 1, 'is': 1, 'a': 1, '501': 1, 'c': 1, '3': 1, 'non': 1, 'profit': 1, 'corporation': 1, 'that': 1, 'holds': 1, 'intellectual': 1, 'property': 1, 'rights': 1, 'behind': 1, 'programming': 1, 'language': 1, 'manage': 1, 'open': 1, 'source': 1, 'licensing': 1, 'for': 1, 'version': 1, '2': 1, '1': 1, 'later': 1, 'own': 1, 'protect': 1, 'trademarks': 1, 'associated': 1, 'also': 1, 'run': 1, 'North': 1, 'American': 1, 'PyCon': 1, 'conference': 1, 'annually': 1, 'support': 1, 'other': 1, 'conferences': 1, 'around': 1, 'world': 1, 'fund': 1, 'related': 1, 'development': 1, 'our': 1, 'grants': 1, 'program': 1, 'by': 1, 'funding': 1, 'special': 1, 'projects': 1})\n"
          ],
          "name": "stdout"
        }
      ]
    },
    {
      "cell_type": "markdown",
      "metadata": {
        "id": "XuoVOz1mlEiW",
        "colab_type": "text"
      },
      "source": [
        "**5, Viết chương trình Python chấp nhận một số từ và đếm số lượng từ khác biệt. In số lượng từ riêng biệt và số lần xuất hiện cho mỗi từ riêng biệt theo sự xuất hiện của chúng.**\n",
        "\n",
        "**Write a Python program that accept some words and count the number of distinct words. Print the number of distinct words and number of occurrences for each distinct word according to their appearance.**\n",
        "\n"
      ]
    },
    {
      "cell_type": "code",
      "metadata": {
        "id": "XuhqB5u4j_HQ",
        "colab_type": "code",
        "colab": {
          "base_uri": "https://localhost:8080/",
          "height": 170
        },
        "outputId": "dd4ec6a4-a2a1-4cdd-d7c1-05cb69a3b8e1"
      },
      "source": [
        "from collections import Counter, OrderedDict\n",
        "class OrderedCounter(Counter, OrderedDict):\n",
        "  pass\n",
        "word_array = []\n",
        "n = int(input(\"Input number of words: \"))\n",
        "print(\"Input the words: \")\n",
        "for i in range(n):\n",
        "  word_array.append(input().strip())\n",
        "word_ctr = OrderedCounter(word_array)             # OrderedCounter({'Red': 1, 'Green': 1, 'Blue': 1, 'Black': 1, 'White': 1})\n",
        "print(len(word_ctr))                              # 5\n",
        "for word in word_ctr:                             # duyệt giá trị từng phần tử trong word_ctr\n",
        "  print(word_ctr[word], end = ' ' )               # in ra giá trị key word_ctr[Red] với value 1, tương ứng số lần xuất hiện. "
      ],
      "execution_count": 21,
      "outputs": [
        {
          "output_type": "stream",
          "text": [
            "Input number of words: 5\n",
            "Input the words: \n",
            "Red\n",
            "Green\n",
            "Blue\n",
            "Black\n",
            "White\n",
            "5\n",
            "1 1 1 1 1 "
          ],
          "name": "stdout"
        }
      ]
    },
    {
      "cell_type": "markdown",
      "metadata": {
        "id": "mqArJTzwnUfQ",
        "colab_type": "text"
      },
      "source": [
        "**6, Viết chương trình Python chấp nhận tên của chủ đề và nhãn hiệu đã cho. Nhập số lượng đối tượng trong dòng đầu tiên và tên chủ đề, đánh dấu cách nhau bởi một khoảng trắng ở dòng tiếp theo. In tên chủ đề và đánh dấu theo thứ tự xuất hiện đầu tiên của nó.**\n",
        "\n",
        "**Write a Python program that accept name of given subject and marks. Input number of subjects in first line and subject name, marks separated by a space in next line. Print subject name and marks in order of its first occurrence.**\n",
        "\n",
        "**OrderedDict():** An OrderedDict is a dictionary subclass that remembers the order that keys were first inserted. The only difference between dict() and OrderedDict() is that: OrderedDict preserves the order in which the keys are inserted. A regular dict doesn’t track the insertion order, and iterating it gives the values in an arbitrary order. By contrast, the order the items are inserted is remembered by OrderedDict.\n",
        "\n",
        "**OrderedDict():** OrderedDict là một lớp con từ điển ghi nhớ thứ tự các khóa được chèn lần đầu tiên. Sự khác biệt duy nhất giữa dict () và OrderedDict () là: OrderedDict duy trì thứ tự các phím được chèn vào. Một dict thông thường không theo dõi thứ tự chèn và lặp lại nó sẽ cho các giá trị theo thứ tự tùy ý. Ngược lại, thứ tự các mục được chèn được OrderedDict ghi nhớ.\n"
      ]
    },
    {
      "cell_type": "code",
      "metadata": {
        "id": "CAlHwZcWllhi",
        "colab_type": "code",
        "colab": {
          "base_uri": "https://localhost:8080/",
          "height": 136
        },
        "outputId": "2487b9e3-5f92-4822-f468-12aa0ad1ec69"
      },
      "source": [
        "import collections, re\n",
        "n = int(input(\"Number of subject: \"))       # Nhập số subject\n",
        "item_order = collections.OrderedDict()      # tạo OrderedDict() rỗng, biến item_order.\n",
        "for i in range(n):                          # tạo vòng lặp for với số lần bằng n nhập vào\n",
        "  sub_mark_list = re.split(r'(\\d+)$', input(\"Input Subject name and marks: \").strip())    # tạo list sub_mark_list, từ chuỗi nhập vào, chia cắt thành từng phần và thêm vào từng mục trong list. VD: Bengali 58, list = [\"Bengali\", \"58\", \"\"]\n",
        "  subject_name = sub_mark_list[0]           # gán biến subject_name = inder[0] của list sub_mark_list. VD subject_name = \"Bengali\"\n",
        "  item_price = int(sub_mark_list[1])        # gán biến item_price = index[1] của list sub_mark_list. VD item_price = \"58\"\n",
        "  if subject_name not in item_order:        # Bắt đầu gán 2 giá trị vào item_order (OrderDict). VD: item_order[Bengali] = 58, OrderedDict([('Bengali ', 58)])\n",
        "    item_order[subject_name] = item_price\n",
        "  else: \n",
        "    item_order[subject_name] = item_order[subject_name] + item_price\n",
        "\n",
        "for i in item_order:                        # OrderedDict([('Bengali ', 58), ('English ', 62), ('Math ', 68)])\n",
        "  print(i+str(item_order[i]))"
      ],
      "execution_count": 24,
      "outputs": [
        {
          "output_type": "stream",
          "text": [
            "Number of subject: 3\n",
            "Input Subject name and marks: Bengali 58\n",
            "Input Subject name and marks: Englist 62\n",
            "Input Subject name and marks: Math 68\n",
            "Bengali 58\n",
            "Englist 62\n",
            "Math 68\n"
          ],
          "name": "stdout"
        }
      ]
    },
    {
      "cell_type": "markdown",
      "metadata": {
        "id": "lLSOqe3bsrix",
        "colab_type": "text"
      },
      "source": [
        "**7, Viết chương trình Python để tạo một deque và nối thêm một số phần tử ở bên trái và bên phải, sau đó xóa một số phần tử từ bên trái, bên phải và đảo ngược deque.**\n",
        "\n",
        "**Write a Python program to create a deque and append few elements to the left and right, then remove some elements from the left, right sides and reverse the deque.**"
      ]
    },
    {
      "cell_type": "code",
      "metadata": {
        "id": "3qm3trMtqFL9",
        "colab_type": "code",
        "colab": {
          "base_uri": "https://localhost:8080/",
          "height": 272
        },
        "outputId": "1197c237-fc98-4c3f-8afa-ebc9697eabdd"
      },
      "source": [
        "import collections\n",
        "deque_colors = collections.deque([\"Red\", \"Green\", \"White\"])   # creat a deque\n",
        "print(deque_colors)\n",
        "print(\"\\nAdding to the left: \")                               # append to the left\n",
        "deque_colors.appendleft(\"Pink\")\n",
        "print(deque_colors)\n",
        "print(\"\\Adding to the right: \")                               # append to the right\n",
        "deque_colors.append(\"Orange\")         \n",
        "print(deque_colors)                                          \n",
        "print(\"\\nRemoving from the right: \")                          # remove from the right\n",
        "deque_colors.pop()\n",
        "print(deque_colors)            \n",
        "print(\"\\nRemoving from the left: \")                           # remove from the left\n",
        "deque_colors.popleft()\n",
        "print(deque_colors)\n",
        "print(\"\\nReversing the deque: \")                              # reverse the deque\n",
        "deque_colors.reverse()                \n",
        "print(deque_colors)"
      ],
      "execution_count": 25,
      "outputs": [
        {
          "output_type": "stream",
          "text": [
            "deque(['Red', 'Green', 'White'])\n",
            "\n",
            "Adding to the left: \n",
            "deque(['Pink', 'Red', 'Green', 'White'])\n",
            "\\Adding to the right: \n",
            "deque(['Pink', 'Red', 'Green', 'White', 'Orange'])\n",
            "\n",
            "Removing from the right: \n",
            "deque(['Pink', 'Red', 'Green', 'White'])\n",
            "\n",
            "Removing from the left: \n",
            "deque(['Red', 'Green', 'White'])\n",
            "\n",
            "Reversing the deque: \n",
            "deque(['White', 'Green', 'Red'])\n"
          ],
          "name": "stdout"
        }
      ]
    },
    {
      "cell_type": "markdown",
      "metadata": {
        "id": "cO1SNXjut7QL",
        "colab_type": "text"
      },
      "source": [
        "**8, Viết chương trình Python để tạo một deque từ một đối tượng lặp có sẵn.**\n",
        "\n",
        "**Write a Python program to create a deque from an existing iterable object.**\n",
        "\n"
      ]
    },
    {
      "cell_type": "code",
      "metadata": {
        "id": "Gbv5ctaPtxak",
        "colab_type": "code",
        "colab": {
          "base_uri": "https://localhost:8080/",
          "height": 170
        },
        "outputId": "2053ed67-acc4-494b-b132-fdbebcd0f370"
      },
      "source": [
        "import collections\n",
        "even_nums = (2,4,6)\n",
        "print(\"Original Tuple: \")\n",
        "print(even_nums)\n",
        "print(type(even_nums))\n",
        "even_nums_deque = collections.deque(even_nums)\n",
        "print(\"\\nOriginal deque: \")\n",
        "print(even_nums_deque)\n",
        "even_nums_deque.append(8)\n",
        "even_nums_deque.append(10)\n",
        "even_nums_deque.append(12)\n",
        "even_nums_deque.appendleft(2)\n",
        "print(\"New deque from an existing iterable object: \")\n",
        "print(even_nums_deque)\n",
        "print(type(even_nums_deque))"
      ],
      "execution_count": 26,
      "outputs": [
        {
          "output_type": "stream",
          "text": [
            "Original Tuple: \n",
            "(2, 4, 6)\n",
            "<class 'tuple'>\n",
            "\n",
            "Original deque: \n",
            "deque([2, 4, 6])\n",
            "New deque from an existing iterable object: \n",
            "deque([2, 2, 4, 6, 8, 10, 12])\n",
            "<class 'collections.deque'>\n"
          ],
          "name": "stdout"
        }
      ]
    },
    {
      "cell_type": "markdown",
      "metadata": {
        "id": "auRbeL7-unPo",
        "colab_type": "text"
      },
      "source": [
        "**9, Viết chương trình Python để thêm số lượng phần tử vào một đối tượng deque từ một đối tượng có thể lặp lại.**\n",
        "\n",
        "**Write a Python program to add more number of elements to a deque object from an iterable object.**\n",
        "\n"
      ]
    },
    {
      "cell_type": "code",
      "metadata": {
        "id": "9gb6eHUoubyD",
        "colab_type": "code",
        "colab": {
          "base_uri": "https://localhost:8080/",
          "height": 85
        },
        "outputId": "de549ef0-6067-4aff-cbea-80b15aa79b9f"
      },
      "source": [
        "import collections\n",
        "even_nums = (2,4,6,8,10)\n",
        "even_deque = collections.deque(even_nums)\n",
        "print(\"Even numbers: \")\n",
        "print(even_deque)\n",
        "more_even_nums = (12,14,16,18,20)\n",
        "even_deque.extend(more_even_nums)\n",
        "print(\"More even numbers: \")\n",
        "print(even_deque)"
      ],
      "execution_count": 28,
      "outputs": [
        {
          "output_type": "stream",
          "text": [
            "Even numbers: \n",
            "deque([2, 4, 6, 8, 10])\n",
            "More even numbers: \n",
            "deque([2, 4, 6, 8, 10, 12, 14, 16, 18, 20])\n"
          ],
          "name": "stdout"
        }
      ]
    },
    {
      "cell_type": "markdown",
      "metadata": {
        "id": "i5_jwDyCvHuX",
        "colab_type": "text"
      },
      "source": [
        "**10, Viết chương trình Python để loại bỏ tất cả các phần tử của một đối tượng deque đã cho.**\n",
        "\n",
        "**Write a Python program to remove all the elements of a given deque object.**\n",
        "\n"
      ]
    },
    {
      "cell_type": "code",
      "metadata": {
        "id": "FIuX4sM6u7mD",
        "colab_type": "code",
        "colab": {
          "base_uri": "https://localhost:8080/",
          "height": 119
        },
        "outputId": "04c823e4-1988-419f-c702-18adb0fd1172"
      },
      "source": [
        "import collections\n",
        "odd_nums = (1,3,5,7,9)\n",
        "odd_deque = collections.deque(odd_nums)\n",
        "print(\"Original Deque object with odd numbers: \")\n",
        "print(odd_deque)\n",
        "print(\"Deque length: %d\" % (len(odd_deque)))\n",
        "odd_deque.clear()\n",
        "print(\"Deque object after removing all numbers-\")\n",
        "print(odd_deque)\n",
        "print(\"Deque length: %d\" % len(odd_deque))"
      ],
      "execution_count": 29,
      "outputs": [
        {
          "output_type": "stream",
          "text": [
            "Original Deque object with odd numbers: \n",
            "deque([1, 3, 5, 7, 9])\n",
            "Deque length: 5\n",
            "Deque object after removing all numbers-\n",
            "deque([])\n",
            "Deque length: 0\n"
          ],
          "name": "stdout"
        }
      ]
    },
    {
      "cell_type": "markdown",
      "metadata": {
        "id": "sTMe1ifAv73b",
        "colab_type": "text"
      },
      "source": [
        "**11, Viết chương trình Python để sao chép đối tượng deque và xác minh quá trình sao chép nông.**\n",
        "\n",
        "**Write a Python program to copy of a deque object and verify the shallow copying process.**\n",
        "\n"
      ]
    },
    {
      "cell_type": "code",
      "metadata": {
        "id": "vJq-6RcwvsHz",
        "colab_type": "code",
        "colab": {
          "base_uri": "https://localhost:8080/",
          "height": 238
        },
        "outputId": "60999023-03b1-4a36-d14f-3127b4e3567a"
      },
      "source": [
        "import collections\n",
        "tup1 = (1,3,5,7,9)\n",
        "dq1 = collections.deque(tup1)\n",
        "dq2 = dq1.copy()\n",
        "print(\"Content of dq1:\")\n",
        "print(dq1)\n",
        "print(\"dq2 id:\")\n",
        "print(id(dq1))\n",
        "print(\"\\nContent of dq2:\")\n",
        "print(dq2)\n",
        "print(\"dq2 id:\")\n",
        "print(id(dq2))\n",
        "print(\"\\nChecking the first element of dq1 and dq2 are shallow copies:\")\n",
        "print(id(dq1[0]))\n",
        "print(id(dq2[0]))"
      ],
      "execution_count": 30,
      "outputs": [
        {
          "output_type": "stream",
          "text": [
            "Content of dq1:\n",
            "deque([1, 3, 5, 7, 9])\n",
            "dq2 id:\n",
            "139909675878504\n",
            "\n",
            "Content of dq2:\n",
            "deque([1, 3, 5, 7, 9])\n",
            "dq2 id:\n",
            "139909675877568\n",
            "\n",
            "Checking the first element of dq1 and dq2 are shallow copies:\n",
            "10914496\n",
            "10914496\n"
          ],
          "name": "stdout"
        }
      ]
    },
    {
      "cell_type": "markdown",
      "metadata": {
        "id": "MIOdK3cawNar",
        "colab_type": "text"
      },
      "source": [
        "**12, Viết chương trình Python để đếm số lần một phần tử cụ thể xuất hiện trong một đối tượng deque.**\n",
        "\n",
        "**Write a Python program to count the number of times a specific element presents in a deque object.**\n",
        "\n"
      ]
    },
    {
      "cell_type": "code",
      "metadata": {
        "id": "iYPjmjN3wBvl",
        "colab_type": "code",
        "colab": {
          "base_uri": "https://localhost:8080/",
          "height": 85
        },
        "outputId": "e84fbcc7-1603-46b1-e83c-815a1de56e0f"
      },
      "source": [
        "import collections\n",
        "nums = (2,9,0,8,2,4,0,9,2,4,8,2,0,4,2,3,4,0)\n",
        "nums_dq = collections.deque(nums)\n",
        "print(\"Number of 2 in the sequence\")\n",
        "print(nums_dq.count(2))\n",
        "print(\"Number of 4 in the sequence\")\n",
        "print(nums_dq.count(4))"
      ],
      "execution_count": 32,
      "outputs": [
        {
          "output_type": "stream",
          "text": [
            "Number of 2 in the sequence\n",
            "5\n",
            "Number of 4 in the sequence\n",
            "4\n"
          ],
          "name": "stdout"
        }
      ]
    },
    {
      "cell_type": "markdown",
      "metadata": {
        "id": "hboTWHRDwj_P",
        "colab_type": "text"
      },
      "source": [
        "**13, Viết chương trình Python để xoay số lần xác định đối tượng Deque (dương).**\n",
        "\n",
        "**Write a Python program to rotate a Deque Object specified number (positive) of times.**\n",
        "\n"
      ]
    },
    {
      "cell_type": "code",
      "metadata": {
        "id": "kGiR9DbdwcbK",
        "colab_type": "code",
        "colab": {
          "base_uri": "https://localhost:8080/",
          "height": 153
        },
        "outputId": "1de1c4ee-5984-4974-e270-a56247a795bf"
      },
      "source": [
        "import collections\n",
        "# declare an empty deque object\n",
        "dq_object = collections.deque()\n",
        "# Add elements to the deque - left to right\n",
        "dq_object.append(2)\n",
        "dq_object.append(4)\n",
        "dq_object.append(6)\n",
        "dq_object.append(8)\n",
        "dq_object.append(10)\n",
        "print(\"Deque before rotation:\")\n",
        "print(dq_object)\n",
        "# Rotate once in positive direction\n",
        "dq_object.rotate()\n",
        "print(\"\\nDeque after 1 positive rotation:\")\n",
        "print(dq_object)\n",
        "# Rotate twice in positive direction\n",
        "dq_object.rotate(2)\n",
        "print(\"\\nDeque after 2 positive rotations:\")\n",
        "print(dq_object)"
      ],
      "execution_count": 33,
      "outputs": [
        {
          "output_type": "stream",
          "text": [
            "Deque before rotation:\n",
            "deque([2, 4, 6, 8, 10])\n",
            "\n",
            "Deque after 1 positive rotation:\n",
            "deque([10, 2, 4, 6, 8])\n",
            "\n",
            "Deque after 2 positive rotations:\n",
            "deque([6, 8, 10, 2, 4])\n"
          ],
          "name": "stdout"
        }
      ]
    },
    {
      "cell_type": "markdown",
      "metadata": {
        "id": "ZUKyrM6aw2dt",
        "colab_type": "text"
      },
      "source": [
        "**14, Viết chương trình Python để xoay số lần xác định đối tượng Deque (âm).**\n",
        "\n",
        "**Write a Python program to rotate a Deque Object specified number (negative) of times.**\n",
        "\n"
      ]
    },
    {
      "cell_type": "code",
      "metadata": {
        "id": "s10Oof0JwuXS",
        "colab_type": "code",
        "colab": {
          "base_uri": "https://localhost:8080/",
          "height": 153
        },
        "outputId": "2fc01150-482d-43dc-bfcf-3a7ccff78980"
      },
      "source": [
        "import collections\n",
        "# declare an empty deque object\n",
        "dq_object = collections.deque()\n",
        "# Add elements to the deque - left to right\n",
        "dq_object.append(2)\n",
        "dq_object.append(4)\n",
        "dq_object.append(6)\n",
        "dq_object.append(8)\n",
        "dq_object.append(10)\n",
        "print(\"Deque before rotation:\")\n",
        "print(dq_object)\n",
        "# Rotate once in negative direction\n",
        "dq_object.rotate(-1)\n",
        "print(\"\\nDeque after 1 negative rotation:\")\n",
        "print(dq_object)\n",
        "# Rotate twice in negative direction\n",
        "dq_object.rotate(-2)\n",
        "print(\"\\nDeque after 2 negative rotations:\")\n",
        "print(dq_object)\n"
      ],
      "execution_count": 34,
      "outputs": [
        {
          "output_type": "stream",
          "text": [
            "Deque before rotation:\n",
            "deque([2, 4, 6, 8, 10])\n",
            "\n",
            "Deque after 1 negative rotation:\n",
            "deque([4, 6, 8, 10, 2])\n",
            "\n",
            "Deque after 2 negative rotations:\n",
            "deque([8, 10, 2, 4, 6])\n"
          ],
          "name": "stdout"
        }
      ]
    },
    {
      "cell_type": "markdown",
      "metadata": {
        "id": "XtzxSM8Nw-9L",
        "colab_type": "text"
      },
      "source": [
        "**15, Viết chương trình Python để tìm phần tử phổ biến nhất của danh sách đã cho.**\n",
        "\n",
        "**Write a Python program to find the most common element of a given list.**\n",
        "\n"
      ]
    },
    {
      "cell_type": "code",
      "metadata": {
        "id": "51MopNSow6qe",
        "colab_type": "code",
        "colab": {
          "base_uri": "https://localhost:8080/",
          "height": 119
        },
        "outputId": "0ad90533-4120-4d96-87af-a12a2ca9bca9"
      },
      "source": [
        "from collections import Counter\n",
        "language = ['PHP', 'PHP', 'Python', 'PHP', 'Python', 'JS', 'Python', 'Python','PHP', 'Python']\n",
        "print(\"Original list:\")\n",
        "print(language)\n",
        "cnt = Counter(language)\n",
        "print(cnt)\n",
        "print(\"\\nMost common element of the said list:\")\n",
        "print(cnt.most_common(1)[0][0])"
      ],
      "execution_count": 36,
      "outputs": [
        {
          "output_type": "stream",
          "text": [
            "Original list:\n",
            "['PHP', 'PHP', 'Python', 'PHP', 'Python', 'JS', 'Python', 'Python', 'PHP', 'Python']\n",
            "Counter({'Python': 5, 'PHP': 4, 'JS': 1})\n",
            "\n",
            "Most common element of the said list:\n",
            "Python\n"
          ],
          "name": "stdout"
        }
      ]
    },
    {
      "cell_type": "markdown",
      "metadata": {
        "id": "r7ai0P_DxUvR",
        "colab_type": "text"
      },
      "source": [
        "**16, Viết chương trình Python để thực hiện số học Counter và thiết lập các thao tác để tổng hợp kết quả.**\n",
        "\n",
        "**Write a Python program to perform Counter arithmetic and set operations for aggregating results.**\n"
      ]
    },
    {
      "cell_type": "code",
      "metadata": {
        "id": "5MqHsxBTxJvd",
        "colab_type": "code",
        "colab": {
          "base_uri": "https://localhost:8080/",
          "height": 255
        },
        "outputId": "24833195-75f9-4592-e4fe-4f79ddb2d5f7"
      },
      "source": [
        "import collections\n",
        "c1 = collections.Counter([1, 2, 3, 4, 5])\n",
        "c2 = collections.Counter([4, 5, 6, 7, 8])\n",
        "print('C1:', c1)\n",
        "print('C2:', c2)\n",
        "print('\\nCombined counts:')\n",
        "print(c1 + c2)\n",
        "print('\\nSubtraction:')\n",
        "print(c1 - c2)\n",
        "print('\\nIntersection (taking positive minimums):')     # Giao\n",
        "print(c1 & c2)\n",
        "print('\\nUnion (taking maximums):')                     # Hợp\n",
        "print(c1 | c2)"
      ],
      "execution_count": 37,
      "outputs": [
        {
          "output_type": "stream",
          "text": [
            "C1: Counter({1: 1, 2: 1, 3: 1, 4: 1, 5: 1})\n",
            "C2: Counter({4: 1, 5: 1, 6: 1, 7: 1, 8: 1})\n",
            "\n",
            "Combined counts:\n",
            "Counter({4: 2, 5: 2, 1: 1, 2: 1, 3: 1, 6: 1, 7: 1, 8: 1})\n",
            "\n",
            "Subtraction:\n",
            "Counter({1: 1, 2: 1, 3: 1})\n",
            "\n",
            "Intersection (taking positive minimums):\n",
            "Counter({4: 1, 5: 1})\n",
            "\n",
            "Union (taking maximums):\n",
            "Counter({1: 1, 2: 1, 3: 1, 4: 1, 5: 1, 6: 1, 7: 1, 8: 1})\n"
          ],
          "name": "stdout"
        }
      ]
    },
    {
      "cell_type": "markdown",
      "metadata": {
        "id": "KRK41dVIyKcb",
        "colab_type": "text"
      },
      "source": [
        "# **Deque:**\n",
        "\n",
        "https://pymotw.com/2/collections/deque.html\n",
        "\n",
        "# **Counter:**\n",
        "\n",
        "https://pymotw.com/2/collections/counter.html\n",
        "\n",
        "# **OrderedDict:** \n",
        "\n",
        "https://www.geeksforgeeks.org/ordereddict-in-python/"
      ]
    },
    {
      "cell_type": "code",
      "metadata": {
        "id": "8KO9jLvGxhnH",
        "colab_type": "code",
        "colab": {}
      },
      "source": [
        ""
      ],
      "execution_count": 0,
      "outputs": []
    }
  ]
}