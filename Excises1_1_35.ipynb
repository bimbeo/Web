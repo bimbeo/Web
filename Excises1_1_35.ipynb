{
  "nbformat": 4,
  "nbformat_minor": 0,
  "metadata": {
    "colab": {
      "name": "Excises1: 1-35",
      "provenance": [],
      "collapsed_sections": [],
      "authorship_tag": "ABX9TyNi2EVbtjFjW6qL8GDp/7cd",
      "include_colab_link": true
    },
    "kernelspec": {
      "name": "python3",
      "display_name": "Python 3"
    }
  },
  "cells": [
    {
      "cell_type": "markdown",
      "metadata": {
        "id": "view-in-github",
        "colab_type": "text"
      },
      "source": [
        "<a href=\"https://colab.research.google.com/github/bimbeo/Web/blob/master/Excises1_1_35.ipynb\" target=\"_parent\"><img src=\"https://colab.research.google.com/assets/colab-badge.svg\" alt=\"Open In Colab\"/></a>"
      ]
    },
    {
      "cell_type": "markdown",
      "metadata": {
        "id": "ivdvcvxScB8O",
        "colab_type": "text"
      },
      "source": [
        "**1, In một chuỗi trong một định dạng cụ thể**\n",
        "\n",
        "**Write a Python program to print the following string in a specific format (see the output).**\n",
        "\n",
        "\n",
        "\n",
        "Bài đơn giản, chỉ đơn giản là in 1 chuỗi. Sử dụng /n để xuống dòng, /t để cách 1 dấu tab![alt text](https://www.w3resource.com/w3r_images/python-basic-image-exercise-1.png)"
      ]
    },
    {
      "cell_type": "code",
      "metadata": {
        "id": "ypoqInF0U9qZ",
        "colab_type": "code",
        "outputId": "e0885d92-99d0-48ef-cd4b-94a9f4f0bfe6",
        "colab": {
          "base_uri": "https://localhost:8080/",
          "height": 119
        }
      },
      "source": [
        "print(\"Twinkle, twinkle, little star, \\n\\tHow I wonder what you are! \\n\\t\\tUp above the world so high, \\n\\t\\tLike a diamond in the sky. \\nTwinkle, twinkle, little star, \\n\\tHow I wonder what you are!\")\n"
      ],
      "execution_count": 0,
      "outputs": [
        {
          "output_type": "stream",
          "text": [
            "Twinkle, twinkle, little star, \n",
            "\tHow I wonder what you are! \n",
            "\t\tUp above the world so high, \n",
            "\t\tLike a diamond in the sky. \n",
            "Twinkle, twinkle, little star, \n",
            "\tHow I wonder what you are!\n"
          ],
          "name": "stdout"
        }
      ]
    },
    {
      "cell_type": "markdown",
      "metadata": {
        "id": "WJYNBsjBgiU_",
        "colab_type": "text"
      },
      "source": [
        "**2, Nhận phiên bản Python**\n",
        "\n",
        "**Write a Python program to get the Python version you are using.**\n",
        "\n",
        "\n",
        "\n",
        "Mô-đun 'sys' cung cấp quyền truy cập vào một số biến được trình thông dịch sử dụng hoặc duy trì và các chức năng tương tác mạnh với trình thông dịch"
      ]
    },
    {
      "cell_type": "code",
      "metadata": {
        "id": "MR6nkhjfVCZC",
        "colab_type": "code",
        "outputId": "77ddb158-5bff-47ca-c17e-0aed9d471020",
        "colab": {
          "base_uri": "https://localhost:8080/",
          "height": 68
        }
      },
      "source": [
        "import sys\n",
        "print(\"Python version\", sys.version)\n",
        "print(\"Version info.\", sys.version_info)\n"
      ],
      "execution_count": 0,
      "outputs": [
        {
          "output_type": "stream",
          "text": [
            "Python version 3.6.9 (default, Apr 18 2020, 01:56:04) \n",
            "[GCC 8.4.0]\n",
            "Version info. sys.version_info(major=3, minor=6, micro=9, releaselevel='final', serial=0)\n"
          ],
          "name": "stdout"
        }
      ]
    },
    {
      "cell_type": "markdown",
      "metadata": {
        "id": "VSo0MwF7iLNv",
        "colab_type": "text"
      },
      "source": [
        "**3,Hiển thị ngày giờ hiện tại .**\n",
        "\n",
        "**Write a Python program to display the current date and time.**\n",
        "\n",
        "\n",
        "Hiển thị thời gian hiện: import module date time, thao tác ngày, thời gian\n",
        "\n",
        "datetime.now (tz = Không) trả về ngày và giờ địa phương hiện tại. Nếu đối số tùy chọn tz là Không hoặc không được chỉ định, thì điều này giống như ngày hôm nay ().\n",
        "\n",
        "date.strftime (format) trả về một chuỗi đại diện cho ngày, được điều khiển bởi một chuỗi định dạng rõ ràng. Mã định dạng đề cập đến giờ, phút hoặc giây sẽ thấy 0 giá trị. "
      ]
    },
    {
      "cell_type": "code",
      "metadata": {
        "id": "6mZrXdN_WOYc",
        "colab_type": "code",
        "outputId": "46955140-8d88-4d38-daa4-a3b5d0d98cc4",
        "colab": {
          "base_uri": "https://localhost:8080/",
          "height": 102
        }
      },
      "source": [
        "import datetime\n",
        "now = datetime.datetime.now()\n",
        "print( (\"Current date and time : \"))\n",
        "print (now.strftime(\"%A-%Y-%m-%d %H:%M:%S-%Z\")) # Year, Months, day, hour, minute, seconds\n",
        "print(now)\n",
        "print(str(now))\n",
        "print(repr(now)) # trả về đầy đủ hơn"
      ],
      "execution_count": 0,
      "outputs": [
        {
          "output_type": "stream",
          "text": [
            "Current date and time : \n",
            "Wednesday-2020-05-13 12:37:28-\n",
            "2020-05-13 12:37:28.675431\n",
            "2020-05-13 12:37:28.675431\n",
            "datetime.datetime(2020, 5, 13, 12, 37, 28, 675431)\n"
          ],
          "name": "stdout"
        }
      ]
    },
    {
      "cell_type": "markdown",
      "metadata": {
        "id": "9B7y8uhvnXRi",
        "colab_type": "text"
      },
      "source": [
        " **4, Tính diện tích hình tròn: import pi từ module math. Viết hàm tính diện tích pi*r bình phương**\n",
        "\n",
        "**Write a Python program to display the current date and time.**\n",
        "\n",
        "\n",
        " ![alt text](https://www.w3resource.com/w3r_images/python-area-of-a-circle-exercise-4.png)\n"
      ]
    },
    {
      "cell_type": "code",
      "metadata": {
        "id": "RUd4bUtDhtsg",
        "colab_type": "code",
        "outputId": "b86ab191-a64f-415f-ae3d-e7c94d08d1e3",
        "colab": {
          "base_uri": "https://localhost:8080/",
          "height": 51
        }
      },
      "source": [
        "from math import pi\n",
        "r = float(input(\"Input the radius of the circle: \"))\n",
        "print(\"The area of the circle with radius \"+ str(r) + \" is \" + str(pi*r**2))"
      ],
      "execution_count": 0,
      "outputs": [
        {
          "output_type": "stream",
          "text": [
            "Input the radius of the circle: 5\n",
            "The area of the circle with radius 5.0 is 78.53981633974483\n"
          ],
          "name": "stdout"
        }
      ]
    },
    {
      "cell_type": "markdown",
      "metadata": {
        "id": "ADyvi-Q4pRBT",
        "colab_type": "text"
      },
      "source": [
        "**5, In tên họ, tên người dùng được nhập từ bàn phím và đảo ngược thứ tự, cách nhau bởi khoảng cách ở giữa**\n",
        "\n",
        "**Write a Python program which accepts the user's first and last name and print them in reverse order with a space between them.**\n",
        "![alt text](https://www.w3resource.com/w3r_images/python-basic-image-exercise-5.png)"
      ]
    },
    {
      "cell_type": "code",
      "metadata": {
        "id": "Bn0dk2yunFCK",
        "colab_type": "code",
        "outputId": "13a114d8-b57b-46a6-9262-f21718c13cc2",
        "colab": {
          "base_uri": "https://localhost:8080/",
          "height": 68
        }
      },
      "source": [
        "fname = input(\"Input your First Name: \")\n",
        "lname = input(\"Input your Last Name: \")\n",
        "print(\"Hello \" + lname + \" \" + fname)"
      ],
      "execution_count": 0,
      "outputs": [
        {
          "output_type": "stream",
          "text": [
            "Input your First Name: Bim\n",
            "Input your Last Name: Beo\n",
            "Hello Beo Bim\n"
          ],
          "name": "stdout"
        }
      ]
    },
    {
      "cell_type": "markdown",
      "metadata": {
        "id": "nc9ge9CqtJ6n",
        "colab_type": "text"
      },
      "source": [
        "**6, Tạo 1 list và tuple từ những số cách nhau bởi dấu phẩy**\n",
        "\n",
        "**Write a Python program which accepts a sequence of comma-separated numbers from user and generate a list and a tuple with those numbers**.\n",
        "\n"
      ]
    },
    {
      "cell_type": "code",
      "metadata": {
        "id": "pJfL4cI2rLN9",
        "colab_type": "code",
        "outputId": "c6fc60bd-fc97-4786-c852-abcf74587efb",
        "colab": {
          "base_uri": "https://localhost:8080/",
          "height": 248
        }
      },
      "source": [
        "values = input(\"Input some comma seprated numbers : \") # lấy 1 dãy số nhập từ người dùng\n",
        "list = values.split(\",\") # tạo 1 list, gán số từ người dùng vào list\n",
        "tuple = tuple(list) # tạo 1 tuple, gán nội dung từ list vào tuple\n",
        "print('List : ',list) # in\n",
        "print('Tuple : ',tuple) # chạy trên colab bị lỗi"
      ],
      "execution_count": 0,
      "outputs": [
        {
          "output_type": "stream",
          "text": [
            "Input some comma seprated numbers : 1\n"
          ],
          "name": "stdout"
        },
        {
          "output_type": "error",
          "ename": "TypeError",
          "evalue": "ignored",
          "traceback": [
            "\u001b[0;31m---------------------------------------------------------------------------\u001b[0m",
            "\u001b[0;31mTypeError\u001b[0m                                 Traceback (most recent call last)",
            "\u001b[0;32m<ipython-input-17-765ab3b66802>\u001b[0m in \u001b[0;36m<module>\u001b[0;34m()\u001b[0m\n\u001b[1;32m      1\u001b[0m \u001b[0mvalues\u001b[0m \u001b[0;34m=\u001b[0m \u001b[0minput\u001b[0m\u001b[0;34m(\u001b[0m\u001b[0;34m\"Input some comma seprated numbers : \"\u001b[0m\u001b[0;34m)\u001b[0m \u001b[0;31m# lấy 1 dãy số nhập từ người dùng\u001b[0m\u001b[0;34m\u001b[0m\u001b[0;34m\u001b[0m\u001b[0m\n\u001b[1;32m      2\u001b[0m \u001b[0mlist\u001b[0m \u001b[0;34m=\u001b[0m \u001b[0mvalues\u001b[0m\u001b[0;34m.\u001b[0m\u001b[0msplit\u001b[0m\u001b[0;34m(\u001b[0m\u001b[0;34m\",\"\u001b[0m\u001b[0;34m)\u001b[0m \u001b[0;31m# tạo 1 list, gán số từ người dùng vào list\u001b[0m\u001b[0;34m\u001b[0m\u001b[0;34m\u001b[0m\u001b[0m\n\u001b[0;32m----> 3\u001b[0;31m \u001b[0mtuple\u001b[0m \u001b[0;34m=\u001b[0m \u001b[0mtuple\u001b[0m\u001b[0;34m(\u001b[0m\u001b[0mlist\u001b[0m\u001b[0;34m)\u001b[0m \u001b[0;31m# tạo 1 tuple, gán nội dung từ list vào tuple\u001b[0m\u001b[0;34m\u001b[0m\u001b[0;34m\u001b[0m\u001b[0m\n\u001b[0m\u001b[1;32m      4\u001b[0m \u001b[0mprint\u001b[0m\u001b[0;34m(\u001b[0m\u001b[0;34m'List : '\u001b[0m\u001b[0;34m,\u001b[0m\u001b[0mlist\u001b[0m\u001b[0;34m)\u001b[0m \u001b[0;31m# in\u001b[0m\u001b[0;34m\u001b[0m\u001b[0;34m\u001b[0m\u001b[0m\n\u001b[1;32m      5\u001b[0m \u001b[0mprint\u001b[0m\u001b[0;34m(\u001b[0m\u001b[0;34m'Tuple : '\u001b[0m\u001b[0;34m,\u001b[0m\u001b[0mtuple\u001b[0m\u001b[0;34m)\u001b[0m\u001b[0;34m\u001b[0m\u001b[0;34m\u001b[0m\u001b[0m\n",
            "\u001b[0;31mTypeError\u001b[0m: 'tuple' object is not callable"
          ]
        }
      ]
    },
    {
      "cell_type": "markdown",
      "metadata": {
        "id": "QGPDbKIW3yoo",
        "colab_type": "text"
      },
      "source": [
        "**7, Tạo 1 file name được nhập từ người dùng và in ra phần mở rộng của nó. Ví dụ Bimbeo.doc thì in ra doc**\n",
        "\n",
        "**Write a Python program to accept a filename from the user and print the extension of that.**\n",
        "\n",
        "![alt text](https://www.w3resource.com/w3r_images/python-basic-image-exercise-7.png)"
      ]
    },
    {
      "cell_type": "code",
      "metadata": {
        "id": "wYI_vDw8slkz",
        "colab_type": "code",
        "outputId": "468bba64-7646-4199-a4e9-f75be5a161eb",
        "colab": {
          "base_uri": "https://localhost:8080/",
          "height": 51
        }
      },
      "source": [
        "filename = input(\"Input the Filename: \")\n",
        "f_extns = filename.split('.') # tạo 1 list mới, cắt chuỗi được nhập vào được ngăn cách bằng dấu chấm, bim.exe thì cắt thành bim và exe\n",
        "print(\"The extension of the file is : \" + repr(f_extns[-1])) # in ra index -1 của chuỗi, sử dụng repr để chuyển dữ liệu thành str, nhưng có thêm dấu nháy"
      ],
      "execution_count": 0,
      "outputs": [
        {
          "output_type": "stream",
          "text": [
            "Input the Filename: bim.111\n",
            "The extension of the file is : '111'\n"
          ],
          "name": "stdout"
        }
      ]
    },
    {
      "cell_type": "markdown",
      "metadata": {
        "id": "I2S4h6u64x4o",
        "colab_type": "text"
      },
      "source": [
        "**8, Hiển thị đầu và cuối của color từ list colors đã cho**\n",
        "\n",
        "**Write a Python program to display the first and last colors from the following list.**\n",
        "\n",
        "\n",
        "![alt text](https://www.w3resource.com/w3r_images/python-basic-image-exercise-8.png)"
      ]
    },
    {
      "cell_type": "code",
      "metadata": {
        "id": "_lOMJjy81bV_",
        "colab_type": "code",
        "outputId": "e019fbb5-f6f1-49b6-ac25-cca9cea5109b",
        "colab": {
          "base_uri": "https://localhost:8080/",
          "height": 51
        }
      },
      "source": [
        "color_list = [\"Red\", \"Green\", \"White\", \"Black\"]\n",
        "print(color_list[0], color_list[-1]) # in index bình thường\n",
        "print(\"%s %s\"%(color_list[0], color_list[-1])) # in index nhưng sử dụng phép gán %s với định dạng format"
      ],
      "execution_count": 0,
      "outputs": [
        {
          "output_type": "stream",
          "text": [
            "Red Black\n",
            "Red Black\n"
          ],
          "name": "stdout"
        }
      ]
    },
    {
      "cell_type": "markdown",
      "metadata": {
        "id": "GAftcU6h5WLT",
        "colab_type": "text"
      },
      "source": [
        "**9, Viết 1 chương trình để hiển thị lịch thi**\n",
        "\n",
        "**Write a Python program to display the examination schedule. (extract the date from exam_st_date).**\n",
        "\n",
        "\n",
        "![alt text](https://www.w3resource.com/w3r_images/python-basic-image-exercise-9.png)"
      ]
    },
    {
      "cell_type": "code",
      "metadata": {
        "id": "ohE1cGHi4eU9",
        "colab_type": "code",
        "outputId": "17db9d39-b61a-46ff-ee36-b38e71bc20a2",
        "colab": {
          "base_uri": "https://localhost:8080/",
          "height": 34
        }
      },
      "source": [
        "exam_st_date = (13,5,2020)\n",
        "print(\"The examination will start from: %i/%i/%i\"%(exam_st_date)) # %i giống %d, in 1 số nguyên int"
      ],
      "execution_count": 0,
      "outputs": [
        {
          "output_type": "stream",
          "text": [
            "The examination will start from: 13/5/2020\n"
          ],
          "name": "stdout"
        }
      ]
    },
    {
      "cell_type": "markdown",
      "metadata": {
        "id": "1Foj_e7W8ZyV",
        "colab_type": "text"
      },
      "source": [
        "**10, Nhập 1 số nguyên int và tính chúng với giá trị là n+nn+nnn. VD 5+55+555**!\n",
        "\n",
        "**Write a Python program that accepts an integer (n) and computes the value of n+nn+nnn.**\n",
        "\n",
        "\n",
        "![alt text](https://www.w3resource.com/w3r_images/python-basic-image-exercise-10.png)"
      ]
    },
    {
      "cell_type": "code",
      "metadata": {
        "id": "544Cdoae6jq1",
        "colab_type": "code",
        "outputId": "f4c1ecd0-6c71-49a2-9127-63e1335dac43",
        "colab": {
          "base_uri": "https://localhost:8080/",
          "height": 51
        }
      },
      "source": [
        "a = int(input(\"Nhap 1 so nguyen: \"))\n",
        "n1 = int(\"%i\"%a) # n=5, tạo 1 chuỗi là 5, rồi ép kiểu sang số int\n",
        "n2 = int(\"%i%i\"%(a,a)) # nn=55\n",
        "n3 = int(\"%i%i%i\"%(a,a,a)) # nnn=555\n",
        "print(n1+n2+n3)\n"
      ],
      "execution_count": 0,
      "outputs": [
        {
          "output_type": "stream",
          "text": [
            "Nhap 1 so nguyen: 5\n",
            "615\n"
          ],
          "name": "stdout"
        }
      ]
    },
    {
      "cell_type": "markdown",
      "metadata": {
        "id": "_cJ_wVd584Su",
        "colab_type": "text"
      },
      "source": [
        "**11, In ra 1 tài liệu về Hàm xây dựng Python**\n",
        "\n",
        "**Write a Python program to print the documents (syntax, description etc.) of Python built-in function(s).**\n",
        "\n"
      ]
    },
    {
      "cell_type": "code",
      "metadata": {
        "id": "6YjFMehw7HHo",
        "colab_type": "code",
        "outputId": "8640f736-d439-4027-dbf6-195cea7a8e73",
        "colab": {
          "base_uri": "https://localhost:8080/",
          "height": 51
        }
      },
      "source": [
        "print(len.__doc__)\n",
        "class Dog:\n",
        "    \"\"\"Your best friend.\"\"\"\n",
        "\n",
        "    def do_nothing(self):\n",
        "        pass\n",
        "\n",
        "\n",
        "print(Dog.__doc__)\n",
        "# Your best friend. "
      ],
      "execution_count": 0,
      "outputs": [
        {
          "output_type": "stream",
          "text": [
            "Return the number of items in a container.\n",
            "Your best friend.\n"
          ],
          "name": "stdout"
        }
      ]
    },
    {
      "cell_type": "markdown",
      "metadata": {
        "id": "ZSl9_5QQFyHS",
        "colab_type": "text"
      },
      "source": [
        "**12, In ra lịch gửi vào 1 tháng và năm**\n",
        "\n",
        "**Write a Python program to print the calendar of a given month and year.**\n",
        "\n",
        "\n",
        "Sử dụng module Calendar\n",
        "\n",
        "![alt text](https://www.w3resource.com/w3r_images/python-basic-image-exercise-12.png)"
      ]
    },
    {
      "cell_type": "code",
      "metadata": {
        "id": "OM7fD4Gq9ZtE",
        "colab_type": "code",
        "outputId": "8c9672c3-b4ed-49ab-bef1-e7a59ba08a0d",
        "colab": {
          "base_uri": "https://localhost:8080/",
          "height": 187
        }
      },
      "source": [
        "import calendar\n",
        "y = int(input(\"In put the year: \"))\n",
        "m = int(input(\"In put the month: \"))\n",
        "print(calendar.month(y, m))"
      ],
      "execution_count": 0,
      "outputs": [
        {
          "output_type": "stream",
          "text": [
            "In put the year: 9999\n",
            "In put the month: 12\n",
            "   December 9999\n",
            "Mo Tu We Th Fr Sa Su\n",
            "       1  2  3  4  5\n",
            " 6  7  8  9 10 11 12\n",
            "13 14 15 16 17 18 19\n",
            "20 21 22 23 24 25 26\n",
            "27 28 29 30 31\n",
            "\n"
          ],
          "name": "stdout"
        }
      ]
    },
    {
      "cell_type": "markdown",
      "metadata": {
        "id": "rNlkAGThG9db",
        "colab_type": "text"
      },
      "source": [
        "**13, Viết ra 1 chương trình 1 đoạn tài liệu**,\n",
        "\n",
        "**Write a Python program to print the calendar of a given month and year.**\n",
        "\n"
      ]
    },
    {
      "cell_type": "code",
      "metadata": {
        "id": "6DoWSSu3GZcV",
        "colab_type": "code",
        "outputId": "b87856a8-4c20-495d-c0e8-d1458739ba0a",
        "colab": {
          "base_uri": "https://localhost:8080/",
          "height": 85
        }
      },
      "source": [
        "print(\"\"\"a string that you \"don't\"\" have to escape\n",
        "This\n",
        "is a ....... multi-line\n",
        "heredoc string ---------> example\"\"\" )"
      ],
      "execution_count": 0,
      "outputs": [
        {
          "output_type": "stream",
          "text": [
            "a string that you \"don't\"\" have to escape\n",
            "This\n",
            "is a ....... multi-line\n",
            "heredoc string ---------> example\n"
          ],
          "name": "stdout"
        }
      ]
    },
    {
      "cell_type": "markdown",
      "metadata": {
        "id": "znOqK-x-H2Wm",
        "colab_type": "text"
      },
      "source": [
        "**14, Viết chương trình đếm số ngày giữa 2 ngày khác cách nhau**\n",
        "\n",
        "\n",
        "**Write a Python program to calculate number of days between two dates.**\n",
        "\n",
        "\n",
        "datetime.date(year, month, day) :\n",
        "\n",
        "MINYEAR <= year <= MAXYEAR (MIN:1, MAX:9999)\n",
        "\n",
        "1 <= month <= 12\n",
        "\n",
        "1 <= day <= number of days in the given month and year\n",
        "\n",
        "Ngoài vùng trả về lỗi ValueError\n",
        "\n",
        "![alt text](https://www.w3resource.com/w3r_images/python-basic-image-exercise-14.png)"
      ]
    },
    {
      "cell_type": "code",
      "metadata": {
        "id": "nzmLPvv1Grtx",
        "colab_type": "code",
        "outputId": "5766fa28-6f13-4110-a8ed-4c4f4390b665",
        "colab": {
          "base_uri": "https://localhost:8080/",
          "height": 68
        }
      },
      "source": [
        "from datetime import date \n",
        "f_date = date(1996, 8, 7)\n",
        "l_date = date(2020, 5, 13)\n",
        "delta = l_date - f_date\n",
        "print(delta.days)\n",
        "print(delta)\n",
        "print(f_date)"
      ],
      "execution_count": 0,
      "outputs": [
        {
          "output_type": "stream",
          "text": [
            "8680\n",
            "8680 days, 0:00:00\n",
            "1996-08-07\n"
          ],
          "name": "stdout"
        }
      ]
    },
    {
      "cell_type": "markdown",
      "metadata": {
        "id": "AqdOVateJ5jG",
        "colab_type": "text"
      },
      "source": [
        "**15, Viết chương trình Python để lấy thể tích của một hình cầu có bán kính 6.**\n",
        "\n",
        "**Write a Python program to get the the volume of a sphere with radius 6.**\n",
        "\n",
        "![alt text](https://www.w3resource.com/w3r_images/python-volume-of-sphere-basic-exercise-15.png)"
      ]
    },
    {
      "cell_type": "code",
      "metadata": {
        "id": "FkLIAzL4JGT8",
        "colab_type": "code",
        "outputId": "b6c2b9a1-f877-403a-f48f-211c01965eb9",
        "colab": {
          "base_uri": "https://localhost:8080/",
          "height": 34
        }
      },
      "source": [
        "pi = 3.1415926535897931\n",
        "r = 6.0\n",
        "V = 4.0/3.0*pi*r**3\n",
        "print('The volume of the shepre is: ', V)"
      ],
      "execution_count": 0,
      "outputs": [
        {
          "output_type": "stream",
          "text": [
            "The volume of the shepre is:  904.7786842338603\n"
          ],
          "name": "stdout"
        }
      ]
    },
    {
      "cell_type": "markdown",
      "metadata": {
        "id": "im_Gkp0hMIbC",
        "colab_type": "text"
      },
      "source": [
        "**16, Viết chương trình Python để lấy chênh lệch giữa một số đã cho và 17, nếu số lớn hơn 17 trả về gấp đôi số chênh lệch, nếu nhỏ hơn 17 lấy trị tuyệt đối**\n",
        "\n",
        "**Write a Python program to get the difference between a given number and 17, if the number is greater than 17 return double the absolute difference.**\n",
        "![alt text](https://www.w3resource.com/w3r_images/python-basic-image-exercise-16.png)"
      ]
    },
    {
      "cell_type": "code",
      "metadata": {
        "id": "aXKMzN2nLsSN",
        "colab_type": "code",
        "outputId": "1418fde7-55c5-4f03-efee-936bcdee61d9",
        "colab": {
          "base_uri": "https://localhost:8080/",
          "height": 51
        }
      },
      "source": [
        "n = int(input(\"Nhap vao 1 so: \"))\n",
        "cl = n - 17\n",
        "if n > 17:\n",
        "  print(cl*2)\n",
        "else:\n",
        "  print(abs(cl))\n",
        "\n",
        "\"\"\"def difference(n): C2: Viết hàm\n",
        "  if n <= 17:\n",
        "    return 17-n \n",
        "  else (n - 17) * 2\n",
        "print(defference(22))\n",
        "print(difference(14))\"\"\""
      ],
      "execution_count": 0,
      "outputs": [
        {
          "output_type": "stream",
          "text": [
            "Nhap vao 1 so: 22\n",
            "10\n"
          ],
          "name": "stdout"
        }
      ]
    },
    {
      "cell_type": "markdown",
      "metadata": {
        "id": "4gzN6cMEOYU-",
        "colab_type": "text"
      },
      "source": [
        "**17, Kiểm tra xem một số có nằm trong 100 của 1000 hoặc 2000 không**\n",
        "\n",
        "**Write a Python program to test whether a number is within 100 of 1000 or 2000.**\n",
        "\n",
        "![alt text](https://www.w3resource.com/w3r_images/python-abs-function-basic-exercise-17.png)"
      ]
    },
    {
      "cell_type": "code",
      "metadata": {
        "id": "mvkfknWGNERR",
        "colab_type": "code",
        "outputId": "6979cc8d-ed80-40d5-b601-bcc78aea018e",
        "colab": {
          "base_uri": "https://localhost:8080/",
          "height": 85
        }
      },
      "source": [
        "# Không hiểu đề bải lắm\n",
        "def near_thousand(n):\n",
        "  return ((abs(1000-n) <= 100) or (abs(2000 - n) <= 100)) #or: đúng khi 1 trong 2 đúng, trả về boolean kết quả true, false\n",
        "print(near_thousand(1000))\n",
        "print(near_thousand(900))\n",
        "print(near_thousand(800))\n",
        "print(near_thousand(2200))"
      ],
      "execution_count": 0,
      "outputs": [
        {
          "output_type": "stream",
          "text": [
            "True\n",
            "True\n",
            "False\n",
            "False\n"
          ],
          "name": "stdout"
        }
      ]
    },
    {
      "cell_type": "markdown",
      "metadata": {
        "id": "sM8nQ4buQadE",
        "colab_type": "text"
      },
      "source": [
        "**18, Viết chương trình Python để tính tổng của ba số đã cho, nếu các giá trị bằng nhau thì trả về ba lần tổng của chúng.**\n",
        "\n",
        "**Write a Python program to calculate the sum of three given numbers, if the values are equal then return thrice of their sum.**\n",
        "\n",
        "\n",
        "\n",
        "VD: 1 2 3 thì 1 ≠ 2 ≠ 3 thì 1 + 2 + 3 = 6\n",
        "\n",
        "   3 3 3 thì 3 = 3 = 3 thì (3+3+3) * 3\n",
        "\n",
        "![alt text](https://www.w3resource.com/w3r_images/python-basic-image-exercise-18.png)"
      ]
    },
    {
      "cell_type": "code",
      "metadata": {
        "id": "53ivMNIpPyFz",
        "colab_type": "code",
        "outputId": "c355d969-0835-492b-8ec0-fad874d1341f",
        "colab": {
          "base_uri": "https://localhost:8080/",
          "height": 51
        }
      },
      "source": [
        "def tinh_tong(x, y, z):\n",
        "  sum = x + y + z\n",
        "  if x != y != z:\n",
        "    print(sum)\n",
        "  else:\n",
        "    print(sum*3)\n",
        "\n",
        "tinh_tong(1,2,3)\n",
        "tinh_tong(3,3,3)\n",
        "\n",
        "\"\"\" def sum_thrice(x, y, z):      Cách 2\n",
        "     sum = x + y + z\n",
        "     if x == y == z:\n",
        "      sum = sum * 3\n",
        "     return sum\n",
        "print(sum_thrice(1, 2, 3))\n",
        "print(sum_thrice(3, 3, 3))\"\"\""
      ],
      "execution_count": 0,
      "outputs": [
        {
          "output_type": "stream",
          "text": [
            "6\n",
            "27\n"
          ],
          "name": "stdout"
        }
      ]
    },
    {
      "cell_type": "markdown",
      "metadata": {
        "id": "qtaVhFcJSwsj",
        "colab_type": "text"
      },
      "source": [
        "**19, Viết chương trình Python để lấy một chuỗi mới từ một chuỗi đã cho trong đó \"Is\" đã được thêm vào phía trước. Nếu chuỗi đã cho đã bắt đầu bằng \"Is\" thì trả về chuỗi không thay đổi.**\n",
        "\n",
        "**Write a Python program to get a new string from a given string where \"Is\" has been added to the front. If the given string already begins with \"Is\" then return the string unchanged.**\n",
        "\n",
        "![alt text](https://www.w3resource.com/w3r_images/python-basic-image-exercise-19.png)"
      ]
    },
    {
      "cell_type": "code",
      "metadata": {
        "id": "33fi_QFWRjFS",
        "colab_type": "code",
        "outputId": "ba416a89-ecf9-42c0-d13d-71aff3a4ac2f",
        "colab": {
          "base_uri": "https://localhost:8080/",
          "height": 51
        }
      },
      "source": [
        "def new_string(str):\n",
        "  if len(str) >= 2 and str[:2] == \"Is\": # Điều kiện, đúng khi cả 2 đúng, độ dài phải lớn hơn 2 và index 0,1 là Is\n",
        "    return str\n",
        "  return \"Is\" + str # trả về hàm, nếu không return thì sẽ trả về None\n",
        "\n",
        "print(new_string(\"Array\"))\n",
        "print(new_string(\"IsEmpty\"))"
      ],
      "execution_count": 0,
      "outputs": [
        {
          "output_type": "stream",
          "text": [
            "IsArray\n",
            "IsEmpty\n"
          ],
          "name": "stdout"
        }
      ]
    },
    {
      "cell_type": "markdown",
      "metadata": {
        "id": "yeddMdMcTvC4",
        "colab_type": "text"
      },
      "source": [
        "**20, Viết chương trình Python để lấy một chuỗi là n (số nguyên không âm) sao chép của một chuỗi đã cho.**\n",
        "\n",
        "**Write a Python program to get a string which is n (non-negative integer) copies of a given string.**\n",
        "\n",
        "\n",
        "\n",
        "![alt text](https://www.w3resource.com/w3r_images/python-basic-image-exercise-20.png)\n"
      ]
    },
    {
      "cell_type": "code",
      "metadata": {
        "id": "XQ9lpxRlTQOe",
        "colab_type": "code",
        "outputId": "5a83cb59-1e48-49f3-e843-4da894b754d9",
        "colab": {
          "base_uri": "https://localhost:8080/",
          "height": 51
        }
      },
      "source": [
        "def larger_string(str, n):\n",
        "  result = \"\"               # tạo 1 chuỗi resutlt rỗng\n",
        "  for i in range(n):        # lặp số lần của n nhập vào tham số\n",
        "    result = result + str   # gán kết quả vào result qua n lần lặp\n",
        "  return result             # trả về hàm kết quả, nếu không return thì sẽ trả về None\n",
        "\n",
        "print(larger_string('abc', 2))\n",
        "print(larger_string('.py', 3))"
      ],
      "execution_count": 0,
      "outputs": [
        {
          "output_type": "stream",
          "text": [
            "abcabc\n",
            ".py.py.py\n"
          ],
          "name": "stdout"
        }
      ]
    },
    {
      "cell_type": "markdown",
      "metadata": {
        "id": "rovn3ytgY78Q",
        "colab_type": "text"
      },
      "source": [
        "**21, Tìm xem một số đã cho là chẵn hay lẻ, in ra một thông điệp phù hợp cho người dùng**\n",
        "\n",
        "**Write a Python program to find whether a given number (accept from the user) is even or odd, print out an appropriate message to the user.**\n",
        "\n",
        "\n",
        "![alt text](https://www.w3resource.com/w3r_images/check-even-number.png) ![alt text](https://www.w3resource.com/w3r_images/check-odd-number.png)"
      ]
    },
    {
      "cell_type": "code",
      "metadata": {
        "id": "jgqjxLEmU34f",
        "colab_type": "code",
        "outputId": "c4e6d434-1209-4897-a93b-6763bc0b39ca",
        "colab": {
          "base_uri": "https://localhost:8080/",
          "height": 51
        }
      },
      "source": [
        "n = int(input(\"Nhap vao 1 so: \"))\n",
        "if n % 2 ==0: \n",
        "  print(\"So nay la so chan\")\n",
        "else:\n",
        "  print(\"So nay la so le\")\n",
        "\n",
        "\"\"\" num = int(intput(\"Enter a number: ))\n",
        "    mod = num % 2                           biến mod trả về số dư\n",
        "    if mod > 0:                             số dư lớn hơn 0 thì là số lẻ\n",
        "      print(\"This is an odd num number.\")\n",
        "    else:                                   số dư <= 0 thì là số chẵn\n",
        "      print(\"This is an even number.)\"\"\"\n"
      ],
      "execution_count": 0,
      "outputs": [
        {
          "output_type": "stream",
          "text": [
            "Nhap vao 1 so: 10\n",
            "So nay la so chan\n"
          ],
          "name": "stdout"
        }
      ]
    },
    {
      "cell_type": "markdown",
      "metadata": {
        "id": "HZl3qGi5aZ3v",
        "colab_type": "text"
      },
      "source": [
        "**22, Đếm số 4 trong một danh sách nhất định**\n",
        "\n",
        "**Write a Python program to count the number 4 in a given list.**\n",
        "\n",
        "\n",
        "![alt text](https://www.w3resource.com/w3r_images/python-basic-image-exercise-22.png)"
      ]
    },
    {
      "cell_type": "code",
      "metadata": {
        "id": "f_R9b8OWZSC_",
        "colab_type": "code",
        "outputId": "e5c5f7fa-852b-4bfd-861f-87ce55e33f04",
        "colab": {
          "base_uri": "https://localhost:8080/",
          "height": 51
        }
      },
      "source": [
        "def list_count_4(nums):\n",
        "  count = 0\n",
        "  for num in nums:        # num duyệt từng phần tử trong list num, nếu num = 4 thì count được + thêm vào 1 \n",
        "    if num == 4:\n",
        "      count += 1\n",
        "  return count\n",
        "print(list_count_4([1, 4, 6, 7, 4]))\n",
        "print(list_count_4([1, 4, 6, 4, 7, 4]))"
      ],
      "execution_count": 0,
      "outputs": [
        {
          "output_type": "stream",
          "text": [
            "2\n",
            "3\n"
          ],
          "name": "stdout"
        }
      ]
    },
    {
      "cell_type": "markdown",
      "metadata": {
        "id": "fYkLWvA-b9K4",
        "colab_type": "text"
      },
      "source": [
        "**23, Viết chương trình Python để lấy n (số nguyên không âm), sao chép 2 ký tự đầu tiên của một chuỗi đã cho. Trả về n bản sao của toàn bộ chuỗi nếu độ dài nhỏ hơn 2.**\n",
        "\n",
        "**Write a Python program to get the n (non-negative integer) copies of the first 2 characters of a given string. Return the n copies of the whole string if the length is less than 2.**\n",
        "\n",
        " ![alt text](https://www.w3resource.com/w3r_images/python-basic-image-exercise-23.png)"
      ]
    },
    {
      "cell_type": "code",
      "metadata": {
        "id": "HNTUjam0a6mM",
        "colab_type": "code",
        "outputId": "fd09445c-620d-45b2-df79-bcb600224120",
        "colab": {
          "base_uri": "https://localhost:8080/",
          "height": 68
        }
      },
      "source": [
        "def substring_copy(str, n):\n",
        "  flen = 2                      # biến flen kiểm tra độ dài, cố định là 2\n",
        "  if flen > len(str):           # Nếu flen > độ dài chuỗi,\n",
        "    flen = len(str)             # thì flen = độ dài chuỗi, độ dài là 1 thì flen = 1\n",
        "  substr = str[:flen]           # Flen  < độ dài chuỗi, tạo biến substr, chuỗi con sẽ bằng index str[:2] hoặc str[:1]\n",
        "\n",
        "  result = \"\"                   # tạo 1 biến result, khởi tạo ban đầu là rỗng, mục đích để gán substr vào result\n",
        "  for i in range(n):            # duyệt và lặp n số lần\n",
        "    result = result + substr    # gán substr vào result\n",
        "  return result                 # kết quả trả về là result mới với số lần lặp đã hoàn thành\n",
        "print(substring_copy('abcdef', 2))\n",
        "print(substring_copy('p', 3));\n",
        "print(substring_copy('', 3));\n",
        "\n"
      ],
      "execution_count": 0,
      "outputs": [
        {
          "output_type": "stream",
          "text": [
            "abab\n",
            "ppp\n",
            "\n"
          ],
          "name": "stdout"
        }
      ]
    },
    {
      "cell_type": "markdown",
      "metadata": {
        "id": "y_92ozqvgIS-",
        "colab_type": "text"
      },
      "source": [
        "**24, Kiểm tra 1 chữ cái có phải là nguyên âm hay không?**\n",
        "\n",
        "**Write a Python program to test whether a passed letter is a vowel or not.**\n",
        "\n",
        "\n",
        "![alt text](https://www.w3resource.com/w3r_images/python-basic-image-exercise-24.png)"
      ]
    },
    {
      "cell_type": "code",
      "metadata": {
        "id": "NtIEylugdOol",
        "colab_type": "code",
        "outputId": "4f291f5c-e368-4277-e820-ca685e321eda",
        "colab": {
          "base_uri": "https://localhost:8080/",
          "height": 51
        }
      },
      "source": [
        "def is_vowel(char):\n",
        "  all_vowels = 'aeiou'        # biến all_vowels, chuỗi có chứa 5 nguyên âm\n",
        "  return char in all_vowels   # trả về kiểm tra ký tự có nằm trong chuỗi all_vowels không? \n",
        "print(is_vowel('c'))\n",
        "print(is_vowel('e'))"
      ],
      "execution_count": 0,
      "outputs": [
        {
          "output_type": "stream",
          "text": [
            "False\n",
            "True\n"
          ],
          "name": "stdout"
        }
      ]
    },
    {
      "cell_type": "markdown",
      "metadata": {
        "id": "sEdNVSp0hNzG",
        "colab_type": "text"
      },
      "source": [
        "**25, Viết chương trình Python để kiểm tra xem một giá trị được chỉ định có được chứa trong một nhóm các giá trị hay không.**\n",
        "\n",
        "**Write a Python program to check whether a specified value is contained in a group of values.**\n",
        "![alt text](https://www.w3resource.com/w3r_images/python-basic-image-exercise-25.png)"
      ]
    },
    {
      "cell_type": "code",
      "metadata": {
        "id": "CS7aTHShg03o",
        "colab_type": "code",
        "outputId": "27d1c369-8093-47ba-c30c-fca811c1443b",
        "colab": {
          "base_uri": "https://localhost:8080/",
          "height": 51
        }
      },
      "source": [
        "def is_group_member(group_data, n):\n",
        "  for value in group_data:              # duyệt từng phần tử trong group_data\n",
        "    if n == value:                      # nếu n = value, tức n = 1 số trong những phần tử group_data\n",
        "      return True                       # trả về True, tức là n có nằm trong group_data\n",
        "  return False                          # trả về False, không nằm trong group_data\n",
        "\n",
        "print(is_group_member([1, 5, 8, 3, 3], 3))\n",
        "print(is_group_member([5, 8, 3], -1))"
      ],
      "execution_count": 0,
      "outputs": [
        {
          "output_type": "stream",
          "text": [
            "True\n",
            "False\n"
          ],
          "name": "stdout"
        }
      ]
    },
    {
      "cell_type": "markdown",
      "metadata": {
        "id": "JeWi9K6tjIOf",
        "colab_type": "text"
      },
      "source": [
        "**26, Viết chương trình Python để tạo biểu đồ từ danh sách các số nguyên cho trước.**\n",
        "\n",
        "**Write a Python program to create a histogram from a given list of integers.**\n",
        "\n",
        "\n",
        "![alt text](https://www.w3resource.com/w3r_images/python-basic-image-exercise-26.png)"
      ]
    },
    {
      "cell_type": "code",
      "metadata": {
        "id": "tMBDeCxNiW9s",
        "colab_type": "code",
        "outputId": "96bc8678-e29f-4b01-9491-c436d44d213b",
        "colab": {
          "base_uri": "https://localhost:8080/",
          "height": 119
        }
      },
      "source": [
        "def histogram(items):\n",
        "  for n in items:           # duyệt từng phần tử trong list items, n = giá trị từng phần tử của list\n",
        "    output = ''             # tạo 1 biến là chuỗi output rỗng, dùng để chứa * vào chuỗi\n",
        "    times = n               # tạo times, số lần thêm * vào output, times = n, n thì = giá trị trong 1 phần tử trong list\n",
        "    while (times > 0):      # vòng lặp while, dừng khi điều kiện sai, số lần = 0 thì dừng vòng lặp\n",
        "      output += '*'         # thêm * vào outputs, số lần thêm = times (n)\n",
        "      times = times - 1     # thêm xong rồi thì - số lần đi 1 \n",
        "    print(output)           # in ra ouput từng phần tử, không có return, trả về None\n",
        "histogram([2,-1, 0, 3, 6, 5])\n"
      ],
      "execution_count": 0,
      "outputs": [
        {
          "output_type": "stream",
          "text": [
            "**\n",
            "\n",
            "\n",
            "***\n",
            "******\n",
            "*****\n"
          ],
          "name": "stdout"
        }
      ]
    },
    {
      "cell_type": "markdown",
      "metadata": {
        "id": "miLbA9UMmGZs",
        "colab_type": "text"
      },
      "source": [
        "**27, Viết chương trình Python để nối tất cả các phần tử trong danh sách thành một chuỗi và trả về nó.**\n",
        "\n",
        "**Write a Python program to concatenate all elements in a list into a string and return it.**\n",
        "\n",
        "\n",
        "![alt text](https://www.w3resource.com/w3r_images/python-basic-image-exercise-27.png)"
      ]
    },
    {
      "cell_type": "code",
      "metadata": {
        "id": "btpa3FSXj0m4",
        "colab_type": "code",
        "outputId": "de1e8919-d2cd-4c52-9353-09ab7041dab5",
        "colab": {
          "base_uri": "https://localhost:8080/",
          "height": 34
        }
      },
      "source": [
        "def concatenate_list_data(list):\n",
        "  result = ''                               # tạo 1 biến result rỗng, gán kết quả vào result\n",
        "  for element in list:                      # duyệt từng phần tử trong list\n",
        "    result += str(element)                  # thêm từng phần tử trong list vào result\n",
        "  return result                             # trả về kết quả result\n",
        "print(concatenate_list_data([1, 5, 12, 2]))\n"
      ],
      "execution_count": 0,
      "outputs": [
        {
          "output_type": "stream",
          "text": [
            "15122\n"
          ],
          "name": "stdout"
        }
      ]
    },
    {
      "cell_type": "markdown",
      "metadata": {
        "id": "9Vo2n5gTqOfs",
        "colab_type": "text"
      },
      "source": [
        "**28, Viết chương trình Python để in ra tất cả các số chẵn từ danh sách các số đã cho theo cùng một thứ tự và dừng in nếu có bất kỳ số nào xuất hiện sau 237 trong chuỗi.**\n",
        "\n",
        "**Write a Python program to print out all even numbers from a given numbers list in the same order and stop the printing if any numbers that come after 237 in the sequence.**"
      ]
    },
    {
      "cell_type": "code",
      "metadata": {
        "id": "vLOC_fVbmq2D",
        "colab_type": "code",
        "outputId": "d4021fe4-7063-48ff-f19f-5c88363f16d3",
        "colab": {
          "base_uri": "https://localhost:8080/",
          "height": 221
        }
      },
      "source": [
        "numbers = [    \n",
        "    386, 462, 47, 418, 907, 344, 236, 375, 823, 566, 597, 978, 328, 615, 953, 345, \n",
        "    399, 162, 758, 219, 918, 237, 412, 566, 826, 248, 866, 950, 626, 949, 687, 217, \n",
        "    815, 67, 104, 58, 512, 24, 892, 894, 767, 553, 81, 379, 843, 831, 445, 742, 717, \n",
        "    958,743, 527\n",
        "    ]\n",
        "for x in numbers: # duyệt từng phần tử trong list\n",
        "  if x == 237:    # điều kiên x = 237\n",
        "    print(x)      # in ra x\n",
        "    break;        # dừng, thoát khỏi vòng lặp và kết thúc chương trình\n",
        "  elif x % 2 == 0:  # x chia hết cho 2, in ra x, x không chia hết cho 2, bỏ qua duyệt tiếp phần tử khác\n",
        "    print(x)"
      ],
      "execution_count": 0,
      "outputs": [
        {
          "output_type": "stream",
          "text": [
            "386\n",
            "462\n",
            "418\n",
            "344\n",
            "236\n",
            "566\n",
            "978\n",
            "328\n",
            "162\n",
            "758\n",
            "918\n",
            "237\n"
          ],
          "name": "stdout"
        }
      ]
    },
    {
      "cell_type": "markdown",
      "metadata": {
        "id": "oGZl_LkWrpZH",
        "colab_type": "text"
      },
      "source": [
        "**29, Viết chương trình Python để in ra một tập hợp chứa tất cả các màu từ color_list_1 không có trong color_list_2.**\n",
        "\n",
        "**Write a Python program to print out a set containing all the colors from color_list_1 which are not present in color_list_2.**\n",
        "\n",
        "\n",
        "![alt text](https://www.w3resource.com/w3r_images/python-basic-image-exercise-29.png)"
      ]
    },
    {
      "cell_type": "code",
      "metadata": {
        "id": "3z_NeI_fqgWg",
        "colab_type": "code",
        "outputId": "969c9b69-a49c-4a87-c77e-0c24dece13ea",
        "colab": {
          "base_uri": "https://localhost:8080/",
          "height": 34
        }
      },
      "source": [
        "color_list_1 = set([\"White\", \"Black\", \"Red\"]) # tạo 2 set\n",
        "color_list_2 = set([\"Red\",\"Green\"])\n",
        "print(color_list_1.difference(color_list_2)) # hiệu 2 tập hợp, chỉ thực hiện được khi 2 biến là 2 tập hợp set"
      ],
      "execution_count": 0,
      "outputs": [
        {
          "output_type": "stream",
          "text": [
            "{'Black', 'White'}\n"
          ],
          "name": "stdout"
        }
      ]
    },
    {
      "cell_type": "markdown",
      "metadata": {
        "id": "TP_bBGCes8jD",
        "colab_type": "text"
      },
      "source": [
        "**31, Viết chương trình Python sẽ chấp nhận đáy và chiều cao của một hình tam giác và tính diện tích.**\n",
        "\n",
        "**Write a Python program that will accept the base and height of a triangle and compute the area.**\n",
        "\n",
        "\n",
        "![alt text](https://www.w3resource.com/w3r_images/python-area-triangle-basic-exercise-30.png)"
      ]
    },
    {
      "cell_type": "code",
      "metadata": {
        "id": "Doqh-7oisYnj",
        "colab_type": "code",
        "outputId": "abcd9eef-0d75-483f-8fb0-e931ab001344",
        "colab": {
          "base_uri": "https://localhost:8080/",
          "height": 68
        }
      },
      "source": [
        "b = float(input(\"Input base: \"))\n",
        "h = float(input(\"input height: \"))\n",
        "area = 1/2 * b * h\n",
        "print(\"Area = : \", area)"
      ],
      "execution_count": 0,
      "outputs": [
        {
          "output_type": "stream",
          "text": [
            "Input base: 20\n",
            "input height: 40\n",
            "Dien tich hinh tam giac la:  400.0\n"
          ],
          "name": "stdout"
        }
      ]
    },
    {
      "cell_type": "markdown",
      "metadata": {
        "id": "AJetJ9TouG5K",
        "colab_type": "text"
      },
      "source": [
        "**32, Viết chương trình Python để lấy bội số chung nhỏ nhất (LCM) của hai số nguyên dương.**\n",
        "\n",
        "**Write a Python program to compute the greatest common divisor (GCD) of two positive integers.**\n",
        "\n",
        "\n",
        "![alt text](https://www.w3resource.com/w3r_images/python-basic-image-exercise-32.png)"
      ]
    },
    {
      "cell_type": "code",
      "metadata": {
        "id": "HO7ONBaUtxWZ",
        "colab_type": "code",
        "outputId": "fb51527d-0868-45a1-cfe0-587b100bef81",
        "colab": {
          "base_uri": "https://localhost:8080/",
          "height": 51
        }
      },
      "source": [
        "def lcm(x, y):\n",
        "  if x > y:\n",
        "    z = x\n",
        "  else: \n",
        "    z = y                                 # tạo 1 biến z được gán vào giá trị x hoặc y lớn nhất\n",
        "\n",
        "  while(True):                            # tạo 1 vòng lặp, dừng đến khi gặp điều kiện break\n",
        "    if((z % x == 0) and (z % y == 0)):    # điều kiện and, đúng khi cả 2 thỏa mãn, không thỏa mãn thì bỏ qua if\n",
        "      lcm = z                             # gán z = lcm khi thỏa mãn điều kiện trên\n",
        "      break                               # thoát khỏi vòng lặp\n",
        "    z += 1                                # z + thêm 1 giá trị tăng dần, tiến tới khi nào z thỏa mãn điều kiện if ở trên\n",
        "  return lcm                              # trả về giá trị lcm, lấy kết quả lcm được gán từ z\n",
        "print(lcm(4, 6))\n",
        "print(lcm(15, 17))\n"
      ],
      "execution_count": 0,
      "outputs": [
        {
          "output_type": "stream",
          "text": [
            "12\n",
            "255\n"
          ],
          "name": "stdout"
        }
      ]
    },
    {
      "cell_type": "markdown",
      "metadata": {
        "id": "J6CcrQOXxr-h",
        "colab_type": "text"
      },
      "source": [
        "**33, Viết chương trình Python để tổng ba số nguyên đã cho. Tuy nhiên, nếu hai giá trị bằng nhau thì tổng sẽ bằng không.**\n",
        "\n",
        "**Write a Python program to get the least common multiple (LCM) of two positive integers.**\n",
        "\n",
        "![alt text](https://www.w3resource.com/w3r_images/python-basic-image-exercise-33.png)"
      ]
    },
    {
      "cell_type": "code",
      "metadata": {
        "id": "pRV6paImu7Hv",
        "colab_type": "code",
        "outputId": "dd14b4fc-172f-4d46-fe8e-bca2f8cbad0b",
        "colab": {
          "base_uri": "https://localhost:8080/",
          "height": 85
        }
      },
      "source": [
        "def sum(x, y, z):\n",
        "  if x == y or y == z or x == z: # Kiểm tra nếu x=y hoặc y=z hoặc x=z\n",
        "    sum = 0                      # thì sum = 0\n",
        "  else:                          # Nếu x, y, z khác nhau\n",
        "    sum = x + y + z              # thì sum = x + y + z\n",
        "  return sum                     # trả về kết quả giá trị hàm là sum\n",
        "print(sum(2, 1, 2))\n",
        "print(sum(3, 2, 2))\n",
        "print(sum(2, 2, 2))\n",
        "print(sum(1, 2, 3))"
      ],
      "execution_count": 0,
      "outputs": [
        {
          "output_type": "stream",
          "text": [
            "0\n",
            "0\n",
            "0\n",
            "6\n"
          ],
          "name": "stdout"
        }
      ]
    },
    {
      "cell_type": "markdown",
      "metadata": {
        "id": "6daC2ioRyzpG",
        "colab_type": "text"
      },
      "source": [
        "**34, Viết chương trình Python để tổng hai số nguyên đã cho. Tuy nhiên, nếu tổng từ 15 đến 20 thì nó sẽ trả về 20.**\n",
        "\n",
        "**Write a Python program to sum of two given integers. However, if the sum is between 15 to 20 it will return 20.**\n",
        "\n",
        "\n",
        "![alt text](https://www.w3resource.com/w3r_images/python-basic-image-exercise-34.png)"
      ]
    },
    {
      "cell_type": "code",
      "metadata": {
        "id": "RimELAtdySbq",
        "colab_type": "code",
        "outputId": "a78e719d-24f1-4208-dd51-c9e26d84517c",
        "colab": {
          "base_uri": "https://localhost:8080/",
          "height": 85
        }
      },
      "source": [
        "def sum(x, y):\n",
        "    sum = x + y\n",
        "    if sum in range(15, 20):\n",
        "        return 20\n",
        "    else:\n",
        "        return sum\n",
        "\n",
        "print(sum(10, 6))\n",
        "print(sum(10, 2))\n",
        "print(sum(10, 12))\n",
        "print(sum(10, 10))"
      ],
      "execution_count": 0,
      "outputs": [
        {
          "output_type": "stream",
          "text": [
            "20\n",
            "12\n",
            "22\n",
            "20\n"
          ],
          "name": "stdout"
        }
      ]
    },
    {
      "cell_type": "markdown",
      "metadata": {
        "id": "vW-q8rnz0Rif",
        "colab_type": "text"
      },
      "source": [
        "**35, Viết chương trình Python sẽ trả về true nếu hai giá trị nguyên đã cho bằng nhau hoặc tổng hoặc hiệu của chúng là 5.**\n",
        "\n",
        "**Write a Python program which will return true if the two given integer values are equal or their sum or difference is 5.**\n",
        "\n",
        "\n",
        "![alt text](https://www.w3resource.com/w3r_images/python-basic-image-exercise-35.png)"
      ]
    },
    {
      "cell_type": "code",
      "metadata": {
        "id": "CGYoeatzzc4n",
        "colab_type": "code",
        "outputId": "cd6c1f56-f06d-4de0-d94e-c73558d1b5b5",
        "colab": {
          "base_uri": "https://localhost:8080/",
          "height": 85
        }
      },
      "source": [
        "def sosanh(x, y):\n",
        "  if x + y == 5:\n",
        "    return True\n",
        "  elif x - y == 5:\n",
        "    return True\n",
        "  elif x == y:\n",
        "    return True\n",
        "  else:\n",
        "    return False\n",
        "\n",
        "print(sosanh(7, 2))\n",
        "print(sosanh(3, 2))\n",
        "print(sosanh(2, 2))\n",
        "print(sosanh(1, 2))\n",
        "# cách 2:  if x == y or abs(x-y) == 5 or (x+y) == 5:   return True"
      ],
      "execution_count": 0,
      "outputs": [
        {
          "output_type": "stream",
          "text": [
            "True\n",
            "True\n",
            "True\n",
            "False\n"
          ],
          "name": "stdout"
        }
      ]
    },
    {
      "cell_type": "code",
      "metadata": {
        "id": "G4Zfbs4Y1Dkv",
        "colab_type": "code",
        "colab": {}
      },
      "source": [
        ""
      ],
      "execution_count": 0,
      "outputs": []
    }
  ]
}