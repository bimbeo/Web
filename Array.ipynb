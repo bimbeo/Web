{
  "nbformat": 4,
  "nbformat_minor": 0,
  "metadata": {
    "colab": {
      "name": "Array.ipynb",
      "provenance": [],
      "authorship_tag": "ABX9TyPUULfavNIgS71BNf94QG5S",
      "include_colab_link": true
    },
    "kernelspec": {
      "name": "python3",
      "display_name": "Python 3"
    }
  },
  "cells": [
    {
      "cell_type": "markdown",
      "metadata": {
        "id": "view-in-github",
        "colab_type": "text"
      },
      "source": [
        "<a href=\"https://colab.research.google.com/github/bimbeo/Web/blob/master/Array.ipynb\" target=\"_parent\"><img src=\"https://colab.research.google.com/assets/colab-badge.svg\" alt=\"Open In Colab\"/></a>"
      ]
    },
    {
      "cell_type": "markdown",
      "metadata": {
        "id": "Su1GrUlanaEh",
        "colab_type": "text"
      },
      "source": [
        "**Python array module defines an object type which can compactly represent an array of basic values: characters, integers, floating point numbers. Arrays are sequence types and behave very much like lists, except that the type of objects stored in them is constrained.**\n",
        "\n",
        "**Mô-đun mảng Python xác định một loại đối tượng có thể biểu diễn ngắn gọn một mảng các giá trị cơ bản: ký tự, số nguyên, số dấu phẩy động. Mảng là các loại trình tự và hoạt động rất giống các danh sách, ngoại trừ loại đối tượng được lưu trữ trong chúng bị ràng buộc.**\n",
        "\n",
        "https://www.w3schools.com/python/python_arrays.asp"
      ]
    },
    {
      "cell_type": "markdown",
      "metadata": {
        "id": "FK2Ecq0unlDH",
        "colab_type": "text"
      },
      "source": [
        "**1, Viết chương trình Python để tạo một mảng gồm 5 số nguyên và hiển thị các mục mảng. Truy cập phần tử riêng lẻ thông qua các chỉ mục.**\n",
        "\n",
        "**Write a Python program to create an array of 5 integers and display the array items. Access individual element through indexes.**\n",
        "\n",
        "![alt text](https://www.w3resource.com/w3r_images/python-array-image-exercise-1.png)"
      ]
    },
    {
      "cell_type": "code",
      "metadata": {
        "id": "UcE8dwXOnSJP",
        "colab_type": "code",
        "colab": {
          "base_uri": "https://localhost:8080/",
          "height": 170
        },
        "outputId": "8ae69505-af4a-4078-b365-ba4f2921e9b9"
      },
      "source": [
        "from array import *\n",
        "array_num = array('i', [1,3,5,7,9])\n",
        "for i in array_num:\n",
        "  print(i)\n",
        "print(\"Access first three items individually\")\n",
        "print(array_num[0])\n",
        "print(array_num[1])\n",
        "print(array_num[2])"
      ],
      "execution_count": 1,
      "outputs": [
        {
          "output_type": "stream",
          "text": [
            "1\n",
            "3\n",
            "5\n",
            "7\n",
            "9\n",
            "Access first three items individually\n",
            "1\n",
            "3\n",
            "5\n"
          ],
          "name": "stdout"
        }
      ]
    },
    {
      "cell_type": "markdown",
      "metadata": {
        "id": "5P519foTo51w",
        "colab_type": "text"
      },
      "source": [
        "**2, Viết chương trình Python để nối một mục mới vào cuối mảng.**\n",
        "\n",
        "**Write a Python program to append a new item to the end of the array.**\n",
        "\n",
        "![alt text](https://www.w3resource.com/w3r_images/python-array-image-exercise-2.png)"
      ]
    },
    {
      "cell_type": "code",
      "metadata": {
        "id": "8mEnrIgdoAyT",
        "colab_type": "code",
        "colab": {
          "base_uri": "https://localhost:8080/",
          "height": 85
        },
        "outputId": "f48bcc49-1d58-4036-f1e5-c393ec26c41f"
      },
      "source": [
        "from array import *\n",
        "array_num = array('i', [1,3,5,7,9])\n",
        "print(\"Original array: \" + str(array_num))\n",
        "print(\"Append 11 at the end of the array: \")\n",
        "array_num.append(11)\n",
        "print(\"New array: \" + str(array_num))\n",
        "print(type(array_num))"
      ],
      "execution_count": 3,
      "outputs": [
        {
          "output_type": "stream",
          "text": [
            "Original array: array('i', [1, 3, 5, 7, 9])\n",
            "Append 11 at the end of the array: \n",
            "New array: array('i', [1, 3, 5, 7, 9, 11])\n",
            "<class 'array.array'>\n"
          ],
          "name": "stdout"
        }
      ]
    },
    {
      "cell_type": "markdown",
      "metadata": {
        "id": "dGYDCny8pY31",
        "colab_type": "text"
      },
      "source": [
        "**3, Viết chương trình Python để đảo ngược thứ tự của các mục trong mảng.**\n",
        "\n",
        "**Write a Python program to reverse the order of the items in the array.**\n",
        "\n",
        "![alt text](https://www.w3resource.com/w3r_images/python-array-image-exercise-3.png)"
      ]
    },
    {
      "cell_type": "code",
      "metadata": {
        "id": "fqo-oqHapPdL",
        "colab_type": "code",
        "colab": {
          "base_uri": "https://localhost:8080/",
          "height": 68
        },
        "outputId": "2bab4033-7eb6-4671-9435-13b6c19e4268"
      },
      "source": [
        "from array import *\n",
        "array_num = array('i', [1,3,5,3,7,1,9,3])\n",
        "print(\"Original array: \" + str(array_num))\n",
        "array_num.reverse()\n",
        "print(\"Reverse the order of the items: \")\n",
        "print(str(array_num))"
      ],
      "execution_count": 5,
      "outputs": [
        {
          "output_type": "stream",
          "text": [
            "Original array: array('i', [1, 3, 5, 3, 7, 1, 9, 3])\n",
            "Reverse the order of the items: \n",
            "array('i', [3, 9, 1, 7, 3, 5, 3, 1])\n"
          ],
          "name": "stdout"
        }
      ]
    },
    {
      "cell_type": "markdown",
      "metadata": {
        "id": "UKxRV_p_p2H6",
        "colab_type": "text"
      },
      "source": [
        "**4, Viết chương trình Python để lấy độ dài tính bằng byte của một mục mảng trong biểu diễn bên trong.**\n",
        "\n",
        "**Write a Python program to get the length in bytes of one array item in the internal representation.**\n",
        "\n"
      ]
    },
    {
      "cell_type": "code",
      "metadata": {
        "id": "iUjR70wmptOY",
        "colab_type": "code",
        "colab": {
          "base_uri": "https://localhost:8080/",
          "height": 51
        },
        "outputId": "cf34c100-e1c7-4088-ec1d-e63533a8d1ee"
      },
      "source": [
        "from array import *\n",
        "array_num = array('i', [1, 3, 5, 7, 9])\n",
        "print(\"Original array: \"+str(array_num))\n",
        "print(\"Length in bytes of one array item: \"+str(array_num.itemsize))"
      ],
      "execution_count": 7,
      "outputs": [
        {
          "output_type": "stream",
          "text": [
            "Original array: array('i', [1, 3, 5, 7, 9])\n",
            "Length in bytes of one array item: 4\n"
          ],
          "name": "stdout"
        }
      ]
    },
    {
      "cell_type": "markdown",
      "metadata": {
        "id": "biqrWSpYqPbn",
        "colab_type": "text"
      },
      "source": [
        "**5, Viết chương trình Python để lấy địa chỉ bộ nhớ hiện tại và độ dài trong các phần tử của bộ đệm được sử dụng để chứa một nội dung mảng và cũng tìm kích thước của bộ nhớ đệm theo byte.**\n",
        "\n",
        "**Write a Python program to get the current memory address and the length in elements of the buffer used to hold an array’s contents and also find the size of the memory buffer in bytes.**"
      ]
    },
    {
      "cell_type": "code",
      "metadata": {
        "id": "hfDDH-xep9xe",
        "colab_type": "code",
        "colab": {
          "base_uri": "https://localhost:8080/",
          "height": 68
        },
        "outputId": "c43da2c6-73e7-495b-d3e1-f1e1310facba"
      },
      "source": [
        "from array import *\n",
        "array_num = array('i', [1, 3, 5, 7, 9])\n",
        "print(\"Original array: \"+str(array_num))\n",
        "print(\"Current memory address and the length in elements of the buffer: \"+str(array_num.buffer_info()))\n",
        "print(\"The size of the memory buffer in bytes: \"+str(array_num.buffer_info()[1] * array_num.itemsize))"
      ],
      "execution_count": 8,
      "outputs": [
        {
          "output_type": "stream",
          "text": [
            "Original array: array('i', [1, 3, 5, 7, 9])\n",
            "Current memory address and the length in elements of the buffer: (140147102298184, 5)\n",
            "The size of the memory buffer in bytes: 20\n"
          ],
          "name": "stdout"
        }
      ]
    },
    {
      "cell_type": "markdown",
      "metadata": {
        "id": "395Cru2GqqdE",
        "colab_type": "text"
      },
      "source": [
        "**6, Viết chương trình Python để lấy số lần xuất hiện của một phần tử đã chỉ định trong một mảng.**\n",
        "\n",
        "**Write a Python program to get the number of occurrences of a specified element in an array.**\n",
        "\n",
        "![alt text](https://www.w3resource.com/w3r_images/python-array-image-exercise-6.png)"
      ]
    },
    {
      "cell_type": "code",
      "metadata": {
        "id": "8xBW6BdTqgue",
        "colab_type": "code",
        "colab": {
          "base_uri": "https://localhost:8080/",
          "height": 51
        },
        "outputId": "0d15af46-19cf-4ebb-c1d7-19615257ab35"
      },
      "source": [
        "from array import *\n",
        "array_num = array('i', [1, 3, 5, 3, 7, 9, 3])\n",
        "print(\"Original array: \"+str(array_num))\n",
        "print(\"Number of occurrences of the number 3 in the said array: \"+str(array_num.count(3)))"
      ],
      "execution_count": 9,
      "outputs": [
        {
          "output_type": "stream",
          "text": [
            "Original array: array('i', [1, 3, 5, 3, 7, 9, 3])\n",
            "Number of occurrences of the number 3 in the said array: 3\n"
          ],
          "name": "stdout"
        }
      ]
    },
    {
      "cell_type": "markdown",
      "metadata": {
        "id": "wX2K3dyeq6NB",
        "colab_type": "text"
      },
      "source": [
        "**7, Viết chương trình Python để nối các mục từ không thể đến cuối mảng.**\n",
        "\n",
        "**Write a Python program to append items from inerrable to the end of the array.**\n",
        "\n",
        "![alt text](https://www.w3resource.com/w3r_images/python-array-image-exercise-7.png)"
      ]
    },
    {
      "cell_type": "code",
      "metadata": {
        "id": "dGsGaZ2kq079",
        "colab_type": "code",
        "colab": {
          "base_uri": "https://localhost:8080/",
          "height": 51
        },
        "outputId": "e1d2af26-2e8b-4053-b26e-d516e0c1c23b"
      },
      "source": [
        "from array import *\n",
        "array_num = array('i', [1, 3, 5, 7, 9])\n",
        "print(\"Original array: \"+str(array_num))\n",
        "array_num.extend(array_num)\n",
        "print(\"Extended array: \" + str(array_num))\n"
      ],
      "execution_count": 10,
      "outputs": [
        {
          "output_type": "stream",
          "text": [
            "Original array: array('i', [1, 3, 5, 7, 9])\n",
            "Extended array: array('i', [1, 3, 5, 7, 9, 1, 3, 5, 7, 9])\n"
          ],
          "name": "stdout"
        }
      ]
    },
    {
      "cell_type": "markdown",
      "metadata": {
        "id": "M0_Nv23xrSbg",
        "colab_type": "text"
      },
      "source": [
        "**8, Viết chương trình Python để chuyển đổi một mảng thành một mảng các giá trị máy và trả về biểu diễn byte.**\n",
        "\n",
        "**Write a Python program to convert an array to an array of machine values and return the bytes representation**.\n",
        "\n"
      ]
    },
    {
      "cell_type": "code",
      "metadata": {
        "id": "Nqhfo2Z7rH7k",
        "colab_type": "code",
        "colab": {
          "base_uri": "https://localhost:8080/",
          "height": 51
        },
        "outputId": "24c0c313-3659-42c7-ed40-79e91639f70c"
      },
      "source": [
        "from array import *\n",
        "print(\"Bytes to String: \")\n",
        "x = array('b', [119, 51, 114, 101,  115, 111, 117, 114, 99, 101])\n",
        "s = x.tobytes()\n",
        "print(s)"
      ],
      "execution_count": 11,
      "outputs": [
        {
          "output_type": "stream",
          "text": [
            "Bytes to String: \n",
            "b'w3resource'\n"
          ],
          "name": "stdout"
        }
      ]
    },
    {
      "cell_type": "markdown",
      "metadata": {
        "id": "S07hBZYqrmRI",
        "colab_type": "text"
      },
      "source": [
        "**9, Viết chương trình Python để nối các mục từ danh sách đã chỉ định.**\n",
        "\n",
        "**Write a Python program to append items from a specified list.**\n",
        "\n",
        "![alt text](https://www.w3resource.com/w3r_images/python-array-image-exercise-9.png)"
      ]
    },
    {
      "cell_type": "code",
      "metadata": {
        "id": "J95UnXtbreij",
        "colab_type": "code",
        "colab": {
          "base_uri": "https://localhost:8080/",
          "height": 68
        },
        "outputId": "a6dcf62b-0989-4c13-be73-518777031756"
      },
      "source": [
        "from array import *\n",
        "num_list = [1, 2, 6, -8]\n",
        "array_num = array('i', [])\n",
        "print(\"Items in the list: \" + str(num_list))\n",
        "print(\"Append items from the list: \")\n",
        "array_num.fromlist(num_list)\n",
        "print(\"Items in the array: \" + str(array_num))"
      ],
      "execution_count": 12,
      "outputs": [
        {
          "output_type": "stream",
          "text": [
            "Items in the list: [1, 2, 6, -8]\n",
            "Append items from the list: \n",
            "Items in the array: array('i', [1, 2, 6, -8])\n"
          ],
          "name": "stdout"
        }
      ]
    },
    {
      "cell_type": "markdown",
      "metadata": {
        "id": "RZSyxK5br41_",
        "colab_type": "text"
      },
      "source": [
        "**10, Viết chương trình Python để chèn một mục mới trước phần tử thứ hai trong một mảng hiện có.**\n",
        "\n",
        "**Write a Python program to insert a new item before the second element in an existing array.**\n",
        "\n",
        "![alt text](https://www.w3resource.com/w3r_images/python-array-image-exercise-10.png)"
      ]
    },
    {
      "cell_type": "code",
      "metadata": {
        "id": "loP4ewpIryn0",
        "colab_type": "code",
        "colab": {
          "base_uri": "https://localhost:8080/",
          "height": 68
        },
        "outputId": "8c2fe509-323d-4830-d61c-b67ce2c4e405"
      },
      "source": [
        "from array import *\n",
        "array_num = array('i', [1, 3, 5, 7, 9])\n",
        "print(\"Original array: \"+str(array_num))\n",
        "print(\"Insert new value 4 before 3:\")\n",
        "array_num.insert(1, 4)\n",
        "print(\"New array: \" + str(array_num))"
      ],
      "execution_count": 13,
      "outputs": [
        {
          "output_type": "stream",
          "text": [
            "Original array: array('i', [1, 3, 5, 7, 9])\n",
            "Insert new value 4 before 3:\n",
            "New array: array('i', [1, 4, 3, 5, 7, 9])\n"
          ],
          "name": "stdout"
        }
      ]
    },
    {
      "cell_type": "markdown",
      "metadata": {
        "id": "jlyH4j5rsKqZ",
        "colab_type": "text"
      },
      "source": [
        "**11, Viết chương trình Python để xóa một mục được chỉ định bằng cách sử dụng chỉ mục từ một mảng.**\n",
        "\n",
        "**Write a Python program to remove a specified item using the index from an array.**\n",
        "\n",
        "![alt text](https://www.w3resource.com/w3r_images/python-array-image-exercise-11.png)"
      ]
    },
    {
      "cell_type": "code",
      "metadata": {
        "id": "0MQTH15dsEG7",
        "colab_type": "code",
        "colab": {
          "base_uri": "https://localhost:8080/",
          "height": 68
        },
        "outputId": "e976ffdb-f389-4747-aa9f-e8833a1d4e11"
      },
      "source": [
        "from array import *\n",
        "array_num = array('i', [1, 3, 5, 7, 9])\n",
        "print(\"Original array: \"+str(array_num))\n",
        "print(\"Remove the third item form the array:\")\n",
        "array_num.pop(2)\n",
        "print(\"New array: \" + str(array_num))"
      ],
      "execution_count": 14,
      "outputs": [
        {
          "output_type": "stream",
          "text": [
            "Original array: array('i', [1, 3, 5, 7, 9])\n",
            "Remove the third item form the array:\n",
            "New array: array('i', [1, 3, 7, 9])\n"
          ],
          "name": "stdout"
        }
      ]
    },
    {
      "cell_type": "markdown",
      "metadata": {
        "id": "_HrkIkoRsXyX",
        "colab_type": "text"
      },
      "source": [
        "**12, Viết chương trình Python để loại bỏ sự xuất hiện đầu tiên của một phần tử được chỉ định khỏi một mảng.**\n",
        "\n",
        "**Write a Python program to remove the first occurrence of a specified element from an array.**\n",
        "\n",
        "![alt text](https://www.w3resource.com/w3r_images/python-array-image-exercise-12.png)"
      ]
    },
    {
      "cell_type": "code",
      "metadata": {
        "id": "JAP55XbxsTzA",
        "colab_type": "code",
        "colab": {
          "base_uri": "https://localhost:8080/",
          "height": 68
        },
        "outputId": "3824fe9c-31ec-4a33-9b0c-df417f5c18a5"
      },
      "source": [
        "from array import *\n",
        "array_num = array('i', [1, 3, 5, 3, 7, 1, 9, 3])\n",
        "print(\"Original array: \"+str(array_num))\n",
        "print(\"Remove the first occurrence of 3 from the said array:\")\n",
        "array_num.remove(3)\n",
        "print(\"New array: \" + str(array_num))"
      ],
      "execution_count": 15,
      "outputs": [
        {
          "output_type": "stream",
          "text": [
            "Original array: array('i', [1, 3, 5, 3, 7, 1, 9, 3])\n",
            "Remove the first occurrence of 3 from the said array:\n",
            "New array: array('i', [1, 5, 3, 7, 1, 9, 3])\n"
          ],
          "name": "stdout"
        }
      ]
    },
    {
      "cell_type": "markdown",
      "metadata": {
        "id": "RFtWlsn_so5n",
        "colab_type": "text"
      },
      "source": [
        "**13, Viết chương trình Python để chuyển đổi một mảng thành một danh sách thông thường với cùng các mục.**\n",
        "\n",
        "**Write a Python program to convert an array to an ordinary list with the same items.**\n",
        "\n",
        "![alt text](https://www.w3resource.com/w3r_images/python-array-image-exercise-13.png)"
      ]
    },
    {
      "cell_type": "code",
      "metadata": {
        "id": "65vrB4j3sjcK",
        "colab_type": "code",
        "colab": {
          "base_uri": "https://localhost:8080/",
          "height": 68
        },
        "outputId": "1e68d713-f064-4a81-a614-ab9c7f8d269f"
      },
      "source": [
        "from array import *\n",
        "array_num = array('i', [1, 3, 5, 3, 7, 1, 9, 3])\n",
        "print(\"Original array: \"+str(array_num))\n",
        "num_list = array_num.tolist()\n",
        "print(\"Convert the said array to an ordinary list with the same items:\")\n",
        "print(num_list)"
      ],
      "execution_count": 17,
      "outputs": [
        {
          "output_type": "stream",
          "text": [
            "Original array: array('i', [1, 3, 5, 3, 7, 1, 9, 3])\n",
            "Convert the said array to an ordinary list with the same items:\n",
            "[1, 3, 5, 3, 7, 1, 9, 3]\n"
          ],
          "name": "stdout"
        }
      ]
    },
    {
      "cell_type": "markdown",
      "metadata": {
        "id": "iEEnwjbHs7ZW",
        "colab_type": "text"
      },
      "source": [
        "**14, Viết chương trình Python để tìm xem một mảng số nguyên đã cho có chứa bất kỳ phần tử trùng lặp nào không. Trả về true nếu bất kỳ giá trị nào xuất hiện ít nhất hai lần trong mảng đã nói và trả về false nếu mọi phần tử là khác biệt.**\n",
        "\n",
        "**Write a Python program to find whether a given array of integers contains any duplicate element. Return true if any value appears at least twice in the said array and return false if every element is distinct.**\n",
        "\n"
      ]
    },
    {
      "cell_type": "code",
      "metadata": {
        "id": "t1f0XEO8sx4C",
        "colab_type": "code",
        "colab": {
          "base_uri": "https://localhost:8080/",
          "height": 68
        },
        "outputId": "2b6d0069-abf5-422f-c3c9-edb8ca37e5b9"
      },
      "source": [
        "def test_duplicate(array_nums):\n",
        "  nums_set = set(array_nums)\n",
        "  return len(array_nums) != len(nums_set)\n",
        "print(test_duplicate([1,2,3,4,5]))\n",
        "print(test_duplicate([1,2,3,4, 4]))\n",
        "print(test_duplicate([1,1,2,2,3,3,4,4,5]))"
      ],
      "execution_count": 18,
      "outputs": [
        {
          "output_type": "stream",
          "text": [
            "False\n",
            "True\n",
            "True\n"
          ],
          "name": "stdout"
        }
      ]
    },
    {
      "cell_type": "markdown",
      "metadata": {
        "id": "D1a8G7d-tMNo",
        "colab_type": "text"
      },
      "source": [
        "**15, Viết chương trình Python để tìm phần tử trùng lặp đầu tiên trong một mảng số nguyên đã cho. Trả về -1 Nếu không có các phần tử như vậy.**\n",
        "\n",
        "**Write a Python program to find the first duplicate element in a given array of integers. Return -1 If there are no such elements.**\n",
        "\n"
      ]
    },
    {
      "cell_type": "code",
      "metadata": {
        "id": "nKZttBcjtGPT",
        "colab_type": "code",
        "colab": {
          "base_uri": "https://localhost:8080/",
          "height": 68
        },
        "outputId": "80175869-db2d-47e2-c7d1-20d2ee9dac94"
      },
      "source": [
        "def find_first_duplicate(nums):\n",
        "    num_set = set()\n",
        "    no_duplicate = -1\n",
        "\n",
        "    for i in range(len(nums)):\n",
        "\n",
        "        if nums[i] in num_set:\n",
        "            return nums[i]\n",
        "        else:\n",
        "            num_set.add(nums[i])\n",
        "\n",
        "    return no_duplicate\n",
        "\n",
        "print(find_first_duplicate([1, 2, 3, 4, 4, 5]))\n",
        "print(find_first_duplicate([1, 2, 3, 4]))\n",
        "print(find_first_duplicate([1, 1, 2, 3, 3, 2, 2]))"
      ],
      "execution_count": 19,
      "outputs": [
        {
          "output_type": "stream",
          "text": [
            "4\n",
            "-1\n",
            "1\n"
          ],
          "name": "stdout"
        }
      ]
    },
    {
      "cell_type": "code",
      "metadata": {
        "id": "ipc8rue3tSCz",
        "colab_type": "code",
        "colab": {}
      },
      "source": [
        ""
      ],
      "execution_count": 0,
      "outputs": []
    }
  ]
}