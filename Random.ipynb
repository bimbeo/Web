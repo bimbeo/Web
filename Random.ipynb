{
  "nbformat": 4,
  "nbformat_minor": 0,
  "metadata": {
    "colab": {
      "name": "Random.ipynb",
      "provenance": [],
      "authorship_tag": "ABX9TyPpLf/f+4c77D//zNxegLRR",
      "include_colab_link": true
    },
    "kernelspec": {
      "name": "python3",
      "display_name": "Python 3"
    }
  },
  "cells": [
    {
      "cell_type": "markdown",
      "metadata": {
        "id": "view-in-github",
        "colab_type": "text"
      },
      "source": [
        "<a href=\"https://colab.research.google.com/github/bimbeo/Web/blob/master/Random.ipynb\" target=\"_parent\"><img src=\"https://colab.research.google.com/assets/colab-badge.svg\" alt=\"Open In Colab\"/></a>"
      ]
    },
    {
      "cell_type": "markdown",
      "metadata": {
        "id": "N6dPw7GOh1z-",
        "colab_type": "text"
      },
      "source": [
        "\n",
        "**1, Viết chương trình NumPy để tạo năm số ngẫu nhiên từ phân phối chuẩn**\n",
        "\n",
        "**Write a NumPy program to generate five random numbers from the normal distribution.**\n",
        "\n",
        "![alt text](https://www.w3resource.com/w3r_images/numpy-random-image-exercise-1.svg)\n",
        "\n",
        "\n"
      ]
    },
    {
      "cell_type": "code",
      "metadata": {
        "id": "t_-3D3Dfff6p",
        "colab_type": "code",
        "colab": {
          "base_uri": "https://localhost:8080/",
          "height": 34
        },
        "outputId": "d2aa1147-dd65-4e62-f091-97fec691eb68"
      },
      "source": [
        "import numpy as np\n",
        "x = np.random.normal(size=5)\n",
        "print(x)"
      ],
      "execution_count": 1,
      "outputs": [
        {
          "output_type": "stream",
          "text": [
            "[0.53693183 0.0363126  0.83444433 0.45995284 0.22505898]\n"
          ],
          "name": "stdout"
        }
      ]
    },
    {
      "cell_type": "markdown",
      "metadata": {
        "id": "BQbHo9tHiLYE",
        "colab_type": "text"
      },
      "source": [
        "**2, Viết chương trình NumPy để tạo sáu số nguyên ngẫu nhiên trong khoảng từ 10 đến 30.**\n",
        "\n",
        "**Write a NumPy program to generate six random integers between 10 and 30.**\n",
        "\n",
        "![alt text](https://www.w3resource.com/w3r_images/numpy-random-image-exercise-2.svg)\n"
      ]
    },
    {
      "cell_type": "code",
      "metadata": {
        "id": "HL8rP-FJiFjR",
        "colab_type": "code",
        "colab": {
          "base_uri": "https://localhost:8080/",
          "height": 34
        },
        "outputId": "ed679358-b5b4-48fd-ca5f-ace1ab008354"
      },
      "source": [
        "x = np.random.randint(low=10, high=30, size=6)\n",
        "print(x)"
      ],
      "execution_count": 3,
      "outputs": [
        {
          "output_type": "stream",
          "text": [
            "[17 21 16 21 10 26]\n"
          ],
          "name": "stdout"
        }
      ]
    },
    {
      "cell_type": "markdown",
      "metadata": {
        "id": "5Nxex25oiXXo",
        "colab_type": "text"
      },
      "source": [
        "**3, Viết chương trình NumPy để tạo mảng 3x3x3 với các giá trị ngẫu nhiên.**\n",
        "\n",
        "**Write a NumPy program to create a 3x3x3 array with random values.**\n",
        "\n",
        "![alt text](https://www.w3resource.com/w3r_images/numpy-random-image-exercise-3.svg)"
      ]
    },
    {
      "cell_type": "code",
      "metadata": {
        "id": "70ixK5TQiS9c",
        "colab_type": "code",
        "colab": {
          "base_uri": "https://localhost:8080/",
          "height": 204
        },
        "outputId": "141e6978-cb43-4006-cbdd-fafbff9f292a"
      },
      "source": [
        "x = np.random.random((3,3,3))\n",
        "print(x)"
      ],
      "execution_count": 4,
      "outputs": [
        {
          "output_type": "stream",
          "text": [
            "[[[0.56653799 0.48777661 0.79389806]\n",
            "  [0.70281665 0.10570826 0.65011136]\n",
            "  [0.21959475 0.39626761 0.44472104]]\n",
            "\n",
            " [[0.8522426  0.98672524 0.10469457]\n",
            "  [0.5994622  0.1338635  0.31541017]\n",
            "  [0.58464647 0.30717534 0.84953033]]\n",
            "\n",
            " [[0.96465001 0.87747559 0.25369999]\n",
            "  [0.75898423 0.94577029 0.47037829]\n",
            "  [0.9440824  0.11187298 0.77394678]]]\n"
          ],
          "name": "stdout"
        }
      ]
    },
    {
      "cell_type": "markdown",
      "metadata": {
        "id": "RHelQl71inxo",
        "colab_type": "text"
      },
      "source": [
        "**4, Viết chương trình NumPy để tạo mảng 5x5 với các giá trị ngẫu nhiên và tìm giá trị tối thiểu và tối đa.**\n",
        "\n",
        "**Write a NumPy program to create a 5x5 array with random values and find the minimum and maximum values.**\n",
        "\n",
        "![alt text](https://www.w3resource.com/w3r_images/numpy-random-image-exercise-4.svg)"
      ]
    },
    {
      "cell_type": "code",
      "metadata": {
        "id": "-Z8S8OM5ikDZ",
        "colab_type": "code",
        "colab": {
          "base_uri": "https://localhost:8080/",
          "height": 153
        },
        "outputId": "c334c1d8-e80f-427a-c497-2d3d92336ac4"
      },
      "source": [
        "x = np.random.random((5,5))\n",
        "print(\"Original Array: \")\n",
        "print(x)\n",
        "xmin, xmax = x.min(), x.max()\n",
        "print(\"Minimum and Maximum values:\")\n",
        "print(xmin, xmax)"
      ],
      "execution_count": 5,
      "outputs": [
        {
          "output_type": "stream",
          "text": [
            "Original Array: \n",
            "[[0.41247534 0.24923478 0.57571421 0.08740884 0.75989577]\n",
            " [0.27835029 0.03125174 0.27136207 0.30269471 0.47619743]\n",
            " [0.41955956 0.13238293 0.4530602  0.12579379 0.8375538 ]\n",
            " [0.11464909 0.497667   0.50780222 0.4363506  0.10879906]\n",
            " [0.67916839 0.45055777 0.05656541 0.25618814 0.99876711]]\n",
            "Minimum and Maximum values:\n",
            "0.03125173506538326 0.9987671096645896\n"
          ],
          "name": "stdout"
        }
      ]
    },
    {
      "cell_type": "markdown",
      "metadata": {
        "id": "4gkyuPuRjACx",
        "colab_type": "text"
      },
      "source": [
        "**5, Viết chương trình NumPy để tạo một mảng 10x4 ngẫu nhiên và trích xuất năm hàng đầu tiên của mảng và lưu trữ chúng thành một biến.**\n",
        "\n",
        "**Write a NumPy program to create a random 10x4 array and extract the first five rows of the array and store them into a variable.**\n",
        "\n",
        "![alt text](https://www.w3resource.com/w3r_images/numpy-random-image-exercise-5.svg)"
      ]
    },
    {
      "cell_type": "code",
      "metadata": {
        "id": "An_-6xPri4hK",
        "colab_type": "code",
        "colab": {
          "base_uri": "https://localhost:8080/",
          "height": 306
        },
        "outputId": "f84615a8-5be6-4651-e36b-51360c061d26"
      },
      "source": [
        "x = np.random.rand(10, 4)\n",
        "print(\"Original array: \")\n",
        "print(x)\n",
        "y = x[:5, :]\n",
        "print(\"First 5 rows of the above array: \")\n",
        "print(y)"
      ],
      "execution_count": 6,
      "outputs": [
        {
          "output_type": "stream",
          "text": [
            "Original array: \n",
            "[[0.02952127 0.3762359  0.6029752  0.4842019 ]\n",
            " [0.51188205 0.6638141  0.59405364 0.88016672]\n",
            " [0.12966657 0.14608739 0.18052942 0.51616037]\n",
            " [0.8005109  0.27677779 0.87720019 0.79776479]\n",
            " [0.85958421 0.10274683 0.24229675 0.57229485]\n",
            " [0.42579989 0.9004281  0.15481657 0.97792081]\n",
            " [0.45935674 0.12289938 0.31012012 0.55694964]\n",
            " [0.27783782 0.69769881 0.60791018 0.02262419]\n",
            " [0.86971218 0.43646298 0.63350805 0.78271213]\n",
            " [0.36878994 0.83488142 0.79386889 0.03248687]]\n",
            "First 5 rows of the above array: \n",
            "[[0.02952127 0.3762359  0.6029752  0.4842019 ]\n",
            " [0.51188205 0.6638141  0.59405364 0.88016672]\n",
            " [0.12966657 0.14608739 0.18052942 0.51616037]\n",
            " [0.8005109  0.27677779 0.87720019 0.79776479]\n",
            " [0.85958421 0.10274683 0.24229675 0.57229485]]\n"
          ],
          "name": "stdout"
        }
      ]
    },
    {
      "cell_type": "markdown",
      "metadata": {
        "id": "wsBM_9gMjWgp",
        "colab_type": "text"
      },
      "source": [
        "**6, Viết chương trình NumPy để xáo trộn các số từ 0 đến 10 (đã bao gồm).**\n",
        "\n",
        "**Write a NumPy program to shuffle numbers between 0 and 10 (inclusive).**\n",
        "\n",
        "![alt text](https://www.w3resource.com/w3r_images/numpy-random-image-exercise-6.svg)"
      ]
    },
    {
      "cell_type": "code",
      "metadata": {
        "id": "ititwRxbjTB6",
        "colab_type": "code",
        "colab": {
          "base_uri": "https://localhost:8080/",
          "height": 68
        },
        "outputId": "a58a2b02-9360-47e6-8200-9926b11ca8dc"
      },
      "source": [
        "x = np.arange(10)\n",
        "np.random.shuffle(x)\n",
        "print(x)\n",
        "print(\"Same result using permutation(): \")\n",
        "print(np.random.permutation(10))"
      ],
      "execution_count": 7,
      "outputs": [
        {
          "output_type": "stream",
          "text": [
            "[6 4 0 7 9 2 8 3 5 1]\n",
            "Same result using permutation(): \n",
            "[1 8 0 7 9 5 3 6 4 2]\n"
          ],
          "name": "stdout"
        }
      ]
    },
    {
      "cell_type": "markdown",
      "metadata": {
        "id": "FF6nNmVejtvY",
        "colab_type": "text"
      },
      "source": [
        "**7, Viết chương trình NumPy để chuẩn hóa ma trận ngẫu nhiên 3x3.**\n",
        "\n",
        "**Write a NumPy program to normalize a 3x3 random matrix.**\n",
        "\n",
        "![alt text](https://www.w3resource.com/w3r_images/numpy-random-image-exercise-7.svg)"
      ]
    },
    {
      "cell_type": "code",
      "metadata": {
        "id": "PGASlxiYjnEr",
        "colab_type": "code",
        "colab": {
          "base_uri": "https://localhost:8080/",
          "height": 153
        },
        "outputId": "0c3e0bb8-a05f-4a14-a704-a1bf7263b488"
      },
      "source": [
        "x = np.random.random((3,3))\n",
        "print(\"Original Array: \")\n",
        "print(x)\n",
        "xmax, xmin = x.max(), x.min()\n",
        "x = (x - xmin) / (xmax - xmin)\n",
        "print(\"After normalization: \")\n",
        "print(x)"
      ],
      "execution_count": 8,
      "outputs": [
        {
          "output_type": "stream",
          "text": [
            "Original Array: \n",
            "[[0.8452348  0.42793897 0.06365813]\n",
            " [0.42926212 0.09842509 0.74934549]\n",
            " [0.27239889 0.37754437 0.43399927]]\n",
            "After normalization: \n",
            "[[1.         0.46608458 0.        ]\n",
            " [0.4677775  0.04448311 0.87731298]\n",
            " [0.26707649 0.40160646 0.47383852]]\n"
          ],
          "name": "stdout"
        }
      ]
    },
    {
      "cell_type": "markdown",
      "metadata": {
        "id": "eSkt7ciIkLpP",
        "colab_type": "text"
      },
      "source": [
        "**8, Viết chương trình NumPy để tạo một vectơ ngẫu nhiên có kích thước 10 và sắp xếp nó.**\n",
        "\n",
        "**Write a NumPy program to create a random vector of size 10 and sort it.**\n",
        "\n",
        "![alt text](https://www.w3resource.com/w3r_images/numpy-random-image-exercise-8.svg)"
      ]
    },
    {
      "cell_type": "code",
      "metadata": {
        "id": "pSEYB8GekFTG",
        "colab_type": "code",
        "colab": {
          "base_uri": "https://localhost:8080/",
          "height": 119
        },
        "outputId": "81cc2da1-474e-4eec-a75f-194a169aa0a7"
      },
      "source": [
        "x = np.random.random(10)\n",
        "print(\"Original array: \")\n",
        "print(x)\n",
        "x.sort()\n",
        "print(\"Sorted array: \")\n",
        "print(x)"
      ],
      "execution_count": 9,
      "outputs": [
        {
          "output_type": "stream",
          "text": [
            "Original array: \n",
            "[0.82557767 0.23783038 0.89269479 0.7163699  0.82936132 0.94097319\n",
            " 0.35347712 0.30761484 0.22923549 0.91576083]\n",
            "Sorted array: \n",
            "[0.22923549 0.23783038 0.30761484 0.35347712 0.7163699  0.82557767\n",
            " 0.82936132 0.89269479 0.91576083 0.94097319]\n"
          ],
          "name": "stdout"
        }
      ]
    },
    {
      "cell_type": "markdown",
      "metadata": {
        "id": "z2W9NdlfkalA",
        "colab_type": "text"
      },
      "source": [
        "**9, Viết chương trình NumPy để tìm giá trị gần nhất từ một giá trị đã cho trong một mảng.**\n",
        "\n",
        "**Write a NumPy program to find the nearest value from a given value in an array.**\n",
        "\n",
        "![alt text](https://www.w3resource.com/w3r_images/numpy-random-image-exercise-9.svg)"
      ]
    },
    {
      "cell_type": "code",
      "metadata": {
        "id": "1iM47QSAkWOL",
        "colab_type": "code",
        "colab": {
          "base_uri": "https://localhost:8080/",
          "height": 34
        },
        "outputId": "f97c7e5b-50c9-414c-9d45-0fa82178813a"
      },
      "source": [
        "x = np.random.uniform(1, 12, 5)\n",
        "v = 4\n",
        "n = x.flat[np.abs(x -v).argmin()]\n",
        "print(n)"
      ],
      "execution_count": 10,
      "outputs": [
        {
          "output_type": "stream",
          "text": [
            "5.019266440528683\n"
          ],
          "name": "stdout"
        }
      ]
    },
    {
      "cell_type": "markdown",
      "metadata": {
        "id": "eWQlstjHku--",
        "colab_type": "text"
      },
      "source": [
        "**10, Viết chương trình NumPy để kiểm tra hai mảng ngẫu nhiên có bằng nhau hay không.**\n",
        "\n",
        "**Write a NumPy program to check two random arrays are equal or not.**\n",
        "\n",
        "![alt text](https://www.w3resource.com/w3r_images/numpy-random-image-exercise-10.svg)"
      ]
    },
    {
      "cell_type": "code",
      "metadata": {
        "id": "mgXngHH9koUS",
        "colab_type": "code",
        "colab": {
          "base_uri": "https://localhost:8080/",
          "height": 119
        },
        "outputId": "f2b45b25-eb86-40bd-ce71-18d9eadccb7a"
      },
      "source": [
        "x = np.random.randint(0,2,6)\n",
        "print(\"First array: \")\n",
        "print(x)\n",
        "y = np.random.randint(0,2,6)\n",
        "print(\"Second array:\")\n",
        "print(y)\n",
        "print(\"Test above two arrays are equal or not!\")\n",
        "array_equal = np.allclose(x, y)\n",
        "print(array_equal)"
      ],
      "execution_count": 11,
      "outputs": [
        {
          "output_type": "stream",
          "text": [
            "First array: \n",
            "[1 0 1 0 0 1]\n",
            "Second array:\n",
            "[0 1 0 1 0 0]\n",
            "Test above two arrays are equal or not!\n",
            "False\n"
          ],
          "name": "stdout"
        }
      ]
    },
    {
      "cell_type": "markdown",
      "metadata": {
        "id": "ff34idqqlMzl",
        "colab_type": "text"
      },
      "source": [
        "**11, Viết chương trình NumPy để tạo vectơ ngẫu nhiên có kích thước 15 và thay thế giá trị tối đa bằng -1.**\n",
        "\n",
        "**Write a NumPy program to create random vector of size 15 and replace the maximum value by -1.**\n",
        "\n",
        "![alt text](https://www.w3resource.com/w3r_images/numpy-random-image-exercise-11.svg)"
      ]
    },
    {
      "cell_type": "code",
      "metadata": {
        "id": "_tXoIR_Tk_pz",
        "colab_type": "code",
        "colab": {
          "base_uri": "https://localhost:8080/",
          "height": 153
        },
        "outputId": "d07d39cd-eade-4d37-a983-585036f80183"
      },
      "source": [
        "x = np.random.random(15)\n",
        "print(\"Original array: \")\n",
        "print(x)\n",
        "x[x.argmax()] = -1\n",
        "print(\"Maximum value replaced by -1: \")\n",
        "print(x)"
      ],
      "execution_count": 12,
      "outputs": [
        {
          "output_type": "stream",
          "text": [
            "Original array: \n",
            "[0.15249927 0.48867702 0.80979466 0.99358075 0.5378422  0.8685611\n",
            " 0.94386177 0.57245027 0.99312908 0.90213788 0.116942   0.52201523\n",
            " 0.40049679 0.2903337  0.97321809]\n",
            "Maximum value replaced by -1: \n",
            "[ 0.15249927  0.48867702  0.80979466 -1.          0.5378422   0.8685611\n",
            "  0.94386177  0.57245027  0.99312908  0.90213788  0.116942    0.52201523\n",
            "  0.40049679  0.2903337   0.97321809]\n"
          ],
          "name": "stdout"
        }
      ]
    },
    {
      "cell_type": "markdown",
      "metadata": {
        "id": "ljt-nTGkluAP",
        "colab_type": "text"
      },
      "source": [
        "**12, Viết chương trình NumPy để tìm điểm theo khoảng cách điểm của một vectơ ngẫu nhiên có hình dạng (10,2) đại diện cho tọa độ.**\n",
        "\n",
        "**Write a NumPy program to find point by point distances of a random vector with shape (10,2) representing coordinates**\n"
      ]
    },
    {
      "cell_type": "code",
      "metadata": {
        "id": "noHsgirTln5X",
        "colab_type": "code",
        "colab": {
          "base_uri": "https://localhost:8080/",
          "height": 357
        },
        "outputId": "686c9aa1-ebe8-43ae-828f-36fe517316e9"
      },
      "source": [
        "a = np.random.random((10, 2))\n",
        "x, y = np.atleast_2d(a[:, 0], a[:, 1])\n",
        "d = np.sqrt( (x-x.T)**2 + (y-y.T)**2)\n",
        "print(d)"
      ],
      "execution_count": 13,
      "outputs": [
        {
          "output_type": "stream",
          "text": [
            "[[0.         0.73049449 0.55949549 0.35887183 0.41491631 0.45218597\n",
            "  0.71212724 0.42041925 0.03693036 0.78942568]\n",
            " [0.73049449 0.         0.80903198 0.48613881 0.52487008 0.29032746\n",
            "  0.43372343 0.61593596 0.73657085 0.52434117]\n",
            " [0.55949549 0.80903198 0.         0.76979373 0.29976511 0.68583545\n",
            "  0.47203125 0.21215458 0.59626346 0.47341651]\n",
            " [0.35887183 0.48613881 0.76979373 0.         0.50139694 0.21238072\n",
            "  0.6827914  0.56703189 0.34332587 0.7827519 ]\n",
            " [0.41491631 0.52487008 0.29976511 0.50139694 0.         0.3885208\n",
            "  0.31142327 0.09192359 0.44490168 0.37738117]\n",
            " [0.45218597 0.29032746 0.68583545 0.21238072 0.3885208  0.\n",
            "  0.49215484 0.47371218 0.45356039 0.59449724]\n",
            " [0.71212724 0.43372343 0.47203125 0.6827914  0.31142327 0.49215484\n",
            "  0.         0.36109279 0.73781198 0.10264091]\n",
            " [0.42041925 0.61593596 0.21215458 0.56703189 0.09192359 0.47371218\n",
            "  0.36109279 0.         0.45426702 0.40752831]\n",
            " [0.03693036 0.73657085 0.59626346 0.34332587 0.44490168 0.45356039\n",
            "  0.73781198 0.45426702 0.         0.81731481]\n",
            " [0.78942568 0.52434117 0.47341651 0.7827519  0.37738117 0.59449724\n",
            "  0.10264091 0.40752831 0.81731481 0.        ]]\n"
          ],
          "name": "stdout"
        }
      ]
    },
    {
      "cell_type": "markdown",
      "metadata": {
        "id": "SIPV8xyymH9H",
        "colab_type": "text"
      },
      "source": [
        "**13, Viết chương trình NumPy để tìm giá trị thường xuyên nhất trong một mảng.**\n",
        "\n",
        "**Write a NumPy program to find the most frequent value in an array.**\n",
        "\n",
        "![alt text](https://www.w3resource.com/w3r_images/numpy-random-image-exercise-13.svg)"
      ]
    },
    {
      "cell_type": "code",
      "metadata": {
        "id": "bYKaXmwrl8TR",
        "colab_type": "code",
        "colab": {
          "base_uri": "https://localhost:8080/",
          "height": 102
        },
        "outputId": "6d5a909f-6aeb-41ef-b3ee-bfa933b02a72"
      },
      "source": [
        "x = np.random.randint(0, 10, 40)\n",
        "print(\"Original array: \")\n",
        "print(x)\n",
        "print(\"Most frequent value in the above array: \")\n",
        "print(np.bincount(x).argmax())"
      ],
      "execution_count": 14,
      "outputs": [
        {
          "output_type": "stream",
          "text": [
            "Original array: \n",
            "[7 7 3 9 5 7 8 7 6 2 5 5 2 4 9 0 1 1 7 3 5 7 7 5 5 7 9 2 2 7 5 2 4 1 8 8 3\n",
            " 1 2 4]\n",
            "Most frequent value in the above array: \n",
            "7\n"
          ],
          "name": "stdout"
        }
      ]
    },
    {
      "cell_type": "markdown",
      "metadata": {
        "id": "Cg-oL3TBmgPa",
        "colab_type": "text"
      },
      "source": [
        "**14, Viết chương trình NumPy để chuyển đổi tọa độ cartesian sang tọa độ cực của ma trận 10x2 ngẫu nhiên đại diện cho tọa độ cartesian.**\n",
        "\n",
        "**Write a NumPy program to convert cartesian coordinates to polar coordinates of a random 10x2 matrix representing cartesian coordinates**\n"
      ]
    },
    {
      "cell_type": "code",
      "metadata": {
        "id": "HMYQn3_vmWjZ",
        "colab_type": "code",
        "colab": {
          "base_uri": "https://localhost:8080/",
          "height": 85
        },
        "outputId": "799c2b0e-a181-4f96-d187-8a55d2038f8f"
      },
      "source": [
        "z = np.random.random((10,2))\n",
        "x,y = z[:, 0], z[:,1]\n",
        "r = np.sqrt(x**2+y**2)\n",
        "t = np.arctan2(y,x)\n",
        "print(r)\n",
        "print(t)"
      ],
      "execution_count": 15,
      "outputs": [
        {
          "output_type": "stream",
          "text": [
            "[0.69973731 0.88444156 1.16610337 0.46940625 0.78749867 0.16073433\n",
            " 0.41202501 1.14300219 0.72316492 0.83321656]\n",
            "[1.3256121  1.13503407 0.82536886 1.16275431 1.28899523 0.04656443\n",
            " 1.20543451 0.8777533  0.11386213 1.16555322]\n"
          ],
          "name": "stdout"
        }
      ]
    },
    {
      "cell_type": "markdown",
      "metadata": {
        "id": "qHL_b91Rm1Ch",
        "colab_type": "text"
      },
      "source": [
        "**15, Viết chương trình NumPy để tìm giá trị gần nhất (với một vô hướng đã cho) trong một mảng.**\n",
        "\n",
        "**Write a NumPy program to find the closest value (to a given scalar) in an array.**\n",
        "\n"
      ]
    },
    {
      "cell_type": "code",
      "metadata": {
        "id": "2r552RCBmxmh",
        "colab_type": "code",
        "colab": {
          "base_uri": "https://localhost:8080/",
          "height": 170
        },
        "outputId": "884d0e2a-956c-4f25-84d3-3fad6cea0b1c"
      },
      "source": [
        "x = np.arange(100)\n",
        "print(\"Original array: \")\n",
        "print(x)\n",
        "a = np.random.uniform(0, 100)\n",
        "print(\"Value to compare: \")\n",
        "print(a)\n",
        "index = (np.abs(x-a)).argmin()\n",
        "print(x[index])"
      ],
      "execution_count": 16,
      "outputs": [
        {
          "output_type": "stream",
          "text": [
            "Original array: \n",
            "[ 0  1  2  3  4  5  6  7  8  9 10 11 12 13 14 15 16 17 18 19 20 21 22 23\n",
            " 24 25 26 27 28 29 30 31 32 33 34 35 36 37 38 39 40 41 42 43 44 45 46 47\n",
            " 48 49 50 51 52 53 54 55 56 57 58 59 60 61 62 63 64 65 66 67 68 69 70 71\n",
            " 72 73 74 75 76 77 78 79 80 81 82 83 84 85 86 87 88 89 90 91 92 93 94 95\n",
            " 96 97 98 99]\n",
            "Value to compare: \n",
            "2.788285753285469\n",
            "3\n"
          ],
          "name": "stdout"
        }
      ]
    },
    {
      "cell_type": "markdown",
      "metadata": {
        "id": "4JOCH6rcnKkp",
        "colab_type": "text"
      },
      "source": [
        "**16. Viết chương trình NumPy để lấy n giá trị lớn nhất của một mảng.**\n",
        "\n",
        "**Write a NumPy program to get the n largest values of an array.**\n",
        "\n",
        "![alt text](https://www.w3resource.com/w3r_images/numpy-random-image-exercise-16.svg)"
      ]
    },
    {
      "cell_type": "code",
      "metadata": {
        "id": "RMywegOrnEeZ",
        "colab_type": "code",
        "colab": {
          "base_uri": "https://localhost:8080/",
          "height": 68
        },
        "outputId": "186b361d-6119-4942-8683-811c77c23a43"
      },
      "source": [
        "x = np.arange(10)\n",
        "print(\"Original array: \")\n",
        "print(x)\n",
        "np.random.shuffle(x)\n",
        "n = 1\n",
        "print(x[np.argsort(x)[-n:]])"
      ],
      "execution_count": 17,
      "outputs": [
        {
          "output_type": "stream",
          "text": [
            "Original array: \n",
            "[0 1 2 3 4 5 6 7 8 9]\n",
            "[9]\n"
          ],
          "name": "stdout"
        }
      ]
    },
    {
      "cell_type": "code",
      "metadata": {
        "id": "DD4XqP8UnVNY",
        "colab_type": "code",
        "colab": {}
      },
      "source": [
        ""
      ],
      "execution_count": 0,
      "outputs": []
    }
  ]
}