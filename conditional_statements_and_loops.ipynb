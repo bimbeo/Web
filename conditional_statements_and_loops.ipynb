{
  "nbformat": 4,
  "nbformat_minor": 0,
  "metadata": {
    "colab": {
      "name": "conditional statements and loops.ipynb",
      "provenance": [],
      "authorship_tag": "ABX9TyOQd3LAacQcPqReOrz9yq4S",
      "include_colab_link": true
    },
    "kernelspec": {
      "name": "python3",
      "display_name": "Python 3"
    }
  },
  "cells": [
    {
      "cell_type": "markdown",
      "metadata": {
        "id": "view-in-github",
        "colab_type": "text"
      },
      "source": [
        "<a href=\"https://colab.research.google.com/github/bimbeo/Web/blob/master/conditional_statements_and_loops.ipynb\" target=\"_parent\"><img src=\"https://colab.research.google.com/assets/colab-badge.svg\" alt=\"Open In Colab\"/></a>"
      ]
    },
    {
      "cell_type": "markdown",
      "metadata": {
        "id": "VeBATai1JQY-",
        "colab_type": "text"
      },
      "source": [
        "**1, Viết chương trình Python để tìm các số đó chia hết cho 7 và bội số của 5, trong khoảng từ 1500 đến 2700 (bao gồm cả hai).**\n",
        "\n",
        "**Write a Python program to find those numbers which are divisible by 7 and multiple of 5, between 1500 and 2700 (both included).**\n",
        "\n",
        "![alt text](https://www.w3resource.com/w3r_images/python-conditional-image-exercise-1.png)"
      ]
    },
    {
      "cell_type": "code",
      "metadata": {
        "id": "g3iSYw4UJB2U",
        "colab_type": "code",
        "outputId": "b281c377-76ae-4255-ee90-488fdfcf0b19",
        "colab": {
          "base_uri": "https://localhost:8080/",
          "height": 54
        }
      },
      "source": [
        "nl = []\n",
        "for x in range(1500, 2701):\n",
        "  if x % 7 == 0 and x % 5 == 0:\n",
        "    nl.append(str(x))\n",
        "print(','.join(nl))"
      ],
      "execution_count": 0,
      "outputs": [
        {
          "output_type": "stream",
          "text": [
            "1505,1540,1575,1610,1645,1680,1715,1750,1785,1820,1855,1890,1925,1960,1995,2030,2065,2100,2135,2170,2205,2240,2275,2310,2345,2380,2415,2450,2485,2520,2555,2590,2625,2660,2695\n"
          ],
          "name": "stdout"
        }
      ]
    },
    {
      "cell_type": "markdown",
      "metadata": {
        "id": "HmEIBirFKKrV",
        "colab_type": "text"
      },
      "source": [
        "**2, Viết chương trình Python để chuyển đổi nhiệt độ đến và từ celsius, fahrenheit.**\n",
        "\n",
        "**Write a Python program to convert temperatures to and from celsius, fahrenheit.**\n",
        "\n",
        "![alt text](https://www.w3resource.com/w3r_images/python-centigrade-to-fahrenheit-conditional-exercise-2.png)"
      ]
    },
    {
      "cell_type": "code",
      "metadata": {
        "id": "18N8IixuJx8T",
        "colab_type": "code",
        "outputId": "61f8a018-5581-4bee-8742-fc052be280f1",
        "colab": {
          "base_uri": "https://localhost:8080/",
          "height": 51
        }
      },
      "source": [
        "temp = input(\"Input the temperature you like to convert? (e.g., 45F, 102C etc.): \")\n",
        "degree = int(temp[:-1])                              # biến degree lấy nhiệt độ, ép kiểu thành int. VD temp = \"104f\" -> degree = 104\n",
        "i_convention = temp[-1]                              # biến i_convention gán nhiệt độ nhập vào. VD: i_convention = \"c\", \"f\" \n",
        "\n",
        "if i_convention.upper() == \"C\":                      # nếu nhiệt độ là độ C\n",
        "  result = int(round((9 * degree) / 5 + 32))         # kết quả bằng công thức tính độ C - > F \n",
        "  o_convention = \"Fahrenheit\"                        # biến o_convention gán = \"Fahrenheit\"\n",
        "elif i_convention.upper() == \"F\":                    # nếu nhiệt độ là độ F\n",
        "  result = int(round((degree - 32) * 5 / 9))         # kêt quả bằng công thức tính độ F -> C\n",
        "  o_convention = \"Celsius\"                           # biến o_convention gán = \"Celsius\"\n",
        "else:\n",
        "  print(\"Input proper convention.\")\n",
        "  quit()\n",
        "print(\"The temperature in\", o_convention, \"is\", result, \"degrees.\")"
      ],
      "execution_count": 0,
      "outputs": [
        {
          "output_type": "stream",
          "text": [
            "Input the temperature you like to convert? (e.g., 45F, 102C etc.): 104f\n",
            "The temperature in Celsius is 40 degrees.\n"
          ],
          "name": "stdout"
        }
      ]
    },
    {
      "cell_type": "markdown",
      "metadata": {
        "id": "8fN4mfVVNFL9",
        "colab_type": "text"
      },
      "source": [
        "**3, Viết chương trình Python để đoán số từ 1 đến 9.**\n",
        "\n",
        "**Write a Python program to guess a number between 1 to 9.**\n",
        "\n"
      ]
    },
    {
      "cell_type": "code",
      "metadata": {
        "id": "_UoF-w--LWV5",
        "colab_type": "code",
        "outputId": "bf79dc22-fd9c-4887-c16d-821f6a3f532e",
        "colab": {
          "base_uri": "https://localhost:8080/",
          "height": 85
        }
      },
      "source": [
        "import random\n",
        "target_num, guess_num = random.randint(1, 10), 0   # tạo biến target_num = random số từ 1 - 10, biến guess_num = 0\n",
        "while target_num != guess_num:                     # Vòng lặp while, điều kiện dừng lại khi target_num = guess_num\n",
        "  guess_num = int(input(\"Guess a number between 1 and 10 until you get it right: \"))   # Nhập số từ bàn phím và gán số nhập được vào guess_num, đến khi số nhập bằng giá trị với số random trong target_num thì dừng vòng lặp\n",
        "print(\"Well guesed\")                               # in ra kết quả"
      ],
      "execution_count": 0,
      "outputs": [
        {
          "output_type": "stream",
          "text": [
            "Guess a number between 1 and 10 until you get it right: 1\n",
            "Guess a number between 1 and 10 until you get it right: 2\n",
            "Guess a number between 1 and 10 until you get it right: 3\n",
            "Well guesed\n"
          ],
          "name": "stdout"
        }
      ]
    },
    {
      "cell_type": "markdown",
      "metadata": {
        "id": "oLaPBEyaPwLL",
        "colab_type": "text"
      },
      "source": [
        "**4, Viết chương trình Python để xây dựng mẫu sau, sử dụng vòng lặp lồng nhau.**\n",
        "\n",
        "**Write a Python program to construct the following pattern, using a nested for loop.**\n",
        "\n",
        "![alt text](https://www.w3resource.com/w3r_images/python-conditional-image-exercise-4.png)"
      ]
    },
    {
      "cell_type": "code",
      "metadata": {
        "id": "n_B9ZWcLNfwr",
        "colab_type": "code",
        "outputId": "916b5d32-d70f-4e3b-9eff-648b8e09e9fe",
        "colab": {
          "base_uri": "https://localhost:8080/",
          "height": 187
        }
      },
      "source": [
        "n = 5\n",
        "for i in range(n):            # duyệt từng phần tử trong đoạn range(n). \n",
        "  for j in range(i):          # duyệt từng phần tử trong đoan range(i)\n",
        "    print('* ', end =\"\")\n",
        "  print('')\n",
        "\n",
        "for i in range(n, 0, -1):     # duyệt từng phần tử trong đoạn range(n, 0, -1) -> range(5, 0, -1) bắt đầu từ 5 đến 1\n",
        "  for j in range(i):\n",
        "    print('* ', end = \"\")\n",
        "  print('')"
      ],
      "execution_count": 0,
      "outputs": [
        {
          "output_type": "stream",
          "text": [
            "\n",
            "* \n",
            "* * \n",
            "* * * \n",
            "* * * * \n",
            "* * * * * \n",
            "* * * * \n",
            "* * * \n",
            "* * \n",
            "* \n"
          ],
          "name": "stdout"
        }
      ]
    },
    {
      "cell_type": "markdown",
      "metadata": {
        "id": "urBEWURSSGR7",
        "colab_type": "text"
      },
      "source": [
        "**5, Viết chương trình Python chấp nhận một từ từ người dùng và đảo ngược nó.**\n",
        "\n",
        "**Write a Python program that accepts a word from the user and reverse it.**\n",
        "\n",
        "![alt text](https://www.w3resource.com/w3r_images/python-conditional-image-exercise-5.png)"
      ]
    },
    {
      "cell_type": "code",
      "metadata": {
        "id": "1Vsi7oqLQOFw",
        "colab_type": "code",
        "outputId": "208f7ca0-5435-4bcf-bf35-5e87fe6ad192",
        "colab": {
          "base_uri": "https://localhost:8080/",
          "height": 68
        }
      },
      "source": [
        "word = input(\"Input a word to reverse: \")\n",
        "                                              # VD: word = \"ecruoser3w\"\n",
        "for char in range(len(word) - 1, -1, -1):     # range(10-1, -1, -1) = range(9, -1, -1) -> char = 9 8 7 6 5 4 3 2 1 0\n",
        "  print(word[char], end=\"\")                   # in ra index word[9] = w, không có khoảng cách. \n",
        "print(\"\\n\")"
      ],
      "execution_count": 0,
      "outputs": [
        {
          "output_type": "stream",
          "text": [
            "Input a word to reverse: ecruoser3w\n",
            "w3resource\n",
            "\n"
          ],
          "name": "stdout"
        }
      ]
    },
    {
      "cell_type": "markdown",
      "metadata": {
        "id": "665-YlxSTWp8",
        "colab_type": "text"
      },
      "source": [
        "**6, Viết chương trình Python để đếm số lượng số chẵn và số lẻ từ một chuỗi số.**\n",
        "\n",
        "**Write a Python program to count the number of even and odd numbers from a series of numbers.**\n",
        "\n",
        "![alt text](https://www.w3resource.com/w3r_images/check-even-number.png)\n",
        "\n",
        "![alt text](https://www.w3resource.com/w3r_images/check-odd-number.png)"
      ]
    },
    {
      "cell_type": "code",
      "metadata": {
        "id": "-EUfXpatSauA",
        "colab_type": "code",
        "outputId": "ec87a924-36b5-44e4-82cc-0bae35cbdb1e",
        "colab": {
          "base_uri": "https://localhost:8080/",
          "height": 51
        }
      },
      "source": [
        "numbers = (1, 2, 3, 4, 5, 6, 7, 8, 9)\n",
        "count_odd = 0\n",
        "count_even = 0\n",
        "for x in numbers:\n",
        "  if not x % 2:\n",
        "    count_even += 1\n",
        "  else:\n",
        "    count_odd +=1 \n",
        "\n",
        "print(\"Number of even numbers :\",count_even)\n",
        "print(\"Number of odd numbers :\",count_odd)"
      ],
      "execution_count": 0,
      "outputs": [
        {
          "output_type": "stream",
          "text": [
            "Number of even numbers : 4\n",
            "Number of odd numbers : 5\n"
          ],
          "name": "stdout"
        }
      ]
    },
    {
      "cell_type": "markdown",
      "metadata": {
        "id": "1jkihnCSUBdd",
        "colab_type": "text"
      },
      "source": [
        "**7, Viết chương trình Python in từng mục và loại tương ứng của nó từ danh sách sau.**\n",
        "\n",
        "**Write a Python program that prints each item and its corresponding type from the following list.**\n",
        "\n"
      ]
    },
    {
      "cell_type": "code",
      "metadata": {
        "id": "72c3GvSiT03K",
        "colab_type": "code",
        "outputId": "60680c28-cb21-4e95-c2de-668f4a1d9b85",
        "colab": {
          "base_uri": "https://localhost:8080/",
          "height": 153
        }
      },
      "source": [
        "data = [1452, 11.23, 1+2j, True, 'bimbeo', (0, -1), [5, 12], {\"Class\": 'V', \"section\": 'A'}]\n",
        "for item in data:\n",
        "  print(\"Type of \", item, \"ís\", type(item))"
      ],
      "execution_count": 0,
      "outputs": [
        {
          "output_type": "stream",
          "text": [
            "Type of  1452 ís <class 'int'>\n",
            "Type of  11.23 ís <class 'float'>\n",
            "Type of  (1+2j) ís <class 'complex'>\n",
            "Type of  True ís <class 'bool'>\n",
            "Type of  bimbeo ís <class 'str'>\n",
            "Type of  (0, -1) ís <class 'tuple'>\n",
            "Type of  [5, 12] ís <class 'list'>\n",
            "Type of  {'Class': 'V', 'section': 'A'} ís <class 'dict'>\n"
          ],
          "name": "stdout"
        }
      ]
    },
    {
      "cell_type": "markdown",
      "metadata": {
        "id": "hxmPHrAKUe_7",
        "colab_type": "text"
      },
      "source": [
        "**8, Viết chương trình Python in tất cả các số từ 0 đến 6 trừ 3 và 6.**\n",
        "\n",
        "**Write a Python program that prints all the numbers from 0 to 6 except 3 and 6.**\n",
        "\n",
        "![alt text](https://www.w3resource.com/w3r_images/python-conditional-image-exercise-8.png)"
      ]
    },
    {
      "cell_type": "code",
      "metadata": {
        "id": "-DDpfxB6UYvc",
        "colab_type": "code",
        "outputId": "5aeda1f8-5ac1-4cd0-f194-e068127aa776",
        "colab": {
          "base_uri": "https://localhost:8080/",
          "height": 51
        }
      },
      "source": [
        "for x in range(6):\n",
        "  if (x == 3 or x == 6):        # điều kiện nếu gặp x = 3 hoặc x = 6, thì vòng lặp for sẽ bỏ qua \n",
        "    continue\n",
        "  print(x, end = ' ')\n",
        "print(\"\\n\")"
      ],
      "execution_count": 0,
      "outputs": [
        {
          "output_type": "stream",
          "text": [
            "0 1 2 4 5 \n",
            "\n"
          ],
          "name": "stdout"
        }
      ]
    },
    {
      "cell_type": "markdown",
      "metadata": {
        "id": "BKzrjLiLVSvE",
        "colab_type": "text"
      },
      "source": [
        "**9, Viết chương trình Python để lấy chuỗi Fibonacci trong khoảng từ 0 đến 50.**\n",
        "\n",
        "**Write a Python program to get the Fibonacci series between 0 to 50.**\n",
        "\n",
        "Note : The Fibonacci Sequence is the series of numbers :\n",
        "0, 1, 1, 2, 3, 5, 8, 13, 21, ....\n",
        "Every next number is found by adding up the two numbers before it.\n",
        "\n",
        "![alt text](https://www.w3resource.com/w3r_images/python-conditional-image-exercise-9.png)"
      ]
    },
    {
      "cell_type": "code",
      "metadata": {
        "id": "N7QF1GVcUw5Y",
        "colab_type": "code",
        "outputId": "37a9bb98-7e94-46a9-824c-856050646f99",
        "colab": {
          "base_uri": "https://localhost:8080/",
          "height": 170
        }
      },
      "source": [
        "x, y = 0, 1\n",
        "while y < 50: \n",
        "  print(y)\n",
        "  x, y = y, x+y"
      ],
      "execution_count": 0,
      "outputs": [
        {
          "output_type": "stream",
          "text": [
            "1\n",
            "1\n",
            "2\n",
            "3\n",
            "5\n",
            "8\n",
            "13\n",
            "21\n",
            "34\n"
          ],
          "name": "stdout"
        }
      ]
    },
    {
      "cell_type": "markdown",
      "metadata": {
        "id": "LG6hqE9OWYNP",
        "colab_type": "text"
      },
      "source": [
        "**10, Viết chương trình Python lặp lại các số nguyên từ 1 đến 50. Cho bội số của ba lần in \"Fizz\" thay vì số và cho bội số của năm lần in \"Buzz\". Đối với các số là bội số của cả ba và năm bản in \"FizzBuzz\".**\n",
        "\n",
        "**Write a Python program which iterates the integers from 1 to 50. For multiples of three print \"Fizz\" instead of the number and for the multiples of five print \"Buzz\". For numbers which are multiples of both three and five print \"FizzBuzz\".**"
      ]
    },
    {
      "cell_type": "code",
      "metadata": {
        "id": "KRi3IRQxVlRA",
        "colab_type": "code",
        "outputId": "82bc7ef2-1161-44fc-cf0a-3a31772eddb9",
        "colab": {
          "base_uri": "https://localhost:8080/",
          "height": 884
        }
      },
      "source": [
        "for fizzbuzz in range(51):\n",
        "  if fizzbuzz %3 == 0 and fizzbuzz %5 == 0:\n",
        "    print(\"fizzbuzz\")\n",
        "    continue\n",
        "  elif fizzbuzz %3 == 0:\n",
        "    print(\"Fizz\")\n",
        "    continue\n",
        "  elif fizzbuzz %5 == 0:\n",
        "    print(\"Buzz\")\n",
        "    continue\n",
        "  print(fizzbuzz)"
      ],
      "execution_count": 0,
      "outputs": [
        {
          "output_type": "stream",
          "text": [
            "fizzbuzz\n",
            "1\n",
            "2\n",
            "Fizz\n",
            "4\n",
            "Buzz\n",
            "Fizz\n",
            "7\n",
            "8\n",
            "Fizz\n",
            "Buzz\n",
            "11\n",
            "Fizz\n",
            "13\n",
            "14\n",
            "fizzbuzz\n",
            "16\n",
            "17\n",
            "Fizz\n",
            "19\n",
            "Buzz\n",
            "Fizz\n",
            "22\n",
            "23\n",
            "Fizz\n",
            "Buzz\n",
            "26\n",
            "Fizz\n",
            "28\n",
            "29\n",
            "fizzbuzz\n",
            "31\n",
            "32\n",
            "Fizz\n",
            "34\n",
            "Buzz\n",
            "Fizz\n",
            "37\n",
            "38\n",
            "Fizz\n",
            "Buzz\n",
            "41\n",
            "Fizz\n",
            "43\n",
            "44\n",
            "fizzbuzz\n",
            "46\n",
            "47\n",
            "Fizz\n",
            "49\n",
            "Buzz\n"
          ],
          "name": "stdout"
        }
      ]
    },
    {
      "cell_type": "markdown",
      "metadata": {
        "id": "7KpBbN_sXEDo",
        "colab_type": "text"
      },
      "source": [
        "**11, Viết chương trình Python lấy hai chữ số m (hàng) và n (cột) làm đầu vào và tạo một mảng hai chiều. Giá trị phần tử trong hàng thứ i và cột thứ j của mảng phải là i * j**\n",
        "\n",
        ". **Write a Python program which takes two digits m (row) and n (column) as input and generates a two-dimensional array. The element value in the i-th row and j-th column of the array should be i*j**\n",
        "\n",
        "![alt text](https://www.w3resource.com/w3r_images/python-conditional-image-exercise-11.png)\n",
        "\n"
      ]
    },
    {
      "cell_type": "code",
      "metadata": {
        "id": "ysQ6gqV8WvL5",
        "colab_type": "code",
        "outputId": "8fb2eb77-1e76-4694-f3ce-3049b3df5685",
        "colab": {
          "base_uri": "https://localhost:8080/",
          "height": 68
        }
      },
      "source": [
        "row_num = int(input(\"Input number of rows: \"))\n",
        "col_num = int(input(\"Input number of columns: \"))\n",
        "multi_list = [[0 for col in range(col_num)] for row in range(row_num)] # VD: row_num = 3, col_num = 4\n",
        "# multi_list = [[0,0,0,0], [0,0,0,0], [0,0,0,0]], tạo ra ma trận 0 3x4\n",
        "for row in range(row_num):\n",
        "  for col in range(col_num):\n",
        "    multi_list[row][col] = row*col\n",
        "\n",
        "print(multi_list)"
      ],
      "execution_count": 0,
      "outputs": [
        {
          "output_type": "stream",
          "text": [
            "Input number of rows: 3 \n",
            "Input number of columns: 4\n",
            "[[0, 0, 0, 0], [0, 1, 2, 3], [0, 2, 4, 6]]\n"
          ],
          "name": "stdout"
        }
      ]
    },
    {
      "cell_type": "markdown",
      "metadata": {
        "id": "UUJOu8fzY4BQ",
        "colab_type": "text"
      },
      "source": [
        "**12, Viết chương trình Python chấp nhận một chuỗi các dòng (dòng trống để kết thúc) làm đầu vào và in các dòng dưới dạng đầu ra (tất cả các ký tự trong chữ thường).**\n",
        "\n",
        "**Write a Python program that accepts a sequence of lines (blank line to terminate) as input and prints the lines as output (all characters in lower case).**\n",
        "\n",
        "![alt text](https://www.w3resource.com/w3r_images/python-conditional-image-exercise-12.png)"
      ]
    },
    {
      "cell_type": "code",
      "metadata": {
        "id": "L2nfcm5MXlRr",
        "colab_type": "code",
        "outputId": "52e80fa5-7bfc-4f30-917f-98ed09c8dfba",
        "colab": {
          "base_uri": "https://localhost:8080/",
          "height": 102
        }
      },
      "source": [
        "lines = []\n",
        "while True:                    #  (dòng trống để kết thúc), vòng while dừng lại khi không có từ được nhập vào\n",
        "  l = input()\n",
        "  if l:\n",
        "    lines.append(l.upper())\n",
        "  else: \n",
        "    break \n",
        "\n",
        "for l in lines:\n",
        "  print(l)"
      ],
      "execution_count": 0,
      "outputs": [
        {
          "output_type": "stream",
          "text": [
            "Python\n",
            "bimbeo\n",
            "\n",
            "PYTHON\n",
            "BIMBEO\n"
          ],
          "name": "stdout"
        }
      ]
    },
    {
      "cell_type": "markdown",
      "metadata": {
        "id": "qrmw3xg5Z4tN",
        "colab_type": "text"
      },
      "source": [
        "**13, Viết chương trình Python chấp nhận một chuỗi các số nhị phân 4 chữ số được phân tách bằng dấu phẩy làm đầu vào của nó và in các số chia hết cho 5 trong một chuỗi được phân tách bằng dấu phẩy.**\n",
        "\n",
        "**Write a Python program which accepts a sequence of comma separated 4 digit binary numbers as its input and print the numbers that are divisible by 5 in a comma separated sequence**\n",
        "\n",
        "![alt text](https://www.w3resource.com/w3r_images/python-conditional-image-exercise-13.png)"
      ]
    },
    {
      "cell_type": "code",
      "metadata": {
        "id": "R6mBp3CKZJHJ",
        "colab_type": "code",
        "outputId": "e7e80465-ca76-4919-e26c-7d3f7fc3fdbb",
        "colab": {
          "base_uri": "https://localhost:8080/",
          "height": 51
        }
      },
      "source": [
        "items = []\n",
        "num = [x for x in input().split(',')]     # tạo list num bằng số được nhập vào, mỗi số phân tách = dấu phẩy. VD: num =[\"0001\", \"0010\", \"0011\", \"0100\", \"0101\", \"0110\", \"0111\"]\n",
        "for p in num:                             # duyệt giá trị từng phần tử trong num\n",
        "  x = int(p, 2)                           # Nhị phân: x = int(p, 2) -> x = (0001, 2) = 1 -> x = (0010, 2) = 2 -> x = (0011, 2) = 3 -> x = (0100, 2) = 4 -> (0101, 2) = 5 -> (0110, 2) = 6 -> (0111, 2) = 7\n",
        "  if not x % 5:\n",
        "    items.append(p)\n",
        "print(','.join(items))"
      ],
      "execution_count": 0,
      "outputs": [
        {
          "output_type": "stream",
          "text": [
            "0001,0010,0011,0100,0101,0110,0111  \n",
            "0101\n"
          ],
          "name": "stdout"
        }
      ]
    },
    {
      "cell_type": "markdown",
      "metadata": {
        "id": "tGdu9n2KbwcI",
        "colab_type": "text"
      },
      "source": [
        "**14, Viết chương trình Python chấp nhận một chuỗi và tính toán số chữ số và chữ cái.**\n",
        "\n",
        "**Write a Python program that accepts a string and calculate the number of digits and letters.**\n",
        "\n",
        "![alt text](https://www.w3resource.com/w3r_images/python-conditional-image-exercise-14.png)"
      ]
    },
    {
      "cell_type": "code",
      "metadata": {
        "id": "tEnApwygaRR-",
        "colab_type": "code",
        "outputId": "9225affe-6908-47c7-96ef-902d5616f2dc",
        "colab": {
          "base_uri": "https://localhost:8080/",
          "height": 68
        }
      },
      "source": [
        "s = input(\"Input a string: \")\n",
        "d = l = 0\n",
        "for c in s:\n",
        "  if c.isdigit():\n",
        "    d = d +1\n",
        "  elif c.isalpha():\n",
        "    l += 1\n",
        "  else:\n",
        "    pass \n",
        "print(\"Letters: \", l)\n",
        "print(\"Digits: \", d)"
      ],
      "execution_count": 0,
      "outputs": [
        {
          "output_type": "stream",
          "text": [
            "Input a string: bimbeo1djtmemai1\n",
            "Letters:  14\n",
            "Digits:  2\n"
          ],
          "name": "stdout"
        }
      ]
    },
    {
      "cell_type": "markdown",
      "metadata": {
        "id": "7nNSTWxMcTzW",
        "colab_type": "text"
      },
      "source": [
        "**15, Viết chương trình Python để kiểm tra tính hợp lệ của mật khẩu (đầu vào từ người dùng).**\n",
        "\n",
        "**Write a Python program to check the validity of a password (input from users).**\n",
        "\n",
        "**Validation** :\n",
        "\n",
        "At least 1 letter between [a-z] and 1 letter between [A-Z].\n",
        "\n",
        "At least 1 number between [0-9].\n",
        "\n",
        "At least 1 character from [$#@].\n",
        "\n",
        "Minimum length 6 characters.\n",
        "\n",
        "Maximum length 16 characters."
      ]
    },
    {
      "cell_type": "code",
      "metadata": {
        "id": "VB6gs_licEP8",
        "colab_type": "code",
        "outputId": "811ded93-dcac-4ecc-c2ea-3b48ede33326",
        "colab": {
          "base_uri": "https://localhost:8080/",
          "height": 51
        }
      },
      "source": [
        "import re\n",
        "p = input(\"Input your password: \")\n",
        "x = True \n",
        "while x:\n",
        "  if (len(p) < 6 or len(p) > 16):     # Điều kiên nếu độ dài nhỏ hơn 6 và lớn hơn 16\n",
        "    break\n",
        "  elif not re.search(\"[a-z]\", p):     # nếu không có chữ thường nào nằm trong a - z\n",
        "    break\n",
        "  elif not re.search(\"[0-9]\", p):     # nếu không có số nào nằm trong 0 - 9\n",
        "    break\n",
        "  elif not re.search(\"[A-Z]\", p):     # nếu không có chữ hoa nào nằm trong A - Z\n",
        "    break\n",
        "  elif not re.search(\"[$#@]\", p):     # Nếu không có ký tự đặc biệt nào $#@\n",
        "    break\n",
        "  else:\n",
        "    print(\"Valid Password\")           # Thỏa mãn các điều kiện trên thì in ra \"Valid Password\"\n",
        "    x = False                         # gán x = False, kết thúc vòng lặp\n",
        "    break\n",
        "\n",
        "if x:                                 # Nếu x = True, tức không đủ điều kiện bị break. Nếu x = False, đủ điều kiện thì bỏ qua\n",
        "  print(\"Not a Valid Password\")       # In ra \"Not a Valid Password\""
      ],
      "execution_count": 0,
      "outputs": [
        {
          "output_type": "stream",
          "text": [
            "Input your password: djtmemai1\n",
            "Not a Valid Password\n"
          ],
          "name": "stdout"
        }
      ]
    },
    {
      "cell_type": "markdown",
      "metadata": {
        "id": "v_Hua5WnevD0",
        "colab_type": "text"
      },
      "source": [
        "**16, Viết chương trình Python để tìm các số từ 100 đến 400 (bao gồm cả hai) trong đó mỗi chữ số của một số là một số chẵn. Các số thu được phải được in theo trình tự phân tách bằng dấu phẩy.**\n",
        "\n",
        "**Write a Python program to find numbers between 100 and 400 (both included) where each digit of a number is an even number. The numbers obtained should be printed in a comma-separated sequence.**\n",
        "\n",
        "![alt text](https://www.w3resource.com/w3r_images/python-conditional-image-exercise-16.png)"
      ]
    },
    {
      "cell_type": "code",
      "metadata": {
        "id": "6FV_-p9idNYV",
        "colab_type": "code",
        "outputId": "18150df4-b83a-4930-8838-c89586badab9",
        "colab": {
          "base_uri": "https://localhost:8080/",
          "height": 34
        }
      },
      "source": [
        "items = []\n",
        "for i in range(100, 401):\n",
        "  s = str(i)                                                                # tạo biến s, ép kiểu số trong đoạn range thành str\n",
        "  if (int(s[0]) %2 == 0) and (int(s[1]) %2 == 0) and (int(s[2]) % 2 ==0):   # điều kiện nếu index từng ký tự chia hết cho 2, VD: 200 thì 2 % 2, 0 % 2, 0 % 2\n",
        "    items.append(s)                                                         # thêm s thỏa mãn kết quả vào list \n",
        "print(\",\".join(items))"
      ],
      "execution_count": 0,
      "outputs": [
        {
          "output_type": "stream",
          "text": [
            "200,202,204,206,208,220,222,224,226,228,240,242,244,246,248,260,262,264,266,268,280,282,284,286,288,400\n"
          ],
          "name": "stdout"
        }
      ]
    },
    {
      "cell_type": "markdown",
      "metadata": {
        "id": "8gGtDv4GgB9Y",
        "colab_type": "text"
      },
      "source": [
        "**17, Viết chương trình Python để in mẫu bảng chữ cái 'A'.**\n",
        "\n",
        "**Write a Python program to print alphabet pattern 'A'.**\n",
        "\n",
        "![alt text](https://www.w3resource.com/w3r_images/python-conditional-image-exercise-17.png)"
      ]
    },
    {
      "cell_type": "code",
      "metadata": {
        "id": "wRr-KLyDfJ6V",
        "colab_type": "code",
        "outputId": "d38434ca-07b7-4aa5-d1a6-4fd043abe3ae",
        "colab": {
          "base_uri": "https://localhost:8080/",
          "height": 153
        }
      },
      "source": [
        "result_str = \"\"\n",
        "for row in range(0, 7):        # vòng lặp duyệt từng phần tử trong đoạn 0,7. Ở đây là hàng, lặp để in 7 hàng\n",
        "  for column in range(0, 7):   # vòng lặp để in 7 cột\n",
        "    if (((column == 1 or column == 5) and row != 0 or ((row == 0 or row == 3) and (column > 1 and column < 5)))): # Điều kiện: 1_ (column = 1 hoặc column = 5) và row khác 0) hoặc ()\n",
        "      result_str = result_str + \"*\"\n",
        "    else:\n",
        "      result_str = result_str +\" \"\n",
        "  result_str = result_str + \"\\n\"\n",
        "print(result_str)"
      ],
      "execution_count": 0,
      "outputs": [
        {
          "output_type": "stream",
          "text": [
            "  ***  \n",
            " *   * \n",
            " *   * \n",
            " ***** \n",
            " *   * \n",
            " *   * \n",
            " *   * \n",
            "\n"
          ],
          "name": "stdout"
        }
      ]
    },
    {
      "cell_type": "markdown",
      "metadata": {
        "id": "Ujbs_hw8iRpo",
        "colab_type": "text"
      },
      "source": [
        "**18, Viết chương trình Python để in mẫu bảng chữ cái 'D'.**\n",
        "\n",
        " **Write a Python program to print alphabet pattern 'D'.**\n",
        "\n",
        " ![alt text](https://www.w3resource.com/w3r_images/python-conditional-image-exercise-18.png)"
      ]
    },
    {
      "cell_type": "code",
      "metadata": {
        "id": "TVnaZyBvgqPY",
        "colab_type": "code",
        "outputId": "873af995-9d3e-43a5-b17b-07fd2897ab45",
        "colab": {
          "base_uri": "https://localhost:8080/",
          "height": 153
        }
      },
      "source": [
        "result_str=\"\";    \n",
        "for row in range(0,7):    \n",
        "    for column in range(0,7):     \n",
        "        if (column == 1 or ((row == 0 or row == 6) and (column > 1 and column < 5)) or (column == 5 and row != 0 and row != 6)):  \n",
        "            result_str=result_str+\"*\"    \n",
        "        else:      \n",
        "            result_str=result_str+\" \"    \n",
        "    result_str=result_str+\"\\n\"    \n",
        "print(result_str);"
      ],
      "execution_count": 0,
      "outputs": [
        {
          "output_type": "stream",
          "text": [
            " ****  \n",
            " *   * \n",
            " *   * \n",
            " *   * \n",
            " *   * \n",
            " *   * \n",
            " ****  \n",
            "\n"
          ],
          "name": "stdout"
        }
      ]
    },
    {
      "cell_type": "markdown",
      "metadata": {
        "id": "ujvPOs_MjEeO",
        "colab_type": "text"
      },
      "source": [
        "**19, Viết chương trình Python để in mẫu bảng chữ cái 'E'.**\n",
        "\n",
        "**Write a Python program to print alphabet pattern 'E'.**\n",
        "\n",
        "![alt text](https://www.w3resource.com/w3r_images/python-conditional-image-exercise-19.png)\n",
        "\n"
      ]
    },
    {
      "cell_type": "code",
      "metadata": {
        "id": "xncyDj34jCSu",
        "colab_type": "code",
        "outputId": "4f2316bc-ddbe-4140-8648-47602ab3145b",
        "colab": {
          "base_uri": "https://localhost:8080/",
          "height": 153
        }
      },
      "source": [
        "result_str=\"\";    \n",
        "for row in range(0,7):    \n",
        "    for column in range(0,7):     \n",
        "        if (column == 1 or ((row == 0 or row == 6) and (column > 1 and column < 6)) or (row == 3 and column > 1 and column < 5)):  \n",
        "            result_str=result_str+\"*\"    \n",
        "        else:      \n",
        "            result_str=result_str+\" \"    \n",
        "    result_str=result_str+\"\\n\"    \n",
        "print(result_str);"
      ],
      "execution_count": 0,
      "outputs": [
        {
          "output_type": "stream",
          "text": [
            " ***** \n",
            " *     \n",
            " *     \n",
            " ****  \n",
            " *     \n",
            " *     \n",
            " ***** \n",
            "\n"
          ],
          "name": "stdout"
        }
      ]
    },
    {
      "cell_type": "markdown",
      "metadata": {
        "id": "A8wiDs09jQC_",
        "colab_type": "text"
      },
      "source": [
        "**20, Viết chương trình Python để in mẫu bảng chữ cái 'G'.**\n",
        "\n",
        "**Write a Python program to print alphabet pattern 'G'.**\n",
        "\n",
        "![alt text](https://www.w3resource.com/w3r_images/python-conditional-image-exercise-20.png)"
      ]
    },
    {
      "cell_type": "code",
      "metadata": {
        "id": "N5iLe_9WjNRl",
        "colab_type": "code",
        "outputId": "105a4b1c-41a4-4107-8977-2cbef23cc726",
        "colab": {
          "base_uri": "https://localhost:8080/",
          "height": 153
        }
      },
      "source": [
        "result_str=\"\";    \n",
        "for row in range(0,7):    \n",
        "    for column in range(0,7):     \n",
        "        if ((column == 1 and row != 0 and row != 6) or ((row == 0 or row == 6) and column > 1 and column < 5) or (row == 3 and column > 2 and column < 6) or (column == 5 and row != 0 and row != 2 and row != 6)):  \n",
        "            result_str=result_str+\"*\"    \n",
        "        else:      \n",
        "            result_str=result_str+\" \"    \n",
        "    result_str=result_str+\"\\n\"    \n",
        "print(result_str);"
      ],
      "execution_count": 0,
      "outputs": [
        {
          "output_type": "stream",
          "text": [
            "  ***  \n",
            " *   * \n",
            " *     \n",
            " * *** \n",
            " *   * \n",
            " *   * \n",
            "  ***  \n",
            "\n"
          ],
          "name": "stdout"
        }
      ]
    },
    {
      "cell_type": "markdown",
      "metadata": {
        "id": "GMdoffqhjbBM",
        "colab_type": "text"
      },
      "source": [
        "**21, Viết chương trình Python để in mẫu bảng chữ cái 'L'.**\n",
        "\n",
        "**Write a Python program to print alphabet pattern 'L'.**\n",
        "\n",
        "![alt text](https://www.w3resource.com/w3r_images/python-conditional-image-exercise-21.png)"
      ]
    },
    {
      "cell_type": "code",
      "metadata": {
        "id": "UZZ42BmyjX0h",
        "colab_type": "code",
        "outputId": "a2163985-cc2e-46c6-ec23-b5b7d9cae7fb",
        "colab": {
          "base_uri": "https://localhost:8080/",
          "height": 153
        }
      },
      "source": [
        "result_str=\"\";    \n",
        "for row in range(0,7):    \n",
        "    for column in range(0,7):     \n",
        "        if (column == 1 or (row == 6 and column != 0 and column < 6)):  \n",
        "            result_str=result_str+\"*\"    \n",
        "        else:      \n",
        "            result_str=result_str+\" \"    \n",
        "    result_str=result_str+\"\\n\"    \n",
        "print(result_str);"
      ],
      "execution_count": 0,
      "outputs": [
        {
          "output_type": "stream",
          "text": [
            " *     \n",
            " *     \n",
            " *     \n",
            " *     \n",
            " *     \n",
            " *     \n",
            " ***** \n",
            "\n"
          ],
          "name": "stdout"
        }
      ]
    },
    {
      "cell_type": "markdown",
      "metadata": {
        "id": "sFJXjZG_jm9t",
        "colab_type": "text"
      },
      "source": [
        "**22, Viết chương trình Python để in mẫu bảng chữ cái 'M'.**\n",
        "\n",
        "**Write a Python program to print alphabet pattern 'M'.**\n",
        "\n",
        "![alt text](https://www.w3resource.com/w3r_images/python-conditional-image-exercise-22.png)"
      ]
    },
    {
      "cell_type": "code",
      "metadata": {
        "id": "2-Sd-L8kjkjT",
        "colab_type": "code",
        "outputId": "77f0ce7b-0069-4687-fde1-8af75c7d8d12",
        "colab": {
          "base_uri": "https://localhost:8080/",
          "height": 153
        }
      },
      "source": [
        "result_str=\"\";    \n",
        "for row in range(0,7):    \n",
        "    for column in range(0,7):     \n",
        "        if (column == 1 or column == 5 or (row == 2 and (column == 2 or column == 4)) or (row == 3 and column == 3)):  \n",
        "            result_str=result_str+\"* \"    \n",
        "        else:      \n",
        "            result_str=result_str+\"  \"    \n",
        "    result_str=result_str+\"\\n\"    \n",
        "print(result_str);"
      ],
      "execution_count": 0,
      "outputs": [
        {
          "output_type": "stream",
          "text": [
            "  *       *   \n",
            "  *       *   \n",
            "  * *   * *   \n",
            "  *   *   *   \n",
            "  *       *   \n",
            "  *       *   \n",
            "  *       *   \n",
            "\n"
          ],
          "name": "stdout"
        }
      ]
    },
    {
      "cell_type": "markdown",
      "metadata": {
        "id": "y1J1qXMbjvxH",
        "colab_type": "text"
      },
      "source": [
        "**23, Viết chương trình Python để in mẫu bảng chữ cái 'O'.**\n",
        "\n",
        "**Write a Python program to print alphabet pattern 'O'.**\n",
        "\n",
        "![alt text](https://www.w3resource.com/w3r_images/python-conditional-image-exercise-23.png)"
      ]
    },
    {
      "cell_type": "code",
      "metadata": {
        "id": "PxpIAEwmjtig",
        "colab_type": "code",
        "outputId": "dab4a88c-f365-4565-c838-b32187627653",
        "colab": {
          "base_uri": "https://localhost:8080/",
          "height": 153
        }
      },
      "source": [
        "result_str=\"\";    \n",
        "for row in range(0,7):    \n",
        "    for column in range(0,7):     \n",
        "        if (((column == 1 or column == 5) and row != 0 and row != 6) or ((row == 0 or row == 6) and column > 1 and column < 5)):  \n",
        "            result_str=result_str+\"*\"    \n",
        "        else:      \n",
        "            result_str=result_str+\" \"    \n",
        "    result_str=result_str+\"\\n\"    \n",
        "print(result_str);"
      ],
      "execution_count": 0,
      "outputs": [
        {
          "output_type": "stream",
          "text": [
            "  ***  \n",
            " *   * \n",
            " *   * \n",
            " *   * \n",
            " *   * \n",
            " *   * \n",
            "  ***  \n",
            "\n"
          ],
          "name": "stdout"
        }
      ]
    },
    {
      "cell_type": "markdown",
      "metadata": {
        "id": "7fN5ZAmaj6s9",
        "colab_type": "text"
      },
      "source": [
        "**24, Viết chương trình Python để in mẫu bảng chữ cái 'P'.**\n",
        "\n",
        "**Write a Python program to print alphabet pattern 'P'.**\n",
        "\n",
        "![alt text](https://www.w3resource.com/w3r_images/python-conditional-image-exercise-24.png)\n"
      ]
    },
    {
      "cell_type": "code",
      "metadata": {
        "id": "ibZtdziGj4To",
        "colab_type": "code",
        "outputId": "d601f7c0-9a0c-445b-d774-96824538ed7d",
        "colab": {
          "base_uri": "https://localhost:8080/",
          "height": 153
        }
      },
      "source": [
        "result_str=\"\";    \n",
        "for row in range(0,7):    \n",
        "    for column in range(0,7):     \n",
        "        if (column == 1 or ((row == 0 or row == 3) and column > 0 and column < 5) or ((column == 5 or column == 1) and (row == 1 or row == 2))):  \n",
        "            result_str=result_str+\"*\"    \n",
        "        else:      \n",
        "            result_str=result_str+\" \"    \n",
        "    result_str=result_str+\"\\n\"    \n",
        "print(result_str)"
      ],
      "execution_count": 0,
      "outputs": [
        {
          "output_type": "stream",
          "text": [
            " ****  \n",
            " *   * \n",
            " *   * \n",
            " ****  \n",
            " *     \n",
            " *     \n",
            " *     \n",
            "\n"
          ],
          "name": "stdout"
        }
      ]
    },
    {
      "cell_type": "markdown",
      "metadata": {
        "id": "6i-kPQ_fkGoM",
        "colab_type": "text"
      },
      "source": [
        "**25, Viết chương trình Python để in mẫu bảng chữ cái 'R'.**\n",
        "\n",
        "**Write a Python program to print alphabet pattern 'R'.**\n",
        "\n",
        "![alt text](https://www.w3resource.com/w3r_images/python-conditional-image-exercise-25.png)\n"
      ]
    },
    {
      "cell_type": "code",
      "metadata": {
        "id": "imLn_M9EkEhQ",
        "colab_type": "code",
        "outputId": "d87fa9d7-66bb-45c8-ee63-a4ddcc90fcef",
        "colab": {
          "base_uri": "https://localhost:8080/",
          "height": 153
        }
      },
      "source": [
        "result_str=\"\";    \n",
        "for row in range(0,7):    \n",
        "    for column in range(0,7):     \n",
        "        if (column == 1 or ((row == 0 or row == 3) and column > 1 and column < 5) or (column == 5 and row != 0 and row < 3) or (column == row - 1 and row > 2)):  \n",
        "            result_str=result_str+\"*\"    \n",
        "        else:      \n",
        "            result_str=result_str+\" \"    \n",
        "    result_str=result_str+\"\\n\"    \n",
        "print(result_str);"
      ],
      "execution_count": 0,
      "outputs": [
        {
          "output_type": "stream",
          "text": [
            " ****  \n",
            " *   * \n",
            " *   * \n",
            " ****  \n",
            " * *   \n",
            " *  *  \n",
            " *   * \n",
            "\n"
          ],
          "name": "stdout"
        }
      ]
    },
    {
      "cell_type": "markdown",
      "metadata": {
        "id": "Cv8rZDpMkOUO",
        "colab_type": "text"
      },
      "source": [
        "**26, Viết chương trình Python để in mẫu bảng chữ cái 'S'.**\n",
        "\n",
        "**Write a Python program to print the following pattern 'S'.**\n",
        "\n",
        "![alt text](https://www.w3resource.com/w3r_images/python-conditional-image-exercise-26.png)"
      ]
    },
    {
      "cell_type": "code",
      "metadata": {
        "id": "8YZ66oDqkL75",
        "colab_type": "code",
        "outputId": "1749e9e6-b81f-44b6-85a4-e7f80466d79d",
        "colab": {
          "base_uri": "https://localhost:8080/",
          "height": 425
        }
      },
      "source": [
        "result_str=\"\";    \n",
        "for row in range(0,7):    \n",
        "    for column in range(0,7):     \n",
        "        if (((row == 0 or row == 3 or row == 6) and column > 1 and column < 5) or (column == 1 and (row == 1 or row == 2 or row == 6)) or (column == 5 and (row == 0 or row == 4 or row == 5))):  \n",
        "            result_str=result_str+\"*\"    \n",
        "        else:      \n",
        "            result_str=result_str+\" \"    \n",
        "    result_str=result_str+\"\\n\"    \n",
        "print(result_str);\n",
        "\n",
        "row=15    \n",
        "col=18   \n",
        "result_str=\"\"    \n",
        "for i in range(1,row+1):    \n",
        "    if((i<=3)or(i>=7 and i<=9)or(i>=13 and i<=15)):    \n",
        "        for j in range(1,col):    \n",
        "            result_str=result_str+\"o\"    \n",
        "        result_str=result_str+\"\\n\"    \n",
        "    elif(i>=4 and i<=6):    \n",
        "        for j in range(1,5):    \n",
        "            result_str=result_str+\"o\"    \n",
        "        result_str=result_str+\"\\n\"    \n",
        "    else:    \n",
        "        for j in range(1,14):    \n",
        "            result_str=result_str+\" \"    \n",
        "        for j in range(1,5):    \n",
        "            result_str=result_str+\"o\"    \n",
        "        result_str=result_str+\"\\n\"    \n",
        "print(result_str);"
      ],
      "execution_count": 0,
      "outputs": [
        {
          "output_type": "stream",
          "text": [
            "  **** \n",
            " *     \n",
            " *     \n",
            "  ***  \n",
            "     * \n",
            "     * \n",
            " ****  \n",
            "\n",
            "ooooooooooooooooo\n",
            "ooooooooooooooooo\n",
            "ooooooooooooooooo\n",
            "oooo\n",
            "oooo\n",
            "oooo\n",
            "ooooooooooooooooo\n",
            "ooooooooooooooooo\n",
            "ooooooooooooooooo\n",
            "             oooo\n",
            "             oooo\n",
            "             oooo\n",
            "ooooooooooooooooo\n",
            "ooooooooooooooooo\n",
            "ooooooooooooooooo\n",
            "\n"
          ],
          "name": "stdout"
        }
      ]
    },
    {
      "cell_type": "markdown",
      "metadata": {
        "id": "6i0q8UTfkflC",
        "colab_type": "text"
      },
      "source": [
        "**27, Viết chương trình Python để in mẫu bảng chữ cái 'T'.**\n",
        "\n",
        "**Write a Python program to print alphabet pattern 'T'.**\n",
        "\n",
        "![alt text](https://www.w3resource.com/w3r_images/python-conditional-image-exercise-27.png)\n",
        "\n"
      ]
    },
    {
      "cell_type": "code",
      "metadata": {
        "id": "M_5HxsQXkWCQ",
        "colab_type": "code",
        "outputId": "f2e9082a-fb5e-452a-fb7f-0316691904d7",
        "colab": {
          "base_uri": "https://localhost:8080/",
          "height": 153
        }
      },
      "source": [
        "result_str=\"\";    \n",
        "for row in range(0,7):    \n",
        "    for column in range(0,7):     \n",
        "        if (column == 3 or (row == 0 and column > 0 and column <6)):  \n",
        "            result_str=result_str+\"*\"    \n",
        "        else:      \n",
        "            result_str=result_str+\" \"    \n",
        "    result_str=result_str+\"\\n\"    \n",
        "print(result_str);"
      ],
      "execution_count": 0,
      "outputs": [
        {
          "output_type": "stream",
          "text": [
            " ***** \n",
            "   *   \n",
            "   *   \n",
            "   *   \n",
            "   *   \n",
            "   *   \n",
            "   *   \n",
            "\n"
          ],
          "name": "stdout"
        }
      ]
    },
    {
      "cell_type": "markdown",
      "metadata": {
        "id": "pnsHCjsykqQQ",
        "colab_type": "text"
      },
      "source": [
        "**28, Viết chương trình Python để in mẫu bảng chữ cái 'U'.**\n",
        "\n",
        "**Write a Python program to print alphabet pattern 'U'.**\n",
        "\n",
        "![alt text](https://www.w3resource.com/w3r_images/python-conditional-image-exercise-28.png)"
      ]
    },
    {
      "cell_type": "code",
      "metadata": {
        "id": "EDxbmRh6koOs",
        "colab_type": "code",
        "outputId": "661809e5-84fa-45a5-fa95-37453cf37fd1",
        "colab": {
          "base_uri": "https://localhost:8080/",
          "height": 153
        }
      },
      "source": [
        "result_str=\"\";    \n",
        "for row in range(0,7):    \n",
        "    for column in range(0,7):     \n",
        "        if (((column == 1 or column == 5) and row != 6) or (row == 6 and column > 1 and column < 5)):  \n",
        "            result_str=result_str+\"*\"    \n",
        "        else:      \n",
        "            result_str=result_str+\" \"    \n",
        "    result_str=result_str+\"\\n\"    \n",
        "print(result_str);"
      ],
      "execution_count": 0,
      "outputs": [
        {
          "output_type": "stream",
          "text": [
            " *   * \n",
            " *   * \n",
            " *   * \n",
            " *   * \n",
            " *   * \n",
            " *   * \n",
            "  ***  \n",
            "\n"
          ],
          "name": "stdout"
        }
      ]
    },
    {
      "cell_type": "markdown",
      "metadata": {
        "id": "r55NaxYXkyER",
        "colab_type": "text"
      },
      "source": [
        "**29, Viết chương trình Python để in mẫu bảng chữ cái 'X'.**\n",
        "\n",
        "**Write a Python program to print alphabet pattern 'X'.**\n",
        "\n",
        "![alt text](https://www.w3resource.com/w3r_images/python-conditional-image-exercise-29.png)"
      ]
    },
    {
      "cell_type": "code",
      "metadata": {
        "id": "9c1JvwAskwbA",
        "colab_type": "code",
        "outputId": "7f8dbd2f-c1f1-4d57-918a-7a07988de697",
        "colab": {
          "base_uri": "https://localhost:8080/",
          "height": 153
        }
      },
      "source": [
        "result_str=\"\";    \n",
        "for row in range(0,7):    \n",
        "    for column in range(0,7):     \n",
        "        if (((column == 1 or column == 5) and (row > 4 or row < 2)) or row == column and column > 0 and column < 6 or (column == 2 and row == 4) or (column == 4 and row == 2)):  \n",
        "            result_str=result_str+\"*\"    \n",
        "        else:      \n",
        "            result_str=result_str+\" \"    \n",
        "    result_str=result_str+\"\\n\"    \n",
        "print(result_str);"
      ],
      "execution_count": 0,
      "outputs": [
        {
          "output_type": "stream",
          "text": [
            " *   * \n",
            " *   * \n",
            "  * *  \n",
            "   *   \n",
            "  * *  \n",
            " *   * \n",
            " *   * \n",
            "\n"
          ],
          "name": "stdout"
        }
      ]
    },
    {
      "cell_type": "markdown",
      "metadata": {
        "id": "Z_y7ShmUk7Da",
        "colab_type": "text"
      },
      "source": [
        "**30, Viết chương trình Python để in mẫu bảng chữ cái 'Z'.**\n",
        "\n",
        "**Write a Python program to print alphabet pattern 'Z'.**\n",
        "\n",
        "![alt text](https://www.w3resource.com/w3r_images/python-conditional-image-exercise-30.png)"
      ]
    },
    {
      "cell_type": "code",
      "metadata": {
        "id": "iGnFEQ8sk4bI",
        "colab_type": "code",
        "outputId": "a063d699-eed3-4ac7-a89c-3c5ce8add632",
        "colab": {
          "base_uri": "https://localhost:8080/",
          "height": 153
        }
      },
      "source": [
        "result_str=\"\";    \n",
        "for row in range(0,7):    \n",
        "    for column in range(0,7):     \n",
        "        if (((row == 0 or row == 6) and column >= 0 and column <= 6) or row+column==6):  \n",
        "            result_str=result_str+\"*\"    \n",
        "        else:      \n",
        "            result_str=result_str+\" \"    \n",
        "    result_str=result_str+\"\\n\"    \n",
        "print(result_str);"
      ],
      "execution_count": 0,
      "outputs": [
        {
          "output_type": "stream",
          "text": [
            "*******\n",
            "     * \n",
            "    *  \n",
            "   *   \n",
            "  *    \n",
            " *     \n",
            "*******\n",
            "\n"
          ],
          "name": "stdout"
        }
      ]
    },
    {
      "cell_type": "markdown",
      "metadata": {
        "id": "y1Qz43OtlKyl",
        "colab_type": "text"
      },
      "source": [
        "**31, Viết chương trình Python để tính tuổi của chó trong năm của chó.**\n",
        "\n",
        "**Write a Python program to calculate a dog's age in dog's years.**\n",
        "\n",
        "Note: For the first two years, a dog year is equal to 10.5 human years. After that, each dog year equals 4 human years.\n",
        "\n",
        "Lưu ý: Trong hai năm đầu tiên, một năm con chó bằng 10,5 năm của con người. Sau đó, mỗi năm con chó bằng 4 năm của con người.\n",
        "\n",
        "![alt text](https://www.w3resource.com/w3r_images/python-conditional-image-exercise-31.png)"
      ]
    },
    {
      "cell_type": "code",
      "metadata": {
        "id": "zKhvYzGMlAzq",
        "colab_type": "code",
        "outputId": "2679964d-b900-4516-b526-241d3be6b1fb",
        "colab": {
          "base_uri": "https://localhost:8080/",
          "height": 51
        }
      },
      "source": [
        "h_age = int(input(\"Input a dog's age in human year: \"))\n",
        "\n",
        "if h_age < 0:\n",
        "  print(\"Age must be positive number. \")\n",
        "  exit()\n",
        "elif h_age <= 2:\n",
        "  d_age = h_age * 10.5\n",
        "else:\n",
        "  d_age = 21 + (h_age - 2) * 4\n",
        "\n",
        "print(\"The dog's age in dog's year is\", d_age)"
      ],
      "execution_count": 0,
      "outputs": [
        {
          "output_type": "stream",
          "text": [
            "Input a dog's age in human year: 12\n",
            "The dog's age in dog's year is 61\n"
          ],
          "name": "stdout"
        }
      ]
    },
    {
      "cell_type": "markdown",
      "metadata": {
        "id": "EKEhSjFVl_k8",
        "colab_type": "text"
      },
      "source": [
        "**32, Viết chương trình Python để kiểm tra xem bảng chữ cái là nguyên âm hay phụ âm.**\n",
        "\n",
        "**Write a Python program to check whether an alphabet is a vowel or consonant.**\n",
        "\n",
        "![alt text](https://www.w3resource.com/w3r_images/python-conditional-image-exercise-32.png)"
      ]
    },
    {
      "cell_type": "code",
      "metadata": {
        "id": "oL3xb5Oxlyk3",
        "colab_type": "code",
        "outputId": "967c4223-56d3-4649-bb4b-4710749d8827",
        "colab": {
          "base_uri": "https://localhost:8080/",
          "height": 51
        }
      },
      "source": [
        "l = input(\"Input a letter of the alphabet: \")\n",
        "\n",
        "if l in (\"a\", \"e\", \"i\", \"o\", \"u\"):\n",
        "  print(\"%s is a vowel\" % l)\n",
        "elif l == 'y':\n",
        "  print(\"Sometimes letter y stand for vowel, sometimes stand for consonant\")\n",
        "else:\n",
        "  print(\"%s is a cononant.\" % l)"
      ],
      "execution_count": 0,
      "outputs": [
        {
          "output_type": "stream",
          "text": [
            "Input a letter of the alphabet: a\n",
            "a is a vowel\n"
          ],
          "name": "stdout"
        }
      ]
    },
    {
      "cell_type": "markdown",
      "metadata": {
        "id": "YpjGce7wmoMf",
        "colab_type": "text"
      },
      "source": [
        "**33, Viết chương trình Python để chuyển đổi tên tháng thành một số ngày.**\n",
        "\n",
        "**Write a Python program to convert month name to a number of days.**\n",
        "\n"
      ]
    },
    {
      "cell_type": "code",
      "metadata": {
        "id": "XyygFWVVmgf-",
        "colab_type": "code",
        "outputId": "4c376057-58d4-4634-bc94-b168851e3ae7",
        "colab": {
          "base_uri": "https://localhost:8080/",
          "height": 68
        }
      },
      "source": [
        "print(\"List of months: January, February, March, April, May, June, July, August, September, October, November, December\")\n",
        "month_name = input(\"Input the name of Month: \")\n",
        "\n",
        "if month_name == \"February\": \n",
        "  print(\"No. of day: 28/29 days\")\n",
        "elif month_name in (\"April\", \"June\", \"September\", \"November\"):\n",
        "  print(\"No. of days: 30 days\")\n",
        "elif month_name in (\"January\", \"March\", \"May\", \"July\", \"August\", \"October\", \"December\"):\n",
        "  print(\"No. of days: 31 days\")\n",
        "else:\n",
        "  print(\"Wrong month name\")"
      ],
      "execution_count": 0,
      "outputs": [
        {
          "output_type": "stream",
          "text": [
            "List of months: January, February, March, April, May, June, July, August, September, October, November, December\n",
            "Input the name of Month: May\n",
            "No. of days: 31 days\n"
          ],
          "name": "stdout"
        }
      ]
    },
    {
      "cell_type": "markdown",
      "metadata": {
        "id": "cNZ0UYZTnRVP",
        "colab_type": "text"
      },
      "source": [
        "**34, Viết chương trình Python để tổng hai số nguyên đã cho. Tuy nhiên, nếu tổng từ 15 đến 20 thì nó sẽ trả về 20.**\n",
        "\n",
        "**Write a Python program to sum of two given integers. However, if the sum is between 15 to 20 it will return 20.**\n",
        "\n",
        "![alt text](https://www.w3resource.com/w3r_images/python-conditional-image-exercise-34.png)"
      ]
    },
    {
      "cell_type": "code",
      "metadata": {
        "id": "fp3lDuIpnO6d",
        "colab_type": "code",
        "outputId": "e9ad0be3-0333-4573-9a21-fc763bc320f3",
        "colab": {
          "base_uri": "https://localhost:8080/",
          "height": 68
        }
      },
      "source": [
        "def sum(x,y):\n",
        "  sum = x + y\n",
        "  if sum in range(15, 20):\n",
        "    return 20\n",
        "  else:\n",
        "    return sum\n",
        "\n",
        "print(sum(10, 6))\n",
        "print(sum(10, 2))\n",
        "print(sum(10, 12))"
      ],
      "execution_count": 0,
      "outputs": [
        {
          "output_type": "stream",
          "text": [
            "20\n",
            "12\n",
            "22\n"
          ],
          "name": "stdout"
        }
      ]
    },
    {
      "cell_type": "markdown",
      "metadata": {
        "id": "mDIzQQA-nqt1",
        "colab_type": "text"
      },
      "source": [
        "**35, Viết chương trình Python để kiểm tra một chuỗi có đại diện cho số nguyên hay không?**\n",
        "\n",
        "**Write a Python program to check a string represent an integer or not?**\n",
        "\n",
        "![alt text](https://www.w3resource.com/w3r_images/python-conditional-image-exercise-35.png)\n",
        "\n",
        "**all(iterable)**: \n",
        "\n",
        "The all() function returns True if all items in an iterable are true, otherwise it returns False.\n",
        "\n",
        "If the iterable object is empty, the all() function also returns True.\n",
        "\n",
        "Hàm all () trả về True nếu tất cả các mục trong một lần lặp là đúng, nếu không, nó trả về Sai.\n",
        "\n",
        "Nếu đối tượng lặp lại trống, hàm all () cũng trả về True."
      ]
    },
    {
      "cell_type": "code",
      "metadata": {
        "id": "jbJ1mwA3nl_e",
        "colab_type": "code",
        "outputId": "185b1040-9463-474e-c7e8-8a6acb0e76ef",
        "colab": {
          "base_uri": "https://localhost:8080/",
          "height": 51
        }
      },
      "source": [
        "text = input(\"Input a string: \")\n",
        "text = text.strip()\n",
        "if len(text) < 1:\n",
        "  print(\"Input a valid text\")\n",
        "else:\n",
        "  if all(text[i] in \"0123456789\" for i in range(len(text))):\n",
        "    print(\"The string is an interger\")\n",
        "  elif (text[0] in \"+-\") and \\\n",
        "    all(text[i] in \"0123456789\" for i in range(1, len(text))):\n",
        "    print(\"The string is an interger\")\n",
        "  else:\n",
        "    print(\"The string i not an interger\")"
      ],
      "execution_count": 5,
      "outputs": [
        {
          "output_type": "stream",
          "text": [
            "Input a string: 123456\n",
            "The string is an interger\n"
          ],
          "name": "stdout"
        }
      ]
    },
    {
      "cell_type": "markdown",
      "metadata": {
        "id": "dcgh40hYj3PX",
        "colab_type": "text"
      },
      "source": [
        "**36, Viết chương trình Python để kiểm tra một tam giác là bằng nhau, cân bằng hoặc tỷ lệ.**\n",
        "\n",
        "**Write a Python program to check a triangle is equilateral, isosceles or scalene.**\n",
        "\n",
        "![alt text](https://www.w3resource.com/w3r_images/python-conditional-image-exercise-36.png)\n",
        "\n",
        "An equilateral triangle is a triangle in which all three sides are equal.\n",
        "\n",
        "A scalene triangle is a triangle that has three unequal sides.\n",
        "\n",
        "An isosceles triangle is a triangle with (at least) two equal sides.\n",
        "\n",
        "Một tam giác đều là một tam giác trong đó cả ba cạnh đều bằng nhau.\n",
        "\n",
        "Một tam giác scalene là một tam giác có ba cạnh không bằng nhau.\n",
        "\n",
        "Một tam giác cân là một tam giác có (ít nhất) hai cạnh bằng nhau.\n"
      ]
    },
    {
      "cell_type": "code",
      "metadata": {
        "id": "g_bEU0EVoQvE",
        "colab_type": "code",
        "colab": {
          "base_uri": "https://localhost:8080/",
          "height": 102
        },
        "outputId": "c4cea0f9-4c25-49f8-f5a0-a158ce7c7b1a"
      },
      "source": [
        "print(\"Input lengths of the triangle sides: \")\n",
        "x = int(input(\"x: \"))\n",
        "y = int(input(\"y: \"))\n",
        "z = int(input(\"z: \"))\n",
        "if x == y == z:\n",
        "  print(\"Equilateral triangle\")\n",
        "elif x == y or y == z or z == x:\n",
        "  print(\"isoceles triangle\")\n",
        "else:\n",
        "  print(\"Scalene triangle\")"
      ],
      "execution_count": 6,
      "outputs": [
        {
          "output_type": "stream",
          "text": [
            "Input lengths of the triangle sides: \n",
            "x: 6\n",
            "y: 8\n",
            "z: 12\n",
            "Scalene triangle\n"
          ],
          "name": "stdout"
        }
      ]
    },
    {
      "cell_type": "markdown",
      "metadata": {
        "id": "2L_6muIxkexv",
        "colab_type": "text"
      },
      "source": [
        "**37, Viết chương trình Python đọc hai số nguyên biểu thị một tháng và ngày và in mùa cho tháng và ngày đó.**\n",
        "\n",
        "**Write a Python program that reads two integers representing a month and day and prints the season for that month and day.**\n",
        "\n",
        "![alt text](https://www.w3resource.com/w3r_images/python-conditional-image-exercise-37.png)"
      ]
    },
    {
      "cell_type": "code",
      "metadata": {
        "id": "3EqQ7EB3kUSj",
        "colab_type": "code",
        "colab": {
          "base_uri": "https://localhost:8080/",
          "height": 68
        },
        "outputId": "f5cc2a5d-9d98-4d4d-833b-a3a3ca082029"
      },
      "source": [
        "month = input(\"Input the month (e.g. January, February etc.): \")\n",
        "day = int(input(\"Input the day: \"))\n",
        "\n",
        "if month in ('January', 'February', 'March'):         # kiểm tra tháng\n",
        "\tseason = 'winter'\n",
        "elif month in ('April', 'May', 'June'):\n",
        "\tseason = 'spring'\n",
        "elif month in ('July', 'August', 'September'):\n",
        "\tseason = 'summer'\n",
        "else:\n",
        "\tseason = 'autumn'\n",
        "\n",
        "if (month == 'March') and (day > 19):                 # kiểm tra ngày\n",
        "\tseason = 'spring'\n",
        "elif (month == 'June') and (day > 20):\n",
        "\tseason = 'summer'\n",
        "elif (month == 'September') and (day > 21):\n",
        "\tseason = 'autumn'\n",
        "elif (month == 'December') and (day > 20):\n",
        "\tseason = 'winter'\n",
        "\n",
        "print(\"Season is\",season)"
      ],
      "execution_count": 7,
      "outputs": [
        {
          "output_type": "stream",
          "text": [
            "Input the month (e.g. January, February etc.): April\n",
            "Input the day: 15\n",
            "Season is spring\n"
          ],
          "name": "stdout"
        }
      ]
    },
    {
      "cell_type": "markdown",
      "metadata": {
        "id": "tn0xt_pwlQza",
        "colab_type": "text"
      },
      "source": [
        "**38, Viết chương trình Python để hiển thị dấu hiệu chiêm tinh(cung hoàng đạo) cho ngày sinh.**\n",
        "\n",
        "**Write a Python program to display astrological sign for given date of birth.**\n",
        "\n"
      ]
    },
    {
      "cell_type": "code",
      "metadata": {
        "id": "s0RqcPYqk109",
        "colab_type": "code",
        "colab": {
          "base_uri": "https://localhost:8080/",
          "height": 68
        },
        "outputId": "9381789d-f71d-4752-9c54-27e5864bb3c9"
      },
      "source": [
        "day = int(input(\"Input birthday: \"))\n",
        "month = input(\"Input month of birth (e.g. march, july etc): \")\n",
        "if month == 'december':\n",
        "\tastro_sign = 'Sagittarius' if (day < 22) else 'capricorn'\n",
        "elif month == 'january':\n",
        "\tastro_sign = 'Capricorn' if (day < 20) else 'aquarius'\n",
        "elif month == 'february':\n",
        "\tastro_sign = 'Aquarius' if (day < 19) else 'pisces'\n",
        "elif month == 'march':\n",
        "\tastro_sign = 'Pisces' if (day < 21) else 'aries'\n",
        "elif month == 'april':\n",
        "\tastro_sign = 'Aries' if (day < 20) else 'taurus'\n",
        "elif month == 'may':\n",
        "\tastro_sign = 'Taurus' if (day < 21) else 'gemini'\n",
        "elif month == 'june':\n",
        "\tastro_sign = 'Gemini' if (day < 21) else 'cancer'\n",
        "elif month == 'july':\n",
        "\tastro_sign = 'Cancer' if (day < 23) else 'leo'\n",
        "elif month == 'august':\n",
        "\tastro_sign = 'Leo' if (day < 23) else 'virgo'\n",
        "elif month == 'september':\n",
        "\tastro_sign = 'Virgo' if (day < 23) else 'libra'\n",
        "elif month == 'october':\n",
        "\tastro_sign = 'Libra' if (day < 23) else 'scorpio'\n",
        "elif month == 'november':\n",
        "\tastro_sign = 'scorpio' if (day < 22) else 'sagittarius'\n",
        "print(\"Your Astrological sign is :\",astro_sign)"
      ],
      "execution_count": 10,
      "outputs": [
        {
          "output_type": "stream",
          "text": [
            "Input birthday: 7\n",
            "Input month of birth (e.g. march, july etc): august\n",
            "Your Astrological sign is : Leo\n"
          ],
          "name": "stdout"
        }
      ]
    },
    {
      "cell_type": "markdown",
      "metadata": {
        "id": "_E8dzHJEmCj3",
        "colab_type": "text"
      },
      "source": [
        "**39, Viết chương trình Python để hiển thị dấu hiệu Hoàng đạo Trung Quốc cho năm bạn sinh ra.**\n",
        "\n",
        "**Write a Python program to display the sign of the Chinese Zodiac for given year in which you were born.**\n",
        "\n"
      ]
    },
    {
      "cell_type": "code",
      "metadata": {
        "id": "pjI9QOajlzoR",
        "colab_type": "code",
        "colab": {
          "base_uri": "https://localhost:8080/",
          "height": 51
        },
        "outputId": "0c9861a5-3154-43dd-ffbb-5877df2f8aad"
      },
      "source": [
        "year = int(input(\"Input your birth year: \"))\n",
        "if (year - 2000) % 12 == 0:\n",
        "    sign = 'Dragon'\n",
        "elif (year - 2000) % 12 == 1:\n",
        "    sign = 'Snake'\n",
        "elif (year - 2000) % 12 == 2:\n",
        "    sign = 'Horse'\n",
        "elif (year - 2000) % 12 == 3:\n",
        "    sign = 'sheep'\n",
        "elif (year - 2000) % 12 == 4:\n",
        "    sign = 'Monkey'\n",
        "elif (year - 2000) % 12 == 5:\n",
        "    sign = 'Rooster'\n",
        "elif (year - 2000) % 12 == 6:\n",
        "    sign = 'Dog'\n",
        "elif (year - 2000) % 12 == 7:\n",
        "    sign = 'Pig'\n",
        "elif (year - 2000) % 12 == 8:\n",
        "    sign = 'Rat'\n",
        "elif (year - 2000) % 12 == 9:\n",
        "    sign = 'Ox'\n",
        "elif (year - 2000) % 12 == 10:\n",
        "    sign = 'Tiger'\n",
        "else:\n",
        "    sign = 'Hare'\n",
        "\n",
        "print(\"Your Zodiac sign :\",sign)"
      ],
      "execution_count": 11,
      "outputs": [
        {
          "output_type": "stream",
          "text": [
            "Input your birth year: 1996\n",
            "Your Zodiac sign : Rat\n"
          ],
          "name": "stdout"
        }
      ]
    },
    {
      "cell_type": "markdown",
      "metadata": {
        "id": "787G79kqmzqh",
        "colab_type": "text"
      },
      "source": [
        "**40, Viết chương trình Python để tìm trung vị của ba giá trị.**\n",
        "\n",
        "**Write a Python program to find the median of three values.**\n",
        "\n",
        "![alt text](https://www.w3resource.com/w3r_images/python-conditional-image-exercise-40.png)\n",
        "\n"
      ]
    },
    {
      "cell_type": "code",
      "metadata": {
        "id": "8N2H0ldjmtOL",
        "colab_type": "code",
        "colab": {
          "base_uri": "https://localhost:8080/",
          "height": 85
        },
        "outputId": "9836cfa1-342f-49f9-fa43-52fef18f92cb"
      },
      "source": [
        "a = float(input(\"Input first number: \"))\n",
        "b = float(input(\"Input second number: \"))\n",
        "c = float(input(\"Input third number: \"))\n",
        "if a > b:\n",
        "    if a < c:\n",
        "        median = a\n",
        "    elif b > c:\n",
        "        median = b\n",
        "    else:\n",
        "        median = c\n",
        "else:\n",
        "    if a > c:\n",
        "        median = a\n",
        "    elif b < c:\n",
        "        median = b\n",
        "    else:\n",
        "        median = c\n",
        "\n",
        "print(\"The median is\", median)"
      ],
      "execution_count": 12,
      "outputs": [
        {
          "output_type": "stream",
          "text": [
            "Input first number: 1 \n",
            "Input second number: 3\n",
            "Input third number: 5\n",
            "The median is 3.0\n"
          ],
          "name": "stdout"
        }
      ]
    },
    {
      "cell_type": "markdown",
      "metadata": {
        "id": "npjidSmbnHir",
        "colab_type": "text"
      },
      "source": [
        "**41, Viết chương trình Python để lấy ngày tiếp theo của một ngày nhất định.**\n",
        "\n",
        "**Write a Python program to get next day of a given date.**\n",
        "\n"
      ]
    },
    {
      "cell_type": "code",
      "metadata": {
        "id": "GwNXL4R-m6cx",
        "colab_type": "code",
        "colab": {
          "base_uri": "https://localhost:8080/",
          "height": 85
        },
        "outputId": "e7e8d1cc-d3f4-48e5-e66f-655525fa32ce"
      },
      "source": [
        "year = int(input(\"Input a year: \"))\n",
        "\n",
        "if (year % 400 == 0):                                 # điều kiện để tìm năm nhuận\n",
        "    leap_year = True\n",
        "elif (year % 100 == 0):\n",
        "    leap_year = False\n",
        "elif (year % 4 == 0):\n",
        "    leap_year = True\n",
        "else:\n",
        "    leap_year = False\n",
        "\n",
        "month = int(input(\"Input a month [1-12]: \"))\n",
        "\n",
        "if month in (1, 3, 5, 7, 8, 10, 12):                  # tìm tháng có 31 ngày\n",
        "    month_length = 31\n",
        "elif month == 2:                                      # tháng 2, tìm tháng 2 năm nhuận 29 ngày và tháng 2 năm không nhuận 28 ngày\n",
        "    if leap_year:\n",
        "        month_length = 29\n",
        "    else:\n",
        "        month_length = 28\n",
        "else:                                                 # những tháng còn lại thì 30 ngày\n",
        "    month_length = 30\n",
        "\n",
        "\n",
        "day = int(input(\"Input a day [1-31]: \"))\n",
        "\n",
        "if day < month_length:                                # nếu ngày không vượt quá so ngày trong tháng\n",
        "    day += 1\n",
        "else:                                                 # Nếu là 31/12/2020 thì sẽ chuyển sang năm sau\n",
        "    day = 1\n",
        "    if month == 12:\n",
        "        month = 1\n",
        "        year += 1\n",
        "    else:\n",
        "        month += 1\n",
        "print(\"The next date is [yyyy-mm-dd] %d-%d-%d.\" % (year, month, day))"
      ],
      "execution_count": 14,
      "outputs": [
        {
          "output_type": "stream",
          "text": [
            "Input a year: 1996\n",
            "Input a month [1-12]: 32\n",
            "Input a day [1-31]: 32\n",
            "The next date is [yyyy-mm-dd] 1996-33-1.\n"
          ],
          "name": "stdout"
        }
      ]
    },
    {
      "cell_type": "markdown",
      "metadata": {
        "id": "Ymd6a4uQorpT",
        "colab_type": "text"
      },
      "source": [
        "**42, Viết chương trình Python để tính tổng và trung bình của n số nguyên (đầu vào từ người dùng). Nhập 0 để kết thúc.**\n",
        "\n",
        "**Write a Python program to calculate the sum and average of n integer numbers (input from the user). Input 0 to finish.**\n",
        "\n",
        "![alt text](https://www.w3resource.com/w3r_images/python-conditional-image-exercise-42.png)"
      ]
    },
    {
      "cell_type": "code",
      "metadata": {
        "id": "GwwbZoo4nPGj",
        "colab_type": "code",
        "colab": {
          "base_uri": "https://localhost:8080/",
          "height": 153
        },
        "outputId": "35ad3c67-5001-412b-9ae9-1033dea22f89"
      },
      "source": [
        "print(\"Input some integers to calculate their sum and average. Input 0 to exit.\")\n",
        "\n",
        "count = 0                           # count, đếm số lượng số được nhập vào, để tính trung bình số nhập vào\n",
        "sum = 0.0                           # sum, tính tổng số nhập vào\n",
        "number = 1                          # number, để làm điều kiện cho vòng lặp while\n",
        "\n",
        "while number != 0:                  # number khác 0 thì tiếp tục, number = 0 thì sai điều kiện, dừng chương trình\n",
        "  number = int(input(\"\"))\n",
        "  sum = sum + number\n",
        "  count += 1\n",
        "\n",
        "if count == 0:\n",
        "  print(\"Input some numbers\")\n",
        "else:\n",
        "  print(\"Average and sum of the above numbers are: \", sum / (count-1), sum)"
      ],
      "execution_count": 15,
      "outputs": [
        {
          "output_type": "stream",
          "text": [
            "Input some integers to calculate their sum and average. Input 0 to exit.\n",
            "1\n",
            "2\n",
            "3\n",
            "4\n",
            "5\n",
            "0\n",
            "Average and sum of the above numbers are:  3.0 15.0\n"
          ],
          "name": "stdout"
        }
      ]
    },
    {
      "cell_type": "markdown",
      "metadata": {
        "id": "NgtU0sqLpzC2",
        "colab_type": "text"
      },
      "source": [
        "**43, Viết chương trình Python để tạo bảng nhân (từ 1 đến 10) của một số.**\n",
        "\n",
        "**Write a Python program to create the multiplication table (from 1 to 10) of a number.**\n",
        "\n",
        "![alt text](https://www.w3resource.com/w3r_images/python-conditional-image-exercise-43.png)"
      ]
    },
    {
      "cell_type": "code",
      "metadata": {
        "id": "iTJpQidMpHlv",
        "colab_type": "code",
        "colab": {
          "base_uri": "https://localhost:8080/",
          "height": 204
        },
        "outputId": "25731124-0ac9-4bbe-cf12-a28332df1d4b"
      },
      "source": [
        "n = int(input(\"Input a number: \"))\n",
        "\n",
        "for i in range(1, 11):\n",
        "  print(n, 'x', i, '=', n*i)"
      ],
      "execution_count": 18,
      "outputs": [
        {
          "output_type": "stream",
          "text": [
            "Input a number: 6\n",
            "6 x 1 = 6\n",
            "6 x 2 = 12\n",
            "6 x 3 = 18\n",
            "6 x 4 = 24\n",
            "6 x 5 = 30\n",
            "6 x 6 = 36\n",
            "6 x 7 = 42\n",
            "6 x 8 = 48\n",
            "6 x 9 = 54\n",
            "6 x 10 = 60\n"
          ],
          "name": "stdout"
        }
      ]
    },
    {
      "cell_type": "markdown",
      "metadata": {
        "id": "dQzx8AZOqOpj",
        "colab_type": "text"
      },
      "source": [
        "**44, Viết chương trình Python để xây dựng mẫu sau, sử dụng số vòng lặp lồng nhau.**\n",
        "\n",
        "**Write a Python program to construct the following pattern, using a nested loop number.**\n",
        "\n",
        "![alt text](https://www.w3resource.com/w3r_images/python-conditional-image-exercise-44.png)"
      ]
    },
    {
      "cell_type": "code",
      "metadata": {
        "id": "tKqhEMxDqFBE",
        "colab_type": "code",
        "colab": {
          "base_uri": "https://localhost:8080/",
          "height": 187
        },
        "outputId": "4a7f5e60-14a8-4bb1-ce0f-259278622387"
      },
      "source": [
        "for i in range(10):\n",
        "  print(str(i) * i)         # chuyển i sang str -> thành chuỗi nhân chuỗi -> ii"
      ],
      "execution_count": 19,
      "outputs": [
        {
          "output_type": "stream",
          "text": [
            "\n",
            "1\n",
            "22\n",
            "333\n",
            "4444\n",
            "55555\n",
            "666666\n",
            "7777777\n",
            "88888888\n",
            "999999999\n"
          ],
          "name": "stdout"
        }
      ]
    },
    {
      "cell_type": "code",
      "metadata": {
        "id": "_u_9QKIoqZBe",
        "colab_type": "code",
        "colab": {}
      },
      "source": [
        ""
      ],
      "execution_count": 0,
      "outputs": []
    }
  ]
}