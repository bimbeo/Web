{
  "nbformat": 4,
  "nbformat_minor": 0,
  "metadata": {
    "colab": {
      "name": "Excises1: 35-70 ",
      "provenance": [],
      "collapsed_sections": [],
      "authorship_tag": "ABX9TyNjpLqxFEoLOBpkSEVZzols",
      "include_colab_link": true
    },
    "kernelspec": {
      "name": "python3",
      "display_name": "Python 3"
    }
  },
  "cells": [
    {
      "cell_type": "markdown",
      "metadata": {
        "id": "view-in-github",
        "colab_type": "text"
      },
      "source": [
        "<a href=\"https://colab.research.google.com/github/bimbeo/Web/blob/master/Excises1_35_70.ipynb\" target=\"_parent\"><img src=\"https://colab.research.google.com/assets/colab-badge.svg\" alt=\"Open In Colab\"/></a>"
      ]
    },
    {
      "cell_type": "markdown",
      "metadata": {
        "id": "6NudjSQD1nuY",
        "colab_type": "text"
      },
      "source": [
        "**36, Viết chương trình Python để thêm hai đối tượng nếu cả hai đối tượng là một kiểu nguyên.**\n",
        "\n",
        "**Write a Python program to add two objects if both objects are an integer type**"
      ]
    },
    {
      "cell_type": "code",
      "metadata": {
        "id": "BXyaDlP91j3F",
        "colab_type": "code",
        "outputId": "f1386838-1f4b-491d-c36d-cc4466b7a5f1",
        "colab": {
          "base_uri": "https://localhost:8080/",
          "height": 333
        }
      },
      "source": [
        "def add_numbers(a, b):\n",
        "  if not (isinstance(a, int) and isinstance(b, int)): # phương thức isstance kiểm tra a có phải số nguyên không (a, int), not\n",
        "    raise TypeError(\"Inputs must be integers\")        # a không phải số nguyên, raise lỗi TypeErro, đưa ra thông báo\n",
        "  return a + b                                        # a, b là số nguyên, a + b\n",
        "print(add_numbers(10,20))\n",
        "print(add_numbers(1.0,20))"
      ],
      "execution_count": 0,
      "outputs": [
        {
          "output_type": "stream",
          "text": [
            "30\n"
          ],
          "name": "stdout"
        },
        {
          "output_type": "error",
          "ename": "TypeError",
          "evalue": "ignored",
          "traceback": [
            "\u001b[0;31m---------------------------------------------------------------------------\u001b[0m",
            "\u001b[0;31mTypeError\u001b[0m                                 Traceback (most recent call last)",
            "\u001b[0;32m<ipython-input-2-fc3fbc301c2d>\u001b[0m in \u001b[0;36m<module>\u001b[0;34m()\u001b[0m\n\u001b[1;32m      4\u001b[0m   \u001b[0;32mreturn\u001b[0m \u001b[0ma\u001b[0m \u001b[0;34m+\u001b[0m \u001b[0mb\u001b[0m\u001b[0;34m\u001b[0m\u001b[0;34m\u001b[0m\u001b[0m\n\u001b[1;32m      5\u001b[0m \u001b[0mprint\u001b[0m\u001b[0;34m(\u001b[0m\u001b[0madd_numbers\u001b[0m\u001b[0;34m(\u001b[0m\u001b[0;36m10\u001b[0m\u001b[0;34m,\u001b[0m\u001b[0;36m20\u001b[0m\u001b[0;34m)\u001b[0m\u001b[0;34m)\u001b[0m\u001b[0;34m\u001b[0m\u001b[0;34m\u001b[0m\u001b[0m\n\u001b[0;32m----> 6\u001b[0;31m \u001b[0mprint\u001b[0m\u001b[0;34m(\u001b[0m\u001b[0madd_numbers\u001b[0m\u001b[0;34m(\u001b[0m\u001b[0;36m1.0\u001b[0m\u001b[0;34m,\u001b[0m\u001b[0;36m20\u001b[0m\u001b[0;34m)\u001b[0m\u001b[0;34m)\u001b[0m\u001b[0;34m\u001b[0m\u001b[0;34m\u001b[0m\u001b[0m\n\u001b[0m",
            "\u001b[0;32m<ipython-input-2-fc3fbc301c2d>\u001b[0m in \u001b[0;36madd_numbers\u001b[0;34m(a, b)\u001b[0m\n\u001b[1;32m      1\u001b[0m \u001b[0;32mdef\u001b[0m \u001b[0madd_numbers\u001b[0m\u001b[0;34m(\u001b[0m\u001b[0ma\u001b[0m\u001b[0;34m,\u001b[0m \u001b[0mb\u001b[0m\u001b[0;34m)\u001b[0m\u001b[0;34m:\u001b[0m\u001b[0;34m\u001b[0m\u001b[0;34m\u001b[0m\u001b[0m\n\u001b[1;32m      2\u001b[0m   \u001b[0;32mif\u001b[0m \u001b[0;32mnot\u001b[0m \u001b[0;34m(\u001b[0m\u001b[0misinstance\u001b[0m\u001b[0;34m(\u001b[0m\u001b[0ma\u001b[0m\u001b[0;34m,\u001b[0m \u001b[0mint\u001b[0m\u001b[0;34m)\u001b[0m \u001b[0;32mand\u001b[0m \u001b[0misinstance\u001b[0m\u001b[0;34m(\u001b[0m\u001b[0mb\u001b[0m\u001b[0;34m,\u001b[0m \u001b[0mint\u001b[0m\u001b[0;34m)\u001b[0m\u001b[0;34m)\u001b[0m\u001b[0;34m:\u001b[0m\u001b[0;34m\u001b[0m\u001b[0;34m\u001b[0m\u001b[0m\n\u001b[0;32m----> 3\u001b[0;31m     \u001b[0;32mraise\u001b[0m \u001b[0mTypeError\u001b[0m\u001b[0;34m(\u001b[0m\u001b[0;34m\"Inputs must be integers\"\u001b[0m\u001b[0;34m)\u001b[0m\u001b[0;34m\u001b[0m\u001b[0;34m\u001b[0m\u001b[0m\n\u001b[0m\u001b[1;32m      4\u001b[0m   \u001b[0;32mreturn\u001b[0m \u001b[0ma\u001b[0m \u001b[0;34m+\u001b[0m \u001b[0mb\u001b[0m\u001b[0;34m\u001b[0m\u001b[0;34m\u001b[0m\u001b[0m\n\u001b[1;32m      5\u001b[0m \u001b[0mprint\u001b[0m\u001b[0;34m(\u001b[0m\u001b[0madd_numbers\u001b[0m\u001b[0;34m(\u001b[0m\u001b[0;36m10\u001b[0m\u001b[0;34m,\u001b[0m\u001b[0;36m20\u001b[0m\u001b[0;34m)\u001b[0m\u001b[0;34m)\u001b[0m\u001b[0;34m\u001b[0m\u001b[0;34m\u001b[0m\u001b[0m\n",
            "\u001b[0;31mTypeError\u001b[0m: Inputs must be integers"
          ]
        }
      ]
    },
    {
      "cell_type": "markdown",
      "metadata": {
        "id": "00KiJdt12ofR",
        "colab_type": "text"
      },
      "source": [
        "**37, Viết chương trình Python để hiển thị chi tiết của bạn như tên, tuổi, địa chỉ theo ba dòng khác nhau.**\n",
        "\n",
        "**Write a Python program to display your details like name, age, address in three different lines.**\n",
        "\n",
        "\n",
        "\n",
        "![alt text](https://www.w3resource.com/w3r_images/python-basic-image-exercise-37.png)"
      ]
    },
    {
      "cell_type": "code",
      "metadata": {
        "id": "MneDEV9M2C2m",
        "colab_type": "code",
        "outputId": "c4ef0c16-acad-4500-b637-2033520eb4e2",
        "colab": {
          "base_uri": "https://localhost:8080/",
          "height": 119
        }
      },
      "source": [
        "name = input(\"Inputs your name: \")\n",
        "age = input(\"Inputs your age: \")\n",
        "address = input(\"Input your address: \")\n",
        "print(\"Name: \", name)\n",
        "print(\"Age: \", age)\n",
        "print(\"Address\", address)\n",
        "\n",
        "\"\"\" Cách 2: \n",
        "def personal_details():\n",
        "    name, age = \"Simon\", 19                         # gán 2 giá trị biến 1 dòng\n",
        "    address = \"Bangalore, Karnataka, India\"\n",
        "    print(\"Name: {}\\nAge: {}\\nAddress: {}\".format(name, age, address)) # định dạng fstring, gán theo thứ tự, \\n để xuống dòng, return None\n",
        "\n",
        "personal_details()\"\"\""
      ],
      "execution_count": 0,
      "outputs": [
        {
          "output_type": "stream",
          "text": [
            "Inputs your name: bim\n",
            "Inputs your age: 24\n",
            "Input your address: lo duc\n",
            "Name:  bim\n",
            "Age:  24\n",
            "Address lo duc\n"
          ],
          "name": "stdout"
        }
      ]
    },
    {
      "cell_type": "markdown",
      "metadata": {
        "id": "DzEqkhSi3oN-",
        "colab_type": "text"
      },
      "source": [
        "**38, Viết chương trình Python để giải (x + y) * (x + y).**\n",
        "\n",
        " **Write a Python program to solve (x + y) * (x + y).**\n",
        "\n"
      ]
    },
    {
      "cell_type": "code",
      "metadata": {
        "id": "aZc_hxgz3Dnc",
        "colab_type": "code",
        "outputId": "2495ed34-3008-4d79-f92d-7e581906fa9d",
        "colab": {
          "base_uri": "https://localhost:8080/",
          "height": 51
        }
      },
      "source": [
        "x, y = 4, 3\n",
        "result = (x + y)*(x+y)\n",
        "print(result)\n",
        "print(\"({} + {}) ^ 2 = {}\".format(x,y,result))"
      ],
      "execution_count": 0,
      "outputs": [
        {
          "output_type": "stream",
          "text": [
            "49\n",
            "(4 + 3) ^ 2 = 49\n"
          ],
          "name": "stdout"
        }
      ]
    },
    {
      "cell_type": "markdown",
      "metadata": {
        "id": "PgOOg1T14JdU",
        "colab_type": "text"
      },
      "source": [
        "**39, Viết chương trình Python để tính giá trị tương lai của số tiền gốc, lãi suất cụ thể và một số năm.**\n",
        "\n",
        "**Write a Python program to compute the future value of a specified principal amount, rate of interest, and a number of years.**\n",
        "\n"
      ]
    },
    {
      "cell_type": "code",
      "metadata": {
        "id": "JLCZXMOY338B",
        "colab_type": "code",
        "outputId": "8132a764-12d4-4933-c1fe-97f80a980f37",
        "colab": {
          "base_uri": "https://localhost:8080/",
          "height": 34
        }
      },
      "source": [
        "atm = 100000 # số tiền gốc\n",
        "int = 3.5    # lãi suất\n",
        "year = 7     # số năm\n",
        "future_value = atm*((1+(0.01*int))** year) # giá trị = số tiền gốc * lãi suất 3.5%, bình phương theo năm\n",
        "print(round(future_value,2))  # round làm tròn tới 2 chữ số thập phân"
      ],
      "execution_count": 0,
      "outputs": [
        {
          "output_type": "stream",
          "text": [
            "127227.93\n"
          ],
          "name": "stdout"
        }
      ]
    },
    {
      "cell_type": "markdown",
      "metadata": {
        "id": "d9gVEn8Q5J_f",
        "colab_type": "text"
      },
      "source": [
        "**40, Viết chương trình Python để tính khoảng cách giữa các điểm (x1, y1) và (x2, y2).**\n",
        "\n",
        "**Write a Python program to compute the distance between the points (x1, y1) and (x2, y2).**\n",
        "\n",
        "\n",
        "![alt text](https://www.w3resource.com/w3r_images/python-basic-image-exercise-40.png)"
      ]
    },
    {
      "cell_type": "code",
      "metadata": {
        "id": "evxTTdo24h-1",
        "colab_type": "code",
        "outputId": "95a8a37c-d35b-4f8d-8f81-88ea25f9bfba",
        "colab": {
          "base_uri": "https://localhost:8080/",
          "height": 34
        }
      },
      "source": [
        "import math\n",
        "p1 = [4, 0]\n",
        "p2 = [6, 6]\n",
        "distance = math.sqrt( ((p1[0]-p2[0])**2)+((p1[1]-p2[1])**2) ) # căn của (x1 - x2)^2 + (y1 - y2)^2\n",
        "print(distance)"
      ],
      "execution_count": 0,
      "outputs": [
        {
          "output_type": "stream",
          "text": [
            "6.324555320336759\n"
          ],
          "name": "stdout"
        }
      ]
    },
    {
      "cell_type": "markdown",
      "metadata": {
        "id": "Knk5Xd106lY4",
        "colab_type": "text"
      },
      "source": [
        "**41, Viết chương trình Python để kiểm tra xem một tập tin có tồn tại không.**\n",
        "\n",
        "**Write a Python program to check whether a file exists.**\n",
        "\n"
      ]
    },
    {
      "cell_type": "code",
      "metadata": {
        "id": "x0bn3Qjw5t7d",
        "colab_type": "code",
        "outputId": "fe6b3e97-5de9-4d8e-ec86-8c7b1d79cf87",
        "colab": {
          "base_uri": "https://localhost:8080/",
          "height": 34
        }
      },
      "source": [
        "import os.path\n",
        "open('abc,txt', 'w')\n",
        "print(os.path.isfile('abc.txt'))"
      ],
      "execution_count": 0,
      "outputs": [
        {
          "output_type": "stream",
          "text": [
            "False\n"
          ],
          "name": "stdout"
        }
      ]
    },
    {
      "cell_type": "markdown",
      "metadata": {
        "id": "4UHIF2wQ66AZ",
        "colab_type": "text"
      },
      "source": [
        "**42, Viết chương trình Python để xác định xem trình bao Python đang thực thi ở chế độ 32 bit hay 64 bit trên HĐH?**\n",
        "\n",
        "**Write a Python program to determine whether a Python shell is executing in 32bit or 64bit mode on OS?**"
      ]
    },
    {
      "cell_type": "code",
      "metadata": {
        "id": "HtQfbRLX6t5z",
        "colab_type": "code",
        "outputId": "efa2e6d9-10d1-42eb-a233-14197d6e6462",
        "colab": {
          "base_uri": "https://localhost:8080/",
          "height": 34
        }
      },
      "source": [
        "import struct\n",
        "print(struct.calcsize(\"P\") * 8)"
      ],
      "execution_count": 0,
      "outputs": [
        {
          "output_type": "stream",
          "text": [
            "64\n"
          ],
          "name": "stdout"
        }
      ]
    },
    {
      "cell_type": "markdown",
      "metadata": {
        "id": "2bxZ1BEb7KSs",
        "colab_type": "text"
      },
      "source": [
        "**43, Viết chương trình Python để lấy tên hệ điều hành, nền tảng và thông tin phát hành.**\n",
        "\n",
        "**Write a Python program to get OS name, platform and release information.**\n",
        "\n"
      ]
    },
    {
      "cell_type": "code",
      "metadata": {
        "id": "-OxL5EHa7Crv",
        "colab_type": "code",
        "outputId": "9d975e17-cd55-4e9b-e9f2-f7173487c257",
        "colab": {
          "base_uri": "https://localhost:8080/",
          "height": 68
        }
      },
      "source": [
        "import platform\n",
        "import os\n",
        "print(os.name)\n",
        "print(platform.system())\n",
        "print(platform.release())"
      ],
      "execution_count": 0,
      "outputs": [
        {
          "output_type": "stream",
          "text": [
            "posix\n",
            "Linux\n",
            "4.19.104+\n"
          ],
          "name": "stdout"
        }
      ]
    },
    {
      "cell_type": "markdown",
      "metadata": {
        "id": "VwnSC1MG7b5O",
        "colab_type": "text"
      },
      "source": [
        "**44, Viết chương trình Python để xác định vị trí các gói trang web Python.**\n",
        "\n",
        "**Write a Python program to locate Python site-packages.**\n"
      ]
    },
    {
      "cell_type": "code",
      "metadata": {
        "id": "1UrX0B5c7Tg0",
        "colab_type": "code",
        "outputId": "bc0d2da5-8f3c-4376-c07d-d155bd29ec1d",
        "colab": {
          "base_uri": "https://localhost:8080/",
          "height": 34
        }
      },
      "source": [
        "import site\n",
        "print(site.getsitepackages())"
      ],
      "execution_count": 0,
      "outputs": [
        {
          "output_type": "stream",
          "text": [
            "['/usr/local/lib/python3.6/dist-packages', '/usr/lib/python3/dist-packages', '/usr/lib/python3.6/dist-packages']\n"
          ],
          "name": "stdout"
        }
      ]
    },
    {
      "cell_type": "markdown",
      "metadata": {
        "id": "06mZa_Nn7yIu",
        "colab_type": "text"
      },
      "source": [
        "**45, Viết chương trình python để gọi một lệnh bên ngoài trong Python.**\n",
        "\n",
        "**Write a python program to call an external command in Python.**\n"
      ]
    },
    {
      "cell_type": "code",
      "metadata": {
        "id": "9v7lGDCd7ing",
        "colab_type": "code",
        "outputId": "c221dbbc-1ca7-4942-f2b8-df66b9892463",
        "colab": {
          "base_uri": "https://localhost:8080/",
          "height": 34
        }
      },
      "source": [
        "from subprocess import call\n",
        "call([\"ls\", \"-l\"])\n"
      ],
      "execution_count": 0,
      "outputs": [
        {
          "output_type": "execute_result",
          "data": {
            "text/plain": [
              "0"
            ]
          },
          "metadata": {
            "tags": []
          },
          "execution_count": 18
        }
      ]
    },
    {
      "cell_type": "markdown",
      "metadata": {
        "id": "OF2MsDJq85dn",
        "colab_type": "text"
      },
      "source": [
        "**46, Viết chương trình python để lấy đường dẫn và tên của tệp hiện đang thực thi.**\n",
        "\n",
        "**Write a python program to get the path and name of the file that is currently executing.**\n",
        "\n"
      ]
    },
    {
      "cell_type": "code",
      "metadata": {
        "id": "DXGX806B78LA",
        "colab_type": "code",
        "outputId": "6de67c19-d047-4973-d59f-4c01871699b2",
        "colab": {
          "base_uri": "https://localhost:8080/",
          "height": 180
        }
      },
      "source": [
        "import os\n",
        "print(\"Current File Name : \",os.path.realpath(__file__)) # colab không hiển thị, vscode mới hiển thị\n",
        "# Kết quả: Current File Name :  f:\\Đồ án\\dev\\tuhoc3.py"
      ],
      "execution_count": 0,
      "outputs": [
        {
          "output_type": "error",
          "ename": "NameError",
          "evalue": "ignored",
          "traceback": [
            "\u001b[0;31m---------------------------------------------------------------------------\u001b[0m",
            "\u001b[0;31mNameError\u001b[0m                                 Traceback (most recent call last)",
            "\u001b[0;32m<ipython-input-19-76e7fb529489>\u001b[0m in \u001b[0;36m<module>\u001b[0;34m()\u001b[0m\n\u001b[1;32m      1\u001b[0m \u001b[0;32mimport\u001b[0m \u001b[0mos\u001b[0m\u001b[0;34m\u001b[0m\u001b[0;34m\u001b[0m\u001b[0m\n\u001b[0;32m----> 2\u001b[0;31m \u001b[0mprint\u001b[0m\u001b[0;34m(\u001b[0m\u001b[0;34m\"Current File Name : \"\u001b[0m\u001b[0;34m,\u001b[0m\u001b[0mos\u001b[0m\u001b[0;34m.\u001b[0m\u001b[0mpath\u001b[0m\u001b[0;34m.\u001b[0m\u001b[0mrealpath\u001b[0m\u001b[0;34m(\u001b[0m\u001b[0m__file__\u001b[0m\u001b[0;34m)\u001b[0m\u001b[0;34m)\u001b[0m\u001b[0;34m\u001b[0m\u001b[0;34m\u001b[0m\u001b[0m\n\u001b[0m",
            "\u001b[0;31mNameError\u001b[0m: name '__file__' is not defined"
          ]
        }
      ]
    },
    {
      "cell_type": "markdown",
      "metadata": {
        "id": "cs18NYa89erA",
        "colab_type": "text"
      },
      "source": [
        "**47, Viết chương trình Python để tìm ra số lượng CPU sử dụng.**\n",
        "\n",
        "**Write a Python program to find out the number of CPUs using.**\n",
        "\n",
        "\n",
        "\n"
      ]
    },
    {
      "cell_type": "code",
      "metadata": {
        "id": "RuxTvN299DOx",
        "colab_type": "code",
        "outputId": "8597ba4a-64d8-48ec-d005-4c6f3adb53a9",
        "colab": {
          "base_uri": "https://localhost:8080/",
          "height": 34
        }
      },
      "source": [
        "import multiprocessing\n",
        "print(multiprocessing.cpu_count())"
      ],
      "execution_count": 0,
      "outputs": [
        {
          "output_type": "stream",
          "text": [
            "2\n"
          ],
          "name": "stdout"
        }
      ]
    },
    {
      "cell_type": "markdown",
      "metadata": {
        "id": "I560o0G79vJi",
        "colab_type": "text"
      },
      "source": [
        "**48, Viết chương trình Python để phân tích một chuỗi thành Float hoặc Integer.**\n",
        "\n",
        "**Write a Python program to parse a string to Float or Integer.**\n",
        "\n"
      ]
    },
    {
      "cell_type": "code",
      "metadata": {
        "id": "uCIYIXt49nP5",
        "colab_type": "code",
        "outputId": "15f7e080-4c9c-41f4-ecb4-9e036cc637d1",
        "colab": {
          "base_uri": "https://localhost:8080/",
          "height": 214
        }
      },
      "source": [
        "n = \"246.2458\"\n",
        "print(float(n))\n",
        "print(int(float(n))) # chạy trên colab bị lỗi"
      ],
      "execution_count": 0,
      "outputs": [
        {
          "output_type": "stream",
          "text": [
            "246.2458\n"
          ],
          "name": "stdout"
        },
        {
          "output_type": "error",
          "ename": "TypeError",
          "evalue": "ignored",
          "traceback": [
            "\u001b[0;31m---------------------------------------------------------------------------\u001b[0m",
            "\u001b[0;31mTypeError\u001b[0m                                 Traceback (most recent call last)",
            "\u001b[0;32m<ipython-input-24-4b121ba73fcb>\u001b[0m in \u001b[0;36m<module>\u001b[0;34m()\u001b[0m\n\u001b[1;32m      1\u001b[0m \u001b[0mn\u001b[0m \u001b[0;34m=\u001b[0m \u001b[0;34m\"246.2458\"\u001b[0m\u001b[0;34m\u001b[0m\u001b[0;34m\u001b[0m\u001b[0m\n\u001b[1;32m      2\u001b[0m \u001b[0mprint\u001b[0m\u001b[0;34m(\u001b[0m\u001b[0mfloat\u001b[0m\u001b[0;34m(\u001b[0m\u001b[0mn\u001b[0m\u001b[0;34m)\u001b[0m\u001b[0;34m)\u001b[0m\u001b[0;34m\u001b[0m\u001b[0;34m\u001b[0m\u001b[0m\n\u001b[0;32m----> 3\u001b[0;31m \u001b[0mprint\u001b[0m\u001b[0;34m(\u001b[0m\u001b[0mint\u001b[0m\u001b[0;34m(\u001b[0m\u001b[0mfloat\u001b[0m\u001b[0;34m(\u001b[0m\u001b[0mn\u001b[0m\u001b[0;34m)\u001b[0m\u001b[0;34m)\u001b[0m\u001b[0;34m)\u001b[0m\u001b[0;34m\u001b[0m\u001b[0;34m\u001b[0m\u001b[0m\n\u001b[0m",
            "\u001b[0;31mTypeError\u001b[0m: 'float' object is not callable"
          ]
        }
      ]
    },
    {
      "cell_type": "markdown",
      "metadata": {
        "id": "DsOV00pP-R3L",
        "colab_type": "text"
      },
      "source": [
        "**49, Viết chương trình Python để liệt kê tất cả các tệp trong một thư mục trong Python.**\n",
        "\n",
        "**Write a Python program to list all files in a directory in Python.**\n"
      ]
    },
    {
      "cell_type": "code",
      "metadata": {
        "id": "IRjK_Fhu93PD",
        "colab_type": "code",
        "outputId": "9f23ef0f-d950-4b14-d61c-183cd511ee43",
        "colab": {
          "base_uri": "https://localhost:8080/",
          "height": 214
        }
      },
      "source": [
        "from os import listdir\n",
        "from os.path import isfile, join\n",
        "files_list = [f for f in listdir('/Đồ án/dev') if isfile(join('/Đồ án/dev', f))]\n",
        "print(files_list); # chạy trên colab bị lỗi\n",
        "# ['helloworld.py', 'lesson2.py', 'lesson3.1.py', 'lesson3.py', 'lesson4.py', 'lesson5.py', 'lesson6.py', 'lesson7.py', 'lesson8.py', 'lesson9.py', \n",
        "# 'main.py', 'team.py', 'tuhoc1.py', 'tuhoc2.py', 'tuhoc3.py'] "
      ],
      "execution_count": 0,
      "outputs": [
        {
          "output_type": "error",
          "ename": "FileNotFoundError",
          "evalue": "ignored",
          "traceback": [
            "\u001b[0;31m---------------------------------------------------------------------------\u001b[0m",
            "\u001b[0;31mFileNotFoundError\u001b[0m                         Traceback (most recent call last)",
            "\u001b[0;32m<ipython-input-26-2e0274a09a96>\u001b[0m in \u001b[0;36m<module>\u001b[0;34m()\u001b[0m\n\u001b[1;32m      1\u001b[0m \u001b[0;32mfrom\u001b[0m \u001b[0mos\u001b[0m \u001b[0;32mimport\u001b[0m \u001b[0mlistdir\u001b[0m\u001b[0;34m\u001b[0m\u001b[0;34m\u001b[0m\u001b[0m\n\u001b[1;32m      2\u001b[0m \u001b[0;32mfrom\u001b[0m \u001b[0mos\u001b[0m\u001b[0;34m.\u001b[0m\u001b[0mpath\u001b[0m \u001b[0;32mimport\u001b[0m \u001b[0misfile\u001b[0m\u001b[0;34m,\u001b[0m \u001b[0mjoin\u001b[0m\u001b[0;34m\u001b[0m\u001b[0;34m\u001b[0m\u001b[0m\n\u001b[0;32m----> 3\u001b[0;31m \u001b[0mfiles_list\u001b[0m \u001b[0;34m=\u001b[0m \u001b[0;34m[\u001b[0m\u001b[0mf\u001b[0m \u001b[0;32mfor\u001b[0m \u001b[0mf\u001b[0m \u001b[0;32min\u001b[0m \u001b[0mlistdir\u001b[0m\u001b[0;34m(\u001b[0m\u001b[0;34m'/Đồ án/dev'\u001b[0m\u001b[0;34m)\u001b[0m \u001b[0;32mif\u001b[0m \u001b[0misfile\u001b[0m\u001b[0;34m(\u001b[0m\u001b[0mjoin\u001b[0m\u001b[0;34m(\u001b[0m\u001b[0;34m'/Đồ án/dev'\u001b[0m\u001b[0;34m,\u001b[0m \u001b[0mf\u001b[0m\u001b[0;34m)\u001b[0m\u001b[0;34m)\u001b[0m\u001b[0;34m]\u001b[0m\u001b[0;34m\u001b[0m\u001b[0;34m\u001b[0m\u001b[0m\n\u001b[0m\u001b[1;32m      4\u001b[0m \u001b[0mprint\u001b[0m\u001b[0;34m(\u001b[0m\u001b[0mfiles_list\u001b[0m\u001b[0;34m)\u001b[0m\u001b[0;34m;\u001b[0m\u001b[0;34m\u001b[0m\u001b[0;34m\u001b[0m\u001b[0m\n",
            "\u001b[0;31mFileNotFoundError\u001b[0m: [Errno 2] No such file or directory: '/Đồ án/dev'"
          ]
        }
      ]
    },
    {
      "cell_type": "markdown",
      "metadata": {
        "id": "nDCKspm2_Ct8",
        "colab_type": "text"
      },
      "source": [
        "**50, Viết chương trình Python để in mà không cần dòng mới hay dấu cách?**\n",
        "\n",
        "**Write a Python program to print without newline or space?**\n",
        "\n"
      ]
    },
    {
      "cell_type": "code",
      "metadata": {
        "id": "Nr4JzdOE-aaf",
        "colab_type": "code",
        "outputId": "d24f97b1-c880-4690-9c64-5511dc1185c5",
        "colab": {
          "base_uri": "https://localhost:8080/",
          "height": 51
        }
      },
      "source": [
        "for i in range(0, 10):\n",
        "  print('*', end =\"\") # in ra *, không có dấu cách\n",
        "print(\"\\n\")"
      ],
      "execution_count": 0,
      "outputs": [
        {
          "output_type": "stream",
          "text": [
            "**********\n",
            "\n"
          ],
          "name": "stdout"
        }
      ]
    },
    {
      "cell_type": "markdown",
      "metadata": {
        "id": "Rgelb6K1_iDc",
        "colab_type": "text"
      },
      "source": [
        "**51, Viết chương trình Python để xác định cấu hình chương trình Python.**\n",
        "\n",
        "**Write a Python program to determine profiling of Python programs.**\n",
        "\n",
        "Lưu ý: Cấu hình là một tập hợp các số liệu thống kê mô tả tần suất và thời gian thực hiện các phần khác nhau của chương trình. Các thống kê này có thể được định dạng thành các báo cáo thông qua mô-đun pstats.\n"
      ]
    },
    {
      "cell_type": "code",
      "metadata": {
        "id": "cPBe8EOd_ODH",
        "colab_type": "code",
        "outputId": "fd76804e-665c-4605-d43b-f8fbe2403817",
        "colab": {
          "base_uri": "https://localhost:8080/",
          "height": 459
        }
      },
      "source": [
        "import cProfile\n",
        "def sum():\n",
        "    print(1+2)\n",
        "cProfile.run('sum()')"
      ],
      "execution_count": 0,
      "outputs": [
        {
          "output_type": "stream",
          "text": [
            "3\n",
            "         39 function calls in 0.001 seconds\n",
            "\n",
            "   Ordered by: standard name\n",
            "\n",
            "   ncalls  tottime  percall  cumtime  percall filename:lineno(function)\n",
            "        1    0.000    0.000    0.001    0.001 <ipython-input-29-db52c97772c7>:2(sum)\n",
            "        1    0.000    0.000    0.001    0.001 <string>:1(<module>)\n",
            "        3    0.000    0.000    0.001    0.000 iostream.py:195(schedule)\n",
            "        2    0.000    0.000    0.000    0.000 iostream.py:307(_is_master_process)\n",
            "        2    0.000    0.000    0.000    0.000 iostream.py:320(_schedule_flush)\n",
            "        2    0.000    0.000    0.001    0.000 iostream.py:382(write)\n",
            "        3    0.000    0.000    0.000    0.000 iostream.py:93(_event_pipe)\n",
            "        3    0.000    0.000    0.000    0.000 socket.py:342(send)\n",
            "        3    0.000    0.000    0.000    0.000 threading.py:1062(_wait_for_tstate_lock)\n",
            "        3    0.000    0.000    0.000    0.000 threading.py:1104(is_alive)\n",
            "        3    0.000    0.000    0.000    0.000 threading.py:506(is_set)\n",
            "        1    0.000    0.000    0.001    0.001 {built-in method builtins.exec}\n",
            "        2    0.000    0.000    0.000    0.000 {built-in method builtins.isinstance}\n",
            "        1    0.000    0.000    0.001    0.001 {built-in method builtins.print}\n",
            "        2    0.000    0.000    0.000    0.000 {built-in method posix.getpid}\n",
            "        3    0.000    0.000    0.000    0.000 {method 'acquire' of '_thread.lock' objects}\n",
            "        3    0.000    0.000    0.000    0.000 {method 'append' of 'collections.deque' objects}\n",
            "        1    0.000    0.000    0.000    0.000 {method 'disable' of '_lsprof.Profiler' objects}\n",
            "\n",
            "\n"
          ],
          "name": "stdout"
        }
      ]
    },
    {
      "cell_type": "markdown",
      "metadata": {
        "id": "jnF-bNgtAFTo",
        "colab_type": "text"
      },
      "source": [
        "**52, Viết chương trình Python để in lên stderr.**\n",
        "\n",
        "**Write a Python program to print to stderr.**\n",
        "\n"
      ]
    },
    {
      "cell_type": "code",
      "metadata": {
        "id": "2jg9Z58I_6QB",
        "colab_type": "code",
        "outputId": "97d0e724-1708-404f-e49f-804875d388eb",
        "colab": {
          "base_uri": "https://localhost:8080/",
          "height": 34
        }
      },
      "source": [
        "from __future__ import print_function\n",
        "import sys\n",
        "\n",
        "def eprint(*args, **kwargs):\n",
        "    print(*args, file=sys.stderr, **kwargs)\n",
        "\n",
        "eprint(\"abc\", \"efg\", \"xyz\", sep=\"--\")"
      ],
      "execution_count": 0,
      "outputs": [
        {
          "output_type": "stream",
          "text": [
            "abc--efg--xyz\n"
          ],
          "name": "stderr"
        }
      ]
    },
    {
      "cell_type": "markdown",
      "metadata": {
        "id": "YuImAUzmAXg9",
        "colab_type": "text"
      },
      "source": [
        "**53, Viết chương trình python để truy cập các biến môi trường.**\n",
        "\n",
        "**Write a python program to access environment variables.**\n",
        "\n",
        "\n"
      ]
    },
    {
      "cell_type": "code",
      "metadata": {
        "id": "rsbvK6SKARWh",
        "colab_type": "code",
        "outputId": "f5d65acc-7bc3-4adb-9c39-1a66a703077f",
        "colab": {
          "base_uri": "https://localhost:8080/",
          "height": 156
        }
      },
      "source": [
        "import os\n",
        "# Access all environment variables \n",
        "print('*----------------------------------*')\n",
        "print(os.environ)\n",
        "print('*----------------------------------*')\n",
        "# Access a particular environment variable \n",
        "print(os.environ['HOME'])\n",
        "print('*----------------------------------*')\n",
        "print(os.environ['PATH'])\n",
        "print('*----------------------------------*')"
      ],
      "execution_count": 0,
      "outputs": [
        {
          "output_type": "stream",
          "text": [
            "*----------------------------------*\n",
            "environ({'ENV': '/root/.bashrc', 'GCS_READ_CACHE_BLOCK_SIZE_MB': '16', 'CLOUDSDK_CONFIG': '/content/.config', 'CUDA_VERSION': '10.1.243', 'PATH': '/usr/local/nvidia/bin:/usr/local/cuda/bin:/usr/local/sbin:/usr/local/bin:/usr/sbin:/usr/bin:/sbin:/bin:/tools/node/bin:/tools/google-cloud-sdk/bin:/opt/bin', 'HOME': '/root', 'LD_LIBRARY_PATH': '/usr/local/nvidia/lib:/usr/local/nvidia/lib64', 'LANG': 'en_US.UTF-8', 'SHELL': '/bin/bash', 'LIBRARY_PATH': '/usr/local/cuda/lib64/stubs', 'CUDA_PKG_VERSION': '10-1=10.1.243-1', 'SHLVL': '1', 'GCE_METADATA_TIMEOUT': '0', 'NCCL_VERSION': '2.4.8', 'NVIDIA_VISIBLE_DEVICES': 'all', 'TF_FORCE_GPU_ALLOW_GROWTH': 'true', 'DEBIAN_FRONTEND': 'noninteractive', 'CUDNN_VERSION': '7.6.5.32', 'LAST_FORCED_REBUILD': '20200430', 'JPY_PARENT_PID': '18', 'PYTHONPATH': '/env/python', 'DATALAB_SETTINGS_OVERRIDES': '{\"kernelManagerProxyPort\":6000,\"kernelManagerProxyHost\":\"172.28.0.3\",\"jupyterArgs\":[\"--ip=\\\\\"172.28.0.2\\\\\"\"]}', 'NO_GCE_CHECK': 'True', 'GLIBCXX_FORCE_NEW': '1', 'NVIDIA_DRIVER_CAPABILITIES': 'compute,utility', '_': '/tools/node/bin/node', 'LD_PRELOAD': '/usr/lib/x86_64-linux-gnu/libtcmalloc.so.4', 'NVIDIA_REQUIRE_CUDA': 'cuda>=10.1 brand=tesla,driver>=384,driver<385 brand=tesla,driver>=396,driver<397 brand=tesla,driver>=410,driver<411', 'OLDPWD': '/', 'HOSTNAME': '52bc896027bb', 'COLAB_GPU': '0', 'PWD': '/', 'GLIBCPP_FORCE_NEW': '1', 'PYTHONWARNINGS': 'ignore:::pip._internal.cli.base_command', 'TBE_CREDS_ADDR': '172.28.0.1:8008', 'TERM': 'xterm-color', 'CLICOLOR': '1', 'PAGER': 'cat', 'GIT_PAGER': 'cat', 'MPLBACKEND': 'module://ipykernel.pylab.backend_inline'})\n",
            "*----------------------------------*\n",
            "/root\n",
            "*----------------------------------*\n",
            "/usr/local/nvidia/bin:/usr/local/cuda/bin:/usr/local/sbin:/usr/local/bin:/usr/sbin:/usr/bin:/sbin:/bin:/tools/node/bin:/tools/google-cloud-sdk/bin:/opt/bin\n",
            "*----------------------------------*\n"
          ],
          "name": "stdout"
        }
      ]
    },
    {
      "cell_type": "markdown",
      "metadata": {
        "id": "J0aKs81MAuJv",
        "colab_type": "text"
      },
      "source": [
        "**54, Viết chương trình Python để lấy tên người dùng hiện tại.**\n",
        "\n",
        "**Write a Python program to get the current username.**\n"
      ]
    },
    {
      "cell_type": "code",
      "metadata": {
        "id": "WbEKVJY6Aixj",
        "colab_type": "code",
        "outputId": "3a3f77f6-0edf-415a-b809-ee65dca3d961",
        "colab": {
          "base_uri": "https://localhost:8080/",
          "height": 34
        }
      },
      "source": [
        "import getpass\n",
        "print(getpass.getuser())"
      ],
      "execution_count": 0,
      "outputs": [
        {
          "output_type": "stream",
          "text": [
            "root\n"
          ],
          "name": "stdout"
        }
      ]
    },
    {
      "cell_type": "markdown",
      "metadata": {
        "id": "LB1yV2fWBFX0",
        "colab_type": "text"
      },
      "source": [
        "**55, Viết Python để tìm địa chỉ IP cục bộ bằng stdlib của Python.**\n",
        " \n",
        "**Write a Python to find local IP addresses using Python's stdlib.**\n",
        "\n"
      ]
    },
    {
      "cell_type": "code",
      "metadata": {
        "id": "SXvrXZFlA5ke",
        "colab_type": "code",
        "outputId": "176ecbfb-073d-45a7-88e4-950095e6d62f",
        "colab": {
          "base_uri": "https://localhost:8080/",
          "height": 34
        }
      },
      "source": [
        "import socket\n",
        "print([l for l in ([ip for ip in socket.gethostbyname_ex(socket.gethostname())[2] \n",
        "if not ip.startswith(\"127.\")][:1], [[(s.connect(('8.8.8.8', 53)), \n",
        "s.getsockname()[0], s.close()) for s in [socket.socket(socket.AF_INET, \n",
        "socket.SOCK_DGRAM)]][0][1]]) if l][0][0])"
      ],
      "execution_count": 0,
      "outputs": [
        {
          "output_type": "stream",
          "text": [
            "172.28.0.2\n"
          ],
          "name": "stdout"
        }
      ]
    },
    {
      "cell_type": "markdown",
      "metadata": {
        "id": "gzSc5Ij3BVbr",
        "colab_type": "text"
      },
      "source": [
        "**56, Viết chương trình Python để lấy chiều cao và chiều rộng của cửa sổ giao diện điều khiển.**\n",
        "\n",
        "**Write a Python program to get height and the width of console window.**\n",
        "\n"
      ]
    },
    {
      "cell_type": "code",
      "metadata": {
        "id": "lut7doE1BMUZ",
        "colab_type": "code",
        "outputId": "1dadb56b-28a7-4f0b-c4c6-284dd609ed43",
        "colab": {
          "base_uri": "https://localhost:8080/",
          "height": 316
        }
      },
      "source": [
        "def terminal_size():\n",
        "    import fcntl, termios, struct\n",
        "    th, tw, hp, wp = struct.unpack('HHHH',\n",
        "        fcntl.ioctl(0, termios.TIOCGWINSZ,\n",
        "        struct.pack('HHHH', 0, 0, 0, 0)))\n",
        "    return tw, th\n",
        "\n",
        "print('Number of columns and Rows: ',terminal_size()) # chưa chạy được"
      ],
      "execution_count": 0,
      "outputs": [
        {
          "output_type": "error",
          "ename": "OSError",
          "evalue": "ignored",
          "traceback": [
            "\u001b[0;31m---------------------------------------------------------------------------\u001b[0m",
            "\u001b[0;31mOSError\u001b[0m                                   Traceback (most recent call last)",
            "\u001b[0;32m<ipython-input-34-940ca9246741>\u001b[0m in \u001b[0;36m<module>\u001b[0;34m()\u001b[0m\n\u001b[1;32m      6\u001b[0m     \u001b[0;32mreturn\u001b[0m \u001b[0mtw\u001b[0m\u001b[0;34m,\u001b[0m \u001b[0mth\u001b[0m\u001b[0;34m\u001b[0m\u001b[0;34m\u001b[0m\u001b[0m\n\u001b[1;32m      7\u001b[0m \u001b[0;34m\u001b[0m\u001b[0m\n\u001b[0;32m----> 8\u001b[0;31m \u001b[0mprint\u001b[0m\u001b[0;34m(\u001b[0m\u001b[0;34m'Number of columns and Rows: '\u001b[0m\u001b[0;34m,\u001b[0m\u001b[0mterminal_size\u001b[0m\u001b[0;34m(\u001b[0m\u001b[0;34m)\u001b[0m\u001b[0;34m)\u001b[0m\u001b[0;34m\u001b[0m\u001b[0;34m\u001b[0m\u001b[0m\n\u001b[0m",
            "\u001b[0;32m<ipython-input-34-940ca9246741>\u001b[0m in \u001b[0;36mterminal_size\u001b[0;34m()\u001b[0m\n\u001b[1;32m      3\u001b[0m     th, tw, hp, wp = struct.unpack('HHHH',\n\u001b[1;32m      4\u001b[0m         fcntl.ioctl(0, termios.TIOCGWINSZ,\n\u001b[0;32m----> 5\u001b[0;31m         struct.pack('HHHH', 0, 0, 0, 0)))\n\u001b[0m\u001b[1;32m      6\u001b[0m     \u001b[0;32mreturn\u001b[0m \u001b[0mtw\u001b[0m\u001b[0;34m,\u001b[0m \u001b[0mth\u001b[0m\u001b[0;34m\u001b[0m\u001b[0;34m\u001b[0m\u001b[0m\n\u001b[1;32m      7\u001b[0m \u001b[0;34m\u001b[0m\u001b[0m\n",
            "\u001b[0;31mOSError\u001b[0m: [Errno 25] Inappropriate ioctl for device"
          ]
        }
      ]
    },
    {
      "cell_type": "markdown",
      "metadata": {
        "id": "K4KNIvt9BsbT",
        "colab_type": "text"
      },
      "source": [
        "**57, Viết chương trình để tính thời gian thực hiện (tính bằng giây) cho phương thức Python.**\n",
        "\n",
        "**Write a program to get execution time (in seconds) for a Python method.**\n",
        "\n"
      ]
    },
    {
      "cell_type": "code",
      "metadata": {
        "id": "7mIkNxboBbxd",
        "colab_type": "code",
        "outputId": "4f19825d-a918-4d68-a053-aab1a10f3bc0",
        "colab": {
          "base_uri": "https://localhost:8080/",
          "height": 68
        }
      },
      "source": [
        "import time\n",
        "def sum_of_n_numbers(n):\n",
        "  start_time = time.time()        # tạo 1 biến start_time = time.time() = 1589431030....\n",
        "  s = 0                           # tạo 1 biến s khởi tạo, ban đầu giá trị = 0\n",
        "  for i in range(1, n+1):         # số lần lặp theo n, từ 1 đến n, vd: n = 5 thì range là 1, 2, 3, 4, 5, tương ứng với i\n",
        "    s = s + i                     # s = s + i sau mỗi lần lặp, i = 1 s = 1, i = 2 s = 3, i = 3 s = 6, i = 4 s = 10 ...\n",
        "  end_time = time.time()          # end_time = time.time(), thời gian mới sau khi lặp lại n lần ở trên\n",
        "  return s, end_time-start_time   # trả về số s, và tính kết quả end_time - start_time, kết quả được đưa vào 1 tuple (15, 0.0022.....)\n",
        "\n",
        "n = 5\n",
        "print(\"\\nTime to sum of 1 to \",n,\" and required time to calculate is :\",sum_of_n_numbers(n))\n",
        "print(time.time())\n"
      ],
      "execution_count": 0,
      "outputs": [
        {
          "output_type": "stream",
          "text": [
            "\n",
            "Time to sum of 1 to  5  and required time to calculate is : (15, 2.1457672119140625e-06)\n",
            "1589431030.5664055\n"
          ],
          "name": "stdout"
        }
      ]
    },
    {
      "cell_type": "markdown",
      "metadata": {
        "id": "iPjy62eQgtla",
        "colab_type": "text"
      },
      "source": [
        "**58, Viết chương trình python để tìm tổng của n số nguyên dương đầu tiên.**\n",
        "\n",
        "**Write a python program to find the sum of the first n positive integers.**\n",
        "\n",
        "![alt text](https://www.w3resource.com/w3r_images/python-basic-image-exercise-58.png)"
      ]
    },
    {
      "cell_type": "code",
      "metadata": {
        "id": "A5knE1uGCC0_",
        "colab_type": "code",
        "outputId": "b278ae47-c4ad-436e-cd70-6ee07cd438f4",
        "colab": {
          "base_uri": "https://localhost:8080/",
          "height": 51
        }
      },
      "source": [
        "n = int(input(\"Input n positive integers: \"))\n",
        "sum = (n*(n+1))/2\n",
        "print(sum)"
      ],
      "execution_count": 0,
      "outputs": [
        {
          "output_type": "stream",
          "text": [
            "Input n positive integers: 8\n",
            "36.0\n"
          ],
          "name": "stdout"
        }
      ]
    },
    {
      "cell_type": "markdown",
      "metadata": {
        "id": "HDV1W798hl9v",
        "colab_type": "text"
      },
      "source": [
        "**59, Viết chương trình Python để chuyển đổi chiều cao (tính bằng feet và inch) sang cm.**\n",
        "\n",
        "**Write a Python program to convert height (in feet and inches) to centimeters.**\n",
        "\n",
        "![alt text](https://www.w3resource.com/w3r_images/python-basic-image-exercise-59.png)"
      ]
    },
    {
      "cell_type": "code",
      "metadata": {
        "id": "e2UUA55jhZ6F",
        "colab_type": "code",
        "outputId": "f924e523-e938-4890-bfed-497fa768ee7c",
        "colab": {
          "base_uri": "https://localhost:8080/",
          "height": 85
        }
      },
      "source": [
        "print(\"Input your height: \") # Hiển thị mời nhập\n",
        "h_ft = int(input(\"Feet: \"))  # Nhập feet\n",
        "h_inch = int(input(\"Inch: \"))# Nhập inch\n",
        "\n",
        "h_inch += h_ft *12           # biến h_inch mới, được tính bằng inch = inch + feet*12\n",
        "h_cm = round(h_inch *2.54, 1)# biến cm, bằng biến inch mới *2.54, làm tròn tới 1 chữ số thập phân\n",
        "\n",
        "print(\"Your height is: %d cm\"% h_cm)"
      ],
      "execution_count": 0,
      "outputs": [
        {
          "output_type": "stream",
          "text": [
            "Input your height: \n",
            "Feet: 10\n",
            "Inch: 10\n",
            "Your height is: 330 cm\n"
          ],
          "name": "stdout"
        }
      ]
    },
    {
      "cell_type": "markdown",
      "metadata": {
        "id": "8Xz5QpE1jcVK",
        "colab_type": "text"
      },
      "source": [
        "**60, Viết chương trình Python để tính cạnh huyền của một tam giác góc vuông.**\n",
        "\n",
        "**Write a Python program to calculate the hypotenuse of a right angled triangle.**\n",
        "\n",
        "![alt text](https://www.w3resource.com/w3r_images/python-basic-image-exercise-60.png)"
      ]
    },
    {
      "cell_type": "code",
      "metadata": {
        "id": "jIsf6d5hiPXA",
        "colab_type": "code",
        "outputId": "71958dc2-1a73-4884-ab35-b6c6396dc49d",
        "colab": {
          "base_uri": "https://localhost:8080/",
          "height": 85
        }
      },
      "source": [
        "import math\n",
        "print(\"Input canh cua tam giac vuong: \")\n",
        "ab = int(input(\"Nhap canh AB: \"))\n",
        "bc = int(input(\"Nhap canh BC: \"))\n",
        "ac = math.sqrt(ab**2 + bc**2)\n",
        "print(\"Canh huyen cua tam giac la: \", ac) \n",
        "\n",
        "\"\"\" Cách 2:\n",
        "from math import sqrt\n",
        "print(\"Input lengths of shorter triangle sides:\")\n",
        "a = float(input(\"a: \"))\n",
        "b = float(input(\"b: \"))\n",
        "\n",
        "c = sqrt(a**2 + b**2)\n",
        "print(\"The length of the hypotenuse is\", c )\"\"\""
      ],
      "execution_count": 0,
      "outputs": [
        {
          "output_type": "stream",
          "text": [
            "Input canh cua tam giac vuong: \n",
            "Nhap canh AB: 4\n",
            "Nhap canh BC: 3\n",
            "Canh huyen cua tam giac la:  5.0\n"
          ],
          "name": "stdout"
        }
      ]
    },
    {
      "cell_type": "markdown",
      "metadata": {
        "id": "nlYMN0n-lAR3",
        "colab_type": "text"
      },
      "source": [
        "**61, Viết một chương trình Python để chuyển đổi khoảng cách (theo feet) thành inches, yards, miles**\n",
        "\n",
        "**Write a Python program to convert the distance (in feet) to inches, yards, and miles.**\n",
        "\n",
        "![alt text](https://www.w3resource.com/w3r_images/python-basic-image-exercise-61.png)"
      ]
    },
    {
      "cell_type": "code",
      "metadata": {
        "id": "sbiM4VIykEX4",
        "colab_type": "code",
        "outputId": "b26f1917-76b8-43a4-87a7-87abcae5b0d7",
        "colab": {
          "base_uri": "https://localhost:8080/",
          "height": 85
        }
      },
      "source": [
        "feet = float(input(\"Nhap khoang cach theo feet: \"))\n",
        "inch = feet*12\n",
        "yard = feet / 3.0\n",
        "mile = yard/1760.0\n",
        "print(\"Khoang cach theo inch la: \", inch)\n",
        "print(\"Khoang cach theo yard la: \", yard)\n",
        "print(\"Khoang cach theo mile la: \", mile)\n"
      ],
      "execution_count": 0,
      "outputs": [
        {
          "output_type": "stream",
          "text": [
            "Nhap khoang cach theo feet: 100\n",
            "Khoang cach theo inch la:  1200.0\n",
            "Khoang cach theo yard la:  33.333333333333336\n",
            "Khoang cach theo mile la:  0.01893939393939394\n"
          ],
          "name": "stdout"
        }
      ]
    },
    {
      "cell_type": "markdown",
      "metadata": {
        "id": "00-cI6e4oIHw",
        "colab_type": "text"
      },
      "source": [
        "**62, Viết chương trình Python để chuyển đổi tất cả các đơn vị thời gian thành giây.**\n",
        "\n",
        "**Write a Python program to convert all units of time into seconds.**\n",
        "\n",
        "![alt text](https://www.w3resource.com/w3r_images/python-basic-image-exercise-62.png)"
      ]
    },
    {
      "cell_type": "code",
      "metadata": {
        "id": "JYnH0vCUmLO3",
        "colab_type": "code",
        "outputId": "3dde0630-f7ce-408e-af4b-bea966ec2d74",
        "colab": {
          "base_uri": "https://localhost:8080/",
          "height": 102
        }
      },
      "source": [
        "days = int(input(\"Nhap vao so ngay: \"))\n",
        "days = days * 3600 * 24\n",
        "hours = int(input(\"Nhap vao so gio: \"))\n",
        "hours = hours * 3600\n",
        "minute = int(input(\"Nhap vao so phut: \"))\n",
        "minute = minute * 60\n",
        "seconds = int(input(\"Nhao vao so giay: \"))\n",
        "\n",
        "time = days + hours + minute + seconds\n",
        "print(\"Thoi gian tinh theo giay la: \", time)\n",
        "\n",
        "\"\"\"Cách 2: \n",
        "days = int(input(\"Input days: \")) * 3600 * 24\n",
        "hours = int(input(\"Input hours: \")) * 3600\n",
        "minutes = int(input(\"Input minutes: \")) * 60\n",
        "seconds = int(input(\"Input seconds: \"))\n",
        "\n",
        "time = days + hours + minutes + seconds\n",
        "\n",
        "print(\"The  amounts of seconds\", time)\"\"\""
      ],
      "execution_count": 0,
      "outputs": [
        {
          "output_type": "stream",
          "text": [
            "Nhap vao so ngay: 2\n",
            "Nhap vao so gio: 24\n",
            "Nhap vao so phut: 54\n",
            "Nhao vao so giay: 44\n",
            "Thoi gian tinh theo giay la:  262484\n"
          ],
          "name": "stdout"
        }
      ]
    },
    {
      "cell_type": "markdown",
      "metadata": {
        "id": "-G__vI5PqFe8",
        "colab_type": "text"
      },
      "source": [
        "**63, Viết chương trình Python để có đường dẫn tệp tuyệt đối.**\n",
        "\n",
        "**Write a Python program to get an absolute file path.**\n",
        "\n"
      ]
    },
    {
      "cell_type": "code",
      "metadata": {
        "id": "qKCzX-lkpRVY",
        "colab_type": "code",
        "outputId": "7aad3173-2236-4ad6-ce18-63313bf63efe",
        "colab": {
          "base_uri": "https://localhost:8080/",
          "height": 34
        }
      },
      "source": [
        "def absolute_file_path(path_fname):\n",
        "        import os\n",
        "        return os.path.abspath('path_fname')        \n",
        "print(\"Absolute file path: \",absolute_file_path(\"test.txt\"))"
      ],
      "execution_count": 0,
      "outputs": [
        {
          "output_type": "stream",
          "text": [
            "Absolute file path:  /content/path_fname\n"
          ],
          "name": "stdout"
        }
      ]
    },
    {
      "cell_type": "markdown",
      "metadata": {
        "id": "kvFSbfRIqmR6",
        "colab_type": "text"
      },
      "source": [
        "**64, Viết chương trình Python để lấy ngày / lần sửa đổi tệp.**\n",
        "\n",
        "**Write a Python program to get file creation and modification date/times.**"
      ]
    },
    {
      "cell_type": "code",
      "metadata": {
        "id": "C247LQWOqPVy",
        "colab_type": "code",
        "outputId": "482eca43-fcc3-42b0-9af2-6208cfdd9a53",
        "colab": {
          "base_uri": "https://localhost:8080/",
          "height": 316
        }
      },
      "source": [
        "import os.path, time\n",
        "print(\"Last modified: %s\" % time.ctime(os.path.getmtime(\"test.txt\")))\n",
        "print(\"Created: %s\" % time.ctime(os.path.getctime(\"test.txt\")))"
      ],
      "execution_count": 0,
      "outputs": [
        {
          "output_type": "error",
          "ename": "FileNotFoundError",
          "evalue": "ignored",
          "traceback": [
            "\u001b[0;31m---------------------------------------------------------------------------\u001b[0m",
            "\u001b[0;31mFileNotFoundError\u001b[0m                         Traceback (most recent call last)",
            "\u001b[0;32m<ipython-input-15-425837321292>\u001b[0m in \u001b[0;36m<module>\u001b[0;34m()\u001b[0m\n\u001b[1;32m      1\u001b[0m \u001b[0;32mimport\u001b[0m \u001b[0mos\u001b[0m\u001b[0;34m.\u001b[0m\u001b[0mpath\u001b[0m\u001b[0;34m,\u001b[0m \u001b[0mtime\u001b[0m\u001b[0;34m\u001b[0m\u001b[0;34m\u001b[0m\u001b[0m\n\u001b[0;32m----> 2\u001b[0;31m \u001b[0mprint\u001b[0m\u001b[0;34m(\u001b[0m\u001b[0;34m\"Last modified: %s\"\u001b[0m \u001b[0;34m%\u001b[0m \u001b[0mtime\u001b[0m\u001b[0;34m.\u001b[0m\u001b[0mctime\u001b[0m\u001b[0;34m(\u001b[0m\u001b[0mos\u001b[0m\u001b[0;34m.\u001b[0m\u001b[0mpath\u001b[0m\u001b[0;34m.\u001b[0m\u001b[0mgetmtime\u001b[0m\u001b[0;34m(\u001b[0m\u001b[0;34m\"test.txt\"\u001b[0m\u001b[0;34m)\u001b[0m\u001b[0;34m)\u001b[0m\u001b[0;34m)\u001b[0m\u001b[0;34m\u001b[0m\u001b[0;34m\u001b[0m\u001b[0m\n\u001b[0m\u001b[1;32m      3\u001b[0m \u001b[0mprint\u001b[0m\u001b[0;34m(\u001b[0m\u001b[0;34m\"Created: %s\"\u001b[0m \u001b[0;34m%\u001b[0m \u001b[0mtime\u001b[0m\u001b[0;34m.\u001b[0m\u001b[0mctime\u001b[0m\u001b[0;34m(\u001b[0m\u001b[0mos\u001b[0m\u001b[0;34m.\u001b[0m\u001b[0mpath\u001b[0m\u001b[0;34m.\u001b[0m\u001b[0mgetctime\u001b[0m\u001b[0;34m(\u001b[0m\u001b[0;34m\"test.txt\"\u001b[0m\u001b[0;34m)\u001b[0m\u001b[0;34m)\u001b[0m\u001b[0;34m)\u001b[0m\u001b[0;34m\u001b[0m\u001b[0;34m\u001b[0m\u001b[0m\n",
            "\u001b[0;32m/usr/lib/python3.6/genericpath.py\u001b[0m in \u001b[0;36mgetmtime\u001b[0;34m(filename)\u001b[0m\n\u001b[1;32m     53\u001b[0m \u001b[0;32mdef\u001b[0m \u001b[0mgetmtime\u001b[0m\u001b[0;34m(\u001b[0m\u001b[0mfilename\u001b[0m\u001b[0;34m)\u001b[0m\u001b[0;34m:\u001b[0m\u001b[0;34m\u001b[0m\u001b[0;34m\u001b[0m\u001b[0m\n\u001b[1;32m     54\u001b[0m     \u001b[0;34m\"\"\"Return the last modification time of a file, reported by os.stat().\"\"\"\u001b[0m\u001b[0;34m\u001b[0m\u001b[0;34m\u001b[0m\u001b[0m\n\u001b[0;32m---> 55\u001b[0;31m     \u001b[0;32mreturn\u001b[0m \u001b[0mos\u001b[0m\u001b[0;34m.\u001b[0m\u001b[0mstat\u001b[0m\u001b[0;34m(\u001b[0m\u001b[0mfilename\u001b[0m\u001b[0;34m)\u001b[0m\u001b[0;34m.\u001b[0m\u001b[0mst_mtime\u001b[0m\u001b[0;34m\u001b[0m\u001b[0;34m\u001b[0m\u001b[0m\n\u001b[0m\u001b[1;32m     56\u001b[0m \u001b[0;34m\u001b[0m\u001b[0m\n\u001b[1;32m     57\u001b[0m \u001b[0;34m\u001b[0m\u001b[0m\n",
            "\u001b[0;31mFileNotFoundError\u001b[0m: [Errno 2] No such file or directory: 'test.txt'"
          ]
        }
      ]
    },
    {
      "cell_type": "markdown",
      "metadata": {
        "id": "w9WlRM-GrSL7",
        "colab_type": "text"
      },
      "source": [
        "**65, Viết chương trình Python để chuyển đổi giây thành ngày, giờ, phút và giây.**\n",
        "\n",
        "**Write a Python program to convert seconds to day, hour, minutes and seconds.**\n",
        "\n",
        "![alt text](https://www.w3resource.com/w3r_images/python-basic-image-exercise-65.png)"
      ]
    },
    {
      "cell_type": "code",
      "metadata": {
        "id": "SOxqp0FUqwu8",
        "colab_type": "code",
        "outputId": "a8c88dec-89ad-42d6-e878-533da44c5bc6",
        "colab": {
          "base_uri": "https://localhost:8080/",
          "height": 51
        }
      },
      "source": [
        "time = float(input(\"Input time in seconds: \"))  # nhập số giây để chuyển đổi\n",
        "day = time // (24 * 3600)                       # chia lấy số nguyên, ngày\n",
        "time = time % (24*3600)                         # sau khi chia được số ngày, hạ số giây tính ra được đi, cập nhật time mới\n",
        "hour = time // 3600                             # chia lấy số nguyên, giờ\n",
        "time %= 3600                                    # sau khi chia được số giờ, hạ số giây tính được đi, cập nhật time mới\n",
        "minutes = time // 60                            # chia lấy số nguyên, phút\n",
        "time %= 60                                      # sau khi chia được số phút, hạ số giây tính được đi, cập nhật time mới\n",
        "seconds = time                                  # second = time, số giây\n",
        "print(\"d:h:m:s -> %d:%d:%d:%d\" % (day, hour, minutes, seconds))"
      ],
      "execution_count": 0,
      "outputs": [
        {
          "output_type": "stream",
          "text": [
            "Input time in seconds: 86399\n",
            "d:h:m:s -> 0:23:59:59\n"
          ],
          "name": "stdout"
        }
      ]
    },
    {
      "cell_type": "markdown",
      "metadata": {
        "id": "5FVLk9j1uoIw",
        "colab_type": "text"
      },
      "source": [
        "**66, Viết chương trình Python để tính chỉ số khối cơ thể.**\n",
        "\n",
        "**Write a Python program to calculate body mass index.**\n",
        "\n",
        "![alt text](https://www.w3resource.com/w3r_images/python-basic-image-exercise-66.png)"
      ]
    },
    {
      "cell_type": "code",
      "metadata": {
        "id": "wbvMJtmlsB5t",
        "colab_type": "code",
        "outputId": "1c163f13-78ec-45c2-a4cc-bef59c1ec238",
        "colab": {
          "base_uri": "https://localhost:8080/",
          "height": 68
        }
      },
      "source": [
        "w = float(input(\"Nhap vao so can nang: \"))\n",
        "h = float(input(\"Nhap vao so chieu cao: \"))\n",
        "bmi = w/(h*h)\n",
        "print(\"Chi so BMI cua ban la: \", bmi)\n",
        "\n",
        "\"\"\" Cách 2: \n",
        "height = float(input(\"Input your height in meters: \"))\n",
        "weight = float(input(\"Input your weight in kilogram: \"))\n",
        "print(\"Your body mass index is: \", round(weight / (height * height), 2))\"\"\""
      ],
      "execution_count": 0,
      "outputs": [
        {
          "output_type": "stream",
          "text": [
            "Nhap vao so can nang: 62\n",
            "Nhap vao so chieu cao: 1.7\n",
            "Chi so BMI cua ban la:  21.453287197231838\n"
          ],
          "name": "stdout"
        }
      ]
    },
    {
      "cell_type": "markdown",
      "metadata": {
        "id": "A8979BwJv8fC",
        "colab_type": "text"
      },
      "source": [
        "**67, Viết chương trình Python để chuyển đổi áp suất tính bằng kilopascal thành pound trên một inch vuông, một milimét thủy ngân (mmHg) và áp suất khí quyển.**\n",
        "\n",
        "**Write a Python program to convert pressure in kilopascals to pounds per square inch,a millimeter of mercury (mmHg) and atmosphere pressure.**\n",
        "\n",
        "![alt text](https://www.w3resource.com/w3r_images/python-basic-image-exercise-67.png)"
      ]
    },
    {
      "cell_type": "code",
      "metadata": {
        "id": "39vzcrCavCvD",
        "colab_type": "code",
        "outputId": "f0d15192-257c-40e0-ab0d-a13519b0e927",
        "colab": {
          "base_uri": "https://localhost:8080/",
          "height": 85
        }
      },
      "source": [
        "kpa = float(input(\"Input pressure in in kilopascals> \"))\n",
        "psi = kpa / 6.89475729\n",
        "mmhg = kpa * 760 / 101.325\n",
        "atm = kpa / 101.325\n",
        "print(\"The pressure in pounds per square inch: %.2f psi\"  % (psi))\n",
        "print(\"The pressure in millimeter of mercury: %.2f mmHg\" % (mmhg))\n",
        "print(\"Atmosphere pressure: %.2f atm.\" % (atm))"
      ],
      "execution_count": 0,
      "outputs": [
        {
          "output_type": "stream",
          "text": [
            "Input pressure in in kilopascals> 12.35\n",
            "The pressure in pounds per square inch: 1.79 psi\n",
            "The pressure in millimeter of mercury: 92.63 mmHg\n",
            "Atmosphere pressure: 0.12 atm.\n"
          ],
          "name": "stdout"
        }
      ]
    },
    {
      "cell_type": "markdown",
      "metadata": {
        "id": "oTI4eKBexAp4",
        "colab_type": "text"
      },
      "source": [
        "**68, Viết chương trình Python để tính tổng các chữ số trong một số nguyên.**\n",
        "\n",
        "**Write a Python program to calculate the sum of the digits in an integer.**\n",
        "\n",
        "![alt text](https://www.w3resource.com/w3r_images/python-basic-image-exercise-68.png)"
      ]
    },
    {
      "cell_type": "code",
      "metadata": {
        "id": "xEgZMSprwb-b",
        "colab_type": "code",
        "outputId": "66eef0c6-9a1a-47c0-a1ee-dcac94fc467c",
        "colab": {
          "base_uri": "https://localhost:8080/",
          "height": 51
        }
      },
      "source": [
        "num= int(input(\"Nhap vao  1 so: \"))\n",
        "x = num // 1000                                 # chia lấy phần nguyên, 5245/1000 = 5\n",
        "x1 = (num - x*1000) // 100                      # 5245 - 5000 = 245, chia lấy phần nguyên 245/100 = 2\n",
        "x2 = (num - x*1000 - x1*100) // 10              # 5245 - 5000 - 200 = 45, chia lấy nguyên 45/10 = 4\n",
        "x3 = num - x*1000 - x1*100 - x2*10              # 5245 - 50000 - 200 - 40 = 5\n",
        "print(\"The sum of digits in the number is\", x+x1+x2+x3) # cổng tổng các biến trên tính được lai với nhau"
      ],
      "execution_count": 0,
      "outputs": [
        {
          "output_type": "stream",
          "text": [
            "Nhap vao  1 so: 5245\n",
            "The sum of digits in the number is 16\n"
          ],
          "name": "stdout"
        }
      ]
    },
    {
      "cell_type": "markdown",
      "metadata": {
        "id": "7YdLwEB7yzGT",
        "colab_type": "text"
      },
      "source": [
        "**69, Viết chương trình Python để sắp xếp ba số nguyên mà không cần sử dụng các câu lệnh và vòng lặp có điều kiện.**\n",
        "\n",
        "**Write a Python program to sort three integers without using conditional statements and loops.**\n",
        "\n",
        "![alt text](https://www.w3resource.com/w3r_images/python-basic-image-exercise-69.png)"
      ]
    },
    {
      "cell_type": "code",
      "metadata": {
        "id": "u1v94JWtx7Od",
        "colab_type": "code",
        "outputId": "b7b339ce-6274-4732-b566-d6ed7b169603",
        "colab": {
          "base_uri": "https://localhost:8080/",
          "height": 85
        }
      },
      "source": [
        "x = int(input(\"Input first number: \"))\n",
        "y = int(input(\"Input second number: \"))\n",
        "z = int(input(\"Input third number: \"))\n",
        "\n",
        "a1 = min(x, y, z)         # tìm min, xếp thành a1 đầu tiên\n",
        "a3 = max(x, y, z)         # tìm max, xếp thành a3 cuối cùng\n",
        "a2 = (x + y + z) - a1 - a3 # tìm middle, cách tìm là có 3 số, đã tìm được 2 số thì trừ đi sẽ tìm được số còn lại, cộng tổng và trừ đi 2 số tìm được\n",
        "print(\"Number in sorted order: \", a1, a2, a3)"
      ],
      "execution_count": 0,
      "outputs": [
        {
          "output_type": "stream",
          "text": [
            "Input first number: 3213\n",
            "Input second number: 34214\n",
            "Input third number: 2222\n",
            "Number in sorted order:  2222 3213 34214\n"
          ],
          "name": "stdout"
        }
      ]
    },
    {
      "cell_type": "markdown",
      "metadata": {
        "id": "ws1CSDiN0DY2",
        "colab_type": "text"
      },
      "source": [
        "**70, Viết chương trình Python để sắp xếp các tệp theo ngày.**\n",
        "\n",
        "**Write a Python program to sort files by date.**\n",
        "\n"
      ]
    },
    {
      "cell_type": "code",
      "metadata": {
        "id": "lvXnT9xOznYD",
        "colab_type": "code",
        "outputId": "55cd92c3-4383-4e3a-f4dc-9819becd2c08",
        "colab": {
          "base_uri": "https://localhost:8080/",
          "height": 34
        }
      },
      "source": [
        "import glob\n",
        "import os\n",
        "\n",
        "files = glob.glob(\"*.txt\")\n",
        "files.sort(key=os.path.getmtime)\n",
        "print(\"\\n\".join(files))"
      ],
      "execution_count": 0,
      "outputs": [
        {
          "output_type": "stream",
          "text": [
            "\n"
          ],
          "name": "stdout"
        }
      ]
    },
    {
      "cell_type": "code",
      "metadata": {
        "id": "JQxoIjU80Jr6",
        "colab_type": "code",
        "colab": {}
      },
      "source": [
        ""
      ],
      "execution_count": 0,
      "outputs": []
    }
  ]
}