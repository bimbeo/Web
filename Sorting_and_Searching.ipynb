{
  "nbformat": 4,
  "nbformat_minor": 0,
  "metadata": {
    "colab": {
      "name": "Sorting and Searching.ipynb",
      "provenance": [],
      "authorship_tag": "ABX9TyP/4VYSv8IeqvdivhqVK+dS",
      "include_colab_link": true
    },
    "kernelspec": {
      "name": "python3",
      "display_name": "Python 3"
    }
  },
  "cells": [
    {
      "cell_type": "markdown",
      "metadata": {
        "id": "view-in-github",
        "colab_type": "text"
      },
      "source": [
        "<a href=\"https://colab.research.google.com/github/bimbeo/Web/blob/master/Sorting_and_Searching.ipynb\" target=\"_parent\"><img src=\"https://colab.research.google.com/assets/colab-badge.svg\" alt=\"Open In Colab\"/></a>"
      ]
    },
    {
      "cell_type": "markdown",
      "metadata": {
        "id": "sNCEfI-9nwRL",
        "colab_type": "text"
      },
      "source": [
        "**1, Viết chương trình NumPy để sắp xếp một mảng đã cho có hình 2 dọc theo trục đầu tiên, trục cuối cùng và trên mảng được làm phẳng.**\n",
        "\n",
        "**Write a NumPy program to sort a given array of shape 2 along the first axis, last axis and on flattened array.**\n",
        "\n",
        "![alt text](https://www.w3resource.com/w3r_images/numpy-sorting-and-searching-image-exercise-1.svg)"
      ]
    },
    {
      "cell_type": "code",
      "metadata": {
        "id": "SFA_rtwInjm6",
        "colab_type": "code",
        "colab": {
          "base_uri": "https://localhost:8080/",
          "height": 204
        },
        "outputId": "a33fc5fa-3909-4b84-bd3b-c63e549324af"
      },
      "source": [
        "import numpy as np\n",
        "a = np.array([[10, 40], [30,20]])\n",
        "print(\"Original array: \")\n",
        "print(a)\n",
        "print(\"Sort the array along the first axis: \")\n",
        "print(np.sort(a, axis=0))\n",
        "print(\"Sort the array along the last axis: \")\n",
        "print(np.sort(a))\n",
        "print(\"Sort the flattended array: \")\n",
        "print(np.sort(a, axis=None))"
      ],
      "execution_count": 2,
      "outputs": [
        {
          "output_type": "stream",
          "text": [
            "Original array: \n",
            "[[10 40]\n",
            " [30 20]]\n",
            "Sort the array along the first axis: \n",
            "[[10 20]\n",
            " [30 40]]\n",
            "Sort the array along the last axis: \n",
            "[[10 40]\n",
            " [20 30]]\n",
            "Sort the flattended array: \n",
            "[10 20 30 40]\n"
          ],
          "name": "stdout"
        }
      ]
    },
    {
      "cell_type": "markdown",
      "metadata": {
        "id": "P_AhPHapoWen",
        "colab_type": "text"
      },
      "source": [
        "**2, Viết chương trình NumPy để tạo một mảng có cấu trúc từ tên sinh viên, chiều cao, lớp và các kiểu dữ liệu của họ. Bây giờ sắp xếp các mảng theo chiều cao.**\n",
        "\n",
        "**Write a NumPy program to create a structured array from given student name, height, class and their data types. Now sort the array on height.**\n",
        "\n",
        "![alt text](https://www.w3resource.com/w3r_images/numpy-sorting-and-searching-image-exercise-2.svg)"
      ]
    },
    {
      "cell_type": "code",
      "metadata": {
        "id": "RBrx2DjYoPo0",
        "colab_type": "code",
        "colab": {
          "base_uri": "https://localhost:8080/",
          "height": 119
        },
        "outputId": "e26bc119-a196-4d37-c3a7-ba6d161cca8e"
      },
      "source": [
        "data_type = [('name', 'S15'), ('class', int), ('height', float)]\n",
        "students_details = [('James', 5, 48.5), ('Nail', 6, 52.5),('Paul', 5, 42.10), ('Pit', 5, 40.11)]\n",
        "students = np.array(students_details, dtype=data_type)\n",
        "print(\"Original array: \")\n",
        "print(students)\n",
        "print(\"Sort by height\")\n",
        "print(np.sort(students, order='height'))"
      ],
      "execution_count": 4,
      "outputs": [
        {
          "output_type": "stream",
          "text": [
            "Original array: \n",
            "[(b'James', 5, 48.5 ) (b'Nail', 6, 52.5 ) (b'Paul', 5, 42.1 )\n",
            " (b'Pit', 5, 40.11)]\n",
            "Sort by height\n",
            "[(b'Pit', 5, 40.11) (b'Paul', 5, 42.1 ) (b'James', 5, 48.5 )\n",
            " (b'Nail', 6, 52.5 )]\n"
          ],
          "name": "stdout"
        }
      ]
    },
    {
      "cell_type": "markdown",
      "metadata": {
        "id": "ktJcBVVxpCzv",
        "colab_type": "text"
      },
      "source": [
        "**3, Viết chương trình NumPy để tạo một mảng có cấu trúc từ tên sinh viên, chiều cao, lớp và các kiểu dữ liệu của họ. Bây giờ sắp xếp theo lớp, sau đó chiều cao nếu lớp bằng nhau.**\n",
        "\n",
        "**Write a NumPy program to create a structured array from given student name, height, class and their data types. Now sort by class, then height if class are equal.**\n",
        "\n",
        "![alt text](https://www.w3resource.com/w3r_images/numpy-sorting-and-searching-image-exercise-3.svg)"
      ]
    },
    {
      "cell_type": "code",
      "metadata": {
        "id": "mVOnyK6Lo6iq",
        "colab_type": "code",
        "colab": {
          "base_uri": "https://localhost:8080/",
          "height": 119
        },
        "outputId": "7dbf383a-9626-4823-b2a8-54c0b115e944"
      },
      "source": [
        "data_type = [('name', 'S15'), ('class', int), ('height', float)]\n",
        "students_details = [('James', 5, 48.5), ('Nail', 6, 52.5),('Paul', 5, 42.10), ('Pit', 5, 40.11)]\n",
        "# create a structured array\n",
        "students = np.array(students_details, dtype=data_type)   \n",
        "print(\"Original array:\")\n",
        "print(students)\n",
        "print(\"Sort by class, then height if class are equal:\")\n",
        "print(np.sort(students, order=['class', 'height']))"
      ],
      "execution_count": 6,
      "outputs": [
        {
          "output_type": "stream",
          "text": [
            "Original array:\n",
            "[(b'James', 5, 48.5 ) (b'Nail', 6, 52.5 ) (b'Paul', 5, 42.1 )\n",
            " (b'Pit', 5, 40.11)]\n",
            "Sort by class, then height if class are equal:\n",
            "[(b'Pit', 5, 40.11) (b'Paul', 5, 42.1 ) (b'James', 5, 48.5 )\n",
            " (b'Nail', 6, 52.5 )]\n"
          ],
          "name": "stdout"
        }
      ]
    },
    {
      "cell_type": "markdown",
      "metadata": {
        "id": "idenVdy_pZOn",
        "colab_type": "text"
      },
      "source": [
        "**4, Viết chương trình NumPy để sắp xếp id sinh viên với chiều cao tăng dần của sinh viên từ id sinh viên và chiều cao. In các chỉ số nguyên mô tả thứ tự sắp xếp theo nhiều cột và dữ liệu được sắp xếp.**\n",
        "\n",
        "\n",
        "**Write a NumPy program to sort the student id with increasing height of the students from given students id and height. Print the integer indices that describes the sort order by multiple columns and the sorted data.**\n",
        "\n",
        "![alt text](https://www.w3resource.com/w3r_images/numpy-sorting-and-searching-image-exercise-4.svg)\n"
      ]
    },
    {
      "cell_type": "code",
      "metadata": {
        "id": "dASPXKMkpPax",
        "colab_type": "code",
        "colab": {
          "base_uri": "https://localhost:8080/",
          "height": 187
        },
        "outputId": "0f348b1d-7a42-4c4c-8fa2-a3728fd6e519"
      },
      "source": [
        "student_id = np.array([1023, 5202, 6230, 1671, 1682, 5241, 4532])\n",
        "student_height = np.array([40., 42., 45., 41., 38., 40., 42.0])\n",
        "indices = np.lexsort((student_id, student_height))\n",
        "print(\"Sorted indices: \")\n",
        "print(indices)\n",
        "print(\"Sorted data: \")\n",
        "for n in indices:\n",
        "  print(student_id[n], student_height[n])"
      ],
      "execution_count": 7,
      "outputs": [
        {
          "output_type": "stream",
          "text": [
            "Sorted indices: \n",
            "[4 0 5 3 6 1 2]\n",
            "Sorted data: \n",
            "1682 38.0\n",
            "1023 40.0\n",
            "5241 40.0\n",
            "1671 41.0\n",
            "4532 42.0\n",
            "5202 42.0\n",
            "6230 45.0\n"
          ],
          "name": "stdout"
        }
      ]
    },
    {
      "cell_type": "markdown",
      "metadata": {
        "id": "Vn0vhU-fp98W",
        "colab_type": "text"
      },
      "source": [
        "**5, Viết chương trình NumPy để lấy các chỉ số của các phần tử được sắp xếp của một mảng đã cho.**\n",
        "\n",
        "**Write a NumPy program to get the indices of the sorted elements of a given array.**\n",
        "\n",
        "![alt text](https://www.w3resource.com/w3r_images/numpy-sorting-and-searching-image-exercise-5.svg)"
      ]
    },
    {
      "cell_type": "code",
      "metadata": {
        "id": "26JMlADvpzxI",
        "colab_type": "code",
        "colab": {
          "base_uri": "https://localhost:8080/",
          "height": 85
        },
        "outputId": "63ef8b96-4224-4cc2-ca9f-0be14577095e"
      },
      "source": [
        "student_id = np.array([1023, 5202, 6230, 1671, 5241, 4532])\n",
        "print(\"Original array: \")\n",
        "print(student_id)\n",
        "i = np.argsort(student_id)\n",
        "print(\"Indices of the sorted elements of a give array:\")\n",
        "print(i)"
      ],
      "execution_count": 8,
      "outputs": [
        {
          "output_type": "stream",
          "text": [
            "Original array: \n",
            "[1023 5202 6230 1671 5241 4532]\n",
            "Indices of the sorted elements of a give array:\n",
            "[0 3 5 1 4 2]\n"
          ],
          "name": "stdout"
        }
      ]
    },
    {
      "cell_type": "markdown",
      "metadata": {
        "id": "eJHJ0WCcqWOm",
        "colab_type": "text"
      },
      "source": [
        "**6, Viết chương trình NumPy để sắp xếp một mảng phức nhất định bằng cách sử dụng phần thực trước, sau đó đến phần ảo.**\n",
        "\n",
        "**Write a NumPy program to sort a given complex array using the real part first, then the imaginary part.**\n",
        "\n"
      ]
    },
    {
      "cell_type": "code",
      "metadata": {
        "id": "A1xwNVBOqRh7",
        "colab_type": "code",
        "colab": {
          "base_uri": "https://localhost:8080/",
          "height": 102
        },
        "outputId": "c115336e-e49a-4234-ddf6-55d5dfa37f46"
      },
      "source": [
        "complex_num = [1 + 2j, 3 - 1j, 3 - 2j, 4 - 3j, 3 + 5j]\n",
        "print(\"Original array:\")\n",
        "print(complex_num)\n",
        "print(\"\\nSorted a given complex array using the real part first, then the imaginary part.\")\n",
        "print(np.sort_complex(complex_num))"
      ],
      "execution_count": 9,
      "outputs": [
        {
          "output_type": "stream",
          "text": [
            "Original array:\n",
            "[(1+2j), (3-1j), (3-2j), (4-3j), (3+5j)]\n",
            "\n",
            "Sorted a given complex array using the real part first, then the imaginary part.\n",
            "[1.+2.j 3.-2.j 3.-1.j 3.+5.j 4.-3.j]\n"
          ],
          "name": "stdout"
        }
      ]
    },
    {
      "cell_type": "markdown",
      "metadata": {
        "id": "jatr5-9iqmQ2",
        "colab_type": "text"
      },
      "source": [
        "**7, Viết chương trình NumPy để phân vùng một mảng nhất định ở một vị trí xác định và di chuyển tất cả các giá trị phần tử nhỏ hơn sang bên trái của phân vùng và các giá trị còn lại ở bên phải, theo thứ tự tùy ý (dựa trên lựa chọn ngẫu nhiên).**\n",
        "\n",
        "**Write a NumPy program to partition a given array in a specified position and move all the smaller elements values to the left of the partition, and the remaining values to the right, in arbitrary order (based on random choice).**\n",
        "\n",
        "![alt text](https://www.w3resource.com/w3r_images/numpy-sorting-and-searching-image-exercise-7.svg)"
      ]
    },
    {
      "cell_type": "code",
      "metadata": {
        "id": "wCPOLarrqeaQ",
        "colab_type": "code",
        "colab": {
          "base_uri": "https://localhost:8080/",
          "height": 102
        },
        "outputId": "5788ab88-8785-4fba-f6e3-f051fccf03fc"
      },
      "source": [
        "nums = np.array([70, 50, 20, 30, -11, 60, 50, 40])\n",
        "print(\"Original array:\")\n",
        "print(nums)\n",
        "print(\"\\nAfter partitioning on 4 the position:\")\n",
        "print(np.partition(nums, 4))"
      ],
      "execution_count": 10,
      "outputs": [
        {
          "output_type": "stream",
          "text": [
            "Original array:\n",
            "[ 70  50  20  30 -11  60  50  40]\n",
            "\n",
            "After partitioning on 4 the position:\n",
            "[-11  30  20  40  50  50  60  70]\n"
          ],
          "name": "stdout"
        }
      ]
    },
    {
      "cell_type": "markdown",
      "metadata": {
        "id": "atZM7RN2qyht",
        "colab_type": "text"
      },
      "source": [
        "**8, Viết chương trình NumPy để sắp xếp số phần tử đã chỉ định từ đầu một mảng nhất định.**\n",
        "\n",
        "**Write a NumPy program to sort the specified number of elements from beginning of a given array.**\n",
        "\n",
        "![alt text](https://www.w3resource.com/w3r_images/numpy-sorting-and-searching-image-exercise-8.svg)"
      ]
    },
    {
      "cell_type": "code",
      "metadata": {
        "id": "0zx9vaUrqwp7",
        "colab_type": "code",
        "colab": {
          "base_uri": "https://localhost:8080/",
          "height": 136
        },
        "outputId": "381ac7dc-6d55-4942-8b34-7dd6ffc92f46"
      },
      "source": [
        "nums =  np.random.rand(10)\n",
        "print(\"Original array:\")\n",
        "print(nums)\n",
        "print(\"\\nSorted first 5 elements:\")\n",
        "print(nums[np.argpartition(nums, range(5))])"
      ],
      "execution_count": 12,
      "outputs": [
        {
          "output_type": "stream",
          "text": [
            "Original array:\n",
            "[0.73876372 0.95042229 0.84209505 0.62890701 0.42358798 0.77697797\n",
            " 0.2009231  0.68045692 0.72815726 0.89350296]\n",
            "\n",
            "Sorted first 5 elements:\n",
            "[0.2009231  0.42358798 0.62890701 0.68045692 0.72815726 0.77697797\n",
            " 0.73876372 0.84209505 0.95042229 0.89350296]\n"
          ],
          "name": "stdout"
        }
      ]
    },
    {
      "cell_type": "code",
      "metadata": {
        "id": "PRoxQCEzq8UP",
        "colab_type": "code",
        "colab": {}
      },
      "source": [
        ""
      ],
      "execution_count": 0,
      "outputs": []
    }
  ]
}