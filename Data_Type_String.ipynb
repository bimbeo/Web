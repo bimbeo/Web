{
  "nbformat": 4,
  "nbformat_minor": 0,
  "metadata": {
    "colab": {
      "name": "Data Type: String.ipynb",
      "provenance": [],
      "collapsed_sections": [],
      "authorship_tag": "ABX9TyNZw4Z8PUufZ1it9byACojS",
      "include_colab_link": true
    },
    "kernelspec": {
      "name": "python3",
      "display_name": "Python 3"
    }
  },
  "cells": [
    {
      "cell_type": "markdown",
      "metadata": {
        "id": "view-in-github",
        "colab_type": "text"
      },
      "source": [
        "<a href=\"https://colab.research.google.com/github/bimbeo/Web/blob/master/Data_Type_String.ipynb\" target=\"_parent\"><img src=\"https://colab.research.google.com/assets/colab-badge.svg\" alt=\"Open In Colab\"/></a>"
      ]
    },
    {
      "cell_type": "markdown",
      "metadata": {
        "id": "o_qXMuD-5T28",
        "colab_type": "text"
      },
      "source": [
        "**1, Viết chương trình Python để tính độ dài của chuỗi.**\n",
        "\n",
        "**Write a Python program to calculate the length of a string.**\n",
        "\n",
        "![alt text](https://www.w3resource.com/w3r_images/python-data-type-string-image-exercise-1.png)\n"
      ]
    },
    {
      "cell_type": "code",
      "metadata": {
        "id": "NoICPZrW5Gta",
        "colab_type": "code",
        "outputId": "753ef7db-9089-4e16-b26a-156592e56dcf",
        "colab": {
          "base_uri": "https://localhost:8080/",
          "height": 68
        }
      },
      "source": [
        "def string_length(n):\n",
        "  count = 0\n",
        "  for char in n:\n",
        "    count += 1\n",
        "  return count \n",
        "nhap = input(\"Nhap vao mot chuoi: \")\n",
        "print(\"Do dai cua chuoi vua nhap la: \", string_length(nhap))\n",
        "print(string_length('w3resource.com'))\n",
        "#n = input(\"Nhap vao mot chuoi: \")\n",
        "#print(\"Do dai cua chuoi la\", len(n))"
      ],
      "execution_count": 0,
      "outputs": [
        {
          "output_type": "stream",
          "text": [
            "Nhap vao mot chuoi: bim beo\n",
            "Do dai cua chuoi vua nhap la:  7\n",
            "14\n"
          ],
          "name": "stdout"
        }
      ]
    },
    {
      "cell_type": "markdown",
      "metadata": {
        "id": "Xy_JNRUt6bTo",
        "colab_type": "text"
      },
      "source": [
        "**2, Viết chương trình Python để đếm số lượng ký tự (tần số ký tự) trong một chuỗi.**\n",
        "\n",
        "**Write a Python program to count the number of characters (character frequency) in a string.**\n",
        "\n",
        "![alt text](https://www.w3resource.com/w3r_images/python-data-type-string-image-exercise-2.png)"
      ]
    },
    {
      "cell_type": "code",
      "metadata": {
        "id": "l7PP3hOs5kAr",
        "colab_type": "code",
        "outputId": "adae8811-a30b-4047-a76e-c25e89fa3d0a",
        "colab": {
          "base_uri": "https://localhost:8080/",
          "height": 51
        }
      },
      "source": [
        "def char_frequency(str1):\n",
        "  dict = {}                   # Tạo 1 dict rỗng để gán giá trị tìm được vào\n",
        "  for n in str1:              # Duyệt giá trị từng phần tử trong chuỗi str1\n",
        "    keys = dict.keys()        # tạo 1 biến keys, dùng để thêm giá trị key-values vào dict ở trên, dict_key(['b','i','m'])\n",
        "    if n in keys:             # Nếu n nằm trong keys \n",
        "      dict[n] += 1            # Giá trị value + thêm 1\n",
        "    else:                     # Nếu n không nằm trong keys\n",
        "      dict[n] = 1             # Giá trị value = 1\n",
        "  return dict                 # Kết quả trả về dict\n",
        "nhap = input(\"Nhap vao 1 chuoi ky: \")\n",
        "char_frequency(nhap)"
      ],
      "execution_count": 0,
      "outputs": [
        {
          "output_type": "stream",
          "text": [
            "Nhap vao 1 chuoi ky: bim beo\n"
          ],
          "name": "stdout"
        },
        {
          "output_type": "execute_result",
          "data": {
            "text/plain": [
              "{' ': 1, 'b': 2, 'e': 1, 'i': 1, 'm': 1, 'o': 1}"
            ]
          },
          "metadata": {
            "tags": []
          },
          "execution_count": 6
        }
      ]
    },
    {
      "cell_type": "markdown",
      "metadata": {
        "id": "R2iIdPBN8uqz",
        "colab_type": "text"
      },
      "source": [
        "**3, Viết chương trình Python để lấy một chuỗi được tạo từ 2 ký tự đầu tiên và 2 ký tự cuối cùng từ một chuỗi đã cho. Nếu độ dài chuỗi nhỏ hơn 2, trả về thay vì chuỗi trống**\n",
        "\n",
        "**Write a Python program to get a string made of the first 2 and the last 2 chars from a given a string. If the string length is less than 2, return instead of the empty string.**\n",
        "\n",
        "![alt text](https://www.w3resource.com/w3r_images/python-data-type-string-image-exercise-3.png)"
      ]
    },
    {
      "cell_type": "code",
      "metadata": {
        "id": "5io4viFS65Bu",
        "colab_type": "code",
        "outputId": "4b2b51ca-09b8-44f8-e5d0-aa97122fd2c7",
        "colab": {
          "base_uri": "https://localhost:8080/",
          "height": 51
        }
      },
      "source": [
        "def string_both_ends(str):\n",
        "  if len(str) < 2:\n",
        "    return ''\n",
        "  return str[:2] + str[-2:]\n",
        "\n",
        "print(string_both_ends(\"bimbeodeptrai\"))\n",
        "print(string_both_ends(\"bi\"))\n"
      ],
      "execution_count": 0,
      "outputs": [
        {
          "output_type": "stream",
          "text": [
            "biai\n",
            "bibi\n"
          ],
          "name": "stdout"
        }
      ]
    },
    {
      "cell_type": "markdown",
      "metadata": {
        "id": "vroHdF4S-B1P",
        "colab_type": "text"
      },
      "source": [
        "**4, Viết chương trình Python để lấy một chuỗi từ một chuỗi đã cho trong đó tất cả các lần xuất hiện của char đầu tiên của nó đã được thay đổi thành '$', ngoại trừ chính char đầu tiên.**\n",
        "\n",
        "**Write a Python program to get a string from a given string where all occurrences of its first char have been changed to '$', except the first char itself.**\n",
        "\n",
        "![alt text](https://www.w3resource.com/w3r_images/python-data-type-string-image-exercise-4.png)"
      ]
    },
    {
      "cell_type": "code",
      "metadata": {
        "id": "TQ9a_3qd9UYs",
        "colab_type": "code",
        "outputId": "47c01b6c-4dd2-4641-8f0c-8dfe266de393",
        "colab": {
          "base_uri": "https://localhost:8080/",
          "height": 34
        }
      },
      "source": [
        "def change_char(str1):\n",
        "  char = str1[0]                      # Đặt char là index đầu tiên của chuỗi\n",
        "  str1 = str1.replace(char, '$')      # Replace(), dùng để thay thế tất cả ký tự giống index 0 thành $, kể cả index cũng bị thay thế. restart -> $esta$t\n",
        "  str1 = char + str1[1:]              # str1 = index[0] + index[1:], gán lại kết quả index[0] để đổi $ -> r.\n",
        "  return str1\n",
        "\n",
        "print(change_char('restart'))\n"
      ],
      "execution_count": 0,
      "outputs": [
        {
          "output_type": "stream",
          "text": [
            "resta$t\n"
          ],
          "name": "stdout"
        }
      ]
    },
    {
      "cell_type": "markdown",
      "metadata": {
        "id": "sdd3qWHzAH0g",
        "colab_type": "text"
      },
      "source": [
        "**5, Viết chương trình Python để lấy một chuỗi từ hai chuỗi đã cho, cách nhau bằng khoảng trắng và hoán đổi hai ký tự đầu tiên của mỗi chuỗi.**\n",
        "\n",
        "**Write a Python program to get a single string from two given strings, separated by a space and swap the first two characters of each string.**\n",
        "\n",
        "![alt text](https://www.w3resource.com/w3r_images/python-data-type-string-image-exercise-5.png)"
      ]
    },
    {
      "cell_type": "code",
      "metadata": {
        "id": "FOLCQtGT-vKT",
        "colab_type": "code",
        "outputId": "f316dabf-5d27-4f38-f6b8-1d7ac1f4aeca",
        "colab": {
          "base_uri": "https://localhost:8080/",
          "height": 34
        }
      },
      "source": [
        "def chars_mix_up(a, b):\n",
        "  new_a = b[:2] + a[2:]\n",
        "  new_b = a[:2] + b[2:]\n",
        "  new = new_a + \" \" + new_b\n",
        "  return new\n",
        "print(chars_mix_up(\"abc\", \"xyz\"))"
      ],
      "execution_count": 0,
      "outputs": [
        {
          "output_type": "stream",
          "text": [
            "xyc abz\n"
          ],
          "name": "stdout"
        }
      ]
    },
    {
      "cell_type": "markdown",
      "metadata": {
        "id": "y8347KH_BaqG",
        "colab_type": "text"
      },
      "source": [
        "**6, Viết chương trình Python để thêm 'ing' vào cuối chuỗi đã cho (độ dài tối thiểu phải là 3). Nếu chuỗi đã cho đã kết thúc bằng 'ing' thì hãy thêm 'ly' thay vào đó. Nếu độ dài chuỗi của chuỗi đã cho nhỏ hơn 3, hãy giữ nguyên chuỗi đó.**\n",
        "\n",
        "**Write a Python program to add 'ing' at the end of a given string (length should be at least 3). If the given string already ends with 'ing' then add 'ly' instead. If the string length of the given string is less than 3, leave it unchanged.**\n",
        "\n",
        "![alt text](https://www.w3resource.com/w3r_images/python-data-type-string-image-exercise-6.png)"
      ]
    },
    {
      "cell_type": "code",
      "metadata": {
        "id": "J-xmXSCrA35G",
        "colab_type": "code",
        "outputId": "92fa9b21-acfa-480b-bf1f-b51bd01fcdac",
        "colab": {
          "base_uri": "https://localhost:8080/",
          "height": 51
        }
      },
      "source": [
        "def add_string(str1):\n",
        "  if len(str1) < 3:\n",
        "    return str1\n",
        "  elif str1[-3:] == 'ing':\n",
        "    str1 += \"ly\"\n",
        "  else:\n",
        "    str1 += \"ing\"\n",
        "  return str1\n",
        "print(add_string(\"string\"))\n",
        "print(add_string(\"Bim\"))"
      ],
      "execution_count": 0,
      "outputs": [
        {
          "output_type": "stream",
          "text": [
            "stringly\n",
            "Biming\n"
          ],
          "name": "stdout"
        }
      ]
    },
    {
      "cell_type": "markdown",
      "metadata": {
        "id": "q3IdjJS0C6u_",
        "colab_type": "text"
      },
      "source": [
        "**7, Viết chương trình Python để tìm sự xuất hiện đầu tiên của chuỗi con 'không' và 'kém' từ một chuỗi đã cho, nếu 'không' theo 'nghèo', thay thế toàn bộ chuỗi con 'không' ... 'nghèo' bằng 'tốt '. Trả về chuỗi kết quả.**\n",
        "\n",
        "**Write a Python program to find the first appearance of the substring 'not' and 'poor' from a given string, if 'not' follows the 'poor', replace the whole 'not'...'poor' substring with 'good'. Return the resulting string.**"
      ]
    },
    {
      "cell_type": "code",
      "metadata": {
        "id": "vNm1nlafCNQq",
        "colab_type": "code",
        "outputId": "6f154cb6-8b3c-4153-ee7b-71dfcbb7d4db",
        "colab": {
          "base_uri": "https://localhost:8080/",
          "height": 51
        }
      },
      "source": [
        "def not_poor(str1):\n",
        "  snot = str1.find(\"not\")                               # Hàm find, trả về vị trí index của \"not\". VD snot = 14\n",
        "  spoor = str1.find(\"poor\")                             # Trả về vị trí index của poor. VD: spoor = 23\n",
        "\n",
        "  if spoor > snot and snot > 0 and spoor > 0:           # Điều kiện nếu poor ở sau not và index not và poor không âm, tức là không lấy từ phải sang.\n",
        "    str1 = str1.replace(str1[snot:(spoor+4)], 'good')   # Thay ký tự str1, index từ not - poor + 4(tức là đến hết r), bằng good\n",
        "    return str1                     \n",
        "  else:\n",
        "    return str1\n",
        "print(not_poor('The lyrics is not that poor!'))\n",
        "print(not_poor('The lyrics is poor!'))"
      ],
      "execution_count": 0,
      "outputs": [
        {
          "output_type": "stream",
          "text": [
            "The lyrics is good!\n",
            "The lyrics is poor!\n"
          ],
          "name": "stdout"
        }
      ]
    },
    {
      "cell_type": "markdown",
      "metadata": {
        "id": "AaRSkAbNEr-3",
        "colab_type": "text"
      },
      "source": [
        "**8, Viết hàm Python lấy danh sách các từ và trả về độ dài của từ dài nhất.**\n",
        "\n",
        "**Write a Python function that takes a list of words and returns the length of the longest one.**\n",
        "\n",
        "![alt text](https://www.w3resource.com/w3r_images/python-data-type-string-image-exercise-8.png)\n"
      ]
    },
    {
      "cell_type": "code",
      "metadata": {
        "id": "_6oCysShDaTB",
        "colab_type": "code",
        "outputId": "66b695ba-f556-450c-b902-867c5ad1ce85",
        "colab": {
          "base_uri": "https://localhost:8080/",
          "height": 34
        }
      },
      "source": [
        "def find_longest_word(words_list):\n",
        "  word_len = []                     # Tạo list word_len rỗng, dùng để thêm \n",
        "  for n in words_list:              # Duyệt giá trị từng phần tử trong list truyền vào\n",
        "    word_len.append((len(n), n))    # thêm độ dài từng phần tử và phần tử vào list wordlen  [[3,\"PHP\"],[9,\"Exercises\"],[7,\"Backend\"]]\n",
        "  word_len.sort()                   # sắp xếp lại list word_len, từ bé đến lớn              [[3,\"PHP\"],[7,\"Backend\"],[9,\"Exercises\"]]\n",
        "  return word_len[-1][1]            # trả về word_len[-1][1], là index của list con, -1 là list con lớn nhất, 1 là tên của list con\n",
        "\n",
        "print(find_longest_word([\"PHP\", \"Exercises\", \"Backend\"]))\n"
      ],
      "execution_count": 0,
      "outputs": [
        {
          "output_type": "stream",
          "text": [
            "Exercises\n"
          ],
          "name": "stdout"
        }
      ]
    },
    {
      "cell_type": "markdown",
      "metadata": {
        "id": "TQ5Z1b1hHEFq",
        "colab_type": "text"
      },
      "source": [
        "**9, Viết chương trình Python để xóa ký tự chỉ mục thứ n khỏi chuỗi không trống.**\n",
        "\n",
        "**Write a Python program to remove the nth index character from a nonempty string.**\n",
        "\n",
        "![alt text](https://www.w3resource.com/w3r_images/python-data-type-string-image-exercise-9.png)\n",
        "\n"
      ]
    },
    {
      "cell_type": "code",
      "metadata": {
        "id": "GUlf8071FWXR",
        "colab_type": "code",
        "outputId": "b57fb2d3-8434-44b6-ce3b-350cf38af8fc",
        "colab": {
          "base_uri": "https://localhost:8080/",
          "height": 85
        }
      },
      "source": [
        "def remove_char(str1, n):\n",
        "  first_part = str1[:n]\n",
        "  last_part = str1[n+1:]\n",
        "  return first_part + last_part\n",
        "print(remove_char('Python', 3))\n",
        "print(remove_char('Python', 0))\n",
        "print(remove_char('Python', 4))\n",
        "print(remove_char('Python', 5))"
      ],
      "execution_count": 0,
      "outputs": [
        {
          "output_type": "stream",
          "text": [
            "Pyton\n",
            "ython\n",
            "Pythn\n",
            "Pytho\n"
          ],
          "name": "stdout"
        }
      ]
    },
    {
      "cell_type": "markdown",
      "metadata": {
        "id": "Yk6WWbTdH4li",
        "colab_type": "text"
      },
      "source": [
        "**10, Viết chương trình Python để thay đổi một chuỗi đã cho thành một chuỗi mới trong đó các ký tự đầu tiên và cuối cùng đã được trao đổi.**\n",
        "\n",
        "**Write a Python program to change a given string to a new string where the first and last chars have been exchanged.**\n",
        "\n",
        "![alt text](https://www.w3resource.com/w3r_images/python-data-type-string-image-exercise-10.png)"
      ]
    },
    {
      "cell_type": "code",
      "metadata": {
        "id": "JN-7blsJHsV6",
        "colab_type": "code",
        "outputId": "4db4965e-79ef-441b-8d4f-f10aee91c7ff",
        "colab": {
          "base_uri": "https://localhost:8080/",
          "height": 51
        }
      },
      "source": [
        "def change_string(str1):\n",
        "  return str1[-1:] + str1[1:-1] + str1[:1] # in kết quả là index[-1] cuối chuỗi + index[1:-1] bỏ qua vị trí đầu và cuối + index[0] đầu chuỗi\n",
        "print(change_string('abcd'))\n",
        "print(change_string('12345'))"
      ],
      "execution_count": 0,
      "outputs": [
        {
          "output_type": "stream",
          "text": [
            "dbca\n",
            "52341\n"
          ],
          "name": "stdout"
        }
      ]
    },
    {
      "cell_type": "markdown",
      "metadata": {
        "id": "ia8v10jlJi5T",
        "colab_type": "text"
      },
      "source": [
        "**11, Viết chương trình Python để loại bỏ các ký tự có giá trị chỉ số lẻ của một chuỗi đã cho.**\n",
        "\n",
        "**Write a Python program to remove the characters which have odd index values of a given string.**\n",
        "\n",
        "![alt text](https://www.w3resource.com/w3r_images/python-data-type-string-image-exercise-11.png)"
      ]
    },
    {
      "cell_type": "code",
      "metadata": {
        "id": "m2oNGvQxIWmu",
        "colab_type": "code",
        "outputId": "6c4ed64f-e23c-4da1-9c95-d303fc597720",
        "colab": {
          "base_uri": "https://localhost:8080/",
          "height": 51
        }
      },
      "source": [
        "def odd_values_string(str1):\n",
        "  result = \"\"\n",
        "  for i in range(len(str1)):\n",
        "    if i % 2 == 0:\n",
        "      result = result + str1[i]\n",
        "  return result\n",
        "\n",
        "print(odd_values_string('abcdef'))\n",
        "print(odd_values_string('python'))"
      ],
      "execution_count": 0,
      "outputs": [
        {
          "output_type": "stream",
          "text": [
            "ace\n",
            "pto\n"
          ],
          "name": "stdout"
        }
      ]
    },
    {
      "cell_type": "markdown",
      "metadata": {
        "id": "47ccSgIUK-1e",
        "colab_type": "text"
      },
      "source": [
        "**12, Viết chương trình Python để đếm số lần xuất hiện của mỗi từ trong một câu đã cho.**\n",
        "\n",
        "**Write a Python program to count the occurrences of each word in a given sentence.**\n",
        "\n",
        "![alt text](https://www.w3resource.com/w3r_images/python-data-type-string-image-exercise-12.png)"
      ]
    },
    {
      "cell_type": "code",
      "metadata": {
        "id": "tR3HyRyGKUZt",
        "colab_type": "code",
        "outputId": "0350c6f6-a310-4840-ae27-478e42e2f209",
        "colab": {
          "base_uri": "https://localhost:8080/",
          "height": 34
        }
      },
      "source": [
        "def word_count(str1):\n",
        "  count = dict()                    # Tạo dict dùng để chứa key-vales, từ và số lần xuất hiện\n",
        "  words = str1.split(\" \")           # words, chuyển string -> list\n",
        "  for word in words:                \n",
        "    if word in count:\n",
        "      count[word] += 1\n",
        "    else:\n",
        "      count[word] = 1\n",
        "  return count\n",
        "print( word_count('the quick brown fox jumps over the lazy dog.'))\n"
      ],
      "execution_count": 0,
      "outputs": [
        {
          "output_type": "stream",
          "text": [
            "{'the': 2, 'quick': 1, 'brown': 1, 'fox': 1, 'jumps': 1, 'over': 1, 'lazy': 1, 'dog.': 1}\n"
          ],
          "name": "stdout"
        }
      ]
    },
    {
      "cell_type": "markdown",
      "metadata": {
        "id": "EHPhD8OiMGpK",
        "colab_type": "text"
      },
      "source": [
        "**13, Viết một tập lệnh Python lấy đầu vào từ người dùng và hiển thị đầu vào đó trong các trường hợp trên và dưới.**\n",
        "\n",
        "**Write a Python script that takes input from the user and displays that input back in upper and lower cases.**\n",
        "\n",
        "![alt text](https://www.w3resource.com/w3r_images/python-data-type-string-image-exercise-13.png)"
      ]
    },
    {
      "cell_type": "code",
      "metadata": {
        "id": "l-yBxN-SLd7h",
        "colab_type": "code",
        "outputId": "dfa31ce4-7d0c-458c-927e-73855d4b52e8",
        "colab": {
          "base_uri": "https://localhost:8080/",
          "height": 68
        }
      },
      "source": [
        "user_input = input(\"What's your favourite language: \")\n",
        "print(\"My favourite language is: \", user_input.upper())\n",
        "print(\"My favourite language is: \", user_input.lower())"
      ],
      "execution_count": 0,
      "outputs": [
        {
          "output_type": "stream",
          "text": [
            "What's your favourite language: Tieng Viet\n",
            "My favourite language is:  TIENG VIET\n",
            "My favourite language is:  tieng viet\n"
          ],
          "name": "stdout"
        }
      ]
    },
    {
      "cell_type": "markdown",
      "metadata": {
        "id": "O9fzFs6ZMveu",
        "colab_type": "text"
      },
      "source": [
        "**14, Viết chương trình Python chấp nhận một chuỗi các từ được phân tách bằng dấu phẩy làm đầu vào và in các từ duy nhất ở dạng được sắp xếp (chữ và số).**\n",
        "\n",
        "**Write a Python program that accepts a comma separated sequence of words as input and prints the unique words in sorted form (alphanumerically).**\n",
        "\n",
        "![alt text](https://www.w3resource.com/w3r_images/python-data-type-string-image-exercise-14.png)"
      ]
    },
    {
      "cell_type": "code",
      "metadata": {
        "id": "wOqgQ3sKMhaa",
        "colab_type": "code",
        "outputId": "e9b4595c-b497-4b87-a782-d49427f031ef",
        "colab": {
          "base_uri": "https://localhost:8080/",
          "height": 51
        }
      },
      "source": [
        "items = input(\"Input comma separated sequence of words\")\n",
        "words = [word for word in items.split(\",\")]   # tạo list bằng comprehension, từ 1 chuỗi nhập vào, mỗi phần tử cách nhau bằng dấu phẩy\n",
        "print(\",\".join(sorted(list(set(words)))))     # từ list -> set: loại từ trùng -> list -> sắp xếp list -> chuỗi"
      ],
      "execution_count": 0,
      "outputs": [
        {
          "output_type": "stream",
          "text": [
            "Input comma separated sequence of wordsbim,bim,beo,beo,dep,trai\n",
            "beo,bim,dep,trai\n"
          ],
          "name": "stdout"
        }
      ]
    },
    {
      "cell_type": "markdown",
      "metadata": {
        "id": "FaLzY3IPOY3Z",
        "colab_type": "text"
      },
      "source": [
        "**15, Viết hàm Python để tạo chuỗi HTML với các thẻ xung quanh (các) từ.**\n",
        "\n",
        "**Write a Python function to create the HTML string with tags around the word(s).**\n",
        "\n",
        "![alt text](https://www.w3resource.com/w3r_images/python-data-type-string-image-exercise-15.png)"
      ]
    },
    {
      "cell_type": "code",
      "metadata": {
        "id": "n4hGxJUoNP2n",
        "colab_type": "code",
        "outputId": "25eb8e20-a306-41c5-8342-02108bdf581f",
        "colab": {
          "base_uri": "https://localhost:8080/",
          "height": 51
        }
      },
      "source": [
        "def add_tags(tag, word):\n",
        "  return \"<%s> %s <%s>\" % (tag, word, tag)\n",
        "print(add_tags(\"i\",\"Python\"))\n",
        "print(add_tags('b', 'Python Tutorial'))"
      ],
      "execution_count": 0,
      "outputs": [
        {
          "output_type": "stream",
          "text": [
            "<i> Python <i>\n",
            "<b> Python Tutorial <b>\n"
          ],
          "name": "stdout"
        }
      ]
    },
    {
      "cell_type": "markdown",
      "metadata": {
        "id": "Ren5h1WlO_HQ",
        "colab_type": "text"
      },
      "source": [
        "**16, Viết hàm Python để chèn một chuỗi vào giữa chuỗi.**\n",
        "\n",
        "**Write a Python function to insert a string in the middle of a string.**\n",
        "\n",
        "![alt text](https://www.w3resource.com/w3r_images/python-data-type-string-image-exercise-16.png)\n",
        "\n"
      ]
    },
    {
      "cell_type": "code",
      "metadata": {
        "id": "oSQ04dTWOzjX",
        "colab_type": "code",
        "outputId": "336775c5-4935-46e6-b51a-23fd5e171ec3",
        "colab": {
          "base_uri": "https://localhost:8080/",
          "height": 68
        }
      },
      "source": [
        "def insert_string_middle(str, word):\n",
        "  return str[:2] + word + str[2:]\n",
        "def insert_sting_middle(str, word):\n",
        "\treturn str[:2] + word + str[2:]\n",
        "\n",
        "print(insert_sting_middle('[[]]', 'Python'))\n",
        "print(insert_sting_middle('{{}}', 'PHP'))\n",
        "print(insert_sting_middle('<<>>', 'HTML'))"
      ],
      "execution_count": 0,
      "outputs": [
        {
          "output_type": "stream",
          "text": [
            "[[Python]]\n",
            "{{PHP}}\n",
            "<<HTML>>\n"
          ],
          "name": "stdout"
        }
      ]
    },
    {
      "cell_type": "markdown",
      "metadata": {
        "id": "93VG3k0VPiF0",
        "colab_type": "text"
      },
      "source": [
        "**17, Viết hàm Python để lấy một chuỗi gồm 4 bản sao của hai ký tự cuối của một chuỗi đã chỉ định (độ dài phải ít nhất là 2).**\n",
        "\n",
        "**Write a Python function to get a string made of 4 copies of the last two characters of a specified string (length must be at least 2).**\n",
        "\n",
        "![alt text](https://www.w3resource.com/w3r_images/python-data-type-string-image-exercise-17.png)"
      ]
    },
    {
      "cell_type": "code",
      "metadata": {
        "id": "xyvqDtpxPbjR",
        "colab_type": "code",
        "outputId": "fdb26a64-22b5-489b-8d13-de117bcf7be3",
        "colab": {
          "base_uri": "https://localhost:8080/",
          "height": 51
        }
      },
      "source": [
        "def insert_end(str1):\n",
        "  sub_str1 = str1[-2:]\n",
        "  return sub_str1 * 4\n",
        "print(insert_end('Python'))\n",
        "print(insert_end('Exercises'))"
      ],
      "execution_count": 0,
      "outputs": [
        {
          "output_type": "stream",
          "text": [
            "onononon\n",
            "eseseses\n"
          ],
          "name": "stdout"
        }
      ]
    },
    {
      "cell_type": "markdown",
      "metadata": {
        "id": "D2b7y5F0QICP",
        "colab_type": "text"
      },
      "source": [
        "**18, Viết hàm Python để lấy một chuỗi gồm ba ký tự đầu tiên của chuỗi được chỉ định. Nếu độ dài của chuỗi nhỏ hơn 3 thì trả về chuỗi gốc.**\n",
        "\n",
        "**Write a Python function to get a string made of its first three characters of a specified string. If the length of the string is less than 3 then return the original string.**\n",
        "\n",
        "![alt text](https://www.w3resource.com/w3r_images/python-data-type-string-image-exercise-18.png)"
      ]
    },
    {
      "cell_type": "code",
      "metadata": {
        "id": "O3neP_YpP3hw",
        "colab_type": "code",
        "outputId": "409c6bba-6e70-494f-cc5e-fa5c68838860",
        "colab": {
          "base_uri": "https://localhost:8080/",
          "height": 51
        }
      },
      "source": [
        "def first_three(str1):\n",
        "  if len(str1) < 3:\n",
        "    return str1\n",
        "  else:\n",
        "    return str1[:3] \n",
        "# C2: return str[:3] if len(str) > 3 else str\n",
        "print(first_three(\"Python\"))\n",
        "print(first_three(\"Py\"))"
      ],
      "execution_count": 0,
      "outputs": [
        {
          "output_type": "stream",
          "text": [
            "Pyt\n",
            "Py\n"
          ],
          "name": "stdout"
        }
      ]
    },
    {
      "cell_type": "markdown",
      "metadata": {
        "id": "Zg0OVGF4Q9zL",
        "colab_type": "text"
      },
      "source": [
        "**19, Viết chương trình Python để lấy phần cuối của chuỗi trước một ký tự được chỉ định.**\n",
        "\n",
        "**Write a Python program to get the last part of a string before a specified character.**\n",
        "\n",
        "![alt text](https://www.w3resource.com/w3r_images/python-data-type-string-image-exercise-19.png)"
      ]
    },
    {
      "cell_type": "code",
      "metadata": {
        "id": "YAxvBp7yQjE9",
        "colab_type": "code",
        "outputId": "0c0d9e9e-2e55-4938-eea5-3e56336b4ccd",
        "colab": {
          "base_uri": "https://localhost:8080/",
          "height": 102
        }
      },
      "source": [
        "str1 = 'https://www.w3resource.com/python-exercises/string'\n",
        "print(str1.rsplit('/',1)[0])  # phân cách là dấu /, phân chia là 1, tức chia danh sách làm 2 phần tử. [0]: index[0], tức phần đầu\n",
        "print(str1.rsplit('-',1)[0])\n",
        "print(str1.rsplit('/',1)[1])\n",
        "print(str1.rsplit('/',2)[1])\n",
        "print(str1.rsplit('/',3)[1])\n",
        "# string.rsplit(separator, maxsplit): separator(dấu phân cách) chỉ định dấu phân cách khi tách chuỗi, maxsplit chỉ định có bao nhiêu phân chia\n"
      ],
      "execution_count": 0,
      "outputs": [
        {
          "output_type": "stream",
          "text": [
            "https://www.w3resource.com/python-exercises\n",
            "https://www.w3resource.com/python\n",
            "string\n",
            "python-exercises\n",
            "www.w3resource.com\n"
          ],
          "name": "stdout"
        }
      ]
    },
    {
      "cell_type": "markdown",
      "metadata": {
        "id": "g-2E3kuNSq4t",
        "colab_type": "text"
      },
      "source": [
        "**20, Viết hàm Python để đảo ngược chuỗi nếu độ dài của nó là bội số của 4.**\n",
        "\n",
        "**Write a Python function to reverse a string if it's length is a multiple of 4.**\n",
        "\n",
        "![alt text](https://www.w3resource.com/w3r_images/python-data-type-string-image-exercise-20.png)\n",
        "\n"
      ]
    },
    {
      "cell_type": "code",
      "metadata": {
        "id": "P2d-18r1RSfO",
        "colab_type": "code",
        "outputId": "cc4dcf66-a86c-47ca-c6da-7781f48ac4ee",
        "colab": {
          "base_uri": "https://localhost:8080/",
          "height": 68
        }
      },
      "source": [
        "def reverse_string(str1):\n",
        "  if len(str1) % 4 == 0:\n",
        "    str1 = str1[::-1]     # return ''.join(reversed(str1))\n",
        "    return str1\n",
        "  return str1\n",
        "print(reverse_string(\"Ruby\"))\n",
        "print(reverse_string(\"BimBeo\"))\n",
        "print(reverse_string(\"BimBeo12\"))"
      ],
      "execution_count": 0,
      "outputs": [
        {
          "output_type": "stream",
          "text": [
            "ybuR\n",
            "BimBeo\n",
            "21oeBmiB\n"
          ],
          "name": "stdout"
        }
      ]
    },
    {
      "cell_type": "markdown",
      "metadata": {
        "id": "2-dh_rZ9UOKE",
        "colab_type": "text"
      },
      "source": [
        "**21, Viết hàm Python để chuyển đổi một chuỗi đã cho thành tất cả chữ hoa nếu nó chứa ít nhất 2 ký tự in hoa trong 4 ký tự đầu tiên.**\n",
        "\n",
        "**Write a Python function to convert a given string to all uppercase if it contains at least 2 uppercase characters in the first 4 characters.**\n",
        "\n",
        "![alt text](https://www.w3resource.com/w3r_images/python-data-type-string-image-exercise-21.png)"
      ]
    },
    {
      "cell_type": "code",
      "metadata": {
        "id": "cAvew5DHTLaO",
        "colab_type": "code",
        "outputId": "2ede294d-b1b4-42d6-8726-82c926c90ec2",
        "colab": {
          "base_uri": "https://localhost:8080/",
          "height": 51
        }
      },
      "source": [
        "def to_uppercase(str1):\n",
        "  num_upper = 0\n",
        "  for letter in str1[:4]:\n",
        "    if letter.upper() == letter:        # Nếu letter in hoa = letter trong chuỗi\n",
        "      num_upper += 1                    \n",
        "  if num_upper >= 2:\n",
        "    return str1.upper()\n",
        "  return str1\n",
        "\n",
        "print(to_uppercase(\"Python\"))\n",
        "print(to_uppercase('PyThon'))"
      ],
      "execution_count": 0,
      "outputs": [
        {
          "output_type": "stream",
          "text": [
            "Python\n",
            "PYTHON\n"
          ],
          "name": "stdout"
        }
      ]
    },
    {
      "cell_type": "markdown",
      "metadata": {
        "id": "E4PvWFWkVpU1",
        "colab_type": "text"
      },
      "source": [
        "**22, Viết chương trình Python để sắp xếp một chuỗi theo từ vựng.**\n",
        "\n",
        "**Write a Python program to sort a string lexicographically.**\n",
        "\n",
        "![alt text](https://www.w3resource.com/w3r_images/python-data-type-string-image-exercise-22.png)"
      ]
    },
    {
      "cell_type": "code",
      "metadata": {
        "id": "Q1EU2Us_UzQl",
        "colab_type": "code",
        "outputId": "66ce8a73-9a00-4ca2-c2fb-6087e6f0ebbd",
        "colab": {
          "base_uri": "https://localhost:8080/",
          "height": 51
        }
      },
      "source": [
        "def lexicographi_sort(s):\n",
        "  return sorted(sorted(s), key=str.upper)   # def sorted(iterable, *, key=None, reverse=False)\n",
        "\n",
        "print(lexicographi_sort('w3resource'))\n",
        "print(lexicographi_sort('quickbrown'))"
      ],
      "execution_count": 0,
      "outputs": [
        {
          "output_type": "stream",
          "text": [
            "['3', 'c', 'e', 'e', 'o', 'r', 'r', 's', 'u', 'w']\n",
            "['b', 'c', 'i', 'k', 'n', 'o', 'q', 'r', 'u', 'w']\n"
          ],
          "name": "stdout"
        }
      ]
    },
    {
      "cell_type": "markdown",
      "metadata": {
        "id": "6ao5UIfKWcQ0",
        "colab_type": "text"
      },
      "source": [
        "**23, Viết chương trình Python để xóa một dòng mới trong Python.**\n",
        "\n",
        "**Write a Python program to remove a newline in Python.**\n",
        "\n",
        "![alt text](https://www.w3resource.com/w3r_images/python-data-type-string-image-exercise-23.png)\n"
      ]
    },
    {
      "cell_type": "code",
      "metadata": {
        "id": "joYlulgMWAz0",
        "colab_type": "code",
        "outputId": "87c5cec3-6a51-4348-844b-8dcfbeef4609",
        "colab": {
          "base_uri": "https://localhost:8080/",
          "height": 68
        }
      },
      "source": [
        "str1='Python Exercises\\n'\n",
        "print(str1)\n",
        "print(str1.rstrip())\n",
        "# string.rstrip(characters)\n",
        "# The rstrip() method removes any trailing characters (characters at the end a string), space is the default trailing character to remove."
      ],
      "execution_count": 0,
      "outputs": [
        {
          "output_type": "stream",
          "text": [
            "Python Exercises\n",
            "\n",
            "Python Exercises\n"
          ],
          "name": "stdout"
        }
      ]
    },
    {
      "cell_type": "markdown",
      "metadata": {
        "id": "lC2yNwvYXDNJ",
        "colab_type": "text"
      },
      "source": [
        "**24, Viết chương trình Python để kiểm tra xem một chuỗi có bắt đầu bằng các ký tự được chỉ định hay không.**\n",
        "\n",
        "**Write a Python program to check whether a string starts with specified characters.**\n",
        "\n",
        "![alt text](https://www.w3resource.com/w3r_images/python-data-type-string-image-exercise-24.png)\n"
      ]
    },
    {
      "cell_type": "code",
      "metadata": {
        "id": "Bond5-JOWseT",
        "colab_type": "code",
        "outputId": "86c3a8cb-e790-40a6-de04-e46cd341f539",
        "colab": {
          "base_uri": "https://localhost:8080/",
          "height": 34
        }
      },
      "source": [
        "string = \"w3resource.com\"\n",
        "print(string.startswith(\"w3r\"))\n",
        "# string.startswith(value, start, end)\n",
        "# The startswith() method returns True if the string starts with the specified value, otherwise False."
      ],
      "execution_count": 0,
      "outputs": [
        {
          "output_type": "stream",
          "text": [
            "True\n"
          ],
          "name": "stdout"
        }
      ]
    },
    {
      "cell_type": "markdown",
      "metadata": {
        "id": "Gu6lkKW3XhER",
        "colab_type": "text"
      },
      "source": [
        "**25, Viết chương trình Python để tạo mã hóa Caesar.**\n",
        "\n",
        "**Write a Python program to create a Caesar encryption.**\n",
        "\n",
        "![alt text](https://www.w3resource.com/w3r_images/python-data-type-string-image-exercise-25.png)"
      ]
    },
    {
      "cell_type": "code",
      "metadata": {
        "id": "OLroGtczXPpp",
        "colab_type": "code",
        "outputId": "ad099cbb-ea79-4d68-a083-87f8f96119ff",
        "colab": {
          "base_uri": "https://localhost:8080/",
          "height": 68
        }
      },
      "source": [
        "#https://gist.github.com/nchitalov/2f2b03e5cf1e19da1525\n",
        "def caesar_encrypt(realText, step):\n",
        "\toutText = []\n",
        "\tcryptText = []\n",
        "\t\n",
        "\tuppercase = ['A', 'B', 'C', 'D', 'E', 'F', 'G', 'H', 'I', 'J', 'K', 'L', 'M', 'N', 'O', 'P', 'Q', 'R', 'S', 'T', 'U', 'V', 'W', 'X', 'Y', 'Z']\n",
        "\tlowercase = ['a', 'b', 'c', 'd', 'e', 'f', 'g', 'h', 'i', 'j', 'k', 'l', 'm', 'n', 'o', 'p', 'q', 'r', 's', 't', 'u', 'v', 'w', 'x', 'y', 'z']\n",
        "\n",
        "\tfor eachLetter in realText:\n",
        "\t\tif eachLetter in uppercase:\n",
        "\t\t\tindex = uppercase.index(eachLetter)\n",
        "\t\t\tcrypting = (index + step) % 26\n",
        "\t\t\tcryptText.append(crypting)\n",
        "\t\t\tnewLetter = uppercase[crypting]\n",
        "\t\t\toutText.append(newLetter)\n",
        "\t\telif eachLetter in lowercase:\n",
        "\t\t\tindex = lowercase.index(eachLetter)\n",
        "\t\t\tcrypting = (index + step) % 26\n",
        "\t\t\tcryptText.append(crypting)\n",
        "\t\t\tnewLetter = lowercase[crypting]\n",
        "\t\t\toutText.append(newLetter)\n",
        "\treturn outText\n",
        "\n",
        "code = caesar_encrypt('abc', 2)\n",
        "print()\n",
        "print(code)\n",
        "print()"
      ],
      "execution_count": 0,
      "outputs": [
        {
          "output_type": "stream",
          "text": [
            "\n",
            "['c', 'd', 'e']\n",
            "\n"
          ],
          "name": "stdout"
        }
      ]
    },
    {
      "cell_type": "markdown",
      "metadata": {
        "id": "2NT90meZYV6c",
        "colab_type": "text"
      },
      "source": [
        "**26, Viết chương trình Python để hiển thị văn bản có định dạng (độ rộng = 50) làm đầu ra.**\n",
        "\n",
        "**Write a Python program to display formatted text (width=50) as output.**\n",
        "\n"
      ]
    },
    {
      "cell_type": "code",
      "metadata": {
        "id": "LFIDfPb8X36M",
        "colab_type": "code",
        "outputId": "c1692f89-fdd7-4d32-c1b7-ef8f63fd8ab2",
        "colab": {
          "base_uri": "https://localhost:8080/",
          "height": 238
        }
      },
      "source": [
        "import textwrap\n",
        "sample_text = '''\n",
        "  Python is a widely used high-level, general-purpose, interpreted,\n",
        "  dynamic programming language. Its design philosophy emphasizes\n",
        "  code readability, and its syntax allows programmers to express\n",
        "  concepts in fewer lines of code than possible in languages such\n",
        "  as C++ or Java.\n",
        "  \n",
        "  '''\n",
        "print(textwrap.fill(sample_text, width=50))\n",
        "print()\n",
        "# textwrap.fill(text, width=70, **kwargs)\n",
        "# Wraps the single paragraph in text, and returns a single string containing the wrapped paragraph. fill() is shorthand for\n"
      ],
      "execution_count": 0,
      "outputs": [
        {
          "output_type": "stream",
          "text": [
            "   Python is a widely used high-level, general-\n",
            "purpose, interpreted,   dynamic programming\n",
            "language. Its design philosophy emphasizes   code\n",
            "readability, and its syntax allows programmers to\n",
            "express   concepts in fewer lines of code than\n",
            "possible in languages such   as C++ or Java.\n",
            "Python is a widely used high-level, general-\n",
            "purpose, interpreted,   dynamic programming\n",
            "language. Its design philosophy emphasizes   code\n",
            "readability, and its syntax allows programmers to\n",
            "express   concepts in fewer lines of code than\n",
            "possible in languages such   as C++ or Java.\n",
            "\n"
          ],
          "name": "stdout"
        }
      ]
    },
    {
      "cell_type": "markdown",
      "metadata": {
        "id": "bgxYsW4SZTNh",
        "colab_type": "text"
      },
      "source": [
        "**27, Viết chương trình Python để xóa thụt lề hiện có khỏi tất cả các dòng trong một văn bản đã cho.**\n",
        "\n",
        "**Write a Python program to remove existing indentation from all of the lines in a given text.**\n"
      ]
    },
    {
      "cell_type": "code",
      "metadata": {
        "id": "vhOfCgUCY9zI",
        "colab_type": "code",
        "outputId": "2414055a-5ba7-4243-f5a4-47956462f2de",
        "colab": {
          "base_uri": "https://localhost:8080/",
          "height": 136
        }
      },
      "source": [
        "import textwrap\n",
        "sample_text = '''\n",
        "    Python is a widely used high-level, general-purpose, interpreted,\n",
        "    dynamic programming language. Its design philosophy emphasizes\n",
        "    code readability, and its syntax allows programmers to express\n",
        "    concepts in fewer lines of code than possible in languages such\n",
        "    as C++ or Java.\n",
        "    '''\n",
        "text_without_Indentation = textwrap.dedent(sample_text)\n",
        "print(text_without_Indentation )\n",
        "# textwrap.dedent(text)\n",
        "# Remove any common leading whitespace from every line in text."
      ],
      "execution_count": 0,
      "outputs": [
        {
          "output_type": "stream",
          "text": [
            "\n",
            "Python is a widely used high-level, general-purpose, interpreted,\n",
            "dynamic programming language. Its design philosophy emphasizes\n",
            "code readability, and its syntax allows programmers to express\n",
            "concepts in fewer lines of code than possible in languages such\n",
            "as C++ or Java.\n",
            "\n"
          ],
          "name": "stdout"
        }
      ]
    },
    {
      "cell_type": "markdown",
      "metadata": {
        "id": "7yDZYS0mZwUt",
        "colab_type": "text"
      },
      "source": [
        "**28, Viết chương trình Python để thêm văn bản tiền tố vào tất cả các dòng trong chuỗi.**\n",
        "\n",
        "**Write a Python program to add a prefix text to all of the lines in a string.**\n",
        "\n",
        "![alt text](https://www.w3resource.com/w3r_images/python-data-type-string-image-exercise-28.png)"
      ]
    },
    {
      "cell_type": "code",
      "metadata": {
        "id": "frydqhirZbL5",
        "colab_type": "code",
        "outputId": "bd34bb2c-fbe0-476f-9776-e4f5f18de6dd",
        "colab": {
          "base_uri": "https://localhost:8080/",
          "height": 153
        }
      },
      "source": [
        "import textwrap\n",
        "sample_text ='''\n",
        "    Python is a widely used high-level, general-purpose, interpreted,\n",
        "    dynamic programming language. Its design philosophy emphasizes\n",
        "    code readability, and its syntax allows programmers to express\n",
        "    concepts in fewer lines of code than possible in languages such\n",
        "    as C++ or Java.\n",
        "    '''\n",
        "text_without_Indentation = textwrap.dedent(sample_text)       # Loại bỏ khoảng trắng, thụt đầu dòng\n",
        "wrapped = textwrap.fill(text_without_Indentation, width=50)   # In đoạn text với chiều rộng là 50\n",
        "#wrapped += '\\n\\nSecond paragraph after a blank line.'\n",
        "final_result = textwrap.indent(wrapped, '> ')                 # Thêm tiền tố > vào đầu mỗi dòng được chọn trong văn bản\n",
        "print(final_result)\n",
        "# textwrap.indent(text, prefix, predicate=None)\n",
        "# Add prefix to the beginning of selected lines in text."
      ],
      "execution_count": 0,
      "outputs": [
        {
          "output_type": "stream",
          "text": [
            "\n",
            ">  Python is a widely used high-level, general-\n",
            "> purpose, interpreted, dynamic programming\n",
            "> language. Its design philosophy emphasizes code\n",
            "> readability, and its syntax allows programmers to\n",
            "> express concepts in fewer lines of code than\n",
            "> possible in languages such as C++ or Java.\n",
            "\n"
          ],
          "name": "stdout"
        }
      ]
    },
    {
      "cell_type": "markdown",
      "metadata": {
        "id": "-rYSdo1kadYj",
        "colab_type": "text"
      },
      "source": [
        "**29, Viết chương trình Python để đặt thụt dòng của dòng đầu tiên.**\n",
        "\n",
        "**Write a Python program to set the indentation of the first line.**\n",
        "\n",
        "![alt text](https://www.w3resource.com/w3r_images/python-data-type-string-image-exercise-29.png)"
      ]
    },
    {
      "cell_type": "code",
      "metadata": {
        "id": "YZ7D0fEcZ-dQ",
        "colab_type": "code",
        "outputId": "b0865f5f-cfcd-424f-ee17-0157b6cbb514",
        "colab": {
          "base_uri": "https://localhost:8080/",
          "height": 102
        }
      },
      "source": [
        "import textwrap\n",
        "sample_text ='''\n",
        "Python is a widely used high-level, general-purpose, interpreted, dynamic\n",
        "programming language. Its design philosophy emphasizes code readability,\n",
        "and its syntax allows programmers to express concepts in fewer lines of\n",
        "code than possible in languages such as C++ or Java.\n",
        "    '''\n",
        "\n",
        "text1 =  textwrap.dedent(sample_text).strip()\n",
        "print()\n",
        "print(textwrap.fill(text1,\n",
        "                    initial_indent='',\n",
        "                    subsequent_indent=' ' * 4,\n",
        "                    width=80,\n",
        "                    ))"
      ],
      "execution_count": 0,
      "outputs": [
        {
          "output_type": "stream",
          "text": [
            "\n",
            "Python is a widely used high-level, general-purpose, interpreted, dynamic\n",
            "    programming language. Its design philosophy emphasizes code readability, and\n",
            "    its syntax allows programmers to express concepts in fewer lines of code\n",
            "    than possible in languages such as C++ or Java.\n"
          ],
          "name": "stdout"
        }
      ]
    },
    {
      "cell_type": "markdown",
      "metadata": {
        "id": "_TEaam7ObESD",
        "colab_type": "text"
      },
      "source": [
        "**30, Viết chương trình Python để in các số nổi sau lên đến 2 chữ số thập phân.**\n",
        "\n",
        "**Write a Python program to print the following floating numbers upto 2 decimal places.**\n",
        "\n",
        "![alt text](https://www.w3resource.com/w3r_images/python-data-type-string-image-exercise-30.png)\n"
      ]
    },
    {
      "cell_type": "code",
      "metadata": {
        "id": "yWBa0j73amYY",
        "colab_type": "code",
        "outputId": "23dd4a17-d93a-4a4a-9b1a-83a066ecb473",
        "colab": {
          "base_uri": "https://localhost:8080/",
          "height": 102
        }
      },
      "source": [
        "x = 3.1415926\n",
        "y = 12.9999\n",
        "print(\"\\nOriginal Number: \", x)\n",
        "print(\"Formatted Number: \" + \"{:.2f}\".format(x))    # Định dạng chuỗi bằng fstring\n",
        "print(\"Original Number: \", y)                        # {:.2f} làm tròn tới 2 chữ số thập phân\n",
        "print(\"Formatted Number: \" + \"{:.2f}\".format(y))"
      ],
      "execution_count": 0,
      "outputs": [
        {
          "output_type": "stream",
          "text": [
            "\n",
            "Original Number:  3.1415926\n",
            "Formatted Number: 3.14\n",
            "Original Number:  12.9999\n",
            "Formatted Number: 13.00\n"
          ],
          "name": "stdout"
        }
      ]
    },
    {
      "cell_type": "markdown",
      "metadata": {
        "id": "u9tj7ZprAvkf",
        "colab_type": "text"
      },
      "source": [
        "**31, Viết chương trình Python để in các số nổi sau lên đến 2 chữ số thập phân có dấu.**\n",
        "\n",
        "**Write a Python program to print the following floating numbers upto 2 decimal places with a sign.**\n",
        "\n",
        "![alt text](https://www.w3resource.com/w3r_images/python-data-type-string-image-exercise-31.png)"
      ]
    },
    {
      "cell_type": "code",
      "metadata": {
        "id": "DEs82zQxbjF2",
        "colab_type": "code",
        "outputId": "a7458165-d94a-41c7-f46d-cfcabd6497da",
        "colab": {
          "base_uri": "https://localhost:8080/",
          "height": 119
        }
      },
      "source": [
        "x = 3.1415926\n",
        "y = -12.9999\n",
        "print(\"\\nOriginal Number: \", x)\n",
        "print(\"Formatted Number with sign: \" + \"{:+.2f}\".format(x))\n",
        "print(\"\\nOriginal Number: \", y)\n",
        "print(\"Fomatted Number with sign: \" + \"{:+.2f}\".format(y))"
      ],
      "execution_count": 0,
      "outputs": [
        {
          "output_type": "stream",
          "text": [
            "\n",
            "Original Number:  3.1415926\n",
            "Formatted Number with sign: +3.14\n",
            "\n",
            "Original Number:  -12.9999\n",
            "Fomatted Number with sign: -13.00\n"
          ],
          "name": "stdout"
        }
      ]
    },
    {
      "cell_type": "markdown",
      "metadata": {
        "id": "4R3j_VL9B6ZT",
        "colab_type": "text"
      },
      "source": [
        "**32, Viết chương trình Python để in các số trôi nổi sau không có số thập phân.**\n",
        "\n",
        "**Write a Python program to print the following floating numbers with no decimal places.**\n",
        "\n",
        "![alt text](https://www.w3resource.com/w3r_images/python-data-type-string-image-exercise-32.png)"
      ]
    },
    {
      "cell_type": "code",
      "metadata": {
        "id": "yJELP35fBq0a",
        "colab_type": "code",
        "outputId": "eacbf51f-ce7f-4a13-c1b8-c695f620b457",
        "colab": {
          "base_uri": "https://localhost:8080/",
          "height": 119
        }
      },
      "source": [
        "x = 3.1415926\n",
        "y = -12.9999\n",
        "print(\"\\nOriginal Number: \", x)\n",
        "print(\"Formatted Number with no decimal places: \"+\"{:.0f}\".format(x));\n",
        "print(\"Original Number: \", y)\n",
        "print(\"Formatted Number with no decimal places: \"+\"{:.0f}\".format(y));\n",
        "print()\n"
      ],
      "execution_count": 0,
      "outputs": [
        {
          "output_type": "stream",
          "text": [
            "\n",
            "Original Number:  3.1415926\n",
            "Formatted Number with no decimal places: 3\n",
            "Original Number:  -12.9999\n",
            "Formatted Number with no decimal places: -13\n",
            "\n"
          ],
          "name": "stdout"
        }
      ]
    },
    {
      "cell_type": "markdown",
      "metadata": {
        "id": "v8k5KUTwCQBK",
        "colab_type": "text"
      },
      "source": [
        "**33, Viết chương trình Python để in các số nguyên sau với các số 0 ở bên trái chiều rộng được chỉ định.**\n",
        "\n",
        "**Write a Python program to print the following integers with zeros on the left of specified width.**\n",
        "\n",
        "![alt text](https://www.w3resource.com/w3r_images/python-data-type-string-image-exercise-33.png)"
      ]
    },
    {
      "cell_type": "code",
      "metadata": {
        "id": "Stl3umawCJdz",
        "colab_type": "code",
        "outputId": "18f106f0-3ba6-4076-eee0-70edf6860cc7",
        "colab": {
          "base_uri": "https://localhost:8080/",
          "height": 119
        }
      },
      "source": [
        "x = 3\n",
        "y = 123\n",
        "print(\"\\nOriginal Number: \", x)\n",
        "print(\"Formatted Number(left padding, width 2): \"+\"{:0>2d}\".format(x));\n",
        "print(\"Original Number: \", y)\n",
        "print(\"Formatted Number(left padding, width 6): \"+\"{:0>6d}\".format(y));\n",
        "print()"
      ],
      "execution_count": 0,
      "outputs": [
        {
          "output_type": "stream",
          "text": [
            "\n",
            "Original Number:  3\n",
            "Formatted Number(left padding, width 2): 03\n",
            "Original Number:  123\n",
            "Formatted Number(left padding, width 6): 000123\n",
            "\n"
          ],
          "name": "stdout"
        }
      ]
    },
    {
      "cell_type": "markdown",
      "metadata": {
        "id": "WKIBqA2SC54W",
        "colab_type": "text"
      },
      "source": [
        " **34, Viết chương trình Python để in các số nguyên sau với '*' ở bên phải chiều rộng được chỉ định.**\n",
        "\n",
        "**Write a Python program to print the following integers with '*' on the right of specified width.**\n",
        "\n",
        "![alt text](https://www.w3resource.com/w3r_images/python-data-type-string-image-exercise-34.png)"
      ]
    },
    {
      "cell_type": "code",
      "metadata": {
        "id": "PRH_6zZNCY9g",
        "colab_type": "code",
        "outputId": "2dbae25f-7369-4ab0-9263-3d4d61f6f0bf",
        "colab": {
          "base_uri": "https://localhost:8080/",
          "height": 119
        }
      },
      "source": [
        "x = 3\n",
        "y = 123\n",
        "print(\"\\nOriginal Number: \", x)\n",
        "print(\"Formatted Number(right padding, width 2): \"+\"{:*< 3d}\".format(x));\n",
        "print(\"Original Number: \", y)\n",
        "print(\"Formatted Number(right padding, width 6): \"+\"{:*< 7d}\".format(y));\n",
        "print()"
      ],
      "execution_count": 0,
      "outputs": [
        {
          "output_type": "stream",
          "text": [
            "\n",
            "Original Number:  3\n",
            "Formatted Number(right padding, width 2):  3*\n",
            "Original Number:  123\n",
            "Formatted Number(right padding, width 6):  123***\n",
            "\n"
          ],
          "name": "stdout"
        }
      ]
    },
    {
      "cell_type": "markdown",
      "metadata": {
        "id": "K7E8yZMDDddM",
        "colab_type": "text"
      },
      "source": [
        "**35, Viết chương trình Python để hiển thị số bằng dấu phân cách dấu phẩy.**\n",
        "\n",
        "**Write a Python program to display a number with a comma separator.**\n",
        "\n",
        "![alt text](https://www.w3resource.com/w3r_images/python-data-type-string-image-exercise-35.png)"
      ]
    },
    {
      "cell_type": "code",
      "metadata": {
        "id": "qqRfUEWmDOoi",
        "colab_type": "code",
        "outputId": "63fb8a09-6dd0-4a4a-a674-a6592c03be03",
        "colab": {
          "base_uri": "https://localhost:8080/",
          "height": 119
        }
      },
      "source": [
        "x = 3000000\n",
        "y = 30000000\n",
        "print(\"\\nOriginal Number: \", x)\n",
        "print(\"Formatted Number with comma separator: \"+\"{:,}\".format(x));\n",
        "print(\"Original Number: \", y)\n",
        "print(\"Formatted Number with comma separator: \"+\"{:,}\".format(y));\n",
        "print()"
      ],
      "execution_count": 0,
      "outputs": [
        {
          "output_type": "stream",
          "text": [
            "\n",
            "Original Number:  3000000\n",
            "Formatted Number with comma separator: 3,000,000\n",
            "Original Number:  30000000\n",
            "Formatted Number with comma separator: 30,000,000\n",
            "\n"
          ],
          "name": "stdout"
        }
      ]
    },
    {
      "cell_type": "markdown",
      "metadata": {
        "id": "tsxdkgklDv0c",
        "colab_type": "text"
      },
      "source": [
        "**40, Viết chương trình Python để định dạng một số có tỷ lệ phần trăm.**\n",
        "\n",
        "**Write a Python program to format a number with a percentage.**\n",
        "\n",
        "![alt text](https://www.w3resource.com/w3r_images/python-data-type-string-image-exercise-36.png)"
      ]
    },
    {
      "cell_type": "code",
      "metadata": {
        "id": "NH9O2QOiDnhe",
        "colab_type": "code",
        "outputId": "a82d4d9a-464b-4d9e-f65e-58bfb38df8a7",
        "colab": {
          "base_uri": "https://localhost:8080/",
          "height": 119
        }
      },
      "source": [
        "x = 0.25\n",
        "y = -0.25\n",
        "print(\"\\nOriginal Number: \", x)\n",
        "print(\"Formatted Number with percentage: \"+\"{:.2%}\".format(x));\n",
        "print(\"Original Number: \", y)\n",
        "print(\"Formatted Number with percentage: \"+\"{:.2%}\".format(y));\n",
        "print()"
      ],
      "execution_count": 0,
      "outputs": [
        {
          "output_type": "stream",
          "text": [
            "\n",
            "Original Number:  0.25\n",
            "Formatted Number with percentage: 25.00%\n",
            "Original Number:  -0.25\n",
            "Formatted Number with percentage: -25.00%\n",
            "\n"
          ],
          "name": "stdout"
        }
      ]
    },
    {
      "cell_type": "markdown",
      "metadata": {
        "id": "xJ_Ljd0HECck",
        "colab_type": "text"
      },
      "source": [
        "**37, Viết chương trình Python để hiển thị một số ở bên trái, bên phải và căn giữa có chiều rộng 10.**\n",
        "\n",
        "**Write a Python program to display a number in left, right and center aligned of width 10.**\n",
        "\n",
        "![alt text](https://www.w3resource.com/w3r_images/python-data-type-string-image-exercise-37.png)"
      ]
    },
    {
      "cell_type": "code",
      "metadata": {
        "id": "6KxLILZlD8iL",
        "colab_type": "code",
        "outputId": "90105e09-ecce-4661-e636-211766736496",
        "colab": {
          "base_uri": "https://localhost:8080/",
          "height": 119
        }
      },
      "source": [
        "x = 22\n",
        "print(\"\\nOriginal Number: \", x)\n",
        "print(\"Left aligned (width 10)   :\"+\"{:< 10d}\".format(x));\n",
        "print(\"Right aligned (width 10)  :\"+\"{:10d}\".format(x));\n",
        "print(\"Center aligned (width 10) :\"+\"{:^10d}\".format(x));\n",
        "print()"
      ],
      "execution_count": 0,
      "outputs": [
        {
          "output_type": "stream",
          "text": [
            "\n",
            "Original Number:  22\n",
            "Left aligned (width 10)   : 22       \n",
            "Right aligned (width 10)  :        22\n",
            "Center aligned (width 10) :    22    \n",
            "\n"
          ],
          "name": "stdout"
        }
      ]
    },
    {
      "cell_type": "markdown",
      "metadata": {
        "id": "KCgkkw26ETzK",
        "colab_type": "text"
      },
      "source": [
        "**38, Viết chương trình Python để đếm số lần xuất hiện của chuỗi con trong chuỗi.**\n",
        "\n",
        "**Write a Python program to count occurrences of a substring in a string.**\n",
        "\n",
        "![alt text](https://www.w3resource.com/w3r_images/python-data-type-string-image-exercise-38.png)"
      ]
    },
    {
      "cell_type": "code",
      "metadata": {
        "id": "nlSiTuj_EMD9",
        "colab_type": "code",
        "outputId": "499a0766-7662-4f9c-9afc-437962f4acc2",
        "colab": {
          "base_uri": "https://localhost:8080/",
          "height": 34
        }
      },
      "source": [
        "str1 = 'The quick brown fox jumps over the lazy dog'\n",
        "print(str1.count(\"fox\"))"
      ],
      "execution_count": 0,
      "outputs": [
        {
          "output_type": "stream",
          "text": [
            "1\n"
          ],
          "name": "stdout"
        }
      ]
    },
    {
      "cell_type": "markdown",
      "metadata": {
        "id": "lqQC36f1Epwr",
        "colab_type": "text"
      },
      "source": [
        "**39, Viết chương trình Python để đảo ngược chuỗi.**\n",
        "\n",
        "**Write a Python program to reverse a string.**\n",
        "\n",
        "![alt text](https://www.w3resource.com/w3r_images/python-data-type-string-image-exercise-39.png)"
      ]
    },
    {
      "cell_type": "code",
      "metadata": {
        "id": "LCOxWReyEl_B",
        "colab_type": "code",
        "outputId": "34b09812-2d21-4adb-c91e-964c9ee4639c",
        "colab": {
          "base_uri": "https://localhost:8080/",
          "height": 51
        }
      },
      "source": [
        "def reverse_string(str1):\n",
        "  return ''.join(reversed(str1))          # Không sử dụng str1 = reversed(str1) được\n",
        "print(reverse_string(\"abcdef\"))\n",
        "print(reverse_string(\"Python Exercises\"))\n",
        "#str1 = \"Javascript\"\n",
        "#print(str1[::-1])"
      ],
      "execution_count": 0,
      "outputs": [
        {
          "output_type": "stream",
          "text": [
            "fedcba\n",
            "sesicrexE nohtyP\n"
          ],
          "name": "stdout"
        }
      ]
    },
    {
      "cell_type": "markdown",
      "metadata": {
        "id": "eLzuzL23GlcP",
        "colab_type": "text"
      },
      "source": [
        "**40, Viết chương trình Python để đảo ngược các từ trong chuỗi.**\n",
        "\n",
        "**Write a Python program to reverse words in a string.**\n",
        "\n",
        "![alt text](https://www.w3resource.com/w3r_images/python-data-type-string-image-exercise-40.png)"
      ]
    },
    {
      "cell_type": "code",
      "metadata": {
        "id": "qghYbVpgE3gA",
        "colab_type": "code",
        "outputId": "48df7fff-33b5-4da5-e81d-58992dbc058e",
        "colab": {
          "base_uri": "https://localhost:8080/",
          "height": 34
        }
      },
      "source": [
        "def reverse_words_string(str1):\n",
        "  str1 = str1.split()\n",
        "  return list(reversed(str1))\n",
        "reverse_words_string(\"The quick brown fox\")\n",
        "\n",
        "\"\"\" Cách 2: KHông cần sử dụng list.\n",
        "def reverse_string_words(text):\n",
        "  for line in text.split('\\n'):             line = \"The quick brown fox\"\n",
        "    return (' '.join(line.split()[::-1]))   str tách nhau bới dấu cách, duyệt theo chiều -1, join \" \" vào giữa chuỗi"
      ],
      "execution_count": 0,
      "outputs": [
        {
          "output_type": "execute_result",
          "data": {
            "text/plain": [
              "['fox', 'brown', 'quick', 'The']"
            ]
          },
          "metadata": {
            "tags": []
          },
          "execution_count": 16
        }
      ]
    },
    {
      "cell_type": "markdown",
      "metadata": {
        "id": "0KcNVn14IGTu",
        "colab_type": "text"
      },
      "source": [
        "**41, Viết chương trình Python để tách một tập hợp các ký tự từ một chuỗi.**\n",
        "\n",
        "**Write a Python program to strip a set of characters from a string.**\n",
        "\n",
        "![alt text](https://www.w3resource.com/w3r_images/python-data-type-string-image-exercise-41.png)"
      ]
    },
    {
      "cell_type": "code",
      "metadata": {
        "id": "EzYHPtD9G_M8",
        "colab_type": "code",
        "outputId": "3a011dac-ff63-4653-ee37-0b9b6015a2c5",
        "colab": {
          "base_uri": "https://localhost:8080/",
          "height": 119
        }
      },
      "source": [
        "def strip_chars(str1, chars):\n",
        "  return \"\".join(c for c in str1 if c not in chars)       # str bằng duyệt từng ký tự trong str1 và giữ lại những ký tự không nằm trong chars\n",
        "\n",
        "print(\"\\nOriginal String: \")\n",
        "print(\"The quick brown fox jumps over the lazy dog.\")\n",
        "print(\"After stripping a,e,i,o,u\")      \n",
        "print(strip_chars(\"The quick brown fox jumps over the lazy dog.\", \"aeiou\"))\n",
        "print()\n"
      ],
      "execution_count": 0,
      "outputs": [
        {
          "output_type": "stream",
          "text": [
            "\n",
            "Original String: \n",
            "The quick brown fox jumps over the lazy dog.\n",
            "After stripping a,e,i,o,u\n",
            "Th qck brwn fx jmps vr th lzy dg.\n",
            "\n"
          ],
          "name": "stdout"
        }
      ]
    },
    {
      "cell_type": "markdown",
      "metadata": {
        "id": "miF8J8QUJclc",
        "colab_type": "text"
      },
      "source": [
        "**42, Viết chương trình python để đếm các ký tự lặp lại trong một chuỗi.**\n",
        "\n",
        "**Write a python program to count repeated characters in a string.**\n",
        "\n",
        "![alt text](https://www.w3resource.com/w3r_images/python-data-type-string-image-exercise-42.png)"
      ]
    },
    {
      "cell_type": "code",
      "metadata": {
        "id": "-56QOPdCIfyz",
        "colab_type": "code",
        "outputId": "29e95ca3-14d6-4b08-ac14-58e8197ad6cc",
        "colab": {
          "base_uri": "https://localhost:8080/",
          "height": 119
        }
      },
      "source": [
        "import collections\n",
        "str1 = \"thequickbrownfoxjumpsoverthelazydog\"\n",
        "d = collections.defaultdict(int)              # defaultdict(<class 'int'>, {})k, collections.defaultdict([default_factory[, ...]]) Returns a new dictionary-like object\n",
        "for c in str1:                                # defaultdict(<class 'int'>, {'t': 2, 'h': 2, 'e': 3, 'q': 1, 'u': 2, 'i': 1, 'c': 1, 'k': 1, 'b': 1, 'r': 2, 'o': 4, 'w': 1, 'n': 1, 'f': 1, 'x': 1, 'j': 1, 'm': 1, 'p': 1, 's': 1, 'v': 1, 'l': 1, 'a': 1, 'z': 1, 'y': 1, 'd': 1, 'g': 1})\n",
        "  d[c] += 1\n",
        "\n",
        "for c in sorted(d, key=d.get, reverse=True):  # Sắp xếp từ lớn đến bé\n",
        "  if d[c] > 1:                                # Điều kiện values của d[c] > 1, tức số lặp lại từ 2 lần\n",
        "    print('%s %d' % (c, d[c]))"
      ],
      "execution_count": 0,
      "outputs": [
        {
          "output_type": "stream",
          "text": [
            "o 4\n",
            "e 3\n",
            "t 2\n",
            "h 2\n",
            "u 2\n",
            "r 2\n"
          ],
          "name": "stdout"
        }
      ]
    },
    {
      "cell_type": "markdown",
      "metadata": {
        "id": "LPaNpvn8L2H8",
        "colab_type": "text"
      },
      "source": [
        "**43, Viết chương trình Python để in biểu tượng hình vuông và hình khối trong khu vực hình chữ nhật và thể tích của hình trụ.**\n",
        "\n",
        "**Write a Python program to print the square and cube symbol in the area of a rectangle and volume of a cylinder.**\n",
        "\n",
        "![alt text](https://www.w3resource.com/w3r_images/python-data-type-string-image-exercise-43.png)"
      ]
    },
    {
      "cell_type": "code",
      "metadata": {
        "id": "L-0IcprWJ7As",
        "colab_type": "code",
        "outputId": "fd00c7a4-0b40-415f-c3b9-4db3b03ec067",
        "colab": {
          "base_uri": "https://localhost:8080/",
          "height": 51
        }
      },
      "source": [
        "area = 1256.66\n",
        "volume = 1254.725\n",
        "decimals = 2\n",
        "print(\"The area of the rectangle is {0:.{1}f}cm\\u00b2\".format(area, decimals))        # in diện tích bình phương, cm vuông\n",
        "decimals = 3\n",
        "print(\"The volume of the cylinder is {0:.{1}f}cm\\u00b3\".format(volume, decimals))     # in thể tích, mũ 3, cm khối"
      ],
      "execution_count": 0,
      "outputs": [
        {
          "output_type": "stream",
          "text": [
            "The area of the rectangle is 1256.66cm²\n",
            "The volume of the cylinder is 1254.725cm³\n"
          ],
          "name": "stdout"
        }
      ]
    },
    {
      "cell_type": "markdown",
      "metadata": {
        "id": "0JXIbzSeMoQD",
        "colab_type": "text"
      },
      "source": [
        "**44, Viết chương trình Python để in chỉ mục của ký tự trong chuỗi.**\n",
        "\n",
        "**Write a Python program to print the index of the character in a string.**\n",
        "\n",
        "![alt text](https://www.w3resource.com/w3r_images/python-data-type-string-image-exercise-44.png)"
      ]
    },
    {
      "cell_type": "code",
      "metadata": {
        "id": "AEepQcnTMHcX",
        "colab_type": "code",
        "outputId": "f433dfff-d272-4822-ed23-d7bc346055f9",
        "colab": {
          "base_uri": "https://localhost:8080/",
          "height": 119
        }
      },
      "source": [
        "str1 = \"BimBeo\"\n",
        "for index, char in enumerate(str1):\n",
        "  print(\"Current character\", char, \"position at\", index)"
      ],
      "execution_count": 0,
      "outputs": [
        {
          "output_type": "stream",
          "text": [
            "Current character B position at 0\n",
            "Current character i position at 1\n",
            "Current character m position at 2\n",
            "Current character B position at 3\n",
            "Current character e position at 4\n",
            "Current character o position at 5\n"
          ],
          "name": "stdout"
        }
      ]
    },
    {
      "cell_type": "markdown",
      "metadata": {
        "id": "aRxq3yq6NIjl",
        "colab_type": "text"
      },
      "source": [
        "**45, Viết chương trình Python để kiểm tra xem một chuỗi có chứa tất cả các chữ cái trong bảng chữ cái hay không.**\n",
        "\n",
        "**Write a Python program to check whether a string contains all letters of the alphabet.**\n",
        "\n",
        "![alt text](https://www.w3resource.com/w3r_images/python-data-type-string-image-exercise-45.png)"
      ]
    },
    {
      "cell_type": "code",
      "metadata": {
        "id": "x_9nbBjgM_Th",
        "colab_type": "code",
        "outputId": "94880e86-a241-47e2-b80b-73ee62801fac",
        "colab": {
          "base_uri": "https://localhost:8080/",
          "height": 51
        }
      },
      "source": [
        "import string \n",
        "alphabet = set(string.ascii_lowercase)              # biến alphabet là 1 set, bên trong chứa 26 chữ cái viết thường\n",
        "input_string = \"The quick brown fox jumps over the lazy dog\"\n",
        "print(set(input_string.lower()) >= alphabet)        # ép kiểu input_string thành set để loại từ trùng, nếu set >= 26 chữ cái thì có đầy đủ chữ \n",
        "input_string = \"The quick brown fox jumps over the lazy cat\"\n",
        "print(set(input_string.lower()) >= alphabet)"
      ],
      "execution_count": 0,
      "outputs": [
        {
          "output_type": "stream",
          "text": [
            "True\n",
            "False\n"
          ],
          "name": "stdout"
        }
      ]
    },
    {
      "cell_type": "markdown",
      "metadata": {
        "id": "lXjtF20sOeVt",
        "colab_type": "text"
      },
      "source": [
        "**46, Viết chương trình Python để chuyển đổi một chuỗi trong danh sách.**\n",
        "\n",
        "**Write a Python program to convert a string in a list.**\n",
        "\n",
        "![alt text](https://www.w3resource.com/w3r_images/python-data-type-string-image-exercise-46.png)"
      ]
    },
    {
      "cell_type": "code",
      "metadata": {
        "id": "A_nzMYLMNrWe",
        "colab_type": "code",
        "outputId": "05ae7e00-3a6c-4422-c2df-1005e74d76b9",
        "colab": {
          "base_uri": "https://localhost:8080/",
          "height": 51
        }
      },
      "source": [
        "str1 = \"This is a test string\"\n",
        "print(str1.split(\" \"))\n",
        "str2 = \"The-quick-brown-fox-jumps-over-the-lazy-dog.\"\n",
        "print(str2.split('-'))"
      ],
      "execution_count": 0,
      "outputs": [
        {
          "output_type": "stream",
          "text": [
            "['This', 'is', 'a', 'test', 'string']\n",
            "['The', 'quick', 'brown', 'fox', 'jumps', 'over', 'the', 'lazy', 'dog.']\n"
          ],
          "name": "stdout"
        }
      ]
    },
    {
      "cell_type": "markdown",
      "metadata": {
        "id": "MMlMI-1TO7Yk",
        "colab_type": "text"
      },
      "source": [
        "**47, Viết chương trình Python để viết thường n ký tự đầu tiên trong chuỗi.**\n",
        "\n",
        "**Write a Python program to lowercase first n characters in a string.**\n",
        "\n",
        "![alt text](https://www.w3resource.com/w3r_images/python-data-type-string-image-exercise-47.png)\n"
      ]
    },
    {
      "cell_type": "code",
      "metadata": {
        "id": "LcXnxd4ZOwto",
        "colab_type": "code",
        "outputId": "cb567431-3edc-40a0-b262-b4458979c27d",
        "colab": {
          "base_uri": "https://localhost:8080/",
          "height": 34
        }
      },
      "source": [
        "def lowercase(str1):\n",
        "  str1 = str1[:4].lower() + str1[4:]\n",
        "  return str1\n",
        "lowercase(\"W3RESOURCE.COM\")"
      ],
      "execution_count": 0,
      "outputs": [
        {
          "output_type": "execute_result",
          "data": {
            "text/plain": [
              "'w3reSOURCE.COM'"
            ]
          },
          "metadata": {
            "tags": []
          },
          "execution_count": 32
        }
      ]
    },
    {
      "cell_type": "markdown",
      "metadata": {
        "id": "MCBAFx2iPwYB",
        "colab_type": "text"
      },
      "source": [
        "**48, Viết chương trình Python để hoán đổi dấu phẩy và dấu chấm trong chuỗi.**\n",
        "\n",
        "**Write a Python program to swap comma and dot in a string.**\n",
        "\n",
        "![alt text](https://www.w3resource.com/w3r_images/python-data-type-string-image-exercise-48.png)"
      ]
    },
    {
      "cell_type": "code",
      "metadata": {
        "id": "bhWqcWr4PjQy",
        "colab_type": "code",
        "outputId": "4f019143-481e-412d-d1ab-f5784ba638f9",
        "colab": {
          "base_uri": "https://localhost:8080/",
          "height": 34
        }
      },
      "source": [
        "str1 = \"32.054.23\"\n",
        "print(str1.replace('.', ','))\n",
        "\"\"\" Cách 2:\n",
        "amount = \"32.054,23\"\n",
        "maketrans = amount.maketrans\n",
        "amount = amount.translate(maketrans(',.', '.,'))\n",
        "print(amount)\"\"\""
      ],
      "execution_count": 0,
      "outputs": [
        {
          "output_type": "stream",
          "text": [
            "32,054,23\n"
          ],
          "name": "stdout"
        }
      ]
    },
    {
      "cell_type": "markdown",
      "metadata": {
        "id": "UDXQs3ZuQcL0",
        "colab_type": "text"
      },
      "source": [
        "**49, Viết chương trình Python để đếm và hiển thị các nguyên âm của một văn bản đã cho.**\n",
        "\n",
        "**Write a Python program to count and display the vowels of a given text.**\n",
        "\n",
        "![alt text](https://www.w3resource.com/w3r_images/python-data-type-string-image-exercise-49.png)"
      ]
    },
    {
      "cell_type": "code",
      "metadata": {
        "id": "u_KyDj65QD3z",
        "colab_type": "code",
        "outputId": "d13abbeb-866a-49a2-f720-821b389c1725",
        "colab": {
          "base_uri": "https://localhost:8080/",
          "height": 34
        }
      },
      "source": [
        "def vowel(text):\n",
        "  vowels = \"aeiouAEIOU\"\n",
        "  print(len[letter for letter in text if letter in vowels]) # trả về độ dài của list được tạo và thêm những ký tự trong text có vowels\n",
        "  print([letter for letter in text if letter in vowels])\n",
        "vowel('w3resource')\n",
        "\"\"\"Cách 2: \n",
        "def count_vowel(str1):\n",
        "  count = 0\n",
        "  char = \"aeiou\"\n",
        "  for i in str1:\n",
        "    if i in char:\n",
        "      count += 1\n",
        "  return count\n",
        "count_vowel(\"Welcome to w3resource.com\") \"\"\""
      ],
      "execution_count": 0,
      "outputs": [
        {
          "output_type": "execute_result",
          "data": {
            "text/plain": [
              "9"
            ]
          },
          "metadata": {
            "tags": []
          },
          "execution_count": 36
        }
      ]
    },
    {
      "cell_type": "markdown",
      "metadata": {
        "id": "L0XLRWlzSVwt",
        "colab_type": "text"
      },
      "source": [
        "**50, Viết chương trình Python để phân tách một chuỗi trong lần xuất hiện cuối cùng của dấu phân cách.**\n",
        "\n",
        "**Write a Python program to split a string on the last occurrence of the delimiter.**\n",
        "\n",
        "![alt text](https://www.w3resource.com/w3r_images/python-data-type-string-image-exercise-50.png)"
      ]
    },
    {
      "cell_type": "code",
      "metadata": {
        "id": "aoSN8SVoRYr4",
        "colab_type": "code",
        "outputId": "9783481b-7fa8-476b-92d6-cb029c4c1cc5",
        "colab": {
          "base_uri": "https://localhost:8080/",
          "height": 68
        }
      },
      "source": [
        "str1 = \"w,3,r,e,s,o,u,r,c,e\"\n",
        "print(str1.rsplit(',', 1))    # rsplit(sep, maxplit): thực hiện theo hướng ngược từ cuối chuỗi, maxsplit 1 là 1 dấu phẩy\n",
        "print(str1.rsplit(',', 2))\n",
        "print(str1.rsplit(',', 5))"
      ],
      "execution_count": 0,
      "outputs": [
        {
          "output_type": "stream",
          "text": [
            "['w,3,r,e,s,o,u,r,c', 'e']\n",
            "['w,3,r,e,s,o,u,r', 'c', 'e']\n",
            "['w,3,r,e,s', 'o', 'u', 'r', 'c', 'e']\n"
          ],
          "name": "stdout"
        }
      ]
    },
    {
      "cell_type": "markdown",
      "metadata": {
        "id": "Sug5QbhsTC1d",
        "colab_type": "text"
      },
      "source": [
        "**51, Viết chương trình Python để tìm ký tự không lặp lại đầu tiên trong chuỗi đã cho.**\n",
        "\n",
        "**Write a Python program to find the first non-repeating character in given string.**\n",
        "\n",
        "![alt text](https://www.w3resource.com/w3r_images/python-data-type-string-image-exercise-51-a.svg)\n",
        "\n",
        "![alt text](https://www.w3resource.com/w3r_images/python-data-type-string-image-exercise-51-b.svg)"
      ]
    },
    {
      "cell_type": "code",
      "metadata": {
        "id": "oEBEHkPUSp4n",
        "colab_type": "code",
        "outputId": "8d350c04-3acb-40f8-b077-3a69952ec616",
        "colab": {
          "base_uri": "https://localhost:8080/",
          "height": 68
        }
      },
      "source": [
        "def first_non_repeating_character(str1):\n",
        "  char_order = []                       # tạo list char_order rỗng\n",
        "  ctr = {}                              # tạo dict ctr rỗng\n",
        "  for c in str1:                        # duyệt giá trị từng phần tử trong chuỗi str1\n",
        "    if c in ctr:                        # nếu c nằm trong ctr\n",
        "      ctr[c] += 1                       # dict key ctr[c] = ctr[c] + 1\n",
        "    else:                               # nếu c không nằm trong ctr\n",
        "      ctr[c] = 1                        # ctr[c] = 1\n",
        "      char_order.append(c)              # thêm từng phần tử c vào list char_order\n",
        "  for c in char_order:                  # duyệt giá trị từng phần tử trong char_order\n",
        "    if ctr[c] == 1:                     # nếu index ctr[c] == 1\n",
        "      return c                          # trả về c\n",
        "  return None \n",
        "\n",
        "print(first_non_repeating_character('abcdef'))\n",
        "print(first_non_repeating_character('abcabcdef'))\n",
        "print(first_non_repeating_character('aabbcc'))"
      ],
      "execution_count": 0,
      "outputs": [
        {
          "output_type": "stream",
          "text": [
            "a\n",
            "d\n",
            "None\n"
          ],
          "name": "stdout"
        }
      ]
    },
    {
      "cell_type": "markdown",
      "metadata": {
        "id": "uPvS8vVYVJ4a",
        "colab_type": "text"
      },
      "source": [
        "**52, Viết chương trình Python để in tất cả các hoán vị với số ký tự lặp lại cho trước của một chuỗi đã cho.**\n",
        "\n",
        "**Write a Python program to print all permutations with given repetition number of characters of a given string.**\n",
        "\n",
        "![alt text](https://www.w3resource.com/w3r_images/python-data-type-string-image-exercise-52.svg)"
      ]
    },
    {
      "cell_type": "code",
      "metadata": {
        "id": "2kPh7DRcTlgq",
        "colab_type": "code",
        "outputId": "04b3ab0a-7b68-48e5-bd90-28b8652c3d45",
        "colab": {
          "base_uri": "https://localhost:8080/",
          "height": 88
        }
      },
      "source": [
        "from itertools import product \n",
        "def all_repeat(str1, rno):\n",
        "  chars = list(str1)\n",
        "  result = []\n",
        "  for c in product(chars, repeat = rno):\n",
        "    result.append(c)\n",
        "  return result \n",
        "print(all_repeat('xyz', 3))\n",
        "print(all_repeat('xyz', 2))\n",
        "print(all_repeat('abcd', 4))"
      ],
      "execution_count": 0,
      "outputs": [
        {
          "output_type": "stream",
          "text": [
            "[('x', 'x', 'x'), ('x', 'x', 'y'), ('x', 'x', 'z'), ('x', 'y', 'x'), ('x', 'y', 'y'), ('x', 'y', 'z'), ('x', 'z', 'x'), ('x', 'z', 'y'), ('x', 'z', 'z'), ('y', 'x', 'x'), ('y', 'x', 'y'), ('y', 'x', 'z'), ('y', 'y', 'x'), ('y', 'y', 'y'), ('y', 'y', 'z'), ('y', 'z', 'x'), ('y', 'z', 'y'), ('y', 'z', 'z'), ('z', 'x', 'x'), ('z', 'x', 'y'), ('z', 'x', 'z'), ('z', 'y', 'x'), ('z', 'y', 'y'), ('z', 'y', 'z'), ('z', 'z', 'x'), ('z', 'z', 'y'), ('z', 'z', 'z')]\n",
            "[('x', 'x'), ('x', 'y'), ('x', 'z'), ('y', 'x'), ('y', 'y'), ('y', 'z'), ('z', 'x'), ('z', 'y'), ('z', 'z')]\n",
            "[('a', 'a', 'a', 'a'), ('a', 'a', 'a', 'b'), ('a', 'a', 'a', 'c'), ('a', 'a', 'a', 'd'), ('a', 'a', 'b', 'a'), ('a', 'a', 'b', 'b'), ('a', 'a', 'b', 'c'), ('a', 'a', 'b', 'd'), ('a', 'a', 'c', 'a'), ('a', 'a', 'c', 'b'), ('a', 'a', 'c', 'c'), ('a', 'a', 'c', 'd'), ('a', 'a', 'd', 'a'), ('a', 'a', 'd', 'b'), ('a', 'a', 'd', 'c'), ('a', 'a', 'd', 'd'), ('a', 'b', 'a', 'a'), ('a', 'b', 'a', 'b'), ('a', 'b', 'a', 'c'), ('a', 'b', 'a', 'd'), ('a', 'b', 'b', 'a'), ('a', 'b', 'b', 'b'), ('a', 'b', 'b', 'c'), ('a', 'b', 'b', 'd'), ('a', 'b', 'c', 'a'), ('a', 'b', 'c', 'b'), ('a', 'b', 'c', 'c'), ('a', 'b', 'c', 'd'), ('a', 'b', 'd', 'a'), ('a', 'b', 'd', 'b'), ('a', 'b', 'd', 'c'), ('a', 'b', 'd', 'd'), ('a', 'c', 'a', 'a'), ('a', 'c', 'a', 'b'), ('a', 'c', 'a', 'c'), ('a', 'c', 'a', 'd'), ('a', 'c', 'b', 'a'), ('a', 'c', 'b', 'b'), ('a', 'c', 'b', 'c'), ('a', 'c', 'b', 'd'), ('a', 'c', 'c', 'a'), ('a', 'c', 'c', 'b'), ('a', 'c', 'c', 'c'), ('a', 'c', 'c', 'd'), ('a', 'c', 'd', 'a'), ('a', 'c', 'd', 'b'), ('a', 'c', 'd', 'c'), ('a', 'c', 'd', 'd'), ('a', 'd', 'a', 'a'), ('a', 'd', 'a', 'b'), ('a', 'd', 'a', 'c'), ('a', 'd', 'a', 'd'), ('a', 'd', 'b', 'a'), ('a', 'd', 'b', 'b'), ('a', 'd', 'b', 'c'), ('a', 'd', 'b', 'd'), ('a', 'd', 'c', 'a'), ('a', 'd', 'c', 'b'), ('a', 'd', 'c', 'c'), ('a', 'd', 'c', 'd'), ('a', 'd', 'd', 'a'), ('a', 'd', 'd', 'b'), ('a', 'd', 'd', 'c'), ('a', 'd', 'd', 'd'), ('b', 'a', 'a', 'a'), ('b', 'a', 'a', 'b'), ('b', 'a', 'a', 'c'), ('b', 'a', 'a', 'd'), ('b', 'a', 'b', 'a'), ('b', 'a', 'b', 'b'), ('b', 'a', 'b', 'c'), ('b', 'a', 'b', 'd'), ('b', 'a', 'c', 'a'), ('b', 'a', 'c', 'b'), ('b', 'a', 'c', 'c'), ('b', 'a', 'c', 'd'), ('b', 'a', 'd', 'a'), ('b', 'a', 'd', 'b'), ('b', 'a', 'd', 'c'), ('b', 'a', 'd', 'd'), ('b', 'b', 'a', 'a'), ('b', 'b', 'a', 'b'), ('b', 'b', 'a', 'c'), ('b', 'b', 'a', 'd'), ('b', 'b', 'b', 'a'), ('b', 'b', 'b', 'b'), ('b', 'b', 'b', 'c'), ('b', 'b', 'b', 'd'), ('b', 'b', 'c', 'a'), ('b', 'b', 'c', 'b'), ('b', 'b', 'c', 'c'), ('b', 'b', 'c', 'd'), ('b', 'b', 'd', 'a'), ('b', 'b', 'd', 'b'), ('b', 'b', 'd', 'c'), ('b', 'b', 'd', 'd'), ('b', 'c', 'a', 'a'), ('b', 'c', 'a', 'b'), ('b', 'c', 'a', 'c'), ('b', 'c', 'a', 'd'), ('b', 'c', 'b', 'a'), ('b', 'c', 'b', 'b'), ('b', 'c', 'b', 'c'), ('b', 'c', 'b', 'd'), ('b', 'c', 'c', 'a'), ('b', 'c', 'c', 'b'), ('b', 'c', 'c', 'c'), ('b', 'c', 'c', 'd'), ('b', 'c', 'd', 'a'), ('b', 'c', 'd', 'b'), ('b', 'c', 'd', 'c'), ('b', 'c', 'd', 'd'), ('b', 'd', 'a', 'a'), ('b', 'd', 'a', 'b'), ('b', 'd', 'a', 'c'), ('b', 'd', 'a', 'd'), ('b', 'd', 'b', 'a'), ('b', 'd', 'b', 'b'), ('b', 'd', 'b', 'c'), ('b', 'd', 'b', 'd'), ('b', 'd', 'c', 'a'), ('b', 'd', 'c', 'b'), ('b', 'd', 'c', 'c'), ('b', 'd', 'c', 'd'), ('b', 'd', 'd', 'a'), ('b', 'd', 'd', 'b'), ('b', 'd', 'd', 'c'), ('b', 'd', 'd', 'd'), ('c', 'a', 'a', 'a'), ('c', 'a', 'a', 'b'), ('c', 'a', 'a', 'c'), ('c', 'a', 'a', 'd'), ('c', 'a', 'b', 'a'), ('c', 'a', 'b', 'b'), ('c', 'a', 'b', 'c'), ('c', 'a', 'b', 'd'), ('c', 'a', 'c', 'a'), ('c', 'a', 'c', 'b'), ('c', 'a', 'c', 'c'), ('c', 'a', 'c', 'd'), ('c', 'a', 'd', 'a'), ('c', 'a', 'd', 'b'), ('c', 'a', 'd', 'c'), ('c', 'a', 'd', 'd'), ('c', 'b', 'a', 'a'), ('c', 'b', 'a', 'b'), ('c', 'b', 'a', 'c'), ('c', 'b', 'a', 'd'), ('c', 'b', 'b', 'a'), ('c', 'b', 'b', 'b'), ('c', 'b', 'b', 'c'), ('c', 'b', 'b', 'd'), ('c', 'b', 'c', 'a'), ('c', 'b', 'c', 'b'), ('c', 'b', 'c', 'c'), ('c', 'b', 'c', 'd'), ('c', 'b', 'd', 'a'), ('c', 'b', 'd', 'b'), ('c', 'b', 'd', 'c'), ('c', 'b', 'd', 'd'), ('c', 'c', 'a', 'a'), ('c', 'c', 'a', 'b'), ('c', 'c', 'a', 'c'), ('c', 'c', 'a', 'd'), ('c', 'c', 'b', 'a'), ('c', 'c', 'b', 'b'), ('c', 'c', 'b', 'c'), ('c', 'c', 'b', 'd'), ('c', 'c', 'c', 'a'), ('c', 'c', 'c', 'b'), ('c', 'c', 'c', 'c'), ('c', 'c', 'c', 'd'), ('c', 'c', 'd', 'a'), ('c', 'c', 'd', 'b'), ('c', 'c', 'd', 'c'), ('c', 'c', 'd', 'd'), ('c', 'd', 'a', 'a'), ('c', 'd', 'a', 'b'), ('c', 'd', 'a', 'c'), ('c', 'd', 'a', 'd'), ('c', 'd', 'b', 'a'), ('c', 'd', 'b', 'b'), ('c', 'd', 'b', 'c'), ('c', 'd', 'b', 'd'), ('c', 'd', 'c', 'a'), ('c', 'd', 'c', 'b'), ('c', 'd', 'c', 'c'), ('c', 'd', 'c', 'd'), ('c', 'd', 'd', 'a'), ('c', 'd', 'd', 'b'), ('c', 'd', 'd', 'c'), ('c', 'd', 'd', 'd'), ('d', 'a', 'a', 'a'), ('d', 'a', 'a', 'b'), ('d', 'a', 'a', 'c'), ('d', 'a', 'a', 'd'), ('d', 'a', 'b', 'a'), ('d', 'a', 'b', 'b'), ('d', 'a', 'b', 'c'), ('d', 'a', 'b', 'd'), ('d', 'a', 'c', 'a'), ('d', 'a', 'c', 'b'), ('d', 'a', 'c', 'c'), ('d', 'a', 'c', 'd'), ('d', 'a', 'd', 'a'), ('d', 'a', 'd', 'b'), ('d', 'a', 'd', 'c'), ('d', 'a', 'd', 'd'), ('d', 'b', 'a', 'a'), ('d', 'b', 'a', 'b'), ('d', 'b', 'a', 'c'), ('d', 'b', 'a', 'd'), ('d', 'b', 'b', 'a'), ('d', 'b', 'b', 'b'), ('d', 'b', 'b', 'c'), ('d', 'b', 'b', 'd'), ('d', 'b', 'c', 'a'), ('d', 'b', 'c', 'b'), ('d', 'b', 'c', 'c'), ('d', 'b', 'c', 'd'), ('d', 'b', 'd', 'a'), ('d', 'b', 'd', 'b'), ('d', 'b', 'd', 'c'), ('d', 'b', 'd', 'd'), ('d', 'c', 'a', 'a'), ('d', 'c', 'a', 'b'), ('d', 'c', 'a', 'c'), ('d', 'c', 'a', 'd'), ('d', 'c', 'b', 'a'), ('d', 'c', 'b', 'b'), ('d', 'c', 'b', 'c'), ('d', 'c', 'b', 'd'), ('d', 'c', 'c', 'a'), ('d', 'c', 'c', 'b'), ('d', 'c', 'c', 'c'), ('d', 'c', 'c', 'd'), ('d', 'c', 'd', 'a'), ('d', 'c', 'd', 'b'), ('d', 'c', 'd', 'c'), ('d', 'c', 'd', 'd'), ('d', 'd', 'a', 'a'), ('d', 'd', 'a', 'b'), ('d', 'd', 'a', 'c'), ('d', 'd', 'a', 'd'), ('d', 'd', 'b', 'a'), ('d', 'd', 'b', 'b'), ('d', 'd', 'b', 'c'), ('d', 'd', 'b', 'd'), ('d', 'd', 'c', 'a'), ('d', 'd', 'c', 'b'), ('d', 'd', 'c', 'c'), ('d', 'd', 'c', 'd'), ('d', 'd', 'd', 'a'), ('d', 'd', 'd', 'b'), ('d', 'd', 'd', 'c'), ('d', 'd', 'd', 'd')]\n"
          ],
          "name": "stdout"
        }
      ]
    },
    {
      "cell_type": "markdown",
      "metadata": {
        "id": "JuV3uLUKWZ_y",
        "colab_type": "text"
      },
      "source": [
        "**53, Viết chương trình Python để tìm ký tự lặp lại đầu tiên trong một chuỗi đã cho.**\n",
        "\n",
        "**Write a Python program to find the first repeated character in a given string.**\n",
        "\n",
        "![alt text](https://www.w3resource.com/w3r_images/python-data-type-string-image-exercise-53-a.svg)"
      ]
    },
    {
      "cell_type": "code",
      "metadata": {
        "id": "Ux-uzGUJV0Eh",
        "colab_type": "code",
        "outputId": "ec95bb08-0798-46c7-dfc3-fd2ccebee061",
        "colab": {
          "base_uri": "https://localhost:8080/",
          "height": 51
        }
      },
      "source": [
        "def first_repeated_char(str1):\n",
        "  for index, c in enumerate(str1):\n",
        "    if str1[:index+1].count(c) > 1:  # Điều kiện, VD: index = 4, c = \"a\", str1[:5]: tất cả các phần từ từ 0 đến a, count(c): đếm a có bao nhiêu lần trong đoạn index đó. \n",
        "      return c                       # Nếu có 2 từ lặp lại, return về c. \n",
        "  return \"None\"\n",
        "\n",
        "print(first_repeated_char(\"abcdabcd\"))\n",
        "print(first_repeated_char(\"abcd\"))"
      ],
      "execution_count": 0,
      "outputs": [
        {
          "output_type": "stream",
          "text": [
            "a\n",
            "None\n"
          ],
          "name": "stdout"
        }
      ]
    },
    {
      "cell_type": "markdown",
      "metadata": {
        "id": "AMWrkT6sYZLX",
        "colab_type": "text"
      },
      "source": [
        "**54, Viết chương trình Python để tìm ký tự lặp lại đầu tiên của một chuỗi đã cho trong đó chỉ số xuất hiện đầu tiên là nhỏ nhất.**\n",
        "\n",
        "**Write a Python program to find the first repeated character of a given string where the index of first occurrence is smallest.**\n",
        "\n",
        "![alt text](https://www.w3resource.com/w3r_images/python-data-type-string-image-exercise-54-a.svg)\n",
        "\n",
        "![alt text](https://www.w3resource.com/w3r_images/python-data-type-string-image-exercise-54-b.svg)"
      ]
    },
    {
      "cell_type": "code",
      "metadata": {
        "id": "soMvKyCrW5Si",
        "colab_type": "code",
        "outputId": "41682b6a-15ec-4272-823f-55e87e784e56",
        "colab": {
          "base_uri": "https://localhost:8080/",
          "height": 102
        }
      },
      "source": [
        "def first_repeated_char_smallest_distance(str1):\n",
        "  temp = {}                                           # tạo biến dict temp rỗng\n",
        "  for ch in str1:                                     # duyệt từng ký tự trong str1\n",
        "    if ch in temp:                                    # điều kiện nếu ký tự đó nằm trong dict temp\n",
        "      return ch                                       # trả về kết quả ch\n",
        "    else:                                             # nếu ký tự đó không nằm trong dict temp\n",
        "      temp[ch] = 0                                    # gán giá trị temp[ch] = 0. VD\" {a:0, b:0, c:0}\n",
        "  return \"None\"\n",
        "print(first_repeated_char_smallest_distance(\"abcabc\"))\n",
        "print(first_repeated_char_smallest_distance(\"abbcabc\"))\n",
        "print(first_repeated_char_smallest_distance(\"abcbabc\"))\n",
        "print(first_repeated_char_smallest_distance(\"abcxxy\"))\n",
        "print(first_repeated_char_smallest_distance(\"abc\"))"
      ],
      "execution_count": 0,
      "outputs": [
        {
          "output_type": "stream",
          "text": [
            "a\n",
            "b\n",
            "b\n",
            "x\n",
            "None\n"
          ],
          "name": "stdout"
        }
      ]
    },
    {
      "cell_type": "markdown",
      "metadata": {
        "id": "JgNRvRugachq",
        "colab_type": "text"
      },
      "source": [
        "**55, Viết chương trình Python để tìm từ lặp lại đầu tiên trong một chuỗi đã cho.**\n",
        "\n",
        "**Write a Python program to find the first repeated word in a given string.**\n",
        "\n",
        "![alt text](https://www.w3resource.com/w3r_images/python-data-type-string-image-exercise-55-a.svg)\n",
        "\n",
        "![alt text](https://www.w3resource.com/w3r_images/python-data-type-string-image-exercise-55-b.svg)"
      ]
    },
    {
      "cell_type": "code",
      "metadata": {
        "id": "ZU9MqcgpZRy1",
        "colab_type": "code",
        "outputId": "44d2dee3-076f-454d-bea2-ddfdb587a611",
        "colab": {
          "base_uri": "https://localhost:8080/",
          "height": 85
        }
      },
      "source": [
        "def first_repeated_word(str1):\n",
        "  temp = set()                          # tạo 1 biến temp, là 1 set rỗng\n",
        "  for word in str1.split():             # Chuyển str1 thành list(cách nhau bởi dấu cách), duyệt từng phần tử trong list\n",
        "    if word in temp:                    # nếu word nằm trong temp\n",
        "      return word                       # trả về kết quả word\n",
        "    else:                               # nếu word không nằm trong temp\n",
        "      temp.add(word)                    # thêm từng phần tử vào set temp\n",
        "  return \"None\"\n",
        "print(first_repeated_word(\"ab ca bc ab\"))\n",
        "print(first_repeated_word(\"ab ca bc ab ca ab bc\"))\n",
        "print(first_repeated_word(\"ab ca bc ca ab bc\"))\n",
        "print(first_repeated_word(\"ab ca bc\"))"
      ],
      "execution_count": 0,
      "outputs": [
        {
          "output_type": "stream",
          "text": [
            "ab\n",
            "ab\n",
            "ca\n",
            "None\n"
          ],
          "name": "stdout"
        }
      ]
    },
    {
      "cell_type": "markdown",
      "metadata": {
        "id": "q1FudQTPcMoI",
        "colab_type": "text"
      },
      "source": [
        "**56,  Viết chương trình Python để tìm từ lặp lại nhiều thứ hai trong một chuỗi đã cho.**\n",
        "\n",
        "**Write a Python program to find the second most repeated word in a given string.**\n",
        "\n",
        "![alt text](https://www.w3resource.com/w3r_images/python-data-type-string-image-exercise-56.svg)"
      ]
    },
    {
      "cell_type": "code",
      "metadata": {
        "id": "HN_APP7Ta7qA",
        "colab_type": "code",
        "outputId": "8ea226ef-f7aa-4200-ae72-a7165d4c65a4",
        "colab": {
          "base_uri": "https://localhost:8080/",
          "height": 34
        }
      },
      "source": [
        "def word_count(str):\n",
        "  counts = dict()              # tạo biến counts là 1 dict rỗng\n",
        "  words = str.split()          # biến words rỗng, dùng để chuyển str sang list \n",
        "\n",
        "  for word in words:           # duyệt giá trị từng phần tử trong words\n",
        "    if word in counts:         # nếu word nằm trong counts\n",
        "      counts[word] += 1        # dict, key counts[word], values += 1\n",
        "    else:                      # word không nằm trong counts\n",
        "      counts[word] = 1         # gán key counts[word] = 1\n",
        "  \n",
        "  counts_x = sorted(counts.items(), key = lambda kv: kv[1]) # tạo tuple con (\"Both\", 2), đưa tất cả tuple con vào list counts_x, rồi sắp xếp list theo thứ tự bé đến lớn của số lần xuất hiện\n",
        "  return counts_x[-2]         # trả về kết quả số lần xuất hiện nhiều nhất thứ 2\n",
        "\n",
        "print(word_count(\"Both of these issues are fixed by postponing the evaluation of annotations. Instead of compiling code which executes expressions in annotations at their definition time, the compiler stores the annotation in a string form equivalent to the AST of the expression in question. If needed, annotations can be resolved at runtime using typing.get_type_hints(). In the common case where this is not required, the annotations are cheaper to store (since short strings are interned by the interpreter) and make startup time faster.\"))\n"
      ],
      "execution_count": 0,
      "outputs": [
        {
          "output_type": "stream",
          "text": [
            "('of', 4)\n"
          ],
          "name": "stdout"
        }
      ]
    },
    {
      "cell_type": "markdown",
      "metadata": {
        "id": "GrYKeSCVeyb6",
        "colab_type": "text"
      },
      "source": [
        "**57, Viết chương trình Python để xóa khoảng trắng khỏi một chuỗi đã cho.**\n",
        "\n",
        "**Write a Python program to remove spaces from a given string.**\n",
        "\n",
        "![alt text](https://www.w3resource.com/w3r_images/python-data-type-string-image-exercise-57.svg)"
      ]
    },
    {
      "cell_type": "code",
      "metadata": {
        "id": "z2S_bxjtc024",
        "colab_type": "code",
        "outputId": "2e40ed09-0906-4918-b5b6-c02c71aa7aec",
        "colab": {
          "base_uri": "https://localhost:8080/",
          "height": 51
        }
      },
      "source": [
        "def remove_spaces(str1):\n",
        "  str1 = str1.replace(' ', '')\n",
        "  return str1 \n",
        "print(remove_spaces(\"w 3 res ou r ce\"))\n",
        "print(remove_spaces(\"a b c\"))"
      ],
      "execution_count": 0,
      "outputs": [
        {
          "output_type": "stream",
          "text": [
            "w3resource\n",
            "abc\n"
          ],
          "name": "stdout"
        }
      ]
    },
    {
      "cell_type": "markdown",
      "metadata": {
        "id": "MmYEWR4YfIQq",
        "colab_type": "text"
      },
      "source": [
        "**58, Viết chương trình Python để di chuyển khoảng trắng về phía trước của một chuỗi đã cho.**\n",
        "\n",
        "**Write a Python program to move spaces to the front of a given string.**\n",
        "\n",
        "![alt text](https://www.w3resource.com/w3r_images/python-data-type-string-image-exercise-58.svg)"
      ]
    },
    {
      "cell_type": "code",
      "metadata": {
        "id": "7M1TvCkafCZW",
        "colab_type": "code",
        "outputId": "1f5ef220-2124-43c4-f2fb-6383f1b94de4",
        "colab": {
          "base_uri": "https://localhost:8080/",
          "height": 51
        }
      },
      "source": [
        "def move_Spaces_front(str1):\n",
        "  noSpaces_char = [ch for ch in str1 if ch!=' ']      # tạo 1 list bằng comprehension, bỏ hết những ký tự dấu cách\n",
        "  spaces_char = len(str1) - len(noSpaces_char)        # spaces_char là độ dài của những dấu cách \n",
        "  result = ' '*spaces_char                            # biến result là dấu cách * độ dài đếm được. VD: 5 -> \"     \"\n",
        "  result = '\"'+result + ''.join(noSpaces_char)+'\"'    # result = đặt dấu cách lên trước + chuỗi đã bỏ dấu cách( chuyển từ list -> str)\n",
        "  return(result)\n",
        "\n",
        "print(move_Spaces_front(\"w3resource .  com  \"))\n",
        "print(move_Spaces_front(\"   w3resource.com  \"))"
      ],
      "execution_count": 0,
      "outputs": [
        {
          "output_type": "stream",
          "text": [
            "\"     w3resource.com\"\n",
            "\"     w3resource.com\"\n"
          ],
          "name": "stdout"
        }
      ]
    },
    {
      "cell_type": "markdown",
      "metadata": {
        "id": "uWaZTfTChsSz",
        "colab_type": "text"
      },
      "source": [
        "**59, Viết chương trình Python để tìm ký tự xuất hiện tối đa trong một chuỗi đã cho.**\n",
        "\n",
        "**Write a Python program to find the maximum occurring character in a given string.**\n",
        "\n",
        "![alt text](https://www.w3resource.com/w3r_images/python-data-type-string-image-exercise-59.svg)"
      ]
    },
    {
      "cell_type": "code",
      "metadata": {
        "id": "2CuTACxZf8uT",
        "colab_type": "code",
        "outputId": "47acd931-f289-428c-93da-c48b152e6701",
        "colab": {
          "base_uri": "https://localhost:8080/",
          "height": 51
        }
      },
      "source": [
        "def get_max_occuring_char(str1):\n",
        "  ASCII_SIZE = 256\n",
        "  ctr = [0] * ASCII_SIZE\n",
        "  max = -1\n",
        "  ch = ''\n",
        "  for i in str1:\n",
        "    ctr[ord(i)] += 1          # ord(i) \n",
        "  \n",
        "  for i in str1:\n",
        "    if max < ctr[ord(i)]:\n",
        "      max = ctr[ord(i)]\n",
        "      ch = i\n",
        "  return ch\n",
        "print(get_max_occuring_char(\"Python: Get file creation and modification date/times\"))\n",
        "print(get_max_occuring_char(\"abcdefghijkb\"))\n",
        "# The ord() function is used to get an integer representing the Unicode code point of that character. Trả về điểm mã Unicode cho chuỗi một ký tự."
      ],
      "execution_count": 0,
      "outputs": [
        {
          "output_type": "stream",
          "text": [
            "t\n",
            "b\n"
          ],
          "name": "stdout"
        }
      ]
    },
    {
      "cell_type": "markdown",
      "metadata": {
        "id": "8UJD8YLPVw5g",
        "colab_type": "text"
      },
      "source": [
        "**60, Viết chương trình Python để viết hoa các chữ cái đầu tiên và cuối cùng của mỗi từ của một chuỗi đã cho.**\n",
        "\n",
        "**Write a Python program to capitalize first and last letters of each word of a given string.**\n",
        "\n",
        "![alt text](https://www.w3resource.com/w3r_images/python-data-type-string-image-exercise-60.svg)"
      ]
    },
    {
      "cell_type": "code",
      "metadata": {
        "id": "HLwHZI1RUqHU",
        "colab_type": "code",
        "outputId": "a6413b85-ebf6-455d-842b-9d535dd62e80",
        "colab": {
          "base_uri": "https://localhost:8080/",
          "height": 51
        }
      },
      "source": [
        "def capitalize_first_last_letters(str1):\n",
        "  str1 = result = str1.title()                    # in hoa chữ đầu của mỗi từ trong str1    \n",
        "  result = \"\"                                     # tạo result rỗng để gán kết quả vào \n",
        "  for word in str1.split():                       # duyệt từng phần tử trong str1, mỗi phần tử cách nhau bởi dấu cách, tức là 1 từ không phải 1 chữ cái\n",
        "    result += word[:-1] + word[-1].upper() + \" \"   # result = index từ đầu đến cuối + thêm chữ cái ở cuối in hoa\n",
        "  return result[:-1]                          \n",
        "print(capitalize_first_last_letters(\"python exercises practice solution\"))\n",
        "print(capitalize_first_last_letters(\"w3resource\"))\n",
        "# title(): chữ đầu của mỗi từ -> hoa, còn lại viết thường"
      ],
      "execution_count": 0,
      "outputs": [
        {
          "output_type": "stream",
          "text": [
            "PythoN ExerciseS PracticE SolutioN\n",
            "W3ResourcE\n"
          ],
          "name": "stdout"
        }
      ]
    },
    {
      "cell_type": "markdown",
      "metadata": {
        "id": "taBOENPaYMIN",
        "colab_type": "text"
      },
      "source": [
        "**61, Viết chương trình Python để loại bỏ các ký tự trùng lặp của một chuỗi đã cho.**\n",
        "\n",
        "**Write a Python program to remove duplicate characters of a given string.**\n",
        "\n",
        "![alt text](https://www.w3resource.com/w3r_images/python-data-type-string-image-exercise-61.svg)"
      ]
    },
    {
      "cell_type": "code",
      "metadata": {
        "id": "A8G8wPhdWW0p",
        "colab_type": "code",
        "outputId": "de031e7f-802b-4f27-cb9e-bfa7b6b28d55",
        "colab": {
          "base_uri": "https://localhost:8080/",
          "height": 51
        }
      },
      "source": [
        "from collections import OrderedDict\n",
        "def remove_duplicate(str1):\n",
        "  return \"\".join(OrderedDict.fromkeys(str1))\n",
        "\n",
        "print(remove_duplicate(\"python exercises practice solution\"))\n",
        "print(remove_duplicate(\"w3resource\"))\n",
        "# class collections.OrderedDict([items]) Return an instance of a dict subclass that has methods specialized for rearranging dictionary order.\n",
        "# Trả về một thể hiện của một lớp con dict có các phương thức chuyên biệt để sắp xếp lại thứ tự từ điển."
      ],
      "execution_count": 0,
      "outputs": [
        {
          "output_type": "stream",
          "text": [
            "python exrcisalu\n",
            "w3resouc\n"
          ],
          "name": "stdout"
        }
      ]
    },
    {
      "cell_type": "markdown",
      "metadata": {
        "id": "399f69vwZaAK",
        "colab_type": "text"
      },
      "source": [
        "**62, Viết chương trình Python để tính tổng các chữ số của một chuỗi đã cho.**\n",
        "\n",
        "**Write a Python program to compute sum of digits of a given string.**\n",
        "\n",
        "![alt text](https://www.w3resource.com/w3r_images/python-data-type-string-image-exercise-62.svg)"
      ]
    },
    {
      "cell_type": "code",
      "metadata": {
        "id": "2YsYD5ERYfSo",
        "colab_type": "code",
        "outputId": "e7bf6ef5-3079-4afd-e0c9-f0103a1e17a9",
        "colab": {
          "base_uri": "https://localhost:8080/",
          "height": 51
        }
      },
      "source": [
        "def sum_digits_string(str1):\n",
        "  sum_digit = 0\n",
        "  for x in str1:\n",
        "    if x.isdigit() == True:\n",
        "      z = int(x)\n",
        "      sum_digit = sum_digit + z \n",
        "  return sum_digit \n",
        "\n",
        "print(sum_digits_string(\"123abcd45\"))\n",
        "print(sum_digits_string(\"abcd1234\"))"
      ],
      "execution_count": 0,
      "outputs": [
        {
          "output_type": "stream",
          "text": [
            "15\n",
            "10\n"
          ],
          "name": "stdout"
        }
      ]
    },
    {
      "cell_type": "markdown",
      "metadata": {
        "id": "NTfxTfiOaJpL",
        "colab_type": "text"
      },
      "source": [
        "**63, Viết chương trình Python để loại bỏ các số 0 đứng đầu khỏi địa chỉ IP.**\n",
        "\n",
        "**Write a Python program to remove leading zeros from an IP address.**\n",
        "\n",
        "![alt text](https://www.w3resource.com/w3r_images/python-data-type-string-image-exercise-63.svg)"
      ]
    },
    {
      "cell_type": "code",
      "metadata": {
        "id": "uex9wCRLZ1yG",
        "colab_type": "code",
        "outputId": "f48218bd-8d92-4419-f77f-dbc640320b57",
        "colab": {
          "base_uri": "https://localhost:8080/",
          "height": 51
        }
      },
      "source": [
        "def remove_zeros_from_ip(ip_add):\n",
        "  new_ip_add = \".\".join([str(int(i)) for i in ip_add.split(\".\")]) # biểu thức i phải là số nguyên. VD: 01 thì số nguyên là 1.\n",
        "  return new_ip_add\n",
        "print(remove_zeros_from_ip(\"255.024.01.01\"))\n",
        "print(remove_zeros_from_ip(\"127.0.0.01 \"))"
      ],
      "execution_count": 0,
      "outputs": [
        {
          "output_type": "stream",
          "text": [
            "255.24.1.1\n",
            "127.0.0.1\n"
          ],
          "name": "stdout"
        }
      ]
    },
    {
      "cell_type": "markdown",
      "metadata": {
        "id": "3fuzF_Amch01",
        "colab_type": "text"
      },
      "source": [
        "**64, Viết chương trình Python để tìm độ dài tối đa 0 0 liên tiếp trong một chuỗi nhị phân nhất định.**\n",
        "\n",
        "**Write a Python program to find maximum length of consecutive 0’s in a given binary string.**\n",
        "\n",
        "![alt text](https://www.w3resource.com/w3r_images/python-data-type-string-image-exercise-64.svg)"
      ]
    },
    {
      "cell_type": "code",
      "metadata": {
        "id": "hJ7VV4HNa74h",
        "colab_type": "code",
        "outputId": "7e5554c4-ef57-4f14-e39a-d4700e6f0860",
        "colab": {
          "base_uri": "https://localhost:8080/",
          "height": 119
        }
      },
      "source": [
        "def max_consecutive_0(input_str):\n",
        "  return max(map(len, input_str.split('1')))    # 1 là phân cách của chuỗi -> VD:  ['', '', '', '0000', '0000', '', '0']. Tìm độ dài lớn nhất mỗi phần tử trong list\n",
        "str1 = '111000010000110'\n",
        "print(\"Original string:\" + str1)\n",
        "print(\"Maximum length of consecutive 0’s:\")\n",
        "print(max_consecutive_0(str1))\n",
        "str1 = '111000111'\n",
        "print(\"Original string:\" + str1)\n",
        "print(\"Maximum length of consecutive 0’s:\")\n",
        "print(max_consecutive_0(str1))"
      ],
      "execution_count": 0,
      "outputs": [
        {
          "output_type": "stream",
          "text": [
            "Original string:111000010000110\n",
            "Maximum length of consecutive 0’s:\n",
            "4\n",
            "Original string:111000111\n",
            "Maximum length of consecutive 0’s:\n",
            "3\n"
          ],
          "name": "stdout"
        }
      ]
    },
    {
      "cell_type": "markdown",
      "metadata": {
        "id": "10t-CUnqeDv3",
        "colab_type": "text"
      },
      "source": [
        "**65, Viết chương trình Python để tìm tất cả các ký tự phổ biến theo thứ tự từ điển từ hai chuỗi chữ thường. Nếu không có chữ cái in chung thì không có ký tự chung.**\n",
        "\n",
        "**Write a Python program to find all the common characters in lexicographical order from two given lower case strings. If there are no common letters print “No common characters”.**\n",
        "\n",
        "![alt text](https://www.w3resource.com/w3r_images/python-data-type-string-image-exercise-65.svg)"
      ]
    },
    {
      "cell_type": "code",
      "metadata": {
        "id": "IH0CLRzXd-_N",
        "colab_type": "code",
        "outputId": "b073f20c-6e51-4f49-8c05-7e351b26de8c",
        "colab": {
          "base_uri": "https://localhost:8080/",
          "height": 85
        }
      },
      "source": [
        "from collections import Counter\n",
        "def common_chars(str1, str2):\n",
        "  d1 = Counter(str1)                      # Counter({'P': 1, 'y': 1, 't': 1, 'h': 1, 'o': 1, 'n': 1})\n",
        "  d2 = Counter(str2)                      # Counter({'P': 2, 'H': 1})\n",
        "  common_dict = d1 & d2                   # Counter({'P': 1})\n",
        "  if len(common_dict) == 0:\n",
        "    return \"No common character\"\n",
        "  \n",
        "  common_chars = list(common_dict.elements()) # common_chars = [P]\n",
        "  common_chars = sorted(common_chars)\n",
        "\n",
        "  return ''.join(common_chars)\n",
        "\n",
        "str1 = 'Python'\n",
        "str2 = 'PHP'\n",
        "print(\"Two strings: \"+str1+' : '+str2)\n",
        "print(common_chars(str1, str2))\n",
        "str1 = 'Java'\n",
        "str2 = 'PHP'\n",
        "print(\"Two strings: \"+str1+' : '+str2)\n",
        "print(common_chars(str1, str2))\n",
        "# class collections.Counter([iterable-or-mapping]): A Counter is a dict subclass for counting hashable objects"
      ],
      "execution_count": 0,
      "outputs": [
        {
          "output_type": "stream",
          "text": [
            "Two strings: Python : PHP\n",
            "P\n",
            "Two strings: Java : PHP\n",
            "No common character\n"
          ],
          "name": "stdout"
        }
      ]
    },
    {
      "cell_type": "markdown",
      "metadata": {
        "id": "llPKrUjsg7Oa",
        "colab_type": "text"
      },
      "source": [
        "**66, Viết chương trình Python để tạo hai chuỗi đã cho (chữ thường, có thể có hoặc không có cùng độ dài) đảo chữ xóa bất kỳ ký tự nào khỏi bất kỳ chuỗi nào.**\n",
        "\n",
        "**Write a Python program to make two given strings (lower case, may or may not be of the same length) anagrams removing any characters from any of the strings.**\n",
        "\n",
        "![alt text](https://www.w3resource.com/w3r_images/python-data-type-string-image-exercise-66.svg)"
      ]
    },
    {
      "cell_type": "code",
      "metadata": {
        "id": "HgQdr9n3fDl0",
        "colab_type": "code",
        "outputId": "39ffad26-ded0-43d3-ce7f-f00d1d626331",
        "colab": {
          "base_uri": "https://localhost:8080/",
          "height": 68
        }
      },
      "source": [
        "def make_map(s):                    # Hàm dùng để đếm số lượng chữ cái trong chuỗi\n",
        "  temp_map = {}                     # Dict temp_map, dùng để thêm chữ cái và số đếm được vào dict\n",
        "  for char in s:                    \n",
        "    if char not in temp_map:\n",
        "      temp_map[char] = 1\n",
        "    else:\n",
        "      temp_map[char] += 1\n",
        "  return temp_map\n",
        "\n",
        "def make_anagram(str1, str2):\n",
        "  str1_map1 = make_map(str1)        # Đếm số lượng chữ cái có trong str1, str1_map1 được gán là 1 dict\n",
        "  str2_map2 = make_map(str2)        # Đếm số lượng chữ cái có trong str2, str2_map2 được gán là 1 dict\n",
        "\n",
        "  ctr = 0\n",
        "  for key in str2_map2.keys():      # duyệt giá trị từng key trong dict str2_map2. VD: key = j\n",
        "    if key not in str1_map1:        # Nếu key đó không nằm trong dict str1_map1.\n",
        "      ctr += str2_map2[key]         # ctr = ctr + str_map2[key], tức là + values của key đó. Mà values là số chữ cái đếm được. \n",
        "    else:                           # Key có nằm trong dict str1_map1\n",
        "      ctr += max(0, str2_map2[key] - str1_map1[key])  # VD: max(0, 1 - 1) = max(0, 0) = 0, ctr = ctr + 0. -> max(0, 2 - 1) = max(0,1) = 1, ctr = ctr + 1\n",
        "                                    # Duyệt hết dict str2_map2 rồi sang str1_map1\n",
        "  for key in str1_map1.keys():\n",
        "    if key not in str2_map2:\n",
        "      ctr += str1_map1[key]\n",
        "    else:\n",
        "      ctr += max(0, str1_map1[key] -  str2_map2[key])\n",
        "  return ctr                        # Kết quả trả về là số chữ cái của 2 chuỗi sau khi xóa chữ cái trùng.\n",
        "str1 = input(\"Input string1: \")\n",
        "str2 = input(\"Input string2: \")\n",
        "print(make_anagram(str1, str2))"
      ],
      "execution_count": 0,
      "outputs": [
        {
          "output_type": "stream",
          "text": [
            "Input string1: The quick brown fox\n",
            "Input string2: jumps over the lazy dog\n",
            "24\n"
          ],
          "name": "stdout"
        }
      ]
    },
    {
      "cell_type": "markdown",
      "metadata": {
        "id": "jfuWSsE2nh9S",
        "colab_type": "text"
      },
      "source": [
        "**67, Viết chương trình Python để loại bỏ tất cả các bản sao liên tiếp của một chuỗi đã cho.**\n",
        "\n",
        "**Write a Python program to remove all consecutive duplicates of a given string.**\n",
        "\n",
        "![alt text](https://www.w3resource.com/w3r_images/python-data-type-string-image-exercise-67.svg)"
      ]
    },
    {
      "cell_type": "code",
      "metadata": {
        "id": "jaCiZf2oiQpW",
        "colab_type": "code",
        "outputId": "b1e84c61-43db-42f7-d65b-bd3ec90e459d",
        "colab": {
          "base_uri": "https://localhost:8080/",
          "height": 68
        }
      },
      "source": [
        "from itertools import groupby\n",
        "def remove_all_consecutive(str1):\n",
        "  result_str = []\n",
        "  for (key, group) in groupby(str1):\n",
        "    result_str.append(key)\n",
        "  \n",
        "  return ''.join(result_str)\n",
        "\n",
        "str1 = 'xxxxxyyyyy'\n",
        "print(\"Original string:\" + str1)\n",
        "print(\"After removing consecutive duplicates: \" + str1)\n",
        "print(remove_all_consecutive(str1))"
      ],
      "execution_count": 0,
      "outputs": [
        {
          "output_type": "stream",
          "text": [
            "Original string:xxxxxyyyyy\n",
            "After removing consecutive duplicates: xxxxxyyyyy\n",
            "xy\n"
          ],
          "name": "stdout"
        }
      ]
    },
    {
      "cell_type": "markdown",
      "metadata": {
        "id": "bKf_IWgtopRM",
        "colab_type": "text"
      },
      "source": [
        "**68, Viết chương trình Python để tạo hai chuỗi từ một chuỗi đã cho. Tạo chuỗi đầu tiên bằng cách sử dụng các ký tự chỉ xuất hiện một lần và tạo chuỗi thứ hai bao gồm các ký tự xuất hiện nhiều lần trong chuỗi đã nói.**\n",
        "\n",
        "**Write a Python program to create two strings from a given string. Create the first string using those character which occurs only once and create the second string which consists of multi-time occurring characters in the said string.**\n",
        "\n",
        "![alt text](https://www.w3resource.com/w3r_images/python-data-type-string-image-exercise-68.svg)"
      ]
    },
    {
      "cell_type": "code",
      "metadata": {
        "id": "woRYXxYon7wk",
        "colab_type": "code",
        "outputId": "1bc0ddd1-586f-4da5-9821-80492e21b106",
        "colab": {
          "base_uri": "https://localhost:8080/",
          "height": 51
        }
      },
      "source": [
        "from collections import Counter\n",
        "def generateStrings(input):\n",
        "  str_char_ctr = Counter(input)     # Counter({'a': 2, 'b': 2, 'c': 2, 'f': 2, 'e': 1, 'g': 1, 'h': 1})\n",
        "  part1 = [key for (key, count) in str_char_ctr.items() if count == 1] # Duyệt giá trị từng phần tử (key,values) của đict str_char_ctr, trả về key nếu count = 1\n",
        "  part2 = [key for (key, count) in str_char_ctr.items() if count > 1]\n",
        "  part1.sort()\n",
        "  part2.sort()\n",
        "  return part1, part2 # trả về 1 tuple() gồm 2 list bên trong\n",
        "input = \"aabbcceffgh\"\n",
        "s1, s2 = generateStrings(input)\n",
        "print(''.join(s1))    # chuyển list s1 thanh chuỗi\n",
        "print(''.join(s2))"
      ],
      "execution_count": 0,
      "outputs": [
        {
          "output_type": "stream",
          "text": [
            "egh\n",
            "abcf\n"
          ],
          "name": "stdout"
        }
      ]
    },
    {
      "cell_type": "markdown",
      "metadata": {
        "id": "-aps_rTdqDQG",
        "colab_type": "text"
      },
      "source": [
        "**69, Viết chương trình Python để tìm chuỗi con chung dài nhất từ hai chuỗi đã cho.**\n",
        "\n",
        "**Write a Python program to find the longest common sub-string from two given strings.**\n",
        "\n",
        "![alt text](https://www.w3resource.com/w3r_images/python-data-type-string-image-exercise-69.svg)"
      ]
    },
    {
      "cell_type": "code",
      "metadata": {
        "id": "PmOJ0kM7pPBW",
        "colab_type": "code",
        "outputId": "085caf89-11ec-43fb-c7b3-5b059447f28b",
        "colab": {
          "base_uri": "https://localhost:8080/",
          "height": 119
        }
      },
      "source": [
        "from difflib import SequenceMatcher\n",
        "\n",
        "def longest_Substring(s1, s2):\n",
        "  seq_match = SequenceMatcher(None, s1, s2)\n",
        "  match = seq_match.find_longest_match(0, len(s1), 0, len(s2))\n",
        "\n",
        "  if (match.size != 0):\n",
        "    return (s1[match.a: match.a + match.size])\n",
        "  else: \n",
        "    return (\"Longest common sub-string not present\")\n",
        "\n",
        "s1 = 'abcdefgh'\n",
        "s2 = 'xswerabcdwd'\n",
        "print(\"Original Substrings:\\n\",s1+\"\\n\",s2)\n",
        "print(\"\\nCommon longest sub_string:\")\n",
        "print(longest_Substring(s1,s2))"
      ],
      "execution_count": 0,
      "outputs": [
        {
          "output_type": "stream",
          "text": [
            "Original Substrings:\n",
            " abcdefgh\n",
            " xswerabcdwd\n",
            "\n",
            "Common longest sub_string:\n",
            "abcd\n"
          ],
          "name": "stdout"
        }
      ]
    },
    {
      "cell_type": "markdown",
      "metadata": {
        "id": "l9zlrHDErLMk",
        "colab_type": "text"
      },
      "source": [
        "**70, Viết chương trình Python để tạo một chuỗi từ hai chuỗi đã cho nối các ký tự không phổ biến của các chuỗi đã nói.**\n",
        "\n",
        "**Write a Python program to create a string from two given strings concatenating uncommon characters of the said strings.**\n",
        "\n",
        "![alt text](https://www.w3resource.com/w3r_images/python-data-type-string-image-exercise-70.svg)"
      ]
    },
    {
      "cell_type": "code",
      "metadata": {
        "id": "ySxkVVY7qoTD",
        "colab_type": "code",
        "outputId": "5f869048-6042-4c49-e553-7ca92589a66c",
        "colab": {
          "base_uri": "https://localhost:8080/",
          "height": 119
        }
      },
      "source": [
        "def uncommon_chars_concat(s1, s2):\n",
        "  set1 = set(s1)                    # tạo biến set1 = set của s1. VD: set1 = {\"b\", \"d\", \"r\", \"c\", \"q\", \"p\", \"a\"}, set là tập hợp các đối tượng\n",
        "  set2 = set(s2)                    # tạo biến set2 = set của s2. VD: set2 = {\"z\", \"b\", \"d\", \"c\", \"y\", \"x\", \"a\"}\n",
        "  \n",
        "  common_chars = list(set1 & set2)  # commonchar_char = [\"b\", \"d\", \"c\", \"a\"], phần tử nằm trong cả 2 set\n",
        "  result = [ch for ch in s1 if ch not in common_chars] + [ch for ch in s2 if ch not in common_chars] # result = [\"p\", \"q\", \"r\",\"x\", \"y\", \"z\"]\n",
        "  return(''.join(result))           # chuyển tử list thành chuỗi, trả về kết quả\n",
        "s1 = 'abcdpqr'\n",
        "s2 = 'xyzabcd'\n",
        "print(\"Original Substrings:\\n\",s1+\"\\n\",s2)\n",
        "print(\"\\nAfter concatenating uncommon characters:\")\n",
        "print(uncommon_chars_concat(s1, s2))"
      ],
      "execution_count": 0,
      "outputs": [
        {
          "output_type": "stream",
          "text": [
            "Original Substrings:\n",
            " abcdpqr\n",
            " xyzabcd\n",
            "\n",
            "After concatenating uncommon characters:\n",
            "pqrxyz\n"
          ],
          "name": "stdout"
        }
      ]
    },
    {
      "cell_type": "markdown",
      "metadata": {
        "id": "K7aq67OY4T17",
        "colab_type": "text"
      },
      "source": [
        "**71, Viết chương trình Python để di chuyển tất cả các khoảng trắng về phía trước của một chuỗi đã cho theo một đường ngang.**\n",
        "\n",
        "**Write a Python program to move all spaces to the front of a given string in single traversal.**\n",
        "\n",
        "![alt text](https://www.w3resource.com/w3r_images/python-data-type-string-image-exercise-71.svg)"
      ]
    },
    {
      "cell_type": "code",
      "metadata": {
        "id": "zU18UEIh2hc5",
        "colab_type": "code",
        "outputId": "813b1e56-c4ee-4314-cf16-501b3722ecb5",
        "colab": {
          "base_uri": "https://localhost:8080/",
          "height": 102
        }
      },
      "source": [
        "def moveSpaces(str1):\n",
        "  no_spaces = [char for char in str1 if char != ' ']  # tạo list no_spaces chứa những ký tự trong str1 nhưng không chứa dấu cách\n",
        "  space = len(str1) - len(no_spaces)                  # space = độ dài str1 - độ dài của list no_spaces đã bỏ dấu cách\n",
        "\n",
        "  result = \" \"*space                                  # tạo result, là chuỗi chứa số dấu cách\n",
        "  return result + ''.join(no_spaces)                  # in ra, dấu cách ở trước và đằng sau là chuỗi no_spaces\n",
        "\n",
        "s1 = \"Python   Exercises\"\n",
        "print(\"Original String:\\n\",s1)\n",
        "\n",
        "print(\"\\nAfter moving all spaces to the front:\")\n",
        "print(moveSpaces(s1))"
      ],
      "execution_count": 0,
      "outputs": [
        {
          "output_type": "stream",
          "text": [
            "Original String:\n",
            " Python   Exercises\n",
            "\n",
            "After moving all spaces to the front:\n",
            "   PythonExercises\n"
          ],
          "name": "stdout"
        }
      ]
    },
    {
      "cell_type": "markdown",
      "metadata": {
        "id": "Hvr4EDWA6Jz9",
        "colab_type": "text"
      },
      "source": [
        "**72, Viết chương trình Python để xóa tất cả các bản sao liên tiếp khỏi một chuỗi đã cho.**\n",
        "\n",
        "**Write a Python program to remove all consecutive duplicates from a given string.**\n",
        "\n"
      ]
    },
    {
      "cell_type": "code",
      "metadata": {
        "id": "8650lCJP43xW",
        "colab_type": "code",
        "outputId": "f5b5117d-fa1b-430d-8c2e-f730356b6ba9",
        "colab": {
          "base_uri": "https://localhost:8080/",
          "height": 85
        }
      },
      "source": [
        "import itertools\n",
        "def remove_consecutive_duplicates(s1):\n",
        "     return (''.join(i for i, _ in itertools.groupby(s1)))\n",
        "\n",
        "s1= \"aabcdaee\"\n",
        "print(\"Original String: \",s1)\n",
        "print(\"\\nRemoving all consecutive duplicates:\")\n",
        "print(remove_consecutive_duplicates(s1))"
      ],
      "execution_count": 0,
      "outputs": [
        {
          "output_type": "stream",
          "text": [
            "Original String:  aabcdaee\n",
            "\n",
            "Removing all consecutive duplicates:\n",
            "abcdae\n"
          ],
          "name": "stdout"
        }
      ]
    },
    {
      "cell_type": "markdown",
      "metadata": {
        "id": "VBvyeIeB6zKk",
        "colab_type": "text"
      },
      "source": [
        "**73, Viết chương trình Python để đếm Uppercase, Chữ thường, ký tự đặc biệt và các giá trị số trong một chuỗi đã cho.**\n",
        "\n",
        "**Write a Python program to count Uppercase, Lowercase, special character and numeric values in a given string.**\n",
        "\n",
        "![alt text](https://www.w3resource.com/w3r_images/python-data-type-string-image-exercise-73.svg)"
      ]
    },
    {
      "cell_type": "code",
      "metadata": {
        "id": "SE47yxjh6YtS",
        "colab_type": "code",
        "outputId": "76e98b18-4447-4755-f869-9b95432a386e",
        "colab": {
          "base_uri": "https://localhost:8080/",
          "height": 119
        }
      },
      "source": [
        "def count_chars(str1):\n",
        "  upper_ctr, lower_ctr, number_ctr, special_ctr = 0, 0, 0, 0    # tạo biến đếm = 0\n",
        "  for i in range(len(str1)):                                    # duyệt từng index với số lần bằng độ dài str1\n",
        "    if str1[i] >= 'A' and str1[i] <= 'Z':                       # nếu index = chữ hoa\n",
        "      upper_ctr += 1\n",
        "    elif str1[i] >= 'a' and str1[i] <= 'z':                     # nếu index = chữ thường\n",
        "      lower_ctr += 1\n",
        "    elif str1[i] >= '0' and str1[i] <= '9':                     # nếu index = số\n",
        "      number_ctr += 1\n",
        "    else:                                                       # nếu index = ký tự đặc biệt\n",
        "      special_ctr += 1\n",
        "  return upper_ctr, lower_ctr, number_ctr, special_ctr          # tupper\n",
        "\n",
        "str = \"@W3Resource.Com\"\n",
        "print(\"Original Substrings:\",str)\n",
        "u, l, n, s = count_chars(str)\n",
        "print('\\nUpper case characters: ',u)\n",
        "print('Lower case characters: ',l)\n",
        "print('Number case: ',n)\n",
        "print('Special case characters: ',s)"
      ],
      "execution_count": 0,
      "outputs": [
        {
          "output_type": "stream",
          "text": [
            "Original Substrings: @W3Resource.Com\n",
            "\n",
            "Upper case characters:  3\n",
            "Lower case characters:  9\n",
            "Number case:  1\n",
            "Special case characters:  2\n"
          ],
          "name": "stdout"
        }
      ]
    },
    {
      "cell_type": "markdown",
      "metadata": {
        "id": "e3rEr4kc81Mr",
        "colab_type": "text"
      },
      "source": [
        "**74, Viết chương trình Python để tìm cửa sổ tối thiểu trong một chuỗi đã cho sẽ chứa tất cả các ký tự của một chuỗi đã cho.**\n",
        "\n",
        "**Write a Python program to find the minimum window in a given string which will contain all the characters of another given string.**\n",
        "\n",
        "![alt text](https://www.w3resource.com/w3r_images/python-data-type-string-image-exercise-74.svg)"
      ]
    },
    {
      "cell_type": "code",
      "metadata": {
        "id": "f5uujMPl7vX9",
        "colab_type": "code",
        "outputId": "7eca5a81-3459-4900-a3b2-fdc9fffa6f90",
        "colab": {
          "base_uri": "https://localhost:8080/",
          "height": 102
        }
      },
      "source": [
        "import collections\n",
        "def min_window(str1, str2):\n",
        "  result_char, missing_char = collections.Counter(str2), len(str2) # Counter({'O': 1, 'S': 1, 'U': 1}), 3\n",
        "  i = p = q = 0\n",
        "  for j, c in enumerate(str1, 1):                 # j bắt đầu = 1, c là duyệt giá trị từng phần tử trong str1\n",
        "    missing_char -= result_char[c] > 0\n",
        "    result_char[c] -= 1\n",
        "    if not missing_char:\n",
        "      while i < q and result_char[str1[i]] < 0:\n",
        "        result_char[str1[i]] += 1\n",
        "        i += 1\n",
        "      if not q or j - i <= q - p:\n",
        "          p, q = i, j\n",
        "  return str1[p:q]  \n",
        " \n",
        "str1 = \"PRWSOERIUSFK\"\n",
        "str2 = \"OSU\"\n",
        "print(\"Original Strings:\\n\",str1,\"\\n\",str2)\n",
        "print(\"Minimum window:\")\n",
        "print(min_window(str1,str2))"
      ],
      "execution_count": 0,
      "outputs": [
        {
          "output_type": "stream",
          "text": [
            "Original Strings:\n",
            " PRWSOERIUSFK \n",
            " OSU\n",
            "Minimum window:\n",
            "OERIUS\n"
          ],
          "name": "stdout"
        }
      ]
    },
    {
      "cell_type": "markdown",
      "metadata": {
        "id": "nI7tkMms_yUy",
        "colab_type": "text"
      },
      "source": [
        "**75, Viết chương trình Python để tìm cửa sổ nhỏ nhất chứa tất cả các ký tự của một chuỗi đã cho.**\n",
        "\n",
        "**Write a Python program to find smallest window that contains all characters of a given string.**\n",
        "\n",
        "![alt text](https://www.w3resource.com/w3r_images/python-data-type-string-image-exercise-75.svg)"
      ]
    },
    {
      "cell_type": "code",
      "metadata": {
        "id": "YYpk5Fny-BLx",
        "colab_type": "code",
        "outputId": "40a92ca3-446b-4fbb-fa90-d5a1ffa6d936",
        "colab": {
          "base_uri": "https://localhost:8080/",
          "height": 102
        }
      },
      "source": [
        "from collections import defaultdict   \n",
        "\n",
        "def find_sub_string(str): \n",
        "    str_len = len(str) \n",
        "      \n",
        "    # Count all distinct characters. \n",
        "    dist_count_char = len(set([x for x in str])) \n",
        "  \n",
        "    ctr, start_pos, start_pos_index, min_len = 0, 0, -1, 9999999999\n",
        "    curr_count = defaultdict(lambda: 0) \n",
        "    for i in range(str_len): \n",
        "        curr_count[str[i]] += 1\n",
        " \n",
        "        if curr_count[str[i]] == 1: \n",
        "            ctr += 1\n",
        "  \n",
        "        if ctr == dist_count_char: \n",
        "            while curr_count[str[start_pos]] > 1: \n",
        "                if curr_count[str[start_pos]] > 1: \n",
        "                    curr_count[str[start_pos]] -= 1\n",
        "                start_pos += 1\n",
        "  \n",
        "            len_window = i - start_pos + 1\n",
        "            if min_len > len_window: \n",
        "                min_len = len_window \n",
        "                start_pos_index = start_pos \n",
        "    return str[start_pos_index: start_pos_index + min_len] \n",
        "      \n",
        "str1 = \"asdaewsqgtwwsa\"\n",
        "print(\"Original Strings:\\n\",str1)\n",
        "print(\"\\nSmallest window that contains all characters of the said string:\")\n",
        "print(find_sub_string(str1)) "
      ],
      "execution_count": 0,
      "outputs": [
        {
          "output_type": "stream",
          "text": [
            "Original Strings:\n",
            " asdaewsqgtwwsa\n",
            "\n",
            "Smallest window that contains all characters of the said string:\n",
            "daewsqgt\n"
          ],
          "name": "stdout"
        }
      ]
    },
    {
      "cell_type": "markdown",
      "metadata": {
        "id": "0rlD2sZJAEpf",
        "colab_type": "text"
      },
      "source": [
        "**76, Viết chương trình Python để đếm số lượng chuỗi con từ một chuỗi các bảng chữ cái viết thường với chính xác k ký tự (đã cho).**\n",
        "\n",
        "**Write a Python program to count number of substrings from a given string of lowercase alphabets with exactly k distinct (given) characters.**\n",
        "\n"
      ]
    },
    {
      "cell_type": "code",
      "metadata": {
        "id": "QCtkmBVm_72N",
        "colab_type": "code",
        "colab": {}
      },
      "source": [
        "def count_k_dist(str1, k): \n",
        "\tstr_len = len(str1) \n",
        "\t\n",
        "\tresult = 0\n",
        "\n",
        "\tctr = [0] * 27\n",
        "\n",
        "\tfor i in range(0, str_len): \n",
        "\t\tdist_ctr = 0\n",
        "\n",
        "\t\tctr = [0] * 27\n",
        "\n",
        "\t\tfor j in range(i, str_len): \n",
        "\t\t\t\n",
        "\t\t\tif(ctr[ord(str1[j]) - 97] == 0): \n",
        "\t\t\t\tdist_ctr += 1\n",
        "\n",
        "\t\t\tctr[ord(str1[j]) - 97] += 1\n",
        "\n",
        "\t\t\tif(dist_ctr == k): \n",
        "\t\t\t\tresult += 1\n",
        "\t\t\tif(dist_ctr > k): \n",
        "\t\t\t\tbreak\n",
        "\n",
        "\treturn result \n",
        "\n",
        "str1 = input(\"Input a string (lowercase alphabets):\")\n",
        "k = int(input(\"Input k: \"))\n",
        "print(\"Number of substrings with exactly\", k, \"distinct characters : \", end = \"\") \n",
        "print(count_k_dist(str1, k))\n",
        "# colab không chạy được, visual code chạy được\n",
        "\n",
        "\"\"\" Input a string (lowercase alphabets): wolf\n",
        "    Input k:  4\n",
        "    Number of substrings with exactly 4 distinct characters : 1\"\"\""
      ],
      "execution_count": 0,
      "outputs": []
    },
    {
      "cell_type": "markdown",
      "metadata": {
        "id": "Ijp0ATegCDIL",
        "colab_type": "text"
      },
      "source": [
        "**77, Viết chương trình Python để đếm số chuỗi con không trống của một chuỗi đã cho.**\n",
        "\n",
        "**Write a Python program to count number of non-empty substrings of a given string.**\n",
        "\n"
      ]
    },
    {
      "cell_type": "code",
      "metadata": {
        "id": "aMxC-11CBBm4",
        "colab_type": "code",
        "colab": {}
      },
      "source": [
        "def number_of_substrings(str): \n",
        "\tstr_len = len(str); \n",
        "\treturn int(str_len * (str_len + 1) / 2); \n",
        "\n",
        "str1 = input(\"Input a string: \")\n",
        "print(\"Number of substrings:\") \n",
        "print(number_of_substrings(str1))\n",
        "\n",
        "\"\"\" Input a string:  w3resource\n",
        "    Number of substrings:\n",
        "    55                                \"\"\""
      ],
      "execution_count": 0,
      "outputs": []
    },
    {
      "cell_type": "markdown",
      "metadata": {
        "id": "DwColjQqDw9s",
        "colab_type": "text"
      },
      "source": [
        "**78, Viết chương trình Python để đếm các ký tự ở cùng một vị trí trong một chuỗi nhất định (ký tự viết thường và viết hoa) như trong bảng chữ cái tiếng Anh.**\n",
        "\n",
        "**Write a Python program to count characters at same position in a given string (lower and uppercase characters) as in English alphabet.**\n",
        "\n",
        "![alt text](https://www.w3resource.com/w3r_images/python-data-type-string-image-exercise-78.svg)"
      ]
    },
    {
      "cell_type": "code",
      "metadata": {
        "id": "prD35aXsCa0x",
        "colab_type": "code",
        "colab": {}
      },
      "source": [
        "def count_char_position(str3):\n",
        "  count_chars = 0\n",
        "  for i in range(len(str3)):\n",
        "    if ((i == ord(str3[i]) - ord('A')) or (i == ord(str3[i]) - ord('a'))):\n",
        "      count_char += 1\n",
        "  return count_chars\n",
        "\n",
        "str3 = input(\"Input a string: \")\n",
        "print(\"Number of characters of the said string at same position as in English alphabet:\")\n",
        "print(count_char_position(str3))\n",
        "\n",
        "\"\"\" Input a string:  xbcefg\n",
        "    Number of characters of the said string at same position as in English alphabet:\n",
        "    2                                                                                       \"\"\""
      ],
      "execution_count": 0,
      "outputs": []
    },
    {
      "cell_type": "markdown",
      "metadata": {
        "id": "EQRSwve7EywZ",
        "colab_type": "text"
      },
      "source": [
        "**79, Viết chương trình Python để tìm từ nhỏ nhất và lớn nhất trong một chuỗi đã cho.**\n",
        "\n",
        "**Write a Python program to find smallest and largest word in a given string.**\n",
        "\n",
        "![alt text](https://www.w3resource.com/w3r_images/python-data-type-string-image-exercise-79.svg)"
      ]
    },
    {
      "cell_type": "code",
      "metadata": {
        "id": "PG0wSDpHEPeM",
        "colab_type": "code",
        "outputId": "7109f81b-f1bd-4b20-83a0-0d6c00b33e7b",
        "colab": {
          "base_uri": "https://localhost:8080/",
          "height": 85
        }
      },
      "source": [
        "def smallest_largest_words(str1):\n",
        "    word = \"\";\n",
        "    all_words = [];\n",
        "    str1 = str1 + \" \";\n",
        "    for i in range(0, len(str1)):\n",
        "        if(str1[i] != ' '):\n",
        "            word = word + str1[i];  \n",
        "        else:\n",
        "            all_words.append(word);  \n",
        "            word = \"\";  \n",
        "          \n",
        "    small = large = all_words[0];  \n",
        "   \n",
        "#Find smallest and largest word in the str1  \n",
        "    for k in range(0, len(all_words)):\n",
        "        if(len(small) > len(all_words[k])):\n",
        "            small = all_words[k];\n",
        "        if(len(large) < len(all_words[k])):\n",
        "            large = all_words[k];\n",
        "    return small,large;\n",
        "\n",
        "str1 = \"Write a Java program to sort an array of given integers using Quick sort Algorithm.\";  \n",
        "print(\"Original Strings:\\n\",str1)\n",
        "small, large = smallest_largest_words(str1)  \n",
        "print(\"Smallest word: \" + small);  \n",
        "print(\"Largest word: \" + large); "
      ],
      "execution_count": 0,
      "outputs": [
        {
          "output_type": "stream",
          "text": [
            "Original Strings:\n",
            " Write a Java program to sort an array of given integers using Quick sort Algorithm.\n",
            "Smallest word: a\n",
            "Largest word: Algorithm.\n"
          ],
          "name": "stdout"
        }
      ]
    },
    {
      "cell_type": "markdown",
      "metadata": {
        "id": "JOlncdIFF-6T",
        "colab_type": "text"
      },
      "source": [
        "**80, Viết chương trình Python để đếm số chuỗi con có cùng ký tự đầu tiên và cuối cùng của một chuỗi đã cho.**\n",
        "\n",
        "**Write a Python program to count number of substrings with same first and last characters of a given string.**\n",
        "\n",
        "![alt text](https://www.w3resource.com/w3r_images/python-data-type-string-image-exercise-80.svg)"
      ]
    },
    {
      "cell_type": "code",
      "metadata": {
        "id": "4FRcqRFCF_yy",
        "colab_type": "code",
        "colab": {}
      },
      "source": [
        "def no_of_substring_with_equalEnds(str1): \n",
        "\tresult = 0; \n",
        "\tn = len(str1); \n",
        "\tfor i in range(n): \n",
        "\t\tfor j in range(i, n): \n",
        "\t\t\tif (str1[i] == str1[j]): \n",
        "\t\t\t\tresult = result + 1\n",
        "\treturn result \n",
        "str1 = input(\"Input a string: \")\n",
        "print(no_of_substring_with_equalEnds(str1))\n",
        "\n",
        "\"\"\" Input a string:  abc\n",
        "    3                               \"\"\""
      ],
      "execution_count": 0,
      "outputs": []
    },
    {
      "cell_type": "markdown",
      "metadata": {
        "id": "isXbjbGDFGgY",
        "colab_type": "text"
      },
      "source": [
        "**81, Viết chương trình Python để tìm chỉ mục của một chuỗi đã cho mà tại đó một chuỗi con đã cho bắt đầu. Nếu không tìm thấy chuỗi con trong chuỗi đã cho, 'Không tìm thấy'.**\n",
        "\n",
        "**Write a Python program to find the index of a given string at which a given substring starts. If the substring is not found in the given string return 'Not found'.**\n",
        "\n"
      ]
    },
    {
      "cell_type": "code",
      "metadata": {
        "id": "HmowV3leE4vb",
        "colab_type": "code",
        "outputId": "f8902a24-a6d1-4b77-ee34-e54710e0a608",
        "colab": {
          "base_uri": "https://localhost:8080/",
          "height": 68
        }
      },
      "source": [
        "def find_Index(str1, pos):\n",
        "    if len(pos) > len(str1):\n",
        "        return 'Not found'\n",
        "\n",
        "    for i in range(len(str1)):\n",
        "\n",
        "        for j in range(len(pos)):\n",
        "\n",
        "            if str1[i + j] == pos[j] and j == len(pos) - 1:\n",
        "                return i\n",
        "                \n",
        "            elif str1[i + j] != pos[j]:\n",
        "                break\n",
        "\n",
        "    return 'Not found'\n",
        "print(find_Index(\"Python Exercises\", \"Ex\"))\n",
        "print(find_Index(\"Python Exercises\", \"yt\"))\n",
        "print(find_Index(\"Python Exercises\", \"PY\"))"
      ],
      "execution_count": 0,
      "outputs": [
        {
          "output_type": "stream",
          "text": [
            "7\n",
            "1\n",
            "Not found\n"
          ],
          "name": "stdout"
        }
      ]
    },
    {
      "cell_type": "markdown",
      "metadata": {
        "id": "8vMl0hYbFRZJ",
        "colab_type": "text"
      },
      "source": [
        "**82, Viết chương trình Python để quấn một chuỗi đã cho thành một đoạn có độ rộng cho trước.**\n",
        "\n",
        "**Write a Python program to wrap a given string into a paragraph of given width.**\n",
        "\n"
      ]
    },
    {
      "cell_type": "code",
      "metadata": {
        "id": "JwZpAKiaFNAE",
        "colab_type": "code",
        "colab": {}
      },
      "source": [
        "import textwrap\n",
        "s = input(\"Input a string: \")\n",
        "w = int(input(\"Input the width of the paragraph: \").strip())\n",
        "print(\"Result:\")\n",
        "print(textwrap.fill(s,w))\n",
        "\n",
        "\"\"\" Input a string:  The quick brown fox.\n",
        "    Input the width of the paragraph:  10\n",
        "    Result:\n",
        "    The quick\n",
        "    brown fox.                                                  \"\"\""
      ],
      "execution_count": 0,
      "outputs": []
    },
    {
      "cell_type": "markdown",
      "metadata": {
        "id": "EztyNDKwFqRa",
        "colab_type": "text"
      },
      "source": [
        "**83, Viết chương trình Python để in bốn giá trị thập phân, bát phân, thập lục phân (viết hoa), nhị phân trong một dòng của một số nguyên cho trước.**\n",
        "\n",
        "**Write a Python program to print four values decimal, octal, hexadecimal (capitalized), binary in a single line of a given integer.**\n",
        "\n"
      ]
    },
    {
      "cell_type": "code",
      "metadata": {
        "id": "bHMsVE6JFbIi",
        "colab_type": "code",
        "colab": {}
      },
      "source": [
        "i = int(input(\"Input an integer: \"))\n",
        "o = str(oct(i))[2:]\n",
        "h = str(hex(i))[2:]\n",
        "h = h.upper()\n",
        "b = str(bin(i))[2:]\n",
        "d = str(i)\n",
        "print(\"Decimal Octal Hexadecimal (capitalized), Binary\")\n",
        "print(d,'  ',o,' ',h,'                   ',b)\n",
        "\n",
        "\"\"\" Input an integer:  25\n",
        "    Decimal Octal Hexadecimal (capitalized), Binary\n",
        "    25    31   19                     11001                      \"\"\""
      ],
      "execution_count": 0,
      "outputs": []
    },
    {
      "cell_type": "markdown",
      "metadata": {
        "id": "TKD4Z9jtGhhb",
        "colab_type": "text"
      },
      "source": [
        "**84, Viết chương trình Python để hoán đổi các trường hợp của một chuỗi đã cho.**\n",
        "\n",
        "**Write a Python program to swap cases of a given string.**\n",
        "\n"
      ]
    },
    {
      "cell_type": "code",
      "metadata": {
        "id": "7mzDBu-IFv-U",
        "colab_type": "code",
        "outputId": "6558ce26-8cd5-4af6-fec4-0bfb9af997ea",
        "colab": {
          "base_uri": "https://localhost:8080/",
          "height": 68
        }
      },
      "source": [
        "def swap_case_string(str1):\n",
        "   result_str = \"\"   \n",
        "   for item in str1:\n",
        "       if item.isupper():\n",
        "           result_str += item.lower()\n",
        "       else:\n",
        "           result_str += item.upper()           \n",
        "   return result_str\n",
        "print(swap_case_string(\"Python Exercises\"))\n",
        "print(swap_case_string(\"Java\"))\n",
        "print(swap_case_string(\"NumPy\"))"
      ],
      "execution_count": 0,
      "outputs": [
        {
          "output_type": "stream",
          "text": [
            "pYTHON eXERCISES\n",
            "jAVA\n",
            "nUMpY\n"
          ],
          "name": "stdout"
        }
      ]
    },
    {
      "cell_type": "code",
      "metadata": {
        "id": "NcXhQqbUGmJE",
        "colab_type": "code",
        "colab": {}
      },
      "source": [
        ""
      ],
      "execution_count": 0,
      "outputs": []
    }
  ]
}