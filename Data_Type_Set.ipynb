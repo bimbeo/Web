{
  "nbformat": 4,
  "nbformat_minor": 0,
  "metadata": {
    "colab": {
      "name": "Data Type: Set.ipynb",
      "provenance": [],
      "authorship_tag": "ABX9TyNACuI0I9cn3H7ji1XXQJPq",
      "include_colab_link": true
    },
    "kernelspec": {
      "name": "python3",
      "display_name": "Python 3"
    }
  },
  "cells": [
    {
      "cell_type": "markdown",
      "metadata": {
        "id": "view-in-github",
        "colab_type": "text"
      },
      "source": [
        "<a href=\"https://colab.research.google.com/github/bimbeo/Web/blob/master/Data_Type_Set.ipynb\" target=\"_parent\"><img src=\"https://colab.research.google.com/assets/colab-badge.svg\" alt=\"Open In Colab\"/></a>"
      ]
    },
    {
      "cell_type": "markdown",
      "metadata": {
        "id": "AV_v-iqZHGgh",
        "colab_type": "text"
      },
      "source": [
        "**1, Viết chương trình Python để tạo một tập hợp trống mới.**\n",
        "\n",
        "**Write a Python program to create a new empty set.**\n",
        "\n",
        "\n"
      ]
    },
    {
      "cell_type": "code",
      "metadata": {
        "id": "koGoJIjnHA21",
        "colab_type": "code",
        "colab": {
          "base_uri": "https://localhost:8080/",
          "height": 51
        },
        "outputId": "7aec4c53-f46f-44d2-90b3-dac3cd859a64"
      },
      "source": [
        "x = set()                       #Create a new empty set \n",
        "print(x)\n",
        "n = set([0, 1, 2, 3, 4])        #Create a non empty set\n",
        "print(n)"
      ],
      "execution_count": 1,
      "outputs": [
        {
          "output_type": "stream",
          "text": [
            "set()\n",
            "{0, 1, 2, 3, 4}\n"
          ],
          "name": "stdout"
        }
      ]
    },
    {
      "cell_type": "markdown",
      "metadata": {
        "id": "NdIoVtaYHYC9",
        "colab_type": "text"
      },
      "source": [
        "**2, Viết chương trình Python để lặp lại qua các bộ.**\n",
        "\n",
        "**Write a Python program to iteration over sets.**\n",
        "\n",
        "\n",
        "\n"
      ]
    },
    {
      "cell_type": "code",
      "metadata": {
        "id": "xirQCS4iHSXA",
        "colab_type": "code",
        "colab": {
          "base_uri": "https://localhost:8080/",
          "height": 119
        },
        "outputId": "0f3243d5-6542-415b-dc10-60e9e172d37b"
      },
      "source": [
        "num_set = set([0, 1, 2, 3, 4, 5])               #Create a set \n",
        "for n in num_set:\n",
        "  print(n)"
      ],
      "execution_count": 2,
      "outputs": [
        {
          "output_type": "stream",
          "text": [
            "0\n",
            "1\n",
            "2\n",
            "3\n",
            "4\n",
            "5\n"
          ],
          "name": "stdout"
        }
      ]
    },
    {
      "cell_type": "markdown",
      "metadata": {
        "id": "h8PPf5jNHj5Y",
        "colab_type": "text"
      },
      "source": [
        "**3, Viết chương trình Python để thêm (các) thành viên trong một bộ.**\n",
        "\n",
        "**Write a Python program to add member(s) in a set.**\n",
        "\n",
        "![alt text](https://www.w3resource.com/w3r_images/python-sets-image-exercise-3.svg)\n",
        "\n"
      ]
    },
    {
      "cell_type": "code",
      "metadata": {
        "id": "-S2kXh3LHfGx",
        "colab_type": "code",
        "colab": {
          "base_uri": "https://localhost:8080/",
          "height": 51
        },
        "outputId": "1eae4c97-4790-4f2d-abad-4c73b9cc458f"
      },
      "source": [
        "color_set = set()                         #A new empty set\n",
        "color_set.add(\"Red\")\n",
        "print(color_set)\n",
        "color_set.update([\"Blue\", \"Green\"])       #Add multiple items\n",
        "print(color_set)"
      ],
      "execution_count": 3,
      "outputs": [
        {
          "output_type": "stream",
          "text": [
            "{'Red'}\n",
            "{'Blue', 'Red', 'Green'}\n"
          ],
          "name": "stdout"
        }
      ]
    },
    {
      "cell_type": "markdown",
      "metadata": {
        "id": "g_ey3QA3HyKC",
        "colab_type": "text"
      },
      "source": [
        "**4, Viết chương trình Python để xóa (các) mục khỏi bộ.**\n",
        "\n",
        "**Write a Python program to remove item(s) from set.**\n",
        "\n",
        "![alt text](https://www.w3resource.com/w3r_images/python-sets-image-exercise-4.svg)\n",
        "\n"
      ]
    },
    {
      "cell_type": "code",
      "metadata": {
        "id": "dUFODZ-mHrWk",
        "colab_type": "code",
        "colab": {
          "base_uri": "https://localhost:8080/",
          "height": 51
        },
        "outputId": "a5528b0d-489f-477e-9d48-341986af4994"
      },
      "source": [
        "num_set = set([0, 1, 3, 4, 5])\n",
        "num_set.pop()\n",
        "print(num_set)\n",
        "num_set.pop()\n",
        "print(num_set)"
      ],
      "execution_count": 4,
      "outputs": [
        {
          "output_type": "stream",
          "text": [
            "{1, 3, 4, 5}\n",
            "{3, 4, 5}\n"
          ],
          "name": "stdout"
        }
      ]
    },
    {
      "cell_type": "markdown",
      "metadata": {
        "id": "AH66mItqIU1k",
        "colab_type": "text"
      },
      "source": [
        "**5, Viết chương trình Python để xóa một mục khỏi tập hợp nếu nó có trong tập hợp.**\n",
        "\n",
        "**Write a Python program to remove an item from a set if it is present in the set.**\n",
        "\n",
        "![alt text](https://www.w3resource.com/w3r_images/python-sets-image-exercise-5.svg)"
      ]
    },
    {
      "cell_type": "code",
      "metadata": {
        "id": "6VE9pzPhH29O",
        "colab_type": "code",
        "colab": {
          "base_uri": "https://localhost:8080/",
          "height": 34
        },
        "outputId": "da0cd34a-63e4-45d5-80d2-fa1a22bee04f"
      },
      "source": [
        "num_set = set([0, 1, 2, 3, 4, 5])     #Create a new set\n",
        "num_set.discard(4)                    #Discard number 4\n",
        "print(num_set)"
      ],
      "execution_count": 5,
      "outputs": [
        {
          "output_type": "stream",
          "text": [
            "{0, 1, 2, 3, 5}\n"
          ],
          "name": "stdout"
        }
      ]
    },
    {
      "cell_type": "markdown",
      "metadata": {
        "id": "rxy_Xu8kInCI",
        "colab_type": "text"
      },
      "source": [
        "**6, Viết chương trình Python để tạo giao điểm của các tập hợp.**\n",
        "\n",
        "**Write a Python program to create an intersection of sets.**\n",
        "\n",
        "![alt text](https://www.w3resource.com/w3r_images/python-sets-image-exercise-6.svg)"
      ]
    },
    {
      "cell_type": "code",
      "metadata": {
        "id": "2Zo1jXYkIi2m",
        "colab_type": "code",
        "colab": {
          "base_uri": "https://localhost:8080/",
          "height": 34
        },
        "outputId": "06e954a6-fc13-4b9a-e4a6-679eff9347ed"
      },
      "source": [
        "setx = set([\"green\", \"blue\"])          \n",
        "sety = set([\"blue\", \"yellow\"])\n",
        "setz = setx & sety                       #Intersection\n",
        "print(setz)"
      ],
      "execution_count": 6,
      "outputs": [
        {
          "output_type": "stream",
          "text": [
            "{'blue'}\n"
          ],
          "name": "stdout"
        }
      ]
    },
    {
      "cell_type": "markdown",
      "metadata": {
        "id": "paEqyYYhI1-P",
        "colab_type": "text"
      },
      "source": [
        "**7, Viết chương trình Python để tạo một tập hợp các tập hợp.**\n",
        "\n",
        "**Write a Python program to create a union of sets.**\n",
        "\n",
        "![alt text](https://www.w3resource.com/w3r_images/python-sets-image-exercise-7.svg)"
      ]
    },
    {
      "cell_type": "code",
      "metadata": {
        "id": "pUMvFilCIyvj",
        "colab_type": "code",
        "colab": {
          "base_uri": "https://localhost:8080/",
          "height": 34
        },
        "outputId": "24fe5633-434c-48ba-85e5-d1cd07b584c1"
      },
      "source": [
        "setx = set([\"green\", \"blue\"])\n",
        "sety = set([\"blue\", \"yellow\"])\n",
        "seta = setx | sety                      #Union\n",
        "print(seta)"
      ],
      "execution_count": 7,
      "outputs": [
        {
          "output_type": "stream",
          "text": [
            "{'yellow', 'blue', 'green'}\n"
          ],
          "name": "stdout"
        }
      ]
    },
    {
      "cell_type": "markdown",
      "metadata": {
        "id": "UqWi_7B6JHgF",
        "colab_type": "text"
      },
      "source": [
        "**8, Viết chương trình Python để tạo sự khác biệt thiết lập.**\n",
        "\n",
        "**Write a Python program to create set difference.**\n",
        "\n",
        "![alt text](https://www.w3resource.com/w3r_images/python-sets-image-exercise-8.svg)"
      ]
    },
    {
      "cell_type": "code",
      "metadata": {
        "id": "E4i1Mlq9I_NE",
        "colab_type": "code",
        "colab": {
          "base_uri": "https://localhost:8080/",
          "height": 51
        },
        "outputId": "17514ffc-40f9-49a3-a9b0-be7ac53b1ac5"
      },
      "source": [
        "setx = set([\"apple\", \"mango\"])\n",
        "sety = set([\"mango\", \"orange\"])\n",
        "setz = setx & sety\n",
        "print(setz)\n",
        "setb = setx - setz                      #Set difference\n",
        "print(setb)"
      ],
      "execution_count": 8,
      "outputs": [
        {
          "output_type": "stream",
          "text": [
            "{'mango'}\n",
            "{'apple'}\n"
          ],
          "name": "stdout"
        }
      ]
    },
    {
      "cell_type": "markdown",
      "metadata": {
        "id": "_rMWgFY7JWyG",
        "colab_type": "text"
      },
      "source": [
        "**9, Viết chương trình Python để tạo sự khác biệt đối xứng.**\n",
        "\n",
        "**Write a Python program to create a symmetric difference.**\n",
        "\n",
        "![alt text](https://www.w3resource.com/w3r_images/python-sets-image-exercise-9.svg)"
      ]
    },
    {
      "cell_type": "code",
      "metadata": {
        "id": "hYNrIQ13JQkH",
        "colab_type": "code",
        "colab": {
          "base_uri": "https://localhost:8080/",
          "height": 34
        },
        "outputId": "d385a2b1-dbec-4134-d6c1-7e477f1b5882"
      },
      "source": [
        "setx = set([\"apple\", \"mango\"])\n",
        "sety = set([\"mango\", \"orange\"])\n",
        "setc = setx ^ sety                    #Symmetric difference\n",
        "print(setc)"
      ],
      "execution_count": 9,
      "outputs": [
        {
          "output_type": "stream",
          "text": [
            "{'orange', 'apple'}\n"
          ],
          "name": "stdout"
        }
      ]
    },
    {
      "cell_type": "markdown",
      "metadata": {
        "id": "uSm4YEaLJmRi",
        "colab_type": "text"
      },
      "source": [
        "**10, Viết chương trình Python để kiểm tra xem mọi phần tử trong s có nằm trong t hay không và mọi phần tử trong t đều nằm trong s.**\n",
        "\n",
        "**Write a Python program to test whether every element in s is in t and every element in t is in s.**\n",
        "\n"
      ]
    },
    {
      "cell_type": "code",
      "metadata": {
        "id": "6ZuzunKMJgfP",
        "colab_type": "code",
        "colab": {
          "base_uri": "https://localhost:8080/",
          "height": 85
        },
        "outputId": "8a1e8234-6d78-46a9-8a86-3b1c55003e20"
      },
      "source": [
        "setx = set([\"apple\", \"mango\"])\n",
        "sety = set([\"mango\", \"orange\"])\n",
        "setz = set([\"mango\"])\n",
        "issubset = setx <= sety\n",
        "print(issubset)\n",
        "issuperset = setx >= sety\n",
        "print(issuperset)\n",
        "issubset = setz <= sety\n",
        "print(issubset)\n",
        "issuperset = sety >= setz\n",
        "print(issuperset)"
      ],
      "execution_count": 10,
      "outputs": [
        {
          "output_type": "stream",
          "text": [
            "False\n",
            "False\n",
            "True\n",
            "True\n"
          ],
          "name": "stdout"
        }
      ]
    },
    {
      "cell_type": "markdown",
      "metadata": {
        "id": "4xxs2JlFJ2HI",
        "colab_type": "text"
      },
      "source": [
        "**11, Viết chương trình Python để tạo một bản sao nông của các bộ.**\n",
        "\n",
        "**Write a Python program to create a shallow copy of sets.**\n",
        "\n",
        "![alt text](https://www.w3resource.com/w3r_images/python-sets-image-exercise-11.svg)"
      ]
    },
    {
      "cell_type": "code",
      "metadata": {
        "id": "SGv9FQpUJrF7",
        "colab_type": "code",
        "colab": {
          "base_uri": "https://localhost:8080/",
          "height": 34
        },
        "outputId": "ee0ec4e0-9994-4167-af8e-124f79d2107c"
      },
      "source": [
        "setp = set([\"Red\", \"Green\"])\n",
        "setq = set([\"Green\", \"Red\"])\n",
        "setr = setp.copy()                    #A shallow copy\n",
        "print(setr)\n"
      ],
      "execution_count": 11,
      "outputs": [
        {
          "output_type": "stream",
          "text": [
            "{'Red', 'Green'}\n"
          ],
          "name": "stdout"
        }
      ]
    },
    {
      "cell_type": "markdown",
      "metadata": {
        "id": "oCHkXZXHKEtT",
        "colab_type": "text"
      },
      "source": [
        "**12, Viết chương trình Python để xóa một tập hợp.**\n",
        "\n",
        "**Write a Python program to clear a set.**\n",
        "\n",
        "![alt text](https://www.w3resource.com/w3r_images/python-sets-image-exercise-12.svg)"
      ]
    },
    {
      "cell_type": "code",
      "metadata": {
        "id": "5FMLlnFYJ78z",
        "colab_type": "code",
        "colab": {
          "base_uri": "https://localhost:8080/",
          "height": 51
        },
        "outputId": "45d15055-5a5c-4665-e1e8-3c94adb7a4a6"
      },
      "source": [
        "setp = set([\"Red\", \"Green\"])\n",
        "setq = setp.copy()\n",
        "print(setq)\n",
        "setq.clear()\n",
        "print(setq)"
      ],
      "execution_count": 12,
      "outputs": [
        {
          "output_type": "stream",
          "text": [
            "{'Red', 'Green'}\n",
            "set()\n"
          ],
          "name": "stdout"
        }
      ]
    },
    {
      "cell_type": "markdown",
      "metadata": {
        "id": "J4aJDAf6KRyg",
        "colab_type": "text"
      },
      "source": [
        "**13, Viết chương trình Python để sử dụng hàng chục.**\n",
        "\n",
        "**Write a Python program to use of frozensets.**\n",
        "\n",
        "![alt text](https://www.w3resource.com/w3r_images/python-sets-image-exercise-13.svg)"
      ]
    },
    {
      "cell_type": "code",
      "metadata": {
        "id": "dRPzVDvpKLem",
        "colab_type": "code",
        "colab": {
          "base_uri": "https://localhost:8080/",
          "height": 68
        },
        "outputId": "e762ed55-63ba-45e5-c759-00bb987d530a"
      },
      "source": [
        "x = frozenset([1, 2, 3, 4, 5])            \n",
        "y = frozenset([3, 4, 5, 6, 7])\n",
        "print(x.isdisjoint(y))                      #use isdisjoint(). Return True if the set has no elements in common with other. \n",
        "print(x.difference(y))                      #use difference(). Return a new set with elements in the set that are not in the others.\n",
        "print(x | y)                                #new set with elements from both x and y"
      ],
      "execution_count": 14,
      "outputs": [
        {
          "output_type": "stream",
          "text": [
            "False\n",
            "frozenset({1, 2})\n",
            "frozenset({1, 2, 3, 4, 5, 6, 7})\n"
          ],
          "name": "stdout"
        }
      ]
    },
    {
      "cell_type": "markdown",
      "metadata": {
        "id": "gek-qEl4KxW4",
        "colab_type": "text"
      },
      "source": [
        "**14, Viết chương trình Python để tìm giá trị tối đa và tối thiểu trong một tập hợp**\n",
        "\n",
        "**Write a Python program to find maximum and the minimum value in a set.**\n",
        "\n",
        "![alt text](https://www.w3resource.com/w3r_images/python-sets-image-exercise-14.svg)"
      ]
    },
    {
      "cell_type": "code",
      "metadata": {
        "id": "qT6EHFg2KbYd",
        "colab_type": "code",
        "colab": {
          "base_uri": "https://localhost:8080/",
          "height": 51
        },
        "outputId": "83510f7a-510f-445c-963d-a8e6056b1fde"
      },
      "source": [
        "seta = set([5, 10, 3, 15, 2, 20])               #Create a set\n",
        "print(max(seta))                                #Find maximum value\n",
        "print(min(seta))                                #Find minimum value"
      ],
      "execution_count": 15,
      "outputs": [
        {
          "output_type": "stream",
          "text": [
            "20\n",
            "2\n"
          ],
          "name": "stdout"
        }
      ]
    },
    {
      "cell_type": "markdown",
      "metadata": {
        "id": "tIwJtlhFLCQ2",
        "colab_type": "text"
      },
      "source": [
        "**15, Viết chương trình Python để tìm độ dài của tập hợp..**\n",
        "\n",
        "**Write a Python program to find the length of a set.**\n",
        "\n",
        "\n",
        "![alt text](https://www.w3resource.com/w3r_images/python-sets-image-exercise-15.svg)\n"
      ]
    },
    {
      "cell_type": "code",
      "metadata": {
        "id": "Z7BZmvCAK6_U",
        "colab_type": "code",
        "colab": {
          "base_uri": "https://localhost:8080/",
          "height": 34
        },
        "outputId": "886208a2-5b31-44e6-a9c6-ffee65833ffa"
      },
      "source": [
        "seta = set([5, 10, 3, 15, 2, 20])       #Create a set\n",
        "print(len(seta))                        #Find the length use len()"
      ],
      "execution_count": 16,
      "outputs": [
        {
          "output_type": "stream",
          "text": [
            "6\n"
          ],
          "name": "stdout"
        }
      ]
    },
    {
      "cell_type": "code",
      "metadata": {
        "id": "MtfYZMcTLMeF",
        "colab_type": "code",
        "colab": {}
      },
      "source": [
        ""
      ],
      "execution_count": 0,
      "outputs": []
    }
  ]
}