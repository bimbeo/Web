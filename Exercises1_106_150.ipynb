{
  "nbformat": 4,
  "nbformat_minor": 0,
  "metadata": {
    "colab": {
      "name": "Exercises1:106-150.ipynb",
      "provenance": [],
      "authorship_tag": "ABX9TyOwEOJSisKq8E/39lRK3DXp",
      "include_colab_link": true
    },
    "kernelspec": {
      "name": "python3",
      "display_name": "Python 3"
    }
  },
  "cells": [
    {
      "cell_type": "markdown",
      "metadata": {
        "id": "view-in-github",
        "colab_type": "text"
      },
      "source": [
        "<a href=\"https://colab.research.google.com/github/bimbeo/Web/blob/master/Exercises1_106_150.ipynb\" target=\"_parent\"><img src=\"https://colab.research.google.com/assets/colab-badge.svg\" alt=\"Open In Colab\"/></a>"
      ]
    },
    {
      "cell_type": "markdown",
      "metadata": {
        "id": "rEwN9wuiKgrP",
        "colab_type": "text"
      },
      "source": [
        "**106, Viết chương trình Python để chia đường dẫn trên dấu phân cách mở rộng.**\n",
        "\n",
        "**Write a Python program to divide a path on the extension separator.**\n",
        "\n"
      ]
    },
    {
      "cell_type": "code",
      "metadata": {
        "id": "YM_f87G7KRYq",
        "colab_type": "code",
        "outputId": "aa6a3eb3-95c5-419c-aaa6-965cb6e71b0f",
        "colab": {
          "base_uri": "https://localhost:8080/",
          "height": 102
        }
      },
      "source": [
        "import os.path\n",
        "for path in [ 'test.txt', 'filename', '/user/system/test.txt', '/', '' ]:\n",
        "    print('\"%s\" :' % path, os.path.splitext(path))"
      ],
      "execution_count": 0,
      "outputs": [
        {
          "output_type": "stream",
          "text": [
            "\"test.txt\" : ('test', '.txt')\n",
            "\"filename\" : ('filename', '')\n",
            "\"/user/system/test.txt\" : ('/user/system/test', '.txt')\n",
            "\"/\" : ('/', '')\n",
            "\"\" : ('', '')\n"
          ],
          "name": "stdout"
        }
      ]
    },
    {
      "cell_type": "markdown",
      "metadata": {
        "id": "-v1X9wG8KvcA",
        "colab_type": "text"
      },
      "source": [
        "**107, Viết chương trình Python để lấy thuộc tính tệp.**\n",
        "\n",
        "**Write a Python program to retrieve file properties.**\n",
        "\n"
      ]
    },
    {
      "cell_type": "code",
      "metadata": {
        "id": "U9x0hcsGKmDx",
        "colab_type": "code",
        "outputId": "a1d09b2c-84d9-4e50-b6bb-1ed5b0d7720e",
        "colab": {
          "base_uri": "https://localhost:8080/",
          "height": 231
        }
      },
      "source": [
        "import os.path\n",
        "import time\n",
        "\n",
        "print('File         :', __file__)\n",
        "print('Access time  :', time.ctime(os.path.getatime(__file__)))\n",
        "print('Modified time:', time.ctime(os.path.getmtime(__file__)))\n",
        "print('Change time  :', time.ctime(os.path.getctime(__file__)))\n",
        "print('Size         :', os.path.getsize(__file__)) \n",
        "# colob không chạy được, vscode chạy được"
      ],
      "execution_count": 0,
      "outputs": [
        {
          "output_type": "error",
          "ename": "NameError",
          "evalue": "ignored",
          "traceback": [
            "\u001b[0;31m---------------------------------------------------------------------------\u001b[0m",
            "\u001b[0;31mNameError\u001b[0m                                 Traceback (most recent call last)",
            "\u001b[0;32m<ipython-input-2-630a2e584b18>\u001b[0m in \u001b[0;36m<module>\u001b[0;34m()\u001b[0m\n\u001b[1;32m      2\u001b[0m \u001b[0;32mimport\u001b[0m \u001b[0mtime\u001b[0m\u001b[0;34m\u001b[0m\u001b[0;34m\u001b[0m\u001b[0m\n\u001b[1;32m      3\u001b[0m \u001b[0;34m\u001b[0m\u001b[0m\n\u001b[0;32m----> 4\u001b[0;31m \u001b[0mprint\u001b[0m\u001b[0;34m(\u001b[0m\u001b[0;34m'File         :'\u001b[0m\u001b[0;34m,\u001b[0m \u001b[0m__file__\u001b[0m\u001b[0;34m)\u001b[0m\u001b[0;34m\u001b[0m\u001b[0;34m\u001b[0m\u001b[0m\n\u001b[0m\u001b[1;32m      5\u001b[0m \u001b[0mprint\u001b[0m\u001b[0;34m(\u001b[0m\u001b[0;34m'Access time  :'\u001b[0m\u001b[0;34m,\u001b[0m \u001b[0mtime\u001b[0m\u001b[0;34m.\u001b[0m\u001b[0mctime\u001b[0m\u001b[0;34m(\u001b[0m\u001b[0mos\u001b[0m\u001b[0;34m.\u001b[0m\u001b[0mpath\u001b[0m\u001b[0;34m.\u001b[0m\u001b[0mgetatime\u001b[0m\u001b[0;34m(\u001b[0m\u001b[0m__file__\u001b[0m\u001b[0;34m)\u001b[0m\u001b[0;34m)\u001b[0m\u001b[0;34m)\u001b[0m\u001b[0;34m\u001b[0m\u001b[0;34m\u001b[0m\u001b[0m\n\u001b[1;32m      6\u001b[0m \u001b[0mprint\u001b[0m\u001b[0;34m(\u001b[0m\u001b[0;34m'Modified time:'\u001b[0m\u001b[0;34m,\u001b[0m \u001b[0mtime\u001b[0m\u001b[0;34m.\u001b[0m\u001b[0mctime\u001b[0m\u001b[0;34m(\u001b[0m\u001b[0mos\u001b[0m\u001b[0;34m.\u001b[0m\u001b[0mpath\u001b[0m\u001b[0;34m.\u001b[0m\u001b[0mgetmtime\u001b[0m\u001b[0;34m(\u001b[0m\u001b[0m__file__\u001b[0m\u001b[0;34m)\u001b[0m\u001b[0;34m)\u001b[0m\u001b[0;34m)\u001b[0m\u001b[0;34m\u001b[0m\u001b[0;34m\u001b[0m\u001b[0m\n",
            "\u001b[0;31mNameError\u001b[0m: name '__file__' is not defined"
          ]
        }
      ]
    },
    {
      "cell_type": "markdown",
      "metadata": {
        "id": "DP2BjgGsK-0j",
        "colab_type": "text"
      },
      "source": [
        "**108, Viết chương trình Python để tìm đường dẫn đề cập đến một tệp hoặc thư mục khi bạn gặp tên đường dẫn.**\n",
        "\n",
        "**Write a Python program to find path refers to a file or directory when you encounter a path name.**\n",
        "\n"
      ]
    },
    {
      "cell_type": "code",
      "metadata": {
        "id": "dNNHehzKKzwi",
        "colab_type": "code",
        "outputId": "59cb0958-e5ea-4e41-b2d9-12c78812f982",
        "colab": {
          "base_uri": "https://localhost:8080/",
          "height": 231
        }
      },
      "source": [
        "import os.path\n",
        "\n",
        "for file in [ __file__, os.path.dirname(__file__), '/', './broken_link']:\n",
        "    print('File        :', file)\n",
        "    print('Absolute    :', os.path.isabs(file))\n",
        "    print('Is File?    :', os.path.isfile(file))\n",
        "    print('Is Dir?     :', os.path.isdir(file))\n",
        "    print('Is Link?    :', os.path.islink(file))\n",
        "    print('Exists?     :', os.path.exists(file))\n",
        "    print('Link Exists?:', os.path.lexists(file))\n",
        "# colob không chạy được, vscode chạy được"
      ],
      "execution_count": 0,
      "outputs": [
        {
          "output_type": "error",
          "ename": "NameError",
          "evalue": "ignored",
          "traceback": [
            "\u001b[0;31m---------------------------------------------------------------------------\u001b[0m",
            "\u001b[0;31mNameError\u001b[0m                                 Traceback (most recent call last)",
            "\u001b[0;32m<ipython-input-3-d08220674138>\u001b[0m in \u001b[0;36m<module>\u001b[0;34m()\u001b[0m\n\u001b[1;32m      1\u001b[0m \u001b[0;32mimport\u001b[0m \u001b[0mos\u001b[0m\u001b[0;34m.\u001b[0m\u001b[0mpath\u001b[0m\u001b[0;34m\u001b[0m\u001b[0;34m\u001b[0m\u001b[0m\n\u001b[1;32m      2\u001b[0m \u001b[0;34m\u001b[0m\u001b[0m\n\u001b[0;32m----> 3\u001b[0;31m \u001b[0;32mfor\u001b[0m \u001b[0mfile\u001b[0m \u001b[0;32min\u001b[0m \u001b[0;34m[\u001b[0m \u001b[0m__file__\u001b[0m\u001b[0;34m,\u001b[0m \u001b[0mos\u001b[0m\u001b[0;34m.\u001b[0m\u001b[0mpath\u001b[0m\u001b[0;34m.\u001b[0m\u001b[0mdirname\u001b[0m\u001b[0;34m(\u001b[0m\u001b[0m__file__\u001b[0m\u001b[0;34m)\u001b[0m\u001b[0;34m,\u001b[0m \u001b[0;34m'/'\u001b[0m\u001b[0;34m,\u001b[0m \u001b[0;34m'./broken_link'\u001b[0m\u001b[0;34m]\u001b[0m\u001b[0;34m:\u001b[0m\u001b[0;34m\u001b[0m\u001b[0;34m\u001b[0m\u001b[0m\n\u001b[0m\u001b[1;32m      4\u001b[0m     \u001b[0mprint\u001b[0m\u001b[0;34m(\u001b[0m\u001b[0;34m'File        :'\u001b[0m\u001b[0;34m,\u001b[0m \u001b[0mfile\u001b[0m\u001b[0;34m)\u001b[0m\u001b[0;34m\u001b[0m\u001b[0;34m\u001b[0m\u001b[0m\n\u001b[1;32m      5\u001b[0m     \u001b[0mprint\u001b[0m\u001b[0;34m(\u001b[0m\u001b[0;34m'Absolute    :'\u001b[0m\u001b[0;34m,\u001b[0m \u001b[0mos\u001b[0m\u001b[0;34m.\u001b[0m\u001b[0mpath\u001b[0m\u001b[0;34m.\u001b[0m\u001b[0misabs\u001b[0m\u001b[0;34m(\u001b[0m\u001b[0mfile\u001b[0m\u001b[0;34m)\u001b[0m\u001b[0;34m)\u001b[0m\u001b[0;34m\u001b[0m\u001b[0;34m\u001b[0m\u001b[0m\n",
            "\u001b[0;31mNameError\u001b[0m: name '__file__' is not defined"
          ]
        }
      ]
    },
    {
      "cell_type": "markdown",
      "metadata": {
        "id": "ScBV47SRLZ4m",
        "colab_type": "text"
      },
      "source": [
        "**109, Viết chương trình Python để kiểm tra xem một số có dương, âm hay không.**\n",
        "\n",
        "**Write a Python program to check if a number is positive, negative or zero.**\n",
        "\n",
        "\n"
      ]
    },
    {
      "cell_type": "code",
      "metadata": {
        "id": "NQKwHJUCLROE",
        "colab_type": "code",
        "outputId": "690a8317-93f8-41b7-822c-7ab2e9ec001d",
        "colab": {
          "base_uri": "https://localhost:8080/",
          "height": 51
        }
      },
      "source": [
        "num = float(input(\"Input a number: \"))\n",
        "if num > 0:\n",
        "  print(\"It is positive number.\")\n",
        "elif num == 0:\n",
        "  print(\"It is Zero.\")\n",
        "else:\n",
        "  print(\"It is negative number.\")\n"
      ],
      "execution_count": 0,
      "outputs": [
        {
          "output_type": "stream",
          "text": [
            "Input a number: -2\n",
            "It is negative number.\n"
          ],
          "name": "stdout"
        }
      ]
    },
    {
      "cell_type": "markdown",
      "metadata": {
        "id": "WeUi5C-5L_So",
        "colab_type": "text"
      },
      "source": [
        "**110, Viết chương trình Python để lấy số chia hết cho mười lăm từ danh sách bằng hàm ẩn danh.**\n",
        "\n",
        "**Write a Python program to get numbers divisible by fifteen from a list using an anonymous function.**\n",
        "\n"
      ]
    },
    {
      "cell_type": "code",
      "metadata": {
        "id": "5l6ORUYwLy9H",
        "colab_type": "code",
        "outputId": "efcccbe6-7897-40ff-d2f4-7a2839958f7f",
        "colab": {
          "base_uri": "https://localhost:8080/",
          "height": 34
        }
      },
      "source": [
        "num_list = [45, 55, 60, 37, 100, 105, 220]\n",
        "result = list(filter(lambda x: (x % 15 == 0), num_list)) # tạo 1 list mới, gán giá trị kết quả chia hết 15 vào list result\n",
        "print(\"Numbers divisible by 15 are\", result)"
      ],
      "execution_count": 0,
      "outputs": [
        {
          "output_type": "stream",
          "text": [
            "Numbers divisible by 15 are [45, 60, 105]\n"
          ],
          "name": "stdout"
        }
      ]
    },
    {
      "cell_type": "markdown",
      "metadata": {
        "id": "mzloh4ziMynp",
        "colab_type": "text"
      },
      "source": [
        "**111, Viết chương trình Python để tạo danh sách tệp từ thư mục hiện tại bằng ký tự đại diện.**\n",
        "\n",
        "**Write a Python program to make file lists from current directory using a wildcard.**\n",
        "\n"
      ]
    },
    {
      "cell_type": "code",
      "metadata": {
        "id": "J_3V4tdTMTXT",
        "colab_type": "code",
        "outputId": "3edd2c60-8a35-44ce-b828-98bc3339e4a8",
        "colab": {
          "base_uri": "https://localhost:8080/",
          "height": 34
        }
      },
      "source": [
        "import glob\n",
        "file_list = glob.glob('*.*')\n",
        "print(file_list)\n",
        "# colob không chạy được, vscode chạy được"
      ],
      "execution_count": 0,
      "outputs": [
        {
          "output_type": "stream",
          "text": [
            "[]\n"
          ],
          "name": "stdout"
        }
      ]
    },
    {
      "cell_type": "markdown",
      "metadata": {
        "id": "5Fnmj5mRaJXi",
        "colab_type": "text"
      },
      "source": [
        "**112, Viết chương trình Python để xóa mục đầu tiên khỏi danh sách đã chỉ định.**\n",
        "\n",
        "**Write a Python program to remove the first item from a specified list.**\n",
        "\n"
      ]
    },
    {
      "cell_type": "code",
      "metadata": {
        "id": "GWCWd1U8NAE3",
        "colab_type": "code",
        "outputId": "1ca97857-79d7-44be-cb8e-3c6408c74938",
        "colab": {
          "base_uri": "https://localhost:8080/",
          "height": 51
        }
      },
      "source": [
        "color = [\"Red\", \"Black\", \"Green\", \"White\", \"Orange\"]\n",
        "print(\"/n Original Color: \", color)\n",
        "del color[0]\n",
        "print(\"After removing the first color: \", color)"
      ],
      "execution_count": 0,
      "outputs": [
        {
          "output_type": "stream",
          "text": [
            "/n Original Color:  ['Red', 'Black', 'Green', 'White', 'Orange']\n",
            "After removing the first color:  ['Black', 'Green', 'White', 'Orange']\n"
          ],
          "name": "stdout"
        }
      ]
    },
    {
      "cell_type": "markdown",
      "metadata": {
        "id": "rlyhN2nbarqL",
        "colab_type": "text"
      },
      "source": [
        "**113, Viết chương trình Python để nhập số, nếu đó không phải là số tạo thông báo lỗi.**\n",
        "\n",
        "**Write a Python program to input a number, if it is not a number generate an error message.**\n",
        "\n",
        "![alt text](https://www.w3resource.com/w3r_images/python-basic-exercise-flowchart-113.png)"
      ]
    },
    {
      "cell_type": "code",
      "metadata": {
        "id": "AZc-KIKkahOB",
        "colab_type": "code",
        "outputId": "fef6ead3-8673-4e63-9e9a-8a198d59f852",
        "colab": {
          "base_uri": "https://localhost:8080/",
          "height": 102
        }
      },
      "source": [
        "while True:                                     # nểu False kết thúc chương trình luôn\n",
        "  try:\n",
        "    a = int(input(\"Input a number: \"))          # xử lý những xử lý có thể xảy ra lỗi, bắt được nhập ký tự không phải là số vì đầu ép kiểu là int\n",
        "    break                                       # sau khi nhập đúng là số, thì break luôn, kết thúc while\n",
        "  except ValueError:                            # xử lý những xử lý khi xảy ra lỗi\n",
        "    print(\"\\nThis is not a number. Try again...\") # in ra thông báo, và quay lại vòng lặp bắt đầu từ True\n",
        "    print()"
      ],
      "execution_count": 0,
      "outputs": [
        {
          "output_type": "stream",
          "text": [
            "Input a number: a\n",
            "\n",
            "This is not a number. Try again...\n",
            "\n",
            "Input a number: 3\n"
          ],
          "name": "stdout"
        }
      ]
    },
    {
      "cell_type": "markdown",
      "metadata": {
        "id": "-cBpw6NrcnF3",
        "colab_type": "text"
      },
      "source": [
        "**114, Viết chương trình Python để lọc các số dương từ danh sách.**\n",
        "\n",
        "**Write a Python program to filter the positive numbers from a list.**\n",
        "\n",
        "![alt text](https://www.w3resource.com/w3r_images/python-basic-image-exercise-114.png)"
      ]
    },
    {
      "cell_type": "code",
      "metadata": {
        "id": "M4ODPD-XbFk4",
        "colab_type": "code",
        "outputId": "bd210d94-b392-4c4e-f9c1-c5424d751d8d",
        "colab": {
          "base_uri": "https://localhost:8080/",
          "height": 51
        }
      },
      "source": [
        "nums = [34, 1, 0 , -23]\n",
        "print(\"Original numbers is the list: \", nums)     # filter, truyền vào 1 list, để lọc ra phần tử thỏa mãn từ list đó để đưa ra kết quả\n",
        "new_num = list(filter(lambda x: x>0, nums))       # tạo 1 list mới, để gán những giá trị > 0 vào list\n",
        "print(\"Positive numbers in the list: \", new_num)\n",
        "  "
      ],
      "execution_count": 0,
      "outputs": [
        {
          "output_type": "stream",
          "text": [
            "Original numbers is the list:  [34, 1, 0, -23]\n",
            "Positive numbers in the list:  [34, 1]\n"
          ],
          "name": "stdout"
        }
      ]
    },
    {
      "cell_type": "markdown",
      "metadata": {
        "id": "nElmSXeRd_Kc",
        "colab_type": "text"
      },
      "source": [
        "**115, Viết chương trình Python để tính sản phẩm của danh sách các số nguyên (không sử dụng vòng lặp for).**\n",
        "\n",
        "**Write a Python program to compute the product of a list of integers (without using for loop).**"
      ]
    },
    {
      "cell_type": "code",
      "metadata": {
        "id": "U-6Jm-U9dLZJ",
        "colab_type": "code",
        "outputId": "8e64ad70-a484-45af-cc68-5cb7d4afd1bf",
        "colab": {
          "base_uri": "https://localhost:8080/",
          "height": 34
        }
      },
      "source": [
        "from functools import reduce  # reduce(​function, sequence), VD: reduce(lambda x, y: x+y, [1, 2, 3, 4, 5]) calculates ((((1+2)+3)+4)+5)\n",
        "nums = [10, 20, 30,]\n",
        "nums_product = reduce((lambda x, y: x * y), nums) # (10 * 20) * 30 = 6000, gàn kết quả vào list mới num_product\n",
        "print(\"Product of the numbers: \", nums_product) "
      ],
      "execution_count": 0,
      "outputs": [
        {
          "output_type": "stream",
          "text": [
            "Product of the numbers:  6000\n"
          ],
          "name": "stdout"
        }
      ]
    },
    {
      "cell_type": "markdown",
      "metadata": {
        "id": "XIn59azcgVIh",
        "colab_type": "text"
      },
      "source": [
        "**116, Viết chương trình Python để in các ký tự Unicode.**\n",
        "\n",
        "**Write a Python program to print Unicode characters.**\n",
        "\n"
      ]
    },
    {
      "cell_type": "code",
      "metadata": {
        "id": "0ZBTW2_ZgUXl",
        "colab_type": "code",
        "outputId": "c1593fe8-b7dc-4b08-809c-0c4dd8ac5c48",
        "colab": {
          "base_uri": "https://localhost:8080/",
          "height": 68
        }
      },
      "source": [
        "str = u'\\u0050\\u0079\\u0074\\u0068\\u006f\\u006e \\u0045\\u0078\\u0065\\u0072\\u0063\\u0069\\u0073\\u0065\\u0073 \\u002d \\u0077\\u0033\\u0072\\u0065\\u0073\\u006f\\u0075\\u0072\\u0063\\u0065'\n",
        "print()\n",
        "print(str)\n",
        "print()"
      ],
      "execution_count": 0,
      "outputs": [
        {
          "output_type": "stream",
          "text": [
            "\n",
            "Python Exercises - w3resource\n",
            "\n"
          ],
          "name": "stdout"
        }
      ]
    },
    {
      "cell_type": "markdown",
      "metadata": {
        "id": "0-tblkjig5uY",
        "colab_type": "text"
      },
      "source": [
        "**117, Viết chương trình Python để chứng minh rằng hai biến chuỗi có cùng giá trị cùng một vị trí bộ nhớ.**\n",
        "\n",
        "**Write a Python program to prove that two string variables of same value point same memory location.**"
      ]
    },
    {
      "cell_type": "code",
      "metadata": {
        "id": "Q45o_2uCghI6",
        "colab_type": "code",
        "outputId": "96958061-ffe7-4618-9068-a514dd742bb0",
        "colab": {
          "base_uri": "https://localhost:8080/",
          "height": 102
        }
      },
      "source": [
        "str1 = \"Python\"\n",
        "str2 = \"Python\"\n",
        "# hex: Trả về biểu diễn thập lục phân của một số nguyên.\n",
        "# id: Trả lại danh tính của một đối tượng. Điều này được đảm bảo là duy nhất trong số các đối tượng đồng thời hiện có.\n",
        "print(\"\\nMemory location of str1 = \", hex(id(str1)))  # lấy id str1, rồi chuyển id sang số thập lục phân\n",
        "print(\"\\nMemory location of str2 = \", hex(id(str2)))\n",
        "print(id(str1))"
      ],
      "execution_count": 0,
      "outputs": [
        {
          "output_type": "stream",
          "text": [
            "\n",
            "Memory location of str1 =  0x7f79fbf3cc70\n",
            "\n",
            "Memory location of str2 =  0x7f79fbf3cc70\n",
            "140161894829168\n"
          ],
          "name": "stdout"
        }
      ]
    },
    {
      "cell_type": "markdown",
      "metadata": {
        "id": "LNV_XWr4h7TE",
        "colab_type": "text"
      },
      "source": [
        "**118, Viết chương trình Python để tạo một phụ đề từ danh sách.**\n",
        "\n",
        "**Write a Python program to create a bytearray from a list.**\n",
        "\n"
      ]
    },
    {
      "cell_type": "code",
      "metadata": {
        "id": "_troMC6Bhgfd",
        "colab_type": "code",
        "outputId": "654ed141-eb57-4c1f-c13d-7fbcad6da422",
        "colab": {
          "base_uri": "https://localhost:8080/",
          "height": 153
        }
      },
      "source": [
        "print() # Nếu không có đối tượng nào được đưa ra, print () sẽ chỉ ghi kết thúc. Ở đây là in 1 dòng trắng\n",
        "nums = [10, 20, 56, 35, 17, 99]\n",
        "values = bytearray(nums)\n",
        "for i in values:\n",
        "  print(i)\n",
        "print()"
      ],
      "execution_count": 0,
      "outputs": [
        {
          "output_type": "stream",
          "text": [
            "\n",
            "10\n",
            "20\n",
            "56\n",
            "35\n",
            "17\n",
            "99\n",
            "\n"
          ],
          "name": "stdout"
        }
      ]
    },
    {
      "cell_type": "markdown",
      "metadata": {
        "id": "eSD8l250jT3Z",
        "colab_type": "text"
      },
      "source": [
        "**119, Viết chương trình Python để hiển thị số nổi trong các số được chỉ định.**\n",
        "\n",
        "**Write a Python program to display a floating number in specified numbers.**"
      ]
    },
    {
      "cell_type": "code",
      "metadata": {
        "id": "NnsYUgnfixcR",
        "colab_type": "code",
        "outputId": "d691a0e7-eeaf-4e95-8d2a-7e5ddb7aaf28",
        "colab": {
          "base_uri": "https://localhost:8080/",
          "height": 102
        }
      },
      "source": [
        "order_amt = 212.374\n",
        "print(\"\\nThe total order amount comes to %f\"% order_amt)\n",
        "print(\"\\nThe total order amount comes to %.2f\" % order_amt) # làm tròn tới 2 chữ số thập phân\n",
        "print()"
      ],
      "execution_count": 0,
      "outputs": [
        {
          "output_type": "stream",
          "text": [
            "\n",
            "The total order amount comes to 212.374000\n",
            "\n",
            "The total order amount comes to 212.37\n",
            "\n"
          ],
          "name": "stdout"
        }
      ]
    },
    {
      "cell_type": "markdown",
      "metadata": {
        "id": "GfRJddrlkqnK",
        "colab_type": "text"
      },
      "source": [
        "**120, Viết chương trình Python để định dạng một chuỗi xác định để giới hạn số lượng ký tự là 6.**\n",
        "\n",
        "**Write a Python program to format a specified string to limit the number of characters to 6.**"
      ]
    },
    {
      "cell_type": "code",
      "metadata": {
        "id": "wyLjOz_2kiur",
        "colab_type": "code",
        "outputId": "f76b11bb-c9dc-4196-d7a8-afdd23dfe910",
        "colab": {
          "base_uri": "https://localhost:8080/",
          "height": 68
        }
      },
      "source": [
        "str_num = \"1234567890\"\n",
        "print()\n",
        "print('%.6s' % str_num) # %.6s, lấy 6 chữ số trong chuỗi đã cho, tương tự với làm tròn tới 6 chữ số thập phân %.2f\n",
        "print()"
      ],
      "execution_count": 0,
      "outputs": [
        {
          "output_type": "stream",
          "text": [
            "\n",
            "123456\n",
            "\n"
          ],
          "name": "stdout"
        }
      ]
    },
    {
      "cell_type": "markdown",
      "metadata": {
        "id": "09nTP0tplPC9",
        "colab_type": "text"
      },
      "source": [
        "**121, Viết chương trình Python để xác định xem biến có được xác định hay không.**\n",
        "\n",
        "**Write a Python program to determine whether variable is defined or not.**\n",
        "\n",
        "![alt text](https://www.w3resource.com/w3r_images/python-basic-exercise-flowchart-121.png)"
      ]
    },
    {
      "cell_type": "code",
      "metadata": {
        "id": "tTQbCGOck69O",
        "colab_type": "code",
        "outputId": "fc131c70-5f35-4b31-a2b1-2215d18128c6",
        "colab": {
          "base_uri": "https://localhost:8080/",
          "height": 51
        }
      },
      "source": [
        "try: \n",
        "  x = 1                                   # biến x đã được gán với giá trị 1, không có lỗi\n",
        "except NameError:     \n",
        "  print(\"Variable is not defined....!\")\n",
        "else:                                     # thực hiện in và kết thúc vòng lặp try\n",
        "  print(\"Variable is defined.\")\n",
        "try: \n",
        "  y                                       # biến y chưa được gán giá trị, phát hiện lỗi NameError: name 'y' is not defined\n",
        "except NameError:                         # lỗi NameError, thực hiện báo lỗi \n",
        "  print(\"Variable is not defined....!\")   # thực hiện in và kết thúc vòng lặp try\n",
        "else:\n",
        "  print(\"Variable is defined\")"
      ],
      "execution_count": 0,
      "outputs": [
        {
          "output_type": "stream",
          "text": [
            "Variable is defined.\n",
            "Variable is not defined....!\n"
          ],
          "name": "stdout"
        }
      ]
    },
    {
      "cell_type": "markdown",
      "metadata": {
        "id": "0BuaPE1mmz_G",
        "colab_type": "text"
      },
      "source": [
        "**122, Viết chương trình Python để làm trống một biến mà không phá hủy nó.**\n",
        "\n",
        "**Write a Python program to empty a variable without destroying it.**"
      ]
    },
    {
      "cell_type": "code",
      "metadata": {
        "id": "5aI1_H1ElsCD",
        "colab_type": "code",
        "outputId": "33cb1bd7-1348-459f-e826-28d888dc7a2f",
        "colab": {
          "base_uri": "https://localhost:8080/",
          "height": 102
        }
      },
      "source": [
        "n = 20\n",
        "d = {\"x\":200}\n",
        "l = [1,3,5]\n",
        "t = (5,7,8)\n",
        "print(type(n)()) \n",
        "print(type(d)())\n",
        "print(type(l)())\n",
        "print(type(t)())  # in ra t, nhưng giá trị rỗng\n",
        "print(type(t))    # in ra loại của t"
      ],
      "execution_count": 0,
      "outputs": [
        {
          "output_type": "stream",
          "text": [
            "0\n",
            "{}\n",
            "[]\n",
            "()\n",
            "<class 'tuple'>\n"
          ],
          "name": "stdout"
        }
      ]
    },
    {
      "cell_type": "markdown",
      "metadata": {
        "id": "W59G0e-XnwG3",
        "colab_type": "text"
      },
      "source": [
        "**123, Viết chương trình Python để xác định các số nguyên lớn nhất và nhỏ nhất, độ dài, số float.**\n",
        "\n",
        "**Write a Python program to determine the largest and smallest integers, longs, floats.**\n",
        "\n"
      ]
    },
    {
      "cell_type": "code",
      "metadata": {
        "id": "XTF66IZRnQtw",
        "colab_type": "code",
        "outputId": "e51ed3fc-f89a-4665-aab2-d4d949e32214",
        "colab": {
          "base_uri": "https://localhost:8080/",
          "height": 122
        }
      },
      "source": [
        "import sys\n",
        "print(\"Float value information: \",sys.float_info)\n",
        "print(\"\\nInteger value information: \",sys.int_info)\n",
        "print(\"\\nMaximum size of an integer: \",sys.maxsize) "
      ],
      "execution_count": 0,
      "outputs": [
        {
          "output_type": "stream",
          "text": [
            "Float value information:  sys.float_info(max=1.7976931348623157e+308, max_exp=1024, max_10_exp=308, min=2.2250738585072014e-308, min_exp=-1021, min_10_exp=-307, dig=15, mant_dig=53, epsilon=2.220446049250313e-16, radix=2, rounds=1)\n",
            "\n",
            "Integer value information:  sys.int_info(bits_per_digit=30, sizeof_digit=4)\n",
            "\n",
            "Maximum size of an integer:  9223372036854775807\n"
          ],
          "name": "stdout"
        }
      ]
    },
    {
      "cell_type": "markdown",
      "metadata": {
        "id": "1lVHMc5joD42",
        "colab_type": "text"
      },
      "source": [
        "**124, Viết chương trình Python để kiểm tra xem nhiều biến có cùng giá trị hay không.**\n",
        "\n",
        "**Write a Python program to check whether multiple variables have the same value.**\n",
        "\n",
        "![alt text](https://www.w3resource.com/w3r_images/python-basic-image-exercise-124.png)"
      ]
    },
    {
      "cell_type": "code",
      "metadata": {
        "id": "3LDQwSzqn2Z8",
        "colab_type": "code",
        "outputId": "8fcb46bf-43ff-418f-aaeb-201cd8dc826e",
        "colab": {
          "base_uri": "https://localhost:8080/",
          "height": 34
        }
      },
      "source": [
        "x, y, z = 20, 20, 20\n",
        "if x == y == y:\n",
        "  print(\"All variables have same value\")"
      ],
      "execution_count": 0,
      "outputs": [
        {
          "output_type": "stream",
          "text": [
            "All variables have same value\n"
          ],
          "name": "stdout"
        }
      ]
    },
    {
      "cell_type": "markdown",
      "metadata": {
        "id": "-m3qNssLobkh",
        "colab_type": "text"
      },
      "source": [
        "**125, Viết chương trình Python để tổng hợp tất cả số đếm trong một bộ sưu tập.**\n",
        "\n",
        "**Write a Python program to sum of all counts in a collections.**\n",
        "\n",
        "![alt text](https://www.w3resource.com/w3r_images/python-basic-image-exercise-125.png)"
      ]
    },
    {
      "cell_type": "code",
      "metadata": {
        "id": "OkMmR_FBoTUM",
        "colab_type": "code",
        "outputId": "98834962-77f8-4d70-c5a9-3d4549a0dda4",
        "colab": {
          "base_uri": "https://localhost:8080/",
          "height": 34
        }
      },
      "source": [
        "import collections\n",
        "num = [2,2,4,6,6,8,6,10,4]\n",
        "print(sum(collections.Counter(num).values())) # đếm được 9 số nằm trong list num"
      ],
      "execution_count": 0,
      "outputs": [
        {
          "output_type": "stream",
          "text": [
            "9\n"
          ],
          "name": "stdout"
        }
      ]
    },
    {
      "cell_type": "markdown",
      "metadata": {
        "id": "W-4XMd88pGRw",
        "colab_type": "text"
      },
      "source": [
        "**126, Viết chương trình Python để lấy đối tượng mô-đun thực tế cho một đối tượng nhất định.**\n",
        "\n",
        "**Write a Python program to get the actual module object for a given object.**\n",
        "\n"
      ]
    },
    {
      "cell_type": "code",
      "metadata": {
        "id": "5I2pwNyyota3",
        "colab_type": "code",
        "outputId": "35e54ce9-cf1b-4b51-86c8-dd97e69b1333",
        "colab": {
          "base_uri": "https://localhost:8080/",
          "height": 34
        }
      },
      "source": [
        "from inspect import getmodule\n",
        "from math import sqrt\n",
        "print(getmodule(sqrt))"
      ],
      "execution_count": 0,
      "outputs": [
        {
          "output_type": "stream",
          "text": [
            "<module 'math' (built-in)>\n"
          ],
          "name": "stdout"
        }
      ]
    },
    {
      "cell_type": "markdown",
      "metadata": {
        "id": "kO8mdWkvpTjm",
        "colab_type": "text"
      },
      "source": [
        "**127, Viết chương trình Python để kiểm tra xem một số nguyên có khớp với 64 bit hay không.**\n",
        "\n",
        "**Write a Python program to check whether an integer fits in 64 bits.**"
      ]
    },
    {
      "cell_type": "code",
      "metadata": {
        "id": "UCtNWmwCpMIZ",
        "colab_type": "code",
        "outputId": "e4c51f9b-1c1a-44c9-82f0-21b2a6ab24a5",
        "colab": {
          "base_uri": "https://localhost:8080/",
          "height": 51
        }
      },
      "source": [
        "int_val = 36\n",
        "if int_val.bit_length() <= 63:\n",
        "  print((-2** 63).bit_length())\n",
        "  print((2**63).bit_length())"
      ],
      "execution_count": 0,
      "outputs": [
        {
          "output_type": "stream",
          "text": [
            "64\n",
            "64\n"
          ],
          "name": "stdout"
        }
      ]
    },
    {
      "cell_type": "markdown",
      "metadata": {
        "id": "AUj51gmUp7Q7",
        "colab_type": "text"
      },
      "source": [
        "**128, Viết chương trình Python để kiểm tra xem các chữ cái viết thường có tồn tại trong một chuỗi không.**\n",
        "\n",
        "**Write a Python program to check whether lowercase letters exist in a string.**\n",
        "\n",
        "![alt text](https://www.w3resource.com/w3r_images/python-basic-image-exercise-128.png)"
      ]
    },
    {
      "cell_type": "code",
      "metadata": {
        "id": "i_2YRGSrpiuw",
        "colab_type": "code",
        "outputId": "692d89c9-1298-4985-d1a2-fb22eafde94e",
        "colab": {
          "base_uri": "https://localhost:8080/",
          "height": 34
        }
      },
      "source": [
        "str1 = 'A8238I82a3ACDEOUEI'                # Any: Trả về True nếu bool (x) là True cho bất kỳ x nào trong lần lặp. Nếu iterable trống, trả về Sai.\n",
        "print(any(c.islower() for c in str1))      # Biểu thức c.islower(), kiểm tra từng ký tự trong chuỗi str1, in hoa trả về False, chữ thường trả về True\n",
        "                                           # Số trả về False, vòng lặp dừng lại khi gặp ký tự đầu tiên là True, trả về kết quả"
      ],
      "execution_count": 0,
      "outputs": [
        {
          "output_type": "stream",
          "text": [
            "True\n"
          ],
          "name": "stdout"
        }
      ]
    },
    {
      "cell_type": "markdown",
      "metadata": {
        "id": "_GgNfxbqrPnw",
        "colab_type": "text"
      },
      "source": [
        "**129, Viết chương trình Python để thêm các số 0 đứng đầu vào một chuỗi.**\n",
        "\n",
        "**Write a Python program to add leading zeroes to a string.**\n",
        "\n",
        "![alt text](https://www.w3resource.com/w3r_images/python-basic-image-exercise-129.png)"
      ]
    },
    {
      "cell_type": "code",
      "metadata": {
        "id": "WqR-Ki8AqJkn",
        "colab_type": "code",
        "outputId": "c4afc7b3-1a99-4176-bca9-1018c7c73616",
        "colab": {
          "base_uri": "https://localhost:8080/",
          "height": 68
        }
      },
      "source": [
        "str1 = '122.22'\n",
        "print(\"Original String: \", str1)\n",
        "str1 = str1.ljust(8, '0')   # 8 là chiều rộng của chuỗi, 0 là ký tự thêm\n",
        "print(str1)\n",
        "str1 = str1.ljust(10, '0')  # 10 là chiều rộng của chuỗi, 0 là ký tự thêm\n",
        "print(str1)"
      ],
      "execution_count": 0,
      "outputs": [
        {
          "output_type": "stream",
          "text": [
            "Original String:  122.22\n",
            "122.2200\n",
            "122.220000\n"
          ],
          "name": "stdout"
        }
      ]
    },
    {
      "cell_type": "markdown",
      "metadata": {
        "id": "X4AR5xgusMTl",
        "colab_type": "text"
      },
      "source": [
        "**130, Viết chương trình Python để sử dụng dấu ngoặc kép để hiển thị chuỗi.**\n",
        "\n",
        "**Write a Python program to use double quotes to display strings.**\n",
        "\n",
        "![alt text](https://www.w3resource.com/w3r_images/python-basic-image-exercise-130.png)\n"
      ]
    },
    {
      "cell_type": "code",
      "metadata": {
        "id": "e4kHlpLIrsoj",
        "colab_type": "code",
        "outputId": "3b642263-4eec-4330-bfac-a318e391dbe5",
        "colab": {
          "base_uri": "https://localhost:8080/",
          "height": 34
        }
      },
      "source": [
        "import json\n",
        "print(json.dumps({'Alex': 1, 'Suresh': 2, 'Agnessa': 3}))"
      ],
      "execution_count": 0,
      "outputs": [
        {
          "output_type": "stream",
          "text": [
            "{\"Alex\": 1, \"Suresh\": 2, \"Agnessa\": 3}\n"
          ],
          "name": "stdout"
        }
      ]
    },
    {
      "cell_type": "markdown",
      "metadata": {
        "id": "cYS-K8MBshzG",
        "colab_type": "text"
      },
      "source": [
        "**131, Viết chương trình Python để chia chuỗi độ dài biến thành các biến.**\n",
        "\n",
        "**Write a Python program to split a variable length string into variables.**\n",
        "\n",
        "![alt text](https://www.w3resource.com/w3r_images/python-basic-image-exercise-131.png)\n"
      ]
    },
    {
      "cell_type": "code",
      "metadata": {
        "id": "QpX4kz2csZRL",
        "colab_type": "code",
        "outputId": "c488da84-c84b-4626-e07b-bb02f544bc59",
        "colab": {
          "base_uri": "https://localhost:8080/",
          "height": 68
        }
      },
      "source": [
        "var_list = ['a', 'b', 'c']\n",
        "x, y, z = (var_list + [None] * 3)[:3] # tạo 3 biến x, y, z và gán 3 giá trị index [0][1][2] trong var_list vào biến theo thứ tự\n",
        "print(x, y, z)\n",
        "var_list = [100, 20.25]               # thay đổi list \n",
        "x, y = (var_list + [None]*2)[:2]      # biến x, y được gán giá trị mới x=100, y=20.25 và z vẫn = c\n",
        "print(x, y)\n",
        "print(z)\n",
        "\"\"\" aa = ['a', 'b', 'c']            var_list = ['a', 'b', 'c']\n",
        "    x = aa[0]                       x, y, z = var_list[:3]\n",
        "    print(x)     a                  print(x, y, z)   a, b, c                   \"\"\""
      ],
      "execution_count": 0,
      "outputs": [
        {
          "output_type": "stream",
          "text": [
            "a b c\n",
            "100 20.25\n",
            "c\n"
          ],
          "name": "stdout"
        }
      ]
    },
    {
      "cell_type": "code",
      "metadata": {
        "id": "aF7Jh4YOtBId",
        "colab_type": "code",
        "outputId": "4073f011-9216-4bcf-d7b2-0fadd1dec1ca",
        "colab": {
          "base_uri": "https://localhost:8080/",
          "height": 34
        }
      },
      "source": [
        "var_list = ['a', 'b', 'c']\n",
        "x, y, z = var_list[:3]\n",
        "print(x, y, z)"
      ],
      "execution_count": 0,
      "outputs": [
        {
          "output_type": "stream",
          "text": [
            "a b c\n"
          ],
          "name": "stdout"
        }
      ]
    },
    {
      "cell_type": "markdown",
      "metadata": {
        "id": "42JeKR6Iu7xz",
        "colab_type": "text"
      },
      "source": [
        "**132, Viết chương trình Python để liệt kê thư mục chính mà không có đường dẫn tuyệt đối.**\n",
        "\n",
        "**Write a Python program to list home directory without absolute path.**"
      ]
    },
    {
      "cell_type": "code",
      "metadata": {
        "id": "3G6unI51uZ1m",
        "colab_type": "code",
        "outputId": "af787689-befa-4c96-86db-41a9a7768c17",
        "colab": {
          "base_uri": "https://localhost:8080/",
          "height": 34
        }
      },
      "source": [
        "import os.path\n",
        "print(os.path.expanduser('~'))"
      ],
      "execution_count": 0,
      "outputs": [
        {
          "output_type": "stream",
          "text": [
            "/root\n"
          ],
          "name": "stdout"
        }
      ]
    },
    {
      "cell_type": "markdown",
      "metadata": {
        "id": "x8A2fyWmvNC9",
        "colab_type": "text"
      },
      "source": [
        "**133, Viết chương trình Python để tính thời gian chạy (chênh lệch giữa thời gian bắt đầu và thời gian hiện tại) của chương trình.**\n",
        "\n",
        "**Write a Python program to calculate the time runs (difference between start and current time)of a program.**"
      ]
    },
    {
      "cell_type": "code",
      "metadata": {
        "id": "zMYgpZNMvDnI",
        "colab_type": "code",
        "outputId": "35af140e-5bc2-4519-cc6f-2c847b2b1feb",
        "colab": {
          "base_uri": "https://localhost:8080/",
          "height": 391
        }
      },
      "source": [
        "from timeit import default_timer\n",
        "def timer(n):\n",
        "  start = default_timer()\n",
        "  for row in range(0,n):          # in ra các số trog đoạn range(0,n)\n",
        "    print(row)\n",
        "  print(default_timer() - start)  # sau khi in xong, thời gian chạy sẽ tăng lên, lấy thời gian hiện tại - đi thời gian bắt đầu\n",
        "                                  # ta được khoảng thời gian chênh lệch\n",
        "timer(5)\n",
        "timer(15)                         # in càng nhiều, chênh lệch càng nhiều\n"
      ],
      "execution_count": 0,
      "outputs": [
        {
          "output_type": "stream",
          "text": [
            "0\n",
            "1\n",
            "2\n",
            "3\n",
            "4\n",
            "0.00014360099999066733\n",
            "0\n",
            "1\n",
            "2\n",
            "3\n",
            "4\n",
            "5\n",
            "6\n",
            "7\n",
            "8\n",
            "9\n",
            "10\n",
            "11\n",
            "12\n",
            "13\n",
            "14\n",
            "0.0003967939999824921\n"
          ],
          "name": "stdout"
        }
      ]
    },
    {
      "cell_type": "markdown",
      "metadata": {
        "id": "xOZUa-cHxM2u",
        "colab_type": "text"
      },
      "source": [
        "**134, Viết chương trình Python để nhập hai số nguyên trong một dòng.**\n",
        "\n",
        "**Write a Python program to input two integers in a single line.**"
      ]
    },
    {
      "cell_type": "code",
      "metadata": {
        "id": "kGUdq9tDwhj-",
        "colab_type": "code",
        "outputId": "eb9e99ec-4238-4b39-89cc-0fb814976d69",
        "colab": {
          "base_uri": "https://localhost:8080/",
          "height": 68
        }
      },
      "source": [
        "print(\"Input the value of x & y: \")   # map(function, list_name)\n",
        "x, y = map(int, input().split())      # tạo x, y gán giá trị vào x, y với điều kiện là int và đầu vào input cách nhau dấu cách, input thành list\n",
        "print(\"The value of x & y are: \", x,y)"
      ],
      "execution_count": 0,
      "outputs": [
        {
          "output_type": "stream",
          "text": [
            "Input the value of x & y: \n",
            "2 2\n",
            "The value of x & y are:  2 2\n"
          ],
          "name": "stdout"
        }
      ]
    },
    {
      "cell_type": "markdown",
      "metadata": {
        "id": "_Oa6hiqayXdO",
        "colab_type": "text"
      },
      "source": [
        "**135, Viết chương trình Python để in một biến không có khoảng trắng giữa các giá trị.**\n",
        "\n",
        "**Write a Python program to print a variable without spaces between values**"
      ]
    },
    {
      "cell_type": "code",
      "metadata": {
        "id": "tUlkKDsFxcnd",
        "colab_type": "code",
        "outputId": "6c50e738-deb1-4912-e823-3718a61a5345",
        "colab": {
          "base_uri": "https://localhost:8080/",
          "height": 34
        }
      },
      "source": [
        "x = 30\n",
        "print(\"Value of x is '{}'\".format(x))   # sử dụng định dạng f.string"
      ],
      "execution_count": 0,
      "outputs": [
        {
          "output_type": "stream",
          "text": [
            "Value of x is '30'\n"
          ],
          "name": "stdout"
        }
      ]
    },
    {
      "cell_type": "markdown",
      "metadata": {
        "id": "Nh87YbJuywRm",
        "colab_type": "text"
      },
      "source": [
        "**136, Viết chương trình Python để tìm tệp và bỏ qua các thư mục của một thư mục đã cho.**\n",
        "\n",
        "**Write a Python program to find files and skip directories of a given directory.**\n"
      ]
    },
    {
      "cell_type": "code",
      "metadata": {
        "id": "9sAACnjaylJe",
        "colab_type": "code",
        "outputId": "10a1c437-042c-4064-91b9-932b80d9555a",
        "colab": {
          "base_uri": "https://localhost:8080/",
          "height": 180
        }
      },
      "source": [
        "import os\n",
        "print([f for f in os.listdir('/home/students') if os.path.isfile(os.path.join('/home/students', f))])"
      ],
      "execution_count": 0,
      "outputs": [
        {
          "output_type": "error",
          "ename": "FileNotFoundError",
          "evalue": "ignored",
          "traceback": [
            "\u001b[0;31m---------------------------------------------------------------------------\u001b[0m",
            "\u001b[0;31mFileNotFoundError\u001b[0m                         Traceback (most recent call last)",
            "\u001b[0;32m<ipython-input-42-88f7601d3670>\u001b[0m in \u001b[0;36m<module>\u001b[0;34m()\u001b[0m\n\u001b[1;32m      1\u001b[0m \u001b[0;32mimport\u001b[0m \u001b[0mos\u001b[0m\u001b[0;34m\u001b[0m\u001b[0;34m\u001b[0m\u001b[0m\n\u001b[0;32m----> 2\u001b[0;31m \u001b[0mprint\u001b[0m\u001b[0;34m(\u001b[0m\u001b[0;34m[\u001b[0m\u001b[0mf\u001b[0m \u001b[0;32mfor\u001b[0m \u001b[0mf\u001b[0m \u001b[0;32min\u001b[0m \u001b[0mos\u001b[0m\u001b[0;34m.\u001b[0m\u001b[0mlistdir\u001b[0m\u001b[0;34m(\u001b[0m\u001b[0;34m'/home/students'\u001b[0m\u001b[0;34m)\u001b[0m \u001b[0;32mif\u001b[0m \u001b[0mos\u001b[0m\u001b[0;34m.\u001b[0m\u001b[0mpath\u001b[0m\u001b[0;34m.\u001b[0m\u001b[0misfile\u001b[0m\u001b[0;34m(\u001b[0m\u001b[0mos\u001b[0m\u001b[0;34m.\u001b[0m\u001b[0mpath\u001b[0m\u001b[0;34m.\u001b[0m\u001b[0mjoin\u001b[0m\u001b[0;34m(\u001b[0m\u001b[0;34m'/home/students'\u001b[0m\u001b[0;34m,\u001b[0m \u001b[0mf\u001b[0m\u001b[0;34m)\u001b[0m\u001b[0;34m)\u001b[0m\u001b[0;34m]\u001b[0m\u001b[0;34m)\u001b[0m\u001b[0;34m\u001b[0m\u001b[0;34m\u001b[0m\u001b[0m\n\u001b[0m",
            "\u001b[0;31mFileNotFoundError\u001b[0m: [Errno 2] No such file or directory: '/home/students'"
          ]
        }
      ]
    },
    {
      "cell_type": "markdown",
      "metadata": {
        "id": "rZCpp9myy_n4",
        "colab_type": "text"
      },
      "source": [
        "**137, Viết chương trình Python để trích xuất cặp khóa-giá trị đơn của từ điển trong các biến.**\n",
        "\n",
        "**Write a Python program to extract single key-value pair of a dictionary in variables.**\n",
        "\n"
      ]
    },
    {
      "cell_type": "code",
      "metadata": {
        "id": "HS20MhKoy2C6",
        "colab_type": "code",
        "outputId": "92c95b24-286f-49d8-e322-616048e1d75e",
        "colab": {
          "base_uri": "https://localhost:8080/",
          "height": 102
        }
      },
      "source": [
        "d = {'Red': 'Green'}\n",
        "(c1, c2), = d.items() # tạo 2 biến c1, c2 gán 2 giá trị Red, Green từ dict d\n",
        "print(c1)\n",
        "print(c2)\n",
        "print(d.items())\n",
        "print(d.keys())\n",
        "print(d.values())"
      ],
      "execution_count": 0,
      "outputs": [
        {
          "output_type": "stream",
          "text": [
            "Red\n",
            "Green\n",
            "dict_items([('Red', 'Green')])\n",
            "dict_keys(['Red'])\n",
            "dict_values(['Green'])\n"
          ],
          "name": "stdout"
        }
      ]
    },
    {
      "cell_type": "markdown",
      "metadata": {
        "id": "gpUULgL8zd_c",
        "colab_type": "text"
      },
      "source": [
        "**138, Viết chương trình Python để chuyển đổi true thành 1 và false thành 0.**\n",
        "\n",
        "**Write a Python program to convert true to 1 and false to 0.**"
      ]
    },
    {
      "cell_type": "code",
      "metadata": {
        "id": "JnPw4pr5zKkS",
        "colab_type": "code",
        "outputId": "b4291c91-cd46-47b3-9fc4-13c17c2c868c",
        "colab": {
          "base_uri": "https://localhost:8080/",
          "height": 51
        }
      },
      "source": [
        "x = 'True'            # biến x ban đầu là True\n",
        "x = int(x == 'True')  # chuyển biến x = 1, nếu mà x = chính nó thì trả về 1\n",
        "print(x)              # in ra x\n",
        "x = 'abcd'            # biến x ban đầu là abcd\n",
        "x = int(x == 'True')  # chuyển biến x = 0, nếu mà x khác chính nó thì trả về 0\n",
        "print(x)              # in ra x"
      ],
      "execution_count": 0,
      "outputs": [
        {
          "output_type": "stream",
          "text": [
            "1\n",
            "1\n"
          ],
          "name": "stdout"
        }
      ]
    },
    {
      "cell_type": "markdown",
      "metadata": {
        "id": "_hB57zc10jZK",
        "colab_type": "text"
      },
      "source": [
        "**139, Viết chương trình Python để xác nhận địa chỉ IP.**\n",
        "\n",
        "**Write a Python program to valid an IP address.**\n",
        "\n",
        "![alt text](https://www.w3resource.com/w3r_images/python-basic-exercise-flowchart-139.png)\n"
      ]
    },
    {
      "cell_type": "code",
      "metadata": {
        "id": "zq0S9GDIzvfE",
        "colab_type": "code",
        "outputId": "6a50227e-8604-41cf-f6ce-a283b68c315c",
        "colab": {
          "base_uri": "https://localhost:8080/",
          "height": 34
        }
      },
      "source": [
        "import socket\n",
        "addr = '127.0.0.2561'\n",
        "try:\n",
        "    socket.inet_aton(addr)\n",
        "    print(\"Valid IP\")\n",
        "except socket.error:\n",
        "    print(\"Invalid IP\")"
      ],
      "execution_count": 0,
      "outputs": [
        {
          "output_type": "stream",
          "text": [
            "Invalid IP\n"
          ],
          "name": "stdout"
        }
      ]
    },
    {
      "cell_type": "markdown",
      "metadata": {
        "id": "V7o9x7-t02p-",
        "colab_type": "text"
      },
      "source": [
        "**140, Viết chương trình Python để chuyển đổi một số nguyên thành nhị phân giữ các số 0 đứng đầu.**\n",
        "\n",
        "**Write a Python program to convert an integer to binary keep leading zeros.**"
      ]
    },
    {
      "cell_type": "code",
      "metadata": {
        "id": "oPjVE2dw0pOX",
        "colab_type": "code",
        "outputId": "5f283f10-7150-4d1a-e4d9-c20b3a42e995",
        "colab": {
          "base_uri": "https://localhost:8080/",
          "height": 51
        }
      },
      "source": [
        "x = 12\n",
        "print(format(x, '08b'))\n",
        "print(format(x, '010b'))"
      ],
      "execution_count": 0,
      "outputs": [
        {
          "output_type": "stream",
          "text": [
            "00001100\n",
            "0000001100\n"
          ],
          "name": "stdout"
        }
      ]
    },
    {
      "cell_type": "markdown",
      "metadata": {
        "id": "EGe3lia11fFl",
        "colab_type": "text"
      },
      "source": [
        "**141, Viết chương trình python để chuyển đổi thập phân thành thập lục phân.**\n",
        "\n",
        "**Write a python program to convert decimal to hexadecimal.**\n",
        "\n",
        "![alt text](https://www.w3resource.com/w3r_images/python-basic-image-exercise-141.png)"
      ]
    },
    {
      "cell_type": "code",
      "metadata": {
        "id": "A2yphQUS1Cc6",
        "colab_type": "code",
        "outputId": "28e5f0bd-2ea4-410f-c9b3-2808cd52781d",
        "colab": {
          "base_uri": "https://localhost:8080/",
          "height": 51
        }
      },
      "source": [
        "x = 30\n",
        "print(format(x, '02x'))\n",
        "x = 4\n",
        "print(format(x, '02x'))"
      ],
      "execution_count": 0,
      "outputs": [
        {
          "output_type": "stream",
          "text": [
            "1e\n",
            "04\n"
          ],
          "name": "stdout"
        }
      ]
    },
    {
      "cell_type": "markdown",
      "metadata": {
        "id": "MzzxRocb2Ep7",
        "colab_type": "text"
      },
      "source": [
        "**142, Viết chương trình Python để tìm tên hệ điều hành, nền tảng và ngày phát hành nền tảng.**\n",
        "\n",
        "**Write a Python program to find the operating system name, platform and platform release date.**"
      ]
    },
    {
      "cell_type": "code",
      "metadata": {
        "id": "QYBMqdr_1zs6",
        "colab_type": "code",
        "outputId": "1231a82a-a2d2-4b8d-e485-7e2770148a24",
        "colab": {
          "base_uri": "https://localhost:8080/",
          "height": 119
        }
      },
      "source": [
        "import os, platform\n",
        "print(\"Operating system name:\")\n",
        "print(os.name)\n",
        "print(\"Platform name:\")\n",
        "print(platform.system())\n",
        "print(\"Platform release:\")\n",
        "print(platform.release())"
      ],
      "execution_count": 0,
      "outputs": [
        {
          "output_type": "stream",
          "text": [
            "Operating system name:\n",
            "posix\n",
            "Platform name:\n",
            "Linux\n",
            "Platform release:\n",
            "4.19.104+\n"
          ],
          "name": "stdout"
        }
      ]
    },
    {
      "cell_type": "markdown",
      "metadata": {
        "id": "_WCKOHkK2WvH",
        "colab_type": "text"
      },
      "source": [
        "**143, Viết chương trình Python để xác định xem trình bao python đang thực thi ở chế độ 32 bit hay 64 bit trên hệ điều hành.**\n",
        "\n",
        "**Write a Python program to determine if the python shell is executing in 32bit or 64bit mode on operating system.**"
      ]
    },
    {
      "cell_type": "code",
      "metadata": {
        "id": "Y8fxo06K2Kc-",
        "colab_type": "code",
        "outputId": "27b3afe7-3f31-47cd-d526-7c05280dbda1",
        "colab": {
          "base_uri": "https://localhost:8080/",
          "height": 34
        }
      },
      "source": [
        "import struct\n",
        "print(struct.calcsize(\"P\") * 8)"
      ],
      "execution_count": 0,
      "outputs": [
        {
          "output_type": "stream",
          "text": [
            "64\n"
          ],
          "name": "stdout"
        }
      ]
    },
    {
      "cell_type": "markdown",
      "metadata": {
        "id": "lRTE1WGj2h75",
        "colab_type": "text"
      },
      "source": [
        "**144, Viết chương trình Python để kiểm tra xem một biến là số nguyên hay chuỗi.**\n",
        "\n",
        "**Write a Python program to check whether a variable is integer or string.**\n"
      ]
    },
    {
      "cell_type": "code",
      "metadata": {
        "id": "q94KaNIp2bgd",
        "colab_type": "code",
        "outputId": "8aa831e6-3737-4f09-a614-872ab73d0a4d",
        "colab": {
          "base_uri": "https://localhost:8080/",
          "height": 214
        }
      },
      "source": [
        "print(isinstance(25,int) or isinstance(25,str))\n",
        "print(isinstance([25],int) or isinstance([25],str))\n",
        "print(isinstance(\"25\",int) or isinstance(\"25\",str))\n",
        "# lỗi trên colab, chạy được trên vscode"
      ],
      "execution_count": 0,
      "outputs": [
        {
          "output_type": "stream",
          "text": [
            "True\n"
          ],
          "name": "stdout"
        },
        {
          "output_type": "error",
          "ename": "TypeError",
          "evalue": "ignored",
          "traceback": [
            "\u001b[0;31m---------------------------------------------------------------------------\u001b[0m",
            "\u001b[0;31mTypeError\u001b[0m                                 Traceback (most recent call last)",
            "\u001b[0;32m<ipython-input-54-5c6a7cfb79fe>\u001b[0m in \u001b[0;36m<module>\u001b[0;34m()\u001b[0m\n\u001b[1;32m      1\u001b[0m \u001b[0mprint\u001b[0m\u001b[0;34m(\u001b[0m\u001b[0misinstance\u001b[0m\u001b[0;34m(\u001b[0m\u001b[0;36m25\u001b[0m\u001b[0;34m,\u001b[0m\u001b[0mint\u001b[0m\u001b[0;34m)\u001b[0m \u001b[0;32mor\u001b[0m \u001b[0misinstance\u001b[0m\u001b[0;34m(\u001b[0m\u001b[0;36m25\u001b[0m\u001b[0;34m,\u001b[0m\u001b[0mstr\u001b[0m\u001b[0;34m)\u001b[0m\u001b[0;34m)\u001b[0m\u001b[0;34m\u001b[0m\u001b[0;34m\u001b[0m\u001b[0m\n\u001b[0;32m----> 2\u001b[0;31m \u001b[0mprint\u001b[0m\u001b[0;34m(\u001b[0m\u001b[0misinstance\u001b[0m\u001b[0;34m(\u001b[0m\u001b[0;34m[\u001b[0m\u001b[0;36m25\u001b[0m\u001b[0;34m]\u001b[0m\u001b[0;34m,\u001b[0m\u001b[0mint\u001b[0m\u001b[0;34m)\u001b[0m \u001b[0;32mor\u001b[0m \u001b[0misinstance\u001b[0m\u001b[0;34m(\u001b[0m\u001b[0;34m[\u001b[0m\u001b[0;36m25\u001b[0m\u001b[0;34m]\u001b[0m\u001b[0;34m,\u001b[0m\u001b[0mstr\u001b[0m\u001b[0;34m)\u001b[0m\u001b[0;34m)\u001b[0m\u001b[0;34m\u001b[0m\u001b[0;34m\u001b[0m\u001b[0m\n\u001b[0m\u001b[1;32m      3\u001b[0m \u001b[0mprint\u001b[0m\u001b[0;34m(\u001b[0m\u001b[0misinstance\u001b[0m\u001b[0;34m(\u001b[0m\u001b[0;34m\"25\"\u001b[0m\u001b[0;34m,\u001b[0m\u001b[0mint\u001b[0m\u001b[0;34m)\u001b[0m \u001b[0;32mor\u001b[0m \u001b[0misinstance\u001b[0m\u001b[0;34m(\u001b[0m\u001b[0;34m\"25\"\u001b[0m\u001b[0;34m,\u001b[0m\u001b[0mstr\u001b[0m\u001b[0;34m)\u001b[0m\u001b[0;34m)\u001b[0m\u001b[0;34m\u001b[0m\u001b[0;34m\u001b[0m\u001b[0m\n",
            "\u001b[0;31mTypeError\u001b[0m: isinstance() arg 2 must be a type or tuple of types"
          ]
        }
      ]
    },
    {
      "cell_type": "markdown",
      "metadata": {
        "id": "ye1eWRPc2-7C",
        "colab_type": "text"
      },
      "source": [
        "**145, Viết chương trình Python để kiểm tra xem một biến là một danh sách hay bộ hoặc một bộ.**\n",
        "\n",
        "**Write a Python program to test if a variable is a list or tuple or a set.**\n",
        "\n",
        "![alt text](https://www.w3resource.com/w3r_images/python-basic-exercise-flowchart-145.png)\n"
      ]
    },
    {
      "cell_type": "code",
      "metadata": {
        "id": "Zvu5zeWJ2nhA",
        "colab_type": "code",
        "outputId": "a85ebc3e-3c8a-40f9-f4f8-4721022d3397",
        "colab": {
          "base_uri": "https://localhost:8080/",
          "height": 34
        }
      },
      "source": [
        "x = ['a', 'b', 'c', 'd']\n",
        "#x = {'a', 'b', 'c', 'd'}\n",
        "#x = ('tuple', False, 3.2, 1)\n",
        "if type(x) is list:\n",
        "  print('x is a list')\n",
        "elif type(x) is set:\n",
        "  print('x is a set')\n",
        "elif type(x) is tuple:\n",
        "  print('x is a tuple')\n",
        "else:\n",
        "  print('Neither a list or set or a tuple.')"
      ],
      "execution_count": 0,
      "outputs": [
        {
          "output_type": "stream",
          "text": [
            "x is a list\n"
          ],
          "name": "stdout"
        }
      ]
    },
    {
      "cell_type": "markdown",
      "metadata": {
        "id": "mVitHh_D3-KL",
        "colab_type": "text"
      },
      "source": [
        "**146, Viết chương trình Python để tìm vị trí của các nguồn mô-đun Python.**\n",
        "\n",
        "**Write a Python program to find the location of Python module sources.**"
      ]
    },
    {
      "cell_type": "code",
      "metadata": {
        "id": "wAcD4zQ03jLK",
        "colab_type": "code",
        "outputId": "5cd02c17-30ef-4a33-84d4-a91570c8346a",
        "colab": {
          "base_uri": "https://localhost:8080/",
          "height": 139
        }
      },
      "source": [
        "import sys\n",
        "print(\"\\nList of directories in sys module:\")\n",
        "print(sys.path)\n",
        "print(\"\\nList of directories in os module:\")\n",
        "import os\n",
        "print(os.path)"
      ],
      "execution_count": 0,
      "outputs": [
        {
          "output_type": "stream",
          "text": [
            "\n",
            "List of directories in sys module:\n",
            "['', '/env/python', '/usr/lib/python36.zip', '/usr/lib/python3.6', '/usr/lib/python3.6/lib-dynload', '/usr/local/lib/python3.6/dist-packages', '/usr/lib/python3/dist-packages', '/usr/local/lib/python3.6/dist-packages/IPython/extensions', '/root/.ipython']\n",
            "\n",
            "List of directories in os module:\n",
            "<module 'posixpath' from '/usr/lib/python3.6/posixpath.py'>\n"
          ],
          "name": "stdout"
        }
      ]
    },
    {
      "cell_type": "markdown",
      "metadata": {
        "id": "-9y7kGPD4cUA",
        "colab_type": "text"
      },
      "source": [
        "**147, Viết hàm Python để kiểm tra xem một số có chia hết cho một số khác không. Chấp nhận hai giá trị số nguyên hình thành người dùng.**\n",
        "\n",
        "**Write a Python function to check whether a number is divisible by another number. Accept two integers values form the user.**\n",
        "\n",
        "![alt text](https://www.w3resource.com/w3r_images/python-basic-image-exercise-147.png)"
      ]
    },
    {
      "cell_type": "code",
      "metadata": {
        "id": "aplxIn-M4HFg",
        "colab_type": "code",
        "outputId": "7c05f4d9-0de6-4c9e-ad45-f9908fff4627",
        "colab": {
          "base_uri": "https://localhost:8080/",
          "height": 51
        }
      },
      "source": [
        "def multiple(m,n):\n",
        "  return True if m % n == 0 else False\n",
        "\n",
        "print(multiple(20, 5))\n",
        "print(multiple(7, 2))"
      ],
      "execution_count": 0,
      "outputs": [
        {
          "output_type": "stream",
          "text": [
            "True\n",
            "False\n"
          ],
          "name": "stdout"
        }
      ]
    },
    {
      "cell_type": "markdown",
      "metadata": {
        "id": "9JLDV-i547PW",
        "colab_type": "text"
      },
      "source": [
        "**148, Viết hàm Python để tìm số tối đa và tối thiểu từ một chuỗi số.**\n",
        "\n",
        "**Write a Python function to find the maximum and minimum numbers from a sequence of numbers.**\n",
        "\n",
        "![alt text](https://www.w3resource.com/w3r_images/python-basic-image-exercise-148.png)"
      ]
    },
    {
      "cell_type": "code",
      "metadata": {
        "id": "n9d1nck44o6f",
        "colab_type": "code",
        "outputId": "043889fe-7ac9-4e37-eddf-6e30a97d2fa5",
        "colab": {
          "base_uri": "https://localhost:8080/",
          "height": 34
        }
      },
      "source": [
        "def max_min(data):\n",
        "  l = data[0]       # tạo biến l là max, gán giá trị đầu tiên index[0] của data vào l, l = 0\n",
        "  s = data[0]       # tạo biến s là min, gán giá trị đầu tiên index[0] của data vào s, s = 0\n",
        "  for num in data:  # tạo biến num, duyệt từng phần tử có trong data\n",
        "    if num > 1:     # Nếu num > l\n",
        "      l = num       # gán num vào l (cập nhật l liên tục), 10 > 0 -> l = 10, 15 > 10 -> l = 15, 40 > 15 -> l = 40, 75 > 40 -> l = 75\n",
        "    elif num < s:   # Nếu num < s\n",
        "      s = num       # gán num vào l (cập nhật liên tục), -5 < 0 -> s = -5\n",
        "  return l, s       # trả về l, s là 1 kiểu tuple sau khi cập nhật, gán giá trị mới\n",
        "\n",
        "print(max_min([0, 10, 15, 40, -5, 42, 17, 28, 75]))\n"
      ],
      "execution_count": 0,
      "outputs": [
        {
          "output_type": "stream",
          "text": [
            "(75, -5)\n"
          ],
          "name": "stdout"
        }
      ]
    },
    {
      "cell_type": "markdown",
      "metadata": {
        "id": "3HglhVJm7Iha",
        "colab_type": "text"
      },
      "source": [
        "**149, Viết hàm Python lấy số nguyên dương và trả về tổng khối của tất cả các số nguyên dương nhỏ hơn số đã chỉ định**\n",
        "\n",
        "**Write a Python function that takes a positive integer and returns the sum of the cube of all the positive integers smaller than the specified number**\n",
        "\n",
        "![alt text](https://www.w3resource.com/w3r_images/python-basic-image-exercise-149.png)"
      ]
    },
    {
      "cell_type": "code",
      "metadata": {
        "id": "0crXQUbX5NTa",
        "colab_type": "code",
        "outputId": "1cc27fed-7f53-4f6c-adf6-01973c928bef",
        "colab": {
          "base_uri": "https://localhost:8080/",
          "height": 34
        }
      },
      "source": [
        "def sum_of_cubes(n):\n",
        "  n -= 1              # giảm n đi 1, vì tính các số nhỏ hơn số đã cho, VD 6 thì bắt đầu từ 5\n",
        "  total = 0           # tạo biển tổng, gán = 0, dùng để đưa số tính được vào total\n",
        "  while n > 0:        # While, dừng lại khi n = 0\n",
        "    total += n * n * n  # total = total + n*n*n, n = 5 total  = 125. n = 4 total = 125 + 64 = 189, n = 3 total = 125+64+27= 216 ...\n",
        "    n -= 1              # sau mỗi lẫn lặp, giảm n đi 1, VD 5 thì giảm còn 4 -> 3 -> 2 ->1 -> 0 thì dừng vòng lặp\n",
        "  return total          # trả về kết quả hàm total\n",
        "\n",
        "print(\"Sum of cubes: \", sum_of_cubes(3))"
      ],
      "execution_count": 0,
      "outputs": [
        {
          "output_type": "stream",
          "text": [
            "Sum of cubes:  16040025\n"
          ],
          "name": "stdout"
        }
      ]
    },
    {
      "cell_type": "markdown",
      "metadata": {
        "id": "hSiCuJbs9SpD",
        "colab_type": "text"
      },
      "source": [
        "**150, Viết hàm Python để tìm một cặp số riêng biệt có sản phẩm là số lẻ từ một chuỗi các giá trị nguyên.**\n",
        "\n",
        "**Write a Python function to find a distinct pair of numbers whose product is odd from a sequence of integer values.**\n",
        "\n",
        "![alt text](https://www.w3resource.com/w3r_images/python-basic-image-exercise-150.png)"
      ]
    },
    {
      "cell_type": "code",
      "metadata": {
        "id": "MfT9E9jo7vfb",
        "colab_type": "code",
        "outputId": "fbc522a8-36cd-47e5-c556-f56ab09eaf7e",
        "colab": {
          "base_uri": "https://localhost:8080/",
          "height": 51
        }
      },
      "source": [
        "def odd_product(nums):\n",
        "  for i in range(len(nums)):          # vòng lặp i, chạy từ đoạn 0 tới độ dài chuỗi, VD range(0,3)\n",
        "    for j in range(len(nums)):        # vòng lặp j, vòng lặp j nằm trong vòng lặp i, lặp hết j rồi mới tới i. VD i = 0, j =3 thì bắt đầu tăng i, i = 1\n",
        "      if i != j:                      # kiểm tra nếu i khác j                                             và trở lại j = 0->1->2->3, xong tăng i =2 j=0.....\n",
        "        product = nums[i] * nums[j]   # thì gán giá trị cho product và lặp lại\n",
        "        if product & 1:               # & kiếm tra nếu biến product là số lẻ thì trả về kết quả. Nếu không lẻ thì = None và lặp lại for\n",
        "          return True\n",
        "          return False\n",
        "\n",
        "dt1 = [2, 4, 6, 8]\n",
        "dt2 = [1, 6, 4, 7, 8]\n",
        "print(dt1, odd_product(dt1))\n",
        "print(dt2, odd_product(dt2))"
      ],
      "execution_count": 0,
      "outputs": [
        {
          "output_type": "stream",
          "text": [
            "[2, 4, 6, 8] None\n",
            "[1, 6, 4, 7, 8] True\n"
          ],
          "name": "stdout"
        }
      ]
    },
    {
      "cell_type": "code",
      "metadata": {
        "id": "WHpK67B-9-UQ",
        "colab_type": "code",
        "colab": {}
      },
      "source": [
        ""
      ],
      "execution_count": 0,
      "outputs": []
    }
  ]
}