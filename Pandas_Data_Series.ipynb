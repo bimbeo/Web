{
  "nbformat": 4,
  "nbformat_minor": 0,
  "metadata": {
    "colab": {
      "name": "Pandas Data Series.ipynb",
      "provenance": [],
      "authorship_tag": "ABX9TyNacDktcp8gcuZ+doTjQqe+",
      "include_colab_link": true
    },
    "kernelspec": {
      "name": "python3",
      "display_name": "Python 3"
    }
  },
  "cells": [
    {
      "cell_type": "markdown",
      "metadata": {
        "id": "view-in-github",
        "colab_type": "text"
      },
      "source": [
        "<a href=\"https://colab.research.google.com/github/bimbeo/Web/blob/master/Pandas_Data_Series.ipynb\" target=\"_parent\"><img src=\"https://colab.research.google.com/assets/colab-badge.svg\" alt=\"Open In Colab\"/></a>"
      ]
    },
    {
      "cell_type": "markdown",
      "metadata": {
        "id": "MAZepjH-eWX2",
        "colab_type": "text"
      },
      "source": [
        "**1, Viết chương trình Pandas để tạo và hiển thị một đối tượng giống như mảng một chiều có chứa một mảng dữ liệu.**\n",
        "\n",
        "**Write a Pandas program to create and display a one-dimensional array-like object containing an array of data.**\n",
        "\n"
      ]
    },
    {
      "cell_type": "code",
      "metadata": {
        "id": "pvCKJkHveLPw",
        "colab_type": "code",
        "colab": {
          "base_uri": "https://localhost:8080/",
          "height": 119
        },
        "outputId": "82789c52-8611-4429-b1bd-8e5bdb621068"
      },
      "source": [
        "import pandas as pd\n",
        "ds = pd.Series([2,4,6,8,10])\n",
        "print(ds)"
      ],
      "execution_count": 1,
      "outputs": [
        {
          "output_type": "stream",
          "text": [
            "0     2\n",
            "1     4\n",
            "2     6\n",
            "3     8\n",
            "4    10\n",
            "dtype: int64\n"
          ],
          "name": "stdout"
        }
      ]
    },
    {
      "cell_type": "markdown",
      "metadata": {
        "id": "LCcPXBWben25",
        "colab_type": "text"
      },
      "source": [
        "**2, Viết chương trình Pandas để chuyển đổi một mô-đun Panda thành danh sách Python và loại này.**\n",
        "\n",
        "**Write a Pandas program to convert a Panda module Series to Python list and it’s type.**\n",
        "\n"
      ]
    },
    {
      "cell_type": "code",
      "metadata": {
        "id": "zYTRBN8cekMH",
        "colab_type": "code",
        "colab": {
          "base_uri": "https://localhost:8080/",
          "height": 204
        },
        "outputId": "3cfe8cb3-d989-4a32-d12d-9c704377e7b3"
      },
      "source": [
        "ds = pd.Series([2,4,6,8,10])\n",
        "print(\"Pandas Series and type\")\n",
        "print(ds)\n",
        "print(type(ds))\n",
        "print(\"Convert Pandas Series to Python list\")\n",
        "print(ds.tolist())\n",
        "print(type(ds.tolist()))"
      ],
      "execution_count": 2,
      "outputs": [
        {
          "output_type": "stream",
          "text": [
            "Pandas Series and type\n",
            "0     2\n",
            "1     4\n",
            "2     6\n",
            "3     8\n",
            "4    10\n",
            "dtype: int64\n",
            "<class 'pandas.core.series.Series'>\n",
            "Convert Pandas Series to Python list\n",
            "[2, 4, 6, 8, 10]\n",
            "<class 'list'>\n"
          ],
          "name": "stdout"
        }
      ]
    },
    {
      "cell_type": "markdown",
      "metadata": {
        "id": "EG-W4PiZfGA5",
        "colab_type": "text"
      },
      "source": [
        "**3, Viết chương trình Pandas để cộng, trừ, nhân và chia hai Series Pandas.**\n",
        "\n",
        "**Write a Pandas program to add, subtract, multiple and divide two Pandas Series**.\n"
      ]
    },
    {
      "cell_type": "code",
      "metadata": {
        "id": "2LIUgOk_e5cM",
        "colab_type": "code",
        "colab": {
          "base_uri": "https://localhost:8080/",
          "height": 493
        },
        "outputId": "1cbbb110-7259-4d02-c888-5cd1fa95ac3b"
      },
      "source": [
        "ds1 = pd.Series([2,4,6,8,10])\n",
        "ds2 = pd.Series([1,3,5,7,9])\n",
        "ds = ds1 + ds2\n",
        "print(\"Add two Series:\")\n",
        "print(ds)\n",
        "print(\"Subtract two Series: \")\n",
        "ds = ds1 - ds2\n",
        "print(ds)\n",
        "print(\"Multiply two Series:\")\n",
        "ds = ds1 * ds2\n",
        "print(ds)\n",
        "print(\"Divide Series1 by Series2:\")\n",
        "ds = ds1 / ds2\n",
        "print(ds)"
      ],
      "execution_count": 3,
      "outputs": [
        {
          "output_type": "stream",
          "text": [
            "Add two Series:\n",
            "0     3\n",
            "1     7\n",
            "2    11\n",
            "3    15\n",
            "4    19\n",
            "dtype: int64\n",
            "Subtract two Series: \n",
            "0    1\n",
            "1    1\n",
            "2    1\n",
            "3    1\n",
            "4    1\n",
            "dtype: int64\n",
            "Multiply two Series:\n",
            "0     2\n",
            "1    12\n",
            "2    30\n",
            "3    56\n",
            "4    90\n",
            "dtype: int64\n",
            "Divide Series1 by Series2:\n",
            "0    2.000000\n",
            "1    1.333333\n",
            "2    1.200000\n",
            "3    1.142857\n",
            "4    1.111111\n",
            "dtype: float64\n"
          ],
          "name": "stdout"
        }
      ]
    },
    {
      "cell_type": "markdown",
      "metadata": {
        "id": "RX4RbRFifnCD",
        "colab_type": "text"
      },
      "source": [
        "**4, Viết chương trình Pandas để so sánh các yếu tố của hai Series Pandas.**\n",
        "\n",
        "**Write a Pandas program to compare the elements of the two Pandas Series.**\n"
      ]
    },
    {
      "cell_type": "code",
      "metadata": {
        "id": "9qO9oQ9nfgUW",
        "colab_type": "code",
        "colab": {
          "base_uri": "https://localhost:8080/",
          "height": 629
        },
        "outputId": "b6292f12-127c-49b2-9af2-1718fa5da557"
      },
      "source": [
        "ds1 = pd.Series([2,4,6,8,10])\n",
        "ds2 = pd.Series([1,3,5,7,10])\n",
        "print(\"Series1:\")\n",
        "print(ds1)\n",
        "print(\"Series2:\")\n",
        "print(ds2)\n",
        "print(\"Compare the elements of the said Series:\")\n",
        "print(\"Equals:\")\n",
        "print(ds1 == ds2)\n",
        "print(\"Greater than:\")\n",
        "print(ds1 > ds2)\n",
        "print(\"Less than:\")\n",
        "print(ds1 < ds2)"
      ],
      "execution_count": 5,
      "outputs": [
        {
          "output_type": "stream",
          "text": [
            "Series1:\n",
            "0     2\n",
            "1     4\n",
            "2     6\n",
            "3     8\n",
            "4    10\n",
            "dtype: int64\n",
            "Series2:\n",
            "0     1\n",
            "1     3\n",
            "2     5\n",
            "3     7\n",
            "4    10\n",
            "dtype: int64\n",
            "Compare the elements of the said Series:\n",
            "Equals:\n",
            "0    False\n",
            "1    False\n",
            "2    False\n",
            "3    False\n",
            "4     True\n",
            "dtype: bool\n",
            "Greater than:\n",
            "0     True\n",
            "1     True\n",
            "2     True\n",
            "3     True\n",
            "4    False\n",
            "dtype: bool\n",
            "Less than:\n",
            "0    False\n",
            "1    False\n",
            "2    False\n",
            "3    False\n",
            "4    False\n",
            "dtype: bool\n"
          ],
          "name": "stdout"
        }
      ]
    },
    {
      "cell_type": "markdown",
      "metadata": {
        "id": "jR84tHncgCL7",
        "colab_type": "text"
      },
      "source": [
        "**5, Viết chương trình Pandas để chuyển đổi từ điển thành loạt Pandas.**\n",
        "\n",
        "**Write a Pandas program to convert a dictionary to a Pandas series.**\n"
      ]
    },
    {
      "cell_type": "code",
      "metadata": {
        "id": "uzGs8PWYf8tl",
        "colab_type": "code",
        "colab": {
          "base_uri": "https://localhost:8080/",
          "height": 170
        },
        "outputId": "02a4ce6b-e354-435b-a0ca-507312d493d6"
      },
      "source": [
        "d1 = {'a':100, 'b':200, 'c':300, 'd':400, 'e':800}\n",
        "print(\"Original dictionary:\")\n",
        "print(d1)\n",
        "new_series = pd.Series(d1)\n",
        "print(\"Convert series:\")\n",
        "print(new_series)"
      ],
      "execution_count": 6,
      "outputs": [
        {
          "output_type": "stream",
          "text": [
            "Original dictionary:\n",
            "{'a': 100, 'b': 200, 'c': 300, 'd': 400, 'e': 800}\n",
            "Convert series:\n",
            "a    100\n",
            "b    200\n",
            "c    300\n",
            "d    400\n",
            "e    800\n",
            "dtype: int64\n"
          ],
          "name": "stdout"
        }
      ]
    },
    {
      "cell_type": "markdown",
      "metadata": {
        "id": "l1ZiqBSPgZ0M",
        "colab_type": "text"
      },
      "source": [
        "**6, Viết chương trình Pandas để chuyển đổi một mảng NumPy thành một chuỗi Pandas.**\n",
        "\n",
        "**Write a Pandas program to convert a NumPy array to a Pandas series.**\n",
        "\n"
      ]
    },
    {
      "cell_type": "code",
      "metadata": {
        "id": "uJsFUrLhgTyJ",
        "colab_type": "code",
        "colab": {
          "base_uri": "https://localhost:8080/",
          "height": 170
        },
        "outputId": "754b951d-9237-43ca-f1c2-237b350083c0"
      },
      "source": [
        "import numpy as np\n",
        "np_array = np.array([10,20,30,40,50])\n",
        "print(\"NumPy array:\")\n",
        "print(np_array)\n",
        "new_series = pd.Series(np_array)\n",
        "print(\"Converted Pandas series:\")\n",
        "print(new_series)"
      ],
      "execution_count": 7,
      "outputs": [
        {
          "output_type": "stream",
          "text": [
            "NumPy array:\n",
            "[10 20 30 40 50]\n",
            "Converted Pandas series:\n",
            "0    10\n",
            "1    20\n",
            "2    30\n",
            "3    40\n",
            "4    50\n",
            "dtype: int64\n"
          ],
          "name": "stdout"
        }
      ]
    },
    {
      "cell_type": "markdown",
      "metadata": {
        "id": "eAYuyot_gtS_",
        "colab_type": "text"
      },
      "source": [
        "**7, Viết chương trình Pandas để thay đổi kiểu dữ liệu của một cột hoặc Sê-ri.**\n",
        "\n",
        "**Write a Pandas program to change the data type of given a column or a Series.**\n",
        "\n"
      ]
    },
    {
      "cell_type": "code",
      "metadata": {
        "id": "7HvYwa7bgoZA",
        "colab_type": "code",
        "colab": {
          "base_uri": "https://localhost:8080/",
          "height": 255
        },
        "outputId": "d46a5c50-1ec3-4e9a-d9a0-ec58b0355ac2"
      },
      "source": [
        "s1 = pd.Series(['100', '200', 'python', '300.12', '400'])\n",
        "print(\"Original Data Series:\")\n",
        "print(s1)\n",
        "print(\"Change the said data type to numeric:\")\n",
        "s2 = pd.to_numeric(s1, errors='coerce')\n",
        "print(s2)"
      ],
      "execution_count": 8,
      "outputs": [
        {
          "output_type": "stream",
          "text": [
            "Original Data Series:\n",
            "0       100\n",
            "1       200\n",
            "2    python\n",
            "3    300.12\n",
            "4       400\n",
            "dtype: object\n",
            "Change the said data type to numeric:\n",
            "0    100.00\n",
            "1    200.00\n",
            "2       NaN\n",
            "3    300.12\n",
            "4    400.00\n",
            "dtype: float64\n"
          ],
          "name": "stdout"
        }
      ]
    },
    {
      "cell_type": "markdown",
      "metadata": {
        "id": "mXbojwnShKEX",
        "colab_type": "text"
      },
      "source": [
        "**8, Viết chương trình Python Pandas để chuyển đổi cột đầu tiên của DataFrame dưới dạng Sê-ri.**\n",
        "\n",
        "**Write a Python Pandas program to convert the first column of a DataFrame as a Series.**\n",
        "\n"
      ]
    },
    {
      "cell_type": "code",
      "metadata": {
        "id": "6qDZWLophCxx",
        "colab_type": "code",
        "colab": {
          "base_uri": "https://localhost:8080/",
          "height": 323
        },
        "outputId": "81062896-6865-4722-c8ae-9868fb0cd7d8"
      },
      "source": [
        "d = {'col1' : [1,2,3,4,7,11], 'col2': [4,5,6,9,5,0], 'col3':[7,5,8,12,1,11]}\n",
        "df = pd.DataFrame(data=d)\n",
        "print(\"Original DataFrame\")\n",
        "print(df)\n",
        "s1 = df.iloc[:,0]\n",
        "print(\"\\n1st column as a Series:\")\n",
        "print(s1)\n",
        "print(type(s1))"
      ],
      "execution_count": 12,
      "outputs": [
        {
          "output_type": "stream",
          "text": [
            "Original DataFrame\n",
            "   col1  col2  col3\n",
            "0     1     4     7\n",
            "1     2     5     5\n",
            "2     3     6     8\n",
            "3     4     9    12\n",
            "4     7     5     1\n",
            "5    11     0    11\n",
            "\n",
            "1st column as a Series:\n",
            "0     1\n",
            "1     2\n",
            "2     3\n",
            "3     4\n",
            "4     7\n",
            "5    11\n",
            "Name: col1, dtype: int64\n",
            "<class 'pandas.core.series.Series'>\n"
          ],
          "name": "stdout"
        }
      ]
    },
    {
      "cell_type": "markdown",
      "metadata": {
        "id": "dmvsqP43iAWj",
        "colab_type": "text"
      },
      "source": [
        "**9, Viết chương trình Pandas để chuyển đổi một Series đã cho thành một mảng.**\n",
        "\n",
        "**Write a Pandas program to convert a given Series to an array.**\n",
        "\n"
      ]
    },
    {
      "cell_type": "code",
      "metadata": {
        "id": "D0_ueqLOhhqM",
        "colab_type": "code",
        "colab": {
          "base_uri": "https://localhost:8080/",
          "height": 170
        },
        "outputId": "606802bb-4293-4431-9137-ef9f8c69382a"
      },
      "source": [
        "s1 = pd.Series(['100', '200', 'python', '300.12', '400'])\n",
        "print(\"Original Data Series: \")\n",
        "print(s1)\n",
        "print(\"Seires to an array\")\n",
        "a = np.array(s1.values.tolist())\n",
        "print(a)"
      ],
      "execution_count": 16,
      "outputs": [
        {
          "output_type": "stream",
          "text": [
            "Original Data Series: \n",
            "0       100\n",
            "1       200\n",
            "2    python\n",
            "3    300.12\n",
            "4       400\n",
            "dtype: object\n",
            "Seires to an array\n",
            "['100' '200' 'python' '300.12' '400']\n"
          ],
          "name": "stdout"
        }
      ]
    },
    {
      "cell_type": "markdown",
      "metadata": {
        "id": "wKPUyPh0icK3",
        "colab_type": "text"
      },
      "source": [
        "**10, Viết chương trình Pandas để chuyển đổi Sê-ri danh sách thành Sê-ri.**\n",
        "\n",
        "**Write a Pandas program to convert Series of lists to one Series.**\n",
        "\n"
      ]
    },
    {
      "cell_type": "code",
      "metadata": {
        "id": "L8EkUksFiO6O",
        "colab_type": "code",
        "colab": {
          "base_uri": "https://localhost:8080/",
          "height": 238
        },
        "outputId": "0f44b823-acf2-4cbb-d3a4-9ca8444a9fa6"
      },
      "source": [
        "s = pd.Series([\n",
        "               ['Red', 'Green', 'White'],\n",
        "               ['Red', 'Black'],\n",
        "               ['Yellow']\n",
        "])\n",
        "print(\"Original Series of list\")\n",
        "print(s)\n",
        "s = s.apply(pd.Series).stack().reset_index(drop=True)\n",
        "print(\"One Series\")\n",
        "print(s)"
      ],
      "execution_count": 17,
      "outputs": [
        {
          "output_type": "stream",
          "text": [
            "Original Series of list\n",
            "0    [Red, Green, White]\n",
            "1           [Red, Black]\n",
            "2               [Yellow]\n",
            "dtype: object\n",
            "One Series\n",
            "0       Red\n",
            "1     Green\n",
            "2     White\n",
            "3       Red\n",
            "4     Black\n",
            "5    Yellow\n",
            "dtype: object\n"
          ],
          "name": "stdout"
        }
      ]
    },
    {
      "cell_type": "markdown",
      "metadata": {
        "id": "aqW7xY60jASF",
        "colab_type": "text"
      },
      "source": [
        "**11, Viết chương trình Pandas để sắp xếp một Series nhất định.**\n",
        "\n",
        "**Write a Pandas program to sort a given Series.**\n",
        "\n"
      ]
    },
    {
      "cell_type": "code",
      "metadata": {
        "id": "4SEwWVS5ixrZ",
        "colab_type": "code",
        "colab": {
          "base_uri": "https://localhost:8080/",
          "height": 238
        },
        "outputId": "1c0ef5db-97be-4eaa-ec88-43f139354b33"
      },
      "source": [
        "s = pd.Series(['100', '200', 'python', '300.12', '400'])\n",
        "print(\"Original Data Series:\")\n",
        "print(s)\n",
        "new_s = pd.Series(s).sort_values()\n",
        "print(new_s)"
      ],
      "execution_count": 18,
      "outputs": [
        {
          "output_type": "stream",
          "text": [
            "Original Data Series:\n",
            "0       100\n",
            "1       200\n",
            "2    python\n",
            "3    300.12\n",
            "4       400\n",
            "dtype: object\n",
            "0       100\n",
            "1       200\n",
            "3    300.12\n",
            "4       400\n",
            "2    python\n",
            "dtype: object\n"
          ],
          "name": "stdout"
        }
      ]
    },
    {
      "cell_type": "markdown",
      "metadata": {
        "id": "lcqQYxfLjUWJ",
        "colab_type": "text"
      },
      "source": [
        "**12, Viết chương trình Pandas để thêm một số dữ liệu vào Sê-ri hiện có.**\n",
        "\n",
        "**Write a Pandas program to add some data to an existing Series.**\n",
        "\n"
      ]
    },
    {
      "cell_type": "code",
      "metadata": {
        "id": "oM0vXwVJjNAy",
        "colab_type": "code",
        "colab": {
          "base_uri": "https://localhost:8080/",
          "height": 306
        },
        "outputId": "97f74afc-b946-4c7e-a5f8-88ac650b4af7"
      },
      "source": [
        "s = pd.Series(['100', '200', 'python', '300.12', '400'])\n",
        "print(\"Original Data Seires:\")\n",
        "print(s)\n",
        "print(\"\\nData Series after adding some data:\")\n",
        "new_s = s.append(pd.Series(['500', 'php']))\n",
        "print(new_s)"
      ],
      "execution_count": 19,
      "outputs": [
        {
          "output_type": "stream",
          "text": [
            "Original Data Seires:\n",
            "0       100\n",
            "1       200\n",
            "2    python\n",
            "3    300.12\n",
            "4       400\n",
            "dtype: object\n",
            "\n",
            "Data Series after adding some data:\n",
            "0       100\n",
            "1       200\n",
            "2    python\n",
            "3    300.12\n",
            "4       400\n",
            "0       500\n",
            "1       php\n",
            "dtype: object\n"
          ],
          "name": "stdout"
        }
      ]
    },
    {
      "cell_type": "markdown",
      "metadata": {
        "id": "PY4VJBMDjtL9",
        "colab_type": "text"
      },
      "source": [
        "**13, Viết chương trình Pandas để tạo tập hợp con của một chuỗi đã cho dựa trên giá trị và điều kiện.**\n",
        "\n",
        "**Write a Pandas program to create a subset of a given series based on value and condition.**\n",
        "\n"
      ]
    },
    {
      "cell_type": "code",
      "metadata": {
        "id": "IsUcCTlcjk-6",
        "colab_type": "code",
        "colab": {
          "base_uri": "https://localhost:8080/",
          "height": 391
        },
        "outputId": "b5ce7abe-db0d-4e74-e5bf-6f5148d46332"
      },
      "source": [
        "s = pd.Series([0,1,2,3,4,5,6,7,8,9,100])\n",
        "print(\"Original Data Series:\")\n",
        "print(s)\n",
        "print(\"\\nSubset of the above Data Series:\")\n",
        "n = 6\n",
        "new_s = s[s<n]\n",
        "print(new_s)"
      ],
      "execution_count": 22,
      "outputs": [
        {
          "output_type": "stream",
          "text": [
            "Original Data Series:\n",
            "0       0\n",
            "1       1\n",
            "2       2\n",
            "3       3\n",
            "4       4\n",
            "5       5\n",
            "6       6\n",
            "7       7\n",
            "8       8\n",
            "9       9\n",
            "10    100\n",
            "dtype: int64\n",
            "\n",
            "Subset of the above Data Series:\n",
            "0    0\n",
            "1    1\n",
            "2    2\n",
            "3    3\n",
            "4    4\n",
            "5    5\n",
            "dtype: int64\n"
          ],
          "name": "stdout"
        }
      ]
    },
    {
      "cell_type": "markdown",
      "metadata": {
        "id": "abnIUsbHkGQ9",
        "colab_type": "text"
      },
      "source": [
        "**14, Viết chương trình Pandas để thay đổi thứ tự chỉ mục của một chuỗi đã cho.**\n",
        "\n",
        "**Write a Pandas program to change the order of index of a given series.**\n",
        "\n"
      ]
    },
    {
      "cell_type": "code",
      "metadata": {
        "id": "5YU8FNFhj7k-",
        "colab_type": "code",
        "colab": {
          "base_uri": "https://localhost:8080/",
          "height": 255
        },
        "outputId": "8e0f9cea-8a8c-4638-b4e6-2b3ae3b4ccf4"
      },
      "source": [
        "s = pd.Series(data=[1,2,3,4,5], index = ['A', 'B', 'C', 'D', 'E'])\n",
        "print(\"Original Data Serires:\")\n",
        "print(s)\n",
        "s = s.reindex(index=['B', 'A', 'C', 'D', 'E'])\n",
        "print(\"Data Series after changing the order of index:\")\n",
        "print(s)"
      ],
      "execution_count": 23,
      "outputs": [
        {
          "output_type": "stream",
          "text": [
            "Original Data Serires:\n",
            "A    1\n",
            "B    2\n",
            "C    3\n",
            "D    4\n",
            "E    5\n",
            "dtype: int64\n",
            "Data Series after changing the order of index:\n",
            "B    2\n",
            "A    1\n",
            "C    3\n",
            "D    4\n",
            "E    5\n",
            "dtype: int64\n"
          ],
          "name": "stdout"
        }
      ]
    },
    {
      "cell_type": "markdown",
      "metadata": {
        "id": "dgBFoe66kctP",
        "colab_type": "text"
      },
      "source": [
        "**15, Viết chương trình Pandas để tạo độ lệch trung bình và độ lệch chuẩn của dữ liệu của Sê-ri nhất định.**\n",
        "\n",
        "**Write a Pandas program to create the mean and standard deviation of the data of a given Series.**\n",
        "\n"
      ]
    },
    {
      "cell_type": "code",
      "metadata": {
        "id": "V-HnM1HvkYLn",
        "colab_type": "code",
        "colab": {
          "base_uri": "https://localhost:8080/",
          "height": 306
        },
        "outputId": "9b79c908-8f1f-4eca-a27c-4a0840dbc483"
      },
      "source": [
        "s = pd.Series(data = [1,2,3,4,5,6,7,8,9,5,3])\n",
        "print(\"Original Data Series:\")\n",
        "print(s)\n",
        "print(\"Mean of the said Data Series:\")\n",
        "print(s.mean())\n",
        "print(\"Standard deviation of the said Data Series:\")\n",
        "print(s.std())"
      ],
      "execution_count": 24,
      "outputs": [
        {
          "output_type": "stream",
          "text": [
            "Original Data Series:\n",
            "0     1\n",
            "1     2\n",
            "2     3\n",
            "3     4\n",
            "4     5\n",
            "5     6\n",
            "6     7\n",
            "7     8\n",
            "8     9\n",
            "9     5\n",
            "10    3\n",
            "dtype: int64\n",
            "Mean of the said Data Series:\n",
            "4.818181818181818\n",
            "Standard deviation of the said Data Series:\n",
            "2.522624895547565\n"
          ],
          "name": "stdout"
        }
      ]
    },
    {
      "cell_type": "markdown",
      "metadata": {
        "id": "fVumdNkYku8H",
        "colab_type": "text"
      },
      "source": [
        "**16, Viết chương trình Pandas để lấy các mục của một chuỗi đã cho không có trong một chuỗi khác.**\n",
        "\n",
        "**Write a Pandas program to get the items of a given series not present in another given series.**\n",
        "\n"
      ]
    },
    {
      "cell_type": "code",
      "metadata": {
        "id": "t49Y6AswkrIY",
        "colab_type": "code",
        "colab": {
          "base_uri": "https://localhost:8080/",
          "height": 374
        },
        "outputId": "13c84d68-f893-4171-929c-44462e8d46e8"
      },
      "source": [
        "sr1 = pd.Series([1,2,3,4,5])\n",
        "sr2 = pd.Series([2,4,6,8,10])\n",
        "print(\"Original Series:\")\n",
        "print(\"sr1\")\n",
        "print(sr1)\n",
        "print(\"sr2\")\n",
        "print(sr2)\n",
        "print(\"\\nItems of sr1 not present in sr2\")\n",
        "result = sr1[~sr1.isin(sr2)]\n",
        "print(result)"
      ],
      "execution_count": 25,
      "outputs": [
        {
          "output_type": "stream",
          "text": [
            "Original Series:\n",
            "sr1\n",
            "0    1\n",
            "1    2\n",
            "2    3\n",
            "3    4\n",
            "4    5\n",
            "dtype: int64\n",
            "sr2\n",
            "0     2\n",
            "1     4\n",
            "2     6\n",
            "3     8\n",
            "4    10\n",
            "dtype: int64\n",
            "\n",
            "Items of sr1 not present in sr2\n",
            "0    1\n",
            "2    3\n",
            "4    5\n",
            "dtype: int64\n"
          ],
          "name": "stdout"
        }
      ]
    },
    {
      "cell_type": "markdown",
      "metadata": {
        "id": "S1A7ilCIlOBX",
        "colab_type": "text"
      },
      "source": [
        "**17, Viết chương trình Pandas để lấy các mục không phổ biến trong hai chuỗi đã cho.**\n",
        "\n",
        "**Write a Pandas program to get the items which are not common of two given series.**\n",
        "\n"
      ]
    },
    {
      "cell_type": "code",
      "metadata": {
        "id": "LZhj_WcklGcT",
        "colab_type": "code",
        "colab": {
          "base_uri": "https://localhost:8080/",
          "height": 425
        },
        "outputId": "c6ae3bc8-b037-4dac-8193-ef1671859022"
      },
      "source": [
        "sr1 = pd.Series([1,2,3,4,5])\n",
        "sr2 = pd.Series([2,4,6,8,10])\n",
        "print(\"Original Series:\")\n",
        "print(\"sr1\")\n",
        "print(sr1)\n",
        "print(\"sr2\")\n",
        "print(sr2)\n",
        "print(\"\\nItems of a given series not present in another given series:\")\n",
        "sr11 = pd.Series(np.union1d(sr1, sr2))\n",
        "sr22 = pd.Series(np.intersect1d(sr1, sr2))\n",
        "result = sr11[~sr11.isin(sr22)]\n",
        "print(result)"
      ],
      "execution_count": 26,
      "outputs": [
        {
          "output_type": "stream",
          "text": [
            "Original Series:\n",
            "sr1\n",
            "0    1\n",
            "1    2\n",
            "2    3\n",
            "3    4\n",
            "4    5\n",
            "dtype: int64\n",
            "sr2\n",
            "0     2\n",
            "1     4\n",
            "2     6\n",
            "3     8\n",
            "4    10\n",
            "dtype: int64\n",
            "\n",
            "Items of a given series not present in another given series:\n",
            "0     1\n",
            "2     3\n",
            "4     5\n",
            "5     6\n",
            "6     8\n",
            "7    10\n",
            "dtype: int64\n"
          ],
          "name": "stdout"
        }
      ]
    },
    {
      "cell_type": "markdown",
      "metadata": {
        "id": "p32IsCYWlzAa",
        "colab_type": "text"
      },
      "source": [
        "**18, Viết chương trình Pandas để tính toán phần trăm tối thiểu, 25 phần trăm, trung vị, 75 và tối đa của một chuỗi nhất định.**\n",
        "\n",
        "**Write a Pandas program to compute the minimum, 25th percentile, median, 75th, and maximum of a given series.**\n",
        "\n"
      ]
    },
    {
      "cell_type": "code",
      "metadata": {
        "id": "OvOjqpQYlrsT",
        "colab_type": "code",
        "colab": {
          "base_uri": "https://localhost:8080/",
          "height": 442
        },
        "outputId": "d78882c8-ae92-4d28-b786-75da6a5fc3fd"
      },
      "source": [
        "num_state = np.random.RandomState(100)\n",
        "num_series = pd.Series(num_state.normal(10,4,20))\n",
        "print(\"Original Series:\")\n",
        "print(num_series)\n",
        "result = np.percentile(num_series, q=[0,25,50,75,100])\n",
        "print(\"\\nMinimum, 25th percentile, median, 75th, and maximum of a given Series:\")\n",
        "print(result)"
      ],
      "execution_count": 27,
      "outputs": [
        {
          "output_type": "stream",
          "text": [
            "Original Series:\n",
            "0      3.000938\n",
            "1     11.370722\n",
            "2     14.612143\n",
            "3      8.990256\n",
            "4     13.925283\n",
            "5     12.056875\n",
            "6     10.884719\n",
            "7      5.719827\n",
            "8      9.242017\n",
            "9     11.020006\n",
            "10     8.167892\n",
            "11    11.740654\n",
            "12     7.665620\n",
            "13    13.267388\n",
            "14    12.690883\n",
            "15     9.582355\n",
            "16     7.874878\n",
            "17    14.118931\n",
            "18     8.247458\n",
            "19     5.526727\n",
            "dtype: float64\n",
            "\n",
            "Minimum, 25th percentile, median, 75th, and maximum of a given Series:\n",
            "[ 3.00093811  8.09463867 10.23353705 12.21537733 14.61214321]\n"
          ],
          "name": "stdout"
        }
      ]
    },
    {
      "cell_type": "markdown",
      "metadata": {
        "id": "vOhEd-hNmpU1",
        "colab_type": "text"
      },
      "source": [
        "**19, Viết chương trình Pandas để tính tổng tần số của từng giá trị duy nhất của một chuỗi đã cho.**\n",
        "\n",
        "**Write a Pandas program to calculate the frequency counts of each unique value of a given series.**\n",
        "\n"
      ]
    },
    {
      "cell_type": "code",
      "metadata": {
        "id": "D3xI6GSxmLzv",
        "colab_type": "code",
        "colab": {
          "base_uri": "https://localhost:8080/",
          "height": 935
        },
        "outputId": "df8145ce-2382-44bf-97c0-0bb71866abd1"
      },
      "source": [
        "num_series = pd.Series(np.take(list('0123456789'), np.random.randint(10, size=40)))\n",
        "print(\"Original Series:\")\n",
        "print(num_series)\n",
        "print(\"Frequency of each unique value of the said series.\")\n",
        "result = num_series.value_counts()\n",
        "print(result)"
      ],
      "execution_count": 28,
      "outputs": [
        {
          "output_type": "stream",
          "text": [
            "Original Series:\n",
            "0     6\n",
            "1     9\n",
            "2     4\n",
            "3     1\n",
            "4     6\n",
            "5     2\n",
            "6     2\n",
            "7     8\n",
            "8     1\n",
            "9     8\n",
            "10    5\n",
            "11    8\n",
            "12    3\n",
            "13    3\n",
            "14    7\n",
            "15    5\n",
            "16    7\n",
            "17    5\n",
            "18    9\n",
            "19    0\n",
            "20    7\n",
            "21    9\n",
            "22    4\n",
            "23    9\n",
            "24    1\n",
            "25    1\n",
            "26    8\n",
            "27    2\n",
            "28    1\n",
            "29    6\n",
            "30    8\n",
            "31    6\n",
            "32    8\n",
            "33    6\n",
            "34    4\n",
            "35    5\n",
            "36    9\n",
            "37    3\n",
            "38    8\n",
            "39    8\n",
            "dtype: object\n",
            "Frequency of each unique value of the said series.\n",
            "8    8\n",
            "9    5\n",
            "6    5\n",
            "1    5\n",
            "5    4\n",
            "2    3\n",
            "3    3\n",
            "4    3\n",
            "7    3\n",
            "0    1\n",
            "dtype: int64\n"
          ],
          "name": "stdout"
        }
      ]
    },
    {
      "cell_type": "markdown",
      "metadata": {
        "id": "LoIPJ_oAoZbY",
        "colab_type": "text"
      },
      "source": [
        "**20, Viết chương trình Pandas để hiển thị giá trị thường xuyên nhất trong một chuỗi nhất định và thay thế mọi thứ khác như ’Other khác trong chuỗi.**\n",
        "\n",
        "**Write a Pandas program to display most frequent value in a given series and replace everything else as ‘Other’ in the series.**\n",
        "\n"
      ]
    },
    {
      "cell_type": "code",
      "metadata": {
        "id": "neeBW_2PnAEu",
        "colab_type": "code",
        "colab": {
          "base_uri": "https://localhost:8080/",
          "height": 408
        },
        "outputId": "4de8c075-e58d-4456-abc5-bee7caf639b3"
      },
      "source": [
        "np.random.RandomState(100)\n",
        "num_series = pd.Series(np.random.randint(1, 5, [15]))\n",
        "print(\"Original Series:\")\n",
        "print(num_series)\n",
        "print(\"Top 2 Freq:\", num_series.value_counts())\n",
        "result = num_series[~num_series.isin(num_series.value_counts().index[:1])] = 'Other'\n",
        "print(result)"
      ],
      "execution_count": 30,
      "outputs": [
        {
          "output_type": "stream",
          "text": [
            "Original Series:\n",
            "0     4\n",
            "1     2\n",
            "2     2\n",
            "3     1\n",
            "4     2\n",
            "5     2\n",
            "6     1\n",
            "7     3\n",
            "8     3\n",
            "9     4\n",
            "10    1\n",
            "11    2\n",
            "12    2\n",
            "13    2\n",
            "14    3\n",
            "dtype: int64\n",
            "Top 2 Freq: 2    7\n",
            "3    3\n",
            "1    3\n",
            "4    2\n",
            "dtype: int64\n",
            "Other\n"
          ],
          "name": "stdout"
        }
      ]
    },
    {
      "cell_type": "markdown",
      "metadata": {
        "id": "rVFmYNlTpWph",
        "colab_type": "text"
      },
      "source": [
        "**21, Viết chương trình Pandas để tìm vị trí của các số là bội số của 5 chuỗi đã cho.**\n",
        "\n",
        "**Write a Pandas program to find the positions of numbers that are multiples of 5 of a given series.**\n",
        "\n"
      ]
    },
    {
      "cell_type": "code",
      "metadata": {
        "id": "SZUVTfbio5sx",
        "colab_type": "code",
        "colab": {
          "base_uri": "https://localhost:8080/",
          "height": 629
        },
        "outputId": "371bb5af-c356-4a22-f3f4-c10aeeccaede"
      },
      "source": [
        "num_series = pd.Series(np.random.randint(1, 10, 9))\n",
        "print(\"Original Series:\")\n",
        "print(num_series)\n",
        "result = np.argwhere(num_series % 5==0)\n",
        "print(\"Positions of numbers that are multiples of 5:\")\n",
        "print(result)"
      ],
      "execution_count": 33,
      "outputs": [
        {
          "output_type": "stream",
          "text": [
            "Original Series:\n",
            "0    4\n",
            "1    1\n",
            "2    3\n",
            "3    5\n",
            "4    4\n",
            "5    4\n",
            "6    4\n",
            "7    2\n",
            "8    8\n",
            "dtype: int64\n"
          ],
          "name": "stdout"
        },
        {
          "output_type": "error",
          "ename": "ValueError",
          "evalue": "ignored",
          "traceback": [
            "\u001b[0;31m---------------------------------------------------------------------------\u001b[0m",
            "\u001b[0;31mValueError\u001b[0m                                Traceback (most recent call last)",
            "\u001b[0;32m<ipython-input-33-0f69a0a4835a>\u001b[0m in \u001b[0;36m<module>\u001b[0;34m()\u001b[0m\n\u001b[1;32m      2\u001b[0m \u001b[0mprint\u001b[0m\u001b[0;34m(\u001b[0m\u001b[0;34m\"Original Series:\"\u001b[0m\u001b[0;34m)\u001b[0m\u001b[0;34m\u001b[0m\u001b[0;34m\u001b[0m\u001b[0m\n\u001b[1;32m      3\u001b[0m \u001b[0mprint\u001b[0m\u001b[0;34m(\u001b[0m\u001b[0mnum_series\u001b[0m\u001b[0;34m)\u001b[0m\u001b[0;34m\u001b[0m\u001b[0;34m\u001b[0m\u001b[0m\n\u001b[0;32m----> 4\u001b[0;31m \u001b[0mresult\u001b[0m \u001b[0;34m=\u001b[0m \u001b[0mnp\u001b[0m\u001b[0;34m.\u001b[0m\u001b[0margwhere\u001b[0m\u001b[0;34m(\u001b[0m\u001b[0mnum_series\u001b[0m \u001b[0;34m%\u001b[0m \u001b[0;36m5\u001b[0m\u001b[0;34m==\u001b[0m\u001b[0;36m0\u001b[0m\u001b[0;34m)\u001b[0m\u001b[0;34m\u001b[0m\u001b[0;34m\u001b[0m\u001b[0m\n\u001b[0m\u001b[1;32m      5\u001b[0m \u001b[0mprint\u001b[0m\u001b[0;34m(\u001b[0m\u001b[0;34m\"Positions of numbers that are multiples of 5:\"\u001b[0m\u001b[0;34m)\u001b[0m\u001b[0;34m\u001b[0m\u001b[0;34m\u001b[0m\u001b[0m\n\u001b[1;32m      6\u001b[0m \u001b[0mprint\u001b[0m\u001b[0;34m(\u001b[0m\u001b[0mresult\u001b[0m\u001b[0;34m)\u001b[0m\u001b[0;34m\u001b[0m\u001b[0;34m\u001b[0m\u001b[0m\n",
            "\u001b[0;32m<__array_function__ internals>\u001b[0m in \u001b[0;36margwhere\u001b[0;34m(*args, **kwargs)\u001b[0m\n",
            "\u001b[0;32m/usr/local/lib/python3.6/dist-packages/numpy/core/numeric.py\u001b[0m in \u001b[0;36margwhere\u001b[0;34m(a)\u001b[0m\n\u001b[1;32m    582\u001b[0m         \u001b[0;31m# then remove the added dimension\u001b[0m\u001b[0;34m\u001b[0m\u001b[0;34m\u001b[0m\u001b[0;34m\u001b[0m\u001b[0m\n\u001b[1;32m    583\u001b[0m         \u001b[0;32mreturn\u001b[0m \u001b[0margwhere\u001b[0m\u001b[0;34m(\u001b[0m\u001b[0ma\u001b[0m\u001b[0;34m)\u001b[0m\u001b[0;34m[\u001b[0m\u001b[0;34m:\u001b[0m\u001b[0;34m,\u001b[0m\u001b[0;34m:\u001b[0m\u001b[0;36m0\u001b[0m\u001b[0;34m]\u001b[0m\u001b[0;34m\u001b[0m\u001b[0;34m\u001b[0m\u001b[0m\n\u001b[0;32m--> 584\u001b[0;31m     \u001b[0;32mreturn\u001b[0m \u001b[0mtranspose\u001b[0m\u001b[0;34m(\u001b[0m\u001b[0mnonzero\u001b[0m\u001b[0;34m(\u001b[0m\u001b[0ma\u001b[0m\u001b[0;34m)\u001b[0m\u001b[0;34m)\u001b[0m\u001b[0;34m\u001b[0m\u001b[0;34m\u001b[0m\u001b[0m\n\u001b[0m\u001b[1;32m    585\u001b[0m \u001b[0;34m\u001b[0m\u001b[0m\n\u001b[1;32m    586\u001b[0m \u001b[0;34m\u001b[0m\u001b[0m\n",
            "\u001b[0;32m<__array_function__ internals>\u001b[0m in \u001b[0;36mnonzero\u001b[0;34m(*args, **kwargs)\u001b[0m\n",
            "\u001b[0;32m/usr/local/lib/python3.6/dist-packages/numpy/core/fromnumeric.py\u001b[0m in \u001b[0;36mnonzero\u001b[0;34m(a)\u001b[0m\n\u001b[1;32m   1894\u001b[0m \u001b[0;34m\u001b[0m\u001b[0m\n\u001b[1;32m   1895\u001b[0m     \"\"\"\n\u001b[0;32m-> 1896\u001b[0;31m     \u001b[0;32mreturn\u001b[0m \u001b[0m_wrapfunc\u001b[0m\u001b[0;34m(\u001b[0m\u001b[0ma\u001b[0m\u001b[0;34m,\u001b[0m \u001b[0;34m'nonzero'\u001b[0m\u001b[0;34m)\u001b[0m\u001b[0;34m\u001b[0m\u001b[0;34m\u001b[0m\u001b[0m\n\u001b[0m\u001b[1;32m   1897\u001b[0m \u001b[0;34m\u001b[0m\u001b[0m\n\u001b[1;32m   1898\u001b[0m \u001b[0;34m\u001b[0m\u001b[0m\n",
            "\u001b[0;32m/usr/local/lib/python3.6/dist-packages/numpy/core/fromnumeric.py\u001b[0m in \u001b[0;36m_wrapfunc\u001b[0;34m(obj, method, *args, **kwds)\u001b[0m\n\u001b[1;32m     56\u001b[0m     \u001b[0mbound\u001b[0m \u001b[0;34m=\u001b[0m \u001b[0mgetattr\u001b[0m\u001b[0;34m(\u001b[0m\u001b[0mobj\u001b[0m\u001b[0;34m,\u001b[0m \u001b[0mmethod\u001b[0m\u001b[0;34m,\u001b[0m \u001b[0;32mNone\u001b[0m\u001b[0;34m)\u001b[0m\u001b[0;34m\u001b[0m\u001b[0;34m\u001b[0m\u001b[0m\n\u001b[1;32m     57\u001b[0m     \u001b[0;32mif\u001b[0m \u001b[0mbound\u001b[0m \u001b[0;32mis\u001b[0m \u001b[0;32mNone\u001b[0m\u001b[0;34m:\u001b[0m\u001b[0;34m\u001b[0m\u001b[0;34m\u001b[0m\u001b[0m\n\u001b[0;32m---> 58\u001b[0;31m         \u001b[0;32mreturn\u001b[0m \u001b[0m_wrapit\u001b[0m\u001b[0;34m(\u001b[0m\u001b[0mobj\u001b[0m\u001b[0;34m,\u001b[0m \u001b[0mmethod\u001b[0m\u001b[0;34m,\u001b[0m \u001b[0;34m*\u001b[0m\u001b[0margs\u001b[0m\u001b[0;34m,\u001b[0m \u001b[0;34m**\u001b[0m\u001b[0mkwds\u001b[0m\u001b[0;34m)\u001b[0m\u001b[0;34m\u001b[0m\u001b[0;34m\u001b[0m\u001b[0m\n\u001b[0m\u001b[1;32m     59\u001b[0m \u001b[0;34m\u001b[0m\u001b[0m\n\u001b[1;32m     60\u001b[0m     \u001b[0;32mtry\u001b[0m\u001b[0;34m:\u001b[0m\u001b[0;34m\u001b[0m\u001b[0;34m\u001b[0m\u001b[0m\n",
            "\u001b[0;32m/usr/local/lib/python3.6/dist-packages/numpy/core/fromnumeric.py\u001b[0m in \u001b[0;36m_wrapit\u001b[0;34m(obj, method, *args, **kwds)\u001b[0m\n\u001b[1;32m     49\u001b[0m         \u001b[0;32mif\u001b[0m \u001b[0;32mnot\u001b[0m \u001b[0misinstance\u001b[0m\u001b[0;34m(\u001b[0m\u001b[0mresult\u001b[0m\u001b[0;34m,\u001b[0m \u001b[0mmu\u001b[0m\u001b[0;34m.\u001b[0m\u001b[0mndarray\u001b[0m\u001b[0;34m)\u001b[0m\u001b[0;34m:\u001b[0m\u001b[0;34m\u001b[0m\u001b[0;34m\u001b[0m\u001b[0m\n\u001b[1;32m     50\u001b[0m             \u001b[0mresult\u001b[0m \u001b[0;34m=\u001b[0m \u001b[0masarray\u001b[0m\u001b[0;34m(\u001b[0m\u001b[0mresult\u001b[0m\u001b[0;34m)\u001b[0m\u001b[0;34m\u001b[0m\u001b[0;34m\u001b[0m\u001b[0m\n\u001b[0;32m---> 51\u001b[0;31m         \u001b[0mresult\u001b[0m \u001b[0;34m=\u001b[0m \u001b[0mwrap\u001b[0m\u001b[0;34m(\u001b[0m\u001b[0mresult\u001b[0m\u001b[0;34m)\u001b[0m\u001b[0;34m\u001b[0m\u001b[0;34m\u001b[0m\u001b[0m\n\u001b[0m\u001b[1;32m     52\u001b[0m     \u001b[0;32mreturn\u001b[0m \u001b[0mresult\u001b[0m\u001b[0;34m\u001b[0m\u001b[0;34m\u001b[0m\u001b[0m\n\u001b[1;32m     53\u001b[0m \u001b[0;34m\u001b[0m\u001b[0m\n",
            "\u001b[0;32m/usr/local/lib/python3.6/dist-packages/pandas/core/generic.py\u001b[0m in \u001b[0;36m__array_wrap__\u001b[0;34m(self, result, context)\u001b[0m\n\u001b[1;32m   1916\u001b[0m             \u001b[0;32mreturn\u001b[0m \u001b[0mresult\u001b[0m\u001b[0;34m\u001b[0m\u001b[0;34m\u001b[0m\u001b[0m\n\u001b[1;32m   1917\u001b[0m         \u001b[0md\u001b[0m \u001b[0;34m=\u001b[0m \u001b[0mself\u001b[0m\u001b[0;34m.\u001b[0m\u001b[0m_construct_axes_dict\u001b[0m\u001b[0;34m(\u001b[0m\u001b[0mself\u001b[0m\u001b[0;34m.\u001b[0m\u001b[0m_AXIS_ORDERS\u001b[0m\u001b[0;34m,\u001b[0m \u001b[0mcopy\u001b[0m\u001b[0;34m=\u001b[0m\u001b[0;32mFalse\u001b[0m\u001b[0;34m)\u001b[0m\u001b[0;34m\u001b[0m\u001b[0;34m\u001b[0m\u001b[0m\n\u001b[0;32m-> 1918\u001b[0;31m         \u001b[0;32mreturn\u001b[0m \u001b[0mself\u001b[0m\u001b[0;34m.\u001b[0m\u001b[0m_constructor\u001b[0m\u001b[0;34m(\u001b[0m\u001b[0mresult\u001b[0m\u001b[0;34m,\u001b[0m \u001b[0;34m**\u001b[0m\u001b[0md\u001b[0m\u001b[0;34m)\u001b[0m\u001b[0;34m.\u001b[0m\u001b[0m__finalize__\u001b[0m\u001b[0;34m(\u001b[0m\u001b[0mself\u001b[0m\u001b[0;34m)\u001b[0m\u001b[0;34m\u001b[0m\u001b[0;34m\u001b[0m\u001b[0m\n\u001b[0m\u001b[1;32m   1919\u001b[0m \u001b[0;34m\u001b[0m\u001b[0m\n\u001b[1;32m   1920\u001b[0m     \u001b[0;31m# ideally we would define this to avoid the getattr checks, but\u001b[0m\u001b[0;34m\u001b[0m\u001b[0;34m\u001b[0m\u001b[0;34m\u001b[0m\u001b[0m\n",
            "\u001b[0;32m/usr/local/lib/python3.6/dist-packages/pandas/core/series.py\u001b[0m in \u001b[0;36m__init__\u001b[0;34m(self, data, index, dtype, name, copy, fastpath)\u001b[0m\n\u001b[1;32m    290\u001b[0m                     \u001b[0;32mif\u001b[0m \u001b[0mlen\u001b[0m\u001b[0;34m(\u001b[0m\u001b[0mindex\u001b[0m\u001b[0;34m)\u001b[0m \u001b[0;34m!=\u001b[0m \u001b[0mlen\u001b[0m\u001b[0;34m(\u001b[0m\u001b[0mdata\u001b[0m\u001b[0;34m)\u001b[0m\u001b[0;34m:\u001b[0m\u001b[0;34m\u001b[0m\u001b[0;34m\u001b[0m\u001b[0m\n\u001b[1;32m    291\u001b[0m                         raise ValueError(\n\u001b[0;32m--> 292\u001b[0;31m                             \u001b[0;34mf\"Length of passed values is {len(data)}, \"\u001b[0m\u001b[0;34m\u001b[0m\u001b[0;34m\u001b[0m\u001b[0m\n\u001b[0m\u001b[1;32m    293\u001b[0m                             \u001b[0;34mf\"index implies {len(index)}.\"\u001b[0m\u001b[0;34m\u001b[0m\u001b[0;34m\u001b[0m\u001b[0m\n\u001b[1;32m    294\u001b[0m                         )\n",
            "\u001b[0;31mValueError\u001b[0m: Length of passed values is 1, index implies 9."
          ]
        }
      ]
    },
    {
      "cell_type": "markdown",
      "metadata": {
        "id": "I7OLwrfYp5CF",
        "colab_type": "text"
      },
      "source": [
        "**22, Viết chương trình Pandas để trích xuất các mục tại các vị trí nhất định của một chuỗi nhất định.**\n",
        "\n",
        "**Write a Pandas program to extract items at given positions of a given series.**\n",
        "\n"
      ]
    },
    {
      "cell_type": "code",
      "metadata": {
        "id": "b3_vdTdDpnuF",
        "colab_type": "code",
        "colab": {
          "base_uri": "https://localhost:8080/",
          "height": 561
        },
        "outputId": "9c355c90-b732-404f-8f39-7a4aa8ae74ae"
      },
      "source": [
        "num_series = pd.Series(list('2390238923902390239023'))\n",
        "element_pos = [0, 2, 6, 11, 21]\n",
        "print(\"original Series\")\n",
        "print(num_series)\n",
        "result = num_series.take(element_pos)\n",
        "print(\"\\nExtract items at given positions of the said series:\")\n",
        "print(result)"
      ],
      "execution_count": 34,
      "outputs": [
        {
          "output_type": "stream",
          "text": [
            "original Series\n",
            "0     2\n",
            "1     3\n",
            "2     9\n",
            "3     0\n",
            "4     2\n",
            "5     3\n",
            "6     8\n",
            "7     9\n",
            "8     2\n",
            "9     3\n",
            "10    9\n",
            "11    0\n",
            "12    2\n",
            "13    3\n",
            "14    9\n",
            "15    0\n",
            "16    2\n",
            "17    3\n",
            "18    9\n",
            "19    0\n",
            "20    2\n",
            "21    3\n",
            "dtype: object\n",
            "\n",
            "Extract items at given positions of the said series:\n",
            "0     2\n",
            "2     9\n",
            "6     8\n",
            "11    0\n",
            "21    3\n",
            "dtype: object\n"
          ],
          "name": "stdout"
        }
      ]
    },
    {
      "cell_type": "markdown",
      "metadata": {
        "id": "WZVWAj56qYBH",
        "colab_type": "text"
      },
      "source": [
        "**23, Viết chương trình Pandas để có được vị trí của các vật phẩm trong một chuỗi nhất định trong một chuỗi khác.**\n",
        "\n",
        "**Write a Pandas program to get the positions of items of a given series in another given series**.\n",
        "\n"
      ]
    },
    {
      "cell_type": "code",
      "metadata": {
        "id": "uit4Na3DqPNW",
        "colab_type": "code",
        "colab": {
          "base_uri": "https://localhost:8080/",
          "height": 357
        },
        "outputId": "cc81ea0d-fd95-473c-d9c2-cdd6228f2a28"
      },
      "source": [
        "series1 = pd.Series([1, 2, 3, 4, 5, 6, 7, 8, 9, 10])\n",
        "series2 = pd.Series([1, 3, 5, 7, 10])\n",
        "print(\"Original Series:\")\n",
        "print(series1)\n",
        "print(series2)\n",
        "result = [pd.Index(series1).get_loc(i) for i in series2]\n",
        "print(\"Positions of items of series2 in series1:\")\n",
        "print(result)"
      ],
      "execution_count": 36,
      "outputs": [
        {
          "output_type": "stream",
          "text": [
            "Original Series:\n",
            "0     1\n",
            "1     2\n",
            "2     3\n",
            "3     4\n",
            "4     5\n",
            "5     6\n",
            "6     7\n",
            "7     8\n",
            "8     9\n",
            "9    10\n",
            "dtype: int64\n",
            "0     1\n",
            "1     3\n",
            "2     5\n",
            "3     7\n",
            "4    10\n",
            "dtype: int64\n",
            "Positions of items of series2 in series1:\n",
            "[0, 2, 4, 6, 9]\n"
          ],
          "name": "stdout"
        }
      ]
    },
    {
      "cell_type": "markdown",
      "metadata": {
        "id": "bMvXR7mjrK-O",
        "colab_type": "text"
      },
      "source": [
        "**24, Viết chương trình Pandas chuyển đổi ký tự đầu tiên và cuối cùng của mỗi từ thành chữ hoa trong mỗi từ của một chuỗi nhất định.**\n",
        "\n",
        "**Write a Pandas program convert the first and last character of each word to upper case in each word of a given series.**\n",
        "\n"
      ]
    },
    {
      "cell_type": "code",
      "metadata": {
        "id": "MjxgIedrq04b",
        "colab_type": "code",
        "colab": {
          "base_uri": "https://localhost:8080/",
          "height": 238
        },
        "outputId": "d9f4c510-aa68-44d3-f487-b6af52cc1b79"
      },
      "source": [
        "series1 = pd.Series(['php', 'python', 'java', 'c#'])\n",
        "print(\"Original Series:\")\n",
        "print(series1)\n",
        "result = series1.map(lambda x: x[0].upper() + x[1:-1] + x[-1].upper())\n",
        "print(\"\\nFirst and last character of each word to upper case:\")\n",
        "print(result)"
      ],
      "execution_count": 37,
      "outputs": [
        {
          "output_type": "stream",
          "text": [
            "Original Series:\n",
            "0       php\n",
            "1    python\n",
            "2      java\n",
            "3        c#\n",
            "dtype: object\n",
            "\n",
            "First and last character of each word to upper case:\n",
            "0       PhP\n",
            "1    PythoN\n",
            "2      JavA\n",
            "3        C#\n",
            "dtype: object\n"
          ],
          "name": "stdout"
        }
      ]
    },
    {
      "cell_type": "markdown",
      "metadata": {
        "id": "YJKFrcf4r1fy",
        "colab_type": "text"
      },
      "source": [
        "**25, Viết chương trình Pandas để tính số lượng ký tự trong mỗi từ trong một chuỗi đã cho.**\n",
        "\n",
        "**Write a Pandas program to calculate the number of characters in each word in a given series.**\n",
        "\n"
      ]
    },
    {
      "cell_type": "code",
      "metadata": {
        "id": "zRmRt2YNrlix",
        "colab_type": "code",
        "colab": {
          "base_uri": "https://localhost:8080/",
          "height": 238
        },
        "outputId": "b2cf942e-58cc-40da-e039-088f78fef096"
      },
      "source": [
        "series1 = pd.Series(['Php', 'Python', 'Java', 'C#'])\n",
        "print(\"Original Series:\")\n",
        "print(series1)\n",
        "result = series1.map(lambda x:len(x))\n",
        "print(\"\\nNumer of character in each word in the said series:\")\n",
        "print(result)"
      ],
      "execution_count": 38,
      "outputs": [
        {
          "output_type": "stream",
          "text": [
            "Original Series:\n",
            "0       Php\n",
            "1    Python\n",
            "2      Java\n",
            "3        C#\n",
            "dtype: object\n",
            "\n",
            "Numer of character in each word in the said series:\n",
            "0    3\n",
            "1    6\n",
            "2    4\n",
            "3    2\n",
            "dtype: int64\n"
          ],
          "name": "stdout"
        }
      ]
    },
    {
      "cell_type": "markdown",
      "metadata": {
        "id": "gHfPB3GRsLa1",
        "colab_type": "text"
      },
      "source": [
        "**26, Viết chương trình Pandas để tính toán sự khác biệt giữa các số liên tiếp của một chuỗi đã cho.**\n",
        "\n",
        "**Write a Pandas program to compute difference of differences between consecutive numbers of a given series.**\n",
        "\n"
      ]
    },
    {
      "cell_type": "code",
      "metadata": {
        "id": "MSH0dlsysJm5",
        "colab_type": "code",
        "colab": {
          "base_uri": "https://localhost:8080/",
          "height": 238
        },
        "outputId": "f443e20d-acf2-40ff-aefe-f724bfbff4a2"
      },
      "source": [
        "series1 = pd.Series([1,3,5,8,10,11,15])\n",
        "print(\"Original Series:\")\n",
        "print(series1)\n",
        "print(\"\\nDifference of differences between consecutive numbers of the said series:\")\n",
        "print(series1.diff().tolist())\n",
        "print(series1.diff().diff().tolist())"
      ],
      "execution_count": 39,
      "outputs": [
        {
          "output_type": "stream",
          "text": [
            "Original Series:\n",
            "0     1\n",
            "1     3\n",
            "2     5\n",
            "3     8\n",
            "4    10\n",
            "5    11\n",
            "6    15\n",
            "dtype: int64\n",
            "\n",
            "Difference of differences between consecutive numbers of the said series:\n",
            "[nan, 2.0, 2.0, 3.0, 2.0, 1.0, 4.0]\n",
            "[nan, nan, 0.0, 1.0, -1.0, -1.0, 3.0]\n"
          ],
          "name": "stdout"
        }
      ]
    },
    {
      "cell_type": "markdown",
      "metadata": {
        "id": "se-XwTW8ssAx",
        "colab_type": "text"
      },
      "source": [
        "**27, Viết chương trình Pandas để chuyển đổi chuỗi chuỗi ngày thành chuỗi thời gian.**\n",
        "\n",
        "**Write a Pandas program to convert a series of date strings to a timeseries.**\n",
        "\n"
      ]
    },
    {
      "cell_type": "code",
      "metadata": {
        "id": "r-b7WwlasjDi",
        "colab_type": "code",
        "colab": {
          "base_uri": "https://localhost:8080/",
          "height": 306
        },
        "outputId": "b172a164-497f-4003-d994-375d0b89d312"
      },
      "source": [
        "date_series = pd.Series(['01 Jan 2015', '10-02-2016', '20180307', '2014/05/06', '2016-04-12', '2019-04-06T11:20'])\n",
        "print(\"Origial Series:\")\n",
        "print(date_series)\n",
        "print(\"\\nSeries of data strings to a timeseries:\")\n",
        "print(pd.to_datetime(date_series))"
      ],
      "execution_count": 40,
      "outputs": [
        {
          "output_type": "stream",
          "text": [
            "Origial Series:\n",
            "0         01 Jan 2015\n",
            "1          10-02-2016\n",
            "2            20180307\n",
            "3          2014/05/06\n",
            "4          2016-04-12\n",
            "5    2019-04-06T11:20\n",
            "dtype: object\n",
            "\n",
            "Series of data strings to a timeseries:\n",
            "0   2015-01-01 00:00:00\n",
            "1   2016-10-02 00:00:00\n",
            "2   2018-03-07 00:00:00\n",
            "3   2014-05-06 00:00:00\n",
            "4   2016-04-12 00:00:00\n",
            "5   2019-04-06 11:20:00\n",
            "dtype: datetime64[ns]\n"
          ],
          "name": "stdout"
        }
      ]
    },
    {
      "cell_type": "markdown",
      "metadata": {
        "id": "5SnfL4extBWO",
        "colab_type": "text"
      },
      "source": [
        "**28, Viết chương trình Pandas để lấy ngày trong tháng, ngày trong năm, số tuần và ngày trong tuần từ một chuỗi các chuỗi ngày nhất định.**\n",
        "\n",
        "**Write a Pandas program to get the day of month, day of year, week number and day of week from a given series of date strings.**\n",
        "\n"
      ]
    },
    {
      "cell_type": "code",
      "metadata": {
        "id": "kM8V4dtRs6MW",
        "colab_type": "code",
        "colab": {
          "base_uri": "https://localhost:8080/",
          "height": 272
        },
        "outputId": "85433411-d789-437c-8eec-042ebf0f9273"
      },
      "source": [
        "from dateutil.parser import parse\n",
        "date_series = pd.Series(['01 Jan 2015', '10-02-2016', '20180307', '2014/05/06', '2016-04-12', '2019-04-06T11:20'])\n",
        "print(\"Original Series:\")\n",
        "print(date_series)\n",
        "date_series = date_series.map(lambda x: parse(x))\n",
        "print(\"Day of month:\")\n",
        "print(date_series.dt.day.tolist())\n",
        "print(\"Day of year:\")\n",
        "print(date_series.dt.dayofyear.tolist())\n",
        "print(\"Week number:\")\n",
        "print(date_series.dt.weekofyear.tolist())\n",
        "print(\"Day of week:\")\n",
        "#print(date_series.dt.weekofday_name.tolist())\n"
      ],
      "execution_count": 46,
      "outputs": [
        {
          "output_type": "stream",
          "text": [
            "Original Series:\n",
            "0         01 Jan 2015\n",
            "1          10-02-2016\n",
            "2            20180307\n",
            "3          2014/05/06\n",
            "4          2016-04-12\n",
            "5    2019-04-06T11:20\n",
            "dtype: object\n",
            "Day of month:\n",
            "[1, 2, 7, 6, 12, 6]\n",
            "Day of year:\n",
            "[1, 276, 66, 126, 103, 96]\n",
            "Week number:\n",
            "[1, 39, 10, 19, 15, 14]\n",
            "Day of week:\n"
          ],
          "name": "stdout"
        }
      ]
    },
    {
      "cell_type": "markdown",
      "metadata": {
        "id": "8HZdaMQ2t0Hf",
        "colab_type": "text"
      },
      "source": [
        "**29, Viết chương trình Pandas để chuyển đổi chuỗi năm tháng thành ngày thêm một ngày được chỉ định trong tháng.**\n",
        "\n",
        "**Write a Pandas program to convert year-month string to dates adding a specified day of the month.**\n",
        "\n"
      ]
    },
    {
      "cell_type": "code",
      "metadata": {
        "id": "CuteQ_fftd9U",
        "colab_type": "code",
        "colab": {
          "base_uri": "https://localhost:8080/",
          "height": 272
        },
        "outputId": "e51ccc01-a5a7-443b-8974-d0e1dbb20dfa"
      },
      "source": [
        "date_series = pd.Series(['Jan 2015', 'Feb 2016', 'Mar 2017', 'Apr 2018', 'May 2019'])\n",
        "print(\"Original Series:\")\n",
        "print(date_series)\n",
        "print(\"\\nNew dates:\")\n",
        "result = date_series.map(lambda d: parse('11' + d))\n",
        "print(result)"
      ],
      "execution_count": 47,
      "outputs": [
        {
          "output_type": "stream",
          "text": [
            "Original Series:\n",
            "0    Jan 2015\n",
            "1    Feb 2016\n",
            "2    Mar 2017\n",
            "3    Apr 2018\n",
            "4    May 2019\n",
            "dtype: object\n",
            "\n",
            "New dates:\n",
            "0   2015-01-11\n",
            "1   2016-02-11\n",
            "2   2017-03-11\n",
            "3   2018-04-11\n",
            "4   2019-05-11\n",
            "dtype: datetime64[ns]\n"
          ],
          "name": "stdout"
        }
      ]
    },
    {
      "cell_type": "markdown",
      "metadata": {
        "id": "SY2SqT9tuMbr",
        "colab_type": "text"
      },
      "source": [
        "**30, Viết chương trình Pandas để lọc các từ trong một chuỗi nhất định có chứa ít nhất hai nguyên âm.**\n",
        "\n",
        "**Write a Pandas program to filter words from a given series that contain atleast two vowels.**\n",
        "\n"
      ]
    },
    {
      "cell_type": "code",
      "metadata": {
        "id": "dMCZ4ylht9cY",
        "colab_type": "code",
        "colab": {
          "base_uri": "https://localhost:8080/",
          "height": 272
        },
        "outputId": "26ebfe62-b3ad-4c12-99a4-7591c4923190"
      },
      "source": [
        "from collections import Counter\n",
        "color_series = pd.Series(['Red', 'Green', 'Orange', 'Pink', 'Yellow', 'White'])\n",
        "print(\"Original Series:\")\n",
        "print(color_series)\n",
        "print(\"\\nFiltered words:\")\n",
        "result = mask = color_series.map(lambda c: sum([Counter(c.lower()).get(i,0) for i in list('aeiou')]) >= 2)\n",
        "print(color_series[result])"
      ],
      "execution_count": 48,
      "outputs": [
        {
          "output_type": "stream",
          "text": [
            "Original Series:\n",
            "0       Red\n",
            "1     Green\n",
            "2    Orange\n",
            "3      Pink\n",
            "4    Yellow\n",
            "5     White\n",
            "dtype: object\n",
            "\n",
            "Filtered words:\n",
            "1     Green\n",
            "2    Orange\n",
            "4    Yellow\n",
            "5     White\n",
            "dtype: object\n"
          ],
          "name": "stdout"
        }
      ]
    },
    {
      "cell_type": "markdown",
      "metadata": {
        "id": "EBnCIHDMusB-",
        "colab_type": "text"
      },
      "source": [
        "**31, Viết chương trình Pandas để tính khoảng cách Euclide giữa hai chuỗi đã cho.**\n",
        "\n",
        "**Write a Pandas program to compute the Euclidean distance between two given series.**\n",
        "\n"
      ]
    },
    {
      "cell_type": "code",
      "metadata": {
        "id": "li2h4_SgumLr",
        "colab_type": "code",
        "colab": {
          "base_uri": "https://localhost:8080/",
          "height": 459
        },
        "outputId": "3f518d86-e58b-409d-b18c-1dec7685115d"
      },
      "source": [
        "x = pd.Series([1,2,3,4,5,6,7,8,9,10])\n",
        "y = pd.Series([11,8,7,5,6,5,3,4,7,1])\n",
        "print(\"Original series:\")\n",
        "print(x)\n",
        "print(y)\n",
        "print(\"\\nEuclidean distance between two said series:\")\n",
        "print(np.linalg.norm(x-y))"
      ],
      "execution_count": 50,
      "outputs": [
        {
          "output_type": "stream",
          "text": [
            "Original series:\n",
            "0     1\n",
            "1     2\n",
            "2     3\n",
            "3     4\n",
            "4     5\n",
            "5     6\n",
            "6     7\n",
            "7     8\n",
            "8     9\n",
            "9    10\n",
            "dtype: int64\n",
            "0    11\n",
            "1     8\n",
            "2     7\n",
            "3     5\n",
            "4     6\n",
            "5     5\n",
            "6     3\n",
            "7     4\n",
            "8     7\n",
            "9     1\n",
            "dtype: int64\n",
            "\n",
            "Euclidean distance between two said series:\n",
            "16.492422502470642\n"
          ],
          "name": "stdout"
        }
      ]
    },
    {
      "cell_type": "markdown",
      "metadata": {
        "id": "XtzvYlnPvFmO",
        "colab_type": "text"
      },
      "source": [
        "**32, Viết chương trình Pandas để tìm vị trí của các giá trị được bao quanh bởi các giá trị nhỏ hơn ở cả hai phía trong một chuỗi nhất định.**\n",
        "\n",
        "**Write a Pandas program to find the positions of the values neighboured by smaller values on both sides in a given series.**\n",
        "\n",
        "![alt text](https://www.w3resource.com/w3r_images/python-pandas-data-series-image-exercise-32.svg)"
      ]
    },
    {
      "cell_type": "code",
      "metadata": {
        "id": "g7yAQ-wwu72S",
        "colab_type": "code",
        "colab": {
          "base_uri": "https://localhost:8080/",
          "height": 272
        },
        "outputId": "7ab3a59c-5e7f-4e1d-bf16-d0e0ae1c8d9b"
      },
      "source": [
        "nums = pd.Series([1, 8, 7, 5, 6, 5, 3, 4, 7, 1])\n",
        "print(\"Original series:\")\n",
        "print(nums)\n",
        "print(\"\\nPositions of the values surrounded by smaller values on both sides:\")\n",
        "temp = np.diff(np.sign(np.diff(nums)))\n",
        "result = np.where(temp == -2)[0] + 1\n",
        "print(result)"
      ],
      "execution_count": 51,
      "outputs": [
        {
          "output_type": "stream",
          "text": [
            "Original series:\n",
            "0    1\n",
            "1    8\n",
            "2    7\n",
            "3    5\n",
            "4    6\n",
            "5    5\n",
            "6    3\n",
            "7    4\n",
            "8    7\n",
            "9    1\n",
            "dtype: int64\n",
            "\n",
            "Positions of the values surrounded by smaller values on both sides:\n",
            "[1 4 8]\n"
          ],
          "name": "stdout"
        }
      ]
    },
    {
      "cell_type": "markdown",
      "metadata": {
        "id": "OLnxFvzMvZLk",
        "colab_type": "text"
      },
      "source": [
        "**33, Viết chương trình Pandas để thay thế các khoảng trắng bị thiếu trong một chuỗi đã cho bằng ký tự ít gặp nhất.**\n",
        "\n",
        "**Write a Pandas program to replace missing white spaces in a given string with the least frequent character.**\n",
        "\n"
      ]
    },
    {
      "cell_type": "code",
      "metadata": {
        "id": "Fj3QXRDAvUw3",
        "colab_type": "code",
        "colab": {
          "base_uri": "https://localhost:8080/",
          "height": 221
        },
        "outputId": "ffe4724d-ed27-4bfa-9470-eb7ce014dacf"
      },
      "source": [
        "str1 = 'abc def abcdef icd'\n",
        "print(\"Original series:\")\n",
        "print(str1)\n",
        "ser = pd.Series(list(str1))\n",
        "element_freq = ser.value_counts()\n",
        "print(element_freq)\n",
        "current_freq = element_freq.dropna().index[-1]\n",
        "result = \"\".join(ser.replace(' ', current_freq))\n",
        "print(result)"
      ],
      "execution_count": 52,
      "outputs": [
        {
          "output_type": "stream",
          "text": [
            "Original series:\n",
            "abc def abcdef icd\n",
            "     3\n",
            "d    3\n",
            "c    3\n",
            "e    2\n",
            "f    2\n",
            "a    2\n",
            "b    2\n",
            "i    1\n",
            "dtype: int64\n",
            "abcidefiabcdefiicd\n"
          ],
          "name": "stdout"
        }
      ]
    },
    {
      "cell_type": "markdown",
      "metadata": {
        "id": "dgwkX5g1wD6F",
        "colab_type": "text"
      },
      "source": [
        "**34, Viết chương trình Pandas để tính toán tự động của một chuỗi số đã cho.**\n",
        "\n",
        "**Write a Pandas program to compute the autocorrelations of a given numeric series.**\n",
        "\n",
        "Autocorrelation, còn được gọi là tương quan nối tiếp, là mối tương quan của tín hiệu với một bản sao bị trì hoãn của chính nó như là một chức năng của độ trễ. Một cách không chính thức, đó là sự giống nhau giữa các quan sát như là một hàm của độ trễ thời gian giữa chúng.\n",
        "\n",
        "Autocorrelation, also known as serial correlation, is the correlation of a signal with a delayed copy of itself as a function of delay. Informally, it is the similarity between observations as a function of the time lag between them.\n",
        "\n"
      ]
    },
    {
      "cell_type": "code",
      "metadata": {
        "id": "NusHyREmvuDn",
        "colab_type": "code",
        "colab": {
          "base_uri": "https://localhost:8080/",
          "height": 357
        },
        "outputId": "94a76389-87fd-4396-a23c-ff85c877d4b0"
      },
      "source": [
        "num_series = pd.Series(np.arange(15) + np.random.normal(1, 10, 15))\n",
        "print(\"Original series:\")\n",
        "print(num_series)\n",
        "autocorrelations = [num_series.autocorr(i).round(2) for i in range(11)]\n",
        "print(\"\\nAutocorrelations of the said series:\")\n",
        "print(autocorrelations[1:])"
      ],
      "execution_count": 53,
      "outputs": [
        {
          "output_type": "stream",
          "text": [
            "Original series:\n",
            "0    -10.513684\n",
            "1    -11.988586\n",
            "2      1.743747\n",
            "3     12.213028\n",
            "4     19.929176\n",
            "5      8.231419\n",
            "6     19.383891\n",
            "7      8.575035\n",
            "8     12.555188\n",
            "9      9.283606\n",
            "10    13.588366\n",
            "11    13.957133\n",
            "12     4.191084\n",
            "13    16.264615\n",
            "14    12.726837\n",
            "dtype: float64\n",
            "\n",
            "Autocorrelations of the said series:\n",
            "[0.53, 0.32, -0.29, -0.25, -0.11, -0.35, 0.42, -0.15, 0.05, 0.04]\n"
          ],
          "name": "stdout"
        }
      ]
    },
    {
      "cell_type": "markdown",
      "metadata": {
        "id": "bROgqfy3wTaZ",
        "colab_type": "text"
      },
      "source": [
        "**35, Viết chương trình Pandas để tạo TimeSeries để hiển thị tất cả các ngày chủ nhật của năm nhất định.**\n",
        "\n",
        "**Write a Pandas program to create a TimeSeries to display all the Sundays of given year.**\n",
        "\n"
      ]
    },
    {
      "cell_type": "code",
      "metadata": {
        "id": "oZI0wDwowPtA",
        "colab_type": "code",
        "colab": {
          "base_uri": "https://localhost:8080/",
          "height": 935
        },
        "outputId": "04dd2ff0-f3ae-4df7-b6fb-73442b86dc7f"
      },
      "source": [
        "result = pd.Series(pd.date_range('2020-01-01', periods=52, freq='W-SUN'))\n",
        "print(\"All Sundays of 2019:\")\n",
        "print(result)"
      ],
      "execution_count": 54,
      "outputs": [
        {
          "output_type": "stream",
          "text": [
            "All Sundays of 2019:\n",
            "0    2020-01-05\n",
            "1    2020-01-12\n",
            "2    2020-01-19\n",
            "3    2020-01-26\n",
            "4    2020-02-02\n",
            "5    2020-02-09\n",
            "6    2020-02-16\n",
            "7    2020-02-23\n",
            "8    2020-03-01\n",
            "9    2020-03-08\n",
            "10   2020-03-15\n",
            "11   2020-03-22\n",
            "12   2020-03-29\n",
            "13   2020-04-05\n",
            "14   2020-04-12\n",
            "15   2020-04-19\n",
            "16   2020-04-26\n",
            "17   2020-05-03\n",
            "18   2020-05-10\n",
            "19   2020-05-17\n",
            "20   2020-05-24\n",
            "21   2020-05-31\n",
            "22   2020-06-07\n",
            "23   2020-06-14\n",
            "24   2020-06-21\n",
            "25   2020-06-28\n",
            "26   2020-07-05\n",
            "27   2020-07-12\n",
            "28   2020-07-19\n",
            "29   2020-07-26\n",
            "30   2020-08-02\n",
            "31   2020-08-09\n",
            "32   2020-08-16\n",
            "33   2020-08-23\n",
            "34   2020-08-30\n",
            "35   2020-09-06\n",
            "36   2020-09-13\n",
            "37   2020-09-20\n",
            "38   2020-09-27\n",
            "39   2020-10-04\n",
            "40   2020-10-11\n",
            "41   2020-10-18\n",
            "42   2020-10-25\n",
            "43   2020-11-01\n",
            "44   2020-11-08\n",
            "45   2020-11-15\n",
            "46   2020-11-22\n",
            "47   2020-11-29\n",
            "48   2020-12-06\n",
            "49   2020-12-13\n",
            "50   2020-12-20\n",
            "51   2020-12-27\n",
            "dtype: datetime64[ns]\n"
          ],
          "name": "stdout"
        }
      ]
    },
    {
      "cell_type": "code",
      "metadata": {
        "id": "pwoFR7IuwY6o",
        "colab_type": "code",
        "colab": {}
      },
      "source": [
        ""
      ],
      "execution_count": 0,
      "outputs": []
    }
  ]
}