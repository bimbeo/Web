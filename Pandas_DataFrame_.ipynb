{
  "nbformat": 4,
  "nbformat_minor": 0,
  "metadata": {
    "colab": {
      "name": "Pandas DataFrame .ipynb",
      "provenance": [],
      "authorship_tag": "ABX9TyP3FEUz6TC0fHm6Lo9rBAhD",
      "include_colab_link": true
    },
    "kernelspec": {
      "name": "python3",
      "display_name": "Python 3"
    }
  },
  "cells": [
    {
      "cell_type": "markdown",
      "metadata": {
        "id": "view-in-github",
        "colab_type": "text"
      },
      "source": [
        "<a href=\"https://colab.research.google.com/github/bimbeo/Web/blob/master/Pandas_DataFrame_.ipynb\" target=\"_parent\"><img src=\"https://colab.research.google.com/assets/colab-badge.svg\" alt=\"Open In Colab\"/></a>"
      ]
    },
    {
      "cell_type": "markdown",
      "metadata": {
        "id": "Vd9g1z9vxMre",
        "colab_type": "text"
      },
      "source": [
        "![alt text](https://www.w3resource.com/w3r_images/pandas-data-frame.svg)"
      ]
    },
    {
      "cell_type": "markdown",
      "metadata": {
        "id": "JLtGYuZLxZyT",
        "colab_type": "text"
      },
      "source": [
        "**1, Viết chương trình Pandas để có được sức mạnh của một giá trị phần tử khôn ngoan.**\n",
        "\n",
        "**Write a Pandas program to get the powers of an array values element-wise.**\n"
      ]
    },
    {
      "cell_type": "code",
      "metadata": {
        "id": "us8f1jC3xGz3",
        "colab_type": "code",
        "outputId": "c71ddb0b-38b9-43f2-dafa-9d7b9c68d4f6",
        "colab": {
          "base_uri": "https://localhost:8080/",
          "height": 119
        }
      },
      "source": [
        "import pandas as pd\n",
        "df = pd.DataFrame({'X':[78, 85, 96, 80, 86], 'Y':[84, 94, 89, 83, 86], 'Z':[86, 97, 96, 72, 83]})\n",
        "print(df)"
      ],
      "execution_count": 0,
      "outputs": [
        {
          "output_type": "stream",
          "text": [
            "    X   Y   Z\n",
            "0  78  84  86\n",
            "1  85  94  97\n",
            "2  96  89  96\n",
            "3  80  83  72\n",
            "4  86  86  83\n"
          ],
          "name": "stdout"
        }
      ]
    },
    {
      "cell_type": "markdown",
      "metadata": {
        "id": "BwPhJYJexz6a",
        "colab_type": "text"
      },
      "source": [
        "**2, Viết chương trình Pandas để tạo và hiển thị DataFrame từ dữ liệu từ điển đã chỉ định có nhãn chỉ mục.**\n",
        "\n",
        "**Write a Pandas program to create and display a DataFrame from a specified dictionary data which has the index labels.**\n"
      ]
    },
    {
      "cell_type": "code",
      "metadata": {
        "id": "WWYULVeuxre0",
        "colab_type": "code",
        "outputId": "9449985d-7a33-400c-fa6f-b89ad9e5a65a",
        "colab": {
          "base_uri": "https://localhost:8080/",
          "height": 204
        }
      },
      "source": [
        "import numpy as np\n",
        "exam_data  = {'name': ['Anastasia', 'Dima', 'Katherine', 'James', 'Emily', 'Michael', 'Matthew', 'Laura', 'Kevin', 'Jonas'],\n",
        "        'score': [12.5, 9, 16.5, np.nan, 9, 20, 14.5, np.nan, 8, 19],\n",
        "        'attempts': [1, 3, 2, 3, 2, 3, 1, 1, 2, 1],\n",
        "        'qualify': ['yes', 'no', 'yes', 'no', 'no', 'yes', 'yes', 'no', 'no', 'yes']}\n",
        "labels = ['a', 'b', 'c', 'd', 'e', 'f', 'g', 'h', 'i', 'j']\n",
        "df = pd.DataFrame(exam_data, index = labels)\n",
        "print(df)"
      ],
      "execution_count": 0,
      "outputs": [
        {
          "output_type": "stream",
          "text": [
            "        name  score  attempts qualify\n",
            "a  Anastasia   12.5         1     yes\n",
            "b       Dima    9.0         3      no\n",
            "c  Katherine   16.5         2     yes\n",
            "d      James    NaN         3      no\n",
            "e      Emily    9.0         2      no\n",
            "f    Michael   20.0         3     yes\n",
            "g    Matthew   14.5         1     yes\n",
            "h      Laura    NaN         1      no\n",
            "i      Kevin    8.0         2      no\n",
            "j      Jonas   19.0         1     yes\n"
          ],
          "name": "stdout"
        }
      ]
    },
    {
      "cell_type": "markdown",
      "metadata": {
        "id": "6ppjpni2yP8-",
        "colab_type": "text"
      },
      "source": [
        "**3, Viết chương trình Pandas để hiển thị tóm tắt thông tin cơ bản về DataFrame được chỉ định và dữ liệu của nó.**\n",
        "\n",
        "**Write a Pandas program to display a summary of the basic information about a specified DataFrame and its data.**\n",
        "\n"
      ]
    },
    {
      "cell_type": "code",
      "metadata": {
        "id": "Faj1OqUfx--l",
        "colab_type": "code",
        "outputId": "f1e91bcd-0dda-4e03-b922-039b212f3f10",
        "colab": {
          "base_uri": "https://localhost:8080/",
          "height": 238
        }
      },
      "source": [
        "exam_data  = {'name': ['Anastasia', 'Dima', 'Katherine', 'James', 'Emily', 'Michael', 'Matthew', 'Laura', 'Kevin', 'Jonas'],\n",
        "        'score': [12.5, 9, 16.5, np.nan, 9, 20, 14.5, np.nan, 8, 19],\n",
        "        'attempts': [1, 3, 2, 3, 2, 3, 1, 1, 2, 1],\n",
        "        'qualify': ['yes', 'no', 'yes', 'no', 'no', 'yes', 'yes', 'no', 'no', 'yes']}\n",
        "labels = ['a', 'b', 'c', 'd', 'e', 'f', 'g', 'h', 'i', 'j']\n",
        "df = pd.DataFrame(exam_data, index = labels)\n",
        "print(\"Summary of the basic information about this DataFrame and its data:\")\n",
        "print(df.info())"
      ],
      "execution_count": 0,
      "outputs": [
        {
          "output_type": "stream",
          "text": [
            "Summary of the basic information about this DataFrame and its data:\n",
            "<class 'pandas.core.frame.DataFrame'>\n",
            "Index: 10 entries, a to j\n",
            "Data columns (total 4 columns):\n",
            " #   Column    Non-Null Count  Dtype  \n",
            "---  ------    --------------  -----  \n",
            " 0   name      10 non-null     object \n",
            " 1   score     8 non-null      float64\n",
            " 2   attempts  10 non-null     int64  \n",
            " 3   qualify   10 non-null     object \n",
            "dtypes: float64(1), int64(1), object(2)\n",
            "memory usage: 400.0+ bytes\n",
            "None\n"
          ],
          "name": "stdout"
        }
      ]
    },
    {
      "cell_type": "markdown",
      "metadata": {
        "id": "qH-4v-TRyoX1",
        "colab_type": "text"
      },
      "source": [
        "**4, Viết chương trình Pandas để nhận 3 hàng đầu tiên của DataFrame đã cho.**\n",
        "\n",
        "**Write a Pandas program to get the first 3 rows of a given DataFrame.**\n"
      ]
    },
    {
      "cell_type": "code",
      "metadata": {
        "id": "UMzZvFPTye_Q",
        "colab_type": "code",
        "outputId": "36d96291-8b78-4edd-f679-067f81b6bbd6",
        "colab": {
          "base_uri": "https://localhost:8080/",
          "height": 102
        }
      },
      "source": [
        "exam_data  = {'name': ['Anastasia', 'Dima', 'Katherine', 'James', 'Emily', 'Michael', 'Matthew', 'Laura', 'Kevin', 'Jonas'],\n",
        "        'score': [12.5, 9, 16.5, np.nan, 9, 20, 14.5, np.nan, 8, 19],\n",
        "        'attempts': [1, 3, 2, 3, 2, 3, 1, 1, 2, 1],\n",
        "        'qualify': ['yes', 'no', 'yes', 'no', 'no', 'yes', 'yes', 'no', 'no', 'yes']}\n",
        "labels = ['a', 'b', 'c', 'd', 'e', 'f', 'g', 'h', 'i', 'j']\n",
        "df = pd.DataFrame(exam_data, index = labels)\n",
        "print(\"First three rows of the data frame:\")\n",
        "print(df.iloc[:3])"
      ],
      "execution_count": 0,
      "outputs": [
        {
          "output_type": "stream",
          "text": [
            "First three rows of the data frame:\n",
            "        name  score  attempts qualify\n",
            "a  Anastasia   12.5         1     yes\n",
            "b       Dima    9.0         3      no\n",
            "c  Katherine   16.5         2     yes\n"
          ],
          "name": "stdout"
        }
      ]
    },
    {
      "cell_type": "markdown",
      "metadata": {
        "id": "mzAPJSRKy4zv",
        "colab_type": "text"
      },
      "source": [
        "**5, Viết chương trình Pandas để chọn các cột 'tên' và 'điểm' từ DataFrame sau.**\n",
        "\n",
        "**Write a Pandas program to select the 'name' and 'score' columns from the following DataFrame.**\n"
      ]
    },
    {
      "cell_type": "code",
      "metadata": {
        "id": "2Ksmp393y08A",
        "colab_type": "code",
        "outputId": "75b02ec0-c4c1-4aca-f165-8a7993b535ab",
        "colab": {
          "base_uri": "https://localhost:8080/",
          "height": 221
        }
      },
      "source": [
        "exam_data  = {'name': ['Anastasia', 'Dima', 'Katherine', 'James', 'Emily', 'Michael', 'Matthew', 'Laura', 'Kevin', 'Jonas'],\n",
        "        'score': [12.5, 9, 16.5, np.nan, 9, 20, 14.5, np.nan, 8, 19],\n",
        "        'attempts': [1, 3, 2, 3, 2, 3, 1, 1, 2, 1],\n",
        "        'qualify': ['yes', 'no', 'yes', 'no', 'no', 'yes', 'yes', 'no', 'no', 'yes']}\n",
        "labels = ['a', 'b', 'c', 'd', 'e', 'f', 'g', 'h', 'i', 'j']\n",
        "df = pd.DataFrame(exam_data, index = labels)\n",
        "print(\"Select specific columns:\")\n",
        "print(df[['name', 'score']])"
      ],
      "execution_count": 0,
      "outputs": [
        {
          "output_type": "stream",
          "text": [
            "Select specific columns:\n",
            "        name  score\n",
            "a  Anastasia   12.5\n",
            "b       Dima    9.0\n",
            "c  Katherine   16.5\n",
            "d      James    NaN\n",
            "e      Emily    9.0\n",
            "f    Michael   20.0\n",
            "g    Matthew   14.5\n",
            "h      Laura    NaN\n",
            "i      Kevin    8.0\n",
            "j      Jonas   19.0\n"
          ],
          "name": "stdout"
        }
      ]
    },
    {
      "cell_type": "markdown",
      "metadata": {
        "id": "DzEsanadzWNG",
        "colab_type": "text"
      },
      "source": [
        "**6, Viết chương trình Pandas để chọn các cột và hàng được chỉ định từ DataFrame đã cho.\n",
        "Chọn các cột 'name' và 'points' trong các hàng 1, 3, 5, 6 từ khung dữ liệu sau.**\n",
        "\n",
        "**Write a Pandas program to select the specified columns and rows from a given DataFrame.\n",
        "Select 'name' and 'score' columns in rows 1, 3, 5, 6 from the following data frame.**"
      ]
    },
    {
      "cell_type": "code",
      "metadata": {
        "id": "dNn0ll1ezGwZ",
        "colab_type": "code",
        "outputId": "65ddd483-c777-4af4-de96-f590c3f3ad40",
        "colab": {
          "base_uri": "https://localhost:8080/",
          "height": 119
        }
      },
      "source": [
        "exam_data  = {'name': ['Anastasia', 'Dima', 'Katherine', 'James', 'Emily', 'Michael', 'Matthew', 'Laura', 'Kevin', 'Jonas'],\n",
        "        'score': [12.5, 9, 16.5, np.nan, 9, 20, 14.5, np.nan, 8, 19],\n",
        "        'attempts': [1, 3, 2, 3, 2, 3, 1, 1, 2, 1],\n",
        "        'qualify': ['yes', 'no', 'yes', 'no', 'no', 'yes', 'yes', 'no', 'no', 'yes']}\n",
        "labels = ['a', 'b', 'c', 'd', 'e', 'f', 'g', 'h', 'i', 'j']\n",
        "df = pd.DataFrame(exam_data, index=labels)\n",
        "print(\"Select specific columns and rows:\")\n",
        "print(df.iloc[[1,3,5,6], [1,3]])"
      ],
      "execution_count": 0,
      "outputs": [
        {
          "output_type": "stream",
          "text": [
            "Select specific columns and rows:\n",
            "   score qualify\n",
            "b    9.0      no\n",
            "d    NaN      no\n",
            "f   20.0     yes\n",
            "g   14.5     yes\n"
          ],
          "name": "stdout"
        }
      ]
    },
    {
      "cell_type": "markdown",
      "metadata": {
        "id": "kU91ZeNizvA2",
        "colab_type": "text"
      },
      "source": [
        "**7, Viết chương trình Pandas để chọn các hàng trong đó số lần thử trong bài kiểm tra lớn hơn 2.**\n",
        "\n",
        "**Write a Pandas program to select the rows where the number of attempts in the examination is greater than 2.**\n"
      ]
    },
    {
      "cell_type": "code",
      "metadata": {
        "id": "V3XdkYhVzmig",
        "colab_type": "code",
        "outputId": "6e4df24b-4d5b-4955-ff6b-28926a69a13b",
        "colab": {
          "base_uri": "https://localhost:8080/",
          "height": 102
        }
      },
      "source": [
        "exam_data  = {'name': ['Anastasia', 'Dima', 'Katherine', 'James', 'Emily', 'Michael', 'Matthew', 'Laura', 'Kevin', 'Jonas'],\n",
        "        'score': [12.5, 9, 16.5, np.nan, 9, 20, 14.5, np.nan, 8, 19],\n",
        "        'attempts' : [1, 3, 2, 3, 2, 3, 1, 1, 2, 1],\n",
        "        'qualify': ['yes', 'no', 'yes', 'no', 'no', 'yes', 'yes', 'no', 'no', 'yes']}\n",
        "labels = ['a', 'b', 'c', 'd', 'e', 'f', 'g', 'h', 'i', 'j']\n",
        "df = pd.DataFrame(exam_data, index=labels)\n",
        "print(\"Number of attempts in the examination is greater than 2:\")\n",
        "print(df[df['attempts']> 2])"
      ],
      "execution_count": 0,
      "outputs": [
        {
          "output_type": "stream",
          "text": [
            "Number of attempts in the examination is greater than 2:\n",
            "      name  score  attempts qualify\n",
            "b     Dima    9.0         3      no\n",
            "d    James    NaN         3      no\n",
            "f  Michael   20.0         3     yes\n"
          ],
          "name": "stdout"
        }
      ]
    },
    {
      "cell_type": "markdown",
      "metadata": {
        "id": "-ngWirsi0Fju",
        "colab_type": "text"
      },
      "source": [
        "**8, Viết chương trình Pandas để đếm số lượng hàng và cột của DataFrame.**\n",
        "\n",
        "**Write a Pandas program to count the number of rows and columns of a DataFrame.**\n"
      ]
    },
    {
      "cell_type": "code",
      "metadata": {
        "id": "MvdKbyQyz99A",
        "colab_type": "code",
        "outputId": "f442be8a-53b1-49fa-a822-094387ffe079",
        "colab": {
          "base_uri": "https://localhost:8080/",
          "height": 51
        }
      },
      "source": [
        "exam_data  = {'name': ['Anastasia', 'Dima', 'Katherine', 'James', 'Emily', 'Michael', 'Matthew', 'Laura', 'Kevin', 'Jonas'],\n",
        "        'score': [12.5, 9, 16.5, np.nan, 9, 20, 14.5, np.nan, 8, 19],\n",
        "        'attempts': [1, 3, 2, 3, 2, 3, 1, 1, 2, 1],\n",
        "        'qualify': ['yes', 'no', 'yes', 'no', 'no', 'yes', 'yes', 'no', 'no', 'yes']}\n",
        "labels = ['a', 'b', 'c', 'd', 'e', 'f', 'g', 'h', 'i', 'j']\n",
        "df = pd.DataFrame(exam_data, index=labels)\n",
        "total_rows = len(df.axes[0])\n",
        "total_cols = len(df.axes[1])\n",
        "print(\"Number of Rows: \"+ str(total_rows))\n",
        "print(\"Number of Columns: \" + str(total_cols))"
      ],
      "execution_count": 0,
      "outputs": [
        {
          "output_type": "stream",
          "text": [
            "Number of Rows: 10\n",
            "Number of Columns: 4\n"
          ],
          "name": "stdout"
        }
      ]
    },
    {
      "cell_type": "markdown",
      "metadata": {
        "id": "QTq0fWHU0hBm",
        "colab_type": "text"
      },
      "source": [
        "**9, Viết chương trình Pandas để chọn các hàng bị thiếu điểm, tức là NaN.**\n",
        "\n",
        "**Write a Pandas program to select the rows where the score is missing, i.e. is NaN.**\n"
      ]
    },
    {
      "cell_type": "code",
      "metadata": {
        "id": "RttKJS0i0ZaJ",
        "colab_type": "code",
        "outputId": "2bc73eba-24a3-4edb-ee75-e7bb1f8cec96",
        "colab": {
          "base_uri": "https://localhost:8080/",
          "height": 85
        }
      },
      "source": [
        "exam_data  = {'name': ['Anastasia', 'Dima', 'Katherine', 'James', 'Emily', 'Michael', 'Matthew', 'Laura', 'Kevin', 'Jonas'],\n",
        "        'score': [12.5, 9, 16.5, np.nan, 9, 20, 14.5, np.nan, 8, 19],\n",
        "        'attempts': [1, 3, 2, 3, 2, 3, 1, 1, 2, 1],\n",
        "        'qualify': ['yes', 'no', 'yes', 'no', 'no', 'yes', 'yes', 'no', 'no', 'yes']}\n",
        "labels = ['a', 'b', 'c', 'd', 'e', 'f', 'g', 'h', 'i', 'j']\n",
        "df = pd.DataFrame(exam_data, index = labels)\n",
        "print(\"Rows where score is missing:\")\n",
        "print(df[df['score'].isnull()])"
      ],
      "execution_count": 0,
      "outputs": [
        {
          "output_type": "stream",
          "text": [
            "Rows where score is missing:\n",
            "    name  score  attempts qualify\n",
            "d  James    NaN         3      no\n",
            "h  Laura    NaN         1      no\n"
          ],
          "name": "stdout"
        }
      ]
    },
    {
      "cell_type": "markdown",
      "metadata": {
        "id": "cNmuX-XH00oH",
        "colab_type": "text"
      },
      "source": [
        "**10, Viết chương trình Pandas để chọn các hàng, điểm nằm trong khoảng từ 15 đến 20 (đã bao gồm).**\n",
        "\n",
        "**Write a Pandas program to select the rows the score is between 15 and 20 (inclusive).**\n"
      ]
    },
    {
      "cell_type": "code",
      "metadata": {
        "id": "BJUFPY6S0wtJ",
        "colab_type": "code",
        "outputId": "2b874217-041a-4add-95f0-ea8e6719f91e",
        "colab": {
          "base_uri": "https://localhost:8080/",
          "height": 102
        }
      },
      "source": [
        "exam_data  = {'name': ['Anastasia', 'Dima', 'Katherine', 'James', 'Emily', 'Michael', 'Matthew', 'Laura', 'Kevin', 'Jonas'],\n",
        "        'score': [12.5, 9, 16.5, np.nan, 9, 20, 14.5, np.nan, 8, 19],\n",
        "        'attempts': [1, 3, 2, 3, 2, 3, 1, 1, 2, 1],\n",
        "        'qualify': ['yes', 'no', 'yes', 'no', 'no', 'yes', 'yes', 'no', 'no', 'yes']}\n",
        "labels = ['a', 'b', 'c', 'd', 'e', 'f', 'g', 'h', 'i', 'j']\n",
        "df = pd.DataFrame(exam_data, index = labels)\n",
        "print(\"Rows where score between 15 and 20 (inclusive):\")\n",
        "print(df[df['score'].between(15,20)])"
      ],
      "execution_count": 0,
      "outputs": [
        {
          "output_type": "stream",
          "text": [
            "Rows where score between 15 and 20 (inclusive):\n",
            "        name  score  attempts qualify\n",
            "c  Katherine   16.5         2     yes\n",
            "f    Michael   20.0         3     yes\n",
            "j      Jonas   19.0         1     yes\n"
          ],
          "name": "stdout"
        }
      ]
    },
    {
      "cell_type": "markdown",
      "metadata": {
        "id": "TJvZeMjw1WT1",
        "colab_type": "text"
      },
      "source": [
        "**11, Viết chương trình Pandas để chọn các hàng trong đó số lần thử trong bài kiểm tra ít hơn 2 và điểm lớn hơn 15.**\n",
        "\n",
        "**Write a Pandas program to select the rows where number of attempts in the examination is less than 2 and score greater than 15.**\n"
      ]
    },
    {
      "cell_type": "code",
      "metadata": {
        "id": "DcUoBvd31D7I",
        "colab_type": "code",
        "outputId": "180cfb6e-0156-48d7-8706-a7df155a5f18",
        "colab": {
          "base_uri": "https://localhost:8080/",
          "height": 68
        }
      },
      "source": [
        "exam_data  = {'name': ['Anastasia', 'Dima', 'Katherine', 'James', 'Emily', 'Michael', 'Matthew', 'Laura', 'Kevin', 'Jonas'],\n",
        "        'score': [12.5, 9, 16.5, np.nan, 9, 20, 14.5, np.nan, 8, 19],\n",
        "        'attempts': [1, 3, 2, 3, 2, 3, 1, 1, 2, 1],\n",
        "        'qualify': ['yes', 'no', 'yes', 'no', 'no', 'yes', 'yes', 'no', 'no', 'yes']}\n",
        "labels = ['a', 'b', 'c', 'd', 'e', 'f', 'g', 'h', 'i', 'j']\n",
        "df = pd.DataFrame(exam_data, index=labels)\n",
        "print(\"Number of attemps in the examination is less than 2 and score greater than 15:\")\n",
        "print(df[(df['attempts'] < 2) & (df['score'] > 15)])\n",
        "\n"
      ],
      "execution_count": 0,
      "outputs": [
        {
          "output_type": "stream",
          "text": [
            "Number of attemps in the examination is less than 2 and score greater than 15:\n",
            "    name  score  attempts qualify\n",
            "j  Jonas   19.0         1     yes\n"
          ],
          "name": "stdout"
        }
      ]
    },
    {
      "cell_type": "markdown",
      "metadata": {
        "id": "JP2jkuKM2GYP",
        "colab_type": "text"
      },
      "source": [
        "**12, Viết chương trình Pandas để thay đổi điểm số trong hàng 'd' thành 11,5.**\n",
        "\n",
        "**Write a Pandas program to change the score in row 'd' to 11.5.**\n"
      ]
    },
    {
      "cell_type": "code",
      "metadata": {
        "id": "Vmy-Ea-i1saM",
        "colab_type": "code",
        "outputId": "77c6c9ea-98d7-459e-9a39-90a8c97bccd6",
        "colab": {
          "base_uri": "https://localhost:8080/",
          "height": 459
        }
      },
      "source": [
        "exam_data  = {'name': ['Anastasia', 'Dima', 'Katherine', 'James', 'Emily', 'Michael', 'Matthew', 'Laura', 'Kevin', 'Jonas'],\n",
        "        'score': [12.5, 9, 16.5, np.nan, 9, 20, 14.5, np.nan, 8, 19],\n",
        "        'attempts': [1, 3, 2, 3, 2, 3, 1, 1, 2, 1],\n",
        "        'qualify': ['yes', 'no', 'yes', 'no', 'no', 'yes', 'yes', 'no', 'no', 'yes']}\n",
        "labels = ['a', 'b', 'c', 'd', 'e', 'f', 'g', 'h', 'i', 'j']\n",
        "df = pd.DataFrame(exam_data, index=labels)\n",
        "print(\"\\nOriginal data frame:\")\n",
        "print(df)\n",
        "print(\"\\nChange the score in row 'd' to 11.5: \")\n",
        "df.loc['d', 'score'] = 11.5\n",
        "print(df)"
      ],
      "execution_count": 0,
      "outputs": [
        {
          "output_type": "stream",
          "text": [
            "\n",
            "Original data frame:\n",
            "        name  score  attempts qualify\n",
            "a  Anastasia   12.5         1     yes\n",
            "b       Dima    9.0         3      no\n",
            "c  Katherine   16.5         2     yes\n",
            "d      James    NaN         3      no\n",
            "e      Emily    9.0         2      no\n",
            "f    Michael   20.0         3     yes\n",
            "g    Matthew   14.5         1     yes\n",
            "h      Laura    NaN         1      no\n",
            "i      Kevin    8.0         2      no\n",
            "j      Jonas   19.0         1     yes\n",
            "\n",
            "Change the score in row 'd' to 11.5: \n",
            "        name  score  attempts qualify\n",
            "a  Anastasia   12.5         1     yes\n",
            "b       Dima    9.0         3      no\n",
            "c  Katherine   16.5         2     yes\n",
            "d      James   11.5         3      no\n",
            "e      Emily    9.0         2      no\n",
            "f    Michael   20.0         3     yes\n",
            "g    Matthew   14.5         1     yes\n",
            "h      Laura    NaN         1      no\n",
            "i      Kevin    8.0         2      no\n",
            "j      Jonas   19.0         1     yes\n"
          ],
          "name": "stdout"
        }
      ]
    },
    {
      "cell_type": "markdown",
      "metadata": {
        "id": "w2Fj1gCP2iT2",
        "colab_type": "text"
      },
      "source": [
        "**13, Viết chương trình Pandas để tính tổng số lần thi của học sinh.**\n",
        "\n",
        "**Write a Pandas program to calculate the sum of the examination attempts by the students.**\n"
      ]
    },
    {
      "cell_type": "code",
      "metadata": {
        "id": "UcCbeJ-12aVB",
        "colab_type": "code",
        "outputId": "00ee0c34-f9a1-4c14-8212-3827d5fc0ab4",
        "colab": {
          "base_uri": "https://localhost:8080/",
          "height": 68
        }
      },
      "source": [
        "exam_data  = {'name': ['Anastasia', 'Dima', 'Katherine', 'James', 'Emily', 'Michael', 'Matthew', 'Laura', 'Kevin', 'Jonas'],\n",
        "        'score': [12.5, 9, 16.5, np.nan, 9, 20, 14.5, np.nan, 8, 19],\n",
        "        'attempts': [1, 3, 2, 3, 2, 3, 1, 1, 2, 1],\n",
        "        'qualify': ['yes', 'no', 'yes', 'no', 'no', 'yes', 'yes', 'no', 'no', 'yes']}\n",
        "labels = ['a', 'b', 'c', 'd', 'e', 'f', 'g', 'h', 'i', 'j']\n",
        "df = pd.DataFrame(exam_data, index=labels)\n",
        "print(\"\\nSum of the examination attempts by the students: \")\n",
        "print(df['attempts'].sum())"
      ],
      "execution_count": 0,
      "outputs": [
        {
          "output_type": "stream",
          "text": [
            "\n",
            "Sum of the examination attempts by the students: \n",
            "19\n"
          ],
          "name": "stdout"
        }
      ]
    },
    {
      "cell_type": "markdown",
      "metadata": {
        "id": "XggJQuZr20MI",
        "colab_type": "text"
      },
      "source": [
        "**14, Viết chương trình Pandas để tính điểm trung bình cho từng học sinh khác nhau trong khung dữ liệu.**\n",
        "\n",
        "**Write a Pandas program to calculate the mean score for each different student in data frame.**\n"
      ]
    },
    {
      "cell_type": "code",
      "metadata": {
        "id": "DWz9RZq62uXx",
        "colab_type": "code",
        "outputId": "73f79873-1ce0-4e44-c291-a40a2d136a0c",
        "colab": {
          "base_uri": "https://localhost:8080/",
          "height": 68
        }
      },
      "source": [
        "exam_data  = {'name': ['Anastasia', 'Dima', 'Katherine', 'James', 'Emily', 'Michael', 'Matthew', 'Laura', 'Kevin', 'Jonas'],\n",
        "        'score': [12.5, 9, 16.5, np.nan, 9, 20, 14.5, np.nan, 8, 19],\n",
        "        'attempts': [1, 3, 2, 3, 2, 3, 1, 1, 2, 1],\n",
        "        'qualify': ['yes', 'no', 'yes', 'no', 'no', 'yes', 'yes', 'no', 'no', 'yes']}\n",
        "labels = ['a', 'b', 'c', 'd', 'e', 'f', 'g', 'h', 'i', 'j']\n",
        "\n",
        "df = pd.DataFrame(exam_data , index=labels)\n",
        "print(\"\\nMean score for each different student in data frame:\")\n",
        "print(df['score'].mean())"
      ],
      "execution_count": 0,
      "outputs": [
        {
          "output_type": "stream",
          "text": [
            "\n",
            "Mean score for each different student in data frame:\n",
            "13.5625\n"
          ],
          "name": "stdout"
        }
      ]
    },
    {
      "cell_type": "markdown",
      "metadata": {
        "id": "A_E4_VZi3AsG",
        "colab_type": "text"
      },
      "source": [
        "**15, Viết chương trình Pandas để nối một hàng mới 'k' vào DataFrame với các giá trị đã cho cho mỗi cột. Bây giờ xóa hàng mới và trả lại khung dữ liệu gốc.**\n",
        "\n",
        "**Write a Pandas program to append a new row 'k' to DataFrame with given values for each column. Now delete the new row and return the original data frame.**\n"
      ]
    },
    {
      "cell_type": "code",
      "metadata": {
        "id": "MxkZPX6v26tI",
        "colab_type": "code",
        "outputId": "89068b98-b009-40d1-c2f4-ce5c311dfc86",
        "colab": {
          "base_uri": "https://localhost:8080/",
          "height": 697
        }
      },
      "source": [
        "exam_data  = {'name': ['Anastasia', 'Dima', 'Katherine', 'James', 'Emily', 'Michael', 'Matthew', 'Laura', 'Kevin', 'Jonas'],\n",
        "        'score': [12.5, 9, 16.5, np.nan, 9, 20, 14.5, np.nan, 8, 19],\n",
        "        'attempts': [1, 3, 2, 3, 2, 3, 1, 1, 2, 1],\n",
        "        'qualify': ['yes', 'no', 'yes', 'no', 'no', 'yes', 'yes', 'no', 'no', 'yes']}\n",
        "labels = ['a', 'b', 'c', 'd', 'e', 'f', 'g', 'h', 'i', 'j']\n",
        "df = pd.DataFrame(exam_data , index=labels)\n",
        "print(\"Orginal rows:\")\n",
        "print(df)\n",
        "print(\"\\nAppend a new row:\")\n",
        "df.loc['k'] = [1, 'Suresh', 'yes', 15.5]\n",
        "print(\"Print all records after insert a new record:\")\n",
        "print(df)\n",
        "print(\"\\nDelete the new row and display the originals row\")\n",
        "df = df.drop('k')\n",
        "print(df)"
      ],
      "execution_count": 0,
      "outputs": [
        {
          "output_type": "stream",
          "text": [
            "Orginal rows:\n",
            "        name  score  attempts qualify\n",
            "a  Anastasia   12.5         1     yes\n",
            "b       Dima    9.0         3      no\n",
            "c  Katherine   16.5         2     yes\n",
            "d      James    NaN         3      no\n",
            "e      Emily    9.0         2      no\n",
            "f    Michael   20.0         3     yes\n",
            "g    Matthew   14.5         1     yes\n",
            "h      Laura    NaN         1      no\n",
            "i      Kevin    8.0         2      no\n",
            "j      Jonas   19.0         1     yes\n",
            "\n",
            "Append a new row:\n",
            "Print all records after insert a new record:\n",
            "        name   score attempts qualify\n",
            "a  Anastasia    12.5        1     yes\n",
            "b       Dima       9        3      no\n",
            "c  Katherine    16.5        2     yes\n",
            "d      James     NaN        3      no\n",
            "e      Emily       9        2      no\n",
            "f    Michael      20        3     yes\n",
            "g    Matthew    14.5        1     yes\n",
            "h      Laura     NaN        1      no\n",
            "i      Kevin       8        2      no\n",
            "j      Jonas      19        1     yes\n",
            "k          1  Suresh      yes    15.5\n",
            "\n",
            "Delete the new row and display the originals row\n",
            "        name score attempts qualify\n",
            "a  Anastasia  12.5        1     yes\n",
            "b       Dima     9        3      no\n",
            "c  Katherine  16.5        2     yes\n",
            "d      James   NaN        3      no\n",
            "e      Emily     9        2      no\n",
            "f    Michael    20        3     yes\n",
            "g    Matthew  14.5        1     yes\n",
            "h      Laura   NaN        1      no\n",
            "i      Kevin     8        2      no\n",
            "j      Jonas    19        1     yes\n"
          ],
          "name": "stdout"
        }
      ]
    },
    {
      "cell_type": "markdown",
      "metadata": {
        "id": "xU8oc3CF3rfe",
        "colab_type": "text"
      },
      "source": [
        "**16, Viết chương trình Pandas để sắp xếp khung dữ liệu trước theo 'tên' theo thứ tự giảm dần, sau đó theo 'điểm' theo thứ tự tăng dần.**\n",
        "\n",
        "**Write a Pandas program to sort the data frame first by 'name' in descending order, then by 'score' in ascending order.**\n"
      ]
    },
    {
      "cell_type": "code",
      "metadata": {
        "id": "e-lkkzWS3kbk",
        "colab_type": "code",
        "outputId": "bb371d5b-1a8e-41a1-af73-536b55f4c475",
        "colab": {
          "base_uri": "https://localhost:8080/",
          "height": 425
        }
      },
      "source": [
        "exam_data  = {'name': ['Anastasia', 'Dima', 'Katherine', 'James', 'Emily', 'Michael', 'Matthew', 'Laura', 'Kevin', 'Jonas'],\n",
        "        'score': [12.5, 9, 16.5, np.nan, 9, 20, 14.5, np.nan, 8, 19],\n",
        "        'attempts': [1, 3, 2, 3, 2, 3, 1, 1, 2, 1],\n",
        "        'qualify': ['yes', 'no', 'yes', 'no', 'no', 'yes', 'yes', 'no', 'no', 'yes']}\n",
        "labels = ['a', 'b', 'c', 'd', 'e', 'f', 'g', 'h', 'i', 'j']\n",
        "df = pd.DataFrame(exam_data , index=labels)\n",
        "print(\"Orginal rows:\")\n",
        "print(df)\n",
        "result_sort = df.sort_values(by=['name', 'score'], ascending=[True, True])\n",
        "print(\"Sort the data frame first by ‘name’ in descending order, then by ‘score’ in ascending order:\")\n",
        "print(result_sort)"
      ],
      "execution_count": 0,
      "outputs": [
        {
          "output_type": "stream",
          "text": [
            "Orginal rows:\n",
            "        name  score  attempts qualify\n",
            "a  Anastasia   12.5         1     yes\n",
            "b       Dima    9.0         3      no\n",
            "c  Katherine   16.5         2     yes\n",
            "d      James    NaN         3      no\n",
            "e      Emily    9.0         2      no\n",
            "f    Michael   20.0         3     yes\n",
            "g    Matthew   14.5         1     yes\n",
            "h      Laura    NaN         1      no\n",
            "i      Kevin    8.0         2      no\n",
            "j      Jonas   19.0         1     yes\n",
            "Sort the data frame first by ‘name’ in descending order, then by ‘score’ in ascending order:\n",
            "        name  score  attempts qualify\n",
            "a  Anastasia   12.5         1     yes\n",
            "b       Dima    9.0         3      no\n",
            "e      Emily    9.0         2      no\n",
            "d      James    NaN         3      no\n",
            "j      Jonas   19.0         1     yes\n",
            "c  Katherine   16.5         2     yes\n",
            "i      Kevin    8.0         2      no\n",
            "h      Laura    NaN         1      no\n",
            "g    Matthew   14.5         1     yes\n",
            "f    Michael   20.0         3     yes\n"
          ],
          "name": "stdout"
        }
      ]
    },
    {
      "cell_type": "markdown",
      "metadata": {
        "id": "Aplrl0dl4EwY",
        "colab_type": "text"
      },
      "source": [
        "**17, Viết chương trình Pandas để thay thế cột 'đủ điều kiện' chứa các giá trị 'có' và 'không' bằng Đúng và Sai.**\n",
        "\n",
        "**Write a Pandas program to replace the ‘qualify' column contains the values 'yes' and 'no' with True and False.**\n"
      ]
    },
    {
      "cell_type": "code",
      "metadata": {
        "id": "_vODOQYd37pJ",
        "colab_type": "code",
        "outputId": "630a9d9a-dabe-491b-b987-3f2ed2011dc3",
        "colab": {
          "base_uri": "https://localhost:8080/",
          "height": 442
        }
      },
      "source": [
        "exam_data  = {'name': ['Anastasia', 'Dima', 'Katherine', 'James', 'Emily', 'Michael', 'Matthew', 'Laura', 'Kevin', 'Jonas'],\n",
        "        'score': [12.5, 9, 16.5, np.nan, 9, 20, 14.5, np.nan, 8, 19],\n",
        "        'attempts': [1, 3, 2, 3, 2, 3, 1, 1, 2, 1],\n",
        "        'qualify': ['yes', 'no', 'yes', 'no', 'no', 'yes', 'yes', 'no', 'no', 'yes']}\n",
        "labels = ['a', 'b', 'c', 'd', 'e', 'f', 'g', 'h', 'i', 'j']\n",
        "df = pd.DataFrame(exam_data , index=labels)\n",
        "print(\"Orginal rows:\")\n",
        "print(df)\n",
        "print(\"\\nReplace the ‘qualify' column contains the values 'yes' and 'no'  with True and  False:\")\n",
        "df['qualify'] = df['qualify'].map({'yes':True,'no':False})\n",
        "print(df)"
      ],
      "execution_count": 0,
      "outputs": [
        {
          "output_type": "stream",
          "text": [
            "Orginal rows:\n",
            "        name  score  attempts qualify\n",
            "a  Anastasia   12.5         1     yes\n",
            "b       Dima    9.0         3      no\n",
            "c  Katherine   16.5         2     yes\n",
            "d      James    NaN         3      no\n",
            "e      Emily    9.0         2      no\n",
            "f    Michael   20.0         3     yes\n",
            "g    Matthew   14.5         1     yes\n",
            "h      Laura    NaN         1      no\n",
            "i      Kevin    8.0         2      no\n",
            "j      Jonas   19.0         1     yes\n",
            "\n",
            "Replace the ‘qualify' column contains the values 'yes' and 'no'  with True and  False:\n",
            "        name  score  attempts  qualify\n",
            "a  Anastasia   12.5         1     True\n",
            "b       Dima    9.0         3    False\n",
            "c  Katherine   16.5         2     True\n",
            "d      James    NaN         3    False\n",
            "e      Emily    9.0         2    False\n",
            "f    Michael   20.0         3     True\n",
            "g    Matthew   14.5         1     True\n",
            "h      Laura    NaN         1    False\n",
            "i      Kevin    8.0         2    False\n",
            "j      Jonas   19.0         1     True\n"
          ],
          "name": "stdout"
        }
      ]
    },
    {
      "cell_type": "markdown",
      "metadata": {
        "id": "VJnmjOe-4g1_",
        "colab_type": "text"
      },
      "source": [
        "**18, Viết chương trình Pandas để thay đổi tên 'James' thành 'Suresh' trong cột tên của khung dữ liệu.**\n",
        "\n",
        "**Write a Pandas program to change the name 'James' to 'Suresh' in name column of the data frame.**\n"
      ]
    },
    {
      "cell_type": "code",
      "metadata": {
        "id": "b8x-gtRO4cXp",
        "colab_type": "code",
        "outputId": "4ea540db-3e91-4c08-ef34-202987a1323f",
        "colab": {
          "base_uri": "https://localhost:8080/",
          "height": 442
        }
      },
      "source": [
        "exam_data  = {'name': ['Anastasia', 'Dima', 'Katherine', 'James', 'Emily', 'Michael', 'Matthew', 'Laura', 'Kevin', 'Jonas'],\n",
        "        'score': [12.5, 9, 16.5, np.nan, 9, 20, 14.5, np.nan, 8, 19],\n",
        "        'attempts': [1, 3, 2, 3, 2, 3, 1, 1, 2, 1],\n",
        "        'qualify': ['yes', 'no', 'yes', 'no', 'no', 'yes', 'yes', 'no', 'no', 'yes']}\n",
        "labels = ['a', 'b', 'c', 'd', 'e', 'f', 'g', 'h', 'i', 'j']\n",
        "df = pd.DataFrame(exam_data , index=labels)\n",
        "print(\"Orginal rows:\")\n",
        "print(df)\n",
        "print(\"\\nChange the name 'James' to ‘Suresh’:\")\n",
        "df['name'] = df['name'].replace('James', 'Suresh')\n",
        "print(df)"
      ],
      "execution_count": 0,
      "outputs": [
        {
          "output_type": "stream",
          "text": [
            "Orginal rows:\n",
            "        name  score  attempts qualify\n",
            "a  Anastasia   12.5         1     yes\n",
            "b       Dima    9.0         3      no\n",
            "c  Katherine   16.5         2     yes\n",
            "d      James    NaN         3      no\n",
            "e      Emily    9.0         2      no\n",
            "f    Michael   20.0         3     yes\n",
            "g    Matthew   14.5         1     yes\n",
            "h      Laura    NaN         1      no\n",
            "i      Kevin    8.0         2      no\n",
            "j      Jonas   19.0         1     yes\n",
            "\n",
            "Change the name 'James' to ‘Suresh’:\n",
            "        name  score  attempts qualify\n",
            "a  Anastasia   12.5         1     yes\n",
            "b       Dima    9.0         3      no\n",
            "c  Katherine   16.5         2     yes\n",
            "d     Suresh    NaN         3      no\n",
            "e      Emily    9.0         2      no\n",
            "f    Michael   20.0         3     yes\n",
            "g    Matthew   14.5         1     yes\n",
            "h      Laura    NaN         1      no\n",
            "i      Kevin    8.0         2      no\n",
            "j      Jonas   19.0         1     yes\n"
          ],
          "name": "stdout"
        }
      ]
    },
    {
      "cell_type": "markdown",
      "metadata": {
        "id": "khbc3QWj4vZW",
        "colab_type": "text"
      },
      "source": [
        "**19, Viết chương trình Pandas để xóa cột 'nỗ lực' khỏi DataFrame.**\n",
        "\n",
        "**Write a Pandas program to delete the 'attempts' column from the DataFrame.**\n"
      ]
    },
    {
      "cell_type": "code",
      "metadata": {
        "id": "IERpKcNM4qPx",
        "colab_type": "code",
        "outputId": "6d278f5f-4f80-42fc-c3e9-9ca4a83c0a86",
        "colab": {
          "base_uri": "https://localhost:8080/",
          "height": 442
        }
      },
      "source": [
        "exam_data  = {'name': ['Anastasia', 'Dima', 'Katherine', 'James', 'Emily', 'Michael', 'Matthew', 'Laura', 'Kevin', 'Jonas'],\n",
        "        'score': [12.5, 9, 16.5, np.nan, 9, 20, 14.5, np.nan, 8, 19],\n",
        "        'attempts': [1, 3, 2, 3, 2, 3, 1, 1, 2, 1],\n",
        "        'qualify': ['yes', 'no', 'yes', 'no', 'no', 'yes', 'yes', 'no', 'no', 'yes']}\n",
        "labels = ['a', 'b', 'c', 'd', 'e', 'f', 'g', 'h', 'i', 'j']\n",
        "df = pd.DataFrame(exam_data , index=labels)\n",
        "print(\"Orginal rows:\")\n",
        "print(df)\n",
        "print(\"\\nDelete the 'attempts' column from the data frame:\")\n",
        "df.pop('attempts')\n",
        "print(df)"
      ],
      "execution_count": 0,
      "outputs": [
        {
          "output_type": "stream",
          "text": [
            "Orginal rows:\n",
            "        name  score  attempts qualify\n",
            "a  Anastasia   12.5         1     yes\n",
            "b       Dima    9.0         3      no\n",
            "c  Katherine   16.5         2     yes\n",
            "d      James    NaN         3      no\n",
            "e      Emily    9.0         2      no\n",
            "f    Michael   20.0         3     yes\n",
            "g    Matthew   14.5         1     yes\n",
            "h      Laura    NaN         1      no\n",
            "i      Kevin    8.0         2      no\n",
            "j      Jonas   19.0         1     yes\n",
            "\n",
            "Delete the 'attempts' column from the data frame:\n",
            "        name  score qualify\n",
            "a  Anastasia   12.5     yes\n",
            "b       Dima    9.0      no\n",
            "c  Katherine   16.5     yes\n",
            "d      James    NaN      no\n",
            "e      Emily    9.0      no\n",
            "f    Michael   20.0     yes\n",
            "g    Matthew   14.5     yes\n",
            "h      Laura    NaN      no\n",
            "i      Kevin    8.0      no\n",
            "j      Jonas   19.0     yes\n"
          ],
          "name": "stdout"
        }
      ]
    },
    {
      "cell_type": "markdown",
      "metadata": {
        "id": "Q_FrBdc1490E",
        "colab_type": "text"
      },
      "source": [
        "**20, Viết chương trình Pandas để chèn một cột mới trong DataFrame hiện có.**\n",
        "\n",
        "**Write a Pandas program to insert a new column in existing DataFrame.**\n"
      ]
    },
    {
      "cell_type": "code",
      "metadata": {
        "id": "Qc0SIOxq418I",
        "colab_type": "code",
        "outputId": "36c8c003-0d9e-4af3-ed99-9748822c610e",
        "colab": {
          "base_uri": "https://localhost:8080/",
          "height": 442
        }
      },
      "source": [
        "exam_data  = {'name': ['Anastasia', 'Dima', 'Katherine', 'James', 'Emily', 'Michael', 'Matthew', 'Laura', 'Kevin', 'Jonas'],\n",
        "        'score': [12.5, 9, 16.5, np.nan, 9, 20, 14.5, np.nan, 8, 19],\n",
        "        'attempts': [1, 3, 2, 3, 2, 3, 1, 1, 2, 1],\n",
        "        'qualify': ['yes', 'no', 'yes', 'no', 'no', 'yes', 'yes', 'no', 'no', 'yes']}\n",
        "labels = ['a', 'b', 'c', 'd', 'e', 'f', 'g', 'h', 'i', 'j']\n",
        "df = pd.DataFrame(exam_data , index=labels)\n",
        "print(\"Orginal rows:\")\n",
        "print(df)\n",
        "color = ['Red','Blue','Orange','Red','White','White','Blue','Green','Green','Red']\n",
        "df['color'] = color \n",
        "print(\"\\nNew DataFrame after inserting the 'color' column\")\n",
        "print(df)"
      ],
      "execution_count": 0,
      "outputs": [
        {
          "output_type": "stream",
          "text": [
            "Orginal rows:\n",
            "        name  score  attempts qualify\n",
            "a  Anastasia   12.5         1     yes\n",
            "b       Dima    9.0         3      no\n",
            "c  Katherine   16.5         2     yes\n",
            "d      James    NaN         3      no\n",
            "e      Emily    9.0         2      no\n",
            "f    Michael   20.0         3     yes\n",
            "g    Matthew   14.5         1     yes\n",
            "h      Laura    NaN         1      no\n",
            "i      Kevin    8.0         2      no\n",
            "j      Jonas   19.0         1     yes\n",
            "\n",
            "New DataFrame after inserting the 'color' column\n",
            "        name  score  attempts qualify   color\n",
            "a  Anastasia   12.5         1     yes     Red\n",
            "b       Dima    9.0         3      no    Blue\n",
            "c  Katherine   16.5         2     yes  Orange\n",
            "d      James    NaN         3      no     Red\n",
            "e      Emily    9.0         2      no   White\n",
            "f    Michael   20.0         3     yes   White\n",
            "g    Matthew   14.5         1     yes    Blue\n",
            "h      Laura    NaN         1      no   Green\n",
            "i      Kevin    8.0         2      no   Green\n",
            "j      Jonas   19.0         1     yes     Red\n"
          ],
          "name": "stdout"
        }
      ]
    },
    {
      "cell_type": "markdown",
      "metadata": {
        "id": "y4Wvekia5S-0",
        "colab_type": "text"
      },
      "source": [
        "**21, Viết chương trình Pandas để lặp lại qua các hàng trong DataFrame.**\n",
        "\n",
        "**Write a Pandas program to iterate over rows in a DataFrame.**\n",
        "\n"
      ]
    },
    {
      "cell_type": "code",
      "metadata": {
        "id": "lIZWLUyY5OR4",
        "colab_type": "code",
        "outputId": "48b7fb42-6106-4c68-8db0-149149acc42c",
        "colab": {
          "base_uri": "https://localhost:8080/",
          "height": 68
        }
      },
      "source": [
        "exam_data = [{'name':'Anastasia', 'score':12.5}, {'name':'Dima','score':9}, {'name':'Katherine','score':16.5}]\n",
        "df = pd.DataFrame(exam_data)\n",
        "for index, row in df.iterrows():\n",
        "  print(row['name'], row['score'])"
      ],
      "execution_count": 0,
      "outputs": [
        {
          "output_type": "stream",
          "text": [
            "Anastasia 12.5\n",
            "Dima 9.0\n",
            "Katherine 16.5\n"
          ],
          "name": "stdout"
        }
      ]
    },
    {
      "cell_type": "markdown",
      "metadata": {
        "id": "3XBGpLND5qcp",
        "colab_type": "text"
      },
      "source": [
        "**22, Viết chương trình Pandas để lấy danh sách từ các tiêu đề cột DataFrame.**.\n",
        "\n",
        "**Write a Pandas program to get list from DataFrame column headers.**\n"
      ]
    },
    {
      "cell_type": "code",
      "metadata": {
        "id": "993TRxSa5fDp",
        "colab_type": "code",
        "outputId": "065fa963-70b8-430f-df7d-26ae1437eb48",
        "colab": {
          "base_uri": "https://localhost:8080/",
          "height": 34
        }
      },
      "source": [
        "exam_data  = {'name': ['Anastasia', 'Dima', 'Katherine', 'James', 'Emily', 'Michael', 'Matthew', 'Laura', 'Kevin', 'Jonas'],\n",
        "        'score': [12.5, 9, 16.5, np.nan, 9, 20, 14.5, np.nan, 8, 19],\n",
        "        'attempts': [1, 3, 2, 3, 2, 3, 1, 1, 2, 1],\n",
        "        'qualify': ['yes', 'no', 'yes', 'no', 'no', 'yes', 'yes', 'no', 'no', 'yes']}\n",
        "labels = ['a', 'b', 'c', 'd', 'e', 'f', 'g', 'h', 'i', 'j']\n",
        "df = pd.DataFrame(exam_data , index=labels)\n",
        "print(list(df.columns.values))"
      ],
      "execution_count": 0,
      "outputs": [
        {
          "output_type": "stream",
          "text": [
            "['name', 'score', 'attempts', 'qualify']\n"
          ],
          "name": "stdout"
        }
      ]
    },
    {
      "cell_type": "markdown",
      "metadata": {
        "id": "XvZbsBSS533I",
        "colab_type": "text"
      },
      "source": [
        "**23, Viết chương trình Pandas để đổi tên các cột của DataFrame đã cho.**\n",
        "\n",
        "**Write a Pandas program to rename columns of a given DataFrame.**\n"
      ]
    },
    {
      "cell_type": "code",
      "metadata": {
        "id": "BqS1V6V05xQ0",
        "colab_type": "code",
        "outputId": "f6e0fe7b-b92f-4d98-84db-8d13ee8d2a04",
        "colab": {
          "base_uri": "https://localhost:8080/",
          "height": 255
        }
      },
      "source": [
        "d = {'col1': [1, 2, 3], 'col2': [4, 5, 6], 'col3': [7, 8, 9]}\n",
        "df = pd.DataFrame(data=d)\n",
        "print(\"Original DataFrame\")\n",
        "print(df)\n",
        "df.columns = ['Column1', 'Column2', 'Column3']\n",
        "print(df)\n",
        "df = df.rename(columns={'col1': 'Column1', 'col2':'Column2', 'col3':'Column3'})\n",
        "print(\"New DataFrame after renaming columns:\")\n",
        "print(df)"
      ],
      "execution_count": 0,
      "outputs": [
        {
          "output_type": "stream",
          "text": [
            "Original DataFrame\n",
            "   col1  col2  col3\n",
            "0     1     4     7\n",
            "1     2     5     8\n",
            "2     3     6     9\n",
            "   Column1  Column2  Column3\n",
            "0        1        4        7\n",
            "1        2        5        8\n",
            "2        3        6        9\n",
            "New DataFrame after renaming columns:\n",
            "   Column1  Column2  Column3\n",
            "0        1        4        7\n",
            "1        2        5        8\n",
            "2        3        6        9\n"
          ],
          "name": "stdout"
        }
      ]
    },
    {
      "cell_type": "markdown",
      "metadata": {
        "id": "6pxsgU8D6g-f",
        "colab_type": "text"
      },
      "source": [
        "**24, Viết chương trình Pandas để chọn các hàng từ DataFrame đã cho dựa trên các giá trị trong một số cột.**\n",
        "\n",
        "**Write a Pandas program to select rows from a given DataFrame based on values in some columns.**\n"
      ]
    },
    {
      "cell_type": "code",
      "metadata": {
        "id": "QIDYo4pp6Lh5",
        "colab_type": "code",
        "outputId": "cdeed905-68c7-4d88-d11d-b50fce82031b",
        "colab": {
          "base_uri": "https://localhost:8080/",
          "height": 204
        }
      },
      "source": [
        "d = {'col1': [1, 4, 3, 4, 5], 'col2': [4, 5, 6, 7, 8], 'col3': [7, 8, 9, 0, 1]}\n",
        "df = pd.DataFrame(data=d)\n",
        "print(\"Original DataFrame\")\n",
        "print(df)\n",
        "print('Rows for colum1 value == 4')\n",
        "print(df.loc[df['col1'] == 4])"
      ],
      "execution_count": 0,
      "outputs": [
        {
          "output_type": "stream",
          "text": [
            "Original DataFrame\n",
            "   col1  col2  col3\n",
            "0     1     4     7\n",
            "1     4     5     8\n",
            "2     3     6     9\n",
            "3     4     7     0\n",
            "4     5     8     1\n",
            "Rows for colum1 value == 4\n",
            "   col1  col2  col3\n",
            "1     4     5     8\n",
            "3     4     7     0\n"
          ],
          "name": "stdout"
        }
      ]
    },
    {
      "cell_type": "markdown",
      "metadata": {
        "id": "Kg4n-jjE6zS-",
        "colab_type": "text"
      },
      "source": [
        "**25, Viết chương trình Pandas để thay đổi thứ tự của các cột DataFrame.**\n",
        "\n",
        "**Write a Pandas program to change the order of a DataFrame columns.**\n"
      ]
    },
    {
      "cell_type": "code",
      "metadata": {
        "id": "maV_56VK6tOM",
        "colab_type": "code",
        "outputId": "790dda19-a811-4771-f935-f97bd373a1f7",
        "colab": {
          "base_uri": "https://localhost:8080/",
          "height": 255
        }
      },
      "source": [
        "d = {'col1': [1, 4, 3, 4, 5], 'col2': [4, 5, 6, 7, 8], 'col3': [7, 8, 9, 0, 1]}\n",
        "df = pd.DataFrame(data=d)\n",
        "print(\"Original DataFrame\")\n",
        "print(df)\n",
        "print('After altering col1 and col3')\n",
        "df = df[['col3', 'col2', 'col1']]\n",
        "print(df)"
      ],
      "execution_count": 0,
      "outputs": [
        {
          "output_type": "stream",
          "text": [
            "Original DataFrame\n",
            "   col1  col2  col3\n",
            "0     1     4     7\n",
            "1     4     5     8\n",
            "2     3     6     9\n",
            "3     4     7     0\n",
            "4     5     8     1\n",
            "After altering col1 and col3\n",
            "   col3  col2  col1\n",
            "0     7     4     1\n",
            "1     8     5     4\n",
            "2     9     6     3\n",
            "3     0     7     4\n",
            "4     1     8     5\n"
          ],
          "name": "stdout"
        }
      ]
    },
    {
      "cell_type": "markdown",
      "metadata": {
        "id": "XGkAr0Ui7BbP",
        "colab_type": "text"
      },
      "source": [
        "**26, Viết chương trình Pandas để thêm một hàng trong DataFrame hiện có.**\n",
        "\n",
        "**Write a Pandas program to add one row in an existing DataFrame.**\n"
      ]
    },
    {
      "cell_type": "code",
      "metadata": {
        "id": "HyRz4it_67io",
        "colab_type": "code",
        "outputId": "b182ed51-be34-42af-c335-07c412094996",
        "colab": {
          "base_uri": "https://localhost:8080/",
          "height": 272
        }
      },
      "source": [
        "d = {'col1': [1, 4, 3, 4, 5], 'col2': [4, 5, 6, 7, 8], 'col3': [7, 8, 9, 0, 1]}\n",
        "df = pd.DataFrame(data=d)\n",
        "print(\"Original DataFrame\")\n",
        "print(df)\n",
        "print('After add one row:')\n",
        "df2 = {'col1':10, 'col2':11, 'col3':12}\n",
        "df = df.append(df2, ignore_index=True)\n",
        "print(df)"
      ],
      "execution_count": 0,
      "outputs": [
        {
          "output_type": "stream",
          "text": [
            "Original DataFrame\n",
            "   col1  col2  col3\n",
            "0     1     4     7\n",
            "1     4     5     8\n",
            "2     3     6     9\n",
            "3     4     7     0\n",
            "4     5     8     1\n",
            "After add one row:\n",
            "   col1  col2  col3\n",
            "0     1     4     7\n",
            "1     4     5     8\n",
            "2     3     6     9\n",
            "3     4     7     0\n",
            "4     5     8     1\n",
            "5    10    11    12\n"
          ],
          "name": "stdout"
        }
      ]
    },
    {
      "cell_type": "markdown",
      "metadata": {
        "id": "lYJa3ZHK7Ul2",
        "colab_type": "text"
      },
      "source": [
        "**27, Viết chương trình Pandas để ghi DataFrame vào tệp CSV bằng cách sử dụng dấu tách tab.**\n",
        "\n",
        "**Write a Pandas program to write a DataFrame to CSV file using tab separator.**\n"
      ]
    },
    {
      "cell_type": "code",
      "metadata": {
        "id": "x7VMMpEi7PVg",
        "colab_type": "code",
        "outputId": "a1d15ec6-d856-451d-c607-074d08770057",
        "colab": {
          "base_uri": "https://localhost:8080/",
          "height": 255
        }
      },
      "source": [
        "d = {'col1': [1, 4, 3, 4, 5], 'col2': [4, 5, 6, 7, 8], 'col3': [7, 8, 9, 0, 1]}\n",
        "df = pd.DataFrame(data=d)\n",
        "print(\"Original DataFrame\")\n",
        "print(df)\n",
        "print('Data from new_file.csv file:')\n",
        "df.to_csv('new_file.csv', sep=' ', index=False)\n",
        "new_df = pd.read_csv('new_file.csv')\n",
        "print(new_df)"
      ],
      "execution_count": 0,
      "outputs": [
        {
          "output_type": "stream",
          "text": [
            "Original DataFrame\n",
            "   col1  col2  col3\n",
            "0     1     4     7\n",
            "1     4     5     8\n",
            "2     3     6     9\n",
            "3     4     7     0\n",
            "4     5     8     1\n",
            "Data from new_file.csv file:\n",
            "  col1 col2 col3\n",
            "0          1 4 7\n",
            "1          4 5 8\n",
            "2          3 6 9\n",
            "3          4 7 0\n",
            "4          5 8 1\n"
          ],
          "name": "stdout"
        }
      ]
    },
    {
      "cell_type": "markdown",
      "metadata": {
        "id": "MRhXWiow7zqf",
        "colab_type": "text"
      },
      "source": [
        "**28, Viết chương trình Pandas để đếm số người khôn ngoan của thành phố từ một tập hợp dữ liệu nhất định (thành phố, tên của người đó).**\n",
        "\n",
        "**Write a Pandas program to count city wise number of people from a given of data set (city, name of the person).**\n"
      ]
    },
    {
      "cell_type": "code",
      "metadata": {
        "id": "d2S8xGjS7i8A",
        "colab_type": "code",
        "outputId": "3520d8ca-a3c2-49b3-8494-2bd19729ffa2",
        "colab": {
          "base_uri": "https://localhost:8080/",
          "height": 85
        }
      },
      "source": [
        "df1 = pd.DataFrame({'name': ['Anastasia', 'Dima', 'Katherine', 'James', 'Emily', 'Michael', 'Matthew', 'Laura', 'Kevin', 'Jonas'],\n",
        "'city': ['California', 'Los Angeles', 'California', 'California', 'California', 'Los Angeles', 'Los Angeles', 'Georgia', 'Georgia', 'Los Angeles']})\n",
        "g1 = df1.groupby([\"city\"]).size().reset_index(name='Number of people')\n",
        "print(g1)"
      ],
      "execution_count": 0,
      "outputs": [
        {
          "output_type": "stream",
          "text": [
            "          city  Number of people\n",
            "0   California                 4\n",
            "1      Georgia                 2\n",
            "2  Los Angeles                 4\n"
          ],
          "name": "stdout"
        }
      ]
    },
    {
      "cell_type": "markdown",
      "metadata": {
        "id": "bUGjR-9R8JbJ",
        "colab_type": "text"
      },
      "source": [
        "**29, Viết chương trình Pandas để xóa (các) hàng DataFrame dựa trên giá trị cột đã cho.**\n",
        "\n",
        "**Write a Pandas program to delete DataFrame row(s) based on given column value.**\n"
      ]
    },
    {
      "cell_type": "code",
      "metadata": {
        "id": "Dnjnt5rw8A4o",
        "colab_type": "code",
        "outputId": "e05923dd-ea04-4c88-e5a4-fcfddc176aff",
        "colab": {
          "base_uri": "https://localhost:8080/",
          "height": 238
        }
      },
      "source": [
        "d = {'col1': [1, 4, 3, 4, 5], 'col2': [4, 5, 6, 7, 8], 'col3': [7, 8, 9, 0, 1]}\n",
        "df = pd.DataFrame(data=d)\n",
        "print(\"Original DataFrame\")\n",
        "print(df)\n",
        "df = df[df.col2 != 5]\n",
        "print(\"New DataFrame\")\n",
        "print(df)"
      ],
      "execution_count": 0,
      "outputs": [
        {
          "output_type": "stream",
          "text": [
            "Original DataFrame\n",
            "   col1  col2  col3\n",
            "0     1     4     7\n",
            "1     4     5     8\n",
            "2     3     6     9\n",
            "3     4     7     0\n",
            "4     5     8     1\n",
            "New DataFrame\n",
            "   col1  col2  col3\n",
            "0     1     4     7\n",
            "2     3     6     9\n",
            "3     4     7     0\n",
            "4     5     8     1\n"
          ],
          "name": "stdout"
        }
      ]
    },
    {
      "cell_type": "markdown",
      "metadata": {
        "id": "Kt7JHjxp9XSm",
        "colab_type": "text"
      },
      "source": [
        "**30, Viết chương trình Pandas để mở rộng hiển thị đầu ra để xem nhiều cột hơn.**\n",
        "\n",
        "**Write a Pandas program to widen output display to see more columns.**\n"
      ]
    },
    {
      "cell_type": "code",
      "metadata": {
        "id": "aAvq0wCz8SjY",
        "colab_type": "code",
        "outputId": "cfedb47c-ea7c-4eeb-ebb1-38c8ef4bcd66",
        "colab": {
          "base_uri": "https://localhost:8080/",
          "height": 136
        }
      },
      "source": [
        "d = {'col1': [1, 4, 3, 4, 5], 'col2': [4, 5, 6, 7, 8], 'col3': [7, 8, 9, 0, 1]}\n",
        "df = pd.DataFrame(data=d)\n",
        "pd.set_option('display.max_rows', 500)\n",
        "pd.set_option('display.max_columns', 500)\n",
        "pd.set_option('display.width', 1000)\n",
        "print(\"Original DataFrame\")\n",
        "print(df)"
      ],
      "execution_count": 0,
      "outputs": [
        {
          "output_type": "stream",
          "text": [
            "Original DataFrame\n",
            "   col1  col2  col3\n",
            "0     1     4     7\n",
            "1     4     5     8\n",
            "2     3     6     9\n",
            "3     4     7     0\n",
            "4     5     8     1\n"
          ],
          "name": "stdout"
        }
      ]
    },
    {
      "cell_type": "markdown",
      "metadata": {
        "id": "t4-Nia1c9xWd",
        "colab_type": "text"
      },
      "source": [
        "**31, Viết chương trình Pandas để chọn một hàng chuỗi / khung dữ liệu theo chỉ số nguyên đã cho.**\n",
        "\n",
        "**Write a Pandas program to select a row of series/dataframe by given integer index.**\n"
      ]
    },
    {
      "cell_type": "code",
      "metadata": {
        "id": "ywKCXUuZ9sU-",
        "colab_type": "code",
        "outputId": "f33c8f21-d5e5-4553-a18d-8e2f169a8d4a",
        "colab": {
          "base_uri": "https://localhost:8080/",
          "height": 187
        }
      },
      "source": [
        "d = {'col1': [1, 4, 3, 4, 5], 'col2': [4, 5, 6, 7, 8], 'col3': [7, 8, 9, 0, 1]}\n",
        "df = pd.DataFrame(data=d)\n",
        "print(\"Original DataFrame\")\n",
        "print(df)\n",
        "result = df.iloc[[2]]\n",
        "print(\"Index-2: Details\")\n",
        "print(result)"
      ],
      "execution_count": 0,
      "outputs": [
        {
          "output_type": "stream",
          "text": [
            "Original DataFrame\n",
            "   col1  col2  col3\n",
            "0     1     4     7\n",
            "1     4     5     8\n",
            "2     3     6     9\n",
            "3     4     7     0\n",
            "4     5     8     1\n",
            "Index-2: Details\n",
            "   col1  col2  col3\n",
            "2     3     6     9\n"
          ],
          "name": "stdout"
        }
      ]
    },
    {
      "cell_type": "markdown",
      "metadata": {
        "id": "Dhsg99g5-Jm4",
        "colab_type": "text"
      },
      "source": [
        "**32, Viết chương trình Pandas để thay thế tất cả các giá trị NaN bằng Zero trong một cột của khung dữ liệu.**.\n",
        "\n",
        "**Write a Pandas program to replace all the NaN values with Zero's in a column of a dataframe.**\n"
      ]
    },
    {
      "cell_type": "code",
      "metadata": {
        "id": "ZAbcZWMa94ym",
        "colab_type": "code",
        "outputId": "9cc772e7-76cc-439f-f82b-a33aaed4572b",
        "colab": {
          "base_uri": "https://localhost:8080/",
          "height": 442
        }
      },
      "source": [
        "exam_data = {'name': ['Anastasia', 'Dima', 'Katherine', 'James', 'Emily', 'Michael', 'Matthew', 'Laura', 'Kevin', 'Jonas'],\n",
        "        'score': [12.5, 9, 16.5, np.nan, 9, 20, 14.5, np.nan, 8, 19],\n",
        "        'attempts': [1, 3, 2, 3, 2, 3, 1, 1, 2, 1],\n",
        "        'qualify': ['yes', 'no', 'yes', 'no', 'no', 'yes', 'yes', 'no', 'no', 'yes']}\n",
        "df = pd.DataFrame(exam_data)\n",
        "print(\"Original DataFrame\")\n",
        "print(df)\n",
        "df = df.fillna(0)\n",
        "print(\"\\nNew DataFrame replacing all NaN with 0:\")\n",
        "print(df)"
      ],
      "execution_count": 0,
      "outputs": [
        {
          "output_type": "stream",
          "text": [
            "Original DataFrame\n",
            "        name  score  attempts qualify\n",
            "0  Anastasia   12.5         1     yes\n",
            "1       Dima    9.0         3      no\n",
            "2  Katherine   16.5         2     yes\n",
            "3      James    NaN         3      no\n",
            "4      Emily    9.0         2      no\n",
            "5    Michael   20.0         3     yes\n",
            "6    Matthew   14.5         1     yes\n",
            "7      Laura    NaN         1      no\n",
            "8      Kevin    8.0         2      no\n",
            "9      Jonas   19.0         1     yes\n",
            "\n",
            "New DataFrame replacing all NaN with 0:\n",
            "        name  score  attempts qualify\n",
            "0  Anastasia   12.5         1     yes\n",
            "1       Dima    9.0         3      no\n",
            "2  Katherine   16.5         2     yes\n",
            "3      James    0.0         3      no\n",
            "4      Emily    9.0         2      no\n",
            "5    Michael   20.0         3     yes\n",
            "6    Matthew   14.5         1     yes\n",
            "7      Laura    0.0         1      no\n",
            "8      Kevin    8.0         2      no\n",
            "9      Jonas   19.0         1     yes\n"
          ],
          "name": "stdout"
        }
      ]
    },
    {
      "cell_type": "markdown",
      "metadata": {
        "id": "TmOwM-Gc-XxK",
        "colab_type": "text"
      },
      "source": [
        "**33, Viết chương trình Pandas để chuyển đổi chỉ mục trong một cột của khung dữ liệu đã cho.**\n",
        "\n",
        "**Write a Pandas program to convert index in a column of the given dataframe.**\n"
      ]
    },
    {
      "cell_type": "code",
      "metadata": {
        "id": "NmdN3Zt5-Smr",
        "colab_type": "code",
        "outputId": "589bb247-ed7c-4eef-97bc-1636d625f6b5",
        "colab": {
          "base_uri": "https://localhost:8080/",
          "height": 663
        }
      },
      "source": [
        "exam_data = {'name': ['Anastasia', 'Dima', 'Katherine', 'James', 'Emily', 'Michael', 'Matthew', 'Laura', 'Kevin', 'Jonas'],\n",
        "        'score': [12.5, 9, 16.5, np.nan, 9, 20, 14.5, np.nan, 8, 19],\n",
        "        'attempts': [1, 3, 2, 3, 2, 3, 1, 1, 2, 1],\n",
        "        'qualify': ['yes', 'no', 'yes', 'no', 'no', 'yes', 'yes', 'no', 'no', 'yes']}\n",
        "df = pd.DataFrame(exam_data)\n",
        "print(\"Original DataFrame\")\n",
        "print(df)\n",
        "print(\"\\nAfter converting index in a column:\")\n",
        "df.reset_index(level = 0, inplace=True)\n",
        "print(df)\n",
        "print(\"\\nHiding index:\")\n",
        "print(df.to_string(index=False))"
      ],
      "execution_count": 0,
      "outputs": [
        {
          "output_type": "stream",
          "text": [
            "Original DataFrame\n",
            "        name  score  attempts qualify\n",
            "0  Anastasia   12.5         1     yes\n",
            "1       Dima    9.0         3      no\n",
            "2  Katherine   16.5         2     yes\n",
            "3      James    NaN         3      no\n",
            "4      Emily    9.0         2      no\n",
            "5    Michael   20.0         3     yes\n",
            "6    Matthew   14.5         1     yes\n",
            "7      Laura    NaN         1      no\n",
            "8      Kevin    8.0         2      no\n",
            "9      Jonas   19.0         1     yes\n",
            "\n",
            "After converting index in a column:\n",
            "   index       name  score  attempts qualify\n",
            "0      0  Anastasia   12.5         1     yes\n",
            "1      1       Dima    9.0         3      no\n",
            "2      2  Katherine   16.5         2     yes\n",
            "3      3      James    NaN         3      no\n",
            "4      4      Emily    9.0         2      no\n",
            "5      5    Michael   20.0         3     yes\n",
            "6      6    Matthew   14.5         1     yes\n",
            "7      7      Laura    NaN         1      no\n",
            "8      8      Kevin    8.0         2      no\n",
            "9      9      Jonas   19.0         1     yes\n",
            "\n",
            "Hiding index:\n",
            " index       name  score  attempts qualify\n",
            "     0  Anastasia   12.5         1     yes\n",
            "     1       Dima    9.0         3      no\n",
            "     2  Katherine   16.5         2     yes\n",
            "     3      James    NaN         3      no\n",
            "     4      Emily    9.0         2      no\n",
            "     5    Michael   20.0         3     yes\n",
            "     6    Matthew   14.5         1     yes\n",
            "     7      Laura    NaN         1      no\n",
            "     8      Kevin    8.0         2      no\n",
            "     9      Jonas   19.0         1     yes\n"
          ],
          "name": "stdout"
        }
      ]
    },
    {
      "cell_type": "markdown",
      "metadata": {
        "id": "On76mPxS-wyg",
        "colab_type": "text"
      },
      "source": [
        "**34, Viết chương trình Pandas để đặt một giá trị nhất định cho ô cụ thể trong DataFrame bằng giá trị chỉ mục.**\n",
        "\n",
        "**Write a Pandas program to set a given value for particular cell in DataFrame using index value.**\n"
      ]
    },
    {
      "cell_type": "code",
      "metadata": {
        "id": "059i6dWp-jif",
        "colab_type": "code",
        "outputId": "646f34fa-0472-4eaf-af5c-3786d9b67bd8",
        "colab": {
          "base_uri": "https://localhost:8080/",
          "height": 571
        }
      },
      "source": [
        "exam_data = {'name': ['Anastasia', 'Dima', 'Katherine', 'James', 'Emily', 'Michael', 'Matthew', 'Laura', 'Kevin', 'Jonas'],\n",
        "        'score': [12.5, 9, 16.5, np.nan, 9, 20, 14.5, np.nan, 8, 19],\n",
        "        'attempts': [1, 3, 2, 3, 2, 3, 1, 1, 2, 1],\n",
        "        'qualify': ['yes', 'no', 'yes', 'no', 'no', 'yes', 'yes', 'no', 'no', 'yes']}\n",
        "df = pd.DataFrame(exam_data)\n",
        "print(\"Original DataFrame\")\n",
        "print(df)\n",
        "print(\"\\nSet a given value for particular cell in the DataFrame\")\n",
        "df.set_value(8, 'score', 10.2)\n",
        "print(df)\n"
      ],
      "execution_count": 0,
      "outputs": [
        {
          "output_type": "stream",
          "text": [
            "Original DataFrame\n",
            "        name  score  attempts qualify\n",
            "0  Anastasia   12.5         1     yes\n",
            "1       Dima    9.0         3      no\n",
            "2  Katherine   16.5         2     yes\n",
            "3      James    NaN         3      no\n",
            "4      Emily    9.0         2      no\n",
            "5    Michael   20.0         3     yes\n",
            "6    Matthew   14.5         1     yes\n",
            "7      Laura    NaN         1      no\n",
            "8      Kevin    8.0         2      no\n",
            "9      Jonas   19.0         1     yes\n",
            "\n",
            "Set a given value for particular cell in the DataFrame\n"
          ],
          "name": "stdout"
        },
        {
          "output_type": "error",
          "ename": "AttributeError",
          "evalue": "ignored",
          "traceback": [
            "\u001b[0;31m---------------------------------------------------------------------------\u001b[0m",
            "\u001b[0;31mAttributeError\u001b[0m                            Traceback (most recent call last)",
            "\u001b[0;32m<ipython-input-44-6904cdea8e27>\u001b[0m in \u001b[0;36m<module>\u001b[0;34m()\u001b[0m\n\u001b[1;32m      7\u001b[0m \u001b[0mprint\u001b[0m\u001b[0;34m(\u001b[0m\u001b[0mdf\u001b[0m\u001b[0;34m)\u001b[0m\u001b[0;34m\u001b[0m\u001b[0;34m\u001b[0m\u001b[0m\n\u001b[1;32m      8\u001b[0m \u001b[0mprint\u001b[0m\u001b[0;34m(\u001b[0m\u001b[0;34m\"\\nSet a given value for particular cell in the DataFrame\"\u001b[0m\u001b[0;34m)\u001b[0m\u001b[0;34m\u001b[0m\u001b[0;34m\u001b[0m\u001b[0m\n\u001b[0;32m----> 9\u001b[0;31m \u001b[0mdf\u001b[0m\u001b[0;34m.\u001b[0m\u001b[0mset_values\u001b[0m\u001b[0;34m(\u001b[0m\u001b[0;36m8\u001b[0m\u001b[0;34m,\u001b[0m \u001b[0;34m'score'\u001b[0m\u001b[0;34m,\u001b[0m \u001b[0;36m10.2\u001b[0m\u001b[0;34m)\u001b[0m\u001b[0;34m\u001b[0m\u001b[0;34m\u001b[0m\u001b[0m\n\u001b[0m\u001b[1;32m     10\u001b[0m \u001b[0mprint\u001b[0m\u001b[0;34m(\u001b[0m\u001b[0mdf\u001b[0m\u001b[0;34m)\u001b[0m\u001b[0;34m\u001b[0m\u001b[0;34m\u001b[0m\u001b[0m\n",
            "\u001b[0;32m/usr/local/lib/python3.6/dist-packages/pandas/core/generic.py\u001b[0m in \u001b[0;36m__getattr__\u001b[0;34m(self, name)\u001b[0m\n\u001b[1;32m   5272\u001b[0m             \u001b[0;32mif\u001b[0m \u001b[0mself\u001b[0m\u001b[0;34m.\u001b[0m\u001b[0m_info_axis\u001b[0m\u001b[0;34m.\u001b[0m\u001b[0m_can_hold_identifiers_and_holds_name\u001b[0m\u001b[0;34m(\u001b[0m\u001b[0mname\u001b[0m\u001b[0;34m)\u001b[0m\u001b[0;34m:\u001b[0m\u001b[0;34m\u001b[0m\u001b[0;34m\u001b[0m\u001b[0m\n\u001b[1;32m   5273\u001b[0m                 \u001b[0;32mreturn\u001b[0m \u001b[0mself\u001b[0m\u001b[0;34m[\u001b[0m\u001b[0mname\u001b[0m\u001b[0;34m]\u001b[0m\u001b[0;34m\u001b[0m\u001b[0;34m\u001b[0m\u001b[0m\n\u001b[0;32m-> 5274\u001b[0;31m             \u001b[0;32mreturn\u001b[0m \u001b[0mobject\u001b[0m\u001b[0;34m.\u001b[0m\u001b[0m__getattribute__\u001b[0m\u001b[0;34m(\u001b[0m\u001b[0mself\u001b[0m\u001b[0;34m,\u001b[0m \u001b[0mname\u001b[0m\u001b[0;34m)\u001b[0m\u001b[0;34m\u001b[0m\u001b[0;34m\u001b[0m\u001b[0m\n\u001b[0m\u001b[1;32m   5275\u001b[0m \u001b[0;34m\u001b[0m\u001b[0m\n\u001b[1;32m   5276\u001b[0m     \u001b[0;32mdef\u001b[0m \u001b[0m__setattr__\u001b[0m\u001b[0;34m(\u001b[0m\u001b[0mself\u001b[0m\u001b[0;34m,\u001b[0m \u001b[0mname\u001b[0m\u001b[0;34m:\u001b[0m \u001b[0mstr\u001b[0m\u001b[0;34m,\u001b[0m \u001b[0mvalue\u001b[0m\u001b[0;34m)\u001b[0m \u001b[0;34m->\u001b[0m \u001b[0;32mNone\u001b[0m\u001b[0;34m:\u001b[0m\u001b[0;34m\u001b[0m\u001b[0;34m\u001b[0m\u001b[0m\n",
            "\u001b[0;31mAttributeError\u001b[0m: 'DataFrame' object has no attribute 'set_values'"
          ]
        }
      ]
    },
    {
      "cell_type": "markdown",
      "metadata": {
        "id": "O9w7rKEE_E9n",
        "colab_type": "text"
      },
      "source": [
        "**35, Viết chương trình Pandas để đếm các giá trị NaN trong một hoặc nhiều cột trong DataFrame.**\n",
        "\n",
        "**Write a Pandas program to count the NaN values in one or more columns in DataFrame.**\n"
      ]
    },
    {
      "cell_type": "code",
      "metadata": {
        "id": "ciW-Xy0A-5W-",
        "colab_type": "code",
        "outputId": "b7a5508f-3fc9-45c4-ed1a-514bd0cae92d",
        "colab": {
          "base_uri": "https://localhost:8080/",
          "height": 272
        }
      },
      "source": [
        "exam_data = {'name': ['Anastasia', 'Dima', 'Katherine', 'James', 'Emily', 'Michael', 'Matthew', 'Laura', 'Kevin', 'Jonas'],\n",
        "        'score': [12.5, 9, 16.5, np.nan, 9, 20, 14.5, np.nan, 8, 19],\n",
        "        'attempts': [1, 3, 2, 3, 2, 3, 1, 1, 2, 1],\n",
        "        'qualify': ['yes', 'no', 'yes', 'no', 'no', 'yes', 'yes', 'no', 'no', 'yes']}\n",
        "df = pd.DataFrame(exam_data)\n",
        "print(\"Original DataFrame\")\n",
        "print(df)\n",
        "print(\"\\nNumber of NaN values in one or more columns:\")\n",
        "print(df.isnull().values.sum())"
      ],
      "execution_count": 0,
      "outputs": [
        {
          "output_type": "stream",
          "text": [
            "Original DataFrame\n",
            "        name  score  attempts qualify\n",
            "0  Anastasia   12.5         1     yes\n",
            "1       Dima    9.0         3      no\n",
            "2  Katherine   16.5         2     yes\n",
            "3      James    NaN         3      no\n",
            "4      Emily    9.0         2      no\n",
            "5    Michael   20.0         3     yes\n",
            "6    Matthew   14.5         1     yes\n",
            "7      Laura    NaN         1      no\n",
            "8      Kevin    8.0         2      no\n",
            "9      Jonas   19.0         1     yes\n",
            "\n",
            "Number of NaN values in one or more columns:\n",
            "2\n"
          ],
          "name": "stdout"
        }
      ]
    },
    {
      "cell_type": "markdown",
      "metadata": {
        "id": "fnCcV5oS_PW3",
        "colab_type": "text"
      },
      "source": [
        "**36, Viết chương trình Pandas để thả danh sách các hàng từ DataFrame được chỉ định.**\n",
        "\n",
        "**Write a Pandas program to drop a list of rows from a specified DataFrame.**\n"
      ]
    },
    {
      "cell_type": "code",
      "metadata": {
        "id": "g1PS5kGM_Lr2",
        "colab_type": "code",
        "outputId": "7b1d8f70-6b0b-48ea-c07b-55134bc7e686",
        "colab": {
          "base_uri": "https://localhost:8080/",
          "height": 221
        }
      },
      "source": [
        "d = {'col1': [1, 4, 3, 4, 5], 'col2': [4, 5, 6, 7, 8], 'col3': [7, 8, 9, 0, 1]}\n",
        "df = pd.DataFrame(d)\n",
        "print(\"Original DataFrame\")\n",
        "print(df)\n",
        "print(\"New DataFrame after removing 2nd & 4th rows:\")\n",
        "df = df.drop(df.index[[2,4]])\n",
        "print(df)"
      ],
      "execution_count": 0,
      "outputs": [
        {
          "output_type": "stream",
          "text": [
            "Original DataFrame\n",
            "   col1  col2  col3\n",
            "0     1     4     7\n",
            "1     4     5     8\n",
            "2     3     6     9\n",
            "3     4     7     0\n",
            "4     5     8     1\n",
            "New DataFrame after removing 2nd & 4th rows:\n",
            "   col1  col2  col3\n",
            "0     1     4     7\n",
            "1     4     5     8\n",
            "3     4     7     0\n"
          ],
          "name": "stdout"
        }
      ]
    },
    {
      "cell_type": "markdown",
      "metadata": {
        "id": "MFAL6G_M_bDn",
        "colab_type": "text"
      },
      "source": [
        "**37, Viết chương trình Pandas để đặt lại chỉ mục trong DataFrame cụ thể.**\n",
        "\n",
        "**Write a Pandas program to reset index in a given DataFrame.**\n"
      ]
    },
    {
      "cell_type": "code",
      "metadata": {
        "id": "r-PSjmsR_WDX",
        "colab_type": "code",
        "outputId": "89123706-750f-41b0-a413-8456fd65c81a",
        "colab": {
          "base_uri": "https://localhost:8080/",
          "height": 595
        }
      },
      "source": [
        "exam_data = {'name': ['Anastasia', 'Dima', 'Katherine', 'James', 'Emily', 'Michael', 'Matthew', 'Laura', 'Kevin', 'Jonas'],\n",
        "        'score': [12.5, 9, 16.5, np.nan, 9, 20, 14.5, np.nan, 8, 19],\n",
        "        'attempts': [1, 3, 2, 3, 2, 3, 1, 1, 2, 1],\n",
        "        'qualify': ['yes', 'no', 'yes', 'no', 'no', 'yes', 'yes', 'no', 'no', 'yes']}\n",
        "df = pd.DataFrame(exam_data)\n",
        "print(\"Original DataFrame\")\n",
        "print(df)\n",
        "print(\"\\nAfter removing first and second rows\")\n",
        "df = df.drop([0,1])\n",
        "print(df)\n",
        "print(\"\\nReset the index: \")\n",
        "df = df.reset_index()\n",
        "print(df)"
      ],
      "execution_count": 0,
      "outputs": [
        {
          "output_type": "stream",
          "text": [
            "Original DataFrame\n",
            "        name  score  attempts qualify\n",
            "0  Anastasia   12.5         1     yes\n",
            "1       Dima    9.0         3      no\n",
            "2  Katherine   16.5         2     yes\n",
            "3      James    NaN         3      no\n",
            "4      Emily    9.0         2      no\n",
            "5    Michael   20.0         3     yes\n",
            "6    Matthew   14.5         1     yes\n",
            "7      Laura    NaN         1      no\n",
            "8      Kevin    8.0         2      no\n",
            "9      Jonas   19.0         1     yes\n",
            "\n",
            "After removing first and second rows\n",
            "        name  score  attempts qualify\n",
            "2  Katherine   16.5         2     yes\n",
            "3      James    NaN         3      no\n",
            "4      Emily    9.0         2      no\n",
            "5    Michael   20.0         3     yes\n",
            "6    Matthew   14.5         1     yes\n",
            "7      Laura    NaN         1      no\n",
            "8      Kevin    8.0         2      no\n",
            "9      Jonas   19.0         1     yes\n",
            "\n",
            "Reset the index: \n",
            "   index       name  score  attempts qualify\n",
            "0      2  Katherine   16.5         2     yes\n",
            "1      3      James    NaN         3      no\n",
            "2      4      Emily    9.0         2      no\n",
            "3      5    Michael   20.0         3     yes\n",
            "4      6    Matthew   14.5         1     yes\n",
            "5      7      Laura    NaN         1      no\n",
            "6      8      Kevin    8.0         2      no\n",
            "7      9      Jonas   19.0         1     yes\n"
          ],
          "name": "stdout"
        }
      ]
    },
    {
      "cell_type": "markdown",
      "metadata": {
        "id": "OQdYgbotAIzf",
        "colab_type": "text"
      },
      "source": [
        "**38, Viết chương trình Pandas để chia DataFrame theo tỷ lệ nhất định.**\n",
        "\n",
        "**Write a Pandas program to devide a DataFrame in a given ratio.**\n"
      ]
    },
    {
      "cell_type": "code",
      "metadata": {
        "id": "6mGOrx8B_vCH",
        "colab_type": "code",
        "outputId": "89b86771-e92a-4619-c7ef-412c128f4ec7",
        "colab": {
          "base_uri": "https://localhost:8080/",
          "height": 493
        }
      },
      "source": [
        "df = pd.DataFrame(np.random.randn(10, 2))\n",
        "print(\"Original DataFrame:\")\n",
        "print(df)\n",
        "part_70 = df.sample(frac = 0.7, random_state=10)\n",
        "part_30 = df.drop(part_70.index)\n",
        "print(\"\\n70% of the said DataFrame\")\n",
        "print(part_70)\n",
        "print(\"\\n30% of the said DataFrame\")\n",
        "print(part_30)"
      ],
      "execution_count": 0,
      "outputs": [
        {
          "output_type": "stream",
          "text": [
            "Original DataFrame:\n",
            "          0         1\n",
            "0  1.870804 -0.404467\n",
            "1  0.406139 -1.043746\n",
            "2 -0.676279 -1.005513\n",
            "3 -0.205670 -0.084159\n",
            "4 -0.924444  0.564672\n",
            "5  0.865118 -1.092633\n",
            "6 -0.230079  0.898592\n",
            "7  0.064104 -1.843400\n",
            "8 -0.668928 -0.947510\n",
            "9  0.838660  0.739726\n",
            "\n",
            "70% of the said DataFrame\n",
            "          0         1\n",
            "8 -0.668928 -0.947510\n",
            "2 -0.676279 -1.005513\n",
            "5  0.865118 -1.092633\n",
            "6 -0.230079  0.898592\n",
            "3 -0.205670 -0.084159\n",
            "1  0.406139 -1.043746\n",
            "0  1.870804 -0.404467\n",
            "\n",
            "30% of the said DataFrame\n",
            "          0         1\n",
            "4 -0.924444  0.564672\n",
            "7  0.064104 -1.843400\n",
            "9  0.838660  0.739726\n"
          ],
          "name": "stdout"
        }
      ]
    },
    {
      "cell_type": "markdown",
      "metadata": {
        "id": "OeiGza94AiVc",
        "colab_type": "text"
      },
      "source": [
        "**39, Viết chương trình Pandas để kết hợp hai chuỗi thành DataFrame.**\n",
        "\n",
        "**Write a Pandas program to combining two series into a DataFrame.**\n"
      ]
    },
    {
      "cell_type": "code",
      "metadata": {
        "id": "6ddFNKu4Acuy",
        "colab_type": "code",
        "outputId": "cc4095b0-48a8-4a58-a193-40fb6b092831",
        "colab": {
          "base_uri": "https://localhost:8080/",
          "height": 357
        }
      },
      "source": [
        "s1 = pd.Series(['100', '200', 'python', '300.12', '400'])\n",
        "s2 = pd.Series(['10', '20', 'php', '30.12', '40'])\n",
        "print(\"Data Series:\")\n",
        "print(s1)\n",
        "print(s2)\n",
        "df = pd.concat([s1, s2], axis = 1)\n",
        "print(\"New DataFrame combining two series:\")\n",
        "print(df)"
      ],
      "execution_count": 0,
      "outputs": [
        {
          "output_type": "stream",
          "text": [
            "Data Series:\n",
            "0       100\n",
            "1       200\n",
            "2    python\n",
            "3    300.12\n",
            "4       400\n",
            "dtype: object\n",
            "0       10\n",
            "1       20\n",
            "2      php\n",
            "3    30.12\n",
            "4       40\n",
            "dtype: object\n",
            "New DataFrame combining two series:\n",
            "        0      1\n",
            "0     100     10\n",
            "1     200     20\n",
            "2  python    php\n",
            "3  300.12  30.12\n",
            "4     400     40\n"
          ],
          "name": "stdout"
        }
      ]
    },
    {
      "cell_type": "markdown",
      "metadata": {
        "id": "sdasZpKH9kak",
        "colab_type": "text"
      },
      "source": [
        "**40, Viết chương trình Pandas để xáo trộn các hàng DataFrame đã cho.**\n",
        "\n",
        "**Write a Pandas program to shuffle a given DataFrame rows.**\n"
      ]
    },
    {
      "cell_type": "code",
      "metadata": {
        "id": "PaxJgRnPAuVm",
        "colab_type": "code",
        "colab": {
          "base_uri": "https://localhost:8080/",
          "height": 442
        },
        "outputId": "d0bb1231-5688-4577-b63b-2270d468515f"
      },
      "source": [
        "import pandas as pd\n",
        "import numpy as np\n",
        "exam_data = {'name': ['Anastasia', 'Dima', 'Katherine', 'James', 'Emily', 'Michael', 'Matthew', 'Laura', 'Kevin', 'Jonas'],\n",
        "        'score': [12.5, 9, 16.5, np.nan, 9, 20, 14.5, np.nan, 8, 19],\n",
        "        'attempts': [1, 3, 2, 3, 2, 3, 1, 1, 2, 1],\n",
        "        'qualify': ['yes', 'no', 'yes', 'no', 'no', 'yes', 'yes', 'no', 'no', 'yes']}\n",
        "df = pd.DataFrame(exam_data)\n",
        "print(\"Original DataFrame:\")\n",
        "print(df)\n",
        "df = df.sample(frac=1)\n",
        "print(\"\\nNew DataFrame: \")\n",
        "print(df)"
      ],
      "execution_count": 2,
      "outputs": [
        {
          "output_type": "stream",
          "text": [
            "Original DataFrame:\n",
            "        name  score  attempts qualify\n",
            "0  Anastasia   12.5         1     yes\n",
            "1       Dima    9.0         3      no\n",
            "2  Katherine   16.5         2     yes\n",
            "3      James    NaN         3      no\n",
            "4      Emily    9.0         2      no\n",
            "5    Michael   20.0         3     yes\n",
            "6    Matthew   14.5         1     yes\n",
            "7      Laura    NaN         1      no\n",
            "8      Kevin    8.0         2      no\n",
            "9      Jonas   19.0         1     yes\n",
            "\n",
            "New DataFrame: \n",
            "        name  score  attempts qualify\n",
            "8      Kevin    8.0         2      no\n",
            "7      Laura    NaN         1      no\n",
            "0  Anastasia   12.5         1     yes\n",
            "5    Michael   20.0         3     yes\n",
            "6    Matthew   14.5         1     yes\n",
            "3      James    NaN         3      no\n",
            "1       Dima    9.0         3      no\n",
            "4      Emily    9.0         2      no\n",
            "9      Jonas   19.0         1     yes\n",
            "2  Katherine   16.5         2     yes\n"
          ],
          "name": "stdout"
        }
      ]
    },
    {
      "cell_type": "markdown",
      "metadata": {
        "id": "XmFb1GfH-G9d",
        "colab_type": "text"
      },
      "source": [
        "**41, Viết chương trình Pandas để chuyển đổi loại cột DataFrame từ chuỗi sang datetime.**\n",
        "\n",
        "**Write a Pandas program to convert DataFrame column type from string to datetime.**\n"
      ]
    },
    {
      "cell_type": "code",
      "metadata": {
        "id": "sS3Bsgmu91nX",
        "colab_type": "code",
        "colab": {
          "base_uri": "https://localhost:8080/",
          "height": 187
        },
        "outputId": "2c2b2e54-e813-428b-aaa8-b2f25a1f2586"
      },
      "source": [
        "s = pd.Series(['3/11/2000', '3/12/2000', '3/13/2000'])\n",
        "print(\"String Date:\")\n",
        "print(s)\n",
        "r = pd.to_datetime(pd.Series(s))\n",
        "df = pd.DataFrame(r)\n",
        "print(\"Original DataFrame (string to datetime):\")\n",
        "print(df)"
      ],
      "execution_count": 3,
      "outputs": [
        {
          "output_type": "stream",
          "text": [
            "String Date:\n",
            "0    3/11/2000\n",
            "1    3/12/2000\n",
            "2    3/13/2000\n",
            "dtype: object\n",
            "Original DataFrame (string to datetime):\n",
            "           0\n",
            "0 2000-03-11\n",
            "1 2000-03-12\n",
            "2 2000-03-13\n"
          ],
          "name": "stdout"
        }
      ]
    },
    {
      "cell_type": "markdown",
      "metadata": {
        "id": "7vfb5KXG-vCm",
        "colab_type": "text"
      },
      "source": [
        "**42, Viết chương trình Pandas để đổi tên một tên cột cụ thể trong DataFrame cụ thể.**\n",
        "\n",
        "**Write a Pandas program to rename a specific column name in a given DataFrame.**\n"
      ]
    },
    {
      "cell_type": "code",
      "metadata": {
        "id": "SE6j31vz-csv",
        "colab_type": "code",
        "colab": {
          "base_uri": "https://localhost:8080/",
          "height": 187
        },
        "outputId": "3bd22bcd-90d9-4029-c71a-f5224034047b"
      },
      "source": [
        "d = {'col1':[1,2,3], 'col2':[4,5,6], 'col3':[7,8,9]}\n",
        "df = pd.DataFrame(data=d)\n",
        "print(\"Original DataFrame: \")\n",
        "print(df)\n",
        "df = df.rename(columns = {'col2':'Column2'})\n",
        "print(\"New DataFrame after renaming second columns:\")\n",
        "print(df)"
      ],
      "execution_count": 4,
      "outputs": [
        {
          "output_type": "stream",
          "text": [
            "Original DataFrame: \n",
            "   col1  col2  col3\n",
            "0     1     4     7\n",
            "1     2     5     8\n",
            "2     3     6     9\n",
            "New DataFrame after renaming second columns:\n",
            "   col1  Column2  col3\n",
            "0     1        4     7\n",
            "1     2        5     8\n",
            "2     3        6     9\n"
          ],
          "name": "stdout"
        }
      ]
    },
    {
      "cell_type": "markdown",
      "metadata": {
        "id": "ZAnVdX5H_W0T",
        "colab_type": "text"
      },
      "source": [
        "**43, Viết chương trình Pandas để lấy danh sách cột được chỉ định của DataFrame.**\n",
        "\n",
        "**Write a Pandas program to get a list of a specified column of a DataFrame.**\n"
      ]
    },
    {
      "cell_type": "code",
      "metadata": {
        "id": "vetNuwbE_KZW",
        "colab_type": "code",
        "colab": {
          "base_uri": "https://localhost:8080/",
          "height": 136
        },
        "outputId": "d2998c49-d4c0-44c8-ed24-42e5493dd26e"
      },
      "source": [
        "d = {'col1':[1,2,3], 'col2':[4,5,6], 'col3':[7,8,9]}\n",
        "df = pd.DataFrame(data=d)\n",
        "print(\"Original DataFrame\")\n",
        "print(df)\n",
        "col2_list = df['col2'].tolist()\n",
        "print(\"Col2 of the DataFrame to list:\")\n",
        "print(col2_list)"
      ],
      "execution_count": 5,
      "outputs": [
        {
          "output_type": "stream",
          "text": [
            "Original DataFrame\n",
            "   col1  col2  col3\n",
            "0     1     4     7\n",
            "1     2     5     8\n",
            "2     3     6     9\n",
            "Col2 of the DataFrame to list:\n",
            "[4, 5, 6]\n"
          ],
          "name": "stdout"
        }
      ]
    },
    {
      "cell_type": "markdown",
      "metadata": {
        "id": "IPbx69HEAUVU",
        "colab_type": "text"
      },
      "source": [
        "**44, Viết chương trình Pandas để tạo DataFrame từ mảng Numpy và chỉ định các tiêu đề cột và cột chỉ mục.**\n",
        "\n",
        "**Write a Pandas program to create a DataFrame from a Numpy array and specify the index column and column headers.**\n",
        "\n"
      ]
    },
    {
      "cell_type": "code",
      "metadata": {
        "id": "egaQGIk9_sCQ",
        "colab_type": "code",
        "colab": {
          "base_uri": "https://localhost:8080/",
          "height": 289
        },
        "outputId": "708696c5-ae34-4b2a-eaaf-51ab550fe538"
      },
      "source": [
        "dtype = [('Column1', 'int32'), ('Column2', 'float32'), ('Column3', 'float32')]\n",
        "values = np.zeros(15, dtype=dtype)\n",
        "index = ['Index'+str(i) for i in range(1, len(values)+1)]\n",
        "df = pd.DataFrame(values, index = index)\n",
        "print(df)"
      ],
      "execution_count": 6,
      "outputs": [
        {
          "output_type": "stream",
          "text": [
            "         Column1  Column2  Column3\n",
            "Index1         0      0.0      0.0\n",
            "Index2         0      0.0      0.0\n",
            "Index3         0      0.0      0.0\n",
            "Index4         0      0.0      0.0\n",
            "Index5         0      0.0      0.0\n",
            "Index6         0      0.0      0.0\n",
            "Index7         0      0.0      0.0\n",
            "Index8         0      0.0      0.0\n",
            "Index9         0      0.0      0.0\n",
            "Index10        0      0.0      0.0\n",
            "Index11        0      0.0      0.0\n",
            "Index12        0      0.0      0.0\n",
            "Index13        0      0.0      0.0\n",
            "Index14        0      0.0      0.0\n",
            "Index15        0      0.0      0.0\n"
          ],
          "name": "stdout"
        }
      ]
    },
    {
      "cell_type": "markdown",
      "metadata": {
        "id": "noH9onQUBT0n",
        "colab_type": "text"
      },
      "source": [
        "**45, Viết chương trình Pandas để tìm hàng trong đó giá trị của một cột đã cho là tối đa.**\n",
        "\n",
        "**Write a Pandas program to find the row for where the value of a given column is maximum.**\n",
        "\n"
      ]
    },
    {
      "cell_type": "code",
      "metadata": {
        "id": "tmlpkjfHA-ve",
        "colab_type": "code",
        "colab": {
          "base_uri": "https://localhost:8080/",
          "height": 238
        },
        "outputId": "ed210dad-ce1f-4d58-f71f-437d54d0f67f"
      },
      "source": [
        "d = {'col1': [1, 2, 3, 4, 7], 'col2': [4, 5, 6, 9, 5], 'col3': [7, 8, 12, 1, 11]}\n",
        "df = pd.DataFrame(data=d)\n",
        "print(\"Original DataFrame\")\n",
        "print(df)\n",
        "print(\"Row where col1 has maximum value:\")\n",
        "print(df['col1'].argmax())\n",
        "print(\"Row where col2 has maximum value:\")\n",
        "print(df['col2'].argmax())\n",
        "print(\"Row where col3 has maximum value:\")\n",
        "print(df['col3'].argmax())"
      ],
      "execution_count": 7,
      "outputs": [
        {
          "output_type": "stream",
          "text": [
            "Original DataFrame\n",
            "   col1  col2  col3\n",
            "0     1     4     7\n",
            "1     2     5     8\n",
            "2     3     6    12\n",
            "3     4     9     1\n",
            "4     7     5    11\n",
            "Row where col1 has maximum value:\n",
            "4\n",
            "Row where col2 has maximum value:\n",
            "3\n",
            "Row where col3 has maximum value:\n",
            "2\n"
          ],
          "name": "stdout"
        }
      ]
    },
    {
      "cell_type": "markdown",
      "metadata": {
        "id": "WHxrx5szB6ax",
        "colab_type": "text"
      },
      "source": [
        "**46, Viết chương trình Pandas để kiểm tra xem một cột đã cho có trong DataFrame hay không.**\n",
        "\n",
        "**Write a Pandas program to check whether a given column is present in a DataFrame or not.**\n",
        "\n"
      ]
    },
    {
      "cell_type": "code",
      "metadata": {
        "id": "L_fiWsfRBmDn",
        "colab_type": "code",
        "colab": {
          "base_uri": "https://localhost:8080/",
          "height": 170
        },
        "outputId": "fb1386b5-ad85-4df5-d7dd-c7fb36795787"
      },
      "source": [
        "d = {'col1': [1, 2, 3, 4, 7], 'col2': [4, 5, 6, 9, 5], 'col3': [7, 8, 12, 1, 11]}\n",
        "df = pd.DataFrame(data=d)\n",
        "print(\"Original DataFrame\")\n",
        "print(df)\n",
        "if 'col4' in df.columns:\n",
        "  print(\"Col4 is present in DataFrame\")\n",
        "else:\n",
        "  print(\"Col4 is not present in DataFrame\")\n",
        "if 'col1' in df.columns:\n",
        "  print(\"Col1 is present in DataFrame\")\n",
        "else:\n",
        "  print(\"Col1 is not present in DataFrame\")"
      ],
      "execution_count": 9,
      "outputs": [
        {
          "output_type": "stream",
          "text": [
            "Original DataFrame\n",
            "   col1  col2  col3\n",
            "0     1     4     7\n",
            "1     2     5     8\n",
            "2     3     6    12\n",
            "3     4     9     1\n",
            "4     7     5    11\n",
            "Col4 is not present in DataFrame\n",
            "Col1 is present in DataFrame\n"
          ],
          "name": "stdout"
        }
      ]
    },
    {
      "cell_type": "markdown",
      "metadata": {
        "id": "RhjsB1ZHCVmj",
        "colab_type": "text"
      },
      "source": [
        "**47, Viết chương trình Pandas để lấy giá trị hàng được chỉ định của DataFrame cụ thể.**\n",
        "\n",
        "**Write a Pandas program to get the specified row value of a given DataFrame.**\n",
        "\n"
      ]
    },
    {
      "cell_type": "code",
      "metadata": {
        "id": "FDs3wED3CPZE",
        "colab_type": "code",
        "colab": {
          "base_uri": "https://localhost:8080/",
          "height": 306
        },
        "outputId": "5cc81e1a-5a0d-4d72-df34-8885fe5daa26"
      },
      "source": [
        "d = {'col1': [1, 2, 3, 4, 7], 'col2': [4, 5, 6, 9, 5], 'col3': [7, 8, 12, 1, 11]}\n",
        "df = pd.DataFrame(data=d)\n",
        "print(\"Original DataFrame\")\n",
        "print(df)\n",
        "print(\"Value of Row1\")\n",
        "print(df.iloc[0])\n",
        "print(\"Value of Row4\")\n",
        "print(df.iloc[3])"
      ],
      "execution_count": 12,
      "outputs": [
        {
          "output_type": "stream",
          "text": [
            "Original DataFrame\n",
            "   col1  col2  col3\n",
            "0     1     4     7\n",
            "1     2     5     8\n",
            "2     3     6    12\n",
            "3     4     9     1\n",
            "4     7     5    11\n",
            "Value of Row1\n",
            "col1    1\n",
            "col2    4\n",
            "col3    7\n",
            "Name: 0, dtype: int64\n",
            "Value of Row4\n",
            "col1    4\n",
            "col2    9\n",
            "col3    1\n",
            "Name: 3, dtype: int64\n"
          ],
          "name": "stdout"
        }
      ]
    },
    {
      "cell_type": "markdown",
      "metadata": {
        "id": "z_nk6rE3C2B1",
        "colab_type": "text"
      },
      "source": [
        "**48, Viết chương trình Pandas để lấy các kiểu dữ liệu của các cột của DataFrame.**\n",
        "\n",
        "**Write a Pandas program to get the datatypes of columns of a DataFrame.**\n",
        "\n"
      ]
    },
    {
      "cell_type": "code",
      "metadata": {
        "id": "yujAKLjmCdvN",
        "colab_type": "code",
        "colab": {
          "base_uri": "https://localhost:8080/",
          "height": 323
        },
        "outputId": "83177937-7d68-4d93-95cd-231fcc459107"
      },
      "source": [
        "exam_data = {'name': ['Anastasia', 'Dima', 'Katherine', 'James', 'Emily', 'Michael', 'Matthew', 'Laura', 'Kevin', 'Jonas'],\n",
        "        'score': [12.5, 9, 16.5, np.nan, 9, 20, 14.5, np.nan, 8, 19],\n",
        "        'attempts': [1, 3, 2, 3, 2, 3, 1, 1, 2, 1],\n",
        "        'qualify': ['yes', 'no', 'yes', 'no', 'no', 'yes', 'yes', 'no', 'no', 'yes']}\n",
        "df = pd.DataFrame(exam_data)\n",
        "print(\"Original DataFrame:\")\n",
        "print(df)\n",
        "print(\"Data types of the columns of the said DataFrame:\")\n",
        "print(df.dtypes)"
      ],
      "execution_count": 13,
      "outputs": [
        {
          "output_type": "stream",
          "text": [
            "Original DataFrame:\n",
            "        name  score  attempts qualify\n",
            "0  Anastasia   12.5         1     yes\n",
            "1       Dima    9.0         3      no\n",
            "2  Katherine   16.5         2     yes\n",
            "3      James    NaN         3      no\n",
            "4      Emily    9.0         2      no\n",
            "5    Michael   20.0         3     yes\n",
            "6    Matthew   14.5         1     yes\n",
            "7      Laura    NaN         1      no\n",
            "8      Kevin    8.0         2      no\n",
            "9      Jonas   19.0         1     yes\n",
            "Data types of the columns of the said DataFrame:\n",
            "name         object\n",
            "score       float64\n",
            "attempts      int64\n",
            "qualify      object\n",
            "dtype: object\n"
          ],
          "name": "stdout"
        }
      ]
    },
    {
      "cell_type": "markdown",
      "metadata": {
        "id": "uRvK_hZVDN91",
        "colab_type": "text"
      },
      "source": [
        "**49, Viết chương trình Pandas để nối dữ liệu vào DataFrame trống.**\n",
        "\n",
        "**Write a Pandas program to append data to an empty DataFrame.**\n",
        "\n"
      ]
    },
    {
      "cell_type": "code",
      "metadata": {
        "id": "bp37afMfDAJK",
        "colab_type": "code",
        "colab": {
          "base_uri": "https://localhost:8080/",
          "height": 102
        },
        "outputId": "e4c7877a-1cef-4885-bea7-6ef50cfe278a"
      },
      "source": [
        "df = pd.DataFrame()\n",
        "data = pd.DataFrame({\"col1\": range(3),\"col2\": range(3)})\n",
        "print(\"After appending some data:\")\n",
        "df = df.append(data)\n",
        "print(df)"
      ],
      "execution_count": 14,
      "outputs": [
        {
          "output_type": "stream",
          "text": [
            "After appending some data:\n",
            "   col1  col2\n",
            "0     0     0\n",
            "1     1     1\n",
            "2     2     2\n"
          ],
          "name": "stdout"
        }
      ]
    },
    {
      "cell_type": "markdown",
      "metadata": {
        "id": "PYwOYWjcDkhB",
        "colab_type": "text"
      },
      "source": [
        "**50, Viết chương trình Pandas để sắp xếp một DataFrame cụ thể theo hai hoặc nhiều cột.**\n",
        "\n",
        "**Write a Pandas program to sort a given DataFrame by two or more columns.**\n",
        "\n"
      ]
    },
    {
      "cell_type": "code",
      "metadata": {
        "id": "NBDPcnk5DVqi",
        "colab_type": "code",
        "colab": {
          "base_uri": "https://localhost:8080/",
          "height": 442
        },
        "outputId": "a8452784-39c4-463f-979a-f36daddcbdce"
      },
      "source": [
        "exam_data = {'name': ['Anastasia', 'Dima', 'Katherine', 'James', 'Emily', 'Michael', 'Matthew', 'Laura', 'Kevin', 'Jonas'],\n",
        "        'score': [12.5, 9, 16.5, np.nan, 9, 20, 14.5, np.nan, 8, 19],\n",
        "        'attempts': [1, 3, 2, 3, 2, 3, 1, 1, 2, 1],\n",
        "        'qualify': ['yes', 'no', 'yes', 'no', 'no', 'yes', 'yes', 'no', 'no', 'yes']}\n",
        "df = pd.DataFrame(exam_data)\n",
        "print(\"Original DataFrame:\")\n",
        "print(df)\n",
        "print(\"\\nSort the above DataFrame on attempts, name:\")\n",
        "df = df.sort_values(['attempts', 'name'], ascending=[True, True])\n",
        "print(df)"
      ],
      "execution_count": 16,
      "outputs": [
        {
          "output_type": "stream",
          "text": [
            "Original DataFrame:\n",
            "        name  score  attempts qualify\n",
            "0  Anastasia   12.5         1     yes\n",
            "1       Dima    9.0         3      no\n",
            "2  Katherine   16.5         2     yes\n",
            "3      James    NaN         3      no\n",
            "4      Emily    9.0         2      no\n",
            "5    Michael   20.0         3     yes\n",
            "6    Matthew   14.5         1     yes\n",
            "7      Laura    NaN         1      no\n",
            "8      Kevin    8.0         2      no\n",
            "9      Jonas   19.0         1     yes\n",
            "\n",
            "Sort the above DataFrame on attempts, name:\n",
            "        name  score  attempts qualify\n",
            "0  Anastasia   12.5         1     yes\n",
            "9      Jonas   19.0         1     yes\n",
            "7      Laura    NaN         1      no\n",
            "6    Matthew   14.5         1     yes\n",
            "4      Emily    9.0         2      no\n",
            "2  Katherine   16.5         2     yes\n",
            "8      Kevin    8.0         2      no\n",
            "1       Dima    9.0         3      no\n",
            "3      James    NaN         3      no\n",
            "5    Michael   20.0         3     yes\n"
          ],
          "name": "stdout"
        }
      ]
    },
    {
      "cell_type": "markdown",
      "metadata": {
        "id": "GFnAGKNFEAEQ",
        "colab_type": "text"
      },
      "source": [
        "**51, Viết chương trình Pandas để chuyển đổi kiểu dữ liệu của một cột đã cho (float thành ints).**\n",
        "\n",
        "**Write a Pandas program to convert the datatype of a given column(floats to ints)**.\n",
        "\n"
      ]
    },
    {
      "cell_type": "code",
      "metadata": {
        "id": "tW5S4yf5DyiA",
        "colab_type": "code",
        "colab": {
          "base_uri": "https://localhost:8080/",
          "height": 680
        },
        "outputId": "e66bf89e-78dd-4401-824d-1cb5ec015b02"
      },
      "source": [
        "exam_data = {'name': ['Anastasia', 'Dima', 'Katherine', 'James', 'Emily', 'Michael', 'Matthew', 'Laura', 'Kevin', 'Jonas'],\n",
        "        'score': [12.5, 9.1, 16.5, 12.77, 9.21, 20.22, 14.5, 11.34, 8.8, 19.13],\n",
        "        'attempts': [1, 3, 2, 3, 2, 3, 1, 1, 2, 1],\n",
        "        'qualify': ['yes', 'no', 'yes', 'no', 'no', 'yes', 'yes', 'no', 'no', 'yes']}\n",
        "df = pd.DataFrame(exam_data)\n",
        "print(\"Original DataFrame:\")\n",
        "print(df)\n",
        "print(\"\\nData types of the columns of the said DataFrame:\")\n",
        "print(df.dtypes)\n",
        "print(\"\\nNow change the Data type of 'score' column from float to int:\")\n",
        "df.score = df.score.astype(int)\n",
        "print(df)\n",
        "print(\"\\nData types of the columns of the DataFrame now:\")\n",
        "print(df.dtypes)"
      ],
      "execution_count": 17,
      "outputs": [
        {
          "output_type": "stream",
          "text": [
            "Original DataFrame:\n",
            "        name  score  attempts qualify\n",
            "0  Anastasia  12.50         1     yes\n",
            "1       Dima   9.10         3      no\n",
            "2  Katherine  16.50         2     yes\n",
            "3      James  12.77         3      no\n",
            "4      Emily   9.21         2      no\n",
            "5    Michael  20.22         3     yes\n",
            "6    Matthew  14.50         1     yes\n",
            "7      Laura  11.34         1      no\n",
            "8      Kevin   8.80         2      no\n",
            "9      Jonas  19.13         1     yes\n",
            "\n",
            "Data types of the columns of the said DataFrame:\n",
            "name         object\n",
            "score       float64\n",
            "attempts      int64\n",
            "qualify      object\n",
            "dtype: object\n",
            "\n",
            "Now change the Data type of 'score' column from float to int:\n",
            "        name  score  attempts qualify\n",
            "0  Anastasia     12         1     yes\n",
            "1       Dima      9         3      no\n",
            "2  Katherine     16         2     yes\n",
            "3      James     12         3      no\n",
            "4      Emily      9         2      no\n",
            "5    Michael     20         3     yes\n",
            "6    Matthew     14         1     yes\n",
            "7      Laura     11         1      no\n",
            "8      Kevin      8         2      no\n",
            "9      Jonas     19         1     yes\n",
            "\n",
            "Data types of the columns of the DataFrame now:\n",
            "name        object\n",
            "score        int64\n",
            "attempts     int64\n",
            "qualify     object\n",
            "dtype: object\n"
          ],
          "name": "stdout"
        }
      ]
    },
    {
      "cell_type": "markdown",
      "metadata": {
        "id": "YXBJFpcyEXfj",
        "colab_type": "text"
      },
      "source": [
        "**52, Viết chương trình Pandas để xóa các giá trị vô hạn khỏi DataFrame đã cho.**\n",
        "\n",
        "**Write a Pandas program to remove infinite values from a given DataFrame.**\n",
        "\n"
      ]
    },
    {
      "cell_type": "code",
      "metadata": {
        "id": "Vd8a01N_EM-E",
        "colab_type": "code",
        "colab": {
          "base_uri": "https://localhost:8080/",
          "height": 289
        },
        "outputId": "bdb94bac-a1b9-419f-83ce-7c1dee56f58f"
      },
      "source": [
        "df = pd.DataFrame([1000, 2000, 3000, 4000, np.inf, -np.inf])\n",
        "print(\"Original DataFrame:\")\n",
        "print(df)\n",
        "print(\"Removing infinite values:\")\n",
        "df = df.replace([np.inf, -np.inf], np.nan)\n",
        "print(df)"
      ],
      "execution_count": 18,
      "outputs": [
        {
          "output_type": "stream",
          "text": [
            "Original DataFrame:\n",
            "        0\n",
            "0  1000.0\n",
            "1  2000.0\n",
            "2  3000.0\n",
            "3  4000.0\n",
            "4     inf\n",
            "5    -inf\n",
            "Removing infinite values:\n",
            "        0\n",
            "0  1000.0\n",
            "1  2000.0\n",
            "2  3000.0\n",
            "3  4000.0\n",
            "4     NaN\n",
            "5     NaN\n"
          ],
          "name": "stdout"
        }
      ]
    },
    {
      "cell_type": "markdown",
      "metadata": {
        "id": "FJ_qlpEdEsuc",
        "colab_type": "text"
      },
      "source": [
        "**53, Viết chương trình Pandas để chèn một cột đã cho vào một chỉ mục cột cụ thể trong DataFrame.**\n",
        "\n",
        "**Write a Pandas program to insert a given column at a specific column index in a DataFrame.**\n",
        "\n"
      ]
    },
    {
      "cell_type": "code",
      "metadata": {
        "id": "-ML5rZ7EEpdx",
        "colab_type": "code",
        "colab": {
          "base_uri": "https://localhost:8080/",
          "height": 272
        },
        "outputId": "057d3a3e-0838-49b4-ffd6-ee61f635ee7d"
      },
      "source": [
        "d = {'col2': [4, 5, 6, 9, 5], 'col3': [7, 8, 12, 1, 11]}\n",
        "df = pd.DataFrame(data=d)\n",
        "print(\"Original DataFrame\")\n",
        "print(df)\n",
        "new_col = [1,2,3,4,7]\n",
        "idx = 0\n",
        "df.insert(loc=idx, column='col1', value=new_col)\n",
        "print(\"\\nNew DataFrame\")\n",
        "print(df)"
      ],
      "execution_count": 21,
      "outputs": [
        {
          "output_type": "stream",
          "text": [
            "Original DataFrame\n",
            "   col2  col3\n",
            "0     4     7\n",
            "1     5     8\n",
            "2     6    12\n",
            "3     9     1\n",
            "4     5    11\n",
            "\n",
            "New DataFrame\n",
            "   col1  col2  col3\n",
            "0     1     4     7\n",
            "1     2     5     8\n",
            "2     3     6    12\n",
            "3     4     9     1\n",
            "4     7     5    11\n"
          ],
          "name": "stdout"
        }
      ]
    },
    {
      "cell_type": "markdown",
      "metadata": {
        "id": "CNrO5OchFl3m",
        "colab_type": "text"
      },
      "source": [
        "**54, Viết chương trình Pandas để chuyển đổi danh sách danh sách đã cho thành Dataframe.**\n",
        "\n",
        "**Write a Pandas program to convert a given list of lists into a Dataframe.**\n",
        "\n"
      ]
    },
    {
      "cell_type": "code",
      "metadata": {
        "id": "DIoX5XDaFb6K",
        "colab_type": "code",
        "colab": {
          "base_uri": "https://localhost:8080/",
          "height": 119
        },
        "outputId": "d9e0dcd9-c3fd-46d0-bab7-1bfa18d96384"
      },
      "source": [
        "my_lists = [['col1', 'col2'], [2,4], [1,3]]\n",
        "headers = my_lists.pop(0)\n",
        "print(\"Original list of lists:\")\n",
        "print(my_lists)\n",
        "df = pd.DataFrame(my_lists, columns = headers)\n",
        "print(\"New DataFrame\")\n",
        "print(df)"
      ],
      "execution_count": 24,
      "outputs": [
        {
          "output_type": "stream",
          "text": [
            "Original list of lists:\n",
            "[[2, 4], [1, 3]]\n",
            "New DataFrame\n",
            "   col1  col2\n",
            "0     2     4\n",
            "1     1     3\n"
          ],
          "name": "stdout"
        }
      ]
    },
    {
      "cell_type": "markdown",
      "metadata": {
        "id": "H6TMlhdyGWkv",
        "colab_type": "text"
      },
      "source": [
        "**55, Viết chương trình Pandas để nhóm theo cột đầu tiên và nhận cột thứ hai dưới dạng danh sách theo hàng.**\n",
        "\n",
        "**Write a Pandas program to group by the first column and get second column as lists in rows.**\n",
        "\n"
      ]
    },
    {
      "cell_type": "code",
      "metadata": {
        "id": "IW-OqTgnGFY4",
        "colab_type": "code",
        "colab": {
          "base_uri": "https://localhost:8080/",
          "height": 289
        },
        "outputId": "dfeba2e8-0d43-428c-92b9-141910747895"
      },
      "source": [
        "df = pd.DataFrame( {'col1':['C1','C1','C2','C2','C2','C3','C2'], 'col2':[1,2,3,3,4,6,5]})\n",
        "print(\"Original DataFrame\")\n",
        "print(df)\n",
        "df = df.groupby('col1')['col2'].apply(list)\n",
        "print(\"\\nGroup on the col1:\")\n",
        "print(df)"
      ],
      "execution_count": 25,
      "outputs": [
        {
          "output_type": "stream",
          "text": [
            "Original DataFrame\n",
            "  col1  col2\n",
            "0   C1     1\n",
            "1   C1     2\n",
            "2   C2     3\n",
            "3   C2     3\n",
            "4   C2     4\n",
            "5   C3     6\n",
            "6   C2     5\n",
            "\n",
            "Group on the col1:\n",
            "col1\n",
            "C1          [1, 2]\n",
            "C2    [3, 3, 4, 5]\n",
            "C3             [6]\n",
            "Name: col2, dtype: object\n"
          ],
          "name": "stdout"
        }
      ]
    },
    {
      "cell_type": "markdown",
      "metadata": {
        "id": "Qf8UtFdaHzrP",
        "colab_type": "text"
      },
      "source": [
        "**56, Viết chương trình Pandas để lấy chỉ mục cột từ tên cột của DataFrame đã cho.**\n",
        "\n",
        "**Write a Pandas program to get column index from column name of a given DataFrame.**\n",
        "\n"
      ]
    },
    {
      "cell_type": "code",
      "metadata": {
        "id": "ffP2uhhpGgXC",
        "colab_type": "code",
        "colab": {
          "base_uri": "https://localhost:8080/",
          "height": 187
        },
        "outputId": "e94abe7b-9b17-49e6-cbde-486b439addb5"
      },
      "source": [
        "d = {'col1': [1, 2, 3, 4, 7], 'col2': [4, 5, 6, 9, 5], 'col3': [7, 8, 12, 1, 11]}\n",
        "df = pd.DataFrame(data=d)\n",
        "print(\"Original DataFrame\")\n",
        "print(df)\n",
        "print(\"\\nIndex of 'col2'\")\n",
        "print(df.columns.get_loc(\"col2\"))"
      ],
      "execution_count": 26,
      "outputs": [
        {
          "output_type": "stream",
          "text": [
            "Original DataFrame\n",
            "   col1  col2  col3\n",
            "0     1     4     7\n",
            "1     2     5     8\n",
            "2     3     6    12\n",
            "3     4     9     1\n",
            "4     7     5    11\n",
            "\n",
            "Index of 'col2'\n",
            "1\n"
          ],
          "name": "stdout"
        }
      ]
    },
    {
      "cell_type": "markdown",
      "metadata": {
        "id": "cbOhkGmAIEkS",
        "colab_type": "text"
      },
      "source": [
        "**57, Viết chương trình Pandas để đếm số lượng cột của DataFrame.**\n",
        "\n",
        "**Write a Pandas program to count number of columns of a DataFrame.**\n",
        "\n"
      ]
    },
    {
      "cell_type": "code",
      "metadata": {
        "id": "xRg5uWruH9Yj",
        "colab_type": "code",
        "colab": {
          "base_uri": "https://localhost:8080/",
          "height": 187
        },
        "outputId": "c6e6845e-e4cf-46ce-9905-61d3e05c89df"
      },
      "source": [
        "d = {'col1': [1, 2, 3, 4, 7], 'col2': [4, 5, 6, 9, 5], 'col3': [7, 8, 12, 1, 11]}\n",
        "df = pd.DataFrame(data=d)\n",
        "print(\"Original DataFrame\")\n",
        "print(df)\n",
        "print(\"\\nNumber of columns:\")\n",
        "print(len(df.columns))"
      ],
      "execution_count": 27,
      "outputs": [
        {
          "output_type": "stream",
          "text": [
            "Original DataFrame\n",
            "   col1  col2  col3\n",
            "0     1     4     7\n",
            "1     2     5     8\n",
            "2     3     6    12\n",
            "3     4     9     1\n",
            "4     7     5    11\n",
            "\n",
            "Number of columns:\n",
            "3\n"
          ],
          "name": "stdout"
        }
      ]
    },
    {
      "cell_type": "markdown",
      "metadata": {
        "id": "xAJseDJsISSR",
        "colab_type": "text"
      },
      "source": [
        "**58, Viết chương trình Pandas để chọn tất cả các cột, ngoại trừ một cột đã cho trong DataFrame.**\n",
        "\n",
        "**Write a Pandas program to select all columns, except one given column in a DataFrame.**\n",
        "\n"
      ]
    },
    {
      "cell_type": "code",
      "metadata": {
        "id": "8f2fmGbBIMxw",
        "colab_type": "code",
        "colab": {
          "base_uri": "https://localhost:8080/",
          "height": 272
        },
        "outputId": "b76bfb1b-0c58-4c1d-b37a-2ced2a117d1d"
      },
      "source": [
        "d = {'col1': [1, 2, 3, 4, 7], 'col2': [4, 5, 6, 9, 5], 'col3': [7, 8, 12, 1, 11]}\n",
        "df = pd.DataFrame(data=d)\n",
        "print(\"Original DataFrame\")\n",
        "print(df)\n",
        "print(\"\\nAll columns except 'col3':\")\n",
        "df = df.loc[:, df.columns != 'col3']\n",
        "print(df)"
      ],
      "execution_count": 28,
      "outputs": [
        {
          "output_type": "stream",
          "text": [
            "Original DataFrame\n",
            "   col1  col2  col3\n",
            "0     1     4     7\n",
            "1     2     5     8\n",
            "2     3     6    12\n",
            "3     4     9     1\n",
            "4     7     5    11\n",
            "\n",
            "All columns except 'col3':\n",
            "   col1  col2\n",
            "0     1     4\n",
            "1     2     5\n",
            "2     3     6\n",
            "3     4     9\n",
            "4     7     5\n"
          ],
          "name": "stdout"
        }
      ]
    },
    {
      "cell_type": "markdown",
      "metadata": {
        "id": "1pFVygEmIkIB",
        "colab_type": "text"
      },
      "source": [
        "**59, Viết chương trình Pandas để nhận n bản ghi đầu tiên của DataFrame.**\n",
        "\n",
        "**Write a Pandas program to get first n records of a DataFrame.**\n",
        "\n",
        "\n",
        "\n"
      ]
    },
    {
      "cell_type": "code",
      "metadata": {
        "id": "r2cb6y0bIa0f",
        "colab_type": "code",
        "colab": {
          "base_uri": "https://localhost:8080/",
          "height": 255
        },
        "outputId": "9640baf1-9f92-4217-9ad5-bdde2334306e"
      },
      "source": [
        "d = {'col1': [1, 2, 3, 4, 7, 11], 'col2': [4, 5, 6, 9, 5, 0], 'col3': [7, 5, 8, 12, 1,11]}\n",
        "df = pd.DataFrame(data=d)\n",
        "print(\"Original DataFrame\")\n",
        "print(df)\n",
        "print(\"\\nFirst 3 rows of the said DataFrame':\")\n",
        "df1 = df.head(3)\n",
        "print(df1)"
      ],
      "execution_count": 29,
      "outputs": [
        {
          "output_type": "stream",
          "text": [
            "Original DataFrame\n",
            "   col1  col2  col3\n",
            "0     1     4     7\n",
            "1     2     5     5\n",
            "2     3     6     8\n",
            "3     4     9    12\n",
            "4     7     5     1\n",
            "5    11     0    11\n",
            "\n",
            "First 3 rows of the said DataFrame':\n",
            "   col1  col2  col3\n",
            "0     1     4     7\n",
            "1     2     5     5\n",
            "2     3     6     8\n"
          ],
          "name": "stdout"
        }
      ]
    },
    {
      "cell_type": "markdown",
      "metadata": {
        "id": "Li-mSta1JsZe",
        "colab_type": "text"
      },
      "source": [
        "**60, Viết chương trình Pandas để nhận n bản ghi cuối cùng của DataFrame.**\n",
        "\n",
        "**Write a Pandas program to get last n records of a DataFrame.**\n",
        "\n"
      ]
    },
    {
      "cell_type": "code",
      "metadata": {
        "id": "EpSQXOFPJVcV",
        "colab_type": "code",
        "colab": {
          "base_uri": "https://localhost:8080/",
          "height": 255
        },
        "outputId": "5763c434-8b79-4c81-9f3b-be06d6f5a3c6"
      },
      "source": [
        "d = {'col1': [1, 2, 3, 4, 7, 11], 'col2': [4, 5, 6, 9, 5, 0], 'col3': [7, 5, 8, 12, 1,11]}\n",
        "df = pd.DataFrame(data=d)\n",
        "print(\"Original DataFrame\")\n",
        "print(df)\n",
        "print(\"\\nLast 3 rows of the said DataFrame':\")\n",
        "df1 = df.tail(3)\n",
        "print(df1)"
      ],
      "execution_count": 31,
      "outputs": [
        {
          "output_type": "stream",
          "text": [
            "Original DataFrame\n",
            "   col1  col2  col3\n",
            "0     1     4     7\n",
            "1     2     5     5\n",
            "2     3     6     8\n",
            "3     4     9    12\n",
            "4     7     5     1\n",
            "5    11     0    11\n",
            "\n",
            "Last 3 rows of the said DataFrame':\n",
            "   col1  col2  col3\n",
            "3     4     9    12\n",
            "4     7     5     1\n",
            "5    11     0    11\n"
          ],
          "name": "stdout"
        }
      ]
    },
    {
      "cell_type": "markdown",
      "metadata": {
        "id": "fNzCeC3zJ3hW",
        "colab_type": "text"
      },
      "source": [
        "**61, Viết chương trình Pandas để có được các bản ghi n trên cùng trong mỗi nhóm của DataFrame.**\n",
        "\n",
        "**Write a Pandas program to get topmost n records within each group of a DataFrame.**\n",
        "\n"
      ]
    },
    {
      "cell_type": "code",
      "metadata": {
        "id": "vS3hTBvDJyuR",
        "colab_type": "code",
        "colab": {
          "base_uri": "https://localhost:8080/",
          "height": 391
        },
        "outputId": "79a3a4d8-25c3-4f24-d29a-2c0e20a208ee"
      },
      "source": [
        "d = {'col1': [1, 2, 3, 4, 7, 11], 'col2': [4, 5, 6, 9, 5, 0], 'col3': [7, 5, 8, 12, 1,11]}\n",
        "df = pd.DataFrame(data=d)\n",
        "print(\"Original DataFrame\")\n",
        "print(df)\n",
        "print(\"\\ntopmost n records within each group of a DataFrame:\")\n",
        "df1 = df.nlargest(3, 'col1')\n",
        "print(df1)\n",
        "df2 = df.nlargest(3, 'col2')\n",
        "print(df2)\n",
        "df3 = df.nlargest(3, 'col3')\n",
        "print(df3)"
      ],
      "execution_count": 32,
      "outputs": [
        {
          "output_type": "stream",
          "text": [
            "Original DataFrame\n",
            "   col1  col2  col3\n",
            "0     1     4     7\n",
            "1     2     5     5\n",
            "2     3     6     8\n",
            "3     4     9    12\n",
            "4     7     5     1\n",
            "5    11     0    11\n",
            "\n",
            "topmost n records within each group of a DataFrame:\n",
            "   col1  col2  col3\n",
            "5    11     0    11\n",
            "4     7     5     1\n",
            "3     4     9    12\n",
            "   col1  col2  col3\n",
            "3     4     9    12\n",
            "2     3     6     8\n",
            "1     2     5     5\n",
            "   col1  col2  col3\n",
            "3     4     9    12\n",
            "5    11     0    11\n",
            "2     3     6     8\n"
          ],
          "name": "stdout"
        }
      ]
    },
    {
      "cell_type": "markdown",
      "metadata": {
        "id": "jTxPH82hKWqw",
        "colab_type": "text"
      },
      "source": [
        "**62, Viết chương trình Pandas để xóa n hàng đầu tiên của DataFrame đã cho.**\n",
        "\n",
        "**Write a Pandas program to remove first n rows of a given DataFrame.**\n",
        "\n"
      ]
    },
    {
      "cell_type": "code",
      "metadata": {
        "id": "EJryQ3tJKP-o",
        "colab_type": "code",
        "colab": {
          "base_uri": "https://localhost:8080/",
          "height": 255
        },
        "outputId": "a771cf09-a8bd-41da-c05c-24a194bae81c"
      },
      "source": [
        "d = {'col1': [1, 2, 3, 4, 7, 11], 'col2': [4, 5, 6, 9, 5, 0], 'col3': [7, 5, 8, 12, 1,11]}\n",
        "df = pd.DataFrame(data=d)\n",
        "print(\"Original DataFrame\")\n",
        "print(df)\n",
        "print(\"\\nAfter removing first 3 rows of the said DataFrame:\")\n",
        "df1 = df.iloc[3:]\n",
        "print(df1)"
      ],
      "execution_count": 33,
      "outputs": [
        {
          "output_type": "stream",
          "text": [
            "Original DataFrame\n",
            "   col1  col2  col3\n",
            "0     1     4     7\n",
            "1     2     5     5\n",
            "2     3     6     8\n",
            "3     4     9    12\n",
            "4     7     5     1\n",
            "5    11     0    11\n",
            "\n",
            "After removing first 3 rows of the said DataFrame:\n",
            "   col1  col2  col3\n",
            "3     4     9    12\n",
            "4     7     5     1\n",
            "5    11     0    11\n"
          ],
          "name": "stdout"
        }
      ]
    },
    {
      "cell_type": "markdown",
      "metadata": {
        "id": "o6WccYRmKnJp",
        "colab_type": "text"
      },
      "source": [
        "**63, Viết chương trình Pandas để xóa n hàng cuối cùng của DataFrame đã cho.**\n",
        "\n",
        "**Write a Pandas program to remove last n rows of a given DataFrame.**\n",
        "\n"
      ]
    },
    {
      "cell_type": "code",
      "metadata": {
        "id": "HMYCSjeEKhzX",
        "colab_type": "code",
        "colab": {
          "base_uri": "https://localhost:8080/",
          "height": 255
        },
        "outputId": "419808a1-4b6f-49d1-fbf8-97e782462c3b"
      },
      "source": [
        "d = {'col1': [1, 2, 3, 4, 7, 11], 'col2': [4, 5, 6, 9, 5, 0], 'col3': [7, 5, 8, 12, 1,11]}\n",
        "df = pd.DataFrame(data=d)\n",
        "print(\"Original DataFrame\")\n",
        "print(df)\n",
        "print(\"\\nAfter removing last 3 rows of the said DataFrame:\")\n",
        "df1 = df.iloc[:3]\n",
        "print(df1)"
      ],
      "execution_count": 34,
      "outputs": [
        {
          "output_type": "stream",
          "text": [
            "Original DataFrame\n",
            "   col1  col2  col3\n",
            "0     1     4     7\n",
            "1     2     5     5\n",
            "2     3     6     8\n",
            "3     4     9    12\n",
            "4     7     5     1\n",
            "5    11     0    11\n",
            "\n",
            "After removing last 3 rows of the said DataFrame:\n",
            "   col1  col2  col3\n",
            "0     1     4     7\n",
            "1     2     5     5\n",
            "2     3     6     8\n"
          ],
          "name": "stdout"
        }
      ]
    },
    {
      "cell_type": "markdown",
      "metadata": {
        "id": "OM-rfpIgKysd",
        "colab_type": "text"
      },
      "source": [
        "**64, Viết chương trình Pandas để chuyển đổi chuỗi đã cho thành một khung dữ liệu với chỉ mục của nó là một cột khác trên khung dữ liệu.**\n",
        "\n",
        "**Write a Pandas program to convert given series into a dataframe with its index as another column on the dataframe.**\n",
        "\n"
      ]
    },
    {
      "cell_type": "code",
      "metadata": {
        "id": "YEN3WEKYKtt2",
        "colab_type": "code",
        "colab": {
          "base_uri": "https://localhost:8080/",
          "height": 272
        },
        "outputId": "77f9330e-20d5-4436-b6a8-e02d1708a831"
      },
      "source": [
        "char_list = list('ABCDEFGHIJKLMNOP')\n",
        "num_arra = np.arange(8)\n",
        "num_dict = dict(zip(char_list, num_arra))\n",
        "num_ser = pd.Series(num_dict)\n",
        "df = num_ser.to_frame().reset_index()\n",
        "print(df.head())\n",
        "print(df)"
      ],
      "execution_count": 36,
      "outputs": [
        {
          "output_type": "stream",
          "text": [
            "  index  0\n",
            "0     A  0\n",
            "1     B  1\n",
            "2     C  2\n",
            "3     D  3\n",
            "4     E  4\n",
            "  index  0\n",
            "0     A  0\n",
            "1     B  1\n",
            "2     C  2\n",
            "3     D  3\n",
            "4     E  4\n",
            "5     F  5\n",
            "6     G  6\n",
            "7     H  7\n"
          ],
          "name": "stdout"
        }
      ]
    },
    {
      "cell_type": "markdown",
      "metadata": {
        "id": "07gAbZ85LhCG",
        "colab_type": "text"
      },
      "source": [
        "**65, Viết chương trình Pandas để xếp chồng hai chuỗi đã cho theo chiều dọc và chiều ngang.**\n",
        "\n",
        "**Write a Pandas program to stack two given series vertically and horizontally.**\n",
        "\n"
      ]
    },
    {
      "cell_type": "code",
      "metadata": {
        "id": "qgneakpxLJlo",
        "colab_type": "code",
        "colab": {
          "base_uri": "https://localhost:8080/",
          "height": 629
        },
        "outputId": "92b789c4-1dce-4f0d-df6c-4474af284efe"
      },
      "source": [
        "series1 = pd.Series(range(10))\n",
        "series2 = pd.Series(list('pqrstuvwxy'))\n",
        "print(\"Original Series:\")\n",
        "print(series1)\n",
        "print(series2)\n",
        "series1.append(series2)\n",
        "df = pd.concat([series1, series2], axis=1)\n",
        "print(\"\\nStack two given series vertically and horizontally\")\n",
        "print(df)"
      ],
      "execution_count": 37,
      "outputs": [
        {
          "output_type": "stream",
          "text": [
            "Original Series:\n",
            "0    0\n",
            "1    1\n",
            "2    2\n",
            "3    3\n",
            "4    4\n",
            "5    5\n",
            "6    6\n",
            "7    7\n",
            "8    8\n",
            "9    9\n",
            "dtype: int64\n",
            "0    p\n",
            "1    q\n",
            "2    r\n",
            "3    s\n",
            "4    t\n",
            "5    u\n",
            "6    v\n",
            "7    w\n",
            "8    x\n",
            "9    y\n",
            "dtype: object\n",
            "\n",
            "Stack two given series vertically and horizontally\n",
            "   0  1\n",
            "0  0  p\n",
            "1  1  q\n",
            "2  2  r\n",
            "3  3  s\n",
            "4  4  t\n",
            "5  5  u\n",
            "6  6  v\n",
            "7  7  w\n",
            "8  8  x\n",
            "9  9  y\n"
          ],
          "name": "stdout"
        }
      ]
    },
    {
      "cell_type": "code",
      "metadata": {
        "id": "i4OmqjhkL1Cw",
        "colab_type": "code",
        "colab": {}
      },
      "source": [
        ""
      ],
      "execution_count": 0,
      "outputs": []
    }
  ]
}