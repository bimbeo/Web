{
  "nbformat": 4,
  "nbformat_minor": 0,
  "metadata": {
    "colab": {
      "name": "heap queue algorithm.ipynb",
      "provenance": [],
      "authorship_tag": "ABX9TyPLCeVjvOU7sDkaSMe1pgrY",
      "include_colab_link": true
    },
    "kernelspec": {
      "name": "python3",
      "display_name": "Python 3"
    }
  },
  "cells": [
    {
      "cell_type": "markdown",
      "metadata": {
        "id": "view-in-github",
        "colab_type": "text"
      },
      "source": [
        "<a href=\"https://colab.research.google.com/github/bimbeo/Web/blob/master/heap_queue_algorithm.ipynb\" target=\"_parent\"><img src=\"https://colab.research.google.com/assets/colab-badge.svg\" alt=\"Open In Colab\"/></a>"
      ]
    },
    {
      "cell_type": "markdown",
      "metadata": {
        "id": "C2wvZhUk0ZEP",
        "colab_type": "text"
      },
      "source": [
        "**Heaps là cây nhị phân mà mỗi nút cha có giá trị nhỏ hơn hoặc bằng bất kỳ con nào của nó**\n",
        "\n",
        "**Heaps are binary trees for which every parent node has a value less than or equal to any of its children**\n",
        "\n",
        "https://docs.python.org/3/library/pprint.html\n",
        "\n",
        "https://docs.python.org/2/library/heapq.html\n",
        "\n",
        "![alt text](https://www.w3resource.com/w3r_images/heap_queue.svg)"
      ]
    },
    {
      "cell_type": "markdown",
      "metadata": {
        "id": "z8if7f9f0lqV",
        "colab_type": "text"
      },
      "source": [
        "**1, Viết chương trình Python để tìm ba số nguyên lớn nhất từ danh sách các số đã cho bằng thuật toán hàng đợi Heap.**\n",
        "\n",
        "**Write a Python program to find the three largest integers from a given list of numbers using Heap queue algorithm.**\n",
        "\n",
        "**heapq.nlargest(n, iterable[, key])**: Return a list with the n largest elements from the dataset defined by iterable. key, if provided, specifies a function of one argument that is used to extract a comparison key from each element in the iterable: key=str.lower Equivalent to: sorted(iterable, key=key, reverse=True)[:n]\n",
        "\n",
        "Trả về một danh sách với n phần tử lớn nhất từ tập dữ liệu được xác định bởi iterable. khóa, nếu được cung cấp, chỉ định một hàm của một đối số được sử dụng để trích xuất khóa so sánh từ mỗi phần tử trong iterable: key = str.lower Equivalent to: sort (iterable, key = key, Reverse = True) [: n]"
      ]
    },
    {
      "cell_type": "code",
      "metadata": {
        "id": "ZudXPGYB0LUj",
        "colab_type": "code",
        "outputId": "c7c68b41-aefe-4bbc-c698-ad827c96138e",
        "colab": {
          "base_uri": "https://localhost:8080/",
          "height": 85
        }
      },
      "source": [
        "import heapq as hq\n",
        "num_list = [25,35,22,85,14,65,75,22,58]\n",
        "print(\"Origial list: \")\n",
        "print(num_list)\n",
        "largest_nums = hq.nlargest(3, num_list)\n",
        "print(\"\\nThree largest numbers are: \", largest_nums)"
      ],
      "execution_count": 0,
      "outputs": [
        {
          "output_type": "stream",
          "text": [
            "Origial list: \n",
            "[25, 35, 22, 85, 14, 65, 75, 22, 58]\n",
            "\n",
            "Three largest numbers are:  [85, 75, 65]\n"
          ],
          "name": "stdout"
        }
      ]
    },
    {
      "cell_type": "markdown",
      "metadata": {
        "id": "3HwZKIcv2Hic",
        "colab_type": "text"
      },
      "source": [
        "**2, Viết chương trình Python để tìm ba số nguyên nhỏ nhất từ danh sách các số đã cho bằng thuật toán hàng đợi Heap.**\n",
        "\n",
        "**Write a Python program to find the three smallest integers from a given list of numbers using Heap queue algorithm.**\n",
        "\n",
        "**heapq.nsmallest(n, iterable[, key])**\n"
      ]
    },
    {
      "cell_type": "code",
      "metadata": {
        "id": "pYN68zdZ1IPU",
        "colab_type": "code",
        "outputId": "29bb7683-db3d-42ac-d811-de5a938b223b",
        "colab": {
          "base_uri": "https://localhost:8080/",
          "height": 85
        }
      },
      "source": [
        "import heapq as hq\n",
        "nums_list = [25, 35, 22, 85, 14, 65, 75, 22, 58]\n",
        "print(\"Original list:\")\n",
        "print(nums_list)\n",
        "# Find three smallest values\n",
        "largest_nums = hq.nsmallest(3, nums_list)\n",
        "print(\"\\nThree smallest numbers are:\", largest_nums)"
      ],
      "execution_count": 0,
      "outputs": [
        {
          "output_type": "stream",
          "text": [
            "Original list:\n",
            "[25, 35, 22, 85, 14, 65, 75, 22, 58]\n",
            "\n",
            "Three smallest numbers are: [14, 22, 22]\n"
          ],
          "name": "stdout"
        }
      ]
    },
    {
      "cell_type": "markdown",
      "metadata": {
        "id": "xvkNL6Hr2bTn",
        "colab_type": "text"
      },
      "source": [
        "**3, Viết chương trình Python để thực hiện heapsort bằng cách đẩy tất cả các giá trị lên một heap và sau đó bật ra từng giá trị nhỏ nhất.**\n",
        "\n",
        "**Write a Python program to implement a heapsort by pushing all values onto a heap and then popping off the smallest values one at a time.**\n",
        "\n",
        "**heapq.heappush(heap, item)**:\n",
        "\n",
        "Push the value item onto the heap, maintaining the heap invariant.\n",
        "\n",
        "Đẩy vật phẩm giá trị lên heap, duy trì bất biến heap.\n",
        "\n",
        "**heapq.heappop(heap)**\n",
        "\n",
        "Pop and return the smallest item from the heap, maintaining the heap invariant. If the heap is empty, IndexError is raised. To access the smallest item without popping it, use heap[0].\n",
        "\n",
        "Pop và trả lại các mục nhỏ nhất từ heap, duy trì bất biến heap. Nếu heap trống, IndexError được nâng lên. Để truy cập mục nhỏ nhất mà không xuất hiện, sử dụng heap [0].\n"
      ]
    },
    {
      "cell_type": "code",
      "metadata": {
        "id": "k84ktVXx2MXv",
        "colab_type": "code",
        "outputId": "f14511e8-3b49-4802-82f3-a288fe96cbee",
        "colab": {
          "base_uri": "https://localhost:8080/",
          "height": 34
        }
      },
      "source": [
        "import heapq as hq\n",
        "def heapsort(iterable):\n",
        "  h = []\n",
        "  for value in iterable:                          # Duyệt giá trị từng phần tử trong list truyền vòng\n",
        "    hq.heappush(h, value)                         # Đẩy từng giá trị value vào list heap h = [0,1,2,6,3,5,4,7,8,9]\n",
        "  return [hq.heappop(h) for i in range(len(h))]   # tạo list bằng comprehesion, số lần lặp bằng độ dài của list h, biểu thức là lấy từng phần tử trong h từ bé sang lớn\n",
        "print(heapsort([1,3,5,7,9,2,4,6,8,0]))"
      ],
      "execution_count": 0,
      "outputs": [
        {
          "output_type": "stream",
          "text": [
            "[0, 1, 2, 3, 4, 5, 6, 7, 8, 9]\n"
          ],
          "name": "stdout"
        }
      ]
    },
    {
      "cell_type": "markdown",
      "metadata": {
        "id": "aBabD28CIiBo",
        "colab_type": "text"
      },
      "source": [
        "**4, Viết hàm Python chấp nhận một danh sách tùy ý và chuyển đổi nó thành một đống bằng thuật toán hàng đợi Heap.**\n",
        "\n",
        "**Write a Python function which accepts an arbitrary list and converts it to a heap using Heap queue algorithm.**\n",
        "\n",
        "**heapq.heapify (x)**\n",
        "\n",
        "Transform list x into a heap, in-place, in linear time\n",
        "\n",
        "Chuyển đổi danh sách x thành một đống, tại chỗ, trong thời gian tuyến tính"
      ]
    },
    {
      "cell_type": "code",
      "metadata": {
        "id": "9nRIjvMe20en",
        "colab_type": "code",
        "outputId": "fc97f9e9-ec06-4d45-ada5-38e673218ddc",
        "colab": {
          "base_uri": "https://localhost:8080/",
          "height": 68
        }
      },
      "source": [
        "import heapq as hq\n",
        "raw_heap = [25, 44, 68, 21, 39, 23, 89]\n",
        "print(\"Raw Heap: \", raw_heap)\n",
        "hq.heapify(raw_heap)\n",
        "print(\"\\nHeapify(heap): \", raw_heap)"
      ],
      "execution_count": 0,
      "outputs": [
        {
          "output_type": "stream",
          "text": [
            "Raw Heap:  [25, 44, 68, 21, 39, 23, 89]\n",
            "\n",
            "Heapify(heap):  [21, 25, 23, 44, 39, 68, 89]\n"
          ],
          "name": "stdout"
        }
      ]
    },
    {
      "cell_type": "markdown",
      "metadata": {
        "id": "EYeEdTSTJwXq",
        "colab_type": "text"
      },
      "source": [
        "**5, Viết chương trình Python để xóa phần tử nhỏ nhất khỏi Heap đã cho và sau đó chèn một mục mới.**\n",
        "\n",
        "**Write a Python program to delete the smallest element from the given Heap and then inserts a new item.**\n",
        "\n",
        "**heapq.heapreplace(heap, item)¶**\n",
        "\n",
        "Pop and return the smallest item from the heap, and also push the new item. The heap size doesn’t change. If the heap is empty, IndexError is raised.\n",
        "\n",
        "Bật và trả lại vật phẩm nhỏ nhất từ đống, và cũng đẩy vật phẩm mới. Kích thước heap không thay đổi. Nếu heap trống, IndexError được nâng lên."
      ]
    },
    {
      "cell_type": "code",
      "metadata": {
        "id": "ZI_qyQrYI6D5",
        "colab_type": "code",
        "outputId": "91c6c13a-428f-4977-8285-6073aa772db1",
        "colab": {
          "base_uri": "https://localhost:8080/",
          "height": 68
        }
      },
      "source": [
        "import heapq as hq\n",
        "\n",
        "heap = [25,44,68,21,39,23,89]\n",
        "hq.heapify(heap)\n",
        "print(\"heap:\", heap)\n",
        "hq.heapreplace(heap, 21)\n",
        "print(\"heapreplace(heap, 21): \", heap)\n",
        "hq.heapreplace(heap, 110)\n",
        "print(\"heapreplace(heap, 110): \", heap)"
      ],
      "execution_count": 0,
      "outputs": [
        {
          "output_type": "stream",
          "text": [
            "heap: [21, 25, 23, 44, 39, 68, 89]\n",
            "heapreplace(heap, 21):  [21, 25, 23, 44, 39, 68, 89]\n",
            "heapreplace(heap, 110):  [23, 25, 68, 44, 39, 110, 89]\n"
          ],
          "name": "stdout"
        }
      ]
    },
    {
      "cell_type": "markdown",
      "metadata": {
        "id": "EqKz-ur6KxYX",
        "colab_type": "text"
      },
      "source": [
        "**6, Viết chương trình Python để sắp xếp danh sách các phần tử đã cho theo thứ tự tăng dần bằng thuật toán hàng đợi Heap.**\n",
        "\n",
        "**Write a Python program to sort a given list of elements in ascending order using Heap queue algorithm.**\n",
        "\n"
      ]
    },
    {
      "cell_type": "code",
      "metadata": {
        "id": "FfhpGEPaKLJ2",
        "colab_type": "code",
        "outputId": "7aac724e-1253-47fa-e165-2fff898f6aff",
        "colab": {
          "base_uri": "https://localhost:8080/",
          "height": 85
        }
      },
      "source": [
        "import heapq as hq\n",
        "nums_list = [18,14,10,9,8,7,9,3,2,4,1]\n",
        "print(\"Original list: \")\n",
        "print(nums_list)\n",
        "hq.heapify(nums_list)                           # chuyển list thành heap, [1,2,7,3,4,10,9,18,9,14,18]\n",
        "s_result = [hq.heappop(nums_list) for i in range(len(nums_list))] # tạo list bằng comprehesion, số lần lặp bằng độ dài của nums_list, biểu thức là lấy từng phần tử trong nums_list từ bé sang lớn\n",
        "print(\"\\Sorted list: \")\n",
        "print(s_result)"
      ],
      "execution_count": 0,
      "outputs": [
        {
          "output_type": "stream",
          "text": [
            "Original list: \n",
            "[18, 14, 10, 9, 8, 7, 9, 3, 2, 4, 1]\n",
            "\\Sorted list: \n",
            "[1, 2, 3, 4, 7, 8, 9, 9, 10, 14, 18]\n"
          ],
          "name": "stdout"
        }
      ]
    },
    {
      "cell_type": "markdown",
      "metadata": {
        "id": "HPNbuo_HMVXO",
        "colab_type": "text"
      },
      "source": [
        "**7, Viết chương trình Python để tìm phần tử lớn nhất thứ k (1 <= k <= chiều dài của mảng) trong một mảng chưa được sắp xếp bằng thuật toán hàng đợi Heap.**\n",
        "\n",
        "**Write a Python program to find the kth (1 <= k <= array's length) largest element in an unsorted array using Heap queue algorithm.**"
      ]
    },
    {
      "cell_type": "code",
      "metadata": {
        "id": "gtAvHAOlLaPZ",
        "colab_type": "code",
        "outputId": "80c7350a-581b-423f-a851-e451238e6815",
        "colab": {
          "base_uri": "https://localhost:8080/",
          "height": 102
        }
      },
      "source": [
        "import heapq\n",
        "\n",
        "class Solution(object):\n",
        "  def find_Kth_Largest(self, nums, k):\n",
        "    \"\"\"\n",
        "    :type nums: List[int]\n",
        "    :type of k: int\n",
        "    :return value type: int\n",
        "    \"\"\"\n",
        "    h = []                                  # tạo h = [], mục đích để gán kết quả vào h\n",
        "    for e in nums:                          # duyệt giá trị từng phần tử trong nums truyền vào\n",
        "      heapq.heappush(h, (-e, e))            # đẩy kết quả vào heap. VD: tuplse (-e, e) = (-12, 12)\n",
        "    for i in range(k):                      # vòng lặp for với số lần lặp k\n",
        "      w, e = heapq.heappop(h)               # heappop lấy từng phần tử từ bé đến lớn trong h rồi gán cho w,e. VD: w = -12, e = 12  \n",
        "      if i == k - 1:                        # điều kiện để trả về kết quả khi, i = k - 1\n",
        "        return e\n",
        "\n",
        "arr_nums = [12,14,9,50,61,41]\n",
        "s = Solution()                              # gán s = class Solution()\n",
        "result = s.find_Kth_Largest(arr_nums, 3)    # biến result, gọi hàm trong class bằng s.find_Kth_Largest với tham số mảng nums, và phần tử lớn nhất thứ 3\n",
        "print(\"Third largest element:\",result)\n",
        "result = s.find_Kth_Largest(arr_nums, 2)\n",
        "print(\"\\nSecond largest element:\",result)\n",
        "result = s.find_Kth_Largest(arr_nums, 5)\n",
        "print(\"\\nFifth largest element:\",result)"
      ],
      "execution_count": 0,
      "outputs": [
        {
          "output_type": "stream",
          "text": [
            "Third largest element: 41\n",
            "\n",
            "Second largest element: 50\n",
            "\n",
            "Fifth largest element: 12\n"
          ],
          "name": "stdout"
        }
      ]
    },
    {
      "cell_type": "markdown",
      "metadata": {
        "id": "tEwbLGzgPmjW",
        "colab_type": "text"
      },
      "source": [
        "**8, Viết chương trình Python để tính sản phẩm tối đa gồm ba số của một mảng số nguyên đã cho bằng thuật toán hàng đợi Heap.**\n",
        "\n",
        "**Write a Python program to compute maximum product of three numbers of a given array of integers using Heap queue algorithm.**\n",
        "\n"
      ]
    },
    {
      "cell_type": "code",
      "metadata": {
        "id": "WOSJoPxbPyig",
        "colab_type": "code",
        "outputId": "0a0d9fd5-b6d1-4563-ff24-7bdfdbf840b7",
        "colab": {
          "base_uri": "https://localhost:8080/",
          "height": 85
        }
      },
      "source": [
        "import heapq\n",
        "def maximumProduct(nums):\n",
        "  a, b = heapq.nlargest(3, nums), heapq.nsmallest(2, nums)    # a = [74,61,50], b=[9,12]\n",
        "  return max(a[0] * a[1] * a[2], a[0] * b[0] * b[1])\n",
        "\n",
        "arr_nums = [12, 74, 9, 50, 61, 41]\n",
        "print(\"Original array elements:\")\n",
        "print(arr_nums)\n",
        "print(\"Maximum product of three numbers of the said array:\")\n",
        "print(maximumProduct(arr_nums))"
      ],
      "execution_count": 0,
      "outputs": [
        {
          "output_type": "stream",
          "text": [
            "Original array elements:\n",
            "[12, 74, 9, 50, 61, 41]\n",
            "Maximum product of three numbers of the said array:\n",
            "225700\n"
          ],
          "name": "stdout"
        }
      ]
    },
    {
      "cell_type": "markdown",
      "metadata": {
        "id": "7ns3pUhgQlN9",
        "colab_type": "text"
      },
      "source": [
        "**9, Viết chương trình Python để tìm các số nguyên k hàng đầu xảy ra thường xuyên nhất từ một danh sách nhất định các số nguyên được sắp xếp và phân biệt bằng thuật toán hàng đợi Heap.**\n",
        "\n",
        "**Write a Python program to find the top k integers that occur the most frequently from a given lists of sorted and distinct integers using Heap queue algorithm.**"
      ]
    },
    {
      "cell_type": "code",
      "metadata": {
        "id": "UBns6x9vQIP-",
        "colab_type": "code",
        "outputId": "cf49ad17-7119-466a-ec70-c4491566bf1f",
        "colab": {
          "base_uri": "https://localhost:8080/",
          "height": 102
        }
      },
      "source": [
        "import collections\n",
        "import heapq\n",
        "def func(nums, k):\n",
        "  d = collections.defaultdict(int)          # defaultdict(<class 'int'>, {}), sau khi duyệt hết tất cả giá trị trong nums --> defaultdict(<class 'int'>, {1: 4, 2: 2, 6: 2, 3: 2, 4: 2, 5: 3, 7: 3, 8: 3, 9: 1, 11: 1, 12: 1})\n",
        "  for row in nums:                          # duyệt giá trị từng phần từ trong nums truyền vào, mỗi giá trị bên trong còn 1 list con nhỏ nữa\n",
        "    for i in row:                           # duyệt giá trị từng phần tử trong list con. \n",
        "      d[i] += 1                             # dict d ở trên được gán thêm sau mỗi lần lặp. VD: i = 1 thì d = {1:1}, i=2 -> d={1:1, 2:1, ...}. \n",
        "  temp = []                                 # tạo 1 list temp rỗng, temp = [(4, 1), (2, 2), (2,6)] -> [(2, 2), (4, 1), (2, 6)]\n",
        "  for key, v in d.items():                  # duyệt giá trị từng key, value trong dict d\n",
        "    if len(temp) < k:                       # điều kiện nếu độ dài temp < k, giá trị truyền vào. VD: k = 3\n",
        "      temp.append((v, key))                 # thêm 1 tuple cặp (value, key) vào list temp. (4,1)\n",
        "      if len(temp) == k:                    # điều kiện nếu độ dài teamp = k\n",
        "        heapq.heapify(temp)                 # chuyển list teamp thành heap, heap = [(2, 2), (4, 1), (2, 6)]\n",
        "    else:                                   # chuyển khi độ dài temp >= k thì\n",
        "      if v > temp[0][0]:                    # điều kiện khi v > temp[0][0] tức v > 2\n",
        "        heapq.heappop(temp)                 # bỏ ra 1 phần tử trong temp từ bên phải sang. VD: temp = [(2, 2), (4, 1)]\n",
        "        heapq.heappush(temp, (v,key))       # đẩy 1 phần tử thỏa mãn v > 2 vào lại temp. VD: [(2, 6), (4, 1), (3, 5)]  -> ... -> [(3,5), (4,1), (3,7)]\n",
        "  result = []                               # tạo 1 list result rỗng\n",
        "  while temp:                               # tạo 1 vòng lặp while, dừng lại khi hết phần tử trong temp\n",
        "    v, key = heapq.heappop(temp)            # gán v, key = giá trị phần tử trong temp. VD: (3, 5) -> v = 3, key = 5\n",
        "    result.append(key)                      # thêm key đó vào result\n",
        "  return result                             # trả về kết quả result sau khi thêm key vào. VD: result = [5, 7, 1]\n",
        "\n",
        "nums = [\n",
        "      [1, 2, 6],\n",
        "      [1, 3, 4, 5, 7, 8],\n",
        "      [1, 3, 5, 6, 8, 9],\n",
        "      [2, 5, 7, 11],\n",
        "      [1, 4, 7, 8, 12]\n",
        "    ]  \n",
        "k = 3\n",
        "print(\"Original lists:\")\n",
        "print(nums)\n",
        "print(\"\\nTop 3 integers that occur the most frequently in the said lists:\")\n",
        "print(func(nums, k))\n"
      ],
      "execution_count": 0,
      "outputs": [
        {
          "output_type": "stream",
          "text": [
            "Original lists:\n",
            "[[1, 2, 6], [1, 3, 4, 5, 7, 8], [1, 3, 5, 6, 8, 9], [2, 5, 7, 11], [1, 4, 7, 8, 12]]\n",
            "\n",
            "Top 3 integers that occur the most frequently in the said lists:\n",
            "[5, 7, 1]\n"
          ],
          "name": "stdout"
        }
      ]
    },
    {
      "cell_type": "markdown",
      "metadata": {
        "id": "7AFFLMT2XtGf",
        "colab_type": "text"
      },
      "source": [
        "**10, Viết chương trình Python để lấy n mục giá đắt và rẻ từ bộ dữ liệu đã cho bằng thuật toán hàng đợi Heap.**\n",
        "\n",
        "**Write a Python program to get the n expensive and cheap price items from a given dataset using Heap queue algorithm.**\n",
        "\n",
        "The **pprint** module provides a capability to “pretty-print” arbitrary Python data structures in a form which can be used as input to the interpreter\n",
        "\n",
        "In dữ liệu đẹp"
      ]
    },
    {
      "cell_type": "code",
      "metadata": {
        "id": "JV0FUtJ2ReuD",
        "colab_type": "code",
        "outputId": "e797fd54-ea6c-4850-b1eb-910f09dc4593",
        "colab": {
          "base_uri": "https://localhost:8080/",
          "height": 340
        }
      },
      "source": [
        "import heapq\n",
        "from pprint import pprint\n",
        "items = [\n",
        "    {'name': 'Item-1', 'price': 101.1},\n",
        "    {'name': 'Item-2', 'price': 555.22},\n",
        "    {'name': 'Item-3', 'price': 45.09},\n",
        "    {'name': 'Item-4', 'price': 22.75},\n",
        "    {'name': 'Item-5', 'price': 16.30},\n",
        "    {'name': 'Item-6', 'price': 110.65}\n",
        "]\n",
        "cheap = heapq.nsmallest(3, items, key= lambda s: s['price'])\n",
        "expensive = heapq.nlargest(3, items, key= lambda s: s['price'])\n",
        "print(\"Original datasets: \")\n",
        "pprint(items)\n",
        "print(\"\\nFirst 3 expensive items: \")\n",
        "pprint(expensive)\n",
        "print(\"\\nFirst 3 cheap items: \")\n",
        "pprint(cheap)\n",
        "print() \n",
        "print(cheap)"
      ],
      "execution_count": 0,
      "outputs": [
        {
          "output_type": "stream",
          "text": [
            "Original datasets: \n",
            "[{'name': 'Item-1', 'price': 101.1},\n",
            " {'name': 'Item-2', 'price': 555.22},\n",
            " {'name': 'Item-3', 'price': 45.09},\n",
            " {'name': 'Item-4', 'price': 22.75},\n",
            " {'name': 'Item-5', 'price': 16.3},\n",
            " {'name': 'Item-6', 'price': 110.65}]\n",
            "\n",
            "First 3 expensive items: \n",
            "[{'name': 'Item-2', 'price': 555.22},\n",
            " {'name': 'Item-6', 'price': 110.65},\n",
            " {'name': 'Item-1', 'price': 101.1}]\n",
            "\n",
            "First 3 cheap items: \n",
            "[{'name': 'Item-5', 'price': 16.3},\n",
            " {'name': 'Item-4', 'price': 22.75},\n",
            " {'name': 'Item-3', 'price': 45.09}]\n",
            "\n",
            "[{'name': 'Item-5', 'price': 16.3}, {'name': 'Item-4', 'price': 22.75}, {'name': 'Item-3', 'price': 45.09}]\n"
          ],
          "name": "stdout"
        }
      ]
    },
    {
      "cell_type": "markdown",
      "metadata": {
        "id": "nTBan5yqZgPg",
        "colab_type": "text"
      },
      "source": [
        "**11, Viết chương trình Python để hợp nhất nhiều đầu vào được sắp xếp vào một trình vòng lặp được sắp xếp duy nhất (qua các giá trị được sắp xếp) bằng thuật toán hàng đợi Heap.**\n",
        "\n",
        "**Write a Python program to merge multiple sorted inputs into a single sorted iterator (over the sorted values) using Heap queue algorithm.**\n",
        "\n",
        "**heapq.merge(*iterables)**:\n",
        "\n",
        "Merge multiple sorted inputs into a single sorted output (for example, merge timestamped entries from multiple log files). Returns an iterator over the sorted values.\n",
        "\n",
        "Hợp nhất nhiều đầu vào được sắp xếp thành một đầu ra được sắp xếp duy nhất (ví dụ: hợp nhất các mục được đánh dấu thời gian từ nhiều tệp nhật ký). Trả về một trình vòng lặp qua các giá trị được sắp xếp.\n"
      ]
    },
    {
      "cell_type": "code",
      "metadata": {
        "id": "L2JM7R8yYaTU",
        "colab_type": "code",
        "outputId": "a6ed1acc-b99b-4ea6-86c9-7f379780fefa",
        "colab": {
          "base_uri": "https://localhost:8080/",
          "height": 34
        }
      },
      "source": [
        "import heapq\n",
        "num1 = [25, 24, 15, 4, 5, 29, 110]\n",
        "num2 = [19, 20, 11, 56, 25, 233, 154]\n",
        "num3 = [24, 26, 54, 48]\n",
        "num1 = sorted(num1)\n",
        "num2 = sorted(num2)\n",
        "num3 = sorted(num3)\n",
        "result = heapq.merge(num1, num2, num3)\n",
        "print(list(result))"
      ],
      "execution_count": 0,
      "outputs": [
        {
          "output_type": "stream",
          "text": [
            "[4, 5, 11, 15, 19, 20, 24, 24, 25, 25, 26, 29, 48, 54, 56, 110, 154, 233]\n"
          ],
          "name": "stdout"
        }
      ]
    },
    {
      "cell_type": "markdown",
      "metadata": {
        "id": "DOabSmJqaGsm",
        "colab_type": "text"
      },
      "source": [
        "**12, Cho một ma trận n x n trong đó mỗi hàng và cột được sắp xếp theo thứ tự tăng dần, hãy viết chương trình Python để tìm phần tử nhỏ thứ k trong ma trận.**\n",
        "\n",
        "**Given a n x n matrix where each of the rows and columns are sorted in ascending order, write a Python program to find the kth smallest element in the matrix.**"
      ]
    },
    {
      "cell_type": "code",
      "metadata": {
        "id": "0EG01RedZuAP",
        "colab_type": "code",
        "outputId": "fe1cdc48-b407-4f91-d3c3-349502ef66d7",
        "colab": {
          "base_uri": "https://localhost:8080/",
          "height": 102
        }
      },
      "source": [
        "import heapq\n",
        "class Solution(object):\n",
        "  def find_Kth_Smallest(self, matrix, k):\n",
        "    \"\"\"\n",
        "        :type matrix: List[List[int]]\n",
        "        :type k: int\n",
        "        :rtype: int\n",
        "    \"\"\"\n",
        "    m, n = len(matrix), len(matrix[0])                  # gán m = độ dài phần tử ma trận, n = độ dài phần tử ma trận con. VD m = 3, n = 3\n",
        "    temp = [[False] * n for _ in range(m)]              # tạo list temp, temp = [[False, False, False], [False, False, False], [False, False, False]]\n",
        "    q = [(matrix[0][0], 0, 0)]                          # tạo list q. VD: [[0,0,0]]\n",
        "    ans = None                                          # tạo ans = None\n",
        "    temp[0][0] = True                                   # Đổi giá trị của index temp[0][0] = True. VD: [[True, False, False], ...]\n",
        "    for _ in range(k):                                  # tạo vòng lặp, số lằn lặp = k\n",
        "      ans, i, j = heapq.heappop(q)                      # gán ans, i, j = (0, 0 ,0) -> ans = 0, i = 0, j = 0 -> q = []\n",
        "      if i + 1 < m and not temp[i + 1][j]:\n",
        "        temp[i + 1][j] = True\n",
        "        heapq.heappush(q, (matrix[i+1][j], i+1, j))\n",
        "      if j+1 < n and not temp[i][j + 1]:\n",
        "        temp[i][j + 1] = True\n",
        "        heapq.heappush(q, (matrix[i][j+1], i, j+ 1))\n",
        "    return ans\n",
        "  \n",
        "matrix = [\n",
        "   [0, 5, 9],\n",
        "   [11, 12, 13],\n",
        "   [15, 17, 19]   \n",
        "]\n",
        "k = 1\n",
        "s = Solution()\n",
        "result = s.find_Kth_Smallest(matrix, k)\n",
        "print(\"First smallest element:\",result)\n",
        "k = 2\n",
        "s = Solution()\n",
        "result = s.find_Kth_Smallest(matrix, k)\n",
        "print(\"\\nSecond smallest element:\",result)\n",
        "k = 3\n",
        "s = Solution()\n",
        "result = s.find_Kth_Smallest(matrix, k)\n",
        "print(\"\\nThird smallest element:\",result)"
      ],
      "execution_count": 0,
      "outputs": [
        {
          "output_type": "stream",
          "text": [
            "First smallest element: 0\n",
            "\n",
            "Second smallest element: 5\n",
            "\n",
            "Third smallest element: 9\n"
          ],
          "name": "stdout"
        }
      ]
    },
    {
      "cell_type": "markdown",
      "metadata": {
        "id": "O5FaRdGuLPpO",
        "colab_type": "text"
      },
      "source": [
        "**13, Viết chương trình Python để tìm số siêu xấu thứ n từ danh sách nguyên tố nhất định có kích thước k sử dụng thuật toán hàng đợi Heap.**\n",
        "\n",
        "**Write a Python program to find the nth super ugly number from a given prime list of size k using Heap queue algorithm.**\n",
        "\n",
        "Super ugly numbers are positive numbers whose all prime factors are in the given prime list primes of size k. For example, [1, 2, 4, 7, 8, 13, 14, 16, 19, 26, 28, 32] is the sequence of the first 12 super ugly numbers given primes = [2, 7, 13, 19] of size 4.\n",
        "\n",
        "Các số siêu xấu là các số dương có tất cả các thừa số nguyên tố nằm trong các số nguyên tố danh sách chính có kích thước k. Ví dụ: [1, 2, 4, 7, 8, 13, 14, 16, 19, 26, 28, 32] là chuỗi 12 số siêu xấu đầu tiên được đưa ra các số nguyên tố = [2, 7, 13, 19] có kích thước 4.\n",
        "\n"
      ]
    },
    {
      "cell_type": "code",
      "metadata": {
        "id": "lwNBxtvubxqa",
        "colab_type": "code",
        "outputId": "77a57de9-b444-45ea-c022-cc149f4a9513",
        "colab": {
          "base_uri": "https://localhost:8080/",
          "height": 34
        }
      },
      "source": [
        "import heapq\n",
        "#Ref.: https://bit.ly/32c9P3A\n",
        "def nth_Super_Ugly_Number(n, primes):\n",
        "    uglies = [1]\n",
        "\n",
        "    def gen(prime):\n",
        "        for ugly in uglies:\n",
        "            yield ugly * prime\n",
        "\n",
        "    merged = heapq.merge(*map(gen, primes))\n",
        "    while len(uglies) < n:\n",
        "        ugly = next(merged)\n",
        "        if ugly != uglies[-1]:\n",
        "            uglies.append(ugly)\n",
        "    return uglies[-1]\n",
        "n = 12\n",
        "primes = [2,7,13,19]\n",
        "print(nth_Super_Ugly_Number(n, primes))"
      ],
      "execution_count": 0,
      "outputs": [
        {
          "output_type": "stream",
          "text": [
            "32\n"
          ],
          "name": "stdout"
        }
      ]
    },
    {
      "cell_type": "markdown",
      "metadata": {
        "id": "8fJPteobLwzX",
        "colab_type": "text"
      },
      "source": [
        "**14, Viết chương trình Python để lấy k phần tử thường xuyên nhất từ danh sách từ không trống cho trước bằng thuật toán hàng đợi Heap.**\n",
        "\n",
        "**Write a Python program to get the k most frequent elements from a given non-empty list of words using Heap queue algorithm.**\n",
        "\n"
      ]
    },
    {
      "cell_type": "code",
      "metadata": {
        "id": "FO1MCdj2LgYm",
        "colab_type": "code",
        "outputId": "85a9d7d3-89ce-49e1-e98b-075094507f81",
        "colab": {
          "base_uri": "https://localhost:8080/",
          "height": 51
        }
      },
      "source": [
        "import heapq\n",
        "from collections import Counter\n",
        "class Solution:\n",
        "    def top_K_Frequent(self, words, k):\n",
        "        \"\"\"\n",
        "        :type words: List[str]\n",
        "        :type k: int\n",
        "        :return type: List[str]\n",
        "        \"\"\"\n",
        "        ctr = Counter(words)\n",
        "        heap = [(-ctr[word], word) for word in ctr]\n",
        "        heapq.heapify(heap)\n",
        "        return [heapq.heappop(heap)[1] for _ in range(k)]\n",
        "\n",
        "if __name__ == '__main__':\n",
        "    words = [\"a\", \"abc\", \"abcdef\", \"a\", \"abcd\", \"abcd\", \"abc\", \"abcdefg\"]\n",
        "    k = 3\n",
        "    s = Solution()\n",
        "    print(\"3 most frequent elements:\")\n",
        "    print(s.top_K_Frequent(words, k))"
      ],
      "execution_count": 0,
      "outputs": [
        {
          "output_type": "stream",
          "text": [
            "3 most frequent elements:\n",
            "['a', 'abc', 'abcd']\n"
          ],
          "name": "stdout"
        }
      ]
    },
    {
      "cell_type": "markdown",
      "metadata": {
        "id": "xq27PdgwMEk2",
        "colab_type": "text"
      },
      "source": [
        "**15, Viết chương trình Python để kiểm tra xem các chữ cái của một chuỗi đã cho có thể được sắp xếp lại sao cho hai ký tự liền kề nhau khác nhau bằng thuật toán hàng đợi Heap.**\n",
        "\n",
        "**Write a Python program to check if the letters of a given string can be rearranged so that two characters that are adjacent to each other are different using Heap queue algorithm.**\n",
        "\n"
      ]
    },
    {
      "cell_type": "code",
      "metadata": {
        "id": "pxVI43JWL9_-",
        "colab_type": "code",
        "outputId": "afc16c83-a1ff-495a-cafc-ed579968d8d8",
        "colab": {
          "base_uri": "https://localhost:8080/",
          "height": 85
        }
      },
      "source": [
        "import heapq\n",
        "from collections import Counter\n",
        "def reorganizeString(S):\n",
        "    ctr = Counter(S)\n",
        "    heap = [(-value, key) for key, value in ctr.items()]\n",
        "    heapq.heapify(heap)\n",
        "    if (-heap[0][0]) * 2 > len(S) + 1: \n",
        "        return \"\"\n",
        "    ans = []\n",
        "    while len(heap) >= 2:\n",
        "        nct1, char1 = heapq.heappop(heap)\n",
        "        nct2, char2 = heapq.heappop(heap)\n",
        "        ans.extend([char1, char2])\n",
        "        if nct1 + 1: heapq.heappush(heap, (nct1 + 1, char1))\n",
        "        if nct2 + 1: heapq.heappush(heap, (nct2 + 1, char2))\n",
        "    return \"\".join(ans) + (heap[0][1] if heap else \"\")\n",
        "\n",
        "print(reorganizeString(\"aab\"))\n",
        "print(reorganizeString(\"abc\"))\n",
        "print(reorganizeString(\"aabb\"))\n",
        "print(reorganizeString(\"abccdd\"))"
      ],
      "execution_count": 0,
      "outputs": [
        {
          "output_type": "stream",
          "text": [
            "aba\n",
            "abc\n",
            "abab\n",
            "cdabcd\n"
          ],
          "name": "stdout"
        }
      ]
    },
    {
      "cell_type": "markdown",
      "metadata": {
        "id": "hl47KEVfMTbZ",
        "colab_type": "text"
      },
      "source": [
        "**16, Viết chương trình Python thêm số nguyên từ luồng dữ liệu vào heapq và tính trung vị của tất cả các phần tử. Sử dụng thuật toán hàng đợi Heap.**\n",
        "\n",
        "**Write a Python program which add integer numbers from the data stream to a heapq and compute the median of all elements. Use Heap queue algorithm.**\n",
        "\n"
      ]
    },
    {
      "cell_type": "code",
      "metadata": {
        "id": "aRSzO7uuMN0w",
        "colab_type": "code",
        "outputId": "1f96c3c6-a48d-4362-deb4-d30ab2b69419",
        "colab": {
          "base_uri": "https://localhost:8080/",
          "height": 68
        }
      },
      "source": [
        "import heapq\n",
        "class Median_Finder:\n",
        "    \n",
        "    def __init__(self):\n",
        "        #initialize data structure\n",
        "        self.max_heap = []\n",
        "        self.min_heap = []\n",
        "        \n",
        "\n",
        "    def add_Number(self, num):\n",
        "        #type num: int, rtype: void\n",
        "        if not self.max_heap and not self.min_heap:\n",
        "            heapq.heappush(self.min_heap, num)\n",
        "            return \n",
        "        if not self.max_heap:\n",
        "            if num > self.min_heap[0]:\n",
        "                heapq.heappush(self.max_heap, -heapq.heappop(self.min_heap))\n",
        "                heapq.heappush(self.min_heap, num)\n",
        "            else:\n",
        "                heapq.heappush(self.max_heap, -num)\n",
        "            return\n",
        "        if len(self.max_heap) == len(self.min_heap):\n",
        "            if num < -self.max_heap[0]:\n",
        "                heapq.heappush(self.max_heap, -num)\n",
        "            else:\n",
        "                heapq.heappush(self.min_heap, num)\n",
        "        elif len(self.max_heap) > len(self.min_heap):\n",
        "            if num < -self.max_heap[0]:\n",
        "                heapq.heappush(self.min_heap, -heapq.heappop(self.max_heap))\n",
        "                heapq.heappush(self.max_heap, -num)\n",
        "            else:\n",
        "                heapq.heappush(self.min_heap, num)\n",
        "        else:\n",
        "            if num > self.min_heap[0]:\n",
        "                heapq.heappush(self.max_heap, -heapq.heappop(self.min_heap))\n",
        "                heapq.heappush(self.min_heap, num)\n",
        "            else:\n",
        "                heapq.heappush(self.max_heap, -num)\n",
        "        \n",
        "\n",
        "    def find_Median(self):\n",
        "        #rtype: float\n",
        "        if len(self.max_heap) == len(self.min_heap):\n",
        "            return (-self.max_heap[0] + self.min_heap[0]) / 2\n",
        "        elif len(self.max_heap) > len(self.min_heap):\n",
        "            return -self.max_heap[0]\n",
        "        else:\n",
        "            return self.min_heap[0] \n",
        "S = Median_Finder()\n",
        "S.add_Number(1)\n",
        "S.add_Number(2)\n",
        "result = S.find_Median()\n",
        "print(result)\n",
        "S.add_Number(3)\n",
        "result = S.find_Median()\n",
        "print(result)\n",
        "S.add_Number(4)\n",
        "S.add_Number(5)\n",
        "result = S.find_Median()\n",
        "print(result)"
      ],
      "execution_count": 0,
      "outputs": [
        {
          "output_type": "stream",
          "text": [
            "1.5\n",
            "2\n",
            "3\n"
          ],
          "name": "stdout"
        }
      ]
    },
    {
      "cell_type": "markdown",
      "metadata": {
        "id": "MYE627PTMeHU",
        "colab_type": "text"
      },
      "source": [
        "**17, Bạn được cung cấp hai mảng số nguyên được sắp xếp theo thứ tự tăng dần và một số nguyên k. Viết chương trình Python để tìm k số cặp (u, v) bao gồm một phần tử từ mảng đầu tiên và một phần tử từ mảng thứ hai bằng thuật toán hàng đợi Heap.**\n",
        "\n",
        "**You are given two integer arrays sorted in ascending order and an integer k. Write a Python program to find k number of pairs (u, v) which consists of one element from the first array and one element from the second array using Heap queue algorithm.**"
      ]
    },
    {
      "cell_type": "code",
      "metadata": {
        "id": "rLw0iRDGMYQq",
        "colab_type": "code",
        "outputId": "3a282132-2e78-444a-97e7-717109f89fa9",
        "colab": {
          "base_uri": "https://localhost:8080/",
          "height": 34
        }
      },
      "source": [
        "import heapq\n",
        "def k_Smallest_Pairs(nums1, nums2, k):\n",
        "   queue = []\n",
        "   def push(i, j):\n",
        "       if i < len(nums1) and j < len(nums2):\n",
        "           heapq.heappush(queue, [nums1[i] + nums2[j], i, j])\n",
        "   push(0, 0)\n",
        "   pairs = []\n",
        "   while queue and len(pairs) < k:\n",
        "       _, i, j = heapq.heappop(queue)\n",
        "       pairs.append([nums1[i], nums2[j]])\n",
        "       push(i, j + 1)\n",
        "       if j == 0:\n",
        "           push(i + 1, 0)\n",
        "   return pairs\n",
        "nums1 = [1,3,7]\n",
        "nums2 = [2,4,6]\n",
        "k = 2\n",
        "result = k_Smallest_Pairs(nums1, nums2, k)\n",
        "print(result)"
      ],
      "execution_count": 0,
      "outputs": [
        {
          "output_type": "stream",
          "text": [
            "[[1, 2], [1, 4]]\n"
          ],
          "name": "stdout"
        }
      ]
    },
    {
      "cell_type": "markdown",
      "metadata": {
        "id": "N0okGMVpMnBK",
        "colab_type": "text"
      },
      "source": [
        "**18, Viết chương trình Python để tìm số xấu thứ n bằng thuật toán hàng đợi Heap.**\n",
        "\n",
        "**Write a Python program to find the nth ugly number using Heap queue algorithm.**\n",
        "\n",
        "Ugly numbers are positive numbers whose only prime factors are 2, 3 or 5. The sequence 1, 2, 3, 4, 5, 6, 8, 9, 10, 12, ... shows the first 10 ugly numbers.\n",
        "Note: 1 is typically treated as an ugly number.\n",
        "\n",
        "Số xấu là số dương có các thừa số nguyên tố duy nhất là 2, 3 hoặc 5. Chuỗi 1, 2, 3, 4, 5, 6, 8, 9, 10, 12, ... hiển thị 10 số xấu đầu tiên.\n",
        "Lưu ý: 1 thường được coi là một con số xấu xí."
      ]
    },
    {
      "cell_type": "code",
      "metadata": {
        "id": "ZVyQEIeAMjKb",
        "colab_type": "code",
        "outputId": "d580bb9d-19c9-4f07-cb8a-f83df1921dd8",
        "colab": {
          "base_uri": "https://localhost:8080/",
          "height": 102
        }
      },
      "source": [
        "import heapq\n",
        "class Solution(object):      \n",
        "      #:type n: integer\n",
        "      #:return type: integer      \n",
        "   def nth_Ugly_Number(self, n):\n",
        "       ugly_num = 0\n",
        "       heap = []\n",
        "       heapq.heappush(heap, 1)\n",
        "       for _ in range(n):\n",
        "           ugly_num = heapq.heappop(heap)\n",
        "           if ugly_num % 2 == 0:\n",
        "               heapq.heappush(heap, ugly_num * 2)\n",
        "           elif ugly_num % 3 == 0:\n",
        "               heapq.heappush(heap, ugly_num * 2)\n",
        "               heapq.heappush(heap, ugly_num * 3)\n",
        "           else:\n",
        "               heapq.heappush(heap, ugly_num * 2)\n",
        "               heapq.heappush(heap, ugly_num * 3)\n",
        "               heapq.heappush(heap, ugly_num * 5)\n",
        "               return ugly_num\n",
        "n = 7\n",
        "S = Solution()\n",
        "result = S.nth_Ugly_Number(n)\n",
        "print(\"7th Ugly number:\")\n",
        "print(result)\n",
        "n = 10\n",
        "result = S.nth_Ugly_Number(n)\n",
        "print(\"\\n10th Ugly number:\")\n",
        "print(result)"
      ],
      "execution_count": 0,
      "outputs": [
        {
          "output_type": "stream",
          "text": [
            "7th Ugly number:\n",
            "1\n",
            "\n",
            "10th Ugly number:\n",
            "1\n"
          ],
          "name": "stdout"
        }
      ]
    },
    {
      "cell_type": "markdown",
      "metadata": {
        "id": "mSF1sXrOMych",
        "colab_type": "text"
      },
      "source": [
        "**19, Viết chương trình Python để in một đống dưới dạng cấu trúc dữ liệu giống như cây.**\n",
        "\n",
        "**Write a Python program to print a heap as a tree-like data structure.**\n",
        "\n"
      ]
    },
    {
      "cell_type": "code",
      "metadata": {
        "id": "NN8XNiayMvYL",
        "colab_type": "code",
        "outputId": "8efe4790-0f82-4add-a3ab-38ab50f14f2e",
        "colab": {
          "base_uri": "https://localhost:8080/",
          "height": 119
        }
      },
      "source": [
        "import math\n",
        "from io import StringIO\n",
        "#source https://bit.ly/38HXSoU\n",
        "def show_tree(tree, total_width=60, fill=' '):\n",
        "    \"\"\"Pretty-print a tree.\n",
        "    total_width depends on your input size\"\"\"\n",
        "    output = StringIO()\n",
        "    last_row = -1\n",
        "    for i, n in enumerate(tree):\n",
        "        if i:\n",
        "            row = int(math.floor(math.log(i+1, 2)))\n",
        "        else:\n",
        "            row = 0\n",
        "        if row != last_row:\n",
        "            output.write('\\n')\n",
        "        columns = 2**row\n",
        "        col_width = int(math.floor((total_width * 1.0) / columns))\n",
        "        output.write(str(n).center(col_width, fill))\n",
        "        last_row = row\n",
        "    print (output.getvalue())\n",
        "    print ('-' * total_width)\n",
        "    return\n",
        "\n",
        "#test\n",
        "import heapq\n",
        "heap = []\n",
        "heapq.heappush(heap, 1)\n",
        "heapq.heappush(heap, 2)\n",
        "heapq.heappush(heap, 3)\n",
        "heapq.heappush(heap, 4)\n",
        "heapq.heappush(heap, 7)\n",
        "heapq.heappush(heap, 9)\n",
        "heapq.heappush(heap, 10)\n",
        "heapq.heappush(heap, 8)\n",
        "heapq.heappush(heap, 16)\n",
        "heapq.heappush(heap, 14)\n",
        "show_tree(heap)"
      ],
      "execution_count": 0,
      "outputs": [
        {
          "output_type": "stream",
          "text": [
            "\n",
            "                             1                              \n",
            "              2                             3               \n",
            "       4              7              9              10      \n",
            "   8      16     14  \n",
            "------------------------------------------------------------\n"
          ],
          "name": "stdout"
        }
      ]
    },
    {
      "cell_type": "code",
      "metadata": {
        "id": "W3l_KGRMM2lz",
        "colab_type": "code",
        "colab": {}
      },
      "source": [
        ""
      ],
      "execution_count": 0,
      "outputs": []
    }
  ]
}