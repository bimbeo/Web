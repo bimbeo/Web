{
  "nbformat": 4,
  "nbformat_minor": 0,
  "metadata": {
    "colab": {
      "name": "Data Type: Tuple.ipynb",
      "provenance": [],
      "authorship_tag": "ABX9TyNlBH9EybK0HEogW7s1cplz",
      "include_colab_link": true
    },
    "kernelspec": {
      "name": "python3",
      "display_name": "Python 3"
    }
  },
  "cells": [
    {
      "cell_type": "markdown",
      "metadata": {
        "id": "view-in-github",
        "colab_type": "text"
      },
      "source": [
        "<a href=\"https://colab.research.google.com/github/bimbeo/Web/blob/master/Data_Type_Tuple.ipynb\" target=\"_parent\"><img src=\"https://colab.research.google.com/assets/colab-badge.svg\" alt=\"Open In Colab\"/></a>"
      ]
    },
    {
      "cell_type": "markdown",
      "metadata": {
        "id": "hi7pR9cL78YZ",
        "colab_type": "text"
      },
      "source": [
        "**1, Viết chương trình Python để tạo một tuple.**\n",
        "\n",
        "**Write a Python program to create a tuple.**\n",
        "\n"
      ]
    },
    {
      "cell_type": "code",
      "metadata": {
        "id": "0EEyiHl07gLZ",
        "colab_type": "code",
        "colab": {
          "base_uri": "https://localhost:8080/",
          "height": 51
        },
        "outputId": "69df3ffe-9462-4596-99cf-4190141d95f4"
      },
      "source": [
        "x = ()\n",
        "print(x)\n",
        "tuplex = tuple()\n",
        "print(tuplex)"
      ],
      "execution_count": 1,
      "outputs": [
        {
          "output_type": "stream",
          "text": [
            "()\n",
            "()\n"
          ],
          "name": "stdout"
        }
      ]
    },
    {
      "cell_type": "markdown",
      "metadata": {
        "id": "Brgsncds8NEW",
        "colab_type": "text"
      },
      "source": [
        "**2, Viết chương trình Python để tạo một tuple với các loại dữ liệu khác nhau.**\n",
        "\n",
        "**Write a Python program to create a tuple with different data types.**\n",
        "\n"
      ]
    },
    {
      "cell_type": "code",
      "metadata": {
        "id": "9_G9kJmR8FS4",
        "colab_type": "code",
        "colab": {
          "base_uri": "https://localhost:8080/",
          "height": 34
        },
        "outputId": "fe4975b5-b7ab-4ec4-e638-af68648c1011"
      },
      "source": [
        "tuplex = {\"tuple\", False, 3.21, 1}\n",
        "print(tuplex)"
      ],
      "execution_count": 2,
      "outputs": [
        {
          "output_type": "stream",
          "text": [
            "{False, 1, 3.21, 'tuple'}\n"
          ],
          "name": "stdout"
        }
      ]
    },
    {
      "cell_type": "markdown",
      "metadata": {
        "id": "sL8aBTIZ8ZBL",
        "colab_type": "text"
      },
      "source": [
        "**3, Viết chương trình Python để tạo một tuple với các số và in một mục.**\n",
        "\n",
        "**Write a Python program to create a tuple with numbers and print one item.**\n",
        "\n"
      ]
    },
    {
      "cell_type": "code",
      "metadata": {
        "id": "deT5-n_O8Vej",
        "colab_type": "code",
        "colab": {
          "base_uri": "https://localhost:8080/",
          "height": 51
        },
        "outputId": "4fcdc68e-5a5b-49f7-80ea-f9cf591f6b90"
      },
      "source": [
        "tuplex = 5, 10, 15, 20, 25\n",
        "print(tuplex)\n",
        "tuplex = 5,\n",
        "print(tuplex)"
      ],
      "execution_count": 3,
      "outputs": [
        {
          "output_type": "stream",
          "text": [
            "(5, 10, 15, 20, 25)\n",
            "(5,)\n"
          ],
          "name": "stdout"
        }
      ]
    },
    {
      "cell_type": "markdown",
      "metadata": {
        "id": "4ZQRqJ3s8rIb",
        "colab_type": "text"
      },
      "source": [
        "**4, Viết chương trình Python để giải nén một tuple trong một số biến.**\n",
        "\n",
        "**Write a Python program to unpack a tuple in several variables.**\n",
        "\n"
      ]
    },
    {
      "cell_type": "code",
      "metadata": {
        "id": "wRYmwl5C8lNH",
        "colab_type": "code",
        "colab": {
          "base_uri": "https://localhost:8080/",
          "height": 231
        },
        "outputId": "c67a4b1c-611e-4158-9bc5-443dafa4073a"
      },
      "source": [
        "tuplex = 4, 8 ,3\n",
        "print(tuplex)\n",
        "n1, n2, n3 = tuplex \n",
        "print(n1 + n2 + n3)\n",
        "n1, n2, n3, n4 = tuplex"
      ],
      "execution_count": 4,
      "outputs": [
        {
          "output_type": "stream",
          "text": [
            "(4, 8, 3)\n",
            "15\n"
          ],
          "name": "stdout"
        },
        {
          "output_type": "error",
          "ename": "ValueError",
          "evalue": "ignored",
          "traceback": [
            "\u001b[0;31m---------------------------------------------------------------------------\u001b[0m",
            "\u001b[0;31mValueError\u001b[0m                                Traceback (most recent call last)",
            "\u001b[0;32m<ipython-input-4-bf34eacb8d95>\u001b[0m in \u001b[0;36m<module>\u001b[0;34m()\u001b[0m\n\u001b[1;32m      3\u001b[0m \u001b[0mn1\u001b[0m\u001b[0;34m,\u001b[0m \u001b[0mn2\u001b[0m\u001b[0;34m,\u001b[0m \u001b[0mn3\u001b[0m \u001b[0;34m=\u001b[0m \u001b[0mtuplex\u001b[0m\u001b[0;34m\u001b[0m\u001b[0;34m\u001b[0m\u001b[0m\n\u001b[1;32m      4\u001b[0m \u001b[0mprint\u001b[0m\u001b[0;34m(\u001b[0m\u001b[0mn1\u001b[0m \u001b[0;34m+\u001b[0m \u001b[0mn2\u001b[0m \u001b[0;34m+\u001b[0m \u001b[0mn3\u001b[0m\u001b[0;34m)\u001b[0m\u001b[0;34m\u001b[0m\u001b[0;34m\u001b[0m\u001b[0m\n\u001b[0;32m----> 5\u001b[0;31m \u001b[0mn1\u001b[0m\u001b[0;34m,\u001b[0m \u001b[0mn2\u001b[0m\u001b[0;34m,\u001b[0m \u001b[0mn3\u001b[0m\u001b[0;34m,\u001b[0m \u001b[0mn4\u001b[0m \u001b[0;34m=\u001b[0m \u001b[0mtuplex\u001b[0m\u001b[0;34m\u001b[0m\u001b[0;34m\u001b[0m\u001b[0m\n\u001b[0m",
            "\u001b[0;31mValueError\u001b[0m: not enough values to unpack (expected 4, got 3)"
          ]
        }
      ]
    },
    {
      "cell_type": "markdown",
      "metadata": {
        "id": "FbHXbtHs9NZz",
        "colab_type": "text"
      },
      "source": [
        "**5, Viết chương trình Python để thêm một mục trong một tuple.**\n",
        "\n",
        "**Write a Python program to add an item in a tuple.**\n",
        "\n"
      ]
    },
    {
      "cell_type": "code",
      "metadata": {
        "id": "yXWXRHTm9Bd-",
        "colab_type": "code",
        "colab": {
          "base_uri": "https://localhost:8080/",
          "height": 85
        },
        "outputId": "5edc2391-45f7-4b65-f0eb-971bc42f8564"
      },
      "source": [
        "tuplex = (4, 6, 2, 8, 3, 1)                     #create a tuple\n",
        "print(tuplex)\n",
        "tuplex = tuplex + (9,)                          #tuples are immutable, so you can not add new elements\n",
        "print(tuplex)                                   #using merge of tuples with the + operator you can add an element and it will create a new tuple\n",
        "tuplex = tuplex[:5] + (15,20,25) + tuplex[:5]   #adding items in a specific index\n",
        "print(tuplex)\n",
        "listx = list(tuplex)                            #converting the tuple to list\n",
        "listx.append(30)                                #use different ways to add items in list\n",
        "tuplex = tuple(listx)\n",
        "print(tuplex)"
      ],
      "execution_count": 5,
      "outputs": [
        {
          "output_type": "stream",
          "text": [
            "(4, 6, 2, 8, 3, 1)\n",
            "(4, 6, 2, 8, 3, 1, 9)\n",
            "(4, 6, 2, 8, 3, 15, 20, 25, 4, 6, 2, 8, 3)\n",
            "(4, 6, 2, 8, 3, 15, 20, 25, 4, 6, 2, 8, 3, 30)\n"
          ],
          "name": "stdout"
        }
      ]
    },
    {
      "cell_type": "markdown",
      "metadata": {
        "id": "9CK9tnYd-C7l",
        "colab_type": "text"
      },
      "source": [
        "**6, Viết chương trình Python để chuyển đổi một tuple thành một chuỗi.**\n",
        "\n",
        "**Write a Python program to convert a tuple to a string.**\n",
        "\n"
      ]
    },
    {
      "cell_type": "code",
      "metadata": {
        "id": "9cPGULhx9p_S",
        "colab_type": "code",
        "colab": {
          "base_uri": "https://localhost:8080/",
          "height": 34
        },
        "outputId": "175b4661-251a-4049-c2a8-1dc2429b2024"
      },
      "source": [
        "tup = ('e', 'x', 'e', 'r', 'c', 'i', 's', 'e', 's')\n",
        "str1 = ''.join(tup)\n",
        "print(str1)"
      ],
      "execution_count": 6,
      "outputs": [
        {
          "output_type": "stream",
          "text": [
            "exercises\n"
          ],
          "name": "stdout"
        }
      ]
    },
    {
      "cell_type": "markdown",
      "metadata": {
        "id": "w25c1xTx-Rzb",
        "colab_type": "text"
      },
      "source": [
        "**7, Viết chương trình Python để lấy phần tử thứ 4 và phần tử thứ 4 từ phần cuối của bộ dữ liệu.**\n",
        "\n",
        "**Write a Python program to get the 4th element and 4th element from last of a tuple.**\n",
        "\n"
      ]
    },
    {
      "cell_type": "code",
      "metadata": {
        "id": "TGu8M2iu-N1N",
        "colab_type": "code",
        "colab": {
          "base_uri": "https://localhost:8080/",
          "height": 68
        },
        "outputId": "447eb115-9204-45ff-c8a4-0315f9f7a400"
      },
      "source": [
        "tuplex = (\"w\", 3, \"r\", \"e\", \"s\", \"o\", \"u\", \"r\", \"c\", \"e\")   #Get an item of the tuple\n",
        "print(tuplex)\n",
        "item = tuplex[3]                                            #Get item (4th element)of the tuple by index\n",
        "print(item)\n",
        "item1 = tuplex[-4]                                          #Get item (4th element from last)by index negative\n",
        "print(item1)"
      ],
      "execution_count": 7,
      "outputs": [
        {
          "output_type": "stream",
          "text": [
            "('w', 3, 'r', 'e', 's', 'o', 'u', 'r', 'c', 'e')\n",
            "e\n",
            "u\n"
          ],
          "name": "stdout"
        }
      ]
    },
    {
      "cell_type": "markdown",
      "metadata": {
        "id": "GtSZXP0e-oRb",
        "colab_type": "text"
      },
      "source": [
        "**8, Viết chương trình Python để tạo dấu hai chấm.**\n",
        "\n",
        "**Write a Python program to create the colon of a tuple.**\n",
        "\n"
      ]
    },
    {
      "cell_type": "code",
      "metadata": {
        "id": "DRFt_6Xn-ket",
        "colab_type": "code",
        "colab": {
          "base_uri": "https://localhost:8080/",
          "height": 68
        },
        "outputId": "525491ef-cbca-4bff-f8cf-1ec8c538da0c"
      },
      "source": [
        "from copy import deepcopy\n",
        "tuplex = (\"HELLO\", 5, [], True)\n",
        "print(tuplex)\n",
        "tuplex_colon = deepcopy(tuplex)\n",
        "tuplex_colon[2].append(50)\n",
        "print(tuplex_colon)\n",
        "print(tuplex)"
      ],
      "execution_count": 8,
      "outputs": [
        {
          "output_type": "stream",
          "text": [
            "('HELLO', 5, [], True)\n",
            "('HELLO', 5, [50], True)\n",
            "('HELLO', 5, [], True)\n"
          ],
          "name": "stdout"
        }
      ]
    },
    {
      "cell_type": "markdown",
      "metadata": {
        "id": "r4X30Jk1_FWK",
        "colab_type": "text"
      },
      "source": [
        "**9, Viết chương trình Python để tìm các mục lặp lại của một tuple.**\n",
        "\n",
        "**Write a Python program to find the repeated items of a tuple.**\n",
        "\n"
      ]
    },
    {
      "cell_type": "code",
      "metadata": {
        "id": "EItVmGv--4EY",
        "colab_type": "code",
        "colab": {
          "base_uri": "https://localhost:8080/",
          "height": 51
        },
        "outputId": "5a7f5b30-ab1f-4e9f-b88d-3825b4c4cfb4"
      },
      "source": [
        "tuplex = 2, 4, 5, 6, 2, 3, 4, 4, 7\n",
        "print(tuplex)\n",
        "count = tuplex.count(4)\n",
        "print(count)"
      ],
      "execution_count": 9,
      "outputs": [
        {
          "output_type": "stream",
          "text": [
            "(2, 4, 5, 6, 2, 3, 4, 4, 7)\n",
            "3\n"
          ],
          "name": "stdout"
        }
      ]
    },
    {
      "cell_type": "markdown",
      "metadata": {
        "id": "OCB3z5n9_WRt",
        "colab_type": "text"
      },
      "source": [
        "**10, Viết chương trình Python để kiểm tra xem một phần tử có tồn tại trong một tuple không.**\n",
        "\n",
        "**Write a Python program to check whether an element exists within a tuple.**\n",
        "\n"
      ]
    },
    {
      "cell_type": "code",
      "metadata": {
        "id": "8oHxuFb1_NcL",
        "colab_type": "code",
        "colab": {
          "base_uri": "https://localhost:8080/",
          "height": 51
        },
        "outputId": "4befc54d-a95b-46c1-9042-956e3c71d4a1"
      },
      "source": [
        "tuplex = (\"w\", 3, \"r\", \"e\", \"s\", \"o\", \"u\", \"r\", \"c\", \"e\")\n",
        "print(\"r\" in tuplex)\n",
        "print(5 in tuplex)"
      ],
      "execution_count": 10,
      "outputs": [
        {
          "output_type": "stream",
          "text": [
            "True\n",
            "False\n"
          ],
          "name": "stdout"
        }
      ]
    },
    {
      "cell_type": "markdown",
      "metadata": {
        "id": "9zPQ0-Qw_eTA",
        "colab_type": "text"
      },
      "source": [
        "**11, Viết chương trình Python để chuyển đổi danh sách thành tuple.**\n",
        "\n",
        "**Write a Python program to convert a list to a tuple.**\n",
        "\n"
      ]
    },
    {
      "cell_type": "code",
      "metadata": {
        "id": "WamMDRj6_bvo",
        "colab_type": "code",
        "colab": {
          "base_uri": "https://localhost:8080/",
          "height": 51
        },
        "outputId": "069da68c-1384-4906-f15b-8ed9976cf7c3"
      },
      "source": [
        "listx = [5,10,7,4,15,3]\n",
        "print(listx)\n",
        "tuplex = tuple(listx)\n",
        "print(tuplex)"
      ],
      "execution_count": 11,
      "outputs": [
        {
          "output_type": "stream",
          "text": [
            "[5, 10, 7, 4, 15, 3]\n",
            "(5, 10, 7, 4, 15, 3)\n"
          ],
          "name": "stdout"
        }
      ]
    },
    {
      "cell_type": "markdown",
      "metadata": {
        "id": "F2_zFlrr_s7y",
        "colab_type": "text"
      },
      "source": [
        "**12, Viết chương trình Python để xóa một mục khỏi bộ dữ liệu.**\n",
        "\n",
        "**Write a Python program to remove an item from a tuple.**\n",
        "\n"
      ]
    },
    {
      "cell_type": "code",
      "metadata": {
        "id": "P3onGaA5_pvQ",
        "colab_type": "code",
        "colab": {
          "base_uri": "https://localhost:8080/",
          "height": 68
        },
        "outputId": "fe9b79d8-872e-4527-fb35-f1d279545b72"
      },
      "source": [
        "tuplex = \"w\", 3, \"r\", \"s\", \"o\", \"u\", \"r\", \"c\", \"e\"  #create a tuple\n",
        "print(tuplex)\n",
        "tuplex = tuplex[:2] + tuplex[3:]                    #tuples are immutable, so you can not remove elements\n",
        "print(tuplex)                                       #using merge of tuples with the + operator you can remove an item and it will create a new tuple\n",
        "listx = list(tuplex)                                #converting the tuple to list\n",
        "listx.remove(\"c\")                                   #use different ways to remove an item of the list\n",
        "tuplex = tuple(listx)                               #converting the tuple to list\n",
        "print(tuplex)"
      ],
      "execution_count": 13,
      "outputs": [
        {
          "output_type": "stream",
          "text": [
            "('w', 3, 'r', 's', 'o', 'u', 'r', 'c', 'e')\n",
            "('w', 3, 's', 'o', 'u', 'r', 'c', 'e')\n",
            "('w', 3, 's', 'o', 'u', 'r', 'e')\n"
          ],
          "name": "stdout"
        }
      ]
    },
    {
      "cell_type": "markdown",
      "metadata": {
        "id": "fFwLSPo7ARVa",
        "colab_type": "text"
      },
      "source": [
        "**13, Viết chương trình Python để cắt một tuple.**\n",
        "\n",
        "**Write a Python program to slice a tuple.**\n",
        "\n"
      ]
    },
    {
      "cell_type": "code",
      "metadata": {
        "id": "MqXeJ255ADA-",
        "colab_type": "code",
        "colab": {
          "base_uri": "https://localhost:8080/",
          "height": 170
        },
        "outputId": "0c90357e-08ee-4104-a718-d86bcf216c6f"
      },
      "source": [
        "tuplex = (2, 4, 3, 5, 4, 6, 7, 8, 6, 1)       #create a tuple\n",
        "slice1 = tuplex[3:5]                          #used tuple[start:stop] the start index is inclusive and the stop index\n",
        "print(slice1)                                 #is exclusive              \n",
        "_slice1 = tuplex[:6]                          #if the start index isn't defined, is taken from the beginning of the tuple\n",
        "print(_slice1)\n",
        "_slice1 = tuplex[5:]                          #if the end index isn't defined, is taken until the end of the tuple\n",
        "print(_slice1)\n",
        "_slice1 = tuplex[:]                           #if neither is defined, returns the full tuple\n",
        "print(_slice1)\n",
        "_slice1 = tuplex[-8:-4]                       #The indexes can be defined with negative values\n",
        "print(_slice1)\n",
        "tuplex = tuple(\"Hello Word\")                  #create another tuple\n",
        "print(tuplex)\n",
        "_slice1 = tuplex[2:9:2]                       #step specify an increment between the elements to cut of the tuple, tuple[start:stop:step]\n",
        "print(_slice1)\n",
        "_slice1 = tuplex[::4]                         #returns a tuple with a jump every 3 items\n",
        "print(_slice1)\n",
        "_slice1 = tuplex[9:2:-4]                      #when step is negative the jump is made back\n",
        "print(_slice1)"
      ],
      "execution_count": 19,
      "outputs": [
        {
          "output_type": "stream",
          "text": [
            "(5, 4)\n",
            "(2, 4, 3, 5, 4, 6)\n",
            "(6, 7, 8, 6, 1)\n",
            "(2, 4, 3, 5, 4, 6, 7, 8, 6, 1)\n",
            "(3, 5, 4, 6)\n",
            "('H', 'e', 'l', 'l', 'o', ' ', 'W', 'o', 'r', 'd')\n",
            "('l', 'o', 'W', 'r')\n",
            "('H', 'o', 'r')\n",
            "('d', ' ')\n"
          ],
          "name": "stdout"
        }
      ]
    },
    {
      "cell_type": "markdown",
      "metadata": {
        "id": "oZILaWzRBzEe",
        "colab_type": "text"
      },
      "source": [
        "**14, Viết chương trình Python để tìm chỉ mục của một bộ dữ liệu**\n",
        "\n",
        "**Write a Python program to find the index of an item of a tuple.**\n",
        "\n"
      ]
    },
    {
      "cell_type": "code",
      "metadata": {
        "id": "iCR6oix3Atqj",
        "colab_type": "code",
        "colab": {
          "base_uri": "https://localhost:8080/",
          "height": 265
        },
        "outputId": "3074b518-f816-4a57-b04d-d4f2683737be"
      },
      "source": [
        "tuplex = tuple(\"index tuple\")         #create a tuple\n",
        "print(tuplex)\n",
        "index = tuplex.index(\"p\")             #get index of the first item whose value is passed as parameter\n",
        "print(index)\n",
        "index = tuplex.index(\"p\", 5)          #define the index from which you want to search\n",
        "print(index)\n",
        "index = tuplex.index(\"e\", 3, 6)       #define the segment of the tuple to be searched\n",
        "print(index)                          \n",
        "index = tuplex.index(\"y\")             #if item not exists in the tuple return ValueError Exception"
      ],
      "execution_count": 20,
      "outputs": [
        {
          "output_type": "stream",
          "text": [
            "('i', 'n', 'd', 'e', 'x', ' ', 't', 'u', 'p', 'l', 'e')\n",
            "8\n",
            "8\n",
            "3\n"
          ],
          "name": "stdout"
        },
        {
          "output_type": "error",
          "ename": "ValueError",
          "evalue": "ignored",
          "traceback": [
            "\u001b[0;31m---------------------------------------------------------------------------\u001b[0m",
            "\u001b[0;31mValueError\u001b[0m                                Traceback (most recent call last)",
            "\u001b[0;32m<ipython-input-20-63c123ec2811>\u001b[0m in \u001b[0;36m<module>\u001b[0;34m()\u001b[0m\n\u001b[1;32m     12\u001b[0m \u001b[0mprint\u001b[0m\u001b[0;34m(\u001b[0m\u001b[0mindex\u001b[0m\u001b[0;34m)\u001b[0m\u001b[0;34m\u001b[0m\u001b[0;34m\u001b[0m\u001b[0m\n\u001b[1;32m     13\u001b[0m \u001b[0;31m#if item not exists in the tuple return ValueError Exception\u001b[0m\u001b[0;34m\u001b[0m\u001b[0;34m\u001b[0m\u001b[0;34m\u001b[0m\u001b[0m\n\u001b[0;32m---> 14\u001b[0;31m \u001b[0mindex\u001b[0m \u001b[0;34m=\u001b[0m \u001b[0mtuplex\u001b[0m\u001b[0;34m.\u001b[0m\u001b[0mindex\u001b[0m\u001b[0;34m(\u001b[0m\u001b[0;34m\"y\"\u001b[0m\u001b[0;34m)\u001b[0m\u001b[0;34m\u001b[0m\u001b[0;34m\u001b[0m\u001b[0m\n\u001b[0m",
            "\u001b[0;31mValueError\u001b[0m: tuple.index(x): x not in tuple"
          ]
        }
      ]
    },
    {
      "cell_type": "markdown",
      "metadata": {
        "id": "HY6ClBYwCbf4",
        "colab_type": "text"
      },
      "source": [
        "**15, Viết chương trình Python để tìm độ dài của một tuple.**\n",
        "\n",
        "**Write a Python program to find the length of a tuple.**\n",
        "\n"
      ]
    },
    {
      "cell_type": "code",
      "metadata": {
        "id": "waFEwj5sB4un",
        "colab_type": "code",
        "colab": {
          "base_uri": "https://localhost:8080/",
          "height": 51
        },
        "outputId": "35d79804-a46c-40bf-f87c-ae9252ac0301"
      },
      "source": [
        "tuplex = tuple(\"w3resource\")              #create a tuple\n",
        "print(tuplex)\n",
        "print(len(tuplex))                        #use the len() function to known the length of tuple"
      ],
      "execution_count": 21,
      "outputs": [
        {
          "output_type": "stream",
          "text": [
            "('w', '3', 'r', 'e', 's', 'o', 'u', 'r', 'c', 'e')\n",
            "10\n"
          ],
          "name": "stdout"
        }
      ]
    },
    {
      "cell_type": "markdown",
      "metadata": {
        "id": "96Z3ZE9lCnhM",
        "colab_type": "text"
      },
      "source": [
        "**16, Viết chương trình Python để chuyển đổi một tuple thành từ điển.**\n",
        "\n",
        "**Write a Python program to convert a tuple to a dictionary.**\n",
        "\n"
      ]
    },
    {
      "cell_type": "code",
      "metadata": {
        "id": "Ruo7A0KhCkuc",
        "colab_type": "code",
        "colab": {
          "base_uri": "https://localhost:8080/",
          "height": 34
        },
        "outputId": "cc081f72-5216-41ee-889d-3e779682e744"
      },
      "source": [
        "tuplex = ((2, \"w\"),(3, \"r\"))\n",
        "print(dict((y, x) for x, y in tuplex))"
      ],
      "execution_count": 26,
      "outputs": [
        {
          "output_type": "stream",
          "text": [
            "{'w': 2, 'r': 3}\n"
          ],
          "name": "stdout"
        }
      ]
    },
    {
      "cell_type": "markdown",
      "metadata": {
        "id": "4LcwxyOVC-4J",
        "colab_type": "text"
      },
      "source": [
        "**17, Viết chương trình Python để giải nén danh sách các bộ dữ liệu thành các danh sách riêng lẻ.**\n",
        "\n",
        "**Write a Python program to unzip a list of tuples into individual lists.**\n",
        "\n"
      ]
    },
    {
      "cell_type": "code",
      "metadata": {
        "id": "VvCOnyagCu7i",
        "colab_type": "code",
        "colab": {
          "base_uri": "https://localhost:8080/",
          "height": 51
        },
        "outputId": "e0122a34-1173-4c07-b234-38e8e62d6ba3"
      },
      "source": [
        "l = [(1,2), (3,4), (8,9)]\n",
        "print(list(zip(*l)))\n",
        "print(list(zip(l)))"
      ],
      "execution_count": 32,
      "outputs": [
        {
          "output_type": "stream",
          "text": [
            "[(1, 3, 8), (2, 4, 9)]\n",
            "[((1, 2),), ((3, 4),), ((8, 9),)]\n"
          ],
          "name": "stdout"
        }
      ]
    },
    {
      "cell_type": "markdown",
      "metadata": {
        "id": "HG5ED6v9DS3f",
        "colab_type": "text"
      },
      "source": [
        "**18, Viết chương trình Python để đảo ngược một tuple.**\n",
        "\n",
        "**Write a Python program to reverse a tuple**"
      ]
    },
    {
      "cell_type": "code",
      "metadata": {
        "id": "lxwFPOytDCZN",
        "colab_type": "code",
        "colab": {
          "base_uri": "https://localhost:8080/",
          "height": 51
        },
        "outputId": "d18cdea7-841b-428a-9971-df13b723e35d"
      },
      "source": [
        "x = (\"w3resource\")                # Reversed the tuple      \n",
        "y = reversed(x)\n",
        "print(tuple(y))\n",
        "x = (5, 10, 15, 20)               #create another tuple\n",
        "y = reversed(x)                   # Reversed the tuple\n",
        "print(tuple(y))"
      ],
      "execution_count": 33,
      "outputs": [
        {
          "output_type": "stream",
          "text": [
            "('e', 'c', 'r', 'u', 'o', 's', 'e', 'r', '3', 'w')\n",
            "(20, 15, 10, 5)\n"
          ],
          "name": "stdout"
        }
      ]
    },
    {
      "cell_type": "markdown",
      "metadata": {
        "id": "AYj7XMh6Dk17",
        "colab_type": "text"
      },
      "source": [
        "**19, Viết chương trình Python để chuyển đổi danh sách các bộ dữ liệu thành từ điển.**\n",
        "\n",
        "**Write a Python program to convert a list of tuples into a dictionary.**\n",
        "\n"
      ]
    },
    {
      "cell_type": "code",
      "metadata": {
        "id": "tevnoxwLDY_P",
        "colab_type": "code",
        "colab": {
          "base_uri": "https://localhost:8080/",
          "height": 34
        },
        "outputId": "b3fce03e-7334-4a16-8f84-3001fa993c97"
      },
      "source": [
        "#create a list\n",
        "l = [(\"x\", 1), (\"x\", 2), (\"x\", 3), (\"y\", 1), (\"y\", 2), (\"z\", 1)]\n",
        "d = {}\n",
        "for a, b in l:\n",
        "  d.setdefault(a, []).append(b)\n",
        "print(d)"
      ],
      "execution_count": 34,
      "outputs": [
        {
          "output_type": "stream",
          "text": [
            "{'x': [1, 2, 3], 'y': [1, 2], 'z': [1]}\n"
          ],
          "name": "stdout"
        }
      ]
    },
    {
      "cell_type": "markdown",
      "metadata": {
        "id": "lnQ4YdQREAgx",
        "colab_type": "text"
      },
      "source": [
        "**20, Viết chương trình Python để in một tuple với định dạng chuỗi.**\n",
        "\n",
        "**Write a Python program to print a tuple with string formatting.**\n",
        "\n"
      ]
    },
    {
      "cell_type": "code",
      "metadata": {
        "id": "TxPp55aDDvwn",
        "colab_type": "code",
        "colab": {
          "base_uri": "https://localhost:8080/",
          "height": 34
        },
        "outputId": "91b9a91b-06a9-4b2c-b3f9-01050a65730f"
      },
      "source": [
        "t = (100, 200, 300)\n",
        "print('This is a tuple {0}'.format(t))"
      ],
      "execution_count": 35,
      "outputs": [
        {
          "output_type": "stream",
          "text": [
            "This is a tuple (100, 200, 300)\n"
          ],
          "name": "stdout"
        }
      ]
    },
    {
      "cell_type": "markdown",
      "metadata": {
        "id": "Y-dqXfUbELLP",
        "colab_type": "text"
      },
      "source": [
        "**21, Viết chương trình Python để thay thế giá trị cuối cùng của bộ dữ liệu trong danh sách.**\n",
        "\n",
        "**Write a Python program to replace last value of tuples in a list.**\n",
        "\n"
      ]
    },
    {
      "cell_type": "code",
      "metadata": {
        "id": "lgOu5aY-EEn1",
        "colab_type": "code",
        "colab": {
          "base_uri": "https://localhost:8080/",
          "height": 34
        },
        "outputId": "32972233-fc76-4529-97f1-1dfd20fc6a1d"
      },
      "source": [
        "l = [(10, 20, 40), (40, 50, 60), (70, 80, 90)]\n",
        "print([t[:-1] + (100,) for t in l])"
      ],
      "execution_count": 36,
      "outputs": [
        {
          "output_type": "stream",
          "text": [
            "[(10, 20, 100), (40, 50, 100), (70, 80, 100)]\n"
          ],
          "name": "stdout"
        }
      ]
    },
    {
      "cell_type": "markdown",
      "metadata": {
        "id": "uXjLht_KEeDy",
        "colab_type": "text"
      },
      "source": [
        "**22, Viết chương trình Python để xóa một tuple trống khỏi danh sách các tuple.**\n",
        "\n",
        "**Write a Python program to remove an empty tuple(s) from a list of tuples.**\n",
        "\n"
      ]
    },
    {
      "cell_type": "code",
      "metadata": {
        "id": "fIxBOehWEbTI",
        "colab_type": "code",
        "colab": {
          "base_uri": "https://localhost:8080/",
          "height": 34
        },
        "outputId": "35714ec3-8c06-47bc-df89-789b2fe9c2ff"
      },
      "source": [
        "L = [(), (), ('',), ('a', 'b'), ('a', 'b', 'c'), ('d')]\n",
        "L = [t for t in L if t]\n",
        "print(L)"
      ],
      "execution_count": 37,
      "outputs": [
        {
          "output_type": "stream",
          "text": [
            "[('',), ('a', 'b'), ('a', 'b', 'c'), 'd']\n"
          ],
          "name": "stdout"
        }
      ]
    },
    {
      "cell_type": "markdown",
      "metadata": {
        "id": "371wNvHeEqRJ",
        "colab_type": "text"
      },
      "source": [
        "**23, Viết chương trình Python để sắp xếp một tuple theo phần tử float của nó.**\n",
        "\n",
        "**Write a Python program to sort a tuple by its float element.**\n",
        "\n"
      ]
    },
    {
      "cell_type": "code",
      "metadata": {
        "id": "Ho73T4EkEj5l",
        "colab_type": "code",
        "colab": {
          "base_uri": "https://localhost:8080/",
          "height": 34
        },
        "outputId": "cfaca72e-8511-4acb-c4bc-b9d0d17eebec"
      },
      "source": [
        "price = [('item1', '12.20'), ('item2', '15.10'), ('item3', '24.5')]\n",
        "print( sorted(price, key=lambda x: float(x[1]), reverse=True))"
      ],
      "execution_count": 38,
      "outputs": [
        {
          "output_type": "stream",
          "text": [
            "[('item3', '24.5'), ('item2', '15.10'), ('item1', '12.20')]\n"
          ],
          "name": "stdout"
        }
      ]
    },
    {
      "cell_type": "markdown",
      "metadata": {
        "id": "vsQWRVB3E1d5",
        "colab_type": "text"
      },
      "source": [
        "**24, Viết chương trình Python để đếm các phần tử trong danh sách cho đến khi một phần tử là một tuple.**\n",
        "\n",
        "**Write a Python program to count the elements in a list until an element is a tuple.**\n",
        "\n"
      ]
    },
    {
      "cell_type": "code",
      "metadata": {
        "id": "R_d4JgIDEvKl",
        "colab_type": "code",
        "colab": {
          "base_uri": "https://localhost:8080/",
          "height": 34
        },
        "outputId": "555bde64-7222-4503-de43-997ac35bb971"
      },
      "source": [
        "num = [10,20,30,(10,20),40]\n",
        "ctr = 0\n",
        "for n in num:\n",
        "    if isinstance(n, tuple):\n",
        "        break\n",
        "    ctr += 1\n",
        "print(ctr)"
      ],
      "execution_count": 39,
      "outputs": [
        {
          "output_type": "stream",
          "text": [
            "3\n"
          ],
          "name": "stdout"
        }
      ]
    },
    {
      "cell_type": "code",
      "metadata": {
        "id": "0fklnhdqE5Zb",
        "colab_type": "code",
        "colab": {}
      },
      "source": [
        ""
      ],
      "execution_count": 0,
      "outputs": []
    }
  ]
}