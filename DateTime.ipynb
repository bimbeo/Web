{
  "nbformat": 4,
  "nbformat_minor": 0,
  "metadata": {
    "colab": {
      "name": "DateTime.ipynb",
      "provenance": [],
      "authorship_tag": "ABX9TyO1Uat/Pb6+WArjtGP6tSLL",
      "include_colab_link": true
    },
    "kernelspec": {
      "name": "python3",
      "display_name": "Python 3"
    }
  },
  "cells": [
    {
      "cell_type": "markdown",
      "metadata": {
        "id": "view-in-github",
        "colab_type": "text"
      },
      "source": [
        "<a href=\"https://colab.research.google.com/github/bimbeo/Web/blob/master/DateTime.ipynb\" target=\"_parent\"><img src=\"https://colab.research.google.com/assets/colab-badge.svg\" alt=\"Open In Colab\"/></a>"
      ]
    },
    {
      "cell_type": "markdown",
      "metadata": {
        "id": "fcQH5h_KwEUM",
        "colab_type": "text"
      },
      "source": [
        "**1, Viết chương trình NumPy để hiển thị tất cả các ngày trong tháng 3 năm 2017.**\n",
        "\n",
        "**Write a NumPy program to display all the dates for the month of March, 2017.**\n",
        "\n",
        "![alt text](https://www.w3resource.com/w3r_images/numpy-datetime-image-exercise-1.svg)"
      ]
    },
    {
      "cell_type": "code",
      "metadata": {
        "id": "aCZBDUW6wARr",
        "colab_type": "code",
        "colab": {
          "base_uri": "https://localhost:8080/",
          "height": 153
        },
        "outputId": "c794706d-0288-4102-f1cf-99b42c89ad0a"
      },
      "source": [
        "import numpy as np\n",
        "print(\"March, 2017\")\n",
        "print(np.arange('2017-03', '2017-04', dtype='datetime64[D]'))"
      ],
      "execution_count": 2,
      "outputs": [
        {
          "output_type": "stream",
          "text": [
            "March, 2017\n",
            "['2017-03-01' '2017-03-02' '2017-03-03' '2017-03-04' '2017-03-05'\n",
            " '2017-03-06' '2017-03-07' '2017-03-08' '2017-03-09' '2017-03-10'\n",
            " '2017-03-11' '2017-03-12' '2017-03-13' '2017-03-14' '2017-03-15'\n",
            " '2017-03-16' '2017-03-17' '2017-03-18' '2017-03-19' '2017-03-20'\n",
            " '2017-03-21' '2017-03-22' '2017-03-23' '2017-03-24' '2017-03-25'\n",
            " '2017-03-26' '2017-03-27' '2017-03-28' '2017-03-29' '2017-03-30'\n",
            " '2017-03-31']\n"
          ],
          "name": "stdout"
        }
      ]
    },
    {
      "cell_type": "markdown",
      "metadata": {
        "id": "fCKFeS4dwUTE",
        "colab_type": "text"
      },
      "source": [
        "**2, Viết chương trình NumPy để lấy ngày của ngày hôm qua, hôm nay và ngày mai.**\n",
        "\n",
        "**Write a NumPy program to get the dates of yesterday, today and tomorrow.**\n",
        "\n",
        "![alt text](https://www.w3resource.com/w3r_images/numpy-datetime-image-exercise-2.svg)"
      ]
    },
    {
      "cell_type": "code",
      "metadata": {
        "id": "jGHJX-0EwRPd",
        "colab_type": "code",
        "colab": {
          "base_uri": "https://localhost:8080/",
          "height": 68
        },
        "outputId": "c640d409-75ac-41c6-a6bd-8984b2e8d7c1"
      },
      "source": [
        "yesterday = np.datetime64('today', 'D') - np.timedelta64(1, 'D')\n",
        "print(\"Yesterday:\", yesterday)\n",
        "today = np.datetime64('today', 'D')\n",
        "print(\"Today: \", today)\n",
        "tomorrow = np.datetime64('today', 'D') + np.timedelta64(1, 'D')\n",
        "print(\"Tomorrow: \", tomorrow)"
      ],
      "execution_count": 3,
      "outputs": [
        {
          "output_type": "stream",
          "text": [
            "Yesterday: 2020-06-03\n",
            "Today:  2020-06-04\n",
            "Tomorrow:  2020-06-05\n"
          ],
          "name": "stdout"
        }
      ]
    },
    {
      "cell_type": "markdown",
      "metadata": {
        "id": "_TG27GsUw48s",
        "colab_type": "text"
      },
      "source": [
        "**3, Viết chương trình NumPy để đếm số ngày của một tháng nhất định.**\n",
        "\n",
        "**Write a NumPy program to count the number of days of a given month.**\n",
        "\n",
        "![alt text](https://www.w3resource.com/w3r_images/numpy-datetime-image-exercise-3.svg)"
      ]
    },
    {
      "cell_type": "code",
      "metadata": {
        "id": "-4GTM2crw1SD",
        "colab_type": "code",
        "colab": {
          "base_uri": "https://localhost:8080/",
          "height": 119
        },
        "outputId": "9cff5a1e-60f2-409e-f8f6-76c1a680099a"
      },
      "source": [
        "print(\"Number of days, February, 2016: \")\n",
        "print(np.datetime64('2016-03-01') - np.datetime64('2016-02-01'))\n",
        "print(\"Number of days, February, 2017: \")\n",
        "print(np.datetime64('2017-03-01') - np.datetime64('2017-02-01'))\n",
        "print(\"Number of days, February, 2018: \")\n",
        "print(np.datetime64('2018-03-01') - np.datetime64('2018-02-01'))"
      ],
      "execution_count": 4,
      "outputs": [
        {
          "output_type": "stream",
          "text": [
            "Number of days, February, 2016: \n",
            "29 days\n",
            "Number of days, February, 2017: \n",
            "28 days\n",
            "Number of days, February, 2018: \n",
            "28 days\n"
          ],
          "name": "stdout"
        }
      ]
    },
    {
      "cell_type": "markdown",
      "metadata": {
        "id": "aTwL22K_xJfk",
        "colab_type": "text"
      },
      "source": [
        "**4, Viết chương trình NumPy để tạo 24 datthon python. đối tượng datetime (đối tượng duy nhất cho mỗi giờ), và sau đó đặt nó trong một mảng numpy.**\n",
        "\n",
        "**Write a NumPy program to create 24 python datetime. datetime objects (single object for every hour), and then put it in a numpy array.**\n",
        "\n"
      ]
    },
    {
      "cell_type": "code",
      "metadata": {
        "id": "GoZSF9p2xBNH",
        "colab_type": "code",
        "colab": {
          "base_uri": "https://localhost:8080/",
          "height": 221
        },
        "outputId": "bf1ab7d8-5e69-4325-83f7-04d69c394c48"
      },
      "source": [
        "import datetime\n",
        "start = datetime.datetime(2000, 1, 1)\n",
        "dt_array = np.array([start + datetime.timedelta(hours=i) for i in range(24)])\n",
        "print(dt_array)"
      ],
      "execution_count": 5,
      "outputs": [
        {
          "output_type": "stream",
          "text": [
            "[datetime.datetime(2000, 1, 1, 0, 0) datetime.datetime(2000, 1, 1, 1, 0)\n",
            " datetime.datetime(2000, 1, 1, 2, 0) datetime.datetime(2000, 1, 1, 3, 0)\n",
            " datetime.datetime(2000, 1, 1, 4, 0) datetime.datetime(2000, 1, 1, 5, 0)\n",
            " datetime.datetime(2000, 1, 1, 6, 0) datetime.datetime(2000, 1, 1, 7, 0)\n",
            " datetime.datetime(2000, 1, 1, 8, 0) datetime.datetime(2000, 1, 1, 9, 0)\n",
            " datetime.datetime(2000, 1, 1, 10, 0) datetime.datetime(2000, 1, 1, 11, 0)\n",
            " datetime.datetime(2000, 1, 1, 12, 0) datetime.datetime(2000, 1, 1, 13, 0)\n",
            " datetime.datetime(2000, 1, 1, 14, 0) datetime.datetime(2000, 1, 1, 15, 0)\n",
            " datetime.datetime(2000, 1, 1, 16, 0) datetime.datetime(2000, 1, 1, 17, 0)\n",
            " datetime.datetime(2000, 1, 1, 18, 0) datetime.datetime(2000, 1, 1, 19, 0)\n",
            " datetime.datetime(2000, 1, 1, 20, 0) datetime.datetime(2000, 1, 1, 21, 0)\n",
            " datetime.datetime(2000, 1, 1, 22, 0) datetime.datetime(2000, 1, 1, 23, 0)]\n"
          ],
          "name": "stdout"
        }
      ]
    },
    {
      "cell_type": "markdown",
      "metadata": {
        "id": "tmlSUSL0xR_S",
        "colab_type": "text"
      },
      "source": [
        "**5, Viết chương trình NumPy để tìm thứ Hai đầu tiên vào tháng 5 năm 2017.**\n",
        "\n",
        "**Write a NumPy program to find the first Monday in May 2017.**\n",
        "\n",
        "![alt text](https://www.w3resource.com/w3r_images/numpy-datetime-image-exercise-5.svg)"
      ]
    },
    {
      "cell_type": "code",
      "metadata": {
        "id": "4-gHissoxNS9",
        "colab_type": "code",
        "colab": {
          "base_uri": "https://localhost:8080/",
          "height": 51
        },
        "outputId": "1d7098c5-23a6-4b2b-b534-310d9fd8ef75"
      },
      "source": [
        "print(\"First Monday in May 2017:\")\n",
        "print(np.busday_offset('2017-05', 0, roll='forward', weekmask='Mon'))"
      ],
      "execution_count": 6,
      "outputs": [
        {
          "output_type": "stream",
          "text": [
            "First Monday in May 2017:\n",
            "2017-05-01\n"
          ],
          "name": "stdout"
        }
      ]
    },
    {
      "cell_type": "markdown",
      "metadata": {
        "id": "bvA1lBH3xcsK",
        "colab_type": "text"
      },
      "source": [
        "**6, Viết chương trình NumPy để tìm số ngày trong tháng 3 năm 2017.**\n",
        "\n",
        "**Write a NumPy program to find the number of weekdays in March 2017.**\n",
        "\n",
        "Note: \"busday\" default of Monday through Friday being valid days.\n",
        "\n",
        "Lưu ý: \"busday\" mặc định từ thứ Hai đến thứ Sáu là những ngày hợp lệ.\n",
        "![alt text](https://www.w3resource.com/w3r_images/numpy-datetime-image-exercise-6.svg)"
      ]
    },
    {
      "cell_type": "code",
      "metadata": {
        "id": "Wmn79jFjxX1t",
        "colab_type": "code",
        "colab": {
          "base_uri": "https://localhost:8080/",
          "height": 51
        },
        "outputId": "18d3bbd3-6642-4e93-f6e5-bf7e11da1be4"
      },
      "source": [
        "print(\"Number of weekdays in March 2017:\")\n",
        "print(np.busday_count('2017-03', '2017-04'))"
      ],
      "execution_count": 7,
      "outputs": [
        {
          "output_type": "stream",
          "text": [
            "Number of weekdays in March 2017:\n",
            "23\n"
          ],
          "name": "stdout"
        }
      ]
    },
    {
      "cell_type": "markdown",
      "metadata": {
        "id": "Z9kwiVM3xpZc",
        "colab_type": "text"
      },
      "source": [
        "**7, Viết chương trình NumPy để chuyển đổi datetime64 numpy sang Dấu thời gian.**\n",
        "\n",
        "**Write a NumPy program to convert numpy datetime64 to Timestamp.**\n",
        "\n",
        "![alt text](https://www.w3resource.com/w3r_images/numpy-datetime-image-exercise-7.svg)"
      ]
    },
    {
      "cell_type": "code",
      "metadata": {
        "id": "RcEAAzRIxmmV",
        "colab_type": "code",
        "colab": {
          "base_uri": "https://localhost:8080/",
          "height": 173
        },
        "outputId": "b55dd1c0-535a-48ab-82ab-8899fe78feec"
      },
      "source": [
        "from datetime import datetime\n",
        "dt = datetime.utcnow()\n",
        "print(\"Current date:\")\n",
        "print(dt)\n",
        "dt64 = np.datetime64(dt)\n",
        "ts = (dt64 - np.datetime64('1970-01-01T00:00:00Z')) / np.timedelta64(1, 's')\n",
        "print(\"Timestamp:\")\n",
        "print(ts)\n",
        "print(\"UTC from Timestamp:\")\n",
        "print(datetime.utcfromtimestamp(ts))"
      ],
      "execution_count": 8,
      "outputs": [
        {
          "output_type": "stream",
          "text": [
            "Current date:\n",
            "2020-06-04 10:01:11.616710\n",
            "Timestamp:\n",
            "1591264871.61671\n",
            "UTC from Timestamp:\n",
            "2020-06-04 10:01:11.616710\n"
          ],
          "name": "stdout"
        },
        {
          "output_type": "stream",
          "text": [
            "/usr/local/lib/python3.6/dist-packages/ipykernel_launcher.py:6: DeprecationWarning: parsing timezone aware datetimes is deprecated; this will raise an error in the future\n",
            "  \n"
          ],
          "name": "stderr"
        }
      ]
    },
    {
      "cell_type": "code",
      "metadata": {
        "id": "PmNmLIskxwNH",
        "colab_type": "code",
        "colab": {}
      },
      "source": [
        ""
      ],
      "execution_count": 0,
      "outputs": []
    }
  ]
}