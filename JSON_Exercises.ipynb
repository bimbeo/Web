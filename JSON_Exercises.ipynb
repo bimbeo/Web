{
  "nbformat": 4,
  "nbformat_minor": 0,
  "metadata": {
    "colab": {
      "name": "JSON Exercises.ipynb",
      "provenance": [],
      "authorship_tag": "ABX9TyP1YFf8RYnhBxvKQ3dS/dsi",
      "include_colab_link": true
    },
    "kernelspec": {
      "name": "python3",
      "display_name": "Python 3"
    }
  },
  "cells": [
    {
      "cell_type": "markdown",
      "metadata": {
        "id": "view-in-github",
        "colab_type": "text"
      },
      "source": [
        "<a href=\"https://colab.research.google.com/github/bimbeo/Web/blob/master/JSON_Exercises.ipynb\" target=\"_parent\"><img src=\"https://colab.research.google.com/assets/colab-badge.svg\" alt=\"Open In Colab\"/></a>"
      ]
    },
    {
      "cell_type": "markdown",
      "metadata": {
        "id": "BWYFmjQUHT1y",
        "colab_type": "text"
      },
      "source": [
        "**Json (JavaScript Object Notation) là một chuẩn định dạng được dùng để lưu trữ và trao đổi dữ liệu giữa các tiến trình với nhau**\n",
        "\n",
        "JSON is a syntax for storing and exchanging data.\n",
        "\n",
        "JSON is text, written with JavaScript object notation."
      ]
    },
    {
      "cell_type": "markdown",
      "metadata": {
        "id": "4TiZzZ1lHGCM",
        "colab_type": "text"
      },
      "source": [
        "**1, Viết chương trình Python để chuyển đổi dữ liệu JSON thành đối tượng Python.**\n",
        "\n",
        "**Write a Python program to convert JSON data to Python object.**\n",
        "\n"
      ]
    },
    {
      "cell_type": "code",
      "metadata": {
        "id": "x2R4gW-qG5oV",
        "colab_type": "code",
        "outputId": "0b7fdc34-5bbd-4267-c9b6-20c811d782f6",
        "colab": {
          "base_uri": "https://localhost:8080/",
          "height": 136
        }
      },
      "source": [
        "import json\n",
        "json_obj =  '{ \"Name\":\"David\", \"Class\":\"I\", \"Age\":6 }'  # tạo JSON data, là 1 dict nhưng ở trong dấu nháy đơn\n",
        "python_obj = json.loads(json_obj)                       # Để deserialize một file json sang dạng object, ta dùng hàm load\n",
        "print(\"\\nJSON data:\")\n",
        "print(python_obj)\n",
        "print(\"\\nName: \",python_obj[\"Name\"])\n",
        "print(\"Class: \",python_obj[\"Class\"])\n",
        "print(\"Age: \",python_obj[\"Age\"])"
      ],
      "execution_count": 0,
      "outputs": [
        {
          "output_type": "stream",
          "text": [
            "\n",
            "JSON data:\n",
            "{'Name': 'David', 'Class': 'I', 'Age': 6}\n",
            "\n",
            "Name:  David\n",
            "Class:  I\n",
            "Age:  6\n"
          ],
          "name": "stdout"
        }
      ]
    },
    {
      "cell_type": "markdown",
      "metadata": {
        "id": "iq174KMTHnl5",
        "colab_type": "text"
      },
      "source": [
        "**2, Viết chương trình Python để chuyển đổi đối tượng Python thành dữ liệu JSON.**\n",
        "\n",
        "**Write a Python program to convert Python object to JSON data.**\n"
      ]
    },
    {
      "cell_type": "code",
      "metadata": {
        "id": "iGnHnUQvG_kR",
        "colab_type": "code",
        "outputId": "9e444c1e-bfd3-4eb5-f0bf-b64b86515ac5",
        "colab": {
          "base_uri": "https://localhost:8080/",
          "height": 51
        }
      },
      "source": [
        "import json\n",
        "# a Python object (dict):\n",
        "python_obj = {\n",
        "  \"name\": \"David\",\n",
        "  \"class\":\"I\",\n",
        "  \"age\": 6  \n",
        "}\n",
        "print(type(python_obj))\n",
        "# convert into JSON:\n",
        "j_data = json.dumps(python_obj) # Để lưu một Python object lại dưới dạng file json, ta dùng hàm dump.\n",
        "\n",
        "# result is a JSON string:\n",
        "print(j_data)"
      ],
      "execution_count": 0,
      "outputs": [
        {
          "output_type": "stream",
          "text": [
            "<class 'dict'>\n",
            "{\"name\": \"David\", \"class\": \"I\", \"age\": 6}\n"
          ],
          "name": "stdout"
        }
      ]
    },
    {
      "cell_type": "markdown",
      "metadata": {
        "id": "2OQjx_4KgLFx",
        "colab_type": "text"
      },
      "source": [
        "**3, Viết chương trình Python để chuyển đổi các đối tượng Python thành chuỗi JSON. In tất cả các giá trị.**\n",
        "\n",
        "**Write a Python program to convert Python objects into JSON strings. Print all the values.**\n",
        "\n"
      ]
    },
    {
      "cell_type": "code",
      "metadata": {
        "id": "gfoAmS6NHjLV",
        "colab_type": "code",
        "outputId": "37427563-f510-4860-836e-94fa3d133513",
        "colab": {
          "base_uri": "https://localhost:8080/",
          "height": 153
        }
      },
      "source": [
        "import json\n",
        "python_dict = {\"name\" : \"David\", \"age\" : 6, \"class\":\"I\"}\n",
        "python_list = [\"Red\", \"Green\", \"Black\"]\n",
        "python_str = \"Python Json\"\n",
        "python_int = (1234)\n",
        "python_float = (21.34)\n",
        "python_T = (True)\n",
        "python_F = (False)\n",
        "python_N = (None)\n",
        "\n",
        "json_dict = json.dumps(python_dict)\n",
        "json_list = json.dumps(python_list)\n",
        "json_str = json.dumps(python_str)\n",
        "json_num1 = json.dumps(python_int)\n",
        "json_num2 = json.dumps(python_float)\n",
        "json_t = json.dumps(python_T)\n",
        "json_f = json.dumps(python_F)\n",
        "json_n = json.dumps(python_N)\n",
        "\n",
        "print(\"json dict : \", json_dict)\n",
        "print(\"jason list : \", json_list)\n",
        "print(\"json string : \", json_str)\n",
        "print(\"json number1 : \", json_num1)\n",
        "print(\"json number2 : \", json_num2)\n",
        "print(\"json true : \", json_t)\n",
        "print(\"json false : \", json_f)\n",
        "print(\"json null ; \", json_n)"
      ],
      "execution_count": 0,
      "outputs": [
        {
          "output_type": "stream",
          "text": [
            "json dict :  {\"name\": \"David\", \"age\": 6, \"class\": \"I\"}\n",
            "jason list :  [\"Red\", \"Green\", \"Black\"]\n",
            "json string :  \"Python Json\"\n",
            "json number1 :  1234\n",
            "json number2 :  21.34\n",
            "json true :  true\n",
            "json false :  false\n",
            "json null ;  null\n"
          ],
          "name": "stdout"
        }
      ]
    },
    {
      "cell_type": "markdown",
      "metadata": {
        "id": "uVv8AAHhhuEK",
        "colab_type": "text"
      },
      "source": [
        "**4, Viết chương trình Python để chuyển đổi đối tượng từ điển Python (sắp xếp theo khóa) thành dữ liệu JSON. In các thành viên đối tượng với mức thụt 4.**\n",
        "\n",
        "**Write a Python program to convert Python dictionary object (sort by key) to JSON data. Print the object members with indent level 4.**"
      ]
    },
    {
      "cell_type": "code",
      "metadata": {
        "id": "vo_dgvQXhUtP",
        "colab_type": "code",
        "outputId": "fc360fde-9f7c-4111-c8f2-4704a5591812",
        "colab": {
          "base_uri": "https://localhost:8080/",
          "height": 187
        }
      },
      "source": [
        "import json\n",
        "j_str = {'4' : 5, '6' : 7, '1' : 3, '2' : 4}\n",
        "print(\"Original String: \")\n",
        "print(j_str)\n",
        "print(\"\\nJson Data: \")\n",
        "print(json.dumps(j_str, sort_keys = True, indent = 4))"
      ],
      "execution_count": 0,
      "outputs": [
        {
          "output_type": "stream",
          "text": [
            "Original String: \n",
            "{'4': 5, '6': 7, '1': 3, '2': 4}\n",
            "\n",
            "Json Data: \n",
            "{\n",
            "    \"1\": 3,\n",
            "    \"2\": 4,\n",
            "    \"4\": 5,\n",
            "    \"6\": 7\n",
            "}\n"
          ],
          "name": "stdout"
        }
      ]
    },
    {
      "cell_type": "markdown",
      "metadata": {
        "id": "_pNj6p1CiPWQ",
        "colab_type": "text"
      },
      "source": [
        "**5, Viết chương trình Python để chuyển đổi dữ liệu được mã hóa JSON thành các đối tượng Python.**\n",
        "\n",
        "**Write a Python program to convert JSON encoded data into Python objects.**\n",
        "\n"
      ]
    },
    {
      "cell_type": "code",
      "metadata": {
        "id": "7fSOpxiTiE-l",
        "colab_type": "code",
        "outputId": "4767da07-67c1-4f75-e7ff-e36b6c3e1d90",
        "colab": {
          "base_uri": "https://localhost:8080/",
          "height": 102
        }
      },
      "source": [
        "import json\n",
        "\n",
        "jobj_dict =  '{\"name\": \"David\", \"age\": 6, \"class\": \"I\"}'\n",
        "jobj_list =   '[\"Red\", \"Green\", \"Black\"]'\n",
        "jobj_string = '\"Python Json\"'\n",
        "jobj_int = '1234'\n",
        "jobj_float =  '21.34'\n",
        "python_dict =  json.loads(jobj_dict)\n",
        "python_list = json.loads(jobj_list)\n",
        "python_str =  json.loads(jobj_string)\n",
        "python_int =   json.loads(jobj_int)\n",
        "python_float = json.loads(jobj_float)\n",
        "\n",
        "print(\"Python dictionary: \", python_dict)\n",
        "print(\"Python list: \", python_list)\n",
        "print(\"Python string: \", python_str)\n",
        "print(\"Python integer: \", python_int)\n",
        "print(\"Python float: \", python_float)"
      ],
      "execution_count": 0,
      "outputs": [
        {
          "output_type": "stream",
          "text": [
            "Python dictionary:  {'name': 'David', 'age': 6, 'class': 'I'}\n",
            "Python list:  ['Red', 'Green', 'Black']\n",
            "Python string:  Python Json\n",
            "Python integer:  1234\n",
            "Python float:  21.34\n"
          ],
          "name": "stdout"
        }
      ]
    },
    {
      "cell_type": "markdown",
      "metadata": {
        "id": "nG_FypoGi5Mk",
        "colab_type": "text"
      },
      "source": [
        "**6, Viết chương trình Python để tạo tệp JSON mới từ tệp JSON hiện có.**\n",
        "\n",
        "**Write a Python program to create a new JSON file from an existing JSON file.**\n",
        "\n"
      ]
    },
    {
      "cell_type": "code",
      "metadata": {
        "id": "chxJQwptizR9",
        "colab_type": "code",
        "colab": {}
      },
      "source": [
        "import json\n",
        "\n",
        "with open('states.json') as f:\n",
        "  state_data= json.load(f)\n",
        "\n",
        "for state in state_data['states']:\n",
        "  del state['area_codes']\n",
        "\n",
        "with open('new_states.json', 'w') as f:\n",
        "  json.dump(state_data, f, indent=2)"
      ],
      "execution_count": 0,
      "outputs": []
    },
    {
      "cell_type": "markdown",
      "metadata": {
        "id": "VXW9x4RwjZlP",
        "colab_type": "text"
      },
      "source": [
        "**7, Viết chương trình Python để kiểm tra xem một cá thể có phức tạp hay không.**\n",
        "\n",
        "**Write a Python program to check whether an instance is complex or not.**\n",
        "\n"
      ]
    },
    {
      "cell_type": "code",
      "metadata": {
        "id": "G1aXW4H6jgAC",
        "colab_type": "code",
        "outputId": "2c181484-c03d-4a33-95d2-8aa96223bc7e",
        "colab": {
          "base_uri": "https://localhost:8080/",
          "height": 34
        }
      },
      "source": [
        "import json\n",
        "# Xử lý những object mà module json không hỗ trợ\n",
        "def encode_complex(object):\n",
        "    # check using isinstance method\n",
        "    if isinstance(object, complex):\n",
        "        return [object.real, object.imag]\n",
        "    # raised error if object is not complex\n",
        "    raise TypeError(repr(object) + \" is not JSON serialized\")\n",
        "\n",
        "complex_obj = json.dumps(2 + 3j, default=encode_complex)\n",
        "print(complex_obj) "
      ],
      "execution_count": 0,
      "outputs": [
        {
          "output_type": "stream",
          "text": [
            "[2.0, 3.0]\n"
          ],
          "name": "stdout"
        }
      ]
    },
    {
      "cell_type": "markdown",
      "metadata": {
        "id": "c-BRi1APj5hB",
        "colab_type": "text"
      },
      "source": [
        "**8, Viết chương trình Python để kiểm tra xem chuỗi JSON có chứa đối tượng phức tạp hay không.**\n",
        "\n",
        "**Write a Python program to check whether a JSON string contains complex object or not.**\n",
        "\n"
      ]
    },
    {
      "cell_type": "code",
      "metadata": {
        "id": "gtNCc0dZjFg9",
        "colab_type": "code",
        "outputId": "21e08106-b900-4799-f5b3-c5f3b0a62434",
        "colab": {
          "base_uri": "https://localhost:8080/",
          "height": 51
        }
      },
      "source": [
        "import json\n",
        "def is_complex_num(objct):\n",
        "    if '__complex__' in objct:\n",
        "        return complex(objct['real'], objct['img'])\n",
        "    return objct\n",
        "\n",
        "complex_object =json.loads('{\"__complex__\": true, \"real\": 4, \"img\": 5}', object_hook = is_complex_num)\n",
        "simple_object =json.loads('{\"real\": 4, \"img\": 3}', object_hook = is_complex_num)\n",
        "print(\"Complex_object: \",complex_object)\n",
        "print(\"Without complex object: \",simple_object)"
      ],
      "execution_count": 0,
      "outputs": [
        {
          "output_type": "stream",
          "text": [
            "Complex_object:  (4+5j)\n",
            "Without complex object:  {'real': 4, 'img': 3}\n"
          ],
          "name": "stdout"
        }
      ]
    },
    {
      "cell_type": "markdown",
      "metadata": {
        "id": "UB-YoXVLkGyB",
        "colab_type": "text"
      },
      "source": [
        "**9, Viết chương trình Python để chỉ truy cập giá trị khóa duy nhất của đối tượng Python.**\n",
        "\n",
        "**Write a Python program to access only unique key value of a Python object.**\n",
        "\n"
      ]
    },
    {
      "cell_type": "code",
      "metadata": {
        "id": "Mjnx-TCZj91k",
        "colab_type": "code",
        "outputId": "cf56adb0-17ee-4b6b-b231-d65667453775",
        "colab": {
          "base_uri": "https://localhost:8080/",
          "height": 102
        }
      },
      "source": [
        "import json\n",
        "python_obj = '{\"a\":  1, \"a\":  2, \"a\":  3, \"a\": 4, \"b\": 1, \"b\": 2}'\n",
        "print(\"Original Python object:\")\n",
        "print(python_obj)\n",
        "json_obj = json.loads(python_obj)\n",
        "print(\"\\nUnique Key in a JSON object:\")\n",
        "print(json_obj) "
      ],
      "execution_count": 0,
      "outputs": [
        {
          "output_type": "stream",
          "text": [
            "Original Python object:\n",
            "{\"a\":  1, \"a\":  2, \"a\":  3, \"a\": 4, \"b\": 1, \"b\": 2}\n",
            "\n",
            "Unique Key in a JSON object:\n",
            "{'a': 4, 'b': 2}\n"
          ],
          "name": "stdout"
        }
      ]
    },
    {
      "cell_type": "code",
      "metadata": {
        "id": "3M_o8_oNkKfE",
        "colab_type": "code",
        "colab": {}
      },
      "source": [
        ""
      ],
      "execution_count": 0,
      "outputs": []
    }
  ]
}