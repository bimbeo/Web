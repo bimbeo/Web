{
  "nbformat": 4,
  "nbformat_minor": 0,
  "metadata": {
    "colab": {
      "name": "Exercises1:71 - 105.ipynb",
      "provenance": [],
      "authorship_tag": "ABX9TyNqZc/n5ixZHMpAp/6iCS7Y",
      "include_colab_link": true
    },
    "kernelspec": {
      "name": "python3",
      "display_name": "Python 3"
    }
  },
  "cells": [
    {
      "cell_type": "markdown",
      "metadata": {
        "id": "view-in-github",
        "colab_type": "text"
      },
      "source": [
        "<a href=\"https://colab.research.google.com/github/bimbeo/Web/blob/master/Exercises1_71_105.ipynb\" target=\"_parent\"><img src=\"https://colab.research.google.com/assets/colab-badge.svg\" alt=\"Open In Colab\"/></a>"
      ]
    },
    {
      "cell_type": "markdown",
      "metadata": {
        "id": "5PPrxiGy0maq",
        "colab_type": "text"
      },
      "source": [
        "**71, Viết chương trình Python để lấy danh sách thư mục, được sắp xếp theo ngày tạo.**\n",
        "\n",
        "**Write a Python program to get a directory listing, sorted by creation date.**\n",
        "\n"
      ]
    },
    {
      "cell_type": "code",
      "metadata": {
        "id": "IIB1SqSz0Uq6",
        "colab_type": "code",
        "colab": {}
      },
      "source": [
        "from stat import S_ISREG, ST_CTIME, ST_MODE\n",
        "import os, sys, time\n",
        "\n",
        "#Relative or absolute path to the directory\n",
        "dir_path = sys.argv[1] if len(sys.argv) == 2 else r'.'\n",
        "\n",
        "#all entries in the directory w/ stats\n",
        "data = (os.path.join(dir_path, fn) for fn in os.listdir(dir_path))\n",
        "data = ((os.stat(path), path) for path in data)\n",
        "\n",
        "# regular files, insert creation date\n",
        "data = ((stat[ST_CTIME], path)\n",
        "           for stat, path in data if S_ISREG(stat[ST_MODE]))\n",
        "\n",
        "for cdate, path in sorted(data):\n",
        "    print(time.ctime(cdate), os.path.basename(path))"
      ],
      "execution_count": 0,
      "outputs": []
    },
    {
      "cell_type": "markdown",
      "metadata": {
        "id": "-hQBRY6l0yc3",
        "colab_type": "text"
      },
      "source": [
        "**72, Viết chương trình Python để lấy chi tiết mô-đun toán học.**\n",
        "\n",
        "**Write a Python program to get the details of math module.**\n",
        "\n"
      ]
    },
    {
      "cell_type": "code",
      "metadata": {
        "id": "ip8xzxml0rgI",
        "colab_type": "code",
        "outputId": "eeb94d7c-01ef-4329-f056-5acab9969fd3",
        "colab": {
          "base_uri": "https://localhost:8080/",
          "height": 54
        }
      },
      "source": [
        "# Imports the math module\n",
        "import math            \n",
        "#Sets everything to a list of math module\n",
        "math_ls = dir(math) # \n",
        "print(math_ls)"
      ],
      "execution_count": 0,
      "outputs": [
        {
          "output_type": "stream",
          "text": [
            "['__doc__', '__loader__', '__name__', '__package__', '__spec__', 'acos', 'acosh', 'asin', 'asinh', 'atan', 'atan2', 'atanh', 'ceil', 'copysign', 'cos', 'cosh', 'degrees', 'e', 'erf', 'erfc', 'exp', 'expm1', 'fabs', 'factorial', 'floor', 'fmod', 'frexp', 'fsum', 'gamma', 'gcd', 'hypot', 'inf', 'isclose', 'isfinite', 'isinf', 'isnan', 'ldexp', 'lgamma', 'log', 'log10', 'log1p', 'log2', 'modf', 'nan', 'pi', 'pow', 'radians', 'sin', 'sinh', 'sqrt', 'tan', 'tanh', 'tau', 'trunc']\n"
          ],
          "name": "stdout"
        }
      ]
    },
    {
      "cell_type": "markdown",
      "metadata": {
        "id": "pBJTv6Hq1Cse",
        "colab_type": "text"
      },
      "source": [
        "**73, Viết chương trình Python để tính điểm giữa của một dòng.**\n",
        "\n",
        "**Write a Python program to calculate midpoints of a line.**\n",
        "\n",
        "![alt text](https://www.w3resource.com/w3r_images/python-basic-image-exercise-73.png)"
      ]
    },
    {
      "cell_type": "code",
      "metadata": {
        "id": "myt_Bsqz05wH",
        "colab_type": "code",
        "outputId": "61affa11-f0bb-47f0-a25d-f94962e5a21f",
        "colab": {
          "base_uri": "https://localhost:8080/",
          "height": 102
        }
      },
      "source": [
        "x1 = int(input(\"Nhap vao x1: \"))\n",
        "y1 = int(input(\"Nhap vao y1: \"))\n",
        "x2 = int(input(\"Nhap vao x2: \"))\n",
        "y2 = int(input(\"Nhao vao y2: \"))\n",
        "midpoint1 = (x1 + x2) / 2\n",
        "midpoint2 = (y1 + y2) / 2\n",
        "midpoint = (midpoint1, midpoint2)\n",
        "print(\"Diem mid point la: \", midpoint)\n",
        "\n",
        "\"\"\" Cách 2: \n",
        "print('\\nCalculate the midpoint of a line :')\n",
        "x1 = float(input('The value of x (the first endpoint) '))\n",
        "y1 = float(input('The value of y (the first endpoint) '))\n",
        "x2 = float(input('The value of x (the first endpoint) '))\n",
        "y2 = float(input('The value of y (the first endpoint) '))\n",
        "x_m_point = (x1 + x2)/2\n",
        "y_m_point = (y1 + y2)/2\n",
        "print();\n",
        "print(\"The midpoint of line is :\")\n",
        "print( \"The midpoint's x value is: \",x_m_point)\n",
        "print( \"The midpoint's y value is: \",y_m_point)\n",
        "print(); \"\"\""
      ],
      "execution_count": 0,
      "outputs": [
        {
          "output_type": "stream",
          "text": [
            "Nhap vao x1: 2\n",
            "Nhap vao y1: 2\n",
            "Nhap vao x2: 4\n",
            "Nhao vao y2: 4\n",
            "Diem mid point la:  (3.0, 3.0)\n"
          ],
          "name": "stdout"
        }
      ]
    },
    {
      "cell_type": "markdown",
      "metadata": {
        "id": "Lk3j7d6U355f",
        "colab_type": "text"
      },
      "source": [
        "**74, Viết chương trình Python để băm một từ.**\n",
        "\n",
        "**Write a Python program to hash a word.**\n",
        "\n"
      ]
    },
    {
      "cell_type": "code",
      "metadata": {
        "id": "0ByVYV5J2Wwi",
        "colab_type": "code",
        "outputId": "408da7c8-b116-4b05-88c4-64f5ed83588c",
        "colab": {
          "base_uri": "https://localhost:8080/",
          "height": 85
        }
      },
      "source": [
        "soundex=[0,1,2,3,0,1,2,0,0,2,2,4,5,5,0,1,2,6,2,3,0,1,0,2,0,2]\n",
        "word = input(\"Input the word be hashed: \")\n",
        "word = word.upper()                   # in hoa tất cả ký tự trong chuỗi vừa nhập\n",
        "coded = word[0]                       # tạo biến, gán chữ cái đầu index[0] vào biến \n",
        "for a in word[1:len(word)]:           # duyệt a từ vị trí index[1] tới hết độ dài chuỗi\n",
        "  i = 65 - ord(a)                     # biến i, tính i. ord(a), trả về số int trong mã unicode, VD 3 là 51, R là 82\n",
        "  coded = coded + str (soundex[i])    # cập nhật biến coded, cộng thêm ký tự tại vị trí thứ i trong list soundex\n",
        "print()\n",
        "print(\"The coded word is: \" + coded)  # in ra biến coded\n",
        "print()"
      ],
      "execution_count": 0,
      "outputs": [
        {
          "output_type": "stream",
          "text": [
            "Input the word be hashed: w3r\n",
            "\n",
            "The coded word is: W02\n",
            "\n"
          ],
          "name": "stdout"
        }
      ]
    },
    {
      "cell_type": "markdown",
      "metadata": {
        "id": "DnswpCgc7vxf",
        "colab_type": "text"
      },
      "source": [
        "**75, Viết chương trình Python để lấy thông tin bản quyền.**\n",
        "\n",
        "**Write a Python program to get the copyright information.**\n",
        "\n",
        "![alt text](https://www.w3resource.com/w3r_images/python-basic-image-exercise-75.png)"
      ]
    },
    {
      "cell_type": "code",
      "metadata": {
        "id": "RFkDOjZP4u0-",
        "colab_type": "code",
        "outputId": "727bc2ff-e8b4-4fbf-abde-03b7259da0a5",
        "colab": {
          "base_uri": "https://localhost:8080/",
          "height": 255
        }
      },
      "source": [
        "import sys\n",
        "print(\"\\nPython Copyright Information\")\n",
        "print(sys.copyright)\n",
        "print()"
      ],
      "execution_count": 0,
      "outputs": [
        {
          "output_type": "stream",
          "text": [
            "\n",
            "Python Copyright Information\n",
            "Copyright (c) 2001-2019 Python Software Foundation.\n",
            "All Rights Reserved.\n",
            "\n",
            "Copyright (c) 2000 BeOpen.com.\n",
            "All Rights Reserved.\n",
            "\n",
            "Copyright (c) 1995-2001 Corporation for National Research Initiatives.\n",
            "All Rights Reserved.\n",
            "\n",
            "Copyright (c) 1991-1995 Stichting Mathematisch Centrum, Amsterdam.\n",
            "All Rights Reserved.\n",
            "\n"
          ],
          "name": "stdout"
        }
      ]
    },
    {
      "cell_type": "markdown",
      "metadata": {
        "id": "rfRzGcQy8I8n",
        "colab_type": "text"
      },
      "source": [
        "**76, Viết chương trình Python để lấy các đối số dòng lệnh (tên của tập lệnh, số lượng đối số, đối số) được truyền cho một tập lệnh.**\n",
        "\n",
        "**Write a Python program to get the command-line arguments (name of the script, the number of arguments, arguments) passed to a script**"
      ]
    },
    {
      "cell_type": "code",
      "metadata": {
        "id": "ues1HsJc74Hg",
        "colab_type": "code",
        "outputId": "a2f614e9-1e39-4fd3-dd2c-6e34bf220ac5",
        "colab": {
          "base_uri": "https://localhost:8080/",
          "height": 88
        }
      },
      "source": [
        "import sys\n",
        "print(\"This is the name/path of the script:\"),sys.argv[0]\n",
        "print(\"Number of arguments:\",len(sys.argv))\n",
        "print(\"Argument List:\",str(sys.argv))"
      ],
      "execution_count": 0,
      "outputs": [
        {
          "output_type": "stream",
          "text": [
            "This is the name/path of the script:\n",
            "Number of arguments: 3\n",
            "Argument List: ['/usr/local/lib/python3.6/dist-packages/ipykernel_launcher.py', '-f', '/root/.local/share/jupyter/runtime/kernel-6174a181-3c01-4e8e-9c10-f400f73e94fc.json']\n"
          ],
          "name": "stdout"
        }
      ]
    },
    {
      "cell_type": "markdown",
      "metadata": {
        "id": "wTM0vM0j8ide",
        "colab_type": "text"
      },
      "source": [
        "**77, Write a Python program to test whether the system is a big-endian platform or little-endian platform.**\n",
        "\n",
        "**Write a Python program to test whether the system is a big-endian platform or little-endian platform.**\n",
        "\n"
      ]
    },
    {
      "cell_type": "code",
      "metadata": {
        "id": "6AVcqAuU8TPx",
        "colab_type": "code",
        "outputId": "d5250307-be95-439f-d43c-5bbb99673cf9",
        "colab": {
          "base_uri": "https://localhost:8080/",
          "height": 68
        }
      },
      "source": [
        "import sys\n",
        "print()\n",
        "if sys.byteorder == \"little\":\n",
        "    #intel, alpha\n",
        "    print(\"Little-endian platform.\")\n",
        "else:\n",
        "    #motorola, sparc\n",
        "    print(\"Big-endian platform.\")\n",
        "print()"
      ],
      "execution_count": 0,
      "outputs": [
        {
          "output_type": "stream",
          "text": [
            "\n",
            "Little-endian platform.\n",
            "\n"
          ],
          "name": "stdout"
        }
      ]
    },
    {
      "cell_type": "markdown",
      "metadata": {
        "id": "Rb9TvCYz9BTT",
        "colab_type": "text"
      },
      "source": [
        "**78, Viết chương trình Python để tìm các mô đun tích hợp sẵn.**\n",
        "\n",
        "**Write a Python program to find the available built-in modules.**\n",
        "\n"
      ]
    },
    {
      "cell_type": "code",
      "metadata": {
        "id": "WELgEJ6D8xg8",
        "colab_type": "code",
        "outputId": "adbb0bd9-b23e-45ba-a277-e566ab7a39ab",
        "colab": {
          "base_uri": "https://localhost:8080/",
          "height": 153
        }
      },
      "source": [
        "import sys\n",
        "import textwrap\n",
        "module_name = ', '.join(sorted(sys.builtin_module_names))\n",
        "print(textwrap.fill(module_name, width=70))"
      ],
      "execution_count": 0,
      "outputs": [
        {
          "output_type": "stream",
          "text": [
            "_ast, _bisect, _blake2, _codecs, _collections, _datetime,\n",
            "_elementtree, _functools, _heapq, _imp, _io, _locale, _md5, _operator,\n",
            "_pickle, _posixsubprocess, _random, _sha1, _sha256, _sha3, _sha512,\n",
            "_signal, _socket, _sre, _stat, _string, _struct, _symtable, _thread,\n",
            "_tracemalloc, _warnings, _weakref, array, atexit, binascii, builtins,\n",
            "cmath, errno, faulthandler, fcntl, gc, grp, itertools, marshal, math,\n",
            "posix, pwd, pyexpat, select, spwd, sys, syslog, time, unicodedata,\n",
            "xxsubtype, zipimport, zlib\n"
          ],
          "name": "stdout"
        }
      ]
    },
    {
      "cell_type": "markdown",
      "metadata": {
        "id": "bS1cBSL29fBu",
        "colab_type": "text"
      },
      "source": [
        "**79, Viết chương trình Python để lấy kích thước của một đối tượng theo byte.**\n",
        "\n",
        "**Write a Python program to get the size of an object in bytes.**\n",
        "\n",
        "![alt text](https://www.w3resource.com/w3r_images/python-basic-image-exercise-79.png)"
      ]
    },
    {
      "cell_type": "code",
      "metadata": {
        "id": "2oE6YHA29Hr2",
        "colab_type": "code",
        "outputId": "c068f4ee-706f-465c-f107-cce91804ad2e",
        "colab": {
          "base_uri": "https://localhost:8080/",
          "height": 119
        }
      },
      "source": [
        "import sys\n",
        "str1 = \"one\"\n",
        "str2 = \"four\"\n",
        "str3 = \"three\"\n",
        "str4 = \"bim beo aaaa ppppsdosap od\"\n",
        "print()\n",
        "print(\"Memory size of '\"+str1+\"' = \"+str(sys.getsizeof(str1))+ \" bytes\")\n",
        "print(\"Memory size of '\"+str2+\"' = \"+str(sys.getsizeof(str2))+ \" bytes\")\n",
        "print(\"Memory size of '\"+str3+\"' = \"+str(sys.getsizeof(str3))+ \" bytes\")\n",
        "print(\"Memory size of '\"+str4+\"' = \"+str(sys.getsizeof(str4))+ \" bytes\")\n",
        "print()"
      ],
      "execution_count": 0,
      "outputs": [
        {
          "output_type": "stream",
          "text": [
            "\n",
            "Memory size of 'one' = 52 bytes\n",
            "Memory size of 'four' = 53 bytes\n",
            "Memory size of 'three' = 54 bytes\n",
            "Memory size of 'bim beo aaaa ppppsdosap od' = 75 bytes\n",
            "\n"
          ],
          "name": "stdout"
        }
      ]
    },
    {
      "cell_type": "markdown",
      "metadata": {
        "id": "MRx4iMgX-JCv",
        "colab_type": "text"
      },
      "source": [
        "**80, Viết chương trình Python để lấy giá trị hiện tại của giới hạn đệ quy.**\n",
        "\n",
        "**Write a Python program to get the current value of the recursion limit.**\n",
        "\n"
      ]
    },
    {
      "cell_type": "code",
      "metadata": {
        "id": "wiNshF1J90GC",
        "colab_type": "code",
        "outputId": "24d963ba-896d-4213-cdbe-eaed23be35a5",
        "colab": {
          "base_uri": "https://localhost:8080/",
          "height": 85
        }
      },
      "source": [
        "import sys\n",
        "print()\n",
        "print(\"Current value of the recursion limit:\")\n",
        "print(sys.getrecursionlimit())\n",
        "print()"
      ],
      "execution_count": 0,
      "outputs": [
        {
          "output_type": "stream",
          "text": [
            "\n",
            "Current value of the recursion limit:\n",
            "1000\n",
            "\n"
          ],
          "name": "stdout"
        }
      ]
    },
    {
      "cell_type": "markdown",
      "metadata": {
        "id": "-5kg1tJX-VCt",
        "colab_type": "text"
      },
      "source": [
        "**81, Viết chương trình Python để nối chuỗi N.**\n",
        "\n",
        "**Write a Python program to concatenate N strings.**\n",
        "\n",
        "![alt text](https://www.w3resource.com/w3r_images/python-basic-image-exercise-81.png)"
      ]
    },
    {
      "cell_type": "code",
      "metadata": {
        "id": "spsMD7mK-O9I",
        "colab_type": "code",
        "outputId": "c48b3217-89b4-43fa-8dd9-5277593e034e",
        "colab": {
          "base_uri": "https://localhost:8080/",
          "height": 85
        }
      },
      "source": [
        "list_of_colors = ['Red', 'White', 'Black']  \n",
        "colors = '-'.join(list_of_colors)\n",
        "print()\n",
        "print(\"All Colors: \"+colors)\n",
        "print()\n",
        "\n",
        "\"\"\"list_of_colors = list()\n",
        "list_of_colors = input(\"Input color: \")\n",
        "color = '-'.join(list_of_colors)\n",
        "print(\"All color: \" + color) \"\"\""
      ],
      "execution_count": 0,
      "outputs": [
        {
          "output_type": "stream",
          "text": [
            "\n",
            "All Colors: Red-White-Black\n",
            "\n"
          ],
          "name": "stdout"
        },
        {
          "output_type": "execute_result",
          "data": {
            "text/plain": [
              "'list_of_colors = list()\\nlist_of_colors = input(\"Input color: \")\\ncolor = \\'-\\'.join(list_of_colors)\\nprint(\"All color: \" + color) '"
            ]
          },
          "metadata": {
            "tags": []
          },
          "execution_count": 21
        }
      ]
    },
    {
      "cell_type": "markdown",
      "metadata": {
        "id": "7IE_rqAv_ubS",
        "colab_type": "text"
      },
      "source": [
        "**82, Viết chương trình Python để tính tổng trên một container.**\n",
        "\n",
        "**Write a Python program to calculate the sum over a container.**\n",
        "\n",
        "![alt text](https://www.w3resource.com/w3r_images/python-basic-image-exercise-82.png)"
      ]
    },
    {
      "cell_type": "code",
      "metadata": {
        "id": "SrnST5cj-zbo",
        "colab_type": "code",
        "outputId": "ebad99ac-817c-4dcb-fbee-ebad7412bd1f",
        "colab": {
          "base_uri": "https://localhost:8080/",
          "height": 34
        }
      },
      "source": [
        "container = [10, 20, 30]\n",
        "tong = sum(container)\n",
        "print(tong)\n",
        "\n",
        "\"\"\" s = sum([10,20,30])\n",
        "print(\"\\nSum of the container: \", s)\n",
        "print()\"\"\""
      ],
      "execution_count": 0,
      "outputs": [
        {
          "output_type": "stream",
          "text": [
            "60\n"
          ],
          "name": "stdout"
        }
      ]
    },
    {
      "cell_type": "markdown",
      "metadata": {
        "id": "_n9jVtl2AT36",
        "colab_type": "text"
      },
      "source": [
        "**83, Viết chương trình Python để kiểm tra xem tất cả các số của danh sách có lớn hơn một số nhất định hay không.**\n",
        "\n",
        "**Write a Python program to test whether all numbers of a list is greater than a certain number.**\n",
        "\n",
        "![alt text](https://www.w3resource.com/w3r_images/python-basic-image-exercise-83.png)"
      ]
    },
    {
      "cell_type": "code",
      "metadata": {
        "id": "51lv56zyAFKH",
        "colab_type": "code",
        "outputId": "64a5a27b-5b17-4576-c6a8-dc0d490dad50",
        "colab": {
          "base_uri": "https://localhost:8080/",
          "height": 85
        }
      },
      "source": [
        "num = [2,3,4]\n",
        "print()\n",
        "print(all(x > 1 for x in num)) # all, trả về True, nếu tất cả phần tử trong vòng lặp là True\n",
        "print(all(x > 4 for x in num)) # all, trả về All, vì có 1 phần tử trong vòng lặp là Fall, nên dừng lại và trả về kết quả luôn \n",
        "print()"
      ],
      "execution_count": 0,
      "outputs": [
        {
          "output_type": "stream",
          "text": [
            "\n",
            "True\n",
            "False\n",
            "\n"
          ],
          "name": "stdout"
        }
      ]
    },
    {
      "cell_type": "markdown",
      "metadata": {
        "id": "c_ZbxY7ZBhBq",
        "colab_type": "text"
      },
      "source": [
        "**84, Viết chương trình Python để đếm số lần xuất hiện của một ký tự cụ thể trong chuỗi.**\n",
        "\n",
        "**Write a Python program to count the number of occurrence of a specific character in a string.**\n",
        "\n",
        "![alt text](https://www.w3resource.com/w3r_images/python-basic-image-exercise-84.png)\n"
      ]
    },
    {
      "cell_type": "code",
      "metadata": {
        "id": "39O0GS9CAooC",
        "colab_type": "code",
        "outputId": "b8926779-6f04-4369-c6af-fa60ec13d680",
        "colab": {
          "base_uri": "https://localhost:8080/",
          "height": 68
        }
      },
      "source": [
        "s = \"The quick brown fox jumps over the lazy dog.\"\n",
        "print()\n",
        "print(s.count(\"e\"))     # phương thức count để đếm phần tử trong chuỗi\n",
        "print()"
      ],
      "execution_count": 0,
      "outputs": [
        {
          "output_type": "stream",
          "text": [
            "\n",
            "3\n",
            "\n"
          ],
          "name": "stdout"
        }
      ]
    },
    {
      "cell_type": "markdown",
      "metadata": {
        "id": "y-IVIJVbB_lg",
        "colab_type": "text"
      },
      "source": [
        "**85, Viết chương trình Python để kiểm tra xem đường dẫn tệp là tệp hay thư mục.**\n",
        "\n",
        "**Write a Python program to check whether a file path is a file or a directory.**"
      ]
    },
    {
      "cell_type": "code",
      "metadata": {
        "id": "1xXh2WOqB1Oo",
        "colab_type": "code",
        "outputId": "670651d9-3c0a-4228-ae02-ee1abd48f389",
        "colab": {
          "base_uri": "https://localhost:8080/",
          "height": 51
        }
      },
      "source": [
        "import os  \n",
        "path=\"abc.txt\"  \n",
        "if os.path.isdir(path):  \n",
        "    print(\"\\nIt is a directory\")  \n",
        "elif os.path.isfile(path):  \n",
        "    print(\"\\nIt is a normal file\")  \n",
        "else:  \n",
        "    print(\"It is a special file (socket, FIFO, device file)\" )\n",
        "print()"
      ],
      "execution_count": 0,
      "outputs": [
        {
          "output_type": "stream",
          "text": [
            "It is a special file (socket, FIFO, device file)\n",
            "\n"
          ],
          "name": "stdout"
        }
      ]
    },
    {
      "cell_type": "markdown",
      "metadata": {
        "id": "i71bug7BCSiq",
        "colab_type": "text"
      },
      "source": [
        "**86, Viết chương trình Python để lấy giá trị ASCII của một ký tự.**\n",
        "\n",
        "**Write a Python program to get the ASCII value of a character.**\n",
        "\n",
        "![alt text](https://www.w3resource.com/w3r_images/python-basic-image-exercise-86.png)"
      ]
    },
    {
      "cell_type": "code",
      "metadata": {
        "id": "fxEniyTDCKVR",
        "colab_type": "code",
        "outputId": "a30ee521-710b-4048-8b62-61af19f8a805",
        "colab": {
          "base_uri": "https://localhost:8080/",
          "height": 119
        }
      },
      "source": [
        "print()\n",
        "print(ord('a'))\n",
        "print(ord('A'))\n",
        "print(ord('1'))\n",
        "print(ord('@'))\n",
        "print()"
      ],
      "execution_count": 0,
      "outputs": [
        {
          "output_type": "stream",
          "text": [
            "\n",
            "97\n",
            "65\n",
            "49\n",
            "64\n",
            "\n"
          ],
          "name": "stdout"
        }
      ]
    },
    {
      "cell_type": "markdown",
      "metadata": {
        "id": "iSIhd1OzC2Tc",
        "colab_type": "text"
      },
      "source": [
        "**87, Viết chương trình Python để lấy kích thước của tệp.**\n",
        "\n",
        "**Write a Python program to get the size of a file.**"
      ]
    },
    {
      "cell_type": "code",
      "metadata": {
        "id": "U1wmvdaYCb-K",
        "colab_type": "code",
        "outputId": "82268516-87f8-4ec2-a1e6-d6af5534194f",
        "colab": {
          "base_uri": "https://localhost:8080/",
          "height": 333
        }
      },
      "source": [
        "import os\n",
        "file_size = os.path.getsize(\"abc.txt\")\n",
        "print(\"\\nThe size of abc.txt is :\",file_size,\"Bytes\")\n",
        "print()"
      ],
      "execution_count": 0,
      "outputs": [
        {
          "output_type": "error",
          "ename": "FileNotFoundError",
          "evalue": "ignored",
          "traceback": [
            "\u001b[0;31m---------------------------------------------------------------------------\u001b[0m",
            "\u001b[0;31mFileNotFoundError\u001b[0m                         Traceback (most recent call last)",
            "\u001b[0;32m<ipython-input-30-8190dabecabb>\u001b[0m in \u001b[0;36m<module>\u001b[0;34m()\u001b[0m\n\u001b[1;32m      1\u001b[0m \u001b[0;32mimport\u001b[0m \u001b[0mos\u001b[0m\u001b[0;34m\u001b[0m\u001b[0;34m\u001b[0m\u001b[0m\n\u001b[0;32m----> 2\u001b[0;31m \u001b[0mfile_size\u001b[0m \u001b[0;34m=\u001b[0m \u001b[0mos\u001b[0m\u001b[0;34m.\u001b[0m\u001b[0mpath\u001b[0m\u001b[0;34m.\u001b[0m\u001b[0mgetsize\u001b[0m\u001b[0;34m(\u001b[0m\u001b[0;34m\"abc.txt\"\u001b[0m\u001b[0;34m)\u001b[0m\u001b[0;34m\u001b[0m\u001b[0;34m\u001b[0m\u001b[0m\n\u001b[0m\u001b[1;32m      3\u001b[0m \u001b[0mprint\u001b[0m\u001b[0;34m(\u001b[0m\u001b[0;34m\"\\nThe size of abc.txt is :\"\u001b[0m\u001b[0;34m,\u001b[0m\u001b[0mfile_size\u001b[0m\u001b[0;34m,\u001b[0m\u001b[0;34m\"Bytes\"\u001b[0m\u001b[0;34m)\u001b[0m\u001b[0;34m\u001b[0m\u001b[0;34m\u001b[0m\u001b[0m\n\u001b[1;32m      4\u001b[0m \u001b[0mprint\u001b[0m\u001b[0;34m(\u001b[0m\u001b[0;34m)\u001b[0m\u001b[0;34m\u001b[0m\u001b[0;34m\u001b[0m\u001b[0m\n",
            "\u001b[0;32m/usr/lib/python3.6/genericpath.py\u001b[0m in \u001b[0;36mgetsize\u001b[0;34m(filename)\u001b[0m\n\u001b[1;32m     48\u001b[0m \u001b[0;32mdef\u001b[0m \u001b[0mgetsize\u001b[0m\u001b[0;34m(\u001b[0m\u001b[0mfilename\u001b[0m\u001b[0;34m)\u001b[0m\u001b[0;34m:\u001b[0m\u001b[0;34m\u001b[0m\u001b[0;34m\u001b[0m\u001b[0m\n\u001b[1;32m     49\u001b[0m     \u001b[0;34m\"\"\"Return the size of a file, reported by os.stat().\"\"\"\u001b[0m\u001b[0;34m\u001b[0m\u001b[0;34m\u001b[0m\u001b[0m\n\u001b[0;32m---> 50\u001b[0;31m     \u001b[0;32mreturn\u001b[0m \u001b[0mos\u001b[0m\u001b[0;34m.\u001b[0m\u001b[0mstat\u001b[0m\u001b[0;34m(\u001b[0m\u001b[0mfilename\u001b[0m\u001b[0;34m)\u001b[0m\u001b[0;34m.\u001b[0m\u001b[0mst_size\u001b[0m\u001b[0;34m\u001b[0m\u001b[0;34m\u001b[0m\u001b[0m\n\u001b[0m\u001b[1;32m     51\u001b[0m \u001b[0;34m\u001b[0m\u001b[0m\n\u001b[1;32m     52\u001b[0m \u001b[0;34m\u001b[0m\u001b[0m\n",
            "\u001b[0;31mFileNotFoundError\u001b[0m: [Errno 2] No such file or directory: 'abc.txt'"
          ]
        }
      ]
    },
    {
      "cell_type": "markdown",
      "metadata": {
        "id": "yEY2UAZPDIBD",
        "colab_type": "text"
      },
      "source": [
        "**88, Cho các biến x = 30 và y = 20, viết chương trình Python để in \"30 + 20 = 50\".**\n",
        "\n",
        "**Given variables x=30 and y=20, write a Python program to print \"30+20=50\".**\n",
        "\n",
        "![alt text](https://www.w3resource.com/w3r_images/python-basic-image-exercise-88.png)"
      ]
    },
    {
      "cell_type": "code",
      "metadata": {
        "id": "XlM5YHpZDAZf",
        "colab_type": "code",
        "outputId": "827ae09f-b8c8-46d6-f986-a6d412a4f006",
        "colab": {
          "base_uri": "https://localhost:8080/",
          "height": 68
        }
      },
      "source": [
        "x = 30\n",
        "y = 20\n",
        "print(x + y)\n",
        "print(\"\\n%d+%d=%d\" % (x, y, x+y))\n"
      ],
      "execution_count": 0,
      "outputs": [
        {
          "output_type": "stream",
          "text": [
            "50\n",
            "\n",
            "30+20=50\n"
          ],
          "name": "stdout"
        }
      ]
    },
    {
      "cell_type": "markdown",
      "metadata": {
        "id": "zzqco6hyDjfB",
        "colab_type": "text"
      },
      "source": [
        "**89, Viết chương trình Python để thực hiện một hành động nếu một điều kiện là đúng.**\n",
        "\n",
        "**Write a Python program to perform an action if a condition is true.**\n"
      ]
    },
    {
      "cell_type": "code",
      "metadata": {
        "id": "Q8OeNuDaDXhF",
        "colab_type": "code",
        "outputId": "6f3cb2bd-c597-4797-847f-2bd83859ac35",
        "colab": {
          "base_uri": "https://localhost:8080/",
          "height": 51
        }
      },
      "source": [
        "n = 1\n",
        "if n == 1:\n",
        "  print(\"First day of a Month\")\n",
        "print()"
      ],
      "execution_count": 0,
      "outputs": [
        {
          "output_type": "stream",
          "text": [
            "First day of a Month\n",
            "\n"
          ],
          "name": "stdout"
        }
      ]
    },
    {
      "cell_type": "markdown",
      "metadata": {
        "id": "bQnUKfAzEDzm",
        "colab_type": "text"
      },
      "source": [
        "**90, Viết chương trình Python để tạo một bản sao của mã nguồn của chính nó.**\n",
        "\n",
        "**Write a Python program to create a copy of its own source code.**\n",
        "\n",
        "![alt text](https://www.w3resource.com/w3r_images/python-basic-image-exercise-90.png)"
      ]
    },
    {
      "cell_type": "code",
      "metadata": {
        "id": "y2zyCxvDD1sZ",
        "colab_type": "code",
        "outputId": "0d30753f-2b5d-4b9e-c84c-c8d37565e953",
        "colab": {
          "base_uri": "https://localhost:8080/",
          "height": 68
        }
      },
      "source": [
        "print()\n",
        "print((lambda str='print(lambda str=%r: (str %% str))()': (str % str))())\n",
        "print()\n",
        "\"\"\" str:    \t\"print(lambda str=%r: (str %% str))()\"\n",
        "Return value:\t\"print(lambda str='print(lambda str=%r: (str %% str))()': (str % str))()\"\n",
        "\"\"\"\""
      ],
      "execution_count": 0,
      "outputs": [
        {
          "output_type": "stream",
          "text": [
            "\n",
            "print(lambda str='print(lambda str=%r: (str %% str))()': (str % str))()\n",
            "\n"
          ],
          "name": "stdout"
        }
      ]
    },
    {
      "cell_type": "markdown",
      "metadata": {
        "id": "vjNR5nBVFByu",
        "colab_type": "text"
      },
      "source": [
        "**91, Viết chương trình Python để hoán đổi hai biến.**\n",
        "\n",
        "**Write a Python program to swap two variables.**\n",
        "\n",
        "![alt text](https://www.w3resource.com/w3r_images/basic-91.png)"
      ]
    },
    {
      "cell_type": "code",
      "metadata": {
        "id": "5igWmlcKEVSl",
        "colab_type": "code",
        "outputId": "26e53a11-d9a1-40fd-820e-5b8926e488d7",
        "colab": {
          "base_uri": "https://localhost:8080/",
          "height": 51
        }
      },
      "source": [
        "a = 30\n",
        "b = 20\n",
        "print(\"Before swap a = %d and b = %d\" % (a, b))\n",
        "a , b = b ,a\n",
        "print(\"Affter swap a = %d and b = %d\" % (a,b))\n"
      ],
      "execution_count": 0,
      "outputs": [
        {
          "output_type": "stream",
          "text": [
            "Before swap a = 30 and b = 20\n",
            "Affter swap a = 20 and b = 30\n"
          ],
          "name": "stdout"
        }
      ]
    },
    {
      "cell_type": "markdown",
      "metadata": {
        "id": "B3TpROhHFyc0",
        "colab_type": "text"
      },
      "source": [
        "**92, Viết chương trình Python để xác định chuỗi chứa các ký tự đặc biệt ở nhiều dạng khác nhau.**\n",
        "\n",
        "**Write a Python program to define a string containing special characters in various forms.**\n",
        "\n"
      ]
    },
    {
      "cell_type": "code",
      "metadata": {
        "id": "WVjlfC5gFcAW",
        "colab_type": "code",
        "outputId": "0a75265b-c25e-491c-d854-3de00e7092fc",
        "colab": {
          "base_uri": "https://localhost:8080/",
          "height": 153
        }
      },
      "source": [
        "print()\n",
        "print(\"\\#{'}${\\\"}@/\")\n",
        "print(\"\\#{'}${\"'\"'\"}@/\")\n",
        "print(r\"\"\"\\#{'}${\"}@/\"\"\")\n",
        "print('\\#{\\'}${\"}@/')\n",
        "print('\\#{'\"'\"'}${\"}@/')\n",
        "print(r'''\\#{'}${\"}@/''')\n",
        "print()"
      ],
      "execution_count": 0,
      "outputs": [
        {
          "output_type": "stream",
          "text": [
            "\n",
            "\\#{'}${\"}@/\n",
            "\\#{'}${\"}@/\n",
            "\\#{'}${\"}@/\n",
            "\\#{'}${\"}@/\n",
            "\\#{'}${\"}@/\n",
            "\\#{'}${\"}@/\n",
            "\n"
          ],
          "name": "stdout"
        }
      ]
    },
    {
      "cell_type": "markdown",
      "metadata": {
        "id": "_xHjotvmGLAM",
        "colab_type": "text"
      },
      "source": [
        "**93, Viết chương trình Python để lấy danh tính của một đối tượng.**\n",
        "\n",
        "**Write a Python program to get the identity of an object.**\n",
        "\n"
      ]
    },
    {
      "cell_type": "code",
      "metadata": {
        "id": "GVvp51OpF4xe",
        "colab_type": "code",
        "outputId": "fcccb33b-de40-4cda-ecd9-3d2cd2aa4850",
        "colab": {
          "base_uri": "https://localhost:8080/",
          "height": 68
        }
      },
      "source": [
        "obj1 = object()\n",
        "obj1_address = id(obj1)\n",
        "print()\n",
        "print(obj1_address)\n",
        "print()"
      ],
      "execution_count": 0,
      "outputs": [
        {
          "output_type": "stream",
          "text": [
            "\n",
            "140439699903696\n",
            "\n"
          ],
          "name": "stdout"
        }
      ]
    },
    {
      "cell_type": "markdown",
      "metadata": {
        "id": "F27sFDGqGa1g",
        "colab_type": "text"
      },
      "source": [
        "**94, Viết chương trình Python để chuyển đổi chuỗi byte thành danh sách các số nguyên.**\n",
        "\n",
        "**Write a Python program to convert a byte string to a list of integers.**\n",
        "\n"
      ]
    },
    {
      "cell_type": "code",
      "metadata": {
        "id": "uPYf4XcFGS3e",
        "colab_type": "code",
        "outputId": "123fcb98-98d0-4f9d-9952-3331b920dc15",
        "colab": {
          "base_uri": "https://localhost:8080/",
          "height": 34
        }
      },
      "source": [
        "x = b'Abc'        # mã unicode\n",
        "print(list(x))"
      ],
      "execution_count": 0,
      "outputs": [
        {
          "output_type": "stream",
          "text": [
            "[65, 98, 99]\n"
          ],
          "name": "stdout"
        }
      ]
    },
    {
      "cell_type": "markdown",
      "metadata": {
        "id": "aRcIw2uwGzrq",
        "colab_type": "text"
      },
      "source": [
        "**95, Viết chương trình Python để kiểm tra xem một chuỗi có phải là số không.**\n",
        "\n",
        "**Write a Python program to check whether a string is numeric.**\n",
        "\n"
      ]
    },
    {
      "cell_type": "code",
      "metadata": {
        "id": "SR5eUEmeGhnp",
        "colab_type": "code",
        "outputId": "b847f0d8-05b5-4c67-e1b3-011bbdc70438",
        "colab": {
          "base_uri": "https://localhost:8080/",
          "height": 68
        }
      },
      "source": [
        "str = 'a123'\n",
        "try:\n",
        "  i = float(str)\n",
        "except (ValueError, TypeError):\n",
        "  print('\\nNot Numeric')\n",
        "print()"
      ],
      "execution_count": 0,
      "outputs": [
        {
          "output_type": "stream",
          "text": [
            "\n",
            "Not Numeric\n",
            "\n"
          ],
          "name": "stdout"
        }
      ]
    },
    {
      "cell_type": "markdown",
      "metadata": {
        "id": "6bpRkvAWHVXh",
        "colab_type": "text"
      },
      "source": [
        "**96, Viết chương trình Python để in ngăn xếp cuộc gọi hiện tại.**\n",
        "\n",
        "**Write a Python program to print the current call stack.**\n",
        "\n"
      ]
    },
    {
      "cell_type": "code",
      "metadata": {
        "id": "McSRsyIjHFZT",
        "colab_type": "code",
        "outputId": "7d4406da-99ee-461b-e1f0-4b0ee96cda81",
        "colab": {
          "base_uri": "https://localhost:8080/",
          "height": 799
        }
      },
      "source": [
        "import traceback\n",
        "print()\n",
        "def f1():return abc()\n",
        "def abc():traceback.print_stack()\n",
        "f1()\n",
        "print()"
      ],
      "execution_count": 0,
      "outputs": [
        {
          "output_type": "stream",
          "text": [
            "\n",
            "\n"
          ],
          "name": "stdout"
        },
        {
          "output_type": "stream",
          "text": [
            "  File \"/usr/lib/python3.6/runpy.py\", line 193, in _run_module_as_main\n",
            "    \"__main__\", mod_spec)\n",
            "  File \"/usr/lib/python3.6/runpy.py\", line 85, in _run_code\n",
            "    exec(code, run_globals)\n",
            "  File \"/usr/local/lib/python3.6/dist-packages/ipykernel_launcher.py\", line 16, in <module>\n",
            "    app.launch_new_instance()\n",
            "  File \"/usr/local/lib/python3.6/dist-packages/traitlets/config/application.py\", line 664, in launch_instance\n",
            "    app.start()\n",
            "  File \"/usr/local/lib/python3.6/dist-packages/ipykernel/kernelapp.py\", line 499, in start\n",
            "    self.io_loop.start()\n",
            "  File \"/usr/local/lib/python3.6/dist-packages/tornado/ioloop.py\", line 888, in start\n",
            "    handler_func(fd_obj, events)\n",
            "  File \"/usr/local/lib/python3.6/dist-packages/tornado/stack_context.py\", line 277, in null_wrapper\n",
            "    return fn(*args, **kwargs)\n",
            "  File \"/usr/local/lib/python3.6/dist-packages/zmq/eventloop/zmqstream.py\", line 456, in _handle_events\n",
            "    self._handle_recv()\n",
            "  File \"/usr/local/lib/python3.6/dist-packages/zmq/eventloop/zmqstream.py\", line 486, in _handle_recv\n",
            "    self._run_callback(callback, msg)\n",
            "  File \"/usr/local/lib/python3.6/dist-packages/zmq/eventloop/zmqstream.py\", line 438, in _run_callback\n",
            "    callback(*args, **kwargs)\n",
            "  File \"/usr/local/lib/python3.6/dist-packages/tornado/stack_context.py\", line 277, in null_wrapper\n",
            "    return fn(*args, **kwargs)\n",
            "  File \"/usr/local/lib/python3.6/dist-packages/ipykernel/kernelbase.py\", line 283, in dispatcher\n",
            "    return self.dispatch_shell(stream, msg)\n",
            "  File \"/usr/local/lib/python3.6/dist-packages/ipykernel/kernelbase.py\", line 233, in dispatch_shell\n",
            "    handler(stream, idents, msg)\n",
            "  File \"/usr/local/lib/python3.6/dist-packages/ipykernel/kernelbase.py\", line 399, in execute_request\n",
            "    user_expressions, allow_stdin)\n",
            "  File \"/usr/local/lib/python3.6/dist-packages/ipykernel/ipkernel.py\", line 208, in do_execute\n",
            "    res = shell.run_cell(code, store_history=store_history, silent=silent)\n",
            "  File \"/usr/local/lib/python3.6/dist-packages/ipykernel/zmqshell.py\", line 537, in run_cell\n",
            "    return super(ZMQInteractiveShell, self).run_cell(*args, **kwargs)\n",
            "  File \"/usr/local/lib/python3.6/dist-packages/IPython/core/interactiveshell.py\", line 2718, in run_cell\n",
            "    interactivity=interactivity, compiler=compiler, result=result)\n",
            "  File \"/usr/local/lib/python3.6/dist-packages/IPython/core/interactiveshell.py\", line 2822, in run_ast_nodes\n",
            "    if self.run_code(code, result):\n",
            "  File \"/usr/local/lib/python3.6/dist-packages/IPython/core/interactiveshell.py\", line 2882, in run_code\n",
            "    exec(code_obj, self.user_global_ns, self.user_ns)\n",
            "  File \"<ipython-input-44-46d52883091b>\", line 5, in <module>\n",
            "    f1()\n",
            "  File \"<ipython-input-44-46d52883091b>\", line 3, in f1\n",
            "    def f1():return abc()\n",
            "  File \"<ipython-input-44-46d52883091b>\", line 4, in abc\n",
            "    def abc():traceback.print_stack()\n"
          ],
          "name": "stderr"
        }
      ]
    },
    {
      "cell_type": "markdown",
      "metadata": {
        "id": "u4j5fXkGHt_f",
        "colab_type": "text"
      },
      "source": [
        "**97, Viết chương trình Python để liệt kê các biến đặc biệt được sử dụng trong ngôn ngữ.**\n",
        "\n",
        "**Write a Python program to list the special variables used within the language.**\n",
        "\n"
      ]
    },
    {
      "cell_type": "code",
      "metadata": {
        "id": "HIugNNCCHcU5",
        "colab_type": "code",
        "outputId": "5a6bf264-1d12-45c1-b62d-01024dd7952e",
        "colab": {
          "base_uri": "https://localhost:8080/",
          "height": 612
        }
      },
      "source": [
        "s_var_names = sorted((set(globals().keys()) | set(__builtins__.__dict__.keys())) - set('_ names i'.split()))\n",
        "print()\n",
        "print( '\\n'.join(' '.join(s_var_names[i:i+8]) for i in range(0, len(s_var_names), 8)) )\n",
        "print()"
      ],
      "execution_count": 0,
      "outputs": [
        {
          "output_type": "stream",
          "text": [
            "\n",
            "ArithmeticError AssertionError AttributeError BaseException BlockingIOError BrokenPipeError BufferError BytesWarning\n",
            "ChildProcessError ConnectionAbortedError ConnectionError ConnectionRefusedError ConnectionResetError DeprecationWarning EOFError Ellipsis\n",
            "EnvironmentError Exception False FileExistsError FileNotFoundError FloatingPointError FutureWarning GeneratorExit\n",
            "IOError ImportError ImportWarning In IndentationError IndexError InterruptedError IsADirectoryError\n",
            "KeyError KeyboardInterrupt LookupError MemoryError ModuleNotFoundError NameError None NotADirectoryError\n",
            "NotImplemented NotImplementedError OSError Out OverflowError PendingDeprecationWarning PermissionError ProcessLookupError\n",
            "RecursionError ReferenceError ResourceWarning RuntimeError RuntimeWarning ST_CTIME ST_MODE S_ISREG\n",
            "StopAsyncIteration StopIteration SyntaxError SyntaxWarning SystemError SystemExit TabError TimeoutError\n",
            "True TypeError UnboundLocalError UnicodeDecodeError UnicodeEncodeError UnicodeError UnicodeTranslateError UnicodeWarning\n",
            "UserWarning ValueError Warning ZeroDivisionError _21 __ __IPYTHON__ ___\n",
            "__annotations__ __build_class__ __builtin__ __builtins__ __debug__ __doc__ __import__ __loader__\n",
            "__name__ __package__ __spec__ _dh _i _i1 _i10 _i11\n",
            "_i12 _i13 _i14 _i15 _i16 _i17 _i18 _i19\n",
            "_i2 _i20 _i21 _i22 _i23 _i24 _i25 _i26\n",
            "_i27 _i28 _i29 _i3 _i30 _i31 _i32 _i33\n",
            "_i34 _i35 _i36 _i37 _i38 _i39 _i4 _i40\n",
            "_i41 _i42 _i43 _i44 _i45 _i5 _i6 _i7\n",
            "_i8 _i9 _ih _ii _iii _oh _sh a\n",
            "abc abs all any ascii b bin bool\n",
            "bytearray bytes callable chr classmethod coded color colors\n",
            "compile complex container copyright credits data delattr dict\n",
            "dir dir_path display divmod dreload enumerate eval exec\n",
            "exit f1 filter float format frozenset get_ipython getattr\n",
            "globals hasattr hash help hex id input int\n",
            "isinstance issubclass iter len license list list_of_colors locals\n",
            "map math math_ls max memoryview midpoint midpoint1 midpoint2\n",
            "min module_name n next num obj1 obj1_address object\n",
            "oct open ord os path pow print property\n",
            "quit range repr reversed round s set setattr\n",
            "slice sorted soundex staticmethod str str1 str2 str3\n",
            "str4 sum super sys textwrap time tong traceback\n",
            "tuple type vars word x x1 x2 y\n",
            "y1 y2 zip\n",
            "\n"
          ],
          "name": "stdout"
        }
      ]
    },
    {
      "cell_type": "markdown",
      "metadata": {
        "id": "qicklUBtH_BW",
        "colab_type": "text"
      },
      "source": [
        "**98, Viết chương trình Python để lấy thời gian hệ thống.**\n",
        "\n",
        "**Write a Python program to get the system time.**\n",
        "\n",
        "Thời gian hệ thống rất quan trọng để gỡ lỗi, thông tin mạng, hạt số ngẫu nhiên hoặc một cái gì đó đơn giản như hiệu suất chương trình.\n",
        "\n",
        "![alt text](https://www.w3resource.com/w3r_images/python-basic-image-exercise-98.png)"
      ]
    },
    {
      "cell_type": "code",
      "metadata": {
        "id": "JFqk1gr4H3M_",
        "colab_type": "code",
        "outputId": "7fc42e94-e2ed-4932-885a-f76c9f644169",
        "colab": {
          "base_uri": "https://localhost:8080/",
          "height": 68
        }
      },
      "source": [
        "import time\n",
        "print()\n",
        "print(time.ctime())\n",
        "print()"
      ],
      "execution_count": 0,
      "outputs": [
        {
          "output_type": "stream",
          "text": [
            "\n",
            "Thu May 14 07:40:24 2020\n",
            "\n"
          ],
          "name": "stdout"
        }
      ]
    },
    {
      "cell_type": "markdown",
      "metadata": {
        "id": "M5hQHyF3IcKD",
        "colab_type": "text"
      },
      "source": [
        "**99, Viết chương trình Python để xóa màn hình hoặc thiết bị đầu cuối.**\n",
        " \n",
        "**Write a Python program to clear the screen or terminal.**\n",
        "\n",
        "\n"
      ]
    },
    {
      "cell_type": "code",
      "metadata": {
        "id": "oKQwuilBIJEX",
        "colab_type": "code",
        "outputId": "ae781530-92a9-4234-dbd6-26e097479c76",
        "colab": {
          "base_uri": "https://localhost:8080/",
          "height": 34
        }
      },
      "source": [
        "import os\n",
        "import time\n",
        "# for windows\n",
        "# os.system('cls')\n",
        "os.system(\"ls\")\n",
        "time.sleep(2)\n",
        "# Ubuntu version 10.10\n",
        "os.system('clear')"
      ],
      "execution_count": 0,
      "outputs": [
        {
          "output_type": "execute_result",
          "data": {
            "text/plain": [
              "0"
            ]
          },
          "metadata": {
            "tags": []
          },
          "execution_count": 47
        }
      ]
    },
    {
      "cell_type": "markdown",
      "metadata": {
        "id": "seuINchiIrAH",
        "colab_type": "text"
      },
      "source": [
        "**100, Viết chương trình Python để lấy tên của máy chủ lưu trữ mà thường trình đang chạy.**\n",
        "\n",
        "**Write a Python program to get the name of the host on which the routine is running.**"
      ]
    },
    {
      "cell_type": "code",
      "metadata": {
        "id": "Q1iEEHVXIkyu",
        "colab_type": "code",
        "outputId": "49423f5e-b421-4f6c-cb79-20503ba7fdfe",
        "colab": {
          "base_uri": "https://localhost:8080/",
          "height": 68
        }
      },
      "source": [
        "import socket\n",
        "host_name = socket.gethostname()\n",
        "print()\n",
        "print(\"Host name:\", host_name)\n",
        "print()"
      ],
      "execution_count": 0,
      "outputs": [
        {
          "output_type": "stream",
          "text": [
            "\n",
            "Host name: db740cf1f785\n",
            "\n"
          ],
          "name": "stdout"
        }
      ]
    },
    {
      "cell_type": "markdown",
      "metadata": {
        "id": "Ag1ly-WhI_q-",
        "colab_type": "text"
      },
      "source": [
        "**101, Viết chương trình Python để truy cập và in nội dung của URL lên bàn điều khiển.**\n",
        "\n",
        "**Write a Python program to access and print a URL's content to the console.**\n",
        "\n"
      ]
    },
    {
      "cell_type": "code",
      "metadata": {
        "id": "MAk0aDzTI2QY",
        "colab_type": "code",
        "outputId": "b14674d4-1723-4445-b706-ee5fd9d55e73",
        "colab": {
          "base_uri": "https://localhost:8080/",
          "height": 54
        }
      },
      "source": [
        "from http.client import HTTPConnection\n",
        "conn = HTTPConnection(\"example.com\")\n",
        "conn.request(\"GET\", \"/\")  \n",
        "result = conn.getresponse()\n",
        "# retrieves the entire contents.  \n",
        "contents = result.read() \n",
        "print(contents)"
      ],
      "execution_count": 0,
      "outputs": [
        {
          "output_type": "stream",
          "text": [
            "b'<!doctype html>\\n<html>\\n<head>\\n    <title>Example Domain</title>\\n\\n    <meta charset=\"utf-8\" />\\n    <meta http-equiv=\"Content-type\" content=\"text/html; charset=utf-8\" />\\n    <meta name=\"viewport\" content=\"width=device-width, initial-scale=1\" />\\n    <style type=\"text/css\">\\n    body {\\n        background-color: #f0f0f2;\\n        margin: 0;\\n        padding: 0;\\n        font-family: -apple-system, system-ui, BlinkMacSystemFont, \"Segoe UI\", \"Open Sans\", \"Helvetica Neue\", Helvetica, Arial, sans-serif;\\n        \\n    }\\n    div {\\n        width: 600px;\\n        margin: 5em auto;\\n        padding: 2em;\\n        background-color: #fdfdff;\\n        border-radius: 0.5em;\\n        box-shadow: 2px 3px 7px 2px rgba(0,0,0,0.02);\\n    }\\n    a:link, a:visited {\\n        color: #38488f;\\n        text-decoration: none;\\n    }\\n    @media (max-width: 700px) {\\n        div {\\n            margin: 0 auto;\\n            width: auto;\\n        }\\n    }\\n    </style>    \\n</head>\\n\\n<body>\\n<div>\\n    <h1>Example Domain</h1>\\n    <p>This domain is for use in illustrative examples in documents. You may use this\\n    domain in literature without prior coordination or asking for permission.</p>\\n    <p><a href=\"https://www.iana.org/domains/example\">More information...</a></p>\\n</div>\\n</body>\\n</html>\\n'\n"
          ],
          "name": "stdout"
        }
      ]
    },
    {
      "cell_type": "markdown",
      "metadata": {
        "id": "EYBL2QbiJOx8",
        "colab_type": "text"
      },
      "source": [
        "**102, Viết chương trình Python để nhận đầu ra lệnh hệ thống.**\n",
        "\n",
        "**Write a Python program to get system command output.**\n",
        "\n"
      ]
    },
    {
      "cell_type": "code",
      "metadata": {
        "id": "PKtukDS9JD60",
        "colab_type": "code",
        "outputId": "b8748f16-7072-4342-ff13-11ee80d130b1",
        "colab": {
          "base_uri": "https://localhost:8080/",
          "height": 68
        }
      },
      "source": [
        "import subprocess\n",
        "# file and directory listing\n",
        "returned_text = subprocess.check_output(\"dir\", shell=True, universal_newlines=True)\n",
        "print(\"dir command to list file and directory\")\n",
        "print(returned_text)"
      ],
      "execution_count": 0,
      "outputs": [
        {
          "output_type": "stream",
          "text": [
            "dir command to list file and directory\n",
            "sample_data\n",
            "\n"
          ],
          "name": "stdout"
        }
      ]
    },
    {
      "cell_type": "markdown",
      "metadata": {
        "id": "s8G4CgOgJgNR",
        "colab_type": "text"
      },
      "source": [
        "**103, Viết chương trình Python để trích xuất tên tệp từ một đường dẫn cụ thể.**\n",
        "\n",
        "**Write a Python program to extract the filename from a given path.**\n",
        "\n"
      ]
    },
    {
      "cell_type": "code",
      "metadata": {
        "id": "xOtFnPilJTFp",
        "colab_type": "code",
        "outputId": "281c2481-d5d6-48aa-9c3b-92577e999e14",
        "colab": {
          "base_uri": "https://localhost:8080/",
          "height": 68
        }
      },
      "source": [
        "import os\n",
        "print()\n",
        "print(os.path.basename('/users/system1/student1/homework-1.py'))\n",
        "print()"
      ],
      "execution_count": 0,
      "outputs": [
        {
          "output_type": "stream",
          "text": [
            "\n",
            "homework-1.py\n",
            "\n"
          ],
          "name": "stdout"
        }
      ]
    },
    {
      "cell_type": "markdown",
      "metadata": {
        "id": "tzyCOlszJrlz",
        "colab_type": "text"
      },
      "source": [
        "**104, Viết chương trình Python để lấy id nhóm hiệu quả, id người dùng hiệu quả, id nhóm thực, danh sách id nhóm bổ sung được liên kết với quy trình hiện tại.**\n",
        "\n",
        "**Write a Python program to get the effective group id, effective user id, real group id, a list of supplemental group ids associated with the current process**"
      ]
    },
    {
      "cell_type": "code",
      "metadata": {
        "id": "aRSx2_6wJlLX",
        "colab_type": "code",
        "outputId": "f8a99618-7baf-422c-a08c-6aeda689765b",
        "colab": {
          "base_uri": "https://localhost:8080/",
          "height": 119
        }
      },
      "source": [
        "import os\n",
        "print(\"\\nEffective group id: \",os.getegid())\n",
        "print(\"Effective user id: \",os.geteuid())\n",
        "print(\"Real group id: \",os.getgid())\n",
        "print(\"List of supplemental group ids: \",os.getgroups())\n",
        "print()"
      ],
      "execution_count": 0,
      "outputs": [
        {
          "output_type": "stream",
          "text": [
            "\n",
            "Effective group id:  0\n",
            "Effective user id:  0\n",
            "Real group id:  0\n",
            "List of supplemental group ids:  []\n",
            "\n"
          ],
          "name": "stdout"
        }
      ]
    },
    {
      "cell_type": "markdown",
      "metadata": {
        "id": "xjYkv28jJ7qt",
        "colab_type": "text"
      },
      "source": [
        "**105, Viết chương trình Python để lấy môi trường người dùng.**\n",
        "\n",
        "**Write a Python program to get the users environment.**"
      ]
    },
    {
      "cell_type": "code",
      "metadata": {
        "id": "Hl4LWuqXJwiW",
        "colab_type": "code",
        "outputId": "9e252c98-23ac-47b0-f178-47ee4c77f5a2",
        "colab": {
          "base_uri": "https://localhost:8080/",
          "height": 88
        }
      },
      "source": [
        "import os\n",
        "print()\n",
        "print(os.environ)\n",
        "print()"
      ],
      "execution_count": 0,
      "outputs": [
        {
          "output_type": "stream",
          "text": [
            "\n",
            "environ({'ENV': '/root/.bashrc', 'GCS_READ_CACHE_BLOCK_SIZE_MB': '16', 'CLOUDSDK_CONFIG': '/content/.config', 'CUDA_VERSION': '10.1.243', 'PATH': '/usr/local/nvidia/bin:/usr/local/cuda/bin:/usr/local/sbin:/usr/local/bin:/usr/sbin:/usr/bin:/sbin:/bin:/tools/node/bin:/tools/google-cloud-sdk/bin:/opt/bin', 'HOME': '/root', 'LD_LIBRARY_PATH': '/usr/local/nvidia/lib:/usr/local/nvidia/lib64', 'LANG': 'en_US.UTF-8', 'SHELL': '/bin/bash', 'LIBRARY_PATH': '/usr/local/cuda/lib64/stubs', 'CUDA_PKG_VERSION': '10-1=10.1.243-1', 'SHLVL': '1', 'GCE_METADATA_TIMEOUT': '0', 'NCCL_VERSION': '2.4.8', 'NVIDIA_VISIBLE_DEVICES': 'all', 'TF_FORCE_GPU_ALLOW_GROWTH': 'true', 'DEBIAN_FRONTEND': 'noninteractive', 'CUDNN_VERSION': '7.6.5.32', 'LAST_FORCED_REBUILD': '20200430', 'JPY_PARENT_PID': '18', 'PYTHONPATH': '/env/python', 'DATALAB_SETTINGS_OVERRIDES': '{\"kernelManagerProxyPort\":6000,\"kernelManagerProxyHost\":\"172.28.0.3\",\"jupyterArgs\":[\"--ip=\\\\\"172.28.0.2\\\\\"\"]}', 'NO_GCE_CHECK': 'True', 'GLIBCXX_FORCE_NEW': '1', 'NVIDIA_DRIVER_CAPABILITIES': 'compute,utility', '_': '/tools/node/bin/node', 'LD_PRELOAD': '/usr/lib/x86_64-linux-gnu/libtcmalloc.so.4', 'NVIDIA_REQUIRE_CUDA': 'cuda>=10.1 brand=tesla,driver>=384,driver<385 brand=tesla,driver>=396,driver<397 brand=tesla,driver>=410,driver<411', 'OLDPWD': '/', 'HOSTNAME': 'db740cf1f785', 'COLAB_GPU': '0', 'PWD': '/', 'GLIBCPP_FORCE_NEW': '1', 'PYTHONWARNINGS': 'ignore:::pip._internal.cli.base_command', 'TBE_CREDS_ADDR': '172.28.0.1:8008', 'TERM': 'xterm-color', 'CLICOLOR': '1', 'PAGER': 'cat', 'GIT_PAGER': 'cat', 'MPLBACKEND': 'module://ipykernel.pylab.backend_inline'})\n",
            "\n"
          ],
          "name": "stdout"
        }
      ]
    },
    {
      "cell_type": "code",
      "metadata": {
        "id": "CxTZFpdnKEhn",
        "colab_type": "code",
        "colab": {}
      },
      "source": [
        ""
      ],
      "execution_count": 0,
      "outputs": []
    }
  ]
}