{
  "nbformat": 4,
  "nbformat_minor": 0,
  "metadata": {
    "colab": {
      "name": "Exercises2: 46-57.ipynb",
      "provenance": [],
      "collapsed_sections": [],
      "authorship_tag": "ABX9TyP5kLuM3n23ugTpQMj0uoUM",
      "include_colab_link": true
    },
    "kernelspec": {
      "name": "python3",
      "display_name": "Python 3"
    }
  },
  "cells": [
    {
      "cell_type": "markdown",
      "metadata": {
        "id": "view-in-github",
        "colab_type": "text"
      },
      "source": [
        "<a href=\"https://colab.research.google.com/github/bimbeo/Web/blob/master/Exercises2_46_57.ipynb\" target=\"_parent\"><img src=\"https://colab.research.google.com/assets/colab-badge.svg\" alt=\"Open In Colab\"/></a>"
      ]
    },
    {
      "cell_type": "markdown",
      "metadata": {
        "id": "NnE-1uq_LoVC",
        "colab_type": "text"
      },
      "source": [
        "**46, Viết chương trình Python để đọc một ngày (từ 2016/1/1 đến 2016/12/31) và in ngày của ngày. Ngày 1 tháng 1 năm 2016, là thứ Sáu. Lưu ý rằng năm 2016 là một năm nhuận.**\n",
        "\n",
        "**Write a Python program to that reads a date (from 2016/1/1 to 2016/12/31) and prints the day of the date. Jan. 1, 2016, is Friday. Note that 2016 is a leap year.**\n",
        "\n",
        "![alt text](https://www.w3resource.com/w3r_images/python-basic-1-image-exercise-46.png)"
      ]
    },
    {
      "cell_type": "code",
      "metadata": {
        "id": "V0GvebnvFD_U",
        "colab_type": "code",
        "outputId": "d12647b8-2b9b-4e42-9db3-0a4694389c86",
        "colab": {
          "base_uri": "https://localhost:8080/",
          "height": 68
        }
      },
      "source": [
        "from datetime import date\n",
        "print(\"Input month and date(separated by a single space): \")\n",
        "m, d = map(int, input().split())\n",
        "weeks = {1:'Monday', 2:'Tueday', 3:'Wednesday', 4:'Thursday', 5:'Friday', 6:'Saturday', 7:'Sunday' }\n",
        "w = date.isoweekday(date(2020, m, d))   # tạo biến w để lấy kết quả trả về là thứ từ 1 ngày trong tuần, từ ngày tháng năm nhập vào. VD: w trả về 1,2,3,4,5,6,7\n",
        "print(\"Name of the date: \", weeks[w])   # In key của dict ta tìm được giá trị là thứ mấy trong tuần. \n",
        "# isoweekday(​​): Return the day of the week as an integer, where Monday is 1 and Sunday is 7. Trả về ngày trong tuần là 1 số nguyên VD: 1,2,3,4,5,6,7"
      ],
      "execution_count": 0,
      "outputs": [
        {
          "output_type": "stream",
          "text": [
            "Input month and date(separated by a single space): \n",
            "5 18\n",
            "Name of the date:  Monday\n"
          ],
          "name": "stdout"
        }
      ]
    },
    {
      "cell_type": "markdown",
      "metadata": {
        "id": "yQ4jmpVwPpZi",
        "colab_type": "text"
      },
      "source": [
        "**47, Viết chương trình Python đọc văn bản (chỉ các ký tự chữ cái và dấu cách.) Và in hai từ. Đầu tiên là từ phát sinh thường xuyên nhất trong văn bản. Cái thứ hai là từ có số lượng chữ cái tối đa. Lưu ý: Một từ là một chuỗi các chữ cái được phân cách bằng khoảng trắng.**\n",
        "\n",
        "**Write a Python program which reads a text (only alphabetical characters and spaces.) and prints two words. The first one is the word which is arise most frequently in the text. The second one is the word which has the maximum number of letters. Note: A word is a sequence of letters which is separated by the spaces.**\n",
        "\n",
        "![alt text](https://www.w3resource.com/w3r_images/python-basic-1-image-exercise-47.png)"
      ]
    },
    {
      "cell_type": "code",
      "metadata": {
        "id": "-9pfiIkaMwXZ",
        "colab_type": "code",
        "outputId": "ca4c0c25-90bc-47d3-9beb-f0457474721e",
        "colab": {
          "base_uri": "https://localhost:8080/",
          "height": 102
        }
      },
      "source": [
        "import collections\n",
        "print(\"Input a text in a line. \")\n",
        "text_list = list(map(str, input().split()))\n",
        "sc = collections.Counter(text_list)\n",
        "common_word = sc.most_common()[0][0]          # Trả về một danh sách n các yếu tố phổ biến nhất và số lượng của chúng từ phổ biến nhất đến ít nhất. Lấy index[0][0] vì sc đã chọn được từ chung nhất sắp xếp lên đầu tiên\n",
        "max_char = \"\"                                 # Tạo biến max_char để gán những từ dài nhất vào biến\n",
        "for s in text_list:                           # Duyệt giá trị từng phần tử trong text_list\n",
        "  if len(max_char) < len(s):                  # Độ dài max char < độ dài của chuỗi (giá trị từng phần tử trong list)\n",
        "    max_char = s                              # gán max_char = s\n",
        "print(\"\\nMost frequent text and the word which has the maximum number of letters.\")\n",
        "print(common_word, max_char)\n",
        "# collections.Counter(text_list): A Counter is a dict subclass for counting hashable objects (immutable). It is an unordered collection where elements are stored as dictionary keys and their counts are stored as dictionary values. \n",
        "# -->sc =  Counter({'Beo': 2, 'Bim': 1, 'bboosdadfao': 1})"
      ],
      "execution_count": 0,
      "outputs": [
        {
          "output_type": "stream",
          "text": [
            "Input a text in a line. \n",
            "Thank you for your comment and your pảticipation\n",
            "\n",
            "Most frequent text and the word which has the maximum number of letters.\n",
            "your pảticipation\n"
          ],
          "name": "stdout"
        }
      ]
    },
    {
      "cell_type": "markdown",
      "metadata": {
        "id": "g66_fMM9UIsM",
        "colab_type": "text"
      },
      "source": [
        "**48, Viết chương trình Python đọc n chữ số (đã cho) được chọn từ 0 đến 9 và in số kết hợp trong đó tổng các chữ số bằng với một số đã cho khác. Không sử dụng cùng một chữ số trong một kết hợp.**\n",
        "\n",
        "**Write a Python program that reads n digits (given) chosen from 0 to 9 and prints the number of combinations where the sum of the digits equals to another given number (s). Do not use the same digits in a combination.**"
      ]
    },
    {
      "cell_type": "code",
      "metadata": {
        "id": "tA4SWZ8HQhvP",
        "colab_type": "code",
        "outputId": "7fbc141c-6136-441d-d17b-ba3ca6a1d46b",
        "colab": {
          "base_uri": "https://localhost:8080/",
          "height": 306
        }
      },
      "source": [
        "import itertools\n",
        "print(\"Input number of combinations and sum, input 0 0 to exit: \")\n",
        "while True:\n",
        "  x, y = map(int, input().split())\n",
        "  if x == 0 and y == 0:\n",
        "    break\n",
        "  s = list(itertools.combinations(range(10), x))\n",
        "  ctr = 0\n",
        "  for i in s:\n",
        "    if sum(i) == y:\n",
        "      ctr += 1\n",
        "\n",
        "print(ctr)\n",
        "# combinations(​...​): Return r length subsequences of elements from the input iterable. Combinations are emitted in lexicographic sort order. So, if the input iterable is sorted, the combination tuples will be produced in sorted order.\n",
        "# Trả về chiều dài r của các phần tử từ lần lặp đầu vào. Sự kết hợp được phát ra theo thứ tự từ điển. Vì vậy, nếu iterable đầu vào được sắp xếp, các bộ kết hợp sẽ được sản xuất theo thứ tự được sắp xếp."
      ],
      "execution_count": 0,
      "outputs": [
        {
          "output_type": "stream",
          "text": [
            "Input number of combinations and sum, input 0 0 to exit: \n",
            "1 2\n",
            "3 4\n",
            "5 6\n",
            "7 8\n",
            "9 0\n",
            "8 7\n",
            "6 5\n",
            "4 3\n",
            "2 1\n",
            "4 9\n",
            "3 7\n",
            "2 8\n",
            "1 9\n",
            "4 8\n",
            "0 0\n",
            "2\n"
          ],
          "name": "stdout"
        }
      ]
    },
    {
      "cell_type": "markdown",
      "metadata": {
        "id": "iE15qH0OZLsW",
        "colab_type": "text"
      },
      "source": [
        "**49, Viết chương trình Python đọc hai cạnh liền kề và đường chéo của hình bình hành và kiểm tra xem hình bình hành là hình chữ nhật hay hình thoi.**\n",
        "\n",
        "**Write a Python program which reads the two adjoined sides and the diagonal of a parallelogram and check whether the parallelogram is a rectangle or a rhombus.**\n",
        "\n",
        "![alt text](https://www.w3resource.com/w3r_images/python-basic-1-image-exercise-49.svg)"
      ]
    },
    {
      "cell_type": "code",
      "metadata": {
        "id": "OtgPtJOzU88l",
        "colab_type": "code",
        "outputId": "d96f9bf3-66c5-41f3-ce62-85304d6f3fbb",
        "colab": {
          "base_uri": "https://localhost:8080/",
          "height": 51
        }
      },
      "source": [
        "print(\"Input two adjoined sides and the diagonal of a parallelogram (comma separated): \")\n",
        "a, b, c = map(int, input().split(\",\"))\n",
        "if c**2 == a**2 + b**2:\n",
        "  print(\"This is a  retangle\")\n",
        "if a == b:\n",
        "  print(\"This is a rhombus\")"
      ],
      "execution_count": 0,
      "outputs": [
        {
          "output_type": "stream",
          "text": [
            "Input two adjoined sides and the diagonal of a parallelogram (comma separated): \n",
            "33,1,5\n"
          ],
          "name": "stdout"
        }
      ]
    },
    {
      "cell_type": "markdown",
      "metadata": {
        "id": "R-WC-Jw-bGaz",
        "colab_type": "text"
      },
      "source": [
        "**50, Viết chương trình Python để thay thế một chuỗi \"Python\" bằng \"Java\" và \"Java\" bằng \"Python\" trong một chuỗi đã cho.**\n",
        "\n",
        "**Write a Python program to replace a string \"Python\" with \"Java\" and \"Java\" with \"Python\" in a given string.**\n",
        "\n",
        "![alt text](https://www.w3resource.com/w3r_images/python-basic-1-image-exercise-50.png)"
      ]
    },
    {
      "cell_type": "code",
      "metadata": {
        "id": "KZvmz9JBZ9g1",
        "colab_type": "code",
        "outputId": "a59a8004-7bdb-4879-f624-87d431a71866",
        "colab": {
          "base_uri": "https://localhost:8080/",
          "height": 68
        }
      },
      "source": [
        "print(\"Input a text with two words 'Python' and 'Java'\" )\n",
        "text = input().split()\n",
        "for i in range(len(text)):\n",
        "  if \"Python\" in text[i]:n = text[i].index(\"Python\"); text[i] = text[i][:n] + \"Java\" + text[i][n+6:]\n",
        "  elif \"Java\" in text[i]:n = text[i].index(\"Java\"); text[i] = text[i][:n] + \"Python\" + text[i][n+4:]\n",
        "print(*text)"
      ],
      "execution_count": 0,
      "outputs": [
        {
          "output_type": "stream",
          "text": [
            "Input a text with two words 'Python' and 'Java'\n",
            "Python is popular than Java\n",
            "Java is popular than Python\n"
          ],
          "name": "stdout"
        }
      ]
    },
    {
      "cell_type": "markdown",
      "metadata": {
        "id": "epuKNIQdgcUc",
        "colab_type": "text"
      },
      "source": [
        "**51, Viết chương trình Python để tìm sự khác biệt giữa số nguyên lớn nhất và số nguyên nhỏ nhất được tạo bởi 8 số từ 0 đến 9. Số có thể được sắp xếp lại sẽ bắt đầu bằng 0 như trong 00135668.**\n",
        "\n",
        "**Write a Python program to find the difference between the largest integer and the smallest integer which are created by 8 numbers from 0 to 9. The number that can be rearranged shall start with 0 as in 00135668.**\n",
        "\n",
        "![alt text](https://www.w3resource.com/w3r_images/python-basic-1-image-exercise-51.png)"
      ]
    },
    {
      "cell_type": "code",
      "metadata": {
        "id": "ZltT9lCHfDr_",
        "colab_type": "code",
        "outputId": "d4baee07-d4cd-4004-9656-546a77a65e88",
        "colab": {
          "base_uri": "https://localhost:8080/",
          "height": 85
        }
      },
      "source": [
        "print(\"Input an integer created by 8 numbers from 0 to 9: \")\n",
        "num = list(input())\n",
        "print(\"Difference between the largest and the smallest integer from the give integer: \")\n",
        "print(int(\"\".join(sorted(num, reverse=True))) - int(\"\".join(sorted(num)))) # Sắp xếp chuỗi từ lớn đến bé - chuỗi số từ bé đến lớn, ra được chênh lệch giữa 2 số\n",
        "#Join biến 1 list thành chuỗi. "
      ],
      "execution_count": 0,
      "outputs": [
        {
          "output_type": "stream",
          "text": [
            "Input an integer created by 8 numbers from 0 to 9: \n",
            "34568729\n",
            "Difference between the largest and the smallest integer from the give integer: \n",
            "75308643\n"
          ],
          "name": "stdout"
        }
      ]
    },
    {
      "cell_type": "markdown",
      "metadata": {
        "id": "xjCIV6Mrtck1",
        "colab_type": "text"
      },
      "source": [
        "**52, Viết chương trình Python để tính tổng của n số nguyên tố đầu tiên.**\n",
        "\n",
        "**Write a Python program to compute the sum of first n given prime numbers.**\n",
        "\n",
        "![alt text](https://www.w3resource.com/w3r_images/python-basic-1-image-exercise-52.png)"
      ]
    },
    {
      "cell_type": "code",
      "metadata": {
        "id": "IXhT5lOBg_6m",
        "colab_type": "code",
        "outputId": "baaeba57-c887-4d1a-e79c-810d284889e5",
        "colab": {
          "base_uri": "https://localhost:8080/",
          "height": 102
        }
      },
      "source": [
        "MAX = 105000\n",
        "print(\"Input a number (n<10000) to compute the sum: (o to exit): \")\n",
        "is_prime = [True for _ in range(MAX)]\n",
        "is_prime[0] = is_prime[1] = False\n",
        "for i in range(2, int(MAX ** (1 / 2)) + 1):\n",
        "  if is_prime[i]:\n",
        "    for j in range(i ** 2, MAX, i):\n",
        "      is_prime[j] = False\n",
        "primes = [i for i in range(MAX) if is_prime[i]]\n",
        "while True:\n",
        "  n = int(input())\n",
        "  if not n:\n",
        "    break\n",
        "  print(\"Sum of first\", n, \"prime numbers: \")\n",
        "  print(sum(primes[:n]))"
      ],
      "execution_count": 0,
      "outputs": [
        {
          "output_type": "stream",
          "text": [
            "Input a number (n<10000) to compute the sum: (o to exit): \n",
            "25\n",
            "Sum of first 25 prime numbers: \n",
            "1060\n",
            "0\n"
          ],
          "name": "stdout"
        }
      ]
    },
    {
      "cell_type": "markdown",
      "metadata": {
        "id": "4VSbc5-BvFxV",
        "colab_type": "text"
      },
      "source": [
        "**53, Viết chương trình Python chấp nhận số chẵn (> = 4, số Goldbach) từ người dùng và tạo một tổ hợp thể hiện số đã cho dưới dạng tổng của hai số nguyên tố. In số lượng kết hợp.**\n",
        "\n",
        "**Write a Python program that accept an even number (>=4, Goldbach number) from the user and create a combinations that express the given number as a sum of two prime numbers. Print the number of combinations.**\n",
        "\n",
        "![alt text](https://www.w3resource.com/w3r_images/python-basic-1-image-exercise-53.png)"
      ]
    },
    {
      "cell_type": "code",
      "metadata": {
        "id": "IFbzsH_iuVz7",
        "colab_type": "code",
        "outputId": "c01c376f-b32f-4d57-dd6f-65039b540818",
        "colab": {
          "base_uri": "https://localhost:8080/",
          "height": 34
        }
      },
      "source": [
        "import sys\n",
        "from bisect import bisect_right\n",
        "from itertools import chain, compress\n",
        "print(\"Input an even number (0 to exit): \")\n",
        "ub = 50000\n",
        "is_prime = [0,0,1,1] + [0]*(ub-3)\n",
        "is_prime[5::6] = is_prime[7::6] = [1]*int(ub/6)\n",
        "primes = [2, 3]\n",
        "append = primes.append\n",
        "\n",
        "for n in chain(range(5, ub, 6), range(7, ub, 6)):\n",
        "  if is_prime[n]:\n",
        "    append(n)\n",
        "    is_prime[n*3::n*2] = [0]*((ub-n)//(n*2))\n",
        "primes.sort()\n",
        "\n",
        "for n in map(int, sys.stdin):\n",
        "  if not n:\n",
        "    break\n",
        "  if n%2:\n",
        "    print(\"Number of coimbinations: \")\n",
        "    print(is_prime[n-2])\n",
        "  else:\n",
        "    print(\"Number of combinations: \")\n",
        "    print(len([1 for p in primes[:bisect_right(primes, n/2)] if is_prime[n-p]]))"
      ],
      "execution_count": 0,
      "outputs": [
        {
          "output_type": "stream",
          "text": [
            "Input an even number (0 to exit): \n"
          ],
          "name": "stdout"
        }
      ]
    },
    {
      "cell_type": "markdown",
      "metadata": {
        "id": "yqDUAiOiw-OO",
        "colab_type": "text"
      },
      "source": [
        "**54, Viết chương trình Python để tạo số vùng tối đa thu được bằng cách vẽ n đường thẳng đã cho.**\n",
        "\n",
        "nếu bạn vẽ một đường thẳng trên một mặt phẳng, mặt phẳng được chia thành hai vùng. Ví dụ: nếu bạn kéo hai đường thẳng song song, bạn sẽ có ba khu vực và nếu bạn vẽ theo chiều dọc cho khu vực kia, bạn sẽ có 4 khu vực.\n",
        "\n",
        " **if you draw a straight line on a plane, the plane is divided into two regions. For example, if you pull two straight lines in parallel, you get three areas, and if you draw vertically one to the other you get 4 areas.\n",
        "Write a Python program to create maximum number of regions obtained by drawing n given straight lines.**"
      ]
    },
    {
      "cell_type": "code",
      "metadata": {
        "id": "NfjxtIpQwopA",
        "colab_type": "code",
        "outputId": "ef6b47a8-a621-4431-a0d2-d2f7a06ac5cd",
        "colab": {
          "base_uri": "https://localhost:8080/",
          "height": 391
        }
      },
      "source": [
        "while True:\n",
        "  print(\"Input numbers of straight line (0 to exit): \")\n",
        "  n = int(input())\n",
        "  if n <= 0:\n",
        "    break\n",
        "  print(\"Number of regions: \")\n",
        "  print((n * n + n + 2) // 2)"
      ],
      "execution_count": 0,
      "outputs": [
        {
          "output_type": "stream",
          "text": [
            "Input numbers of straight line (0 to exit): \n",
            "5\n",
            "Number of regions: \n",
            "16\n",
            "Input numbers of straight line (0 to exit): \n",
            "4\n",
            "Number of regions: \n",
            "11\n",
            "Input numbers of straight line (0 to exit): \n",
            "3\n",
            "Number of regions: \n",
            "7\n",
            "Input numbers of straight line (0 to exit): \n",
            "2\n",
            "Number of regions: \n",
            "4\n",
            "Input numbers of straight line (0 to exit): \n",
            "1\n",
            "Number of regions: \n",
            "2\n",
            "Input numbers of straight line (0 to exit): \n",
            "0\n"
          ],
          "name": "stdout"
        }
      ]
    },
    {
      "cell_type": "markdown",
      "metadata": {
        "id": "2skH04Eex8QY",
        "colab_type": "text"
      },
      "source": [
        "**55, Có bốn điểm khác nhau trên một mặt phẳng, P (xp, yp), Q (xq, yq), R (xr, yr) và S (xs, ys). Viết chương trình Python để kiểm tra AB và CD có trực giao hay không.**\n",
        "\n",
        "**There are four different points on a plane, P(xp,yp), Q(xq, yq), R(xr, yr) and S(xs, ys). Write a Python program to test AB and CD are orthogonal or not.**"
      ]
    },
    {
      "cell_type": "code",
      "metadata": {
        "id": "EIYi_cXBxf3W",
        "colab_type": "code",
        "outputId": "b8a5dc5a-fcd7-4a1f-a243-85478476a44f",
        "colab": {
          "base_uri": "https://localhost:8080/",
          "height": 153
        }
      },
      "source": [
        "while True:\n",
        "  try:\n",
        "    print(\"Input xp, yp, xq, yq, xr, yr, xs, ys: \")\n",
        "    x_p, y_p, x_q, y_q, x_r, y_r, x_s, y_s = map(float, input().split())\n",
        "    pq_x, pq_y = x_q - x_p, y_q - y_p\n",
        "    rs_x, rs_y = x_s - x_r, y_s - y_r\n",
        "    rs = pq_x * rs_x + pq_y * rs_y\n",
        "    if abs(rs) > 1e-10:\n",
        "      print(\"AB and CD are not orthogonal!\")\n",
        "    else:\n",
        "      print(\"AB and CD are orthogonal!\")\n",
        "  except:\n",
        "    break"
      ],
      "execution_count": 0,
      "outputs": [
        {
          "output_type": "stream",
          "text": [
            "Input xp, yp, xq, yq, xr, yr, xs, ys: \n",
            "4.5 -2.5 -2.5 4.5 3.5 3.5 3.8 -3.5\n",
            "AB and CD are not orthogonal!\n",
            "Input xp, yp, xq, yq, xr, yr, xs, ys: \n",
            "1 2 3 4 5 6 7 8\n",
            "AB and CD are not orthogonal!\n",
            "Input xp, yp, xq, yq, xr, yr, xs, ys: \n",
            "0\n"
          ],
          "name": "stdout"
        }
      ]
    },
    {
      "cell_type": "markdown",
      "metadata": {
        "id": "GWyaEdZM0IjU",
        "colab_type": "text"
      },
      "source": [
        "**56, Viết chương trình Python để tính tổng tất cả các giá trị số (số nguyên dương) được nhúng trong câu.**\n",
        "\n",
        "**Write a Python program to sum of all numerical values (positive integers) embedded in a sentence**.\n",
        "\n",
        "![alt text](https://www.w3resource.com/w3r_images/python-basic-1-image-exercise-56-a.svg)\n",
        "\n",
        "![alt text](https://www.w3resource.com/w3r_images/python-basic-1-image-exercise-56-b.svg)"
      ]
    },
    {
      "cell_type": "code",
      "metadata": {
        "id": "ngVLVuUOyx2T",
        "colab_type": "code",
        "outputId": "3922048d-5277-4677-d4c9-90da793b4a51",
        "colab": {
          "base_uri": "https://localhost:8080/",
          "height": 170
        }
      },
      "source": [
        "import sys,re\n",
        "def test(stri):\n",
        "  print(\"Input some text and numeric values (<ctrl-d> to exit):\")\n",
        "  print(\"Sum of the numeric values: \",sum([sum(map(int,re.findall(r\"[0-9]{1,5}\",stri)))]))\n",
        "\n",
        "print(test(\"sd1fdsfs23 dssd56\"))\n",
        "print(test(\"15apple2banana\"))\n",
        "print(test(\"flowers5fruit5\"))"
      ],
      "execution_count": 0,
      "outputs": [
        {
          "output_type": "stream",
          "text": [
            "Input some text and numeric values (<ctrl-d> to exit):\n",
            "Sum of the numeric values:  80\n",
            "None\n",
            "Input some text and numeric values (<ctrl-d> to exit):\n",
            "Sum of the numeric values:  17\n",
            "None\n",
            "Input some text and numeric values (<ctrl-d> to exit):\n",
            "Sum of the numeric values:  10\n",
            "None\n"
          ],
          "name": "stdout"
        }
      ]
    },
    {
      "cell_type": "markdown",
      "metadata": {
        "id": "hjtMb7Lt2W2X",
        "colab_type": "text"
      },
      "source": [
        " **57, Có 10 hình vuông dọc và ngang trên một mặt phẳng. Mỗi hình vuông được sơn màu xanh và màu xanh lá cây. Màu xanh tượng trưng cho biển và màu xanh lá cây tượng trưng cho vùng đất. Khi hai hình vuông màu xanh lá cây tiếp xúc với đỉnh và đáy, hoặc phải và trái, chúng được gọi là mặt đất. Khu vực được tạo bởi chỉ một hình vuông màu xanh lá cây được gọi là \"đảo\". Ví dụ, có năm hòn đảo trong hình dưới đây.\n",
        "Viết chương trình Python để đọc dữ liệu hàng loạt và tìm số lượng đảo.**\n",
        "\n",
        "**There are 10 vertical and horizontal squares on a plane. Each square is painted blue and green. Blue represents the sea, and green represents the land. When two green squares are in contact with the top and bottom, or right and left, they are said to be ground. The area created by only one green square is called \"island\". For example, there are five islands in the figure below.\n",
        "Write a Python program to read the mass data and find the number of islands.**\n",
        "\n",
        "![alt text](https://www.w3resource.com/w3r_images/python-basic-1-image-exercise-57.png)"
      ]
    },
    {
      "cell_type": "code",
      "metadata": {
        "id": "SfuJWjj50sYb",
        "colab_type": "code",
        "outputId": "10bdd9ce-3006-4a93-ef7e-0f8a3f6350a8",
        "colab": {
          "base_uri": "https://localhost:8080/",
          "height": 639
        }
      },
      "source": [
        "c = 0 \n",
        "def f(x,y,z):\n",
        "  if 0<=y<10 and 0<=z<10 and x[z][y] == '1':\n",
        "    x[z][y] ='0'\n",
        "    for dy, dz in [[-1,0], [1,0], [0, -1], [0,1]]:f(x,y + dy, z+ dz)\n",
        "print(\"Input 10 row of 10 numbers representing green squares (island) as 1 and blue squares (sea) as zeros \")\n",
        "\n",
        "while 1:\n",
        "  try:\n",
        "    if c:input()\n",
        "  except:break\n",
        "  x = [list(input()) for _ in [0]*10]\n",
        "  c = 1; b = 0\n",
        "  for i in range(10):\n",
        "    for j in range(10):\n",
        "      if x[j][i] == '1':\n",
        "        b +=1 ; f(x,i,j)\n",
        "  print(\"Number of islands: \")\n",
        "  print(b)"
      ],
      "execution_count": 0,
      "outputs": [
        {
          "output_type": "stream",
          "text": [
            "Input 10 row of 10 numbers representing green squares (island) as 1 and blue squares (sea) as zeros \n",
            "1100000111\n",
            "1000000111\n",
            "0000000111\n",
            "0010001000\n",
            "0000011100\n",
            "0000111110\n",
            "0001111111\n",
            "1000111110\n",
            "1100011100\n",
            "1110001000\n",
            "Number of islands: \n",
            "5\n",
            "2\n",
            "0\n",
            "g\n",
            "a\n",
            "d\n",
            "s\n",
            "d\n",
            "q\n",
            "e\n",
            "w\n",
            "a\n"
          ],
          "name": "stdout"
        },
        {
          "output_type": "error",
          "ename": "IndexError",
          "evalue": "ignored",
          "traceback": [
            "\u001b[0;31m---------------------------------------------------------------------------\u001b[0m",
            "\u001b[0;31mIndexError\u001b[0m                                Traceback (most recent call last)",
            "\u001b[0;32m<ipython-input-37-8a0f3e38fe7c>\u001b[0m in \u001b[0;36m<module>\u001b[0;34m()\u001b[0m\n\u001b[1;32m     14\u001b[0m   \u001b[0;32mfor\u001b[0m \u001b[0mi\u001b[0m \u001b[0;32min\u001b[0m \u001b[0mrange\u001b[0m\u001b[0;34m(\u001b[0m\u001b[0;36m10\u001b[0m\u001b[0;34m)\u001b[0m\u001b[0;34m:\u001b[0m\u001b[0;34m\u001b[0m\u001b[0;34m\u001b[0m\u001b[0m\n\u001b[1;32m     15\u001b[0m     \u001b[0;32mfor\u001b[0m \u001b[0mj\u001b[0m \u001b[0;32min\u001b[0m \u001b[0mrange\u001b[0m\u001b[0;34m(\u001b[0m\u001b[0;36m10\u001b[0m\u001b[0;34m)\u001b[0m\u001b[0;34m:\u001b[0m\u001b[0;34m\u001b[0m\u001b[0;34m\u001b[0m\u001b[0m\n\u001b[0;32m---> 16\u001b[0;31m       \u001b[0;32mif\u001b[0m \u001b[0mx\u001b[0m\u001b[0;34m[\u001b[0m\u001b[0mj\u001b[0m\u001b[0;34m]\u001b[0m\u001b[0;34m[\u001b[0m\u001b[0mi\u001b[0m\u001b[0;34m]\u001b[0m \u001b[0;34m==\u001b[0m \u001b[0;34m'1'\u001b[0m\u001b[0;34m:\u001b[0m\u001b[0;34m\u001b[0m\u001b[0;34m\u001b[0m\u001b[0m\n\u001b[0m\u001b[1;32m     17\u001b[0m         \u001b[0mb\u001b[0m \u001b[0;34m+=\u001b[0m\u001b[0;36m1\u001b[0m \u001b[0;34m;\u001b[0m \u001b[0mf\u001b[0m\u001b[0;34m(\u001b[0m\u001b[0mx\u001b[0m\u001b[0;34m,\u001b[0m\u001b[0mi\u001b[0m\u001b[0;34m,\u001b[0m\u001b[0mj\u001b[0m\u001b[0;34m)\u001b[0m\u001b[0;34m\u001b[0m\u001b[0;34m\u001b[0m\u001b[0m\n\u001b[1;32m     18\u001b[0m   \u001b[0mprint\u001b[0m\u001b[0;34m(\u001b[0m\u001b[0;34m\"Number of islands: \"\u001b[0m\u001b[0;34m)\u001b[0m\u001b[0;34m\u001b[0m\u001b[0;34m\u001b[0m\u001b[0m\n",
            "\u001b[0;31mIndexError\u001b[0m: list index out of range"
          ]
        }
      ]
    },
    {
      "cell_type": "code",
      "metadata": {
        "id": "90VQlgU31PmP",
        "colab_type": "code",
        "colab": {}
      },
      "source": [
        ""
      ],
      "execution_count": 0,
      "outputs": []
    }
  ]
}